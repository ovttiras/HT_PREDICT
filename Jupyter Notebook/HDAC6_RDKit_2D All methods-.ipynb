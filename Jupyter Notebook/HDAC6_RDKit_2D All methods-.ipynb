{
 "cells": [
  {
   "cell_type": "markdown",
   "metadata": {},
   "source": [
    "# 1. Importing modules and functions"
   ]
  },
  {
   "cell_type": "code",
   "execution_count": 3,
   "metadata": {},
   "outputs": [
    {
     "name": "stderr",
     "output_type": "stream",
     "text": [
      "Using `tqdm.autonotebook.tqdm` in notebook mode. Use `tqdm.tqdm` instead to force console mode (e.g. in jupyter console)\n"
     ]
    }
   ],
   "source": [
    "import numpy as np\n",
    "import pandas as pd\n",
    "from rdkit import Chem, DataStructs\n",
    "from rdkit.Chem import AllChem, Descriptors\n",
    "from rdkit.Chem import MACCSkeys\n",
    "from rdkit.ML.Descriptors import MoleculeDescriptors\n",
    "from molvs import standardize_smiles\n",
    "from sklearn.model_selection import KFold, GridSearchCV\n",
    "from sklearn.model_selection import permutation_test_score\n",
    "from sklearn.preprocessing import StandardScaler\n",
    "from sklearn.model_selection import cross_val_predict\n",
    "from sklearn import metrics\n",
    "from sklearn.metrics import pairwise_distances\n",
    "import joblib\n",
    "import pickle\n",
    "from numpy import savetxt\n",
    "from padelpy import from_sdf\n",
    "from IPython.display import HTML\n",
    "import matplotlib.pyplot as plt\n",
    "from sklearn.metrics import mean_squared_error\n",
    "from sklearn.metrics import mean_absolute_error\n",
    "from sklearn.metrics import r2_score\n",
    "from sklearn.ensemble import GradientBoostingRegressor\n",
    "from sklearn.neighbors import KNeighborsRegressor\n",
    "from sklearn.svm import SVR\n",
    "from padelpy import from_sdf\n",
    "import shap\n",
    "from tqdm.notebook import tqdm\n",
    "import warnings\n",
    "warnings.filterwarnings('ignore')"
   ]
  },
  {
   "cell_type": "markdown",
   "metadata": {},
   "source": [
    "# 2.Data entry and curation work set"
   ]
  },
  {
   "cell_type": "code",
   "execution_count": 4,
   "metadata": {},
   "outputs": [
    {
     "name": "stdout",
     "output_type": "stream",
     "text": [
      "Original data:  3083 molecules\n",
      "Failed data:  0 molecules\n"
     ]
    },
    {
     "data": {
      "text/html": [
       "<div>\n",
       "<style scoped>\n",
       "    .dataframe tbody tr th:only-of-type {\n",
       "        vertical-align: middle;\n",
       "    }\n",
       "\n",
       "    .dataframe tbody tr th {\n",
       "        vertical-align: top;\n",
       "    }\n",
       "\n",
       "    .dataframe thead th {\n",
       "        text-align: right;\n",
       "    }\n",
       "</style>\n",
       "<table border=\"1\" class=\"dataframe\">\n",
       "  <thead>\n",
       "    <tr style=\"text-align: right;\">\n",
       "      <th></th>\n",
       "      <th>No. failed molecule in original set</th>\n",
       "      <th>SMILES of wrong structure:</th>\n",
       "    </tr>\n",
       "    <tr>\n",
       "      <th>No.</th>\n",
       "      <th></th>\n",
       "      <th></th>\n",
       "    </tr>\n",
       "  </thead>\n",
       "  <tbody>\n",
       "  </tbody>\n",
       "</table>\n",
       "</div>"
      ],
      "text/plain": [
       "Empty DataFrame\n",
       "Columns: [No. failed molecule in original set, SMILES of wrong structure: ]\n",
       "Index: []"
      ]
     },
     "execution_count": 4,
     "metadata": {},
     "output_type": "execute_result"
    }
   ],
   "source": [
    "uploaded_file_ws=\"datasets/HDAC6_work.sdf\"\n",
    "supplier_ws = Chem.ForwardSDMolSupplier(uploaded_file_ws,sanitize=False)\n",
    "failed_mols_ws = []\n",
    "all_mols_ws =[]\n",
    "wrong_structure_ws=[]\n",
    "wrong_smiles_ws=[]\n",
    "y_tr = []\n",
    "y_bad_index=[]\n",
    "\n",
    "for i, m in enumerate(supplier_ws):\n",
    "    structure = Chem.Mol(m)\n",
    "    all_mols_ws.append(structure)\n",
    "    y_tr.append(m.GetProp(\"pchembl_value_mean\"))\n",
    "    try:\n",
    "        Chem.SanitizeMol(structure)\n",
    "    except:\n",
    "        failed_mols_ws.append(m)\n",
    "        wrong_smiles_ws.append(Chem.MolToSmiles(m))\n",
    "        wrong_structure_ws.append(str(i+1))\n",
    "        y_bad_index.append(i)\n",
    "print('Original data: ', len(all_mols_ws), 'molecules')\n",
    "print('Failed data: ', len(failed_mols_ws), 'molecules')\n",
    "number_ws =[]\n",
    "for i in range(len(failed_mols_ws)):\n",
    "        number_ws.append(str(i+1))\n",
    "bad_molecules_ws = pd.DataFrame({'No. failed molecule in original set': wrong_structure_ws, 'SMILES of wrong structure: ': wrong_smiles_ws, 'No.': number_ws}, index=None)\n",
    "bad_molecules_ws = bad_molecules_ws.set_index('No.')\n",
    "bad_molecules_ws"
   ]
  },
  {
   "cell_type": "markdown",
   "metadata": {},
   "source": [
    "deleting activity values for substances with incorrect structure"
   ]
  },
  {
   "cell_type": "code",
   "execution_count": 5,
   "metadata": {},
   "outputs": [],
   "source": [
    "y_tr[:] = [x for i,x in enumerate(y_tr) if i not in y_bad_index]"
   ]
  },
  {
   "cell_type": "code",
   "execution_count": 6,
   "metadata": {},
   "outputs": [
    {
     "data": {
      "text/plain": [
       "3083"
      ]
     },
     "execution_count": 6,
     "metadata": {},
     "output_type": "execute_result"
    }
   ],
   "source": [
    "len(y_tr)"
   ]
  },
  {
   "cell_type": "markdown",
   "metadata": {},
   "source": [
    "# 3.Standardization SDF file for work set"
   ]
  },
  {
   "cell_type": "code",
   "execution_count": 7,
   "metadata": {},
   "outputs": [
    {
     "name": "stdout",
     "output_type": "stream",
     "text": [
      "Kept data:  3083 molecules\n"
     ]
    }
   ],
   "source": [
    "all_mols_ws[:] = [x for i,x in enumerate(all_mols_ws) if i not in y_bad_index] \n",
    "records = []\n",
    "for i in range(len(all_mols_ws)):\n",
    "    record = Chem.MolToSmiles(all_mols_ws[i])\n",
    "    records.append(record)\n",
    "\n",
    "moldf_ws = []\n",
    "for i,record in enumerate(records):\n",
    "    standard_record = standardize_smiles(record)\n",
    "    m = Chem.MolFromSmiles(standard_record)\n",
    "    moldf_ws.append(m)\n",
    "    \n",
    "print('Kept data: ', len(moldf_ws), 'molecules')"
   ]
  },
  {
   "cell_type": "markdown",
   "metadata": {},
   "source": [
    "# 4.Data entry and curation test set"
   ]
  },
  {
   "cell_type": "code",
   "execution_count": 8,
   "metadata": {},
   "outputs": [
    {
     "name": "stdout",
     "output_type": "stream",
     "text": [
      "Original data:  771 molecules\n",
      "Failed data:  0 molecules\n"
     ]
    },
    {
     "data": {
      "text/html": [
       "<div>\n",
       "<style scoped>\n",
       "    .dataframe tbody tr th:only-of-type {\n",
       "        vertical-align: middle;\n",
       "    }\n",
       "\n",
       "    .dataframe tbody tr th {\n",
       "        vertical-align: top;\n",
       "    }\n",
       "\n",
       "    .dataframe thead th {\n",
       "        text-align: right;\n",
       "    }\n",
       "</style>\n",
       "<table border=\"1\" class=\"dataframe\">\n",
       "  <thead>\n",
       "    <tr style=\"text-align: right;\">\n",
       "      <th></th>\n",
       "      <th>No. failed molecule in original set</th>\n",
       "      <th>SMILES of wrong structure:</th>\n",
       "    </tr>\n",
       "    <tr>\n",
       "      <th>No.</th>\n",
       "      <th></th>\n",
       "      <th></th>\n",
       "    </tr>\n",
       "  </thead>\n",
       "  <tbody>\n",
       "  </tbody>\n",
       "</table>\n",
       "</div>"
      ],
      "text/plain": [
       "Empty DataFrame\n",
       "Columns: [No. failed molecule in original set, SMILES of wrong structure: ]\n",
       "Index: []"
      ]
     },
     "execution_count": 8,
     "metadata": {},
     "output_type": "execute_result"
    }
   ],
   "source": [
    "uploaded_file_ts=\"datasets/HDAC6_test.sdf\"\n",
    "supplier_ts = Chem.ForwardSDMolSupplier(uploaded_file_ts,sanitize=False)\n",
    "failed_mols_ts = []\n",
    "all_mols_ts =[]\n",
    "wrong_structure_ts=[]\n",
    "wrong_smiles_ts=[]\n",
    "y_ts = []\n",
    "y_bad_index=[]\n",
    "for i, m in enumerate(supplier_ts):\n",
    "    structure = Chem.Mol(m)\n",
    "    all_mols_ts.append(structure)\n",
    "    y_ts.append(m.GetProp(\"pchembl_value_mean\"))\n",
    "    try:\n",
    "        Chem.SanitizeMol(structure)\n",
    "    except:\n",
    "        failed_mols_ts.append(m)\n",
    "        wrong_smiles_ts.append(Chem.MolToSmiles(m))\n",
    "        wrong_structure_ts.append(str(i+1))\n",
    "        y_bad_index.append(i)\n",
    "print('Original data: ', len(all_mols_ts), 'molecules')\n",
    "print('Failed data: ', len(failed_mols_ts), 'molecules')\n",
    "number_ts =[]\n",
    "for i in range(len(failed_mols_ts)):\n",
    "        number_ts.append(str(i+1))\n",
    "bad_molecules_ts = pd.DataFrame({'No. failed molecule in original set': wrong_structure_ts, 'SMILES of wrong structure: ': wrong_smiles_ts, 'No.': number_ts}, index=None)\n",
    "bad_molecules_ts = bad_molecules_ts.set_index('No.')\n",
    "bad_molecules_ts"
   ]
  },
  {
   "cell_type": "markdown",
   "metadata": {},
   "source": [
    "deleting activity values for substances with incorrect structure"
   ]
  },
  {
   "cell_type": "code",
   "execution_count": 9,
   "metadata": {},
   "outputs": [],
   "source": [
    "y_ts[:] = [x for i,x in enumerate(y_ts) if i not in y_bad_index]"
   ]
  },
  {
   "cell_type": "code",
   "execution_count": 10,
   "metadata": {},
   "outputs": [
    {
     "data": {
      "text/plain": [
       "771"
      ]
     },
     "execution_count": 10,
     "metadata": {},
     "output_type": "execute_result"
    }
   ],
   "source": [
    "len(y_ts)"
   ]
  },
  {
   "cell_type": "markdown",
   "metadata": {},
   "source": [
    "# 5.Standardization SDF file for test set"
   ]
  },
  {
   "cell_type": "code",
   "execution_count": 11,
   "metadata": {},
   "outputs": [
    {
     "name": "stdout",
     "output_type": "stream",
     "text": [
      "Kept data:  771 molecules\n"
     ]
    }
   ],
   "source": [
    "all_mols_ts[:] = [x for i,x in enumerate(all_mols_ts) if i not in y_bad_index] \n",
    "records = []\n",
    "for i in range(len(all_mols_ts)):\n",
    "    record = Chem.MolToSmiles(all_mols_ts[i])\n",
    "    records.append(record)\n",
    "\n",
    "moldf_ts = []\n",
    "for i,record in enumerate(records):\n",
    "    standard_record = standardize_smiles(record)\n",
    "    m = Chem.MolFromSmiles(standard_record)\n",
    "    moldf_ts.append(m)\n",
    "    \n",
    "print('Kept data: ', len(moldf_ts), 'molecules')"
   ]
  },
  {
   "cell_type": "markdown",
   "metadata": {},
   "source": [
    "## Calculation RDKit_2D descriptors for work set"
   ]
  },
  {
   "cell_type": "code",
   "execution_count": 12,
   "metadata": {},
   "outputs": [],
   "source": [
    "calc = MoleculeDescriptors.MolecularDescriptorCalculator([x[0] for x in Descriptors._descList])\n",
    "header = calc.GetDescriptorNames()"
   ]
  },
  {
   "cell_type": "code",
   "execution_count": 13,
   "metadata": {},
   "outputs": [],
   "source": [
    "descr_tr= []\n",
    "for m in moldf_ws:\n",
    "    descr_tr.append(calc.CalcDescriptors(m))\n",
    "x_tr = np.asarray(descr_tr)"
   ]
  },
  {
   "cell_type": "code",
   "execution_count": 14,
   "metadata": {},
   "outputs": [],
   "source": [
    "df_RDKit_2D = pd.DataFrame(x_tr,columns=header)"
   ]
  },
  {
   "cell_type": "code",
   "execution_count": 15,
   "metadata": {},
   "outputs": [
    {
     "data": {
      "text/html": [
       "<div>\n",
       "<style scoped>\n",
       "    .dataframe tbody tr th:only-of-type {\n",
       "        vertical-align: middle;\n",
       "    }\n",
       "\n",
       "    .dataframe tbody tr th {\n",
       "        vertical-align: top;\n",
       "    }\n",
       "\n",
       "    .dataframe thead th {\n",
       "        text-align: right;\n",
       "    }\n",
       "</style>\n",
       "<table border=\"1\" class=\"dataframe\">\n",
       "  <thead>\n",
       "    <tr style=\"text-align: right;\">\n",
       "      <th></th>\n",
       "      <th>MaxAbsEStateIndex</th>\n",
       "      <th>MaxEStateIndex</th>\n",
       "      <th>MinAbsEStateIndex</th>\n",
       "      <th>MinEStateIndex</th>\n",
       "      <th>qed</th>\n",
       "      <th>MolWt</th>\n",
       "      <th>HeavyAtomMolWt</th>\n",
       "      <th>ExactMolWt</th>\n",
       "      <th>NumValenceElectrons</th>\n",
       "      <th>NumRadicalElectrons</th>\n",
       "      <th>...</th>\n",
       "      <th>fr_sulfide</th>\n",
       "      <th>fr_sulfonamd</th>\n",
       "      <th>fr_sulfone</th>\n",
       "      <th>fr_term_acetylene</th>\n",
       "      <th>fr_tetrazole</th>\n",
       "      <th>fr_thiazole</th>\n",
       "      <th>fr_thiocyan</th>\n",
       "      <th>fr_thiophene</th>\n",
       "      <th>fr_unbrch_alkane</th>\n",
       "      <th>fr_urea</th>\n",
       "    </tr>\n",
       "  </thead>\n",
       "  <tbody>\n",
       "    <tr>\n",
       "      <th>0</th>\n",
       "      <td>12.242419</td>\n",
       "      <td>12.242419</td>\n",
       "      <td>0.074853</td>\n",
       "      <td>-0.968233</td>\n",
       "      <td>0.872997</td>\n",
       "      <td>278.264</td>\n",
       "      <td>264.152</td>\n",
       "      <td>278.090272</td>\n",
       "      <td>106.0</td>\n",
       "      <td>0.0</td>\n",
       "      <td>...</td>\n",
       "      <td>0.0</td>\n",
       "      <td>0.0</td>\n",
       "      <td>0.0</td>\n",
       "      <td>0.0</td>\n",
       "      <td>0.0</td>\n",
       "      <td>0.0</td>\n",
       "      <td>0.0</td>\n",
       "      <td>0.0</td>\n",
       "      <td>0.0</td>\n",
       "      <td>0.0</td>\n",
       "    </tr>\n",
       "    <tr>\n",
       "      <th>1</th>\n",
       "      <td>12.174333</td>\n",
       "      <td>12.174333</td>\n",
       "      <td>0.042267</td>\n",
       "      <td>-0.371769</td>\n",
       "      <td>0.176840</td>\n",
       "      <td>416.909</td>\n",
       "      <td>391.709</td>\n",
       "      <td>416.161518</td>\n",
       "      <td>154.0</td>\n",
       "      <td>0.0</td>\n",
       "      <td>...</td>\n",
       "      <td>0.0</td>\n",
       "      <td>0.0</td>\n",
       "      <td>0.0</td>\n",
       "      <td>0.0</td>\n",
       "      <td>0.0</td>\n",
       "      <td>0.0</td>\n",
       "      <td>0.0</td>\n",
       "      <td>0.0</td>\n",
       "      <td>3.0</td>\n",
       "      <td>0.0</td>\n",
       "    </tr>\n",
       "  </tbody>\n",
       "</table>\n",
       "<p>2 rows × 209 columns</p>\n",
       "</div>"
      ],
      "text/plain": [
       "   MaxAbsEStateIndex  MaxEStateIndex  MinAbsEStateIndex  MinEStateIndex  \\\n",
       "0          12.242419       12.242419           0.074853       -0.968233   \n",
       "1          12.174333       12.174333           0.042267       -0.371769   \n",
       "\n",
       "        qed    MolWt  HeavyAtomMolWt  ExactMolWt  NumValenceElectrons  \\\n",
       "0  0.872997  278.264         264.152  278.090272                106.0   \n",
       "1  0.176840  416.909         391.709  416.161518                154.0   \n",
       "\n",
       "   NumRadicalElectrons  ...  fr_sulfide  fr_sulfonamd  fr_sulfone  \\\n",
       "0                  0.0  ...         0.0           0.0         0.0   \n",
       "1                  0.0  ...         0.0           0.0         0.0   \n",
       "\n",
       "   fr_term_acetylene  fr_tetrazole  fr_thiazole  fr_thiocyan  fr_thiophene  \\\n",
       "0                0.0           0.0          0.0          0.0           0.0   \n",
       "1                0.0           0.0          0.0          0.0           0.0   \n",
       "\n",
       "   fr_unbrch_alkane  fr_urea  \n",
       "0               0.0      0.0  \n",
       "1               3.0      0.0  \n",
       "\n",
       "[2 rows x 209 columns]"
      ]
     },
     "execution_count": 15,
     "metadata": {},
     "output_type": "execute_result"
    }
   ],
   "source": [
    "df_RDKit_2D.head(2)"
   ]
  },
  {
   "cell_type": "code",
   "execution_count": 16,
   "metadata": {},
   "outputs": [
    {
     "data": {
      "text/plain": [
       "BCUT2D_MWLOW      0.003568\n",
       "BCUT2D_LOGPLOW    0.003568\n",
       "BCUT2D_CHGLO      0.003568\n",
       "BCUT2D_CHGHI      0.003568\n",
       "BCUT2D_MRHI       0.003568\n",
       "                    ...   \n",
       "SlogP_VSA8        0.000000\n",
       "SlogP_VSA9        0.000000\n",
       "TPSA              0.000000\n",
       "EState_VSA1       0.000000\n",
       "fr_urea           0.000000\n",
       "Length: 209, dtype: float64"
      ]
     },
     "execution_count": 16,
     "metadata": {},
     "output_type": "execute_result"
    }
   ],
   "source": [
    "df_RDKit_2D.isna().mean().sort_values(ascending=False)"
   ]
  },
  {
   "cell_type": "code",
   "execution_count": 17,
   "metadata": {},
   "outputs": [
    {
     "data": {
      "text/html": [
       "<div>\n",
       "<style scoped>\n",
       "    .dataframe tbody tr th:only-of-type {\n",
       "        vertical-align: middle;\n",
       "    }\n",
       "\n",
       "    .dataframe tbody tr th {\n",
       "        vertical-align: top;\n",
       "    }\n",
       "\n",
       "    .dataframe thead th {\n",
       "        text-align: right;\n",
       "    }\n",
       "</style>\n",
       "<table border=\"1\" class=\"dataframe\">\n",
       "  <thead>\n",
       "    <tr style=\"text-align: right;\">\n",
       "      <th></th>\n",
       "      <th>MaxAbsEStateIndex</th>\n",
       "      <th>MaxEStateIndex</th>\n",
       "      <th>MinAbsEStateIndex</th>\n",
       "      <th>MinEStateIndex</th>\n",
       "      <th>qed</th>\n",
       "      <th>MolWt</th>\n",
       "      <th>HeavyAtomMolWt</th>\n",
       "      <th>ExactMolWt</th>\n",
       "      <th>NumValenceElectrons</th>\n",
       "      <th>NumRadicalElectrons</th>\n",
       "      <th>...</th>\n",
       "      <th>fr_sulfide</th>\n",
       "      <th>fr_sulfonamd</th>\n",
       "      <th>fr_sulfone</th>\n",
       "      <th>fr_term_acetylene</th>\n",
       "      <th>fr_tetrazole</th>\n",
       "      <th>fr_thiazole</th>\n",
       "      <th>fr_thiocyan</th>\n",
       "      <th>fr_thiophene</th>\n",
       "      <th>fr_unbrch_alkane</th>\n",
       "      <th>fr_urea</th>\n",
       "    </tr>\n",
       "  </thead>\n",
       "  <tbody>\n",
       "    <tr>\n",
       "      <th>0</th>\n",
       "      <td>12.242419</td>\n",
       "      <td>12.242419</td>\n",
       "      <td>0.074853</td>\n",
       "      <td>-0.968233</td>\n",
       "      <td>0.872997</td>\n",
       "      <td>278.264</td>\n",
       "      <td>264.152</td>\n",
       "      <td>278.090272</td>\n",
       "      <td>106.0</td>\n",
       "      <td>0.0</td>\n",
       "      <td>...</td>\n",
       "      <td>0.0</td>\n",
       "      <td>0.0</td>\n",
       "      <td>0.0</td>\n",
       "      <td>0.0</td>\n",
       "      <td>0.0</td>\n",
       "      <td>0.0</td>\n",
       "      <td>0.0</td>\n",
       "      <td>0.0</td>\n",
       "      <td>0.0</td>\n",
       "      <td>0.0</td>\n",
       "    </tr>\n",
       "    <tr>\n",
       "      <th>1</th>\n",
       "      <td>12.174333</td>\n",
       "      <td>12.174333</td>\n",
       "      <td>0.042267</td>\n",
       "      <td>-0.371769</td>\n",
       "      <td>0.176840</td>\n",
       "      <td>416.909</td>\n",
       "      <td>391.709</td>\n",
       "      <td>416.161518</td>\n",
       "      <td>154.0</td>\n",
       "      <td>0.0</td>\n",
       "      <td>...</td>\n",
       "      <td>0.0</td>\n",
       "      <td>0.0</td>\n",
       "      <td>0.0</td>\n",
       "      <td>0.0</td>\n",
       "      <td>0.0</td>\n",
       "      <td>0.0</td>\n",
       "      <td>0.0</td>\n",
       "      <td>0.0</td>\n",
       "      <td>3.0</td>\n",
       "      <td>0.0</td>\n",
       "    </tr>\n",
       "    <tr>\n",
       "      <th>2</th>\n",
       "      <td>11.990951</td>\n",
       "      <td>11.990951</td>\n",
       "      <td>0.054892</td>\n",
       "      <td>-0.264842</td>\n",
       "      <td>0.815196</td>\n",
       "      <td>301.302</td>\n",
       "      <td>286.182</td>\n",
       "      <td>301.106256</td>\n",
       "      <td>114.0</td>\n",
       "      <td>0.0</td>\n",
       "      <td>...</td>\n",
       "      <td>0.0</td>\n",
       "      <td>0.0</td>\n",
       "      <td>0.0</td>\n",
       "      <td>0.0</td>\n",
       "      <td>0.0</td>\n",
       "      <td>0.0</td>\n",
       "      <td>0.0</td>\n",
       "      <td>0.0</td>\n",
       "      <td>0.0</td>\n",
       "      <td>0.0</td>\n",
       "    </tr>\n",
       "    <tr>\n",
       "      <th>3</th>\n",
       "      <td>10.873288</td>\n",
       "      <td>10.873288</td>\n",
       "      <td>0.534320</td>\n",
       "      <td>-0.534320</td>\n",
       "      <td>0.456792</td>\n",
       "      <td>213.236</td>\n",
       "      <td>202.148</td>\n",
       "      <td>213.078979</td>\n",
       "      <td>80.0</td>\n",
       "      <td>0.0</td>\n",
       "      <td>...</td>\n",
       "      <td>0.0</td>\n",
       "      <td>0.0</td>\n",
       "      <td>0.0</td>\n",
       "      <td>0.0</td>\n",
       "      <td>0.0</td>\n",
       "      <td>0.0</td>\n",
       "      <td>0.0</td>\n",
       "      <td>0.0</td>\n",
       "      <td>0.0</td>\n",
       "      <td>0.0</td>\n",
       "    </tr>\n",
       "    <tr>\n",
       "      <th>4</th>\n",
       "      <td>2.581454</td>\n",
       "      <td>2.581454</td>\n",
       "      <td>0.445824</td>\n",
       "      <td>0.445824</td>\n",
       "      <td>0.454787</td>\n",
       "      <td>272.476</td>\n",
       "      <td>240.220</td>\n",
       "      <td>272.250401</td>\n",
       "      <td>112.0</td>\n",
       "      <td>0.0</td>\n",
       "      <td>...</td>\n",
       "      <td>0.0</td>\n",
       "      <td>0.0</td>\n",
       "      <td>0.0</td>\n",
       "      <td>0.0</td>\n",
       "      <td>0.0</td>\n",
       "      <td>0.0</td>\n",
       "      <td>0.0</td>\n",
       "      <td>0.0</td>\n",
       "      <td>0.0</td>\n",
       "      <td>0.0</td>\n",
       "    </tr>\n",
       "    <tr>\n",
       "      <th>...</th>\n",
       "      <td>...</td>\n",
       "      <td>...</td>\n",
       "      <td>...</td>\n",
       "      <td>...</td>\n",
       "      <td>...</td>\n",
       "      <td>...</td>\n",
       "      <td>...</td>\n",
       "      <td>...</td>\n",
       "      <td>...</td>\n",
       "      <td>...</td>\n",
       "      <td>...</td>\n",
       "      <td>...</td>\n",
       "      <td>...</td>\n",
       "      <td>...</td>\n",
       "      <td>...</td>\n",
       "      <td>...</td>\n",
       "      <td>...</td>\n",
       "      <td>...</td>\n",
       "      <td>...</td>\n",
       "      <td>...</td>\n",
       "      <td>...</td>\n",
       "    </tr>\n",
       "    <tr>\n",
       "      <th>3078</th>\n",
       "      <td>14.120048</td>\n",
       "      <td>14.120048</td>\n",
       "      <td>0.000665</td>\n",
       "      <td>-0.791896</td>\n",
       "      <td>0.586203</td>\n",
       "      <td>301.321</td>\n",
       "      <td>285.193</td>\n",
       "      <td>301.122655</td>\n",
       "      <td>114.0</td>\n",
       "      <td>0.0</td>\n",
       "      <td>...</td>\n",
       "      <td>0.0</td>\n",
       "      <td>0.0</td>\n",
       "      <td>0.0</td>\n",
       "      <td>0.0</td>\n",
       "      <td>0.0</td>\n",
       "      <td>0.0</td>\n",
       "      <td>0.0</td>\n",
       "      <td>0.0</td>\n",
       "      <td>0.0</td>\n",
       "      <td>0.0</td>\n",
       "    </tr>\n",
       "    <tr>\n",
       "      <th>3079</th>\n",
       "      <td>12.247689</td>\n",
       "      <td>12.247689</td>\n",
       "      <td>0.057760</td>\n",
       "      <td>-0.384776</td>\n",
       "      <td>0.069031</td>\n",
       "      <td>516.606</td>\n",
       "      <td>484.350</td>\n",
       "      <td>516.259737</td>\n",
       "      <td>198.0</td>\n",
       "      <td>0.0</td>\n",
       "      <td>...</td>\n",
       "      <td>0.0</td>\n",
       "      <td>0.0</td>\n",
       "      <td>0.0</td>\n",
       "      <td>0.0</td>\n",
       "      <td>0.0</td>\n",
       "      <td>0.0</td>\n",
       "      <td>0.0</td>\n",
       "      <td>0.0</td>\n",
       "      <td>3.0</td>\n",
       "      <td>0.0</td>\n",
       "    </tr>\n",
       "    <tr>\n",
       "      <th>3080</th>\n",
       "      <td>11.417085</td>\n",
       "      <td>11.417085</td>\n",
       "      <td>0.345049</td>\n",
       "      <td>-3.209919</td>\n",
       "      <td>0.425745</td>\n",
       "      <td>387.461</td>\n",
       "      <td>366.293</td>\n",
       "      <td>387.125277</td>\n",
       "      <td>142.0</td>\n",
       "      <td>0.0</td>\n",
       "      <td>...</td>\n",
       "      <td>0.0</td>\n",
       "      <td>1.0</td>\n",
       "      <td>0.0</td>\n",
       "      <td>0.0</td>\n",
       "      <td>0.0</td>\n",
       "      <td>0.0</td>\n",
       "      <td>0.0</td>\n",
       "      <td>0.0</td>\n",
       "      <td>0.0</td>\n",
       "      <td>0.0</td>\n",
       "    </tr>\n",
       "    <tr>\n",
       "      <th>3081</th>\n",
       "      <td>12.132469</td>\n",
       "      <td>12.132469</td>\n",
       "      <td>0.021659</td>\n",
       "      <td>-0.374570</td>\n",
       "      <td>0.098503</td>\n",
       "      <td>504.595</td>\n",
       "      <td>472.339</td>\n",
       "      <td>504.259737</td>\n",
       "      <td>194.0</td>\n",
       "      <td>0.0</td>\n",
       "      <td>...</td>\n",
       "      <td>0.0</td>\n",
       "      <td>0.0</td>\n",
       "      <td>0.0</td>\n",
       "      <td>0.0</td>\n",
       "      <td>0.0</td>\n",
       "      <td>0.0</td>\n",
       "      <td>0.0</td>\n",
       "      <td>0.0</td>\n",
       "      <td>4.0</td>\n",
       "      <td>0.0</td>\n",
       "    </tr>\n",
       "    <tr>\n",
       "      <th>3082</th>\n",
       "      <td>13.006219</td>\n",
       "      <td>13.006219</td>\n",
       "      <td>0.069988</td>\n",
       "      <td>-0.633122</td>\n",
       "      <td>0.414684</td>\n",
       "      <td>376.368</td>\n",
       "      <td>360.240</td>\n",
       "      <td>376.105922</td>\n",
       "      <td>140.0</td>\n",
       "      <td>0.0</td>\n",
       "      <td>...</td>\n",
       "      <td>0.0</td>\n",
       "      <td>0.0</td>\n",
       "      <td>0.0</td>\n",
       "      <td>0.0</td>\n",
       "      <td>0.0</td>\n",
       "      <td>0.0</td>\n",
       "      <td>0.0</td>\n",
       "      <td>0.0</td>\n",
       "      <td>0.0</td>\n",
       "      <td>0.0</td>\n",
       "    </tr>\n",
       "  </tbody>\n",
       "</table>\n",
       "<p>3083 rows × 197 columns</p>\n",
       "</div>"
      ],
      "text/plain": [
       "      MaxAbsEStateIndex  MaxEStateIndex  MinAbsEStateIndex  MinEStateIndex  \\\n",
       "0             12.242419       12.242419           0.074853       -0.968233   \n",
       "1             12.174333       12.174333           0.042267       -0.371769   \n",
       "2             11.990951       11.990951           0.054892       -0.264842   \n",
       "3             10.873288       10.873288           0.534320       -0.534320   \n",
       "4              2.581454        2.581454           0.445824        0.445824   \n",
       "...                 ...             ...                ...             ...   \n",
       "3078          14.120048       14.120048           0.000665       -0.791896   \n",
       "3079          12.247689       12.247689           0.057760       -0.384776   \n",
       "3080          11.417085       11.417085           0.345049       -3.209919   \n",
       "3081          12.132469       12.132469           0.021659       -0.374570   \n",
       "3082          13.006219       13.006219           0.069988       -0.633122   \n",
       "\n",
       "           qed    MolWt  HeavyAtomMolWt  ExactMolWt  NumValenceElectrons  \\\n",
       "0     0.872997  278.264         264.152  278.090272                106.0   \n",
       "1     0.176840  416.909         391.709  416.161518                154.0   \n",
       "2     0.815196  301.302         286.182  301.106256                114.0   \n",
       "3     0.456792  213.236         202.148  213.078979                 80.0   \n",
       "4     0.454787  272.476         240.220  272.250401                112.0   \n",
       "...        ...      ...             ...         ...                  ...   \n",
       "3078  0.586203  301.321         285.193  301.122655                114.0   \n",
       "3079  0.069031  516.606         484.350  516.259737                198.0   \n",
       "3080  0.425745  387.461         366.293  387.125277                142.0   \n",
       "3081  0.098503  504.595         472.339  504.259737                194.0   \n",
       "3082  0.414684  376.368         360.240  376.105922                140.0   \n",
       "\n",
       "      NumRadicalElectrons  ...  fr_sulfide  fr_sulfonamd  fr_sulfone  \\\n",
       "0                     0.0  ...         0.0           0.0         0.0   \n",
       "1                     0.0  ...         0.0           0.0         0.0   \n",
       "2                     0.0  ...         0.0           0.0         0.0   \n",
       "3                     0.0  ...         0.0           0.0         0.0   \n",
       "4                     0.0  ...         0.0           0.0         0.0   \n",
       "...                   ...  ...         ...           ...         ...   \n",
       "3078                  0.0  ...         0.0           0.0         0.0   \n",
       "3079                  0.0  ...         0.0           0.0         0.0   \n",
       "3080                  0.0  ...         0.0           1.0         0.0   \n",
       "3081                  0.0  ...         0.0           0.0         0.0   \n",
       "3082                  0.0  ...         0.0           0.0         0.0   \n",
       "\n",
       "      fr_term_acetylene  fr_tetrazole  fr_thiazole  fr_thiocyan  fr_thiophene  \\\n",
       "0                   0.0           0.0          0.0          0.0           0.0   \n",
       "1                   0.0           0.0          0.0          0.0           0.0   \n",
       "2                   0.0           0.0          0.0          0.0           0.0   \n",
       "3                   0.0           0.0          0.0          0.0           0.0   \n",
       "4                   0.0           0.0          0.0          0.0           0.0   \n",
       "...                 ...           ...          ...          ...           ...   \n",
       "3078                0.0           0.0          0.0          0.0           0.0   \n",
       "3079                0.0           0.0          0.0          0.0           0.0   \n",
       "3080                0.0           0.0          0.0          0.0           0.0   \n",
       "3081                0.0           0.0          0.0          0.0           0.0   \n",
       "3082                0.0           0.0          0.0          0.0           0.0   \n",
       "\n",
       "      fr_unbrch_alkane  fr_urea  \n",
       "0                  0.0      0.0  \n",
       "1                  3.0      0.0  \n",
       "2                  0.0      0.0  \n",
       "3                  0.0      0.0  \n",
       "4                  0.0      0.0  \n",
       "...                ...      ...  \n",
       "3078               0.0      0.0  \n",
       "3079               3.0      0.0  \n",
       "3080               0.0      0.0  \n",
       "3081               4.0      0.0  \n",
       "3082               0.0      0.0  \n",
       "\n",
       "[3083 rows x 197 columns]"
      ]
     },
     "execution_count": 17,
     "metadata": {},
     "output_type": "execute_result"
    }
   ],
   "source": [
    "df_RDKit_2D=df_RDKit_2D.dropna(axis=1)\n",
    "df_RDKit_2D"
   ]
  },
  {
   "cell_type": "code",
   "execution_count": 38,
   "metadata": {},
   "outputs": [],
   "source": [
    "x_tr= df_RDKit_2D.to_numpy ()"
   ]
  },
  {
   "cell_type": "code",
   "execution_count": 41,
   "metadata": {},
   "outputs": [],
   "source": [
    "# Data Standardization\n",
    "from sklearn.preprocessing import StandardScaler\n",
    "Scaler=StandardScaler()\n",
    "x_tr=Scaler.fit_transform(x_tr)"
   ]
  },
  {
   "cell_type": "code",
   "execution_count": 44,
   "metadata": {},
   "outputs": [
    {
     "data": {
      "text/plain": [
       "(3083, 197)"
      ]
     },
     "execution_count": 44,
     "metadata": {},
     "output_type": "execute_result"
    }
   ],
   "source": [
    "x_tr.shape"
   ]
  },
  {
   "cell_type": "code",
   "execution_count": 45,
   "metadata": {},
   "outputs": [],
   "source": [
    "savetxt('Models/RDKiT/x_tr_RDKiT.csv', x_tr, delimiter=',')"
   ]
  },
  {
   "cell_type": "markdown",
   "metadata": {},
   "source": [
    "## Calculation  RDKit_2D descriptors for test set"
   ]
  },
  {
   "cell_type": "code",
   "execution_count": 19,
   "metadata": {},
   "outputs": [],
   "source": [
    "descr_ts = []\n",
    "for m in moldf_ts:\n",
    "    descr_ts.append(calc.CalcDescriptors(m))\n",
    "x_ts = np.asarray(descr_ts)"
   ]
  },
  {
   "cell_type": "code",
   "execution_count": 20,
   "metadata": {},
   "outputs": [
    {
     "data": {
      "text/plain": [
       "(771, 209)"
      ]
     },
     "execution_count": 20,
     "metadata": {},
     "output_type": "execute_result"
    }
   ],
   "source": [
    "x_ts.shape"
   ]
  },
  {
   "cell_type": "code",
   "execution_count": 60,
   "metadata": {},
   "outputs": [
    {
     "data": {
      "text/html": [
       "<div>\n",
       "<style scoped>\n",
       "    .dataframe tbody tr th:only-of-type {\n",
       "        vertical-align: middle;\n",
       "    }\n",
       "\n",
       "    .dataframe tbody tr th {\n",
       "        vertical-align: top;\n",
       "    }\n",
       "\n",
       "    .dataframe thead th {\n",
       "        text-align: right;\n",
       "    }\n",
       "</style>\n",
       "<table border=\"1\" class=\"dataframe\">\n",
       "  <thead>\n",
       "    <tr style=\"text-align: right;\">\n",
       "      <th></th>\n",
       "      <th>MaxAbsEStateIndex</th>\n",
       "      <th>MaxEStateIndex</th>\n",
       "      <th>MinAbsEStateIndex</th>\n",
       "      <th>MinEStateIndex</th>\n",
       "      <th>qed</th>\n",
       "      <th>MolWt</th>\n",
       "      <th>HeavyAtomMolWt</th>\n",
       "      <th>ExactMolWt</th>\n",
       "      <th>NumValenceElectrons</th>\n",
       "      <th>NumRadicalElectrons</th>\n",
       "      <th>...</th>\n",
       "      <th>fr_sulfide</th>\n",
       "      <th>fr_sulfonamd</th>\n",
       "      <th>fr_sulfone</th>\n",
       "      <th>fr_term_acetylene</th>\n",
       "      <th>fr_tetrazole</th>\n",
       "      <th>fr_thiazole</th>\n",
       "      <th>fr_thiocyan</th>\n",
       "      <th>fr_thiophene</th>\n",
       "      <th>fr_unbrch_alkane</th>\n",
       "      <th>fr_urea</th>\n",
       "    </tr>\n",
       "  </thead>\n",
       "  <tbody>\n",
       "    <tr>\n",
       "      <th>0</th>\n",
       "      <td>10.462074</td>\n",
       "      <td>10.462074</td>\n",
       "      <td>0.122184</td>\n",
       "      <td>-0.789763</td>\n",
       "      <td>0.825546</td>\n",
       "      <td>204.229</td>\n",
       "      <td>192.133</td>\n",
       "      <td>204.089878</td>\n",
       "      <td>78.0</td>\n",
       "      <td>0.0</td>\n",
       "      <td>...</td>\n",
       "      <td>0.0</td>\n",
       "      <td>0.0</td>\n",
       "      <td>0.0</td>\n",
       "      <td>0.0</td>\n",
       "      <td>0.0</td>\n",
       "      <td>0.0</td>\n",
       "      <td>0.0</td>\n",
       "      <td>0.0</td>\n",
       "      <td>0.0</td>\n",
       "      <td>0.0</td>\n",
       "    </tr>\n",
       "    <tr>\n",
       "      <th>1</th>\n",
       "      <td>12.347016</td>\n",
       "      <td>12.347016</td>\n",
       "      <td>0.044100</td>\n",
       "      <td>-0.408075</td>\n",
       "      <td>0.249061</td>\n",
       "      <td>494.720</td>\n",
       "      <td>448.352</td>\n",
       "      <td>494.350843</td>\n",
       "      <td>198.0</td>\n",
       "      <td>0.0</td>\n",
       "      <td>...</td>\n",
       "      <td>0.0</td>\n",
       "      <td>0.0</td>\n",
       "      <td>0.0</td>\n",
       "      <td>0.0</td>\n",
       "      <td>0.0</td>\n",
       "      <td>0.0</td>\n",
       "      <td>0.0</td>\n",
       "      <td>0.0</td>\n",
       "      <td>1.0</td>\n",
       "      <td>0.0</td>\n",
       "    </tr>\n",
       "    <tr>\n",
       "      <th>2</th>\n",
       "      <td>11.705734</td>\n",
       "      <td>11.705734</td>\n",
       "      <td>0.208479</td>\n",
       "      <td>-0.548897</td>\n",
       "      <td>0.249396</td>\n",
       "      <td>446.547</td>\n",
       "      <td>416.307</td>\n",
       "      <td>446.220557</td>\n",
       "      <td>172.0</td>\n",
       "      <td>0.0</td>\n",
       "      <td>...</td>\n",
       "      <td>0.0</td>\n",
       "      <td>0.0</td>\n",
       "      <td>0.0</td>\n",
       "      <td>0.0</td>\n",
       "      <td>0.0</td>\n",
       "      <td>0.0</td>\n",
       "      <td>0.0</td>\n",
       "      <td>0.0</td>\n",
       "      <td>0.0</td>\n",
       "      <td>0.0</td>\n",
       "    </tr>\n",
       "    <tr>\n",
       "      <th>3</th>\n",
       "      <td>13.575602</td>\n",
       "      <td>13.575602</td>\n",
       "      <td>0.046998</td>\n",
       "      <td>-0.826780</td>\n",
       "      <td>0.142426</td>\n",
       "      <td>540.661</td>\n",
       "      <td>500.341</td>\n",
       "      <td>540.294785</td>\n",
       "      <td>212.0</td>\n",
       "      <td>0.0</td>\n",
       "      <td>...</td>\n",
       "      <td>0.0</td>\n",
       "      <td>0.0</td>\n",
       "      <td>0.0</td>\n",
       "      <td>0.0</td>\n",
       "      <td>0.0</td>\n",
       "      <td>0.0</td>\n",
       "      <td>0.0</td>\n",
       "      <td>0.0</td>\n",
       "      <td>2.0</td>\n",
       "      <td>0.0</td>\n",
       "    </tr>\n",
       "    <tr>\n",
       "      <th>4</th>\n",
       "      <td>11.474395</td>\n",
       "      <td>11.474395</td>\n",
       "      <td>0.062912</td>\n",
       "      <td>-0.557235</td>\n",
       "      <td>0.285460</td>\n",
       "      <td>338.433</td>\n",
       "      <td>316.257</td>\n",
       "      <td>338.141262</td>\n",
       "      <td>126.0</td>\n",
       "      <td>0.0</td>\n",
       "      <td>...</td>\n",
       "      <td>0.0</td>\n",
       "      <td>0.0</td>\n",
       "      <td>0.0</td>\n",
       "      <td>0.0</td>\n",
       "      <td>0.0</td>\n",
       "      <td>1.0</td>\n",
       "      <td>0.0</td>\n",
       "      <td>0.0</td>\n",
       "      <td>1.0</td>\n",
       "      <td>0.0</td>\n",
       "    </tr>\n",
       "    <tr>\n",
       "      <th>...</th>\n",
       "      <td>...</td>\n",
       "      <td>...</td>\n",
       "      <td>...</td>\n",
       "      <td>...</td>\n",
       "      <td>...</td>\n",
       "      <td>...</td>\n",
       "      <td>...</td>\n",
       "      <td>...</td>\n",
       "      <td>...</td>\n",
       "      <td>...</td>\n",
       "      <td>...</td>\n",
       "      <td>...</td>\n",
       "      <td>...</td>\n",
       "      <td>...</td>\n",
       "      <td>...</td>\n",
       "      <td>...</td>\n",
       "      <td>...</td>\n",
       "      <td>...</td>\n",
       "      <td>...</td>\n",
       "      <td>...</td>\n",
       "      <td>...</td>\n",
       "    </tr>\n",
       "    <tr>\n",
       "      <th>766</th>\n",
       "      <td>12.491330</td>\n",
       "      <td>12.491330</td>\n",
       "      <td>0.078379</td>\n",
       "      <td>-0.334371</td>\n",
       "      <td>0.199201</td>\n",
       "      <td>464.636</td>\n",
       "      <td>428.348</td>\n",
       "      <td>464.256960</td>\n",
       "      <td>178.0</td>\n",
       "      <td>0.0</td>\n",
       "      <td>...</td>\n",
       "      <td>0.0</td>\n",
       "      <td>0.0</td>\n",
       "      <td>0.0</td>\n",
       "      <td>0.0</td>\n",
       "      <td>0.0</td>\n",
       "      <td>1.0</td>\n",
       "      <td>0.0</td>\n",
       "      <td>0.0</td>\n",
       "      <td>4.0</td>\n",
       "      <td>0.0</td>\n",
       "    </tr>\n",
       "    <tr>\n",
       "      <th>767</th>\n",
       "      <td>13.985815</td>\n",
       "      <td>13.985815</td>\n",
       "      <td>0.000132</td>\n",
       "      <td>-0.822281</td>\n",
       "      <td>0.592558</td>\n",
       "      <td>290.298</td>\n",
       "      <td>275.178</td>\n",
       "      <td>290.117904</td>\n",
       "      <td>110.0</td>\n",
       "      <td>0.0</td>\n",
       "      <td>...</td>\n",
       "      <td>0.0</td>\n",
       "      <td>0.0</td>\n",
       "      <td>0.0</td>\n",
       "      <td>0.0</td>\n",
       "      <td>0.0</td>\n",
       "      <td>0.0</td>\n",
       "      <td>0.0</td>\n",
       "      <td>0.0</td>\n",
       "      <td>0.0</td>\n",
       "      <td>0.0</td>\n",
       "    </tr>\n",
       "    <tr>\n",
       "      <th>768</th>\n",
       "      <td>14.047607</td>\n",
       "      <td>14.047607</td>\n",
       "      <td>0.154280</td>\n",
       "      <td>-1.051567</td>\n",
       "      <td>0.597350</td>\n",
       "      <td>323.274</td>\n",
       "      <td>311.178</td>\n",
       "      <td>323.088161</td>\n",
       "      <td>120.0</td>\n",
       "      <td>0.0</td>\n",
       "      <td>...</td>\n",
       "      <td>0.0</td>\n",
       "      <td>0.0</td>\n",
       "      <td>0.0</td>\n",
       "      <td>0.0</td>\n",
       "      <td>0.0</td>\n",
       "      <td>0.0</td>\n",
       "      <td>0.0</td>\n",
       "      <td>0.0</td>\n",
       "      <td>0.0</td>\n",
       "      <td>0.0</td>\n",
       "    </tr>\n",
       "    <tr>\n",
       "      <th>769</th>\n",
       "      <td>12.260501</td>\n",
       "      <td>12.260501</td>\n",
       "      <td>0.092378</td>\n",
       "      <td>-0.391658</td>\n",
       "      <td>0.193074</td>\n",
       "      <td>396.447</td>\n",
       "      <td>372.255</td>\n",
       "      <td>396.179755</td>\n",
       "      <td>152.0</td>\n",
       "      <td>0.0</td>\n",
       "      <td>...</td>\n",
       "      <td>0.0</td>\n",
       "      <td>0.0</td>\n",
       "      <td>0.0</td>\n",
       "      <td>0.0</td>\n",
       "      <td>0.0</td>\n",
       "      <td>0.0</td>\n",
       "      <td>0.0</td>\n",
       "      <td>0.0</td>\n",
       "      <td>3.0</td>\n",
       "      <td>0.0</td>\n",
       "    </tr>\n",
       "    <tr>\n",
       "      <th>770</th>\n",
       "      <td>12.169562</td>\n",
       "      <td>12.169562</td>\n",
       "      <td>0.056394</td>\n",
       "      <td>-0.383803</td>\n",
       "      <td>0.111965</td>\n",
       "      <td>462.514</td>\n",
       "      <td>436.306</td>\n",
       "      <td>462.212787</td>\n",
       "      <td>176.0</td>\n",
       "      <td>0.0</td>\n",
       "      <td>...</td>\n",
       "      <td>0.0</td>\n",
       "      <td>0.0</td>\n",
       "      <td>0.0</td>\n",
       "      <td>0.0</td>\n",
       "      <td>0.0</td>\n",
       "      <td>0.0</td>\n",
       "      <td>0.0</td>\n",
       "      <td>0.0</td>\n",
       "      <td>3.0</td>\n",
       "      <td>0.0</td>\n",
       "    </tr>\n",
       "  </tbody>\n",
       "</table>\n",
       "<p>771 rows × 197 columns</p>\n",
       "</div>"
      ],
      "text/plain": [
       "     MaxAbsEStateIndex  MaxEStateIndex  MinAbsEStateIndex  MinEStateIndex  \\\n",
       "0            10.462074       10.462074           0.122184       -0.789763   \n",
       "1            12.347016       12.347016           0.044100       -0.408075   \n",
       "2            11.705734       11.705734           0.208479       -0.548897   \n",
       "3            13.575602       13.575602           0.046998       -0.826780   \n",
       "4            11.474395       11.474395           0.062912       -0.557235   \n",
       "..                 ...             ...                ...             ...   \n",
       "766          12.491330       12.491330           0.078379       -0.334371   \n",
       "767          13.985815       13.985815           0.000132       -0.822281   \n",
       "768          14.047607       14.047607           0.154280       -1.051567   \n",
       "769          12.260501       12.260501           0.092378       -0.391658   \n",
       "770          12.169562       12.169562           0.056394       -0.383803   \n",
       "\n",
       "          qed    MolWt  HeavyAtomMolWt  ExactMolWt  NumValenceElectrons  \\\n",
       "0    0.825546  204.229         192.133  204.089878                 78.0   \n",
       "1    0.249061  494.720         448.352  494.350843                198.0   \n",
       "2    0.249396  446.547         416.307  446.220557                172.0   \n",
       "3    0.142426  540.661         500.341  540.294785                212.0   \n",
       "4    0.285460  338.433         316.257  338.141262                126.0   \n",
       "..        ...      ...             ...         ...                  ...   \n",
       "766  0.199201  464.636         428.348  464.256960                178.0   \n",
       "767  0.592558  290.298         275.178  290.117904                110.0   \n",
       "768  0.597350  323.274         311.178  323.088161                120.0   \n",
       "769  0.193074  396.447         372.255  396.179755                152.0   \n",
       "770  0.111965  462.514         436.306  462.212787                176.0   \n",
       "\n",
       "     NumRadicalElectrons  ...  fr_sulfide  fr_sulfonamd  fr_sulfone  \\\n",
       "0                    0.0  ...         0.0           0.0         0.0   \n",
       "1                    0.0  ...         0.0           0.0         0.0   \n",
       "2                    0.0  ...         0.0           0.0         0.0   \n",
       "3                    0.0  ...         0.0           0.0         0.0   \n",
       "4                    0.0  ...         0.0           0.0         0.0   \n",
       "..                   ...  ...         ...           ...         ...   \n",
       "766                  0.0  ...         0.0           0.0         0.0   \n",
       "767                  0.0  ...         0.0           0.0         0.0   \n",
       "768                  0.0  ...         0.0           0.0         0.0   \n",
       "769                  0.0  ...         0.0           0.0         0.0   \n",
       "770                  0.0  ...         0.0           0.0         0.0   \n",
       "\n",
       "     fr_term_acetylene  fr_tetrazole  fr_thiazole  fr_thiocyan  fr_thiophene  \\\n",
       "0                  0.0           0.0          0.0          0.0           0.0   \n",
       "1                  0.0           0.0          0.0          0.0           0.0   \n",
       "2                  0.0           0.0          0.0          0.0           0.0   \n",
       "3                  0.0           0.0          0.0          0.0           0.0   \n",
       "4                  0.0           0.0          1.0          0.0           0.0   \n",
       "..                 ...           ...          ...          ...           ...   \n",
       "766                0.0           0.0          1.0          0.0           0.0   \n",
       "767                0.0           0.0          0.0          0.0           0.0   \n",
       "768                0.0           0.0          0.0          0.0           0.0   \n",
       "769                0.0           0.0          0.0          0.0           0.0   \n",
       "770                0.0           0.0          0.0          0.0           0.0   \n",
       "\n",
       "     fr_unbrch_alkane  fr_urea  \n",
       "0                 0.0      0.0  \n",
       "1                 1.0      0.0  \n",
       "2                 0.0      0.0  \n",
       "3                 2.0      0.0  \n",
       "4                 1.0      0.0  \n",
       "..                ...      ...  \n",
       "766               4.0      0.0  \n",
       "767               0.0      0.0  \n",
       "768               0.0      0.0  \n",
       "769               3.0      0.0  \n",
       "770               3.0      0.0  \n",
       "\n",
       "[771 rows x 197 columns]"
      ]
     },
     "execution_count": 60,
     "metadata": {},
     "output_type": "execute_result"
    }
   ],
   "source": [
    "df_RDKit_2D_ts = pd.DataFrame(x_ts,columns=header)\n",
    "df_RDKit_2D_ts=df_RDKit_2D_ts.dropna(axis=1)\n",
    "df_RDKit_2D_ts"
   ]
  },
  {
   "cell_type": "code",
   "execution_count": 61,
   "metadata": {},
   "outputs": [],
   "source": [
    "x_ts= df_RDKit_2D_ts.to_numpy ()"
   ]
  },
  {
   "cell_type": "code",
   "execution_count": 62,
   "metadata": {},
   "outputs": [],
   "source": [
    "x_ts = Scaler.transform(x_ts)"
   ]
  },
  {
   "cell_type": "code",
   "execution_count": 21,
   "metadata": {},
   "outputs": [],
   "source": [
    "# x_tr = np.array(x_tr, dtype=np.float32)\n",
    "# y_tr = np.array(y_tr, dtype=np.float32)"
   ]
  },
  {
   "cell_type": "markdown",
   "metadata": {},
   "source": [
    " ## GradientBoostingRegressor model building and validation"
   ]
  },
  {
   "cell_type": "code",
   "execution_count": 46,
   "metadata": {},
   "outputs": [],
   "source": [
    "seed = 42"
   ]
  },
  {
   "cell_type": "code",
   "execution_count": 47,
   "metadata": {},
   "outputs": [],
   "source": [
    "cv=KFold(n_splits=5, random_state=seed, shuffle=True)"
   ]
  },
  {
   "cell_type": "code",
   "execution_count": 48,
   "metadata": {},
   "outputs": [],
   "source": [
    "param_grid = {'learning_rate': [0.02,0.05],\n",
    "                  'subsample'    : [0.9, 0.5, 0.1],\n",
    "                  'n_estimators' : [100,500,1000],\n",
    "                  'max_depth'    : [4, 10]\n",
    "                 }"
   ]
  },
  {
   "cell_type": "code",
   "execution_count": 49,
   "metadata": {},
   "outputs": [],
   "source": [
    "m = GridSearchCV(GradientBoostingRegressor(), param_grid, n_jobs=-1, cv=cv, verbose=1)"
   ]
  },
  {
   "cell_type": "code",
   "execution_count": 50,
   "metadata": {},
   "outputs": [
    {
     "name": "stdout",
     "output_type": "stream",
     "text": [
      "Fitting 5 folds for each of 36 candidates, totalling 180 fits\n"
     ]
    },
    {
     "data": {
      "text/html": [
       "<style>#sk-container-id-1 {color: black;}#sk-container-id-1 pre{padding: 0;}#sk-container-id-1 div.sk-toggleable {background-color: white;}#sk-container-id-1 label.sk-toggleable__label {cursor: pointer;display: block;width: 100%;margin-bottom: 0;padding: 0.3em;box-sizing: border-box;text-align: center;}#sk-container-id-1 label.sk-toggleable__label-arrow:before {content: \"▸\";float: left;margin-right: 0.25em;color: #696969;}#sk-container-id-1 label.sk-toggleable__label-arrow:hover:before {color: black;}#sk-container-id-1 div.sk-estimator:hover label.sk-toggleable__label-arrow:before {color: black;}#sk-container-id-1 div.sk-toggleable__content {max-height: 0;max-width: 0;overflow: hidden;text-align: left;background-color: #f0f8ff;}#sk-container-id-1 div.sk-toggleable__content pre {margin: 0.2em;color: black;border-radius: 0.25em;background-color: #f0f8ff;}#sk-container-id-1 input.sk-toggleable__control:checked~div.sk-toggleable__content {max-height: 200px;max-width: 100%;overflow: auto;}#sk-container-id-1 input.sk-toggleable__control:checked~label.sk-toggleable__label-arrow:before {content: \"▾\";}#sk-container-id-1 div.sk-estimator input.sk-toggleable__control:checked~label.sk-toggleable__label {background-color: #d4ebff;}#sk-container-id-1 div.sk-label input.sk-toggleable__control:checked~label.sk-toggleable__label {background-color: #d4ebff;}#sk-container-id-1 input.sk-hidden--visually {border: 0;clip: rect(1px 1px 1px 1px);clip: rect(1px, 1px, 1px, 1px);height: 1px;margin: -1px;overflow: hidden;padding: 0;position: absolute;width: 1px;}#sk-container-id-1 div.sk-estimator {font-family: monospace;background-color: #f0f8ff;border: 1px dotted black;border-radius: 0.25em;box-sizing: border-box;margin-bottom: 0.5em;}#sk-container-id-1 div.sk-estimator:hover {background-color: #d4ebff;}#sk-container-id-1 div.sk-parallel-item::after {content: \"\";width: 100%;border-bottom: 1px solid gray;flex-grow: 1;}#sk-container-id-1 div.sk-label:hover label.sk-toggleable__label {background-color: #d4ebff;}#sk-container-id-1 div.sk-serial::before {content: \"\";position: absolute;border-left: 1px solid gray;box-sizing: border-box;top: 0;bottom: 0;left: 50%;z-index: 0;}#sk-container-id-1 div.sk-serial {display: flex;flex-direction: column;align-items: center;background-color: white;padding-right: 0.2em;padding-left: 0.2em;position: relative;}#sk-container-id-1 div.sk-item {position: relative;z-index: 1;}#sk-container-id-1 div.sk-parallel {display: flex;align-items: stretch;justify-content: center;background-color: white;position: relative;}#sk-container-id-1 div.sk-item::before, #sk-container-id-1 div.sk-parallel-item::before {content: \"\";position: absolute;border-left: 1px solid gray;box-sizing: border-box;top: 0;bottom: 0;left: 50%;z-index: -1;}#sk-container-id-1 div.sk-parallel-item {display: flex;flex-direction: column;z-index: 1;position: relative;background-color: white;}#sk-container-id-1 div.sk-parallel-item:first-child::after {align-self: flex-end;width: 50%;}#sk-container-id-1 div.sk-parallel-item:last-child::after {align-self: flex-start;width: 50%;}#sk-container-id-1 div.sk-parallel-item:only-child::after {width: 0;}#sk-container-id-1 div.sk-dashed-wrapped {border: 1px dashed gray;margin: 0 0.4em 0.5em 0.4em;box-sizing: border-box;padding-bottom: 0.4em;background-color: white;}#sk-container-id-1 div.sk-label label {font-family: monospace;font-weight: bold;display: inline-block;line-height: 1.2em;}#sk-container-id-1 div.sk-label-container {text-align: center;}#sk-container-id-1 div.sk-container {/* jupyter's `normalize.less` sets `[hidden] { display: none; }` but bootstrap.min.css set `[hidden] { display: none !important; }` so we also need the `!important` here to be able to override the default hidden behavior on the sphinx rendered scikit-learn.org. See: https://github.com/scikit-learn/scikit-learn/issues/21755 */display: inline-block !important;position: relative;}#sk-container-id-1 div.sk-text-repr-fallback {display: none;}</style><div id=\"sk-container-id-1\" class=\"sk-top-container\"><div class=\"sk-text-repr-fallback\"><pre>GridSearchCV(cv=KFold(n_splits=5, random_state=42, shuffle=True),\n",
       "             estimator=GradientBoostingRegressor(), n_jobs=-1,\n",
       "             param_grid={&#x27;learning_rate&#x27;: [0.02, 0.05], &#x27;max_depth&#x27;: [4, 10],\n",
       "                         &#x27;n_estimators&#x27;: [100, 500, 1000],\n",
       "                         &#x27;subsample&#x27;: [0.9, 0.5, 0.1]},\n",
       "             verbose=1)</pre><b>In a Jupyter environment, please rerun this cell to show the HTML representation or trust the notebook. <br />On GitHub, the HTML representation is unable to render, please try loading this page with nbviewer.org.</b></div><div class=\"sk-container\" hidden><div class=\"sk-item sk-dashed-wrapped\"><div class=\"sk-label-container\"><div class=\"sk-label sk-toggleable\"><input class=\"sk-toggleable__control sk-hidden--visually\" id=\"sk-estimator-id-1\" type=\"checkbox\" ><label for=\"sk-estimator-id-1\" class=\"sk-toggleable__label sk-toggleable__label-arrow\">GridSearchCV</label><div class=\"sk-toggleable__content\"><pre>GridSearchCV(cv=KFold(n_splits=5, random_state=42, shuffle=True),\n",
       "             estimator=GradientBoostingRegressor(), n_jobs=-1,\n",
       "             param_grid={&#x27;learning_rate&#x27;: [0.02, 0.05], &#x27;max_depth&#x27;: [4, 10],\n",
       "                         &#x27;n_estimators&#x27;: [100, 500, 1000],\n",
       "                         &#x27;subsample&#x27;: [0.9, 0.5, 0.1]},\n",
       "             verbose=1)</pre></div></div></div><div class=\"sk-parallel\"><div class=\"sk-parallel-item\"><div class=\"sk-item\"><div class=\"sk-label-container\"><div class=\"sk-label sk-toggleable\"><input class=\"sk-toggleable__control sk-hidden--visually\" id=\"sk-estimator-id-2\" type=\"checkbox\" ><label for=\"sk-estimator-id-2\" class=\"sk-toggleable__label sk-toggleable__label-arrow\">estimator: GradientBoostingRegressor</label><div class=\"sk-toggleable__content\"><pre>GradientBoostingRegressor()</pre></div></div></div><div class=\"sk-serial\"><div class=\"sk-item\"><div class=\"sk-estimator sk-toggleable\"><input class=\"sk-toggleable__control sk-hidden--visually\" id=\"sk-estimator-id-3\" type=\"checkbox\" ><label for=\"sk-estimator-id-3\" class=\"sk-toggleable__label sk-toggleable__label-arrow\">GradientBoostingRegressor</label><div class=\"sk-toggleable__content\"><pre>GradientBoostingRegressor()</pre></div></div></div></div></div></div></div></div></div></div>"
      ],
      "text/plain": [
       "GridSearchCV(cv=KFold(n_splits=5, random_state=42, shuffle=True),\n",
       "             estimator=GradientBoostingRegressor(), n_jobs=-1,\n",
       "             param_grid={'learning_rate': [0.02, 0.05], 'max_depth': [4, 10],\n",
       "                         'n_estimators': [100, 500, 1000],\n",
       "                         'subsample': [0.9, 0.5, 0.1]},\n",
       "             verbose=1)"
      ]
     },
     "execution_count": 50,
     "metadata": {},
     "output_type": "execute_result"
    }
   ],
   "source": [
    "m.fit(x_tr, y_tr)"
   ]
  },
  {
   "cell_type": "code",
   "execution_count": 51,
   "metadata": {},
   "outputs": [],
   "source": [
    "best_GBR = m.best_estimator_"
   ]
  },
  {
   "cell_type": "code",
   "execution_count": 52,
   "metadata": {},
   "outputs": [
    {
     "data": {
      "text/plain": [
       "{'learning_rate': 0.02, 'max_depth': 10, 'n_estimators': 500, 'subsample': 0.5}"
      ]
     },
     "execution_count": 52,
     "metadata": {},
     "output_type": "execute_result"
    }
   ],
   "source": [
    "m.best_params_"
   ]
  },
  {
   "cell_type": "code",
   "execution_count": 53,
   "metadata": {},
   "outputs": [],
   "source": [
    "y_pred_ws_GBR = best_GBR.predict(x_tr)"
   ]
  },
  {
   "cell_type": "code",
   "execution_count": 54,
   "metadata": {},
   "outputs": [
    {
     "data": {
      "text/plain": [
       "0.99"
      ]
     },
     "execution_count": 54,
     "metadata": {},
     "output_type": "execute_result"
    }
   ],
   "source": [
    "R2_WS = round(r2_score(y_tr, y_pred_ws_GBR), 2)\n",
    "R2_WS"
   ]
  },
  {
   "cell_type": "code",
   "execution_count": 55,
   "metadata": {},
   "outputs": [
    {
     "data": {
      "text/plain": [
       "0.26"
      ]
     },
     "execution_count": 55,
     "metadata": {},
     "output_type": "execute_result"
    }
   ],
   "source": [
    "RMSE_WS=round(np.sqrt(mean_absolute_error(y_tr, y_pred_ws_GBR)), 2)\n",
    "RMSE_WS"
   ]
  },
  {
   "cell_type": "code",
   "execution_count": 56,
   "metadata": {},
   "outputs": [],
   "source": [
    "y_pred_CV_GBR = cross_val_predict(best_GBR, x_tr, y_tr, cv=cv)"
   ]
  },
  {
   "cell_type": "code",
   "execution_count": 57,
   "metadata": {},
   "outputs": [
    {
     "data": {
      "text/plain": [
       "array([5.06306428, 5.78054748, 4.9727082 , ..., 7.21720912, 7.9145829 ,\n",
       "       7.03274436])"
      ]
     },
     "execution_count": 57,
     "metadata": {},
     "output_type": "execute_result"
    }
   ],
   "source": [
    "y_pred_CV_GBR"
   ]
  },
  {
   "cell_type": "code",
   "execution_count": 58,
   "metadata": {},
   "outputs": [
    {
     "data": {
      "text/plain": [
       "0.62"
      ]
     },
     "execution_count": 58,
     "metadata": {},
     "output_type": "execute_result"
    }
   ],
   "source": [
    "Q2_CV = round(r2_score(y_tr, y_pred_CV_GBR), 2)\n",
    "Q2_CV"
   ]
  },
  {
   "cell_type": "code",
   "execution_count": 59,
   "metadata": {},
   "outputs": [
    {
     "data": {
      "text/plain": [
       "0.7"
      ]
     },
     "execution_count": 59,
     "metadata": {},
     "output_type": "execute_result"
    }
   ],
   "source": [
    "RMSE_CV=round(np.sqrt(mean_absolute_error(y_tr, y_pred_CV_GBR)), 2)\n",
    "RMSE_CV"
   ]
  },
  {
   "cell_type": "markdown",
   "metadata": {},
   "source": [
    "# 9. Prediction for test set's molecules"
   ]
  },
  {
   "cell_type": "code",
   "execution_count": 65,
   "metadata": {},
   "outputs": [
    {
     "data": {
      "text/plain": [
       "771"
      ]
     },
     "execution_count": 65,
     "metadata": {},
     "output_type": "execute_result"
    }
   ],
   "source": [
    "x_ts = np.array(x_ts, dtype=np.float32)\n",
    "y_ts = np.array(y_ts, dtype=np.float32)\n",
    "len(y_ts)"
   ]
  },
  {
   "cell_type": "code",
   "execution_count": 66,
   "metadata": {},
   "outputs": [],
   "source": [
    "y_pred_GBR = best_GBR.predict(x_ts)"
   ]
  },
  {
   "cell_type": "code",
   "execution_count": 67,
   "metadata": {},
   "outputs": [
    {
     "data": {
      "text/plain": [
       "0.66"
      ]
     },
     "execution_count": 67,
     "metadata": {},
     "output_type": "execute_result"
    }
   ],
   "source": [
    "Q2_TS = round(r2_score(y_ts, y_pred_GBR), 2)\n",
    "Q2_TS"
   ]
  },
  {
   "cell_type": "code",
   "execution_count": 68,
   "metadata": {},
   "outputs": [
    {
     "data": {
      "text/plain": [
       "0.68"
      ]
     },
     "execution_count": 68,
     "metadata": {},
     "output_type": "execute_result"
    }
   ],
   "source": [
    "RMSE_TS=round(np.sqrt(mean_absolute_error(y_ts, y_pred_GBR)), 2)\n",
    "RMSE_TS"
   ]
  },
  {
   "cell_type": "markdown",
   "metadata": {},
   "source": [
    "# save the model to disk"
   ]
  },
  {
   "cell_type": "code",
   "execution_count": 69,
   "metadata": {},
   "outputs": [],
   "source": [
    "pickle.dump(best_GBR, open('Models/RDKiT/HDAC6_GBR_RDKiT.pkl', 'wb'))"
   ]
  },
  {
   "cell_type": "markdown",
   "metadata": {},
   "source": [
    "# load the model from disk"
   ]
  },
  {
   "cell_type": "code",
   "execution_count": 20,
   "metadata": {},
   "outputs": [],
   "source": [
    "best_GBR = pickle.load(open('Models/RDKiT/HDAC6_GBR_RDKiT.pkl', 'rb'))"
   ]
  },
  {
   "cell_type": "markdown",
   "metadata": {},
   "source": [
    "# 10. Y-randomization GradientBoostingRegressor model"
   ]
  },
  {
   "cell_type": "code",
   "execution_count": 70,
   "metadata": {},
   "outputs": [
    {
     "name": "stderr",
     "output_type": "stream",
     "text": [
      "[Parallel(n_jobs=-1)]: Using backend LokyBackend with 16 concurrent workers.\n",
      "[Parallel(n_jobs=-1)]: Done  18 tasks      | elapsed: 28.3min\n"
     ]
    },
    {
     "name": "stdout",
     "output_type": "stream",
     "text": [
      "True score =  0.62 \n",
      "Y-randomization =  -0.2 \n",
      "p-value =  0.0196\n"
     ]
    },
    {
     "name": "stderr",
     "output_type": "stream",
     "text": [
      "[Parallel(n_jobs=-1)]: Done  50 out of  50 | elapsed: 51.7min finished\n"
     ]
    }
   ],
   "source": [
    "permutations = 50\n",
    "score, permutation_scores, pvalue = permutation_test_score(best_GBR, x_tr, y_tr,\n",
    "                                                           cv=cv, scoring='r2',\n",
    "                                                           n_permutations=permutations,\n",
    "                                                           n_jobs=-1,\n",
    "                                                           verbose=1,\n",
    "                                                           random_state=seed)\n",
    "print('True score = ', score.round(2),\n",
    "      '\\nY-randomization = ', np.mean(permutation_scores).round(2),\n",
    "      '\\np-value = ', pvalue.round(4))"
   ]
  },
  {
   "cell_type": "markdown",
   "metadata": {},
   "source": [
    "# 11. Estimating applicability domain. Method - Euclidian distances, K=1"
   ]
  },
  {
   "cell_type": "code",
   "execution_count": 71,
   "metadata": {},
   "outputs": [],
   "source": [
    "neighbors_k= pairwise_distances(x_tr, n_jobs=-1)\n",
    "neighbors_k.sort(0)"
   ]
  },
  {
   "cell_type": "code",
   "execution_count": 72,
   "metadata": {},
   "outputs": [
    {
     "data": {
      "text/html": [
       "<div>\n",
       "<style scoped>\n",
       "    .dataframe tbody tr th:only-of-type {\n",
       "        vertical-align: middle;\n",
       "    }\n",
       "\n",
       "    .dataframe tbody tr th {\n",
       "        vertical-align: top;\n",
       "    }\n",
       "\n",
       "    .dataframe thead th {\n",
       "        text-align: right;\n",
       "    }\n",
       "</style>\n",
       "<table border=\"1\" class=\"dataframe\">\n",
       "  <thead>\n",
       "    <tr style=\"text-align: right;\">\n",
       "      <th></th>\n",
       "      <th>0</th>\n",
       "      <th>1</th>\n",
       "      <th>2</th>\n",
       "      <th>3</th>\n",
       "      <th>4</th>\n",
       "      <th>5</th>\n",
       "      <th>6</th>\n",
       "      <th>7</th>\n",
       "      <th>8</th>\n",
       "      <th>9</th>\n",
       "      <th>...</th>\n",
       "      <th>3073</th>\n",
       "      <th>3074</th>\n",
       "      <th>3075</th>\n",
       "      <th>3076</th>\n",
       "      <th>3077</th>\n",
       "      <th>3078</th>\n",
       "      <th>3079</th>\n",
       "      <th>3080</th>\n",
       "      <th>3081</th>\n",
       "      <th>3082</th>\n",
       "    </tr>\n",
       "  </thead>\n",
       "  <tbody>\n",
       "    <tr>\n",
       "      <th>0</th>\n",
       "      <td>0.000000</td>\n",
       "      <td>0.000000</td>\n",
       "      <td>0.000000</td>\n",
       "      <td>0.000000</td>\n",
       "      <td>0.000000</td>\n",
       "      <td>0.000000</td>\n",
       "      <td>0.000000</td>\n",
       "      <td>0.000000</td>\n",
       "      <td>0.000000</td>\n",
       "      <td>0.000000</td>\n",
       "      <td>...</td>\n",
       "      <td>0.000000</td>\n",
       "      <td>0.000000</td>\n",
       "      <td>0.000000</td>\n",
       "      <td>0.000000</td>\n",
       "      <td>0.000000</td>\n",
       "      <td>0.000000</td>\n",
       "      <td>0.000000</td>\n",
       "      <td>0.000000</td>\n",
       "      <td>0.000000</td>\n",
       "      <td>0.000000</td>\n",
       "    </tr>\n",
       "    <tr>\n",
       "      <th>1</th>\n",
       "      <td>2.900746</td>\n",
       "      <td>7.490754</td>\n",
       "      <td>4.863770</td>\n",
       "      <td>4.216553</td>\n",
       "      <td>17.930071</td>\n",
       "      <td>5.799908</td>\n",
       "      <td>12.561265</td>\n",
       "      <td>5.479323</td>\n",
       "      <td>7.492609</td>\n",
       "      <td>7.368469</td>\n",
       "      <td>...</td>\n",
       "      <td>4.920030</td>\n",
       "      <td>4.072734</td>\n",
       "      <td>4.076962</td>\n",
       "      <td>5.708168</td>\n",
       "      <td>0.658189</td>\n",
       "      <td>4.072734</td>\n",
       "      <td>4.407693</td>\n",
       "      <td>4.652277</td>\n",
       "      <td>3.443594</td>\n",
       "      <td>4.879563</td>\n",
       "    </tr>\n",
       "    <tr>\n",
       "      <th>2</th>\n",
       "      <td>7.109359</td>\n",
       "      <td>8.714100</td>\n",
       "      <td>6.138494</td>\n",
       "      <td>4.775836</td>\n",
       "      <td>17.975319</td>\n",
       "      <td>10.456244</td>\n",
       "      <td>13.250570</td>\n",
       "      <td>5.497795</td>\n",
       "      <td>7.601954</td>\n",
       "      <td>7.723112</td>\n",
       "      <td>...</td>\n",
       "      <td>5.171291</td>\n",
       "      <td>5.859728</td>\n",
       "      <td>4.348377</td>\n",
       "      <td>6.024628</td>\n",
       "      <td>0.988269</td>\n",
       "      <td>5.060231</td>\n",
       "      <td>5.224220</td>\n",
       "      <td>6.131215</td>\n",
       "      <td>4.407693</td>\n",
       "      <td>4.903584</td>\n",
       "    </tr>\n",
       "    <tr>\n",
       "      <th>3</th>\n",
       "      <td>8.137948</td>\n",
       "      <td>9.820561</td>\n",
       "      <td>6.308079</td>\n",
       "      <td>4.847588</td>\n",
       "      <td>18.707183</td>\n",
       "      <td>10.577019</td>\n",
       "      <td>13.336941</td>\n",
       "      <td>5.805781</td>\n",
       "      <td>7.664309</td>\n",
       "      <td>7.915602</td>\n",
       "      <td>...</td>\n",
       "      <td>6.813833</td>\n",
       "      <td>6.497852</td>\n",
       "      <td>4.839753</td>\n",
       "      <td>6.250507</td>\n",
       "      <td>1.010266</td>\n",
       "      <td>5.063000</td>\n",
       "      <td>5.662558</td>\n",
       "      <td>6.684642</td>\n",
       "      <td>4.833030</td>\n",
       "      <td>5.560298</td>\n",
       "    </tr>\n",
       "    <tr>\n",
       "      <th>4</th>\n",
       "      <td>9.989728</td>\n",
       "      <td>9.854204</td>\n",
       "      <td>7.085804</td>\n",
       "      <td>4.960749</td>\n",
       "      <td>18.861733</td>\n",
       "      <td>10.596407</td>\n",
       "      <td>13.549530</td>\n",
       "      <td>5.840825</td>\n",
       "      <td>9.903273</td>\n",
       "      <td>7.977096</td>\n",
       "      <td>...</td>\n",
       "      <td>7.405154</td>\n",
       "      <td>6.540346</td>\n",
       "      <td>5.370556</td>\n",
       "      <td>6.365888</td>\n",
       "      <td>1.255771</td>\n",
       "      <td>5.138347</td>\n",
       "      <td>6.034671</td>\n",
       "      <td>6.959352</td>\n",
       "      <td>4.916375</td>\n",
       "      <td>5.952220</td>\n",
       "    </tr>\n",
       "    <tr>\n",
       "      <th>...</th>\n",
       "      <td>...</td>\n",
       "      <td>...</td>\n",
       "      <td>...</td>\n",
       "      <td>...</td>\n",
       "      <td>...</td>\n",
       "      <td>...</td>\n",
       "      <td>...</td>\n",
       "      <td>...</td>\n",
       "      <td>...</td>\n",
       "      <td>...</td>\n",
       "      <td>...</td>\n",
       "      <td>...</td>\n",
       "      <td>...</td>\n",
       "      <td>...</td>\n",
       "      <td>...</td>\n",
       "      <td>...</td>\n",
       "      <td>...</td>\n",
       "      <td>...</td>\n",
       "      <td>...</td>\n",
       "      <td>...</td>\n",
       "      <td>...</td>\n",
       "    </tr>\n",
       "    <tr>\n",
       "      <th>3078</th>\n",
       "      <td>59.709452</td>\n",
       "      <td>57.090008</td>\n",
       "      <td>58.331396</td>\n",
       "      <td>58.048544</td>\n",
       "      <td>60.361909</td>\n",
       "      <td>59.614734</td>\n",
       "      <td>60.295796</td>\n",
       "      <td>56.343509</td>\n",
       "      <td>59.286559</td>\n",
       "      <td>57.215438</td>\n",
       "      <td>...</td>\n",
       "      <td>57.023795</td>\n",
       "      <td>58.033652</td>\n",
       "      <td>55.506057</td>\n",
       "      <td>57.839582</td>\n",
       "      <td>57.789266</td>\n",
       "      <td>57.883805</td>\n",
       "      <td>52.423024</td>\n",
       "      <td>58.245987</td>\n",
       "      <td>52.542843</td>\n",
       "      <td>58.314947</td>\n",
       "    </tr>\n",
       "    <tr>\n",
       "      <th>3079</th>\n",
       "      <td>64.622310</td>\n",
       "      <td>58.628856</td>\n",
       "      <td>61.113141</td>\n",
       "      <td>65.253094</td>\n",
       "      <td>66.739984</td>\n",
       "      <td>63.430776</td>\n",
       "      <td>64.864438</td>\n",
       "      <td>59.616123</td>\n",
       "      <td>60.062919</td>\n",
       "      <td>58.115876</td>\n",
       "      <td>...</td>\n",
       "      <td>58.553733</td>\n",
       "      <td>61.866145</td>\n",
       "      <td>58.377595</td>\n",
       "      <td>59.986568</td>\n",
       "      <td>61.820461</td>\n",
       "      <td>61.827141</td>\n",
       "      <td>59.121777</td>\n",
       "      <td>59.020775</td>\n",
       "      <td>59.263230</td>\n",
       "      <td>58.379989</td>\n",
       "    </tr>\n",
       "    <tr>\n",
       "      <th>3080</th>\n",
       "      <td>81.340502</td>\n",
       "      <td>75.280839</td>\n",
       "      <td>78.340686</td>\n",
       "      <td>82.818196</td>\n",
       "      <td>84.909101</td>\n",
       "      <td>80.951973</td>\n",
       "      <td>81.381164</td>\n",
       "      <td>74.253500</td>\n",
       "      <td>77.427874</td>\n",
       "      <td>74.428053</td>\n",
       "      <td>...</td>\n",
       "      <td>73.744194</td>\n",
       "      <td>78.953934</td>\n",
       "      <td>72.996767</td>\n",
       "      <td>77.820650</td>\n",
       "      <td>79.473150</td>\n",
       "      <td>79.284739</td>\n",
       "      <td>70.352530</td>\n",
       "      <td>76.791959</td>\n",
       "      <td>70.447545</td>\n",
       "      <td>76.546431</td>\n",
       "    </tr>\n",
       "    <tr>\n",
       "      <th>3081</th>\n",
       "      <td>85.425503</td>\n",
       "      <td>79.865417</td>\n",
       "      <td>82.594970</td>\n",
       "      <td>86.833621</td>\n",
       "      <td>88.959112</td>\n",
       "      <td>85.144143</td>\n",
       "      <td>85.474637</td>\n",
       "      <td>78.858671</td>\n",
       "      <td>81.937688</td>\n",
       "      <td>78.974006</td>\n",
       "      <td>...</td>\n",
       "      <td>78.352058</td>\n",
       "      <td>83.185009</td>\n",
       "      <td>77.640059</td>\n",
       "      <td>82.157241</td>\n",
       "      <td>83.693395</td>\n",
       "      <td>83.512267</td>\n",
       "      <td>75.306540</td>\n",
       "      <td>81.202237</td>\n",
       "      <td>75.398494</td>\n",
       "      <td>80.949962</td>\n",
       "    </tr>\n",
       "    <tr>\n",
       "      <th>3082</th>\n",
       "      <td>91.149249</td>\n",
       "      <td>85.866200</td>\n",
       "      <td>88.490808</td>\n",
       "      <td>92.468338</td>\n",
       "      <td>94.408915</td>\n",
       "      <td>90.835266</td>\n",
       "      <td>91.186773</td>\n",
       "      <td>84.945940</td>\n",
       "      <td>87.776896</td>\n",
       "      <td>85.073792</td>\n",
       "      <td>...</td>\n",
       "      <td>84.495804</td>\n",
       "      <td>89.025541</td>\n",
       "      <td>83.827650</td>\n",
       "      <td>88.046524</td>\n",
       "      <td>89.504177</td>\n",
       "      <td>89.325159</td>\n",
       "      <td>81.602623</td>\n",
       "      <td>87.151063</td>\n",
       "      <td>81.685047</td>\n",
       "      <td>86.930789</td>\n",
       "    </tr>\n",
       "  </tbody>\n",
       "</table>\n",
       "<p>3083 rows × 3083 columns</p>\n",
       "</div>"
      ],
      "text/plain": [
       "           0          1          2          3          4          5     \\\n",
       "0      0.000000   0.000000   0.000000   0.000000   0.000000   0.000000   \n",
       "1      2.900746   7.490754   4.863770   4.216553  17.930071   5.799908   \n",
       "2      7.109359   8.714100   6.138494   4.775836  17.975319  10.456244   \n",
       "3      8.137948   9.820561   6.308079   4.847588  18.707183  10.577019   \n",
       "4      9.989728   9.854204   7.085804   4.960749  18.861733  10.596407   \n",
       "...         ...        ...        ...        ...        ...        ...   \n",
       "3078  59.709452  57.090008  58.331396  58.048544  60.361909  59.614734   \n",
       "3079  64.622310  58.628856  61.113141  65.253094  66.739984  63.430776   \n",
       "3080  81.340502  75.280839  78.340686  82.818196  84.909101  80.951973   \n",
       "3081  85.425503  79.865417  82.594970  86.833621  88.959112  85.144143   \n",
       "3082  91.149249  85.866200  88.490808  92.468338  94.408915  90.835266   \n",
       "\n",
       "           6          7          8          9     ...       3073       3074  \\\n",
       "0      0.000000   0.000000   0.000000   0.000000  ...   0.000000   0.000000   \n",
       "1     12.561265   5.479323   7.492609   7.368469  ...   4.920030   4.072734   \n",
       "2     13.250570   5.497795   7.601954   7.723112  ...   5.171291   5.859728   \n",
       "3     13.336941   5.805781   7.664309   7.915602  ...   6.813833   6.497852   \n",
       "4     13.549530   5.840825   9.903273   7.977096  ...   7.405154   6.540346   \n",
       "...         ...        ...        ...        ...  ...        ...        ...   \n",
       "3078  60.295796  56.343509  59.286559  57.215438  ...  57.023795  58.033652   \n",
       "3079  64.864438  59.616123  60.062919  58.115876  ...  58.553733  61.866145   \n",
       "3080  81.381164  74.253500  77.427874  74.428053  ...  73.744194  78.953934   \n",
       "3081  85.474637  78.858671  81.937688  78.974006  ...  78.352058  83.185009   \n",
       "3082  91.186773  84.945940  87.776896  85.073792  ...  84.495804  89.025541   \n",
       "\n",
       "           3075       3076       3077       3078       3079       3080  \\\n",
       "0      0.000000   0.000000   0.000000   0.000000   0.000000   0.000000   \n",
       "1      4.076962   5.708168   0.658189   4.072734   4.407693   4.652277   \n",
       "2      4.348377   6.024628   0.988269   5.060231   5.224220   6.131215   \n",
       "3      4.839753   6.250507   1.010266   5.063000   5.662558   6.684642   \n",
       "4      5.370556   6.365888   1.255771   5.138347   6.034671   6.959352   \n",
       "...         ...        ...        ...        ...        ...        ...   \n",
       "3078  55.506057  57.839582  57.789266  57.883805  52.423024  58.245987   \n",
       "3079  58.377595  59.986568  61.820461  61.827141  59.121777  59.020775   \n",
       "3080  72.996767  77.820650  79.473150  79.284739  70.352530  76.791959   \n",
       "3081  77.640059  82.157241  83.693395  83.512267  75.306540  81.202237   \n",
       "3082  83.827650  88.046524  89.504177  89.325159  81.602623  87.151063   \n",
       "\n",
       "           3081       3082  \n",
       "0      0.000000   0.000000  \n",
       "1      3.443594   4.879563  \n",
       "2      4.407693   4.903584  \n",
       "3      4.833030   5.560298  \n",
       "4      4.916375   5.952220  \n",
       "...         ...        ...  \n",
       "3078  52.542843  58.314947  \n",
       "3079  59.263230  58.379989  \n",
       "3080  70.447545  76.546431  \n",
       "3081  75.398494  80.949962  \n",
       "3082  81.685047  86.930789  \n",
       "\n",
       "[3083 rows x 3083 columns]"
      ]
     },
     "execution_count": 72,
     "metadata": {},
     "output_type": "execute_result"
    }
   ],
   "source": [
    "df_tr=pd.DataFrame(neighbors_k)\n",
    "df_tr"
   ]
  },
  {
   "cell_type": "code",
   "execution_count": 73,
   "metadata": {},
   "outputs": [],
   "source": [
    "similarity= neighbors_k"
   ]
  },
  {
   "cell_type": "code",
   "execution_count": 74,
   "metadata": {},
   "outputs": [],
   "source": [
    "Dmean=np.mean(similarity[1,:])"
   ]
  },
  {
   "cell_type": "code",
   "execution_count": 75,
   "metadata": {},
   "outputs": [
    {
     "data": {
      "text/plain": [
       "3.81"
      ]
     },
     "execution_count": 75,
     "metadata": {},
     "output_type": "execute_result"
    }
   ],
   "source": [
    "round(Dmean, 2)"
   ]
  },
  {
   "cell_type": "code",
   "execution_count": 76,
   "metadata": {},
   "outputs": [],
   "source": [
    "std=np.std(similarity[1,:])"
   ]
  },
  {
   "cell_type": "code",
   "execution_count": 77,
   "metadata": {},
   "outputs": [
    {
     "data": {
      "text/plain": [
       "2.93"
      ]
     },
     "execution_count": 77,
     "metadata": {},
     "output_type": "execute_result"
    }
   ],
   "source": [
    "round(std, 2)"
   ]
  },
  {
   "cell_type": "code",
   "execution_count": 78,
   "metadata": {},
   "outputs": [
    {
     "name": "stdout",
     "output_type": "stream",
     "text": [
      "5.28\n"
     ]
    }
   ],
   "source": [
    "model_AD_limit=Dmean+std*0.5\n",
    "print(np.round(model_AD_limit, 2))"
   ]
  },
  {
   "cell_type": "code",
   "execution_count": 79,
   "metadata": {},
   "outputs": [],
   "source": [
    "neighbors_k_ts= pairwise_distances(x_tr,Y=x_ts, n_jobs=-1)\n",
    "neighbors_k_ts.sort(0)"
   ]
  },
  {
   "cell_type": "code",
   "execution_count": 80,
   "metadata": {},
   "outputs": [
    {
     "data": {
      "text/html": [
       "<div>\n",
       "<style scoped>\n",
       "    .dataframe tbody tr th:only-of-type {\n",
       "        vertical-align: middle;\n",
       "    }\n",
       "\n",
       "    .dataframe tbody tr th {\n",
       "        vertical-align: top;\n",
       "    }\n",
       "\n",
       "    .dataframe thead th {\n",
       "        text-align: right;\n",
       "    }\n",
       "</style>\n",
       "<table border=\"1\" class=\"dataframe\">\n",
       "  <thead>\n",
       "    <tr style=\"text-align: right;\">\n",
       "      <th></th>\n",
       "      <th>0</th>\n",
       "      <th>1</th>\n",
       "      <th>2</th>\n",
       "      <th>3</th>\n",
       "      <th>4</th>\n",
       "      <th>5</th>\n",
       "      <th>6</th>\n",
       "      <th>7</th>\n",
       "      <th>8</th>\n",
       "      <th>9</th>\n",
       "      <th>...</th>\n",
       "      <th>761</th>\n",
       "      <th>762</th>\n",
       "      <th>763</th>\n",
       "      <th>764</th>\n",
       "      <th>765</th>\n",
       "      <th>766</th>\n",
       "      <th>767</th>\n",
       "      <th>768</th>\n",
       "      <th>769</th>\n",
       "      <th>770</th>\n",
       "    </tr>\n",
       "  </thead>\n",
       "  <tbody>\n",
       "    <tr>\n",
       "      <th>0</th>\n",
       "      <td>5.562876</td>\n",
       "      <td>9.408307</td>\n",
       "      <td>2.476244</td>\n",
       "      <td>7.263118</td>\n",
       "      <td>5.282288</td>\n",
       "      <td>1.583892</td>\n",
       "      <td>4.525869</td>\n",
       "      <td>4.086624</td>\n",
       "      <td>1.226136</td>\n",
       "      <td>5.644353</td>\n",
       "      <td>...</td>\n",
       "      <td>3.599905</td>\n",
       "      <td>5.858725</td>\n",
       "      <td>2.397433</td>\n",
       "      <td>6.870954</td>\n",
       "      <td>0.624128</td>\n",
       "      <td>5.352804</td>\n",
       "      <td>4.178713</td>\n",
       "      <td>4.182506</td>\n",
       "      <td>2.802792</td>\n",
       "      <td>6.270563</td>\n",
       "    </tr>\n",
       "    <tr>\n",
       "      <th>1</th>\n",
       "      <td>6.275527</td>\n",
       "      <td>9.772277</td>\n",
       "      <td>3.742493</td>\n",
       "      <td>9.391857</td>\n",
       "      <td>5.966987</td>\n",
       "      <td>6.967967</td>\n",
       "      <td>4.654637</td>\n",
       "      <td>5.942024</td>\n",
       "      <td>1.366599</td>\n",
       "      <td>5.758951</td>\n",
       "      <td>...</td>\n",
       "      <td>4.647412</td>\n",
       "      <td>7.501709</td>\n",
       "      <td>2.406615</td>\n",
       "      <td>7.081888</td>\n",
       "      <td>1.123838</td>\n",
       "      <td>8.497024</td>\n",
       "      <td>4.706113</td>\n",
       "      <td>4.375260</td>\n",
       "      <td>6.100462</td>\n",
       "      <td>6.275194</td>\n",
       "    </tr>\n",
       "    <tr>\n",
       "      <th>2</th>\n",
       "      <td>9.078235</td>\n",
       "      <td>10.222067</td>\n",
       "      <td>5.327841</td>\n",
       "      <td>10.445792</td>\n",
       "      <td>6.363236</td>\n",
       "      <td>7.111340</td>\n",
       "      <td>4.662264</td>\n",
       "      <td>6.425875</td>\n",
       "      <td>2.359034</td>\n",
       "      <td>5.914622</td>\n",
       "      <td>...</td>\n",
       "      <td>4.780885</td>\n",
       "      <td>8.883466</td>\n",
       "      <td>3.993276</td>\n",
       "      <td>7.182392</td>\n",
       "      <td>1.419483</td>\n",
       "      <td>8.678516</td>\n",
       "      <td>5.038712</td>\n",
       "      <td>4.899669</td>\n",
       "      <td>6.551452</td>\n",
       "      <td>6.719943</td>\n",
       "    </tr>\n",
       "    <tr>\n",
       "      <th>3</th>\n",
       "      <td>9.173493</td>\n",
       "      <td>10.937669</td>\n",
       "      <td>5.398200</td>\n",
       "      <td>10.565662</td>\n",
       "      <td>6.781344</td>\n",
       "      <td>7.248561</td>\n",
       "      <td>4.665928</td>\n",
       "      <td>6.427113</td>\n",
       "      <td>8.193204</td>\n",
       "      <td>6.700883</td>\n",
       "      <td>...</td>\n",
       "      <td>4.980605</td>\n",
       "      <td>9.732865</td>\n",
       "      <td>4.486266</td>\n",
       "      <td>7.539695</td>\n",
       "      <td>1.828747</td>\n",
       "      <td>8.755605</td>\n",
       "      <td>6.219785</td>\n",
       "      <td>5.480123</td>\n",
       "      <td>6.700244</td>\n",
       "      <td>6.963034</td>\n",
       "    </tr>\n",
       "    <tr>\n",
       "      <th>4</th>\n",
       "      <td>10.453269</td>\n",
       "      <td>11.627252</td>\n",
       "      <td>8.801222</td>\n",
       "      <td>10.939350</td>\n",
       "      <td>6.816641</td>\n",
       "      <td>9.321835</td>\n",
       "      <td>4.682167</td>\n",
       "      <td>6.652034</td>\n",
       "      <td>9.358029</td>\n",
       "      <td>7.951190</td>\n",
       "      <td>...</td>\n",
       "      <td>5.120647</td>\n",
       "      <td>9.746281</td>\n",
       "      <td>6.545359</td>\n",
       "      <td>7.592781</td>\n",
       "      <td>2.017845</td>\n",
       "      <td>8.781171</td>\n",
       "      <td>6.347564</td>\n",
       "      <td>5.648499</td>\n",
       "      <td>6.784176</td>\n",
       "      <td>7.693971</td>\n",
       "    </tr>\n",
       "    <tr>\n",
       "      <th>...</th>\n",
       "      <td>...</td>\n",
       "      <td>...</td>\n",
       "      <td>...</td>\n",
       "      <td>...</td>\n",
       "      <td>...</td>\n",
       "      <td>...</td>\n",
       "      <td>...</td>\n",
       "      <td>...</td>\n",
       "      <td>...</td>\n",
       "      <td>...</td>\n",
       "      <td>...</td>\n",
       "      <td>...</td>\n",
       "      <td>...</td>\n",
       "      <td>...</td>\n",
       "      <td>...</td>\n",
       "      <td>...</td>\n",
       "      <td>...</td>\n",
       "      <td>...</td>\n",
       "      <td>...</td>\n",
       "      <td>...</td>\n",
       "      <td>...</td>\n",
       "    </tr>\n",
       "    <tr>\n",
       "      <th>3078</th>\n",
       "      <td>59.781460</td>\n",
       "      <td>56.179985</td>\n",
       "      <td>57.971633</td>\n",
       "      <td>52.362914</td>\n",
       "      <td>57.781897</td>\n",
       "      <td>58.591025</td>\n",
       "      <td>57.778069</td>\n",
       "      <td>51.572486</td>\n",
       "      <td>57.697751</td>\n",
       "      <td>57.476374</td>\n",
       "      <td>...</td>\n",
       "      <td>58.058852</td>\n",
       "      <td>59.868188</td>\n",
       "      <td>56.114015</td>\n",
       "      <td>54.404131</td>\n",
       "      <td>57.757386</td>\n",
       "      <td>54.564385</td>\n",
       "      <td>58.043730</td>\n",
       "      <td>58.252923</td>\n",
       "      <td>55.524112</td>\n",
       "      <td>54.207304</td>\n",
       "    </tr>\n",
       "    <tr>\n",
       "      <th>3079</th>\n",
       "      <td>67.205645</td>\n",
       "      <td>60.326141</td>\n",
       "      <td>58.778210</td>\n",
       "      <td>59.597604</td>\n",
       "      <td>59.279094</td>\n",
       "      <td>60.038208</td>\n",
       "      <td>62.331102</td>\n",
       "      <td>60.609191</td>\n",
       "      <td>58.992356</td>\n",
       "      <td>59.067913</td>\n",
       "      <td>...</td>\n",
       "      <td>61.397760</td>\n",
       "      <td>62.524080</td>\n",
       "      <td>59.718116</td>\n",
       "      <td>59.075142</td>\n",
       "      <td>61.826915</td>\n",
       "      <td>58.758203</td>\n",
       "      <td>62.399763</td>\n",
       "      <td>61.650949</td>\n",
       "      <td>58.134672</td>\n",
       "      <td>59.524069</td>\n",
       "    </tr>\n",
       "    <tr>\n",
       "      <th>3080</th>\n",
       "      <td>84.251754</td>\n",
       "      <td>74.074984</td>\n",
       "      <td>75.902602</td>\n",
       "      <td>70.851184</td>\n",
       "      <td>77.011702</td>\n",
       "      <td>75.895533</td>\n",
       "      <td>80.048812</td>\n",
       "      <td>71.155573</td>\n",
       "      <td>74.744390</td>\n",
       "      <td>74.372245</td>\n",
       "      <td>...</td>\n",
       "      <td>79.184990</td>\n",
       "      <td>79.435166</td>\n",
       "      <td>73.884777</td>\n",
       "      <td>73.209868</td>\n",
       "      <td>79.448739</td>\n",
       "      <td>72.676376</td>\n",
       "      <td>79.293186</td>\n",
       "      <td>78.995605</td>\n",
       "      <td>73.459662</td>\n",
       "      <td>71.604592</td>\n",
       "    </tr>\n",
       "    <tr>\n",
       "      <th>3081</th>\n",
       "      <td>88.179583</td>\n",
       "      <td>78.844858</td>\n",
       "      <td>80.434786</td>\n",
       "      <td>75.772136</td>\n",
       "      <td>81.400312</td>\n",
       "      <td>80.516987</td>\n",
       "      <td>84.226694</td>\n",
       "      <td>76.132504</td>\n",
       "      <td>79.301973</td>\n",
       "      <td>78.991110</td>\n",
       "      <td>...</td>\n",
       "      <td>83.416594</td>\n",
       "      <td>83.711997</td>\n",
       "      <td>78.526111</td>\n",
       "      <td>77.863150</td>\n",
       "      <td>83.664678</td>\n",
       "      <td>77.495521</td>\n",
       "      <td>83.496396</td>\n",
       "      <td>83.220802</td>\n",
       "      <td>78.117105</td>\n",
       "      <td>76.416846</td>\n",
       "    </tr>\n",
       "    <tr>\n",
       "      <th>3082</th>\n",
       "      <td>93.743079</td>\n",
       "      <td>84.865062</td>\n",
       "      <td>86.401957</td>\n",
       "      <td>82.038435</td>\n",
       "      <td>87.340941</td>\n",
       "      <td>86.439455</td>\n",
       "      <td>90.004414</td>\n",
       "      <td>82.334185</td>\n",
       "      <td>85.370318</td>\n",
       "      <td>85.059002</td>\n",
       "      <td>...</td>\n",
       "      <td>89.240581</td>\n",
       "      <td>89.492873</td>\n",
       "      <td>84.631042</td>\n",
       "      <td>84.030473</td>\n",
       "      <td>89.479914</td>\n",
       "      <td>83.620369</td>\n",
       "      <td>89.329503</td>\n",
       "      <td>89.061019</td>\n",
       "      <td>84.253133</td>\n",
       "      <td>82.659003</td>\n",
       "    </tr>\n",
       "  </tbody>\n",
       "</table>\n",
       "<p>3083 rows × 771 columns</p>\n",
       "</div>"
      ],
      "text/plain": [
       "            0          1          2          3          4          5    \\\n",
       "0      5.562876   9.408307   2.476244   7.263118   5.282288   1.583892   \n",
       "1      6.275527   9.772277   3.742493   9.391857   5.966987   6.967967   \n",
       "2      9.078235  10.222067   5.327841  10.445792   6.363236   7.111340   \n",
       "3      9.173493  10.937669   5.398200  10.565662   6.781344   7.248561   \n",
       "4     10.453269  11.627252   8.801222  10.939350   6.816641   9.321835   \n",
       "...         ...        ...        ...        ...        ...        ...   \n",
       "3078  59.781460  56.179985  57.971633  52.362914  57.781897  58.591025   \n",
       "3079  67.205645  60.326141  58.778210  59.597604  59.279094  60.038208   \n",
       "3080  84.251754  74.074984  75.902602  70.851184  77.011702  75.895533   \n",
       "3081  88.179583  78.844858  80.434786  75.772136  81.400312  80.516987   \n",
       "3082  93.743079  84.865062  86.401957  82.038435  87.340941  86.439455   \n",
       "\n",
       "            6          7          8          9    ...        761        762  \\\n",
       "0      4.525869   4.086624   1.226136   5.644353  ...   3.599905   5.858725   \n",
       "1      4.654637   5.942024   1.366599   5.758951  ...   4.647412   7.501709   \n",
       "2      4.662264   6.425875   2.359034   5.914622  ...   4.780885   8.883466   \n",
       "3      4.665928   6.427113   8.193204   6.700883  ...   4.980605   9.732865   \n",
       "4      4.682167   6.652034   9.358029   7.951190  ...   5.120647   9.746281   \n",
       "...         ...        ...        ...        ...  ...        ...        ...   \n",
       "3078  57.778069  51.572486  57.697751  57.476374  ...  58.058852  59.868188   \n",
       "3079  62.331102  60.609191  58.992356  59.067913  ...  61.397760  62.524080   \n",
       "3080  80.048812  71.155573  74.744390  74.372245  ...  79.184990  79.435166   \n",
       "3081  84.226694  76.132504  79.301973  78.991110  ...  83.416594  83.711997   \n",
       "3082  90.004414  82.334185  85.370318  85.059002  ...  89.240581  89.492873   \n",
       "\n",
       "            763        764        765        766        767        768  \\\n",
       "0      2.397433   6.870954   0.624128   5.352804   4.178713   4.182506   \n",
       "1      2.406615   7.081888   1.123838   8.497024   4.706113   4.375260   \n",
       "2      3.993276   7.182392   1.419483   8.678516   5.038712   4.899669   \n",
       "3      4.486266   7.539695   1.828747   8.755605   6.219785   5.480123   \n",
       "4      6.545359   7.592781   2.017845   8.781171   6.347564   5.648499   \n",
       "...         ...        ...        ...        ...        ...        ...   \n",
       "3078  56.114015  54.404131  57.757386  54.564385  58.043730  58.252923   \n",
       "3079  59.718116  59.075142  61.826915  58.758203  62.399763  61.650949   \n",
       "3080  73.884777  73.209868  79.448739  72.676376  79.293186  78.995605   \n",
       "3081  78.526111  77.863150  83.664678  77.495521  83.496396  83.220802   \n",
       "3082  84.631042  84.030473  89.479914  83.620369  89.329503  89.061019   \n",
       "\n",
       "            769        770  \n",
       "0      2.802792   6.270563  \n",
       "1      6.100462   6.275194  \n",
       "2      6.551452   6.719943  \n",
       "3      6.700244   6.963034  \n",
       "4      6.784176   7.693971  \n",
       "...         ...        ...  \n",
       "3078  55.524112  54.207304  \n",
       "3079  58.134672  59.524069  \n",
       "3080  73.459662  71.604592  \n",
       "3081  78.117105  76.416846  \n",
       "3082  84.253133  82.659003  \n",
       "\n",
       "[3083 rows x 771 columns]"
      ]
     },
     "execution_count": 80,
     "metadata": {},
     "output_type": "execute_result"
    }
   ],
   "source": [
    "x_ts_AD=pd.DataFrame(neighbors_k_ts)\n",
    "x_ts_AD"
   ]
  },
  {
   "cell_type": "code",
   "execution_count": 81,
   "metadata": {},
   "outputs": [
    {
     "name": "stdout",
     "output_type": "stream",
     "text": [
      "[5.56300e+00 9.40800e+00 2.47600e+00 7.26300e+00 5.28200e+00 1.58400e+00\n",
      " 4.52600e+00 4.08700e+00 1.22600e+00 5.64400e+00 3.68800e+00 2.49300e+00\n",
      " 1.16520e+01 5.60800e+00 1.98100e+00 2.12100e+00 1.44400e+00 5.20800e+00\n",
      " 1.76500e+00 4.26400e+00 1.88300e+00 6.91600e+00 9.43100e+00 4.68400e+00\n",
      " 1.49200e+01 2.24000e+00 2.77300e+00 7.36600e+00 1.96200e+00 4.84400e+00\n",
      " 2.91800e+00 6.29500e+00 4.33100e+00 9.20700e+00 4.91700e+00 3.02300e+00\n",
      " 4.15400e+00 5.92200e+00 5.15800e+00 4.62200e+00 7.16300e+00 3.86700e+00\n",
      " 3.04700e+00 1.13160e+01 1.32220e+01 2.01300e+00 3.88900e+00 1.92400e+00\n",
      " 3.34400e+00 3.48100e+00 4.09700e+00 1.64800e+00 7.86500e+00 1.32260e+01\n",
      " 5.01000e+00 2.94400e+00 3.82500e+00 4.52400e+00 1.37280e+01 2.89200e+00\n",
      " 1.03440e+01 2.26700e+00 3.71600e+00 5.77700e+00 6.72900e+00 6.57400e+00\n",
      " 3.56200e+00 1.62200e+00 1.30300e+00 3.93600e+00 3.38100e+00 2.17900e+00\n",
      " 1.41400e+00 8.35800e+00 1.30980e+01 2.54800e+00 7.36000e-01 6.53300e+00\n",
      " 1.25400e+01 3.85900e+00 3.29900e+00 5.27200e+00 6.54800e+00 2.23100e+00\n",
      " 9.87100e+00 4.43500e+00 8.76000e-01 1.68400e+00 2.50200e+00 1.24600e+00\n",
      " 2.04000e+00 7.20900e+00 4.00300e+00 7.79200e+00 2.53100e+00 6.57600e+00\n",
      " 5.60500e+00 2.03300e+00 1.58400e+00 8.19900e+00 1.50000e+00 9.63800e+00\n",
      " 1.31000e+00 5.48300e+00 1.06860e+01 2.97600e+00 3.17600e+00 3.20500e+00\n",
      " 1.52400e+00 2.46200e+00 1.68000e+00 4.17700e+00 3.25700e+00 4.66300e+00\n",
      " 5.59600e+00 1.22800e+00 3.85800e+00 1.65900e+00 3.62100e+00 1.52400e+00\n",
      " 3.26200e+00 2.49200e+00 1.40400e+00 4.04800e+00 3.31600e+00 3.76400e+00\n",
      " 1.89100e+00 2.31700e+00 1.23280e+01 1.20500e+00 1.13700e+01 1.17600e+00\n",
      " 3.48400e+00 4.37000e+00 7.14800e+00 1.30700e+00 4.26600e+00 5.20700e+00\n",
      " 1.44200e+00 2.73200e+00 3.51200e+00 4.90000e+00 2.21200e+00 3.92200e+00\n",
      " 4.46800e+00 6.13600e+00 1.32700e+00 1.54900e+00 5.56900e+00 4.79900e+00\n",
      " 4.24300e+00 1.28400e+00 6.52300e+00 7.11700e+00 4.85200e+00 2.09400e+00\n",
      " 1.28000e-01 5.69500e+00 3.19700e+00 1.38300e+00 4.58700e+00 1.89200e+00\n",
      " 4.66000e+00 2.28100e+00 1.76700e+00 1.35100e+00 2.82700e+00 6.75800e+00\n",
      " 1.06020e+01 1.95200e+00 1.41700e+00 5.56000e+00 1.05500e+00 3.15800e+00\n",
      " 1.33000e+00 1.29500e+00 2.88400e+00 7.67600e+00 2.57600e+00 5.15000e+00\n",
      " 1.85100e+00 1.68400e+00 2.31200e+00 2.54400e+00 1.73000e+00 1.95100e+00\n",
      " 4.86200e+00 2.07500e+00 8.70700e+00 4.70100e+00 4.69300e+00 5.07600e+00\n",
      " 2.98800e+00 1.93500e+00 5.24500e+00 1.60000e+00 2.05500e+00 4.96700e+00\n",
      " 2.53700e+00 2.88400e+00 1.24300e+00 9.40200e+00 1.24300e+00 1.17500e+00\n",
      " 1.21000e+00 4.95200e+00 2.01900e+00 3.82300e+00 2.32800e+00 6.90200e+00\n",
      " 2.59700e+00 1.45600e+00 6.03500e+00 7.44600e+00 3.84100e+00 2.83600e+00\n",
      " 7.18300e+00 4.57300e+00 4.50900e+00 1.21800e+00 9.79000e-01 2.70200e+00\n",
      " 4.13200e+00 1.17600e+00 4.45900e+00 1.25500e+00 1.06400e+00 7.53000e+00\n",
      " 3.95900e+00 7.48200e+00 3.49400e+00 3.69900e+00 1.89700e+00 1.64300e+00\n",
      " 3.31100e+00 6.12200e+00 4.15800e+00 2.66000e+00 4.30700e+00 1.60000e+00\n",
      " 1.87000e+00 4.42900e+00 6.33900e+00 1.24120e+01 4.46900e+00 1.79800e+00\n",
      " 7.96000e-01 8.23500e+00 1.22400e+00 1.10500e+00 8.29200e+00 1.20500e+00\n",
      " 1.61500e+00 2.10200e+00 1.25800e+00 5.37300e+00 1.31700e+00 1.17700e+00\n",
      " 3.14400e+00 1.94800e+00 7.01900e+00 2.13000e+00 2.41700e+00 3.92100e+00\n",
      " 1.39900e+00 9.16000e-01 1.85000e-01 5.78200e+00 4.24500e+00 5.61900e+00\n",
      " 2.31500e+00 4.36500e+00 4.23100e+00 3.33700e+00 1.14530e+01 4.97400e+00\n",
      " 9.41600e+00 5.39100e+00 1.39700e+00 7.38000e-01 2.00400e+00 1.46900e+00\n",
      " 2.79000e+00 4.00800e+00 2.12600e+00 4.76800e+00 1.56400e+00 2.97000e+00\n",
      " 5.51800e+00 1.65500e+00 1.34300e+00 4.07100e+00 2.70800e+00 2.81900e+00\n",
      " 1.16300e+00 4.83600e+00 2.00000e+00 2.83700e+00 1.75900e+00 1.97600e+00\n",
      " 1.45300e+00 4.96600e+00 5.66000e-01 1.93100e+00 3.88200e+00 3.89100e+00\n",
      " 2.27700e+00 4.98500e+00 2.77900e+00 1.80500e+00 8.66000e-01 3.41700e+00\n",
      " 6.43800e+00 2.35700e+00 2.03700e+00 3.25900e+00 1.26700e+00 1.53800e+00\n",
      " 4.47100e+00 5.06400e+00 7.06000e-01 1.48500e+00 6.58600e+00 4.70200e+00\n",
      " 6.34100e+00 1.63100e+00 7.51700e+00 4.48500e+00 3.40100e+00 4.12200e+00\n",
      " 3.82000e+00 4.50000e+00 1.49000e+00 7.67700e+00 9.72000e-01 5.37900e+00\n",
      " 4.91500e+00 1.12900e+00 1.34920e+01 4.73200e+00 1.41400e+00 2.44100e+00\n",
      " 2.28200e+00 4.62900e+00 1.35700e+00 2.38000e+00 1.48900e+00 5.07300e+00\n",
      " 2.54300e+00 5.07200e+00 9.90000e-01 5.93900e+00 9.43800e+00 7.40800e+00\n",
      " 2.56700e+00 8.06300e+00 1.73200e+00 3.49400e+00 3.84300e+00 3.04100e+00\n",
      " 5.23800e+00 8.10100e+00 9.44670e+01 4.43800e+00 2.65400e+00 9.14600e+00\n",
      " 8.64000e-01 2.86000e+00 4.79900e+00 2.35700e+00 2.32800e+00 3.64500e+00\n",
      " 9.58000e-01 6.25700e+00 3.39100e+00 2.03400e+00 1.76800e+00 6.06800e+00\n",
      " 1.77200e+00 3.51300e+00 2.62900e+00 8.42700e+00 5.79200e+00 1.79300e+00\n",
      " 1.94200e+00 4.35500e+00 1.81500e+00 1.88500e+00 1.59800e+00 4.45600e+00\n",
      " 5.55200e+00 6.51000e-01 3.33400e+00 4.11800e+00 1.62000e+00 2.53200e+00\n",
      " 2.28800e+00 2.44400e+00 7.05200e+00 2.48100e+00 2.69900e+00 1.31000e+00\n",
      " 5.69000e+00 2.67500e+00 6.09800e+00 6.02300e+00 5.26000e-01 7.05400e+00\n",
      " 4.49700e+00 2.70400e+00 1.75800e+00 4.48200e+00 1.70000e+00 4.01900e+00\n",
      " 1.88700e+00 2.79900e+00 7.29100e+00 3.67500e+00 2.32500e+00 6.32900e+00\n",
      " 2.53000e+00 1.41634e+02 4.11100e+00 4.70800e+00 1.90500e+00 2.30200e+00\n",
      " 3.94700e+00 1.48700e+00 4.03200e+00 2.92700e+00 3.97700e+00 3.21200e+00\n",
      " 2.67400e+00 4.41400e+00 5.19900e+00 3.57300e+00 1.65800e+00 3.97100e+00\n",
      " 3.39500e+00 4.59500e+00 4.77000e+00 4.86100e+00 6.07700e+00 2.59200e+00\n",
      " 4.55000e+00 1.75800e+00 3.94400e+00 7.07100e+00 2.66300e+00 1.46400e+00\n",
      " 4.40300e+00 1.36100e+00 4.71400e+00 5.26900e+00 5.62300e+00 7.49000e-01\n",
      " 5.11000e+00 8.57000e-01 8.06800e+00 1.22300e+00 1.49500e+00 2.22400e+00\n",
      " 1.44900e+00 7.36400e+00 2.04200e+00 5.22000e+00 1.32800e+00 4.94700e+00\n",
      " 9.45700e+00 4.77700e+00 9.13100e+00 1.68300e+00 7.94000e-01 3.64400e+00\n",
      " 1.59700e+00 3.54500e+00 3.33800e+00 5.27700e+00 1.39500e+00 4.24700e+00\n",
      " 8.00700e+00 4.59200e+00 1.73100e+00 4.73100e+00 4.29200e+00 2.86300e+00\n",
      " 3.73100e+00 4.58900e+00 5.11200e+00 3.54900e+00 1.21800e+00 2.84500e+00\n",
      " 2.99700e+00 4.56000e+00 1.40800e+00 8.19900e+00 5.48800e+00 1.61300e+00\n",
      " 7.55000e-01 3.00600e+00 1.26200e+00 1.25770e+01 3.61400e+00 1.79800e+00\n",
      " 1.43200e+00 5.55800e+00 1.31300e+00 2.24300e+00 3.40200e+00 2.64300e+00\n",
      " 3.95600e+00 5.43000e+00 1.43800e+00 1.03900e+00 6.84000e-01 2.79700e+00\n",
      " 4.32100e+00 3.76900e+00 3.92500e+00 1.27500e+00 4.98000e+00 2.75800e+00\n",
      " 5.83600e+00 6.15100e+00 4.33800e+00 6.59000e+00 1.77000e+00 8.70700e+00\n",
      " 2.13300e+00 3.35700e+00 5.71500e+00 5.71800e+00 3.22500e+00 6.22800e+00\n",
      " 9.38600e+00 1.15500e+00 1.05800e+00 9.40000e+00 5.70500e+00 3.63400e+00\n",
      " 3.21000e+00 4.10300e+00 3.75800e+00 1.65400e+00 1.41700e+00 3.34200e+00\n",
      " 3.46300e+00 3.95300e+00 1.60200e+00 1.06850e+01 1.43000e+00 4.77500e+00\n",
      " 8.38400e+00 3.22300e+00 4.02800e+00 3.74200e+00 7.59000e-01 5.66000e-01\n",
      " 4.95300e+00 2.92920e+01 1.50700e+00 9.93000e-01 1.19800e+00 1.50470e+01\n",
      " 1.63300e+00 4.00700e+00 1.43800e+00 1.35500e+00 2.70200e+00 6.62000e+00\n",
      " 6.92100e+00 1.80000e+00 1.13300e+00 7.34700e+00 3.88900e+00 4.77200e+00\n",
      " 2.19900e+00 1.31700e+00 4.08900e+00 1.49900e+00 1.09200e+00 1.20500e+00\n",
      " 2.07300e+00 3.92600e+00 5.64300e+00 1.20200e+00 1.16100e+00 4.97100e+00\n",
      " 1.15210e+01 2.01300e+00 3.59500e+00 1.52700e+01 1.22860e+01 2.29300e+00\n",
      " 5.74300e+00 6.23600e+00 1.48000e+00 2.03100e+00 1.86800e+00 4.54200e+00\n",
      " 8.54000e-01 2.30100e+00 1.99500e+00 2.55000e+00 4.40900e+00 2.55400e+00\n",
      " 2.42500e+00 1.11800e+00 1.67800e+00 2.75000e+00 1.94800e+00 4.12700e+00\n",
      " 3.46600e+00 2.64300e+00 1.11620e+01 8.06700e+00 4.37300e+00 1.35600e+00\n",
      " 9.48000e-01 6.33400e+00 8.88000e+00 4.40500e+00 6.26400e+00 1.34000e+00\n",
      " 4.50900e+00 1.70400e+00 1.38500e+00 1.33500e+00 3.22600e+00 4.86300e+00\n",
      " 8.47400e+00 5.17000e+00 1.66500e+00 1.24600e+00 4.86800e+00 1.17580e+01\n",
      " 2.70700e+00 1.71000e+00 2.30000e+00 1.39700e+00 2.73900e+00 1.10300e+00\n",
      " 9.75000e-01 5.22100e+00 2.66300e+00 2.80600e+00 3.24300e+00 6.63500e+00\n",
      " 8.72200e+00 3.59600e+00 5.34100e+00 3.04600e+00 1.68700e+00 5.63500e+00\n",
      " 1.76700e+00 1.11000e+00 3.53000e+00 2.87000e+00 1.33700e+00 5.09300e+00\n",
      " 3.09500e+00 5.15600e+00 6.29500e+00 3.44300e+00 1.10800e+00 3.70900e+00\n",
      " 1.39400e+00 2.10500e+00 4.16700e+00 7.52700e+00 2.76400e+00 5.09000e+00\n",
      " 2.56300e+00 1.68900e+00 2.34600e+00 6.92000e-01 6.13400e+00 6.16500e+00\n",
      " 5.40900e+00 3.38000e+00 3.80400e+00 2.47700e+00 8.50100e+00 3.18900e+00\n",
      " 9.44900e+00 4.10400e+00 4.94100e+00 1.86300e+00 3.62600e+00 1.13500e+00\n",
      " 3.88400e+00 1.68000e+00 4.79200e+00 8.21000e-01 1.17100e+00 6.90000e-01\n",
      " 1.40100e+00 7.07000e+00 4.17800e+00 9.89000e-01 1.80000e+00 1.77600e+00\n",
      " 2.55300e+00 1.18700e+00 1.64400e+00 1.36000e+00 5.51800e+00 2.90800e+00\n",
      " 2.44200e+00 3.59800e+00 1.35600e+00 3.32400e+00 9.93000e-01 3.33500e+00\n",
      " 4.89500e+00 8.95000e-01 1.91200e+00 2.52000e+00 4.15200e+00 1.13600e+00\n",
      " 8.70000e-01 1.12600e+00 4.12200e+00 2.73200e+00 1.12300e+00 2.11000e+00\n",
      " 3.85900e+00 1.52800e+00 1.46100e+00 4.13200e+00 1.29900e+00 3.80800e+00\n",
      " 7.41000e-01 4.79500e+00 3.93500e+00 6.22700e+00 6.44900e+00 1.66100e+00\n",
      " 9.06700e+00 7.98000e+00 4.93400e+00 2.35100e+00 1.37900e+00 1.43370e+01\n",
      " 5.89000e-01 1.41000e+00 3.98800e+00 4.22600e+00 4.23100e+00 4.98800e+00\n",
      " 2.63400e+00 1.20600e+00 4.94000e+00 5.59900e+00 5.85300e+00 2.96800e+00\n",
      " 5.37700e+00 3.25000e+00 9.90000e-01 5.00900e+00 4.91300e+00 3.60000e+00\n",
      " 5.85900e+00 2.39700e+00 6.87100e+00 6.24000e-01 5.35300e+00 4.17900e+00\n",
      " 4.18300e+00 2.80300e+00 6.27100e+00]\n"
     ]
    }
   ],
   "source": [
    "similarity_ts= neighbors_k_ts\n",
    "cpd_AD=similarity_ts[0,:]\n",
    "cpd_value = np.round(cpd_AD, 3)\n",
    "print(cpd_value)"
   ]
  },
  {
   "cell_type": "code",
   "execution_count": 82,
   "metadata": {},
   "outputs": [
    {
     "name": "stdout",
     "output_type": "stream",
     "text": [
      "[False False  True False False  True  True  True  True False  True  True\n",
      " False False  True  True  True  True  True  True  True False False  True\n",
      " False  True  True False  True  True  True False  True False  True  True\n",
      "  True False  True  True False  True  True False False  True  True  True\n",
      "  True  True  True  True False False  True  True  True  True False  True\n",
      " False  True  True False False False  True  True  True  True  True  True\n",
      "  True False False  True  True False False  True  True  True False  True\n",
      " False  True  True  True  True  True  True False  True False  True False\n",
      " False  True  True False  True False  True False False  True  True  True\n",
      "  True  True  True  True  True  True False  True  True  True  True  True\n",
      "  True  True  True  True  True  True  True  True False  True False  True\n",
      "  True  True False  True  True  True  True  True  True  True  True  True\n",
      "  True False  True  True False  True  True  True False False  True  True\n",
      "  True False  True  True  True  True  True  True  True  True  True False\n",
      " False  True  True False  True  True  True  True  True False  True  True\n",
      "  True  True  True  True  True  True  True  True False  True  True  True\n",
      "  True  True  True  True  True  True  True  True  True False  True  True\n",
      "  True  True  True  True  True False  True  True False False  True  True\n",
      " False  True  True  True  True  True  True  True  True  True  True False\n",
      "  True False  True  True  True  True  True False  True  True  True  True\n",
      "  True  True False False  True  True  True False  True  True False  True\n",
      "  True  True  True False  True  True  True  True False  True  True  True\n",
      "  True  True  True False  True False  True  True  True  True False  True\n",
      " False False  True  True  True  True  True  True  True  True  True  True\n",
      " False  True  True  True  True  True  True  True  True  True  True  True\n",
      "  True  True  True  True  True  True  True  True  True  True  True  True\n",
      " False  True  True  True  True  True  True  True  True  True False  True\n",
      " False  True False  True  True  True  True  True  True False  True False\n",
      "  True  True False  True  True  True  True  True  True  True  True  True\n",
      "  True  True  True False False False  True False  True  True  True  True\n",
      "  True False False  True  True False  True  True  True  True  True  True\n",
      "  True False  True  True  True False  True  True  True False False  True\n",
      "  True  True  True  True  True  True False  True  True  True  True  True\n",
      "  True  True False  True  True  True False  True False False  True False\n",
      "  True  True  True  True  True  True  True  True False  True  True False\n",
      "  True False  True  True  True  True  True  True  True  True  True  True\n",
      "  True  True  True  True  True  True  True  True  True  True False  True\n",
      "  True  True  True False  True  True  True  True  True  True False  True\n",
      "  True  True False  True  True  True  True False  True  True  True  True\n",
      " False  True False  True  True  True  True  True  True  True  True  True\n",
      " False  True  True  True  True  True  True  True  True  True  True  True\n",
      "  True  True  True False False  True  True  True  True False  True  True\n",
      "  True False  True  True  True  True  True False  True  True  True  True\n",
      "  True  True  True  True  True  True False False  True False  True False\n",
      "  True  True False False  True False False  True  True False False  True\n",
      "  True  True  True  True  True  True  True  True  True False  True  True\n",
      " False  True  True  True  True  True  True False  True  True  True False\n",
      "  True  True  True  True  True False False  True  True False  True  True\n",
      "  True  True  True  True  True  True  True  True False  True  True  True\n",
      " False  True  True False False  True False False  True  True  True  True\n",
      "  True  True  True  True  True  True  True  True  True  True  True  True\n",
      "  True  True False False  True  True  True False False  True False  True\n",
      "  True  True  True  True  True  True False  True  True  True  True False\n",
      "  True  True  True  True  True  True  True  True  True  True  True False\n",
      " False  True False  True  True False  True  True  True  True  True  True\n",
      "  True  True False  True  True  True  True  True  True False  True  True\n",
      "  True  True  True  True False False False  True  True  True False  True\n",
      " False  True  True  True  True  True  True  True  True  True  True  True\n",
      "  True False  True  True  True  True  True  True  True  True False  True\n",
      "  True  True  True  True  True  True  True  True  True  True  True  True\n",
      "  True  True  True  True  True  True  True  True  True  True  True  True\n",
      "  True  True  True False False  True False False  True  True  True False\n",
      "  True  True  True  True  True  True  True  True  True False False  True\n",
      " False  True  True  True  True  True False  True False  True False  True\n",
      "  True  True False]\n"
     ]
    }
   ],
   "source": [
    "cpd_AD = np.where(cpd_value <= model_AD_limit, True, False)\n",
    "print(cpd_AD)"
   ]
  },
  {
   "cell_type": "code",
   "execution_count": 83,
   "metadata": {},
   "outputs": [
    {
     "name": "stdout",
     "output_type": "stream",
     "text": [
      "Coverage =  0.78\n"
     ]
    }
   ],
   "source": [
    "print(\"Coverage = \", round(sum(cpd_AD) / len(cpd_AD), 2))"
   ]
  },
  {
   "cell_type": "code",
   "execution_count": 84,
   "metadata": {},
   "outputs": [
    {
     "name": "stdout",
     "output_type": "stream",
     "text": [
      "Indices of substances included in AD =  [  2   5   6   7   8  10  11  14  15  16  17  18  19  20  23  25  26  28\n",
      "  29  30  32  34  35  36  38  39  41  42  45  46  47  48  49  50  51  54\n",
      "  55  56  57  59  61  62  66  67  68  69  70  71  72  75  76  79  80  81\n",
      "  83  85  86  87  88  89  90  92  94  97  98 100 102 105 106 107 108 109\n",
      " 110 111 112 113 115 116 117 118 119 120 121 122 123 124 125 126 127 129\n",
      " 131 132 133 135 136 137 138 139 140 141 142 143 144 146 147 149 150 151\n",
      " 154 155 156 158 159 160 161 162 163 164 165 166 169 170 172 173 174 175\n",
      " 176 178 179 180 181 182 183 184 185 186 187 189 190 191 192 193 194 195\n",
      " 196 197 198 199 200 202 203 204 205 206 207 208 210 211 214 215 217 218\n",
      " 219 220 221 222 223 224 225 226 228 230 231 232 233 234 236 237 238 239\n",
      " 240 241 244 245 246 248 249 251 252 253 254 256 257 258 259 261 262 263\n",
      " 264 265 266 268 270 271 272 273 275 278 279 280 281 282 283 284 285 286\n",
      " 287 289 290 291 292 293 294 295 296 297 298 299 300 301 302 303 304 305\n",
      " 306 307 308 309 310 311 313 314 315 316 317 318 319 320 321 323 325 327\n",
      " 328 329 330 331 332 334 336 337 339 340 341 342 343 344 345 346 347 348\n",
      " 349 350 354 356 357 358 359 360 363 364 366 367 368 369 370 371 372 374\n",
      " 375 376 378 379 380 383 384 385 386 387 388 389 391 392 393 394 395 396\n",
      " 397 399 400 401 403 406 408 409 410 411 412 413 414 415 417 418 420 422\n",
      " 423 424 425 426 427 428 429 430 431 432 433 434 435 436 437 438 439 440\n",
      " 441 443 444 445 446 448 449 450 451 452 453 455 456 457 459 460 461 462\n",
      " 464 465 466 467 469 471 472 473 474 475 476 477 478 479 481 482 483 484\n",
      " 485 486 487 488 489 490 491 492 493 494 497 498 499 500 502 503 504 506\n",
      " 507 508 509 510 512 513 514 515 516 517 518 519 520 521 524 526 528 529\n",
      " 532 535 536 539 540 541 542 543 544 545 546 547 548 550 551 553 554 555\n",
      " 556 557 558 560 561 562 564 565 566 567 568 571 572 574 575 576 577 578\n",
      " 579 580 581 582 583 585 586 587 589 590 593 596 597 598 599 600 601 602\n",
      " 603 604 605 606 607 608 609 610 611 612 613 616 617 618 621 623 624 625\n",
      " 626 627 628 629 631 632 633 634 636 637 638 639 640 641 642 643 644 645\n",
      " 646 649 651 652 654 655 656 657 658 659 660 661 663 664 665 666 667 668\n",
      " 670 671 672 673 674 675 679 680 681 683 685 686 687 688 689 690 691 692\n",
      " 693 694 695 696 698 699 700 701 702 703 704 705 707 708 709 710 711 712\n",
      " 713 714 715 716 717 718 719 720 721 722 723 724 725 726 727 728 729 730\n",
      " 731 732 733 734 737 740 741 742 744 745 746 747 748 749 750 751 752 755\n",
      " 757 758 759 760 761 763 765 767 768 769]\n"
     ]
    }
   ],
   "source": [
    "print(\"Indices of substances included in AD = \", np.where(cpd_AD != 0)[0])"
   ]
  },
  {
   "cell_type": "code",
   "execution_count": 85,
   "metadata": {},
   "outputs": [],
   "source": [
    "out_Ad=list(np.where(cpd_AD == 0)[0])"
   ]
  },
  {
   "cell_type": "markdown",
   "metadata": {},
   "source": [
    "# 12. Prediction only for molecules included in  AD"
   ]
  },
  {
   "cell_type": "code",
   "execution_count": 86,
   "metadata": {},
   "outputs": [],
   "source": [
    "y_pred_GBR_ad=list(y_pred_GBR)"
   ]
  },
  {
   "cell_type": "code",
   "execution_count": 87,
   "metadata": {},
   "outputs": [],
   "source": [
    "y_pred_GBR_ad[:] = [x for i,x in enumerate(y_pred_GBR_ad) if i not in out_Ad]"
   ]
  },
  {
   "cell_type": "code",
   "execution_count": 88,
   "metadata": {},
   "outputs": [
    {
     "data": {
      "text/plain": [
       "604"
      ]
     },
     "execution_count": 88,
     "metadata": {},
     "output_type": "execute_result"
    }
   ],
   "source": [
    "len(y_pred_GBR_ad)"
   ]
  },
  {
   "cell_type": "code",
   "execution_count": 89,
   "metadata": {},
   "outputs": [],
   "source": [
    "y_ts_ad=list(y_ts)"
   ]
  },
  {
   "cell_type": "code",
   "execution_count": 90,
   "metadata": {},
   "outputs": [],
   "source": [
    "y_ts_ad[:] = [x for i,x in enumerate(y_ts_ad) if i not in out_Ad]"
   ]
  },
  {
   "cell_type": "code",
   "execution_count": 91,
   "metadata": {},
   "outputs": [
    {
     "data": {
      "text/plain": [
       "604"
      ]
     },
     "execution_count": 91,
     "metadata": {},
     "output_type": "execute_result"
    }
   ],
   "source": [
    "len(y_ts_ad)"
   ]
  },
  {
   "cell_type": "code",
   "execution_count": 92,
   "metadata": {},
   "outputs": [
    {
     "data": {
      "text/plain": [
       "0.7"
      ]
     },
     "execution_count": 92,
     "metadata": {},
     "output_type": "execute_result"
    }
   ],
   "source": [
    "Q2_TS = round(r2_score(y_ts_ad, y_pred_GBR_ad), 2)\n",
    "Q2_TS"
   ]
  },
  {
   "cell_type": "code",
   "execution_count": 93,
   "metadata": {},
   "outputs": [
    {
     "data": {
      "text/plain": [
       "0.64"
      ]
     },
     "execution_count": 93,
     "metadata": {},
     "output_type": "execute_result"
    }
   ],
   "source": [
    "RMSE_TS=round(np.sqrt(mean_absolute_error(y_ts_ad, y_pred_GBR_ad)), 2)\n",
    "RMSE_TS"
   ]
  },
  {
   "cell_type": "markdown",
   "metadata": {},
   "source": [
    "# SVM model building and validation"
   ]
  },
  {
   "cell_type": "code",
   "execution_count": 94,
   "metadata": {},
   "outputs": [],
   "source": [
    "param_grid = {\"C\": [10 ** i for i in range(0, 5)],\n",
    "              \"gamma\": [10 ** i for i in range(-6, 0)]}"
   ]
  },
  {
   "cell_type": "code",
   "execution_count": 95,
   "metadata": {},
   "outputs": [],
   "source": [
    "seed = 42\n",
    "cv=KFold(n_splits=5, random_state=seed, shuffle=True)"
   ]
  },
  {
   "cell_type": "code",
   "execution_count": 96,
   "metadata": {},
   "outputs": [],
   "source": [
    "svm = GridSearchCV(SVR(C=1.0, epsilon=0.2), param_grid, n_jobs=-1, cv=cv, verbose=1)"
   ]
  },
  {
   "cell_type": "code",
   "execution_count": 97,
   "metadata": {},
   "outputs": [
    {
     "name": "stdout",
     "output_type": "stream",
     "text": [
      "Fitting 5 folds for each of 30 candidates, totalling 150 fits\n"
     ]
    },
    {
     "data": {
      "text/html": [
       "<style>#sk-container-id-2 {color: black;}#sk-container-id-2 pre{padding: 0;}#sk-container-id-2 div.sk-toggleable {background-color: white;}#sk-container-id-2 label.sk-toggleable__label {cursor: pointer;display: block;width: 100%;margin-bottom: 0;padding: 0.3em;box-sizing: border-box;text-align: center;}#sk-container-id-2 label.sk-toggleable__label-arrow:before {content: \"▸\";float: left;margin-right: 0.25em;color: #696969;}#sk-container-id-2 label.sk-toggleable__label-arrow:hover:before {color: black;}#sk-container-id-2 div.sk-estimator:hover label.sk-toggleable__label-arrow:before {color: black;}#sk-container-id-2 div.sk-toggleable__content {max-height: 0;max-width: 0;overflow: hidden;text-align: left;background-color: #f0f8ff;}#sk-container-id-2 div.sk-toggleable__content pre {margin: 0.2em;color: black;border-radius: 0.25em;background-color: #f0f8ff;}#sk-container-id-2 input.sk-toggleable__control:checked~div.sk-toggleable__content {max-height: 200px;max-width: 100%;overflow: auto;}#sk-container-id-2 input.sk-toggleable__control:checked~label.sk-toggleable__label-arrow:before {content: \"▾\";}#sk-container-id-2 div.sk-estimator input.sk-toggleable__control:checked~label.sk-toggleable__label {background-color: #d4ebff;}#sk-container-id-2 div.sk-label input.sk-toggleable__control:checked~label.sk-toggleable__label {background-color: #d4ebff;}#sk-container-id-2 input.sk-hidden--visually {border: 0;clip: rect(1px 1px 1px 1px);clip: rect(1px, 1px, 1px, 1px);height: 1px;margin: -1px;overflow: hidden;padding: 0;position: absolute;width: 1px;}#sk-container-id-2 div.sk-estimator {font-family: monospace;background-color: #f0f8ff;border: 1px dotted black;border-radius: 0.25em;box-sizing: border-box;margin-bottom: 0.5em;}#sk-container-id-2 div.sk-estimator:hover {background-color: #d4ebff;}#sk-container-id-2 div.sk-parallel-item::after {content: \"\";width: 100%;border-bottom: 1px solid gray;flex-grow: 1;}#sk-container-id-2 div.sk-label:hover label.sk-toggleable__label {background-color: #d4ebff;}#sk-container-id-2 div.sk-serial::before {content: \"\";position: absolute;border-left: 1px solid gray;box-sizing: border-box;top: 0;bottom: 0;left: 50%;z-index: 0;}#sk-container-id-2 div.sk-serial {display: flex;flex-direction: column;align-items: center;background-color: white;padding-right: 0.2em;padding-left: 0.2em;position: relative;}#sk-container-id-2 div.sk-item {position: relative;z-index: 1;}#sk-container-id-2 div.sk-parallel {display: flex;align-items: stretch;justify-content: center;background-color: white;position: relative;}#sk-container-id-2 div.sk-item::before, #sk-container-id-2 div.sk-parallel-item::before {content: \"\";position: absolute;border-left: 1px solid gray;box-sizing: border-box;top: 0;bottom: 0;left: 50%;z-index: -1;}#sk-container-id-2 div.sk-parallel-item {display: flex;flex-direction: column;z-index: 1;position: relative;background-color: white;}#sk-container-id-2 div.sk-parallel-item:first-child::after {align-self: flex-end;width: 50%;}#sk-container-id-2 div.sk-parallel-item:last-child::after {align-self: flex-start;width: 50%;}#sk-container-id-2 div.sk-parallel-item:only-child::after {width: 0;}#sk-container-id-2 div.sk-dashed-wrapped {border: 1px dashed gray;margin: 0 0.4em 0.5em 0.4em;box-sizing: border-box;padding-bottom: 0.4em;background-color: white;}#sk-container-id-2 div.sk-label label {font-family: monospace;font-weight: bold;display: inline-block;line-height: 1.2em;}#sk-container-id-2 div.sk-label-container {text-align: center;}#sk-container-id-2 div.sk-container {/* jupyter's `normalize.less` sets `[hidden] { display: none; }` but bootstrap.min.css set `[hidden] { display: none !important; }` so we also need the `!important` here to be able to override the default hidden behavior on the sphinx rendered scikit-learn.org. See: https://github.com/scikit-learn/scikit-learn/issues/21755 */display: inline-block !important;position: relative;}#sk-container-id-2 div.sk-text-repr-fallback {display: none;}</style><div id=\"sk-container-id-2\" class=\"sk-top-container\"><div class=\"sk-text-repr-fallback\"><pre>GridSearchCV(cv=KFold(n_splits=5, random_state=42, shuffle=True),\n",
       "             estimator=SVR(epsilon=0.2), n_jobs=-1,\n",
       "             param_grid={&#x27;C&#x27;: [1, 10, 100, 1000, 10000],\n",
       "                         &#x27;gamma&#x27;: [1e-06, 1e-05, 0.0001, 0.001, 0.01, 0.1]},\n",
       "             verbose=1)</pre><b>In a Jupyter environment, please rerun this cell to show the HTML representation or trust the notebook. <br />On GitHub, the HTML representation is unable to render, please try loading this page with nbviewer.org.</b></div><div class=\"sk-container\" hidden><div class=\"sk-item sk-dashed-wrapped\"><div class=\"sk-label-container\"><div class=\"sk-label sk-toggleable\"><input class=\"sk-toggleable__control sk-hidden--visually\" id=\"sk-estimator-id-4\" type=\"checkbox\" ><label for=\"sk-estimator-id-4\" class=\"sk-toggleable__label sk-toggleable__label-arrow\">GridSearchCV</label><div class=\"sk-toggleable__content\"><pre>GridSearchCV(cv=KFold(n_splits=5, random_state=42, shuffle=True),\n",
       "             estimator=SVR(epsilon=0.2), n_jobs=-1,\n",
       "             param_grid={&#x27;C&#x27;: [1, 10, 100, 1000, 10000],\n",
       "                         &#x27;gamma&#x27;: [1e-06, 1e-05, 0.0001, 0.001, 0.01, 0.1]},\n",
       "             verbose=1)</pre></div></div></div><div class=\"sk-parallel\"><div class=\"sk-parallel-item\"><div class=\"sk-item\"><div class=\"sk-label-container\"><div class=\"sk-label sk-toggleable\"><input class=\"sk-toggleable__control sk-hidden--visually\" id=\"sk-estimator-id-5\" type=\"checkbox\" ><label for=\"sk-estimator-id-5\" class=\"sk-toggleable__label sk-toggleable__label-arrow\">estimator: SVR</label><div class=\"sk-toggleable__content\"><pre>SVR(epsilon=0.2)</pre></div></div></div><div class=\"sk-serial\"><div class=\"sk-item\"><div class=\"sk-estimator sk-toggleable\"><input class=\"sk-toggleable__control sk-hidden--visually\" id=\"sk-estimator-id-6\" type=\"checkbox\" ><label for=\"sk-estimator-id-6\" class=\"sk-toggleable__label sk-toggleable__label-arrow\">SVR</label><div class=\"sk-toggleable__content\"><pre>SVR(epsilon=0.2)</pre></div></div></div></div></div></div></div></div></div></div>"
      ],
      "text/plain": [
       "GridSearchCV(cv=KFold(n_splits=5, random_state=42, shuffle=True),\n",
       "             estimator=SVR(epsilon=0.2), n_jobs=-1,\n",
       "             param_grid={'C': [1, 10, 100, 1000, 10000],\n",
       "                         'gamma': [1e-06, 1e-05, 0.0001, 0.001, 0.01, 0.1]},\n",
       "             verbose=1)"
      ]
     },
     "execution_count": 97,
     "metadata": {},
     "output_type": "execute_result"
    }
   ],
   "source": [
    "svm.fit(x_tr, y_tr)"
   ]
  },
  {
   "cell_type": "code",
   "execution_count": 98,
   "metadata": {},
   "outputs": [],
   "source": [
    "svm.best_params_\n",
    "best_svm = svm.best_estimator_"
   ]
  },
  {
   "cell_type": "code",
   "execution_count": 99,
   "metadata": {},
   "outputs": [
    {
     "data": {
      "text/plain": [
       "{'C': 10, 'gamma': 0.01}"
      ]
     },
     "execution_count": 99,
     "metadata": {},
     "output_type": "execute_result"
    }
   ],
   "source": [
    "svm.best_params_"
   ]
  },
  {
   "cell_type": "code",
   "execution_count": 100,
   "metadata": {},
   "outputs": [],
   "source": [
    "y_pred_ws_svm = best_svm.predict(x_tr)"
   ]
  },
  {
   "cell_type": "code",
   "execution_count": 101,
   "metadata": {},
   "outputs": [
    {
     "data": {
      "text/plain": [
       "0.93"
      ]
     },
     "execution_count": 101,
     "metadata": {},
     "output_type": "execute_result"
    }
   ],
   "source": [
    "R2_WS = round(r2_score(y_tr, y_pred_ws_svm), 2)\n",
    "R2_WS"
   ]
  },
  {
   "cell_type": "code",
   "execution_count": 102,
   "metadata": {},
   "outputs": [
    {
     "data": {
      "text/plain": [
       "0.46"
      ]
     },
     "execution_count": 102,
     "metadata": {},
     "output_type": "execute_result"
    }
   ],
   "source": [
    "RMSE_WS=round(np.sqrt(mean_absolute_error(y_tr, y_pred_ws_svm)), 2)\n",
    "RMSE_WS"
   ]
  },
  {
   "cell_type": "code",
   "execution_count": 103,
   "metadata": {},
   "outputs": [],
   "source": [
    "y_pred_CV_svm = cross_val_predict(best_svm, x_tr, y_tr, cv=cv)"
   ]
  },
  {
   "cell_type": "code",
   "execution_count": 104,
   "metadata": {},
   "outputs": [
    {
     "data": {
      "text/plain": [
       "0.59"
      ]
     },
     "execution_count": 104,
     "metadata": {},
     "output_type": "execute_result"
    }
   ],
   "source": [
    "Q2_CV = round(r2_score(y_tr, y_pred_CV_svm), 2)\n",
    "Q2_CV"
   ]
  },
  {
   "cell_type": "code",
   "execution_count": 105,
   "metadata": {},
   "outputs": [
    {
     "data": {
      "text/plain": [
       "0.72"
      ]
     },
     "execution_count": 105,
     "metadata": {},
     "output_type": "execute_result"
    }
   ],
   "source": [
    "RMSE_CV=round(np.sqrt(mean_absolute_error(y_tr, y_pred_CV_svm)), 2)\n",
    "RMSE_CV"
   ]
  },
  {
   "cell_type": "markdown",
   "metadata": {},
   "source": [
    "# 9. Prediction for test set's molecules"
   ]
  },
  {
   "cell_type": "code",
   "execution_count": 106,
   "metadata": {},
   "outputs": [],
   "source": [
    "x_ts = np.array(x_ts, dtype=np.float32)\n",
    "y_ts = np.array(y_ts, dtype=np.float32)"
   ]
  },
  {
   "cell_type": "code",
   "execution_count": 107,
   "metadata": {},
   "outputs": [],
   "source": [
    "y_pred_svm = best_svm.predict(x_ts)"
   ]
  },
  {
   "cell_type": "code",
   "execution_count": 108,
   "metadata": {},
   "outputs": [
    {
     "data": {
      "text/plain": [
       "0.62"
      ]
     },
     "execution_count": 108,
     "metadata": {},
     "output_type": "execute_result"
    }
   ],
   "source": [
    "Q2_TS = round(r2_score(y_ts, y_pred_svm), 2)\n",
    "Q2_TS"
   ]
  },
  {
   "cell_type": "code",
   "execution_count": 109,
   "metadata": {},
   "outputs": [
    {
     "data": {
      "text/plain": [
       "0.7"
      ]
     },
     "execution_count": 109,
     "metadata": {},
     "output_type": "execute_result"
    }
   ],
   "source": [
    "RMSE_TS=round(np.sqrt(mean_absolute_error(y_ts, y_pred_svm)), 2)\n",
    "RMSE_TS"
   ]
  },
  {
   "cell_type": "markdown",
   "metadata": {},
   "source": [
    "save the model to disk"
   ]
  },
  {
   "cell_type": "code",
   "execution_count": 110,
   "metadata": {},
   "outputs": [],
   "source": [
    "pickle.dump(best_svm, open('Models/RDKiT/HDAC6_SVM_RDKiT.pkl', 'wb'))"
   ]
  },
  {
   "cell_type": "markdown",
   "metadata": {},
   "source": [
    "load the model from disk"
   ]
  },
  {
   "cell_type": "code",
   "execution_count": 105,
   "metadata": {},
   "outputs": [],
   "source": [
    "best_svm = pickle.load(open('Models/RDKiT/HDAC6_SVM_RDKiT.pkl', 'rb'))"
   ]
  },
  {
   "cell_type": "markdown",
   "metadata": {},
   "source": [
    "# 10. Y-randomization SVM model"
   ]
  },
  {
   "cell_type": "code",
   "execution_count": 111,
   "metadata": {},
   "outputs": [
    {
     "name": "stderr",
     "output_type": "stream",
     "text": [
      "[Parallel(n_jobs=-1)]: Using backend LokyBackend with 16 concurrent workers.\n",
      "[Parallel(n_jobs=-1)]: Done  18 tasks      | elapsed:   47.1s\n"
     ]
    },
    {
     "name": "stdout",
     "output_type": "stream",
     "text": [
      "True score =  0.588 \n",
      "Y-randomization =  -0.38 \n",
      "p-value =  0.0196\n"
     ]
    },
    {
     "name": "stderr",
     "output_type": "stream",
     "text": [
      "[Parallel(n_jobs=-1)]: Done  50 out of  50 | elapsed:  1.5min finished\n"
     ]
    }
   ],
   "source": [
    "permutations = 50\n",
    "score, permutation_scores, pvalue = permutation_test_score(best_svm, x_tr, y_tr,\n",
    "                                                           cv=cv, scoring='r2',\n",
    "                                                           n_permutations=permutations,\n",
    "                                                           n_jobs=-1,\n",
    "                                                           verbose=1,\n",
    "                                                           random_state=seed)\n",
    "print('True score = ', score.round(3),\n",
    "      '\\nY-randomization = ', np.mean(permutation_scores).round(2),\n",
    "      '\\np-value = ', pvalue.round(4))"
   ]
  },
  {
   "cell_type": "markdown",
   "metadata": {},
   "source": [
    "# 11. Estimating applicability domain. Method - Euclidian distances, K=1"
   ]
  },
  {
   "cell_type": "code",
   "execution_count": 112,
   "metadata": {},
   "outputs": [],
   "source": [
    "neighbors_k= pairwise_distances(x_tr, n_jobs=-1)\n",
    "neighbors_k.sort(0)"
   ]
  },
  {
   "cell_type": "code",
   "execution_count": 113,
   "metadata": {},
   "outputs": [
    {
     "data": {
      "text/html": [
       "<div>\n",
       "<style scoped>\n",
       "    .dataframe tbody tr th:only-of-type {\n",
       "        vertical-align: middle;\n",
       "    }\n",
       "\n",
       "    .dataframe tbody tr th {\n",
       "        vertical-align: top;\n",
       "    }\n",
       "\n",
       "    .dataframe thead th {\n",
       "        text-align: right;\n",
       "    }\n",
       "</style>\n",
       "<table border=\"1\" class=\"dataframe\">\n",
       "  <thead>\n",
       "    <tr style=\"text-align: right;\">\n",
       "      <th></th>\n",
       "      <th>0</th>\n",
       "      <th>1</th>\n",
       "      <th>2</th>\n",
       "      <th>3</th>\n",
       "      <th>4</th>\n",
       "      <th>5</th>\n",
       "      <th>6</th>\n",
       "      <th>7</th>\n",
       "      <th>8</th>\n",
       "      <th>9</th>\n",
       "      <th>...</th>\n",
       "      <th>3073</th>\n",
       "      <th>3074</th>\n",
       "      <th>3075</th>\n",
       "      <th>3076</th>\n",
       "      <th>3077</th>\n",
       "      <th>3078</th>\n",
       "      <th>3079</th>\n",
       "      <th>3080</th>\n",
       "      <th>3081</th>\n",
       "      <th>3082</th>\n",
       "    </tr>\n",
       "  </thead>\n",
       "  <tbody>\n",
       "    <tr>\n",
       "      <th>0</th>\n",
       "      <td>0.000000</td>\n",
       "      <td>0.000000</td>\n",
       "      <td>0.000000</td>\n",
       "      <td>0.000000</td>\n",
       "      <td>0.000000</td>\n",
       "      <td>0.000000</td>\n",
       "      <td>0.000000</td>\n",
       "      <td>0.000000</td>\n",
       "      <td>0.000000</td>\n",
       "      <td>0.000000</td>\n",
       "      <td>...</td>\n",
       "      <td>0.000000</td>\n",
       "      <td>0.000000</td>\n",
       "      <td>0.000000</td>\n",
       "      <td>0.000000</td>\n",
       "      <td>0.000000</td>\n",
       "      <td>0.000000</td>\n",
       "      <td>0.000000</td>\n",
       "      <td>0.000000</td>\n",
       "      <td>0.000000</td>\n",
       "      <td>0.000000</td>\n",
       "    </tr>\n",
       "    <tr>\n",
       "      <th>1</th>\n",
       "      <td>2.900746</td>\n",
       "      <td>7.490754</td>\n",
       "      <td>4.863770</td>\n",
       "      <td>4.216553</td>\n",
       "      <td>17.930071</td>\n",
       "      <td>5.799908</td>\n",
       "      <td>12.561265</td>\n",
       "      <td>5.479323</td>\n",
       "      <td>7.492609</td>\n",
       "      <td>7.368469</td>\n",
       "      <td>...</td>\n",
       "      <td>4.920030</td>\n",
       "      <td>4.072734</td>\n",
       "      <td>4.076962</td>\n",
       "      <td>5.708168</td>\n",
       "      <td>0.658189</td>\n",
       "      <td>4.072734</td>\n",
       "      <td>4.407693</td>\n",
       "      <td>4.652277</td>\n",
       "      <td>3.443594</td>\n",
       "      <td>4.879563</td>\n",
       "    </tr>\n",
       "    <tr>\n",
       "      <th>2</th>\n",
       "      <td>7.109359</td>\n",
       "      <td>8.714100</td>\n",
       "      <td>6.138494</td>\n",
       "      <td>4.775836</td>\n",
       "      <td>17.975319</td>\n",
       "      <td>10.456244</td>\n",
       "      <td>13.250570</td>\n",
       "      <td>5.497795</td>\n",
       "      <td>7.601954</td>\n",
       "      <td>7.723112</td>\n",
       "      <td>...</td>\n",
       "      <td>5.171291</td>\n",
       "      <td>5.859728</td>\n",
       "      <td>4.348377</td>\n",
       "      <td>6.024628</td>\n",
       "      <td>0.988269</td>\n",
       "      <td>5.060231</td>\n",
       "      <td>5.224220</td>\n",
       "      <td>6.131215</td>\n",
       "      <td>4.407693</td>\n",
       "      <td>4.903584</td>\n",
       "    </tr>\n",
       "    <tr>\n",
       "      <th>3</th>\n",
       "      <td>8.137948</td>\n",
       "      <td>9.820561</td>\n",
       "      <td>6.308079</td>\n",
       "      <td>4.847588</td>\n",
       "      <td>18.707183</td>\n",
       "      <td>10.577019</td>\n",
       "      <td>13.336941</td>\n",
       "      <td>5.805781</td>\n",
       "      <td>7.664309</td>\n",
       "      <td>7.915602</td>\n",
       "      <td>...</td>\n",
       "      <td>6.813833</td>\n",
       "      <td>6.497852</td>\n",
       "      <td>4.839753</td>\n",
       "      <td>6.250507</td>\n",
       "      <td>1.010266</td>\n",
       "      <td>5.063000</td>\n",
       "      <td>5.662558</td>\n",
       "      <td>6.684642</td>\n",
       "      <td>4.833030</td>\n",
       "      <td>5.560298</td>\n",
       "    </tr>\n",
       "    <tr>\n",
       "      <th>4</th>\n",
       "      <td>9.989728</td>\n",
       "      <td>9.854204</td>\n",
       "      <td>7.085804</td>\n",
       "      <td>4.960749</td>\n",
       "      <td>18.861733</td>\n",
       "      <td>10.596407</td>\n",
       "      <td>13.549530</td>\n",
       "      <td>5.840825</td>\n",
       "      <td>9.903273</td>\n",
       "      <td>7.977096</td>\n",
       "      <td>...</td>\n",
       "      <td>7.405154</td>\n",
       "      <td>6.540346</td>\n",
       "      <td>5.370556</td>\n",
       "      <td>6.365888</td>\n",
       "      <td>1.255771</td>\n",
       "      <td>5.138347</td>\n",
       "      <td>6.034671</td>\n",
       "      <td>6.959352</td>\n",
       "      <td>4.916375</td>\n",
       "      <td>5.952220</td>\n",
       "    </tr>\n",
       "    <tr>\n",
       "      <th>...</th>\n",
       "      <td>...</td>\n",
       "      <td>...</td>\n",
       "      <td>...</td>\n",
       "      <td>...</td>\n",
       "      <td>...</td>\n",
       "      <td>...</td>\n",
       "      <td>...</td>\n",
       "      <td>...</td>\n",
       "      <td>...</td>\n",
       "      <td>...</td>\n",
       "      <td>...</td>\n",
       "      <td>...</td>\n",
       "      <td>...</td>\n",
       "      <td>...</td>\n",
       "      <td>...</td>\n",
       "      <td>...</td>\n",
       "      <td>...</td>\n",
       "      <td>...</td>\n",
       "      <td>...</td>\n",
       "      <td>...</td>\n",
       "      <td>...</td>\n",
       "    </tr>\n",
       "    <tr>\n",
       "      <th>3078</th>\n",
       "      <td>59.709452</td>\n",
       "      <td>57.090008</td>\n",
       "      <td>58.331396</td>\n",
       "      <td>58.048544</td>\n",
       "      <td>60.361909</td>\n",
       "      <td>59.614734</td>\n",
       "      <td>60.295796</td>\n",
       "      <td>56.343509</td>\n",
       "      <td>59.286559</td>\n",
       "      <td>57.215438</td>\n",
       "      <td>...</td>\n",
       "      <td>57.023795</td>\n",
       "      <td>58.033652</td>\n",
       "      <td>55.506057</td>\n",
       "      <td>57.839582</td>\n",
       "      <td>57.789266</td>\n",
       "      <td>57.883805</td>\n",
       "      <td>52.423024</td>\n",
       "      <td>58.245987</td>\n",
       "      <td>52.542843</td>\n",
       "      <td>58.314947</td>\n",
       "    </tr>\n",
       "    <tr>\n",
       "      <th>3079</th>\n",
       "      <td>64.622310</td>\n",
       "      <td>58.628856</td>\n",
       "      <td>61.113141</td>\n",
       "      <td>65.253094</td>\n",
       "      <td>66.739984</td>\n",
       "      <td>63.430776</td>\n",
       "      <td>64.864438</td>\n",
       "      <td>59.616123</td>\n",
       "      <td>60.062919</td>\n",
       "      <td>58.115876</td>\n",
       "      <td>...</td>\n",
       "      <td>58.553733</td>\n",
       "      <td>61.866145</td>\n",
       "      <td>58.377595</td>\n",
       "      <td>59.986568</td>\n",
       "      <td>61.820461</td>\n",
       "      <td>61.827141</td>\n",
       "      <td>59.121777</td>\n",
       "      <td>59.020775</td>\n",
       "      <td>59.263230</td>\n",
       "      <td>58.379989</td>\n",
       "    </tr>\n",
       "    <tr>\n",
       "      <th>3080</th>\n",
       "      <td>81.340502</td>\n",
       "      <td>75.280839</td>\n",
       "      <td>78.340686</td>\n",
       "      <td>82.818196</td>\n",
       "      <td>84.909101</td>\n",
       "      <td>80.951973</td>\n",
       "      <td>81.381164</td>\n",
       "      <td>74.253500</td>\n",
       "      <td>77.427874</td>\n",
       "      <td>74.428053</td>\n",
       "      <td>...</td>\n",
       "      <td>73.744194</td>\n",
       "      <td>78.953934</td>\n",
       "      <td>72.996767</td>\n",
       "      <td>77.820650</td>\n",
       "      <td>79.473150</td>\n",
       "      <td>79.284739</td>\n",
       "      <td>70.352530</td>\n",
       "      <td>76.791959</td>\n",
       "      <td>70.447545</td>\n",
       "      <td>76.546431</td>\n",
       "    </tr>\n",
       "    <tr>\n",
       "      <th>3081</th>\n",
       "      <td>85.425503</td>\n",
       "      <td>79.865417</td>\n",
       "      <td>82.594970</td>\n",
       "      <td>86.833621</td>\n",
       "      <td>88.959112</td>\n",
       "      <td>85.144143</td>\n",
       "      <td>85.474637</td>\n",
       "      <td>78.858671</td>\n",
       "      <td>81.937688</td>\n",
       "      <td>78.974006</td>\n",
       "      <td>...</td>\n",
       "      <td>78.352058</td>\n",
       "      <td>83.185009</td>\n",
       "      <td>77.640059</td>\n",
       "      <td>82.157241</td>\n",
       "      <td>83.693395</td>\n",
       "      <td>83.512267</td>\n",
       "      <td>75.306540</td>\n",
       "      <td>81.202237</td>\n",
       "      <td>75.398494</td>\n",
       "      <td>80.949962</td>\n",
       "    </tr>\n",
       "    <tr>\n",
       "      <th>3082</th>\n",
       "      <td>91.149249</td>\n",
       "      <td>85.866200</td>\n",
       "      <td>88.490808</td>\n",
       "      <td>92.468338</td>\n",
       "      <td>94.408915</td>\n",
       "      <td>90.835266</td>\n",
       "      <td>91.186773</td>\n",
       "      <td>84.945940</td>\n",
       "      <td>87.776896</td>\n",
       "      <td>85.073792</td>\n",
       "      <td>...</td>\n",
       "      <td>84.495804</td>\n",
       "      <td>89.025541</td>\n",
       "      <td>83.827650</td>\n",
       "      <td>88.046524</td>\n",
       "      <td>89.504177</td>\n",
       "      <td>89.325159</td>\n",
       "      <td>81.602623</td>\n",
       "      <td>87.151063</td>\n",
       "      <td>81.685047</td>\n",
       "      <td>86.930789</td>\n",
       "    </tr>\n",
       "  </tbody>\n",
       "</table>\n",
       "<p>3083 rows × 3083 columns</p>\n",
       "</div>"
      ],
      "text/plain": [
       "           0          1          2          3          4          5     \\\n",
       "0      0.000000   0.000000   0.000000   0.000000   0.000000   0.000000   \n",
       "1      2.900746   7.490754   4.863770   4.216553  17.930071   5.799908   \n",
       "2      7.109359   8.714100   6.138494   4.775836  17.975319  10.456244   \n",
       "3      8.137948   9.820561   6.308079   4.847588  18.707183  10.577019   \n",
       "4      9.989728   9.854204   7.085804   4.960749  18.861733  10.596407   \n",
       "...         ...        ...        ...        ...        ...        ...   \n",
       "3078  59.709452  57.090008  58.331396  58.048544  60.361909  59.614734   \n",
       "3079  64.622310  58.628856  61.113141  65.253094  66.739984  63.430776   \n",
       "3080  81.340502  75.280839  78.340686  82.818196  84.909101  80.951973   \n",
       "3081  85.425503  79.865417  82.594970  86.833621  88.959112  85.144143   \n",
       "3082  91.149249  85.866200  88.490808  92.468338  94.408915  90.835266   \n",
       "\n",
       "           6          7          8          9     ...       3073       3074  \\\n",
       "0      0.000000   0.000000   0.000000   0.000000  ...   0.000000   0.000000   \n",
       "1     12.561265   5.479323   7.492609   7.368469  ...   4.920030   4.072734   \n",
       "2     13.250570   5.497795   7.601954   7.723112  ...   5.171291   5.859728   \n",
       "3     13.336941   5.805781   7.664309   7.915602  ...   6.813833   6.497852   \n",
       "4     13.549530   5.840825   9.903273   7.977096  ...   7.405154   6.540346   \n",
       "...         ...        ...        ...        ...  ...        ...        ...   \n",
       "3078  60.295796  56.343509  59.286559  57.215438  ...  57.023795  58.033652   \n",
       "3079  64.864438  59.616123  60.062919  58.115876  ...  58.553733  61.866145   \n",
       "3080  81.381164  74.253500  77.427874  74.428053  ...  73.744194  78.953934   \n",
       "3081  85.474637  78.858671  81.937688  78.974006  ...  78.352058  83.185009   \n",
       "3082  91.186773  84.945940  87.776896  85.073792  ...  84.495804  89.025541   \n",
       "\n",
       "           3075       3076       3077       3078       3079       3080  \\\n",
       "0      0.000000   0.000000   0.000000   0.000000   0.000000   0.000000   \n",
       "1      4.076962   5.708168   0.658189   4.072734   4.407693   4.652277   \n",
       "2      4.348377   6.024628   0.988269   5.060231   5.224220   6.131215   \n",
       "3      4.839753   6.250507   1.010266   5.063000   5.662558   6.684642   \n",
       "4      5.370556   6.365888   1.255771   5.138347   6.034671   6.959352   \n",
       "...         ...        ...        ...        ...        ...        ...   \n",
       "3078  55.506057  57.839582  57.789266  57.883805  52.423024  58.245987   \n",
       "3079  58.377595  59.986568  61.820461  61.827141  59.121777  59.020775   \n",
       "3080  72.996767  77.820650  79.473150  79.284739  70.352530  76.791959   \n",
       "3081  77.640059  82.157241  83.693395  83.512267  75.306540  81.202237   \n",
       "3082  83.827650  88.046524  89.504177  89.325159  81.602623  87.151063   \n",
       "\n",
       "           3081       3082  \n",
       "0      0.000000   0.000000  \n",
       "1      3.443594   4.879563  \n",
       "2      4.407693   4.903584  \n",
       "3      4.833030   5.560298  \n",
       "4      4.916375   5.952220  \n",
       "...         ...        ...  \n",
       "3078  52.542843  58.314947  \n",
       "3079  59.263230  58.379989  \n",
       "3080  70.447545  76.546431  \n",
       "3081  75.398494  80.949962  \n",
       "3082  81.685047  86.930789  \n",
       "\n",
       "[3083 rows x 3083 columns]"
      ]
     },
     "execution_count": 113,
     "metadata": {},
     "output_type": "execute_result"
    }
   ],
   "source": [
    "df_tr=pd.DataFrame(neighbors_k)\n",
    "df_tr"
   ]
  },
  {
   "cell_type": "code",
   "execution_count": 114,
   "metadata": {},
   "outputs": [],
   "source": [
    "similarity= neighbors_k"
   ]
  },
  {
   "cell_type": "code",
   "execution_count": 115,
   "metadata": {},
   "outputs": [],
   "source": [
    "Dmean=np.mean(similarity[1,:])"
   ]
  },
  {
   "cell_type": "code",
   "execution_count": 116,
   "metadata": {},
   "outputs": [
    {
     "data": {
      "text/plain": [
       "3.81"
      ]
     },
     "execution_count": 116,
     "metadata": {},
     "output_type": "execute_result"
    }
   ],
   "source": [
    "round(Dmean, 2)"
   ]
  },
  {
   "cell_type": "code",
   "execution_count": 117,
   "metadata": {},
   "outputs": [],
   "source": [
    "std=np.std(similarity[1,:])"
   ]
  },
  {
   "cell_type": "code",
   "execution_count": 118,
   "metadata": {},
   "outputs": [
    {
     "data": {
      "text/plain": [
       "2.93"
      ]
     },
     "execution_count": 118,
     "metadata": {},
     "output_type": "execute_result"
    }
   ],
   "source": [
    "round(std, 2)"
   ]
  },
  {
   "cell_type": "code",
   "execution_count": 119,
   "metadata": {},
   "outputs": [
    {
     "name": "stdout",
     "output_type": "stream",
     "text": [
      "5.28\n"
     ]
    }
   ],
   "source": [
    "model_AD_limit=Dmean+std*0.5\n",
    "print(np.round(model_AD_limit, 2))"
   ]
  },
  {
   "cell_type": "code",
   "execution_count": 120,
   "metadata": {},
   "outputs": [],
   "source": [
    "neighbors_k_ts= pairwise_distances(x_tr,Y=x_ts, n_jobs=-1)\n",
    "neighbors_k_ts.sort(0)"
   ]
  },
  {
   "cell_type": "code",
   "execution_count": 121,
   "metadata": {},
   "outputs": [
    {
     "data": {
      "text/html": [
       "<div>\n",
       "<style scoped>\n",
       "    .dataframe tbody tr th:only-of-type {\n",
       "        vertical-align: middle;\n",
       "    }\n",
       "\n",
       "    .dataframe tbody tr th {\n",
       "        vertical-align: top;\n",
       "    }\n",
       "\n",
       "    .dataframe thead th {\n",
       "        text-align: right;\n",
       "    }\n",
       "</style>\n",
       "<table border=\"1\" class=\"dataframe\">\n",
       "  <thead>\n",
       "    <tr style=\"text-align: right;\">\n",
       "      <th></th>\n",
       "      <th>0</th>\n",
       "      <th>1</th>\n",
       "      <th>2</th>\n",
       "      <th>3</th>\n",
       "      <th>4</th>\n",
       "      <th>5</th>\n",
       "      <th>6</th>\n",
       "      <th>7</th>\n",
       "      <th>8</th>\n",
       "      <th>9</th>\n",
       "      <th>...</th>\n",
       "      <th>761</th>\n",
       "      <th>762</th>\n",
       "      <th>763</th>\n",
       "      <th>764</th>\n",
       "      <th>765</th>\n",
       "      <th>766</th>\n",
       "      <th>767</th>\n",
       "      <th>768</th>\n",
       "      <th>769</th>\n",
       "      <th>770</th>\n",
       "    </tr>\n",
       "  </thead>\n",
       "  <tbody>\n",
       "    <tr>\n",
       "      <th>0</th>\n",
       "      <td>5.562876</td>\n",
       "      <td>9.408307</td>\n",
       "      <td>2.476244</td>\n",
       "      <td>7.263118</td>\n",
       "      <td>5.282288</td>\n",
       "      <td>1.583892</td>\n",
       "      <td>4.525869</td>\n",
       "      <td>4.086624</td>\n",
       "      <td>1.226136</td>\n",
       "      <td>5.644353</td>\n",
       "      <td>...</td>\n",
       "      <td>3.599905</td>\n",
       "      <td>5.858725</td>\n",
       "      <td>2.397433</td>\n",
       "      <td>6.870954</td>\n",
       "      <td>0.624128</td>\n",
       "      <td>5.352804</td>\n",
       "      <td>4.178713</td>\n",
       "      <td>4.182506</td>\n",
       "      <td>2.802792</td>\n",
       "      <td>6.270563</td>\n",
       "    </tr>\n",
       "    <tr>\n",
       "      <th>1</th>\n",
       "      <td>6.275527</td>\n",
       "      <td>9.772277</td>\n",
       "      <td>3.742493</td>\n",
       "      <td>9.391857</td>\n",
       "      <td>5.966987</td>\n",
       "      <td>6.967967</td>\n",
       "      <td>4.654637</td>\n",
       "      <td>5.942024</td>\n",
       "      <td>1.366599</td>\n",
       "      <td>5.758951</td>\n",
       "      <td>...</td>\n",
       "      <td>4.647412</td>\n",
       "      <td>7.501709</td>\n",
       "      <td>2.406615</td>\n",
       "      <td>7.081888</td>\n",
       "      <td>1.123838</td>\n",
       "      <td>8.497024</td>\n",
       "      <td>4.706113</td>\n",
       "      <td>4.375260</td>\n",
       "      <td>6.100462</td>\n",
       "      <td>6.275194</td>\n",
       "    </tr>\n",
       "    <tr>\n",
       "      <th>2</th>\n",
       "      <td>9.078235</td>\n",
       "      <td>10.222067</td>\n",
       "      <td>5.327841</td>\n",
       "      <td>10.445792</td>\n",
       "      <td>6.363236</td>\n",
       "      <td>7.111340</td>\n",
       "      <td>4.662264</td>\n",
       "      <td>6.425875</td>\n",
       "      <td>2.359034</td>\n",
       "      <td>5.914622</td>\n",
       "      <td>...</td>\n",
       "      <td>4.780885</td>\n",
       "      <td>8.883466</td>\n",
       "      <td>3.993276</td>\n",
       "      <td>7.182392</td>\n",
       "      <td>1.419483</td>\n",
       "      <td>8.678516</td>\n",
       "      <td>5.038712</td>\n",
       "      <td>4.899669</td>\n",
       "      <td>6.551452</td>\n",
       "      <td>6.719943</td>\n",
       "    </tr>\n",
       "    <tr>\n",
       "      <th>3</th>\n",
       "      <td>9.173493</td>\n",
       "      <td>10.937669</td>\n",
       "      <td>5.398200</td>\n",
       "      <td>10.565662</td>\n",
       "      <td>6.781344</td>\n",
       "      <td>7.248561</td>\n",
       "      <td>4.665928</td>\n",
       "      <td>6.427113</td>\n",
       "      <td>8.193204</td>\n",
       "      <td>6.700883</td>\n",
       "      <td>...</td>\n",
       "      <td>4.980605</td>\n",
       "      <td>9.732865</td>\n",
       "      <td>4.486266</td>\n",
       "      <td>7.539695</td>\n",
       "      <td>1.828747</td>\n",
       "      <td>8.755605</td>\n",
       "      <td>6.219785</td>\n",
       "      <td>5.480123</td>\n",
       "      <td>6.700244</td>\n",
       "      <td>6.963034</td>\n",
       "    </tr>\n",
       "    <tr>\n",
       "      <th>4</th>\n",
       "      <td>10.453269</td>\n",
       "      <td>11.627252</td>\n",
       "      <td>8.801222</td>\n",
       "      <td>10.939350</td>\n",
       "      <td>6.816641</td>\n",
       "      <td>9.321835</td>\n",
       "      <td>4.682167</td>\n",
       "      <td>6.652034</td>\n",
       "      <td>9.358029</td>\n",
       "      <td>7.951190</td>\n",
       "      <td>...</td>\n",
       "      <td>5.120647</td>\n",
       "      <td>9.746281</td>\n",
       "      <td>6.545359</td>\n",
       "      <td>7.592781</td>\n",
       "      <td>2.017845</td>\n",
       "      <td>8.781171</td>\n",
       "      <td>6.347564</td>\n",
       "      <td>5.648499</td>\n",
       "      <td>6.784176</td>\n",
       "      <td>7.693971</td>\n",
       "    </tr>\n",
       "    <tr>\n",
       "      <th>...</th>\n",
       "      <td>...</td>\n",
       "      <td>...</td>\n",
       "      <td>...</td>\n",
       "      <td>...</td>\n",
       "      <td>...</td>\n",
       "      <td>...</td>\n",
       "      <td>...</td>\n",
       "      <td>...</td>\n",
       "      <td>...</td>\n",
       "      <td>...</td>\n",
       "      <td>...</td>\n",
       "      <td>...</td>\n",
       "      <td>...</td>\n",
       "      <td>...</td>\n",
       "      <td>...</td>\n",
       "      <td>...</td>\n",
       "      <td>...</td>\n",
       "      <td>...</td>\n",
       "      <td>...</td>\n",
       "      <td>...</td>\n",
       "      <td>...</td>\n",
       "    </tr>\n",
       "    <tr>\n",
       "      <th>3078</th>\n",
       "      <td>59.781460</td>\n",
       "      <td>56.179985</td>\n",
       "      <td>57.971633</td>\n",
       "      <td>52.362914</td>\n",
       "      <td>57.781897</td>\n",
       "      <td>58.591025</td>\n",
       "      <td>57.778069</td>\n",
       "      <td>51.572486</td>\n",
       "      <td>57.697751</td>\n",
       "      <td>57.476374</td>\n",
       "      <td>...</td>\n",
       "      <td>58.058852</td>\n",
       "      <td>59.868188</td>\n",
       "      <td>56.114015</td>\n",
       "      <td>54.404131</td>\n",
       "      <td>57.757386</td>\n",
       "      <td>54.564385</td>\n",
       "      <td>58.043730</td>\n",
       "      <td>58.252923</td>\n",
       "      <td>55.524112</td>\n",
       "      <td>54.207304</td>\n",
       "    </tr>\n",
       "    <tr>\n",
       "      <th>3079</th>\n",
       "      <td>67.205645</td>\n",
       "      <td>60.326141</td>\n",
       "      <td>58.778210</td>\n",
       "      <td>59.597604</td>\n",
       "      <td>59.279094</td>\n",
       "      <td>60.038208</td>\n",
       "      <td>62.331102</td>\n",
       "      <td>60.609191</td>\n",
       "      <td>58.992356</td>\n",
       "      <td>59.067913</td>\n",
       "      <td>...</td>\n",
       "      <td>61.397760</td>\n",
       "      <td>62.524080</td>\n",
       "      <td>59.718116</td>\n",
       "      <td>59.075142</td>\n",
       "      <td>61.826915</td>\n",
       "      <td>58.758203</td>\n",
       "      <td>62.399763</td>\n",
       "      <td>61.650949</td>\n",
       "      <td>58.134672</td>\n",
       "      <td>59.524069</td>\n",
       "    </tr>\n",
       "    <tr>\n",
       "      <th>3080</th>\n",
       "      <td>84.251754</td>\n",
       "      <td>74.074984</td>\n",
       "      <td>75.902602</td>\n",
       "      <td>70.851184</td>\n",
       "      <td>77.011702</td>\n",
       "      <td>75.895533</td>\n",
       "      <td>80.048812</td>\n",
       "      <td>71.155573</td>\n",
       "      <td>74.744390</td>\n",
       "      <td>74.372245</td>\n",
       "      <td>...</td>\n",
       "      <td>79.184990</td>\n",
       "      <td>79.435166</td>\n",
       "      <td>73.884777</td>\n",
       "      <td>73.209868</td>\n",
       "      <td>79.448739</td>\n",
       "      <td>72.676376</td>\n",
       "      <td>79.293186</td>\n",
       "      <td>78.995605</td>\n",
       "      <td>73.459662</td>\n",
       "      <td>71.604592</td>\n",
       "    </tr>\n",
       "    <tr>\n",
       "      <th>3081</th>\n",
       "      <td>88.179583</td>\n",
       "      <td>78.844858</td>\n",
       "      <td>80.434786</td>\n",
       "      <td>75.772136</td>\n",
       "      <td>81.400312</td>\n",
       "      <td>80.516987</td>\n",
       "      <td>84.226694</td>\n",
       "      <td>76.132504</td>\n",
       "      <td>79.301973</td>\n",
       "      <td>78.991110</td>\n",
       "      <td>...</td>\n",
       "      <td>83.416594</td>\n",
       "      <td>83.711997</td>\n",
       "      <td>78.526111</td>\n",
       "      <td>77.863150</td>\n",
       "      <td>83.664678</td>\n",
       "      <td>77.495521</td>\n",
       "      <td>83.496396</td>\n",
       "      <td>83.220802</td>\n",
       "      <td>78.117105</td>\n",
       "      <td>76.416846</td>\n",
       "    </tr>\n",
       "    <tr>\n",
       "      <th>3082</th>\n",
       "      <td>93.743079</td>\n",
       "      <td>84.865062</td>\n",
       "      <td>86.401957</td>\n",
       "      <td>82.038435</td>\n",
       "      <td>87.340941</td>\n",
       "      <td>86.439455</td>\n",
       "      <td>90.004414</td>\n",
       "      <td>82.334185</td>\n",
       "      <td>85.370318</td>\n",
       "      <td>85.059002</td>\n",
       "      <td>...</td>\n",
       "      <td>89.240581</td>\n",
       "      <td>89.492873</td>\n",
       "      <td>84.631042</td>\n",
       "      <td>84.030473</td>\n",
       "      <td>89.479914</td>\n",
       "      <td>83.620369</td>\n",
       "      <td>89.329503</td>\n",
       "      <td>89.061019</td>\n",
       "      <td>84.253133</td>\n",
       "      <td>82.659003</td>\n",
       "    </tr>\n",
       "  </tbody>\n",
       "</table>\n",
       "<p>3083 rows × 771 columns</p>\n",
       "</div>"
      ],
      "text/plain": [
       "            0          1          2          3          4          5    \\\n",
       "0      5.562876   9.408307   2.476244   7.263118   5.282288   1.583892   \n",
       "1      6.275527   9.772277   3.742493   9.391857   5.966987   6.967967   \n",
       "2      9.078235  10.222067   5.327841  10.445792   6.363236   7.111340   \n",
       "3      9.173493  10.937669   5.398200  10.565662   6.781344   7.248561   \n",
       "4     10.453269  11.627252   8.801222  10.939350   6.816641   9.321835   \n",
       "...         ...        ...        ...        ...        ...        ...   \n",
       "3078  59.781460  56.179985  57.971633  52.362914  57.781897  58.591025   \n",
       "3079  67.205645  60.326141  58.778210  59.597604  59.279094  60.038208   \n",
       "3080  84.251754  74.074984  75.902602  70.851184  77.011702  75.895533   \n",
       "3081  88.179583  78.844858  80.434786  75.772136  81.400312  80.516987   \n",
       "3082  93.743079  84.865062  86.401957  82.038435  87.340941  86.439455   \n",
       "\n",
       "            6          7          8          9    ...        761        762  \\\n",
       "0      4.525869   4.086624   1.226136   5.644353  ...   3.599905   5.858725   \n",
       "1      4.654637   5.942024   1.366599   5.758951  ...   4.647412   7.501709   \n",
       "2      4.662264   6.425875   2.359034   5.914622  ...   4.780885   8.883466   \n",
       "3      4.665928   6.427113   8.193204   6.700883  ...   4.980605   9.732865   \n",
       "4      4.682167   6.652034   9.358029   7.951190  ...   5.120647   9.746281   \n",
       "...         ...        ...        ...        ...  ...        ...        ...   \n",
       "3078  57.778069  51.572486  57.697751  57.476374  ...  58.058852  59.868188   \n",
       "3079  62.331102  60.609191  58.992356  59.067913  ...  61.397760  62.524080   \n",
       "3080  80.048812  71.155573  74.744390  74.372245  ...  79.184990  79.435166   \n",
       "3081  84.226694  76.132504  79.301973  78.991110  ...  83.416594  83.711997   \n",
       "3082  90.004414  82.334185  85.370318  85.059002  ...  89.240581  89.492873   \n",
       "\n",
       "            763        764        765        766        767        768  \\\n",
       "0      2.397433   6.870954   0.624128   5.352804   4.178713   4.182506   \n",
       "1      2.406615   7.081888   1.123838   8.497024   4.706113   4.375260   \n",
       "2      3.993276   7.182392   1.419483   8.678516   5.038712   4.899669   \n",
       "3      4.486266   7.539695   1.828747   8.755605   6.219785   5.480123   \n",
       "4      6.545359   7.592781   2.017845   8.781171   6.347564   5.648499   \n",
       "...         ...        ...        ...        ...        ...        ...   \n",
       "3078  56.114015  54.404131  57.757386  54.564385  58.043730  58.252923   \n",
       "3079  59.718116  59.075142  61.826915  58.758203  62.399763  61.650949   \n",
       "3080  73.884777  73.209868  79.448739  72.676376  79.293186  78.995605   \n",
       "3081  78.526111  77.863150  83.664678  77.495521  83.496396  83.220802   \n",
       "3082  84.631042  84.030473  89.479914  83.620369  89.329503  89.061019   \n",
       "\n",
       "            769        770  \n",
       "0      2.802792   6.270563  \n",
       "1      6.100462   6.275194  \n",
       "2      6.551452   6.719943  \n",
       "3      6.700244   6.963034  \n",
       "4      6.784176   7.693971  \n",
       "...         ...        ...  \n",
       "3078  55.524112  54.207304  \n",
       "3079  58.134672  59.524069  \n",
       "3080  73.459662  71.604592  \n",
       "3081  78.117105  76.416846  \n",
       "3082  84.253133  82.659003  \n",
       "\n",
       "[3083 rows x 771 columns]"
      ]
     },
     "execution_count": 121,
     "metadata": {},
     "output_type": "execute_result"
    }
   ],
   "source": [
    "x_ts_AD=pd.DataFrame(neighbors_k_ts)\n",
    "x_ts_AD"
   ]
  },
  {
   "cell_type": "code",
   "execution_count": 122,
   "metadata": {},
   "outputs": [
    {
     "name": "stdout",
     "output_type": "stream",
     "text": [
      "[5.56300e+00 9.40800e+00 2.47600e+00 7.26300e+00 5.28200e+00 1.58400e+00\n",
      " 4.52600e+00 4.08700e+00 1.22600e+00 5.64400e+00 3.68800e+00 2.49300e+00\n",
      " 1.16520e+01 5.60800e+00 1.98100e+00 2.12100e+00 1.44400e+00 5.20800e+00\n",
      " 1.76500e+00 4.26400e+00 1.88300e+00 6.91600e+00 9.43100e+00 4.68400e+00\n",
      " 1.49200e+01 2.24000e+00 2.77300e+00 7.36600e+00 1.96200e+00 4.84400e+00\n",
      " 2.91800e+00 6.29500e+00 4.33100e+00 9.20700e+00 4.91700e+00 3.02300e+00\n",
      " 4.15400e+00 5.92200e+00 5.15800e+00 4.62200e+00 7.16300e+00 3.86700e+00\n",
      " 3.04700e+00 1.13160e+01 1.32220e+01 2.01300e+00 3.88900e+00 1.92400e+00\n",
      " 3.34400e+00 3.48100e+00 4.09700e+00 1.64800e+00 7.86500e+00 1.32260e+01\n",
      " 5.01000e+00 2.94400e+00 3.82500e+00 4.52400e+00 1.37280e+01 2.89200e+00\n",
      " 1.03440e+01 2.26700e+00 3.71600e+00 5.77700e+00 6.72900e+00 6.57400e+00\n",
      " 3.56200e+00 1.62200e+00 1.30300e+00 3.93600e+00 3.38100e+00 2.17900e+00\n",
      " 1.41400e+00 8.35800e+00 1.30980e+01 2.54800e+00 7.36000e-01 6.53300e+00\n",
      " 1.25400e+01 3.85900e+00 3.29900e+00 5.27200e+00 6.54800e+00 2.23100e+00\n",
      " 9.87100e+00 4.43500e+00 8.76000e-01 1.68400e+00 2.50200e+00 1.24600e+00\n",
      " 2.04000e+00 7.20900e+00 4.00300e+00 7.79200e+00 2.53100e+00 6.57600e+00\n",
      " 5.60500e+00 2.03300e+00 1.58400e+00 8.19900e+00 1.50000e+00 9.63800e+00\n",
      " 1.31000e+00 5.48300e+00 1.06860e+01 2.97600e+00 3.17600e+00 3.20500e+00\n",
      " 1.52400e+00 2.46200e+00 1.68000e+00 4.17700e+00 3.25700e+00 4.66300e+00\n",
      " 5.59600e+00 1.22800e+00 3.85800e+00 1.65900e+00 3.62100e+00 1.52400e+00\n",
      " 3.26200e+00 2.49200e+00 1.40400e+00 4.04800e+00 3.31600e+00 3.76400e+00\n",
      " 1.89100e+00 2.31700e+00 1.23280e+01 1.20500e+00 1.13700e+01 1.17600e+00\n",
      " 3.48400e+00 4.37000e+00 7.14800e+00 1.30700e+00 4.26600e+00 5.20700e+00\n",
      " 1.44200e+00 2.73200e+00 3.51200e+00 4.90000e+00 2.21200e+00 3.92200e+00\n",
      " 4.46800e+00 6.13600e+00 1.32700e+00 1.54900e+00 5.56900e+00 4.79900e+00\n",
      " 4.24300e+00 1.28400e+00 6.52300e+00 7.11700e+00 4.85200e+00 2.09400e+00\n",
      " 1.28000e-01 5.69500e+00 3.19700e+00 1.38300e+00 4.58700e+00 1.89200e+00\n",
      " 4.66000e+00 2.28100e+00 1.76700e+00 1.35100e+00 2.82700e+00 6.75800e+00\n",
      " 1.06020e+01 1.95200e+00 1.41700e+00 5.56000e+00 1.05500e+00 3.15800e+00\n",
      " 1.33000e+00 1.29500e+00 2.88400e+00 7.67600e+00 2.57600e+00 5.15000e+00\n",
      " 1.85100e+00 1.68400e+00 2.31200e+00 2.54400e+00 1.73000e+00 1.95100e+00\n",
      " 4.86200e+00 2.07500e+00 8.70700e+00 4.70100e+00 4.69300e+00 5.07600e+00\n",
      " 2.98800e+00 1.93500e+00 5.24500e+00 1.60000e+00 2.05500e+00 4.96700e+00\n",
      " 2.53700e+00 2.88400e+00 1.24300e+00 9.40200e+00 1.24300e+00 1.17500e+00\n",
      " 1.21000e+00 4.95200e+00 2.01900e+00 3.82300e+00 2.32800e+00 6.90200e+00\n",
      " 2.59700e+00 1.45600e+00 6.03500e+00 7.44600e+00 3.84100e+00 2.83600e+00\n",
      " 7.18300e+00 4.57300e+00 4.50900e+00 1.21800e+00 9.79000e-01 2.70200e+00\n",
      " 4.13200e+00 1.17600e+00 4.45900e+00 1.25500e+00 1.06400e+00 7.53000e+00\n",
      " 3.95900e+00 7.48200e+00 3.49400e+00 3.69900e+00 1.89700e+00 1.64300e+00\n",
      " 3.31100e+00 6.12200e+00 4.15800e+00 2.66000e+00 4.30700e+00 1.60000e+00\n",
      " 1.87000e+00 4.42900e+00 6.33900e+00 1.24120e+01 4.46900e+00 1.79800e+00\n",
      " 7.96000e-01 8.23500e+00 1.22400e+00 1.10500e+00 8.29200e+00 1.20500e+00\n",
      " 1.61500e+00 2.10200e+00 1.25800e+00 5.37300e+00 1.31700e+00 1.17700e+00\n",
      " 3.14400e+00 1.94800e+00 7.01900e+00 2.13000e+00 2.41700e+00 3.92100e+00\n",
      " 1.39900e+00 9.16000e-01 1.85000e-01 5.78200e+00 4.24500e+00 5.61900e+00\n",
      " 2.31500e+00 4.36500e+00 4.23100e+00 3.33700e+00 1.14530e+01 4.97400e+00\n",
      " 9.41600e+00 5.39100e+00 1.39700e+00 7.38000e-01 2.00400e+00 1.46900e+00\n",
      " 2.79000e+00 4.00800e+00 2.12600e+00 4.76800e+00 1.56400e+00 2.97000e+00\n",
      " 5.51800e+00 1.65500e+00 1.34300e+00 4.07100e+00 2.70800e+00 2.81900e+00\n",
      " 1.16300e+00 4.83600e+00 2.00000e+00 2.83700e+00 1.75900e+00 1.97600e+00\n",
      " 1.45300e+00 4.96600e+00 5.66000e-01 1.93100e+00 3.88200e+00 3.89100e+00\n",
      " 2.27700e+00 4.98500e+00 2.77900e+00 1.80500e+00 8.66000e-01 3.41700e+00\n",
      " 6.43800e+00 2.35700e+00 2.03700e+00 3.25900e+00 1.26700e+00 1.53800e+00\n",
      " 4.47100e+00 5.06400e+00 7.06000e-01 1.48500e+00 6.58600e+00 4.70200e+00\n",
      " 6.34100e+00 1.63100e+00 7.51700e+00 4.48500e+00 3.40100e+00 4.12200e+00\n",
      " 3.82000e+00 4.50000e+00 1.49000e+00 7.67700e+00 9.72000e-01 5.37900e+00\n",
      " 4.91500e+00 1.12900e+00 1.34920e+01 4.73200e+00 1.41400e+00 2.44100e+00\n",
      " 2.28200e+00 4.62900e+00 1.35700e+00 2.38000e+00 1.48900e+00 5.07300e+00\n",
      " 2.54300e+00 5.07200e+00 9.90000e-01 5.93900e+00 9.43800e+00 7.40800e+00\n",
      " 2.56700e+00 8.06300e+00 1.73200e+00 3.49400e+00 3.84300e+00 3.04100e+00\n",
      " 5.23800e+00 8.10100e+00 9.44670e+01 4.43800e+00 2.65400e+00 9.14600e+00\n",
      " 8.64000e-01 2.86000e+00 4.79900e+00 2.35700e+00 2.32800e+00 3.64500e+00\n",
      " 9.58000e-01 6.25700e+00 3.39100e+00 2.03400e+00 1.76800e+00 6.06800e+00\n",
      " 1.77200e+00 3.51300e+00 2.62900e+00 8.42700e+00 5.79200e+00 1.79300e+00\n",
      " 1.94200e+00 4.35500e+00 1.81500e+00 1.88500e+00 1.59800e+00 4.45600e+00\n",
      " 5.55200e+00 6.51000e-01 3.33400e+00 4.11800e+00 1.62000e+00 2.53200e+00\n",
      " 2.28800e+00 2.44400e+00 7.05200e+00 2.48100e+00 2.69900e+00 1.31000e+00\n",
      " 5.69000e+00 2.67500e+00 6.09800e+00 6.02300e+00 5.26000e-01 7.05400e+00\n",
      " 4.49700e+00 2.70400e+00 1.75800e+00 4.48200e+00 1.70000e+00 4.01900e+00\n",
      " 1.88700e+00 2.79900e+00 7.29100e+00 3.67500e+00 2.32500e+00 6.32900e+00\n",
      " 2.53000e+00 1.41634e+02 4.11100e+00 4.70800e+00 1.90500e+00 2.30200e+00\n",
      " 3.94700e+00 1.48700e+00 4.03200e+00 2.92700e+00 3.97700e+00 3.21200e+00\n",
      " 2.67400e+00 4.41400e+00 5.19900e+00 3.57300e+00 1.65800e+00 3.97100e+00\n",
      " 3.39500e+00 4.59500e+00 4.77000e+00 4.86100e+00 6.07700e+00 2.59200e+00\n",
      " 4.55000e+00 1.75800e+00 3.94400e+00 7.07100e+00 2.66300e+00 1.46400e+00\n",
      " 4.40300e+00 1.36100e+00 4.71400e+00 5.26900e+00 5.62300e+00 7.49000e-01\n",
      " 5.11000e+00 8.57000e-01 8.06800e+00 1.22300e+00 1.49500e+00 2.22400e+00\n",
      " 1.44900e+00 7.36400e+00 2.04200e+00 5.22000e+00 1.32800e+00 4.94700e+00\n",
      " 9.45700e+00 4.77700e+00 9.13100e+00 1.68300e+00 7.94000e-01 3.64400e+00\n",
      " 1.59700e+00 3.54500e+00 3.33800e+00 5.27700e+00 1.39500e+00 4.24700e+00\n",
      " 8.00700e+00 4.59200e+00 1.73100e+00 4.73100e+00 4.29200e+00 2.86300e+00\n",
      " 3.73100e+00 4.58900e+00 5.11200e+00 3.54900e+00 1.21800e+00 2.84500e+00\n",
      " 2.99700e+00 4.56000e+00 1.40800e+00 8.19900e+00 5.48800e+00 1.61300e+00\n",
      " 7.55000e-01 3.00600e+00 1.26200e+00 1.25770e+01 3.61400e+00 1.79800e+00\n",
      " 1.43200e+00 5.55800e+00 1.31300e+00 2.24300e+00 3.40200e+00 2.64300e+00\n",
      " 3.95600e+00 5.43000e+00 1.43800e+00 1.03900e+00 6.84000e-01 2.79700e+00\n",
      " 4.32100e+00 3.76900e+00 3.92500e+00 1.27500e+00 4.98000e+00 2.75800e+00\n",
      " 5.83600e+00 6.15100e+00 4.33800e+00 6.59000e+00 1.77000e+00 8.70700e+00\n",
      " 2.13300e+00 3.35700e+00 5.71500e+00 5.71800e+00 3.22500e+00 6.22800e+00\n",
      " 9.38600e+00 1.15500e+00 1.05800e+00 9.40000e+00 5.70500e+00 3.63400e+00\n",
      " 3.21000e+00 4.10300e+00 3.75800e+00 1.65400e+00 1.41700e+00 3.34200e+00\n",
      " 3.46300e+00 3.95300e+00 1.60200e+00 1.06850e+01 1.43000e+00 4.77500e+00\n",
      " 8.38400e+00 3.22300e+00 4.02800e+00 3.74200e+00 7.59000e-01 5.66000e-01\n",
      " 4.95300e+00 2.92920e+01 1.50700e+00 9.93000e-01 1.19800e+00 1.50470e+01\n",
      " 1.63300e+00 4.00700e+00 1.43800e+00 1.35500e+00 2.70200e+00 6.62000e+00\n",
      " 6.92100e+00 1.80000e+00 1.13300e+00 7.34700e+00 3.88900e+00 4.77200e+00\n",
      " 2.19900e+00 1.31700e+00 4.08900e+00 1.49900e+00 1.09200e+00 1.20500e+00\n",
      " 2.07300e+00 3.92600e+00 5.64300e+00 1.20200e+00 1.16100e+00 4.97100e+00\n",
      " 1.15210e+01 2.01300e+00 3.59500e+00 1.52700e+01 1.22860e+01 2.29300e+00\n",
      " 5.74300e+00 6.23600e+00 1.48000e+00 2.03100e+00 1.86800e+00 4.54200e+00\n",
      " 8.54000e-01 2.30100e+00 1.99500e+00 2.55000e+00 4.40900e+00 2.55400e+00\n",
      " 2.42500e+00 1.11800e+00 1.67800e+00 2.75000e+00 1.94800e+00 4.12700e+00\n",
      " 3.46600e+00 2.64300e+00 1.11620e+01 8.06700e+00 4.37300e+00 1.35600e+00\n",
      " 9.48000e-01 6.33400e+00 8.88000e+00 4.40500e+00 6.26400e+00 1.34000e+00\n",
      " 4.50900e+00 1.70400e+00 1.38500e+00 1.33500e+00 3.22600e+00 4.86300e+00\n",
      " 8.47400e+00 5.17000e+00 1.66500e+00 1.24600e+00 4.86800e+00 1.17580e+01\n",
      " 2.70700e+00 1.71000e+00 2.30000e+00 1.39700e+00 2.73900e+00 1.10300e+00\n",
      " 9.75000e-01 5.22100e+00 2.66300e+00 2.80600e+00 3.24300e+00 6.63500e+00\n",
      " 8.72200e+00 3.59600e+00 5.34100e+00 3.04600e+00 1.68700e+00 5.63500e+00\n",
      " 1.76700e+00 1.11000e+00 3.53000e+00 2.87000e+00 1.33700e+00 5.09300e+00\n",
      " 3.09500e+00 5.15600e+00 6.29500e+00 3.44300e+00 1.10800e+00 3.70900e+00\n",
      " 1.39400e+00 2.10500e+00 4.16700e+00 7.52700e+00 2.76400e+00 5.09000e+00\n",
      " 2.56300e+00 1.68900e+00 2.34600e+00 6.92000e-01 6.13400e+00 6.16500e+00\n",
      " 5.40900e+00 3.38000e+00 3.80400e+00 2.47700e+00 8.50100e+00 3.18900e+00\n",
      " 9.44900e+00 4.10400e+00 4.94100e+00 1.86300e+00 3.62600e+00 1.13500e+00\n",
      " 3.88400e+00 1.68000e+00 4.79200e+00 8.21000e-01 1.17100e+00 6.90000e-01\n",
      " 1.40100e+00 7.07000e+00 4.17800e+00 9.89000e-01 1.80000e+00 1.77600e+00\n",
      " 2.55300e+00 1.18700e+00 1.64400e+00 1.36000e+00 5.51800e+00 2.90800e+00\n",
      " 2.44200e+00 3.59800e+00 1.35600e+00 3.32400e+00 9.93000e-01 3.33500e+00\n",
      " 4.89500e+00 8.95000e-01 1.91200e+00 2.52000e+00 4.15200e+00 1.13600e+00\n",
      " 8.70000e-01 1.12600e+00 4.12200e+00 2.73200e+00 1.12300e+00 2.11000e+00\n",
      " 3.85900e+00 1.52800e+00 1.46100e+00 4.13200e+00 1.29900e+00 3.80800e+00\n",
      " 7.41000e-01 4.79500e+00 3.93500e+00 6.22700e+00 6.44900e+00 1.66100e+00\n",
      " 9.06700e+00 7.98000e+00 4.93400e+00 2.35100e+00 1.37900e+00 1.43370e+01\n",
      " 5.89000e-01 1.41000e+00 3.98800e+00 4.22600e+00 4.23100e+00 4.98800e+00\n",
      " 2.63400e+00 1.20600e+00 4.94000e+00 5.59900e+00 5.85300e+00 2.96800e+00\n",
      " 5.37700e+00 3.25000e+00 9.90000e-01 5.00900e+00 4.91300e+00 3.60000e+00\n",
      " 5.85900e+00 2.39700e+00 6.87100e+00 6.24000e-01 5.35300e+00 4.17900e+00\n",
      " 4.18300e+00 2.80300e+00 6.27100e+00]\n"
     ]
    }
   ],
   "source": [
    "similarity_ts= neighbors_k_ts\n",
    "cpd_AD=similarity_ts[0,:]\n",
    "cpd_value = np.round(cpd_AD, 3)\n",
    "print(cpd_value)"
   ]
  },
  {
   "cell_type": "code",
   "execution_count": 123,
   "metadata": {},
   "outputs": [
    {
     "name": "stdout",
     "output_type": "stream",
     "text": [
      "[False False  True False False  True  True  True  True False  True  True\n",
      " False False  True  True  True  True  True  True  True False False  True\n",
      " False  True  True False  True  True  True False  True False  True  True\n",
      "  True False  True  True False  True  True False False  True  True  True\n",
      "  True  True  True  True False False  True  True  True  True False  True\n",
      " False  True  True False False False  True  True  True  True  True  True\n",
      "  True False False  True  True False False  True  True  True False  True\n",
      " False  True  True  True  True  True  True False  True False  True False\n",
      " False  True  True False  True False  True False False  True  True  True\n",
      "  True  True  True  True  True  True False  True  True  True  True  True\n",
      "  True  True  True  True  True  True  True  True False  True False  True\n",
      "  True  True False  True  True  True  True  True  True  True  True  True\n",
      "  True False  True  True False  True  True  True False False  True  True\n",
      "  True False  True  True  True  True  True  True  True  True  True False\n",
      " False  True  True False  True  True  True  True  True False  True  True\n",
      "  True  True  True  True  True  True  True  True False  True  True  True\n",
      "  True  True  True  True  True  True  True  True  True False  True  True\n",
      "  True  True  True  True  True False  True  True False False  True  True\n",
      " False  True  True  True  True  True  True  True  True  True  True False\n",
      "  True False  True  True  True  True  True False  True  True  True  True\n",
      "  True  True False False  True  True  True False  True  True False  True\n",
      "  True  True  True False  True  True  True  True False  True  True  True\n",
      "  True  True  True False  True False  True  True  True  True False  True\n",
      " False False  True  True  True  True  True  True  True  True  True  True\n",
      " False  True  True  True  True  True  True  True  True  True  True  True\n",
      "  True  True  True  True  True  True  True  True  True  True  True  True\n",
      " False  True  True  True  True  True  True  True  True  True False  True\n",
      " False  True False  True  True  True  True  True  True False  True False\n",
      "  True  True False  True  True  True  True  True  True  True  True  True\n",
      "  True  True  True False False False  True False  True  True  True  True\n",
      "  True False False  True  True False  True  True  True  True  True  True\n",
      "  True False  True  True  True False  True  True  True False False  True\n",
      "  True  True  True  True  True  True False  True  True  True  True  True\n",
      "  True  True False  True  True  True False  True False False  True False\n",
      "  True  True  True  True  True  True  True  True False  True  True False\n",
      "  True False  True  True  True  True  True  True  True  True  True  True\n",
      "  True  True  True  True  True  True  True  True  True  True False  True\n",
      "  True  True  True False  True  True  True  True  True  True False  True\n",
      "  True  True False  True  True  True  True False  True  True  True  True\n",
      " False  True False  True  True  True  True  True  True  True  True  True\n",
      " False  True  True  True  True  True  True  True  True  True  True  True\n",
      "  True  True  True False False  True  True  True  True False  True  True\n",
      "  True False  True  True  True  True  True False  True  True  True  True\n",
      "  True  True  True  True  True  True False False  True False  True False\n",
      "  True  True False False  True False False  True  True False False  True\n",
      "  True  True  True  True  True  True  True  True  True False  True  True\n",
      " False  True  True  True  True  True  True False  True  True  True False\n",
      "  True  True  True  True  True False False  True  True False  True  True\n",
      "  True  True  True  True  True  True  True  True False  True  True  True\n",
      " False  True  True False False  True False False  True  True  True  True\n",
      "  True  True  True  True  True  True  True  True  True  True  True  True\n",
      "  True  True False False  True  True  True False False  True False  True\n",
      "  True  True  True  True  True  True False  True  True  True  True False\n",
      "  True  True  True  True  True  True  True  True  True  True  True False\n",
      " False  True False  True  True False  True  True  True  True  True  True\n",
      "  True  True False  True  True  True  True  True  True False  True  True\n",
      "  True  True  True  True False False False  True  True  True False  True\n",
      " False  True  True  True  True  True  True  True  True  True  True  True\n",
      "  True False  True  True  True  True  True  True  True  True False  True\n",
      "  True  True  True  True  True  True  True  True  True  True  True  True\n",
      "  True  True  True  True  True  True  True  True  True  True  True  True\n",
      "  True  True  True False False  True False False  True  True  True False\n",
      "  True  True  True  True  True  True  True  True  True False False  True\n",
      " False  True  True  True  True  True False  True False  True False  True\n",
      "  True  True False]\n"
     ]
    }
   ],
   "source": [
    "cpd_AD = np.where(cpd_value <= model_AD_limit, True, False)\n",
    "print(cpd_AD)"
   ]
  },
  {
   "cell_type": "code",
   "execution_count": 124,
   "metadata": {},
   "outputs": [
    {
     "name": "stdout",
     "output_type": "stream",
     "text": [
      "Coverage =  0.78\n"
     ]
    }
   ],
   "source": [
    "print(\"Coverage = \", round(sum(cpd_AD) / len(cpd_AD), 2))"
   ]
  },
  {
   "cell_type": "code",
   "execution_count": 125,
   "metadata": {},
   "outputs": [
    {
     "name": "stdout",
     "output_type": "stream",
     "text": [
      "Indices of substances included in AD =  [  2   5   6   7   8  10  11  14  15  16  17  18  19  20  23  25  26  28\n",
      "  29  30  32  34  35  36  38  39  41  42  45  46  47  48  49  50  51  54\n",
      "  55  56  57  59  61  62  66  67  68  69  70  71  72  75  76  79  80  81\n",
      "  83  85  86  87  88  89  90  92  94  97  98 100 102 105 106 107 108 109\n",
      " 110 111 112 113 115 116 117 118 119 120 121 122 123 124 125 126 127 129\n",
      " 131 132 133 135 136 137 138 139 140 141 142 143 144 146 147 149 150 151\n",
      " 154 155 156 158 159 160 161 162 163 164 165 166 169 170 172 173 174 175\n",
      " 176 178 179 180 181 182 183 184 185 186 187 189 190 191 192 193 194 195\n",
      " 196 197 198 199 200 202 203 204 205 206 207 208 210 211 214 215 217 218\n",
      " 219 220 221 222 223 224 225 226 228 230 231 232 233 234 236 237 238 239\n",
      " 240 241 244 245 246 248 249 251 252 253 254 256 257 258 259 261 262 263\n",
      " 264 265 266 268 270 271 272 273 275 278 279 280 281 282 283 284 285 286\n",
      " 287 289 290 291 292 293 294 295 296 297 298 299 300 301 302 303 304 305\n",
      " 306 307 308 309 310 311 313 314 315 316 317 318 319 320 321 323 325 327\n",
      " 328 329 330 331 332 334 336 337 339 340 341 342 343 344 345 346 347 348\n",
      " 349 350 354 356 357 358 359 360 363 364 366 367 368 369 370 371 372 374\n",
      " 375 376 378 379 380 383 384 385 386 387 388 389 391 392 393 394 395 396\n",
      " 397 399 400 401 403 406 408 409 410 411 412 413 414 415 417 418 420 422\n",
      " 423 424 425 426 427 428 429 430 431 432 433 434 435 436 437 438 439 440\n",
      " 441 443 444 445 446 448 449 450 451 452 453 455 456 457 459 460 461 462\n",
      " 464 465 466 467 469 471 472 473 474 475 476 477 478 479 481 482 483 484\n",
      " 485 486 487 488 489 490 491 492 493 494 497 498 499 500 502 503 504 506\n",
      " 507 508 509 510 512 513 514 515 516 517 518 519 520 521 524 526 528 529\n",
      " 532 535 536 539 540 541 542 543 544 545 546 547 548 550 551 553 554 555\n",
      " 556 557 558 560 561 562 564 565 566 567 568 571 572 574 575 576 577 578\n",
      " 579 580 581 582 583 585 586 587 589 590 593 596 597 598 599 600 601 602\n",
      " 603 604 605 606 607 608 609 610 611 612 613 616 617 618 621 623 624 625\n",
      " 626 627 628 629 631 632 633 634 636 637 638 639 640 641 642 643 644 645\n",
      " 646 649 651 652 654 655 656 657 658 659 660 661 663 664 665 666 667 668\n",
      " 670 671 672 673 674 675 679 680 681 683 685 686 687 688 689 690 691 692\n",
      " 693 694 695 696 698 699 700 701 702 703 704 705 707 708 709 710 711 712\n",
      " 713 714 715 716 717 718 719 720 721 722 723 724 725 726 727 728 729 730\n",
      " 731 732 733 734 737 740 741 742 744 745 746 747 748 749 750 751 752 755\n",
      " 757 758 759 760 761 763 765 767 768 769]\n"
     ]
    }
   ],
   "source": [
    "print(\"Indices of substances included in AD = \", np.where(cpd_AD != 0)[0])"
   ]
  },
  {
   "cell_type": "code",
   "execution_count": 126,
   "metadata": {},
   "outputs": [],
   "source": [
    "out_Ad=list(np.where(cpd_AD == 0)[0])"
   ]
  },
  {
   "cell_type": "markdown",
   "metadata": {},
   "source": [
    "# 12. Prediction only for molecules included in  AD"
   ]
  },
  {
   "cell_type": "code",
   "execution_count": 127,
   "metadata": {},
   "outputs": [],
   "source": [
    "y_pred_svm_ad=list(y_pred_svm)"
   ]
  },
  {
   "cell_type": "code",
   "execution_count": 128,
   "metadata": {},
   "outputs": [],
   "source": [
    "y_pred_svm_ad[:] = [x for i,x in enumerate(y_pred_svm_ad) if i not in out_Ad]"
   ]
  },
  {
   "cell_type": "code",
   "execution_count": 129,
   "metadata": {},
   "outputs": [
    {
     "data": {
      "text/plain": [
       "604"
      ]
     },
     "execution_count": 129,
     "metadata": {},
     "output_type": "execute_result"
    }
   ],
   "source": [
    "len(y_pred_svm_ad)"
   ]
  },
  {
   "cell_type": "code",
   "execution_count": 130,
   "metadata": {},
   "outputs": [],
   "source": [
    "y_ts_ad=list(y_ts)"
   ]
  },
  {
   "cell_type": "code",
   "execution_count": 131,
   "metadata": {},
   "outputs": [],
   "source": [
    "y_ts_ad[:] = [x for i,x in enumerate(y_ts_ad) if i not in out_Ad]"
   ]
  },
  {
   "cell_type": "code",
   "execution_count": 132,
   "metadata": {},
   "outputs": [
    {
     "data": {
      "text/plain": [
       "604"
      ]
     },
     "execution_count": 132,
     "metadata": {},
     "output_type": "execute_result"
    }
   ],
   "source": [
    "len(y_ts_ad)"
   ]
  },
  {
   "cell_type": "code",
   "execution_count": 133,
   "metadata": {},
   "outputs": [
    {
     "data": {
      "text/plain": [
       "0.68"
      ]
     },
     "execution_count": 133,
     "metadata": {},
     "output_type": "execute_result"
    }
   ],
   "source": [
    "Q2_TS = round(r2_score(y_ts_ad, y_pred_svm_ad), 2)\n",
    "Q2_TS"
   ]
  },
  {
   "cell_type": "code",
   "execution_count": 134,
   "metadata": {},
   "outputs": [
    {
     "data": {
      "text/plain": [
       "0.65"
      ]
     },
     "execution_count": 134,
     "metadata": {},
     "output_type": "execute_result"
    }
   ],
   "source": [
    "RMSE_TS=round(np.sqrt(mean_absolute_error(y_ts_ad, y_pred_svm_ad)), 2)\n",
    "RMSE_TS"
   ]
  },
  {
   "cell_type": "markdown",
   "metadata": {},
   "source": [
    "# Multi-layer Perceptron regressor"
   ]
  },
  {
   "cell_type": "code",
   "execution_count": 135,
   "metadata": {},
   "outputs": [],
   "source": [
    "from sklearn.neural_network import MLPRegressor"
   ]
  },
  {
   "cell_type": "code",
   "execution_count": 136,
   "metadata": {},
   "outputs": [],
   "source": [
    "seed = 42\n",
    "cv=KFold(n_splits=5, random_state=seed, shuffle=True)"
   ]
  },
  {
   "cell_type": "code",
   "execution_count": 137,
   "metadata": {},
   "outputs": [],
   "source": [
    "param_grid ={\"hidden_layer_sizes\": [(400, 300, 200, 100),(100, 100, 100), (10, 10, 10),(50,)], \"activation\": [\"tanh\", \"relu\"], \"solver\": [\"lbfgs\", \"sgd\", \"adam\"], \"alpha\": [0.00005,0.0005], 'max_iter': [1000, 2000]}"
   ]
  },
  {
   "cell_type": "code",
   "execution_count": 138,
   "metadata": {},
   "outputs": [],
   "source": [
    "m = GridSearchCV(MLPRegressor(), param_grid, n_jobs=-1, cv=cv, verbose=1)"
   ]
  },
  {
   "cell_type": "code",
   "execution_count": 139,
   "metadata": {},
   "outputs": [
    {
     "name": "stdout",
     "output_type": "stream",
     "text": [
      "Fitting 5 folds for each of 96 candidates, totalling 480 fits\n"
     ]
    },
    {
     "data": {
      "text/html": [
       "<style>#sk-container-id-3 {color: black;}#sk-container-id-3 pre{padding: 0;}#sk-container-id-3 div.sk-toggleable {background-color: white;}#sk-container-id-3 label.sk-toggleable__label {cursor: pointer;display: block;width: 100%;margin-bottom: 0;padding: 0.3em;box-sizing: border-box;text-align: center;}#sk-container-id-3 label.sk-toggleable__label-arrow:before {content: \"▸\";float: left;margin-right: 0.25em;color: #696969;}#sk-container-id-3 label.sk-toggleable__label-arrow:hover:before {color: black;}#sk-container-id-3 div.sk-estimator:hover label.sk-toggleable__label-arrow:before {color: black;}#sk-container-id-3 div.sk-toggleable__content {max-height: 0;max-width: 0;overflow: hidden;text-align: left;background-color: #f0f8ff;}#sk-container-id-3 div.sk-toggleable__content pre {margin: 0.2em;color: black;border-radius: 0.25em;background-color: #f0f8ff;}#sk-container-id-3 input.sk-toggleable__control:checked~div.sk-toggleable__content {max-height: 200px;max-width: 100%;overflow: auto;}#sk-container-id-3 input.sk-toggleable__control:checked~label.sk-toggleable__label-arrow:before {content: \"▾\";}#sk-container-id-3 div.sk-estimator input.sk-toggleable__control:checked~label.sk-toggleable__label {background-color: #d4ebff;}#sk-container-id-3 div.sk-label input.sk-toggleable__control:checked~label.sk-toggleable__label {background-color: #d4ebff;}#sk-container-id-3 input.sk-hidden--visually {border: 0;clip: rect(1px 1px 1px 1px);clip: rect(1px, 1px, 1px, 1px);height: 1px;margin: -1px;overflow: hidden;padding: 0;position: absolute;width: 1px;}#sk-container-id-3 div.sk-estimator {font-family: monospace;background-color: #f0f8ff;border: 1px dotted black;border-radius: 0.25em;box-sizing: border-box;margin-bottom: 0.5em;}#sk-container-id-3 div.sk-estimator:hover {background-color: #d4ebff;}#sk-container-id-3 div.sk-parallel-item::after {content: \"\";width: 100%;border-bottom: 1px solid gray;flex-grow: 1;}#sk-container-id-3 div.sk-label:hover label.sk-toggleable__label {background-color: #d4ebff;}#sk-container-id-3 div.sk-serial::before {content: \"\";position: absolute;border-left: 1px solid gray;box-sizing: border-box;top: 0;bottom: 0;left: 50%;z-index: 0;}#sk-container-id-3 div.sk-serial {display: flex;flex-direction: column;align-items: center;background-color: white;padding-right: 0.2em;padding-left: 0.2em;position: relative;}#sk-container-id-3 div.sk-item {position: relative;z-index: 1;}#sk-container-id-3 div.sk-parallel {display: flex;align-items: stretch;justify-content: center;background-color: white;position: relative;}#sk-container-id-3 div.sk-item::before, #sk-container-id-3 div.sk-parallel-item::before {content: \"\";position: absolute;border-left: 1px solid gray;box-sizing: border-box;top: 0;bottom: 0;left: 50%;z-index: -1;}#sk-container-id-3 div.sk-parallel-item {display: flex;flex-direction: column;z-index: 1;position: relative;background-color: white;}#sk-container-id-3 div.sk-parallel-item:first-child::after {align-self: flex-end;width: 50%;}#sk-container-id-3 div.sk-parallel-item:last-child::after {align-self: flex-start;width: 50%;}#sk-container-id-3 div.sk-parallel-item:only-child::after {width: 0;}#sk-container-id-3 div.sk-dashed-wrapped {border: 1px dashed gray;margin: 0 0.4em 0.5em 0.4em;box-sizing: border-box;padding-bottom: 0.4em;background-color: white;}#sk-container-id-3 div.sk-label label {font-family: monospace;font-weight: bold;display: inline-block;line-height: 1.2em;}#sk-container-id-3 div.sk-label-container {text-align: center;}#sk-container-id-3 div.sk-container {/* jupyter's `normalize.less` sets `[hidden] { display: none; }` but bootstrap.min.css set `[hidden] { display: none !important; }` so we also need the `!important` here to be able to override the default hidden behavior on the sphinx rendered scikit-learn.org. See: https://github.com/scikit-learn/scikit-learn/issues/21755 */display: inline-block !important;position: relative;}#sk-container-id-3 div.sk-text-repr-fallback {display: none;}</style><div id=\"sk-container-id-3\" class=\"sk-top-container\"><div class=\"sk-text-repr-fallback\"><pre>GridSearchCV(cv=KFold(n_splits=5, random_state=42, shuffle=True),\n",
       "             estimator=MLPRegressor(), n_jobs=-1,\n",
       "             param_grid={&#x27;activation&#x27;: [&#x27;tanh&#x27;, &#x27;relu&#x27;],\n",
       "                         &#x27;alpha&#x27;: [5e-05, 0.0005],\n",
       "                         &#x27;hidden_layer_sizes&#x27;: [(400, 300, 200, 100),\n",
       "                                                (100, 100, 100), (10, 10, 10),\n",
       "                                                (50,)],\n",
       "                         &#x27;max_iter&#x27;: [1000, 2000],\n",
       "                         &#x27;solver&#x27;: [&#x27;lbfgs&#x27;, &#x27;sgd&#x27;, &#x27;adam&#x27;]},\n",
       "             verbose=1)</pre><b>In a Jupyter environment, please rerun this cell to show the HTML representation or trust the notebook. <br />On GitHub, the HTML representation is unable to render, please try loading this page with nbviewer.org.</b></div><div class=\"sk-container\" hidden><div class=\"sk-item sk-dashed-wrapped\"><div class=\"sk-label-container\"><div class=\"sk-label sk-toggleable\"><input class=\"sk-toggleable__control sk-hidden--visually\" id=\"sk-estimator-id-7\" type=\"checkbox\" ><label for=\"sk-estimator-id-7\" class=\"sk-toggleable__label sk-toggleable__label-arrow\">GridSearchCV</label><div class=\"sk-toggleable__content\"><pre>GridSearchCV(cv=KFold(n_splits=5, random_state=42, shuffle=True),\n",
       "             estimator=MLPRegressor(), n_jobs=-1,\n",
       "             param_grid={&#x27;activation&#x27;: [&#x27;tanh&#x27;, &#x27;relu&#x27;],\n",
       "                         &#x27;alpha&#x27;: [5e-05, 0.0005],\n",
       "                         &#x27;hidden_layer_sizes&#x27;: [(400, 300, 200, 100),\n",
       "                                                (100, 100, 100), (10, 10, 10),\n",
       "                                                (50,)],\n",
       "                         &#x27;max_iter&#x27;: [1000, 2000],\n",
       "                         &#x27;solver&#x27;: [&#x27;lbfgs&#x27;, &#x27;sgd&#x27;, &#x27;adam&#x27;]},\n",
       "             verbose=1)</pre></div></div></div><div class=\"sk-parallel\"><div class=\"sk-parallel-item\"><div class=\"sk-item\"><div class=\"sk-label-container\"><div class=\"sk-label sk-toggleable\"><input class=\"sk-toggleable__control sk-hidden--visually\" id=\"sk-estimator-id-8\" type=\"checkbox\" ><label for=\"sk-estimator-id-8\" class=\"sk-toggleable__label sk-toggleable__label-arrow\">estimator: MLPRegressor</label><div class=\"sk-toggleable__content\"><pre>MLPRegressor()</pre></div></div></div><div class=\"sk-serial\"><div class=\"sk-item\"><div class=\"sk-estimator sk-toggleable\"><input class=\"sk-toggleable__control sk-hidden--visually\" id=\"sk-estimator-id-9\" type=\"checkbox\" ><label for=\"sk-estimator-id-9\" class=\"sk-toggleable__label sk-toggleable__label-arrow\">MLPRegressor</label><div class=\"sk-toggleable__content\"><pre>MLPRegressor()</pre></div></div></div></div></div></div></div></div></div></div>"
      ],
      "text/plain": [
       "GridSearchCV(cv=KFold(n_splits=5, random_state=42, shuffle=True),\n",
       "             estimator=MLPRegressor(), n_jobs=-1,\n",
       "             param_grid={'activation': ['tanh', 'relu'],\n",
       "                         'alpha': [5e-05, 0.0005],\n",
       "                         'hidden_layer_sizes': [(400, 300, 200, 100),\n",
       "                                                (100, 100, 100), (10, 10, 10),\n",
       "                                                (50,)],\n",
       "                         'max_iter': [1000, 2000],\n",
       "                         'solver': ['lbfgs', 'sgd', 'adam']},\n",
       "             verbose=1)"
      ]
     },
     "execution_count": 139,
     "metadata": {},
     "output_type": "execute_result"
    }
   ],
   "source": [
    "m.fit(x_tr, y_tr)"
   ]
  },
  {
   "cell_type": "code",
   "execution_count": 140,
   "metadata": {},
   "outputs": [],
   "source": [
    "best_MLPR = m.best_estimator_"
   ]
  },
  {
   "cell_type": "code",
   "execution_count": 141,
   "metadata": {},
   "outputs": [
    {
     "data": {
      "text/plain": [
       "{'activation': 'tanh',\n",
       " 'alpha': 5e-05,\n",
       " 'hidden_layer_sizes': (400, 300, 200, 100),\n",
       " 'max_iter': 2000,\n",
       " 'solver': 'sgd'}"
      ]
     },
     "execution_count": 141,
     "metadata": {},
     "output_type": "execute_result"
    }
   ],
   "source": [
    "m.best_params_"
   ]
  },
  {
   "cell_type": "code",
   "execution_count": 142,
   "metadata": {},
   "outputs": [],
   "source": [
    "y_pred_ws_MLPR = best_MLPR.predict(x_tr)"
   ]
  },
  {
   "cell_type": "code",
   "execution_count": 143,
   "metadata": {},
   "outputs": [
    {
     "data": {
      "text/plain": [
       "0.97"
      ]
     },
     "execution_count": 143,
     "metadata": {},
     "output_type": "execute_result"
    }
   ],
   "source": [
    "R2_WS = round(r2_score(y_tr, y_pred_ws_MLPR), 2)\n",
    "R2_WS"
   ]
  },
  {
   "cell_type": "code",
   "execution_count": 144,
   "metadata": {},
   "outputs": [
    {
     "data": {
      "text/plain": [
       "0.36"
      ]
     },
     "execution_count": 144,
     "metadata": {},
     "output_type": "execute_result"
    }
   ],
   "source": [
    "RMSE_WS=round(np.sqrt(mean_absolute_error(y_tr, y_pred_ws_MLPR)), 2)\n",
    "RMSE_WS"
   ]
  },
  {
   "cell_type": "code",
   "execution_count": 145,
   "metadata": {},
   "outputs": [],
   "source": [
    "y_pred_CV_MLPR = cross_val_predict(best_MLPR, x_tr, y_tr, cv=cv)"
   ]
  },
  {
   "cell_type": "code",
   "execution_count": 146,
   "metadata": {},
   "outputs": [
    {
     "data": {
      "text/plain": [
       "array([3.80631561, 5.77715057, 5.12889472, ..., 7.03837085, 7.96059936,\n",
       "       6.27213792])"
      ]
     },
     "execution_count": 146,
     "metadata": {},
     "output_type": "execute_result"
    }
   ],
   "source": [
    "y_pred_CV_MLPR"
   ]
  },
  {
   "cell_type": "code",
   "execution_count": 147,
   "metadata": {},
   "outputs": [
    {
     "data": {
      "text/plain": [
       "0.45"
      ]
     },
     "execution_count": 147,
     "metadata": {},
     "output_type": "execute_result"
    }
   ],
   "source": [
    "Q2_CV = round(r2_score(y_tr, y_pred_CV_MLPR), 2)\n",
    "Q2_CV"
   ]
  },
  {
   "cell_type": "code",
   "execution_count": 148,
   "metadata": {},
   "outputs": [
    {
     "data": {
      "text/plain": [
       "0.77"
      ]
     },
     "execution_count": 148,
     "metadata": {},
     "output_type": "execute_result"
    }
   ],
   "source": [
    "RMSE_CV=round(np.sqrt(mean_absolute_error(y_tr, y_pred_CV_MLPR)), 2)\n",
    "RMSE_CV"
   ]
  },
  {
   "cell_type": "markdown",
   "metadata": {},
   "source": [
    "# 9. Prediction for test set's molecules"
   ]
  },
  {
   "cell_type": "code",
   "execution_count": 149,
   "metadata": {},
   "outputs": [],
   "source": [
    "x_ts = np.array(x_ts, dtype=np.float32)\n",
    "y_ts = np.array(y_ts, dtype=np.float32)"
   ]
  },
  {
   "cell_type": "code",
   "execution_count": 150,
   "metadata": {},
   "outputs": [],
   "source": [
    "y_pred_MLPR = best_MLPR.predict(x_ts)"
   ]
  },
  {
   "cell_type": "code",
   "execution_count": 151,
   "metadata": {},
   "outputs": [
    {
     "data": {
      "text/plain": [
       "0.55"
      ]
     },
     "execution_count": 151,
     "metadata": {},
     "output_type": "execute_result"
    }
   ],
   "source": [
    "Q2_TS = round(r2_score(y_ts, y_pred_MLPR), 2)\n",
    "Q2_TS"
   ]
  },
  {
   "cell_type": "code",
   "execution_count": 152,
   "metadata": {},
   "outputs": [
    {
     "data": {
      "text/plain": [
       "0.74"
      ]
     },
     "execution_count": 152,
     "metadata": {},
     "output_type": "execute_result"
    }
   ],
   "source": [
    "RMSE_TS=round(np.sqrt(mean_absolute_error(y_ts, y_pred_MLPR)), 2)\n",
    "RMSE_TS"
   ]
  },
  {
   "cell_type": "markdown",
   "metadata": {},
   "source": [
    "# save the model to disk"
   ]
  },
  {
   "cell_type": "code",
   "execution_count": 153,
   "metadata": {},
   "outputs": [],
   "source": [
    "pickle.dump(best_MLPR, open('Models/RDKiT/HDAC6_MLPR_RDKiT.pkl', 'wb'))"
   ]
  },
  {
   "cell_type": "markdown",
   "metadata": {},
   "source": [
    "# load the model from disk"
   ]
  },
  {
   "cell_type": "code",
   "execution_count": 83,
   "metadata": {},
   "outputs": [],
   "source": [
    "best_MLPR = pickle.load(open('Models/RDKiT/HDAC6_MLPR_RDKiT.pkl', 'rb'))"
   ]
  },
  {
   "cell_type": "markdown",
   "metadata": {},
   "source": [
    "# 10. Y-randomization MLPR"
   ]
  },
  {
   "cell_type": "code",
   "execution_count": 154,
   "metadata": {},
   "outputs": [
    {
     "name": "stderr",
     "output_type": "stream",
     "text": [
      "[Parallel(n_jobs=-1)]: Using backend LokyBackend with 16 concurrent workers.\n",
      "[Parallel(n_jobs=-1)]: Done  18 tasks      | elapsed: 87.4min\n"
     ]
    },
    {
     "name": "stdout",
     "output_type": "stream",
     "text": [
      "True score =  0.45 \n",
      "Y-randomization =  -0.96 \n",
      "p-value =  0.0196\n"
     ]
    },
    {
     "name": "stderr",
     "output_type": "stream",
     "text": [
      "[Parallel(n_jobs=-1)]: Done  50 out of  50 | elapsed: 137.6min finished\n"
     ]
    }
   ],
   "source": [
    "permutations = 50\n",
    "score, permutation_scores, pvalue = permutation_test_score(best_MLPR, x_tr, y_tr,\n",
    "                                                           cv=cv, scoring='r2',\n",
    "                                                           n_permutations=permutations,\n",
    "                                                           n_jobs=-1,\n",
    "                                                           verbose=1,\n",
    "                                                           random_state=seed)\n",
    "print('True score = ', score.round(2),\n",
    "      '\\nY-randomization = ', np.mean(permutation_scores).round(2),\n",
    "      '\\np-value = ', pvalue.round(4))"
   ]
  },
  {
   "cell_type": "markdown",
   "metadata": {},
   "source": [
    "# 11. Estimating applicability domain. Method - Euclidian distances, K=1"
   ]
  },
  {
   "cell_type": "code",
   "execution_count": 155,
   "metadata": {},
   "outputs": [],
   "source": [
    "neighbors_k= pairwise_distances(x_tr, n_jobs=-1)\n",
    "neighbors_k.sort(0)"
   ]
  },
  {
   "cell_type": "code",
   "execution_count": 156,
   "metadata": {},
   "outputs": [
    {
     "data": {
      "text/html": [
       "<div>\n",
       "<style scoped>\n",
       "    .dataframe tbody tr th:only-of-type {\n",
       "        vertical-align: middle;\n",
       "    }\n",
       "\n",
       "    .dataframe tbody tr th {\n",
       "        vertical-align: top;\n",
       "    }\n",
       "\n",
       "    .dataframe thead th {\n",
       "        text-align: right;\n",
       "    }\n",
       "</style>\n",
       "<table border=\"1\" class=\"dataframe\">\n",
       "  <thead>\n",
       "    <tr style=\"text-align: right;\">\n",
       "      <th></th>\n",
       "      <th>0</th>\n",
       "      <th>1</th>\n",
       "      <th>2</th>\n",
       "      <th>3</th>\n",
       "      <th>4</th>\n",
       "      <th>5</th>\n",
       "      <th>6</th>\n",
       "      <th>7</th>\n",
       "      <th>8</th>\n",
       "      <th>9</th>\n",
       "      <th>...</th>\n",
       "      <th>3073</th>\n",
       "      <th>3074</th>\n",
       "      <th>3075</th>\n",
       "      <th>3076</th>\n",
       "      <th>3077</th>\n",
       "      <th>3078</th>\n",
       "      <th>3079</th>\n",
       "      <th>3080</th>\n",
       "      <th>3081</th>\n",
       "      <th>3082</th>\n",
       "    </tr>\n",
       "  </thead>\n",
       "  <tbody>\n",
       "    <tr>\n",
       "      <th>0</th>\n",
       "      <td>0.000000</td>\n",
       "      <td>0.000000</td>\n",
       "      <td>0.000000</td>\n",
       "      <td>0.000000</td>\n",
       "      <td>0.000000</td>\n",
       "      <td>0.000000</td>\n",
       "      <td>0.000000</td>\n",
       "      <td>0.000000</td>\n",
       "      <td>0.000000</td>\n",
       "      <td>0.000000</td>\n",
       "      <td>...</td>\n",
       "      <td>0.000000</td>\n",
       "      <td>0.000000</td>\n",
       "      <td>0.000000</td>\n",
       "      <td>0.000000</td>\n",
       "      <td>0.000000</td>\n",
       "      <td>0.000000</td>\n",
       "      <td>0.000000</td>\n",
       "      <td>0.000000</td>\n",
       "      <td>0.000000</td>\n",
       "      <td>0.000000</td>\n",
       "    </tr>\n",
       "    <tr>\n",
       "      <th>1</th>\n",
       "      <td>2.900746</td>\n",
       "      <td>7.490754</td>\n",
       "      <td>4.863770</td>\n",
       "      <td>4.216553</td>\n",
       "      <td>17.930071</td>\n",
       "      <td>5.799908</td>\n",
       "      <td>12.561265</td>\n",
       "      <td>5.479323</td>\n",
       "      <td>7.492609</td>\n",
       "      <td>7.368469</td>\n",
       "      <td>...</td>\n",
       "      <td>4.920030</td>\n",
       "      <td>4.072734</td>\n",
       "      <td>4.076962</td>\n",
       "      <td>5.708168</td>\n",
       "      <td>0.658189</td>\n",
       "      <td>4.072734</td>\n",
       "      <td>4.407693</td>\n",
       "      <td>4.652277</td>\n",
       "      <td>3.443594</td>\n",
       "      <td>4.879563</td>\n",
       "    </tr>\n",
       "    <tr>\n",
       "      <th>2</th>\n",
       "      <td>7.109359</td>\n",
       "      <td>8.714100</td>\n",
       "      <td>6.138494</td>\n",
       "      <td>4.775836</td>\n",
       "      <td>17.975319</td>\n",
       "      <td>10.456244</td>\n",
       "      <td>13.250570</td>\n",
       "      <td>5.497795</td>\n",
       "      <td>7.601954</td>\n",
       "      <td>7.723112</td>\n",
       "      <td>...</td>\n",
       "      <td>5.171291</td>\n",
       "      <td>5.859728</td>\n",
       "      <td>4.348377</td>\n",
       "      <td>6.024628</td>\n",
       "      <td>0.988269</td>\n",
       "      <td>5.060231</td>\n",
       "      <td>5.224220</td>\n",
       "      <td>6.131215</td>\n",
       "      <td>4.407693</td>\n",
       "      <td>4.903584</td>\n",
       "    </tr>\n",
       "    <tr>\n",
       "      <th>3</th>\n",
       "      <td>8.137948</td>\n",
       "      <td>9.820561</td>\n",
       "      <td>6.308079</td>\n",
       "      <td>4.847588</td>\n",
       "      <td>18.707183</td>\n",
       "      <td>10.577019</td>\n",
       "      <td>13.336941</td>\n",
       "      <td>5.805781</td>\n",
       "      <td>7.664309</td>\n",
       "      <td>7.915602</td>\n",
       "      <td>...</td>\n",
       "      <td>6.813833</td>\n",
       "      <td>6.497852</td>\n",
       "      <td>4.839753</td>\n",
       "      <td>6.250507</td>\n",
       "      <td>1.010266</td>\n",
       "      <td>5.063000</td>\n",
       "      <td>5.662558</td>\n",
       "      <td>6.684642</td>\n",
       "      <td>4.833030</td>\n",
       "      <td>5.560298</td>\n",
       "    </tr>\n",
       "    <tr>\n",
       "      <th>4</th>\n",
       "      <td>9.989728</td>\n",
       "      <td>9.854204</td>\n",
       "      <td>7.085804</td>\n",
       "      <td>4.960749</td>\n",
       "      <td>18.861733</td>\n",
       "      <td>10.596407</td>\n",
       "      <td>13.549530</td>\n",
       "      <td>5.840825</td>\n",
       "      <td>9.903273</td>\n",
       "      <td>7.977096</td>\n",
       "      <td>...</td>\n",
       "      <td>7.405154</td>\n",
       "      <td>6.540346</td>\n",
       "      <td>5.370556</td>\n",
       "      <td>6.365888</td>\n",
       "      <td>1.255771</td>\n",
       "      <td>5.138347</td>\n",
       "      <td>6.034671</td>\n",
       "      <td>6.959352</td>\n",
       "      <td>4.916375</td>\n",
       "      <td>5.952220</td>\n",
       "    </tr>\n",
       "    <tr>\n",
       "      <th>...</th>\n",
       "      <td>...</td>\n",
       "      <td>...</td>\n",
       "      <td>...</td>\n",
       "      <td>...</td>\n",
       "      <td>...</td>\n",
       "      <td>...</td>\n",
       "      <td>...</td>\n",
       "      <td>...</td>\n",
       "      <td>...</td>\n",
       "      <td>...</td>\n",
       "      <td>...</td>\n",
       "      <td>...</td>\n",
       "      <td>...</td>\n",
       "      <td>...</td>\n",
       "      <td>...</td>\n",
       "      <td>...</td>\n",
       "      <td>...</td>\n",
       "      <td>...</td>\n",
       "      <td>...</td>\n",
       "      <td>...</td>\n",
       "      <td>...</td>\n",
       "    </tr>\n",
       "    <tr>\n",
       "      <th>3078</th>\n",
       "      <td>59.709452</td>\n",
       "      <td>57.090008</td>\n",
       "      <td>58.331396</td>\n",
       "      <td>58.048544</td>\n",
       "      <td>60.361909</td>\n",
       "      <td>59.614734</td>\n",
       "      <td>60.295796</td>\n",
       "      <td>56.343509</td>\n",
       "      <td>59.286559</td>\n",
       "      <td>57.215438</td>\n",
       "      <td>...</td>\n",
       "      <td>57.023795</td>\n",
       "      <td>58.033652</td>\n",
       "      <td>55.506057</td>\n",
       "      <td>57.839582</td>\n",
       "      <td>57.789266</td>\n",
       "      <td>57.883805</td>\n",
       "      <td>52.423024</td>\n",
       "      <td>58.245987</td>\n",
       "      <td>52.542843</td>\n",
       "      <td>58.314947</td>\n",
       "    </tr>\n",
       "    <tr>\n",
       "      <th>3079</th>\n",
       "      <td>64.622310</td>\n",
       "      <td>58.628856</td>\n",
       "      <td>61.113141</td>\n",
       "      <td>65.253094</td>\n",
       "      <td>66.739984</td>\n",
       "      <td>63.430776</td>\n",
       "      <td>64.864438</td>\n",
       "      <td>59.616123</td>\n",
       "      <td>60.062919</td>\n",
       "      <td>58.115876</td>\n",
       "      <td>...</td>\n",
       "      <td>58.553733</td>\n",
       "      <td>61.866145</td>\n",
       "      <td>58.377595</td>\n",
       "      <td>59.986568</td>\n",
       "      <td>61.820461</td>\n",
       "      <td>61.827141</td>\n",
       "      <td>59.121777</td>\n",
       "      <td>59.020775</td>\n",
       "      <td>59.263230</td>\n",
       "      <td>58.379989</td>\n",
       "    </tr>\n",
       "    <tr>\n",
       "      <th>3080</th>\n",
       "      <td>81.340502</td>\n",
       "      <td>75.280839</td>\n",
       "      <td>78.340686</td>\n",
       "      <td>82.818196</td>\n",
       "      <td>84.909101</td>\n",
       "      <td>80.951973</td>\n",
       "      <td>81.381164</td>\n",
       "      <td>74.253500</td>\n",
       "      <td>77.427874</td>\n",
       "      <td>74.428053</td>\n",
       "      <td>...</td>\n",
       "      <td>73.744194</td>\n",
       "      <td>78.953934</td>\n",
       "      <td>72.996767</td>\n",
       "      <td>77.820650</td>\n",
       "      <td>79.473150</td>\n",
       "      <td>79.284739</td>\n",
       "      <td>70.352530</td>\n",
       "      <td>76.791959</td>\n",
       "      <td>70.447545</td>\n",
       "      <td>76.546431</td>\n",
       "    </tr>\n",
       "    <tr>\n",
       "      <th>3081</th>\n",
       "      <td>85.425503</td>\n",
       "      <td>79.865417</td>\n",
       "      <td>82.594970</td>\n",
       "      <td>86.833621</td>\n",
       "      <td>88.959112</td>\n",
       "      <td>85.144143</td>\n",
       "      <td>85.474637</td>\n",
       "      <td>78.858671</td>\n",
       "      <td>81.937688</td>\n",
       "      <td>78.974006</td>\n",
       "      <td>...</td>\n",
       "      <td>78.352058</td>\n",
       "      <td>83.185009</td>\n",
       "      <td>77.640059</td>\n",
       "      <td>82.157241</td>\n",
       "      <td>83.693395</td>\n",
       "      <td>83.512267</td>\n",
       "      <td>75.306540</td>\n",
       "      <td>81.202237</td>\n",
       "      <td>75.398494</td>\n",
       "      <td>80.949962</td>\n",
       "    </tr>\n",
       "    <tr>\n",
       "      <th>3082</th>\n",
       "      <td>91.149249</td>\n",
       "      <td>85.866200</td>\n",
       "      <td>88.490808</td>\n",
       "      <td>92.468338</td>\n",
       "      <td>94.408915</td>\n",
       "      <td>90.835266</td>\n",
       "      <td>91.186773</td>\n",
       "      <td>84.945940</td>\n",
       "      <td>87.776896</td>\n",
       "      <td>85.073792</td>\n",
       "      <td>...</td>\n",
       "      <td>84.495804</td>\n",
       "      <td>89.025541</td>\n",
       "      <td>83.827650</td>\n",
       "      <td>88.046524</td>\n",
       "      <td>89.504177</td>\n",
       "      <td>89.325159</td>\n",
       "      <td>81.602623</td>\n",
       "      <td>87.151063</td>\n",
       "      <td>81.685047</td>\n",
       "      <td>86.930789</td>\n",
       "    </tr>\n",
       "  </tbody>\n",
       "</table>\n",
       "<p>3083 rows × 3083 columns</p>\n",
       "</div>"
      ],
      "text/plain": [
       "           0          1          2          3          4          5     \\\n",
       "0      0.000000   0.000000   0.000000   0.000000   0.000000   0.000000   \n",
       "1      2.900746   7.490754   4.863770   4.216553  17.930071   5.799908   \n",
       "2      7.109359   8.714100   6.138494   4.775836  17.975319  10.456244   \n",
       "3      8.137948   9.820561   6.308079   4.847588  18.707183  10.577019   \n",
       "4      9.989728   9.854204   7.085804   4.960749  18.861733  10.596407   \n",
       "...         ...        ...        ...        ...        ...        ...   \n",
       "3078  59.709452  57.090008  58.331396  58.048544  60.361909  59.614734   \n",
       "3079  64.622310  58.628856  61.113141  65.253094  66.739984  63.430776   \n",
       "3080  81.340502  75.280839  78.340686  82.818196  84.909101  80.951973   \n",
       "3081  85.425503  79.865417  82.594970  86.833621  88.959112  85.144143   \n",
       "3082  91.149249  85.866200  88.490808  92.468338  94.408915  90.835266   \n",
       "\n",
       "           6          7          8          9     ...       3073       3074  \\\n",
       "0      0.000000   0.000000   0.000000   0.000000  ...   0.000000   0.000000   \n",
       "1     12.561265   5.479323   7.492609   7.368469  ...   4.920030   4.072734   \n",
       "2     13.250570   5.497795   7.601954   7.723112  ...   5.171291   5.859728   \n",
       "3     13.336941   5.805781   7.664309   7.915602  ...   6.813833   6.497852   \n",
       "4     13.549530   5.840825   9.903273   7.977096  ...   7.405154   6.540346   \n",
       "...         ...        ...        ...        ...  ...        ...        ...   \n",
       "3078  60.295796  56.343509  59.286559  57.215438  ...  57.023795  58.033652   \n",
       "3079  64.864438  59.616123  60.062919  58.115876  ...  58.553733  61.866145   \n",
       "3080  81.381164  74.253500  77.427874  74.428053  ...  73.744194  78.953934   \n",
       "3081  85.474637  78.858671  81.937688  78.974006  ...  78.352058  83.185009   \n",
       "3082  91.186773  84.945940  87.776896  85.073792  ...  84.495804  89.025541   \n",
       "\n",
       "           3075       3076       3077       3078       3079       3080  \\\n",
       "0      0.000000   0.000000   0.000000   0.000000   0.000000   0.000000   \n",
       "1      4.076962   5.708168   0.658189   4.072734   4.407693   4.652277   \n",
       "2      4.348377   6.024628   0.988269   5.060231   5.224220   6.131215   \n",
       "3      4.839753   6.250507   1.010266   5.063000   5.662558   6.684642   \n",
       "4      5.370556   6.365888   1.255771   5.138347   6.034671   6.959352   \n",
       "...         ...        ...        ...        ...        ...        ...   \n",
       "3078  55.506057  57.839582  57.789266  57.883805  52.423024  58.245987   \n",
       "3079  58.377595  59.986568  61.820461  61.827141  59.121777  59.020775   \n",
       "3080  72.996767  77.820650  79.473150  79.284739  70.352530  76.791959   \n",
       "3081  77.640059  82.157241  83.693395  83.512267  75.306540  81.202237   \n",
       "3082  83.827650  88.046524  89.504177  89.325159  81.602623  87.151063   \n",
       "\n",
       "           3081       3082  \n",
       "0      0.000000   0.000000  \n",
       "1      3.443594   4.879563  \n",
       "2      4.407693   4.903584  \n",
       "3      4.833030   5.560298  \n",
       "4      4.916375   5.952220  \n",
       "...         ...        ...  \n",
       "3078  52.542843  58.314947  \n",
       "3079  59.263230  58.379989  \n",
       "3080  70.447545  76.546431  \n",
       "3081  75.398494  80.949962  \n",
       "3082  81.685047  86.930789  \n",
       "\n",
       "[3083 rows x 3083 columns]"
      ]
     },
     "execution_count": 156,
     "metadata": {},
     "output_type": "execute_result"
    }
   ],
   "source": [
    "df_tr=pd.DataFrame(neighbors_k)\n",
    "df_tr"
   ]
  },
  {
   "cell_type": "code",
   "execution_count": 157,
   "metadata": {},
   "outputs": [],
   "source": [
    "similarity= neighbors_k"
   ]
  },
  {
   "cell_type": "code",
   "execution_count": 158,
   "metadata": {},
   "outputs": [],
   "source": [
    "Dmean=np.mean(similarity[1,:])"
   ]
  },
  {
   "cell_type": "code",
   "execution_count": 159,
   "metadata": {},
   "outputs": [
    {
     "data": {
      "text/plain": [
       "3.81"
      ]
     },
     "execution_count": 159,
     "metadata": {},
     "output_type": "execute_result"
    }
   ],
   "source": [
    "round(Dmean, 2)"
   ]
  },
  {
   "cell_type": "code",
   "execution_count": 160,
   "metadata": {},
   "outputs": [],
   "source": [
    "std=np.std(similarity[1,:])"
   ]
  },
  {
   "cell_type": "code",
   "execution_count": 161,
   "metadata": {},
   "outputs": [
    {
     "data": {
      "text/plain": [
       "2.93"
      ]
     },
     "execution_count": 161,
     "metadata": {},
     "output_type": "execute_result"
    }
   ],
   "source": [
    "round(std, 2)"
   ]
  },
  {
   "cell_type": "code",
   "execution_count": 162,
   "metadata": {},
   "outputs": [
    {
     "name": "stdout",
     "output_type": "stream",
     "text": [
      "5.28\n"
     ]
    }
   ],
   "source": [
    "model_AD_limit=Dmean+std*0.5\n",
    "print(np.round(model_AD_limit, 2))"
   ]
  },
  {
   "cell_type": "code",
   "execution_count": 163,
   "metadata": {},
   "outputs": [],
   "source": [
    "neighbors_k_ts= pairwise_distances(x_tr,Y=x_ts, n_jobs=-1)\n",
    "neighbors_k_ts.sort(0)"
   ]
  },
  {
   "cell_type": "code",
   "execution_count": 164,
   "metadata": {},
   "outputs": [
    {
     "data": {
      "text/html": [
       "<div>\n",
       "<style scoped>\n",
       "    .dataframe tbody tr th:only-of-type {\n",
       "        vertical-align: middle;\n",
       "    }\n",
       "\n",
       "    .dataframe tbody tr th {\n",
       "        vertical-align: top;\n",
       "    }\n",
       "\n",
       "    .dataframe thead th {\n",
       "        text-align: right;\n",
       "    }\n",
       "</style>\n",
       "<table border=\"1\" class=\"dataframe\">\n",
       "  <thead>\n",
       "    <tr style=\"text-align: right;\">\n",
       "      <th></th>\n",
       "      <th>0</th>\n",
       "      <th>1</th>\n",
       "      <th>2</th>\n",
       "      <th>3</th>\n",
       "      <th>4</th>\n",
       "      <th>5</th>\n",
       "      <th>6</th>\n",
       "      <th>7</th>\n",
       "      <th>8</th>\n",
       "      <th>9</th>\n",
       "      <th>...</th>\n",
       "      <th>761</th>\n",
       "      <th>762</th>\n",
       "      <th>763</th>\n",
       "      <th>764</th>\n",
       "      <th>765</th>\n",
       "      <th>766</th>\n",
       "      <th>767</th>\n",
       "      <th>768</th>\n",
       "      <th>769</th>\n",
       "      <th>770</th>\n",
       "    </tr>\n",
       "  </thead>\n",
       "  <tbody>\n",
       "    <tr>\n",
       "      <th>0</th>\n",
       "      <td>5.562876</td>\n",
       "      <td>9.408307</td>\n",
       "      <td>2.476244</td>\n",
       "      <td>7.263118</td>\n",
       "      <td>5.282288</td>\n",
       "      <td>1.583892</td>\n",
       "      <td>4.525869</td>\n",
       "      <td>4.086624</td>\n",
       "      <td>1.226136</td>\n",
       "      <td>5.644353</td>\n",
       "      <td>...</td>\n",
       "      <td>3.599905</td>\n",
       "      <td>5.858725</td>\n",
       "      <td>2.397433</td>\n",
       "      <td>6.870954</td>\n",
       "      <td>0.624128</td>\n",
       "      <td>5.352804</td>\n",
       "      <td>4.178713</td>\n",
       "      <td>4.182506</td>\n",
       "      <td>2.802792</td>\n",
       "      <td>6.270563</td>\n",
       "    </tr>\n",
       "    <tr>\n",
       "      <th>1</th>\n",
       "      <td>6.275527</td>\n",
       "      <td>9.772277</td>\n",
       "      <td>3.742493</td>\n",
       "      <td>9.391857</td>\n",
       "      <td>5.966987</td>\n",
       "      <td>6.967967</td>\n",
       "      <td>4.654637</td>\n",
       "      <td>5.942024</td>\n",
       "      <td>1.366599</td>\n",
       "      <td>5.758951</td>\n",
       "      <td>...</td>\n",
       "      <td>4.647412</td>\n",
       "      <td>7.501709</td>\n",
       "      <td>2.406615</td>\n",
       "      <td>7.081888</td>\n",
       "      <td>1.123838</td>\n",
       "      <td>8.497024</td>\n",
       "      <td>4.706113</td>\n",
       "      <td>4.375260</td>\n",
       "      <td>6.100462</td>\n",
       "      <td>6.275194</td>\n",
       "    </tr>\n",
       "    <tr>\n",
       "      <th>2</th>\n",
       "      <td>9.078235</td>\n",
       "      <td>10.222067</td>\n",
       "      <td>5.327841</td>\n",
       "      <td>10.445792</td>\n",
       "      <td>6.363236</td>\n",
       "      <td>7.111340</td>\n",
       "      <td>4.662264</td>\n",
       "      <td>6.425875</td>\n",
       "      <td>2.359034</td>\n",
       "      <td>5.914622</td>\n",
       "      <td>...</td>\n",
       "      <td>4.780885</td>\n",
       "      <td>8.883466</td>\n",
       "      <td>3.993276</td>\n",
       "      <td>7.182392</td>\n",
       "      <td>1.419483</td>\n",
       "      <td>8.678516</td>\n",
       "      <td>5.038712</td>\n",
       "      <td>4.899669</td>\n",
       "      <td>6.551452</td>\n",
       "      <td>6.719943</td>\n",
       "    </tr>\n",
       "    <tr>\n",
       "      <th>3</th>\n",
       "      <td>9.173493</td>\n",
       "      <td>10.937669</td>\n",
       "      <td>5.398200</td>\n",
       "      <td>10.565662</td>\n",
       "      <td>6.781344</td>\n",
       "      <td>7.248561</td>\n",
       "      <td>4.665928</td>\n",
       "      <td>6.427113</td>\n",
       "      <td>8.193204</td>\n",
       "      <td>6.700883</td>\n",
       "      <td>...</td>\n",
       "      <td>4.980605</td>\n",
       "      <td>9.732865</td>\n",
       "      <td>4.486266</td>\n",
       "      <td>7.539695</td>\n",
       "      <td>1.828747</td>\n",
       "      <td>8.755605</td>\n",
       "      <td>6.219785</td>\n",
       "      <td>5.480123</td>\n",
       "      <td>6.700244</td>\n",
       "      <td>6.963034</td>\n",
       "    </tr>\n",
       "    <tr>\n",
       "      <th>4</th>\n",
       "      <td>10.453269</td>\n",
       "      <td>11.627252</td>\n",
       "      <td>8.801222</td>\n",
       "      <td>10.939350</td>\n",
       "      <td>6.816641</td>\n",
       "      <td>9.321835</td>\n",
       "      <td>4.682167</td>\n",
       "      <td>6.652034</td>\n",
       "      <td>9.358029</td>\n",
       "      <td>7.951190</td>\n",
       "      <td>...</td>\n",
       "      <td>5.120647</td>\n",
       "      <td>9.746281</td>\n",
       "      <td>6.545359</td>\n",
       "      <td>7.592781</td>\n",
       "      <td>2.017845</td>\n",
       "      <td>8.781171</td>\n",
       "      <td>6.347564</td>\n",
       "      <td>5.648499</td>\n",
       "      <td>6.784176</td>\n",
       "      <td>7.693971</td>\n",
       "    </tr>\n",
       "    <tr>\n",
       "      <th>...</th>\n",
       "      <td>...</td>\n",
       "      <td>...</td>\n",
       "      <td>...</td>\n",
       "      <td>...</td>\n",
       "      <td>...</td>\n",
       "      <td>...</td>\n",
       "      <td>...</td>\n",
       "      <td>...</td>\n",
       "      <td>...</td>\n",
       "      <td>...</td>\n",
       "      <td>...</td>\n",
       "      <td>...</td>\n",
       "      <td>...</td>\n",
       "      <td>...</td>\n",
       "      <td>...</td>\n",
       "      <td>...</td>\n",
       "      <td>...</td>\n",
       "      <td>...</td>\n",
       "      <td>...</td>\n",
       "      <td>...</td>\n",
       "      <td>...</td>\n",
       "    </tr>\n",
       "    <tr>\n",
       "      <th>3078</th>\n",
       "      <td>59.781460</td>\n",
       "      <td>56.179985</td>\n",
       "      <td>57.971633</td>\n",
       "      <td>52.362914</td>\n",
       "      <td>57.781897</td>\n",
       "      <td>58.591025</td>\n",
       "      <td>57.778069</td>\n",
       "      <td>51.572486</td>\n",
       "      <td>57.697751</td>\n",
       "      <td>57.476374</td>\n",
       "      <td>...</td>\n",
       "      <td>58.058852</td>\n",
       "      <td>59.868188</td>\n",
       "      <td>56.114015</td>\n",
       "      <td>54.404131</td>\n",
       "      <td>57.757386</td>\n",
       "      <td>54.564385</td>\n",
       "      <td>58.043730</td>\n",
       "      <td>58.252923</td>\n",
       "      <td>55.524112</td>\n",
       "      <td>54.207304</td>\n",
       "    </tr>\n",
       "    <tr>\n",
       "      <th>3079</th>\n",
       "      <td>67.205645</td>\n",
       "      <td>60.326141</td>\n",
       "      <td>58.778210</td>\n",
       "      <td>59.597604</td>\n",
       "      <td>59.279094</td>\n",
       "      <td>60.038208</td>\n",
       "      <td>62.331102</td>\n",
       "      <td>60.609191</td>\n",
       "      <td>58.992356</td>\n",
       "      <td>59.067913</td>\n",
       "      <td>...</td>\n",
       "      <td>61.397760</td>\n",
       "      <td>62.524080</td>\n",
       "      <td>59.718116</td>\n",
       "      <td>59.075142</td>\n",
       "      <td>61.826915</td>\n",
       "      <td>58.758203</td>\n",
       "      <td>62.399763</td>\n",
       "      <td>61.650949</td>\n",
       "      <td>58.134672</td>\n",
       "      <td>59.524069</td>\n",
       "    </tr>\n",
       "    <tr>\n",
       "      <th>3080</th>\n",
       "      <td>84.251754</td>\n",
       "      <td>74.074984</td>\n",
       "      <td>75.902602</td>\n",
       "      <td>70.851184</td>\n",
       "      <td>77.011702</td>\n",
       "      <td>75.895533</td>\n",
       "      <td>80.048812</td>\n",
       "      <td>71.155573</td>\n",
       "      <td>74.744390</td>\n",
       "      <td>74.372245</td>\n",
       "      <td>...</td>\n",
       "      <td>79.184990</td>\n",
       "      <td>79.435166</td>\n",
       "      <td>73.884777</td>\n",
       "      <td>73.209868</td>\n",
       "      <td>79.448739</td>\n",
       "      <td>72.676376</td>\n",
       "      <td>79.293186</td>\n",
       "      <td>78.995605</td>\n",
       "      <td>73.459662</td>\n",
       "      <td>71.604592</td>\n",
       "    </tr>\n",
       "    <tr>\n",
       "      <th>3081</th>\n",
       "      <td>88.179583</td>\n",
       "      <td>78.844858</td>\n",
       "      <td>80.434786</td>\n",
       "      <td>75.772136</td>\n",
       "      <td>81.400312</td>\n",
       "      <td>80.516987</td>\n",
       "      <td>84.226694</td>\n",
       "      <td>76.132504</td>\n",
       "      <td>79.301973</td>\n",
       "      <td>78.991110</td>\n",
       "      <td>...</td>\n",
       "      <td>83.416594</td>\n",
       "      <td>83.711997</td>\n",
       "      <td>78.526111</td>\n",
       "      <td>77.863150</td>\n",
       "      <td>83.664678</td>\n",
       "      <td>77.495521</td>\n",
       "      <td>83.496396</td>\n",
       "      <td>83.220802</td>\n",
       "      <td>78.117105</td>\n",
       "      <td>76.416846</td>\n",
       "    </tr>\n",
       "    <tr>\n",
       "      <th>3082</th>\n",
       "      <td>93.743079</td>\n",
       "      <td>84.865062</td>\n",
       "      <td>86.401957</td>\n",
       "      <td>82.038435</td>\n",
       "      <td>87.340941</td>\n",
       "      <td>86.439455</td>\n",
       "      <td>90.004414</td>\n",
       "      <td>82.334185</td>\n",
       "      <td>85.370318</td>\n",
       "      <td>85.059002</td>\n",
       "      <td>...</td>\n",
       "      <td>89.240581</td>\n",
       "      <td>89.492873</td>\n",
       "      <td>84.631042</td>\n",
       "      <td>84.030473</td>\n",
       "      <td>89.479914</td>\n",
       "      <td>83.620369</td>\n",
       "      <td>89.329503</td>\n",
       "      <td>89.061019</td>\n",
       "      <td>84.253133</td>\n",
       "      <td>82.659003</td>\n",
       "    </tr>\n",
       "  </tbody>\n",
       "</table>\n",
       "<p>3083 rows × 771 columns</p>\n",
       "</div>"
      ],
      "text/plain": [
       "            0          1          2          3          4          5    \\\n",
       "0      5.562876   9.408307   2.476244   7.263118   5.282288   1.583892   \n",
       "1      6.275527   9.772277   3.742493   9.391857   5.966987   6.967967   \n",
       "2      9.078235  10.222067   5.327841  10.445792   6.363236   7.111340   \n",
       "3      9.173493  10.937669   5.398200  10.565662   6.781344   7.248561   \n",
       "4     10.453269  11.627252   8.801222  10.939350   6.816641   9.321835   \n",
       "...         ...        ...        ...        ...        ...        ...   \n",
       "3078  59.781460  56.179985  57.971633  52.362914  57.781897  58.591025   \n",
       "3079  67.205645  60.326141  58.778210  59.597604  59.279094  60.038208   \n",
       "3080  84.251754  74.074984  75.902602  70.851184  77.011702  75.895533   \n",
       "3081  88.179583  78.844858  80.434786  75.772136  81.400312  80.516987   \n",
       "3082  93.743079  84.865062  86.401957  82.038435  87.340941  86.439455   \n",
       "\n",
       "            6          7          8          9    ...        761        762  \\\n",
       "0      4.525869   4.086624   1.226136   5.644353  ...   3.599905   5.858725   \n",
       "1      4.654637   5.942024   1.366599   5.758951  ...   4.647412   7.501709   \n",
       "2      4.662264   6.425875   2.359034   5.914622  ...   4.780885   8.883466   \n",
       "3      4.665928   6.427113   8.193204   6.700883  ...   4.980605   9.732865   \n",
       "4      4.682167   6.652034   9.358029   7.951190  ...   5.120647   9.746281   \n",
       "...         ...        ...        ...        ...  ...        ...        ...   \n",
       "3078  57.778069  51.572486  57.697751  57.476374  ...  58.058852  59.868188   \n",
       "3079  62.331102  60.609191  58.992356  59.067913  ...  61.397760  62.524080   \n",
       "3080  80.048812  71.155573  74.744390  74.372245  ...  79.184990  79.435166   \n",
       "3081  84.226694  76.132504  79.301973  78.991110  ...  83.416594  83.711997   \n",
       "3082  90.004414  82.334185  85.370318  85.059002  ...  89.240581  89.492873   \n",
       "\n",
       "            763        764        765        766        767        768  \\\n",
       "0      2.397433   6.870954   0.624128   5.352804   4.178713   4.182506   \n",
       "1      2.406615   7.081888   1.123838   8.497024   4.706113   4.375260   \n",
       "2      3.993276   7.182392   1.419483   8.678516   5.038712   4.899669   \n",
       "3      4.486266   7.539695   1.828747   8.755605   6.219785   5.480123   \n",
       "4      6.545359   7.592781   2.017845   8.781171   6.347564   5.648499   \n",
       "...         ...        ...        ...        ...        ...        ...   \n",
       "3078  56.114015  54.404131  57.757386  54.564385  58.043730  58.252923   \n",
       "3079  59.718116  59.075142  61.826915  58.758203  62.399763  61.650949   \n",
       "3080  73.884777  73.209868  79.448739  72.676376  79.293186  78.995605   \n",
       "3081  78.526111  77.863150  83.664678  77.495521  83.496396  83.220802   \n",
       "3082  84.631042  84.030473  89.479914  83.620369  89.329503  89.061019   \n",
       "\n",
       "            769        770  \n",
       "0      2.802792   6.270563  \n",
       "1      6.100462   6.275194  \n",
       "2      6.551452   6.719943  \n",
       "3      6.700244   6.963034  \n",
       "4      6.784176   7.693971  \n",
       "...         ...        ...  \n",
       "3078  55.524112  54.207304  \n",
       "3079  58.134672  59.524069  \n",
       "3080  73.459662  71.604592  \n",
       "3081  78.117105  76.416846  \n",
       "3082  84.253133  82.659003  \n",
       "\n",
       "[3083 rows x 771 columns]"
      ]
     },
     "execution_count": 164,
     "metadata": {},
     "output_type": "execute_result"
    }
   ],
   "source": [
    "x_ts_AD=pd.DataFrame(neighbors_k_ts)\n",
    "x_ts_AD"
   ]
  },
  {
   "cell_type": "code",
   "execution_count": 165,
   "metadata": {},
   "outputs": [
    {
     "name": "stdout",
     "output_type": "stream",
     "text": [
      "[5.56300e+00 9.40800e+00 2.47600e+00 7.26300e+00 5.28200e+00 1.58400e+00\n",
      " 4.52600e+00 4.08700e+00 1.22600e+00 5.64400e+00 3.68800e+00 2.49300e+00\n",
      " 1.16520e+01 5.60800e+00 1.98100e+00 2.12100e+00 1.44400e+00 5.20800e+00\n",
      " 1.76500e+00 4.26400e+00 1.88300e+00 6.91600e+00 9.43100e+00 4.68400e+00\n",
      " 1.49200e+01 2.24000e+00 2.77300e+00 7.36600e+00 1.96200e+00 4.84400e+00\n",
      " 2.91800e+00 6.29500e+00 4.33100e+00 9.20700e+00 4.91700e+00 3.02300e+00\n",
      " 4.15400e+00 5.92200e+00 5.15800e+00 4.62200e+00 7.16300e+00 3.86700e+00\n",
      " 3.04700e+00 1.13160e+01 1.32220e+01 2.01300e+00 3.88900e+00 1.92400e+00\n",
      " 3.34400e+00 3.48100e+00 4.09700e+00 1.64800e+00 7.86500e+00 1.32260e+01\n",
      " 5.01000e+00 2.94400e+00 3.82500e+00 4.52400e+00 1.37280e+01 2.89200e+00\n",
      " 1.03440e+01 2.26700e+00 3.71600e+00 5.77700e+00 6.72900e+00 6.57400e+00\n",
      " 3.56200e+00 1.62200e+00 1.30300e+00 3.93600e+00 3.38100e+00 2.17900e+00\n",
      " 1.41400e+00 8.35800e+00 1.30980e+01 2.54800e+00 7.36000e-01 6.53300e+00\n",
      " 1.25400e+01 3.85900e+00 3.29900e+00 5.27200e+00 6.54800e+00 2.23100e+00\n",
      " 9.87100e+00 4.43500e+00 8.76000e-01 1.68400e+00 2.50200e+00 1.24600e+00\n",
      " 2.04000e+00 7.20900e+00 4.00300e+00 7.79200e+00 2.53100e+00 6.57600e+00\n",
      " 5.60500e+00 2.03300e+00 1.58400e+00 8.19900e+00 1.50000e+00 9.63800e+00\n",
      " 1.31000e+00 5.48300e+00 1.06860e+01 2.97600e+00 3.17600e+00 3.20500e+00\n",
      " 1.52400e+00 2.46200e+00 1.68000e+00 4.17700e+00 3.25700e+00 4.66300e+00\n",
      " 5.59600e+00 1.22800e+00 3.85800e+00 1.65900e+00 3.62100e+00 1.52400e+00\n",
      " 3.26200e+00 2.49200e+00 1.40400e+00 4.04800e+00 3.31600e+00 3.76400e+00\n",
      " 1.89100e+00 2.31700e+00 1.23280e+01 1.20500e+00 1.13700e+01 1.17600e+00\n",
      " 3.48400e+00 4.37000e+00 7.14800e+00 1.30700e+00 4.26600e+00 5.20700e+00\n",
      " 1.44200e+00 2.73200e+00 3.51200e+00 4.90000e+00 2.21200e+00 3.92200e+00\n",
      " 4.46800e+00 6.13600e+00 1.32700e+00 1.54900e+00 5.56900e+00 4.79900e+00\n",
      " 4.24300e+00 1.28400e+00 6.52300e+00 7.11700e+00 4.85200e+00 2.09400e+00\n",
      " 1.28000e-01 5.69500e+00 3.19700e+00 1.38300e+00 4.58700e+00 1.89200e+00\n",
      " 4.66000e+00 2.28100e+00 1.76700e+00 1.35100e+00 2.82700e+00 6.75800e+00\n",
      " 1.06020e+01 1.95200e+00 1.41700e+00 5.56000e+00 1.05500e+00 3.15800e+00\n",
      " 1.33000e+00 1.29500e+00 2.88400e+00 7.67600e+00 2.57600e+00 5.15000e+00\n",
      " 1.85100e+00 1.68400e+00 2.31200e+00 2.54400e+00 1.73000e+00 1.95100e+00\n",
      " 4.86200e+00 2.07500e+00 8.70700e+00 4.70100e+00 4.69300e+00 5.07600e+00\n",
      " 2.98800e+00 1.93500e+00 5.24500e+00 1.60000e+00 2.05500e+00 4.96700e+00\n",
      " 2.53700e+00 2.88400e+00 1.24300e+00 9.40200e+00 1.24300e+00 1.17500e+00\n",
      " 1.21000e+00 4.95200e+00 2.01900e+00 3.82300e+00 2.32800e+00 6.90200e+00\n",
      " 2.59700e+00 1.45600e+00 6.03500e+00 7.44600e+00 3.84100e+00 2.83600e+00\n",
      " 7.18300e+00 4.57300e+00 4.50900e+00 1.21800e+00 9.79000e-01 2.70200e+00\n",
      " 4.13200e+00 1.17600e+00 4.45900e+00 1.25500e+00 1.06400e+00 7.53000e+00\n",
      " 3.95900e+00 7.48200e+00 3.49400e+00 3.69900e+00 1.89700e+00 1.64300e+00\n",
      " 3.31100e+00 6.12200e+00 4.15800e+00 2.66000e+00 4.30700e+00 1.60000e+00\n",
      " 1.87000e+00 4.42900e+00 6.33900e+00 1.24120e+01 4.46900e+00 1.79800e+00\n",
      " 7.96000e-01 8.23500e+00 1.22400e+00 1.10500e+00 8.29200e+00 1.20500e+00\n",
      " 1.61500e+00 2.10200e+00 1.25800e+00 5.37300e+00 1.31700e+00 1.17700e+00\n",
      " 3.14400e+00 1.94800e+00 7.01900e+00 2.13000e+00 2.41700e+00 3.92100e+00\n",
      " 1.39900e+00 9.16000e-01 1.85000e-01 5.78200e+00 4.24500e+00 5.61900e+00\n",
      " 2.31500e+00 4.36500e+00 4.23100e+00 3.33700e+00 1.14530e+01 4.97400e+00\n",
      " 9.41600e+00 5.39100e+00 1.39700e+00 7.38000e-01 2.00400e+00 1.46900e+00\n",
      " 2.79000e+00 4.00800e+00 2.12600e+00 4.76800e+00 1.56400e+00 2.97000e+00\n",
      " 5.51800e+00 1.65500e+00 1.34300e+00 4.07100e+00 2.70800e+00 2.81900e+00\n",
      " 1.16300e+00 4.83600e+00 2.00000e+00 2.83700e+00 1.75900e+00 1.97600e+00\n",
      " 1.45300e+00 4.96600e+00 5.66000e-01 1.93100e+00 3.88200e+00 3.89100e+00\n",
      " 2.27700e+00 4.98500e+00 2.77900e+00 1.80500e+00 8.66000e-01 3.41700e+00\n",
      " 6.43800e+00 2.35700e+00 2.03700e+00 3.25900e+00 1.26700e+00 1.53800e+00\n",
      " 4.47100e+00 5.06400e+00 7.06000e-01 1.48500e+00 6.58600e+00 4.70200e+00\n",
      " 6.34100e+00 1.63100e+00 7.51700e+00 4.48500e+00 3.40100e+00 4.12200e+00\n",
      " 3.82000e+00 4.50000e+00 1.49000e+00 7.67700e+00 9.72000e-01 5.37900e+00\n",
      " 4.91500e+00 1.12900e+00 1.34920e+01 4.73200e+00 1.41400e+00 2.44100e+00\n",
      " 2.28200e+00 4.62900e+00 1.35700e+00 2.38000e+00 1.48900e+00 5.07300e+00\n",
      " 2.54300e+00 5.07200e+00 9.90000e-01 5.93900e+00 9.43800e+00 7.40800e+00\n",
      " 2.56700e+00 8.06300e+00 1.73200e+00 3.49400e+00 3.84300e+00 3.04100e+00\n",
      " 5.23800e+00 8.10100e+00 9.44670e+01 4.43800e+00 2.65400e+00 9.14600e+00\n",
      " 8.64000e-01 2.86000e+00 4.79900e+00 2.35700e+00 2.32800e+00 3.64500e+00\n",
      " 9.58000e-01 6.25700e+00 3.39100e+00 2.03400e+00 1.76800e+00 6.06800e+00\n",
      " 1.77200e+00 3.51300e+00 2.62900e+00 8.42700e+00 5.79200e+00 1.79300e+00\n",
      " 1.94200e+00 4.35500e+00 1.81500e+00 1.88500e+00 1.59800e+00 4.45600e+00\n",
      " 5.55200e+00 6.51000e-01 3.33400e+00 4.11800e+00 1.62000e+00 2.53200e+00\n",
      " 2.28800e+00 2.44400e+00 7.05200e+00 2.48100e+00 2.69900e+00 1.31000e+00\n",
      " 5.69000e+00 2.67500e+00 6.09800e+00 6.02300e+00 5.26000e-01 7.05400e+00\n",
      " 4.49700e+00 2.70400e+00 1.75800e+00 4.48200e+00 1.70000e+00 4.01900e+00\n",
      " 1.88700e+00 2.79900e+00 7.29100e+00 3.67500e+00 2.32500e+00 6.32900e+00\n",
      " 2.53000e+00 1.41634e+02 4.11100e+00 4.70800e+00 1.90500e+00 2.30200e+00\n",
      " 3.94700e+00 1.48700e+00 4.03200e+00 2.92700e+00 3.97700e+00 3.21200e+00\n",
      " 2.67400e+00 4.41400e+00 5.19900e+00 3.57300e+00 1.65800e+00 3.97100e+00\n",
      " 3.39500e+00 4.59500e+00 4.77000e+00 4.86100e+00 6.07700e+00 2.59200e+00\n",
      " 4.55000e+00 1.75800e+00 3.94400e+00 7.07100e+00 2.66300e+00 1.46400e+00\n",
      " 4.40300e+00 1.36100e+00 4.71400e+00 5.26900e+00 5.62300e+00 7.49000e-01\n",
      " 5.11000e+00 8.57000e-01 8.06800e+00 1.22300e+00 1.49500e+00 2.22400e+00\n",
      " 1.44900e+00 7.36400e+00 2.04200e+00 5.22000e+00 1.32800e+00 4.94700e+00\n",
      " 9.45700e+00 4.77700e+00 9.13100e+00 1.68300e+00 7.94000e-01 3.64400e+00\n",
      " 1.59700e+00 3.54500e+00 3.33800e+00 5.27700e+00 1.39500e+00 4.24700e+00\n",
      " 8.00700e+00 4.59200e+00 1.73100e+00 4.73100e+00 4.29200e+00 2.86300e+00\n",
      " 3.73100e+00 4.58900e+00 5.11200e+00 3.54900e+00 1.21800e+00 2.84500e+00\n",
      " 2.99700e+00 4.56000e+00 1.40800e+00 8.19900e+00 5.48800e+00 1.61300e+00\n",
      " 7.55000e-01 3.00600e+00 1.26200e+00 1.25770e+01 3.61400e+00 1.79800e+00\n",
      " 1.43200e+00 5.55800e+00 1.31300e+00 2.24300e+00 3.40200e+00 2.64300e+00\n",
      " 3.95600e+00 5.43000e+00 1.43800e+00 1.03900e+00 6.84000e-01 2.79700e+00\n",
      " 4.32100e+00 3.76900e+00 3.92500e+00 1.27500e+00 4.98000e+00 2.75800e+00\n",
      " 5.83600e+00 6.15100e+00 4.33800e+00 6.59000e+00 1.77000e+00 8.70700e+00\n",
      " 2.13300e+00 3.35700e+00 5.71500e+00 5.71800e+00 3.22500e+00 6.22800e+00\n",
      " 9.38600e+00 1.15500e+00 1.05800e+00 9.40000e+00 5.70500e+00 3.63400e+00\n",
      " 3.21000e+00 4.10300e+00 3.75800e+00 1.65400e+00 1.41700e+00 3.34200e+00\n",
      " 3.46300e+00 3.95300e+00 1.60200e+00 1.06850e+01 1.43000e+00 4.77500e+00\n",
      " 8.38400e+00 3.22300e+00 4.02800e+00 3.74200e+00 7.59000e-01 5.66000e-01\n",
      " 4.95300e+00 2.92920e+01 1.50700e+00 9.93000e-01 1.19800e+00 1.50470e+01\n",
      " 1.63300e+00 4.00700e+00 1.43800e+00 1.35500e+00 2.70200e+00 6.62000e+00\n",
      " 6.92100e+00 1.80000e+00 1.13300e+00 7.34700e+00 3.88900e+00 4.77200e+00\n",
      " 2.19900e+00 1.31700e+00 4.08900e+00 1.49900e+00 1.09200e+00 1.20500e+00\n",
      " 2.07300e+00 3.92600e+00 5.64300e+00 1.20200e+00 1.16100e+00 4.97100e+00\n",
      " 1.15210e+01 2.01300e+00 3.59500e+00 1.52700e+01 1.22860e+01 2.29300e+00\n",
      " 5.74300e+00 6.23600e+00 1.48000e+00 2.03100e+00 1.86800e+00 4.54200e+00\n",
      " 8.54000e-01 2.30100e+00 1.99500e+00 2.55000e+00 4.40900e+00 2.55400e+00\n",
      " 2.42500e+00 1.11800e+00 1.67800e+00 2.75000e+00 1.94800e+00 4.12700e+00\n",
      " 3.46600e+00 2.64300e+00 1.11620e+01 8.06700e+00 4.37300e+00 1.35600e+00\n",
      " 9.48000e-01 6.33400e+00 8.88000e+00 4.40500e+00 6.26400e+00 1.34000e+00\n",
      " 4.50900e+00 1.70400e+00 1.38500e+00 1.33500e+00 3.22600e+00 4.86300e+00\n",
      " 8.47400e+00 5.17000e+00 1.66500e+00 1.24600e+00 4.86800e+00 1.17580e+01\n",
      " 2.70700e+00 1.71000e+00 2.30000e+00 1.39700e+00 2.73900e+00 1.10300e+00\n",
      " 9.75000e-01 5.22100e+00 2.66300e+00 2.80600e+00 3.24300e+00 6.63500e+00\n",
      " 8.72200e+00 3.59600e+00 5.34100e+00 3.04600e+00 1.68700e+00 5.63500e+00\n",
      " 1.76700e+00 1.11000e+00 3.53000e+00 2.87000e+00 1.33700e+00 5.09300e+00\n",
      " 3.09500e+00 5.15600e+00 6.29500e+00 3.44300e+00 1.10800e+00 3.70900e+00\n",
      " 1.39400e+00 2.10500e+00 4.16700e+00 7.52700e+00 2.76400e+00 5.09000e+00\n",
      " 2.56300e+00 1.68900e+00 2.34600e+00 6.92000e-01 6.13400e+00 6.16500e+00\n",
      " 5.40900e+00 3.38000e+00 3.80400e+00 2.47700e+00 8.50100e+00 3.18900e+00\n",
      " 9.44900e+00 4.10400e+00 4.94100e+00 1.86300e+00 3.62600e+00 1.13500e+00\n",
      " 3.88400e+00 1.68000e+00 4.79200e+00 8.21000e-01 1.17100e+00 6.90000e-01\n",
      " 1.40100e+00 7.07000e+00 4.17800e+00 9.89000e-01 1.80000e+00 1.77600e+00\n",
      " 2.55300e+00 1.18700e+00 1.64400e+00 1.36000e+00 5.51800e+00 2.90800e+00\n",
      " 2.44200e+00 3.59800e+00 1.35600e+00 3.32400e+00 9.93000e-01 3.33500e+00\n",
      " 4.89500e+00 8.95000e-01 1.91200e+00 2.52000e+00 4.15200e+00 1.13600e+00\n",
      " 8.70000e-01 1.12600e+00 4.12200e+00 2.73200e+00 1.12300e+00 2.11000e+00\n",
      " 3.85900e+00 1.52800e+00 1.46100e+00 4.13200e+00 1.29900e+00 3.80800e+00\n",
      " 7.41000e-01 4.79500e+00 3.93500e+00 6.22700e+00 6.44900e+00 1.66100e+00\n",
      " 9.06700e+00 7.98000e+00 4.93400e+00 2.35100e+00 1.37900e+00 1.43370e+01\n",
      " 5.89000e-01 1.41000e+00 3.98800e+00 4.22600e+00 4.23100e+00 4.98800e+00\n",
      " 2.63400e+00 1.20600e+00 4.94000e+00 5.59900e+00 5.85300e+00 2.96800e+00\n",
      " 5.37700e+00 3.25000e+00 9.90000e-01 5.00900e+00 4.91300e+00 3.60000e+00\n",
      " 5.85900e+00 2.39700e+00 6.87100e+00 6.24000e-01 5.35300e+00 4.17900e+00\n",
      " 4.18300e+00 2.80300e+00 6.27100e+00]\n"
     ]
    }
   ],
   "source": [
    "similarity_ts= neighbors_k_ts\n",
    "cpd_AD=similarity_ts[0,:]\n",
    "cpd_value = np.round(cpd_AD, 3)\n",
    "print(cpd_value)"
   ]
  },
  {
   "cell_type": "code",
   "execution_count": 166,
   "metadata": {},
   "outputs": [
    {
     "name": "stdout",
     "output_type": "stream",
     "text": [
      "[False False  True False False  True  True  True  True False  True  True\n",
      " False False  True  True  True  True  True  True  True False False  True\n",
      " False  True  True False  True  True  True False  True False  True  True\n",
      "  True False  True  True False  True  True False False  True  True  True\n",
      "  True  True  True  True False False  True  True  True  True False  True\n",
      " False  True  True False False False  True  True  True  True  True  True\n",
      "  True False False  True  True False False  True  True  True False  True\n",
      " False  True  True  True  True  True  True False  True False  True False\n",
      " False  True  True False  True False  True False False  True  True  True\n",
      "  True  True  True  True  True  True False  True  True  True  True  True\n",
      "  True  True  True  True  True  True  True  True False  True False  True\n",
      "  True  True False  True  True  True  True  True  True  True  True  True\n",
      "  True False  True  True False  True  True  True False False  True  True\n",
      "  True False  True  True  True  True  True  True  True  True  True False\n",
      " False  True  True False  True  True  True  True  True False  True  True\n",
      "  True  True  True  True  True  True  True  True False  True  True  True\n",
      "  True  True  True  True  True  True  True  True  True False  True  True\n",
      "  True  True  True  True  True False  True  True False False  True  True\n",
      " False  True  True  True  True  True  True  True  True  True  True False\n",
      "  True False  True  True  True  True  True False  True  True  True  True\n",
      "  True  True False False  True  True  True False  True  True False  True\n",
      "  True  True  True False  True  True  True  True False  True  True  True\n",
      "  True  True  True False  True False  True  True  True  True False  True\n",
      " False False  True  True  True  True  True  True  True  True  True  True\n",
      " False  True  True  True  True  True  True  True  True  True  True  True\n",
      "  True  True  True  True  True  True  True  True  True  True  True  True\n",
      " False  True  True  True  True  True  True  True  True  True False  True\n",
      " False  True False  True  True  True  True  True  True False  True False\n",
      "  True  True False  True  True  True  True  True  True  True  True  True\n",
      "  True  True  True False False False  True False  True  True  True  True\n",
      "  True False False  True  True False  True  True  True  True  True  True\n",
      "  True False  True  True  True False  True  True  True False False  True\n",
      "  True  True  True  True  True  True False  True  True  True  True  True\n",
      "  True  True False  True  True  True False  True False False  True False\n",
      "  True  True  True  True  True  True  True  True False  True  True False\n",
      "  True False  True  True  True  True  True  True  True  True  True  True\n",
      "  True  True  True  True  True  True  True  True  True  True False  True\n",
      "  True  True  True False  True  True  True  True  True  True False  True\n",
      "  True  True False  True  True  True  True False  True  True  True  True\n",
      " False  True False  True  True  True  True  True  True  True  True  True\n",
      " False  True  True  True  True  True  True  True  True  True  True  True\n",
      "  True  True  True False False  True  True  True  True False  True  True\n",
      "  True False  True  True  True  True  True False  True  True  True  True\n",
      "  True  True  True  True  True  True False False  True False  True False\n",
      "  True  True False False  True False False  True  True False False  True\n",
      "  True  True  True  True  True  True  True  True  True False  True  True\n",
      " False  True  True  True  True  True  True False  True  True  True False\n",
      "  True  True  True  True  True False False  True  True False  True  True\n",
      "  True  True  True  True  True  True  True  True False  True  True  True\n",
      " False  True  True False False  True False False  True  True  True  True\n",
      "  True  True  True  True  True  True  True  True  True  True  True  True\n",
      "  True  True False False  True  True  True False False  True False  True\n",
      "  True  True  True  True  True  True False  True  True  True  True False\n",
      "  True  True  True  True  True  True  True  True  True  True  True False\n",
      " False  True False  True  True False  True  True  True  True  True  True\n",
      "  True  True False  True  True  True  True  True  True False  True  True\n",
      "  True  True  True  True False False False  True  True  True False  True\n",
      " False  True  True  True  True  True  True  True  True  True  True  True\n",
      "  True False  True  True  True  True  True  True  True  True False  True\n",
      "  True  True  True  True  True  True  True  True  True  True  True  True\n",
      "  True  True  True  True  True  True  True  True  True  True  True  True\n",
      "  True  True  True False False  True False False  True  True  True False\n",
      "  True  True  True  True  True  True  True  True  True False False  True\n",
      " False  True  True  True  True  True False  True False  True False  True\n",
      "  True  True False]\n"
     ]
    }
   ],
   "source": [
    "cpd_AD = np.where(cpd_value <= model_AD_limit, True, False)\n",
    "print(cpd_AD)"
   ]
  },
  {
   "cell_type": "code",
   "execution_count": 167,
   "metadata": {},
   "outputs": [
    {
     "name": "stdout",
     "output_type": "stream",
     "text": [
      "Coverage =  0.78\n"
     ]
    }
   ],
   "source": [
    "print(\"Coverage = \", round(sum(cpd_AD) / len(cpd_AD), 2))"
   ]
  },
  {
   "cell_type": "code",
   "execution_count": 168,
   "metadata": {},
   "outputs": [
    {
     "name": "stdout",
     "output_type": "stream",
     "text": [
      "Indices of substances included in AD =  [  2   5   6   7   8  10  11  14  15  16  17  18  19  20  23  25  26  28\n",
      "  29  30  32  34  35  36  38  39  41  42  45  46  47  48  49  50  51  54\n",
      "  55  56  57  59  61  62  66  67  68  69  70  71  72  75  76  79  80  81\n",
      "  83  85  86  87  88  89  90  92  94  97  98 100 102 105 106 107 108 109\n",
      " 110 111 112 113 115 116 117 118 119 120 121 122 123 124 125 126 127 129\n",
      " 131 132 133 135 136 137 138 139 140 141 142 143 144 146 147 149 150 151\n",
      " 154 155 156 158 159 160 161 162 163 164 165 166 169 170 172 173 174 175\n",
      " 176 178 179 180 181 182 183 184 185 186 187 189 190 191 192 193 194 195\n",
      " 196 197 198 199 200 202 203 204 205 206 207 208 210 211 214 215 217 218\n",
      " 219 220 221 222 223 224 225 226 228 230 231 232 233 234 236 237 238 239\n",
      " 240 241 244 245 246 248 249 251 252 253 254 256 257 258 259 261 262 263\n",
      " 264 265 266 268 270 271 272 273 275 278 279 280 281 282 283 284 285 286\n",
      " 287 289 290 291 292 293 294 295 296 297 298 299 300 301 302 303 304 305\n",
      " 306 307 308 309 310 311 313 314 315 316 317 318 319 320 321 323 325 327\n",
      " 328 329 330 331 332 334 336 337 339 340 341 342 343 344 345 346 347 348\n",
      " 349 350 354 356 357 358 359 360 363 364 366 367 368 369 370 371 372 374\n",
      " 375 376 378 379 380 383 384 385 386 387 388 389 391 392 393 394 395 396\n",
      " 397 399 400 401 403 406 408 409 410 411 412 413 414 415 417 418 420 422\n",
      " 423 424 425 426 427 428 429 430 431 432 433 434 435 436 437 438 439 440\n",
      " 441 443 444 445 446 448 449 450 451 452 453 455 456 457 459 460 461 462\n",
      " 464 465 466 467 469 471 472 473 474 475 476 477 478 479 481 482 483 484\n",
      " 485 486 487 488 489 490 491 492 493 494 497 498 499 500 502 503 504 506\n",
      " 507 508 509 510 512 513 514 515 516 517 518 519 520 521 524 526 528 529\n",
      " 532 535 536 539 540 541 542 543 544 545 546 547 548 550 551 553 554 555\n",
      " 556 557 558 560 561 562 564 565 566 567 568 571 572 574 575 576 577 578\n",
      " 579 580 581 582 583 585 586 587 589 590 593 596 597 598 599 600 601 602\n",
      " 603 604 605 606 607 608 609 610 611 612 613 616 617 618 621 623 624 625\n",
      " 626 627 628 629 631 632 633 634 636 637 638 639 640 641 642 643 644 645\n",
      " 646 649 651 652 654 655 656 657 658 659 660 661 663 664 665 666 667 668\n",
      " 670 671 672 673 674 675 679 680 681 683 685 686 687 688 689 690 691 692\n",
      " 693 694 695 696 698 699 700 701 702 703 704 705 707 708 709 710 711 712\n",
      " 713 714 715 716 717 718 719 720 721 722 723 724 725 726 727 728 729 730\n",
      " 731 732 733 734 737 740 741 742 744 745 746 747 748 749 750 751 752 755\n",
      " 757 758 759 760 761 763 765 767 768 769]\n"
     ]
    }
   ],
   "source": [
    "print(\"Indices of substances included in AD = \", np.where(cpd_AD != 0)[0])"
   ]
  },
  {
   "cell_type": "code",
   "execution_count": 169,
   "metadata": {},
   "outputs": [],
   "source": [
    "out_Ad=list(np.where(cpd_AD == 0)[0])"
   ]
  },
  {
   "cell_type": "markdown",
   "metadata": {},
   "source": [
    "# 12. Prediction only for molecules included in  AD"
   ]
  },
  {
   "cell_type": "code",
   "execution_count": 170,
   "metadata": {},
   "outputs": [],
   "source": [
    "y_pred_MLPR_ad=list(y_pred_MLPR)"
   ]
  },
  {
   "cell_type": "code",
   "execution_count": 171,
   "metadata": {},
   "outputs": [],
   "source": [
    "y_pred_MLPR_ad[:] = [x for i,x in enumerate(y_pred_MLPR_ad) if i not in out_Ad]"
   ]
  },
  {
   "cell_type": "code",
   "execution_count": 172,
   "metadata": {},
   "outputs": [
    {
     "data": {
      "text/plain": [
       "604"
      ]
     },
     "execution_count": 172,
     "metadata": {},
     "output_type": "execute_result"
    }
   ],
   "source": [
    "len(y_pred_MLPR_ad)"
   ]
  },
  {
   "cell_type": "code",
   "execution_count": 173,
   "metadata": {},
   "outputs": [],
   "source": [
    "y_ts_ad=list(y_ts)"
   ]
  },
  {
   "cell_type": "code",
   "execution_count": 174,
   "metadata": {},
   "outputs": [],
   "source": [
    "y_ts_ad[:] = [x for i,x in enumerate(y_ts_ad) if i not in out_Ad]"
   ]
  },
  {
   "cell_type": "code",
   "execution_count": 175,
   "metadata": {},
   "outputs": [
    {
     "data": {
      "text/plain": [
       "604"
      ]
     },
     "execution_count": 175,
     "metadata": {},
     "output_type": "execute_result"
    }
   ],
   "source": [
    "len(y_ts_ad)"
   ]
  },
  {
   "cell_type": "code",
   "execution_count": 176,
   "metadata": {},
   "outputs": [
    {
     "data": {
      "text/plain": [
       "0.65"
      ]
     },
     "execution_count": 176,
     "metadata": {},
     "output_type": "execute_result"
    }
   ],
   "source": [
    "Q2_TS = round(r2_score(y_ts_ad, y_pred_MLPR_ad), 2)\n",
    "Q2_TS"
   ]
  },
  {
   "cell_type": "code",
   "execution_count": 177,
   "metadata": {
    "scrolled": true
   },
   "outputs": [
    {
     "data": {
      "text/plain": [
       "0.68"
      ]
     },
     "execution_count": 177,
     "metadata": {},
     "output_type": "execute_result"
    }
   ],
   "source": [
    "RMSE_TS=round(np.sqrt(mean_absolute_error(y_ts_ad, y_pred_MLPR_ad)), 2)\n",
    "RMSE_TS"
   ]
  },
  {
   "cell_type": "markdown",
   "metadata": {},
   "source": [
    "# k-nearest neighbors"
   ]
  },
  {
   "cell_type": "code",
   "execution_count": 178,
   "metadata": {},
   "outputs": [],
   "source": [
    "k_range = list(range(1, 31))\n",
    "param_grid = dict(n_neighbors=k_range)"
   ]
  },
  {
   "cell_type": "code",
   "execution_count": 179,
   "metadata": {},
   "outputs": [],
   "source": [
    "m = GridSearchCV(KNeighborsRegressor(), param_grid, n_jobs=-1, cv=cv, verbose=1)"
   ]
  },
  {
   "cell_type": "code",
   "execution_count": 180,
   "metadata": {},
   "outputs": [
    {
     "name": "stdout",
     "output_type": "stream",
     "text": [
      "Fitting 5 folds for each of 30 candidates, totalling 150 fits\n"
     ]
    },
    {
     "data": {
      "text/html": [
       "<style>#sk-container-id-4 {color: black;}#sk-container-id-4 pre{padding: 0;}#sk-container-id-4 div.sk-toggleable {background-color: white;}#sk-container-id-4 label.sk-toggleable__label {cursor: pointer;display: block;width: 100%;margin-bottom: 0;padding: 0.3em;box-sizing: border-box;text-align: center;}#sk-container-id-4 label.sk-toggleable__label-arrow:before {content: \"▸\";float: left;margin-right: 0.25em;color: #696969;}#sk-container-id-4 label.sk-toggleable__label-arrow:hover:before {color: black;}#sk-container-id-4 div.sk-estimator:hover label.sk-toggleable__label-arrow:before {color: black;}#sk-container-id-4 div.sk-toggleable__content {max-height: 0;max-width: 0;overflow: hidden;text-align: left;background-color: #f0f8ff;}#sk-container-id-4 div.sk-toggleable__content pre {margin: 0.2em;color: black;border-radius: 0.25em;background-color: #f0f8ff;}#sk-container-id-4 input.sk-toggleable__control:checked~div.sk-toggleable__content {max-height: 200px;max-width: 100%;overflow: auto;}#sk-container-id-4 input.sk-toggleable__control:checked~label.sk-toggleable__label-arrow:before {content: \"▾\";}#sk-container-id-4 div.sk-estimator input.sk-toggleable__control:checked~label.sk-toggleable__label {background-color: #d4ebff;}#sk-container-id-4 div.sk-label input.sk-toggleable__control:checked~label.sk-toggleable__label {background-color: #d4ebff;}#sk-container-id-4 input.sk-hidden--visually {border: 0;clip: rect(1px 1px 1px 1px);clip: rect(1px, 1px, 1px, 1px);height: 1px;margin: -1px;overflow: hidden;padding: 0;position: absolute;width: 1px;}#sk-container-id-4 div.sk-estimator {font-family: monospace;background-color: #f0f8ff;border: 1px dotted black;border-radius: 0.25em;box-sizing: border-box;margin-bottom: 0.5em;}#sk-container-id-4 div.sk-estimator:hover {background-color: #d4ebff;}#sk-container-id-4 div.sk-parallel-item::after {content: \"\";width: 100%;border-bottom: 1px solid gray;flex-grow: 1;}#sk-container-id-4 div.sk-label:hover label.sk-toggleable__label {background-color: #d4ebff;}#sk-container-id-4 div.sk-serial::before {content: \"\";position: absolute;border-left: 1px solid gray;box-sizing: border-box;top: 0;bottom: 0;left: 50%;z-index: 0;}#sk-container-id-4 div.sk-serial {display: flex;flex-direction: column;align-items: center;background-color: white;padding-right: 0.2em;padding-left: 0.2em;position: relative;}#sk-container-id-4 div.sk-item {position: relative;z-index: 1;}#sk-container-id-4 div.sk-parallel {display: flex;align-items: stretch;justify-content: center;background-color: white;position: relative;}#sk-container-id-4 div.sk-item::before, #sk-container-id-4 div.sk-parallel-item::before {content: \"\";position: absolute;border-left: 1px solid gray;box-sizing: border-box;top: 0;bottom: 0;left: 50%;z-index: -1;}#sk-container-id-4 div.sk-parallel-item {display: flex;flex-direction: column;z-index: 1;position: relative;background-color: white;}#sk-container-id-4 div.sk-parallel-item:first-child::after {align-self: flex-end;width: 50%;}#sk-container-id-4 div.sk-parallel-item:last-child::after {align-self: flex-start;width: 50%;}#sk-container-id-4 div.sk-parallel-item:only-child::after {width: 0;}#sk-container-id-4 div.sk-dashed-wrapped {border: 1px dashed gray;margin: 0 0.4em 0.5em 0.4em;box-sizing: border-box;padding-bottom: 0.4em;background-color: white;}#sk-container-id-4 div.sk-label label {font-family: monospace;font-weight: bold;display: inline-block;line-height: 1.2em;}#sk-container-id-4 div.sk-label-container {text-align: center;}#sk-container-id-4 div.sk-container {/* jupyter's `normalize.less` sets `[hidden] { display: none; }` but bootstrap.min.css set `[hidden] { display: none !important; }` so we also need the `!important` here to be able to override the default hidden behavior on the sphinx rendered scikit-learn.org. See: https://github.com/scikit-learn/scikit-learn/issues/21755 */display: inline-block !important;position: relative;}#sk-container-id-4 div.sk-text-repr-fallback {display: none;}</style><div id=\"sk-container-id-4\" class=\"sk-top-container\"><div class=\"sk-text-repr-fallback\"><pre>GridSearchCV(cv=KFold(n_splits=5, random_state=42, shuffle=True),\n",
       "             estimator=KNeighborsRegressor(), n_jobs=-1,\n",
       "             param_grid={&#x27;n_neighbors&#x27;: [1, 2, 3, 4, 5, 6, 7, 8, 9, 10, 11, 12,\n",
       "                                         13, 14, 15, 16, 17, 18, 19, 20, 21, 22,\n",
       "                                         23, 24, 25, 26, 27, 28, 29, 30]},\n",
       "             verbose=1)</pre><b>In a Jupyter environment, please rerun this cell to show the HTML representation or trust the notebook. <br />On GitHub, the HTML representation is unable to render, please try loading this page with nbviewer.org.</b></div><div class=\"sk-container\" hidden><div class=\"sk-item sk-dashed-wrapped\"><div class=\"sk-label-container\"><div class=\"sk-label sk-toggleable\"><input class=\"sk-toggleable__control sk-hidden--visually\" id=\"sk-estimator-id-10\" type=\"checkbox\" ><label for=\"sk-estimator-id-10\" class=\"sk-toggleable__label sk-toggleable__label-arrow\">GridSearchCV</label><div class=\"sk-toggleable__content\"><pre>GridSearchCV(cv=KFold(n_splits=5, random_state=42, shuffle=True),\n",
       "             estimator=KNeighborsRegressor(), n_jobs=-1,\n",
       "             param_grid={&#x27;n_neighbors&#x27;: [1, 2, 3, 4, 5, 6, 7, 8, 9, 10, 11, 12,\n",
       "                                         13, 14, 15, 16, 17, 18, 19, 20, 21, 22,\n",
       "                                         23, 24, 25, 26, 27, 28, 29, 30]},\n",
       "             verbose=1)</pre></div></div></div><div class=\"sk-parallel\"><div class=\"sk-parallel-item\"><div class=\"sk-item\"><div class=\"sk-label-container\"><div class=\"sk-label sk-toggleable\"><input class=\"sk-toggleable__control sk-hidden--visually\" id=\"sk-estimator-id-11\" type=\"checkbox\" ><label for=\"sk-estimator-id-11\" class=\"sk-toggleable__label sk-toggleable__label-arrow\">estimator: KNeighborsRegressor</label><div class=\"sk-toggleable__content\"><pre>KNeighborsRegressor()</pre></div></div></div><div class=\"sk-serial\"><div class=\"sk-item\"><div class=\"sk-estimator sk-toggleable\"><input class=\"sk-toggleable__control sk-hidden--visually\" id=\"sk-estimator-id-12\" type=\"checkbox\" ><label for=\"sk-estimator-id-12\" class=\"sk-toggleable__label sk-toggleable__label-arrow\">KNeighborsRegressor</label><div class=\"sk-toggleable__content\"><pre>KNeighborsRegressor()</pre></div></div></div></div></div></div></div></div></div></div>"
      ],
      "text/plain": [
       "GridSearchCV(cv=KFold(n_splits=5, random_state=42, shuffle=True),\n",
       "             estimator=KNeighborsRegressor(), n_jobs=-1,\n",
       "             param_grid={'n_neighbors': [1, 2, 3, 4, 5, 6, 7, 8, 9, 10, 11, 12,\n",
       "                                         13, 14, 15, 16, 17, 18, 19, 20, 21, 22,\n",
       "                                         23, 24, 25, 26, 27, 28, 29, 30]},\n",
       "             verbose=1)"
      ]
     },
     "execution_count": 180,
     "metadata": {},
     "output_type": "execute_result"
    }
   ],
   "source": [
    "m.fit(x_tr, y_tr)"
   ]
  },
  {
   "cell_type": "code",
   "execution_count": 181,
   "metadata": {},
   "outputs": [],
   "source": [
    "best_kNN = m.best_estimator_"
   ]
  },
  {
   "cell_type": "code",
   "execution_count": 182,
   "metadata": {},
   "outputs": [
    {
     "data": {
      "text/plain": [
       "{'n_neighbors': 3}"
      ]
     },
     "execution_count": 182,
     "metadata": {},
     "output_type": "execute_result"
    }
   ],
   "source": [
    "m.best_params_"
   ]
  },
  {
   "cell_type": "code",
   "execution_count": 183,
   "metadata": {},
   "outputs": [],
   "source": [
    "y_pred_ws_kNN = best_kNN.predict(x_tr)"
   ]
  },
  {
   "cell_type": "code",
   "execution_count": 184,
   "metadata": {},
   "outputs": [
    {
     "data": {
      "text/plain": [
       "0.79"
      ]
     },
     "execution_count": 184,
     "metadata": {},
     "output_type": "execute_result"
    }
   ],
   "source": [
    "R2_WS = round(r2_score(y_tr, y_pred_ws_kNN), 2)\n",
    "R2_WS"
   ]
  },
  {
   "cell_type": "code",
   "execution_count": 185,
   "metadata": {},
   "outputs": [
    {
     "data": {
      "text/plain": [
       "0.59"
      ]
     },
     "execution_count": 185,
     "metadata": {},
     "output_type": "execute_result"
    }
   ],
   "source": [
    "RMSE_WS=round(np.sqrt(mean_absolute_error(y_tr, y_pred_ws_kNN)), 2)\n",
    "RMSE_WS"
   ]
  },
  {
   "cell_type": "code",
   "execution_count": 186,
   "metadata": {},
   "outputs": [],
   "source": [
    "y_pred_CV_kNN = cross_val_predict(best_kNN, x_tr, y_tr, cv=cv)"
   ]
  },
  {
   "cell_type": "code",
   "execution_count": 187,
   "metadata": {},
   "outputs": [
    {
     "data": {
      "text/plain": [
       "array([4.261667 , 6.16     , 4.7666664, ..., 5.9933333, 8.18     ,\n",
       "       6.5416665], dtype=float32)"
      ]
     },
     "execution_count": 187,
     "metadata": {},
     "output_type": "execute_result"
    }
   ],
   "source": [
    "y_pred_CV_kNN"
   ]
  },
  {
   "cell_type": "code",
   "execution_count": 188,
   "metadata": {},
   "outputs": [
    {
     "data": {
      "text/plain": [
       "0.53"
      ]
     },
     "execution_count": 188,
     "metadata": {},
     "output_type": "execute_result"
    }
   ],
   "source": [
    "Q2_CV = round(r2_score(y_tr, y_pred_CV_kNN), 2)\n",
    "Q2_CV"
   ]
  },
  {
   "cell_type": "code",
   "execution_count": 189,
   "metadata": {},
   "outputs": [
    {
     "data": {
      "text/plain": [
       "0.74"
      ]
     },
     "execution_count": 189,
     "metadata": {},
     "output_type": "execute_result"
    }
   ],
   "source": [
    "RMSE_CV=round(np.sqrt(mean_absolute_error(y_tr, y_pred_CV_kNN)), 2)\n",
    "RMSE_CV"
   ]
  },
  {
   "cell_type": "markdown",
   "metadata": {},
   "source": [
    "# 9. Prediction for test set's molecules"
   ]
  },
  {
   "cell_type": "code",
   "execution_count": 190,
   "metadata": {},
   "outputs": [],
   "source": [
    "x_ts = np.array(x_ts, dtype=np.float32)\n",
    "y_ts = np.array(y_ts, dtype=np.float32)"
   ]
  },
  {
   "cell_type": "code",
   "execution_count": 191,
   "metadata": {},
   "outputs": [],
   "source": [
    "y_pred_kNN = best_kNN.predict(x_ts)"
   ]
  },
  {
   "cell_type": "code",
   "execution_count": 192,
   "metadata": {},
   "outputs": [
    {
     "data": {
      "text/plain": [
       "0.55"
      ]
     },
     "execution_count": 192,
     "metadata": {},
     "output_type": "execute_result"
    }
   ],
   "source": [
    "Q2_TS = round(r2_score(y_ts, y_pred_kNN), 2)\n",
    "Q2_TS"
   ]
  },
  {
   "cell_type": "code",
   "execution_count": 193,
   "metadata": {},
   "outputs": [
    {
     "data": {
      "text/plain": [
       "0.73"
      ]
     },
     "execution_count": 193,
     "metadata": {},
     "output_type": "execute_result"
    }
   ],
   "source": [
    "RMSE_TS=round(np.sqrt(mean_absolute_error(y_ts, y_pred_kNN)), 2)\n",
    "RMSE_TS"
   ]
  },
  {
   "cell_type": "markdown",
   "metadata": {},
   "source": [
    "# save the model to disk"
   ]
  },
  {
   "cell_type": "code",
   "execution_count": 194,
   "metadata": {},
   "outputs": [],
   "source": [
    "pickle.dump(best_kNN, open('Models/RDKiT/HDAC6_kNN_RDKiT.pkl', 'wb'))"
   ]
  },
  {
   "cell_type": "markdown",
   "metadata": {},
   "source": [
    "# load the model from disk"
   ]
  },
  {
   "cell_type": "code",
   "execution_count": 190,
   "metadata": {},
   "outputs": [],
   "source": [
    "best_kNN = pickle.load(open('Models/RDKiT/HDAC6_kNN_RDKiT.pkl', 'rb'))"
   ]
  },
  {
   "cell_type": "markdown",
   "metadata": {},
   "source": [
    "# 10. Y-randomization MLPR"
   ]
  },
  {
   "cell_type": "code",
   "execution_count": 195,
   "metadata": {},
   "outputs": [
    {
     "name": "stderr",
     "output_type": "stream",
     "text": [
      "[Parallel(n_jobs=-1)]: Using backend LokyBackend with 16 concurrent workers.\n",
      "[Parallel(n_jobs=-1)]: Done  18 tasks      | elapsed:    0.4s\n"
     ]
    },
    {
     "name": "stdout",
     "output_type": "stream",
     "text": [
      "True score =  0.52 \n",
      "Y-randomization =  -0.34 \n",
      "p-value =  0.0196\n"
     ]
    },
    {
     "name": "stderr",
     "output_type": "stream",
     "text": [
      "[Parallel(n_jobs=-1)]: Done  50 out of  50 | elapsed:    0.9s finished\n"
     ]
    }
   ],
   "source": [
    "permutations = 50\n",
    "score, permutation_scores, pvalue = permutation_test_score(best_kNN, x_tr, y_tr,\n",
    "                                                           cv=cv, scoring='r2',\n",
    "                                                           n_permutations=permutations,\n",
    "                                                           n_jobs=-1,\n",
    "                                                           verbose=1,\n",
    "                                                           random_state=seed)\n",
    "print('True score = ', score.round(2),\n",
    "      '\\nY-randomization = ', np.mean(permutation_scores).round(2),\n",
    "      '\\np-value = ', pvalue.round(4))"
   ]
  },
  {
   "cell_type": "markdown",
   "metadata": {},
   "source": [
    "# 11. Estimating applicability domain. Method - Euclidian distances, K=1"
   ]
  },
  {
   "cell_type": "code",
   "execution_count": 196,
   "metadata": {},
   "outputs": [],
   "source": [
    "neighbors_k= pairwise_distances(x_tr, n_jobs=-1)\n",
    "neighbors_k.sort(0)"
   ]
  },
  {
   "cell_type": "code",
   "execution_count": 197,
   "metadata": {},
   "outputs": [
    {
     "data": {
      "text/html": [
       "<div>\n",
       "<style scoped>\n",
       "    .dataframe tbody tr th:only-of-type {\n",
       "        vertical-align: middle;\n",
       "    }\n",
       "\n",
       "    .dataframe tbody tr th {\n",
       "        vertical-align: top;\n",
       "    }\n",
       "\n",
       "    .dataframe thead th {\n",
       "        text-align: right;\n",
       "    }\n",
       "</style>\n",
       "<table border=\"1\" class=\"dataframe\">\n",
       "  <thead>\n",
       "    <tr style=\"text-align: right;\">\n",
       "      <th></th>\n",
       "      <th>0</th>\n",
       "      <th>1</th>\n",
       "      <th>2</th>\n",
       "      <th>3</th>\n",
       "      <th>4</th>\n",
       "      <th>5</th>\n",
       "      <th>6</th>\n",
       "      <th>7</th>\n",
       "      <th>8</th>\n",
       "      <th>9</th>\n",
       "      <th>...</th>\n",
       "      <th>3073</th>\n",
       "      <th>3074</th>\n",
       "      <th>3075</th>\n",
       "      <th>3076</th>\n",
       "      <th>3077</th>\n",
       "      <th>3078</th>\n",
       "      <th>3079</th>\n",
       "      <th>3080</th>\n",
       "      <th>3081</th>\n",
       "      <th>3082</th>\n",
       "    </tr>\n",
       "  </thead>\n",
       "  <tbody>\n",
       "    <tr>\n",
       "      <th>0</th>\n",
       "      <td>0.000000</td>\n",
       "      <td>0.000000</td>\n",
       "      <td>0.000000</td>\n",
       "      <td>0.000000</td>\n",
       "      <td>0.000000</td>\n",
       "      <td>0.000000</td>\n",
       "      <td>0.000000</td>\n",
       "      <td>0.000000</td>\n",
       "      <td>0.000000</td>\n",
       "      <td>0.000000</td>\n",
       "      <td>...</td>\n",
       "      <td>0.000000</td>\n",
       "      <td>0.000000</td>\n",
       "      <td>0.000000</td>\n",
       "      <td>0.000000</td>\n",
       "      <td>0.000000</td>\n",
       "      <td>0.000000</td>\n",
       "      <td>0.000000</td>\n",
       "      <td>0.000000</td>\n",
       "      <td>0.000000</td>\n",
       "      <td>0.000000</td>\n",
       "    </tr>\n",
       "    <tr>\n",
       "      <th>1</th>\n",
       "      <td>2.900746</td>\n",
       "      <td>7.490754</td>\n",
       "      <td>4.863770</td>\n",
       "      <td>4.216553</td>\n",
       "      <td>17.930071</td>\n",
       "      <td>5.799908</td>\n",
       "      <td>12.561265</td>\n",
       "      <td>5.479323</td>\n",
       "      <td>7.492609</td>\n",
       "      <td>7.368469</td>\n",
       "      <td>...</td>\n",
       "      <td>4.920030</td>\n",
       "      <td>4.072734</td>\n",
       "      <td>4.076962</td>\n",
       "      <td>5.708168</td>\n",
       "      <td>0.658189</td>\n",
       "      <td>4.072734</td>\n",
       "      <td>4.407693</td>\n",
       "      <td>4.652277</td>\n",
       "      <td>3.443594</td>\n",
       "      <td>4.879563</td>\n",
       "    </tr>\n",
       "    <tr>\n",
       "      <th>2</th>\n",
       "      <td>7.109359</td>\n",
       "      <td>8.714100</td>\n",
       "      <td>6.138494</td>\n",
       "      <td>4.775836</td>\n",
       "      <td>17.975319</td>\n",
       "      <td>10.456244</td>\n",
       "      <td>13.250570</td>\n",
       "      <td>5.497795</td>\n",
       "      <td>7.601954</td>\n",
       "      <td>7.723112</td>\n",
       "      <td>...</td>\n",
       "      <td>5.171291</td>\n",
       "      <td>5.859728</td>\n",
       "      <td>4.348377</td>\n",
       "      <td>6.024628</td>\n",
       "      <td>0.988269</td>\n",
       "      <td>5.060231</td>\n",
       "      <td>5.224220</td>\n",
       "      <td>6.131215</td>\n",
       "      <td>4.407693</td>\n",
       "      <td>4.903584</td>\n",
       "    </tr>\n",
       "    <tr>\n",
       "      <th>3</th>\n",
       "      <td>8.137948</td>\n",
       "      <td>9.820561</td>\n",
       "      <td>6.308079</td>\n",
       "      <td>4.847588</td>\n",
       "      <td>18.707183</td>\n",
       "      <td>10.577019</td>\n",
       "      <td>13.336941</td>\n",
       "      <td>5.805781</td>\n",
       "      <td>7.664309</td>\n",
       "      <td>7.915602</td>\n",
       "      <td>...</td>\n",
       "      <td>6.813833</td>\n",
       "      <td>6.497852</td>\n",
       "      <td>4.839753</td>\n",
       "      <td>6.250507</td>\n",
       "      <td>1.010266</td>\n",
       "      <td>5.063000</td>\n",
       "      <td>5.662558</td>\n",
       "      <td>6.684642</td>\n",
       "      <td>4.833030</td>\n",
       "      <td>5.560298</td>\n",
       "    </tr>\n",
       "    <tr>\n",
       "      <th>4</th>\n",
       "      <td>9.989728</td>\n",
       "      <td>9.854204</td>\n",
       "      <td>7.085804</td>\n",
       "      <td>4.960749</td>\n",
       "      <td>18.861733</td>\n",
       "      <td>10.596407</td>\n",
       "      <td>13.549530</td>\n",
       "      <td>5.840825</td>\n",
       "      <td>9.903273</td>\n",
       "      <td>7.977096</td>\n",
       "      <td>...</td>\n",
       "      <td>7.405154</td>\n",
       "      <td>6.540346</td>\n",
       "      <td>5.370556</td>\n",
       "      <td>6.365888</td>\n",
       "      <td>1.255771</td>\n",
       "      <td>5.138347</td>\n",
       "      <td>6.034671</td>\n",
       "      <td>6.959352</td>\n",
       "      <td>4.916375</td>\n",
       "      <td>5.952220</td>\n",
       "    </tr>\n",
       "    <tr>\n",
       "      <th>...</th>\n",
       "      <td>...</td>\n",
       "      <td>...</td>\n",
       "      <td>...</td>\n",
       "      <td>...</td>\n",
       "      <td>...</td>\n",
       "      <td>...</td>\n",
       "      <td>...</td>\n",
       "      <td>...</td>\n",
       "      <td>...</td>\n",
       "      <td>...</td>\n",
       "      <td>...</td>\n",
       "      <td>...</td>\n",
       "      <td>...</td>\n",
       "      <td>...</td>\n",
       "      <td>...</td>\n",
       "      <td>...</td>\n",
       "      <td>...</td>\n",
       "      <td>...</td>\n",
       "      <td>...</td>\n",
       "      <td>...</td>\n",
       "      <td>...</td>\n",
       "    </tr>\n",
       "    <tr>\n",
       "      <th>3078</th>\n",
       "      <td>59.709452</td>\n",
       "      <td>57.090008</td>\n",
       "      <td>58.331396</td>\n",
       "      <td>58.048544</td>\n",
       "      <td>60.361909</td>\n",
       "      <td>59.614734</td>\n",
       "      <td>60.295796</td>\n",
       "      <td>56.343509</td>\n",
       "      <td>59.286559</td>\n",
       "      <td>57.215438</td>\n",
       "      <td>...</td>\n",
       "      <td>57.023795</td>\n",
       "      <td>58.033652</td>\n",
       "      <td>55.506057</td>\n",
       "      <td>57.839582</td>\n",
       "      <td>57.789266</td>\n",
       "      <td>57.883805</td>\n",
       "      <td>52.423024</td>\n",
       "      <td>58.245987</td>\n",
       "      <td>52.542843</td>\n",
       "      <td>58.314947</td>\n",
       "    </tr>\n",
       "    <tr>\n",
       "      <th>3079</th>\n",
       "      <td>64.622310</td>\n",
       "      <td>58.628856</td>\n",
       "      <td>61.113141</td>\n",
       "      <td>65.253094</td>\n",
       "      <td>66.739984</td>\n",
       "      <td>63.430776</td>\n",
       "      <td>64.864438</td>\n",
       "      <td>59.616123</td>\n",
       "      <td>60.062919</td>\n",
       "      <td>58.115876</td>\n",
       "      <td>...</td>\n",
       "      <td>58.553733</td>\n",
       "      <td>61.866145</td>\n",
       "      <td>58.377595</td>\n",
       "      <td>59.986568</td>\n",
       "      <td>61.820461</td>\n",
       "      <td>61.827141</td>\n",
       "      <td>59.121777</td>\n",
       "      <td>59.020775</td>\n",
       "      <td>59.263230</td>\n",
       "      <td>58.379989</td>\n",
       "    </tr>\n",
       "    <tr>\n",
       "      <th>3080</th>\n",
       "      <td>81.340502</td>\n",
       "      <td>75.280839</td>\n",
       "      <td>78.340686</td>\n",
       "      <td>82.818196</td>\n",
       "      <td>84.909101</td>\n",
       "      <td>80.951973</td>\n",
       "      <td>81.381164</td>\n",
       "      <td>74.253500</td>\n",
       "      <td>77.427874</td>\n",
       "      <td>74.428053</td>\n",
       "      <td>...</td>\n",
       "      <td>73.744194</td>\n",
       "      <td>78.953934</td>\n",
       "      <td>72.996767</td>\n",
       "      <td>77.820650</td>\n",
       "      <td>79.473150</td>\n",
       "      <td>79.284739</td>\n",
       "      <td>70.352530</td>\n",
       "      <td>76.791959</td>\n",
       "      <td>70.447545</td>\n",
       "      <td>76.546431</td>\n",
       "    </tr>\n",
       "    <tr>\n",
       "      <th>3081</th>\n",
       "      <td>85.425503</td>\n",
       "      <td>79.865417</td>\n",
       "      <td>82.594970</td>\n",
       "      <td>86.833621</td>\n",
       "      <td>88.959112</td>\n",
       "      <td>85.144143</td>\n",
       "      <td>85.474637</td>\n",
       "      <td>78.858671</td>\n",
       "      <td>81.937688</td>\n",
       "      <td>78.974006</td>\n",
       "      <td>...</td>\n",
       "      <td>78.352058</td>\n",
       "      <td>83.185009</td>\n",
       "      <td>77.640059</td>\n",
       "      <td>82.157241</td>\n",
       "      <td>83.693395</td>\n",
       "      <td>83.512267</td>\n",
       "      <td>75.306540</td>\n",
       "      <td>81.202237</td>\n",
       "      <td>75.398494</td>\n",
       "      <td>80.949962</td>\n",
       "    </tr>\n",
       "    <tr>\n",
       "      <th>3082</th>\n",
       "      <td>91.149249</td>\n",
       "      <td>85.866200</td>\n",
       "      <td>88.490808</td>\n",
       "      <td>92.468338</td>\n",
       "      <td>94.408915</td>\n",
       "      <td>90.835266</td>\n",
       "      <td>91.186773</td>\n",
       "      <td>84.945940</td>\n",
       "      <td>87.776896</td>\n",
       "      <td>85.073792</td>\n",
       "      <td>...</td>\n",
       "      <td>84.495804</td>\n",
       "      <td>89.025541</td>\n",
       "      <td>83.827650</td>\n",
       "      <td>88.046524</td>\n",
       "      <td>89.504177</td>\n",
       "      <td>89.325159</td>\n",
       "      <td>81.602623</td>\n",
       "      <td>87.151063</td>\n",
       "      <td>81.685047</td>\n",
       "      <td>86.930789</td>\n",
       "    </tr>\n",
       "  </tbody>\n",
       "</table>\n",
       "<p>3083 rows × 3083 columns</p>\n",
       "</div>"
      ],
      "text/plain": [
       "           0          1          2          3          4          5     \\\n",
       "0      0.000000   0.000000   0.000000   0.000000   0.000000   0.000000   \n",
       "1      2.900746   7.490754   4.863770   4.216553  17.930071   5.799908   \n",
       "2      7.109359   8.714100   6.138494   4.775836  17.975319  10.456244   \n",
       "3      8.137948   9.820561   6.308079   4.847588  18.707183  10.577019   \n",
       "4      9.989728   9.854204   7.085804   4.960749  18.861733  10.596407   \n",
       "...         ...        ...        ...        ...        ...        ...   \n",
       "3078  59.709452  57.090008  58.331396  58.048544  60.361909  59.614734   \n",
       "3079  64.622310  58.628856  61.113141  65.253094  66.739984  63.430776   \n",
       "3080  81.340502  75.280839  78.340686  82.818196  84.909101  80.951973   \n",
       "3081  85.425503  79.865417  82.594970  86.833621  88.959112  85.144143   \n",
       "3082  91.149249  85.866200  88.490808  92.468338  94.408915  90.835266   \n",
       "\n",
       "           6          7          8          9     ...       3073       3074  \\\n",
       "0      0.000000   0.000000   0.000000   0.000000  ...   0.000000   0.000000   \n",
       "1     12.561265   5.479323   7.492609   7.368469  ...   4.920030   4.072734   \n",
       "2     13.250570   5.497795   7.601954   7.723112  ...   5.171291   5.859728   \n",
       "3     13.336941   5.805781   7.664309   7.915602  ...   6.813833   6.497852   \n",
       "4     13.549530   5.840825   9.903273   7.977096  ...   7.405154   6.540346   \n",
       "...         ...        ...        ...        ...  ...        ...        ...   \n",
       "3078  60.295796  56.343509  59.286559  57.215438  ...  57.023795  58.033652   \n",
       "3079  64.864438  59.616123  60.062919  58.115876  ...  58.553733  61.866145   \n",
       "3080  81.381164  74.253500  77.427874  74.428053  ...  73.744194  78.953934   \n",
       "3081  85.474637  78.858671  81.937688  78.974006  ...  78.352058  83.185009   \n",
       "3082  91.186773  84.945940  87.776896  85.073792  ...  84.495804  89.025541   \n",
       "\n",
       "           3075       3076       3077       3078       3079       3080  \\\n",
       "0      0.000000   0.000000   0.000000   0.000000   0.000000   0.000000   \n",
       "1      4.076962   5.708168   0.658189   4.072734   4.407693   4.652277   \n",
       "2      4.348377   6.024628   0.988269   5.060231   5.224220   6.131215   \n",
       "3      4.839753   6.250507   1.010266   5.063000   5.662558   6.684642   \n",
       "4      5.370556   6.365888   1.255771   5.138347   6.034671   6.959352   \n",
       "...         ...        ...        ...        ...        ...        ...   \n",
       "3078  55.506057  57.839582  57.789266  57.883805  52.423024  58.245987   \n",
       "3079  58.377595  59.986568  61.820461  61.827141  59.121777  59.020775   \n",
       "3080  72.996767  77.820650  79.473150  79.284739  70.352530  76.791959   \n",
       "3081  77.640059  82.157241  83.693395  83.512267  75.306540  81.202237   \n",
       "3082  83.827650  88.046524  89.504177  89.325159  81.602623  87.151063   \n",
       "\n",
       "           3081       3082  \n",
       "0      0.000000   0.000000  \n",
       "1      3.443594   4.879563  \n",
       "2      4.407693   4.903584  \n",
       "3      4.833030   5.560298  \n",
       "4      4.916375   5.952220  \n",
       "...         ...        ...  \n",
       "3078  52.542843  58.314947  \n",
       "3079  59.263230  58.379989  \n",
       "3080  70.447545  76.546431  \n",
       "3081  75.398494  80.949962  \n",
       "3082  81.685047  86.930789  \n",
       "\n",
       "[3083 rows x 3083 columns]"
      ]
     },
     "execution_count": 197,
     "metadata": {},
     "output_type": "execute_result"
    }
   ],
   "source": [
    "df_tr=pd.DataFrame(neighbors_k)\n",
    "df_tr"
   ]
  },
  {
   "cell_type": "code",
   "execution_count": 198,
   "metadata": {},
   "outputs": [],
   "source": [
    "similarity= neighbors_k"
   ]
  },
  {
   "cell_type": "code",
   "execution_count": 199,
   "metadata": {},
   "outputs": [],
   "source": [
    "Dmean=np.mean(similarity[1,:])"
   ]
  },
  {
   "cell_type": "code",
   "execution_count": 200,
   "metadata": {},
   "outputs": [
    {
     "data": {
      "text/plain": [
       "3.81"
      ]
     },
     "execution_count": 200,
     "metadata": {},
     "output_type": "execute_result"
    }
   ],
   "source": [
    "round(Dmean, 2)"
   ]
  },
  {
   "cell_type": "code",
   "execution_count": 201,
   "metadata": {},
   "outputs": [],
   "source": [
    "std=np.std(similarity[1,:])"
   ]
  },
  {
   "cell_type": "code",
   "execution_count": 202,
   "metadata": {},
   "outputs": [
    {
     "data": {
      "text/plain": [
       "2.93"
      ]
     },
     "execution_count": 202,
     "metadata": {},
     "output_type": "execute_result"
    }
   ],
   "source": [
    "round(std, 2)"
   ]
  },
  {
   "cell_type": "code",
   "execution_count": 203,
   "metadata": {},
   "outputs": [
    {
     "name": "stdout",
     "output_type": "stream",
     "text": [
      "5.28\n"
     ]
    }
   ],
   "source": [
    "model_AD_limit=Dmean+std*0.5\n",
    "print(np.round(model_AD_limit, 2))"
   ]
  },
  {
   "cell_type": "code",
   "execution_count": 204,
   "metadata": {},
   "outputs": [],
   "source": [
    "neighbors_k_ts= pairwise_distances(x_tr,Y=x_ts, n_jobs=-1)\n",
    "neighbors_k_ts.sort(0)"
   ]
  },
  {
   "cell_type": "code",
   "execution_count": 205,
   "metadata": {},
   "outputs": [
    {
     "data": {
      "text/html": [
       "<div>\n",
       "<style scoped>\n",
       "    .dataframe tbody tr th:only-of-type {\n",
       "        vertical-align: middle;\n",
       "    }\n",
       "\n",
       "    .dataframe tbody tr th {\n",
       "        vertical-align: top;\n",
       "    }\n",
       "\n",
       "    .dataframe thead th {\n",
       "        text-align: right;\n",
       "    }\n",
       "</style>\n",
       "<table border=\"1\" class=\"dataframe\">\n",
       "  <thead>\n",
       "    <tr style=\"text-align: right;\">\n",
       "      <th></th>\n",
       "      <th>0</th>\n",
       "      <th>1</th>\n",
       "      <th>2</th>\n",
       "      <th>3</th>\n",
       "      <th>4</th>\n",
       "      <th>5</th>\n",
       "      <th>6</th>\n",
       "      <th>7</th>\n",
       "      <th>8</th>\n",
       "      <th>9</th>\n",
       "      <th>...</th>\n",
       "      <th>761</th>\n",
       "      <th>762</th>\n",
       "      <th>763</th>\n",
       "      <th>764</th>\n",
       "      <th>765</th>\n",
       "      <th>766</th>\n",
       "      <th>767</th>\n",
       "      <th>768</th>\n",
       "      <th>769</th>\n",
       "      <th>770</th>\n",
       "    </tr>\n",
       "  </thead>\n",
       "  <tbody>\n",
       "    <tr>\n",
       "      <th>0</th>\n",
       "      <td>5.562876</td>\n",
       "      <td>9.408307</td>\n",
       "      <td>2.476244</td>\n",
       "      <td>7.263118</td>\n",
       "      <td>5.282288</td>\n",
       "      <td>1.583892</td>\n",
       "      <td>4.525869</td>\n",
       "      <td>4.086624</td>\n",
       "      <td>1.226136</td>\n",
       "      <td>5.644353</td>\n",
       "      <td>...</td>\n",
       "      <td>3.599905</td>\n",
       "      <td>5.858725</td>\n",
       "      <td>2.397433</td>\n",
       "      <td>6.870954</td>\n",
       "      <td>0.624128</td>\n",
       "      <td>5.352804</td>\n",
       "      <td>4.178713</td>\n",
       "      <td>4.182506</td>\n",
       "      <td>2.802792</td>\n",
       "      <td>6.270563</td>\n",
       "    </tr>\n",
       "    <tr>\n",
       "      <th>1</th>\n",
       "      <td>6.275527</td>\n",
       "      <td>9.772277</td>\n",
       "      <td>3.742493</td>\n",
       "      <td>9.391857</td>\n",
       "      <td>5.966987</td>\n",
       "      <td>6.967967</td>\n",
       "      <td>4.654637</td>\n",
       "      <td>5.942024</td>\n",
       "      <td>1.366599</td>\n",
       "      <td>5.758951</td>\n",
       "      <td>...</td>\n",
       "      <td>4.647412</td>\n",
       "      <td>7.501709</td>\n",
       "      <td>2.406615</td>\n",
       "      <td>7.081888</td>\n",
       "      <td>1.123838</td>\n",
       "      <td>8.497024</td>\n",
       "      <td>4.706113</td>\n",
       "      <td>4.375260</td>\n",
       "      <td>6.100462</td>\n",
       "      <td>6.275194</td>\n",
       "    </tr>\n",
       "    <tr>\n",
       "      <th>2</th>\n",
       "      <td>9.078235</td>\n",
       "      <td>10.222067</td>\n",
       "      <td>5.327841</td>\n",
       "      <td>10.445792</td>\n",
       "      <td>6.363236</td>\n",
       "      <td>7.111340</td>\n",
       "      <td>4.662264</td>\n",
       "      <td>6.425875</td>\n",
       "      <td>2.359034</td>\n",
       "      <td>5.914622</td>\n",
       "      <td>...</td>\n",
       "      <td>4.780885</td>\n",
       "      <td>8.883466</td>\n",
       "      <td>3.993276</td>\n",
       "      <td>7.182392</td>\n",
       "      <td>1.419483</td>\n",
       "      <td>8.678516</td>\n",
       "      <td>5.038712</td>\n",
       "      <td>4.899669</td>\n",
       "      <td>6.551452</td>\n",
       "      <td>6.719943</td>\n",
       "    </tr>\n",
       "    <tr>\n",
       "      <th>3</th>\n",
       "      <td>9.173493</td>\n",
       "      <td>10.937669</td>\n",
       "      <td>5.398200</td>\n",
       "      <td>10.565662</td>\n",
       "      <td>6.781344</td>\n",
       "      <td>7.248561</td>\n",
       "      <td>4.665928</td>\n",
       "      <td>6.427113</td>\n",
       "      <td>8.193204</td>\n",
       "      <td>6.700883</td>\n",
       "      <td>...</td>\n",
       "      <td>4.980605</td>\n",
       "      <td>9.732865</td>\n",
       "      <td>4.486266</td>\n",
       "      <td>7.539695</td>\n",
       "      <td>1.828747</td>\n",
       "      <td>8.755605</td>\n",
       "      <td>6.219785</td>\n",
       "      <td>5.480123</td>\n",
       "      <td>6.700244</td>\n",
       "      <td>6.963034</td>\n",
       "    </tr>\n",
       "    <tr>\n",
       "      <th>4</th>\n",
       "      <td>10.453269</td>\n",
       "      <td>11.627252</td>\n",
       "      <td>8.801222</td>\n",
       "      <td>10.939350</td>\n",
       "      <td>6.816641</td>\n",
       "      <td>9.321835</td>\n",
       "      <td>4.682167</td>\n",
       "      <td>6.652034</td>\n",
       "      <td>9.358029</td>\n",
       "      <td>7.951190</td>\n",
       "      <td>...</td>\n",
       "      <td>5.120647</td>\n",
       "      <td>9.746281</td>\n",
       "      <td>6.545359</td>\n",
       "      <td>7.592781</td>\n",
       "      <td>2.017845</td>\n",
       "      <td>8.781171</td>\n",
       "      <td>6.347564</td>\n",
       "      <td>5.648499</td>\n",
       "      <td>6.784176</td>\n",
       "      <td>7.693971</td>\n",
       "    </tr>\n",
       "    <tr>\n",
       "      <th>...</th>\n",
       "      <td>...</td>\n",
       "      <td>...</td>\n",
       "      <td>...</td>\n",
       "      <td>...</td>\n",
       "      <td>...</td>\n",
       "      <td>...</td>\n",
       "      <td>...</td>\n",
       "      <td>...</td>\n",
       "      <td>...</td>\n",
       "      <td>...</td>\n",
       "      <td>...</td>\n",
       "      <td>...</td>\n",
       "      <td>...</td>\n",
       "      <td>...</td>\n",
       "      <td>...</td>\n",
       "      <td>...</td>\n",
       "      <td>...</td>\n",
       "      <td>...</td>\n",
       "      <td>...</td>\n",
       "      <td>...</td>\n",
       "      <td>...</td>\n",
       "    </tr>\n",
       "    <tr>\n",
       "      <th>3078</th>\n",
       "      <td>59.781460</td>\n",
       "      <td>56.179985</td>\n",
       "      <td>57.971633</td>\n",
       "      <td>52.362914</td>\n",
       "      <td>57.781897</td>\n",
       "      <td>58.591025</td>\n",
       "      <td>57.778069</td>\n",
       "      <td>51.572486</td>\n",
       "      <td>57.697751</td>\n",
       "      <td>57.476374</td>\n",
       "      <td>...</td>\n",
       "      <td>58.058852</td>\n",
       "      <td>59.868188</td>\n",
       "      <td>56.114015</td>\n",
       "      <td>54.404131</td>\n",
       "      <td>57.757386</td>\n",
       "      <td>54.564385</td>\n",
       "      <td>58.043730</td>\n",
       "      <td>58.252923</td>\n",
       "      <td>55.524112</td>\n",
       "      <td>54.207304</td>\n",
       "    </tr>\n",
       "    <tr>\n",
       "      <th>3079</th>\n",
       "      <td>67.205645</td>\n",
       "      <td>60.326141</td>\n",
       "      <td>58.778210</td>\n",
       "      <td>59.597604</td>\n",
       "      <td>59.279094</td>\n",
       "      <td>60.038208</td>\n",
       "      <td>62.331102</td>\n",
       "      <td>60.609191</td>\n",
       "      <td>58.992356</td>\n",
       "      <td>59.067913</td>\n",
       "      <td>...</td>\n",
       "      <td>61.397760</td>\n",
       "      <td>62.524080</td>\n",
       "      <td>59.718116</td>\n",
       "      <td>59.075142</td>\n",
       "      <td>61.826915</td>\n",
       "      <td>58.758203</td>\n",
       "      <td>62.399763</td>\n",
       "      <td>61.650949</td>\n",
       "      <td>58.134672</td>\n",
       "      <td>59.524069</td>\n",
       "    </tr>\n",
       "    <tr>\n",
       "      <th>3080</th>\n",
       "      <td>84.251754</td>\n",
       "      <td>74.074984</td>\n",
       "      <td>75.902602</td>\n",
       "      <td>70.851184</td>\n",
       "      <td>77.011702</td>\n",
       "      <td>75.895533</td>\n",
       "      <td>80.048812</td>\n",
       "      <td>71.155573</td>\n",
       "      <td>74.744390</td>\n",
       "      <td>74.372245</td>\n",
       "      <td>...</td>\n",
       "      <td>79.184990</td>\n",
       "      <td>79.435166</td>\n",
       "      <td>73.884777</td>\n",
       "      <td>73.209868</td>\n",
       "      <td>79.448739</td>\n",
       "      <td>72.676376</td>\n",
       "      <td>79.293186</td>\n",
       "      <td>78.995605</td>\n",
       "      <td>73.459662</td>\n",
       "      <td>71.604592</td>\n",
       "    </tr>\n",
       "    <tr>\n",
       "      <th>3081</th>\n",
       "      <td>88.179583</td>\n",
       "      <td>78.844858</td>\n",
       "      <td>80.434786</td>\n",
       "      <td>75.772136</td>\n",
       "      <td>81.400312</td>\n",
       "      <td>80.516987</td>\n",
       "      <td>84.226694</td>\n",
       "      <td>76.132504</td>\n",
       "      <td>79.301973</td>\n",
       "      <td>78.991110</td>\n",
       "      <td>...</td>\n",
       "      <td>83.416594</td>\n",
       "      <td>83.711997</td>\n",
       "      <td>78.526111</td>\n",
       "      <td>77.863150</td>\n",
       "      <td>83.664678</td>\n",
       "      <td>77.495521</td>\n",
       "      <td>83.496396</td>\n",
       "      <td>83.220802</td>\n",
       "      <td>78.117105</td>\n",
       "      <td>76.416846</td>\n",
       "    </tr>\n",
       "    <tr>\n",
       "      <th>3082</th>\n",
       "      <td>93.743079</td>\n",
       "      <td>84.865062</td>\n",
       "      <td>86.401957</td>\n",
       "      <td>82.038435</td>\n",
       "      <td>87.340941</td>\n",
       "      <td>86.439455</td>\n",
       "      <td>90.004414</td>\n",
       "      <td>82.334185</td>\n",
       "      <td>85.370318</td>\n",
       "      <td>85.059002</td>\n",
       "      <td>...</td>\n",
       "      <td>89.240581</td>\n",
       "      <td>89.492873</td>\n",
       "      <td>84.631042</td>\n",
       "      <td>84.030473</td>\n",
       "      <td>89.479914</td>\n",
       "      <td>83.620369</td>\n",
       "      <td>89.329503</td>\n",
       "      <td>89.061019</td>\n",
       "      <td>84.253133</td>\n",
       "      <td>82.659003</td>\n",
       "    </tr>\n",
       "  </tbody>\n",
       "</table>\n",
       "<p>3083 rows × 771 columns</p>\n",
       "</div>"
      ],
      "text/plain": [
       "            0          1          2          3          4          5    \\\n",
       "0      5.562876   9.408307   2.476244   7.263118   5.282288   1.583892   \n",
       "1      6.275527   9.772277   3.742493   9.391857   5.966987   6.967967   \n",
       "2      9.078235  10.222067   5.327841  10.445792   6.363236   7.111340   \n",
       "3      9.173493  10.937669   5.398200  10.565662   6.781344   7.248561   \n",
       "4     10.453269  11.627252   8.801222  10.939350   6.816641   9.321835   \n",
       "...         ...        ...        ...        ...        ...        ...   \n",
       "3078  59.781460  56.179985  57.971633  52.362914  57.781897  58.591025   \n",
       "3079  67.205645  60.326141  58.778210  59.597604  59.279094  60.038208   \n",
       "3080  84.251754  74.074984  75.902602  70.851184  77.011702  75.895533   \n",
       "3081  88.179583  78.844858  80.434786  75.772136  81.400312  80.516987   \n",
       "3082  93.743079  84.865062  86.401957  82.038435  87.340941  86.439455   \n",
       "\n",
       "            6          7          8          9    ...        761        762  \\\n",
       "0      4.525869   4.086624   1.226136   5.644353  ...   3.599905   5.858725   \n",
       "1      4.654637   5.942024   1.366599   5.758951  ...   4.647412   7.501709   \n",
       "2      4.662264   6.425875   2.359034   5.914622  ...   4.780885   8.883466   \n",
       "3      4.665928   6.427113   8.193204   6.700883  ...   4.980605   9.732865   \n",
       "4      4.682167   6.652034   9.358029   7.951190  ...   5.120647   9.746281   \n",
       "...         ...        ...        ...        ...  ...        ...        ...   \n",
       "3078  57.778069  51.572486  57.697751  57.476374  ...  58.058852  59.868188   \n",
       "3079  62.331102  60.609191  58.992356  59.067913  ...  61.397760  62.524080   \n",
       "3080  80.048812  71.155573  74.744390  74.372245  ...  79.184990  79.435166   \n",
       "3081  84.226694  76.132504  79.301973  78.991110  ...  83.416594  83.711997   \n",
       "3082  90.004414  82.334185  85.370318  85.059002  ...  89.240581  89.492873   \n",
       "\n",
       "            763        764        765        766        767        768  \\\n",
       "0      2.397433   6.870954   0.624128   5.352804   4.178713   4.182506   \n",
       "1      2.406615   7.081888   1.123838   8.497024   4.706113   4.375260   \n",
       "2      3.993276   7.182392   1.419483   8.678516   5.038712   4.899669   \n",
       "3      4.486266   7.539695   1.828747   8.755605   6.219785   5.480123   \n",
       "4      6.545359   7.592781   2.017845   8.781171   6.347564   5.648499   \n",
       "...         ...        ...        ...        ...        ...        ...   \n",
       "3078  56.114015  54.404131  57.757386  54.564385  58.043730  58.252923   \n",
       "3079  59.718116  59.075142  61.826915  58.758203  62.399763  61.650949   \n",
       "3080  73.884777  73.209868  79.448739  72.676376  79.293186  78.995605   \n",
       "3081  78.526111  77.863150  83.664678  77.495521  83.496396  83.220802   \n",
       "3082  84.631042  84.030473  89.479914  83.620369  89.329503  89.061019   \n",
       "\n",
       "            769        770  \n",
       "0      2.802792   6.270563  \n",
       "1      6.100462   6.275194  \n",
       "2      6.551452   6.719943  \n",
       "3      6.700244   6.963034  \n",
       "4      6.784176   7.693971  \n",
       "...         ...        ...  \n",
       "3078  55.524112  54.207304  \n",
       "3079  58.134672  59.524069  \n",
       "3080  73.459662  71.604592  \n",
       "3081  78.117105  76.416846  \n",
       "3082  84.253133  82.659003  \n",
       "\n",
       "[3083 rows x 771 columns]"
      ]
     },
     "execution_count": 205,
     "metadata": {},
     "output_type": "execute_result"
    }
   ],
   "source": [
    "x_ts_AD=pd.DataFrame(neighbors_k_ts)\n",
    "x_ts_AD"
   ]
  },
  {
   "cell_type": "code",
   "execution_count": 206,
   "metadata": {},
   "outputs": [
    {
     "name": "stdout",
     "output_type": "stream",
     "text": [
      "[5.56300e+00 9.40800e+00 2.47600e+00 7.26300e+00 5.28200e+00 1.58400e+00\n",
      " 4.52600e+00 4.08700e+00 1.22600e+00 5.64400e+00 3.68800e+00 2.49300e+00\n",
      " 1.16520e+01 5.60800e+00 1.98100e+00 2.12100e+00 1.44400e+00 5.20800e+00\n",
      " 1.76500e+00 4.26400e+00 1.88300e+00 6.91600e+00 9.43100e+00 4.68400e+00\n",
      " 1.49200e+01 2.24000e+00 2.77300e+00 7.36600e+00 1.96200e+00 4.84400e+00\n",
      " 2.91800e+00 6.29500e+00 4.33100e+00 9.20700e+00 4.91700e+00 3.02300e+00\n",
      " 4.15400e+00 5.92200e+00 5.15800e+00 4.62200e+00 7.16300e+00 3.86700e+00\n",
      " 3.04700e+00 1.13160e+01 1.32220e+01 2.01300e+00 3.88900e+00 1.92400e+00\n",
      " 3.34400e+00 3.48100e+00 4.09700e+00 1.64800e+00 7.86500e+00 1.32260e+01\n",
      " 5.01000e+00 2.94400e+00 3.82500e+00 4.52400e+00 1.37280e+01 2.89200e+00\n",
      " 1.03440e+01 2.26700e+00 3.71600e+00 5.77700e+00 6.72900e+00 6.57400e+00\n",
      " 3.56200e+00 1.62200e+00 1.30300e+00 3.93600e+00 3.38100e+00 2.17900e+00\n",
      " 1.41400e+00 8.35800e+00 1.30980e+01 2.54800e+00 7.36000e-01 6.53300e+00\n",
      " 1.25400e+01 3.85900e+00 3.29900e+00 5.27200e+00 6.54800e+00 2.23100e+00\n",
      " 9.87100e+00 4.43500e+00 8.76000e-01 1.68400e+00 2.50200e+00 1.24600e+00\n",
      " 2.04000e+00 7.20900e+00 4.00300e+00 7.79200e+00 2.53100e+00 6.57600e+00\n",
      " 5.60500e+00 2.03300e+00 1.58400e+00 8.19900e+00 1.50000e+00 9.63800e+00\n",
      " 1.31000e+00 5.48300e+00 1.06860e+01 2.97600e+00 3.17600e+00 3.20500e+00\n",
      " 1.52400e+00 2.46200e+00 1.68000e+00 4.17700e+00 3.25700e+00 4.66300e+00\n",
      " 5.59600e+00 1.22800e+00 3.85800e+00 1.65900e+00 3.62100e+00 1.52400e+00\n",
      " 3.26200e+00 2.49200e+00 1.40400e+00 4.04800e+00 3.31600e+00 3.76400e+00\n",
      " 1.89100e+00 2.31700e+00 1.23280e+01 1.20500e+00 1.13700e+01 1.17600e+00\n",
      " 3.48400e+00 4.37000e+00 7.14800e+00 1.30700e+00 4.26600e+00 5.20700e+00\n",
      " 1.44200e+00 2.73200e+00 3.51200e+00 4.90000e+00 2.21200e+00 3.92200e+00\n",
      " 4.46800e+00 6.13600e+00 1.32700e+00 1.54900e+00 5.56900e+00 4.79900e+00\n",
      " 4.24300e+00 1.28400e+00 6.52300e+00 7.11700e+00 4.85200e+00 2.09400e+00\n",
      " 1.28000e-01 5.69500e+00 3.19700e+00 1.38300e+00 4.58700e+00 1.89200e+00\n",
      " 4.66000e+00 2.28100e+00 1.76700e+00 1.35100e+00 2.82700e+00 6.75800e+00\n",
      " 1.06020e+01 1.95200e+00 1.41700e+00 5.56000e+00 1.05500e+00 3.15800e+00\n",
      " 1.33000e+00 1.29500e+00 2.88400e+00 7.67600e+00 2.57600e+00 5.15000e+00\n",
      " 1.85100e+00 1.68400e+00 2.31200e+00 2.54400e+00 1.73000e+00 1.95100e+00\n",
      " 4.86200e+00 2.07500e+00 8.70700e+00 4.70100e+00 4.69300e+00 5.07600e+00\n",
      " 2.98800e+00 1.93500e+00 5.24500e+00 1.60000e+00 2.05500e+00 4.96700e+00\n",
      " 2.53700e+00 2.88400e+00 1.24300e+00 9.40200e+00 1.24300e+00 1.17500e+00\n",
      " 1.21000e+00 4.95200e+00 2.01900e+00 3.82300e+00 2.32800e+00 6.90200e+00\n",
      " 2.59700e+00 1.45600e+00 6.03500e+00 7.44600e+00 3.84100e+00 2.83600e+00\n",
      " 7.18300e+00 4.57300e+00 4.50900e+00 1.21800e+00 9.79000e-01 2.70200e+00\n",
      " 4.13200e+00 1.17600e+00 4.45900e+00 1.25500e+00 1.06400e+00 7.53000e+00\n",
      " 3.95900e+00 7.48200e+00 3.49400e+00 3.69900e+00 1.89700e+00 1.64300e+00\n",
      " 3.31100e+00 6.12200e+00 4.15800e+00 2.66000e+00 4.30700e+00 1.60000e+00\n",
      " 1.87000e+00 4.42900e+00 6.33900e+00 1.24120e+01 4.46900e+00 1.79800e+00\n",
      " 7.96000e-01 8.23500e+00 1.22400e+00 1.10500e+00 8.29200e+00 1.20500e+00\n",
      " 1.61500e+00 2.10200e+00 1.25800e+00 5.37300e+00 1.31700e+00 1.17700e+00\n",
      " 3.14400e+00 1.94800e+00 7.01900e+00 2.13000e+00 2.41700e+00 3.92100e+00\n",
      " 1.39900e+00 9.16000e-01 1.85000e-01 5.78200e+00 4.24500e+00 5.61900e+00\n",
      " 2.31500e+00 4.36500e+00 4.23100e+00 3.33700e+00 1.14530e+01 4.97400e+00\n",
      " 9.41600e+00 5.39100e+00 1.39700e+00 7.38000e-01 2.00400e+00 1.46900e+00\n",
      " 2.79000e+00 4.00800e+00 2.12600e+00 4.76800e+00 1.56400e+00 2.97000e+00\n",
      " 5.51800e+00 1.65500e+00 1.34300e+00 4.07100e+00 2.70800e+00 2.81900e+00\n",
      " 1.16300e+00 4.83600e+00 2.00000e+00 2.83700e+00 1.75900e+00 1.97600e+00\n",
      " 1.45300e+00 4.96600e+00 5.66000e-01 1.93100e+00 3.88200e+00 3.89100e+00\n",
      " 2.27700e+00 4.98500e+00 2.77900e+00 1.80500e+00 8.66000e-01 3.41700e+00\n",
      " 6.43800e+00 2.35700e+00 2.03700e+00 3.25900e+00 1.26700e+00 1.53800e+00\n",
      " 4.47100e+00 5.06400e+00 7.06000e-01 1.48500e+00 6.58600e+00 4.70200e+00\n",
      " 6.34100e+00 1.63100e+00 7.51700e+00 4.48500e+00 3.40100e+00 4.12200e+00\n",
      " 3.82000e+00 4.50000e+00 1.49000e+00 7.67700e+00 9.72000e-01 5.37900e+00\n",
      " 4.91500e+00 1.12900e+00 1.34920e+01 4.73200e+00 1.41400e+00 2.44100e+00\n",
      " 2.28200e+00 4.62900e+00 1.35700e+00 2.38000e+00 1.48900e+00 5.07300e+00\n",
      " 2.54300e+00 5.07200e+00 9.90000e-01 5.93900e+00 9.43800e+00 7.40800e+00\n",
      " 2.56700e+00 8.06300e+00 1.73200e+00 3.49400e+00 3.84300e+00 3.04100e+00\n",
      " 5.23800e+00 8.10100e+00 9.44670e+01 4.43800e+00 2.65400e+00 9.14600e+00\n",
      " 8.64000e-01 2.86000e+00 4.79900e+00 2.35700e+00 2.32800e+00 3.64500e+00\n",
      " 9.58000e-01 6.25700e+00 3.39100e+00 2.03400e+00 1.76800e+00 6.06800e+00\n",
      " 1.77200e+00 3.51300e+00 2.62900e+00 8.42700e+00 5.79200e+00 1.79300e+00\n",
      " 1.94200e+00 4.35500e+00 1.81500e+00 1.88500e+00 1.59800e+00 4.45600e+00\n",
      " 5.55200e+00 6.51000e-01 3.33400e+00 4.11800e+00 1.62000e+00 2.53200e+00\n",
      " 2.28800e+00 2.44400e+00 7.05200e+00 2.48100e+00 2.69900e+00 1.31000e+00\n",
      " 5.69000e+00 2.67500e+00 6.09800e+00 6.02300e+00 5.26000e-01 7.05400e+00\n",
      " 4.49700e+00 2.70400e+00 1.75800e+00 4.48200e+00 1.70000e+00 4.01900e+00\n",
      " 1.88700e+00 2.79900e+00 7.29100e+00 3.67500e+00 2.32500e+00 6.32900e+00\n",
      " 2.53000e+00 1.41634e+02 4.11100e+00 4.70800e+00 1.90500e+00 2.30200e+00\n",
      " 3.94700e+00 1.48700e+00 4.03200e+00 2.92700e+00 3.97700e+00 3.21200e+00\n",
      " 2.67400e+00 4.41400e+00 5.19900e+00 3.57300e+00 1.65800e+00 3.97100e+00\n",
      " 3.39500e+00 4.59500e+00 4.77000e+00 4.86100e+00 6.07700e+00 2.59200e+00\n",
      " 4.55000e+00 1.75800e+00 3.94400e+00 7.07100e+00 2.66300e+00 1.46400e+00\n",
      " 4.40300e+00 1.36100e+00 4.71400e+00 5.26900e+00 5.62300e+00 7.49000e-01\n",
      " 5.11000e+00 8.57000e-01 8.06800e+00 1.22300e+00 1.49500e+00 2.22400e+00\n",
      " 1.44900e+00 7.36400e+00 2.04200e+00 5.22000e+00 1.32800e+00 4.94700e+00\n",
      " 9.45700e+00 4.77700e+00 9.13100e+00 1.68300e+00 7.94000e-01 3.64400e+00\n",
      " 1.59700e+00 3.54500e+00 3.33800e+00 5.27700e+00 1.39500e+00 4.24700e+00\n",
      " 8.00700e+00 4.59200e+00 1.73100e+00 4.73100e+00 4.29200e+00 2.86300e+00\n",
      " 3.73100e+00 4.58900e+00 5.11200e+00 3.54900e+00 1.21800e+00 2.84500e+00\n",
      " 2.99700e+00 4.56000e+00 1.40800e+00 8.19900e+00 5.48800e+00 1.61300e+00\n",
      " 7.55000e-01 3.00600e+00 1.26200e+00 1.25770e+01 3.61400e+00 1.79800e+00\n",
      " 1.43200e+00 5.55800e+00 1.31300e+00 2.24300e+00 3.40200e+00 2.64300e+00\n",
      " 3.95600e+00 5.43000e+00 1.43800e+00 1.03900e+00 6.84000e-01 2.79700e+00\n",
      " 4.32100e+00 3.76900e+00 3.92500e+00 1.27500e+00 4.98000e+00 2.75800e+00\n",
      " 5.83600e+00 6.15100e+00 4.33800e+00 6.59000e+00 1.77000e+00 8.70700e+00\n",
      " 2.13300e+00 3.35700e+00 5.71500e+00 5.71800e+00 3.22500e+00 6.22800e+00\n",
      " 9.38600e+00 1.15500e+00 1.05800e+00 9.40000e+00 5.70500e+00 3.63400e+00\n",
      " 3.21000e+00 4.10300e+00 3.75800e+00 1.65400e+00 1.41700e+00 3.34200e+00\n",
      " 3.46300e+00 3.95300e+00 1.60200e+00 1.06850e+01 1.43000e+00 4.77500e+00\n",
      " 8.38400e+00 3.22300e+00 4.02800e+00 3.74200e+00 7.59000e-01 5.66000e-01\n",
      " 4.95300e+00 2.92920e+01 1.50700e+00 9.93000e-01 1.19800e+00 1.50470e+01\n",
      " 1.63300e+00 4.00700e+00 1.43800e+00 1.35500e+00 2.70200e+00 6.62000e+00\n",
      " 6.92100e+00 1.80000e+00 1.13300e+00 7.34700e+00 3.88900e+00 4.77200e+00\n",
      " 2.19900e+00 1.31700e+00 4.08900e+00 1.49900e+00 1.09200e+00 1.20500e+00\n",
      " 2.07300e+00 3.92600e+00 5.64300e+00 1.20200e+00 1.16100e+00 4.97100e+00\n",
      " 1.15210e+01 2.01300e+00 3.59500e+00 1.52700e+01 1.22860e+01 2.29300e+00\n",
      " 5.74300e+00 6.23600e+00 1.48000e+00 2.03100e+00 1.86800e+00 4.54200e+00\n",
      " 8.54000e-01 2.30100e+00 1.99500e+00 2.55000e+00 4.40900e+00 2.55400e+00\n",
      " 2.42500e+00 1.11800e+00 1.67800e+00 2.75000e+00 1.94800e+00 4.12700e+00\n",
      " 3.46600e+00 2.64300e+00 1.11620e+01 8.06700e+00 4.37300e+00 1.35600e+00\n",
      " 9.48000e-01 6.33400e+00 8.88000e+00 4.40500e+00 6.26400e+00 1.34000e+00\n",
      " 4.50900e+00 1.70400e+00 1.38500e+00 1.33500e+00 3.22600e+00 4.86300e+00\n",
      " 8.47400e+00 5.17000e+00 1.66500e+00 1.24600e+00 4.86800e+00 1.17580e+01\n",
      " 2.70700e+00 1.71000e+00 2.30000e+00 1.39700e+00 2.73900e+00 1.10300e+00\n",
      " 9.75000e-01 5.22100e+00 2.66300e+00 2.80600e+00 3.24300e+00 6.63500e+00\n",
      " 8.72200e+00 3.59600e+00 5.34100e+00 3.04600e+00 1.68700e+00 5.63500e+00\n",
      " 1.76700e+00 1.11000e+00 3.53000e+00 2.87000e+00 1.33700e+00 5.09300e+00\n",
      " 3.09500e+00 5.15600e+00 6.29500e+00 3.44300e+00 1.10800e+00 3.70900e+00\n",
      " 1.39400e+00 2.10500e+00 4.16700e+00 7.52700e+00 2.76400e+00 5.09000e+00\n",
      " 2.56300e+00 1.68900e+00 2.34600e+00 6.92000e-01 6.13400e+00 6.16500e+00\n",
      " 5.40900e+00 3.38000e+00 3.80400e+00 2.47700e+00 8.50100e+00 3.18900e+00\n",
      " 9.44900e+00 4.10400e+00 4.94100e+00 1.86300e+00 3.62600e+00 1.13500e+00\n",
      " 3.88400e+00 1.68000e+00 4.79200e+00 8.21000e-01 1.17100e+00 6.90000e-01\n",
      " 1.40100e+00 7.07000e+00 4.17800e+00 9.89000e-01 1.80000e+00 1.77600e+00\n",
      " 2.55300e+00 1.18700e+00 1.64400e+00 1.36000e+00 5.51800e+00 2.90800e+00\n",
      " 2.44200e+00 3.59800e+00 1.35600e+00 3.32400e+00 9.93000e-01 3.33500e+00\n",
      " 4.89500e+00 8.95000e-01 1.91200e+00 2.52000e+00 4.15200e+00 1.13600e+00\n",
      " 8.70000e-01 1.12600e+00 4.12200e+00 2.73200e+00 1.12300e+00 2.11000e+00\n",
      " 3.85900e+00 1.52800e+00 1.46100e+00 4.13200e+00 1.29900e+00 3.80800e+00\n",
      " 7.41000e-01 4.79500e+00 3.93500e+00 6.22700e+00 6.44900e+00 1.66100e+00\n",
      " 9.06700e+00 7.98000e+00 4.93400e+00 2.35100e+00 1.37900e+00 1.43370e+01\n",
      " 5.89000e-01 1.41000e+00 3.98800e+00 4.22600e+00 4.23100e+00 4.98800e+00\n",
      " 2.63400e+00 1.20600e+00 4.94000e+00 5.59900e+00 5.85300e+00 2.96800e+00\n",
      " 5.37700e+00 3.25000e+00 9.90000e-01 5.00900e+00 4.91300e+00 3.60000e+00\n",
      " 5.85900e+00 2.39700e+00 6.87100e+00 6.24000e-01 5.35300e+00 4.17900e+00\n",
      " 4.18300e+00 2.80300e+00 6.27100e+00]\n"
     ]
    }
   ],
   "source": [
    "similarity_ts= neighbors_k_ts\n",
    "cpd_AD=similarity_ts[0,:]\n",
    "cpd_value = np.round(cpd_AD, 3)\n",
    "print(cpd_value)"
   ]
  },
  {
   "cell_type": "code",
   "execution_count": 207,
   "metadata": {},
   "outputs": [
    {
     "name": "stdout",
     "output_type": "stream",
     "text": [
      "[False False  True False False  True  True  True  True False  True  True\n",
      " False False  True  True  True  True  True  True  True False False  True\n",
      " False  True  True False  True  True  True False  True False  True  True\n",
      "  True False  True  True False  True  True False False  True  True  True\n",
      "  True  True  True  True False False  True  True  True  True False  True\n",
      " False  True  True False False False  True  True  True  True  True  True\n",
      "  True False False  True  True False False  True  True  True False  True\n",
      " False  True  True  True  True  True  True False  True False  True False\n",
      " False  True  True False  True False  True False False  True  True  True\n",
      "  True  True  True  True  True  True False  True  True  True  True  True\n",
      "  True  True  True  True  True  True  True  True False  True False  True\n",
      "  True  True False  True  True  True  True  True  True  True  True  True\n",
      "  True False  True  True False  True  True  True False False  True  True\n",
      "  True False  True  True  True  True  True  True  True  True  True False\n",
      " False  True  True False  True  True  True  True  True False  True  True\n",
      "  True  True  True  True  True  True  True  True False  True  True  True\n",
      "  True  True  True  True  True  True  True  True  True False  True  True\n",
      "  True  True  True  True  True False  True  True False False  True  True\n",
      " False  True  True  True  True  True  True  True  True  True  True False\n",
      "  True False  True  True  True  True  True False  True  True  True  True\n",
      "  True  True False False  True  True  True False  True  True False  True\n",
      "  True  True  True False  True  True  True  True False  True  True  True\n",
      "  True  True  True False  True False  True  True  True  True False  True\n",
      " False False  True  True  True  True  True  True  True  True  True  True\n",
      " False  True  True  True  True  True  True  True  True  True  True  True\n",
      "  True  True  True  True  True  True  True  True  True  True  True  True\n",
      " False  True  True  True  True  True  True  True  True  True False  True\n",
      " False  True False  True  True  True  True  True  True False  True False\n",
      "  True  True False  True  True  True  True  True  True  True  True  True\n",
      "  True  True  True False False False  True False  True  True  True  True\n",
      "  True False False  True  True False  True  True  True  True  True  True\n",
      "  True False  True  True  True False  True  True  True False False  True\n",
      "  True  True  True  True  True  True False  True  True  True  True  True\n",
      "  True  True False  True  True  True False  True False False  True False\n",
      "  True  True  True  True  True  True  True  True False  True  True False\n",
      "  True False  True  True  True  True  True  True  True  True  True  True\n",
      "  True  True  True  True  True  True  True  True  True  True False  True\n",
      "  True  True  True False  True  True  True  True  True  True False  True\n",
      "  True  True False  True  True  True  True False  True  True  True  True\n",
      " False  True False  True  True  True  True  True  True  True  True  True\n",
      " False  True  True  True  True  True  True  True  True  True  True  True\n",
      "  True  True  True False False  True  True  True  True False  True  True\n",
      "  True False  True  True  True  True  True False  True  True  True  True\n",
      "  True  True  True  True  True  True False False  True False  True False\n",
      "  True  True False False  True False False  True  True False False  True\n",
      "  True  True  True  True  True  True  True  True  True False  True  True\n",
      " False  True  True  True  True  True  True False  True  True  True False\n",
      "  True  True  True  True  True False False  True  True False  True  True\n",
      "  True  True  True  True  True  True  True  True False  True  True  True\n",
      " False  True  True False False  True False False  True  True  True  True\n",
      "  True  True  True  True  True  True  True  True  True  True  True  True\n",
      "  True  True False False  True  True  True False False  True False  True\n",
      "  True  True  True  True  True  True False  True  True  True  True False\n",
      "  True  True  True  True  True  True  True  True  True  True  True False\n",
      " False  True False  True  True False  True  True  True  True  True  True\n",
      "  True  True False  True  True  True  True  True  True False  True  True\n",
      "  True  True  True  True False False False  True  True  True False  True\n",
      " False  True  True  True  True  True  True  True  True  True  True  True\n",
      "  True False  True  True  True  True  True  True  True  True False  True\n",
      "  True  True  True  True  True  True  True  True  True  True  True  True\n",
      "  True  True  True  True  True  True  True  True  True  True  True  True\n",
      "  True  True  True False False  True False False  True  True  True False\n",
      "  True  True  True  True  True  True  True  True  True False False  True\n",
      " False  True  True  True  True  True False  True False  True False  True\n",
      "  True  True False]\n"
     ]
    }
   ],
   "source": [
    "cpd_AD = np.where(cpd_value <= model_AD_limit, True, False)\n",
    "print(cpd_AD)"
   ]
  },
  {
   "cell_type": "code",
   "execution_count": 208,
   "metadata": {},
   "outputs": [
    {
     "name": "stdout",
     "output_type": "stream",
     "text": [
      "Coverage =  0.78\n"
     ]
    }
   ],
   "source": [
    "print(\"Coverage = \", round(sum(cpd_AD) / len(cpd_AD), 2))"
   ]
  },
  {
   "cell_type": "code",
   "execution_count": 209,
   "metadata": {},
   "outputs": [
    {
     "name": "stdout",
     "output_type": "stream",
     "text": [
      "Indices of substances included in AD =  [  2   5   6   7   8  10  11  14  15  16  17  18  19  20  23  25  26  28\n",
      "  29  30  32  34  35  36  38  39  41  42  45  46  47  48  49  50  51  54\n",
      "  55  56  57  59  61  62  66  67  68  69  70  71  72  75  76  79  80  81\n",
      "  83  85  86  87  88  89  90  92  94  97  98 100 102 105 106 107 108 109\n",
      " 110 111 112 113 115 116 117 118 119 120 121 122 123 124 125 126 127 129\n",
      " 131 132 133 135 136 137 138 139 140 141 142 143 144 146 147 149 150 151\n",
      " 154 155 156 158 159 160 161 162 163 164 165 166 169 170 172 173 174 175\n",
      " 176 178 179 180 181 182 183 184 185 186 187 189 190 191 192 193 194 195\n",
      " 196 197 198 199 200 202 203 204 205 206 207 208 210 211 214 215 217 218\n",
      " 219 220 221 222 223 224 225 226 228 230 231 232 233 234 236 237 238 239\n",
      " 240 241 244 245 246 248 249 251 252 253 254 256 257 258 259 261 262 263\n",
      " 264 265 266 268 270 271 272 273 275 278 279 280 281 282 283 284 285 286\n",
      " 287 289 290 291 292 293 294 295 296 297 298 299 300 301 302 303 304 305\n",
      " 306 307 308 309 310 311 313 314 315 316 317 318 319 320 321 323 325 327\n",
      " 328 329 330 331 332 334 336 337 339 340 341 342 343 344 345 346 347 348\n",
      " 349 350 354 356 357 358 359 360 363 364 366 367 368 369 370 371 372 374\n",
      " 375 376 378 379 380 383 384 385 386 387 388 389 391 392 393 394 395 396\n",
      " 397 399 400 401 403 406 408 409 410 411 412 413 414 415 417 418 420 422\n",
      " 423 424 425 426 427 428 429 430 431 432 433 434 435 436 437 438 439 440\n",
      " 441 443 444 445 446 448 449 450 451 452 453 455 456 457 459 460 461 462\n",
      " 464 465 466 467 469 471 472 473 474 475 476 477 478 479 481 482 483 484\n",
      " 485 486 487 488 489 490 491 492 493 494 497 498 499 500 502 503 504 506\n",
      " 507 508 509 510 512 513 514 515 516 517 518 519 520 521 524 526 528 529\n",
      " 532 535 536 539 540 541 542 543 544 545 546 547 548 550 551 553 554 555\n",
      " 556 557 558 560 561 562 564 565 566 567 568 571 572 574 575 576 577 578\n",
      " 579 580 581 582 583 585 586 587 589 590 593 596 597 598 599 600 601 602\n",
      " 603 604 605 606 607 608 609 610 611 612 613 616 617 618 621 623 624 625\n",
      " 626 627 628 629 631 632 633 634 636 637 638 639 640 641 642 643 644 645\n",
      " 646 649 651 652 654 655 656 657 658 659 660 661 663 664 665 666 667 668\n",
      " 670 671 672 673 674 675 679 680 681 683 685 686 687 688 689 690 691 692\n",
      " 693 694 695 696 698 699 700 701 702 703 704 705 707 708 709 710 711 712\n",
      " 713 714 715 716 717 718 719 720 721 722 723 724 725 726 727 728 729 730\n",
      " 731 732 733 734 737 740 741 742 744 745 746 747 748 749 750 751 752 755\n",
      " 757 758 759 760 761 763 765 767 768 769]\n"
     ]
    }
   ],
   "source": [
    "print(\"Indices of substances included in AD = \", np.where(cpd_AD != 0)[0])"
   ]
  },
  {
   "cell_type": "code",
   "execution_count": 210,
   "metadata": {},
   "outputs": [],
   "source": [
    "out_Ad=list(np.where(cpd_AD == 0)[0])"
   ]
  },
  {
   "cell_type": "markdown",
   "metadata": {},
   "source": [
    "# 12. Prediction only for molecules included in  AD"
   ]
  },
  {
   "cell_type": "code",
   "execution_count": 211,
   "metadata": {},
   "outputs": [],
   "source": [
    "y_pred_kNN_ad=list(y_pred_kNN)"
   ]
  },
  {
   "cell_type": "code",
   "execution_count": 212,
   "metadata": {},
   "outputs": [],
   "source": [
    "y_pred_kNN_ad[:] = [x for i,x in enumerate(y_pred_kNN_ad) if i not in out_Ad]"
   ]
  },
  {
   "cell_type": "code",
   "execution_count": 213,
   "metadata": {},
   "outputs": [
    {
     "data": {
      "text/plain": [
       "604"
      ]
     },
     "execution_count": 213,
     "metadata": {},
     "output_type": "execute_result"
    }
   ],
   "source": [
    "len(y_pred_kNN_ad)"
   ]
  },
  {
   "cell_type": "code",
   "execution_count": 214,
   "metadata": {},
   "outputs": [],
   "source": [
    "y_ts_ad=list(y_ts)"
   ]
  },
  {
   "cell_type": "code",
   "execution_count": 215,
   "metadata": {},
   "outputs": [],
   "source": [
    "y_ts_ad[:] = [x for i,x in enumerate(y_ts_ad) if i not in out_Ad]"
   ]
  },
  {
   "cell_type": "code",
   "execution_count": 216,
   "metadata": {},
   "outputs": [
    {
     "data": {
      "text/plain": [
       "604"
      ]
     },
     "execution_count": 216,
     "metadata": {},
     "output_type": "execute_result"
    }
   ],
   "source": [
    "len(y_ts_ad)"
   ]
  },
  {
   "cell_type": "code",
   "execution_count": 217,
   "metadata": {},
   "outputs": [
    {
     "data": {
      "text/plain": [
       "0.62"
      ]
     },
     "execution_count": 217,
     "metadata": {},
     "output_type": "execute_result"
    }
   ],
   "source": [
    "Q2_TS = round(r2_score(y_ts_ad, y_pred_kNN_ad), 2)\n",
    "Q2_TS"
   ]
  },
  {
   "cell_type": "code",
   "execution_count": 218,
   "metadata": {
    "scrolled": true
   },
   "outputs": [
    {
     "data": {
      "text/plain": [
       "0.69"
      ]
     },
     "execution_count": 218,
     "metadata": {},
     "output_type": "execute_result"
    }
   ],
   "source": [
    "RMSE_TS=round(np.sqrt(mean_absolute_error(y_ts_ad, y_pred_kNN_ad)), 2)\n",
    "RMSE_TS"
   ]
  },
  {
   "cell_type": "markdown",
   "metadata": {},
   "source": [
    " # Analyzing the importance of descriptors for the GBM model"
   ]
  },
  {
   "cell_type": "code",
   "execution_count": 219,
   "metadata": {},
   "outputs": [],
   "source": [
    "import shap"
   ]
  },
  {
   "cell_type": "code",
   "execution_count": 220,
   "metadata": {},
   "outputs": [],
   "source": [
    "explainer = shap.Explainer(best_GBR)"
   ]
  },
  {
   "cell_type": "code",
   "execution_count": 222,
   "metadata": {},
   "outputs": [],
   "source": [
    "shap_values = explainer(x_tr)"
   ]
  },
  {
   "cell_type": "code",
   "execution_count": 223,
   "metadata": {},
   "outputs": [
    {
     "data": {
      "image/png": "[encoded data removed]",
      "text/plain": [
       "<Figure size 800x550 with 2 Axes>"
      ]
     },
     "metadata": {},
     "output_type": "display_data"
    }
   ],
   "source": [
    "shap.plots.beeswarm(shap_values)"
   ]
  },
  {
   "cell_type": "code",
   "execution_count": 224,
   "metadata": {},
   "outputs": [
    {
     "data": {
      "image/png": "[encoded data removed]",
      "text/plain": [
       "<Figure size 800x650 with 1 Axes>"
      ]
     },
     "metadata": {},
     "output_type": "display_data"
    }
   ],
   "source": [
    "shap.plots.bar(shap_values)"
   ]
  },
  {
   "cell_type": "code",
   "execution_count": null,
   "metadata": {},
   "outputs": [],
   "source": []
  }
 ],
 "metadata": {
  "kernelspec": {
   "display_name": "Python3 (rdkit)",
   "language": "python",
   "name": "my-rdkit-env"
  },
  "language_info": {
   "codemirror_mode": {
    "name": "ipython",
    "version": 3
   },
   "file_extension": ".py",
   "mimetype": "text/x-python",
   "name": "python",
   "nbconvert_exporter": "python",
   "pygments_lexer": "ipython3",
   "version": "3.10.12"
  },
  "toc": {
   "base_numbering": 1,
   "nav_menu": {},
   "number_sections": true,
   "sideBar": true,
   "skip_h1_title": false,
   "title_cell": "Table of Contents",
   "title_sidebar": "Contents",
   "toc_cell": false,
   "toc_position": {
    "height": "calc(100% - 180px)",
    "left": "10px",
    "top": "150px",
    "width": "384px"
   },
   "toc_section_display": true,
   "toc_window_display": true
  },
  "widgets": {
   "application/vnd.jupyter.widget-state+json": {
    "state": {},
    "version_major": 2,
    "version_minor": 0
   }
  }
 },
 "nbformat": 4,
 "nbformat_minor": 4
}
