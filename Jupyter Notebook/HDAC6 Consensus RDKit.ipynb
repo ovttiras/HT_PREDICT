{
 "cells": [
  {
   "cell_type": "markdown",
   "metadata": {},
   "source": [
    "# Importing modules and functions"
   ]
  },
  {
   "cell_type": "code",
   "execution_count": 13,
   "metadata": {},
   "outputs": [],
   "source": [
    "import numpy as np\n",
    "import pandas as pd\n",
    "from rdkit import Chem, DataStructs\n",
    "from rdkit.Chem import AllChem, Descriptors\n",
    "from rdkit.ML.Descriptors import MoleculeDescriptors\n",
    "from molvs import standardize_smiles\n",
    "from sklearn.model_selection import KFold, GridSearchCV\n",
    "from sklearn.model_selection import permutation_test_score\n",
    "from sklearn.preprocessing import StandardScaler\n",
    "from sklearn.model_selection import cross_val_predict\n",
    "from sklearn import metrics\n",
    "from sklearn.metrics import pairwise_distances\n",
    "import joblib\n",
    "import pickle\n",
    "from numpy import savetxt\n",
    "from padelpy import from_sdf\n",
    "from IPython.display import HTML\n",
    "import matplotlib.pyplot as plt\n",
    "from sklearn.metrics import mean_squared_error\n",
    "from sklearn.metrics import mean_absolute_error\n",
    "from sklearn.metrics import r2_score\n",
    "from sklearn.ensemble import GradientBoostingRegressor\n",
    "from sklearn.neighbors import KNeighborsRegressor\n",
    "from sklearn.svm import SVR\n",
    "from padelpy import from_sdf\n",
    "import shap\n",
    "from tqdm.notebook import tqdm\n",
    "import warnings\n",
    "warnings.filterwarnings('ignore')"
   ]
  },
  {
   "cell_type": "markdown",
   "metadata": {},
   "source": [
    "# 2.Data entry and curation work set"
   ]
  },
  {
   "cell_type": "code",
   "execution_count": 14,
   "metadata": {},
   "outputs": [
    {
     "name": "stdout",
     "output_type": "stream",
     "text": [
      "Original data:  3083 molecules\n",
      "Failed data:  0 molecules\n"
     ]
    },
    {
     "data": {
      "text/html": [
       "<div>\n",
       "<style scoped>\n",
       "    .dataframe tbody tr th:only-of-type {\n",
       "        vertical-align: middle;\n",
       "    }\n",
       "\n",
       "    .dataframe tbody tr th {\n",
       "        vertical-align: top;\n",
       "    }\n",
       "\n",
       "    .dataframe thead th {\n",
       "        text-align: right;\n",
       "    }\n",
       "</style>\n",
       "<table border=\"1\" class=\"dataframe\">\n",
       "  <thead>\n",
       "    <tr style=\"text-align: right;\">\n",
       "      <th></th>\n",
       "      <th>No. failed molecule in original set</th>\n",
       "      <th>SMILES of wrong structure:</th>\n",
       "    </tr>\n",
       "    <tr>\n",
       "      <th>No.</th>\n",
       "      <th></th>\n",
       "      <th></th>\n",
       "    </tr>\n",
       "  </thead>\n",
       "  <tbody>\n",
       "  </tbody>\n",
       "</table>\n",
       "</div>"
      ],
      "text/plain": [
       "Empty DataFrame\n",
       "Columns: [No. failed molecule in original set, SMILES of wrong structure: ]\n",
       "Index: []"
      ]
     },
     "execution_count": 14,
     "metadata": {},
     "output_type": "execute_result"
    }
   ],
   "source": [
    "uploaded_file_ws=\"datasets/HDAC6_work.sdf\"\n",
    "supplier_ws = Chem.ForwardSDMolSupplier(uploaded_file_ws,sanitize=False)\n",
    "failed_mols_ws = []\n",
    "all_mols_ws =[]\n",
    "wrong_structure_ws=[]\n",
    "wrong_smiles_ws=[]\n",
    "y_tr = []\n",
    "y_bad_index=[]\n",
    "\n",
    "for i, m in enumerate(supplier_ws):\n",
    "    structure = Chem.Mol(m)\n",
    "    all_mols_ws.append(structure)\n",
    "    y_tr.append(m.GetProp(\"pchembl_value_mean\"))\n",
    "    try:\n",
    "        Chem.SanitizeMol(structure)\n",
    "    except:\n",
    "        failed_mols_ws.append(m)\n",
    "        wrong_smiles_ws.append(Chem.MolToSmiles(m))\n",
    "        wrong_structure_ws.append(str(i+1))\n",
    "        y_bad_index.append(i)\n",
    "print('Original data: ', len(all_mols_ws), 'molecules')\n",
    "print('Failed data: ', len(failed_mols_ws), 'molecules')\n",
    "number_ws =[]\n",
    "for i in range(len(failed_mols_ws)):\n",
    "        number_ws.append(str(i+1))\n",
    "bad_molecules_ws = pd.DataFrame({'No. failed molecule in original set': wrong_structure_ws, 'SMILES of wrong structure: ': wrong_smiles_ws, 'No.': number_ws}, index=None)\n",
    "bad_molecules_ws = bad_molecules_ws.set_index('No.')\n",
    "bad_molecules_ws"
   ]
  },
  {
   "cell_type": "markdown",
   "metadata": {},
   "source": [
    "deleting activity values for substances with incorrect structure"
   ]
  },
  {
   "cell_type": "code",
   "execution_count": 15,
   "metadata": {},
   "outputs": [],
   "source": [
    "y_tr[:] = [x for i,x in enumerate(y_tr) if i not in y_bad_index]"
   ]
  },
  {
   "cell_type": "code",
   "execution_count": 16,
   "metadata": {},
   "outputs": [
    {
     "data": {
      "text/plain": [
       "3083"
      ]
     },
     "execution_count": 16,
     "metadata": {},
     "output_type": "execute_result"
    }
   ],
   "source": [
    "len(y_tr)"
   ]
  },
  {
   "cell_type": "markdown",
   "metadata": {},
   "source": [
    "# 3.Standardization SDF file for work set"
   ]
  },
  {
   "cell_type": "code",
   "execution_count": 17,
   "metadata": {},
   "outputs": [
    {
     "name": "stdout",
     "output_type": "stream",
     "text": [
      "Kept data:  3083 molecules\n"
     ]
    }
   ],
   "source": [
    "all_mols_ws[:] = [x for i,x in enumerate(all_mols_ws) if i not in y_bad_index] \n",
    "records = []\n",
    "for i in range(len(all_mols_ws)):\n",
    "    record = Chem.MolToSmiles(all_mols_ws[i])\n",
    "    records.append(record)\n",
    "\n",
    "moldf_ws = []\n",
    "for i,record in enumerate(records):\n",
    "    standard_record = standardize_smiles(record)\n",
    "    m = Chem.MolFromSmiles(standard_record)\n",
    "    moldf_ws.append(m)\n",
    "    \n",
    "print('Kept data: ', len(moldf_ws), 'molecules')"
   ]
  },
  {
   "cell_type": "markdown",
   "metadata": {},
   "source": [
    "# 4.Data entry and curation test set"
   ]
  },
  {
   "cell_type": "code",
   "execution_count": 18,
   "metadata": {},
   "outputs": [
    {
     "name": "stdout",
     "output_type": "stream",
     "text": [
      "Original data:  771 molecules\n",
      "Failed data:  0 molecules\n"
     ]
    },
    {
     "data": {
      "text/html": [
       "<div>\n",
       "<style scoped>\n",
       "    .dataframe tbody tr th:only-of-type {\n",
       "        vertical-align: middle;\n",
       "    }\n",
       "\n",
       "    .dataframe tbody tr th {\n",
       "        vertical-align: top;\n",
       "    }\n",
       "\n",
       "    .dataframe thead th {\n",
       "        text-align: right;\n",
       "    }\n",
       "</style>\n",
       "<table border=\"1\" class=\"dataframe\">\n",
       "  <thead>\n",
       "    <tr style=\"text-align: right;\">\n",
       "      <th></th>\n",
       "      <th>No. failed molecule in original set</th>\n",
       "      <th>SMILES of wrong structure:</th>\n",
       "    </tr>\n",
       "    <tr>\n",
       "      <th>No.</th>\n",
       "      <th></th>\n",
       "      <th></th>\n",
       "    </tr>\n",
       "  </thead>\n",
       "  <tbody>\n",
       "  </tbody>\n",
       "</table>\n",
       "</div>"
      ],
      "text/plain": [
       "Empty DataFrame\n",
       "Columns: [No. failed molecule in original set, SMILES of wrong structure: ]\n",
       "Index: []"
      ]
     },
     "execution_count": 18,
     "metadata": {},
     "output_type": "execute_result"
    }
   ],
   "source": [
    "uploaded_file_ts=\"datasets/HDAC6_test.sdf\"\n",
    "supplier_ts = Chem.ForwardSDMolSupplier(uploaded_file_ts,sanitize=False)\n",
    "failed_mols_ts = []\n",
    "all_mols_ts =[]\n",
    "wrong_structure_ts=[]\n",
    "wrong_smiles_ts=[]\n",
    "y_ts = []\n",
    "y_bad_index=[]\n",
    "for i, m in enumerate(supplier_ts):\n",
    "    structure = Chem.Mol(m)\n",
    "    all_mols_ts.append(structure)\n",
    "    y_ts.append(m.GetProp(\"pchembl_value_mean\"))\n",
    "    try:\n",
    "        Chem.SanitizeMol(structure)\n",
    "    except:\n",
    "        failed_mols_ts.append(m)\n",
    "        wrong_smiles_ts.append(Chem.MolToSmiles(m))\n",
    "        wrong_structure_ts.append(str(i+1))\n",
    "        y_bad_index.append(i)\n",
    "print('Original data: ', len(all_mols_ts), 'molecules')\n",
    "print('Failed data: ', len(failed_mols_ts), 'molecules')\n",
    "number_ts =[]\n",
    "for i in range(len(failed_mols_ts)):\n",
    "        number_ts.append(str(i+1))\n",
    "bad_molecules_ts = pd.DataFrame({'No. failed molecule in original set': wrong_structure_ts, 'SMILES of wrong structure: ': wrong_smiles_ts, 'No.': number_ts}, index=None)\n",
    "bad_molecules_ts = bad_molecules_ts.set_index('No.')\n",
    "bad_molecules_ts"
   ]
  },
  {
   "cell_type": "markdown",
   "metadata": {},
   "source": [
    "deleting activity values for substances with incorrect structure"
   ]
  },
  {
   "cell_type": "code",
   "execution_count": 19,
   "metadata": {},
   "outputs": [],
   "source": [
    "y_ts[:] = [x for i,x in enumerate(y_ts) if i not in y_bad_index]"
   ]
  },
  {
   "cell_type": "code",
   "execution_count": 20,
   "metadata": {},
   "outputs": [
    {
     "data": {
      "text/plain": [
       "771"
      ]
     },
     "execution_count": 20,
     "metadata": {},
     "output_type": "execute_result"
    }
   ],
   "source": [
    "len(y_ts)"
   ]
  },
  {
   "cell_type": "markdown",
   "metadata": {},
   "source": [
    "# 5.Standardization SDF file for test set"
   ]
  },
  {
   "cell_type": "code",
   "execution_count": 21,
   "metadata": {},
   "outputs": [
    {
     "name": "stdout",
     "output_type": "stream",
     "text": [
      "Kept data:  771 molecules\n"
     ]
    }
   ],
   "source": [
    "all_mols_ts[:] = [x for i,x in enumerate(all_mols_ts) if i not in y_bad_index] \n",
    "records = []\n",
    "for i in range(len(all_mols_ts)):\n",
    "    record = Chem.MolToSmiles(all_mols_ts[i])\n",
    "    records.append(record)\n",
    "\n",
    "moldf_ts = []\n",
    "for i,record in enumerate(records):\n",
    "    standard_record = standardize_smiles(record)\n",
    "    m = Chem.MolFromSmiles(standard_record)\n",
    "    moldf_ts.append(m)\n",
    "    \n",
    "print('Kept data: ', len(moldf_ts), 'molecules')"
   ]
  },
  {
   "cell_type": "code",
   "execution_count": null,
   "metadata": {},
   "outputs": [],
   "source": []
  },
  {
   "cell_type": "markdown",
   "metadata": {},
   "source": [
    "## Calculation RDKit_2D descriptors for work set"
   ]
  },
  {
   "cell_type": "code",
   "execution_count": 22,
   "metadata": {},
   "outputs": [],
   "source": [
    "calc = MoleculeDescriptors.MolecularDescriptorCalculator([x[0] for x in Descriptors._descList])\n",
    "header = calc.GetDescriptorNames()"
   ]
  },
  {
   "cell_type": "code",
   "execution_count": 23,
   "metadata": {},
   "outputs": [],
   "source": [
    "descr_tr= []\n",
    "for m in moldf_ws:\n",
    "    descr_tr.append(calc.CalcDescriptors(m))\n",
    "x_tr = np.asarray(descr_tr)"
   ]
  },
  {
   "cell_type": "code",
   "execution_count": 24,
   "metadata": {},
   "outputs": [],
   "source": [
    "df_RDKit_2D = pd.DataFrame(x_tr,columns=header)"
   ]
  },
  {
   "cell_type": "code",
   "execution_count": 25,
   "metadata": {},
   "outputs": [
    {
     "data": {
      "text/html": [
       "<div>\n",
       "<style scoped>\n",
       "    .dataframe tbody tr th:only-of-type {\n",
       "        vertical-align: middle;\n",
       "    }\n",
       "\n",
       "    .dataframe tbody tr th {\n",
       "        vertical-align: top;\n",
       "    }\n",
       "\n",
       "    .dataframe thead th {\n",
       "        text-align: right;\n",
       "    }\n",
       "</style>\n",
       "<table border=\"1\" class=\"dataframe\">\n",
       "  <thead>\n",
       "    <tr style=\"text-align: right;\">\n",
       "      <th></th>\n",
       "      <th>MaxAbsEStateIndex</th>\n",
       "      <th>MaxEStateIndex</th>\n",
       "      <th>MinAbsEStateIndex</th>\n",
       "      <th>MinEStateIndex</th>\n",
       "      <th>qed</th>\n",
       "      <th>MolWt</th>\n",
       "      <th>HeavyAtomMolWt</th>\n",
       "      <th>ExactMolWt</th>\n",
       "      <th>NumValenceElectrons</th>\n",
       "      <th>NumRadicalElectrons</th>\n",
       "      <th>...</th>\n",
       "      <th>fr_sulfide</th>\n",
       "      <th>fr_sulfonamd</th>\n",
       "      <th>fr_sulfone</th>\n",
       "      <th>fr_term_acetylene</th>\n",
       "      <th>fr_tetrazole</th>\n",
       "      <th>fr_thiazole</th>\n",
       "      <th>fr_thiocyan</th>\n",
       "      <th>fr_thiophene</th>\n",
       "      <th>fr_unbrch_alkane</th>\n",
       "      <th>fr_urea</th>\n",
       "    </tr>\n",
       "  </thead>\n",
       "  <tbody>\n",
       "    <tr>\n",
       "      <th>0</th>\n",
       "      <td>12.242419</td>\n",
       "      <td>12.242419</td>\n",
       "      <td>0.074853</td>\n",
       "      <td>-0.968233</td>\n",
       "      <td>0.872997</td>\n",
       "      <td>278.264</td>\n",
       "      <td>264.152</td>\n",
       "      <td>278.090272</td>\n",
       "      <td>106.0</td>\n",
       "      <td>0.0</td>\n",
       "      <td>...</td>\n",
       "      <td>0.0</td>\n",
       "      <td>0.0</td>\n",
       "      <td>0.0</td>\n",
       "      <td>0.0</td>\n",
       "      <td>0.0</td>\n",
       "      <td>0.0</td>\n",
       "      <td>0.0</td>\n",
       "      <td>0.0</td>\n",
       "      <td>0.0</td>\n",
       "      <td>0.0</td>\n",
       "    </tr>\n",
       "    <tr>\n",
       "      <th>1</th>\n",
       "      <td>12.174333</td>\n",
       "      <td>12.174333</td>\n",
       "      <td>0.042267</td>\n",
       "      <td>-0.371769</td>\n",
       "      <td>0.176840</td>\n",
       "      <td>416.909</td>\n",
       "      <td>391.709</td>\n",
       "      <td>416.161518</td>\n",
       "      <td>154.0</td>\n",
       "      <td>0.0</td>\n",
       "      <td>...</td>\n",
       "      <td>0.0</td>\n",
       "      <td>0.0</td>\n",
       "      <td>0.0</td>\n",
       "      <td>0.0</td>\n",
       "      <td>0.0</td>\n",
       "      <td>0.0</td>\n",
       "      <td>0.0</td>\n",
       "      <td>0.0</td>\n",
       "      <td>3.0</td>\n",
       "      <td>0.0</td>\n",
       "    </tr>\n",
       "  </tbody>\n",
       "</table>\n",
       "<p>2 rows × 209 columns</p>\n",
       "</div>"
      ],
      "text/plain": [
       "   MaxAbsEStateIndex  MaxEStateIndex  MinAbsEStateIndex  MinEStateIndex  \\\n",
       "0          12.242419       12.242419           0.074853       -0.968233   \n",
       "1          12.174333       12.174333           0.042267       -0.371769   \n",
       "\n",
       "        qed    MolWt  HeavyAtomMolWt  ExactMolWt  NumValenceElectrons  \\\n",
       "0  0.872997  278.264         264.152  278.090272                106.0   \n",
       "1  0.176840  416.909         391.709  416.161518                154.0   \n",
       "\n",
       "   NumRadicalElectrons  ...  fr_sulfide  fr_sulfonamd  fr_sulfone  \\\n",
       "0                  0.0  ...         0.0           0.0         0.0   \n",
       "1                  0.0  ...         0.0           0.0         0.0   \n",
       "\n",
       "   fr_term_acetylene  fr_tetrazole  fr_thiazole  fr_thiocyan  fr_thiophene  \\\n",
       "0                0.0           0.0          0.0          0.0           0.0   \n",
       "1                0.0           0.0          0.0          0.0           0.0   \n",
       "\n",
       "   fr_unbrch_alkane  fr_urea  \n",
       "0               0.0      0.0  \n",
       "1               3.0      0.0  \n",
       "\n",
       "[2 rows x 209 columns]"
      ]
     },
     "execution_count": 25,
     "metadata": {},
     "output_type": "execute_result"
    }
   ],
   "source": [
    "df_RDKit_2D.head(2)"
   ]
  },
  {
   "cell_type": "code",
   "execution_count": 26,
   "metadata": {},
   "outputs": [
    {
     "data": {
      "text/plain": [
       "BCUT2D_MWLOW      0.003568\n",
       "BCUT2D_LOGPLOW    0.003568\n",
       "BCUT2D_CHGLO      0.003568\n",
       "BCUT2D_CHGHI      0.003568\n",
       "BCUT2D_MRHI       0.003568\n",
       "                    ...   \n",
       "SlogP_VSA8        0.000000\n",
       "SlogP_VSA9        0.000000\n",
       "TPSA              0.000000\n",
       "EState_VSA1       0.000000\n",
       "fr_urea           0.000000\n",
       "Length: 209, dtype: float64"
      ]
     },
     "execution_count": 26,
     "metadata": {},
     "output_type": "execute_result"
    }
   ],
   "source": [
    "df_RDKit_2D.isna().mean().sort_values(ascending=False)"
   ]
  },
  {
   "cell_type": "code",
   "execution_count": 27,
   "metadata": {},
   "outputs": [
    {
     "data": {
      "text/html": [
       "<div>\n",
       "<style scoped>\n",
       "    .dataframe tbody tr th:only-of-type {\n",
       "        vertical-align: middle;\n",
       "    }\n",
       "\n",
       "    .dataframe tbody tr th {\n",
       "        vertical-align: top;\n",
       "    }\n",
       "\n",
       "    .dataframe thead th {\n",
       "        text-align: right;\n",
       "    }\n",
       "</style>\n",
       "<table border=\"1\" class=\"dataframe\">\n",
       "  <thead>\n",
       "    <tr style=\"text-align: right;\">\n",
       "      <th></th>\n",
       "      <th>MaxAbsEStateIndex</th>\n",
       "      <th>MaxEStateIndex</th>\n",
       "      <th>MinAbsEStateIndex</th>\n",
       "      <th>MinEStateIndex</th>\n",
       "      <th>qed</th>\n",
       "      <th>MolWt</th>\n",
       "      <th>HeavyAtomMolWt</th>\n",
       "      <th>ExactMolWt</th>\n",
       "      <th>NumValenceElectrons</th>\n",
       "      <th>NumRadicalElectrons</th>\n",
       "      <th>...</th>\n",
       "      <th>fr_sulfide</th>\n",
       "      <th>fr_sulfonamd</th>\n",
       "      <th>fr_sulfone</th>\n",
       "      <th>fr_term_acetylene</th>\n",
       "      <th>fr_tetrazole</th>\n",
       "      <th>fr_thiazole</th>\n",
       "      <th>fr_thiocyan</th>\n",
       "      <th>fr_thiophene</th>\n",
       "      <th>fr_unbrch_alkane</th>\n",
       "      <th>fr_urea</th>\n",
       "    </tr>\n",
       "  </thead>\n",
       "  <tbody>\n",
       "    <tr>\n",
       "      <th>0</th>\n",
       "      <td>12.242419</td>\n",
       "      <td>12.242419</td>\n",
       "      <td>0.074853</td>\n",
       "      <td>-0.968233</td>\n",
       "      <td>0.872997</td>\n",
       "      <td>278.264</td>\n",
       "      <td>264.152</td>\n",
       "      <td>278.090272</td>\n",
       "      <td>106.0</td>\n",
       "      <td>0.0</td>\n",
       "      <td>...</td>\n",
       "      <td>0.0</td>\n",
       "      <td>0.0</td>\n",
       "      <td>0.0</td>\n",
       "      <td>0.0</td>\n",
       "      <td>0.0</td>\n",
       "      <td>0.0</td>\n",
       "      <td>0.0</td>\n",
       "      <td>0.0</td>\n",
       "      <td>0.0</td>\n",
       "      <td>0.0</td>\n",
       "    </tr>\n",
       "    <tr>\n",
       "      <th>1</th>\n",
       "      <td>12.174333</td>\n",
       "      <td>12.174333</td>\n",
       "      <td>0.042267</td>\n",
       "      <td>-0.371769</td>\n",
       "      <td>0.176840</td>\n",
       "      <td>416.909</td>\n",
       "      <td>391.709</td>\n",
       "      <td>416.161518</td>\n",
       "      <td>154.0</td>\n",
       "      <td>0.0</td>\n",
       "      <td>...</td>\n",
       "      <td>0.0</td>\n",
       "      <td>0.0</td>\n",
       "      <td>0.0</td>\n",
       "      <td>0.0</td>\n",
       "      <td>0.0</td>\n",
       "      <td>0.0</td>\n",
       "      <td>0.0</td>\n",
       "      <td>0.0</td>\n",
       "      <td>3.0</td>\n",
       "      <td>0.0</td>\n",
       "    </tr>\n",
       "    <tr>\n",
       "      <th>2</th>\n",
       "      <td>11.990951</td>\n",
       "      <td>11.990951</td>\n",
       "      <td>0.054892</td>\n",
       "      <td>-0.264842</td>\n",
       "      <td>0.815196</td>\n",
       "      <td>301.302</td>\n",
       "      <td>286.182</td>\n",
       "      <td>301.106256</td>\n",
       "      <td>114.0</td>\n",
       "      <td>0.0</td>\n",
       "      <td>...</td>\n",
       "      <td>0.0</td>\n",
       "      <td>0.0</td>\n",
       "      <td>0.0</td>\n",
       "      <td>0.0</td>\n",
       "      <td>0.0</td>\n",
       "      <td>0.0</td>\n",
       "      <td>0.0</td>\n",
       "      <td>0.0</td>\n",
       "      <td>0.0</td>\n",
       "      <td>0.0</td>\n",
       "    </tr>\n",
       "    <tr>\n",
       "      <th>3</th>\n",
       "      <td>10.873288</td>\n",
       "      <td>10.873288</td>\n",
       "      <td>0.534320</td>\n",
       "      <td>-0.534320</td>\n",
       "      <td>0.456792</td>\n",
       "      <td>213.236</td>\n",
       "      <td>202.148</td>\n",
       "      <td>213.078979</td>\n",
       "      <td>80.0</td>\n",
       "      <td>0.0</td>\n",
       "      <td>...</td>\n",
       "      <td>0.0</td>\n",
       "      <td>0.0</td>\n",
       "      <td>0.0</td>\n",
       "      <td>0.0</td>\n",
       "      <td>0.0</td>\n",
       "      <td>0.0</td>\n",
       "      <td>0.0</td>\n",
       "      <td>0.0</td>\n",
       "      <td>0.0</td>\n",
       "      <td>0.0</td>\n",
       "    </tr>\n",
       "    <tr>\n",
       "      <th>4</th>\n",
       "      <td>2.581454</td>\n",
       "      <td>2.581454</td>\n",
       "      <td>0.445824</td>\n",
       "      <td>0.445824</td>\n",
       "      <td>0.454787</td>\n",
       "      <td>272.476</td>\n",
       "      <td>240.220</td>\n",
       "      <td>272.250401</td>\n",
       "      <td>112.0</td>\n",
       "      <td>0.0</td>\n",
       "      <td>...</td>\n",
       "      <td>0.0</td>\n",
       "      <td>0.0</td>\n",
       "      <td>0.0</td>\n",
       "      <td>0.0</td>\n",
       "      <td>0.0</td>\n",
       "      <td>0.0</td>\n",
       "      <td>0.0</td>\n",
       "      <td>0.0</td>\n",
       "      <td>0.0</td>\n",
       "      <td>0.0</td>\n",
       "    </tr>\n",
       "    <tr>\n",
       "      <th>...</th>\n",
       "      <td>...</td>\n",
       "      <td>...</td>\n",
       "      <td>...</td>\n",
       "      <td>...</td>\n",
       "      <td>...</td>\n",
       "      <td>...</td>\n",
       "      <td>...</td>\n",
       "      <td>...</td>\n",
       "      <td>...</td>\n",
       "      <td>...</td>\n",
       "      <td>...</td>\n",
       "      <td>...</td>\n",
       "      <td>...</td>\n",
       "      <td>...</td>\n",
       "      <td>...</td>\n",
       "      <td>...</td>\n",
       "      <td>...</td>\n",
       "      <td>...</td>\n",
       "      <td>...</td>\n",
       "      <td>...</td>\n",
       "      <td>...</td>\n",
       "    </tr>\n",
       "    <tr>\n",
       "      <th>3078</th>\n",
       "      <td>14.120048</td>\n",
       "      <td>14.120048</td>\n",
       "      <td>0.000665</td>\n",
       "      <td>-0.791896</td>\n",
       "      <td>0.586203</td>\n",
       "      <td>301.321</td>\n",
       "      <td>285.193</td>\n",
       "      <td>301.122655</td>\n",
       "      <td>114.0</td>\n",
       "      <td>0.0</td>\n",
       "      <td>...</td>\n",
       "      <td>0.0</td>\n",
       "      <td>0.0</td>\n",
       "      <td>0.0</td>\n",
       "      <td>0.0</td>\n",
       "      <td>0.0</td>\n",
       "      <td>0.0</td>\n",
       "      <td>0.0</td>\n",
       "      <td>0.0</td>\n",
       "      <td>0.0</td>\n",
       "      <td>0.0</td>\n",
       "    </tr>\n",
       "    <tr>\n",
       "      <th>3079</th>\n",
       "      <td>12.247689</td>\n",
       "      <td>12.247689</td>\n",
       "      <td>0.057760</td>\n",
       "      <td>-0.384776</td>\n",
       "      <td>0.069031</td>\n",
       "      <td>516.606</td>\n",
       "      <td>484.350</td>\n",
       "      <td>516.259737</td>\n",
       "      <td>198.0</td>\n",
       "      <td>0.0</td>\n",
       "      <td>...</td>\n",
       "      <td>0.0</td>\n",
       "      <td>0.0</td>\n",
       "      <td>0.0</td>\n",
       "      <td>0.0</td>\n",
       "      <td>0.0</td>\n",
       "      <td>0.0</td>\n",
       "      <td>0.0</td>\n",
       "      <td>0.0</td>\n",
       "      <td>3.0</td>\n",
       "      <td>0.0</td>\n",
       "    </tr>\n",
       "    <tr>\n",
       "      <th>3080</th>\n",
       "      <td>11.417085</td>\n",
       "      <td>11.417085</td>\n",
       "      <td>0.345049</td>\n",
       "      <td>-3.209919</td>\n",
       "      <td>0.425745</td>\n",
       "      <td>387.461</td>\n",
       "      <td>366.293</td>\n",
       "      <td>387.125277</td>\n",
       "      <td>142.0</td>\n",
       "      <td>0.0</td>\n",
       "      <td>...</td>\n",
       "      <td>0.0</td>\n",
       "      <td>1.0</td>\n",
       "      <td>0.0</td>\n",
       "      <td>0.0</td>\n",
       "      <td>0.0</td>\n",
       "      <td>0.0</td>\n",
       "      <td>0.0</td>\n",
       "      <td>0.0</td>\n",
       "      <td>0.0</td>\n",
       "      <td>0.0</td>\n",
       "    </tr>\n",
       "    <tr>\n",
       "      <th>3081</th>\n",
       "      <td>12.132469</td>\n",
       "      <td>12.132469</td>\n",
       "      <td>0.021659</td>\n",
       "      <td>-0.374570</td>\n",
       "      <td>0.098503</td>\n",
       "      <td>504.595</td>\n",
       "      <td>472.339</td>\n",
       "      <td>504.259737</td>\n",
       "      <td>194.0</td>\n",
       "      <td>0.0</td>\n",
       "      <td>...</td>\n",
       "      <td>0.0</td>\n",
       "      <td>0.0</td>\n",
       "      <td>0.0</td>\n",
       "      <td>0.0</td>\n",
       "      <td>0.0</td>\n",
       "      <td>0.0</td>\n",
       "      <td>0.0</td>\n",
       "      <td>0.0</td>\n",
       "      <td>4.0</td>\n",
       "      <td>0.0</td>\n",
       "    </tr>\n",
       "    <tr>\n",
       "      <th>3082</th>\n",
       "      <td>13.006219</td>\n",
       "      <td>13.006219</td>\n",
       "      <td>0.069988</td>\n",
       "      <td>-0.633122</td>\n",
       "      <td>0.414684</td>\n",
       "      <td>376.368</td>\n",
       "      <td>360.240</td>\n",
       "      <td>376.105922</td>\n",
       "      <td>140.0</td>\n",
       "      <td>0.0</td>\n",
       "      <td>...</td>\n",
       "      <td>0.0</td>\n",
       "      <td>0.0</td>\n",
       "      <td>0.0</td>\n",
       "      <td>0.0</td>\n",
       "      <td>0.0</td>\n",
       "      <td>0.0</td>\n",
       "      <td>0.0</td>\n",
       "      <td>0.0</td>\n",
       "      <td>0.0</td>\n",
       "      <td>0.0</td>\n",
       "    </tr>\n",
       "  </tbody>\n",
       "</table>\n",
       "<p>3083 rows × 197 columns</p>\n",
       "</div>"
      ],
      "text/plain": [
       "      MaxAbsEStateIndex  MaxEStateIndex  MinAbsEStateIndex  MinEStateIndex  \\\n",
       "0             12.242419       12.242419           0.074853       -0.968233   \n",
       "1             12.174333       12.174333           0.042267       -0.371769   \n",
       "2             11.990951       11.990951           0.054892       -0.264842   \n",
       "3             10.873288       10.873288           0.534320       -0.534320   \n",
       "4              2.581454        2.581454           0.445824        0.445824   \n",
       "...                 ...             ...                ...             ...   \n",
       "3078          14.120048       14.120048           0.000665       -0.791896   \n",
       "3079          12.247689       12.247689           0.057760       -0.384776   \n",
       "3080          11.417085       11.417085           0.345049       -3.209919   \n",
       "3081          12.132469       12.132469           0.021659       -0.374570   \n",
       "3082          13.006219       13.006219           0.069988       -0.633122   \n",
       "\n",
       "           qed    MolWt  HeavyAtomMolWt  ExactMolWt  NumValenceElectrons  \\\n",
       "0     0.872997  278.264         264.152  278.090272                106.0   \n",
       "1     0.176840  416.909         391.709  416.161518                154.0   \n",
       "2     0.815196  301.302         286.182  301.106256                114.0   \n",
       "3     0.456792  213.236         202.148  213.078979                 80.0   \n",
       "4     0.454787  272.476         240.220  272.250401                112.0   \n",
       "...        ...      ...             ...         ...                  ...   \n",
       "3078  0.586203  301.321         285.193  301.122655                114.0   \n",
       "3079  0.069031  516.606         484.350  516.259737                198.0   \n",
       "3080  0.425745  387.461         366.293  387.125277                142.0   \n",
       "3081  0.098503  504.595         472.339  504.259737                194.0   \n",
       "3082  0.414684  376.368         360.240  376.105922                140.0   \n",
       "\n",
       "      NumRadicalElectrons  ...  fr_sulfide  fr_sulfonamd  fr_sulfone  \\\n",
       "0                     0.0  ...         0.0           0.0         0.0   \n",
       "1                     0.0  ...         0.0           0.0         0.0   \n",
       "2                     0.0  ...         0.0           0.0         0.0   \n",
       "3                     0.0  ...         0.0           0.0         0.0   \n",
       "4                     0.0  ...         0.0           0.0         0.0   \n",
       "...                   ...  ...         ...           ...         ...   \n",
       "3078                  0.0  ...         0.0           0.0         0.0   \n",
       "3079                  0.0  ...         0.0           0.0         0.0   \n",
       "3080                  0.0  ...         0.0           1.0         0.0   \n",
       "3081                  0.0  ...         0.0           0.0         0.0   \n",
       "3082                  0.0  ...         0.0           0.0         0.0   \n",
       "\n",
       "      fr_term_acetylene  fr_tetrazole  fr_thiazole  fr_thiocyan  fr_thiophene  \\\n",
       "0                   0.0           0.0          0.0          0.0           0.0   \n",
       "1                   0.0           0.0          0.0          0.0           0.0   \n",
       "2                   0.0           0.0          0.0          0.0           0.0   \n",
       "3                   0.0           0.0          0.0          0.0           0.0   \n",
       "4                   0.0           0.0          0.0          0.0           0.0   \n",
       "...                 ...           ...          ...          ...           ...   \n",
       "3078                0.0           0.0          0.0          0.0           0.0   \n",
       "3079                0.0           0.0          0.0          0.0           0.0   \n",
       "3080                0.0           0.0          0.0          0.0           0.0   \n",
       "3081                0.0           0.0          0.0          0.0           0.0   \n",
       "3082                0.0           0.0          0.0          0.0           0.0   \n",
       "\n",
       "      fr_unbrch_alkane  fr_urea  \n",
       "0                  0.0      0.0  \n",
       "1                  3.0      0.0  \n",
       "2                  0.0      0.0  \n",
       "3                  0.0      0.0  \n",
       "4                  0.0      0.0  \n",
       "...                ...      ...  \n",
       "3078               0.0      0.0  \n",
       "3079               3.0      0.0  \n",
       "3080               0.0      0.0  \n",
       "3081               4.0      0.0  \n",
       "3082               0.0      0.0  \n",
       "\n",
       "[3083 rows x 197 columns]"
      ]
     },
     "execution_count": 27,
     "metadata": {},
     "output_type": "execute_result"
    }
   ],
   "source": [
    "df_RDKit_2D=df_RDKit_2D.dropna(axis=1)\n",
    "df_RDKit_2D"
   ]
  },
  {
   "cell_type": "code",
   "execution_count": 28,
   "metadata": {},
   "outputs": [],
   "source": [
    "x_tr= df_RDKit_2D.to_numpy ()"
   ]
  },
  {
   "cell_type": "code",
   "execution_count": 29,
   "metadata": {},
   "outputs": [],
   "source": [
    "# Data Standardization\n",
    "from sklearn.preprocessing import StandardScaler\n",
    "Scaler=StandardScaler()\n",
    "x_tr=Scaler.fit_transform(x_tr)"
   ]
  },
  {
   "cell_type": "code",
   "execution_count": 30,
   "metadata": {},
   "outputs": [
    {
     "data": {
      "text/plain": [
       "(3083, 197)"
      ]
     },
     "execution_count": 30,
     "metadata": {},
     "output_type": "execute_result"
    }
   ],
   "source": [
    "x_tr.shape"
   ]
  },
  {
   "cell_type": "code",
   "execution_count": 45,
   "metadata": {},
   "outputs": [],
   "source": [
    "x_tr = np.array(x_tr, dtype=np.float32)\n",
    "y_tr = np.array(y_tr, dtype=np.float32)"
   ]
  },
  {
   "cell_type": "code",
   "execution_count": 31,
   "metadata": {},
   "outputs": [],
   "source": [
    "savetxt('Models/RDKiT/x_tr_RDKiT.csv', x_tr, delimiter=',')"
   ]
  },
  {
   "cell_type": "markdown",
   "metadata": {},
   "source": [
    "## Calculation  RDKit_2D descriptors for test set"
   ]
  },
  {
   "cell_type": "code",
   "execution_count": 32,
   "metadata": {},
   "outputs": [],
   "source": [
    "descr_ts = []\n",
    "for m in moldf_ts:\n",
    "    descr_ts.append(calc.CalcDescriptors(m))\n",
    "x_ts = np.asarray(descr_ts)"
   ]
  },
  {
   "cell_type": "code",
   "execution_count": 33,
   "metadata": {},
   "outputs": [
    {
     "data": {
      "text/plain": [
       "(771, 209)"
      ]
     },
     "execution_count": 33,
     "metadata": {},
     "output_type": "execute_result"
    }
   ],
   "source": [
    "x_ts.shape"
   ]
  },
  {
   "cell_type": "code",
   "execution_count": 34,
   "metadata": {},
   "outputs": [
    {
     "data": {
      "text/html": [
       "<div>\n",
       "<style scoped>\n",
       "    .dataframe tbody tr th:only-of-type {\n",
       "        vertical-align: middle;\n",
       "    }\n",
       "\n",
       "    .dataframe tbody tr th {\n",
       "        vertical-align: top;\n",
       "    }\n",
       "\n",
       "    .dataframe thead th {\n",
       "        text-align: right;\n",
       "    }\n",
       "</style>\n",
       "<table border=\"1\" class=\"dataframe\">\n",
       "  <thead>\n",
       "    <tr style=\"text-align: right;\">\n",
       "      <th></th>\n",
       "      <th>MaxAbsEStateIndex</th>\n",
       "      <th>MaxEStateIndex</th>\n",
       "      <th>MinAbsEStateIndex</th>\n",
       "      <th>MinEStateIndex</th>\n",
       "      <th>qed</th>\n",
       "      <th>MolWt</th>\n",
       "      <th>HeavyAtomMolWt</th>\n",
       "      <th>ExactMolWt</th>\n",
       "      <th>NumValenceElectrons</th>\n",
       "      <th>NumRadicalElectrons</th>\n",
       "      <th>...</th>\n",
       "      <th>fr_sulfide</th>\n",
       "      <th>fr_sulfonamd</th>\n",
       "      <th>fr_sulfone</th>\n",
       "      <th>fr_term_acetylene</th>\n",
       "      <th>fr_tetrazole</th>\n",
       "      <th>fr_thiazole</th>\n",
       "      <th>fr_thiocyan</th>\n",
       "      <th>fr_thiophene</th>\n",
       "      <th>fr_unbrch_alkane</th>\n",
       "      <th>fr_urea</th>\n",
       "    </tr>\n",
       "  </thead>\n",
       "  <tbody>\n",
       "    <tr>\n",
       "      <th>0</th>\n",
       "      <td>10.462074</td>\n",
       "      <td>10.462074</td>\n",
       "      <td>0.122184</td>\n",
       "      <td>-0.789763</td>\n",
       "      <td>0.825546</td>\n",
       "      <td>204.229</td>\n",
       "      <td>192.133</td>\n",
       "      <td>204.089878</td>\n",
       "      <td>78.0</td>\n",
       "      <td>0.0</td>\n",
       "      <td>...</td>\n",
       "      <td>0.0</td>\n",
       "      <td>0.0</td>\n",
       "      <td>0.0</td>\n",
       "      <td>0.0</td>\n",
       "      <td>0.0</td>\n",
       "      <td>0.0</td>\n",
       "      <td>0.0</td>\n",
       "      <td>0.0</td>\n",
       "      <td>0.0</td>\n",
       "      <td>0.0</td>\n",
       "    </tr>\n",
       "    <tr>\n",
       "      <th>1</th>\n",
       "      <td>12.347016</td>\n",
       "      <td>12.347016</td>\n",
       "      <td>0.044100</td>\n",
       "      <td>-0.408075</td>\n",
       "      <td>0.249061</td>\n",
       "      <td>494.720</td>\n",
       "      <td>448.352</td>\n",
       "      <td>494.350843</td>\n",
       "      <td>198.0</td>\n",
       "      <td>0.0</td>\n",
       "      <td>...</td>\n",
       "      <td>0.0</td>\n",
       "      <td>0.0</td>\n",
       "      <td>0.0</td>\n",
       "      <td>0.0</td>\n",
       "      <td>0.0</td>\n",
       "      <td>0.0</td>\n",
       "      <td>0.0</td>\n",
       "      <td>0.0</td>\n",
       "      <td>1.0</td>\n",
       "      <td>0.0</td>\n",
       "    </tr>\n",
       "    <tr>\n",
       "      <th>2</th>\n",
       "      <td>11.705734</td>\n",
       "      <td>11.705734</td>\n",
       "      <td>0.208479</td>\n",
       "      <td>-0.548897</td>\n",
       "      <td>0.249396</td>\n",
       "      <td>446.547</td>\n",
       "      <td>416.307</td>\n",
       "      <td>446.220557</td>\n",
       "      <td>172.0</td>\n",
       "      <td>0.0</td>\n",
       "      <td>...</td>\n",
       "      <td>0.0</td>\n",
       "      <td>0.0</td>\n",
       "      <td>0.0</td>\n",
       "      <td>0.0</td>\n",
       "      <td>0.0</td>\n",
       "      <td>0.0</td>\n",
       "      <td>0.0</td>\n",
       "      <td>0.0</td>\n",
       "      <td>0.0</td>\n",
       "      <td>0.0</td>\n",
       "    </tr>\n",
       "    <tr>\n",
       "      <th>3</th>\n",
       "      <td>13.575602</td>\n",
       "      <td>13.575602</td>\n",
       "      <td>0.046998</td>\n",
       "      <td>-0.826780</td>\n",
       "      <td>0.142426</td>\n",
       "      <td>540.661</td>\n",
       "      <td>500.341</td>\n",
       "      <td>540.294785</td>\n",
       "      <td>212.0</td>\n",
       "      <td>0.0</td>\n",
       "      <td>...</td>\n",
       "      <td>0.0</td>\n",
       "      <td>0.0</td>\n",
       "      <td>0.0</td>\n",
       "      <td>0.0</td>\n",
       "      <td>0.0</td>\n",
       "      <td>0.0</td>\n",
       "      <td>0.0</td>\n",
       "      <td>0.0</td>\n",
       "      <td>2.0</td>\n",
       "      <td>0.0</td>\n",
       "    </tr>\n",
       "    <tr>\n",
       "      <th>4</th>\n",
       "      <td>11.474395</td>\n",
       "      <td>11.474395</td>\n",
       "      <td>0.062912</td>\n",
       "      <td>-0.557235</td>\n",
       "      <td>0.285460</td>\n",
       "      <td>338.433</td>\n",
       "      <td>316.257</td>\n",
       "      <td>338.141262</td>\n",
       "      <td>126.0</td>\n",
       "      <td>0.0</td>\n",
       "      <td>...</td>\n",
       "      <td>0.0</td>\n",
       "      <td>0.0</td>\n",
       "      <td>0.0</td>\n",
       "      <td>0.0</td>\n",
       "      <td>0.0</td>\n",
       "      <td>1.0</td>\n",
       "      <td>0.0</td>\n",
       "      <td>0.0</td>\n",
       "      <td>1.0</td>\n",
       "      <td>0.0</td>\n",
       "    </tr>\n",
       "    <tr>\n",
       "      <th>...</th>\n",
       "      <td>...</td>\n",
       "      <td>...</td>\n",
       "      <td>...</td>\n",
       "      <td>...</td>\n",
       "      <td>...</td>\n",
       "      <td>...</td>\n",
       "      <td>...</td>\n",
       "      <td>...</td>\n",
       "      <td>...</td>\n",
       "      <td>...</td>\n",
       "      <td>...</td>\n",
       "      <td>...</td>\n",
       "      <td>...</td>\n",
       "      <td>...</td>\n",
       "      <td>...</td>\n",
       "      <td>...</td>\n",
       "      <td>...</td>\n",
       "      <td>...</td>\n",
       "      <td>...</td>\n",
       "      <td>...</td>\n",
       "      <td>...</td>\n",
       "    </tr>\n",
       "    <tr>\n",
       "      <th>766</th>\n",
       "      <td>12.491330</td>\n",
       "      <td>12.491330</td>\n",
       "      <td>0.078379</td>\n",
       "      <td>-0.334371</td>\n",
       "      <td>0.199201</td>\n",
       "      <td>464.636</td>\n",
       "      <td>428.348</td>\n",
       "      <td>464.256960</td>\n",
       "      <td>178.0</td>\n",
       "      <td>0.0</td>\n",
       "      <td>...</td>\n",
       "      <td>0.0</td>\n",
       "      <td>0.0</td>\n",
       "      <td>0.0</td>\n",
       "      <td>0.0</td>\n",
       "      <td>0.0</td>\n",
       "      <td>1.0</td>\n",
       "      <td>0.0</td>\n",
       "      <td>0.0</td>\n",
       "      <td>4.0</td>\n",
       "      <td>0.0</td>\n",
       "    </tr>\n",
       "    <tr>\n",
       "      <th>767</th>\n",
       "      <td>13.985815</td>\n",
       "      <td>13.985815</td>\n",
       "      <td>0.000132</td>\n",
       "      <td>-0.822281</td>\n",
       "      <td>0.592558</td>\n",
       "      <td>290.298</td>\n",
       "      <td>275.178</td>\n",
       "      <td>290.117904</td>\n",
       "      <td>110.0</td>\n",
       "      <td>0.0</td>\n",
       "      <td>...</td>\n",
       "      <td>0.0</td>\n",
       "      <td>0.0</td>\n",
       "      <td>0.0</td>\n",
       "      <td>0.0</td>\n",
       "      <td>0.0</td>\n",
       "      <td>0.0</td>\n",
       "      <td>0.0</td>\n",
       "      <td>0.0</td>\n",
       "      <td>0.0</td>\n",
       "      <td>0.0</td>\n",
       "    </tr>\n",
       "    <tr>\n",
       "      <th>768</th>\n",
       "      <td>14.047607</td>\n",
       "      <td>14.047607</td>\n",
       "      <td>0.154280</td>\n",
       "      <td>-1.051567</td>\n",
       "      <td>0.597350</td>\n",
       "      <td>323.274</td>\n",
       "      <td>311.178</td>\n",
       "      <td>323.088161</td>\n",
       "      <td>120.0</td>\n",
       "      <td>0.0</td>\n",
       "      <td>...</td>\n",
       "      <td>0.0</td>\n",
       "      <td>0.0</td>\n",
       "      <td>0.0</td>\n",
       "      <td>0.0</td>\n",
       "      <td>0.0</td>\n",
       "      <td>0.0</td>\n",
       "      <td>0.0</td>\n",
       "      <td>0.0</td>\n",
       "      <td>0.0</td>\n",
       "      <td>0.0</td>\n",
       "    </tr>\n",
       "    <tr>\n",
       "      <th>769</th>\n",
       "      <td>12.260501</td>\n",
       "      <td>12.260501</td>\n",
       "      <td>0.092378</td>\n",
       "      <td>-0.391658</td>\n",
       "      <td>0.193074</td>\n",
       "      <td>396.447</td>\n",
       "      <td>372.255</td>\n",
       "      <td>396.179755</td>\n",
       "      <td>152.0</td>\n",
       "      <td>0.0</td>\n",
       "      <td>...</td>\n",
       "      <td>0.0</td>\n",
       "      <td>0.0</td>\n",
       "      <td>0.0</td>\n",
       "      <td>0.0</td>\n",
       "      <td>0.0</td>\n",
       "      <td>0.0</td>\n",
       "      <td>0.0</td>\n",
       "      <td>0.0</td>\n",
       "      <td>3.0</td>\n",
       "      <td>0.0</td>\n",
       "    </tr>\n",
       "    <tr>\n",
       "      <th>770</th>\n",
       "      <td>12.169562</td>\n",
       "      <td>12.169562</td>\n",
       "      <td>0.056394</td>\n",
       "      <td>-0.383803</td>\n",
       "      <td>0.111965</td>\n",
       "      <td>462.514</td>\n",
       "      <td>436.306</td>\n",
       "      <td>462.212787</td>\n",
       "      <td>176.0</td>\n",
       "      <td>0.0</td>\n",
       "      <td>...</td>\n",
       "      <td>0.0</td>\n",
       "      <td>0.0</td>\n",
       "      <td>0.0</td>\n",
       "      <td>0.0</td>\n",
       "      <td>0.0</td>\n",
       "      <td>0.0</td>\n",
       "      <td>0.0</td>\n",
       "      <td>0.0</td>\n",
       "      <td>3.0</td>\n",
       "      <td>0.0</td>\n",
       "    </tr>\n",
       "  </tbody>\n",
       "</table>\n",
       "<p>771 rows × 197 columns</p>\n",
       "</div>"
      ],
      "text/plain": [
       "     MaxAbsEStateIndex  MaxEStateIndex  MinAbsEStateIndex  MinEStateIndex  \\\n",
       "0            10.462074       10.462074           0.122184       -0.789763   \n",
       "1            12.347016       12.347016           0.044100       -0.408075   \n",
       "2            11.705734       11.705734           0.208479       -0.548897   \n",
       "3            13.575602       13.575602           0.046998       -0.826780   \n",
       "4            11.474395       11.474395           0.062912       -0.557235   \n",
       "..                 ...             ...                ...             ...   \n",
       "766          12.491330       12.491330           0.078379       -0.334371   \n",
       "767          13.985815       13.985815           0.000132       -0.822281   \n",
       "768          14.047607       14.047607           0.154280       -1.051567   \n",
       "769          12.260501       12.260501           0.092378       -0.391658   \n",
       "770          12.169562       12.169562           0.056394       -0.383803   \n",
       "\n",
       "          qed    MolWt  HeavyAtomMolWt  ExactMolWt  NumValenceElectrons  \\\n",
       "0    0.825546  204.229         192.133  204.089878                 78.0   \n",
       "1    0.249061  494.720         448.352  494.350843                198.0   \n",
       "2    0.249396  446.547         416.307  446.220557                172.0   \n",
       "3    0.142426  540.661         500.341  540.294785                212.0   \n",
       "4    0.285460  338.433         316.257  338.141262                126.0   \n",
       "..        ...      ...             ...         ...                  ...   \n",
       "766  0.199201  464.636         428.348  464.256960                178.0   \n",
       "767  0.592558  290.298         275.178  290.117904                110.0   \n",
       "768  0.597350  323.274         311.178  323.088161                120.0   \n",
       "769  0.193074  396.447         372.255  396.179755                152.0   \n",
       "770  0.111965  462.514         436.306  462.212787                176.0   \n",
       "\n",
       "     NumRadicalElectrons  ...  fr_sulfide  fr_sulfonamd  fr_sulfone  \\\n",
       "0                    0.0  ...         0.0           0.0         0.0   \n",
       "1                    0.0  ...         0.0           0.0         0.0   \n",
       "2                    0.0  ...         0.0           0.0         0.0   \n",
       "3                    0.0  ...         0.0           0.0         0.0   \n",
       "4                    0.0  ...         0.0           0.0         0.0   \n",
       "..                   ...  ...         ...           ...         ...   \n",
       "766                  0.0  ...         0.0           0.0         0.0   \n",
       "767                  0.0  ...         0.0           0.0         0.0   \n",
       "768                  0.0  ...         0.0           0.0         0.0   \n",
       "769                  0.0  ...         0.0           0.0         0.0   \n",
       "770                  0.0  ...         0.0           0.0         0.0   \n",
       "\n",
       "     fr_term_acetylene  fr_tetrazole  fr_thiazole  fr_thiocyan  fr_thiophene  \\\n",
       "0                  0.0           0.0          0.0          0.0           0.0   \n",
       "1                  0.0           0.0          0.0          0.0           0.0   \n",
       "2                  0.0           0.0          0.0          0.0           0.0   \n",
       "3                  0.0           0.0          0.0          0.0           0.0   \n",
       "4                  0.0           0.0          1.0          0.0           0.0   \n",
       "..                 ...           ...          ...          ...           ...   \n",
       "766                0.0           0.0          1.0          0.0           0.0   \n",
       "767                0.0           0.0          0.0          0.0           0.0   \n",
       "768                0.0           0.0          0.0          0.0           0.0   \n",
       "769                0.0           0.0          0.0          0.0           0.0   \n",
       "770                0.0           0.0          0.0          0.0           0.0   \n",
       "\n",
       "     fr_unbrch_alkane  fr_urea  \n",
       "0                 0.0      0.0  \n",
       "1                 1.0      0.0  \n",
       "2                 0.0      0.0  \n",
       "3                 2.0      0.0  \n",
       "4                 1.0      0.0  \n",
       "..                ...      ...  \n",
       "766               4.0      0.0  \n",
       "767               0.0      0.0  \n",
       "768               0.0      0.0  \n",
       "769               3.0      0.0  \n",
       "770               3.0      0.0  \n",
       "\n",
       "[771 rows x 197 columns]"
      ]
     },
     "execution_count": 34,
     "metadata": {},
     "output_type": "execute_result"
    }
   ],
   "source": [
    "df_RDKit_2D_ts = pd.DataFrame(x_ts,columns=header)\n",
    "df_RDKit_2D_ts=df_RDKit_2D_ts.dropna(axis=1)\n",
    "df_RDKit_2D_ts"
   ]
  },
  {
   "cell_type": "code",
   "execution_count": 35,
   "metadata": {},
   "outputs": [],
   "source": [
    "x_ts= df_RDKit_2D_ts.to_numpy ()"
   ]
  },
  {
   "cell_type": "code",
   "execution_count": 36,
   "metadata": {},
   "outputs": [],
   "source": [
    "x_ts = Scaler.transform(x_ts)"
   ]
  },
  {
   "cell_type": "code",
   "execution_count": 46,
   "metadata": {},
   "outputs": [],
   "source": [
    "x_ts = np.array(x_ts, dtype=np.float32)\n",
    "y_ts = np.array(y_ts, dtype=np.float32)"
   ]
  },
  {
   "cell_type": "markdown",
   "metadata": {},
   "source": [
    "# load the models from disk"
   ]
  },
  {
   "cell_type": "code",
   "execution_count": 37,
   "metadata": {},
   "outputs": [],
   "source": [
    "best_svm = pickle.load(open('Models/RDKiT/HDAC6_SVM_RDKiT.pkl', 'rb'))"
   ]
  },
  {
   "cell_type": "code",
   "execution_count": 38,
   "metadata": {},
   "outputs": [],
   "source": [
    "best_gbr = pickle.load(open('Models/RDKiT/HDAC6_GBR_RDKiT.pkl', 'rb'))"
   ]
  },
  {
   "cell_type": "code",
   "execution_count": 39,
   "metadata": {},
   "outputs": [],
   "source": [
    "best_MLPR = pickle.load(open('Models/RDKiT/HDAC6_MLPR_RDKiT.pkl', 'rb'))"
   ]
  },
  {
   "cell_type": "code",
   "execution_count": 40,
   "metadata": {},
   "outputs": [],
   "source": [
    "best_kNN = pickle.load(open('Models/RDKiT/HDAC6_kNN_RDKiT.pkl', 'rb'))"
   ]
  },
  {
   "cell_type": "markdown",
   "metadata": {},
   "source": [
    "# Prediction for CV"
   ]
  },
  {
   "cell_type": "code",
   "execution_count": 47,
   "metadata": {},
   "outputs": [],
   "source": [
    "y_pred_ws_GBR = best_gbr.predict(x_tr)"
   ]
  },
  {
   "cell_type": "code",
   "execution_count": 48,
   "metadata": {},
   "outputs": [],
   "source": [
    "y_pred_ws_svm = best_svm.predict(x_tr)"
   ]
  },
  {
   "cell_type": "code",
   "execution_count": 49,
   "metadata": {},
   "outputs": [],
   "source": [
    "y_pred_con=(y_pred_ws_GBR+y_pred_ws_svm)/2"
   ]
  },
  {
   "cell_type": "code",
   "execution_count": 50,
   "metadata": {},
   "outputs": [
    {
     "data": {
      "text/plain": [
       "0.97"
      ]
     },
     "execution_count": 50,
     "metadata": {},
     "output_type": "execute_result"
    }
   ],
   "source": [
    "R2_WS = round(r2_score(y_tr, y_pred_con), 2)\n",
    "R2_WS"
   ]
  },
  {
   "cell_type": "code",
   "execution_count": 51,
   "metadata": {},
   "outputs": [
    {
     "data": {
      "text/plain": [
       "0.37"
      ]
     },
     "execution_count": 51,
     "metadata": {},
     "output_type": "execute_result"
    }
   ],
   "source": [
    "RMSE_WS=round(np.sqrt(mean_absolute_error(y_tr, y_pred_con)), 2)\n",
    "RMSE_WS"
   ]
  },
  {
   "cell_type": "code",
   "execution_count": 52,
   "metadata": {},
   "outputs": [],
   "source": [
    "seed = 42\n",
    "cv=KFold(n_splits=5, random_state=seed, shuffle=True)"
   ]
  },
  {
   "cell_type": "code",
   "execution_count": 53,
   "metadata": {},
   "outputs": [],
   "source": [
    "y_pred_CV_svm = cross_val_predict(best_svm, x_tr, y_tr, cv=cv)"
   ]
  },
  {
   "cell_type": "code",
   "execution_count": 54,
   "metadata": {},
   "outputs": [],
   "source": [
    "y_pred_CV_gbr = cross_val_predict(best_gbr, x_tr, y_tr, cv=cv)"
   ]
  },
  {
   "cell_type": "code",
   "execution_count": 55,
   "metadata": {},
   "outputs": [],
   "source": [
    "y_pred_CV_MLPR = cross_val_predict(best_MLPR, x_tr, y_tr, cv=cv)"
   ]
  },
  {
   "cell_type": "code",
   "execution_count": 56,
   "metadata": {},
   "outputs": [],
   "source": [
    "y_pred_CV_kNN = cross_val_predict(best_kNN, x_tr, y_tr, cv=cv)"
   ]
  },
  {
   "cell_type": "markdown",
   "metadata": {},
   "source": [
    "# For all models"
   ]
  },
  {
   "cell_type": "code",
   "execution_count": 57,
   "metadata": {},
   "outputs": [],
   "source": [
    "y_pred_con=(y_pred_CV_svm+y_pred_CV_gbr+y_pred_CV_MLPR+y_pred_CV_kNN)/4"
   ]
  },
  {
   "cell_type": "code",
   "execution_count": 58,
   "metadata": {},
   "outputs": [
    {
     "data": {
      "text/plain": [
       "0.63"
      ]
     },
     "execution_count": 58,
     "metadata": {},
     "output_type": "execute_result"
    }
   ],
   "source": [
    "Q2_CV = round(r2_score(y_tr, y_pred_con), 2)\n",
    "Q2_CV"
   ]
  },
  {
   "cell_type": "code",
   "execution_count": 59,
   "metadata": {},
   "outputs": [
    {
     "data": {
      "text/plain": [
       "0.7"
      ]
     },
     "execution_count": 59,
     "metadata": {},
     "output_type": "execute_result"
    }
   ],
   "source": [
    "RMSE_CV=round(np.sqrt(mean_absolute_error(y_tr, y_pred_con)),2)\n",
    "RMSE_CV"
   ]
  },
  {
   "cell_type": "markdown",
   "metadata": {},
   "source": [
    "# three models: svm+gbr+MLPR"
   ]
  },
  {
   "cell_type": "code",
   "execution_count": 60,
   "metadata": {},
   "outputs": [],
   "source": [
    "y_pred_con=(y_pred_CV_svm+y_pred_CV_gbr+y_pred_CV_MLPR)/3"
   ]
  },
  {
   "cell_type": "code",
   "execution_count": 61,
   "metadata": {},
   "outputs": [
    {
     "data": {
      "text/plain": [
       "0.62"
      ]
     },
     "execution_count": 61,
     "metadata": {},
     "output_type": "execute_result"
    }
   ],
   "source": [
    "Q2_CV = round(r2_score(y_tr, y_pred_con), 2)\n",
    "Q2_CV"
   ]
  },
  {
   "cell_type": "code",
   "execution_count": 62,
   "metadata": {},
   "outputs": [
    {
     "data": {
      "text/plain": [
       "0.7"
      ]
     },
     "execution_count": 62,
     "metadata": {},
     "output_type": "execute_result"
    }
   ],
   "source": [
    "RMSE_CV=round(np.sqrt(mean_absolute_error(y_tr, y_pred_con)),2)\n",
    "RMSE_CV"
   ]
  },
  {
   "cell_type": "markdown",
   "metadata": {},
   "source": [
    "# two models: svm+gbr"
   ]
  },
  {
   "cell_type": "code",
   "execution_count": 63,
   "metadata": {},
   "outputs": [],
   "source": [
    "y_pred_con_without_MLPR=(y_pred_CV_svm+y_pred_CV_gbr)/2"
   ]
  },
  {
   "cell_type": "code",
   "execution_count": 64,
   "metadata": {},
   "outputs": [
    {
     "data": {
      "text/plain": [
       "0.63"
      ]
     },
     "execution_count": 64,
     "metadata": {},
     "output_type": "execute_result"
    }
   ],
   "source": [
    "Q2_CV = round(r2_score(y_tr, y_pred_con_without_MLPR), 2)\n",
    "Q2_CV"
   ]
  },
  {
   "cell_type": "code",
   "execution_count": 65,
   "metadata": {},
   "outputs": [
    {
     "data": {
      "text/plain": [
       "0.7"
      ]
     },
     "execution_count": 65,
     "metadata": {},
     "output_type": "execute_result"
    }
   ],
   "source": [
    "RMSE_CV=round(np.sqrt(mean_absolute_error(y_tr, y_pred_con_without_MLPR)),2)\n",
    "RMSE_CV"
   ]
  },
  {
   "cell_type": "markdown",
   "metadata": {},
   "source": [
    "# Prediction for test set's molecules"
   ]
  },
  {
   "cell_type": "code",
   "execution_count": 66,
   "metadata": {},
   "outputs": [],
   "source": [
    "x_ts = np.array(x_ts, dtype=np.float32)\n",
    "y_ts = np.array(y_ts, dtype=np.float32)"
   ]
  },
  {
   "cell_type": "code",
   "execution_count": 67,
   "metadata": {},
   "outputs": [],
   "source": [
    "y_pred_svm = best_svm.predict(x_ts)"
   ]
  },
  {
   "cell_type": "code",
   "execution_count": 68,
   "metadata": {},
   "outputs": [],
   "source": [
    "y_pred_gbr = best_gbr.predict(x_ts)"
   ]
  },
  {
   "cell_type": "code",
   "execution_count": 69,
   "metadata": {},
   "outputs": [],
   "source": [
    "y_pred_con=(y_pred_svm+y_pred_gbr)/2"
   ]
  },
  {
   "cell_type": "code",
   "execution_count": 70,
   "metadata": {},
   "outputs": [
    {
     "data": {
      "text/plain": [
       "0.67"
      ]
     },
     "execution_count": 70,
     "metadata": {},
     "output_type": "execute_result"
    }
   ],
   "source": [
    "Q2_TS = round(r2_score(y_ts, y_pred_con), 2)\n",
    "Q2_TS"
   ]
  },
  {
   "cell_type": "code",
   "execution_count": 71,
   "metadata": {},
   "outputs": [
    {
     "data": {
      "text/plain": [
       "0.68"
      ]
     },
     "execution_count": 71,
     "metadata": {},
     "output_type": "execute_result"
    }
   ],
   "source": [
    "RMSE_TS=round(np.sqrt(mean_absolute_error(y_ts, y_pred_con)), 2)\n",
    "RMSE_TS"
   ]
  },
  {
   "cell_type": "markdown",
   "metadata": {},
   "source": [
    "# Estimating applicability domain. Method - Euclidian distances, K=1"
   ]
  },
  {
   "cell_type": "code",
   "execution_count": 72,
   "metadata": {},
   "outputs": [],
   "source": [
    "neighbors_k= pairwise_distances(x_tr, n_jobs=-1)\n",
    "neighbors_k.sort(0)"
   ]
  },
  {
   "cell_type": "code",
   "execution_count": 73,
   "metadata": {},
   "outputs": [
    {
     "data": {
      "text/html": [
       "<div>\n",
       "<style scoped>\n",
       "    .dataframe tbody tr th:only-of-type {\n",
       "        vertical-align: middle;\n",
       "    }\n",
       "\n",
       "    .dataframe tbody tr th {\n",
       "        vertical-align: top;\n",
       "    }\n",
       "\n",
       "    .dataframe thead th {\n",
       "        text-align: right;\n",
       "    }\n",
       "</style>\n",
       "<table border=\"1\" class=\"dataframe\">\n",
       "  <thead>\n",
       "    <tr style=\"text-align: right;\">\n",
       "      <th></th>\n",
       "      <th>0</th>\n",
       "      <th>1</th>\n",
       "      <th>2</th>\n",
       "      <th>3</th>\n",
       "      <th>4</th>\n",
       "      <th>5</th>\n",
       "      <th>6</th>\n",
       "      <th>7</th>\n",
       "      <th>8</th>\n",
       "      <th>9</th>\n",
       "      <th>...</th>\n",
       "      <th>3073</th>\n",
       "      <th>3074</th>\n",
       "      <th>3075</th>\n",
       "      <th>3076</th>\n",
       "      <th>3077</th>\n",
       "      <th>3078</th>\n",
       "      <th>3079</th>\n",
       "      <th>3080</th>\n",
       "      <th>3081</th>\n",
       "      <th>3082</th>\n",
       "    </tr>\n",
       "  </thead>\n",
       "  <tbody>\n",
       "    <tr>\n",
       "      <th>0</th>\n",
       "      <td>0.000000</td>\n",
       "      <td>0.000000</td>\n",
       "      <td>0.000000</td>\n",
       "      <td>0.000000</td>\n",
       "      <td>0.000000</td>\n",
       "      <td>0.000000</td>\n",
       "      <td>0.000000</td>\n",
       "      <td>0.000000</td>\n",
       "      <td>0.000000</td>\n",
       "      <td>0.000000</td>\n",
       "      <td>...</td>\n",
       "      <td>0.000000</td>\n",
       "      <td>0.000000</td>\n",
       "      <td>0.000000</td>\n",
       "      <td>0.000000</td>\n",
       "      <td>0.000000</td>\n",
       "      <td>0.000000</td>\n",
       "      <td>0.000000</td>\n",
       "      <td>0.000000</td>\n",
       "      <td>0.000000</td>\n",
       "      <td>0.000000</td>\n",
       "    </tr>\n",
       "    <tr>\n",
       "      <th>1</th>\n",
       "      <td>2.900746</td>\n",
       "      <td>7.490754</td>\n",
       "      <td>4.863770</td>\n",
       "      <td>4.216553</td>\n",
       "      <td>17.930073</td>\n",
       "      <td>5.799909</td>\n",
       "      <td>12.561265</td>\n",
       "      <td>5.479323</td>\n",
       "      <td>7.492610</td>\n",
       "      <td>7.368469</td>\n",
       "      <td>...</td>\n",
       "      <td>4.920031</td>\n",
       "      <td>4.072734</td>\n",
       "      <td>4.076962</td>\n",
       "      <td>5.708169</td>\n",
       "      <td>0.658189</td>\n",
       "      <td>4.072734</td>\n",
       "      <td>4.407693</td>\n",
       "      <td>4.652277</td>\n",
       "      <td>3.443594</td>\n",
       "      <td>4.879563</td>\n",
       "    </tr>\n",
       "    <tr>\n",
       "      <th>2</th>\n",
       "      <td>7.109359</td>\n",
       "      <td>8.714100</td>\n",
       "      <td>6.138494</td>\n",
       "      <td>4.775836</td>\n",
       "      <td>17.975319</td>\n",
       "      <td>10.456244</td>\n",
       "      <td>13.250570</td>\n",
       "      <td>5.497796</td>\n",
       "      <td>7.601954</td>\n",
       "      <td>7.723112</td>\n",
       "      <td>...</td>\n",
       "      <td>5.171291</td>\n",
       "      <td>5.859732</td>\n",
       "      <td>4.348378</td>\n",
       "      <td>6.024629</td>\n",
       "      <td>0.988269</td>\n",
       "      <td>5.060231</td>\n",
       "      <td>5.224220</td>\n",
       "      <td>6.131215</td>\n",
       "      <td>4.407693</td>\n",
       "      <td>4.903585</td>\n",
       "    </tr>\n",
       "    <tr>\n",
       "      <th>3</th>\n",
       "      <td>8.137948</td>\n",
       "      <td>9.820560</td>\n",
       "      <td>6.308080</td>\n",
       "      <td>4.847589</td>\n",
       "      <td>18.707184</td>\n",
       "      <td>10.577019</td>\n",
       "      <td>13.336942</td>\n",
       "      <td>5.805781</td>\n",
       "      <td>7.664309</td>\n",
       "      <td>7.915602</td>\n",
       "      <td>...</td>\n",
       "      <td>6.813833</td>\n",
       "      <td>6.497852</td>\n",
       "      <td>4.839753</td>\n",
       "      <td>6.250508</td>\n",
       "      <td>1.010266</td>\n",
       "      <td>5.063005</td>\n",
       "      <td>5.662558</td>\n",
       "      <td>6.684643</td>\n",
       "      <td>4.833030</td>\n",
       "      <td>5.560298</td>\n",
       "    </tr>\n",
       "    <tr>\n",
       "      <th>4</th>\n",
       "      <td>9.989728</td>\n",
       "      <td>9.854204</td>\n",
       "      <td>7.085804</td>\n",
       "      <td>4.960750</td>\n",
       "      <td>18.861732</td>\n",
       "      <td>10.596408</td>\n",
       "      <td>13.549530</td>\n",
       "      <td>5.840825</td>\n",
       "      <td>9.903274</td>\n",
       "      <td>7.977097</td>\n",
       "      <td>...</td>\n",
       "      <td>7.405154</td>\n",
       "      <td>6.540346</td>\n",
       "      <td>5.370556</td>\n",
       "      <td>6.365889</td>\n",
       "      <td>1.255771</td>\n",
       "      <td>5.138348</td>\n",
       "      <td>6.034671</td>\n",
       "      <td>6.959353</td>\n",
       "      <td>4.916375</td>\n",
       "      <td>5.952220</td>\n",
       "    </tr>\n",
       "    <tr>\n",
       "      <th>...</th>\n",
       "      <td>...</td>\n",
       "      <td>...</td>\n",
       "      <td>...</td>\n",
       "      <td>...</td>\n",
       "      <td>...</td>\n",
       "      <td>...</td>\n",
       "      <td>...</td>\n",
       "      <td>...</td>\n",
       "      <td>...</td>\n",
       "      <td>...</td>\n",
       "      <td>...</td>\n",
       "      <td>...</td>\n",
       "      <td>...</td>\n",
       "      <td>...</td>\n",
       "      <td>...</td>\n",
       "      <td>...</td>\n",
       "      <td>...</td>\n",
       "      <td>...</td>\n",
       "      <td>...</td>\n",
       "      <td>...</td>\n",
       "      <td>...</td>\n",
       "    </tr>\n",
       "    <tr>\n",
       "      <th>3078</th>\n",
       "      <td>59.709450</td>\n",
       "      <td>57.089840</td>\n",
       "      <td>58.331394</td>\n",
       "      <td>58.048542</td>\n",
       "      <td>60.361908</td>\n",
       "      <td>59.614731</td>\n",
       "      <td>60.295795</td>\n",
       "      <td>56.343266</td>\n",
       "      <td>59.286362</td>\n",
       "      <td>57.215279</td>\n",
       "      <td>...</td>\n",
       "      <td>57.023624</td>\n",
       "      <td>58.033653</td>\n",
       "      <td>55.505810</td>\n",
       "      <td>57.839581</td>\n",
       "      <td>57.789265</td>\n",
       "      <td>57.883804</td>\n",
       "      <td>52.422710</td>\n",
       "      <td>58.245987</td>\n",
       "      <td>52.542534</td>\n",
       "      <td>58.314781</td>\n",
       "    </tr>\n",
       "    <tr>\n",
       "      <th>3079</th>\n",
       "      <td>64.622200</td>\n",
       "      <td>58.628857</td>\n",
       "      <td>61.113022</td>\n",
       "      <td>65.252991</td>\n",
       "      <td>66.739883</td>\n",
       "      <td>63.430611</td>\n",
       "      <td>64.864288</td>\n",
       "      <td>59.616123</td>\n",
       "      <td>60.062920</td>\n",
       "      <td>58.115875</td>\n",
       "      <td>...</td>\n",
       "      <td>58.553734</td>\n",
       "      <td>61.865906</td>\n",
       "      <td>58.377594</td>\n",
       "      <td>59.986343</td>\n",
       "      <td>61.820324</td>\n",
       "      <td>61.826904</td>\n",
       "      <td>59.121777</td>\n",
       "      <td>59.020580</td>\n",
       "      <td>59.263229</td>\n",
       "      <td>58.379990</td>\n",
       "    </tr>\n",
       "    <tr>\n",
       "      <th>3080</th>\n",
       "      <td>81.340500</td>\n",
       "      <td>75.280838</td>\n",
       "      <td>78.340683</td>\n",
       "      <td>82.818199</td>\n",
       "      <td>84.909103</td>\n",
       "      <td>80.951973</td>\n",
       "      <td>81.381165</td>\n",
       "      <td>74.253502</td>\n",
       "      <td>77.427872</td>\n",
       "      <td>74.428055</td>\n",
       "      <td>...</td>\n",
       "      <td>73.744194</td>\n",
       "      <td>78.953934</td>\n",
       "      <td>72.996773</td>\n",
       "      <td>77.820648</td>\n",
       "      <td>79.473152</td>\n",
       "      <td>79.284737</td>\n",
       "      <td>70.352531</td>\n",
       "      <td>76.791962</td>\n",
       "      <td>70.447548</td>\n",
       "      <td>76.546432</td>\n",
       "    </tr>\n",
       "    <tr>\n",
       "      <th>3081</th>\n",
       "      <td>85.425507</td>\n",
       "      <td>79.865417</td>\n",
       "      <td>82.594971</td>\n",
       "      <td>86.833618</td>\n",
       "      <td>88.959114</td>\n",
       "      <td>85.144142</td>\n",
       "      <td>85.474640</td>\n",
       "      <td>78.858673</td>\n",
       "      <td>81.937691</td>\n",
       "      <td>78.974007</td>\n",
       "      <td>...</td>\n",
       "      <td>78.352058</td>\n",
       "      <td>83.185013</td>\n",
       "      <td>77.640060</td>\n",
       "      <td>82.157242</td>\n",
       "      <td>83.693398</td>\n",
       "      <td>83.512268</td>\n",
       "      <td>75.306541</td>\n",
       "      <td>81.202240</td>\n",
       "      <td>75.398499</td>\n",
       "      <td>80.949966</td>\n",
       "    </tr>\n",
       "    <tr>\n",
       "      <th>3082</th>\n",
       "      <td>91.149246</td>\n",
       "      <td>85.866203</td>\n",
       "      <td>88.490807</td>\n",
       "      <td>92.468338</td>\n",
       "      <td>94.408913</td>\n",
       "      <td>90.835266</td>\n",
       "      <td>91.186775</td>\n",
       "      <td>84.945938</td>\n",
       "      <td>87.776894</td>\n",
       "      <td>85.073792</td>\n",
       "      <td>...</td>\n",
       "      <td>84.495804</td>\n",
       "      <td>89.025543</td>\n",
       "      <td>83.827652</td>\n",
       "      <td>88.046524</td>\n",
       "      <td>89.504173</td>\n",
       "      <td>89.325157</td>\n",
       "      <td>81.602623</td>\n",
       "      <td>87.151062</td>\n",
       "      <td>81.685051</td>\n",
       "      <td>86.930786</td>\n",
       "    </tr>\n",
       "  </tbody>\n",
       "</table>\n",
       "<p>3083 rows × 3083 columns</p>\n",
       "</div>"
      ],
      "text/plain": [
       "           0          1          2          3          4          5     \\\n",
       "0      0.000000   0.000000   0.000000   0.000000   0.000000   0.000000   \n",
       "1      2.900746   7.490754   4.863770   4.216553  17.930073   5.799909   \n",
       "2      7.109359   8.714100   6.138494   4.775836  17.975319  10.456244   \n",
       "3      8.137948   9.820560   6.308080   4.847589  18.707184  10.577019   \n",
       "4      9.989728   9.854204   7.085804   4.960750  18.861732  10.596408   \n",
       "...         ...        ...        ...        ...        ...        ...   \n",
       "3078  59.709450  57.089840  58.331394  58.048542  60.361908  59.614731   \n",
       "3079  64.622200  58.628857  61.113022  65.252991  66.739883  63.430611   \n",
       "3080  81.340500  75.280838  78.340683  82.818199  84.909103  80.951973   \n",
       "3081  85.425507  79.865417  82.594971  86.833618  88.959114  85.144142   \n",
       "3082  91.149246  85.866203  88.490807  92.468338  94.408913  90.835266   \n",
       "\n",
       "           6          7          8          9     ...       3073       3074  \\\n",
       "0      0.000000   0.000000   0.000000   0.000000  ...   0.000000   0.000000   \n",
       "1     12.561265   5.479323   7.492610   7.368469  ...   4.920031   4.072734   \n",
       "2     13.250570   5.497796   7.601954   7.723112  ...   5.171291   5.859732   \n",
       "3     13.336942   5.805781   7.664309   7.915602  ...   6.813833   6.497852   \n",
       "4     13.549530   5.840825   9.903274   7.977097  ...   7.405154   6.540346   \n",
       "...         ...        ...        ...        ...  ...        ...        ...   \n",
       "3078  60.295795  56.343266  59.286362  57.215279  ...  57.023624  58.033653   \n",
       "3079  64.864288  59.616123  60.062920  58.115875  ...  58.553734  61.865906   \n",
       "3080  81.381165  74.253502  77.427872  74.428055  ...  73.744194  78.953934   \n",
       "3081  85.474640  78.858673  81.937691  78.974007  ...  78.352058  83.185013   \n",
       "3082  91.186775  84.945938  87.776894  85.073792  ...  84.495804  89.025543   \n",
       "\n",
       "           3075       3076       3077       3078       3079       3080  \\\n",
       "0      0.000000   0.000000   0.000000   0.000000   0.000000   0.000000   \n",
       "1      4.076962   5.708169   0.658189   4.072734   4.407693   4.652277   \n",
       "2      4.348378   6.024629   0.988269   5.060231   5.224220   6.131215   \n",
       "3      4.839753   6.250508   1.010266   5.063005   5.662558   6.684643   \n",
       "4      5.370556   6.365889   1.255771   5.138348   6.034671   6.959353   \n",
       "...         ...        ...        ...        ...        ...        ...   \n",
       "3078  55.505810  57.839581  57.789265  57.883804  52.422710  58.245987   \n",
       "3079  58.377594  59.986343  61.820324  61.826904  59.121777  59.020580   \n",
       "3080  72.996773  77.820648  79.473152  79.284737  70.352531  76.791962   \n",
       "3081  77.640060  82.157242  83.693398  83.512268  75.306541  81.202240   \n",
       "3082  83.827652  88.046524  89.504173  89.325157  81.602623  87.151062   \n",
       "\n",
       "           3081       3082  \n",
       "0      0.000000   0.000000  \n",
       "1      3.443594   4.879563  \n",
       "2      4.407693   4.903585  \n",
       "3      4.833030   5.560298  \n",
       "4      4.916375   5.952220  \n",
       "...         ...        ...  \n",
       "3078  52.542534  58.314781  \n",
       "3079  59.263229  58.379990  \n",
       "3080  70.447548  76.546432  \n",
       "3081  75.398499  80.949966  \n",
       "3082  81.685051  86.930786  \n",
       "\n",
       "[3083 rows x 3083 columns]"
      ]
     },
     "execution_count": 73,
     "metadata": {},
     "output_type": "execute_result"
    }
   ],
   "source": [
    "df_tr=pd.DataFrame(neighbors_k)\n",
    "df_tr"
   ]
  },
  {
   "cell_type": "code",
   "execution_count": 74,
   "metadata": {},
   "outputs": [],
   "source": [
    "similarity= neighbors_k"
   ]
  },
  {
   "cell_type": "code",
   "execution_count": 75,
   "metadata": {},
   "outputs": [],
   "source": [
    "Dmean=np.mean(similarity[1,:])"
   ]
  },
  {
   "cell_type": "code",
   "execution_count": 76,
   "metadata": {},
   "outputs": [
    {
     "data": {
      "text/plain": [
       "3.81"
      ]
     },
     "execution_count": 76,
     "metadata": {},
     "output_type": "execute_result"
    }
   ],
   "source": [
    "round(Dmean, 2)"
   ]
  },
  {
   "cell_type": "code",
   "execution_count": 77,
   "metadata": {},
   "outputs": [],
   "source": [
    "std=np.std(similarity[1,:])"
   ]
  },
  {
   "cell_type": "code",
   "execution_count": 78,
   "metadata": {},
   "outputs": [
    {
     "data": {
      "text/plain": [
       "2.93"
      ]
     },
     "execution_count": 78,
     "metadata": {},
     "output_type": "execute_result"
    }
   ],
   "source": [
    "round(std, 2)"
   ]
  },
  {
   "cell_type": "code",
   "execution_count": 79,
   "metadata": {},
   "outputs": [
    {
     "name": "stdout",
     "output_type": "stream",
     "text": [
      "5.28\n"
     ]
    }
   ],
   "source": [
    "model_AD_limit=Dmean+std*0.5\n",
    "print(np.round(model_AD_limit, 2))"
   ]
  },
  {
   "cell_type": "code",
   "execution_count": 80,
   "metadata": {},
   "outputs": [],
   "source": [
    "neighbors_k_ts= pairwise_distances(x_tr,Y=x_ts, n_jobs=-1)\n",
    "neighbors_k_ts.sort(0)"
   ]
  },
  {
   "cell_type": "code",
   "execution_count": 81,
   "metadata": {},
   "outputs": [
    {
     "data": {
      "text/html": [
       "<div>\n",
       "<style scoped>\n",
       "    .dataframe tbody tr th:only-of-type {\n",
       "        vertical-align: middle;\n",
       "    }\n",
       "\n",
       "    .dataframe tbody tr th {\n",
       "        vertical-align: top;\n",
       "    }\n",
       "\n",
       "    .dataframe thead th {\n",
       "        text-align: right;\n",
       "    }\n",
       "</style>\n",
       "<table border=\"1\" class=\"dataframe\">\n",
       "  <thead>\n",
       "    <tr style=\"text-align: right;\">\n",
       "      <th></th>\n",
       "      <th>0</th>\n",
       "      <th>1</th>\n",
       "      <th>2</th>\n",
       "      <th>3</th>\n",
       "      <th>4</th>\n",
       "      <th>5</th>\n",
       "      <th>6</th>\n",
       "      <th>7</th>\n",
       "      <th>8</th>\n",
       "      <th>9</th>\n",
       "      <th>...</th>\n",
       "      <th>761</th>\n",
       "      <th>762</th>\n",
       "      <th>763</th>\n",
       "      <th>764</th>\n",
       "      <th>765</th>\n",
       "      <th>766</th>\n",
       "      <th>767</th>\n",
       "      <th>768</th>\n",
       "      <th>769</th>\n",
       "      <th>770</th>\n",
       "    </tr>\n",
       "  </thead>\n",
       "  <tbody>\n",
       "    <tr>\n",
       "      <th>0</th>\n",
       "      <td>5.562876</td>\n",
       "      <td>9.408307</td>\n",
       "      <td>2.476244</td>\n",
       "      <td>7.263117</td>\n",
       "      <td>5.282289</td>\n",
       "      <td>1.583892</td>\n",
       "      <td>4.525869</td>\n",
       "      <td>4.086624</td>\n",
       "      <td>1.226136</td>\n",
       "      <td>5.644353</td>\n",
       "      <td>...</td>\n",
       "      <td>3.599905</td>\n",
       "      <td>5.858726</td>\n",
       "      <td>2.397434</td>\n",
       "      <td>6.870955</td>\n",
       "      <td>0.624128</td>\n",
       "      <td>5.352804</td>\n",
       "      <td>4.178713</td>\n",
       "      <td>4.182506</td>\n",
       "      <td>2.802792</td>\n",
       "      <td>6.270564</td>\n",
       "    </tr>\n",
       "    <tr>\n",
       "      <th>1</th>\n",
       "      <td>6.275527</td>\n",
       "      <td>9.772277</td>\n",
       "      <td>3.742494</td>\n",
       "      <td>9.391856</td>\n",
       "      <td>5.966987</td>\n",
       "      <td>6.967967</td>\n",
       "      <td>4.654638</td>\n",
       "      <td>5.942024</td>\n",
       "      <td>1.366599</td>\n",
       "      <td>5.758951</td>\n",
       "      <td>...</td>\n",
       "      <td>4.647412</td>\n",
       "      <td>7.501709</td>\n",
       "      <td>2.406615</td>\n",
       "      <td>7.081888</td>\n",
       "      <td>1.123838</td>\n",
       "      <td>8.497024</td>\n",
       "      <td>4.706113</td>\n",
       "      <td>4.375260</td>\n",
       "      <td>6.100465</td>\n",
       "      <td>6.275194</td>\n",
       "    </tr>\n",
       "    <tr>\n",
       "      <th>2</th>\n",
       "      <td>9.078235</td>\n",
       "      <td>10.222068</td>\n",
       "      <td>5.327841</td>\n",
       "      <td>10.445791</td>\n",
       "      <td>6.363236</td>\n",
       "      <td>7.111341</td>\n",
       "      <td>4.662265</td>\n",
       "      <td>6.425875</td>\n",
       "      <td>2.359035</td>\n",
       "      <td>5.914622</td>\n",
       "      <td>...</td>\n",
       "      <td>4.780885</td>\n",
       "      <td>8.883467</td>\n",
       "      <td>3.993276</td>\n",
       "      <td>7.182392</td>\n",
       "      <td>1.419483</td>\n",
       "      <td>8.678516</td>\n",
       "      <td>5.038717</td>\n",
       "      <td>4.899669</td>\n",
       "      <td>6.551455</td>\n",
       "      <td>6.719943</td>\n",
       "    </tr>\n",
       "    <tr>\n",
       "      <th>3</th>\n",
       "      <td>9.173492</td>\n",
       "      <td>10.937669</td>\n",
       "      <td>5.398200</td>\n",
       "      <td>10.565662</td>\n",
       "      <td>6.781344</td>\n",
       "      <td>7.248561</td>\n",
       "      <td>4.665929</td>\n",
       "      <td>6.427113</td>\n",
       "      <td>8.193204</td>\n",
       "      <td>6.700883</td>\n",
       "      <td>...</td>\n",
       "      <td>4.980605</td>\n",
       "      <td>9.732864</td>\n",
       "      <td>4.486266</td>\n",
       "      <td>7.539695</td>\n",
       "      <td>1.828747</td>\n",
       "      <td>8.755605</td>\n",
       "      <td>6.219784</td>\n",
       "      <td>5.480123</td>\n",
       "      <td>6.700244</td>\n",
       "      <td>6.963034</td>\n",
       "    </tr>\n",
       "    <tr>\n",
       "      <th>4</th>\n",
       "      <td>10.453269</td>\n",
       "      <td>11.627253</td>\n",
       "      <td>8.801223</td>\n",
       "      <td>10.939350</td>\n",
       "      <td>6.816641</td>\n",
       "      <td>9.321835</td>\n",
       "      <td>4.682167</td>\n",
       "      <td>6.652034</td>\n",
       "      <td>9.358028</td>\n",
       "      <td>7.951190</td>\n",
       "      <td>...</td>\n",
       "      <td>5.120647</td>\n",
       "      <td>9.746282</td>\n",
       "      <td>6.545360</td>\n",
       "      <td>7.592781</td>\n",
       "      <td>2.017845</td>\n",
       "      <td>8.781173</td>\n",
       "      <td>6.347568</td>\n",
       "      <td>5.648501</td>\n",
       "      <td>6.784176</td>\n",
       "      <td>7.693971</td>\n",
       "    </tr>\n",
       "    <tr>\n",
       "      <th>...</th>\n",
       "      <td>...</td>\n",
       "      <td>...</td>\n",
       "      <td>...</td>\n",
       "      <td>...</td>\n",
       "      <td>...</td>\n",
       "      <td>...</td>\n",
       "      <td>...</td>\n",
       "      <td>...</td>\n",
       "      <td>...</td>\n",
       "      <td>...</td>\n",
       "      <td>...</td>\n",
       "      <td>...</td>\n",
       "      <td>...</td>\n",
       "      <td>...</td>\n",
       "      <td>...</td>\n",
       "      <td>...</td>\n",
       "      <td>...</td>\n",
       "      <td>...</td>\n",
       "      <td>...</td>\n",
       "      <td>...</td>\n",
       "      <td>...</td>\n",
       "    </tr>\n",
       "    <tr>\n",
       "      <th>3078</th>\n",
       "      <td>59.781460</td>\n",
       "      <td>56.179749</td>\n",
       "      <td>57.971455</td>\n",
       "      <td>52.362705</td>\n",
       "      <td>57.781895</td>\n",
       "      <td>58.590824</td>\n",
       "      <td>57.778069</td>\n",
       "      <td>51.572186</td>\n",
       "      <td>57.697525</td>\n",
       "      <td>57.476196</td>\n",
       "      <td>...</td>\n",
       "      <td>58.058849</td>\n",
       "      <td>59.868187</td>\n",
       "      <td>56.113762</td>\n",
       "      <td>54.403896</td>\n",
       "      <td>57.757385</td>\n",
       "      <td>54.564102</td>\n",
       "      <td>58.043728</td>\n",
       "      <td>58.252922</td>\n",
       "      <td>55.523853</td>\n",
       "      <td>54.207008</td>\n",
       "    </tr>\n",
       "    <tr>\n",
       "      <th>3079</th>\n",
       "      <td>67.205528</td>\n",
       "      <td>60.326141</td>\n",
       "      <td>58.778210</td>\n",
       "      <td>59.597603</td>\n",
       "      <td>59.278900</td>\n",
       "      <td>60.038208</td>\n",
       "      <td>62.330917</td>\n",
       "      <td>60.609188</td>\n",
       "      <td>58.992355</td>\n",
       "      <td>59.067913</td>\n",
       "      <td>...</td>\n",
       "      <td>61.397564</td>\n",
       "      <td>62.523899</td>\n",
       "      <td>59.718113</td>\n",
       "      <td>59.075142</td>\n",
       "      <td>61.826778</td>\n",
       "      <td>58.758202</td>\n",
       "      <td>62.399639</td>\n",
       "      <td>61.650723</td>\n",
       "      <td>58.134670</td>\n",
       "      <td>59.524067</td>\n",
       "    </tr>\n",
       "    <tr>\n",
       "      <th>3080</th>\n",
       "      <td>84.251755</td>\n",
       "      <td>74.074989</td>\n",
       "      <td>75.902603</td>\n",
       "      <td>70.851189</td>\n",
       "      <td>77.011703</td>\n",
       "      <td>75.895538</td>\n",
       "      <td>80.048813</td>\n",
       "      <td>71.155571</td>\n",
       "      <td>74.744392</td>\n",
       "      <td>74.372246</td>\n",
       "      <td>...</td>\n",
       "      <td>79.184990</td>\n",
       "      <td>79.435165</td>\n",
       "      <td>73.884781</td>\n",
       "      <td>73.209869</td>\n",
       "      <td>79.448738</td>\n",
       "      <td>72.676376</td>\n",
       "      <td>79.293182</td>\n",
       "      <td>78.995605</td>\n",
       "      <td>73.459663</td>\n",
       "      <td>71.604591</td>\n",
       "    </tr>\n",
       "    <tr>\n",
       "      <th>3081</th>\n",
       "      <td>88.179581</td>\n",
       "      <td>78.844856</td>\n",
       "      <td>80.434784</td>\n",
       "      <td>75.772133</td>\n",
       "      <td>81.400314</td>\n",
       "      <td>80.516991</td>\n",
       "      <td>84.226692</td>\n",
       "      <td>76.132507</td>\n",
       "      <td>79.301971</td>\n",
       "      <td>78.991112</td>\n",
       "      <td>...</td>\n",
       "      <td>83.416595</td>\n",
       "      <td>83.711998</td>\n",
       "      <td>78.526108</td>\n",
       "      <td>77.863152</td>\n",
       "      <td>83.664680</td>\n",
       "      <td>77.495522</td>\n",
       "      <td>83.496391</td>\n",
       "      <td>83.220802</td>\n",
       "      <td>78.117104</td>\n",
       "      <td>76.416847</td>\n",
       "    </tr>\n",
       "    <tr>\n",
       "      <th>3082</th>\n",
       "      <td>93.743080</td>\n",
       "      <td>84.865059</td>\n",
       "      <td>86.401955</td>\n",
       "      <td>82.038437</td>\n",
       "      <td>87.340942</td>\n",
       "      <td>86.439453</td>\n",
       "      <td>90.004410</td>\n",
       "      <td>82.334183</td>\n",
       "      <td>85.370316</td>\n",
       "      <td>85.058998</td>\n",
       "      <td>...</td>\n",
       "      <td>89.240578</td>\n",
       "      <td>89.492874</td>\n",
       "      <td>84.631042</td>\n",
       "      <td>84.030472</td>\n",
       "      <td>89.479912</td>\n",
       "      <td>83.620369</td>\n",
       "      <td>89.329498</td>\n",
       "      <td>89.061020</td>\n",
       "      <td>84.253136</td>\n",
       "      <td>82.659004</td>\n",
       "    </tr>\n",
       "  </tbody>\n",
       "</table>\n",
       "<p>3083 rows × 771 columns</p>\n",
       "</div>"
      ],
      "text/plain": [
       "            0          1          2          3          4          5    \\\n",
       "0      5.562876   9.408307   2.476244   7.263117   5.282289   1.583892   \n",
       "1      6.275527   9.772277   3.742494   9.391856   5.966987   6.967967   \n",
       "2      9.078235  10.222068   5.327841  10.445791   6.363236   7.111341   \n",
       "3      9.173492  10.937669   5.398200  10.565662   6.781344   7.248561   \n",
       "4     10.453269  11.627253   8.801223  10.939350   6.816641   9.321835   \n",
       "...         ...        ...        ...        ...        ...        ...   \n",
       "3078  59.781460  56.179749  57.971455  52.362705  57.781895  58.590824   \n",
       "3079  67.205528  60.326141  58.778210  59.597603  59.278900  60.038208   \n",
       "3080  84.251755  74.074989  75.902603  70.851189  77.011703  75.895538   \n",
       "3081  88.179581  78.844856  80.434784  75.772133  81.400314  80.516991   \n",
       "3082  93.743080  84.865059  86.401955  82.038437  87.340942  86.439453   \n",
       "\n",
       "            6          7          8          9    ...        761        762  \\\n",
       "0      4.525869   4.086624   1.226136   5.644353  ...   3.599905   5.858726   \n",
       "1      4.654638   5.942024   1.366599   5.758951  ...   4.647412   7.501709   \n",
       "2      4.662265   6.425875   2.359035   5.914622  ...   4.780885   8.883467   \n",
       "3      4.665929   6.427113   8.193204   6.700883  ...   4.980605   9.732864   \n",
       "4      4.682167   6.652034   9.358028   7.951190  ...   5.120647   9.746282   \n",
       "...         ...        ...        ...        ...  ...        ...        ...   \n",
       "3078  57.778069  51.572186  57.697525  57.476196  ...  58.058849  59.868187   \n",
       "3079  62.330917  60.609188  58.992355  59.067913  ...  61.397564  62.523899   \n",
       "3080  80.048813  71.155571  74.744392  74.372246  ...  79.184990  79.435165   \n",
       "3081  84.226692  76.132507  79.301971  78.991112  ...  83.416595  83.711998   \n",
       "3082  90.004410  82.334183  85.370316  85.058998  ...  89.240578  89.492874   \n",
       "\n",
       "            763        764        765        766        767        768  \\\n",
       "0      2.397434   6.870955   0.624128   5.352804   4.178713   4.182506   \n",
       "1      2.406615   7.081888   1.123838   8.497024   4.706113   4.375260   \n",
       "2      3.993276   7.182392   1.419483   8.678516   5.038717   4.899669   \n",
       "3      4.486266   7.539695   1.828747   8.755605   6.219784   5.480123   \n",
       "4      6.545360   7.592781   2.017845   8.781173   6.347568   5.648501   \n",
       "...         ...        ...        ...        ...        ...        ...   \n",
       "3078  56.113762  54.403896  57.757385  54.564102  58.043728  58.252922   \n",
       "3079  59.718113  59.075142  61.826778  58.758202  62.399639  61.650723   \n",
       "3080  73.884781  73.209869  79.448738  72.676376  79.293182  78.995605   \n",
       "3081  78.526108  77.863152  83.664680  77.495522  83.496391  83.220802   \n",
       "3082  84.631042  84.030472  89.479912  83.620369  89.329498  89.061020   \n",
       "\n",
       "            769        770  \n",
       "0      2.802792   6.270564  \n",
       "1      6.100465   6.275194  \n",
       "2      6.551455   6.719943  \n",
       "3      6.700244   6.963034  \n",
       "4      6.784176   7.693971  \n",
       "...         ...        ...  \n",
       "3078  55.523853  54.207008  \n",
       "3079  58.134670  59.524067  \n",
       "3080  73.459663  71.604591  \n",
       "3081  78.117104  76.416847  \n",
       "3082  84.253136  82.659004  \n",
       "\n",
       "[3083 rows x 771 columns]"
      ]
     },
     "execution_count": 81,
     "metadata": {},
     "output_type": "execute_result"
    }
   ],
   "source": [
    "x_ts_AD=pd.DataFrame(neighbors_k_ts)\n",
    "x_ts_AD"
   ]
  },
  {
   "cell_type": "code",
   "execution_count": 82,
   "metadata": {},
   "outputs": [
    {
     "name": "stdout",
     "output_type": "stream",
     "text": [
      "[5.56300e+00 9.40800e+00 2.47600e+00 7.26300e+00 5.28200e+00 1.58400e+00\n",
      " 4.52600e+00 4.08700e+00 1.22600e+00 5.64400e+00 3.68800e+00 2.49300e+00\n",
      " 1.16520e+01 5.60800e+00 1.98100e+00 2.12100e+00 1.44400e+00 5.20800e+00\n",
      " 1.76500e+00 4.26400e+00 1.88300e+00 6.91600e+00 9.43100e+00 4.68400e+00\n",
      " 1.49200e+01 2.24000e+00 2.77300e+00 7.36600e+00 1.96200e+00 4.84400e+00\n",
      " 2.91800e+00 6.29500e+00 4.33100e+00 9.20700e+00 4.91700e+00 3.02300e+00\n",
      " 4.15400e+00 5.92200e+00 5.15800e+00 4.62200e+00 7.16300e+00 3.86700e+00\n",
      " 3.04700e+00 1.13160e+01 1.32220e+01 2.01300e+00 3.88900e+00 1.92400e+00\n",
      " 3.34400e+00 3.48100e+00 4.09700e+00 1.64800e+00 7.86500e+00 1.32260e+01\n",
      " 5.01000e+00 2.94400e+00 3.82500e+00 4.52400e+00 1.37280e+01 2.89200e+00\n",
      " 1.03440e+01 2.26700e+00 3.71600e+00 5.77700e+00 6.72900e+00 6.57400e+00\n",
      " 3.56200e+00 1.62200e+00 1.30300e+00 3.93600e+00 3.38100e+00 2.17900e+00\n",
      " 1.41400e+00 8.35800e+00 1.30980e+01 2.54800e+00 7.36000e-01 6.53300e+00\n",
      " 1.25400e+01 3.85900e+00 3.29900e+00 5.27200e+00 6.54800e+00 2.23100e+00\n",
      " 9.87100e+00 4.43500e+00 8.76000e-01 1.68400e+00 2.50200e+00 1.24600e+00\n",
      " 2.04000e+00 7.20900e+00 4.00300e+00 7.79200e+00 2.53100e+00 6.57600e+00\n",
      " 5.60500e+00 2.03300e+00 1.58400e+00 8.19900e+00 1.50000e+00 9.63800e+00\n",
      " 1.31000e+00 5.48300e+00 1.06860e+01 2.97600e+00 3.17600e+00 3.20500e+00\n",
      " 1.52400e+00 2.46200e+00 1.68000e+00 4.17700e+00 3.25700e+00 4.66300e+00\n",
      " 5.59600e+00 1.22800e+00 3.85800e+00 1.65900e+00 3.62100e+00 1.52400e+00\n",
      " 3.26200e+00 2.49200e+00 1.40400e+00 4.04800e+00 3.31600e+00 3.76400e+00\n",
      " 1.89100e+00 2.31700e+00 1.23280e+01 1.20500e+00 1.13700e+01 1.17600e+00\n",
      " 3.48400e+00 4.37000e+00 7.14800e+00 1.30700e+00 4.26600e+00 5.20700e+00\n",
      " 1.44200e+00 2.73200e+00 3.51200e+00 4.90000e+00 2.21200e+00 3.92200e+00\n",
      " 4.46800e+00 6.13600e+00 1.32700e+00 1.54900e+00 5.56900e+00 4.79900e+00\n",
      " 4.24300e+00 1.28400e+00 6.52300e+00 7.11700e+00 4.85200e+00 2.09400e+00\n",
      " 1.28000e-01 5.69500e+00 3.19700e+00 1.38300e+00 4.58700e+00 1.89200e+00\n",
      " 4.66000e+00 2.28100e+00 1.76700e+00 1.35100e+00 2.82700e+00 6.75800e+00\n",
      " 1.06020e+01 1.95200e+00 1.41700e+00 5.56000e+00 1.05500e+00 3.15800e+00\n",
      " 1.33000e+00 1.29500e+00 2.88400e+00 7.67600e+00 2.57600e+00 5.15000e+00\n",
      " 1.85100e+00 1.68400e+00 2.31200e+00 2.54400e+00 1.73000e+00 1.95100e+00\n",
      " 4.86200e+00 2.07500e+00 8.70700e+00 4.70100e+00 4.69300e+00 5.07600e+00\n",
      " 2.98800e+00 1.93500e+00 5.24500e+00 1.60000e+00 2.05500e+00 4.96700e+00\n",
      " 2.53700e+00 2.88400e+00 1.24300e+00 9.40200e+00 1.24300e+00 1.17500e+00\n",
      " 1.21000e+00 4.95200e+00 2.01900e+00 3.82300e+00 2.32800e+00 6.90200e+00\n",
      " 2.59700e+00 1.45600e+00 6.03500e+00 7.44600e+00 3.84100e+00 2.83600e+00\n",
      " 7.18300e+00 4.57300e+00 4.50900e+00 1.21800e+00 9.79000e-01 2.70200e+00\n",
      " 4.13200e+00 1.17600e+00 4.45900e+00 1.25500e+00 1.06400e+00 7.53000e+00\n",
      " 3.95900e+00 7.48200e+00 3.49400e+00 3.69900e+00 1.89700e+00 1.64300e+00\n",
      " 3.31100e+00 6.12200e+00 4.15800e+00 2.66000e+00 4.30700e+00 1.60000e+00\n",
      " 1.87000e+00 4.42900e+00 6.33900e+00 1.24120e+01 4.46900e+00 1.79800e+00\n",
      " 7.96000e-01 8.23500e+00 1.22400e+00 1.10500e+00 8.29200e+00 1.20500e+00\n",
      " 1.61500e+00 2.10200e+00 1.25800e+00 5.37300e+00 1.31700e+00 1.17700e+00\n",
      " 3.14400e+00 1.94800e+00 7.01900e+00 2.13000e+00 2.41700e+00 3.92100e+00\n",
      " 1.39900e+00 9.16000e-01 1.85000e-01 5.78200e+00 4.24500e+00 5.61900e+00\n",
      " 2.31500e+00 4.36500e+00 4.23100e+00 3.33700e+00 1.14530e+01 4.97400e+00\n",
      " 9.41600e+00 5.39100e+00 1.39700e+00 7.38000e-01 2.00400e+00 1.46900e+00\n",
      " 2.79000e+00 4.00800e+00 2.12600e+00 4.76800e+00 1.56400e+00 2.97000e+00\n",
      " 5.51800e+00 1.65500e+00 1.34300e+00 4.07100e+00 2.70800e+00 2.81900e+00\n",
      " 1.16300e+00 4.83600e+00 2.00000e+00 2.83700e+00 1.75900e+00 1.97600e+00\n",
      " 1.45300e+00 4.96600e+00 5.66000e-01 1.93100e+00 3.88200e+00 3.89100e+00\n",
      " 2.27700e+00 4.98500e+00 2.77900e+00 1.80500e+00 8.66000e-01 3.41700e+00\n",
      " 6.43800e+00 2.35700e+00 2.03700e+00 3.25900e+00 1.26700e+00 1.53800e+00\n",
      " 4.47100e+00 5.06400e+00 7.06000e-01 1.48500e+00 6.58600e+00 4.70200e+00\n",
      " 6.34100e+00 1.63100e+00 7.51700e+00 4.48500e+00 3.40100e+00 4.12200e+00\n",
      " 3.82000e+00 4.50000e+00 1.49000e+00 7.67700e+00 9.72000e-01 5.37900e+00\n",
      " 4.91500e+00 1.12900e+00 1.34920e+01 4.73200e+00 1.41400e+00 2.44100e+00\n",
      " 2.28200e+00 4.62900e+00 1.35700e+00 2.38000e+00 1.48900e+00 5.07300e+00\n",
      " 2.54300e+00 5.07200e+00 9.90000e-01 5.93900e+00 9.43800e+00 7.40800e+00\n",
      " 2.56700e+00 8.06300e+00 1.73200e+00 3.49400e+00 3.84300e+00 3.04100e+00\n",
      " 5.23800e+00 8.10100e+00 9.44670e+01 4.43800e+00 2.65400e+00 9.14600e+00\n",
      " 8.64000e-01 2.86000e+00 4.79900e+00 2.35700e+00 2.32800e+00 3.64500e+00\n",
      " 9.58000e-01 6.25700e+00 3.39100e+00 2.03400e+00 1.76800e+00 6.06800e+00\n",
      " 1.77200e+00 3.51300e+00 2.62900e+00 8.42700e+00 5.79200e+00 1.79300e+00\n",
      " 1.94200e+00 4.35500e+00 1.81500e+00 1.88500e+00 1.59800e+00 4.45600e+00\n",
      " 5.55200e+00 6.51000e-01 3.33400e+00 4.11800e+00 1.62000e+00 2.53200e+00\n",
      " 2.28800e+00 2.44400e+00 7.05200e+00 2.48100e+00 2.69900e+00 1.31000e+00\n",
      " 5.69000e+00 2.67500e+00 6.09800e+00 6.02300e+00 5.26000e-01 7.05400e+00\n",
      " 4.49700e+00 2.70400e+00 1.75800e+00 4.48200e+00 1.70000e+00 4.01900e+00\n",
      " 1.88700e+00 2.79900e+00 7.29100e+00 3.67500e+00 2.32500e+00 6.32900e+00\n",
      " 2.53000e+00 1.41634e+02 4.11100e+00 4.70800e+00 1.90500e+00 2.30200e+00\n",
      " 3.94700e+00 1.48700e+00 4.03200e+00 2.92700e+00 3.97700e+00 3.21200e+00\n",
      " 2.67400e+00 4.41400e+00 5.19900e+00 3.57300e+00 1.65800e+00 3.97100e+00\n",
      " 3.39500e+00 4.59500e+00 4.77000e+00 4.86100e+00 6.07700e+00 2.59200e+00\n",
      " 4.55000e+00 1.75800e+00 3.94400e+00 7.07100e+00 2.66300e+00 1.46400e+00\n",
      " 4.40300e+00 1.36100e+00 4.71400e+00 5.26900e+00 5.62300e+00 7.49000e-01\n",
      " 5.11000e+00 8.57000e-01 8.06800e+00 1.22300e+00 1.49500e+00 2.22400e+00\n",
      " 1.44900e+00 7.36400e+00 2.04200e+00 5.22000e+00 1.32800e+00 4.94700e+00\n",
      " 9.45700e+00 4.77700e+00 9.13100e+00 1.68300e+00 7.94000e-01 3.64400e+00\n",
      " 1.59700e+00 3.54500e+00 3.33800e+00 5.27700e+00 1.39500e+00 4.24700e+00\n",
      " 8.00700e+00 4.59200e+00 1.73100e+00 4.73100e+00 4.29200e+00 2.86300e+00\n",
      " 3.73100e+00 4.58900e+00 5.11200e+00 3.54900e+00 1.21800e+00 2.84500e+00\n",
      " 2.99700e+00 4.56000e+00 1.40800e+00 8.19900e+00 5.48800e+00 1.61300e+00\n",
      " 7.55000e-01 3.00600e+00 1.26200e+00 1.25770e+01 3.61400e+00 1.79800e+00\n",
      " 1.43200e+00 5.55800e+00 1.31300e+00 2.24300e+00 3.40200e+00 2.64300e+00\n",
      " 3.95600e+00 5.43000e+00 1.43800e+00 1.03900e+00 6.84000e-01 2.79700e+00\n",
      " 4.32100e+00 3.76900e+00 3.92500e+00 1.27500e+00 4.98000e+00 2.75800e+00\n",
      " 5.83600e+00 6.15100e+00 4.33800e+00 6.59000e+00 1.77000e+00 8.70700e+00\n",
      " 2.13300e+00 3.35700e+00 5.71500e+00 5.71800e+00 3.22500e+00 6.22800e+00\n",
      " 9.38600e+00 1.15500e+00 1.05800e+00 9.40000e+00 5.70500e+00 3.63400e+00\n",
      " 3.21000e+00 4.10300e+00 3.75800e+00 1.65400e+00 1.41700e+00 3.34200e+00\n",
      " 3.46300e+00 3.95300e+00 1.60200e+00 1.06850e+01 1.43000e+00 4.77500e+00\n",
      " 8.38400e+00 3.22300e+00 4.02800e+00 3.74200e+00 7.59000e-01 5.66000e-01\n",
      " 4.95300e+00 2.92920e+01 1.50700e+00 9.93000e-01 1.19800e+00 1.50470e+01\n",
      " 1.63300e+00 4.00700e+00 1.43800e+00 1.35500e+00 2.70200e+00 6.62000e+00\n",
      " 6.92100e+00 1.80000e+00 1.13300e+00 7.34700e+00 3.88900e+00 4.77200e+00\n",
      " 2.19900e+00 1.31700e+00 4.08900e+00 1.49900e+00 1.09200e+00 1.20500e+00\n",
      " 2.07300e+00 3.92600e+00 5.64300e+00 1.20200e+00 1.16100e+00 4.97100e+00\n",
      " 1.15210e+01 2.01300e+00 3.59500e+00 1.52700e+01 1.22860e+01 2.29300e+00\n",
      " 5.74300e+00 6.23600e+00 1.48000e+00 2.03100e+00 1.86800e+00 4.54200e+00\n",
      " 8.54000e-01 2.30100e+00 1.99500e+00 2.55000e+00 4.40900e+00 2.55400e+00\n",
      " 2.42500e+00 1.11800e+00 1.67800e+00 2.75000e+00 1.94800e+00 4.12700e+00\n",
      " 3.46600e+00 2.64300e+00 1.11620e+01 8.06700e+00 4.37300e+00 1.35600e+00\n",
      " 9.48000e-01 6.33400e+00 8.88000e+00 4.40500e+00 6.26400e+00 1.34000e+00\n",
      " 4.50900e+00 1.70400e+00 1.38500e+00 1.33500e+00 3.22600e+00 4.86300e+00\n",
      " 8.47400e+00 5.17000e+00 1.66500e+00 1.24600e+00 4.86800e+00 1.17580e+01\n",
      " 2.70700e+00 1.71000e+00 2.30000e+00 1.39700e+00 2.73900e+00 1.10300e+00\n",
      " 9.75000e-01 5.22100e+00 2.66300e+00 2.80600e+00 3.24300e+00 6.63500e+00\n",
      " 8.72200e+00 3.59600e+00 5.34100e+00 3.04600e+00 1.68700e+00 5.63500e+00\n",
      " 1.76700e+00 1.11000e+00 3.53000e+00 2.87000e+00 1.33700e+00 5.09300e+00\n",
      " 3.09500e+00 5.15600e+00 6.29500e+00 3.44300e+00 1.10800e+00 3.70900e+00\n",
      " 1.39400e+00 2.10500e+00 4.16700e+00 7.52700e+00 2.76400e+00 5.09000e+00\n",
      " 2.56300e+00 1.68900e+00 2.34600e+00 6.92000e-01 6.13400e+00 6.16500e+00\n",
      " 5.40900e+00 3.38000e+00 3.80400e+00 2.47700e+00 8.50100e+00 3.18900e+00\n",
      " 9.44900e+00 4.10400e+00 4.94100e+00 1.86300e+00 3.62600e+00 1.13500e+00\n",
      " 3.88400e+00 1.68000e+00 4.79200e+00 8.21000e-01 1.17100e+00 6.90000e-01\n",
      " 1.40100e+00 7.07000e+00 4.17800e+00 9.89000e-01 1.80000e+00 1.77600e+00\n",
      " 2.55300e+00 1.18700e+00 1.64400e+00 1.36000e+00 5.51800e+00 2.90800e+00\n",
      " 2.44200e+00 3.59800e+00 1.35600e+00 3.32400e+00 9.93000e-01 3.33500e+00\n",
      " 4.89500e+00 8.95000e-01 1.91200e+00 2.52000e+00 4.15200e+00 1.13600e+00\n",
      " 8.70000e-01 1.12600e+00 4.12200e+00 2.73200e+00 1.12300e+00 2.11000e+00\n",
      " 3.85900e+00 1.52800e+00 1.46100e+00 4.13200e+00 1.29900e+00 3.80800e+00\n",
      " 7.41000e-01 4.79500e+00 3.93500e+00 6.22700e+00 6.44900e+00 1.66100e+00\n",
      " 9.06700e+00 7.98000e+00 4.93400e+00 2.35100e+00 1.37900e+00 1.43370e+01\n",
      " 5.89000e-01 1.41000e+00 3.98800e+00 4.22600e+00 4.23100e+00 4.98800e+00\n",
      " 2.63400e+00 1.20600e+00 4.94000e+00 5.59900e+00 5.85300e+00 2.96800e+00\n",
      " 5.37700e+00 3.25000e+00 9.90000e-01 5.00900e+00 4.91300e+00 3.60000e+00\n",
      " 5.85900e+00 2.39700e+00 6.87100e+00 6.24000e-01 5.35300e+00 4.17900e+00\n",
      " 4.18300e+00 2.80300e+00 6.27100e+00]\n"
     ]
    }
   ],
   "source": [
    "similarity_ts= neighbors_k_ts\n",
    "cpd_AD=similarity_ts[0,:]\n",
    "cpd_value = np.round(cpd_AD, 3)\n",
    "print(cpd_value)"
   ]
  },
  {
   "cell_type": "code",
   "execution_count": 83,
   "metadata": {},
   "outputs": [
    {
     "name": "stdout",
     "output_type": "stream",
     "text": [
      "[False False  True False False  True  True  True  True False  True  True\n",
      " False False  True  True  True  True  True  True  True False False  True\n",
      " False  True  True False  True  True  True False  True False  True  True\n",
      "  True False  True  True False  True  True False False  True  True  True\n",
      "  True  True  True  True False False  True  True  True  True False  True\n",
      " False  True  True False False False  True  True  True  True  True  True\n",
      "  True False False  True  True False False  True  True  True False  True\n",
      " False  True  True  True  True  True  True False  True False  True False\n",
      " False  True  True False  True False  True False False  True  True  True\n",
      "  True  True  True  True  True  True False  True  True  True  True  True\n",
      "  True  True  True  True  True  True  True  True False  True False  True\n",
      "  True  True False  True  True  True  True  True  True  True  True  True\n",
      "  True False  True  True False  True  True  True False False  True  True\n",
      "  True False  True  True  True  True  True  True  True  True  True False\n",
      " False  True  True False  True  True  True  True  True False  True  True\n",
      "  True  True  True  True  True  True  True  True False  True  True  True\n",
      "  True  True  True  True  True  True  True  True  True False  True  True\n",
      "  True  True  True  True  True False  True  True False False  True  True\n",
      " False  True  True  True  True  True  True  True  True  True  True False\n",
      "  True False  True  True  True  True  True False  True  True  True  True\n",
      "  True  True False False  True  True  True False  True  True False  True\n",
      "  True  True  True False  True  True  True  True False  True  True  True\n",
      "  True  True  True False  True False  True  True  True  True False  True\n",
      " False False  True  True  True  True  True  True  True  True  True  True\n",
      " False  True  True  True  True  True  True  True  True  True  True  True\n",
      "  True  True  True  True  True  True  True  True  True  True  True  True\n",
      " False  True  True  True  True  True  True  True  True  True False  True\n",
      " False  True False  True  True  True  True  True  True False  True False\n",
      "  True  True False  True  True  True  True  True  True  True  True  True\n",
      "  True  True  True False False False  True False  True  True  True  True\n",
      "  True False False  True  True False  True  True  True  True  True  True\n",
      "  True False  True  True  True False  True  True  True False False  True\n",
      "  True  True  True  True  True  True False  True  True  True  True  True\n",
      "  True  True False  True  True  True False  True False False  True False\n",
      "  True  True  True  True  True  True  True  True False  True  True False\n",
      "  True False  True  True  True  True  True  True  True  True  True  True\n",
      "  True  True  True  True  True  True  True  True  True  True False  True\n",
      "  True  True  True False  True  True  True  True  True  True False  True\n",
      "  True  True False  True  True  True  True False  True  True  True  True\n",
      " False  True False  True  True  True  True  True  True  True  True  True\n",
      " False  True  True  True  True  True  True  True  True  True  True  True\n",
      "  True  True  True False False  True  True  True  True False  True  True\n",
      "  True False  True  True  True  True  True False  True  True  True  True\n",
      "  True  True  True  True  True  True False False  True False  True False\n",
      "  True  True False False  True False False  True  True False False  True\n",
      "  True  True  True  True  True  True  True  True  True False  True  True\n",
      " False  True  True  True  True  True  True False  True  True  True False\n",
      "  True  True  True  True  True False False  True  True False  True  True\n",
      "  True  True  True  True  True  True  True  True False  True  True  True\n",
      " False  True  True False False  True False False  True  True  True  True\n",
      "  True  True  True  True  True  True  True  True  True  True  True  True\n",
      "  True  True False False  True  True  True False False  True False  True\n",
      "  True  True  True  True  True  True False  True  True  True  True False\n",
      "  True  True  True  True  True  True  True  True  True  True  True False\n",
      " False  True False  True  True False  True  True  True  True  True  True\n",
      "  True  True False  True  True  True  True  True  True False  True  True\n",
      "  True  True  True  True False False False  True  True  True False  True\n",
      " False  True  True  True  True  True  True  True  True  True  True  True\n",
      "  True False  True  True  True  True  True  True  True  True False  True\n",
      "  True  True  True  True  True  True  True  True  True  True  True  True\n",
      "  True  True  True  True  True  True  True  True  True  True  True  True\n",
      "  True  True  True False False  True False False  True  True  True False\n",
      "  True  True  True  True  True  True  True  True  True False False  True\n",
      " False  True  True  True  True  True False  True False  True False  True\n",
      "  True  True False]\n"
     ]
    }
   ],
   "source": [
    "cpd_AD = np.where(cpd_value <= model_AD_limit, True, False)\n",
    "print(cpd_AD)"
   ]
  },
  {
   "cell_type": "code",
   "execution_count": 84,
   "metadata": {},
   "outputs": [
    {
     "name": "stdout",
     "output_type": "stream",
     "text": [
      "Coverage =  0.7833981841763943\n"
     ]
    }
   ],
   "source": [
    "print(\"Coverage = \", sum(cpd_AD) / len(cpd_AD))"
   ]
  },
  {
   "cell_type": "code",
   "execution_count": 85,
   "metadata": {},
   "outputs": [
    {
     "name": "stdout",
     "output_type": "stream",
     "text": [
      "Indices of substances included in AD =  [  2   5   6   7   8  10  11  14  15  16  17  18  19  20  23  25  26  28\n",
      "  29  30  32  34  35  36  38  39  41  42  45  46  47  48  49  50  51  54\n",
      "  55  56  57  59  61  62  66  67  68  69  70  71  72  75  76  79  80  81\n",
      "  83  85  86  87  88  89  90  92  94  97  98 100 102 105 106 107 108 109\n",
      " 110 111 112 113 115 116 117 118 119 120 121 122 123 124 125 126 127 129\n",
      " 131 132 133 135 136 137 138 139 140 141 142 143 144 146 147 149 150 151\n",
      " 154 155 156 158 159 160 161 162 163 164 165 166 169 170 172 173 174 175\n",
      " 176 178 179 180 181 182 183 184 185 186 187 189 190 191 192 193 194 195\n",
      " 196 197 198 199 200 202 203 204 205 206 207 208 210 211 214 215 217 218\n",
      " 219 220 221 222 223 224 225 226 228 230 231 232 233 234 236 237 238 239\n",
      " 240 241 244 245 246 248 249 251 252 253 254 256 257 258 259 261 262 263\n",
      " 264 265 266 268 270 271 272 273 275 278 279 280 281 282 283 284 285 286\n",
      " 287 289 290 291 292 293 294 295 296 297 298 299 300 301 302 303 304 305\n",
      " 306 307 308 309 310 311 313 314 315 316 317 318 319 320 321 323 325 327\n",
      " 328 329 330 331 332 334 336 337 339 340 341 342 343 344 345 346 347 348\n",
      " 349 350 354 356 357 358 359 360 363 364 366 367 368 369 370 371 372 374\n",
      " 375 376 378 379 380 383 384 385 386 387 388 389 391 392 393 394 395 396\n",
      " 397 399 400 401 403 406 408 409 410 411 412 413 414 415 417 418 420 422\n",
      " 423 424 425 426 427 428 429 430 431 432 433 434 435 436 437 438 439 440\n",
      " 441 443 444 445 446 448 449 450 451 452 453 455 456 457 459 460 461 462\n",
      " 464 465 466 467 469 471 472 473 474 475 476 477 478 479 481 482 483 484\n",
      " 485 486 487 488 489 490 491 492 493 494 497 498 499 500 502 503 504 506\n",
      " 507 508 509 510 512 513 514 515 516 517 518 519 520 521 524 526 528 529\n",
      " 532 535 536 539 540 541 542 543 544 545 546 547 548 550 551 553 554 555\n",
      " 556 557 558 560 561 562 564 565 566 567 568 571 572 574 575 576 577 578\n",
      " 579 580 581 582 583 585 586 587 589 590 593 596 597 598 599 600 601 602\n",
      " 603 604 605 606 607 608 609 610 611 612 613 616 617 618 621 623 624 625\n",
      " 626 627 628 629 631 632 633 634 636 637 638 639 640 641 642 643 644 645\n",
      " 646 649 651 652 654 655 656 657 658 659 660 661 663 664 665 666 667 668\n",
      " 670 671 672 673 674 675 679 680 681 683 685 686 687 688 689 690 691 692\n",
      " 693 694 695 696 698 699 700 701 702 703 704 705 707 708 709 710 711 712\n",
      " 713 714 715 716 717 718 719 720 721 722 723 724 725 726 727 728 729 730\n",
      " 731 732 733 734 737 740 741 742 744 745 746 747 748 749 750 751 752 755\n",
      " 757 758 759 760 761 763 765 767 768 769]\n"
     ]
    }
   ],
   "source": [
    "print(\"Indices of substances included in AD = \", np.where(cpd_AD != 0)[0])"
   ]
  },
  {
   "cell_type": "code",
   "execution_count": 86,
   "metadata": {},
   "outputs": [],
   "source": [
    "out_Ad=list(np.where(cpd_AD == 0)[0])"
   ]
  },
  {
   "cell_type": "markdown",
   "metadata": {},
   "source": [
    "# Prediction only for molecules included in  AD"
   ]
  },
  {
   "cell_type": "code",
   "execution_count": 87,
   "metadata": {},
   "outputs": [],
   "source": [
    "y_pred_con_ad=list(y_pred_con)"
   ]
  },
  {
   "cell_type": "code",
   "execution_count": 88,
   "metadata": {},
   "outputs": [],
   "source": [
    "y_pred_con_ad[:] = [x for i,x in enumerate(y_pred_con_ad) if i not in out_Ad]"
   ]
  },
  {
   "cell_type": "code",
   "execution_count": 89,
   "metadata": {},
   "outputs": [
    {
     "data": {
      "text/plain": [
       "604"
      ]
     },
     "execution_count": 89,
     "metadata": {},
     "output_type": "execute_result"
    }
   ],
   "source": [
    "len(y_pred_con_ad)"
   ]
  },
  {
   "cell_type": "code",
   "execution_count": 90,
   "metadata": {},
   "outputs": [],
   "source": [
    "y_ts_ad=list(y_ts)"
   ]
  },
  {
   "cell_type": "code",
   "execution_count": 91,
   "metadata": {},
   "outputs": [],
   "source": [
    "y_ts_ad[:] = [x for i,x in enumerate(y_ts_ad) if i not in out_Ad]"
   ]
  },
  {
   "cell_type": "code",
   "execution_count": 92,
   "metadata": {},
   "outputs": [
    {
     "data": {
      "text/plain": [
       "604"
      ]
     },
     "execution_count": 92,
     "metadata": {},
     "output_type": "execute_result"
    }
   ],
   "source": [
    "len(y_ts_ad)"
   ]
  },
  {
   "cell_type": "code",
   "execution_count": 93,
   "metadata": {},
   "outputs": [
    {
     "data": {
      "text/plain": [
       "0.71"
      ]
     },
     "execution_count": 93,
     "metadata": {},
     "output_type": "execute_result"
    }
   ],
   "source": [
    "Q2_TS = round(r2_score(y_ts_ad, y_pred_con_ad), 2)\n",
    "Q2_TS"
   ]
  },
  {
   "cell_type": "code",
   "execution_count": 94,
   "metadata": {},
   "outputs": [
    {
     "data": {
      "text/plain": [
       "0.64"
      ]
     },
     "execution_count": 94,
     "metadata": {},
     "output_type": "execute_result"
    }
   ],
   "source": [
    "RMSE_TS=round(np.sqrt(mean_absolute_error(y_ts_ad, y_pred_con_ad)), 2)\n",
    "RMSE_TS"
   ]
  },
  {
   "cell_type": "code",
   "execution_count": null,
   "metadata": {},
   "outputs": [],
   "source": []
  },
  {
   "cell_type": "code",
   "execution_count": null,
   "metadata": {},
   "outputs": [],
   "source": []
  }
 ],
 "metadata": {
  "kernelspec": {
   "display_name": "Python 3 (ipykernel)",
   "language": "python",
   "name": "python3"
  },
  "language_info": {
   "codemirror_mode": {
    "name": "ipython",
    "version": 3
   },
   "file_extension": ".py",
   "mimetype": "text/x-python",
   "name": "python",
   "nbconvert_exporter": "python",
   "pygments_lexer": "ipython3",
   "version": "3.11.4"
  },
  "toc": {
   "base_numbering": 1,
   "nav_menu": {},
   "number_sections": true,
   "sideBar": true,
   "skip_h1_title": false,
   "title_cell": "Table of Contents",
   "title_sidebar": "Contents",
   "toc_cell": false,
   "toc_position": {
    "height": "calc(100% - 180px)",
    "left": "10px",
    "top": "150px",
    "width": "208.267px"
   },
   "toc_section_display": true,
   "toc_window_display": true
  }
 },
 "nbformat": 4,
 "nbformat_minor": 4
}
