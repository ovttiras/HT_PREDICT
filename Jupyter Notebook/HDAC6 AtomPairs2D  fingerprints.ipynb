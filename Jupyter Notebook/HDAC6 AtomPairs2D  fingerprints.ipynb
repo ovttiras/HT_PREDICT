{
 "cells": [
  {
   "cell_type": "markdown",
   "metadata": {},
   "source": [
    "# 1. Importing modules and functions"
   ]
  },
  {
   "cell_type": "code",
   "execution_count": 1,
   "metadata": {},
   "outputs": [
    {
     "name": "stderr",
     "output_type": "stream",
     "text": [
      "Using `tqdm.autonotebook.tqdm` in notebook mode. Use `tqdm.tqdm` instead to force console mode (e.g. in jupyter console)\n"
     ]
    }
   ],
   "source": [
    "from rdkit import Chem, DataStructs\n",
    "from rdkit.Chem import AllChem, Descriptors\n",
    "from rdkit.ML.Descriptors import MoleculeDescriptors\n",
    "from molvs import standardize_smiles\n",
    "import numpy as np\n",
    "import pandas as pd\n",
    "from sklearn.svm import SVC\n",
    "from sklearn.model_selection import KFold, GridSearchCV\n",
    "from sklearn.metrics import mean_absolute_error\n",
    "from sklearn.metrics import r2_score\n",
    "from sklearn.ensemble import GradientBoostingRegressor\n",
    "from sklearn.svm import SVR\n",
    "from sklearn.model_selection import permutation_test_score\n",
    "from sklearn.preprocessing import StandardScaler\n",
    "from sklearn.model_selection import cross_val_predict\n",
    "from sklearn import metrics\n",
    "from sklearn.metrics import pairwise_distances\n",
    "import joblib\n",
    "import pickle\n",
    "from numpy import savetxt\n",
    "from padelpy import from_sdf\n",
    "import shap\n",
    "from tqdm.notebook import tqdm"
   ]
  },
  {
   "cell_type": "code",
   "execution_count": 2,
   "metadata": {},
   "outputs": [
    {
     "data": {
      "text/plain": [
       "['fingerprints_xml\\\\AtomPairs2DFingerprintCount.xml',\n",
       " 'fingerprints_xml\\\\AtomPairs2DFingerprinter.xml',\n",
       " 'fingerprints_xml\\\\EStateFingerprinter.xml',\n",
       " 'fingerprints_xml\\\\ExtendedFingerprinter.xml',\n",
       " 'fingerprints_xml\\\\Fingerprinter.xml',\n",
       " 'fingerprints_xml\\\\GraphOnlyFingerprinter.xml',\n",
       " 'fingerprints_xml\\\\KlekotaRothFingerprintCount.xml',\n",
       " 'fingerprints_xml\\\\KlekotaRothFingerprinter.xml',\n",
       " 'fingerprints_xml\\\\MACCSFingerprinter.xml',\n",
       " 'fingerprints_xml\\\\PubchemFingerprinter.xml',\n",
       " 'fingerprints_xml\\\\SubstructureFingerprintCount.xml',\n",
       " 'fingerprints_xml\\\\SubstructureFingerprinter.xml']"
      ]
     },
     "execution_count": 2,
     "metadata": {},
     "output_type": "execute_result"
    }
   ],
   "source": [
    "import glob\n",
    "xml_files = glob.glob(\"fingerprints_xml/*.xml\")\n",
    "xml_files.sort()\n",
    "xml_files"
   ]
  },
  {
   "cell_type": "code",
   "execution_count": 3,
   "metadata": {},
   "outputs": [],
   "source": [
    "FP_list = ['AtomPairs2DCount',\n",
    " 'AtomPairs2D',\n",
    " 'EState',\n",
    " 'CDKextended',\n",
    " 'CDK',\n",
    " 'CDKgraphonly',\n",
    " 'KlekotaRothCount',\n",
    " 'KlekotaRoth',\n",
    " 'MACCS',\n",
    " 'AtomPairs2D',\n",
    " 'SubstructureCount',\n",
    " 'Substructure']"
   ]
  },
  {
   "cell_type": "code",
   "execution_count": 4,
   "metadata": {},
   "outputs": [
    {
     "data": {
      "text/plain": [
       "{'AtomPairs2DCount': 'fingerprints_xml\\\\AtomPairs2DFingerprintCount.xml',\n",
       " 'AtomPairs2D': 'fingerprints_xml\\\\PubchemFingerprinter.xml',\n",
       " 'EState': 'fingerprints_xml\\\\EStateFingerprinter.xml',\n",
       " 'CDKextended': 'fingerprints_xml\\\\ExtendedFingerprinter.xml',\n",
       " 'CDK': 'fingerprints_xml\\\\Fingerprinter.xml',\n",
       " 'CDKgraphonly': 'fingerprints_xml\\\\GraphOnlyFingerprinter.xml',\n",
       " 'KlekotaRothCount': 'fingerprints_xml\\\\KlekotaRothFingerprintCount.xml',\n",
       " 'KlekotaRoth': 'fingerprints_xml\\\\KlekotaRothFingerprinter.xml',\n",
       " 'MACCS': 'fingerprints_xml\\\\MACCSFingerprinter.xml',\n",
       " 'SubstructureCount': 'fingerprints_xml\\\\SubstructureFingerprintCount.xml',\n",
       " 'Substructure': 'fingerprints_xml\\\\SubstructureFingerprinter.xml'}"
      ]
     },
     "execution_count": 4,
     "metadata": {},
     "output_type": "execute_result"
    }
   ],
   "source": [
    "fp = dict(zip(FP_list, xml_files))\n",
    "fp"
   ]
  },
  {
   "cell_type": "markdown",
   "metadata": {},
   "source": [
    "# 2.Data entry and curation work set"
   ]
  },
  {
   "cell_type": "code",
   "execution_count": 5,
   "metadata": {},
   "outputs": [
    {
     "name": "stdout",
     "output_type": "stream",
     "text": [
      "Original data:  3083 molecules\n",
      "Failed data:  0 molecules\n"
     ]
    },
    {
     "data": {
      "text/html": [
       "<div>\n",
       "<style scoped>\n",
       "    .dataframe tbody tr th:only-of-type {\n",
       "        vertical-align: middle;\n",
       "    }\n",
       "\n",
       "    .dataframe tbody tr th {\n",
       "        vertical-align: top;\n",
       "    }\n",
       "\n",
       "    .dataframe thead th {\n",
       "        text-align: right;\n",
       "    }\n",
       "</style>\n",
       "<table border=\"1\" class=\"dataframe\">\n",
       "  <thead>\n",
       "    <tr style=\"text-align: right;\">\n",
       "      <th></th>\n",
       "      <th>No. failed molecule in original set</th>\n",
       "      <th>SMILES of wrong structure:</th>\n",
       "    </tr>\n",
       "    <tr>\n",
       "      <th>No.</th>\n",
       "      <th></th>\n",
       "      <th></th>\n",
       "    </tr>\n",
       "  </thead>\n",
       "  <tbody>\n",
       "  </tbody>\n",
       "</table>\n",
       "</div>"
      ],
      "text/plain": [
       "Empty DataFrame\n",
       "Columns: [No. failed molecule in original set, SMILES of wrong structure: ]\n",
       "Index: []"
      ]
     },
     "execution_count": 5,
     "metadata": {},
     "output_type": "execute_result"
    }
   ],
   "source": [
    "uploaded_file_ws=\"datasets/HDAC6_work.sdf\"\n",
    "supplier_ws = Chem.ForwardSDMolSupplier(uploaded_file_ws,sanitize=False)\n",
    "failed_mols_ws = []\n",
    "all_mols_ws =[]\n",
    "wrong_structure_ws=[]\n",
    "wrong_smiles_ws=[]\n",
    "y_tr = []\n",
    "y_bad_index=[]\n",
    "\n",
    "for i, m in enumerate(supplier_ws):\n",
    "    structure = Chem.Mol(m)\n",
    "    all_mols_ws.append(structure)\n",
    "    y_tr.append(m.GetProp(\"pchembl_value_mean\"))\n",
    "    try:\n",
    "        Chem.SanitizeMol(structure)\n",
    "    except:\n",
    "        failed_mols_ws.append(m)\n",
    "        wrong_smiles_ws.append(Chem.MolToSmiles(m))\n",
    "        wrong_structure_ws.append(str(i+1))\n",
    "        y_bad_index.append(i)\n",
    "print('Original data: ', len(all_mols_ws), 'molecules')\n",
    "print('Failed data: ', len(failed_mols_ws), 'molecules')\n",
    "number_ws =[]\n",
    "for i in range(len(failed_mols_ws)):\n",
    "        number_ws.append(str(i+1))\n",
    "bad_molecules_ws = pd.DataFrame({'No. failed molecule in original set': wrong_structure_ws, 'SMILES of wrong structure: ': wrong_smiles_ws, 'No.': number_ws}, index=None)\n",
    "bad_molecules_ws = bad_molecules_ws.set_index('No.')\n",
    "bad_molecules_ws"
   ]
  },
  {
   "cell_type": "markdown",
   "metadata": {},
   "source": [
    "deleting activity values for substances with incorrect structure"
   ]
  },
  {
   "cell_type": "code",
   "execution_count": 6,
   "metadata": {},
   "outputs": [],
   "source": [
    "y_tr[:] = [x for i,x in enumerate(y_tr) if i not in y_bad_index]"
   ]
  },
  {
   "cell_type": "code",
   "execution_count": 7,
   "metadata": {},
   "outputs": [
    {
     "data": {
      "text/plain": [
       "3083"
      ]
     },
     "execution_count": 7,
     "metadata": {},
     "output_type": "execute_result"
    }
   ],
   "source": [
    "len(y_tr)"
   ]
  },
  {
   "cell_type": "markdown",
   "metadata": {},
   "source": [
    "# 3.Standardization SDF file for work set"
   ]
  },
  {
   "cell_type": "code",
   "execution_count": 8,
   "metadata": {},
   "outputs": [
    {
     "name": "stdout",
     "output_type": "stream",
     "text": [
      "Kept data:  3083 molecules\n"
     ]
    }
   ],
   "source": [
    "all_mols_ws[:] = [x for i,x in enumerate(all_mols_ws) if i not in y_bad_index] \n",
    "records = []\n",
    "for i in range(len(all_mols_ws)):\n",
    "    record = Chem.MolToSmiles(all_mols_ws[i])\n",
    "    records.append(record)\n",
    "\n",
    "moldf_ws = []\n",
    "for i,record in enumerate(records):\n",
    "    standard_record = standardize_smiles(record)\n",
    "    m = Chem.MolFromSmiles(standard_record)\n",
    "    moldf_ws.append(m)\n",
    "    \n",
    "print('Kept data: ', len(moldf_ws), 'molecules')"
   ]
  },
  {
   "cell_type": "code",
   "execution_count": 9,
   "metadata": {},
   "outputs": [],
   "source": [
    "records_ws = []\n",
    "for i in range(len(moldf_ws)):\n",
    "    record = Chem.MolToSmiles(moldf_ws[i])\n",
    "    records_ws.append(record)"
   ]
  },
  {
   "cell_type": "code",
   "execution_count": 10,
   "metadata": {},
   "outputs": [],
   "source": [
    "df = pd.DataFrame(records_ws, columns=[\"Smiles\"])\n",
    "df.to_csv('datasets/molecule_ws.smi', sep=',', index=False, header=False)"
   ]
  },
  {
   "cell_type": "markdown",
   "metadata": {},
   "source": [
    "# 4.Data entry and curation test set"
   ]
  },
  {
   "cell_type": "code",
   "execution_count": 11,
   "metadata": {},
   "outputs": [
    {
     "name": "stdout",
     "output_type": "stream",
     "text": [
      "Original data:  771 molecules\n",
      "Failed data:  0 molecules\n"
     ]
    },
    {
     "data": {
      "text/html": [
       "<div>\n",
       "<style scoped>\n",
       "    .dataframe tbody tr th:only-of-type {\n",
       "        vertical-align: middle;\n",
       "    }\n",
       "\n",
       "    .dataframe tbody tr th {\n",
       "        vertical-align: top;\n",
       "    }\n",
       "\n",
       "    .dataframe thead th {\n",
       "        text-align: right;\n",
       "    }\n",
       "</style>\n",
       "<table border=\"1\" class=\"dataframe\">\n",
       "  <thead>\n",
       "    <tr style=\"text-align: right;\">\n",
       "      <th></th>\n",
       "      <th>No. failed molecule in original set</th>\n",
       "      <th>SMILES of wrong structure:</th>\n",
       "    </tr>\n",
       "    <tr>\n",
       "      <th>No.</th>\n",
       "      <th></th>\n",
       "      <th></th>\n",
       "    </tr>\n",
       "  </thead>\n",
       "  <tbody>\n",
       "  </tbody>\n",
       "</table>\n",
       "</div>"
      ],
      "text/plain": [
       "Empty DataFrame\n",
       "Columns: [No. failed molecule in original set, SMILES of wrong structure: ]\n",
       "Index: []"
      ]
     },
     "execution_count": 11,
     "metadata": {},
     "output_type": "execute_result"
    }
   ],
   "source": [
    "uploaded_file_ts=\"datasets/HDAC6_test.sdf\"\n",
    "supplier_ts = Chem.ForwardSDMolSupplier(uploaded_file_ts,sanitize=False)\n",
    "failed_mols_ts = []\n",
    "all_mols_ts =[]\n",
    "wrong_structure_ts=[]\n",
    "wrong_smiles_ts=[]\n",
    "y_ts = []\n",
    "y_bad_index=[]\n",
    "for i, m in enumerate(supplier_ts):\n",
    "    structure = Chem.Mol(m)\n",
    "    all_mols_ts.append(structure)\n",
    "    y_ts.append(m.GetProp(\"pchembl_value_mean\"))\n",
    "    try:\n",
    "        Chem.SanitizeMol(structure)\n",
    "    except:\n",
    "        failed_mols_ts.append(m)\n",
    "        wrong_smiles_ts.append(Chem.MolToSmiles(m))\n",
    "        wrong_structure_ts.append(str(i+1))\n",
    "        y_bad_index.append(i)\n",
    "print('Original data: ', len(all_mols_ts), 'molecules')\n",
    "print('Failed data: ', len(failed_mols_ts), 'molecules')\n",
    "number_ts =[]\n",
    "for i in range(len(failed_mols_ts)):\n",
    "        number_ts.append(str(i+1))\n",
    "bad_molecules_ts = pd.DataFrame({'No. failed molecule in original set': wrong_structure_ts, 'SMILES of wrong structure: ': wrong_smiles_ts, 'No.': number_ts}, index=None)\n",
    "bad_molecules_ts = bad_molecules_ts.set_index('No.')\n",
    "bad_molecules_ts"
   ]
  },
  {
   "cell_type": "markdown",
   "metadata": {},
   "source": [
    "deleting activity values for substances with incorrect structure"
   ]
  },
  {
   "cell_type": "code",
   "execution_count": 12,
   "metadata": {},
   "outputs": [],
   "source": [
    "y_ts[:] = [x for i,x in enumerate(y_ts) if i not in y_bad_index]"
   ]
  },
  {
   "cell_type": "code",
   "execution_count": 13,
   "metadata": {},
   "outputs": [
    {
     "data": {
      "text/plain": [
       "771"
      ]
     },
     "execution_count": 13,
     "metadata": {},
     "output_type": "execute_result"
    }
   ],
   "source": [
    "len(y_ts)"
   ]
  },
  {
   "cell_type": "markdown",
   "metadata": {
    "scrolled": true
   },
   "source": [
    "# 5.Standardization SDF file for test set"
   ]
  },
  {
   "cell_type": "code",
   "execution_count": 14,
   "metadata": {},
   "outputs": [
    {
     "name": "stdout",
     "output_type": "stream",
     "text": [
      "Kept data:  771 molecules\n"
     ]
    }
   ],
   "source": [
    "all_mols_ts[:] = [x for i,x in enumerate(all_mols_ts) if i not in y_bad_index] \n",
    "records = []\n",
    "for i in range(len(all_mols_ts)):\n",
    "    record = Chem.MolToSmiles(all_mols_ts[i])\n",
    "    records.append(record)\n",
    "\n",
    "moldf_ts = []\n",
    "for i,record in enumerate(records):\n",
    "    standard_record = standardize_smiles(record)\n",
    "    m = Chem.MolFromSmiles(standard_record)\n",
    "    moldf_ts.append(m)\n",
    "    \n",
    "print('Kept data: ', len(moldf_ts), 'molecules')"
   ]
  },
  {
   "cell_type": "code",
   "execution_count": 15,
   "metadata": {},
   "outputs": [],
   "source": [
    "records_ts = []\n",
    "for i in range(len(moldf_ts)):\n",
    "    record = Chem.MolToSmiles(moldf_ts[i])\n",
    "    records_ts.append(record)"
   ]
  },
  {
   "cell_type": "code",
   "execution_count": 16,
   "metadata": {},
   "outputs": [],
   "source": [
    "df_ts = pd.DataFrame(records_ts, columns=[\"Smiles\"])\n",
    "df_ts.to_csv('datasets/molecule_ts.smi', sep=',', index=False, header=False)"
   ]
  },
  {
   "cell_type": "markdown",
   "metadata": {},
   "source": [
    "# 6.Descriptor calculation for work set"
   ]
  },
  {
   "cell_type": "code",
   "execution_count": 17,
   "metadata": {},
   "outputs": [
    {
     "data": {
      "text/plain": [
       "{'AtomPairs2DCount': 'fingerprints_xml\\\\AtomPairs2DFingerprintCount.xml',\n",
       " 'AtomPairs2D': 'fingerprints_xml\\\\PubchemFingerprinter.xml',\n",
       " 'EState': 'fingerprints_xml\\\\EStateFingerprinter.xml',\n",
       " 'CDKextended': 'fingerprints_xml\\\\ExtendedFingerprinter.xml',\n",
       " 'CDK': 'fingerprints_xml\\\\Fingerprinter.xml',\n",
       " 'CDKgraphonly': 'fingerprints_xml\\\\GraphOnlyFingerprinter.xml',\n",
       " 'KlekotaRothCount': 'fingerprints_xml\\\\KlekotaRothFingerprintCount.xml',\n",
       " 'KlekotaRoth': 'fingerprints_xml\\\\KlekotaRothFingerprinter.xml',\n",
       " 'MACCS': 'fingerprints_xml\\\\MACCSFingerprinter.xml',\n",
       " 'SubstructureCount': 'fingerprints_xml\\\\SubstructureFingerprintCount.xml',\n",
       " 'Substructure': 'fingerprints_xml\\\\SubstructureFingerprinter.xml'}"
      ]
     },
     "execution_count": 17,
     "metadata": {},
     "output_type": "execute_result"
    }
   ],
   "source": [
    "fp"
   ]
  },
  {
   "cell_type": "markdown",
   "metadata": {},
   "source": [
    "## AtomPairs2D FPs"
   ]
  },
  {
   "cell_type": "code",
   "execution_count": 163,
   "metadata": {},
   "outputs": [],
   "source": [
    "from padelpy import padeldescriptor\n",
    "\n",
    "fingerprint = 'AtomPairs2D'\n",
    "\n",
    "fingerprint_output_file = ''.join([fingerprint,'.csv']) #Substructure.csv\n",
    "fingerprint_descriptortypes = fp[fingerprint]\n",
    "\n",
    "padeldescriptor(mol_dir='datasets/molecule_ws.smi', \n",
    "                d_file=fingerprint_output_file, #'Substructure.csv'\n",
    "                #descriptortypes='SubstructureFingerprint.xml', \n",
    "                descriptortypes= fingerprint_descriptortypes,\n",
    "                detectaromaticity=True,\n",
    "                standardizenitro=True,\n",
    "                standardizetautomers=True,\n",
    "                threads=2,\n",
    "                removesalt=True,\n",
    "                log=True,\n",
    "                fingerprints=True)"
   ]
  },
  {
   "cell_type": "code",
   "execution_count": 18,
   "metadata": {},
   "outputs": [],
   "source": [
    "descriptors_AtomPairs2D = pd.read_csv('AtomPairs2D.csv')"
   ]
  },
  {
   "cell_type": "code",
   "execution_count": 19,
   "metadata": {},
   "outputs": [
    {
     "data": {
      "text/html": [
       "<div>\n",
       "<style scoped>\n",
       "    .dataframe tbody tr th:only-of-type {\n",
       "        vertical-align: middle;\n",
       "    }\n",
       "\n",
       "    .dataframe tbody tr th {\n",
       "        vertical-align: top;\n",
       "    }\n",
       "\n",
       "    .dataframe thead th {\n",
       "        text-align: right;\n",
       "    }\n",
       "</style>\n",
       "<table border=\"1\" class=\"dataframe\">\n",
       "  <thead>\n",
       "    <tr style=\"text-align: right;\">\n",
       "      <th></th>\n",
       "      <th>Name</th>\n",
       "      <th>AD2D1</th>\n",
       "      <th>AD2D2</th>\n",
       "      <th>AD2D3</th>\n",
       "      <th>AD2D4</th>\n",
       "      <th>AD2D5</th>\n",
       "      <th>AD2D6</th>\n",
       "      <th>AD2D7</th>\n",
       "      <th>AD2D8</th>\n",
       "      <th>AD2D9</th>\n",
       "      <th>...</th>\n",
       "      <th>AD2D771</th>\n",
       "      <th>AD2D772</th>\n",
       "      <th>AD2D773</th>\n",
       "      <th>AD2D774</th>\n",
       "      <th>AD2D775</th>\n",
       "      <th>AD2D776</th>\n",
       "      <th>AD2D777</th>\n",
       "      <th>AD2D778</th>\n",
       "      <th>AD2D779</th>\n",
       "      <th>AD2D780</th>\n",
       "    </tr>\n",
       "  </thead>\n",
       "  <tbody>\n",
       "    <tr>\n",
       "      <th>0</th>\n",
       "      <td>AUTOGEN_molecule_ws_1</td>\n",
       "      <td>1</td>\n",
       "      <td>1</td>\n",
       "      <td>1</td>\n",
       "      <td>0</td>\n",
       "      <td>0</td>\n",
       "      <td>0</td>\n",
       "      <td>0</td>\n",
       "      <td>0</td>\n",
       "      <td>0</td>\n",
       "      <td>...</td>\n",
       "      <td>0</td>\n",
       "      <td>0</td>\n",
       "      <td>0</td>\n",
       "      <td>0</td>\n",
       "      <td>0</td>\n",
       "      <td>0</td>\n",
       "      <td>0</td>\n",
       "      <td>0</td>\n",
       "      <td>0</td>\n",
       "      <td>0</td>\n",
       "    </tr>\n",
       "    <tr>\n",
       "      <th>1</th>\n",
       "      <td>AUTOGEN_molecule_ws_2</td>\n",
       "      <td>1</td>\n",
       "      <td>1</td>\n",
       "      <td>1</td>\n",
       "      <td>0</td>\n",
       "      <td>0</td>\n",
       "      <td>0</td>\n",
       "      <td>1</td>\n",
       "      <td>0</td>\n",
       "      <td>0</td>\n",
       "      <td>...</td>\n",
       "      <td>0</td>\n",
       "      <td>0</td>\n",
       "      <td>0</td>\n",
       "      <td>0</td>\n",
       "      <td>0</td>\n",
       "      <td>0</td>\n",
       "      <td>0</td>\n",
       "      <td>0</td>\n",
       "      <td>0</td>\n",
       "      <td>0</td>\n",
       "    </tr>\n",
       "    <tr>\n",
       "      <th>2</th>\n",
       "      <td>AUTOGEN_molecule_ws_3</td>\n",
       "      <td>1</td>\n",
       "      <td>1</td>\n",
       "      <td>1</td>\n",
       "      <td>0</td>\n",
       "      <td>0</td>\n",
       "      <td>0</td>\n",
       "      <td>0</td>\n",
       "      <td>0</td>\n",
       "      <td>0</td>\n",
       "      <td>...</td>\n",
       "      <td>0</td>\n",
       "      <td>0</td>\n",
       "      <td>0</td>\n",
       "      <td>0</td>\n",
       "      <td>0</td>\n",
       "      <td>0</td>\n",
       "      <td>0</td>\n",
       "      <td>0</td>\n",
       "      <td>0</td>\n",
       "      <td>0</td>\n",
       "    </tr>\n",
       "    <tr>\n",
       "      <th>3</th>\n",
       "      <td>AUTOGEN_molecule_ws_4</td>\n",
       "      <td>1</td>\n",
       "      <td>1</td>\n",
       "      <td>1</td>\n",
       "      <td>0</td>\n",
       "      <td>0</td>\n",
       "      <td>0</td>\n",
       "      <td>0</td>\n",
       "      <td>0</td>\n",
       "      <td>0</td>\n",
       "      <td>...</td>\n",
       "      <td>0</td>\n",
       "      <td>0</td>\n",
       "      <td>0</td>\n",
       "      <td>0</td>\n",
       "      <td>0</td>\n",
       "      <td>0</td>\n",
       "      <td>0</td>\n",
       "      <td>0</td>\n",
       "      <td>0</td>\n",
       "      <td>0</td>\n",
       "    </tr>\n",
       "    <tr>\n",
       "      <th>4</th>\n",
       "      <td>AUTOGEN_molecule_ws_5</td>\n",
       "      <td>1</td>\n",
       "      <td>0</td>\n",
       "      <td>0</td>\n",
       "      <td>0</td>\n",
       "      <td>0</td>\n",
       "      <td>0</td>\n",
       "      <td>0</td>\n",
       "      <td>0</td>\n",
       "      <td>0</td>\n",
       "      <td>...</td>\n",
       "      <td>0</td>\n",
       "      <td>0</td>\n",
       "      <td>0</td>\n",
       "      <td>0</td>\n",
       "      <td>0</td>\n",
       "      <td>0</td>\n",
       "      <td>0</td>\n",
       "      <td>0</td>\n",
       "      <td>0</td>\n",
       "      <td>0</td>\n",
       "    </tr>\n",
       "    <tr>\n",
       "      <th>...</th>\n",
       "      <td>...</td>\n",
       "      <td>...</td>\n",
       "      <td>...</td>\n",
       "      <td>...</td>\n",
       "      <td>...</td>\n",
       "      <td>...</td>\n",
       "      <td>...</td>\n",
       "      <td>...</td>\n",
       "      <td>...</td>\n",
       "      <td>...</td>\n",
       "      <td>...</td>\n",
       "      <td>...</td>\n",
       "      <td>...</td>\n",
       "      <td>...</td>\n",
       "      <td>...</td>\n",
       "      <td>...</td>\n",
       "      <td>...</td>\n",
       "      <td>...</td>\n",
       "      <td>...</td>\n",
       "      <td>...</td>\n",
       "      <td>...</td>\n",
       "    </tr>\n",
       "    <tr>\n",
       "      <th>3078</th>\n",
       "      <td>AUTOGEN_molecule_ws_3079</td>\n",
       "      <td>1</td>\n",
       "      <td>1</td>\n",
       "      <td>1</td>\n",
       "      <td>0</td>\n",
       "      <td>0</td>\n",
       "      <td>1</td>\n",
       "      <td>0</td>\n",
       "      <td>0</td>\n",
       "      <td>0</td>\n",
       "      <td>...</td>\n",
       "      <td>0</td>\n",
       "      <td>0</td>\n",
       "      <td>0</td>\n",
       "      <td>0</td>\n",
       "      <td>0</td>\n",
       "      <td>0</td>\n",
       "      <td>0</td>\n",
       "      <td>0</td>\n",
       "      <td>0</td>\n",
       "      <td>0</td>\n",
       "    </tr>\n",
       "    <tr>\n",
       "      <th>3079</th>\n",
       "      <td>AUTOGEN_molecule_ws_3080</td>\n",
       "      <td>1</td>\n",
       "      <td>1</td>\n",
       "      <td>1</td>\n",
       "      <td>0</td>\n",
       "      <td>0</td>\n",
       "      <td>0</td>\n",
       "      <td>0</td>\n",
       "      <td>0</td>\n",
       "      <td>0</td>\n",
       "      <td>...</td>\n",
       "      <td>0</td>\n",
       "      <td>0</td>\n",
       "      <td>0</td>\n",
       "      <td>0</td>\n",
       "      <td>0</td>\n",
       "      <td>0</td>\n",
       "      <td>0</td>\n",
       "      <td>0</td>\n",
       "      <td>0</td>\n",
       "      <td>0</td>\n",
       "    </tr>\n",
       "    <tr>\n",
       "      <th>3080</th>\n",
       "      <td>AUTOGEN_molecule_ws_3081</td>\n",
       "      <td>1</td>\n",
       "      <td>1</td>\n",
       "      <td>1</td>\n",
       "      <td>1</td>\n",
       "      <td>0</td>\n",
       "      <td>0</td>\n",
       "      <td>0</td>\n",
       "      <td>0</td>\n",
       "      <td>0</td>\n",
       "      <td>...</td>\n",
       "      <td>0</td>\n",
       "      <td>0</td>\n",
       "      <td>0</td>\n",
       "      <td>0</td>\n",
       "      <td>0</td>\n",
       "      <td>0</td>\n",
       "      <td>0</td>\n",
       "      <td>0</td>\n",
       "      <td>0</td>\n",
       "      <td>0</td>\n",
       "    </tr>\n",
       "    <tr>\n",
       "      <th>3081</th>\n",
       "      <td>AUTOGEN_molecule_ws_3082</td>\n",
       "      <td>1</td>\n",
       "      <td>1</td>\n",
       "      <td>1</td>\n",
       "      <td>0</td>\n",
       "      <td>0</td>\n",
       "      <td>0</td>\n",
       "      <td>0</td>\n",
       "      <td>0</td>\n",
       "      <td>0</td>\n",
       "      <td>...</td>\n",
       "      <td>0</td>\n",
       "      <td>0</td>\n",
       "      <td>0</td>\n",
       "      <td>0</td>\n",
       "      <td>0</td>\n",
       "      <td>0</td>\n",
       "      <td>0</td>\n",
       "      <td>0</td>\n",
       "      <td>0</td>\n",
       "      <td>0</td>\n",
       "    </tr>\n",
       "    <tr>\n",
       "      <th>3082</th>\n",
       "      <td>AUTOGEN_molecule_ws_3083</td>\n",
       "      <td>1</td>\n",
       "      <td>1</td>\n",
       "      <td>1</td>\n",
       "      <td>0</td>\n",
       "      <td>0</td>\n",
       "      <td>0</td>\n",
       "      <td>0</td>\n",
       "      <td>0</td>\n",
       "      <td>0</td>\n",
       "      <td>...</td>\n",
       "      <td>0</td>\n",
       "      <td>0</td>\n",
       "      <td>0</td>\n",
       "      <td>0</td>\n",
       "      <td>0</td>\n",
       "      <td>0</td>\n",
       "      <td>0</td>\n",
       "      <td>0</td>\n",
       "      <td>0</td>\n",
       "      <td>0</td>\n",
       "    </tr>\n",
       "  </tbody>\n",
       "</table>\n",
       "<p>3083 rows × 781 columns</p>\n",
       "</div>"
      ],
      "text/plain": [
       "                          Name  AD2D1  AD2D2  AD2D3  AD2D4  AD2D5  AD2D6  \\\n",
       "0        AUTOGEN_molecule_ws_1      1      1      1      0      0      0   \n",
       "1        AUTOGEN_molecule_ws_2      1      1      1      0      0      0   \n",
       "2        AUTOGEN_molecule_ws_3      1      1      1      0      0      0   \n",
       "3        AUTOGEN_molecule_ws_4      1      1      1      0      0      0   \n",
       "4        AUTOGEN_molecule_ws_5      1      0      0      0      0      0   \n",
       "...                        ...    ...    ...    ...    ...    ...    ...   \n",
       "3078  AUTOGEN_molecule_ws_3079      1      1      1      0      0      1   \n",
       "3079  AUTOGEN_molecule_ws_3080      1      1      1      0      0      0   \n",
       "3080  AUTOGEN_molecule_ws_3081      1      1      1      1      0      0   \n",
       "3081  AUTOGEN_molecule_ws_3082      1      1      1      0      0      0   \n",
       "3082  AUTOGEN_molecule_ws_3083      1      1      1      0      0      0   \n",
       "\n",
       "      AD2D7  AD2D8  AD2D9  ...  AD2D771  AD2D772  AD2D773  AD2D774  AD2D775  \\\n",
       "0         0      0      0  ...        0        0        0        0        0   \n",
       "1         1      0      0  ...        0        0        0        0        0   \n",
       "2         0      0      0  ...        0        0        0        0        0   \n",
       "3         0      0      0  ...        0        0        0        0        0   \n",
       "4         0      0      0  ...        0        0        0        0        0   \n",
       "...     ...    ...    ...  ...      ...      ...      ...      ...      ...   \n",
       "3078      0      0      0  ...        0        0        0        0        0   \n",
       "3079      0      0      0  ...        0        0        0        0        0   \n",
       "3080      0      0      0  ...        0        0        0        0        0   \n",
       "3081      0      0      0  ...        0        0        0        0        0   \n",
       "3082      0      0      0  ...        0        0        0        0        0   \n",
       "\n",
       "      AD2D776  AD2D777  AD2D778  AD2D779  AD2D780  \n",
       "0           0        0        0        0        0  \n",
       "1           0        0        0        0        0  \n",
       "2           0        0        0        0        0  \n",
       "3           0        0        0        0        0  \n",
       "4           0        0        0        0        0  \n",
       "...       ...      ...      ...      ...      ...  \n",
       "3078        0        0        0        0        0  \n",
       "3079        0        0        0        0        0  \n",
       "3080        0        0        0        0        0  \n",
       "3081        0        0        0        0        0  \n",
       "3082        0        0        0        0        0  \n",
       "\n",
       "[3083 rows x 781 columns]"
      ]
     },
     "execution_count": 19,
     "metadata": {},
     "output_type": "execute_result"
    }
   ],
   "source": [
    "descriptors_AtomPairs2D"
   ]
  },
  {
   "cell_type": "code",
   "execution_count": 20,
   "metadata": {},
   "outputs": [],
   "source": [
    "x_tr = descriptors_AtomPairs2D.drop('Name', axis=1)"
   ]
  },
  {
   "cell_type": "code",
   "execution_count": 21,
   "metadata": {},
   "outputs": [],
   "source": [
    "x_tr = np.array(x_tr, dtype=np.float32)\n",
    "y_tr = np.array(y_tr, dtype=np.float32)"
   ]
  },
  {
   "cell_type": "code",
   "execution_count": 23,
   "metadata": {},
   "outputs": [],
   "source": [
    "savetxt('Models/Padels/x_tr_AtomPairs2D.csv', x_tr, delimiter=',')"
   ]
  },
  {
   "cell_type": "code",
   "execution_count": 24,
   "metadata": {},
   "outputs": [
    {
     "data": {
      "text/plain": [
       "(3083, 780)"
      ]
     },
     "execution_count": 24,
     "metadata": {},
     "output_type": "execute_result"
    }
   ],
   "source": [
    "x_tr.shape"
   ]
  },
  {
   "cell_type": "markdown",
   "metadata": {},
   "source": [
    "# 7.Descriptor calculation for test set"
   ]
  },
  {
   "cell_type": "code",
   "execution_count": 179,
   "metadata": {},
   "outputs": [],
   "source": [
    "from padelpy import padeldescriptor\n",
    "\n",
    "fingerprint = 'AtomPairs2D'\n",
    "\n",
    "fingerprint_output_file = ''.join([fingerprint,'_ts.csv']) #AtomPairs2D.csv\n",
    "fingerprint_descriptortypes = fp[fingerprint]\n",
    "\n",
    "padeldescriptor(mol_dir='datasets/molecule_ts.smi', \n",
    "                d_file=fingerprint_output_file, #'AtomPairs2D.csv'\n",
    "                #descriptortypes='AtomPairs2D.xml', \n",
    "                descriptortypes= fingerprint_descriptortypes,\n",
    "                detectaromaticity=True,\n",
    "                standardizenitro=True,\n",
    "                standardizetautomers=True,\n",
    "                threads=2,\n",
    "                removesalt=True,\n",
    "                log=False,\n",
    "                fingerprints=True)"
   ]
  },
  {
   "cell_type": "code",
   "execution_count": 25,
   "metadata": {},
   "outputs": [],
   "source": [
    "descriptors_AtomPairs2D_ts = pd.read_csv('AtomPairs2D_ts.csv')"
   ]
  },
  {
   "cell_type": "code",
   "execution_count": 26,
   "metadata": {},
   "outputs": [],
   "source": [
    "x_ts = descriptors_AtomPairs2D_ts.drop('Name', axis=1)"
   ]
  },
  {
   "cell_type": "code",
   "execution_count": 27,
   "metadata": {},
   "outputs": [
    {
     "data": {
      "text/plain": [
       "(771, 780)"
      ]
     },
     "execution_count": 27,
     "metadata": {},
     "output_type": "execute_result"
    }
   ],
   "source": [
    "x_ts.shape"
   ]
  },
  {
   "cell_type": "markdown",
   "metadata": {},
   "source": [
    " # GradientBoostingRegressor model building and validation"
   ]
  },
  {
   "cell_type": "code",
   "execution_count": 29,
   "metadata": {},
   "outputs": [],
   "source": [
    "seed = 42"
   ]
  },
  {
   "cell_type": "code",
   "execution_count": 30,
   "metadata": {},
   "outputs": [],
   "source": [
    "cv=KFold(n_splits=5, random_state=seed, shuffle=True)"
   ]
  },
  {
   "cell_type": "code",
   "execution_count": 31,
   "metadata": {},
   "outputs": [],
   "source": [
    "param_grid = {'learning_rate': [0.02,0.05],\n",
    "                  'subsample'    : [0.9, 0.5, 0.1],\n",
    "                  'n_estimators' : [100,500,1000],\n",
    "                  'max_depth'    : [4, 10]\n",
    "                 }"
   ]
  },
  {
   "cell_type": "code",
   "execution_count": 32,
   "metadata": {},
   "outputs": [],
   "source": [
    "m = GridSearchCV(GradientBoostingRegressor(), param_grid, n_jobs=-1, cv=cv, verbose=1)"
   ]
  },
  {
   "cell_type": "code",
   "execution_count": 33,
   "metadata": {},
   "outputs": [
    {
     "name": "stdout",
     "output_type": "stream",
     "text": [
      "Fitting 5 folds for each of 36 candidates, totalling 180 fits\n"
     ]
    },
    {
     "data": {
      "text/html": [
       "<style>#sk-container-id-1 {color: black;}#sk-container-id-1 pre{padding: 0;}#sk-container-id-1 div.sk-toggleable {background-color: white;}#sk-container-id-1 label.sk-toggleable__label {cursor: pointer;display: block;width: 100%;margin-bottom: 0;padding: 0.3em;box-sizing: border-box;text-align: center;}#sk-container-id-1 label.sk-toggleable__label-arrow:before {content: \"▸\";float: left;margin-right: 0.25em;color: #696969;}#sk-container-id-1 label.sk-toggleable__label-arrow:hover:before {color: black;}#sk-container-id-1 div.sk-estimator:hover label.sk-toggleable__label-arrow:before {color: black;}#sk-container-id-1 div.sk-toggleable__content {max-height: 0;max-width: 0;overflow: hidden;text-align: left;background-color: #f0f8ff;}#sk-container-id-1 div.sk-toggleable__content pre {margin: 0.2em;color: black;border-radius: 0.25em;background-color: #f0f8ff;}#sk-container-id-1 input.sk-toggleable__control:checked~div.sk-toggleable__content {max-height: 200px;max-width: 100%;overflow: auto;}#sk-container-id-1 input.sk-toggleable__control:checked~label.sk-toggleable__label-arrow:before {content: \"▾\";}#sk-container-id-1 div.sk-estimator input.sk-toggleable__control:checked~label.sk-toggleable__label {background-color: #d4ebff;}#sk-container-id-1 div.sk-label input.sk-toggleable__control:checked~label.sk-toggleable__label {background-color: #d4ebff;}#sk-container-id-1 input.sk-hidden--visually {border: 0;clip: rect(1px 1px 1px 1px);clip: rect(1px, 1px, 1px, 1px);height: 1px;margin: -1px;overflow: hidden;padding: 0;position: absolute;width: 1px;}#sk-container-id-1 div.sk-estimator {font-family: monospace;background-color: #f0f8ff;border: 1px dotted black;border-radius: 0.25em;box-sizing: border-box;margin-bottom: 0.5em;}#sk-container-id-1 div.sk-estimator:hover {background-color: #d4ebff;}#sk-container-id-1 div.sk-parallel-item::after {content: \"\";width: 100%;border-bottom: 1px solid gray;flex-grow: 1;}#sk-container-id-1 div.sk-label:hover label.sk-toggleable__label {background-color: #d4ebff;}#sk-container-id-1 div.sk-serial::before {content: \"\";position: absolute;border-left: 1px solid gray;box-sizing: border-box;top: 0;bottom: 0;left: 50%;z-index: 0;}#sk-container-id-1 div.sk-serial {display: flex;flex-direction: column;align-items: center;background-color: white;padding-right: 0.2em;padding-left: 0.2em;position: relative;}#sk-container-id-1 div.sk-item {position: relative;z-index: 1;}#sk-container-id-1 div.sk-parallel {display: flex;align-items: stretch;justify-content: center;background-color: white;position: relative;}#sk-container-id-1 div.sk-item::before, #sk-container-id-1 div.sk-parallel-item::before {content: \"\";position: absolute;border-left: 1px solid gray;box-sizing: border-box;top: 0;bottom: 0;left: 50%;z-index: -1;}#sk-container-id-1 div.sk-parallel-item {display: flex;flex-direction: column;z-index: 1;position: relative;background-color: white;}#sk-container-id-1 div.sk-parallel-item:first-child::after {align-self: flex-end;width: 50%;}#sk-container-id-1 div.sk-parallel-item:last-child::after {align-self: flex-start;width: 50%;}#sk-container-id-1 div.sk-parallel-item:only-child::after {width: 0;}#sk-container-id-1 div.sk-dashed-wrapped {border: 1px dashed gray;margin: 0 0.4em 0.5em 0.4em;box-sizing: border-box;padding-bottom: 0.4em;background-color: white;}#sk-container-id-1 div.sk-label label {font-family: monospace;font-weight: bold;display: inline-block;line-height: 1.2em;}#sk-container-id-1 div.sk-label-container {text-align: center;}#sk-container-id-1 div.sk-container {/* jupyter's `normalize.less` sets `[hidden] { display: none; }` but bootstrap.min.css set `[hidden] { display: none !important; }` so we also need the `!important` here to be able to override the default hidden behavior on the sphinx rendered scikit-learn.org. See: https://github.com/scikit-learn/scikit-learn/issues/21755 */display: inline-block !important;position: relative;}#sk-container-id-1 div.sk-text-repr-fallback {display: none;}</style><div id=\"sk-container-id-1\" class=\"sk-top-container\"><div class=\"sk-text-repr-fallback\"><pre>GridSearchCV(cv=KFold(n_splits=5, random_state=42, shuffle=True),\n",
       "             estimator=GradientBoostingRegressor(), n_jobs=-1,\n",
       "             param_grid={&#x27;learning_rate&#x27;: [0.02, 0.05], &#x27;max_depth&#x27;: [4, 10],\n",
       "                         &#x27;n_estimators&#x27;: [100, 500, 1000],\n",
       "                         &#x27;subsample&#x27;: [0.9, 0.5, 0.1]},\n",
       "             verbose=1)</pre><b>In a Jupyter environment, please rerun this cell to show the HTML representation or trust the notebook. <br />On GitHub, the HTML representation is unable to render, please try loading this page with nbviewer.org.</b></div><div class=\"sk-container\" hidden><div class=\"sk-item sk-dashed-wrapped\"><div class=\"sk-label-container\"><div class=\"sk-label sk-toggleable\"><input class=\"sk-toggleable__control sk-hidden--visually\" id=\"sk-estimator-id-1\" type=\"checkbox\" ><label for=\"sk-estimator-id-1\" class=\"sk-toggleable__label sk-toggleable__label-arrow\">GridSearchCV</label><div class=\"sk-toggleable__content\"><pre>GridSearchCV(cv=KFold(n_splits=5, random_state=42, shuffle=True),\n",
       "             estimator=GradientBoostingRegressor(), n_jobs=-1,\n",
       "             param_grid={&#x27;learning_rate&#x27;: [0.02, 0.05], &#x27;max_depth&#x27;: [4, 10],\n",
       "                         &#x27;n_estimators&#x27;: [100, 500, 1000],\n",
       "                         &#x27;subsample&#x27;: [0.9, 0.5, 0.1]},\n",
       "             verbose=1)</pre></div></div></div><div class=\"sk-parallel\"><div class=\"sk-parallel-item\"><div class=\"sk-item\"><div class=\"sk-label-container\"><div class=\"sk-label sk-toggleable\"><input class=\"sk-toggleable__control sk-hidden--visually\" id=\"sk-estimator-id-2\" type=\"checkbox\" ><label for=\"sk-estimator-id-2\" class=\"sk-toggleable__label sk-toggleable__label-arrow\">estimator: GradientBoostingRegressor</label><div class=\"sk-toggleable__content\"><pre>GradientBoostingRegressor()</pre></div></div></div><div class=\"sk-serial\"><div class=\"sk-item\"><div class=\"sk-estimator sk-toggleable\"><input class=\"sk-toggleable__control sk-hidden--visually\" id=\"sk-estimator-id-3\" type=\"checkbox\" ><label for=\"sk-estimator-id-3\" class=\"sk-toggleable__label sk-toggleable__label-arrow\">GradientBoostingRegressor</label><div class=\"sk-toggleable__content\"><pre>GradientBoostingRegressor()</pre></div></div></div></div></div></div></div></div></div></div>"
      ],
      "text/plain": [
       "GridSearchCV(cv=KFold(n_splits=5, random_state=42, shuffle=True),\n",
       "             estimator=GradientBoostingRegressor(), n_jobs=-1,\n",
       "             param_grid={'learning_rate': [0.02, 0.05], 'max_depth': [4, 10],\n",
       "                         'n_estimators': [100, 500, 1000],\n",
       "                         'subsample': [0.9, 0.5, 0.1]},\n",
       "             verbose=1)"
      ]
     },
     "execution_count": 33,
     "metadata": {},
     "output_type": "execute_result"
    }
   ],
   "source": [
    "m.fit(x_tr, y_tr)"
   ]
  },
  {
   "cell_type": "code",
   "execution_count": 34,
   "metadata": {},
   "outputs": [],
   "source": [
    "best_GBR = m.best_estimator_"
   ]
  },
  {
   "cell_type": "code",
   "execution_count": 35,
   "metadata": {},
   "outputs": [
    {
     "data": {
      "text/plain": [
       "{'learning_rate': 0.05, 'max_depth': 10, 'n_estimators': 100, 'subsample': 0.5}"
      ]
     },
     "execution_count": 35,
     "metadata": {},
     "output_type": "execute_result"
    }
   ],
   "source": [
    "m.best_params_"
   ]
  },
  {
   "cell_type": "code",
   "execution_count": 36,
   "metadata": {},
   "outputs": [],
   "source": [
    "y_pred_ws_GBR = best_GBR.predict(x_tr)"
   ]
  },
  {
   "cell_type": "code",
   "execution_count": 37,
   "metadata": {},
   "outputs": [
    {
     "data": {
      "text/plain": [
       "0.84"
      ]
     },
     "execution_count": 37,
     "metadata": {},
     "output_type": "execute_result"
    }
   ],
   "source": [
    "R2_WS = round(r2_score(y_tr, y_pred_ws_GBR), 2)\n",
    "R2_WS"
   ]
  },
  {
   "cell_type": "code",
   "execution_count": 38,
   "metadata": {},
   "outputs": [
    {
     "data": {
      "text/plain": [
       "0.56"
      ]
     },
     "execution_count": 38,
     "metadata": {},
     "output_type": "execute_result"
    }
   ],
   "source": [
    "RMSE_WS=round(np.sqrt(mean_absolute_error(y_tr, y_pred_ws_GBR)), 2)\n",
    "RMSE_WS"
   ]
  },
  {
   "cell_type": "code",
   "execution_count": 39,
   "metadata": {},
   "outputs": [],
   "source": [
    "y_pred_CV_GBR = cross_val_predict(best_GBR, x_tr, y_tr, cv=cv)"
   ]
  },
  {
   "cell_type": "code",
   "execution_count": 40,
   "metadata": {},
   "outputs": [
    {
     "data": {
      "text/plain": [
       "array([5.39345566, 5.31961002, 5.96141753, ..., 7.18004399, 8.29817527,\n",
       "       7.38948281])"
      ]
     },
     "execution_count": 40,
     "metadata": {},
     "output_type": "execute_result"
    }
   ],
   "source": [
    "y_pred_CV_GBR"
   ]
  },
  {
   "cell_type": "code",
   "execution_count": 41,
   "metadata": {},
   "outputs": [
    {
     "data": {
      "text/plain": [
       "0.54"
      ]
     },
     "execution_count": 41,
     "metadata": {},
     "output_type": "execute_result"
    }
   ],
   "source": [
    "Q2_CV = round(r2_score(y_tr, y_pred_CV_GBR), 2)\n",
    "Q2_CV"
   ]
  },
  {
   "cell_type": "code",
   "execution_count": 42,
   "metadata": {},
   "outputs": [
    {
     "data": {
      "text/plain": [
       "0.75"
      ]
     },
     "execution_count": 42,
     "metadata": {},
     "output_type": "execute_result"
    }
   ],
   "source": [
    "RMSE_CV=round(np.sqrt(mean_absolute_error(y_tr, y_pred_CV_GBR)), 2)\n",
    "RMSE_CV"
   ]
  },
  {
   "cell_type": "markdown",
   "metadata": {},
   "source": [
    "# 9. Prediction for test set's molecules"
   ]
  },
  {
   "cell_type": "code",
   "execution_count": 43,
   "metadata": {},
   "outputs": [
    {
     "data": {
      "text/plain": [
       "771"
      ]
     },
     "execution_count": 43,
     "metadata": {},
     "output_type": "execute_result"
    }
   ],
   "source": [
    "x_ts = np.array(x_ts, dtype=np.float32)\n",
    "y_ts = np.array(y_ts, dtype=np.float32)\n",
    "len(y_ts)"
   ]
  },
  {
   "cell_type": "code",
   "execution_count": 44,
   "metadata": {},
   "outputs": [],
   "source": [
    "y_pred_GBR = best_GBR.predict(x_ts)"
   ]
  },
  {
   "cell_type": "code",
   "execution_count": 45,
   "metadata": {},
   "outputs": [
    {
     "data": {
      "text/plain": [
       "0.57"
      ]
     },
     "execution_count": 45,
     "metadata": {},
     "output_type": "execute_result"
    }
   ],
   "source": [
    "Q2_TS = round(r2_score(y_ts, y_pred_GBR), 2)\n",
    "Q2_TS"
   ]
  },
  {
   "cell_type": "code",
   "execution_count": 46,
   "metadata": {},
   "outputs": [
    {
     "data": {
      "text/plain": [
       "0.73"
      ]
     },
     "execution_count": 46,
     "metadata": {},
     "output_type": "execute_result"
    }
   ],
   "source": [
    "RMSE_TS=round(np.sqrt(mean_absolute_error(y_ts, y_pred_GBR)), 2)\n",
    "RMSE_TS"
   ]
  },
  {
   "cell_type": "markdown",
   "metadata": {},
   "source": [
    "# save the model to disk"
   ]
  },
  {
   "cell_type": "code",
   "execution_count": 47,
   "metadata": {},
   "outputs": [],
   "source": [
    "pickle.dump(best_GBR, open('Models/Padels/HDAC6_GBR_AtomPairs2D.pkl', 'wb'))"
   ]
  },
  {
   "cell_type": "markdown",
   "metadata": {},
   "source": [
    "# load the model from disk"
   ]
  },
  {
   "cell_type": "code",
   "execution_count": 26,
   "metadata": {},
   "outputs": [],
   "source": [
    "best_GBR = pickle.load(open('Models/Padels/HDAC6_GBR_AtomPairs2D.pkl', 'rb'))"
   ]
  },
  {
   "cell_type": "markdown",
   "metadata": {},
   "source": [
    "# 10. Y-randomization GradientBoostingRegressor model"
   ]
  },
  {
   "cell_type": "code",
   "execution_count": 48,
   "metadata": {},
   "outputs": [
    {
     "name": "stderr",
     "output_type": "stream",
     "text": [
      "[Parallel(n_jobs=-1)]: Using backend LokyBackend with 16 concurrent workers.\n",
      "[Parallel(n_jobs=-1)]: Done  18 tasks      | elapsed:   56.5s\n"
     ]
    },
    {
     "name": "stdout",
     "output_type": "stream",
     "text": [
      "True score =  0.54 \n",
      "Y-randomization =  -0.16 \n",
      "p-value =  0.0196\n"
     ]
    },
    {
     "name": "stderr",
     "output_type": "stream",
     "text": [
      "[Parallel(n_jobs=-1)]: Done  50 out of  50 | elapsed:  1.6min finished\n"
     ]
    }
   ],
   "source": [
    "permutations = 50\n",
    "score, permutation_scores, pvalue = permutation_test_score(best_GBR, x_tr, y_tr,\n",
    "                                                           cv=cv, scoring='r2',\n",
    "                                                           n_permutations=permutations,\n",
    "                                                           n_jobs=-1,\n",
    "                                                           verbose=1,\n",
    "                                                           random_state=seed)\n",
    "print('True score = ', score.round(2),\n",
    "      '\\nY-randomization = ', np.mean(permutation_scores).round(2),\n",
    "      '\\np-value = ', pvalue.round(4))"
   ]
  },
  {
   "cell_type": "markdown",
   "metadata": {},
   "source": [
    "# 11. Estimating applicability domain. Method - Euclidian distances, K=1"
   ]
  },
  {
   "cell_type": "code",
   "execution_count": 49,
   "metadata": {},
   "outputs": [],
   "source": [
    "neighbors_k= pairwise_distances(x_tr, n_jobs=-1)\n",
    "neighbors_k.sort(0)"
   ]
  },
  {
   "cell_type": "code",
   "execution_count": 50,
   "metadata": {},
   "outputs": [
    {
     "data": {
      "text/html": [
       "<div>\n",
       "<style scoped>\n",
       "    .dataframe tbody tr th:only-of-type {\n",
       "        vertical-align: middle;\n",
       "    }\n",
       "\n",
       "    .dataframe tbody tr th {\n",
       "        vertical-align: top;\n",
       "    }\n",
       "\n",
       "    .dataframe thead th {\n",
       "        text-align: right;\n",
       "    }\n",
       "</style>\n",
       "<table border=\"1\" class=\"dataframe\">\n",
       "  <thead>\n",
       "    <tr style=\"text-align: right;\">\n",
       "      <th></th>\n",
       "      <th>0</th>\n",
       "      <th>1</th>\n",
       "      <th>2</th>\n",
       "      <th>3</th>\n",
       "      <th>4</th>\n",
       "      <th>5</th>\n",
       "      <th>6</th>\n",
       "      <th>7</th>\n",
       "      <th>8</th>\n",
       "      <th>9</th>\n",
       "      <th>...</th>\n",
       "      <th>3073</th>\n",
       "      <th>3074</th>\n",
       "      <th>3075</th>\n",
       "      <th>3076</th>\n",
       "      <th>3077</th>\n",
       "      <th>3078</th>\n",
       "      <th>3079</th>\n",
       "      <th>3080</th>\n",
       "      <th>3081</th>\n",
       "      <th>3082</th>\n",
       "    </tr>\n",
       "  </thead>\n",
       "  <tbody>\n",
       "    <tr>\n",
       "      <th>0</th>\n",
       "      <td>0.000000</td>\n",
       "      <td>0.000000</td>\n",
       "      <td>0.000000</td>\n",
       "      <td>0.000000</td>\n",
       "      <td>0.000000</td>\n",
       "      <td>0.000000</td>\n",
       "      <td>0.000000</td>\n",
       "      <td>0.000000</td>\n",
       "      <td>0.000000</td>\n",
       "      <td>0.000000</td>\n",
       "      <td>...</td>\n",
       "      <td>0.000000</td>\n",
       "      <td>0.000000</td>\n",
       "      <td>0.000000</td>\n",
       "      <td>0.000000</td>\n",
       "      <td>0.000000</td>\n",
       "      <td>0.000000</td>\n",
       "      <td>0.000000</td>\n",
       "      <td>0.000000</td>\n",
       "      <td>0.000000</td>\n",
       "      <td>0.000000</td>\n",
       "    </tr>\n",
       "    <tr>\n",
       "      <th>1</th>\n",
       "      <td>2.000000</td>\n",
       "      <td>4.000000</td>\n",
       "      <td>2.449490</td>\n",
       "      <td>0.000000</td>\n",
       "      <td>3.316625</td>\n",
       "      <td>0.000000</td>\n",
       "      <td>3.000000</td>\n",
       "      <td>1.732051</td>\n",
       "      <td>1.414214</td>\n",
       "      <td>3.872983</td>\n",
       "      <td>...</td>\n",
       "      <td>1.414214</td>\n",
       "      <td>2.645751</td>\n",
       "      <td>1.414214</td>\n",
       "      <td>1.000000</td>\n",
       "      <td>0.000000</td>\n",
       "      <td>0.000000</td>\n",
       "      <td>0.000000</td>\n",
       "      <td>2.449490</td>\n",
       "      <td>1.000000</td>\n",
       "      <td>1.414214</td>\n",
       "    </tr>\n",
       "    <tr>\n",
       "      <th>2</th>\n",
       "      <td>2.828427</td>\n",
       "      <td>4.123106</td>\n",
       "      <td>2.449490</td>\n",
       "      <td>0.000000</td>\n",
       "      <td>3.872983</td>\n",
       "      <td>3.000000</td>\n",
       "      <td>3.162278</td>\n",
       "      <td>1.732051</td>\n",
       "      <td>2.645751</td>\n",
       "      <td>4.358899</td>\n",
       "      <td>...</td>\n",
       "      <td>1.414214</td>\n",
       "      <td>2.645751</td>\n",
       "      <td>1.732051</td>\n",
       "      <td>1.000000</td>\n",
       "      <td>0.000000</td>\n",
       "      <td>2.000000</td>\n",
       "      <td>1.000000</td>\n",
       "      <td>2.645751</td>\n",
       "      <td>1.732051</td>\n",
       "      <td>1.414214</td>\n",
       "    </tr>\n",
       "    <tr>\n",
       "      <th>3</th>\n",
       "      <td>3.000000</td>\n",
       "      <td>4.123106</td>\n",
       "      <td>2.645751</td>\n",
       "      <td>0.000000</td>\n",
       "      <td>4.000000</td>\n",
       "      <td>3.000000</td>\n",
       "      <td>3.162278</td>\n",
       "      <td>1.732051</td>\n",
       "      <td>2.828427</td>\n",
       "      <td>4.690416</td>\n",
       "      <td>...</td>\n",
       "      <td>1.732051</td>\n",
       "      <td>3.000000</td>\n",
       "      <td>2.000000</td>\n",
       "      <td>1.000000</td>\n",
       "      <td>0.000000</td>\n",
       "      <td>2.645751</td>\n",
       "      <td>1.000000</td>\n",
       "      <td>2.645751</td>\n",
       "      <td>1.732051</td>\n",
       "      <td>1.414214</td>\n",
       "    </tr>\n",
       "    <tr>\n",
       "      <th>4</th>\n",
       "      <td>3.000000</td>\n",
       "      <td>4.123106</td>\n",
       "      <td>2.645751</td>\n",
       "      <td>0.000000</td>\n",
       "      <td>4.000000</td>\n",
       "      <td>3.000000</td>\n",
       "      <td>3.162278</td>\n",
       "      <td>2.000000</td>\n",
       "      <td>2.828427</td>\n",
       "      <td>4.690416</td>\n",
       "      <td>...</td>\n",
       "      <td>2.000000</td>\n",
       "      <td>3.872983</td>\n",
       "      <td>2.000000</td>\n",
       "      <td>1.000000</td>\n",
       "      <td>0.000000</td>\n",
       "      <td>3.464102</td>\n",
       "      <td>1.414214</td>\n",
       "      <td>2.828427</td>\n",
       "      <td>1.732051</td>\n",
       "      <td>1.414214</td>\n",
       "    </tr>\n",
       "    <tr>\n",
       "      <th>...</th>\n",
       "      <td>...</td>\n",
       "      <td>...</td>\n",
       "      <td>...</td>\n",
       "      <td>...</td>\n",
       "      <td>...</td>\n",
       "      <td>...</td>\n",
       "      <td>...</td>\n",
       "      <td>...</td>\n",
       "      <td>...</td>\n",
       "      <td>...</td>\n",
       "      <td>...</td>\n",
       "      <td>...</td>\n",
       "      <td>...</td>\n",
       "      <td>...</td>\n",
       "      <td>...</td>\n",
       "      <td>...</td>\n",
       "      <td>...</td>\n",
       "      <td>...</td>\n",
       "      <td>...</td>\n",
       "      <td>...</td>\n",
       "      <td>...</td>\n",
       "    </tr>\n",
       "    <tr>\n",
       "      <th>3078</th>\n",
       "      <td>9.539392</td>\n",
       "      <td>9.486833</td>\n",
       "      <td>9.380832</td>\n",
       "      <td>9.643651</td>\n",
       "      <td>10.583005</td>\n",
       "      <td>9.486833</td>\n",
       "      <td>9.643651</td>\n",
       "      <td>9.433981</td>\n",
       "      <td>8.944272</td>\n",
       "      <td>10.198039</td>\n",
       "      <td>...</td>\n",
       "      <td>9.273619</td>\n",
       "      <td>8.602325</td>\n",
       "      <td>9.110434</td>\n",
       "      <td>9.327379</td>\n",
       "      <td>9.273619</td>\n",
       "      <td>8.717798</td>\n",
       "      <td>9.380832</td>\n",
       "      <td>8.831760</td>\n",
       "      <td>9.433981</td>\n",
       "      <td>9.327379</td>\n",
       "    </tr>\n",
       "    <tr>\n",
       "      <th>3079</th>\n",
       "      <td>9.591663</td>\n",
       "      <td>9.539392</td>\n",
       "      <td>9.433981</td>\n",
       "      <td>9.695360</td>\n",
       "      <td>10.630146</td>\n",
       "      <td>9.486833</td>\n",
       "      <td>9.695360</td>\n",
       "      <td>9.433981</td>\n",
       "      <td>9.110434</td>\n",
       "      <td>10.198039</td>\n",
       "      <td>...</td>\n",
       "      <td>9.273619</td>\n",
       "      <td>8.602325</td>\n",
       "      <td>9.110434</td>\n",
       "      <td>9.327379</td>\n",
       "      <td>9.273619</td>\n",
       "      <td>8.717798</td>\n",
       "      <td>9.380832</td>\n",
       "      <td>8.888194</td>\n",
       "      <td>9.433981</td>\n",
       "      <td>9.327379</td>\n",
       "    </tr>\n",
       "    <tr>\n",
       "      <th>3080</th>\n",
       "      <td>9.797959</td>\n",
       "      <td>9.539392</td>\n",
       "      <td>9.433981</td>\n",
       "      <td>9.746795</td>\n",
       "      <td>10.677078</td>\n",
       "      <td>9.539392</td>\n",
       "      <td>9.746795</td>\n",
       "      <td>9.486833</td>\n",
       "      <td>9.110434</td>\n",
       "      <td>10.198039</td>\n",
       "      <td>...</td>\n",
       "      <td>9.273619</td>\n",
       "      <td>8.602325</td>\n",
       "      <td>9.327379</td>\n",
       "      <td>9.380832</td>\n",
       "      <td>9.327379</td>\n",
       "      <td>8.717798</td>\n",
       "      <td>9.433981</td>\n",
       "      <td>9.000000</td>\n",
       "      <td>9.486833</td>\n",
       "      <td>9.380832</td>\n",
       "    </tr>\n",
       "    <tr>\n",
       "      <th>3081</th>\n",
       "      <td>9.797959</td>\n",
       "      <td>9.591663</td>\n",
       "      <td>9.643651</td>\n",
       "      <td>9.949874</td>\n",
       "      <td>10.862781</td>\n",
       "      <td>9.746795</td>\n",
       "      <td>9.746795</td>\n",
       "      <td>9.695360</td>\n",
       "      <td>9.273619</td>\n",
       "      <td>10.246951</td>\n",
       "      <td>...</td>\n",
       "      <td>9.486833</td>\n",
       "      <td>8.660254</td>\n",
       "      <td>9.433981</td>\n",
       "      <td>9.591663</td>\n",
       "      <td>9.539392</td>\n",
       "      <td>8.717798</td>\n",
       "      <td>9.643651</td>\n",
       "      <td>9.055386</td>\n",
       "      <td>9.643651</td>\n",
       "      <td>9.591663</td>\n",
       "    </tr>\n",
       "    <tr>\n",
       "      <th>3082</th>\n",
       "      <td>10.049875</td>\n",
       "      <td>9.797959</td>\n",
       "      <td>9.797959</td>\n",
       "      <td>10.392304</td>\n",
       "      <td>11.090536</td>\n",
       "      <td>9.797959</td>\n",
       "      <td>9.899495</td>\n",
       "      <td>9.848858</td>\n",
       "      <td>9.591663</td>\n",
       "      <td>10.344080</td>\n",
       "      <td>...</td>\n",
       "      <td>9.746795</td>\n",
       "      <td>8.660254</td>\n",
       "      <td>9.486833</td>\n",
       "      <td>9.949874</td>\n",
       "      <td>9.797959</td>\n",
       "      <td>8.888194</td>\n",
       "      <td>9.695360</td>\n",
       "      <td>9.486833</td>\n",
       "      <td>9.695360</td>\n",
       "      <td>9.949874</td>\n",
       "    </tr>\n",
       "  </tbody>\n",
       "</table>\n",
       "<p>3083 rows × 3083 columns</p>\n",
       "</div>"
      ],
      "text/plain": [
       "           0         1         2          3          4         5         6     \\\n",
       "0      0.000000  0.000000  0.000000   0.000000   0.000000  0.000000  0.000000   \n",
       "1      2.000000  4.000000  2.449490   0.000000   3.316625  0.000000  3.000000   \n",
       "2      2.828427  4.123106  2.449490   0.000000   3.872983  3.000000  3.162278   \n",
       "3      3.000000  4.123106  2.645751   0.000000   4.000000  3.000000  3.162278   \n",
       "4      3.000000  4.123106  2.645751   0.000000   4.000000  3.000000  3.162278   \n",
       "...         ...       ...       ...        ...        ...       ...       ...   \n",
       "3078   9.539392  9.486833  9.380832   9.643651  10.583005  9.486833  9.643651   \n",
       "3079   9.591663  9.539392  9.433981   9.695360  10.630146  9.486833  9.695360   \n",
       "3080   9.797959  9.539392  9.433981   9.746795  10.677078  9.539392  9.746795   \n",
       "3081   9.797959  9.591663  9.643651   9.949874  10.862781  9.746795  9.746795   \n",
       "3082  10.049875  9.797959  9.797959  10.392304  11.090536  9.797959  9.899495   \n",
       "\n",
       "          7         8          9     ...      3073      3074      3075  \\\n",
       "0     0.000000  0.000000   0.000000  ...  0.000000  0.000000  0.000000   \n",
       "1     1.732051  1.414214   3.872983  ...  1.414214  2.645751  1.414214   \n",
       "2     1.732051  2.645751   4.358899  ...  1.414214  2.645751  1.732051   \n",
       "3     1.732051  2.828427   4.690416  ...  1.732051  3.000000  2.000000   \n",
       "4     2.000000  2.828427   4.690416  ...  2.000000  3.872983  2.000000   \n",
       "...        ...       ...        ...  ...       ...       ...       ...   \n",
       "3078  9.433981  8.944272  10.198039  ...  9.273619  8.602325  9.110434   \n",
       "3079  9.433981  9.110434  10.198039  ...  9.273619  8.602325  9.110434   \n",
       "3080  9.486833  9.110434  10.198039  ...  9.273619  8.602325  9.327379   \n",
       "3081  9.695360  9.273619  10.246951  ...  9.486833  8.660254  9.433981   \n",
       "3082  9.848858  9.591663  10.344080  ...  9.746795  8.660254  9.486833   \n",
       "\n",
       "          3076      3077      3078      3079      3080      3081      3082  \n",
       "0     0.000000  0.000000  0.000000  0.000000  0.000000  0.000000  0.000000  \n",
       "1     1.000000  0.000000  0.000000  0.000000  2.449490  1.000000  1.414214  \n",
       "2     1.000000  0.000000  2.000000  1.000000  2.645751  1.732051  1.414214  \n",
       "3     1.000000  0.000000  2.645751  1.000000  2.645751  1.732051  1.414214  \n",
       "4     1.000000  0.000000  3.464102  1.414214  2.828427  1.732051  1.414214  \n",
       "...        ...       ...       ...       ...       ...       ...       ...  \n",
       "3078  9.327379  9.273619  8.717798  9.380832  8.831760  9.433981  9.327379  \n",
       "3079  9.327379  9.273619  8.717798  9.380832  8.888194  9.433981  9.327379  \n",
       "3080  9.380832  9.327379  8.717798  9.433981  9.000000  9.486833  9.380832  \n",
       "3081  9.591663  9.539392  8.717798  9.643651  9.055386  9.643651  9.591663  \n",
       "3082  9.949874  9.797959  8.888194  9.695360  9.486833  9.695360  9.949874  \n",
       "\n",
       "[3083 rows x 3083 columns]"
      ]
     },
     "execution_count": 50,
     "metadata": {},
     "output_type": "execute_result"
    }
   ],
   "source": [
    "df_tr=pd.DataFrame(neighbors_k)\n",
    "df_tr"
   ]
  },
  {
   "cell_type": "code",
   "execution_count": 51,
   "metadata": {},
   "outputs": [],
   "source": [
    "similarity= neighbors_k"
   ]
  },
  {
   "cell_type": "code",
   "execution_count": 52,
   "metadata": {},
   "outputs": [],
   "source": [
    "Dmean=np.mean(similarity[1,:])"
   ]
  },
  {
   "cell_type": "code",
   "execution_count": 53,
   "metadata": {},
   "outputs": [
    {
     "data": {
      "text/plain": [
       "1.14"
      ]
     },
     "execution_count": 53,
     "metadata": {},
     "output_type": "execute_result"
    }
   ],
   "source": [
    "round(Dmean, 2)"
   ]
  },
  {
   "cell_type": "code",
   "execution_count": 54,
   "metadata": {},
   "outputs": [],
   "source": [
    "std=np.std(similarity[1,:])"
   ]
  },
  {
   "cell_type": "code",
   "execution_count": 55,
   "metadata": {},
   "outputs": [
    {
     "data": {
      "text/plain": [
       "1.27"
      ]
     },
     "execution_count": 55,
     "metadata": {},
     "output_type": "execute_result"
    }
   ],
   "source": [
    "round(std, 2)"
   ]
  },
  {
   "cell_type": "code",
   "execution_count": 56,
   "metadata": {},
   "outputs": [
    {
     "name": "stdout",
     "output_type": "stream",
     "text": [
      "1.77\n"
     ]
    }
   ],
   "source": [
    "model_AD_limit=Dmean+std*0.5\n",
    "print(np.round(model_AD_limit, 2))"
   ]
  },
  {
   "cell_type": "code",
   "execution_count": 57,
   "metadata": {},
   "outputs": [],
   "source": [
    "neighbors_k_ts= pairwise_distances(x_tr,Y=x_ts, n_jobs=-1)\n",
    "neighbors_k_ts.sort(0)"
   ]
  },
  {
   "cell_type": "code",
   "execution_count": 58,
   "metadata": {},
   "outputs": [
    {
     "data": {
      "text/html": [
       "<div>\n",
       "<style scoped>\n",
       "    .dataframe tbody tr th:only-of-type {\n",
       "        vertical-align: middle;\n",
       "    }\n",
       "\n",
       "    .dataframe tbody tr th {\n",
       "        vertical-align: top;\n",
       "    }\n",
       "\n",
       "    .dataframe thead th {\n",
       "        text-align: right;\n",
       "    }\n",
       "</style>\n",
       "<table border=\"1\" class=\"dataframe\">\n",
       "  <thead>\n",
       "    <tr style=\"text-align: right;\">\n",
       "      <th></th>\n",
       "      <th>0</th>\n",
       "      <th>1</th>\n",
       "      <th>2</th>\n",
       "      <th>3</th>\n",
       "      <th>4</th>\n",
       "      <th>5</th>\n",
       "      <th>6</th>\n",
       "      <th>7</th>\n",
       "      <th>8</th>\n",
       "      <th>9</th>\n",
       "      <th>...</th>\n",
       "      <th>761</th>\n",
       "      <th>762</th>\n",
       "      <th>763</th>\n",
       "      <th>764</th>\n",
       "      <th>765</th>\n",
       "      <th>766</th>\n",
       "      <th>767</th>\n",
       "      <th>768</th>\n",
       "      <th>769</th>\n",
       "      <th>770</th>\n",
       "    </tr>\n",
       "  </thead>\n",
       "  <tbody>\n",
       "    <tr>\n",
       "      <th>0</th>\n",
       "      <td>2.828427</td>\n",
       "      <td>2.000000</td>\n",
       "      <td>0.000000</td>\n",
       "      <td>2.000000</td>\n",
       "      <td>0.000000</td>\n",
       "      <td>0.000000</td>\n",
       "      <td>0.000000</td>\n",
       "      <td>0.000000</td>\n",
       "      <td>0.000000</td>\n",
       "      <td>0.000000</td>\n",
       "      <td>...</td>\n",
       "      <td>2.449490</td>\n",
       "      <td>2.645751</td>\n",
       "      <td>1.000000</td>\n",
       "      <td>0.000000</td>\n",
       "      <td>0.000000</td>\n",
       "      <td>3.316625</td>\n",
       "      <td>0.000000</td>\n",
       "      <td>3.605551</td>\n",
       "      <td>1.732051</td>\n",
       "      <td>0.000000</td>\n",
       "    </tr>\n",
       "    <tr>\n",
       "      <th>1</th>\n",
       "      <td>3.162278</td>\n",
       "      <td>2.000000</td>\n",
       "      <td>0.000000</td>\n",
       "      <td>2.449490</td>\n",
       "      <td>1.000000</td>\n",
       "      <td>1.414214</td>\n",
       "      <td>1.414214</td>\n",
       "      <td>0.000000</td>\n",
       "      <td>0.000000</td>\n",
       "      <td>0.000000</td>\n",
       "      <td>...</td>\n",
       "      <td>3.162278</td>\n",
       "      <td>2.645751</td>\n",
       "      <td>1.000000</td>\n",
       "      <td>0.000000</td>\n",
       "      <td>0.000000</td>\n",
       "      <td>3.464102</td>\n",
       "      <td>2.645751</td>\n",
       "      <td>3.741657</td>\n",
       "      <td>1.732051</td>\n",
       "      <td>0.000000</td>\n",
       "    </tr>\n",
       "    <tr>\n",
       "      <th>2</th>\n",
       "      <td>3.162278</td>\n",
       "      <td>2.000000</td>\n",
       "      <td>0.000000</td>\n",
       "      <td>2.449490</td>\n",
       "      <td>1.414214</td>\n",
       "      <td>3.000000</td>\n",
       "      <td>1.414214</td>\n",
       "      <td>0.000000</td>\n",
       "      <td>0.000000</td>\n",
       "      <td>0.000000</td>\n",
       "      <td>...</td>\n",
       "      <td>3.162278</td>\n",
       "      <td>2.645751</td>\n",
       "      <td>1.732051</td>\n",
       "      <td>1.414214</td>\n",
       "      <td>0.000000</td>\n",
       "      <td>3.464102</td>\n",
       "      <td>2.645751</td>\n",
       "      <td>3.872983</td>\n",
       "      <td>2.000000</td>\n",
       "      <td>1.000000</td>\n",
       "    </tr>\n",
       "    <tr>\n",
       "      <th>3</th>\n",
       "      <td>3.316625</td>\n",
       "      <td>2.000000</td>\n",
       "      <td>1.000000</td>\n",
       "      <td>2.645751</td>\n",
       "      <td>2.449490</td>\n",
       "      <td>3.000000</td>\n",
       "      <td>1.414214</td>\n",
       "      <td>0.000000</td>\n",
       "      <td>3.464102</td>\n",
       "      <td>1.414214</td>\n",
       "      <td>...</td>\n",
       "      <td>3.316625</td>\n",
       "      <td>2.645751</td>\n",
       "      <td>1.732051</td>\n",
       "      <td>1.414214</td>\n",
       "      <td>0.000000</td>\n",
       "      <td>3.464102</td>\n",
       "      <td>3.000000</td>\n",
       "      <td>4.000000</td>\n",
       "      <td>2.000000</td>\n",
       "      <td>1.000000</td>\n",
       "    </tr>\n",
       "    <tr>\n",
       "      <th>4</th>\n",
       "      <td>3.316625</td>\n",
       "      <td>2.000000</td>\n",
       "      <td>1.414214</td>\n",
       "      <td>2.645751</td>\n",
       "      <td>2.449490</td>\n",
       "      <td>3.162278</td>\n",
       "      <td>1.414214</td>\n",
       "      <td>0.000000</td>\n",
       "      <td>3.872983</td>\n",
       "      <td>1.414214</td>\n",
       "      <td>...</td>\n",
       "      <td>3.464102</td>\n",
       "      <td>3.000000</td>\n",
       "      <td>2.000000</td>\n",
       "      <td>1.414214</td>\n",
       "      <td>0.000000</td>\n",
       "      <td>3.464102</td>\n",
       "      <td>3.872983</td>\n",
       "      <td>4.000000</td>\n",
       "      <td>2.000000</td>\n",
       "      <td>1.414214</td>\n",
       "    </tr>\n",
       "    <tr>\n",
       "      <th>...</th>\n",
       "      <td>...</td>\n",
       "      <td>...</td>\n",
       "      <td>...</td>\n",
       "      <td>...</td>\n",
       "      <td>...</td>\n",
       "      <td>...</td>\n",
       "      <td>...</td>\n",
       "      <td>...</td>\n",
       "      <td>...</td>\n",
       "      <td>...</td>\n",
       "      <td>...</td>\n",
       "      <td>...</td>\n",
       "      <td>...</td>\n",
       "      <td>...</td>\n",
       "      <td>...</td>\n",
       "      <td>...</td>\n",
       "      <td>...</td>\n",
       "      <td>...</td>\n",
       "      <td>...</td>\n",
       "      <td>...</td>\n",
       "      <td>...</td>\n",
       "    </tr>\n",
       "    <tr>\n",
       "      <th>3078</th>\n",
       "      <td>10.099504</td>\n",
       "      <td>9.433981</td>\n",
       "      <td>9.380832</td>\n",
       "      <td>9.380832</td>\n",
       "      <td>9.273619</td>\n",
       "      <td>9.055386</td>\n",
       "      <td>9.219544</td>\n",
       "      <td>9.327379</td>\n",
       "      <td>9.539392</td>\n",
       "      <td>9.486833</td>\n",
       "      <td>...</td>\n",
       "      <td>8.888194</td>\n",
       "      <td>8.944272</td>\n",
       "      <td>9.165152</td>\n",
       "      <td>9.165152</td>\n",
       "      <td>9.380832</td>\n",
       "      <td>9.380832</td>\n",
       "      <td>8.602325</td>\n",
       "      <td>9.273619</td>\n",
       "      <td>9.165152</td>\n",
       "      <td>9.380832</td>\n",
       "    </tr>\n",
       "    <tr>\n",
       "      <th>3079</th>\n",
       "      <td>10.148891</td>\n",
       "      <td>9.486833</td>\n",
       "      <td>9.380832</td>\n",
       "      <td>9.380832</td>\n",
       "      <td>9.327379</td>\n",
       "      <td>9.165152</td>\n",
       "      <td>9.219544</td>\n",
       "      <td>9.380832</td>\n",
       "      <td>9.591663</td>\n",
       "      <td>9.486833</td>\n",
       "      <td>...</td>\n",
       "      <td>9.110434</td>\n",
       "      <td>8.944272</td>\n",
       "      <td>9.219544</td>\n",
       "      <td>9.165152</td>\n",
       "      <td>9.380832</td>\n",
       "      <td>9.433981</td>\n",
       "      <td>8.602325</td>\n",
       "      <td>9.273619</td>\n",
       "      <td>9.165152</td>\n",
       "      <td>9.380832</td>\n",
       "    </tr>\n",
       "    <tr>\n",
       "      <th>3080</th>\n",
       "      <td>10.246951</td>\n",
       "      <td>9.486833</td>\n",
       "      <td>9.433981</td>\n",
       "      <td>9.433981</td>\n",
       "      <td>9.380832</td>\n",
       "      <td>9.219544</td>\n",
       "      <td>9.273619</td>\n",
       "      <td>9.380832</td>\n",
       "      <td>9.591663</td>\n",
       "      <td>9.539392</td>\n",
       "      <td>...</td>\n",
       "      <td>9.110434</td>\n",
       "      <td>8.944272</td>\n",
       "      <td>9.219544</td>\n",
       "      <td>9.219544</td>\n",
       "      <td>9.433981</td>\n",
       "      <td>9.486833</td>\n",
       "      <td>8.602325</td>\n",
       "      <td>9.273619</td>\n",
       "      <td>9.165152</td>\n",
       "      <td>9.433981</td>\n",
       "    </tr>\n",
       "    <tr>\n",
       "      <th>3081</th>\n",
       "      <td>10.344080</td>\n",
       "      <td>9.695360</td>\n",
       "      <td>9.643651</td>\n",
       "      <td>9.486833</td>\n",
       "      <td>9.433981</td>\n",
       "      <td>9.219544</td>\n",
       "      <td>9.486833</td>\n",
       "      <td>9.433981</td>\n",
       "      <td>9.643651</td>\n",
       "      <td>9.746795</td>\n",
       "      <td>...</td>\n",
       "      <td>9.165152</td>\n",
       "      <td>9.000000</td>\n",
       "      <td>9.433981</td>\n",
       "      <td>9.273619</td>\n",
       "      <td>9.643651</td>\n",
       "      <td>9.539392</td>\n",
       "      <td>8.660254</td>\n",
       "      <td>9.327379</td>\n",
       "      <td>9.380832</td>\n",
       "      <td>9.643651</td>\n",
       "    </tr>\n",
       "    <tr>\n",
       "      <th>3082</th>\n",
       "      <td>10.488089</td>\n",
       "      <td>9.949874</td>\n",
       "      <td>10.099504</td>\n",
       "      <td>9.539392</td>\n",
       "      <td>9.746795</td>\n",
       "      <td>9.486833</td>\n",
       "      <td>10.049875</td>\n",
       "      <td>9.591663</td>\n",
       "      <td>9.848858</td>\n",
       "      <td>10.198039</td>\n",
       "      <td>...</td>\n",
       "      <td>9.695360</td>\n",
       "      <td>9.643651</td>\n",
       "      <td>9.591663</td>\n",
       "      <td>9.643651</td>\n",
       "      <td>9.899495</td>\n",
       "      <td>9.539392</td>\n",
       "      <td>8.660254</td>\n",
       "      <td>9.380832</td>\n",
       "      <td>9.643651</td>\n",
       "      <td>9.695360</td>\n",
       "    </tr>\n",
       "  </tbody>\n",
       "</table>\n",
       "<p>3083 rows × 771 columns</p>\n",
       "</div>"
      ],
      "text/plain": [
       "            0         1          2         3         4         5          6    \\\n",
       "0      2.828427  2.000000   0.000000  2.000000  0.000000  0.000000   0.000000   \n",
       "1      3.162278  2.000000   0.000000  2.449490  1.000000  1.414214   1.414214   \n",
       "2      3.162278  2.000000   0.000000  2.449490  1.414214  3.000000   1.414214   \n",
       "3      3.316625  2.000000   1.000000  2.645751  2.449490  3.000000   1.414214   \n",
       "4      3.316625  2.000000   1.414214  2.645751  2.449490  3.162278   1.414214   \n",
       "...         ...       ...        ...       ...       ...       ...        ...   \n",
       "3078  10.099504  9.433981   9.380832  9.380832  9.273619  9.055386   9.219544   \n",
       "3079  10.148891  9.486833   9.380832  9.380832  9.327379  9.165152   9.219544   \n",
       "3080  10.246951  9.486833   9.433981  9.433981  9.380832  9.219544   9.273619   \n",
       "3081  10.344080  9.695360   9.643651  9.486833  9.433981  9.219544   9.486833   \n",
       "3082  10.488089  9.949874  10.099504  9.539392  9.746795  9.486833  10.049875   \n",
       "\n",
       "           7         8          9    ...       761       762       763  \\\n",
       "0     0.000000  0.000000   0.000000  ...  2.449490  2.645751  1.000000   \n",
       "1     0.000000  0.000000   0.000000  ...  3.162278  2.645751  1.000000   \n",
       "2     0.000000  0.000000   0.000000  ...  3.162278  2.645751  1.732051   \n",
       "3     0.000000  3.464102   1.414214  ...  3.316625  2.645751  1.732051   \n",
       "4     0.000000  3.872983   1.414214  ...  3.464102  3.000000  2.000000   \n",
       "...        ...       ...        ...  ...       ...       ...       ...   \n",
       "3078  9.327379  9.539392   9.486833  ...  8.888194  8.944272  9.165152   \n",
       "3079  9.380832  9.591663   9.486833  ...  9.110434  8.944272  9.219544   \n",
       "3080  9.380832  9.591663   9.539392  ...  9.110434  8.944272  9.219544   \n",
       "3081  9.433981  9.643651   9.746795  ...  9.165152  9.000000  9.433981   \n",
       "3082  9.591663  9.848858  10.198039  ...  9.695360  9.643651  9.591663   \n",
       "\n",
       "           764       765       766       767       768       769       770  \n",
       "0     0.000000  0.000000  3.316625  0.000000  3.605551  1.732051  0.000000  \n",
       "1     0.000000  0.000000  3.464102  2.645751  3.741657  1.732051  0.000000  \n",
       "2     1.414214  0.000000  3.464102  2.645751  3.872983  2.000000  1.000000  \n",
       "3     1.414214  0.000000  3.464102  3.000000  4.000000  2.000000  1.000000  \n",
       "4     1.414214  0.000000  3.464102  3.872983  4.000000  2.000000  1.414214  \n",
       "...        ...       ...       ...       ...       ...       ...       ...  \n",
       "3078  9.165152  9.380832  9.380832  8.602325  9.273619  9.165152  9.380832  \n",
       "3079  9.165152  9.380832  9.433981  8.602325  9.273619  9.165152  9.380832  \n",
       "3080  9.219544  9.433981  9.486833  8.602325  9.273619  9.165152  9.433981  \n",
       "3081  9.273619  9.643651  9.539392  8.660254  9.327379  9.380832  9.643651  \n",
       "3082  9.643651  9.899495  9.539392  8.660254  9.380832  9.643651  9.695360  \n",
       "\n",
       "[3083 rows x 771 columns]"
      ]
     },
     "execution_count": 58,
     "metadata": {},
     "output_type": "execute_result"
    }
   ],
   "source": [
    "x_ts_AD=pd.DataFrame(neighbors_k_ts)\n",
    "x_ts_AD"
   ]
  },
  {
   "cell_type": "code",
   "execution_count": 59,
   "metadata": {},
   "outputs": [
    {
     "name": "stdout",
     "output_type": "stream",
     "text": [
      "[2.828 2.    0.    2.    0.    0.    0.    0.    0.    0.    0.    0.\n",
      " 1.732 1.732 1.    1.732 0.    0.    2.646 0.    2.449 1.    1.    0.\n",
      " 3.    0.    2.646 3.162 0.    1.732 0.    1.732 1.414 1.732 3.606 1.\n",
      " 0.    1.732 0.    1.732 1.    0.    0.    2.    1.    1.    2.236 0.\n",
      " 0.    1.    1.732 0.    3.606 1.    0.    0.    1.414 0.    1.414 0.\n",
      " 0.    1.    1.    2.236 1.414 2.449 2.449 0.    2.    1.732 5.    0.\n",
      " 0.    0.    0.    1.    0.    1.    1.414 0.    1.    0.    3.162 0.\n",
      " 2.828 2.236 1.414 0.    2.236 0.    2.    3.162 0.    0.    0.    2.\n",
      " 2.    3.317 1.414 2.449 1.    1.414 0.    2.236 2.236 2.449 0.    2.449\n",
      " 1.414 2.    1.414 3.    0.    2.646 0.    0.    0.    0.    1.    0.\n",
      " 0.    0.    1.414 3.606 3.317 0.    0.    0.    0.    1.414 2.828 0.\n",
      " 1.414 1.    2.449 2.646 4.69  0.    2.    0.    1.    1.    2.449 0.\n",
      " 3.162 0.    2.236 0.    2.    1.    0.    0.    3.464 1.732 1.732 2.828\n",
      " 2.449 2.    2.236 0.    0.    2.828 2.646 4.243 2.236 0.    3.317 1.\n",
      " 0.    0.    1.732 4.    1.    2.828 1.    2.449 1.    0.    0.    2.\n",
      " 1.414 0.    0.    0.    0.    0.    0.    3.742 1.    0.    3.    1.732\n",
      " 2.449 0.    3.742 0.    0.    1.732 0.    0.    2.    1.    1.732 0.\n",
      " 2.449 2.    0.    0.    0.    2.828 0.    2.449 0.    1.    1.    0.\n",
      " 2.449 0.    0.    0.    1.414 1.414 1.    0.    1.    4.123 0.    1.\n",
      " 1.    1.    0.    0.    0.    0.    0.    0.    1.732 0.    0.    1.414\n",
      " 1.    0.    1.    3.606 0.    0.    1.414 1.    1.    0.    1.732 1.732\n",
      " 0.    1.732 0.    0.    1.732 0.    2.449 1.    2.646 0.    1.    2.828\n",
      " 1.    0.    0.    0.    3.317 2.646 0.    3.317 1.732 1.732 2.449 1.732\n",
      " 1.414 1.    0.    2.646 3.162 2.449 0.    0.    1.732 2.646 0.    0.\n",
      " 0.    1.732 1.    1.732 1.732 0.    0.    0.    3.464 1.414 1.732 0.\n",
      " 1.732 1.    0.    0.    0.    0.    0.    4.    1.414 1.    0.    3.\n",
      " 2.    1.732 0.    2.    0.    0.    0.    0.    0.    0.    2.646 4.796\n",
      " 5.099 0.    3.317 3.162 5.099 1.    1.    0.    0.    2.449 1.414 0.\n",
      " 1.414 1.414 2.449 1.732 0.    3.162 0.    0.    1.732 1.414 0.    0.\n",
      " 0.    0.    1.414 2.    3.606 2.646 1.    0.    0.    1.    0.    0.\n",
      " 0.    3.162 1.414 0.    1.414 1.414 2.828 0.    1.732 0.    0.    1.732\n",
      " 0.    1.    0.    1.414 1.    1.    0.    0.    0.    4.    1.414 0.\n",
      " 0.    4.123 0.    0.    1.    1.    0.    0.    2.    1.414 1.    0.\n",
      " 4.123 0.    0.    1.414 0.    1.414 1.414 0.    2.828 0.    0.    0.\n",
      " 0.    0.    1.    0.    0.    0.    0.    1.414 1.    1.    0.    4.243\n",
      " 0.    2.236 1.732 0.    0.    1.732 0.    0.    0.    1.414 0.    3.742\n",
      " 0.    0.    5.196 0.    2.646 1.    0.    3.    0.    0.    2.    0.\n",
      " 1.732 1.    1.    1.732 0.    1.414 0.    0.    1.    1.732 1.    3.\n",
      " 0.    0.    2.449 0.    0.    3.742 1.    2.    0.    0.    0.    1.732\n",
      " 3.873 0.    1.    0.    0.    2.646 0.    1.    0.    0.    1.    0.\n",
      " 2.646 0.    0.    0.    0.    0.    0.    1.414 1.732 0.    0.    0.\n",
      " 0.    0.    0.    3.464 1.    0.    0.    1.414 4.472 1.414 0.    0.\n",
      " 0.    0.    0.    0.    0.    0.    0.    1.414 1.732 0.    1.    0.\n",
      " 0.    0.    2.236 0.    0.    1.414 1.732 2.    2.    3.317 0.    0.\n",
      " 0.    0.    1.414 1.414 0.    3.162 4.69  0.    0.    3.742 1.414 1.\n",
      " 0.    0.    1.732 0.    2.    1.    0.    0.    0.    0.    2.236 1.\n",
      " 0.    0.    1.732 0.    2.646 0.    1.414 2.    1.732 0.    0.    2.\n",
      " 0.    2.    0.    0.    3.162 4.583 2.449 1.    0.    3.317 1.414 2.828\n",
      " 0.    0.    2.646 1.    0.    1.    0.    0.    4.243 0.    0.    1.732\n",
      " 1.732 3.606 1.    3.162 1.    1.414 1.    1.    1.    1.732 0.    0.\n",
      " 0.    0.    3.317 0.    3.    0.    2.    1.    0.    0.    1.414 0.\n",
      " 3.162 0.    1.732 0.    0.    1.    0.    2.236 3.    1.414 2.828 1.\n",
      " 1.414 3.    2.449 0.    2.236 1.732 2.449 0.    0.    0.    1.732 3.\n",
      " 0.    3.    0.    1.414 0.    0.    0.    1.    0.    0.    0.    1.414\n",
      " 3.742 1.732 1.732 1.414 2.236 1.414 0.    0.    3.464 1.732 1.414 0.\n",
      " 0.    0.    1.732 1.414 0.    1.    1.732 0.    0.    0.    3.464 2.828\n",
      " 4.472 0.    0.    0.    1.    2.236 1.    1.414 1.    0.    3.162 1.\n",
      " 1.414 0.    1.732 0.    0.    1.    2.236 1.    4.899 0.    1.    0.\n",
      " 1.414 2.449 1.    0.    0.    0.    0.    0.    0.    1.414 1.414 0.\n",
      " 1.    1.    1.414 1.732 0.    1.732 3.606 1.732 2.    0.    1.732 0.\n",
      " 0.    1.414 0.    0.    3.742 1.    1.    1.732 0.    1.414 0.    0.\n",
      " 1.732 0.    1.    4.796 1.    0.    3.317 3.606 4.243 0.    0.    2.449\n",
      " 1.    0.    2.    0.    2.449 0.    0.    1.732 0.    3.    0.    0.\n",
      " 3.317 3.464 0.    1.    0.    2.449 2.646 1.    0.    0.    3.317 0.\n",
      " 3.606 1.732 0.   ]\n"
     ]
    }
   ],
   "source": [
    "similarity_ts= neighbors_k_ts\n",
    "cpd_AD=similarity_ts[0,:]\n",
    "cpd_value = np.round(cpd_AD, 3)\n",
    "print(cpd_value)"
   ]
  },
  {
   "cell_type": "code",
   "execution_count": 60,
   "metadata": {},
   "outputs": [
    {
     "name": "stdout",
     "output_type": "stream",
     "text": [
      "[False False  True False  True  True  True  True  True  True  True  True\n",
      "  True  True  True  True  True  True False  True False  True  True  True\n",
      " False  True False False  True  True  True  True  True  True False  True\n",
      "  True  True  True  True  True  True  True False  True  True False  True\n",
      "  True  True  True  True False  True  True  True  True  True  True  True\n",
      "  True  True  True False  True False False  True False  True False  True\n",
      "  True  True  True  True  True  True  True  True  True  True False  True\n",
      " False False  True  True False  True False False  True  True  True False\n",
      " False False  True False  True  True  True False False False  True False\n",
      "  True False  True False  True False  True  True  True  True  True  True\n",
      "  True  True  True False False  True  True  True  True  True False  True\n",
      "  True  True False False False  True False  True  True  True False  True\n",
      " False  True False  True False  True  True  True False  True  True False\n",
      " False False False  True  True False False False False  True False  True\n",
      "  True  True  True False  True False  True False  True  True  True False\n",
      "  True  True  True  True  True  True  True False  True  True False  True\n",
      " False  True False  True  True  True  True  True False  True  True  True\n",
      " False False  True  True  True False  True False  True  True  True  True\n",
      " False  True  True  True  True  True  True  True  True False  True  True\n",
      "  True  True  True  True  True  True  True  True  True  True  True  True\n",
      "  True  True  True False  True  True  True  True  True  True  True  True\n",
      "  True  True  True  True  True  True False  True False  True  True False\n",
      "  True  True  True  True False False  True False  True  True False  True\n",
      "  True  True  True False False False  True  True  True False  True  True\n",
      "  True  True  True  True  True  True  True  True False  True  True  True\n",
      "  True  True  True  True  True  True  True False  True  True  True False\n",
      " False  True  True False  True  True  True  True  True  True False False\n",
      " False  True False False False  True  True  True  True False  True  True\n",
      "  True  True False  True  True False  True  True  True  True  True  True\n",
      "  True  True  True False False False  True  True  True  True  True  True\n",
      "  True False  True  True  True  True False  True  True  True  True  True\n",
      "  True  True  True  True  True  True  True  True  True False  True  True\n",
      "  True False  True  True  True  True  True  True False  True  True  True\n",
      " False  True  True  True  True  True  True  True False  True  True  True\n",
      "  True  True  True  True  True  True  True  True  True  True  True False\n",
      "  True False  True  True  True  True  True  True  True  True  True False\n",
      "  True  True False  True False  True  True False  True  True False  True\n",
      "  True  True  True  True  True  True  True  True  True  True  True False\n",
      "  True  True False  True  True False  True False  True  True  True  True\n",
      " False  True  True  True  True False  True  True  True  True  True  True\n",
      " False  True  True  True  True  True  True  True  True  True  True  True\n",
      "  True  True  True False  True  True  True  True False  True  True  True\n",
      "  True  True  True  True  True  True  True  True  True  True  True  True\n",
      "  True  True False  True  True  True  True False False False  True  True\n",
      "  True  True  True  True  True False False  True  True False  True  True\n",
      "  True  True  True  True False  True  True  True  True  True False  True\n",
      "  True  True  True  True False  True  True False  True  True  True False\n",
      "  True False  True  True False False False  True  True False  True False\n",
      "  True  True False  True  True  True  True  True False  True  True  True\n",
      "  True False  True False  True  True  True  True  True  True  True  True\n",
      "  True  True False  True False  True False  True  True  True  True  True\n",
      " False  True  True  True  True  True  True False False  True False  True\n",
      "  True False False  True False  True False  True  True  True  True False\n",
      "  True False  True  True  True  True  True  True  True  True  True  True\n",
      " False  True  True  True False  True  True  True False  True  True  True\n",
      "  True  True  True  True  True  True  True  True  True  True False False\n",
      " False  True  True  True  True False  True  True  True  True False  True\n",
      "  True  True  True  True  True  True False  True False  True  True  True\n",
      "  True False  True  True  True  True  True  True  True  True  True  True\n",
      "  True  True  True  True  True  True False  True False  True  True  True\n",
      "  True  True  True  True False  True  True  True  True  True  True  True\n",
      "  True  True  True False  True  True False False False  True  True False\n",
      "  True  True False  True False  True  True  True  True False  True  True\n",
      " False False  True  True  True False False  True  True  True False  True\n",
      " False  True  True]\n"
     ]
    }
   ],
   "source": [
    "cpd_AD = np.where(cpd_value <= model_AD_limit, True, False)\n",
    "print(cpd_AD)"
   ]
  },
  {
   "cell_type": "code",
   "execution_count": 61,
   "metadata": {},
   "outputs": [
    {
     "name": "stdout",
     "output_type": "stream",
     "text": [
      "Coverage =  0.76\n"
     ]
    }
   ],
   "source": [
    "print(\"Coverage = \", round(sum(cpd_AD) / len(cpd_AD), 2))"
   ]
  },
  {
   "cell_type": "code",
   "execution_count": 62,
   "metadata": {},
   "outputs": [
    {
     "name": "stdout",
     "output_type": "stream",
     "text": [
      "Indices of substances included in AD =  [  2   4   5   6   7   8   9  10  11  12  13  14  15  16  17  19  21  22\n",
      "  23  25  28  29  30  31  32  33  35  36  37  38  39  40  41  42  44  45\n",
      "  47  48  49  50  51  53  54  55  56  57  58  59  60  61  62  64  67  69\n",
      "  71  72  73  74  75  76  77  78  79  80  81  83  86  87  89  92  93  94\n",
      "  98 100 101 102 106 108 110 112 114 115 116 117 118 119 120 121 122 125\n",
      " 126 127 128 129 131 132 133 137 139 140 141 143 145 147 149 150 151 153\n",
      " 154 159 160 165 167 168 169 170 172 174 176 177 178 180 181 182 183 184\n",
      " 185 186 188 189 191 193 195 196 197 198 199 201 202 203 206 207 208 210\n",
      " 212 213 214 215 217 218 219 220 221 222 223 224 226 227 228 229 230 231\n",
      " 232 233 234 235 236 237 238 239 240 241 242 244 245 246 247 248 249 250\n",
      " 251 252 253 254 255 256 257 259 261 262 264 265 266 267 270 272 273 275\n",
      " 276 277 278 282 283 284 286 287 288 289 290 291 292 293 294 295 297 298\n",
      " 299 300 301 302 303 304 305 306 308 309 310 313 314 316 317 318 319 320\n",
      " 321 325 329 330 331 332 334 335 336 337 339 340 342 343 344 345 346 347\n",
      " 348 349 350 354 355 356 357 358 359 360 362 363 364 365 367 368 369 370\n",
      " 371 372 373 374 375 376 377 378 379 380 382 383 384 386 387 388 389 390\n",
      " 391 393 394 395 397 398 399 400 401 402 403 405 406 407 408 409 410 411\n",
      " 412 413 414 415 416 417 418 420 422 423 424 425 426 427 428 429 430 432\n",
      " 433 435 437 438 440 441 443 444 445 446 447 448 449 450 451 452 453 454\n",
      " 456 457 459 460 462 464 465 466 467 469 470 471 472 474 475 476 477 478\n",
      " 479 481 482 483 484 485 486 487 488 489 490 491 492 493 494 496 497 498\n",
      " 499 501 502 503 504 505 506 507 508 509 510 511 512 513 514 515 516 517\n",
      " 519 520 521 522 526 527 528 529 530 531 532 535 536 538 539 540 541 542\n",
      " 543 545 546 547 548 549 551 552 553 554 555 557 558 560 561 562 564 566\n",
      " 567 571 572 574 576 577 579 580 581 582 583 585 586 587 588 590 592 593\n",
      " 594 595 596 597 598 599 600 601 603 605 607 608 609 610 611 613 614 615\n",
      " 616 617 618 621 623 624 627 629 631 632 633 634 636 638 639 640 641 642\n",
      " 643 644 645 646 647 649 650 651 653 654 655 657 658 659 660 661 662 663\n",
      " 664 665 666 667 668 669 673 674 675 676 678 679 680 681 683 684 685 686\n",
      " 687 688 689 691 693 694 695 696 698 699 700 701 702 703 704 705 706 707\n",
      " 708 709 710 711 712 713 715 717 718 719 720 721 722 723 725 726 727 728\n",
      " 729 730 731 732 733 734 736 737 741 742 744 745 747 749 750 751 752 754\n",
      " 755 758 759 760 763 764 765 767 769 770]\n"
     ]
    }
   ],
   "source": [
    "print(\"Indices of substances included in AD = \", np.where(cpd_AD != 0)[0])"
   ]
  },
  {
   "cell_type": "code",
   "execution_count": 63,
   "metadata": {},
   "outputs": [],
   "source": [
    "out_Ad=list(np.where(cpd_AD == 0)[0])"
   ]
  },
  {
   "cell_type": "markdown",
   "metadata": {},
   "source": [
    "# 12. Prediction only for molecules included in  AD"
   ]
  },
  {
   "cell_type": "code",
   "execution_count": 64,
   "metadata": {},
   "outputs": [],
   "source": [
    "y_pred_GBR_ad=list(y_pred_GBR)"
   ]
  },
  {
   "cell_type": "code",
   "execution_count": 65,
   "metadata": {},
   "outputs": [],
   "source": [
    "y_pred_GBR_ad[:] = [x for i,x in enumerate(y_pred_GBR_ad) if i not in out_Ad]"
   ]
  },
  {
   "cell_type": "code",
   "execution_count": 66,
   "metadata": {},
   "outputs": [
    {
     "data": {
      "text/plain": [
       "586"
      ]
     },
     "execution_count": 66,
     "metadata": {},
     "output_type": "execute_result"
    }
   ],
   "source": [
    "len(y_pred_GBR_ad)"
   ]
  },
  {
   "cell_type": "code",
   "execution_count": 67,
   "metadata": {},
   "outputs": [],
   "source": [
    "y_ts_ad=list(y_ts)"
   ]
  },
  {
   "cell_type": "code",
   "execution_count": 68,
   "metadata": {},
   "outputs": [],
   "source": [
    "y_ts_ad[:] = [x for i,x in enumerate(y_ts_ad) if i not in out_Ad]"
   ]
  },
  {
   "cell_type": "code",
   "execution_count": 69,
   "metadata": {},
   "outputs": [
    {
     "data": {
      "text/plain": [
       "586"
      ]
     },
     "execution_count": 69,
     "metadata": {},
     "output_type": "execute_result"
    }
   ],
   "source": [
    "len(y_ts_ad)"
   ]
  },
  {
   "cell_type": "code",
   "execution_count": 70,
   "metadata": {},
   "outputs": [
    {
     "data": {
      "text/plain": [
       "0.62"
      ]
     },
     "execution_count": 70,
     "metadata": {},
     "output_type": "execute_result"
    }
   ],
   "source": [
    "Q2_TS = round(r2_score(y_ts_ad, y_pred_GBR_ad), 2)\n",
    "Q2_TS"
   ]
  },
  {
   "cell_type": "code",
   "execution_count": 71,
   "metadata": {},
   "outputs": [
    {
     "data": {
      "text/plain": [
       "0.71"
      ]
     },
     "execution_count": 71,
     "metadata": {},
     "output_type": "execute_result"
    }
   ],
   "source": [
    "RMSE_TS=round(np.sqrt(mean_absolute_error(y_ts_ad, y_pred_GBR_ad)), 2)\n",
    "RMSE_TS"
   ]
  },
  {
   "cell_type": "markdown",
   "metadata": {},
   "source": [
    "# SVM model building and validation"
   ]
  },
  {
   "cell_type": "code",
   "execution_count": 72,
   "metadata": {},
   "outputs": [],
   "source": [
    "param_grid = {\"C\": [10 ** i for i in range(0, 5)],\n",
    "              \"gamma\": [10 ** i for i in range(-6, 0)]}"
   ]
  },
  {
   "cell_type": "code",
   "execution_count": 73,
   "metadata": {},
   "outputs": [],
   "source": [
    "seed = 42\n",
    "cv=KFold(n_splits=5, random_state=seed, shuffle=True)"
   ]
  },
  {
   "cell_type": "code",
   "execution_count": 74,
   "metadata": {},
   "outputs": [],
   "source": [
    "svm = GridSearchCV(SVR(C=1.0, epsilon=0.2), param_grid, n_jobs=-1, cv=cv, verbose=1)"
   ]
  },
  {
   "cell_type": "code",
   "execution_count": 75,
   "metadata": {},
   "outputs": [
    {
     "name": "stdout",
     "output_type": "stream",
     "text": [
      "Fitting 5 folds for each of 30 candidates, totalling 150 fits\n"
     ]
    },
    {
     "data": {
      "text/html": [
       "<style>#sk-container-id-2 {color: black;}#sk-container-id-2 pre{padding: 0;}#sk-container-id-2 div.sk-toggleable {background-color: white;}#sk-container-id-2 label.sk-toggleable__label {cursor: pointer;display: block;width: 100%;margin-bottom: 0;padding: 0.3em;box-sizing: border-box;text-align: center;}#sk-container-id-2 label.sk-toggleable__label-arrow:before {content: \"▸\";float: left;margin-right: 0.25em;color: #696969;}#sk-container-id-2 label.sk-toggleable__label-arrow:hover:before {color: black;}#sk-container-id-2 div.sk-estimator:hover label.sk-toggleable__label-arrow:before {color: black;}#sk-container-id-2 div.sk-toggleable__content {max-height: 0;max-width: 0;overflow: hidden;text-align: left;background-color: #f0f8ff;}#sk-container-id-2 div.sk-toggleable__content pre {margin: 0.2em;color: black;border-radius: 0.25em;background-color: #f0f8ff;}#sk-container-id-2 input.sk-toggleable__control:checked~div.sk-toggleable__content {max-height: 200px;max-width: 100%;overflow: auto;}#sk-container-id-2 input.sk-toggleable__control:checked~label.sk-toggleable__label-arrow:before {content: \"▾\";}#sk-container-id-2 div.sk-estimator input.sk-toggleable__control:checked~label.sk-toggleable__label {background-color: #d4ebff;}#sk-container-id-2 div.sk-label input.sk-toggleable__control:checked~label.sk-toggleable__label {background-color: #d4ebff;}#sk-container-id-2 input.sk-hidden--visually {border: 0;clip: rect(1px 1px 1px 1px);clip: rect(1px, 1px, 1px, 1px);height: 1px;margin: -1px;overflow: hidden;padding: 0;position: absolute;width: 1px;}#sk-container-id-2 div.sk-estimator {font-family: monospace;background-color: #f0f8ff;border: 1px dotted black;border-radius: 0.25em;box-sizing: border-box;margin-bottom: 0.5em;}#sk-container-id-2 div.sk-estimator:hover {background-color: #d4ebff;}#sk-container-id-2 div.sk-parallel-item::after {content: \"\";width: 100%;border-bottom: 1px solid gray;flex-grow: 1;}#sk-container-id-2 div.sk-label:hover label.sk-toggleable__label {background-color: #d4ebff;}#sk-container-id-2 div.sk-serial::before {content: \"\";position: absolute;border-left: 1px solid gray;box-sizing: border-box;top: 0;bottom: 0;left: 50%;z-index: 0;}#sk-container-id-2 div.sk-serial {display: flex;flex-direction: column;align-items: center;background-color: white;padding-right: 0.2em;padding-left: 0.2em;position: relative;}#sk-container-id-2 div.sk-item {position: relative;z-index: 1;}#sk-container-id-2 div.sk-parallel {display: flex;align-items: stretch;justify-content: center;background-color: white;position: relative;}#sk-container-id-2 div.sk-item::before, #sk-container-id-2 div.sk-parallel-item::before {content: \"\";position: absolute;border-left: 1px solid gray;box-sizing: border-box;top: 0;bottom: 0;left: 50%;z-index: -1;}#sk-container-id-2 div.sk-parallel-item {display: flex;flex-direction: column;z-index: 1;position: relative;background-color: white;}#sk-container-id-2 div.sk-parallel-item:first-child::after {align-self: flex-end;width: 50%;}#sk-container-id-2 div.sk-parallel-item:last-child::after {align-self: flex-start;width: 50%;}#sk-container-id-2 div.sk-parallel-item:only-child::after {width: 0;}#sk-container-id-2 div.sk-dashed-wrapped {border: 1px dashed gray;margin: 0 0.4em 0.5em 0.4em;box-sizing: border-box;padding-bottom: 0.4em;background-color: white;}#sk-container-id-2 div.sk-label label {font-family: monospace;font-weight: bold;display: inline-block;line-height: 1.2em;}#sk-container-id-2 div.sk-label-container {text-align: center;}#sk-container-id-2 div.sk-container {/* jupyter's `normalize.less` sets `[hidden] { display: none; }` but bootstrap.min.css set `[hidden] { display: none !important; }` so we also need the `!important` here to be able to override the default hidden behavior on the sphinx rendered scikit-learn.org. See: https://github.com/scikit-learn/scikit-learn/issues/21755 */display: inline-block !important;position: relative;}#sk-container-id-2 div.sk-text-repr-fallback {display: none;}</style><div id=\"sk-container-id-2\" class=\"sk-top-container\"><div class=\"sk-text-repr-fallback\"><pre>GridSearchCV(cv=KFold(n_splits=5, random_state=42, shuffle=True),\n",
       "             estimator=SVR(epsilon=0.2), n_jobs=-1,\n",
       "             param_grid={&#x27;C&#x27;: [1, 10, 100, 1000, 10000],\n",
       "                         &#x27;gamma&#x27;: [1e-06, 1e-05, 0.0001, 0.001, 0.01, 0.1]},\n",
       "             verbose=1)</pre><b>In a Jupyter environment, please rerun this cell to show the HTML representation or trust the notebook. <br />On GitHub, the HTML representation is unable to render, please try loading this page with nbviewer.org.</b></div><div class=\"sk-container\" hidden><div class=\"sk-item sk-dashed-wrapped\"><div class=\"sk-label-container\"><div class=\"sk-label sk-toggleable\"><input class=\"sk-toggleable__control sk-hidden--visually\" id=\"sk-estimator-id-4\" type=\"checkbox\" ><label for=\"sk-estimator-id-4\" class=\"sk-toggleable__label sk-toggleable__label-arrow\">GridSearchCV</label><div class=\"sk-toggleable__content\"><pre>GridSearchCV(cv=KFold(n_splits=5, random_state=42, shuffle=True),\n",
       "             estimator=SVR(epsilon=0.2), n_jobs=-1,\n",
       "             param_grid={&#x27;C&#x27;: [1, 10, 100, 1000, 10000],\n",
       "                         &#x27;gamma&#x27;: [1e-06, 1e-05, 0.0001, 0.001, 0.01, 0.1]},\n",
       "             verbose=1)</pre></div></div></div><div class=\"sk-parallel\"><div class=\"sk-parallel-item\"><div class=\"sk-item\"><div class=\"sk-label-container\"><div class=\"sk-label sk-toggleable\"><input class=\"sk-toggleable__control sk-hidden--visually\" id=\"sk-estimator-id-5\" type=\"checkbox\" ><label for=\"sk-estimator-id-5\" class=\"sk-toggleable__label sk-toggleable__label-arrow\">estimator: SVR</label><div class=\"sk-toggleable__content\"><pre>SVR(epsilon=0.2)</pre></div></div></div><div class=\"sk-serial\"><div class=\"sk-item\"><div class=\"sk-estimator sk-toggleable\"><input class=\"sk-toggleable__control sk-hidden--visually\" id=\"sk-estimator-id-6\" type=\"checkbox\" ><label for=\"sk-estimator-id-6\" class=\"sk-toggleable__label sk-toggleable__label-arrow\">SVR</label><div class=\"sk-toggleable__content\"><pre>SVR(epsilon=0.2)</pre></div></div></div></div></div></div></div></div></div></div>"
      ],
      "text/plain": [
       "GridSearchCV(cv=KFold(n_splits=5, random_state=42, shuffle=True),\n",
       "             estimator=SVR(epsilon=0.2), n_jobs=-1,\n",
       "             param_grid={'C': [1, 10, 100, 1000, 10000],\n",
       "                         'gamma': [1e-06, 1e-05, 0.0001, 0.001, 0.01, 0.1]},\n",
       "             verbose=1)"
      ]
     },
     "execution_count": 75,
     "metadata": {},
     "output_type": "execute_result"
    }
   ],
   "source": [
    "svm.fit(x_tr, y_tr)"
   ]
  },
  {
   "cell_type": "code",
   "execution_count": 76,
   "metadata": {},
   "outputs": [],
   "source": [
    "svm.best_params_\n",
    "best_svm = svm.best_estimator_"
   ]
  },
  {
   "cell_type": "code",
   "execution_count": 77,
   "metadata": {},
   "outputs": [
    {
     "data": {
      "text/plain": [
       "{'C': 1, 'gamma': 0.1}"
      ]
     },
     "execution_count": 77,
     "metadata": {},
     "output_type": "execute_result"
    }
   ],
   "source": [
    "svm.best_params_"
   ]
  },
  {
   "cell_type": "code",
   "execution_count": 78,
   "metadata": {},
   "outputs": [],
   "source": [
    "y_pred_ws_svm = best_svm.predict(x_tr)"
   ]
  },
  {
   "cell_type": "code",
   "execution_count": 79,
   "metadata": {},
   "outputs": [
    {
     "data": {
      "text/plain": [
       "0.74"
      ]
     },
     "execution_count": 79,
     "metadata": {},
     "output_type": "execute_result"
    }
   ],
   "source": [
    "R2_WS = round(r2_score(y_tr, y_pred_ws_svm), 2)\n",
    "R2_WS"
   ]
  },
  {
   "cell_type": "code",
   "execution_count": 80,
   "metadata": {},
   "outputs": [
    {
     "data": {
      "text/plain": [
       "0.63"
      ]
     },
     "execution_count": 80,
     "metadata": {},
     "output_type": "execute_result"
    }
   ],
   "source": [
    "RMSE_WS=round(np.sqrt(mean_absolute_error(y_tr, y_pred_ws_svm)), 2)\n",
    "RMSE_WS"
   ]
  },
  {
   "cell_type": "code",
   "execution_count": 81,
   "metadata": {},
   "outputs": [],
   "source": [
    "y_pred_CV_svm = cross_val_predict(best_svm, x_tr, y_tr, cv=cv)"
   ]
  },
  {
   "cell_type": "code",
   "execution_count": 82,
   "metadata": {},
   "outputs": [
    {
     "data": {
      "text/plain": [
       "0.5"
      ]
     },
     "execution_count": 82,
     "metadata": {},
     "output_type": "execute_result"
    }
   ],
   "source": [
    "Q2_CV = round(r2_score(y_tr, y_pred_CV_svm), 2)\n",
    "Q2_CV"
   ]
  },
  {
   "cell_type": "code",
   "execution_count": 83,
   "metadata": {},
   "outputs": [
    {
     "data": {
      "text/plain": [
       "0.77"
      ]
     },
     "execution_count": 83,
     "metadata": {},
     "output_type": "execute_result"
    }
   ],
   "source": [
    "RMSE_CV=round(np.sqrt(mean_absolute_error(y_tr, y_pred_CV_svm)), 2)\n",
    "RMSE_CV"
   ]
  },
  {
   "cell_type": "markdown",
   "metadata": {},
   "source": [
    "# 9. Prediction for test set's molecules"
   ]
  },
  {
   "cell_type": "code",
   "execution_count": 84,
   "metadata": {},
   "outputs": [],
   "source": [
    "x_ts = np.array(x_ts, dtype=np.float32)\n",
    "y_ts = np.array(y_ts, dtype=np.float32)"
   ]
  },
  {
   "cell_type": "code",
   "execution_count": 85,
   "metadata": {},
   "outputs": [],
   "source": [
    "y_pred_svm = best_svm.predict(x_ts)"
   ]
  },
  {
   "cell_type": "code",
   "execution_count": 86,
   "metadata": {},
   "outputs": [
    {
     "data": {
      "text/plain": [
       "0.53"
      ]
     },
     "execution_count": 86,
     "metadata": {},
     "output_type": "execute_result"
    }
   ],
   "source": [
    "Q2_TS = round(r2_score(y_ts, y_pred_svm), 2)\n",
    "Q2_TS"
   ]
  },
  {
   "cell_type": "code",
   "execution_count": 87,
   "metadata": {},
   "outputs": [
    {
     "data": {
      "text/plain": [
       "0.76"
      ]
     },
     "execution_count": 87,
     "metadata": {},
     "output_type": "execute_result"
    }
   ],
   "source": [
    "RMSE_TS=round(np.sqrt(mean_absolute_error(y_ts, y_pred_svm)), 2)\n",
    "RMSE_TS"
   ]
  },
  {
   "cell_type": "markdown",
   "metadata": {},
   "source": [
    "save the model to disk"
   ]
  },
  {
   "cell_type": "code",
   "execution_count": 88,
   "metadata": {},
   "outputs": [],
   "source": [
    "pickle.dump(best_svm, open('Models/Padels/HDAC6_SVM_AtomPairs2D.pkl', 'wb'))"
   ]
  },
  {
   "cell_type": "markdown",
   "metadata": {},
   "source": [
    "load the model from disk"
   ]
  },
  {
   "cell_type": "code",
   "execution_count": 31,
   "metadata": {},
   "outputs": [],
   "source": [
    "best_svm = pickle.load(open('Models/Padels/HDAC6_SVM_AtomPairs2D.pkl', 'rb'))"
   ]
  },
  {
   "cell_type": "markdown",
   "metadata": {},
   "source": [
    "# 10. Y-randomization SVM model"
   ]
  },
  {
   "cell_type": "code",
   "execution_count": 89,
   "metadata": {},
   "outputs": [
    {
     "name": "stderr",
     "output_type": "stream",
     "text": [
      "[Parallel(n_jobs=-1)]: Using backend LokyBackend with 16 concurrent workers.\n",
      "[Parallel(n_jobs=-1)]: Done  18 tasks      | elapsed:  4.6min\n"
     ]
    },
    {
     "name": "stdout",
     "output_type": "stream",
     "text": [
      "True score =  0.498 \n",
      "Y-randomization =  -0.1 \n",
      "p-value =  0.0196\n"
     ]
    },
    {
     "name": "stderr",
     "output_type": "stream",
     "text": [
      "[Parallel(n_jobs=-1)]: Done  50 out of  50 | elapsed:  7.7min finished\n"
     ]
    }
   ],
   "source": [
    "permutations = 50\n",
    "score, permutation_scores, pvalue = permutation_test_score(best_svm, x_tr, y_tr,\n",
    "                                                           cv=cv, scoring='r2',\n",
    "                                                           n_permutations=permutations,\n",
    "                                                           n_jobs=-1,\n",
    "                                                           verbose=1,\n",
    "                                                           random_state=seed)\n",
    "print('True score = ', score.round(3),\n",
    "      '\\nY-randomization = ', np.mean(permutation_scores).round(2),\n",
    "      '\\np-value = ', pvalue.round(4))"
   ]
  },
  {
   "cell_type": "markdown",
   "metadata": {},
   "source": [
    "# 11. Estimating applicability domain. Method - Euclidian distances, K=1"
   ]
  },
  {
   "cell_type": "code",
   "execution_count": 90,
   "metadata": {},
   "outputs": [],
   "source": [
    "neighbors_k= pairwise_distances(x_tr, n_jobs=-1)\n",
    "neighbors_k.sort(0)"
   ]
  },
  {
   "cell_type": "code",
   "execution_count": 91,
   "metadata": {},
   "outputs": [
    {
     "data": {
      "text/html": [
       "<div>\n",
       "<style scoped>\n",
       "    .dataframe tbody tr th:only-of-type {\n",
       "        vertical-align: middle;\n",
       "    }\n",
       "\n",
       "    .dataframe tbody tr th {\n",
       "        vertical-align: top;\n",
       "    }\n",
       "\n",
       "    .dataframe thead th {\n",
       "        text-align: right;\n",
       "    }\n",
       "</style>\n",
       "<table border=\"1\" class=\"dataframe\">\n",
       "  <thead>\n",
       "    <tr style=\"text-align: right;\">\n",
       "      <th></th>\n",
       "      <th>0</th>\n",
       "      <th>1</th>\n",
       "      <th>2</th>\n",
       "      <th>3</th>\n",
       "      <th>4</th>\n",
       "      <th>5</th>\n",
       "      <th>6</th>\n",
       "      <th>7</th>\n",
       "      <th>8</th>\n",
       "      <th>9</th>\n",
       "      <th>...</th>\n",
       "      <th>3073</th>\n",
       "      <th>3074</th>\n",
       "      <th>3075</th>\n",
       "      <th>3076</th>\n",
       "      <th>3077</th>\n",
       "      <th>3078</th>\n",
       "      <th>3079</th>\n",
       "      <th>3080</th>\n",
       "      <th>3081</th>\n",
       "      <th>3082</th>\n",
       "    </tr>\n",
       "  </thead>\n",
       "  <tbody>\n",
       "    <tr>\n",
       "      <th>0</th>\n",
       "      <td>0.000000</td>\n",
       "      <td>0.000000</td>\n",
       "      <td>0.000000</td>\n",
       "      <td>0.000000</td>\n",
       "      <td>0.000000</td>\n",
       "      <td>0.000000</td>\n",
       "      <td>0.000000</td>\n",
       "      <td>0.000000</td>\n",
       "      <td>0.000000</td>\n",
       "      <td>0.000000</td>\n",
       "      <td>...</td>\n",
       "      <td>0.000000</td>\n",
       "      <td>0.000000</td>\n",
       "      <td>0.000000</td>\n",
       "      <td>0.000000</td>\n",
       "      <td>0.000000</td>\n",
       "      <td>0.000000</td>\n",
       "      <td>0.000000</td>\n",
       "      <td>0.000000</td>\n",
       "      <td>0.000000</td>\n",
       "      <td>0.000000</td>\n",
       "    </tr>\n",
       "    <tr>\n",
       "      <th>1</th>\n",
       "      <td>2.000000</td>\n",
       "      <td>4.000000</td>\n",
       "      <td>2.449490</td>\n",
       "      <td>0.000000</td>\n",
       "      <td>3.316625</td>\n",
       "      <td>0.000000</td>\n",
       "      <td>3.000000</td>\n",
       "      <td>1.732051</td>\n",
       "      <td>1.414214</td>\n",
       "      <td>3.872983</td>\n",
       "      <td>...</td>\n",
       "      <td>1.414214</td>\n",
       "      <td>2.645751</td>\n",
       "      <td>1.414214</td>\n",
       "      <td>1.000000</td>\n",
       "      <td>0.000000</td>\n",
       "      <td>0.000000</td>\n",
       "      <td>0.000000</td>\n",
       "      <td>2.449490</td>\n",
       "      <td>1.000000</td>\n",
       "      <td>1.414214</td>\n",
       "    </tr>\n",
       "    <tr>\n",
       "      <th>2</th>\n",
       "      <td>2.828427</td>\n",
       "      <td>4.123106</td>\n",
       "      <td>2.449490</td>\n",
       "      <td>0.000000</td>\n",
       "      <td>3.872983</td>\n",
       "      <td>3.000000</td>\n",
       "      <td>3.162278</td>\n",
       "      <td>1.732051</td>\n",
       "      <td>2.645751</td>\n",
       "      <td>4.358899</td>\n",
       "      <td>...</td>\n",
       "      <td>1.414214</td>\n",
       "      <td>2.645751</td>\n",
       "      <td>1.732051</td>\n",
       "      <td>1.000000</td>\n",
       "      <td>0.000000</td>\n",
       "      <td>2.000000</td>\n",
       "      <td>1.000000</td>\n",
       "      <td>2.645751</td>\n",
       "      <td>1.732051</td>\n",
       "      <td>1.414214</td>\n",
       "    </tr>\n",
       "    <tr>\n",
       "      <th>3</th>\n",
       "      <td>3.000000</td>\n",
       "      <td>4.123106</td>\n",
       "      <td>2.645751</td>\n",
       "      <td>0.000000</td>\n",
       "      <td>4.000000</td>\n",
       "      <td>3.000000</td>\n",
       "      <td>3.162278</td>\n",
       "      <td>1.732051</td>\n",
       "      <td>2.828427</td>\n",
       "      <td>4.690416</td>\n",
       "      <td>...</td>\n",
       "      <td>1.732051</td>\n",
       "      <td>3.000000</td>\n",
       "      <td>2.000000</td>\n",
       "      <td>1.000000</td>\n",
       "      <td>0.000000</td>\n",
       "      <td>2.645751</td>\n",
       "      <td>1.000000</td>\n",
       "      <td>2.645751</td>\n",
       "      <td>1.732051</td>\n",
       "      <td>1.414214</td>\n",
       "    </tr>\n",
       "    <tr>\n",
       "      <th>4</th>\n",
       "      <td>3.000000</td>\n",
       "      <td>4.123106</td>\n",
       "      <td>2.645751</td>\n",
       "      <td>0.000000</td>\n",
       "      <td>4.000000</td>\n",
       "      <td>3.000000</td>\n",
       "      <td>3.162278</td>\n",
       "      <td>2.000000</td>\n",
       "      <td>2.828427</td>\n",
       "      <td>4.690416</td>\n",
       "      <td>...</td>\n",
       "      <td>2.000000</td>\n",
       "      <td>3.872983</td>\n",
       "      <td>2.000000</td>\n",
       "      <td>1.000000</td>\n",
       "      <td>0.000000</td>\n",
       "      <td>3.464102</td>\n",
       "      <td>1.414214</td>\n",
       "      <td>2.828427</td>\n",
       "      <td>1.732051</td>\n",
       "      <td>1.414214</td>\n",
       "    </tr>\n",
       "    <tr>\n",
       "      <th>...</th>\n",
       "      <td>...</td>\n",
       "      <td>...</td>\n",
       "      <td>...</td>\n",
       "      <td>...</td>\n",
       "      <td>...</td>\n",
       "      <td>...</td>\n",
       "      <td>...</td>\n",
       "      <td>...</td>\n",
       "      <td>...</td>\n",
       "      <td>...</td>\n",
       "      <td>...</td>\n",
       "      <td>...</td>\n",
       "      <td>...</td>\n",
       "      <td>...</td>\n",
       "      <td>...</td>\n",
       "      <td>...</td>\n",
       "      <td>...</td>\n",
       "      <td>...</td>\n",
       "      <td>...</td>\n",
       "      <td>...</td>\n",
       "      <td>...</td>\n",
       "    </tr>\n",
       "    <tr>\n",
       "      <th>3078</th>\n",
       "      <td>9.539392</td>\n",
       "      <td>9.486833</td>\n",
       "      <td>9.380832</td>\n",
       "      <td>9.643651</td>\n",
       "      <td>10.583005</td>\n",
       "      <td>9.486833</td>\n",
       "      <td>9.643651</td>\n",
       "      <td>9.433981</td>\n",
       "      <td>8.944272</td>\n",
       "      <td>10.198039</td>\n",
       "      <td>...</td>\n",
       "      <td>9.273619</td>\n",
       "      <td>8.602325</td>\n",
       "      <td>9.110434</td>\n",
       "      <td>9.327379</td>\n",
       "      <td>9.273619</td>\n",
       "      <td>8.717798</td>\n",
       "      <td>9.380832</td>\n",
       "      <td>8.831760</td>\n",
       "      <td>9.433981</td>\n",
       "      <td>9.327379</td>\n",
       "    </tr>\n",
       "    <tr>\n",
       "      <th>3079</th>\n",
       "      <td>9.591663</td>\n",
       "      <td>9.539392</td>\n",
       "      <td>9.433981</td>\n",
       "      <td>9.695360</td>\n",
       "      <td>10.630146</td>\n",
       "      <td>9.486833</td>\n",
       "      <td>9.695360</td>\n",
       "      <td>9.433981</td>\n",
       "      <td>9.110434</td>\n",
       "      <td>10.198039</td>\n",
       "      <td>...</td>\n",
       "      <td>9.273619</td>\n",
       "      <td>8.602325</td>\n",
       "      <td>9.110434</td>\n",
       "      <td>9.327379</td>\n",
       "      <td>9.273619</td>\n",
       "      <td>8.717798</td>\n",
       "      <td>9.380832</td>\n",
       "      <td>8.888194</td>\n",
       "      <td>9.433981</td>\n",
       "      <td>9.327379</td>\n",
       "    </tr>\n",
       "    <tr>\n",
       "      <th>3080</th>\n",
       "      <td>9.797959</td>\n",
       "      <td>9.539392</td>\n",
       "      <td>9.433981</td>\n",
       "      <td>9.746795</td>\n",
       "      <td>10.677078</td>\n",
       "      <td>9.539392</td>\n",
       "      <td>9.746795</td>\n",
       "      <td>9.486833</td>\n",
       "      <td>9.110434</td>\n",
       "      <td>10.198039</td>\n",
       "      <td>...</td>\n",
       "      <td>9.273619</td>\n",
       "      <td>8.602325</td>\n",
       "      <td>9.327379</td>\n",
       "      <td>9.380832</td>\n",
       "      <td>9.327379</td>\n",
       "      <td>8.717798</td>\n",
       "      <td>9.433981</td>\n",
       "      <td>9.000000</td>\n",
       "      <td>9.486833</td>\n",
       "      <td>9.380832</td>\n",
       "    </tr>\n",
       "    <tr>\n",
       "      <th>3081</th>\n",
       "      <td>9.797959</td>\n",
       "      <td>9.591663</td>\n",
       "      <td>9.643651</td>\n",
       "      <td>9.949874</td>\n",
       "      <td>10.862781</td>\n",
       "      <td>9.746795</td>\n",
       "      <td>9.746795</td>\n",
       "      <td>9.695360</td>\n",
       "      <td>9.273619</td>\n",
       "      <td>10.246951</td>\n",
       "      <td>...</td>\n",
       "      <td>9.486833</td>\n",
       "      <td>8.660254</td>\n",
       "      <td>9.433981</td>\n",
       "      <td>9.591663</td>\n",
       "      <td>9.539392</td>\n",
       "      <td>8.717798</td>\n",
       "      <td>9.643651</td>\n",
       "      <td>9.055386</td>\n",
       "      <td>9.643651</td>\n",
       "      <td>9.591663</td>\n",
       "    </tr>\n",
       "    <tr>\n",
       "      <th>3082</th>\n",
       "      <td>10.049875</td>\n",
       "      <td>9.797959</td>\n",
       "      <td>9.797959</td>\n",
       "      <td>10.392304</td>\n",
       "      <td>11.090536</td>\n",
       "      <td>9.797959</td>\n",
       "      <td>9.899495</td>\n",
       "      <td>9.848858</td>\n",
       "      <td>9.591663</td>\n",
       "      <td>10.344080</td>\n",
       "      <td>...</td>\n",
       "      <td>9.746795</td>\n",
       "      <td>8.660254</td>\n",
       "      <td>9.486833</td>\n",
       "      <td>9.949874</td>\n",
       "      <td>9.797959</td>\n",
       "      <td>8.888194</td>\n",
       "      <td>9.695360</td>\n",
       "      <td>9.486833</td>\n",
       "      <td>9.695360</td>\n",
       "      <td>9.949874</td>\n",
       "    </tr>\n",
       "  </tbody>\n",
       "</table>\n",
       "<p>3083 rows × 3083 columns</p>\n",
       "</div>"
      ],
      "text/plain": [
       "           0         1         2          3          4         5         6     \\\n",
       "0      0.000000  0.000000  0.000000   0.000000   0.000000  0.000000  0.000000   \n",
       "1      2.000000  4.000000  2.449490   0.000000   3.316625  0.000000  3.000000   \n",
       "2      2.828427  4.123106  2.449490   0.000000   3.872983  3.000000  3.162278   \n",
       "3      3.000000  4.123106  2.645751   0.000000   4.000000  3.000000  3.162278   \n",
       "4      3.000000  4.123106  2.645751   0.000000   4.000000  3.000000  3.162278   \n",
       "...         ...       ...       ...        ...        ...       ...       ...   \n",
       "3078   9.539392  9.486833  9.380832   9.643651  10.583005  9.486833  9.643651   \n",
       "3079   9.591663  9.539392  9.433981   9.695360  10.630146  9.486833  9.695360   \n",
       "3080   9.797959  9.539392  9.433981   9.746795  10.677078  9.539392  9.746795   \n",
       "3081   9.797959  9.591663  9.643651   9.949874  10.862781  9.746795  9.746795   \n",
       "3082  10.049875  9.797959  9.797959  10.392304  11.090536  9.797959  9.899495   \n",
       "\n",
       "          7         8          9     ...      3073      3074      3075  \\\n",
       "0     0.000000  0.000000   0.000000  ...  0.000000  0.000000  0.000000   \n",
       "1     1.732051  1.414214   3.872983  ...  1.414214  2.645751  1.414214   \n",
       "2     1.732051  2.645751   4.358899  ...  1.414214  2.645751  1.732051   \n",
       "3     1.732051  2.828427   4.690416  ...  1.732051  3.000000  2.000000   \n",
       "4     2.000000  2.828427   4.690416  ...  2.000000  3.872983  2.000000   \n",
       "...        ...       ...        ...  ...       ...       ...       ...   \n",
       "3078  9.433981  8.944272  10.198039  ...  9.273619  8.602325  9.110434   \n",
       "3079  9.433981  9.110434  10.198039  ...  9.273619  8.602325  9.110434   \n",
       "3080  9.486833  9.110434  10.198039  ...  9.273619  8.602325  9.327379   \n",
       "3081  9.695360  9.273619  10.246951  ...  9.486833  8.660254  9.433981   \n",
       "3082  9.848858  9.591663  10.344080  ...  9.746795  8.660254  9.486833   \n",
       "\n",
       "          3076      3077      3078      3079      3080      3081      3082  \n",
       "0     0.000000  0.000000  0.000000  0.000000  0.000000  0.000000  0.000000  \n",
       "1     1.000000  0.000000  0.000000  0.000000  2.449490  1.000000  1.414214  \n",
       "2     1.000000  0.000000  2.000000  1.000000  2.645751  1.732051  1.414214  \n",
       "3     1.000000  0.000000  2.645751  1.000000  2.645751  1.732051  1.414214  \n",
       "4     1.000000  0.000000  3.464102  1.414214  2.828427  1.732051  1.414214  \n",
       "...        ...       ...       ...       ...       ...       ...       ...  \n",
       "3078  9.327379  9.273619  8.717798  9.380832  8.831760  9.433981  9.327379  \n",
       "3079  9.327379  9.273619  8.717798  9.380832  8.888194  9.433981  9.327379  \n",
       "3080  9.380832  9.327379  8.717798  9.433981  9.000000  9.486833  9.380832  \n",
       "3081  9.591663  9.539392  8.717798  9.643651  9.055386  9.643651  9.591663  \n",
       "3082  9.949874  9.797959  8.888194  9.695360  9.486833  9.695360  9.949874  \n",
       "\n",
       "[3083 rows x 3083 columns]"
      ]
     },
     "execution_count": 91,
     "metadata": {},
     "output_type": "execute_result"
    }
   ],
   "source": [
    "df_tr=pd.DataFrame(neighbors_k)\n",
    "df_tr"
   ]
  },
  {
   "cell_type": "code",
   "execution_count": 92,
   "metadata": {},
   "outputs": [],
   "source": [
    "similarity= neighbors_k"
   ]
  },
  {
   "cell_type": "code",
   "execution_count": 93,
   "metadata": {},
   "outputs": [],
   "source": [
    "Dmean=np.mean(similarity[1,:])"
   ]
  },
  {
   "cell_type": "code",
   "execution_count": 94,
   "metadata": {},
   "outputs": [
    {
     "data": {
      "text/plain": [
       "1.14"
      ]
     },
     "execution_count": 94,
     "metadata": {},
     "output_type": "execute_result"
    }
   ],
   "source": [
    "round(Dmean, 2)"
   ]
  },
  {
   "cell_type": "code",
   "execution_count": 95,
   "metadata": {},
   "outputs": [],
   "source": [
    "std=np.std(similarity[1,:])"
   ]
  },
  {
   "cell_type": "code",
   "execution_count": 96,
   "metadata": {},
   "outputs": [
    {
     "data": {
      "text/plain": [
       "1.27"
      ]
     },
     "execution_count": 96,
     "metadata": {},
     "output_type": "execute_result"
    }
   ],
   "source": [
    "round(std, 2)"
   ]
  },
  {
   "cell_type": "code",
   "execution_count": 97,
   "metadata": {},
   "outputs": [
    {
     "name": "stdout",
     "output_type": "stream",
     "text": [
      "1.77\n"
     ]
    }
   ],
   "source": [
    "model_AD_limit=Dmean+std*0.5\n",
    "print(np.round(model_AD_limit, 2))"
   ]
  },
  {
   "cell_type": "code",
   "execution_count": 98,
   "metadata": {},
   "outputs": [],
   "source": [
    "neighbors_k_ts= pairwise_distances(x_tr,Y=x_ts, n_jobs=-1)\n",
    "neighbors_k_ts.sort(0)"
   ]
  },
  {
   "cell_type": "code",
   "execution_count": 99,
   "metadata": {},
   "outputs": [
    {
     "data": {
      "text/html": [
       "<div>\n",
       "<style scoped>\n",
       "    .dataframe tbody tr th:only-of-type {\n",
       "        vertical-align: middle;\n",
       "    }\n",
       "\n",
       "    .dataframe tbody tr th {\n",
       "        vertical-align: top;\n",
       "    }\n",
       "\n",
       "    .dataframe thead th {\n",
       "        text-align: right;\n",
       "    }\n",
       "</style>\n",
       "<table border=\"1\" class=\"dataframe\">\n",
       "  <thead>\n",
       "    <tr style=\"text-align: right;\">\n",
       "      <th></th>\n",
       "      <th>0</th>\n",
       "      <th>1</th>\n",
       "      <th>2</th>\n",
       "      <th>3</th>\n",
       "      <th>4</th>\n",
       "      <th>5</th>\n",
       "      <th>6</th>\n",
       "      <th>7</th>\n",
       "      <th>8</th>\n",
       "      <th>9</th>\n",
       "      <th>...</th>\n",
       "      <th>761</th>\n",
       "      <th>762</th>\n",
       "      <th>763</th>\n",
       "      <th>764</th>\n",
       "      <th>765</th>\n",
       "      <th>766</th>\n",
       "      <th>767</th>\n",
       "      <th>768</th>\n",
       "      <th>769</th>\n",
       "      <th>770</th>\n",
       "    </tr>\n",
       "  </thead>\n",
       "  <tbody>\n",
       "    <tr>\n",
       "      <th>0</th>\n",
       "      <td>2.828427</td>\n",
       "      <td>2.000000</td>\n",
       "      <td>0.000000</td>\n",
       "      <td>2.000000</td>\n",
       "      <td>0.000000</td>\n",
       "      <td>0.000000</td>\n",
       "      <td>0.000000</td>\n",
       "      <td>0.000000</td>\n",
       "      <td>0.000000</td>\n",
       "      <td>0.000000</td>\n",
       "      <td>...</td>\n",
       "      <td>2.449490</td>\n",
       "      <td>2.645751</td>\n",
       "      <td>1.000000</td>\n",
       "      <td>0.000000</td>\n",
       "      <td>0.000000</td>\n",
       "      <td>3.316625</td>\n",
       "      <td>0.000000</td>\n",
       "      <td>3.605551</td>\n",
       "      <td>1.732051</td>\n",
       "      <td>0.000000</td>\n",
       "    </tr>\n",
       "    <tr>\n",
       "      <th>1</th>\n",
       "      <td>3.162278</td>\n",
       "      <td>2.000000</td>\n",
       "      <td>0.000000</td>\n",
       "      <td>2.449490</td>\n",
       "      <td>1.000000</td>\n",
       "      <td>1.414214</td>\n",
       "      <td>1.414214</td>\n",
       "      <td>0.000000</td>\n",
       "      <td>0.000000</td>\n",
       "      <td>0.000000</td>\n",
       "      <td>...</td>\n",
       "      <td>3.162278</td>\n",
       "      <td>2.645751</td>\n",
       "      <td>1.000000</td>\n",
       "      <td>0.000000</td>\n",
       "      <td>0.000000</td>\n",
       "      <td>3.464102</td>\n",
       "      <td>2.645751</td>\n",
       "      <td>3.741657</td>\n",
       "      <td>1.732051</td>\n",
       "      <td>0.000000</td>\n",
       "    </tr>\n",
       "    <tr>\n",
       "      <th>2</th>\n",
       "      <td>3.162278</td>\n",
       "      <td>2.000000</td>\n",
       "      <td>0.000000</td>\n",
       "      <td>2.449490</td>\n",
       "      <td>1.414214</td>\n",
       "      <td>3.000000</td>\n",
       "      <td>1.414214</td>\n",
       "      <td>0.000000</td>\n",
       "      <td>0.000000</td>\n",
       "      <td>0.000000</td>\n",
       "      <td>...</td>\n",
       "      <td>3.162278</td>\n",
       "      <td>2.645751</td>\n",
       "      <td>1.732051</td>\n",
       "      <td>1.414214</td>\n",
       "      <td>0.000000</td>\n",
       "      <td>3.464102</td>\n",
       "      <td>2.645751</td>\n",
       "      <td>3.872983</td>\n",
       "      <td>2.000000</td>\n",
       "      <td>1.000000</td>\n",
       "    </tr>\n",
       "    <tr>\n",
       "      <th>3</th>\n",
       "      <td>3.316625</td>\n",
       "      <td>2.000000</td>\n",
       "      <td>1.000000</td>\n",
       "      <td>2.645751</td>\n",
       "      <td>2.449490</td>\n",
       "      <td>3.000000</td>\n",
       "      <td>1.414214</td>\n",
       "      <td>0.000000</td>\n",
       "      <td>3.464102</td>\n",
       "      <td>1.414214</td>\n",
       "      <td>...</td>\n",
       "      <td>3.316625</td>\n",
       "      <td>2.645751</td>\n",
       "      <td>1.732051</td>\n",
       "      <td>1.414214</td>\n",
       "      <td>0.000000</td>\n",
       "      <td>3.464102</td>\n",
       "      <td>3.000000</td>\n",
       "      <td>4.000000</td>\n",
       "      <td>2.000000</td>\n",
       "      <td>1.000000</td>\n",
       "    </tr>\n",
       "    <tr>\n",
       "      <th>4</th>\n",
       "      <td>3.316625</td>\n",
       "      <td>2.000000</td>\n",
       "      <td>1.414214</td>\n",
       "      <td>2.645751</td>\n",
       "      <td>2.449490</td>\n",
       "      <td>3.162278</td>\n",
       "      <td>1.414214</td>\n",
       "      <td>0.000000</td>\n",
       "      <td>3.872983</td>\n",
       "      <td>1.414214</td>\n",
       "      <td>...</td>\n",
       "      <td>3.464102</td>\n",
       "      <td>3.000000</td>\n",
       "      <td>2.000000</td>\n",
       "      <td>1.414214</td>\n",
       "      <td>0.000000</td>\n",
       "      <td>3.464102</td>\n",
       "      <td>3.872983</td>\n",
       "      <td>4.000000</td>\n",
       "      <td>2.000000</td>\n",
       "      <td>1.414214</td>\n",
       "    </tr>\n",
       "    <tr>\n",
       "      <th>...</th>\n",
       "      <td>...</td>\n",
       "      <td>...</td>\n",
       "      <td>...</td>\n",
       "      <td>...</td>\n",
       "      <td>...</td>\n",
       "      <td>...</td>\n",
       "      <td>...</td>\n",
       "      <td>...</td>\n",
       "      <td>...</td>\n",
       "      <td>...</td>\n",
       "      <td>...</td>\n",
       "      <td>...</td>\n",
       "      <td>...</td>\n",
       "      <td>...</td>\n",
       "      <td>...</td>\n",
       "      <td>...</td>\n",
       "      <td>...</td>\n",
       "      <td>...</td>\n",
       "      <td>...</td>\n",
       "      <td>...</td>\n",
       "      <td>...</td>\n",
       "    </tr>\n",
       "    <tr>\n",
       "      <th>3078</th>\n",
       "      <td>10.099504</td>\n",
       "      <td>9.433981</td>\n",
       "      <td>9.380832</td>\n",
       "      <td>9.380832</td>\n",
       "      <td>9.273619</td>\n",
       "      <td>9.055386</td>\n",
       "      <td>9.219544</td>\n",
       "      <td>9.327379</td>\n",
       "      <td>9.539392</td>\n",
       "      <td>9.486833</td>\n",
       "      <td>...</td>\n",
       "      <td>8.888194</td>\n",
       "      <td>8.944272</td>\n",
       "      <td>9.165152</td>\n",
       "      <td>9.165152</td>\n",
       "      <td>9.380832</td>\n",
       "      <td>9.380832</td>\n",
       "      <td>8.602325</td>\n",
       "      <td>9.273619</td>\n",
       "      <td>9.165152</td>\n",
       "      <td>9.380832</td>\n",
       "    </tr>\n",
       "    <tr>\n",
       "      <th>3079</th>\n",
       "      <td>10.148891</td>\n",
       "      <td>9.486833</td>\n",
       "      <td>9.380832</td>\n",
       "      <td>9.380832</td>\n",
       "      <td>9.327379</td>\n",
       "      <td>9.165152</td>\n",
       "      <td>9.219544</td>\n",
       "      <td>9.380832</td>\n",
       "      <td>9.591663</td>\n",
       "      <td>9.486833</td>\n",
       "      <td>...</td>\n",
       "      <td>9.110434</td>\n",
       "      <td>8.944272</td>\n",
       "      <td>9.219544</td>\n",
       "      <td>9.165152</td>\n",
       "      <td>9.380832</td>\n",
       "      <td>9.433981</td>\n",
       "      <td>8.602325</td>\n",
       "      <td>9.273619</td>\n",
       "      <td>9.165152</td>\n",
       "      <td>9.380832</td>\n",
       "    </tr>\n",
       "    <tr>\n",
       "      <th>3080</th>\n",
       "      <td>10.246951</td>\n",
       "      <td>9.486833</td>\n",
       "      <td>9.433981</td>\n",
       "      <td>9.433981</td>\n",
       "      <td>9.380832</td>\n",
       "      <td>9.219544</td>\n",
       "      <td>9.273619</td>\n",
       "      <td>9.380832</td>\n",
       "      <td>9.591663</td>\n",
       "      <td>9.539392</td>\n",
       "      <td>...</td>\n",
       "      <td>9.110434</td>\n",
       "      <td>8.944272</td>\n",
       "      <td>9.219544</td>\n",
       "      <td>9.219544</td>\n",
       "      <td>9.433981</td>\n",
       "      <td>9.486833</td>\n",
       "      <td>8.602325</td>\n",
       "      <td>9.273619</td>\n",
       "      <td>9.165152</td>\n",
       "      <td>9.433981</td>\n",
       "    </tr>\n",
       "    <tr>\n",
       "      <th>3081</th>\n",
       "      <td>10.344080</td>\n",
       "      <td>9.695360</td>\n",
       "      <td>9.643651</td>\n",
       "      <td>9.486833</td>\n",
       "      <td>9.433981</td>\n",
       "      <td>9.219544</td>\n",
       "      <td>9.486833</td>\n",
       "      <td>9.433981</td>\n",
       "      <td>9.643651</td>\n",
       "      <td>9.746795</td>\n",
       "      <td>...</td>\n",
       "      <td>9.165152</td>\n",
       "      <td>9.000000</td>\n",
       "      <td>9.433981</td>\n",
       "      <td>9.273619</td>\n",
       "      <td>9.643651</td>\n",
       "      <td>9.539392</td>\n",
       "      <td>8.660254</td>\n",
       "      <td>9.327379</td>\n",
       "      <td>9.380832</td>\n",
       "      <td>9.643651</td>\n",
       "    </tr>\n",
       "    <tr>\n",
       "      <th>3082</th>\n",
       "      <td>10.488089</td>\n",
       "      <td>9.949874</td>\n",
       "      <td>10.099504</td>\n",
       "      <td>9.539392</td>\n",
       "      <td>9.746795</td>\n",
       "      <td>9.486833</td>\n",
       "      <td>10.049875</td>\n",
       "      <td>9.591663</td>\n",
       "      <td>9.848858</td>\n",
       "      <td>10.198039</td>\n",
       "      <td>...</td>\n",
       "      <td>9.695360</td>\n",
       "      <td>9.643651</td>\n",
       "      <td>9.591663</td>\n",
       "      <td>9.643651</td>\n",
       "      <td>9.899495</td>\n",
       "      <td>9.539392</td>\n",
       "      <td>8.660254</td>\n",
       "      <td>9.380832</td>\n",
       "      <td>9.643651</td>\n",
       "      <td>9.695360</td>\n",
       "    </tr>\n",
       "  </tbody>\n",
       "</table>\n",
       "<p>3083 rows × 771 columns</p>\n",
       "</div>"
      ],
      "text/plain": [
       "            0         1          2         3         4         5          6    \\\n",
       "0      2.828427  2.000000   0.000000  2.000000  0.000000  0.000000   0.000000   \n",
       "1      3.162278  2.000000   0.000000  2.449490  1.000000  1.414214   1.414214   \n",
       "2      3.162278  2.000000   0.000000  2.449490  1.414214  3.000000   1.414214   \n",
       "3      3.316625  2.000000   1.000000  2.645751  2.449490  3.000000   1.414214   \n",
       "4      3.316625  2.000000   1.414214  2.645751  2.449490  3.162278   1.414214   \n",
       "...         ...       ...        ...       ...       ...       ...        ...   \n",
       "3078  10.099504  9.433981   9.380832  9.380832  9.273619  9.055386   9.219544   \n",
       "3079  10.148891  9.486833   9.380832  9.380832  9.327379  9.165152   9.219544   \n",
       "3080  10.246951  9.486833   9.433981  9.433981  9.380832  9.219544   9.273619   \n",
       "3081  10.344080  9.695360   9.643651  9.486833  9.433981  9.219544   9.486833   \n",
       "3082  10.488089  9.949874  10.099504  9.539392  9.746795  9.486833  10.049875   \n",
       "\n",
       "           7         8          9    ...       761       762       763  \\\n",
       "0     0.000000  0.000000   0.000000  ...  2.449490  2.645751  1.000000   \n",
       "1     0.000000  0.000000   0.000000  ...  3.162278  2.645751  1.000000   \n",
       "2     0.000000  0.000000   0.000000  ...  3.162278  2.645751  1.732051   \n",
       "3     0.000000  3.464102   1.414214  ...  3.316625  2.645751  1.732051   \n",
       "4     0.000000  3.872983   1.414214  ...  3.464102  3.000000  2.000000   \n",
       "...        ...       ...        ...  ...       ...       ...       ...   \n",
       "3078  9.327379  9.539392   9.486833  ...  8.888194  8.944272  9.165152   \n",
       "3079  9.380832  9.591663   9.486833  ...  9.110434  8.944272  9.219544   \n",
       "3080  9.380832  9.591663   9.539392  ...  9.110434  8.944272  9.219544   \n",
       "3081  9.433981  9.643651   9.746795  ...  9.165152  9.000000  9.433981   \n",
       "3082  9.591663  9.848858  10.198039  ...  9.695360  9.643651  9.591663   \n",
       "\n",
       "           764       765       766       767       768       769       770  \n",
       "0     0.000000  0.000000  3.316625  0.000000  3.605551  1.732051  0.000000  \n",
       "1     0.000000  0.000000  3.464102  2.645751  3.741657  1.732051  0.000000  \n",
       "2     1.414214  0.000000  3.464102  2.645751  3.872983  2.000000  1.000000  \n",
       "3     1.414214  0.000000  3.464102  3.000000  4.000000  2.000000  1.000000  \n",
       "4     1.414214  0.000000  3.464102  3.872983  4.000000  2.000000  1.414214  \n",
       "...        ...       ...       ...       ...       ...       ...       ...  \n",
       "3078  9.165152  9.380832  9.380832  8.602325  9.273619  9.165152  9.380832  \n",
       "3079  9.165152  9.380832  9.433981  8.602325  9.273619  9.165152  9.380832  \n",
       "3080  9.219544  9.433981  9.486833  8.602325  9.273619  9.165152  9.433981  \n",
       "3081  9.273619  9.643651  9.539392  8.660254  9.327379  9.380832  9.643651  \n",
       "3082  9.643651  9.899495  9.539392  8.660254  9.380832  9.643651  9.695360  \n",
       "\n",
       "[3083 rows x 771 columns]"
      ]
     },
     "execution_count": 99,
     "metadata": {},
     "output_type": "execute_result"
    }
   ],
   "source": [
    "x_ts_AD=pd.DataFrame(neighbors_k_ts)\n",
    "x_ts_AD"
   ]
  },
  {
   "cell_type": "code",
   "execution_count": 100,
   "metadata": {},
   "outputs": [
    {
     "name": "stdout",
     "output_type": "stream",
     "text": [
      "[2.828 2.    0.    2.    0.    0.    0.    0.    0.    0.    0.    0.\n",
      " 1.732 1.732 1.    1.732 0.    0.    2.646 0.    2.449 1.    1.    0.\n",
      " 3.    0.    2.646 3.162 0.    1.732 0.    1.732 1.414 1.732 3.606 1.\n",
      " 0.    1.732 0.    1.732 1.    0.    0.    2.    1.    1.    2.236 0.\n",
      " 0.    1.    1.732 0.    3.606 1.    0.    0.    1.414 0.    1.414 0.\n",
      " 0.    1.    1.    2.236 1.414 2.449 2.449 0.    2.    1.732 5.    0.\n",
      " 0.    0.    0.    1.    0.    1.    1.414 0.    1.    0.    3.162 0.\n",
      " 2.828 2.236 1.414 0.    2.236 0.    2.    3.162 0.    0.    0.    2.\n",
      " 2.    3.317 1.414 2.449 1.    1.414 0.    2.236 2.236 2.449 0.    2.449\n",
      " 1.414 2.    1.414 3.    0.    2.646 0.    0.    0.    0.    1.    0.\n",
      " 0.    0.    1.414 3.606 3.317 0.    0.    0.    0.    1.414 2.828 0.\n",
      " 1.414 1.    2.449 2.646 4.69  0.    2.    0.    1.    1.    2.449 0.\n",
      " 3.162 0.    2.236 0.    2.    1.    0.    0.    3.464 1.732 1.732 2.828\n",
      " 2.449 2.    2.236 0.    0.    2.828 2.646 4.243 2.236 0.    3.317 1.\n",
      " 0.    0.    1.732 4.    1.    2.828 1.    2.449 1.    0.    0.    2.\n",
      " 1.414 0.    0.    0.    0.    0.    0.    3.742 1.    0.    3.    1.732\n",
      " 2.449 0.    3.742 0.    0.    1.732 0.    0.    2.    1.    1.732 0.\n",
      " 2.449 2.    0.    0.    0.    2.828 0.    2.449 0.    1.    1.    0.\n",
      " 2.449 0.    0.    0.    1.414 1.414 1.    0.    1.    4.123 0.    1.\n",
      " 1.    1.    0.    0.    0.    0.    0.    0.    1.732 0.    0.    1.414\n",
      " 1.    0.    1.    3.606 0.    0.    1.414 1.    1.    0.    1.732 1.732\n",
      " 0.    1.732 0.    0.    1.732 0.    2.449 1.    2.646 0.    1.    2.828\n",
      " 1.    0.    0.    0.    3.317 2.646 0.    3.317 1.732 1.732 2.449 1.732\n",
      " 1.414 1.    0.    2.646 3.162 2.449 0.    0.    1.732 2.646 0.    0.\n",
      " 0.    1.732 1.    1.732 1.732 0.    0.    0.    3.464 1.414 1.732 0.\n",
      " 1.732 1.    0.    0.    0.    0.    0.    4.    1.414 1.    0.    3.\n",
      " 2.    1.732 0.    2.    0.    0.    0.    0.    0.    0.    2.646 4.796\n",
      " 5.099 0.    3.317 3.162 5.099 1.    1.    0.    0.    2.449 1.414 0.\n",
      " 1.414 1.414 2.449 1.732 0.    3.162 0.    0.    1.732 1.414 0.    0.\n",
      " 0.    0.    1.414 2.    3.606 2.646 1.    0.    0.    1.    0.    0.\n",
      " 0.    3.162 1.414 0.    1.414 1.414 2.828 0.    1.732 0.    0.    1.732\n",
      " 0.    1.    0.    1.414 1.    1.    0.    0.    0.    4.    1.414 0.\n",
      " 0.    4.123 0.    0.    1.    1.    0.    0.    2.    1.414 1.    0.\n",
      " 4.123 0.    0.    1.414 0.    1.414 1.414 0.    2.828 0.    0.    0.\n",
      " 0.    0.    1.    0.    0.    0.    0.    1.414 1.    1.    0.    4.243\n",
      " 0.    2.236 1.732 0.    0.    1.732 0.    0.    0.    1.414 0.    3.742\n",
      " 0.    0.    5.196 0.    2.646 1.    0.    3.    0.    0.    2.    0.\n",
      " 1.732 1.    1.    1.732 0.    1.414 0.    0.    1.    1.732 1.    3.\n",
      " 0.    0.    2.449 0.    0.    3.742 1.    2.    0.    0.    0.    1.732\n",
      " 3.873 0.    1.    0.    0.    2.646 0.    1.    0.    0.    1.    0.\n",
      " 2.646 0.    0.    0.    0.    0.    0.    1.414 1.732 0.    0.    0.\n",
      " 0.    0.    0.    3.464 1.    0.    0.    1.414 4.472 1.414 0.    0.\n",
      " 0.    0.    0.    0.    0.    0.    0.    1.414 1.732 0.    1.    0.\n",
      " 0.    0.    2.236 0.    0.    1.414 1.732 2.    2.    3.317 0.    0.\n",
      " 0.    0.    1.414 1.414 0.    3.162 4.69  0.    0.    3.742 1.414 1.\n",
      " 0.    0.    1.732 0.    2.    1.    0.    0.    0.    0.    2.236 1.\n",
      " 0.    0.    1.732 0.    2.646 0.    1.414 2.    1.732 0.    0.    2.\n",
      " 0.    2.    0.    0.    3.162 4.583 2.449 1.    0.    3.317 1.414 2.828\n",
      " 0.    0.    2.646 1.    0.    1.    0.    0.    4.243 0.    0.    1.732\n",
      " 1.732 3.606 1.    3.162 1.    1.414 1.    1.    1.    1.732 0.    0.\n",
      " 0.    0.    3.317 0.    3.    0.    2.    1.    0.    0.    1.414 0.\n",
      " 3.162 0.    1.732 0.    0.    1.    0.    2.236 3.    1.414 2.828 1.\n",
      " 1.414 3.    2.449 0.    2.236 1.732 2.449 0.    0.    0.    1.732 3.\n",
      " 0.    3.    0.    1.414 0.    0.    0.    1.    0.    0.    0.    1.414\n",
      " 3.742 1.732 1.732 1.414 2.236 1.414 0.    0.    3.464 1.732 1.414 0.\n",
      " 0.    0.    1.732 1.414 0.    1.    1.732 0.    0.    0.    3.464 2.828\n",
      " 4.472 0.    0.    0.    1.    2.236 1.    1.414 1.    0.    3.162 1.\n",
      " 1.414 0.    1.732 0.    0.    1.    2.236 1.    4.899 0.    1.    0.\n",
      " 1.414 2.449 1.    0.    0.    0.    0.    0.    0.    1.414 1.414 0.\n",
      " 1.    1.    1.414 1.732 0.    1.732 3.606 1.732 2.    0.    1.732 0.\n",
      " 0.    1.414 0.    0.    3.742 1.    1.    1.732 0.    1.414 0.    0.\n",
      " 1.732 0.    1.    4.796 1.    0.    3.317 3.606 4.243 0.    0.    2.449\n",
      " 1.    0.    2.    0.    2.449 0.    0.    1.732 0.    3.    0.    0.\n",
      " 3.317 3.464 0.    1.    0.    2.449 2.646 1.    0.    0.    3.317 0.\n",
      " 3.606 1.732 0.   ]\n"
     ]
    }
   ],
   "source": [
    "similarity_ts= neighbors_k_ts\n",
    "cpd_AD=similarity_ts[0,:]\n",
    "cpd_value = np.round(cpd_AD, 3)\n",
    "print(cpd_value)"
   ]
  },
  {
   "cell_type": "code",
   "execution_count": 101,
   "metadata": {},
   "outputs": [
    {
     "name": "stdout",
     "output_type": "stream",
     "text": [
      "[False False  True False  True  True  True  True  True  True  True  True\n",
      "  True  True  True  True  True  True False  True False  True  True  True\n",
      " False  True False False  True  True  True  True  True  True False  True\n",
      "  True  True  True  True  True  True  True False  True  True False  True\n",
      "  True  True  True  True False  True  True  True  True  True  True  True\n",
      "  True  True  True False  True False False  True False  True False  True\n",
      "  True  True  True  True  True  True  True  True  True  True False  True\n",
      " False False  True  True False  True False False  True  True  True False\n",
      " False False  True False  True  True  True False False False  True False\n",
      "  True False  True False  True False  True  True  True  True  True  True\n",
      "  True  True  True False False  True  True  True  True  True False  True\n",
      "  True  True False False False  True False  True  True  True False  True\n",
      " False  True False  True False  True  True  True False  True  True False\n",
      " False False False  True  True False False False False  True False  True\n",
      "  True  True  True False  True False  True False  True  True  True False\n",
      "  True  True  True  True  True  True  True False  True  True False  True\n",
      " False  True False  True  True  True  True  True False  True  True  True\n",
      " False False  True  True  True False  True False  True  True  True  True\n",
      " False  True  True  True  True  True  True  True  True False  True  True\n",
      "  True  True  True  True  True  True  True  True  True  True  True  True\n",
      "  True  True  True False  True  True  True  True  True  True  True  True\n",
      "  True  True  True  True  True  True False  True False  True  True False\n",
      "  True  True  True  True False False  True False  True  True False  True\n",
      "  True  True  True False False False  True  True  True False  True  True\n",
      "  True  True  True  True  True  True  True  True False  True  True  True\n",
      "  True  True  True  True  True  True  True False  True  True  True False\n",
      " False  True  True False  True  True  True  True  True  True False False\n",
      " False  True False False False  True  True  True  True False  True  True\n",
      "  True  True False  True  True False  True  True  True  True  True  True\n",
      "  True  True  True False False False  True  True  True  True  True  True\n",
      "  True False  True  True  True  True False  True  True  True  True  True\n",
      "  True  True  True  True  True  True  True  True  True False  True  True\n",
      "  True False  True  True  True  True  True  True False  True  True  True\n",
      " False  True  True  True  True  True  True  True False  True  True  True\n",
      "  True  True  True  True  True  True  True  True  True  True  True False\n",
      "  True False  True  True  True  True  True  True  True  True  True False\n",
      "  True  True False  True False  True  True False  True  True False  True\n",
      "  True  True  True  True  True  True  True  True  True  True  True False\n",
      "  True  True False  True  True False  True False  True  True  True  True\n",
      " False  True  True  True  True False  True  True  True  True  True  True\n",
      " False  True  True  True  True  True  True  True  True  True  True  True\n",
      "  True  True  True False  True  True  True  True False  True  True  True\n",
      "  True  True  True  True  True  True  True  True  True  True  True  True\n",
      "  True  True False  True  True  True  True False False False  True  True\n",
      "  True  True  True  True  True False False  True  True False  True  True\n",
      "  True  True  True  True False  True  True  True  True  True False  True\n",
      "  True  True  True  True False  True  True False  True  True  True False\n",
      "  True False  True  True False False False  True  True False  True False\n",
      "  True  True False  True  True  True  True  True False  True  True  True\n",
      "  True False  True False  True  True  True  True  True  True  True  True\n",
      "  True  True False  True False  True False  True  True  True  True  True\n",
      " False  True  True  True  True  True  True False False  True False  True\n",
      "  True False False  True False  True False  True  True  True  True False\n",
      "  True False  True  True  True  True  True  True  True  True  True  True\n",
      " False  True  True  True False  True  True  True False  True  True  True\n",
      "  True  True  True  True  True  True  True  True  True  True False False\n",
      " False  True  True  True  True False  True  True  True  True False  True\n",
      "  True  True  True  True  True  True False  True False  True  True  True\n",
      "  True False  True  True  True  True  True  True  True  True  True  True\n",
      "  True  True  True  True  True  True False  True False  True  True  True\n",
      "  True  True  True  True False  True  True  True  True  True  True  True\n",
      "  True  True  True False  True  True False False False  True  True False\n",
      "  True  True False  True False  True  True  True  True False  True  True\n",
      " False False  True  True  True False False  True  True  True False  True\n",
      " False  True  True]\n"
     ]
    }
   ],
   "source": [
    "cpd_AD = np.where(cpd_value <= model_AD_limit, True, False)\n",
    "print(cpd_AD)"
   ]
  },
  {
   "cell_type": "code",
   "execution_count": 102,
   "metadata": {},
   "outputs": [
    {
     "name": "stdout",
     "output_type": "stream",
     "text": [
      "Coverage =  0.76\n"
     ]
    }
   ],
   "source": [
    "print(\"Coverage = \", round(sum(cpd_AD) / len(cpd_AD), 2))"
   ]
  },
  {
   "cell_type": "code",
   "execution_count": 103,
   "metadata": {},
   "outputs": [
    {
     "name": "stdout",
     "output_type": "stream",
     "text": [
      "Indices of substances included in AD =  [  2   4   5   6   7   8   9  10  11  12  13  14  15  16  17  19  21  22\n",
      "  23  25  28  29  30  31  32  33  35  36  37  38  39  40  41  42  44  45\n",
      "  47  48  49  50  51  53  54  55  56  57  58  59  60  61  62  64  67  69\n",
      "  71  72  73  74  75  76  77  78  79  80  81  83  86  87  89  92  93  94\n",
      "  98 100 101 102 106 108 110 112 114 115 116 117 118 119 120 121 122 125\n",
      " 126 127 128 129 131 132 133 137 139 140 141 143 145 147 149 150 151 153\n",
      " 154 159 160 165 167 168 169 170 172 174 176 177 178 180 181 182 183 184\n",
      " 185 186 188 189 191 193 195 196 197 198 199 201 202 203 206 207 208 210\n",
      " 212 213 214 215 217 218 219 220 221 222 223 224 226 227 228 229 230 231\n",
      " 232 233 234 235 236 237 238 239 240 241 242 244 245 246 247 248 249 250\n",
      " 251 252 253 254 255 256 257 259 261 262 264 265 266 267 270 272 273 275\n",
      " 276 277 278 282 283 284 286 287 288 289 290 291 292 293 294 295 297 298\n",
      " 299 300 301 302 303 304 305 306 308 309 310 313 314 316 317 318 319 320\n",
      " 321 325 329 330 331 332 334 335 336 337 339 340 342 343 344 345 346 347\n",
      " 348 349 350 354 355 356 357 358 359 360 362 363 364 365 367 368 369 370\n",
      " 371 372 373 374 375 376 377 378 379 380 382 383 384 386 387 388 389 390\n",
      " 391 393 394 395 397 398 399 400 401 402 403 405 406 407 408 409 410 411\n",
      " 412 413 414 415 416 417 418 420 422 423 424 425 426 427 428 429 430 432\n",
      " 433 435 437 438 440 441 443 444 445 446 447 448 449 450 451 452 453 454\n",
      " 456 457 459 460 462 464 465 466 467 469 470 471 472 474 475 476 477 478\n",
      " 479 481 482 483 484 485 486 487 488 489 490 491 492 493 494 496 497 498\n",
      " 499 501 502 503 504 505 506 507 508 509 510 511 512 513 514 515 516 517\n",
      " 519 520 521 522 526 527 528 529 530 531 532 535 536 538 539 540 541 542\n",
      " 543 545 546 547 548 549 551 552 553 554 555 557 558 560 561 562 564 566\n",
      " 567 571 572 574 576 577 579 580 581 582 583 585 586 587 588 590 592 593\n",
      " 594 595 596 597 598 599 600 601 603 605 607 608 609 610 611 613 614 615\n",
      " 616 617 618 621 623 624 627 629 631 632 633 634 636 638 639 640 641 642\n",
      " 643 644 645 646 647 649 650 651 653 654 655 657 658 659 660 661 662 663\n",
      " 664 665 666 667 668 669 673 674 675 676 678 679 680 681 683 684 685 686\n",
      " 687 688 689 691 693 694 695 696 698 699 700 701 702 703 704 705 706 707\n",
      " 708 709 710 711 712 713 715 717 718 719 720 721 722 723 725 726 727 728\n",
      " 729 730 731 732 733 734 736 737 741 742 744 745 747 749 750 751 752 754\n",
      " 755 758 759 760 763 764 765 767 769 770]\n"
     ]
    }
   ],
   "source": [
    "print(\"Indices of substances included in AD = \", np.where(cpd_AD != 0)[0])"
   ]
  },
  {
   "cell_type": "code",
   "execution_count": 104,
   "metadata": {},
   "outputs": [],
   "source": [
    "out_Ad=list(np.where(cpd_AD == 0)[0])"
   ]
  },
  {
   "cell_type": "markdown",
   "metadata": {},
   "source": [
    "# 12. Prediction only for molecules included in  AD"
   ]
  },
  {
   "cell_type": "code",
   "execution_count": 105,
   "metadata": {},
   "outputs": [],
   "source": [
    "y_pred_svm_ad=list(y_pred_svm)"
   ]
  },
  {
   "cell_type": "code",
   "execution_count": 106,
   "metadata": {},
   "outputs": [],
   "source": [
    "y_pred_svm_ad[:] = [x for i,x in enumerate(y_pred_svm_ad) if i not in out_Ad]"
   ]
  },
  {
   "cell_type": "code",
   "execution_count": 107,
   "metadata": {},
   "outputs": [
    {
     "data": {
      "text/plain": [
       "586"
      ]
     },
     "execution_count": 107,
     "metadata": {},
     "output_type": "execute_result"
    }
   ],
   "source": [
    "len(y_pred_svm_ad)"
   ]
  },
  {
   "cell_type": "code",
   "execution_count": 108,
   "metadata": {},
   "outputs": [],
   "source": [
    "y_ts_ad=list(y_ts)"
   ]
  },
  {
   "cell_type": "code",
   "execution_count": 109,
   "metadata": {},
   "outputs": [],
   "source": [
    "y_ts_ad[:] = [x for i,x in enumerate(y_ts_ad) if i not in out_Ad]"
   ]
  },
  {
   "cell_type": "code",
   "execution_count": 110,
   "metadata": {},
   "outputs": [
    {
     "data": {
      "text/plain": [
       "586"
      ]
     },
     "execution_count": 110,
     "metadata": {},
     "output_type": "execute_result"
    }
   ],
   "source": [
    "len(y_ts_ad)"
   ]
  },
  {
   "cell_type": "code",
   "execution_count": 111,
   "metadata": {},
   "outputs": [
    {
     "data": {
      "text/plain": [
       "0.59"
      ]
     },
     "execution_count": 111,
     "metadata": {},
     "output_type": "execute_result"
    }
   ],
   "source": [
    "Q2_TS = round(r2_score(y_ts_ad, y_pred_svm_ad), 2)\n",
    "Q2_TS"
   ]
  },
  {
   "cell_type": "code",
   "execution_count": 112,
   "metadata": {},
   "outputs": [
    {
     "data": {
      "text/plain": [
       "0.72"
      ]
     },
     "execution_count": 112,
     "metadata": {},
     "output_type": "execute_result"
    }
   ],
   "source": [
    "RMSE_TS=round(np.sqrt(mean_absolute_error(y_ts_ad, y_pred_svm_ad)), 2)\n",
    "RMSE_TS"
   ]
  },
  {
   "cell_type": "code",
   "execution_count": null,
   "metadata": {},
   "outputs": [],
   "source": []
  },
  {
   "cell_type": "markdown",
   "metadata": {},
   "source": [
    "# Multi-layer Perceptron regressor"
   ]
  },
  {
   "cell_type": "code",
   "execution_count": 113,
   "metadata": {},
   "outputs": [],
   "source": [
    "from sklearn.neural_network import MLPRegressor"
   ]
  },
  {
   "cell_type": "code",
   "execution_count": 114,
   "metadata": {},
   "outputs": [],
   "source": [
    "param_grid ={\"hidden_layer_sizes\": [(400, 300, 200, 100),(100, 100, 100), (10, 10, 10),(50,)], \"activation\": [\"tanh\", \"relu\"], \"solver\": [\"lbfgs\", \"sgd\", \"adam\"], \"alpha\": [0.00005,0.0005], 'max_iter': [1000, 2000]}"
   ]
  },
  {
   "cell_type": "code",
   "execution_count": 115,
   "metadata": {},
   "outputs": [],
   "source": [
    "m = GridSearchCV(MLPRegressor(), param_grid, n_jobs=-1, cv=cv, verbose=1)"
   ]
  },
  {
   "cell_type": "code",
   "execution_count": 116,
   "metadata": {},
   "outputs": [
    {
     "name": "stdout",
     "output_type": "stream",
     "text": [
      "Fitting 5 folds for each of 96 candidates, totalling 480 fits\n"
     ]
    },
    {
     "data": {
      "text/html": [
       "<style>#sk-container-id-3 {color: black;}#sk-container-id-3 pre{padding: 0;}#sk-container-id-3 div.sk-toggleable {background-color: white;}#sk-container-id-3 label.sk-toggleable__label {cursor: pointer;display: block;width: 100%;margin-bottom: 0;padding: 0.3em;box-sizing: border-box;text-align: center;}#sk-container-id-3 label.sk-toggleable__label-arrow:before {content: \"▸\";float: left;margin-right: 0.25em;color: #696969;}#sk-container-id-3 label.sk-toggleable__label-arrow:hover:before {color: black;}#sk-container-id-3 div.sk-estimator:hover label.sk-toggleable__label-arrow:before {color: black;}#sk-container-id-3 div.sk-toggleable__content {max-height: 0;max-width: 0;overflow: hidden;text-align: left;background-color: #f0f8ff;}#sk-container-id-3 div.sk-toggleable__content pre {margin: 0.2em;color: black;border-radius: 0.25em;background-color: #f0f8ff;}#sk-container-id-3 input.sk-toggleable__control:checked~div.sk-toggleable__content {max-height: 200px;max-width: 100%;overflow: auto;}#sk-container-id-3 input.sk-toggleable__control:checked~label.sk-toggleable__label-arrow:before {content: \"▾\";}#sk-container-id-3 div.sk-estimator input.sk-toggleable__control:checked~label.sk-toggleable__label {background-color: #d4ebff;}#sk-container-id-3 div.sk-label input.sk-toggleable__control:checked~label.sk-toggleable__label {background-color: #d4ebff;}#sk-container-id-3 input.sk-hidden--visually {border: 0;clip: rect(1px 1px 1px 1px);clip: rect(1px, 1px, 1px, 1px);height: 1px;margin: -1px;overflow: hidden;padding: 0;position: absolute;width: 1px;}#sk-container-id-3 div.sk-estimator {font-family: monospace;background-color: #f0f8ff;border: 1px dotted black;border-radius: 0.25em;box-sizing: border-box;margin-bottom: 0.5em;}#sk-container-id-3 div.sk-estimator:hover {background-color: #d4ebff;}#sk-container-id-3 div.sk-parallel-item::after {content: \"\";width: 100%;border-bottom: 1px solid gray;flex-grow: 1;}#sk-container-id-3 div.sk-label:hover label.sk-toggleable__label {background-color: #d4ebff;}#sk-container-id-3 div.sk-serial::before {content: \"\";position: absolute;border-left: 1px solid gray;box-sizing: border-box;top: 0;bottom: 0;left: 50%;z-index: 0;}#sk-container-id-3 div.sk-serial {display: flex;flex-direction: column;align-items: center;background-color: white;padding-right: 0.2em;padding-left: 0.2em;position: relative;}#sk-container-id-3 div.sk-item {position: relative;z-index: 1;}#sk-container-id-3 div.sk-parallel {display: flex;align-items: stretch;justify-content: center;background-color: white;position: relative;}#sk-container-id-3 div.sk-item::before, #sk-container-id-3 div.sk-parallel-item::before {content: \"\";position: absolute;border-left: 1px solid gray;box-sizing: border-box;top: 0;bottom: 0;left: 50%;z-index: -1;}#sk-container-id-3 div.sk-parallel-item {display: flex;flex-direction: column;z-index: 1;position: relative;background-color: white;}#sk-container-id-3 div.sk-parallel-item:first-child::after {align-self: flex-end;width: 50%;}#sk-container-id-3 div.sk-parallel-item:last-child::after {align-self: flex-start;width: 50%;}#sk-container-id-3 div.sk-parallel-item:only-child::after {width: 0;}#sk-container-id-3 div.sk-dashed-wrapped {border: 1px dashed gray;margin: 0 0.4em 0.5em 0.4em;box-sizing: border-box;padding-bottom: 0.4em;background-color: white;}#sk-container-id-3 div.sk-label label {font-family: monospace;font-weight: bold;display: inline-block;line-height: 1.2em;}#sk-container-id-3 div.sk-label-container {text-align: center;}#sk-container-id-3 div.sk-container {/* jupyter's `normalize.less` sets `[hidden] { display: none; }` but bootstrap.min.css set `[hidden] { display: none !important; }` so we also need the `!important` here to be able to override the default hidden behavior on the sphinx rendered scikit-learn.org. See: https://github.com/scikit-learn/scikit-learn/issues/21755 */display: inline-block !important;position: relative;}#sk-container-id-3 div.sk-text-repr-fallback {display: none;}</style><div id=\"sk-container-id-3\" class=\"sk-top-container\"><div class=\"sk-text-repr-fallback\"><pre>GridSearchCV(cv=KFold(n_splits=5, random_state=42, shuffle=True),\n",
       "             estimator=MLPRegressor(), n_jobs=-1,\n",
       "             param_grid={&#x27;activation&#x27;: [&#x27;tanh&#x27;, &#x27;relu&#x27;],\n",
       "                         &#x27;alpha&#x27;: [5e-05, 0.0005],\n",
       "                         &#x27;hidden_layer_sizes&#x27;: [(400, 300, 200, 100),\n",
       "                                                (100, 100, 100), (10, 10, 10),\n",
       "                                                (50,)],\n",
       "                         &#x27;max_iter&#x27;: [1000, 2000],\n",
       "                         &#x27;solver&#x27;: [&#x27;lbfgs&#x27;, &#x27;sgd&#x27;, &#x27;adam&#x27;]},\n",
       "             verbose=1)</pre><b>In a Jupyter environment, please rerun this cell to show the HTML representation or trust the notebook. <br />On GitHub, the HTML representation is unable to render, please try loading this page with nbviewer.org.</b></div><div class=\"sk-container\" hidden><div class=\"sk-item sk-dashed-wrapped\"><div class=\"sk-label-container\"><div class=\"sk-label sk-toggleable\"><input class=\"sk-toggleable__control sk-hidden--visually\" id=\"sk-estimator-id-7\" type=\"checkbox\" ><label for=\"sk-estimator-id-7\" class=\"sk-toggleable__label sk-toggleable__label-arrow\">GridSearchCV</label><div class=\"sk-toggleable__content\"><pre>GridSearchCV(cv=KFold(n_splits=5, random_state=42, shuffle=True),\n",
       "             estimator=MLPRegressor(), n_jobs=-1,\n",
       "             param_grid={&#x27;activation&#x27;: [&#x27;tanh&#x27;, &#x27;relu&#x27;],\n",
       "                         &#x27;alpha&#x27;: [5e-05, 0.0005],\n",
       "                         &#x27;hidden_layer_sizes&#x27;: [(400, 300, 200, 100),\n",
       "                                                (100, 100, 100), (10, 10, 10),\n",
       "                                                (50,)],\n",
       "                         &#x27;max_iter&#x27;: [1000, 2000],\n",
       "                         &#x27;solver&#x27;: [&#x27;lbfgs&#x27;, &#x27;sgd&#x27;, &#x27;adam&#x27;]},\n",
       "             verbose=1)</pre></div></div></div><div class=\"sk-parallel\"><div class=\"sk-parallel-item\"><div class=\"sk-item\"><div class=\"sk-label-container\"><div class=\"sk-label sk-toggleable\"><input class=\"sk-toggleable__control sk-hidden--visually\" id=\"sk-estimator-id-8\" type=\"checkbox\" ><label for=\"sk-estimator-id-8\" class=\"sk-toggleable__label sk-toggleable__label-arrow\">estimator: MLPRegressor</label><div class=\"sk-toggleable__content\"><pre>MLPRegressor()</pre></div></div></div><div class=\"sk-serial\"><div class=\"sk-item\"><div class=\"sk-estimator sk-toggleable\"><input class=\"sk-toggleable__control sk-hidden--visually\" id=\"sk-estimator-id-9\" type=\"checkbox\" ><label for=\"sk-estimator-id-9\" class=\"sk-toggleable__label sk-toggleable__label-arrow\">MLPRegressor</label><div class=\"sk-toggleable__content\"><pre>MLPRegressor()</pre></div></div></div></div></div></div></div></div></div></div>"
      ],
      "text/plain": [
       "GridSearchCV(cv=KFold(n_splits=5, random_state=42, shuffle=True),\n",
       "             estimator=MLPRegressor(), n_jobs=-1,\n",
       "             param_grid={'activation': ['tanh', 'relu'],\n",
       "                         'alpha': [5e-05, 0.0005],\n",
       "                         'hidden_layer_sizes': [(400, 300, 200, 100),\n",
       "                                                (100, 100, 100), (10, 10, 10),\n",
       "                                                (50,)],\n",
       "                         'max_iter': [1000, 2000],\n",
       "                         'solver': ['lbfgs', 'sgd', 'adam']},\n",
       "             verbose=1)"
      ]
     },
     "execution_count": 116,
     "metadata": {},
     "output_type": "execute_result"
    }
   ],
   "source": [
    "m.fit(x_tr, y_tr)"
   ]
  },
  {
   "cell_type": "code",
   "execution_count": 117,
   "metadata": {},
   "outputs": [],
   "source": [
    "best_MLPR = m.best_estimator_"
   ]
  },
  {
   "cell_type": "code",
   "execution_count": 118,
   "metadata": {},
   "outputs": [
    {
     "data": {
      "text/plain": [
       "{'activation': 'relu',\n",
       " 'alpha': 5e-05,\n",
       " 'hidden_layer_sizes': (400, 300, 200, 100),\n",
       " 'max_iter': 2000,\n",
       " 'solver': 'sgd'}"
      ]
     },
     "execution_count": 118,
     "metadata": {},
     "output_type": "execute_result"
    }
   ],
   "source": [
    "m.best_params_"
   ]
  },
  {
   "cell_type": "code",
   "execution_count": 119,
   "metadata": {},
   "outputs": [],
   "source": [
    "y_pred_ws_MLPR = best_MLPR.predict(x_tr)"
   ]
  },
  {
   "cell_type": "code",
   "execution_count": 120,
   "metadata": {},
   "outputs": [
    {
     "data": {
      "text/plain": [
       "0.78"
      ]
     },
     "execution_count": 120,
     "metadata": {},
     "output_type": "execute_result"
    }
   ],
   "source": [
    "R2_WS = round(r2_score(y_tr, y_pred_ws_MLPR), 2)\n",
    "R2_WS"
   ]
  },
  {
   "cell_type": "code",
   "execution_count": 121,
   "metadata": {},
   "outputs": [
    {
     "data": {
      "text/plain": [
       "0.61"
      ]
     },
     "execution_count": 121,
     "metadata": {},
     "output_type": "execute_result"
    }
   ],
   "source": [
    "RMSE_WS=round(np.sqrt(mean_absolute_error(y_tr, y_pred_ws_MLPR)), 2)\n",
    "RMSE_WS"
   ]
  },
  {
   "cell_type": "code",
   "execution_count": 122,
   "metadata": {},
   "outputs": [],
   "source": [
    "y_pred_CV_MLPR = cross_val_predict(best_MLPR, x_tr, y_tr, cv=cv)"
   ]
  },
  {
   "cell_type": "code",
   "execution_count": 123,
   "metadata": {},
   "outputs": [
    {
     "data": {
      "text/plain": [
       "array([6.262635 , 6.247747 , 5.7088637, ..., 6.7430563, 8.32467  ,\n",
       "       7.482917 ], dtype=float32)"
      ]
     },
     "execution_count": 123,
     "metadata": {},
     "output_type": "execute_result"
    }
   ],
   "source": [
    "y_pred_CV_MLPR"
   ]
  },
  {
   "cell_type": "code",
   "execution_count": 124,
   "metadata": {},
   "outputs": [
    {
     "data": {
      "text/plain": [
       "0.46"
      ]
     },
     "execution_count": 124,
     "metadata": {},
     "output_type": "execute_result"
    }
   ],
   "source": [
    "Q2_CV = round(r2_score(y_tr, y_pred_CV_MLPR), 2)\n",
    "Q2_CV"
   ]
  },
  {
   "cell_type": "code",
   "execution_count": 125,
   "metadata": {},
   "outputs": [
    {
     "data": {
      "text/plain": [
       "0.78"
      ]
     },
     "execution_count": 125,
     "metadata": {},
     "output_type": "execute_result"
    }
   ],
   "source": [
    "RMSE_CV=round(np.sqrt(mean_absolute_error(y_tr, y_pred_CV_MLPR)), 2)\n",
    "RMSE_CV"
   ]
  },
  {
   "cell_type": "markdown",
   "metadata": {},
   "source": [
    "# 9. Prediction for test set's molecules"
   ]
  },
  {
   "cell_type": "code",
   "execution_count": 126,
   "metadata": {},
   "outputs": [],
   "source": [
    "x_ts = np.array(x_ts, dtype=np.float32)\n",
    "y_ts = np.array(y_ts, dtype=np.float32)"
   ]
  },
  {
   "cell_type": "code",
   "execution_count": 127,
   "metadata": {},
   "outputs": [],
   "source": [
    "y_pred_MLPR = best_MLPR.predict(x_ts)"
   ]
  },
  {
   "cell_type": "code",
   "execution_count": 128,
   "metadata": {},
   "outputs": [
    {
     "data": {
      "text/plain": [
       "0.52"
      ]
     },
     "execution_count": 128,
     "metadata": {},
     "output_type": "execute_result"
    }
   ],
   "source": [
    "Q2_TS = round(r2_score(y_ts, y_pred_MLPR), 2)\n",
    "Q2_TS"
   ]
  },
  {
   "cell_type": "code",
   "execution_count": 129,
   "metadata": {},
   "outputs": [
    {
     "data": {
      "text/plain": [
       "0.77"
      ]
     },
     "execution_count": 129,
     "metadata": {},
     "output_type": "execute_result"
    }
   ],
   "source": [
    "RMSE_TS=round(np.sqrt(mean_absolute_error(y_ts, y_pred_MLPR)), 2)\n",
    "RMSE_TS"
   ]
  },
  {
   "cell_type": "markdown",
   "metadata": {},
   "source": [
    "# save the model to disk"
   ]
  },
  {
   "cell_type": "code",
   "execution_count": 130,
   "metadata": {},
   "outputs": [],
   "source": [
    "pickle.dump(best_MLPR, open('Models/Padels/HDAC6_MLPR_AtomPairs2D.pkl', 'wb'))"
   ]
  },
  {
   "cell_type": "markdown",
   "metadata": {},
   "source": [
    "# load the model from disk"
   ]
  },
  {
   "cell_type": "code",
   "execution_count": 87,
   "metadata": {},
   "outputs": [],
   "source": [
    "best_MLPR = pickle.load(open('Models/Padels/HDAC6_MLPR_AtomPairs2D.pkl', 'rb'))"
   ]
  },
  {
   "cell_type": "markdown",
   "metadata": {},
   "source": [
    "# 10. Y-randomization MLPR"
   ]
  },
  {
   "cell_type": "code",
   "execution_count": 131,
   "metadata": {},
   "outputs": [
    {
     "name": "stderr",
     "output_type": "stream",
     "text": [
      "[Parallel(n_jobs=-1)]: Using backend LokyBackend with 16 concurrent workers.\n",
      "[Parallel(n_jobs=-1)]: Done  18 tasks      | elapsed: 55.3min\n"
     ]
    },
    {
     "name": "stdout",
     "output_type": "stream",
     "text": [
      "True score =  0.45 \n",
      "Y-randomization =  -0.36 \n",
      "p-value =  0.0196\n"
     ]
    },
    {
     "name": "stderr",
     "output_type": "stream",
     "text": [
      "[Parallel(n_jobs=-1)]: Done  50 out of  50 | elapsed: 92.5min finished\n"
     ]
    }
   ],
   "source": [
    "permutations = 50\n",
    "score, permutation_scores, pvalue = permutation_test_score(best_MLPR, x_tr, y_tr,\n",
    "                                                           cv=cv, scoring='r2',\n",
    "                                                           n_permutations=permutations,\n",
    "                                                           n_jobs=-1,\n",
    "                                                           verbose=1,\n",
    "                                                           random_state=seed)\n",
    "print('True score = ', score.round(2),\n",
    "      '\\nY-randomization = ', np.mean(permutation_scores).round(2),\n",
    "      '\\np-value = ', pvalue.round(4))"
   ]
  },
  {
   "cell_type": "markdown",
   "metadata": {},
   "source": [
    "# 11. Estimating applicability domain. Method - Euclidian distances, K=1"
   ]
  },
  {
   "cell_type": "code",
   "execution_count": 132,
   "metadata": {},
   "outputs": [],
   "source": [
    "neighbors_k= pairwise_distances(x_tr, n_jobs=-1)\n",
    "neighbors_k.sort(0)"
   ]
  },
  {
   "cell_type": "code",
   "execution_count": 133,
   "metadata": {},
   "outputs": [
    {
     "data": {
      "text/html": [
       "<div>\n",
       "<style scoped>\n",
       "    .dataframe tbody tr th:only-of-type {\n",
       "        vertical-align: middle;\n",
       "    }\n",
       "\n",
       "    .dataframe tbody tr th {\n",
       "        vertical-align: top;\n",
       "    }\n",
       "\n",
       "    .dataframe thead th {\n",
       "        text-align: right;\n",
       "    }\n",
       "</style>\n",
       "<table border=\"1\" class=\"dataframe\">\n",
       "  <thead>\n",
       "    <tr style=\"text-align: right;\">\n",
       "      <th></th>\n",
       "      <th>0</th>\n",
       "      <th>1</th>\n",
       "      <th>2</th>\n",
       "      <th>3</th>\n",
       "      <th>4</th>\n",
       "      <th>5</th>\n",
       "      <th>6</th>\n",
       "      <th>7</th>\n",
       "      <th>8</th>\n",
       "      <th>9</th>\n",
       "      <th>...</th>\n",
       "      <th>3073</th>\n",
       "      <th>3074</th>\n",
       "      <th>3075</th>\n",
       "      <th>3076</th>\n",
       "      <th>3077</th>\n",
       "      <th>3078</th>\n",
       "      <th>3079</th>\n",
       "      <th>3080</th>\n",
       "      <th>3081</th>\n",
       "      <th>3082</th>\n",
       "    </tr>\n",
       "  </thead>\n",
       "  <tbody>\n",
       "    <tr>\n",
       "      <th>0</th>\n",
       "      <td>0.000000</td>\n",
       "      <td>0.000000</td>\n",
       "      <td>0.000000</td>\n",
       "      <td>0.000000</td>\n",
       "      <td>0.000000</td>\n",
       "      <td>0.000000</td>\n",
       "      <td>0.000000</td>\n",
       "      <td>0.000000</td>\n",
       "      <td>0.000000</td>\n",
       "      <td>0.000000</td>\n",
       "      <td>...</td>\n",
       "      <td>0.000000</td>\n",
       "      <td>0.000000</td>\n",
       "      <td>0.000000</td>\n",
       "      <td>0.000000</td>\n",
       "      <td>0.000000</td>\n",
       "      <td>0.000000</td>\n",
       "      <td>0.000000</td>\n",
       "      <td>0.000000</td>\n",
       "      <td>0.000000</td>\n",
       "      <td>0.000000</td>\n",
       "    </tr>\n",
       "    <tr>\n",
       "      <th>1</th>\n",
       "      <td>2.000000</td>\n",
       "      <td>4.000000</td>\n",
       "      <td>2.449490</td>\n",
       "      <td>0.000000</td>\n",
       "      <td>3.316625</td>\n",
       "      <td>0.000000</td>\n",
       "      <td>3.000000</td>\n",
       "      <td>1.732051</td>\n",
       "      <td>1.414214</td>\n",
       "      <td>3.872983</td>\n",
       "      <td>...</td>\n",
       "      <td>1.414214</td>\n",
       "      <td>2.645751</td>\n",
       "      <td>1.414214</td>\n",
       "      <td>1.000000</td>\n",
       "      <td>0.000000</td>\n",
       "      <td>0.000000</td>\n",
       "      <td>0.000000</td>\n",
       "      <td>2.449490</td>\n",
       "      <td>1.000000</td>\n",
       "      <td>1.414214</td>\n",
       "    </tr>\n",
       "    <tr>\n",
       "      <th>2</th>\n",
       "      <td>2.828427</td>\n",
       "      <td>4.123106</td>\n",
       "      <td>2.449490</td>\n",
       "      <td>0.000000</td>\n",
       "      <td>3.872983</td>\n",
       "      <td>3.000000</td>\n",
       "      <td>3.162278</td>\n",
       "      <td>1.732051</td>\n",
       "      <td>2.645751</td>\n",
       "      <td>4.358899</td>\n",
       "      <td>...</td>\n",
       "      <td>1.414214</td>\n",
       "      <td>2.645751</td>\n",
       "      <td>1.732051</td>\n",
       "      <td>1.000000</td>\n",
       "      <td>0.000000</td>\n",
       "      <td>2.000000</td>\n",
       "      <td>1.000000</td>\n",
       "      <td>2.645751</td>\n",
       "      <td>1.732051</td>\n",
       "      <td>1.414214</td>\n",
       "    </tr>\n",
       "    <tr>\n",
       "      <th>3</th>\n",
       "      <td>3.000000</td>\n",
       "      <td>4.123106</td>\n",
       "      <td>2.645751</td>\n",
       "      <td>0.000000</td>\n",
       "      <td>4.000000</td>\n",
       "      <td>3.000000</td>\n",
       "      <td>3.162278</td>\n",
       "      <td>1.732051</td>\n",
       "      <td>2.828427</td>\n",
       "      <td>4.690416</td>\n",
       "      <td>...</td>\n",
       "      <td>1.732051</td>\n",
       "      <td>3.000000</td>\n",
       "      <td>2.000000</td>\n",
       "      <td>1.000000</td>\n",
       "      <td>0.000000</td>\n",
       "      <td>2.645751</td>\n",
       "      <td>1.000000</td>\n",
       "      <td>2.645751</td>\n",
       "      <td>1.732051</td>\n",
       "      <td>1.414214</td>\n",
       "    </tr>\n",
       "    <tr>\n",
       "      <th>4</th>\n",
       "      <td>3.000000</td>\n",
       "      <td>4.123106</td>\n",
       "      <td>2.645751</td>\n",
       "      <td>0.000000</td>\n",
       "      <td>4.000000</td>\n",
       "      <td>3.000000</td>\n",
       "      <td>3.162278</td>\n",
       "      <td>2.000000</td>\n",
       "      <td>2.828427</td>\n",
       "      <td>4.690416</td>\n",
       "      <td>...</td>\n",
       "      <td>2.000000</td>\n",
       "      <td>3.872983</td>\n",
       "      <td>2.000000</td>\n",
       "      <td>1.000000</td>\n",
       "      <td>0.000000</td>\n",
       "      <td>3.464102</td>\n",
       "      <td>1.414214</td>\n",
       "      <td>2.828427</td>\n",
       "      <td>1.732051</td>\n",
       "      <td>1.414214</td>\n",
       "    </tr>\n",
       "    <tr>\n",
       "      <th>...</th>\n",
       "      <td>...</td>\n",
       "      <td>...</td>\n",
       "      <td>...</td>\n",
       "      <td>...</td>\n",
       "      <td>...</td>\n",
       "      <td>...</td>\n",
       "      <td>...</td>\n",
       "      <td>...</td>\n",
       "      <td>...</td>\n",
       "      <td>...</td>\n",
       "      <td>...</td>\n",
       "      <td>...</td>\n",
       "      <td>...</td>\n",
       "      <td>...</td>\n",
       "      <td>...</td>\n",
       "      <td>...</td>\n",
       "      <td>...</td>\n",
       "      <td>...</td>\n",
       "      <td>...</td>\n",
       "      <td>...</td>\n",
       "      <td>...</td>\n",
       "    </tr>\n",
       "    <tr>\n",
       "      <th>3078</th>\n",
       "      <td>9.539392</td>\n",
       "      <td>9.486833</td>\n",
       "      <td>9.380832</td>\n",
       "      <td>9.643651</td>\n",
       "      <td>10.583005</td>\n",
       "      <td>9.486833</td>\n",
       "      <td>9.643651</td>\n",
       "      <td>9.433981</td>\n",
       "      <td>8.944272</td>\n",
       "      <td>10.198039</td>\n",
       "      <td>...</td>\n",
       "      <td>9.273619</td>\n",
       "      <td>8.602325</td>\n",
       "      <td>9.110434</td>\n",
       "      <td>9.327379</td>\n",
       "      <td>9.273619</td>\n",
       "      <td>8.717798</td>\n",
       "      <td>9.380832</td>\n",
       "      <td>8.831760</td>\n",
       "      <td>9.433981</td>\n",
       "      <td>9.327379</td>\n",
       "    </tr>\n",
       "    <tr>\n",
       "      <th>3079</th>\n",
       "      <td>9.591663</td>\n",
       "      <td>9.539392</td>\n",
       "      <td>9.433981</td>\n",
       "      <td>9.695360</td>\n",
       "      <td>10.630146</td>\n",
       "      <td>9.486833</td>\n",
       "      <td>9.695360</td>\n",
       "      <td>9.433981</td>\n",
       "      <td>9.110434</td>\n",
       "      <td>10.198039</td>\n",
       "      <td>...</td>\n",
       "      <td>9.273619</td>\n",
       "      <td>8.602325</td>\n",
       "      <td>9.110434</td>\n",
       "      <td>9.327379</td>\n",
       "      <td>9.273619</td>\n",
       "      <td>8.717798</td>\n",
       "      <td>9.380832</td>\n",
       "      <td>8.888194</td>\n",
       "      <td>9.433981</td>\n",
       "      <td>9.327379</td>\n",
       "    </tr>\n",
       "    <tr>\n",
       "      <th>3080</th>\n",
       "      <td>9.797959</td>\n",
       "      <td>9.539392</td>\n",
       "      <td>9.433981</td>\n",
       "      <td>9.746795</td>\n",
       "      <td>10.677078</td>\n",
       "      <td>9.539392</td>\n",
       "      <td>9.746795</td>\n",
       "      <td>9.486833</td>\n",
       "      <td>9.110434</td>\n",
       "      <td>10.198039</td>\n",
       "      <td>...</td>\n",
       "      <td>9.273619</td>\n",
       "      <td>8.602325</td>\n",
       "      <td>9.327379</td>\n",
       "      <td>9.380832</td>\n",
       "      <td>9.327379</td>\n",
       "      <td>8.717798</td>\n",
       "      <td>9.433981</td>\n",
       "      <td>9.000000</td>\n",
       "      <td>9.486833</td>\n",
       "      <td>9.380832</td>\n",
       "    </tr>\n",
       "    <tr>\n",
       "      <th>3081</th>\n",
       "      <td>9.797959</td>\n",
       "      <td>9.591663</td>\n",
       "      <td>9.643651</td>\n",
       "      <td>9.949874</td>\n",
       "      <td>10.862781</td>\n",
       "      <td>9.746795</td>\n",
       "      <td>9.746795</td>\n",
       "      <td>9.695360</td>\n",
       "      <td>9.273619</td>\n",
       "      <td>10.246951</td>\n",
       "      <td>...</td>\n",
       "      <td>9.486833</td>\n",
       "      <td>8.660254</td>\n",
       "      <td>9.433981</td>\n",
       "      <td>9.591663</td>\n",
       "      <td>9.539392</td>\n",
       "      <td>8.717798</td>\n",
       "      <td>9.643651</td>\n",
       "      <td>9.055386</td>\n",
       "      <td>9.643651</td>\n",
       "      <td>9.591663</td>\n",
       "    </tr>\n",
       "    <tr>\n",
       "      <th>3082</th>\n",
       "      <td>10.049875</td>\n",
       "      <td>9.797959</td>\n",
       "      <td>9.797959</td>\n",
       "      <td>10.392304</td>\n",
       "      <td>11.090536</td>\n",
       "      <td>9.797959</td>\n",
       "      <td>9.899495</td>\n",
       "      <td>9.848858</td>\n",
       "      <td>9.591663</td>\n",
       "      <td>10.344080</td>\n",
       "      <td>...</td>\n",
       "      <td>9.746795</td>\n",
       "      <td>8.660254</td>\n",
       "      <td>9.486833</td>\n",
       "      <td>9.949874</td>\n",
       "      <td>9.797959</td>\n",
       "      <td>8.888194</td>\n",
       "      <td>9.695360</td>\n",
       "      <td>9.486833</td>\n",
       "      <td>9.695360</td>\n",
       "      <td>9.949874</td>\n",
       "    </tr>\n",
       "  </tbody>\n",
       "</table>\n",
       "<p>3083 rows × 3083 columns</p>\n",
       "</div>"
      ],
      "text/plain": [
       "           0         1         2          3          4         5         6     \\\n",
       "0      0.000000  0.000000  0.000000   0.000000   0.000000  0.000000  0.000000   \n",
       "1      2.000000  4.000000  2.449490   0.000000   3.316625  0.000000  3.000000   \n",
       "2      2.828427  4.123106  2.449490   0.000000   3.872983  3.000000  3.162278   \n",
       "3      3.000000  4.123106  2.645751   0.000000   4.000000  3.000000  3.162278   \n",
       "4      3.000000  4.123106  2.645751   0.000000   4.000000  3.000000  3.162278   \n",
       "...         ...       ...       ...        ...        ...       ...       ...   \n",
       "3078   9.539392  9.486833  9.380832   9.643651  10.583005  9.486833  9.643651   \n",
       "3079   9.591663  9.539392  9.433981   9.695360  10.630146  9.486833  9.695360   \n",
       "3080   9.797959  9.539392  9.433981   9.746795  10.677078  9.539392  9.746795   \n",
       "3081   9.797959  9.591663  9.643651   9.949874  10.862781  9.746795  9.746795   \n",
       "3082  10.049875  9.797959  9.797959  10.392304  11.090536  9.797959  9.899495   \n",
       "\n",
       "          7         8          9     ...      3073      3074      3075  \\\n",
       "0     0.000000  0.000000   0.000000  ...  0.000000  0.000000  0.000000   \n",
       "1     1.732051  1.414214   3.872983  ...  1.414214  2.645751  1.414214   \n",
       "2     1.732051  2.645751   4.358899  ...  1.414214  2.645751  1.732051   \n",
       "3     1.732051  2.828427   4.690416  ...  1.732051  3.000000  2.000000   \n",
       "4     2.000000  2.828427   4.690416  ...  2.000000  3.872983  2.000000   \n",
       "...        ...       ...        ...  ...       ...       ...       ...   \n",
       "3078  9.433981  8.944272  10.198039  ...  9.273619  8.602325  9.110434   \n",
       "3079  9.433981  9.110434  10.198039  ...  9.273619  8.602325  9.110434   \n",
       "3080  9.486833  9.110434  10.198039  ...  9.273619  8.602325  9.327379   \n",
       "3081  9.695360  9.273619  10.246951  ...  9.486833  8.660254  9.433981   \n",
       "3082  9.848858  9.591663  10.344080  ...  9.746795  8.660254  9.486833   \n",
       "\n",
       "          3076      3077      3078      3079      3080      3081      3082  \n",
       "0     0.000000  0.000000  0.000000  0.000000  0.000000  0.000000  0.000000  \n",
       "1     1.000000  0.000000  0.000000  0.000000  2.449490  1.000000  1.414214  \n",
       "2     1.000000  0.000000  2.000000  1.000000  2.645751  1.732051  1.414214  \n",
       "3     1.000000  0.000000  2.645751  1.000000  2.645751  1.732051  1.414214  \n",
       "4     1.000000  0.000000  3.464102  1.414214  2.828427  1.732051  1.414214  \n",
       "...        ...       ...       ...       ...       ...       ...       ...  \n",
       "3078  9.327379  9.273619  8.717798  9.380832  8.831760  9.433981  9.327379  \n",
       "3079  9.327379  9.273619  8.717798  9.380832  8.888194  9.433981  9.327379  \n",
       "3080  9.380832  9.327379  8.717798  9.433981  9.000000  9.486833  9.380832  \n",
       "3081  9.591663  9.539392  8.717798  9.643651  9.055386  9.643651  9.591663  \n",
       "3082  9.949874  9.797959  8.888194  9.695360  9.486833  9.695360  9.949874  \n",
       "\n",
       "[3083 rows x 3083 columns]"
      ]
     },
     "execution_count": 133,
     "metadata": {},
     "output_type": "execute_result"
    }
   ],
   "source": [
    "df_tr=pd.DataFrame(neighbors_k)\n",
    "df_tr"
   ]
  },
  {
   "cell_type": "code",
   "execution_count": 134,
   "metadata": {},
   "outputs": [],
   "source": [
    "similarity= neighbors_k"
   ]
  },
  {
   "cell_type": "code",
   "execution_count": 135,
   "metadata": {},
   "outputs": [],
   "source": [
    "Dmean=np.mean(similarity[1,:])"
   ]
  },
  {
   "cell_type": "code",
   "execution_count": 136,
   "metadata": {},
   "outputs": [
    {
     "data": {
      "text/plain": [
       "1.14"
      ]
     },
     "execution_count": 136,
     "metadata": {},
     "output_type": "execute_result"
    }
   ],
   "source": [
    "round(Dmean, 2)"
   ]
  },
  {
   "cell_type": "code",
   "execution_count": 137,
   "metadata": {},
   "outputs": [],
   "source": [
    "std=np.std(similarity[1,:])"
   ]
  },
  {
   "cell_type": "code",
   "execution_count": 138,
   "metadata": {},
   "outputs": [
    {
     "data": {
      "text/plain": [
       "1.27"
      ]
     },
     "execution_count": 138,
     "metadata": {},
     "output_type": "execute_result"
    }
   ],
   "source": [
    "round(std, 2)"
   ]
  },
  {
   "cell_type": "code",
   "execution_count": 139,
   "metadata": {},
   "outputs": [
    {
     "name": "stdout",
     "output_type": "stream",
     "text": [
      "1.77\n"
     ]
    }
   ],
   "source": [
    "model_AD_limit=Dmean+std*0.5\n",
    "print(np.round(model_AD_limit, 2))"
   ]
  },
  {
   "cell_type": "code",
   "execution_count": 140,
   "metadata": {},
   "outputs": [],
   "source": [
    "neighbors_k_ts= pairwise_distances(x_tr,Y=x_ts, n_jobs=-1)\n",
    "neighbors_k_ts.sort(0)"
   ]
  },
  {
   "cell_type": "code",
   "execution_count": 141,
   "metadata": {},
   "outputs": [
    {
     "data": {
      "text/html": [
       "<div>\n",
       "<style scoped>\n",
       "    .dataframe tbody tr th:only-of-type {\n",
       "        vertical-align: middle;\n",
       "    }\n",
       "\n",
       "    .dataframe tbody tr th {\n",
       "        vertical-align: top;\n",
       "    }\n",
       "\n",
       "    .dataframe thead th {\n",
       "        text-align: right;\n",
       "    }\n",
       "</style>\n",
       "<table border=\"1\" class=\"dataframe\">\n",
       "  <thead>\n",
       "    <tr style=\"text-align: right;\">\n",
       "      <th></th>\n",
       "      <th>0</th>\n",
       "      <th>1</th>\n",
       "      <th>2</th>\n",
       "      <th>3</th>\n",
       "      <th>4</th>\n",
       "      <th>5</th>\n",
       "      <th>6</th>\n",
       "      <th>7</th>\n",
       "      <th>8</th>\n",
       "      <th>9</th>\n",
       "      <th>...</th>\n",
       "      <th>761</th>\n",
       "      <th>762</th>\n",
       "      <th>763</th>\n",
       "      <th>764</th>\n",
       "      <th>765</th>\n",
       "      <th>766</th>\n",
       "      <th>767</th>\n",
       "      <th>768</th>\n",
       "      <th>769</th>\n",
       "      <th>770</th>\n",
       "    </tr>\n",
       "  </thead>\n",
       "  <tbody>\n",
       "    <tr>\n",
       "      <th>0</th>\n",
       "      <td>2.828427</td>\n",
       "      <td>2.000000</td>\n",
       "      <td>0.000000</td>\n",
       "      <td>2.000000</td>\n",
       "      <td>0.000000</td>\n",
       "      <td>0.000000</td>\n",
       "      <td>0.000000</td>\n",
       "      <td>0.000000</td>\n",
       "      <td>0.000000</td>\n",
       "      <td>0.000000</td>\n",
       "      <td>...</td>\n",
       "      <td>2.449490</td>\n",
       "      <td>2.645751</td>\n",
       "      <td>1.000000</td>\n",
       "      <td>0.000000</td>\n",
       "      <td>0.000000</td>\n",
       "      <td>3.316625</td>\n",
       "      <td>0.000000</td>\n",
       "      <td>3.605551</td>\n",
       "      <td>1.732051</td>\n",
       "      <td>0.000000</td>\n",
       "    </tr>\n",
       "    <tr>\n",
       "      <th>1</th>\n",
       "      <td>3.162278</td>\n",
       "      <td>2.000000</td>\n",
       "      <td>0.000000</td>\n",
       "      <td>2.449490</td>\n",
       "      <td>1.000000</td>\n",
       "      <td>1.414214</td>\n",
       "      <td>1.414214</td>\n",
       "      <td>0.000000</td>\n",
       "      <td>0.000000</td>\n",
       "      <td>0.000000</td>\n",
       "      <td>...</td>\n",
       "      <td>3.162278</td>\n",
       "      <td>2.645751</td>\n",
       "      <td>1.000000</td>\n",
       "      <td>0.000000</td>\n",
       "      <td>0.000000</td>\n",
       "      <td>3.464102</td>\n",
       "      <td>2.645751</td>\n",
       "      <td>3.741657</td>\n",
       "      <td>1.732051</td>\n",
       "      <td>0.000000</td>\n",
       "    </tr>\n",
       "    <tr>\n",
       "      <th>2</th>\n",
       "      <td>3.162278</td>\n",
       "      <td>2.000000</td>\n",
       "      <td>0.000000</td>\n",
       "      <td>2.449490</td>\n",
       "      <td>1.414214</td>\n",
       "      <td>3.000000</td>\n",
       "      <td>1.414214</td>\n",
       "      <td>0.000000</td>\n",
       "      <td>0.000000</td>\n",
       "      <td>0.000000</td>\n",
       "      <td>...</td>\n",
       "      <td>3.162278</td>\n",
       "      <td>2.645751</td>\n",
       "      <td>1.732051</td>\n",
       "      <td>1.414214</td>\n",
       "      <td>0.000000</td>\n",
       "      <td>3.464102</td>\n",
       "      <td>2.645751</td>\n",
       "      <td>3.872983</td>\n",
       "      <td>2.000000</td>\n",
       "      <td>1.000000</td>\n",
       "    </tr>\n",
       "    <tr>\n",
       "      <th>3</th>\n",
       "      <td>3.316625</td>\n",
       "      <td>2.000000</td>\n",
       "      <td>1.000000</td>\n",
       "      <td>2.645751</td>\n",
       "      <td>2.449490</td>\n",
       "      <td>3.000000</td>\n",
       "      <td>1.414214</td>\n",
       "      <td>0.000000</td>\n",
       "      <td>3.464102</td>\n",
       "      <td>1.414214</td>\n",
       "      <td>...</td>\n",
       "      <td>3.316625</td>\n",
       "      <td>2.645751</td>\n",
       "      <td>1.732051</td>\n",
       "      <td>1.414214</td>\n",
       "      <td>0.000000</td>\n",
       "      <td>3.464102</td>\n",
       "      <td>3.000000</td>\n",
       "      <td>4.000000</td>\n",
       "      <td>2.000000</td>\n",
       "      <td>1.000000</td>\n",
       "    </tr>\n",
       "    <tr>\n",
       "      <th>4</th>\n",
       "      <td>3.316625</td>\n",
       "      <td>2.000000</td>\n",
       "      <td>1.414214</td>\n",
       "      <td>2.645751</td>\n",
       "      <td>2.449490</td>\n",
       "      <td>3.162278</td>\n",
       "      <td>1.414214</td>\n",
       "      <td>0.000000</td>\n",
       "      <td>3.872983</td>\n",
       "      <td>1.414214</td>\n",
       "      <td>...</td>\n",
       "      <td>3.464102</td>\n",
       "      <td>3.000000</td>\n",
       "      <td>2.000000</td>\n",
       "      <td>1.414214</td>\n",
       "      <td>0.000000</td>\n",
       "      <td>3.464102</td>\n",
       "      <td>3.872983</td>\n",
       "      <td>4.000000</td>\n",
       "      <td>2.000000</td>\n",
       "      <td>1.414214</td>\n",
       "    </tr>\n",
       "    <tr>\n",
       "      <th>...</th>\n",
       "      <td>...</td>\n",
       "      <td>...</td>\n",
       "      <td>...</td>\n",
       "      <td>...</td>\n",
       "      <td>...</td>\n",
       "      <td>...</td>\n",
       "      <td>...</td>\n",
       "      <td>...</td>\n",
       "      <td>...</td>\n",
       "      <td>...</td>\n",
       "      <td>...</td>\n",
       "      <td>...</td>\n",
       "      <td>...</td>\n",
       "      <td>...</td>\n",
       "      <td>...</td>\n",
       "      <td>...</td>\n",
       "      <td>...</td>\n",
       "      <td>...</td>\n",
       "      <td>...</td>\n",
       "      <td>...</td>\n",
       "      <td>...</td>\n",
       "    </tr>\n",
       "    <tr>\n",
       "      <th>3078</th>\n",
       "      <td>10.099504</td>\n",
       "      <td>9.433981</td>\n",
       "      <td>9.380832</td>\n",
       "      <td>9.380832</td>\n",
       "      <td>9.273619</td>\n",
       "      <td>9.055386</td>\n",
       "      <td>9.219544</td>\n",
       "      <td>9.327379</td>\n",
       "      <td>9.539392</td>\n",
       "      <td>9.486833</td>\n",
       "      <td>...</td>\n",
       "      <td>8.888194</td>\n",
       "      <td>8.944272</td>\n",
       "      <td>9.165152</td>\n",
       "      <td>9.165152</td>\n",
       "      <td>9.380832</td>\n",
       "      <td>9.380832</td>\n",
       "      <td>8.602325</td>\n",
       "      <td>9.273619</td>\n",
       "      <td>9.165152</td>\n",
       "      <td>9.380832</td>\n",
       "    </tr>\n",
       "    <tr>\n",
       "      <th>3079</th>\n",
       "      <td>10.148891</td>\n",
       "      <td>9.486833</td>\n",
       "      <td>9.380832</td>\n",
       "      <td>9.380832</td>\n",
       "      <td>9.327379</td>\n",
       "      <td>9.165152</td>\n",
       "      <td>9.219544</td>\n",
       "      <td>9.380832</td>\n",
       "      <td>9.591663</td>\n",
       "      <td>9.486833</td>\n",
       "      <td>...</td>\n",
       "      <td>9.110434</td>\n",
       "      <td>8.944272</td>\n",
       "      <td>9.219544</td>\n",
       "      <td>9.165152</td>\n",
       "      <td>9.380832</td>\n",
       "      <td>9.433981</td>\n",
       "      <td>8.602325</td>\n",
       "      <td>9.273619</td>\n",
       "      <td>9.165152</td>\n",
       "      <td>9.380832</td>\n",
       "    </tr>\n",
       "    <tr>\n",
       "      <th>3080</th>\n",
       "      <td>10.246951</td>\n",
       "      <td>9.486833</td>\n",
       "      <td>9.433981</td>\n",
       "      <td>9.433981</td>\n",
       "      <td>9.380832</td>\n",
       "      <td>9.219544</td>\n",
       "      <td>9.273619</td>\n",
       "      <td>9.380832</td>\n",
       "      <td>9.591663</td>\n",
       "      <td>9.539392</td>\n",
       "      <td>...</td>\n",
       "      <td>9.110434</td>\n",
       "      <td>8.944272</td>\n",
       "      <td>9.219544</td>\n",
       "      <td>9.219544</td>\n",
       "      <td>9.433981</td>\n",
       "      <td>9.486833</td>\n",
       "      <td>8.602325</td>\n",
       "      <td>9.273619</td>\n",
       "      <td>9.165152</td>\n",
       "      <td>9.433981</td>\n",
       "    </tr>\n",
       "    <tr>\n",
       "      <th>3081</th>\n",
       "      <td>10.344080</td>\n",
       "      <td>9.695360</td>\n",
       "      <td>9.643651</td>\n",
       "      <td>9.486833</td>\n",
       "      <td>9.433981</td>\n",
       "      <td>9.219544</td>\n",
       "      <td>9.486833</td>\n",
       "      <td>9.433981</td>\n",
       "      <td>9.643651</td>\n",
       "      <td>9.746795</td>\n",
       "      <td>...</td>\n",
       "      <td>9.165152</td>\n",
       "      <td>9.000000</td>\n",
       "      <td>9.433981</td>\n",
       "      <td>9.273619</td>\n",
       "      <td>9.643651</td>\n",
       "      <td>9.539392</td>\n",
       "      <td>8.660254</td>\n",
       "      <td>9.327379</td>\n",
       "      <td>9.380832</td>\n",
       "      <td>9.643651</td>\n",
       "    </tr>\n",
       "    <tr>\n",
       "      <th>3082</th>\n",
       "      <td>10.488089</td>\n",
       "      <td>9.949874</td>\n",
       "      <td>10.099504</td>\n",
       "      <td>9.539392</td>\n",
       "      <td>9.746795</td>\n",
       "      <td>9.486833</td>\n",
       "      <td>10.049875</td>\n",
       "      <td>9.591663</td>\n",
       "      <td>9.848858</td>\n",
       "      <td>10.198039</td>\n",
       "      <td>...</td>\n",
       "      <td>9.695360</td>\n",
       "      <td>9.643651</td>\n",
       "      <td>9.591663</td>\n",
       "      <td>9.643651</td>\n",
       "      <td>9.899495</td>\n",
       "      <td>9.539392</td>\n",
       "      <td>8.660254</td>\n",
       "      <td>9.380832</td>\n",
       "      <td>9.643651</td>\n",
       "      <td>9.695360</td>\n",
       "    </tr>\n",
       "  </tbody>\n",
       "</table>\n",
       "<p>3083 rows × 771 columns</p>\n",
       "</div>"
      ],
      "text/plain": [
       "            0         1          2         3         4         5          6    \\\n",
       "0      2.828427  2.000000   0.000000  2.000000  0.000000  0.000000   0.000000   \n",
       "1      3.162278  2.000000   0.000000  2.449490  1.000000  1.414214   1.414214   \n",
       "2      3.162278  2.000000   0.000000  2.449490  1.414214  3.000000   1.414214   \n",
       "3      3.316625  2.000000   1.000000  2.645751  2.449490  3.000000   1.414214   \n",
       "4      3.316625  2.000000   1.414214  2.645751  2.449490  3.162278   1.414214   \n",
       "...         ...       ...        ...       ...       ...       ...        ...   \n",
       "3078  10.099504  9.433981   9.380832  9.380832  9.273619  9.055386   9.219544   \n",
       "3079  10.148891  9.486833   9.380832  9.380832  9.327379  9.165152   9.219544   \n",
       "3080  10.246951  9.486833   9.433981  9.433981  9.380832  9.219544   9.273619   \n",
       "3081  10.344080  9.695360   9.643651  9.486833  9.433981  9.219544   9.486833   \n",
       "3082  10.488089  9.949874  10.099504  9.539392  9.746795  9.486833  10.049875   \n",
       "\n",
       "           7         8          9    ...       761       762       763  \\\n",
       "0     0.000000  0.000000   0.000000  ...  2.449490  2.645751  1.000000   \n",
       "1     0.000000  0.000000   0.000000  ...  3.162278  2.645751  1.000000   \n",
       "2     0.000000  0.000000   0.000000  ...  3.162278  2.645751  1.732051   \n",
       "3     0.000000  3.464102   1.414214  ...  3.316625  2.645751  1.732051   \n",
       "4     0.000000  3.872983   1.414214  ...  3.464102  3.000000  2.000000   \n",
       "...        ...       ...        ...  ...       ...       ...       ...   \n",
       "3078  9.327379  9.539392   9.486833  ...  8.888194  8.944272  9.165152   \n",
       "3079  9.380832  9.591663   9.486833  ...  9.110434  8.944272  9.219544   \n",
       "3080  9.380832  9.591663   9.539392  ...  9.110434  8.944272  9.219544   \n",
       "3081  9.433981  9.643651   9.746795  ...  9.165152  9.000000  9.433981   \n",
       "3082  9.591663  9.848858  10.198039  ...  9.695360  9.643651  9.591663   \n",
       "\n",
       "           764       765       766       767       768       769       770  \n",
       "0     0.000000  0.000000  3.316625  0.000000  3.605551  1.732051  0.000000  \n",
       "1     0.000000  0.000000  3.464102  2.645751  3.741657  1.732051  0.000000  \n",
       "2     1.414214  0.000000  3.464102  2.645751  3.872983  2.000000  1.000000  \n",
       "3     1.414214  0.000000  3.464102  3.000000  4.000000  2.000000  1.000000  \n",
       "4     1.414214  0.000000  3.464102  3.872983  4.000000  2.000000  1.414214  \n",
       "...        ...       ...       ...       ...       ...       ...       ...  \n",
       "3078  9.165152  9.380832  9.380832  8.602325  9.273619  9.165152  9.380832  \n",
       "3079  9.165152  9.380832  9.433981  8.602325  9.273619  9.165152  9.380832  \n",
       "3080  9.219544  9.433981  9.486833  8.602325  9.273619  9.165152  9.433981  \n",
       "3081  9.273619  9.643651  9.539392  8.660254  9.327379  9.380832  9.643651  \n",
       "3082  9.643651  9.899495  9.539392  8.660254  9.380832  9.643651  9.695360  \n",
       "\n",
       "[3083 rows x 771 columns]"
      ]
     },
     "execution_count": 141,
     "metadata": {},
     "output_type": "execute_result"
    }
   ],
   "source": [
    "x_ts_AD=pd.DataFrame(neighbors_k_ts)\n",
    "x_ts_AD"
   ]
  },
  {
   "cell_type": "code",
   "execution_count": 142,
   "metadata": {},
   "outputs": [
    {
     "name": "stdout",
     "output_type": "stream",
     "text": [
      "[2.828 2.    0.    2.    0.    0.    0.    0.    0.    0.    0.    0.\n",
      " 1.732 1.732 1.    1.732 0.    0.    2.646 0.    2.449 1.    1.    0.\n",
      " 3.    0.    2.646 3.162 0.    1.732 0.    1.732 1.414 1.732 3.606 1.\n",
      " 0.    1.732 0.    1.732 1.    0.    0.    2.    1.    1.    2.236 0.\n",
      " 0.    1.    1.732 0.    3.606 1.    0.    0.    1.414 0.    1.414 0.\n",
      " 0.    1.    1.    2.236 1.414 2.449 2.449 0.    2.    1.732 5.    0.\n",
      " 0.    0.    0.    1.    0.    1.    1.414 0.    1.    0.    3.162 0.\n",
      " 2.828 2.236 1.414 0.    2.236 0.    2.    3.162 0.    0.    0.    2.\n",
      " 2.    3.317 1.414 2.449 1.    1.414 0.    2.236 2.236 2.449 0.    2.449\n",
      " 1.414 2.    1.414 3.    0.    2.646 0.    0.    0.    0.    1.    0.\n",
      " 0.    0.    1.414 3.606 3.317 0.    0.    0.    0.    1.414 2.828 0.\n",
      " 1.414 1.    2.449 2.646 4.69  0.    2.    0.    1.    1.    2.449 0.\n",
      " 3.162 0.    2.236 0.    2.    1.    0.    0.    3.464 1.732 1.732 2.828\n",
      " 2.449 2.    2.236 0.    0.    2.828 2.646 4.243 2.236 0.    3.317 1.\n",
      " 0.    0.    1.732 4.    1.    2.828 1.    2.449 1.    0.    0.    2.\n",
      " 1.414 0.    0.    0.    0.    0.    0.    3.742 1.    0.    3.    1.732\n",
      " 2.449 0.    3.742 0.    0.    1.732 0.    0.    2.    1.    1.732 0.\n",
      " 2.449 2.    0.    0.    0.    2.828 0.    2.449 0.    1.    1.    0.\n",
      " 2.449 0.    0.    0.    1.414 1.414 1.    0.    1.    4.123 0.    1.\n",
      " 1.    1.    0.    0.    0.    0.    0.    0.    1.732 0.    0.    1.414\n",
      " 1.    0.    1.    3.606 0.    0.    1.414 1.    1.    0.    1.732 1.732\n",
      " 0.    1.732 0.    0.    1.732 0.    2.449 1.    2.646 0.    1.    2.828\n",
      " 1.    0.    0.    0.    3.317 2.646 0.    3.317 1.732 1.732 2.449 1.732\n",
      " 1.414 1.    0.    2.646 3.162 2.449 0.    0.    1.732 2.646 0.    0.\n",
      " 0.    1.732 1.    1.732 1.732 0.    0.    0.    3.464 1.414 1.732 0.\n",
      " 1.732 1.    0.    0.    0.    0.    0.    4.    1.414 1.    0.    3.\n",
      " 2.    1.732 0.    2.    0.    0.    0.    0.    0.    0.    2.646 4.796\n",
      " 5.099 0.    3.317 3.162 5.099 1.    1.    0.    0.    2.449 1.414 0.\n",
      " 1.414 1.414 2.449 1.732 0.    3.162 0.    0.    1.732 1.414 0.    0.\n",
      " 0.    0.    1.414 2.    3.606 2.646 1.    0.    0.    1.    0.    0.\n",
      " 0.    3.162 1.414 0.    1.414 1.414 2.828 0.    1.732 0.    0.    1.732\n",
      " 0.    1.    0.    1.414 1.    1.    0.    0.    0.    4.    1.414 0.\n",
      " 0.    4.123 0.    0.    1.    1.    0.    0.    2.    1.414 1.    0.\n",
      " 4.123 0.    0.    1.414 0.    1.414 1.414 0.    2.828 0.    0.    0.\n",
      " 0.    0.    1.    0.    0.    0.    0.    1.414 1.    1.    0.    4.243\n",
      " 0.    2.236 1.732 0.    0.    1.732 0.    0.    0.    1.414 0.    3.742\n",
      " 0.    0.    5.196 0.    2.646 1.    0.    3.    0.    0.    2.    0.\n",
      " 1.732 1.    1.    1.732 0.    1.414 0.    0.    1.    1.732 1.    3.\n",
      " 0.    0.    2.449 0.    0.    3.742 1.    2.    0.    0.    0.    1.732\n",
      " 3.873 0.    1.    0.    0.    2.646 0.    1.    0.    0.    1.    0.\n",
      " 2.646 0.    0.    0.    0.    0.    0.    1.414 1.732 0.    0.    0.\n",
      " 0.    0.    0.    3.464 1.    0.    0.    1.414 4.472 1.414 0.    0.\n",
      " 0.    0.    0.    0.    0.    0.    0.    1.414 1.732 0.    1.    0.\n",
      " 0.    0.    2.236 0.    0.    1.414 1.732 2.    2.    3.317 0.    0.\n",
      " 0.    0.    1.414 1.414 0.    3.162 4.69  0.    0.    3.742 1.414 1.\n",
      " 0.    0.    1.732 0.    2.    1.    0.    0.    0.    0.    2.236 1.\n",
      " 0.    0.    1.732 0.    2.646 0.    1.414 2.    1.732 0.    0.    2.\n",
      " 0.    2.    0.    0.    3.162 4.583 2.449 1.    0.    3.317 1.414 2.828\n",
      " 0.    0.    2.646 1.    0.    1.    0.    0.    4.243 0.    0.    1.732\n",
      " 1.732 3.606 1.    3.162 1.    1.414 1.    1.    1.    1.732 0.    0.\n",
      " 0.    0.    3.317 0.    3.    0.    2.    1.    0.    0.    1.414 0.\n",
      " 3.162 0.    1.732 0.    0.    1.    0.    2.236 3.    1.414 2.828 1.\n",
      " 1.414 3.    2.449 0.    2.236 1.732 2.449 0.    0.    0.    1.732 3.\n",
      " 0.    3.    0.    1.414 0.    0.    0.    1.    0.    0.    0.    1.414\n",
      " 3.742 1.732 1.732 1.414 2.236 1.414 0.    0.    3.464 1.732 1.414 0.\n",
      " 0.    0.    1.732 1.414 0.    1.    1.732 0.    0.    0.    3.464 2.828\n",
      " 4.472 0.    0.    0.    1.    2.236 1.    1.414 1.    0.    3.162 1.\n",
      " 1.414 0.    1.732 0.    0.    1.    2.236 1.    4.899 0.    1.    0.\n",
      " 1.414 2.449 1.    0.    0.    0.    0.    0.    0.    1.414 1.414 0.\n",
      " 1.    1.    1.414 1.732 0.    1.732 3.606 1.732 2.    0.    1.732 0.\n",
      " 0.    1.414 0.    0.    3.742 1.    1.    1.732 0.    1.414 0.    0.\n",
      " 1.732 0.    1.    4.796 1.    0.    3.317 3.606 4.243 0.    0.    2.449\n",
      " 1.    0.    2.    0.    2.449 0.    0.    1.732 0.    3.    0.    0.\n",
      " 3.317 3.464 0.    1.    0.    2.449 2.646 1.    0.    0.    3.317 0.\n",
      " 3.606 1.732 0.   ]\n"
     ]
    }
   ],
   "source": [
    "similarity_ts= neighbors_k_ts\n",
    "cpd_AD=similarity_ts[0,:]\n",
    "cpd_value = np.round(cpd_AD, 3)\n",
    "print(cpd_value)"
   ]
  },
  {
   "cell_type": "code",
   "execution_count": 143,
   "metadata": {},
   "outputs": [
    {
     "name": "stdout",
     "output_type": "stream",
     "text": [
      "[False False  True False  True  True  True  True  True  True  True  True\n",
      "  True  True  True  True  True  True False  True False  True  True  True\n",
      " False  True False False  True  True  True  True  True  True False  True\n",
      "  True  True  True  True  True  True  True False  True  True False  True\n",
      "  True  True  True  True False  True  True  True  True  True  True  True\n",
      "  True  True  True False  True False False  True False  True False  True\n",
      "  True  True  True  True  True  True  True  True  True  True False  True\n",
      " False False  True  True False  True False False  True  True  True False\n",
      " False False  True False  True  True  True False False False  True False\n",
      "  True False  True False  True False  True  True  True  True  True  True\n",
      "  True  True  True False False  True  True  True  True  True False  True\n",
      "  True  True False False False  True False  True  True  True False  True\n",
      " False  True False  True False  True  True  True False  True  True False\n",
      " False False False  True  True False False False False  True False  True\n",
      "  True  True  True False  True False  True False  True  True  True False\n",
      "  True  True  True  True  True  True  True False  True  True False  True\n",
      " False  True False  True  True  True  True  True False  True  True  True\n",
      " False False  True  True  True False  True False  True  True  True  True\n",
      " False  True  True  True  True  True  True  True  True False  True  True\n",
      "  True  True  True  True  True  True  True  True  True  True  True  True\n",
      "  True  True  True False  True  True  True  True  True  True  True  True\n",
      "  True  True  True  True  True  True False  True False  True  True False\n",
      "  True  True  True  True False False  True False  True  True False  True\n",
      "  True  True  True False False False  True  True  True False  True  True\n",
      "  True  True  True  True  True  True  True  True False  True  True  True\n",
      "  True  True  True  True  True  True  True False  True  True  True False\n",
      " False  True  True False  True  True  True  True  True  True False False\n",
      " False  True False False False  True  True  True  True False  True  True\n",
      "  True  True False  True  True False  True  True  True  True  True  True\n",
      "  True  True  True False False False  True  True  True  True  True  True\n",
      "  True False  True  True  True  True False  True  True  True  True  True\n",
      "  True  True  True  True  True  True  True  True  True False  True  True\n",
      "  True False  True  True  True  True  True  True False  True  True  True\n",
      " False  True  True  True  True  True  True  True False  True  True  True\n",
      "  True  True  True  True  True  True  True  True  True  True  True False\n",
      "  True False  True  True  True  True  True  True  True  True  True False\n",
      "  True  True False  True False  True  True False  True  True False  True\n",
      "  True  True  True  True  True  True  True  True  True  True  True False\n",
      "  True  True False  True  True False  True False  True  True  True  True\n",
      " False  True  True  True  True False  True  True  True  True  True  True\n",
      " False  True  True  True  True  True  True  True  True  True  True  True\n",
      "  True  True  True False  True  True  True  True False  True  True  True\n",
      "  True  True  True  True  True  True  True  True  True  True  True  True\n",
      "  True  True False  True  True  True  True False False False  True  True\n",
      "  True  True  True  True  True False False  True  True False  True  True\n",
      "  True  True  True  True False  True  True  True  True  True False  True\n",
      "  True  True  True  True False  True  True False  True  True  True False\n",
      "  True False  True  True False False False  True  True False  True False\n",
      "  True  True False  True  True  True  True  True False  True  True  True\n",
      "  True False  True False  True  True  True  True  True  True  True  True\n",
      "  True  True False  True False  True False  True  True  True  True  True\n",
      " False  True  True  True  True  True  True False False  True False  True\n",
      "  True False False  True False  True False  True  True  True  True False\n",
      "  True False  True  True  True  True  True  True  True  True  True  True\n",
      " False  True  True  True False  True  True  True False  True  True  True\n",
      "  True  True  True  True  True  True  True  True  True  True False False\n",
      " False  True  True  True  True False  True  True  True  True False  True\n",
      "  True  True  True  True  True  True False  True False  True  True  True\n",
      "  True False  True  True  True  True  True  True  True  True  True  True\n",
      "  True  True  True  True  True  True False  True False  True  True  True\n",
      "  True  True  True  True False  True  True  True  True  True  True  True\n",
      "  True  True  True False  True  True False False False  True  True False\n",
      "  True  True False  True False  True  True  True  True False  True  True\n",
      " False False  True  True  True False False  True  True  True False  True\n",
      " False  True  True]\n"
     ]
    }
   ],
   "source": [
    "cpd_AD = np.where(cpd_value <= model_AD_limit, True, False)\n",
    "print(cpd_AD)"
   ]
  },
  {
   "cell_type": "code",
   "execution_count": 144,
   "metadata": {},
   "outputs": [
    {
     "name": "stdout",
     "output_type": "stream",
     "text": [
      "Coverage =  0.76\n"
     ]
    }
   ],
   "source": [
    "print(\"Coverage = \", round(sum(cpd_AD) / len(cpd_AD), 2))"
   ]
  },
  {
   "cell_type": "code",
   "execution_count": 145,
   "metadata": {},
   "outputs": [
    {
     "name": "stdout",
     "output_type": "stream",
     "text": [
      "Indices of substances included in AD =  [  2   4   5   6   7   8   9  10  11  12  13  14  15  16  17  19  21  22\n",
      "  23  25  28  29  30  31  32  33  35  36  37  38  39  40  41  42  44  45\n",
      "  47  48  49  50  51  53  54  55  56  57  58  59  60  61  62  64  67  69\n",
      "  71  72  73  74  75  76  77  78  79  80  81  83  86  87  89  92  93  94\n",
      "  98 100 101 102 106 108 110 112 114 115 116 117 118 119 120 121 122 125\n",
      " 126 127 128 129 131 132 133 137 139 140 141 143 145 147 149 150 151 153\n",
      " 154 159 160 165 167 168 169 170 172 174 176 177 178 180 181 182 183 184\n",
      " 185 186 188 189 191 193 195 196 197 198 199 201 202 203 206 207 208 210\n",
      " 212 213 214 215 217 218 219 220 221 222 223 224 226 227 228 229 230 231\n",
      " 232 233 234 235 236 237 238 239 240 241 242 244 245 246 247 248 249 250\n",
      " 251 252 253 254 255 256 257 259 261 262 264 265 266 267 270 272 273 275\n",
      " 276 277 278 282 283 284 286 287 288 289 290 291 292 293 294 295 297 298\n",
      " 299 300 301 302 303 304 305 306 308 309 310 313 314 316 317 318 319 320\n",
      " 321 325 329 330 331 332 334 335 336 337 339 340 342 343 344 345 346 347\n",
      " 348 349 350 354 355 356 357 358 359 360 362 363 364 365 367 368 369 370\n",
      " 371 372 373 374 375 376 377 378 379 380 382 383 384 386 387 388 389 390\n",
      " 391 393 394 395 397 398 399 400 401 402 403 405 406 407 408 409 410 411\n",
      " 412 413 414 415 416 417 418 420 422 423 424 425 426 427 428 429 430 432\n",
      " 433 435 437 438 440 441 443 444 445 446 447 448 449 450 451 452 453 454\n",
      " 456 457 459 460 462 464 465 466 467 469 470 471 472 474 475 476 477 478\n",
      " 479 481 482 483 484 485 486 487 488 489 490 491 492 493 494 496 497 498\n",
      " 499 501 502 503 504 505 506 507 508 509 510 511 512 513 514 515 516 517\n",
      " 519 520 521 522 526 527 528 529 530 531 532 535 536 538 539 540 541 542\n",
      " 543 545 546 547 548 549 551 552 553 554 555 557 558 560 561 562 564 566\n",
      " 567 571 572 574 576 577 579 580 581 582 583 585 586 587 588 590 592 593\n",
      " 594 595 596 597 598 599 600 601 603 605 607 608 609 610 611 613 614 615\n",
      " 616 617 618 621 623 624 627 629 631 632 633 634 636 638 639 640 641 642\n",
      " 643 644 645 646 647 649 650 651 653 654 655 657 658 659 660 661 662 663\n",
      " 664 665 666 667 668 669 673 674 675 676 678 679 680 681 683 684 685 686\n",
      " 687 688 689 691 693 694 695 696 698 699 700 701 702 703 704 705 706 707\n",
      " 708 709 710 711 712 713 715 717 718 719 720 721 722 723 725 726 727 728\n",
      " 729 730 731 732 733 734 736 737 741 742 744 745 747 749 750 751 752 754\n",
      " 755 758 759 760 763 764 765 767 769 770]\n"
     ]
    }
   ],
   "source": [
    "print(\"Indices of substances included in AD = \", np.where(cpd_AD != 0)[0])"
   ]
  },
  {
   "cell_type": "code",
   "execution_count": 146,
   "metadata": {},
   "outputs": [],
   "source": [
    "out_Ad=list(np.where(cpd_AD == 0)[0])"
   ]
  },
  {
   "cell_type": "markdown",
   "metadata": {},
   "source": [
    "# 12. Prediction only for molecules included in  AD"
   ]
  },
  {
   "cell_type": "code",
   "execution_count": 147,
   "metadata": {},
   "outputs": [],
   "source": [
    "y_pred_MLPR_ad=list(y_pred_MLPR)"
   ]
  },
  {
   "cell_type": "code",
   "execution_count": 148,
   "metadata": {},
   "outputs": [],
   "source": [
    "y_pred_MLPR_ad[:] = [x for i,x in enumerate(y_pred_MLPR_ad) if i not in out_Ad]"
   ]
  },
  {
   "cell_type": "code",
   "execution_count": 149,
   "metadata": {},
   "outputs": [
    {
     "data": {
      "text/plain": [
       "586"
      ]
     },
     "execution_count": 149,
     "metadata": {},
     "output_type": "execute_result"
    }
   ],
   "source": [
    "len(y_pred_MLPR_ad)"
   ]
  },
  {
   "cell_type": "code",
   "execution_count": 150,
   "metadata": {},
   "outputs": [],
   "source": [
    "y_ts_ad=list(y_ts)"
   ]
  },
  {
   "cell_type": "code",
   "execution_count": 151,
   "metadata": {},
   "outputs": [],
   "source": [
    "y_ts_ad[:] = [x for i,x in enumerate(y_ts_ad) if i not in out_Ad]"
   ]
  },
  {
   "cell_type": "code",
   "execution_count": 152,
   "metadata": {},
   "outputs": [
    {
     "data": {
      "text/plain": [
       "586"
      ]
     },
     "execution_count": 152,
     "metadata": {},
     "output_type": "execute_result"
    }
   ],
   "source": [
    "len(y_ts_ad)"
   ]
  },
  {
   "cell_type": "code",
   "execution_count": 153,
   "metadata": {},
   "outputs": [
    {
     "data": {
      "text/plain": [
       "0.58"
      ]
     },
     "execution_count": 153,
     "metadata": {},
     "output_type": "execute_result"
    }
   ],
   "source": [
    "Q2_TS = round(r2_score(y_ts_ad, y_pred_MLPR_ad), 2)\n",
    "Q2_TS"
   ]
  },
  {
   "cell_type": "code",
   "execution_count": 154,
   "metadata": {
    "scrolled": true
   },
   "outputs": [
    {
     "data": {
      "text/plain": [
       "0.73"
      ]
     },
     "execution_count": 154,
     "metadata": {},
     "output_type": "execute_result"
    }
   ],
   "source": [
    "RMSE_TS=round(np.sqrt(mean_absolute_error(y_ts_ad, y_pred_MLPR_ad)), 2)\n",
    "RMSE_TS"
   ]
  },
  {
   "cell_type": "markdown",
   "metadata": {},
   "source": [
    "# k-nearest neighbors"
   ]
  },
  {
   "cell_type": "code",
   "execution_count": 155,
   "metadata": {},
   "outputs": [],
   "source": [
    "from sklearn.neighbors import KNeighborsRegressor"
   ]
  },
  {
   "cell_type": "code",
   "execution_count": 156,
   "metadata": {},
   "outputs": [],
   "source": [
    "k_range = list(range(1, 31))\n",
    "param_grid = dict(n_neighbors=k_range)"
   ]
  },
  {
   "cell_type": "code",
   "execution_count": 157,
   "metadata": {},
   "outputs": [],
   "source": [
    "m = GridSearchCV(KNeighborsRegressor(), param_grid, n_jobs=-1, cv=cv, verbose=1)"
   ]
  },
  {
   "cell_type": "code",
   "execution_count": 158,
   "metadata": {},
   "outputs": [
    {
     "name": "stdout",
     "output_type": "stream",
     "text": [
      "Fitting 5 folds for each of 30 candidates, totalling 150 fits\n"
     ]
    },
    {
     "data": {
      "text/html": [
       "<style>#sk-container-id-4 {color: black;}#sk-container-id-4 pre{padding: 0;}#sk-container-id-4 div.sk-toggleable {background-color: white;}#sk-container-id-4 label.sk-toggleable__label {cursor: pointer;display: block;width: 100%;margin-bottom: 0;padding: 0.3em;box-sizing: border-box;text-align: center;}#sk-container-id-4 label.sk-toggleable__label-arrow:before {content: \"▸\";float: left;margin-right: 0.25em;color: #696969;}#sk-container-id-4 label.sk-toggleable__label-arrow:hover:before {color: black;}#sk-container-id-4 div.sk-estimator:hover label.sk-toggleable__label-arrow:before {color: black;}#sk-container-id-4 div.sk-toggleable__content {max-height: 0;max-width: 0;overflow: hidden;text-align: left;background-color: #f0f8ff;}#sk-container-id-4 div.sk-toggleable__content pre {margin: 0.2em;color: black;border-radius: 0.25em;background-color: #f0f8ff;}#sk-container-id-4 input.sk-toggleable__control:checked~div.sk-toggleable__content {max-height: 200px;max-width: 100%;overflow: auto;}#sk-container-id-4 input.sk-toggleable__control:checked~label.sk-toggleable__label-arrow:before {content: \"▾\";}#sk-container-id-4 div.sk-estimator input.sk-toggleable__control:checked~label.sk-toggleable__label {background-color: #d4ebff;}#sk-container-id-4 div.sk-label input.sk-toggleable__control:checked~label.sk-toggleable__label {background-color: #d4ebff;}#sk-container-id-4 input.sk-hidden--visually {border: 0;clip: rect(1px 1px 1px 1px);clip: rect(1px, 1px, 1px, 1px);height: 1px;margin: -1px;overflow: hidden;padding: 0;position: absolute;width: 1px;}#sk-container-id-4 div.sk-estimator {font-family: monospace;background-color: #f0f8ff;border: 1px dotted black;border-radius: 0.25em;box-sizing: border-box;margin-bottom: 0.5em;}#sk-container-id-4 div.sk-estimator:hover {background-color: #d4ebff;}#sk-container-id-4 div.sk-parallel-item::after {content: \"\";width: 100%;border-bottom: 1px solid gray;flex-grow: 1;}#sk-container-id-4 div.sk-label:hover label.sk-toggleable__label {background-color: #d4ebff;}#sk-container-id-4 div.sk-serial::before {content: \"\";position: absolute;border-left: 1px solid gray;box-sizing: border-box;top: 0;bottom: 0;left: 50%;z-index: 0;}#sk-container-id-4 div.sk-serial {display: flex;flex-direction: column;align-items: center;background-color: white;padding-right: 0.2em;padding-left: 0.2em;position: relative;}#sk-container-id-4 div.sk-item {position: relative;z-index: 1;}#sk-container-id-4 div.sk-parallel {display: flex;align-items: stretch;justify-content: center;background-color: white;position: relative;}#sk-container-id-4 div.sk-item::before, #sk-container-id-4 div.sk-parallel-item::before {content: \"\";position: absolute;border-left: 1px solid gray;box-sizing: border-box;top: 0;bottom: 0;left: 50%;z-index: -1;}#sk-container-id-4 div.sk-parallel-item {display: flex;flex-direction: column;z-index: 1;position: relative;background-color: white;}#sk-container-id-4 div.sk-parallel-item:first-child::after {align-self: flex-end;width: 50%;}#sk-container-id-4 div.sk-parallel-item:last-child::after {align-self: flex-start;width: 50%;}#sk-container-id-4 div.sk-parallel-item:only-child::after {width: 0;}#sk-container-id-4 div.sk-dashed-wrapped {border: 1px dashed gray;margin: 0 0.4em 0.5em 0.4em;box-sizing: border-box;padding-bottom: 0.4em;background-color: white;}#sk-container-id-4 div.sk-label label {font-family: monospace;font-weight: bold;display: inline-block;line-height: 1.2em;}#sk-container-id-4 div.sk-label-container {text-align: center;}#sk-container-id-4 div.sk-container {/* jupyter's `normalize.less` sets `[hidden] { display: none; }` but bootstrap.min.css set `[hidden] { display: none !important; }` so we also need the `!important` here to be able to override the default hidden behavior on the sphinx rendered scikit-learn.org. See: https://github.com/scikit-learn/scikit-learn/issues/21755 */display: inline-block !important;position: relative;}#sk-container-id-4 div.sk-text-repr-fallback {display: none;}</style><div id=\"sk-container-id-4\" class=\"sk-top-container\"><div class=\"sk-text-repr-fallback\"><pre>GridSearchCV(cv=KFold(n_splits=5, random_state=42, shuffle=True),\n",
       "             estimator=KNeighborsRegressor(), n_jobs=-1,\n",
       "             param_grid={&#x27;n_neighbors&#x27;: [1, 2, 3, 4, 5, 6, 7, 8, 9, 10, 11, 12,\n",
       "                                         13, 14, 15, 16, 17, 18, 19, 20, 21, 22,\n",
       "                                         23, 24, 25, 26, 27, 28, 29, 30]},\n",
       "             verbose=1)</pre><b>In a Jupyter environment, please rerun this cell to show the HTML representation or trust the notebook. <br />On GitHub, the HTML representation is unable to render, please try loading this page with nbviewer.org.</b></div><div class=\"sk-container\" hidden><div class=\"sk-item sk-dashed-wrapped\"><div class=\"sk-label-container\"><div class=\"sk-label sk-toggleable\"><input class=\"sk-toggleable__control sk-hidden--visually\" id=\"sk-estimator-id-10\" type=\"checkbox\" ><label for=\"sk-estimator-id-10\" class=\"sk-toggleable__label sk-toggleable__label-arrow\">GridSearchCV</label><div class=\"sk-toggleable__content\"><pre>GridSearchCV(cv=KFold(n_splits=5, random_state=42, shuffle=True),\n",
       "             estimator=KNeighborsRegressor(), n_jobs=-1,\n",
       "             param_grid={&#x27;n_neighbors&#x27;: [1, 2, 3, 4, 5, 6, 7, 8, 9, 10, 11, 12,\n",
       "                                         13, 14, 15, 16, 17, 18, 19, 20, 21, 22,\n",
       "                                         23, 24, 25, 26, 27, 28, 29, 30]},\n",
       "             verbose=1)</pre></div></div></div><div class=\"sk-parallel\"><div class=\"sk-parallel-item\"><div class=\"sk-item\"><div class=\"sk-label-container\"><div class=\"sk-label sk-toggleable\"><input class=\"sk-toggleable__control sk-hidden--visually\" id=\"sk-estimator-id-11\" type=\"checkbox\" ><label for=\"sk-estimator-id-11\" class=\"sk-toggleable__label sk-toggleable__label-arrow\">estimator: KNeighborsRegressor</label><div class=\"sk-toggleable__content\"><pre>KNeighborsRegressor()</pre></div></div></div><div class=\"sk-serial\"><div class=\"sk-item\"><div class=\"sk-estimator sk-toggleable\"><input class=\"sk-toggleable__control sk-hidden--visually\" id=\"sk-estimator-id-12\" type=\"checkbox\" ><label for=\"sk-estimator-id-12\" class=\"sk-toggleable__label sk-toggleable__label-arrow\">KNeighborsRegressor</label><div class=\"sk-toggleable__content\"><pre>KNeighborsRegressor()</pre></div></div></div></div></div></div></div></div></div></div>"
      ],
      "text/plain": [
       "GridSearchCV(cv=KFold(n_splits=5, random_state=42, shuffle=True),\n",
       "             estimator=KNeighborsRegressor(), n_jobs=-1,\n",
       "             param_grid={'n_neighbors': [1, 2, 3, 4, 5, 6, 7, 8, 9, 10, 11, 12,\n",
       "                                         13, 14, 15, 16, 17, 18, 19, 20, 21, 22,\n",
       "                                         23, 24, 25, 26, 27, 28, 29, 30]},\n",
       "             verbose=1)"
      ]
     },
     "execution_count": 158,
     "metadata": {},
     "output_type": "execute_result"
    }
   ],
   "source": [
    "m.fit(x_tr, y_tr)"
   ]
  },
  {
   "cell_type": "code",
   "execution_count": 159,
   "metadata": {},
   "outputs": [],
   "source": [
    "best_kNN = m.best_estimator_"
   ]
  },
  {
   "cell_type": "code",
   "execution_count": 160,
   "metadata": {},
   "outputs": [
    {
     "data": {
      "text/plain": [
       "{'n_neighbors': 8}"
      ]
     },
     "execution_count": 160,
     "metadata": {},
     "output_type": "execute_result"
    }
   ],
   "source": [
    "m.best_params_"
   ]
  },
  {
   "cell_type": "code",
   "execution_count": 161,
   "metadata": {},
   "outputs": [],
   "source": [
    "y_pred_ws_kNN = best_kNN.predict(x_tr)"
   ]
  },
  {
   "cell_type": "code",
   "execution_count": 162,
   "metadata": {},
   "outputs": [
    {
     "data": {
      "text/plain": [
       "0.56"
      ]
     },
     "execution_count": 162,
     "metadata": {},
     "output_type": "execute_result"
    }
   ],
   "source": [
    "R2_WS = round(r2_score(y_tr, y_pred_ws_kNN), 2)\n",
    "R2_WS"
   ]
  },
  {
   "cell_type": "code",
   "execution_count": 163,
   "metadata": {},
   "outputs": [
    {
     "data": {
      "text/plain": [
       "0.74"
      ]
     },
     "execution_count": 163,
     "metadata": {},
     "output_type": "execute_result"
    }
   ],
   "source": [
    "RMSE_WS=round(np.sqrt(mean_absolute_error(y_tr, y_pred_ws_kNN)), 2)\n",
    "RMSE_WS"
   ]
  },
  {
   "cell_type": "code",
   "execution_count": 164,
   "metadata": {},
   "outputs": [],
   "source": [
    "y_pred_CV_kNN = cross_val_predict(best_kNN, x_tr, y_tr, cv=cv)"
   ]
  },
  {
   "cell_type": "code",
   "execution_count": 165,
   "metadata": {},
   "outputs": [
    {
     "data": {
      "text/plain": [
       "array([6.364375 , 6.0891666, 6.5975   , ..., 7.42125  , 8.22875  ,\n",
       "       7.506875 ], dtype=float32)"
      ]
     },
     "execution_count": 165,
     "metadata": {},
     "output_type": "execute_result"
    }
   ],
   "source": [
    "y_pred_CV_kNN"
   ]
  },
  {
   "cell_type": "code",
   "execution_count": 166,
   "metadata": {},
   "outputs": [
    {
     "data": {
      "text/plain": [
       "0.41"
      ]
     },
     "execution_count": 166,
     "metadata": {},
     "output_type": "execute_result"
    }
   ],
   "source": [
    "Q2_CV = round(r2_score(y_tr, y_pred_CV_kNN), 2)\n",
    "Q2_CV"
   ]
  },
  {
   "cell_type": "code",
   "execution_count": 167,
   "metadata": {},
   "outputs": [
    {
     "data": {
      "text/plain": [
       "0.8"
      ]
     },
     "execution_count": 167,
     "metadata": {},
     "output_type": "execute_result"
    }
   ],
   "source": [
    "RMSE_CV=round(np.sqrt(mean_absolute_error(y_tr, y_pred_CV_kNN)), 2)\n",
    "RMSE_CV"
   ]
  },
  {
   "cell_type": "markdown",
   "metadata": {},
   "source": [
    "# 9. Prediction for test set's molecules"
   ]
  },
  {
   "cell_type": "code",
   "execution_count": 168,
   "metadata": {},
   "outputs": [],
   "source": [
    "x_ts = np.array(x_ts, dtype=np.float32)\n",
    "y_ts = np.array(y_ts, dtype=np.float32)"
   ]
  },
  {
   "cell_type": "code",
   "execution_count": 169,
   "metadata": {},
   "outputs": [],
   "source": [
    "y_pred_kNN = best_kNN.predict(x_ts)"
   ]
  },
  {
   "cell_type": "code",
   "execution_count": 170,
   "metadata": {},
   "outputs": [
    {
     "data": {
      "text/plain": [
       "0.44"
      ]
     },
     "execution_count": 170,
     "metadata": {},
     "output_type": "execute_result"
    }
   ],
   "source": [
    "Q2_TS = round(r2_score(y_ts, y_pred_kNN), 2)\n",
    "Q2_TS"
   ]
  },
  {
   "cell_type": "code",
   "execution_count": 171,
   "metadata": {},
   "outputs": [
    {
     "data": {
      "text/plain": [
       "0.8"
      ]
     },
     "execution_count": 171,
     "metadata": {},
     "output_type": "execute_result"
    }
   ],
   "source": [
    "RMSE_TS=round(np.sqrt(mean_absolute_error(y_ts, y_pred_kNN)), 2)\n",
    "RMSE_TS"
   ]
  },
  {
   "cell_type": "markdown",
   "metadata": {},
   "source": [
    "# save the model to disk"
   ]
  },
  {
   "cell_type": "code",
   "execution_count": 172,
   "metadata": {},
   "outputs": [],
   "source": [
    "pickle.dump(best_kNN, open('Models/Padels/HDAC6_kNN_AtomPairs2D.pkl', 'wb'))"
   ]
  },
  {
   "cell_type": "markdown",
   "metadata": {},
   "source": [
    "# load the model from disk"
   ]
  },
  {
   "cell_type": "code",
   "execution_count": 173,
   "metadata": {},
   "outputs": [],
   "source": [
    "best_kNN = pickle.load(open('Models/Padels/HDAC6_kNN_AtomPairs2D.pkl', 'rb'))"
   ]
  },
  {
   "cell_type": "markdown",
   "metadata": {},
   "source": [
    "# 10. Y-randomization MLPR"
   ]
  },
  {
   "cell_type": "code",
   "execution_count": 174,
   "metadata": {},
   "outputs": [
    {
     "name": "stderr",
     "output_type": "stream",
     "text": [
      "[Parallel(n_jobs=-1)]: Using backend LokyBackend with 16 concurrent workers.\n",
      "[Parallel(n_jobs=-1)]: Done  18 tasks      | elapsed:    3.0s\n"
     ]
    },
    {
     "name": "stdout",
     "output_type": "stream",
     "text": [
      "True score =  0.41 \n",
      "Y-randomization =  -0.13 \n",
      "p-value =  0.0196\n"
     ]
    },
    {
     "name": "stderr",
     "output_type": "stream",
     "text": [
      "[Parallel(n_jobs=-1)]: Done  50 out of  50 | elapsed:    5.2s finished\n"
     ]
    }
   ],
   "source": [
    "permutations = 50\n",
    "score, permutation_scores, pvalue = permutation_test_score(best_kNN, x_tr, y_tr,\n",
    "                                                           cv=cv, scoring='r2',\n",
    "                                                           n_permutations=permutations,\n",
    "                                                           n_jobs=-1,\n",
    "                                                           verbose=1,\n",
    "                                                           random_state=seed)\n",
    "print('True score = ', score.round(2),\n",
    "      '\\nY-randomization = ', np.mean(permutation_scores).round(2),\n",
    "      '\\np-value = ', pvalue.round(4))"
   ]
  },
  {
   "cell_type": "markdown",
   "metadata": {},
   "source": [
    "# 11. Estimating applicability domain. Method - Euclidian distances, K=1"
   ]
  },
  {
   "cell_type": "code",
   "execution_count": 175,
   "metadata": {},
   "outputs": [],
   "source": [
    "neighbors_k= pairwise_distances(x_tr, n_jobs=-1)\n",
    "neighbors_k.sort(0)"
   ]
  },
  {
   "cell_type": "code",
   "execution_count": 176,
   "metadata": {},
   "outputs": [
    {
     "data": {
      "text/html": [
       "<div>\n",
       "<style scoped>\n",
       "    .dataframe tbody tr th:only-of-type {\n",
       "        vertical-align: middle;\n",
       "    }\n",
       "\n",
       "    .dataframe tbody tr th {\n",
       "        vertical-align: top;\n",
       "    }\n",
       "\n",
       "    .dataframe thead th {\n",
       "        text-align: right;\n",
       "    }\n",
       "</style>\n",
       "<table border=\"1\" class=\"dataframe\">\n",
       "  <thead>\n",
       "    <tr style=\"text-align: right;\">\n",
       "      <th></th>\n",
       "      <th>0</th>\n",
       "      <th>1</th>\n",
       "      <th>2</th>\n",
       "      <th>3</th>\n",
       "      <th>4</th>\n",
       "      <th>5</th>\n",
       "      <th>6</th>\n",
       "      <th>7</th>\n",
       "      <th>8</th>\n",
       "      <th>9</th>\n",
       "      <th>...</th>\n",
       "      <th>3073</th>\n",
       "      <th>3074</th>\n",
       "      <th>3075</th>\n",
       "      <th>3076</th>\n",
       "      <th>3077</th>\n",
       "      <th>3078</th>\n",
       "      <th>3079</th>\n",
       "      <th>3080</th>\n",
       "      <th>3081</th>\n",
       "      <th>3082</th>\n",
       "    </tr>\n",
       "  </thead>\n",
       "  <tbody>\n",
       "    <tr>\n",
       "      <th>0</th>\n",
       "      <td>0.000000</td>\n",
       "      <td>0.000000</td>\n",
       "      <td>0.000000</td>\n",
       "      <td>0.000000</td>\n",
       "      <td>0.000000</td>\n",
       "      <td>0.000000</td>\n",
       "      <td>0.000000</td>\n",
       "      <td>0.000000</td>\n",
       "      <td>0.000000</td>\n",
       "      <td>0.000000</td>\n",
       "      <td>...</td>\n",
       "      <td>0.000000</td>\n",
       "      <td>0.000000</td>\n",
       "      <td>0.000000</td>\n",
       "      <td>0.000000</td>\n",
       "      <td>0.000000</td>\n",
       "      <td>0.000000</td>\n",
       "      <td>0.000000</td>\n",
       "      <td>0.000000</td>\n",
       "      <td>0.000000</td>\n",
       "      <td>0.000000</td>\n",
       "    </tr>\n",
       "    <tr>\n",
       "      <th>1</th>\n",
       "      <td>2.000000</td>\n",
       "      <td>4.000000</td>\n",
       "      <td>2.449490</td>\n",
       "      <td>0.000000</td>\n",
       "      <td>3.316625</td>\n",
       "      <td>0.000000</td>\n",
       "      <td>3.000000</td>\n",
       "      <td>1.732051</td>\n",
       "      <td>1.414214</td>\n",
       "      <td>3.872983</td>\n",
       "      <td>...</td>\n",
       "      <td>1.414214</td>\n",
       "      <td>2.645751</td>\n",
       "      <td>1.414214</td>\n",
       "      <td>1.000000</td>\n",
       "      <td>0.000000</td>\n",
       "      <td>0.000000</td>\n",
       "      <td>0.000000</td>\n",
       "      <td>2.449490</td>\n",
       "      <td>1.000000</td>\n",
       "      <td>1.414214</td>\n",
       "    </tr>\n",
       "    <tr>\n",
       "      <th>2</th>\n",
       "      <td>2.828427</td>\n",
       "      <td>4.123106</td>\n",
       "      <td>2.449490</td>\n",
       "      <td>0.000000</td>\n",
       "      <td>3.872983</td>\n",
       "      <td>3.000000</td>\n",
       "      <td>3.162278</td>\n",
       "      <td>1.732051</td>\n",
       "      <td>2.645751</td>\n",
       "      <td>4.358899</td>\n",
       "      <td>...</td>\n",
       "      <td>1.414214</td>\n",
       "      <td>2.645751</td>\n",
       "      <td>1.732051</td>\n",
       "      <td>1.000000</td>\n",
       "      <td>0.000000</td>\n",
       "      <td>2.000000</td>\n",
       "      <td>1.000000</td>\n",
       "      <td>2.645751</td>\n",
       "      <td>1.732051</td>\n",
       "      <td>1.414214</td>\n",
       "    </tr>\n",
       "    <tr>\n",
       "      <th>3</th>\n",
       "      <td>3.000000</td>\n",
       "      <td>4.123106</td>\n",
       "      <td>2.645751</td>\n",
       "      <td>0.000000</td>\n",
       "      <td>4.000000</td>\n",
       "      <td>3.000000</td>\n",
       "      <td>3.162278</td>\n",
       "      <td>1.732051</td>\n",
       "      <td>2.828427</td>\n",
       "      <td>4.690416</td>\n",
       "      <td>...</td>\n",
       "      <td>1.732051</td>\n",
       "      <td>3.000000</td>\n",
       "      <td>2.000000</td>\n",
       "      <td>1.000000</td>\n",
       "      <td>0.000000</td>\n",
       "      <td>2.645751</td>\n",
       "      <td>1.000000</td>\n",
       "      <td>2.645751</td>\n",
       "      <td>1.732051</td>\n",
       "      <td>1.414214</td>\n",
       "    </tr>\n",
       "    <tr>\n",
       "      <th>4</th>\n",
       "      <td>3.000000</td>\n",
       "      <td>4.123106</td>\n",
       "      <td>2.645751</td>\n",
       "      <td>0.000000</td>\n",
       "      <td>4.000000</td>\n",
       "      <td>3.000000</td>\n",
       "      <td>3.162278</td>\n",
       "      <td>2.000000</td>\n",
       "      <td>2.828427</td>\n",
       "      <td>4.690416</td>\n",
       "      <td>...</td>\n",
       "      <td>2.000000</td>\n",
       "      <td>3.872983</td>\n",
       "      <td>2.000000</td>\n",
       "      <td>1.000000</td>\n",
       "      <td>0.000000</td>\n",
       "      <td>3.464102</td>\n",
       "      <td>1.414214</td>\n",
       "      <td>2.828427</td>\n",
       "      <td>1.732051</td>\n",
       "      <td>1.414214</td>\n",
       "    </tr>\n",
       "    <tr>\n",
       "      <th>...</th>\n",
       "      <td>...</td>\n",
       "      <td>...</td>\n",
       "      <td>...</td>\n",
       "      <td>...</td>\n",
       "      <td>...</td>\n",
       "      <td>...</td>\n",
       "      <td>...</td>\n",
       "      <td>...</td>\n",
       "      <td>...</td>\n",
       "      <td>...</td>\n",
       "      <td>...</td>\n",
       "      <td>...</td>\n",
       "      <td>...</td>\n",
       "      <td>...</td>\n",
       "      <td>...</td>\n",
       "      <td>...</td>\n",
       "      <td>...</td>\n",
       "      <td>...</td>\n",
       "      <td>...</td>\n",
       "      <td>...</td>\n",
       "      <td>...</td>\n",
       "    </tr>\n",
       "    <tr>\n",
       "      <th>3078</th>\n",
       "      <td>9.539392</td>\n",
       "      <td>9.486833</td>\n",
       "      <td>9.380832</td>\n",
       "      <td>9.643651</td>\n",
       "      <td>10.583005</td>\n",
       "      <td>9.486833</td>\n",
       "      <td>9.643651</td>\n",
       "      <td>9.433981</td>\n",
       "      <td>8.944272</td>\n",
       "      <td>10.198039</td>\n",
       "      <td>...</td>\n",
       "      <td>9.273619</td>\n",
       "      <td>8.602325</td>\n",
       "      <td>9.110434</td>\n",
       "      <td>9.327379</td>\n",
       "      <td>9.273619</td>\n",
       "      <td>8.717798</td>\n",
       "      <td>9.380832</td>\n",
       "      <td>8.831760</td>\n",
       "      <td>9.433981</td>\n",
       "      <td>9.327379</td>\n",
       "    </tr>\n",
       "    <tr>\n",
       "      <th>3079</th>\n",
       "      <td>9.591663</td>\n",
       "      <td>9.539392</td>\n",
       "      <td>9.433981</td>\n",
       "      <td>9.695360</td>\n",
       "      <td>10.630146</td>\n",
       "      <td>9.486833</td>\n",
       "      <td>9.695360</td>\n",
       "      <td>9.433981</td>\n",
       "      <td>9.110434</td>\n",
       "      <td>10.198039</td>\n",
       "      <td>...</td>\n",
       "      <td>9.273619</td>\n",
       "      <td>8.602325</td>\n",
       "      <td>9.110434</td>\n",
       "      <td>9.327379</td>\n",
       "      <td>9.273619</td>\n",
       "      <td>8.717798</td>\n",
       "      <td>9.380832</td>\n",
       "      <td>8.888194</td>\n",
       "      <td>9.433981</td>\n",
       "      <td>9.327379</td>\n",
       "    </tr>\n",
       "    <tr>\n",
       "      <th>3080</th>\n",
       "      <td>9.797959</td>\n",
       "      <td>9.539392</td>\n",
       "      <td>9.433981</td>\n",
       "      <td>9.746795</td>\n",
       "      <td>10.677078</td>\n",
       "      <td>9.539392</td>\n",
       "      <td>9.746795</td>\n",
       "      <td>9.486833</td>\n",
       "      <td>9.110434</td>\n",
       "      <td>10.198039</td>\n",
       "      <td>...</td>\n",
       "      <td>9.273619</td>\n",
       "      <td>8.602325</td>\n",
       "      <td>9.327379</td>\n",
       "      <td>9.380832</td>\n",
       "      <td>9.327379</td>\n",
       "      <td>8.717798</td>\n",
       "      <td>9.433981</td>\n",
       "      <td>9.000000</td>\n",
       "      <td>9.486833</td>\n",
       "      <td>9.380832</td>\n",
       "    </tr>\n",
       "    <tr>\n",
       "      <th>3081</th>\n",
       "      <td>9.797959</td>\n",
       "      <td>9.591663</td>\n",
       "      <td>9.643651</td>\n",
       "      <td>9.949874</td>\n",
       "      <td>10.862781</td>\n",
       "      <td>9.746795</td>\n",
       "      <td>9.746795</td>\n",
       "      <td>9.695360</td>\n",
       "      <td>9.273619</td>\n",
       "      <td>10.246951</td>\n",
       "      <td>...</td>\n",
       "      <td>9.486833</td>\n",
       "      <td>8.660254</td>\n",
       "      <td>9.433981</td>\n",
       "      <td>9.591663</td>\n",
       "      <td>9.539392</td>\n",
       "      <td>8.717798</td>\n",
       "      <td>9.643651</td>\n",
       "      <td>9.055386</td>\n",
       "      <td>9.643651</td>\n",
       "      <td>9.591663</td>\n",
       "    </tr>\n",
       "    <tr>\n",
       "      <th>3082</th>\n",
       "      <td>10.049875</td>\n",
       "      <td>9.797959</td>\n",
       "      <td>9.797959</td>\n",
       "      <td>10.392304</td>\n",
       "      <td>11.090536</td>\n",
       "      <td>9.797959</td>\n",
       "      <td>9.899495</td>\n",
       "      <td>9.848858</td>\n",
       "      <td>9.591663</td>\n",
       "      <td>10.344080</td>\n",
       "      <td>...</td>\n",
       "      <td>9.746795</td>\n",
       "      <td>8.660254</td>\n",
       "      <td>9.486833</td>\n",
       "      <td>9.949874</td>\n",
       "      <td>9.797959</td>\n",
       "      <td>8.888194</td>\n",
       "      <td>9.695360</td>\n",
       "      <td>9.486833</td>\n",
       "      <td>9.695360</td>\n",
       "      <td>9.949874</td>\n",
       "    </tr>\n",
       "  </tbody>\n",
       "</table>\n",
       "<p>3083 rows × 3083 columns</p>\n",
       "</div>"
      ],
      "text/plain": [
       "           0         1         2          3          4         5         6     \\\n",
       "0      0.000000  0.000000  0.000000   0.000000   0.000000  0.000000  0.000000   \n",
       "1      2.000000  4.000000  2.449490   0.000000   3.316625  0.000000  3.000000   \n",
       "2      2.828427  4.123106  2.449490   0.000000   3.872983  3.000000  3.162278   \n",
       "3      3.000000  4.123106  2.645751   0.000000   4.000000  3.000000  3.162278   \n",
       "4      3.000000  4.123106  2.645751   0.000000   4.000000  3.000000  3.162278   \n",
       "...         ...       ...       ...        ...        ...       ...       ...   \n",
       "3078   9.539392  9.486833  9.380832   9.643651  10.583005  9.486833  9.643651   \n",
       "3079   9.591663  9.539392  9.433981   9.695360  10.630146  9.486833  9.695360   \n",
       "3080   9.797959  9.539392  9.433981   9.746795  10.677078  9.539392  9.746795   \n",
       "3081   9.797959  9.591663  9.643651   9.949874  10.862781  9.746795  9.746795   \n",
       "3082  10.049875  9.797959  9.797959  10.392304  11.090536  9.797959  9.899495   \n",
       "\n",
       "          7         8          9     ...      3073      3074      3075  \\\n",
       "0     0.000000  0.000000   0.000000  ...  0.000000  0.000000  0.000000   \n",
       "1     1.732051  1.414214   3.872983  ...  1.414214  2.645751  1.414214   \n",
       "2     1.732051  2.645751   4.358899  ...  1.414214  2.645751  1.732051   \n",
       "3     1.732051  2.828427   4.690416  ...  1.732051  3.000000  2.000000   \n",
       "4     2.000000  2.828427   4.690416  ...  2.000000  3.872983  2.000000   \n",
       "...        ...       ...        ...  ...       ...       ...       ...   \n",
       "3078  9.433981  8.944272  10.198039  ...  9.273619  8.602325  9.110434   \n",
       "3079  9.433981  9.110434  10.198039  ...  9.273619  8.602325  9.110434   \n",
       "3080  9.486833  9.110434  10.198039  ...  9.273619  8.602325  9.327379   \n",
       "3081  9.695360  9.273619  10.246951  ...  9.486833  8.660254  9.433981   \n",
       "3082  9.848858  9.591663  10.344080  ...  9.746795  8.660254  9.486833   \n",
       "\n",
       "          3076      3077      3078      3079      3080      3081      3082  \n",
       "0     0.000000  0.000000  0.000000  0.000000  0.000000  0.000000  0.000000  \n",
       "1     1.000000  0.000000  0.000000  0.000000  2.449490  1.000000  1.414214  \n",
       "2     1.000000  0.000000  2.000000  1.000000  2.645751  1.732051  1.414214  \n",
       "3     1.000000  0.000000  2.645751  1.000000  2.645751  1.732051  1.414214  \n",
       "4     1.000000  0.000000  3.464102  1.414214  2.828427  1.732051  1.414214  \n",
       "...        ...       ...       ...       ...       ...       ...       ...  \n",
       "3078  9.327379  9.273619  8.717798  9.380832  8.831760  9.433981  9.327379  \n",
       "3079  9.327379  9.273619  8.717798  9.380832  8.888194  9.433981  9.327379  \n",
       "3080  9.380832  9.327379  8.717798  9.433981  9.000000  9.486833  9.380832  \n",
       "3081  9.591663  9.539392  8.717798  9.643651  9.055386  9.643651  9.591663  \n",
       "3082  9.949874  9.797959  8.888194  9.695360  9.486833  9.695360  9.949874  \n",
       "\n",
       "[3083 rows x 3083 columns]"
      ]
     },
     "execution_count": 176,
     "metadata": {},
     "output_type": "execute_result"
    }
   ],
   "source": [
    "df_tr=pd.DataFrame(neighbors_k)\n",
    "df_tr"
   ]
  },
  {
   "cell_type": "code",
   "execution_count": 177,
   "metadata": {},
   "outputs": [],
   "source": [
    "similarity= neighbors_k"
   ]
  },
  {
   "cell_type": "code",
   "execution_count": 178,
   "metadata": {},
   "outputs": [],
   "source": [
    "Dmean=np.mean(similarity[1,:])"
   ]
  },
  {
   "cell_type": "code",
   "execution_count": 179,
   "metadata": {},
   "outputs": [
    {
     "data": {
      "text/plain": [
       "1.14"
      ]
     },
     "execution_count": 179,
     "metadata": {},
     "output_type": "execute_result"
    }
   ],
   "source": [
    "round(Dmean, 2)"
   ]
  },
  {
   "cell_type": "code",
   "execution_count": 180,
   "metadata": {},
   "outputs": [],
   "source": [
    "std=np.std(similarity[1,:])"
   ]
  },
  {
   "cell_type": "code",
   "execution_count": 181,
   "metadata": {},
   "outputs": [
    {
     "data": {
      "text/plain": [
       "1.27"
      ]
     },
     "execution_count": 181,
     "metadata": {},
     "output_type": "execute_result"
    }
   ],
   "source": [
    "round(std, 2)"
   ]
  },
  {
   "cell_type": "code",
   "execution_count": 182,
   "metadata": {},
   "outputs": [
    {
     "name": "stdout",
     "output_type": "stream",
     "text": [
      "1.77\n"
     ]
    }
   ],
   "source": [
    "model_AD_limit=Dmean+std*0.5\n",
    "print(np.round(model_AD_limit, 2))"
   ]
  },
  {
   "cell_type": "code",
   "execution_count": 183,
   "metadata": {},
   "outputs": [],
   "source": [
    "neighbors_k_ts= pairwise_distances(x_tr,Y=x_ts, n_jobs=-1)\n",
    "neighbors_k_ts.sort(0)"
   ]
  },
  {
   "cell_type": "code",
   "execution_count": 184,
   "metadata": {},
   "outputs": [
    {
     "data": {
      "text/html": [
       "<div>\n",
       "<style scoped>\n",
       "    .dataframe tbody tr th:only-of-type {\n",
       "        vertical-align: middle;\n",
       "    }\n",
       "\n",
       "    .dataframe tbody tr th {\n",
       "        vertical-align: top;\n",
       "    }\n",
       "\n",
       "    .dataframe thead th {\n",
       "        text-align: right;\n",
       "    }\n",
       "</style>\n",
       "<table border=\"1\" class=\"dataframe\">\n",
       "  <thead>\n",
       "    <tr style=\"text-align: right;\">\n",
       "      <th></th>\n",
       "      <th>0</th>\n",
       "      <th>1</th>\n",
       "      <th>2</th>\n",
       "      <th>3</th>\n",
       "      <th>4</th>\n",
       "      <th>5</th>\n",
       "      <th>6</th>\n",
       "      <th>7</th>\n",
       "      <th>8</th>\n",
       "      <th>9</th>\n",
       "      <th>...</th>\n",
       "      <th>761</th>\n",
       "      <th>762</th>\n",
       "      <th>763</th>\n",
       "      <th>764</th>\n",
       "      <th>765</th>\n",
       "      <th>766</th>\n",
       "      <th>767</th>\n",
       "      <th>768</th>\n",
       "      <th>769</th>\n",
       "      <th>770</th>\n",
       "    </tr>\n",
       "  </thead>\n",
       "  <tbody>\n",
       "    <tr>\n",
       "      <th>0</th>\n",
       "      <td>2.828427</td>\n",
       "      <td>2.000000</td>\n",
       "      <td>0.000000</td>\n",
       "      <td>2.000000</td>\n",
       "      <td>0.000000</td>\n",
       "      <td>0.000000</td>\n",
       "      <td>0.000000</td>\n",
       "      <td>0.000000</td>\n",
       "      <td>0.000000</td>\n",
       "      <td>0.000000</td>\n",
       "      <td>...</td>\n",
       "      <td>2.449490</td>\n",
       "      <td>2.645751</td>\n",
       "      <td>1.000000</td>\n",
       "      <td>0.000000</td>\n",
       "      <td>0.000000</td>\n",
       "      <td>3.316625</td>\n",
       "      <td>0.000000</td>\n",
       "      <td>3.605551</td>\n",
       "      <td>1.732051</td>\n",
       "      <td>0.000000</td>\n",
       "    </tr>\n",
       "    <tr>\n",
       "      <th>1</th>\n",
       "      <td>3.162278</td>\n",
       "      <td>2.000000</td>\n",
       "      <td>0.000000</td>\n",
       "      <td>2.449490</td>\n",
       "      <td>1.000000</td>\n",
       "      <td>1.414214</td>\n",
       "      <td>1.414214</td>\n",
       "      <td>0.000000</td>\n",
       "      <td>0.000000</td>\n",
       "      <td>0.000000</td>\n",
       "      <td>...</td>\n",
       "      <td>3.162278</td>\n",
       "      <td>2.645751</td>\n",
       "      <td>1.000000</td>\n",
       "      <td>0.000000</td>\n",
       "      <td>0.000000</td>\n",
       "      <td>3.464102</td>\n",
       "      <td>2.645751</td>\n",
       "      <td>3.741657</td>\n",
       "      <td>1.732051</td>\n",
       "      <td>0.000000</td>\n",
       "    </tr>\n",
       "    <tr>\n",
       "      <th>2</th>\n",
       "      <td>3.162278</td>\n",
       "      <td>2.000000</td>\n",
       "      <td>0.000000</td>\n",
       "      <td>2.449490</td>\n",
       "      <td>1.414214</td>\n",
       "      <td>3.000000</td>\n",
       "      <td>1.414214</td>\n",
       "      <td>0.000000</td>\n",
       "      <td>0.000000</td>\n",
       "      <td>0.000000</td>\n",
       "      <td>...</td>\n",
       "      <td>3.162278</td>\n",
       "      <td>2.645751</td>\n",
       "      <td>1.732051</td>\n",
       "      <td>1.414214</td>\n",
       "      <td>0.000000</td>\n",
       "      <td>3.464102</td>\n",
       "      <td>2.645751</td>\n",
       "      <td>3.872983</td>\n",
       "      <td>2.000000</td>\n",
       "      <td>1.000000</td>\n",
       "    </tr>\n",
       "    <tr>\n",
       "      <th>3</th>\n",
       "      <td>3.316625</td>\n",
       "      <td>2.000000</td>\n",
       "      <td>1.000000</td>\n",
       "      <td>2.645751</td>\n",
       "      <td>2.449490</td>\n",
       "      <td>3.000000</td>\n",
       "      <td>1.414214</td>\n",
       "      <td>0.000000</td>\n",
       "      <td>3.464102</td>\n",
       "      <td>1.414214</td>\n",
       "      <td>...</td>\n",
       "      <td>3.316625</td>\n",
       "      <td>2.645751</td>\n",
       "      <td>1.732051</td>\n",
       "      <td>1.414214</td>\n",
       "      <td>0.000000</td>\n",
       "      <td>3.464102</td>\n",
       "      <td>3.000000</td>\n",
       "      <td>4.000000</td>\n",
       "      <td>2.000000</td>\n",
       "      <td>1.000000</td>\n",
       "    </tr>\n",
       "    <tr>\n",
       "      <th>4</th>\n",
       "      <td>3.316625</td>\n",
       "      <td>2.000000</td>\n",
       "      <td>1.414214</td>\n",
       "      <td>2.645751</td>\n",
       "      <td>2.449490</td>\n",
       "      <td>3.162278</td>\n",
       "      <td>1.414214</td>\n",
       "      <td>0.000000</td>\n",
       "      <td>3.872983</td>\n",
       "      <td>1.414214</td>\n",
       "      <td>...</td>\n",
       "      <td>3.464102</td>\n",
       "      <td>3.000000</td>\n",
       "      <td>2.000000</td>\n",
       "      <td>1.414214</td>\n",
       "      <td>0.000000</td>\n",
       "      <td>3.464102</td>\n",
       "      <td>3.872983</td>\n",
       "      <td>4.000000</td>\n",
       "      <td>2.000000</td>\n",
       "      <td>1.414214</td>\n",
       "    </tr>\n",
       "    <tr>\n",
       "      <th>...</th>\n",
       "      <td>...</td>\n",
       "      <td>...</td>\n",
       "      <td>...</td>\n",
       "      <td>...</td>\n",
       "      <td>...</td>\n",
       "      <td>...</td>\n",
       "      <td>...</td>\n",
       "      <td>...</td>\n",
       "      <td>...</td>\n",
       "      <td>...</td>\n",
       "      <td>...</td>\n",
       "      <td>...</td>\n",
       "      <td>...</td>\n",
       "      <td>...</td>\n",
       "      <td>...</td>\n",
       "      <td>...</td>\n",
       "      <td>...</td>\n",
       "      <td>...</td>\n",
       "      <td>...</td>\n",
       "      <td>...</td>\n",
       "      <td>...</td>\n",
       "    </tr>\n",
       "    <tr>\n",
       "      <th>3078</th>\n",
       "      <td>10.099504</td>\n",
       "      <td>9.433981</td>\n",
       "      <td>9.380832</td>\n",
       "      <td>9.380832</td>\n",
       "      <td>9.273619</td>\n",
       "      <td>9.055386</td>\n",
       "      <td>9.219544</td>\n",
       "      <td>9.327379</td>\n",
       "      <td>9.539392</td>\n",
       "      <td>9.486833</td>\n",
       "      <td>...</td>\n",
       "      <td>8.888194</td>\n",
       "      <td>8.944272</td>\n",
       "      <td>9.165152</td>\n",
       "      <td>9.165152</td>\n",
       "      <td>9.380832</td>\n",
       "      <td>9.380832</td>\n",
       "      <td>8.602325</td>\n",
       "      <td>9.273619</td>\n",
       "      <td>9.165152</td>\n",
       "      <td>9.380832</td>\n",
       "    </tr>\n",
       "    <tr>\n",
       "      <th>3079</th>\n",
       "      <td>10.148891</td>\n",
       "      <td>9.486833</td>\n",
       "      <td>9.380832</td>\n",
       "      <td>9.380832</td>\n",
       "      <td>9.327379</td>\n",
       "      <td>9.165152</td>\n",
       "      <td>9.219544</td>\n",
       "      <td>9.380832</td>\n",
       "      <td>9.591663</td>\n",
       "      <td>9.486833</td>\n",
       "      <td>...</td>\n",
       "      <td>9.110434</td>\n",
       "      <td>8.944272</td>\n",
       "      <td>9.219544</td>\n",
       "      <td>9.165152</td>\n",
       "      <td>9.380832</td>\n",
       "      <td>9.433981</td>\n",
       "      <td>8.602325</td>\n",
       "      <td>9.273619</td>\n",
       "      <td>9.165152</td>\n",
       "      <td>9.380832</td>\n",
       "    </tr>\n",
       "    <tr>\n",
       "      <th>3080</th>\n",
       "      <td>10.246951</td>\n",
       "      <td>9.486833</td>\n",
       "      <td>9.433981</td>\n",
       "      <td>9.433981</td>\n",
       "      <td>9.380832</td>\n",
       "      <td>9.219544</td>\n",
       "      <td>9.273619</td>\n",
       "      <td>9.380832</td>\n",
       "      <td>9.591663</td>\n",
       "      <td>9.539392</td>\n",
       "      <td>...</td>\n",
       "      <td>9.110434</td>\n",
       "      <td>8.944272</td>\n",
       "      <td>9.219544</td>\n",
       "      <td>9.219544</td>\n",
       "      <td>9.433981</td>\n",
       "      <td>9.486833</td>\n",
       "      <td>8.602325</td>\n",
       "      <td>9.273619</td>\n",
       "      <td>9.165152</td>\n",
       "      <td>9.433981</td>\n",
       "    </tr>\n",
       "    <tr>\n",
       "      <th>3081</th>\n",
       "      <td>10.344080</td>\n",
       "      <td>9.695360</td>\n",
       "      <td>9.643651</td>\n",
       "      <td>9.486833</td>\n",
       "      <td>9.433981</td>\n",
       "      <td>9.219544</td>\n",
       "      <td>9.486833</td>\n",
       "      <td>9.433981</td>\n",
       "      <td>9.643651</td>\n",
       "      <td>9.746795</td>\n",
       "      <td>...</td>\n",
       "      <td>9.165152</td>\n",
       "      <td>9.000000</td>\n",
       "      <td>9.433981</td>\n",
       "      <td>9.273619</td>\n",
       "      <td>9.643651</td>\n",
       "      <td>9.539392</td>\n",
       "      <td>8.660254</td>\n",
       "      <td>9.327379</td>\n",
       "      <td>9.380832</td>\n",
       "      <td>9.643651</td>\n",
       "    </tr>\n",
       "    <tr>\n",
       "      <th>3082</th>\n",
       "      <td>10.488089</td>\n",
       "      <td>9.949874</td>\n",
       "      <td>10.099504</td>\n",
       "      <td>9.539392</td>\n",
       "      <td>9.746795</td>\n",
       "      <td>9.486833</td>\n",
       "      <td>10.049875</td>\n",
       "      <td>9.591663</td>\n",
       "      <td>9.848858</td>\n",
       "      <td>10.198039</td>\n",
       "      <td>...</td>\n",
       "      <td>9.695360</td>\n",
       "      <td>9.643651</td>\n",
       "      <td>9.591663</td>\n",
       "      <td>9.643651</td>\n",
       "      <td>9.899495</td>\n",
       "      <td>9.539392</td>\n",
       "      <td>8.660254</td>\n",
       "      <td>9.380832</td>\n",
       "      <td>9.643651</td>\n",
       "      <td>9.695360</td>\n",
       "    </tr>\n",
       "  </tbody>\n",
       "</table>\n",
       "<p>3083 rows × 771 columns</p>\n",
       "</div>"
      ],
      "text/plain": [
       "            0         1          2         3         4         5          6    \\\n",
       "0      2.828427  2.000000   0.000000  2.000000  0.000000  0.000000   0.000000   \n",
       "1      3.162278  2.000000   0.000000  2.449490  1.000000  1.414214   1.414214   \n",
       "2      3.162278  2.000000   0.000000  2.449490  1.414214  3.000000   1.414214   \n",
       "3      3.316625  2.000000   1.000000  2.645751  2.449490  3.000000   1.414214   \n",
       "4      3.316625  2.000000   1.414214  2.645751  2.449490  3.162278   1.414214   \n",
       "...         ...       ...        ...       ...       ...       ...        ...   \n",
       "3078  10.099504  9.433981   9.380832  9.380832  9.273619  9.055386   9.219544   \n",
       "3079  10.148891  9.486833   9.380832  9.380832  9.327379  9.165152   9.219544   \n",
       "3080  10.246951  9.486833   9.433981  9.433981  9.380832  9.219544   9.273619   \n",
       "3081  10.344080  9.695360   9.643651  9.486833  9.433981  9.219544   9.486833   \n",
       "3082  10.488089  9.949874  10.099504  9.539392  9.746795  9.486833  10.049875   \n",
       "\n",
       "           7         8          9    ...       761       762       763  \\\n",
       "0     0.000000  0.000000   0.000000  ...  2.449490  2.645751  1.000000   \n",
       "1     0.000000  0.000000   0.000000  ...  3.162278  2.645751  1.000000   \n",
       "2     0.000000  0.000000   0.000000  ...  3.162278  2.645751  1.732051   \n",
       "3     0.000000  3.464102   1.414214  ...  3.316625  2.645751  1.732051   \n",
       "4     0.000000  3.872983   1.414214  ...  3.464102  3.000000  2.000000   \n",
       "...        ...       ...        ...  ...       ...       ...       ...   \n",
       "3078  9.327379  9.539392   9.486833  ...  8.888194  8.944272  9.165152   \n",
       "3079  9.380832  9.591663   9.486833  ...  9.110434  8.944272  9.219544   \n",
       "3080  9.380832  9.591663   9.539392  ...  9.110434  8.944272  9.219544   \n",
       "3081  9.433981  9.643651   9.746795  ...  9.165152  9.000000  9.433981   \n",
       "3082  9.591663  9.848858  10.198039  ...  9.695360  9.643651  9.591663   \n",
       "\n",
       "           764       765       766       767       768       769       770  \n",
       "0     0.000000  0.000000  3.316625  0.000000  3.605551  1.732051  0.000000  \n",
       "1     0.000000  0.000000  3.464102  2.645751  3.741657  1.732051  0.000000  \n",
       "2     1.414214  0.000000  3.464102  2.645751  3.872983  2.000000  1.000000  \n",
       "3     1.414214  0.000000  3.464102  3.000000  4.000000  2.000000  1.000000  \n",
       "4     1.414214  0.000000  3.464102  3.872983  4.000000  2.000000  1.414214  \n",
       "...        ...       ...       ...       ...       ...       ...       ...  \n",
       "3078  9.165152  9.380832  9.380832  8.602325  9.273619  9.165152  9.380832  \n",
       "3079  9.165152  9.380832  9.433981  8.602325  9.273619  9.165152  9.380832  \n",
       "3080  9.219544  9.433981  9.486833  8.602325  9.273619  9.165152  9.433981  \n",
       "3081  9.273619  9.643651  9.539392  8.660254  9.327379  9.380832  9.643651  \n",
       "3082  9.643651  9.899495  9.539392  8.660254  9.380832  9.643651  9.695360  \n",
       "\n",
       "[3083 rows x 771 columns]"
      ]
     },
     "execution_count": 184,
     "metadata": {},
     "output_type": "execute_result"
    }
   ],
   "source": [
    "x_ts_AD=pd.DataFrame(neighbors_k_ts)\n",
    "x_ts_AD"
   ]
  },
  {
   "cell_type": "code",
   "execution_count": 185,
   "metadata": {},
   "outputs": [
    {
     "name": "stdout",
     "output_type": "stream",
     "text": [
      "[2.828 2.    0.    2.    0.    0.    0.    0.    0.    0.    0.    0.\n",
      " 1.732 1.732 1.    1.732 0.    0.    2.646 0.    2.449 1.    1.    0.\n",
      " 3.    0.    2.646 3.162 0.    1.732 0.    1.732 1.414 1.732 3.606 1.\n",
      " 0.    1.732 0.    1.732 1.    0.    0.    2.    1.    1.    2.236 0.\n",
      " 0.    1.    1.732 0.    3.606 1.    0.    0.    1.414 0.    1.414 0.\n",
      " 0.    1.    1.    2.236 1.414 2.449 2.449 0.    2.    1.732 5.    0.\n",
      " 0.    0.    0.    1.    0.    1.    1.414 0.    1.    0.    3.162 0.\n",
      " 2.828 2.236 1.414 0.    2.236 0.    2.    3.162 0.    0.    0.    2.\n",
      " 2.    3.317 1.414 2.449 1.    1.414 0.    2.236 2.236 2.449 0.    2.449\n",
      " 1.414 2.    1.414 3.    0.    2.646 0.    0.    0.    0.    1.    0.\n",
      " 0.    0.    1.414 3.606 3.317 0.    0.    0.    0.    1.414 2.828 0.\n",
      " 1.414 1.    2.449 2.646 4.69  0.    2.    0.    1.    1.    2.449 0.\n",
      " 3.162 0.    2.236 0.    2.    1.    0.    0.    3.464 1.732 1.732 2.828\n",
      " 2.449 2.    2.236 0.    0.    2.828 2.646 4.243 2.236 0.    3.317 1.\n",
      " 0.    0.    1.732 4.    1.    2.828 1.    2.449 1.    0.    0.    2.\n",
      " 1.414 0.    0.    0.    0.    0.    0.    3.742 1.    0.    3.    1.732\n",
      " 2.449 0.    3.742 0.    0.    1.732 0.    0.    2.    1.    1.732 0.\n",
      " 2.449 2.    0.    0.    0.    2.828 0.    2.449 0.    1.    1.    0.\n",
      " 2.449 0.    0.    0.    1.414 1.414 1.    0.    1.    4.123 0.    1.\n",
      " 1.    1.    0.    0.    0.    0.    0.    0.    1.732 0.    0.    1.414\n",
      " 1.    0.    1.    3.606 0.    0.    1.414 1.    1.    0.    1.732 1.732\n",
      " 0.    1.732 0.    0.    1.732 0.    2.449 1.    2.646 0.    1.    2.828\n",
      " 1.    0.    0.    0.    3.317 2.646 0.    3.317 1.732 1.732 2.449 1.732\n",
      " 1.414 1.    0.    2.646 3.162 2.449 0.    0.    1.732 2.646 0.    0.\n",
      " 0.    1.732 1.    1.732 1.732 0.    0.    0.    3.464 1.414 1.732 0.\n",
      " 1.732 1.    0.    0.    0.    0.    0.    4.    1.414 1.    0.    3.\n",
      " 2.    1.732 0.    2.    0.    0.    0.    0.    0.    0.    2.646 4.796\n",
      " 5.099 0.    3.317 3.162 5.099 1.    1.    0.    0.    2.449 1.414 0.\n",
      " 1.414 1.414 2.449 1.732 0.    3.162 0.    0.    1.732 1.414 0.    0.\n",
      " 0.    0.    1.414 2.    3.606 2.646 1.    0.    0.    1.    0.    0.\n",
      " 0.    3.162 1.414 0.    1.414 1.414 2.828 0.    1.732 0.    0.    1.732\n",
      " 0.    1.    0.    1.414 1.    1.    0.    0.    0.    4.    1.414 0.\n",
      " 0.    4.123 0.    0.    1.    1.    0.    0.    2.    1.414 1.    0.\n",
      " 4.123 0.    0.    1.414 0.    1.414 1.414 0.    2.828 0.    0.    0.\n",
      " 0.    0.    1.    0.    0.    0.    0.    1.414 1.    1.    0.    4.243\n",
      " 0.    2.236 1.732 0.    0.    1.732 0.    0.    0.    1.414 0.    3.742\n",
      " 0.    0.    5.196 0.    2.646 1.    0.    3.    0.    0.    2.    0.\n",
      " 1.732 1.    1.    1.732 0.    1.414 0.    0.    1.    1.732 1.    3.\n",
      " 0.    0.    2.449 0.    0.    3.742 1.    2.    0.    0.    0.    1.732\n",
      " 3.873 0.    1.    0.    0.    2.646 0.    1.    0.    0.    1.    0.\n",
      " 2.646 0.    0.    0.    0.    0.    0.    1.414 1.732 0.    0.    0.\n",
      " 0.    0.    0.    3.464 1.    0.    0.    1.414 4.472 1.414 0.    0.\n",
      " 0.    0.    0.    0.    0.    0.    0.    1.414 1.732 0.    1.    0.\n",
      " 0.    0.    2.236 0.    0.    1.414 1.732 2.    2.    3.317 0.    0.\n",
      " 0.    0.    1.414 1.414 0.    3.162 4.69  0.    0.    3.742 1.414 1.\n",
      " 0.    0.    1.732 0.    2.    1.    0.    0.    0.    0.    2.236 1.\n",
      " 0.    0.    1.732 0.    2.646 0.    1.414 2.    1.732 0.    0.    2.\n",
      " 0.    2.    0.    0.    3.162 4.583 2.449 1.    0.    3.317 1.414 2.828\n",
      " 0.    0.    2.646 1.    0.    1.    0.    0.    4.243 0.    0.    1.732\n",
      " 1.732 3.606 1.    3.162 1.    1.414 1.    1.    1.    1.732 0.    0.\n",
      " 0.    0.    3.317 0.    3.    0.    2.    1.    0.    0.    1.414 0.\n",
      " 3.162 0.    1.732 0.    0.    1.    0.    2.236 3.    1.414 2.828 1.\n",
      " 1.414 3.    2.449 0.    2.236 1.732 2.449 0.    0.    0.    1.732 3.\n",
      " 0.    3.    0.    1.414 0.    0.    0.    1.    0.    0.    0.    1.414\n",
      " 3.742 1.732 1.732 1.414 2.236 1.414 0.    0.    3.464 1.732 1.414 0.\n",
      " 0.    0.    1.732 1.414 0.    1.    1.732 0.    0.    0.    3.464 2.828\n",
      " 4.472 0.    0.    0.    1.    2.236 1.    1.414 1.    0.    3.162 1.\n",
      " 1.414 0.    1.732 0.    0.    1.    2.236 1.    4.899 0.    1.    0.\n",
      " 1.414 2.449 1.    0.    0.    0.    0.    0.    0.    1.414 1.414 0.\n",
      " 1.    1.    1.414 1.732 0.    1.732 3.606 1.732 2.    0.    1.732 0.\n",
      " 0.    1.414 0.    0.    3.742 1.    1.    1.732 0.    1.414 0.    0.\n",
      " 1.732 0.    1.    4.796 1.    0.    3.317 3.606 4.243 0.    0.    2.449\n",
      " 1.    0.    2.    0.    2.449 0.    0.    1.732 0.    3.    0.    0.\n",
      " 3.317 3.464 0.    1.    0.    2.449 2.646 1.    0.    0.    3.317 0.\n",
      " 3.606 1.732 0.   ]\n"
     ]
    }
   ],
   "source": [
    "similarity_ts= neighbors_k_ts\n",
    "cpd_AD=similarity_ts[0,:]\n",
    "cpd_value = np.round(cpd_AD, 3)\n",
    "print(cpd_value)"
   ]
  },
  {
   "cell_type": "code",
   "execution_count": 186,
   "metadata": {},
   "outputs": [
    {
     "name": "stdout",
     "output_type": "stream",
     "text": [
      "[False False  True False  True  True  True  True  True  True  True  True\n",
      "  True  True  True  True  True  True False  True False  True  True  True\n",
      " False  True False False  True  True  True  True  True  True False  True\n",
      "  True  True  True  True  True  True  True False  True  True False  True\n",
      "  True  True  True  True False  True  True  True  True  True  True  True\n",
      "  True  True  True False  True False False  True False  True False  True\n",
      "  True  True  True  True  True  True  True  True  True  True False  True\n",
      " False False  True  True False  True False False  True  True  True False\n",
      " False False  True False  True  True  True False False False  True False\n",
      "  True False  True False  True False  True  True  True  True  True  True\n",
      "  True  True  True False False  True  True  True  True  True False  True\n",
      "  True  True False False False  True False  True  True  True False  True\n",
      " False  True False  True False  True  True  True False  True  True False\n",
      " False False False  True  True False False False False  True False  True\n",
      "  True  True  True False  True False  True False  True  True  True False\n",
      "  True  True  True  True  True  True  True False  True  True False  True\n",
      " False  True False  True  True  True  True  True False  True  True  True\n",
      " False False  True  True  True False  True False  True  True  True  True\n",
      " False  True  True  True  True  True  True  True  True False  True  True\n",
      "  True  True  True  True  True  True  True  True  True  True  True  True\n",
      "  True  True  True False  True  True  True  True  True  True  True  True\n",
      "  True  True  True  True  True  True False  True False  True  True False\n",
      "  True  True  True  True False False  True False  True  True False  True\n",
      "  True  True  True False False False  True  True  True False  True  True\n",
      "  True  True  True  True  True  True  True  True False  True  True  True\n",
      "  True  True  True  True  True  True  True False  True  True  True False\n",
      " False  True  True False  True  True  True  True  True  True False False\n",
      " False  True False False False  True  True  True  True False  True  True\n",
      "  True  True False  True  True False  True  True  True  True  True  True\n",
      "  True  True  True False False False  True  True  True  True  True  True\n",
      "  True False  True  True  True  True False  True  True  True  True  True\n",
      "  True  True  True  True  True  True  True  True  True False  True  True\n",
      "  True False  True  True  True  True  True  True False  True  True  True\n",
      " False  True  True  True  True  True  True  True False  True  True  True\n",
      "  True  True  True  True  True  True  True  True  True  True  True False\n",
      "  True False  True  True  True  True  True  True  True  True  True False\n",
      "  True  True False  True False  True  True False  True  True False  True\n",
      "  True  True  True  True  True  True  True  True  True  True  True False\n",
      "  True  True False  True  True False  True False  True  True  True  True\n",
      " False  True  True  True  True False  True  True  True  True  True  True\n",
      " False  True  True  True  True  True  True  True  True  True  True  True\n",
      "  True  True  True False  True  True  True  True False  True  True  True\n",
      "  True  True  True  True  True  True  True  True  True  True  True  True\n",
      "  True  True False  True  True  True  True False False False  True  True\n",
      "  True  True  True  True  True False False  True  True False  True  True\n",
      "  True  True  True  True False  True  True  True  True  True False  True\n",
      "  True  True  True  True False  True  True False  True  True  True False\n",
      "  True False  True  True False False False  True  True False  True False\n",
      "  True  True False  True  True  True  True  True False  True  True  True\n",
      "  True False  True False  True  True  True  True  True  True  True  True\n",
      "  True  True False  True False  True False  True  True  True  True  True\n",
      " False  True  True  True  True  True  True False False  True False  True\n",
      "  True False False  True False  True False  True  True  True  True False\n",
      "  True False  True  True  True  True  True  True  True  True  True  True\n",
      " False  True  True  True False  True  True  True False  True  True  True\n",
      "  True  True  True  True  True  True  True  True  True  True False False\n",
      " False  True  True  True  True False  True  True  True  True False  True\n",
      "  True  True  True  True  True  True False  True False  True  True  True\n",
      "  True False  True  True  True  True  True  True  True  True  True  True\n",
      "  True  True  True  True  True  True False  True False  True  True  True\n",
      "  True  True  True  True False  True  True  True  True  True  True  True\n",
      "  True  True  True False  True  True False False False  True  True False\n",
      "  True  True False  True False  True  True  True  True False  True  True\n",
      " False False  True  True  True False False  True  True  True False  True\n",
      " False  True  True]\n"
     ]
    }
   ],
   "source": [
    "cpd_AD = np.where(cpd_value <= model_AD_limit, True, False)\n",
    "print(cpd_AD)"
   ]
  },
  {
   "cell_type": "code",
   "execution_count": 187,
   "metadata": {},
   "outputs": [
    {
     "name": "stdout",
     "output_type": "stream",
     "text": [
      "Coverage =  0.76\n"
     ]
    }
   ],
   "source": [
    "print(\"Coverage = \", round(sum(cpd_AD) / len(cpd_AD), 2))"
   ]
  },
  {
   "cell_type": "code",
   "execution_count": 188,
   "metadata": {},
   "outputs": [
    {
     "name": "stdout",
     "output_type": "stream",
     "text": [
      "Indices of substances included in AD =  [  2   4   5   6   7   8   9  10  11  12  13  14  15  16  17  19  21  22\n",
      "  23  25  28  29  30  31  32  33  35  36  37  38  39  40  41  42  44  45\n",
      "  47  48  49  50  51  53  54  55  56  57  58  59  60  61  62  64  67  69\n",
      "  71  72  73  74  75  76  77  78  79  80  81  83  86  87  89  92  93  94\n",
      "  98 100 101 102 106 108 110 112 114 115 116 117 118 119 120 121 122 125\n",
      " 126 127 128 129 131 132 133 137 139 140 141 143 145 147 149 150 151 153\n",
      " 154 159 160 165 167 168 169 170 172 174 176 177 178 180 181 182 183 184\n",
      " 185 186 188 189 191 193 195 196 197 198 199 201 202 203 206 207 208 210\n",
      " 212 213 214 215 217 218 219 220 221 222 223 224 226 227 228 229 230 231\n",
      " 232 233 234 235 236 237 238 239 240 241 242 244 245 246 247 248 249 250\n",
      " 251 252 253 254 255 256 257 259 261 262 264 265 266 267 270 272 273 275\n",
      " 276 277 278 282 283 284 286 287 288 289 290 291 292 293 294 295 297 298\n",
      " 299 300 301 302 303 304 305 306 308 309 310 313 314 316 317 318 319 320\n",
      " 321 325 329 330 331 332 334 335 336 337 339 340 342 343 344 345 346 347\n",
      " 348 349 350 354 355 356 357 358 359 360 362 363 364 365 367 368 369 370\n",
      " 371 372 373 374 375 376 377 378 379 380 382 383 384 386 387 388 389 390\n",
      " 391 393 394 395 397 398 399 400 401 402 403 405 406 407 408 409 410 411\n",
      " 412 413 414 415 416 417 418 420 422 423 424 425 426 427 428 429 430 432\n",
      " 433 435 437 438 440 441 443 444 445 446 447 448 449 450 451 452 453 454\n",
      " 456 457 459 460 462 464 465 466 467 469 470 471 472 474 475 476 477 478\n",
      " 479 481 482 483 484 485 486 487 488 489 490 491 492 493 494 496 497 498\n",
      " 499 501 502 503 504 505 506 507 508 509 510 511 512 513 514 515 516 517\n",
      " 519 520 521 522 526 527 528 529 530 531 532 535 536 538 539 540 541 542\n",
      " 543 545 546 547 548 549 551 552 553 554 555 557 558 560 561 562 564 566\n",
      " 567 571 572 574 576 577 579 580 581 582 583 585 586 587 588 590 592 593\n",
      " 594 595 596 597 598 599 600 601 603 605 607 608 609 610 611 613 614 615\n",
      " 616 617 618 621 623 624 627 629 631 632 633 634 636 638 639 640 641 642\n",
      " 643 644 645 646 647 649 650 651 653 654 655 657 658 659 660 661 662 663\n",
      " 664 665 666 667 668 669 673 674 675 676 678 679 680 681 683 684 685 686\n",
      " 687 688 689 691 693 694 695 696 698 699 700 701 702 703 704 705 706 707\n",
      " 708 709 710 711 712 713 715 717 718 719 720 721 722 723 725 726 727 728\n",
      " 729 730 731 732 733 734 736 737 741 742 744 745 747 749 750 751 752 754\n",
      " 755 758 759 760 763 764 765 767 769 770]\n"
     ]
    }
   ],
   "source": [
    "print(\"Indices of substances included in AD = \", np.where(cpd_AD != 0)[0])"
   ]
  },
  {
   "cell_type": "code",
   "execution_count": 189,
   "metadata": {},
   "outputs": [],
   "source": [
    "out_Ad=list(np.where(cpd_AD == 0)[0])"
   ]
  },
  {
   "cell_type": "markdown",
   "metadata": {},
   "source": [
    "# 12. Prediction only for molecules included in  AD"
   ]
  },
  {
   "cell_type": "code",
   "execution_count": 190,
   "metadata": {},
   "outputs": [],
   "source": [
    "y_pred_kNN_ad=list(y_pred_kNN)"
   ]
  },
  {
   "cell_type": "code",
   "execution_count": 191,
   "metadata": {},
   "outputs": [],
   "source": [
    "y_pred_kNN_ad[:] = [x for i,x in enumerate(y_pred_kNN_ad) if i not in out_Ad]"
   ]
  },
  {
   "cell_type": "code",
   "execution_count": 192,
   "metadata": {},
   "outputs": [
    {
     "data": {
      "text/plain": [
       "586"
      ]
     },
     "execution_count": 192,
     "metadata": {},
     "output_type": "execute_result"
    }
   ],
   "source": [
    "len(y_pred_kNN_ad)"
   ]
  },
  {
   "cell_type": "code",
   "execution_count": 193,
   "metadata": {},
   "outputs": [],
   "source": [
    "y_ts_ad=list(y_ts)"
   ]
  },
  {
   "cell_type": "code",
   "execution_count": 194,
   "metadata": {},
   "outputs": [],
   "source": [
    "y_ts_ad[:] = [x for i,x in enumerate(y_ts_ad) if i not in out_Ad]"
   ]
  },
  {
   "cell_type": "code",
   "execution_count": 195,
   "metadata": {},
   "outputs": [
    {
     "data": {
      "text/plain": [
       "586"
      ]
     },
     "execution_count": 195,
     "metadata": {},
     "output_type": "execute_result"
    }
   ],
   "source": [
    "len(y_ts_ad)"
   ]
  },
  {
   "cell_type": "code",
   "execution_count": 196,
   "metadata": {},
   "outputs": [
    {
     "data": {
      "text/plain": [
       "0.48"
      ]
     },
     "execution_count": 196,
     "metadata": {},
     "output_type": "execute_result"
    }
   ],
   "source": [
    "Q2_TS = round(r2_score(y_ts_ad, y_pred_kNN_ad), 2)\n",
    "Q2_TS"
   ]
  },
  {
   "cell_type": "code",
   "execution_count": 197,
   "metadata": {
    "scrolled": true
   },
   "outputs": [
    {
     "data": {
      "text/plain": [
       "0.77"
      ]
     },
     "execution_count": 197,
     "metadata": {},
     "output_type": "execute_result"
    }
   ],
   "source": [
    "RMSE_TS=round(np.sqrt(mean_absolute_error(y_ts_ad, y_pred_kNN_ad)), 2)\n",
    "RMSE_TS"
   ]
  },
  {
   "cell_type": "markdown",
   "metadata": {},
   "source": [
    "## Analyzing the importance of descriptors for the GBM model"
   ]
  },
  {
   "cell_type": "code",
   "execution_count": 198,
   "metadata": {},
   "outputs": [],
   "source": [
    "import shap"
   ]
  },
  {
   "cell_type": "code",
   "execution_count": 201,
   "metadata": {},
   "outputs": [],
   "source": [
    "explainer = shap.Explainer(best_GBR)"
   ]
  },
  {
   "cell_type": "code",
   "execution_count": 202,
   "metadata": {},
   "outputs": [],
   "source": [
    "shap_values = explainer(x_tr)"
   ]
  },
  {
   "cell_type": "code",
   "execution_count": 204,
   "metadata": {},
   "outputs": [
    {
     "data": {
      "image/png": "[encoded data removed]",
      "text/plain": [
       "<Figure size 800x550 with 2 Axes>"
      ]
     },
     "metadata": {},
     "output_type": "display_data"
    }
   ],
   "source": [
    "shap.plots.beeswarm(shap_values)"
   ]
  },
  {
   "cell_type": "code",
   "execution_count": 205,
   "metadata": {},
   "outputs": [
    {
     "data": {
      "image/png": "[encoded data removed]",
      "text/plain": [
       "<Figure size 800x650 with 1 Axes>"
      ]
     },
     "metadata": {},
     "output_type": "display_data"
    }
   ],
   "source": [
    "shap.plots.bar(shap_values)"
   ]
  },
  {
   "cell_type": "code",
   "execution_count": null,
   "metadata": {},
   "outputs": [],
   "source": []
  }
 ],
 "metadata": {
  "kernelspec": {
   "display_name": "Python3 (rdkit)",
   "language": "python",
   "name": "my-rdkit-env"
  },
  "language_info": {
   "codemirror_mode": {
    "name": "ipython",
    "version": 3
   },
   "file_extension": ".py",
   "mimetype": "text/x-python",
   "name": "python",
   "nbconvert_exporter": "python",
   "pygments_lexer": "ipython3",
   "version": "3.10.12"
  }
 },
 "nbformat": 4,
 "nbformat_minor": 4
}
