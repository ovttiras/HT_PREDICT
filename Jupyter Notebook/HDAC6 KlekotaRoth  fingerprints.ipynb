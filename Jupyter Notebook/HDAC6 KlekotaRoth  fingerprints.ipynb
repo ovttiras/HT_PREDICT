{
 "cells": [
  {
   "cell_type": "markdown",
   "metadata": {},
   "source": [
    "# 1. Importing modules and functions"
   ]
  },
  {
   "cell_type": "code",
   "execution_count": 1,
   "metadata": {},
   "outputs": [
    {
     "name": "stderr",
     "output_type": "stream",
     "text": [
      "Using `tqdm.autonotebook.tqdm` in notebook mode. Use `tqdm.tqdm` instead to force console mode (e.g. in jupyter console)\n"
     ]
    }
   ],
   "source": [
    "from rdkit import Chem, DataStructs\n",
    "from rdkit.Chem import AllChem, Descriptors\n",
    "from rdkit.ML.Descriptors import MoleculeDescriptors\n",
    "from molvs import standardize_smiles\n",
    "import numpy as np\n",
    "import pandas as pd\n",
    "from sklearn.svm import SVC\n",
    "from sklearn.model_selection import KFold, GridSearchCV\n",
    "from sklearn.metrics import mean_absolute_error\n",
    "from sklearn.metrics import r2_score\n",
    "from sklearn.ensemble import GradientBoostingRegressor\n",
    "from sklearn.svm import SVR\n",
    "from sklearn.model_selection import permutation_test_score\n",
    "from sklearn.preprocessing import StandardScaler\n",
    "from sklearn.model_selection import cross_val_predict\n",
    "from sklearn import metrics\n",
    "from sklearn.metrics import pairwise_distances\n",
    "import joblib\n",
    "import pickle\n",
    "from numpy import savetxt\n",
    "from padelpy import from_sdf\n",
    "import shap\n",
    "from tqdm.notebook import tqdm"
   ]
  },
  {
   "cell_type": "code",
   "execution_count": 2,
   "metadata": {},
   "outputs": [
    {
     "data": {
      "text/plain": [
       "['fingerprints_xml\\\\AtomPairs2DFingerprintCount.xml',\n",
       " 'fingerprints_xml\\\\AtomPairs2DFingerprinter.xml',\n",
       " 'fingerprints_xml\\\\EStateFingerprinter.xml',\n",
       " 'fingerprints_xml\\\\ExtendedFingerprinter.xml',\n",
       " 'fingerprints_xml\\\\Fingerprinter.xml',\n",
       " 'fingerprints_xml\\\\GraphOnlyFingerprinter.xml',\n",
       " 'fingerprints_xml\\\\KlekotaRothFingerprintCount.xml',\n",
       " 'fingerprints_xml\\\\KlekotaRothFingerprinter.xml',\n",
       " 'fingerprints_xml\\\\MACCSFingerprinter.xml',\n",
       " 'fingerprints_xml\\\\PubchemFingerprinter.xml',\n",
       " 'fingerprints_xml\\\\SubstructureFingerprintCount.xml',\n",
       " 'fingerprints_xml\\\\SubstructureFingerprinter.xml']"
      ]
     },
     "execution_count": 2,
     "metadata": {},
     "output_type": "execute_result"
    }
   ],
   "source": [
    "import glob\n",
    "xml_files = glob.glob(\"fingerprints_xml/*.xml\")\n",
    "xml_files.sort()\n",
    "xml_files"
   ]
  },
  {
   "cell_type": "code",
   "execution_count": 3,
   "metadata": {},
   "outputs": [],
   "source": [
    "FP_list = ['AtomPairs2DCount',\n",
    " 'AtomPairs2D',\n",
    " 'EState',\n",
    " 'CDKextended',\n",
    " 'CDK',\n",
    " 'CDKgraphonly',\n",
    " 'KlekotaRothCount',\n",
    " 'KlekotaRoth',\n",
    " 'MACCS',\n",
    " 'KlekotaRoth',\n",
    " 'SubstructureCount',\n",
    " 'Substructure']"
   ]
  },
  {
   "cell_type": "code",
   "execution_count": 4,
   "metadata": {},
   "outputs": [
    {
     "data": {
      "text/plain": [
       "{'AtomPairs2DCount': 'fingerprints_xml\\\\AtomPairs2DFingerprintCount.xml',\n",
       " 'AtomPairs2D': 'fingerprints_xml\\\\AtomPairs2DFingerprinter.xml',\n",
       " 'EState': 'fingerprints_xml\\\\EStateFingerprinter.xml',\n",
       " 'CDKextended': 'fingerprints_xml\\\\ExtendedFingerprinter.xml',\n",
       " 'CDK': 'fingerprints_xml\\\\Fingerprinter.xml',\n",
       " 'CDKgraphonly': 'fingerprints_xml\\\\GraphOnlyFingerprinter.xml',\n",
       " 'KlekotaRothCount': 'fingerprints_xml\\\\KlekotaRothFingerprintCount.xml',\n",
       " 'KlekotaRoth': 'fingerprints_xml\\\\PubchemFingerprinter.xml',\n",
       " 'MACCS': 'fingerprints_xml\\\\MACCSFingerprinter.xml',\n",
       " 'SubstructureCount': 'fingerprints_xml\\\\SubstructureFingerprintCount.xml',\n",
       " 'Substructure': 'fingerprints_xml\\\\SubstructureFingerprinter.xml'}"
      ]
     },
     "execution_count": 4,
     "metadata": {},
     "output_type": "execute_result"
    }
   ],
   "source": [
    "fp = dict(zip(FP_list, xml_files))\n",
    "fp"
   ]
  },
  {
   "cell_type": "markdown",
   "metadata": {},
   "source": [
    "# 2.Data entry and curation work set"
   ]
  },
  {
   "cell_type": "code",
   "execution_count": 5,
   "metadata": {},
   "outputs": [
    {
     "name": "stdout",
     "output_type": "stream",
     "text": [
      "Original data:  3083 molecules\n",
      "Failed data:  0 molecules\n"
     ]
    },
    {
     "data": {
      "text/html": [
       "<div>\n",
       "<style scoped>\n",
       "    .dataframe tbody tr th:only-of-type {\n",
       "        vertical-align: middle;\n",
       "    }\n",
       "\n",
       "    .dataframe tbody tr th {\n",
       "        vertical-align: top;\n",
       "    }\n",
       "\n",
       "    .dataframe thead th {\n",
       "        text-align: right;\n",
       "    }\n",
       "</style>\n",
       "<table border=\"1\" class=\"dataframe\">\n",
       "  <thead>\n",
       "    <tr style=\"text-align: right;\">\n",
       "      <th></th>\n",
       "      <th>No. failed molecule in original set</th>\n",
       "      <th>SMILES of wrong structure:</th>\n",
       "    </tr>\n",
       "    <tr>\n",
       "      <th>No.</th>\n",
       "      <th></th>\n",
       "      <th></th>\n",
       "    </tr>\n",
       "  </thead>\n",
       "  <tbody>\n",
       "  </tbody>\n",
       "</table>\n",
       "</div>"
      ],
      "text/plain": [
       "Empty DataFrame\n",
       "Columns: [No. failed molecule in original set, SMILES of wrong structure: ]\n",
       "Index: []"
      ]
     },
     "execution_count": 5,
     "metadata": {},
     "output_type": "execute_result"
    }
   ],
   "source": [
    "uploaded_file_ws=\"datasets/HDAC6_work.sdf\"\n",
    "supplier_ws = Chem.ForwardSDMolSupplier(uploaded_file_ws,sanitize=False)\n",
    "failed_mols_ws = []\n",
    "all_mols_ws =[]\n",
    "wrong_structure_ws=[]\n",
    "wrong_smiles_ws=[]\n",
    "y_tr = []\n",
    "y_bad_index=[]\n",
    "\n",
    "for i, m in enumerate(supplier_ws):\n",
    "    structure = Chem.Mol(m)\n",
    "    all_mols_ws.append(structure)\n",
    "    y_tr.append(m.GetProp(\"pchembl_value_mean\"))\n",
    "    try:\n",
    "        Chem.SanitizeMol(structure)\n",
    "    except:\n",
    "        failed_mols_ws.append(m)\n",
    "        wrong_smiles_ws.append(Chem.MolToSmiles(m))\n",
    "        wrong_structure_ws.append(str(i+1))\n",
    "        y_bad_index.append(i)\n",
    "print('Original data: ', len(all_mols_ws), 'molecules')\n",
    "print('Failed data: ', len(failed_mols_ws), 'molecules')\n",
    "number_ws =[]\n",
    "for i in range(len(failed_mols_ws)):\n",
    "        number_ws.append(str(i+1))\n",
    "bad_molecules_ws = pd.DataFrame({'No. failed molecule in original set': wrong_structure_ws, 'SMILES of wrong structure: ': wrong_smiles_ws, 'No.': number_ws}, index=None)\n",
    "bad_molecules_ws = bad_molecules_ws.set_index('No.')\n",
    "bad_molecules_ws"
   ]
  },
  {
   "cell_type": "markdown",
   "metadata": {},
   "source": [
    "deleting activity values for substances with incorrect structure"
   ]
  },
  {
   "cell_type": "code",
   "execution_count": 6,
   "metadata": {},
   "outputs": [],
   "source": [
    "y_tr[:] = [x for i,x in enumerate(y_tr) if i not in y_bad_index]"
   ]
  },
  {
   "cell_type": "code",
   "execution_count": 7,
   "metadata": {},
   "outputs": [
    {
     "data": {
      "text/plain": [
       "3083"
      ]
     },
     "execution_count": 7,
     "metadata": {},
     "output_type": "execute_result"
    }
   ],
   "source": [
    "len(y_tr)"
   ]
  },
  {
   "cell_type": "markdown",
   "metadata": {},
   "source": [
    "# 3.Standardization SDF file for work set"
   ]
  },
  {
   "cell_type": "code",
   "execution_count": 8,
   "metadata": {},
   "outputs": [
    {
     "name": "stdout",
     "output_type": "stream",
     "text": [
      "Kept data:  3083 molecules\n"
     ]
    }
   ],
   "source": [
    "all_mols_ws[:] = [x for i,x in enumerate(all_mols_ws) if i not in y_bad_index] \n",
    "records = []\n",
    "for i in range(len(all_mols_ws)):\n",
    "    record = Chem.MolToSmiles(all_mols_ws[i])\n",
    "    records.append(record)\n",
    "\n",
    "moldf_ws = []\n",
    "for i,record in enumerate(records):\n",
    "    standard_record = standardize_smiles(record)\n",
    "    m = Chem.MolFromSmiles(standard_record)\n",
    "    moldf_ws.append(m)\n",
    "    \n",
    "print('Kept data: ', len(moldf_ws), 'molecules')"
   ]
  },
  {
   "cell_type": "code",
   "execution_count": 9,
   "metadata": {},
   "outputs": [],
   "source": [
    "records_ws = []\n",
    "for i in range(len(moldf_ws)):\n",
    "    record = Chem.MolToSmiles(moldf_ws[i])\n",
    "    records_ws.append(record)"
   ]
  },
  {
   "cell_type": "code",
   "execution_count": 10,
   "metadata": {},
   "outputs": [],
   "source": [
    "df = pd.DataFrame(records_ws, columns=[\"Smiles\"])\n",
    "df.to_csv('datasets/molecule_ws.smi', sep=',', index=False, header=False)"
   ]
  },
  {
   "cell_type": "markdown",
   "metadata": {},
   "source": [
    "# 4.Data entry and curation test set"
   ]
  },
  {
   "cell_type": "code",
   "execution_count": 11,
   "metadata": {},
   "outputs": [
    {
     "name": "stdout",
     "output_type": "stream",
     "text": [
      "Original data:  771 molecules\n",
      "Failed data:  0 molecules\n"
     ]
    },
    {
     "data": {
      "text/html": [
       "<div>\n",
       "<style scoped>\n",
       "    .dataframe tbody tr th:only-of-type {\n",
       "        vertical-align: middle;\n",
       "    }\n",
       "\n",
       "    .dataframe tbody tr th {\n",
       "        vertical-align: top;\n",
       "    }\n",
       "\n",
       "    .dataframe thead th {\n",
       "        text-align: right;\n",
       "    }\n",
       "</style>\n",
       "<table border=\"1\" class=\"dataframe\">\n",
       "  <thead>\n",
       "    <tr style=\"text-align: right;\">\n",
       "      <th></th>\n",
       "      <th>No. failed molecule in original set</th>\n",
       "      <th>SMILES of wrong structure:</th>\n",
       "    </tr>\n",
       "    <tr>\n",
       "      <th>No.</th>\n",
       "      <th></th>\n",
       "      <th></th>\n",
       "    </tr>\n",
       "  </thead>\n",
       "  <tbody>\n",
       "  </tbody>\n",
       "</table>\n",
       "</div>"
      ],
      "text/plain": [
       "Empty DataFrame\n",
       "Columns: [No. failed molecule in original set, SMILES of wrong structure: ]\n",
       "Index: []"
      ]
     },
     "execution_count": 11,
     "metadata": {},
     "output_type": "execute_result"
    }
   ],
   "source": [
    "uploaded_file_ts=\"datasets/HDAC6_test.sdf\"\n",
    "supplier_ts = Chem.ForwardSDMolSupplier(uploaded_file_ts,sanitize=False)\n",
    "failed_mols_ts = []\n",
    "all_mols_ts =[]\n",
    "wrong_structure_ts=[]\n",
    "wrong_smiles_ts=[]\n",
    "y_ts = []\n",
    "y_bad_index=[]\n",
    "for i, m in enumerate(supplier_ts):\n",
    "    structure = Chem.Mol(m)\n",
    "    all_mols_ts.append(structure)\n",
    "    y_ts.append(m.GetProp(\"pchembl_value_mean\"))\n",
    "    try:\n",
    "        Chem.SanitizeMol(structure)\n",
    "    except:\n",
    "        failed_mols_ts.append(m)\n",
    "        wrong_smiles_ts.append(Chem.MolToSmiles(m))\n",
    "        wrong_structure_ts.append(str(i+1))\n",
    "        y_bad_index.append(i)\n",
    "print('Original data: ', len(all_mols_ts), 'molecules')\n",
    "print('Failed data: ', len(failed_mols_ts), 'molecules')\n",
    "number_ts =[]\n",
    "for i in range(len(failed_mols_ts)):\n",
    "        number_ts.append(str(i+1))\n",
    "bad_molecules_ts = pd.DataFrame({'No. failed molecule in original set': wrong_structure_ts, 'SMILES of wrong structure: ': wrong_smiles_ts, 'No.': number_ts}, index=None)\n",
    "bad_molecules_ts = bad_molecules_ts.set_index('No.')\n",
    "bad_molecules_ts"
   ]
  },
  {
   "cell_type": "markdown",
   "metadata": {},
   "source": [
    "deleting activity values for substances with incorrect structure"
   ]
  },
  {
   "cell_type": "code",
   "execution_count": 12,
   "metadata": {},
   "outputs": [],
   "source": [
    "y_ts[:] = [x for i,x in enumerate(y_ts) if i not in y_bad_index]"
   ]
  },
  {
   "cell_type": "code",
   "execution_count": 13,
   "metadata": {},
   "outputs": [
    {
     "data": {
      "text/plain": [
       "771"
      ]
     },
     "execution_count": 13,
     "metadata": {},
     "output_type": "execute_result"
    }
   ],
   "source": [
    "len(y_ts)"
   ]
  },
  {
   "cell_type": "markdown",
   "metadata": {
    "scrolled": true
   },
   "source": [
    "# 5.Standardization SDF file for test set"
   ]
  },
  {
   "cell_type": "code",
   "execution_count": 14,
   "metadata": {},
   "outputs": [
    {
     "name": "stdout",
     "output_type": "stream",
     "text": [
      "Kept data:  771 molecules\n"
     ]
    }
   ],
   "source": [
    "all_mols_ts[:] = [x for i,x in enumerate(all_mols_ts) if i not in y_bad_index] \n",
    "records = []\n",
    "for i in range(len(all_mols_ts)):\n",
    "    record = Chem.MolToSmiles(all_mols_ts[i])\n",
    "    records.append(record)\n",
    "\n",
    "moldf_ts = []\n",
    "for i,record in enumerate(records):\n",
    "    standard_record = standardize_smiles(record)\n",
    "    m = Chem.MolFromSmiles(standard_record)\n",
    "    moldf_ts.append(m)\n",
    "    \n",
    "print('Kept data: ', len(moldf_ts), 'molecules')"
   ]
  },
  {
   "cell_type": "code",
   "execution_count": 15,
   "metadata": {},
   "outputs": [],
   "source": [
    "records_ts = []\n",
    "for i in range(len(moldf_ts)):\n",
    "    record = Chem.MolToSmiles(moldf_ts[i])\n",
    "    records_ts.append(record)"
   ]
  },
  {
   "cell_type": "code",
   "execution_count": 16,
   "metadata": {},
   "outputs": [],
   "source": [
    "df_ts = pd.DataFrame(records_ts, columns=[\"Smiles\"])\n",
    "df_ts.to_csv('datasets/molecule_ts.smi', sep=',', index=False, header=False)"
   ]
  },
  {
   "cell_type": "markdown",
   "metadata": {},
   "source": [
    "# 6.Descriptor calculation for work set"
   ]
  },
  {
   "cell_type": "code",
   "execution_count": 16,
   "metadata": {},
   "outputs": [
    {
     "data": {
      "text/plain": [
       "{'AtomPairs2DCount': 'fingerprints_xml\\\\AtomPairs2DFingerprintCount.xml',\n",
       " 'AtomPairs2D': 'fingerprints_xml\\\\AtomPairs2DFingerprinter.xml',\n",
       " 'EState': 'fingerprints_xml\\\\EStateFingerprinter.xml',\n",
       " 'CDKextended': 'fingerprints_xml\\\\ExtendedFingerprinter.xml',\n",
       " 'CDK': 'fingerprints_xml\\\\Fingerprinter.xml',\n",
       " 'CDKgraphonly': 'fingerprints_xml\\\\GraphOnlyFingerprinter.xml',\n",
       " 'KlekotaRothCount': 'fingerprints_xml\\\\KlekotaRothFingerprintCount.xml',\n",
       " 'KlekotaRoth': 'fingerprints_xml\\\\PubchemFingerprinter.xml',\n",
       " 'MACCS': 'fingerprints_xml\\\\MACCSFingerprinter.xml',\n",
       " 'SubstructureCount': 'fingerprints_xml\\\\SubstructureFingerprintCount.xml',\n",
       " 'Substructure': 'fingerprints_xml\\\\SubstructureFingerprinter.xml'}"
      ]
     },
     "execution_count": 16,
     "metadata": {},
     "output_type": "execute_result"
    }
   ],
   "source": [
    "fp"
   ]
  },
  {
   "cell_type": "markdown",
   "metadata": {},
   "source": [
    "## KlekotaRoth FPs"
   ]
  },
  {
   "cell_type": "code",
   "execution_count": null,
   "metadata": {},
   "outputs": [],
   "source": [
    "from padelpy import padeldescriptor\n",
    "\n",
    "fingerprint = 'KlekotaRoth'\n",
    "\n",
    "fingerprint_output_file = ''.join([fingerprint,'.csv']) #KlekotaRoth.csv\n",
    "fingerprint_descriptortypes = fp[fingerprint]\n",
    "\n",
    "padeldescriptor(mol_dir='datasets/molecule_ws.smi', \n",
    "                d_file=fingerprint_output_file, #'KlekotaRoth.csv'\n",
    "                #descriptortypes='KlekotaRoth.xml', \n",
    "                descriptortypes= fingerprint_descriptortypes,\n",
    "                detectaromaticity=True,\n",
    "                standardizenitro=True,\n",
    "                standardizetautomers=True,\n",
    "                threads=2,\n",
    "                removesalt=True,\n",
    "                log=False,\n",
    "                fingerprints=True)"
   ]
  },
  {
   "cell_type": "code",
   "execution_count": 2,
   "metadata": {},
   "outputs": [],
   "source": [
    "descriptors_KlekotaRoth = pd.read_csv('KlekotaRoth.csv')"
   ]
  },
  {
   "cell_type": "code",
   "execution_count": 3,
   "metadata": {},
   "outputs": [
    {
     "data": {
      "text/html": [
       "<div>\n",
       "<style scoped>\n",
       "    .dataframe tbody tr th:only-of-type {\n",
       "        vertical-align: middle;\n",
       "    }\n",
       "\n",
       "    .dataframe tbody tr th {\n",
       "        vertical-align: top;\n",
       "    }\n",
       "\n",
       "    .dataframe thead th {\n",
       "        text-align: right;\n",
       "    }\n",
       "</style>\n",
       "<table border=\"1\" class=\"dataframe\">\n",
       "  <thead>\n",
       "    <tr style=\"text-align: right;\">\n",
       "      <th></th>\n",
       "      <th>Name</th>\n",
       "      <th>KRFP1</th>\n",
       "      <th>KRFP2</th>\n",
       "      <th>KRFP3</th>\n",
       "      <th>KRFP4</th>\n",
       "      <th>KRFP5</th>\n",
       "      <th>KRFP6</th>\n",
       "      <th>KRFP7</th>\n",
       "      <th>KRFP8</th>\n",
       "      <th>KRFP9</th>\n",
       "      <th>...</th>\n",
       "      <th>KRFP4851</th>\n",
       "      <th>KRFP4852</th>\n",
       "      <th>KRFP4853</th>\n",
       "      <th>KRFP4854</th>\n",
       "      <th>KRFP4855</th>\n",
       "      <th>KRFP4856</th>\n",
       "      <th>KRFP4857</th>\n",
       "      <th>KRFP4858</th>\n",
       "      <th>KRFP4859</th>\n",
       "      <th>KRFP4860</th>\n",
       "    </tr>\n",
       "  </thead>\n",
       "  <tbody>\n",
       "    <tr>\n",
       "      <th>0</th>\n",
       "      <td>AUTOGEN_molecule_ws_1</td>\n",
       "      <td>0</td>\n",
       "      <td>0</td>\n",
       "      <td>0</td>\n",
       "      <td>0</td>\n",
       "      <td>0</td>\n",
       "      <td>0</td>\n",
       "      <td>0</td>\n",
       "      <td>0</td>\n",
       "      <td>0</td>\n",
       "      <td>...</td>\n",
       "      <td>0</td>\n",
       "      <td>0</td>\n",
       "      <td>0</td>\n",
       "      <td>0</td>\n",
       "      <td>0</td>\n",
       "      <td>0</td>\n",
       "      <td>0</td>\n",
       "      <td>0</td>\n",
       "      <td>0</td>\n",
       "      <td>0</td>\n",
       "    </tr>\n",
       "    <tr>\n",
       "      <th>1</th>\n",
       "      <td>AUTOGEN_molecule_ws_2</td>\n",
       "      <td>0</td>\n",
       "      <td>0</td>\n",
       "      <td>0</td>\n",
       "      <td>0</td>\n",
       "      <td>0</td>\n",
       "      <td>0</td>\n",
       "      <td>0</td>\n",
       "      <td>0</td>\n",
       "      <td>0</td>\n",
       "      <td>...</td>\n",
       "      <td>0</td>\n",
       "      <td>0</td>\n",
       "      <td>0</td>\n",
       "      <td>0</td>\n",
       "      <td>0</td>\n",
       "      <td>0</td>\n",
       "      <td>0</td>\n",
       "      <td>0</td>\n",
       "      <td>0</td>\n",
       "      <td>0</td>\n",
       "    </tr>\n",
       "    <tr>\n",
       "      <th>2</th>\n",
       "      <td>AUTOGEN_molecule_ws_3</td>\n",
       "      <td>0</td>\n",
       "      <td>0</td>\n",
       "      <td>0</td>\n",
       "      <td>0</td>\n",
       "      <td>0</td>\n",
       "      <td>0</td>\n",
       "      <td>0</td>\n",
       "      <td>0</td>\n",
       "      <td>0</td>\n",
       "      <td>...</td>\n",
       "      <td>0</td>\n",
       "      <td>0</td>\n",
       "      <td>0</td>\n",
       "      <td>0</td>\n",
       "      <td>0</td>\n",
       "      <td>0</td>\n",
       "      <td>0</td>\n",
       "      <td>0</td>\n",
       "      <td>0</td>\n",
       "      <td>0</td>\n",
       "    </tr>\n",
       "    <tr>\n",
       "      <th>3</th>\n",
       "      <td>AUTOGEN_molecule_ws_4</td>\n",
       "      <td>0</td>\n",
       "      <td>0</td>\n",
       "      <td>0</td>\n",
       "      <td>0</td>\n",
       "      <td>0</td>\n",
       "      <td>0</td>\n",
       "      <td>0</td>\n",
       "      <td>0</td>\n",
       "      <td>0</td>\n",
       "      <td>...</td>\n",
       "      <td>0</td>\n",
       "      <td>0</td>\n",
       "      <td>0</td>\n",
       "      <td>0</td>\n",
       "      <td>0</td>\n",
       "      <td>0</td>\n",
       "      <td>0</td>\n",
       "      <td>0</td>\n",
       "      <td>0</td>\n",
       "      <td>0</td>\n",
       "    </tr>\n",
       "    <tr>\n",
       "      <th>4</th>\n",
       "      <td>AUTOGEN_molecule_ws_5</td>\n",
       "      <td>1</td>\n",
       "      <td>0</td>\n",
       "      <td>0</td>\n",
       "      <td>0</td>\n",
       "      <td>0</td>\n",
       "      <td>0</td>\n",
       "      <td>0</td>\n",
       "      <td>0</td>\n",
       "      <td>0</td>\n",
       "      <td>...</td>\n",
       "      <td>0</td>\n",
       "      <td>0</td>\n",
       "      <td>0</td>\n",
       "      <td>0</td>\n",
       "      <td>0</td>\n",
       "      <td>0</td>\n",
       "      <td>0</td>\n",
       "      <td>0</td>\n",
       "      <td>0</td>\n",
       "      <td>0</td>\n",
       "    </tr>\n",
       "    <tr>\n",
       "      <th>...</th>\n",
       "      <td>...</td>\n",
       "      <td>...</td>\n",
       "      <td>...</td>\n",
       "      <td>...</td>\n",
       "      <td>...</td>\n",
       "      <td>...</td>\n",
       "      <td>...</td>\n",
       "      <td>...</td>\n",
       "      <td>...</td>\n",
       "      <td>...</td>\n",
       "      <td>...</td>\n",
       "      <td>...</td>\n",
       "      <td>...</td>\n",
       "      <td>...</td>\n",
       "      <td>...</td>\n",
       "      <td>...</td>\n",
       "      <td>...</td>\n",
       "      <td>...</td>\n",
       "      <td>...</td>\n",
       "      <td>...</td>\n",
       "      <td>...</td>\n",
       "    </tr>\n",
       "    <tr>\n",
       "      <th>3078</th>\n",
       "      <td>AUTOGEN_molecule_ws_3079</td>\n",
       "      <td>1</td>\n",
       "      <td>1</td>\n",
       "      <td>0</td>\n",
       "      <td>0</td>\n",
       "      <td>0</td>\n",
       "      <td>0</td>\n",
       "      <td>0</td>\n",
       "      <td>0</td>\n",
       "      <td>0</td>\n",
       "      <td>...</td>\n",
       "      <td>0</td>\n",
       "      <td>0</td>\n",
       "      <td>0</td>\n",
       "      <td>0</td>\n",
       "      <td>0</td>\n",
       "      <td>0</td>\n",
       "      <td>0</td>\n",
       "      <td>0</td>\n",
       "      <td>0</td>\n",
       "      <td>0</td>\n",
       "    </tr>\n",
       "    <tr>\n",
       "      <th>3079</th>\n",
       "      <td>AUTOGEN_molecule_ws_3080</td>\n",
       "      <td>0</td>\n",
       "      <td>0</td>\n",
       "      <td>0</td>\n",
       "      <td>0</td>\n",
       "      <td>0</td>\n",
       "      <td>0</td>\n",
       "      <td>0</td>\n",
       "      <td>0</td>\n",
       "      <td>0</td>\n",
       "      <td>...</td>\n",
       "      <td>0</td>\n",
       "      <td>0</td>\n",
       "      <td>0</td>\n",
       "      <td>0</td>\n",
       "      <td>0</td>\n",
       "      <td>0</td>\n",
       "      <td>0</td>\n",
       "      <td>0</td>\n",
       "      <td>0</td>\n",
       "      <td>0</td>\n",
       "    </tr>\n",
       "    <tr>\n",
       "      <th>3080</th>\n",
       "      <td>AUTOGEN_molecule_ws_3081</td>\n",
       "      <td>0</td>\n",
       "      <td>0</td>\n",
       "      <td>0</td>\n",
       "      <td>0</td>\n",
       "      <td>0</td>\n",
       "      <td>0</td>\n",
       "      <td>0</td>\n",
       "      <td>0</td>\n",
       "      <td>0</td>\n",
       "      <td>...</td>\n",
       "      <td>0</td>\n",
       "      <td>0</td>\n",
       "      <td>0</td>\n",
       "      <td>0</td>\n",
       "      <td>0</td>\n",
       "      <td>0</td>\n",
       "      <td>0</td>\n",
       "      <td>0</td>\n",
       "      <td>0</td>\n",
       "      <td>0</td>\n",
       "    </tr>\n",
       "    <tr>\n",
       "      <th>3081</th>\n",
       "      <td>AUTOGEN_molecule_ws_3082</td>\n",
       "      <td>0</td>\n",
       "      <td>0</td>\n",
       "      <td>0</td>\n",
       "      <td>0</td>\n",
       "      <td>0</td>\n",
       "      <td>0</td>\n",
       "      <td>0</td>\n",
       "      <td>0</td>\n",
       "      <td>0</td>\n",
       "      <td>...</td>\n",
       "      <td>0</td>\n",
       "      <td>0</td>\n",
       "      <td>0</td>\n",
       "      <td>0</td>\n",
       "      <td>0</td>\n",
       "      <td>0</td>\n",
       "      <td>0</td>\n",
       "      <td>0</td>\n",
       "      <td>0</td>\n",
       "      <td>0</td>\n",
       "    </tr>\n",
       "    <tr>\n",
       "      <th>3082</th>\n",
       "      <td>AUTOGEN_molecule_ws_3083</td>\n",
       "      <td>0</td>\n",
       "      <td>0</td>\n",
       "      <td>0</td>\n",
       "      <td>0</td>\n",
       "      <td>0</td>\n",
       "      <td>0</td>\n",
       "      <td>0</td>\n",
       "      <td>0</td>\n",
       "      <td>0</td>\n",
       "      <td>...</td>\n",
       "      <td>0</td>\n",
       "      <td>0</td>\n",
       "      <td>0</td>\n",
       "      <td>0</td>\n",
       "      <td>0</td>\n",
       "      <td>0</td>\n",
       "      <td>0</td>\n",
       "      <td>0</td>\n",
       "      <td>0</td>\n",
       "      <td>0</td>\n",
       "    </tr>\n",
       "  </tbody>\n",
       "</table>\n",
       "<p>3083 rows × 4861 columns</p>\n",
       "</div>"
      ],
      "text/plain": [
       "                          Name  KRFP1  KRFP2  KRFP3  KRFP4  KRFP5  KRFP6  \\\n",
       "0        AUTOGEN_molecule_ws_1      0      0      0      0      0      0   \n",
       "1        AUTOGEN_molecule_ws_2      0      0      0      0      0      0   \n",
       "2        AUTOGEN_molecule_ws_3      0      0      0      0      0      0   \n",
       "3        AUTOGEN_molecule_ws_4      0      0      0      0      0      0   \n",
       "4        AUTOGEN_molecule_ws_5      1      0      0      0      0      0   \n",
       "...                        ...    ...    ...    ...    ...    ...    ...   \n",
       "3078  AUTOGEN_molecule_ws_3079      1      1      0      0      0      0   \n",
       "3079  AUTOGEN_molecule_ws_3080      0      0      0      0      0      0   \n",
       "3080  AUTOGEN_molecule_ws_3081      0      0      0      0      0      0   \n",
       "3081  AUTOGEN_molecule_ws_3082      0      0      0      0      0      0   \n",
       "3082  AUTOGEN_molecule_ws_3083      0      0      0      0      0      0   \n",
       "\n",
       "      KRFP7  KRFP8  KRFP9  ...  KRFP4851  KRFP4852  KRFP4853  KRFP4854  \\\n",
       "0         0      0      0  ...         0         0         0         0   \n",
       "1         0      0      0  ...         0         0         0         0   \n",
       "2         0      0      0  ...         0         0         0         0   \n",
       "3         0      0      0  ...         0         0         0         0   \n",
       "4         0      0      0  ...         0         0         0         0   \n",
       "...     ...    ...    ...  ...       ...       ...       ...       ...   \n",
       "3078      0      0      0  ...         0         0         0         0   \n",
       "3079      0      0      0  ...         0         0         0         0   \n",
       "3080      0      0      0  ...         0         0         0         0   \n",
       "3081      0      0      0  ...         0         0         0         0   \n",
       "3082      0      0      0  ...         0         0         0         0   \n",
       "\n",
       "      KRFP4855  KRFP4856  KRFP4857  KRFP4858  KRFP4859  KRFP4860  \n",
       "0            0         0         0         0         0         0  \n",
       "1            0         0         0         0         0         0  \n",
       "2            0         0         0         0         0         0  \n",
       "3            0         0         0         0         0         0  \n",
       "4            0         0         0         0         0         0  \n",
       "...        ...       ...       ...       ...       ...       ...  \n",
       "3078         0         0         0         0         0         0  \n",
       "3079         0         0         0         0         0         0  \n",
       "3080         0         0         0         0         0         0  \n",
       "3081         0         0         0         0         0         0  \n",
       "3082         0         0         0         0         0         0  \n",
       "\n",
       "[3083 rows x 4861 columns]"
      ]
     },
     "execution_count": 3,
     "metadata": {},
     "output_type": "execute_result"
    }
   ],
   "source": [
    "descriptors_KlekotaRoth"
   ]
  },
  {
   "cell_type": "code",
   "execution_count": 19,
   "metadata": {},
   "outputs": [],
   "source": [
    "x_tr = descriptors_KlekotaRoth.drop('Name', axis=1)"
   ]
  },
  {
   "cell_type": "code",
   "execution_count": 20,
   "metadata": {},
   "outputs": [],
   "source": [
    "x_tr = np.array(x_tr, dtype=np.float32)\n",
    "y_tr = np.array(y_tr, dtype=np.float32)"
   ]
  },
  {
   "cell_type": "code",
   "execution_count": 23,
   "metadata": {},
   "outputs": [],
   "source": [
    "savetxt('Models/Padels/x_tr_KlekotaRoth.csv', x_tr, delimiter=',')"
   ]
  },
  {
   "cell_type": "code",
   "execution_count": 21,
   "metadata": {},
   "outputs": [
    {
     "data": {
      "text/plain": [
       "(3083, 4860)"
      ]
     },
     "execution_count": 21,
     "metadata": {},
     "output_type": "execute_result"
    }
   ],
   "source": [
    "x_tr.shape"
   ]
  },
  {
   "cell_type": "markdown",
   "metadata": {},
   "source": [
    "# 7.Descriptor calculation for test set"
   ]
  },
  {
   "cell_type": "code",
   "execution_count": 179,
   "metadata": {},
   "outputs": [],
   "source": [
    "from padelpy import padeldescriptor\n",
    "\n",
    "fingerprint = 'KlekotaRoth'\n",
    "\n",
    "fingerprint_output_file = ''.join([fingerprint,'_ts.csv']) #KlekotaRoth.csv\n",
    "fingerprint_descriptortypes = fp[fingerprint]\n",
    "\n",
    "padeldescriptor(mol_dir='datasets/molecule_ts.smi', \n",
    "                d_file=fingerprint_output_file, #'KlekotaRoth.csv'\n",
    "                #descriptortypes='KlekotaRoth.xml', \n",
    "                descriptortypes= fingerprint_descriptortypes,\n",
    "                detectaromaticity=True,\n",
    "                standardizenitro=True,\n",
    "                standardizetautomers=True,\n",
    "                threads=2,\n",
    "                removesalt=True,\n",
    "                log=False,\n",
    "                fingerprints=True)"
   ]
  },
  {
   "cell_type": "code",
   "execution_count": 22,
   "metadata": {},
   "outputs": [],
   "source": [
    "descriptors_KlekotaRoth_ts = pd.read_csv('KlekotaRoth_ts.csv')"
   ]
  },
  {
   "cell_type": "code",
   "execution_count": 23,
   "metadata": {},
   "outputs": [],
   "source": [
    "x_ts = descriptors_KlekotaRoth_ts.drop('Name', axis=1)"
   ]
  },
  {
   "cell_type": "code",
   "execution_count": 24,
   "metadata": {},
   "outputs": [
    {
     "data": {
      "text/plain": [
       "(771, 4860)"
      ]
     },
     "execution_count": 24,
     "metadata": {},
     "output_type": "execute_result"
    }
   ],
   "source": [
    "x_ts.shape"
   ]
  },
  {
   "cell_type": "markdown",
   "metadata": {},
   "source": [
    " # GradientBoostingRegressor model building and validation"
   ]
  },
  {
   "cell_type": "code",
   "execution_count": 28,
   "metadata": {},
   "outputs": [],
   "source": [
    "seed = 42"
   ]
  },
  {
   "cell_type": "code",
   "execution_count": 29,
   "metadata": {},
   "outputs": [],
   "source": [
    "cv=KFold(n_splits=5, random_state=seed, shuffle=True)"
   ]
  },
  {
   "cell_type": "code",
   "execution_count": 30,
   "metadata": {},
   "outputs": [],
   "source": [
    "param_grid = {'learning_rate': [0.02,0.05],\n",
    "                  'subsample'    : [0.9, 0.5, 0.1],\n",
    "                  'n_estimators' : [100,500,1000],\n",
    "                  'max_depth'    : [4, 10]\n",
    "                 }"
   ]
  },
  {
   "cell_type": "code",
   "execution_count": 31,
   "metadata": {},
   "outputs": [],
   "source": [
    "m = GridSearchCV(GradientBoostingRegressor(), param_grid, n_jobs=-1, cv=cv, verbose=1)"
   ]
  },
  {
   "cell_type": "code",
   "execution_count": 32,
   "metadata": {},
   "outputs": [
    {
     "name": "stdout",
     "output_type": "stream",
     "text": [
      "Fitting 5 folds for each of 36 candidates, totalling 180 fits\n"
     ]
    },
    {
     "data": {
      "text/html": [
       "<style>#sk-container-id-1 {color: black;}#sk-container-id-1 pre{padding: 0;}#sk-container-id-1 div.sk-toggleable {background-color: white;}#sk-container-id-1 label.sk-toggleable__label {cursor: pointer;display: block;width: 100%;margin-bottom: 0;padding: 0.3em;box-sizing: border-box;text-align: center;}#sk-container-id-1 label.sk-toggleable__label-arrow:before {content: \"▸\";float: left;margin-right: 0.25em;color: #696969;}#sk-container-id-1 label.sk-toggleable__label-arrow:hover:before {color: black;}#sk-container-id-1 div.sk-estimator:hover label.sk-toggleable__label-arrow:before {color: black;}#sk-container-id-1 div.sk-toggleable__content {max-height: 0;max-width: 0;overflow: hidden;text-align: left;background-color: #f0f8ff;}#sk-container-id-1 div.sk-toggleable__content pre {margin: 0.2em;color: black;border-radius: 0.25em;background-color: #f0f8ff;}#sk-container-id-1 input.sk-toggleable__control:checked~div.sk-toggleable__content {max-height: 200px;max-width: 100%;overflow: auto;}#sk-container-id-1 input.sk-toggleable__control:checked~label.sk-toggleable__label-arrow:before {content: \"▾\";}#sk-container-id-1 div.sk-estimator input.sk-toggleable__control:checked~label.sk-toggleable__label {background-color: #d4ebff;}#sk-container-id-1 div.sk-label input.sk-toggleable__control:checked~label.sk-toggleable__label {background-color: #d4ebff;}#sk-container-id-1 input.sk-hidden--visually {border: 0;clip: rect(1px 1px 1px 1px);clip: rect(1px, 1px, 1px, 1px);height: 1px;margin: -1px;overflow: hidden;padding: 0;position: absolute;width: 1px;}#sk-container-id-1 div.sk-estimator {font-family: monospace;background-color: #f0f8ff;border: 1px dotted black;border-radius: 0.25em;box-sizing: border-box;margin-bottom: 0.5em;}#sk-container-id-1 div.sk-estimator:hover {background-color: #d4ebff;}#sk-container-id-1 div.sk-parallel-item::after {content: \"\";width: 100%;border-bottom: 1px solid gray;flex-grow: 1;}#sk-container-id-1 div.sk-label:hover label.sk-toggleable__label {background-color: #d4ebff;}#sk-container-id-1 div.sk-serial::before {content: \"\";position: absolute;border-left: 1px solid gray;box-sizing: border-box;top: 0;bottom: 0;left: 50%;z-index: 0;}#sk-container-id-1 div.sk-serial {display: flex;flex-direction: column;align-items: center;background-color: white;padding-right: 0.2em;padding-left: 0.2em;position: relative;}#sk-container-id-1 div.sk-item {position: relative;z-index: 1;}#sk-container-id-1 div.sk-parallel {display: flex;align-items: stretch;justify-content: center;background-color: white;position: relative;}#sk-container-id-1 div.sk-item::before, #sk-container-id-1 div.sk-parallel-item::before {content: \"\";position: absolute;border-left: 1px solid gray;box-sizing: border-box;top: 0;bottom: 0;left: 50%;z-index: -1;}#sk-container-id-1 div.sk-parallel-item {display: flex;flex-direction: column;z-index: 1;position: relative;background-color: white;}#sk-container-id-1 div.sk-parallel-item:first-child::after {align-self: flex-end;width: 50%;}#sk-container-id-1 div.sk-parallel-item:last-child::after {align-self: flex-start;width: 50%;}#sk-container-id-1 div.sk-parallel-item:only-child::after {width: 0;}#sk-container-id-1 div.sk-dashed-wrapped {border: 1px dashed gray;margin: 0 0.4em 0.5em 0.4em;box-sizing: border-box;padding-bottom: 0.4em;background-color: white;}#sk-container-id-1 div.sk-label label {font-family: monospace;font-weight: bold;display: inline-block;line-height: 1.2em;}#sk-container-id-1 div.sk-label-container {text-align: center;}#sk-container-id-1 div.sk-container {/* jupyter's `normalize.less` sets `[hidden] { display: none; }` but bootstrap.min.css set `[hidden] { display: none !important; }` so we also need the `!important` here to be able to override the default hidden behavior on the sphinx rendered scikit-learn.org. See: https://github.com/scikit-learn/scikit-learn/issues/21755 */display: inline-block !important;position: relative;}#sk-container-id-1 div.sk-text-repr-fallback {display: none;}</style><div id=\"sk-container-id-1\" class=\"sk-top-container\"><div class=\"sk-text-repr-fallback\"><pre>GridSearchCV(cv=KFold(n_splits=5, random_state=42, shuffle=True),\n",
       "             estimator=GradientBoostingRegressor(), n_jobs=-1,\n",
       "             param_grid={&#x27;learning_rate&#x27;: [0.02, 0.05], &#x27;max_depth&#x27;: [4, 10],\n",
       "                         &#x27;n_estimators&#x27;: [100, 500, 1000],\n",
       "                         &#x27;subsample&#x27;: [0.9, 0.5, 0.1]},\n",
       "             verbose=1)</pre><b>In a Jupyter environment, please rerun this cell to show the HTML representation or trust the notebook. <br />On GitHub, the HTML representation is unable to render, please try loading this page with nbviewer.org.</b></div><div class=\"sk-container\" hidden><div class=\"sk-item sk-dashed-wrapped\"><div class=\"sk-label-container\"><div class=\"sk-label sk-toggleable\"><input class=\"sk-toggleable__control sk-hidden--visually\" id=\"sk-estimator-id-1\" type=\"checkbox\" ><label for=\"sk-estimator-id-1\" class=\"sk-toggleable__label sk-toggleable__label-arrow\">GridSearchCV</label><div class=\"sk-toggleable__content\"><pre>GridSearchCV(cv=KFold(n_splits=5, random_state=42, shuffle=True),\n",
       "             estimator=GradientBoostingRegressor(), n_jobs=-1,\n",
       "             param_grid={&#x27;learning_rate&#x27;: [0.02, 0.05], &#x27;max_depth&#x27;: [4, 10],\n",
       "                         &#x27;n_estimators&#x27;: [100, 500, 1000],\n",
       "                         &#x27;subsample&#x27;: [0.9, 0.5, 0.1]},\n",
       "             verbose=1)</pre></div></div></div><div class=\"sk-parallel\"><div class=\"sk-parallel-item\"><div class=\"sk-item\"><div class=\"sk-label-container\"><div class=\"sk-label sk-toggleable\"><input class=\"sk-toggleable__control sk-hidden--visually\" id=\"sk-estimator-id-2\" type=\"checkbox\" ><label for=\"sk-estimator-id-2\" class=\"sk-toggleable__label sk-toggleable__label-arrow\">estimator: GradientBoostingRegressor</label><div class=\"sk-toggleable__content\"><pre>GradientBoostingRegressor()</pre></div></div></div><div class=\"sk-serial\"><div class=\"sk-item\"><div class=\"sk-estimator sk-toggleable\"><input class=\"sk-toggleable__control sk-hidden--visually\" id=\"sk-estimator-id-3\" type=\"checkbox\" ><label for=\"sk-estimator-id-3\" class=\"sk-toggleable__label sk-toggleable__label-arrow\">GradientBoostingRegressor</label><div class=\"sk-toggleable__content\"><pre>GradientBoostingRegressor()</pre></div></div></div></div></div></div></div></div></div></div>"
      ],
      "text/plain": [
       "GridSearchCV(cv=KFold(n_splits=5, random_state=42, shuffle=True),\n",
       "             estimator=GradientBoostingRegressor(), n_jobs=-1,\n",
       "             param_grid={'learning_rate': [0.02, 0.05], 'max_depth': [4, 10],\n",
       "                         'n_estimators': [100, 500, 1000],\n",
       "                         'subsample': [0.9, 0.5, 0.1]},\n",
       "             verbose=1)"
      ]
     },
     "execution_count": 32,
     "metadata": {},
     "output_type": "execute_result"
    }
   ],
   "source": [
    "m.fit(x_tr, y_tr)"
   ]
  },
  {
   "cell_type": "code",
   "execution_count": 33,
   "metadata": {},
   "outputs": [],
   "source": [
    "best_GBR = m.best_estimator_"
   ]
  },
  {
   "cell_type": "code",
   "execution_count": 34,
   "metadata": {},
   "outputs": [
    {
     "data": {
      "text/plain": [
       "{'learning_rate': 0.02,\n",
       " 'max_depth': 10,\n",
       " 'n_estimators': 1000,\n",
       " 'subsample': 0.5}"
      ]
     },
     "execution_count": 34,
     "metadata": {},
     "output_type": "execute_result"
    }
   ],
   "source": [
    "m.best_params_"
   ]
  },
  {
   "cell_type": "code",
   "execution_count": 35,
   "metadata": {},
   "outputs": [],
   "source": [
    "y_pred_ws_GBR = best_GBR.predict(x_tr)"
   ]
  },
  {
   "cell_type": "code",
   "execution_count": 36,
   "metadata": {},
   "outputs": [
    {
     "data": {
      "text/plain": [
       "0.94"
      ]
     },
     "execution_count": 36,
     "metadata": {},
     "output_type": "execute_result"
    }
   ],
   "source": [
    "R2_WS = round(r2_score(y_tr, y_pred_ws_GBR), 2)\n",
    "R2_WS"
   ]
  },
  {
   "cell_type": "code",
   "execution_count": 37,
   "metadata": {},
   "outputs": [
    {
     "data": {
      "text/plain": [
       "0.46"
      ]
     },
     "execution_count": 37,
     "metadata": {},
     "output_type": "execute_result"
    }
   ],
   "source": [
    "RMSE_WS=round(np.sqrt(mean_absolute_error(y_tr, y_pred_ws_GBR)), 2)\n",
    "RMSE_WS"
   ]
  },
  {
   "cell_type": "code",
   "execution_count": 38,
   "metadata": {},
   "outputs": [],
   "source": [
    "y_pred_CV_GBR = cross_val_predict(best_GBR, x_tr, y_tr, cv=cv)"
   ]
  },
  {
   "cell_type": "code",
   "execution_count": 39,
   "metadata": {},
   "outputs": [
    {
     "data": {
      "text/plain": [
       "array([4.94909972, 5.09662772, 4.96424541, ..., 7.4859912 , 6.86014927,\n",
       "       7.43366292])"
      ]
     },
     "execution_count": 39,
     "metadata": {},
     "output_type": "execute_result"
    }
   ],
   "source": [
    "y_pred_CV_GBR"
   ]
  },
  {
   "cell_type": "code",
   "execution_count": 40,
   "metadata": {},
   "outputs": [
    {
     "data": {
      "text/plain": [
       "0.66"
      ]
     },
     "execution_count": 40,
     "metadata": {},
     "output_type": "execute_result"
    }
   ],
   "source": [
    "Q2_CV = round(r2_score(y_tr, y_pred_CV_GBR), 2)\n",
    "Q2_CV"
   ]
  },
  {
   "cell_type": "code",
   "execution_count": 41,
   "metadata": {},
   "outputs": [
    {
     "data": {
      "text/plain": [
       "0.69"
      ]
     },
     "execution_count": 41,
     "metadata": {},
     "output_type": "execute_result"
    }
   ],
   "source": [
    "RMSE_CV=round(np.sqrt(mean_absolute_error(y_tr, y_pred_CV_GBR)), 2)\n",
    "RMSE_CV"
   ]
  },
  {
   "cell_type": "markdown",
   "metadata": {},
   "source": [
    "# 9. Prediction for test set's molecules"
   ]
  },
  {
   "cell_type": "code",
   "execution_count": 52,
   "metadata": {},
   "outputs": [
    {
     "data": {
      "text/plain": [
       "771"
      ]
     },
     "execution_count": 52,
     "metadata": {},
     "output_type": "execute_result"
    }
   ],
   "source": [
    "x_ts = np.array(x_ts, dtype=np.float32)\n",
    "y_ts = np.array(y_ts, dtype=np.float32)\n",
    "len(y_ts)"
   ]
  },
  {
   "cell_type": "code",
   "execution_count": 53,
   "metadata": {},
   "outputs": [],
   "source": [
    "y_pred_GBR = best_GBR.predict(x_ts)"
   ]
  },
  {
   "cell_type": "code",
   "execution_count": 54,
   "metadata": {},
   "outputs": [
    {
     "data": {
      "text/plain": [
       "0.69"
      ]
     },
     "execution_count": 54,
     "metadata": {},
     "output_type": "execute_result"
    }
   ],
   "source": [
    "Q2_TS = round(r2_score(y_ts, y_pred_GBR), 2)\n",
    "Q2_TS"
   ]
  },
  {
   "cell_type": "code",
   "execution_count": 55,
   "metadata": {},
   "outputs": [
    {
     "data": {
      "text/plain": [
       "0.67"
      ]
     },
     "execution_count": 55,
     "metadata": {},
     "output_type": "execute_result"
    }
   ],
   "source": [
    "RMSE_TS=round(np.sqrt(mean_absolute_error(y_ts, y_pred_GBR)), 2)\n",
    "RMSE_TS"
   ]
  },
  {
   "cell_type": "markdown",
   "metadata": {},
   "source": [
    "# save the model to disk"
   ]
  },
  {
   "cell_type": "code",
   "execution_count": 46,
   "metadata": {},
   "outputs": [],
   "source": [
    "pickle.dump(best_GBR, open('Models/Padels/HDAC6_GBR_KlekotaRoth.pkl', 'wb'))"
   ]
  },
  {
   "cell_type": "markdown",
   "metadata": {},
   "source": [
    "# load the model from disk"
   ]
  },
  {
   "cell_type": "code",
   "execution_count": 111,
   "metadata": {},
   "outputs": [],
   "source": [
    "best_GBR = pickle.load(open('Models/Padels/HDAC6_GBR_KlekotaRoth.pkl', 'rb'))"
   ]
  },
  {
   "cell_type": "markdown",
   "metadata": {},
   "source": [
    "# 10. Y-randomization GradientBoostingRegressor model"
   ]
  },
  {
   "cell_type": "code",
   "execution_count": 47,
   "metadata": {},
   "outputs": [
    {
     "name": "stderr",
     "output_type": "stream",
     "text": [
      "[Parallel(n_jobs=-1)]: Using backend LokyBackend with 16 concurrent workers.\n",
      "[Parallel(n_jobs=-1)]: Done  18 tasks      | elapsed: 241.1min\n",
      "[Parallel(n_jobs=-1)]: Done  50 out of  50 | elapsed: 429.5min finished\n"
     ]
    },
    {
     "name": "stdout",
     "output_type": "stream",
     "text": [
      "True score =  0.66 \n",
      "Y-randomization =  -0.21 \n",
      "p-value =  0.0196\n"
     ]
    }
   ],
   "source": [
    "permutations = 50\n",
    "score, permutation_scores, pvalue = permutation_test_score(best_GBR, x_tr, y_tr,\n",
    "                                                           cv=cv, scoring='r2',\n",
    "                                                           n_permutations=permutations,\n",
    "                                                           n_jobs=-1,\n",
    "                                                           verbose=1,\n",
    "                                                           random_state=seed)\n",
    "print('True score = ', score.round(2),\n",
    "      '\\nY-randomization = ', np.mean(permutation_scores).round(2),\n",
    "      '\\np-value = ', pvalue.round(4))"
   ]
  },
  {
   "cell_type": "markdown",
   "metadata": {},
   "source": [
    "# 11. Estimating applicability domain. Method - Euclidian distances, K=1"
   ]
  },
  {
   "cell_type": "code",
   "execution_count": 33,
   "metadata": {},
   "outputs": [],
   "source": [
    "neighbors_k= pairwise_distances(x_tr, n_jobs=-1)\n",
    "neighbors_k.sort(0)"
   ]
  },
  {
   "cell_type": "code",
   "execution_count": 34,
   "metadata": {},
   "outputs": [
    {
     "data": {
      "text/html": [
       "<div>\n",
       "<style scoped>\n",
       "    .dataframe tbody tr th:only-of-type {\n",
       "        vertical-align: middle;\n",
       "    }\n",
       "\n",
       "    .dataframe tbody tr th {\n",
       "        vertical-align: top;\n",
       "    }\n",
       "\n",
       "    .dataframe thead th {\n",
       "        text-align: right;\n",
       "    }\n",
       "</style>\n",
       "<table border=\"1\" class=\"dataframe\">\n",
       "  <thead>\n",
       "    <tr style=\"text-align: right;\">\n",
       "      <th></th>\n",
       "      <th>0</th>\n",
       "      <th>1</th>\n",
       "      <th>2</th>\n",
       "      <th>3</th>\n",
       "      <th>4</th>\n",
       "      <th>5</th>\n",
       "      <th>6</th>\n",
       "      <th>7</th>\n",
       "      <th>8</th>\n",
       "      <th>9</th>\n",
       "      <th>...</th>\n",
       "      <th>3073</th>\n",
       "      <th>3074</th>\n",
       "      <th>3075</th>\n",
       "      <th>3076</th>\n",
       "      <th>3077</th>\n",
       "      <th>3078</th>\n",
       "      <th>3079</th>\n",
       "      <th>3080</th>\n",
       "      <th>3081</th>\n",
       "      <th>3082</th>\n",
       "    </tr>\n",
       "  </thead>\n",
       "  <tbody>\n",
       "    <tr>\n",
       "      <th>0</th>\n",
       "      <td>0.000000</td>\n",
       "      <td>0.000000</td>\n",
       "      <td>0.000000</td>\n",
       "      <td>0.000000</td>\n",
       "      <td>0.000000</td>\n",
       "      <td>0.000000</td>\n",
       "      <td>0.000000</td>\n",
       "      <td>0.000000</td>\n",
       "      <td>0.000000</td>\n",
       "      <td>0.000000</td>\n",
       "      <td>...</td>\n",
       "      <td>0.000000</td>\n",
       "      <td>0.000000</td>\n",
       "      <td>0.000000</td>\n",
       "      <td>0.000000</td>\n",
       "      <td>0.000000</td>\n",
       "      <td>0.000000</td>\n",
       "      <td>0.000000</td>\n",
       "      <td>0.000000</td>\n",
       "      <td>0.000000</td>\n",
       "      <td>0.000000</td>\n",
       "    </tr>\n",
       "    <tr>\n",
       "      <th>1</th>\n",
       "      <td>3.872983</td>\n",
       "      <td>5.099020</td>\n",
       "      <td>3.872983</td>\n",
       "      <td>2.236068</td>\n",
       "      <td>5.385165</td>\n",
       "      <td>2.000000</td>\n",
       "      <td>3.605551</td>\n",
       "      <td>4.358899</td>\n",
       "      <td>3.162278</td>\n",
       "      <td>6.082763</td>\n",
       "      <td>...</td>\n",
       "      <td>2.828427</td>\n",
       "      <td>3.000000</td>\n",
       "      <td>2.645751</td>\n",
       "      <td>2.236068</td>\n",
       "      <td>2.236068</td>\n",
       "      <td>3.000000</td>\n",
       "      <td>2.645751</td>\n",
       "      <td>4.898980</td>\n",
       "      <td>1.732051</td>\n",
       "      <td>5.000000</td>\n",
       "    </tr>\n",
       "    <tr>\n",
       "      <th>2</th>\n",
       "      <td>6.000000</td>\n",
       "      <td>5.385165</td>\n",
       "      <td>4.582576</td>\n",
       "      <td>2.645751</td>\n",
       "      <td>6.082763</td>\n",
       "      <td>5.656854</td>\n",
       "      <td>5.291502</td>\n",
       "      <td>5.567764</td>\n",
       "      <td>6.782330</td>\n",
       "      <td>6.244998</td>\n",
       "      <td>...</td>\n",
       "      <td>3.872983</td>\n",
       "      <td>4.242640</td>\n",
       "      <td>3.316625</td>\n",
       "      <td>2.645751</td>\n",
       "      <td>2.236068</td>\n",
       "      <td>4.898980</td>\n",
       "      <td>2.828427</td>\n",
       "      <td>4.898980</td>\n",
       "      <td>3.000000</td>\n",
       "      <td>5.099020</td>\n",
       "    </tr>\n",
       "    <tr>\n",
       "      <th>3</th>\n",
       "      <td>6.164414</td>\n",
       "      <td>5.385165</td>\n",
       "      <td>4.690416</td>\n",
       "      <td>2.645751</td>\n",
       "      <td>6.403124</td>\n",
       "      <td>5.916080</td>\n",
       "      <td>5.385165</td>\n",
       "      <td>5.567764</td>\n",
       "      <td>7.141428</td>\n",
       "      <td>6.324555</td>\n",
       "      <td>...</td>\n",
       "      <td>4.795832</td>\n",
       "      <td>4.582576</td>\n",
       "      <td>3.872983</td>\n",
       "      <td>2.828427</td>\n",
       "      <td>2.236068</td>\n",
       "      <td>5.000000</td>\n",
       "      <td>3.162278</td>\n",
       "      <td>5.000000</td>\n",
       "      <td>3.000000</td>\n",
       "      <td>5.099020</td>\n",
       "    </tr>\n",
       "    <tr>\n",
       "      <th>4</th>\n",
       "      <td>6.324555</td>\n",
       "      <td>5.385165</td>\n",
       "      <td>4.795832</td>\n",
       "      <td>2.645751</td>\n",
       "      <td>6.403124</td>\n",
       "      <td>6.000000</td>\n",
       "      <td>5.477226</td>\n",
       "      <td>5.656854</td>\n",
       "      <td>7.211102</td>\n",
       "      <td>6.324555</td>\n",
       "      <td>...</td>\n",
       "      <td>4.795832</td>\n",
       "      <td>4.898980</td>\n",
       "      <td>4.472136</td>\n",
       "      <td>3.000000</td>\n",
       "      <td>2.645751</td>\n",
       "      <td>5.000000</td>\n",
       "      <td>3.316625</td>\n",
       "      <td>5.000000</td>\n",
       "      <td>3.162278</td>\n",
       "      <td>5.099020</td>\n",
       "    </tr>\n",
       "    <tr>\n",
       "      <th>...</th>\n",
       "      <td>...</td>\n",
       "      <td>...</td>\n",
       "      <td>...</td>\n",
       "      <td>...</td>\n",
       "      <td>...</td>\n",
       "      <td>...</td>\n",
       "      <td>...</td>\n",
       "      <td>...</td>\n",
       "      <td>...</td>\n",
       "      <td>...</td>\n",
       "      <td>...</td>\n",
       "      <td>...</td>\n",
       "      <td>...</td>\n",
       "      <td>...</td>\n",
       "      <td>...</td>\n",
       "      <td>...</td>\n",
       "      <td>...</td>\n",
       "      <td>...</td>\n",
       "      <td>...</td>\n",
       "      <td>...</td>\n",
       "      <td>...</td>\n",
       "    </tr>\n",
       "    <tr>\n",
       "      <th>3078</th>\n",
       "      <td>13.190906</td>\n",
       "      <td>12.124355</td>\n",
       "      <td>13.453624</td>\n",
       "      <td>13.341664</td>\n",
       "      <td>13.152946</td>\n",
       "      <td>12.727922</td>\n",
       "      <td>12.649111</td>\n",
       "      <td>13.304134</td>\n",
       "      <td>13.379088</td>\n",
       "      <td>12.845233</td>\n",
       "      <td>...</td>\n",
       "      <td>12.767145</td>\n",
       "      <td>12.961481</td>\n",
       "      <td>12.569805</td>\n",
       "      <td>13.000000</td>\n",
       "      <td>13.266500</td>\n",
       "      <td>13.076696</td>\n",
       "      <td>12.449900</td>\n",
       "      <td>13.674794</td>\n",
       "      <td>12.409674</td>\n",
       "      <td>13.266500</td>\n",
       "    </tr>\n",
       "    <tr>\n",
       "      <th>3079</th>\n",
       "      <td>13.190906</td>\n",
       "      <td>12.206555</td>\n",
       "      <td>13.453624</td>\n",
       "      <td>13.341664</td>\n",
       "      <td>13.152946</td>\n",
       "      <td>12.727922</td>\n",
       "      <td>12.649111</td>\n",
       "      <td>13.304134</td>\n",
       "      <td>13.453624</td>\n",
       "      <td>12.845233</td>\n",
       "      <td>...</td>\n",
       "      <td>12.806249</td>\n",
       "      <td>12.961481</td>\n",
       "      <td>12.609520</td>\n",
       "      <td>13.000000</td>\n",
       "      <td>13.266500</td>\n",
       "      <td>13.076696</td>\n",
       "      <td>12.489996</td>\n",
       "      <td>13.674794</td>\n",
       "      <td>12.449900</td>\n",
       "      <td>13.266500</td>\n",
       "    </tr>\n",
       "    <tr>\n",
       "      <th>3080</th>\n",
       "      <td>13.190906</td>\n",
       "      <td>12.206555</td>\n",
       "      <td>13.453624</td>\n",
       "      <td>13.341664</td>\n",
       "      <td>13.228757</td>\n",
       "      <td>12.727922</td>\n",
       "      <td>12.649111</td>\n",
       "      <td>13.304134</td>\n",
       "      <td>13.490738</td>\n",
       "      <td>12.845233</td>\n",
       "      <td>...</td>\n",
       "      <td>12.845233</td>\n",
       "      <td>12.961481</td>\n",
       "      <td>12.961481</td>\n",
       "      <td>13.000000</td>\n",
       "      <td>13.341664</td>\n",
       "      <td>13.076696</td>\n",
       "      <td>12.649111</td>\n",
       "      <td>13.674794</td>\n",
       "      <td>12.449900</td>\n",
       "      <td>13.266500</td>\n",
       "    </tr>\n",
       "    <tr>\n",
       "      <th>3081</th>\n",
       "      <td>13.190906</td>\n",
       "      <td>12.409674</td>\n",
       "      <td>13.490738</td>\n",
       "      <td>13.341664</td>\n",
       "      <td>13.453624</td>\n",
       "      <td>12.767145</td>\n",
       "      <td>12.727922</td>\n",
       "      <td>13.416408</td>\n",
       "      <td>13.564660</td>\n",
       "      <td>12.845233</td>\n",
       "      <td>...</td>\n",
       "      <td>12.884099</td>\n",
       "      <td>12.961481</td>\n",
       "      <td>13.038404</td>\n",
       "      <td>13.114877</td>\n",
       "      <td>13.379088</td>\n",
       "      <td>13.076696</td>\n",
       "      <td>12.727922</td>\n",
       "      <td>13.711309</td>\n",
       "      <td>12.489996</td>\n",
       "      <td>13.304134</td>\n",
       "    </tr>\n",
       "    <tr>\n",
       "      <th>3082</th>\n",
       "      <td>13.564660</td>\n",
       "      <td>12.489996</td>\n",
       "      <td>13.490738</td>\n",
       "      <td>13.341664</td>\n",
       "      <td>13.527749</td>\n",
       "      <td>12.922848</td>\n",
       "      <td>12.727922</td>\n",
       "      <td>13.416408</td>\n",
       "      <td>13.564660</td>\n",
       "      <td>12.845233</td>\n",
       "      <td>...</td>\n",
       "      <td>12.922848</td>\n",
       "      <td>12.961481</td>\n",
       "      <td>13.341664</td>\n",
       "      <td>13.114877</td>\n",
       "      <td>13.379088</td>\n",
       "      <td>13.076696</td>\n",
       "      <td>12.806249</td>\n",
       "      <td>13.784049</td>\n",
       "      <td>12.806249</td>\n",
       "      <td>13.379088</td>\n",
       "    </tr>\n",
       "  </tbody>\n",
       "</table>\n",
       "<p>3083 rows × 3083 columns</p>\n",
       "</div>"
      ],
      "text/plain": [
       "           0          1          2          3          4          5     \\\n",
       "0      0.000000   0.000000   0.000000   0.000000   0.000000   0.000000   \n",
       "1      3.872983   5.099020   3.872983   2.236068   5.385165   2.000000   \n",
       "2      6.000000   5.385165   4.582576   2.645751   6.082763   5.656854   \n",
       "3      6.164414   5.385165   4.690416   2.645751   6.403124   5.916080   \n",
       "4      6.324555   5.385165   4.795832   2.645751   6.403124   6.000000   \n",
       "...         ...        ...        ...        ...        ...        ...   \n",
       "3078  13.190906  12.124355  13.453624  13.341664  13.152946  12.727922   \n",
       "3079  13.190906  12.206555  13.453624  13.341664  13.152946  12.727922   \n",
       "3080  13.190906  12.206555  13.453624  13.341664  13.228757  12.727922   \n",
       "3081  13.190906  12.409674  13.490738  13.341664  13.453624  12.767145   \n",
       "3082  13.564660  12.489996  13.490738  13.341664  13.527749  12.922848   \n",
       "\n",
       "           6          7          8          9     ...       3073       3074  \\\n",
       "0      0.000000   0.000000   0.000000   0.000000  ...   0.000000   0.000000   \n",
       "1      3.605551   4.358899   3.162278   6.082763  ...   2.828427   3.000000   \n",
       "2      5.291502   5.567764   6.782330   6.244998  ...   3.872983   4.242640   \n",
       "3      5.385165   5.567764   7.141428   6.324555  ...   4.795832   4.582576   \n",
       "4      5.477226   5.656854   7.211102   6.324555  ...   4.795832   4.898980   \n",
       "...         ...        ...        ...        ...  ...        ...        ...   \n",
       "3078  12.649111  13.304134  13.379088  12.845233  ...  12.767145  12.961481   \n",
       "3079  12.649111  13.304134  13.453624  12.845233  ...  12.806249  12.961481   \n",
       "3080  12.649111  13.304134  13.490738  12.845233  ...  12.845233  12.961481   \n",
       "3081  12.727922  13.416408  13.564660  12.845233  ...  12.884099  12.961481   \n",
       "3082  12.727922  13.416408  13.564660  12.845233  ...  12.922848  12.961481   \n",
       "\n",
       "           3075       3076       3077       3078       3079       3080  \\\n",
       "0      0.000000   0.000000   0.000000   0.000000   0.000000   0.000000   \n",
       "1      2.645751   2.236068   2.236068   3.000000   2.645751   4.898980   \n",
       "2      3.316625   2.645751   2.236068   4.898980   2.828427   4.898980   \n",
       "3      3.872983   2.828427   2.236068   5.000000   3.162278   5.000000   \n",
       "4      4.472136   3.000000   2.645751   5.000000   3.316625   5.000000   \n",
       "...         ...        ...        ...        ...        ...        ...   \n",
       "3078  12.569805  13.000000  13.266500  13.076696  12.449900  13.674794   \n",
       "3079  12.609520  13.000000  13.266500  13.076696  12.489996  13.674794   \n",
       "3080  12.961481  13.000000  13.341664  13.076696  12.649111  13.674794   \n",
       "3081  13.038404  13.114877  13.379088  13.076696  12.727922  13.711309   \n",
       "3082  13.341664  13.114877  13.379088  13.076696  12.806249  13.784049   \n",
       "\n",
       "           3081       3082  \n",
       "0      0.000000   0.000000  \n",
       "1      1.732051   5.000000  \n",
       "2      3.000000   5.099020  \n",
       "3      3.000000   5.099020  \n",
       "4      3.162278   5.099020  \n",
       "...         ...        ...  \n",
       "3078  12.409674  13.266500  \n",
       "3079  12.449900  13.266500  \n",
       "3080  12.449900  13.266500  \n",
       "3081  12.489996  13.304134  \n",
       "3082  12.806249  13.379088  \n",
       "\n",
       "[3083 rows x 3083 columns]"
      ]
     },
     "execution_count": 34,
     "metadata": {},
     "output_type": "execute_result"
    }
   ],
   "source": [
    "df_tr=pd.DataFrame(neighbors_k)\n",
    "df_tr"
   ]
  },
  {
   "cell_type": "code",
   "execution_count": 35,
   "metadata": {},
   "outputs": [],
   "source": [
    "similarity= neighbors_k"
   ]
  },
  {
   "cell_type": "code",
   "execution_count": 36,
   "metadata": {},
   "outputs": [],
   "source": [
    "Dmean=np.mean(similarity[1,:])"
   ]
  },
  {
   "cell_type": "code",
   "execution_count": 37,
   "metadata": {},
   "outputs": [
    {
     "data": {
      "text/plain": [
       "2.73"
      ]
     },
     "execution_count": 37,
     "metadata": {},
     "output_type": "execute_result"
    }
   ],
   "source": [
    "round(Dmean, 2)"
   ]
  },
  {
   "cell_type": "code",
   "execution_count": 38,
   "metadata": {},
   "outputs": [],
   "source": [
    "std=np.std(similarity[1,:])"
   ]
  },
  {
   "cell_type": "code",
   "execution_count": 39,
   "metadata": {},
   "outputs": [
    {
     "data": {
      "text/plain": [
       "1.24"
      ]
     },
     "execution_count": 39,
     "metadata": {},
     "output_type": "execute_result"
    }
   ],
   "source": [
    "round(std, 2)"
   ]
  },
  {
   "cell_type": "code",
   "execution_count": 40,
   "metadata": {},
   "outputs": [
    {
     "name": "stdout",
     "output_type": "stream",
     "text": [
      "3.34\n"
     ]
    }
   ],
   "source": [
    "model_AD_limit=Dmean+std*0.5\n",
    "print(np.round(model_AD_limit, 2))"
   ]
  },
  {
   "cell_type": "code",
   "execution_count": 41,
   "metadata": {},
   "outputs": [],
   "source": [
    "neighbors_k_ts= pairwise_distances(x_tr,Y=x_ts, n_jobs=-1)\n",
    "neighbors_k_ts.sort(0)"
   ]
  },
  {
   "cell_type": "code",
   "execution_count": 42,
   "metadata": {},
   "outputs": [
    {
     "data": {
      "text/html": [
       "<div>\n",
       "<style scoped>\n",
       "    .dataframe tbody tr th:only-of-type {\n",
       "        vertical-align: middle;\n",
       "    }\n",
       "\n",
       "    .dataframe tbody tr th {\n",
       "        vertical-align: top;\n",
       "    }\n",
       "\n",
       "    .dataframe thead th {\n",
       "        text-align: right;\n",
       "    }\n",
       "</style>\n",
       "<table border=\"1\" class=\"dataframe\">\n",
       "  <thead>\n",
       "    <tr style=\"text-align: right;\">\n",
       "      <th></th>\n",
       "      <th>0</th>\n",
       "      <th>1</th>\n",
       "      <th>2</th>\n",
       "      <th>3</th>\n",
       "      <th>4</th>\n",
       "      <th>5</th>\n",
       "      <th>6</th>\n",
       "      <th>7</th>\n",
       "      <th>8</th>\n",
       "      <th>9</th>\n",
       "      <th>...</th>\n",
       "      <th>761</th>\n",
       "      <th>762</th>\n",
       "      <th>763</th>\n",
       "      <th>764</th>\n",
       "      <th>765</th>\n",
       "      <th>766</th>\n",
       "      <th>767</th>\n",
       "      <th>768</th>\n",
       "      <th>769</th>\n",
       "      <th>770</th>\n",
       "    </tr>\n",
       "  </thead>\n",
       "  <tbody>\n",
       "    <tr>\n",
       "      <th>0</th>\n",
       "      <td>2.449490</td>\n",
       "      <td>3.000000</td>\n",
       "      <td>3.605551</td>\n",
       "      <td>6.557439</td>\n",
       "      <td>5.196152</td>\n",
       "      <td>1.000000</td>\n",
       "      <td>2.645751</td>\n",
       "      <td>2.645751</td>\n",
       "      <td>2.645751</td>\n",
       "      <td>3.464102</td>\n",
       "      <td>...</td>\n",
       "      <td>2.449490</td>\n",
       "      <td>1.732051</td>\n",
       "      <td>3.464102</td>\n",
       "      <td>2.000000</td>\n",
       "      <td>1.732051</td>\n",
       "      <td>3.741657</td>\n",
       "      <td>2.828427</td>\n",
       "      <td>2.828427</td>\n",
       "      <td>3.162278</td>\n",
       "      <td>2.236068</td>\n",
       "    </tr>\n",
       "    <tr>\n",
       "      <th>1</th>\n",
       "      <td>2.828427</td>\n",
       "      <td>3.162278</td>\n",
       "      <td>4.000000</td>\n",
       "      <td>7.071068</td>\n",
       "      <td>5.291503</td>\n",
       "      <td>3.000000</td>\n",
       "      <td>3.000000</td>\n",
       "      <td>2.645751</td>\n",
       "      <td>2.645751</td>\n",
       "      <td>3.872983</td>\n",
       "      <td>...</td>\n",
       "      <td>2.645751</td>\n",
       "      <td>2.645751</td>\n",
       "      <td>4.000000</td>\n",
       "      <td>2.000000</td>\n",
       "      <td>1.732051</td>\n",
       "      <td>4.000000</td>\n",
       "      <td>4.123106</td>\n",
       "      <td>3.316625</td>\n",
       "      <td>3.605551</td>\n",
       "      <td>2.449490</td>\n",
       "    </tr>\n",
       "    <tr>\n",
       "      <th>2</th>\n",
       "      <td>3.000000</td>\n",
       "      <td>4.472136</td>\n",
       "      <td>4.582576</td>\n",
       "      <td>7.141428</td>\n",
       "      <td>5.477226</td>\n",
       "      <td>6.557439</td>\n",
       "      <td>3.000000</td>\n",
       "      <td>3.464102</td>\n",
       "      <td>3.316625</td>\n",
       "      <td>4.000000</td>\n",
       "      <td>...</td>\n",
       "      <td>3.000000</td>\n",
       "      <td>2.828427</td>\n",
       "      <td>4.242641</td>\n",
       "      <td>2.645751</td>\n",
       "      <td>1.732051</td>\n",
       "      <td>4.123106</td>\n",
       "      <td>4.242641</td>\n",
       "      <td>3.605551</td>\n",
       "      <td>3.605551</td>\n",
       "      <td>2.449490</td>\n",
       "    </tr>\n",
       "    <tr>\n",
       "      <th>3</th>\n",
       "      <td>3.605551</td>\n",
       "      <td>6.082763</td>\n",
       "      <td>4.898979</td>\n",
       "      <td>7.348469</td>\n",
       "      <td>5.477226</td>\n",
       "      <td>6.855655</td>\n",
       "      <td>3.162278</td>\n",
       "      <td>3.605551</td>\n",
       "      <td>4.472136</td>\n",
       "      <td>4.242641</td>\n",
       "      <td>...</td>\n",
       "      <td>3.000000</td>\n",
       "      <td>3.000000</td>\n",
       "      <td>4.358899</td>\n",
       "      <td>2.828427</td>\n",
       "      <td>2.000000</td>\n",
       "      <td>4.472136</td>\n",
       "      <td>4.242641</td>\n",
       "      <td>3.872983</td>\n",
       "      <td>3.741657</td>\n",
       "      <td>2.645751</td>\n",
       "    </tr>\n",
       "    <tr>\n",
       "      <th>4</th>\n",
       "      <td>4.242641</td>\n",
       "      <td>6.164414</td>\n",
       "      <td>5.000000</td>\n",
       "      <td>7.416198</td>\n",
       "      <td>5.567764</td>\n",
       "      <td>6.928203</td>\n",
       "      <td>3.316625</td>\n",
       "      <td>3.605551</td>\n",
       "      <td>4.690416</td>\n",
       "      <td>5.830952</td>\n",
       "      <td>...</td>\n",
       "      <td>3.162278</td>\n",
       "      <td>3.000000</td>\n",
       "      <td>4.472136</td>\n",
       "      <td>3.000000</td>\n",
       "      <td>2.236068</td>\n",
       "      <td>4.472136</td>\n",
       "      <td>4.242641</td>\n",
       "      <td>3.872983</td>\n",
       "      <td>4.123106</td>\n",
       "      <td>2.828427</td>\n",
       "    </tr>\n",
       "    <tr>\n",
       "      <th>...</th>\n",
       "      <td>...</td>\n",
       "      <td>...</td>\n",
       "      <td>...</td>\n",
       "      <td>...</td>\n",
       "      <td>...</td>\n",
       "      <td>...</td>\n",
       "      <td>...</td>\n",
       "      <td>...</td>\n",
       "      <td>...</td>\n",
       "      <td>...</td>\n",
       "      <td>...</td>\n",
       "      <td>...</td>\n",
       "      <td>...</td>\n",
       "      <td>...</td>\n",
       "      <td>...</td>\n",
       "      <td>...</td>\n",
       "      <td>...</td>\n",
       "      <td>...</td>\n",
       "      <td>...</td>\n",
       "      <td>...</td>\n",
       "      <td>...</td>\n",
       "    </tr>\n",
       "    <tr>\n",
       "      <th>3078</th>\n",
       "      <td>12.845233</td>\n",
       "      <td>12.000000</td>\n",
       "      <td>12.884099</td>\n",
       "      <td>12.529964</td>\n",
       "      <td>12.727922</td>\n",
       "      <td>13.190906</td>\n",
       "      <td>12.922848</td>\n",
       "      <td>12.124356</td>\n",
       "      <td>13.379088</td>\n",
       "      <td>13.000000</td>\n",
       "      <td>...</td>\n",
       "      <td>13.453624</td>\n",
       "      <td>11.916375</td>\n",
       "      <td>13.527749</td>\n",
       "      <td>12.727922</td>\n",
       "      <td>13.190906</td>\n",
       "      <td>11.832160</td>\n",
       "      <td>13.228757</td>\n",
       "      <td>13.266499</td>\n",
       "      <td>12.649111</td>\n",
       "      <td>12.409674</td>\n",
       "    </tr>\n",
       "    <tr>\n",
       "      <th>3079</th>\n",
       "      <td>12.884099</td>\n",
       "      <td>12.124356</td>\n",
       "      <td>12.922848</td>\n",
       "      <td>12.529964</td>\n",
       "      <td>12.767145</td>\n",
       "      <td>13.266499</td>\n",
       "      <td>13.000000</td>\n",
       "      <td>12.124356</td>\n",
       "      <td>13.379088</td>\n",
       "      <td>13.000000</td>\n",
       "      <td>...</td>\n",
       "      <td>13.490738</td>\n",
       "      <td>12.083046</td>\n",
       "      <td>13.564660</td>\n",
       "      <td>12.845233</td>\n",
       "      <td>13.190906</td>\n",
       "      <td>11.874342</td>\n",
       "      <td>13.228757</td>\n",
       "      <td>13.304135</td>\n",
       "      <td>12.688578</td>\n",
       "      <td>12.449900</td>\n",
       "    </tr>\n",
       "    <tr>\n",
       "      <th>3080</th>\n",
       "      <td>12.884099</td>\n",
       "      <td>12.206556</td>\n",
       "      <td>12.922848</td>\n",
       "      <td>12.609520</td>\n",
       "      <td>12.767145</td>\n",
       "      <td>13.379088</td>\n",
       "      <td>13.038405</td>\n",
       "      <td>12.165525</td>\n",
       "      <td>13.379088</td>\n",
       "      <td>13.000000</td>\n",
       "      <td>...</td>\n",
       "      <td>13.490738</td>\n",
       "      <td>12.083046</td>\n",
       "      <td>13.638182</td>\n",
       "      <td>12.845233</td>\n",
       "      <td>13.266499</td>\n",
       "      <td>11.958261</td>\n",
       "      <td>13.228757</td>\n",
       "      <td>13.304135</td>\n",
       "      <td>12.727922</td>\n",
       "      <td>12.489996</td>\n",
       "    </tr>\n",
       "    <tr>\n",
       "      <th>3081</th>\n",
       "      <td>12.884099</td>\n",
       "      <td>12.369317</td>\n",
       "      <td>12.961481</td>\n",
       "      <td>12.609520</td>\n",
       "      <td>12.767145</td>\n",
       "      <td>13.379088</td>\n",
       "      <td>13.038405</td>\n",
       "      <td>12.328828</td>\n",
       "      <td>13.416408</td>\n",
       "      <td>13.000000</td>\n",
       "      <td>...</td>\n",
       "      <td>13.490738</td>\n",
       "      <td>12.124356</td>\n",
       "      <td>13.674794</td>\n",
       "      <td>13.114877</td>\n",
       "      <td>13.304135</td>\n",
       "      <td>11.958261</td>\n",
       "      <td>13.228757</td>\n",
       "      <td>13.304135</td>\n",
       "      <td>12.727922</td>\n",
       "      <td>12.569805</td>\n",
       "    </tr>\n",
       "    <tr>\n",
       "      <th>3082</th>\n",
       "      <td>12.884099</td>\n",
       "      <td>12.369317</td>\n",
       "      <td>12.961481</td>\n",
       "      <td>12.767145</td>\n",
       "      <td>12.767145</td>\n",
       "      <td>13.453624</td>\n",
       "      <td>13.076697</td>\n",
       "      <td>12.489996</td>\n",
       "      <td>13.490738</td>\n",
       "      <td>13.304135</td>\n",
       "      <td>...</td>\n",
       "      <td>13.490738</td>\n",
       "      <td>12.124356</td>\n",
       "      <td>13.674794</td>\n",
       "      <td>13.190906</td>\n",
       "      <td>13.304135</td>\n",
       "      <td>12.041595</td>\n",
       "      <td>13.228757</td>\n",
       "      <td>13.304135</td>\n",
       "      <td>12.961481</td>\n",
       "      <td>12.806248</td>\n",
       "    </tr>\n",
       "  </tbody>\n",
       "</table>\n",
       "<p>3083 rows × 771 columns</p>\n",
       "</div>"
      ],
      "text/plain": [
       "            0          1          2          3          4          5    \\\n",
       "0      2.449490   3.000000   3.605551   6.557439   5.196152   1.000000   \n",
       "1      2.828427   3.162278   4.000000   7.071068   5.291503   3.000000   \n",
       "2      3.000000   4.472136   4.582576   7.141428   5.477226   6.557439   \n",
       "3      3.605551   6.082763   4.898979   7.348469   5.477226   6.855655   \n",
       "4      4.242641   6.164414   5.000000   7.416198   5.567764   6.928203   \n",
       "...         ...        ...        ...        ...        ...        ...   \n",
       "3078  12.845233  12.000000  12.884099  12.529964  12.727922  13.190906   \n",
       "3079  12.884099  12.124356  12.922848  12.529964  12.767145  13.266499   \n",
       "3080  12.884099  12.206556  12.922848  12.609520  12.767145  13.379088   \n",
       "3081  12.884099  12.369317  12.961481  12.609520  12.767145  13.379088   \n",
       "3082  12.884099  12.369317  12.961481  12.767145  12.767145  13.453624   \n",
       "\n",
       "            6          7          8          9    ...        761        762  \\\n",
       "0      2.645751   2.645751   2.645751   3.464102  ...   2.449490   1.732051   \n",
       "1      3.000000   2.645751   2.645751   3.872983  ...   2.645751   2.645751   \n",
       "2      3.000000   3.464102   3.316625   4.000000  ...   3.000000   2.828427   \n",
       "3      3.162278   3.605551   4.472136   4.242641  ...   3.000000   3.000000   \n",
       "4      3.316625   3.605551   4.690416   5.830952  ...   3.162278   3.000000   \n",
       "...         ...        ...        ...        ...  ...        ...        ...   \n",
       "3078  12.922848  12.124356  13.379088  13.000000  ...  13.453624  11.916375   \n",
       "3079  13.000000  12.124356  13.379088  13.000000  ...  13.490738  12.083046   \n",
       "3080  13.038405  12.165525  13.379088  13.000000  ...  13.490738  12.083046   \n",
       "3081  13.038405  12.328828  13.416408  13.000000  ...  13.490738  12.124356   \n",
       "3082  13.076697  12.489996  13.490738  13.304135  ...  13.490738  12.124356   \n",
       "\n",
       "            763        764        765        766        767        768  \\\n",
       "0      3.464102   2.000000   1.732051   3.741657   2.828427   2.828427   \n",
       "1      4.000000   2.000000   1.732051   4.000000   4.123106   3.316625   \n",
       "2      4.242641   2.645751   1.732051   4.123106   4.242641   3.605551   \n",
       "3      4.358899   2.828427   2.000000   4.472136   4.242641   3.872983   \n",
       "4      4.472136   3.000000   2.236068   4.472136   4.242641   3.872983   \n",
       "...         ...        ...        ...        ...        ...        ...   \n",
       "3078  13.527749  12.727922  13.190906  11.832160  13.228757  13.266499   \n",
       "3079  13.564660  12.845233  13.190906  11.874342  13.228757  13.304135   \n",
       "3080  13.638182  12.845233  13.266499  11.958261  13.228757  13.304135   \n",
       "3081  13.674794  13.114877  13.304135  11.958261  13.228757  13.304135   \n",
       "3082  13.674794  13.190906  13.304135  12.041595  13.228757  13.304135   \n",
       "\n",
       "            769        770  \n",
       "0      3.162278   2.236068  \n",
       "1      3.605551   2.449490  \n",
       "2      3.605551   2.449490  \n",
       "3      3.741657   2.645751  \n",
       "4      4.123106   2.828427  \n",
       "...         ...        ...  \n",
       "3078  12.649111  12.409674  \n",
       "3079  12.688578  12.449900  \n",
       "3080  12.727922  12.489996  \n",
       "3081  12.727922  12.569805  \n",
       "3082  12.961481  12.806248  \n",
       "\n",
       "[3083 rows x 771 columns]"
      ]
     },
     "execution_count": 42,
     "metadata": {},
     "output_type": "execute_result"
    }
   ],
   "source": [
    "x_ts_AD=pd.DataFrame(neighbors_k_ts)\n",
    "x_ts_AD"
   ]
  },
  {
   "cell_type": "code",
   "execution_count": 43,
   "metadata": {},
   "outputs": [
    {
     "name": "stdout",
     "output_type": "stream",
     "text": [
      "[2.449 3.    3.606 6.557 5.196 1.    2.646 2.646 2.646 3.464 3.317 2.449\n",
      " 5.568 2.    2.646 2.646 2.449 5.099 3.606 3.317 4.123 2.828 5.477 2.\n",
      " 6.245 4.    2.236 5.568 3.162 3.873 4.123 7.071 3.873 3.    2.236 1.732\n",
      " 4.359 2.646 2.    4.583 5.    3.    3.464 4.69  3.606 2.828 3.464 2.449\n",
      " 2.    1.    3.606 2.646 4.899 4.    3.742 1.732 2.646 2.646 5.657 3.\n",
      " 2.828 2.646 3.606 2.646 3.742 4.123 3.162 2.646 1.732 2.646 2.449 1.\n",
      " 2.449 4.899 2.    1.414 3.    2.646 6.164 3.    1.    3.317 5.    1.732\n",
      " 4.69  2.646 1.414 1.414 4.583 1.414 3.    2.449 3.162 2.    2.828 6.403\n",
      " 5.196 3.464 2.236 3.873 2.449 5.831 2.    2.646 4.243 4.123 2.    2.828\n",
      " 2.646 3.162 2.449 2.646 3.162 3.    3.873 3.    3.464 2.    2.236 2.449\n",
      " 3.    1.    3.162 3.162 3.317 2.646 3.    2.828 3.162 3.742 2.646 1.414\n",
      " 2.449 1.732 6.403 2.449 2.449 3.606 2.    1.414 3.162 2.    3.317 0.\n",
      " 4.243 2.236 1.732 1.732 3.742 1.    2.646 0.    2.449 4.359 4.359 2.236\n",
      " 1.732 1.732 4.    1.732 3.464 2.449 3.162 0.    2.    1.732 3.464 3.873\n",
      " 2.828 1.732 2.449 3.162 2.646 3.317 0.    3.317 2.646 6.403 3.606 4.899\n",
      " 2.449 1.    3.606 2.828 3.317 2.    6.245 3.    3.873 2.449 3.    2.449\n",
      " 1.    3.162 5.196 1.    2.    2.236 2.646 2.    2.    4.472 3.162 0.\n",
      " 2.236 2.828 3.162 3.    2.646 1.732 3.    1.414 2.646 3.606 3.162 3.464\n",
      " 3.317 0.    3.464 3.162 2.449 4.    1.414 1.    1.732 3.162 1.414 3.606\n",
      " 2.449 3.162 2.828 3.742 1.732 2.828 2.646 2.646 3.317 1.414 2.236 1.732\n",
      " 2.236 2.236 3.    3.317 3.    0.    2.828 2.646 0.    0.    5.292 2.\n",
      " 3.162 3.162 2.828 1.    3.    3.    4.472 3.162 3.464 3.    1.414 2.\n",
      " 0.    2.828 0.    4.359 1.732 3.464 2.    3.317 4.583 1.    3.162 2.646\n",
      " 4.899 2.646 0.    1.732 0.    2.449 3.742 3.873 2.    3.317 2.828 3.606\n",
      " 2.236 2.646 1.    2.    4.    2.    2.    2.449 3.873 2.828 2.828 3.317\n",
      " 1.732 4.123 1.    4.123 4.472 1.732 2.    4.    2.828 2.    3.162 3.317\n",
      " 3.317 1.414 1.732 1.732 1.    1.732 2.236 4.359 1.732 1.    6.708 3.742\n",
      " 1.    2.    4.    4.    2.828 2.646 2.    4.243 2.    4.583 2.449 1.414\n",
      " 2.449 2.449 5.477 4.123 2.    3.162 1.732 2.828 1.    1.732 1.732 4.243\n",
      " 2.    2.449 3.162 4.583 7.746 3.162 5.657 3.464 2.828 1.414 2.646 1.\n",
      " 1.732 6.083 6.403 4.    3.606 3.873 0.    3.162 1.732 1.414 3.162 1.732\n",
      " 2.    4.243 2.828 3.162 2.449 3.742 2.    3.162 2.    4.472 3.873 0.\n",
      " 0.    2.646 1.732 1.732 1.732 4.243 1.414 1.414 2.449 3.    0.    2.828\n",
      " 1.732 2.449 4.123 1.732 2.    1.414 3.317 2.    3.742 3.742 0.    2.449\n",
      " 4.583 3.    1.732 3.873 2.236 2.449 2.    2.828 3.    3.606 2.449 1.414\n",
      " 4.123 9.22  2.236 1.    3.742 3.162 3.162 5.    2.646 1.732 1.732 2.\n",
      " 1.    2.646 3.464 2.646 1.414 3.606 2.449 3.    4.123 2.449 2.    3.606\n",
      " 4.583 2.236 3.162 4.796 1.414 2.449 2.    1.414 4.899 3.742 3.162 3.606\n",
      " 3.873 0.    4.    1.414 1.    2.    1.732 1.732 1.    2.    1.732 4.472\n",
      " 2.646 4.359 5.099 1.732 1.    2.646 1.414 3.873 1.732 2.449 1.732 4.\n",
      " 4.583 3.    1.414 1.    3.    2.646 1.732 3.162 2.236 2.646 2.449 2.\n",
      " 1.732 2.    1.414 1.732 2.646 2.449 2.646 2.    2.646 5.292 4.796 1.732\n",
      " 1.732 2.449 2.828 3.464 2.828 2.236 1.    2.236 1.414 2.449 1.    2.\n",
      " 4.    3.162 3.162 1.732 3.464 1.414 3.317 3.742 3.    2.449 1.732 5.568\n",
      " 2.236 1.414 2.449 4.123 2.646 2.    2.236 2.236 1.732 2.236 5.    3.464\n",
      " 3.317 3.606 3.317 1.732 2.449 2.828 3.    4.472 3.162 3.162 1.732 2.828\n",
      " 2.    2.236 1.414 2.236 0.    1.    3.606 4.    1.732 1.732 0.    5.831\n",
      " 3.    1.732 1.732 1.414 1.    2.    2.646 1.732 2.236 3.742 2.    1.414\n",
      " 2.449 1.    3.606 2.236 2.    1.414 2.    3.317 3.464 1.414 1.414 4.583\n",
      " 2.236 2.449 3.464 5.568 5.196 1.414 3.873 3.742 1.732 1.732 2.236 2.449\n",
      " 1.    3.317 2.646 4.    3.    3.162 1.414 2.    3.742 1.414 2.646 2.449\n",
      " 3.464 2.828 5.657 1.732 3.464 2.236 2.236 5.196 5.    4.123 3.317 3.464\n",
      " 3.606 2.646 1.732 2.236 2.449 1.414 2.    2.646 2.828 1.732 2.    3.464\n",
      " 3.    3.742 1.732 1.414 2.828 0.    2.449 1.    2.236 1.732 1.    2.\n",
      " 5.099 2.828 2.236 1.732 1.732 4.796 1.414 1.    0.    2.646 2.449 4.472\n",
      " 2.236 3.464 2.828 4.123 0.    2.449 2.236 2.236 1.414 4.899 4.899 3.\n",
      " 2.646 2.449 1.414 2.    2.828 2.646 3.162 1.    3.606 2.236 4.796 1.414\n",
      " 3.317 2.646 1.414 2.236 4.243 1.732 3.317 1.414 3.464 2.646 1.414 1.\n",
      " 3.    4.796 1.414 0.    1.414 3.162 2.449 3.464 3.    2.    2.236 1.732\n",
      " 3.464 2.    2.    4.899 0.    2.646 4.243 0.    0.    3.    3.162 2.449\n",
      " 0.    1.732 2.828 1.    2.    2.449 3.464 2.449 2.449 3.606 3.162 1.\n",
      " 1.732 3.    3.162 3.317 2.    3.    3.742 4.472 2.449 1.    2.    5.292\n",
      " 0.    2.449 3.464 3.    2.828 0.    3.    1.732 1.    2.236 3.    2.449\n",
      " 3.873 4.    0.    3.    2.646 2.449 1.732 3.464 2.    1.732 3.742 2.828\n",
      " 2.828 3.162 2.236]\n"
     ]
    }
   ],
   "source": [
    "similarity_ts= neighbors_k_ts\n",
    "cpd_AD=similarity_ts[0,:]\n",
    "cpd_value = np.round(cpd_AD, 3)\n",
    "print(cpd_value)"
   ]
  },
  {
   "cell_type": "code",
   "execution_count": 44,
   "metadata": {},
   "outputs": [
    {
     "name": "stdout",
     "output_type": "stream",
     "text": [
      "[ True  True False False False  True  True  True  True False  True  True\n",
      " False  True  True  True  True False False  True False  True False  True\n",
      " False False  True False  True False False False False  True  True  True\n",
      " False  True  True False False  True False False False  True False  True\n",
      "  True  True False  True False False False  True  True  True False  True\n",
      "  True  True False  True False False  True  True  True  True  True  True\n",
      "  True False  True  True  True  True False  True  True  True False  True\n",
      " False  True  True  True False  True  True  True  True  True  True False\n",
      " False False  True False  True False  True  True False False  True  True\n",
      "  True  True  True  True  True  True False  True False  True  True  True\n",
      "  True  True  True  True  True  True  True  True  True False  True  True\n",
      "  True  True False  True  True False  True  True  True  True  True  True\n",
      " False  True  True  True False  True  True  True  True False False  True\n",
      "  True  True False  True False  True  True  True  True  True False False\n",
      "  True  True  True  True  True  True  True  True  True False False False\n",
      "  True  True False  True  True  True False  True False  True  True  True\n",
      "  True  True False  True  True  True  True  True  True False  True  True\n",
      "  True  True  True  True  True  True  True  True  True False  True False\n",
      "  True  True False  True  True False  True  True  True  True  True False\n",
      "  True  True  True False  True  True  True  True  True  True  True  True\n",
      "  True  True  True  True  True  True  True  True  True  True False  True\n",
      "  True  True  True  True  True  True False  True False  True  True  True\n",
      "  True  True  True False  True False  True  True False  True  True  True\n",
      " False  True  True  True  True  True False False  True  True  True False\n",
      "  True  True  True  True False  True  True  True False  True  True  True\n",
      "  True False  True False False  True  True False  True  True  True  True\n",
      "  True  True  True  True  True  True  True False  True  True False False\n",
      "  True  True False False  True  True  True False  True False  True  True\n",
      "  True  True False False  True  True  True  True  True  True  True False\n",
      "  True  True  True False False  True False False  True  True  True  True\n",
      "  True False False False False False  True  True  True  True  True  True\n",
      "  True False  True  True  True False  True  True  True False False  True\n",
      "  True  True  True  True  True False  True  True  True  True  True  True\n",
      "  True  True False  True  True  True  True  True False False  True  True\n",
      " False  True  True False  True  True  True  True  True False  True  True\n",
      " False False  True  True False  True  True False  True  True  True  True\n",
      "  True  True False  True  True False  True  True False  True  True False\n",
      " False  True  True False  True  True  True  True False False  True False\n",
      " False  True False  True  True  True  True  True  True  True  True False\n",
      "  True False False  True  True  True  True False  True  True  True False\n",
      " False  True  True  True  True  True  True  True  True  True  True  True\n",
      "  True  True  True  True  True  True  True  True  True False False  True\n",
      "  True  True  True False  True  True  True  True  True  True  True  True\n",
      " False  True  True  True False  True  True False  True  True  True False\n",
      "  True  True  True False  True  True  True  True  True  True False False\n",
      "  True False  True  True  True  True  True False  True  True  True  True\n",
      "  True  True  True  True  True  True False False  True  True  True False\n",
      "  True  True  True  True  True  True  True  True  True False  True  True\n",
      "  True  True False  True  True  True  True  True False  True  True False\n",
      "  True  True False False False  True False False  True  True  True  True\n",
      "  True  True  True False  True  True  True  True False  True  True  True\n",
      " False  True False  True False  True  True False False False  True False\n",
      " False  True  True  True  True  True  True  True  True  True  True False\n",
      "  True False  True  True  True  True  True  True  True  True  True  True\n",
      " False  True  True  True  True False  True  True  True  True  True False\n",
      "  True False  True False  True  True  True  True  True False False  True\n",
      "  True  True  True  True  True  True  True  True False  True False  True\n",
      "  True  True  True  True False  True  True  True False  True  True  True\n",
      "  True False  True  True  True  True  True False  True  True  True  True\n",
      " False  True  True False  True  True False  True  True  True  True  True\n",
      "  True  True  True  True  True  True False  True  True False  True  True\n",
      "  True  True  True  True  True  True False False  True  True  True False\n",
      "  True  True False  True  True  True  True  True  True  True  True  True\n",
      " False False  True  True  True  True  True False  True  True False  True\n",
      "  True  True  True]\n"
     ]
    }
   ],
   "source": [
    "cpd_AD = np.where(cpd_value <= model_AD_limit, True, False)\n",
    "print(cpd_AD)"
   ]
  },
  {
   "cell_type": "code",
   "execution_count": 45,
   "metadata": {},
   "outputs": [
    {
     "name": "stdout",
     "output_type": "stream",
     "text": [
      "Coverage =  0.74\n"
     ]
    }
   ],
   "source": [
    "print(\"Coverage = \", round(sum(cpd_AD) / len(cpd_AD), 2))"
   ]
  },
  {
   "cell_type": "code",
   "execution_count": 48,
   "metadata": {},
   "outputs": [
    {
     "name": "stdout",
     "output_type": "stream",
     "text": [
      "Indices of substances included in AD =  [  0   1   5   6   7   8  10  11  13  14  15  16  19  21  23  26  28  33\n",
      "  34  35  37  38  41  45  47  48  49  51  55  56  57  59  60  61  63  66\n",
      "  67  68  69  70  71  72  74  75  76  77  79  80  81  83  85  86  87  89\n",
      "  90  91  92  93  94  98 100 102 103 106 107 108 109 110 111 112 113 115\n",
      " 117 118 119 120 121 122 123 124 125 126 127 128 130 131 132 133 135 136\n",
      " 138 139 140 141 142 143 145 146 147 149 150 151 152 155 156 157 159 161\n",
      " 162 163 164 165 168 169 170 171 172 173 174 175 176 180 181 183 184 185\n",
      " 187 189 190 191 192 193 195 196 197 198 199 200 202 203 204 205 206 207\n",
      " 208 209 210 211 212 214 216 217 219 220 222 223 224 225 226 228 229 230\n",
      " 232 233 234 235 236 237 238 239 240 241 242 243 244 245 246 247 248 249\n",
      " 251 252 253 254 255 256 257 259 261 262 263 264 265 266 268 270 271 273\n",
      " 274 275 277 278 279 280 281 284 285 286 288 289 290 291 293 294 295 297\n",
      " 298 299 300 302 305 306 308 309 310 311 312 313 314 315 316 317 318 320\n",
      " 321 324 325 328 329 330 332 334 335 336 337 340 341 342 343 344 345 346\n",
      " 348 349 350 353 356 357 358 359 360 366 367 368 369 370 371 372 374 375\n",
      " 376 378 379 380 383 384 385 386 387 388 390 391 392 393 394 395 396 397\n",
      " 399 400 401 402 403 406 407 409 410 412 413 414 415 416 418 419 422 423\n",
      " 425 426 428 429 430 431 432 433 435 436 438 439 441 442 445 446 448 449\n",
      " 450 451 454 457 459 460 461 462 463 464 465 466 468 471 472 473 474 476\n",
      " 477 478 481 482 483 484 485 486 487 488 489 490 491 492 493 494 495 496\n",
      " 497 498 499 500 503 504 505 506 508 509 510 511 512 513 514 515 517 518\n",
      " 519 521 522 524 525 526 528 529 530 532 533 534 535 536 537 540 542 543\n",
      " 544 545 546 548 549 550 551 552 553 554 555 556 557 560 561 562 564 565\n",
      " 566 567 568 569 570 571 572 574 575 576 577 579 580 581 582 583 585 586\n",
      " 588 589 593 596 597 598 599 600 601 602 604 605 606 607 609 610 611 613\n",
      " 615 617 618 622 625 626 627 628 629 630 631 632 633 634 636 638 639 640\n",
      " 641 642 643 644 645 646 647 649 650 651 652 654 655 656 657 658 660 662\n",
      " 664 665 666 667 668 671 672 673 674 675 676 677 678 679 681 683 684 685\n",
      " 686 687 689 690 691 693 694 695 696 698 699 700 701 702 704 705 706 707\n",
      " 709 710 712 713 715 716 717 718 719 720 721 722 723 724 725 727 728 730\n",
      " 731 732 733 734 735 736 737 740 741 742 744 745 747 748 749 750 751 752\n",
      " 753 754 755 758 759 760 761 762 764 765 767 768 769 770]\n"
     ]
    }
   ],
   "source": [
    "print(\"Indices of substances included in AD = \", np.where(cpd_AD != 0)[0])"
   ]
  },
  {
   "cell_type": "code",
   "execution_count": 49,
   "metadata": {},
   "outputs": [],
   "source": [
    "out_Ad=list(np.where(cpd_AD == 0)[0])"
   ]
  },
  {
   "cell_type": "markdown",
   "metadata": {},
   "source": [
    "# 12. Prediction only for molecules included in  AD"
   ]
  },
  {
   "cell_type": "code",
   "execution_count": 56,
   "metadata": {},
   "outputs": [],
   "source": [
    "y_pred_GBR_ad=list(y_pred_GBR)"
   ]
  },
  {
   "cell_type": "code",
   "execution_count": 57,
   "metadata": {},
   "outputs": [],
   "source": [
    "y_pred_GBR_ad[:] = [x for i,x in enumerate(y_pred_GBR_ad) if i not in out_Ad]"
   ]
  },
  {
   "cell_type": "code",
   "execution_count": 58,
   "metadata": {},
   "outputs": [
    {
     "data": {
      "text/plain": [
       "572"
      ]
     },
     "execution_count": 58,
     "metadata": {},
     "output_type": "execute_result"
    }
   ],
   "source": [
    "len(y_pred_GBR_ad)"
   ]
  },
  {
   "cell_type": "code",
   "execution_count": 59,
   "metadata": {},
   "outputs": [],
   "source": [
    "y_ts_ad=list(y_ts)"
   ]
  },
  {
   "cell_type": "code",
   "execution_count": 60,
   "metadata": {},
   "outputs": [],
   "source": [
    "y_ts_ad[:] = [x for i,x in enumerate(y_ts_ad) if i not in out_Ad]"
   ]
  },
  {
   "cell_type": "code",
   "execution_count": 61,
   "metadata": {},
   "outputs": [
    {
     "data": {
      "text/plain": [
       "572"
      ]
     },
     "execution_count": 61,
     "metadata": {},
     "output_type": "execute_result"
    }
   ],
   "source": [
    "len(y_ts_ad)"
   ]
  },
  {
   "cell_type": "code",
   "execution_count": 62,
   "metadata": {},
   "outputs": [
    {
     "data": {
      "text/plain": [
       "0.73"
      ]
     },
     "execution_count": 62,
     "metadata": {},
     "output_type": "execute_result"
    }
   ],
   "source": [
    "Q2_TS = round(r2_score(y_ts_ad, y_pred_GBR_ad), 2)\n",
    "Q2_TS"
   ]
  },
  {
   "cell_type": "code",
   "execution_count": 63,
   "metadata": {},
   "outputs": [
    {
     "data": {
      "text/plain": [
       "0.64"
      ]
     },
     "execution_count": 63,
     "metadata": {},
     "output_type": "execute_result"
    }
   ],
   "source": [
    "RMSE_TS=round(np.sqrt(mean_absolute_error(y_ts_ad, y_pred_GBR_ad)), 2)\n",
    "RMSE_TS"
   ]
  },
  {
   "cell_type": "markdown",
   "metadata": {},
   "source": [
    "# SVM model building and validation"
   ]
  },
  {
   "cell_type": "code",
   "execution_count": 64,
   "metadata": {},
   "outputs": [],
   "source": [
    "param_grid = {\"C\": [10 ** i for i in range(0, 5)],\n",
    "              \"gamma\": [10 ** i for i in range(-6, 0)]}"
   ]
  },
  {
   "cell_type": "code",
   "execution_count": 26,
   "metadata": {},
   "outputs": [],
   "source": [
    "seed = 42\n",
    "cv=KFold(n_splits=5, random_state=seed, shuffle=True)"
   ]
  },
  {
   "cell_type": "code",
   "execution_count": 66,
   "metadata": {},
   "outputs": [],
   "source": [
    "svm = GridSearchCV(SVR(C=1.0, epsilon=0.2), param_grid, n_jobs=-1, cv=cv, verbose=1)"
   ]
  },
  {
   "cell_type": "code",
   "execution_count": 67,
   "metadata": {},
   "outputs": [
    {
     "name": "stdout",
     "output_type": "stream",
     "text": [
      "Fitting 5 folds for each of 30 candidates, totalling 150 fits\n"
     ]
    },
    {
     "data": {
      "text/html": [
       "<style>#sk-container-id-1 {color: black;}#sk-container-id-1 pre{padding: 0;}#sk-container-id-1 div.sk-toggleable {background-color: white;}#sk-container-id-1 label.sk-toggleable__label {cursor: pointer;display: block;width: 100%;margin-bottom: 0;padding: 0.3em;box-sizing: border-box;text-align: center;}#sk-container-id-1 label.sk-toggleable__label-arrow:before {content: \"▸\";float: left;margin-right: 0.25em;color: #696969;}#sk-container-id-1 label.sk-toggleable__label-arrow:hover:before {color: black;}#sk-container-id-1 div.sk-estimator:hover label.sk-toggleable__label-arrow:before {color: black;}#sk-container-id-1 div.sk-toggleable__content {max-height: 0;max-width: 0;overflow: hidden;text-align: left;background-color: #f0f8ff;}#sk-container-id-1 div.sk-toggleable__content pre {margin: 0.2em;color: black;border-radius: 0.25em;background-color: #f0f8ff;}#sk-container-id-1 input.sk-toggleable__control:checked~div.sk-toggleable__content {max-height: 200px;max-width: 100%;overflow: auto;}#sk-container-id-1 input.sk-toggleable__control:checked~label.sk-toggleable__label-arrow:before {content: \"▾\";}#sk-container-id-1 div.sk-estimator input.sk-toggleable__control:checked~label.sk-toggleable__label {background-color: #d4ebff;}#sk-container-id-1 div.sk-label input.sk-toggleable__control:checked~label.sk-toggleable__label {background-color: #d4ebff;}#sk-container-id-1 input.sk-hidden--visually {border: 0;clip: rect(1px 1px 1px 1px);clip: rect(1px, 1px, 1px, 1px);height: 1px;margin: -1px;overflow: hidden;padding: 0;position: absolute;width: 1px;}#sk-container-id-1 div.sk-estimator {font-family: monospace;background-color: #f0f8ff;border: 1px dotted black;border-radius: 0.25em;box-sizing: border-box;margin-bottom: 0.5em;}#sk-container-id-1 div.sk-estimator:hover {background-color: #d4ebff;}#sk-container-id-1 div.sk-parallel-item::after {content: \"\";width: 100%;border-bottom: 1px solid gray;flex-grow: 1;}#sk-container-id-1 div.sk-label:hover label.sk-toggleable__label {background-color: #d4ebff;}#sk-container-id-1 div.sk-serial::before {content: \"\";position: absolute;border-left: 1px solid gray;box-sizing: border-box;top: 0;bottom: 0;left: 50%;z-index: 0;}#sk-container-id-1 div.sk-serial {display: flex;flex-direction: column;align-items: center;background-color: white;padding-right: 0.2em;padding-left: 0.2em;position: relative;}#sk-container-id-1 div.sk-item {position: relative;z-index: 1;}#sk-container-id-1 div.sk-parallel {display: flex;align-items: stretch;justify-content: center;background-color: white;position: relative;}#sk-container-id-1 div.sk-item::before, #sk-container-id-1 div.sk-parallel-item::before {content: \"\";position: absolute;border-left: 1px solid gray;box-sizing: border-box;top: 0;bottom: 0;left: 50%;z-index: -1;}#sk-container-id-1 div.sk-parallel-item {display: flex;flex-direction: column;z-index: 1;position: relative;background-color: white;}#sk-container-id-1 div.sk-parallel-item:first-child::after {align-self: flex-end;width: 50%;}#sk-container-id-1 div.sk-parallel-item:last-child::after {align-self: flex-start;width: 50%;}#sk-container-id-1 div.sk-parallel-item:only-child::after {width: 0;}#sk-container-id-1 div.sk-dashed-wrapped {border: 1px dashed gray;margin: 0 0.4em 0.5em 0.4em;box-sizing: border-box;padding-bottom: 0.4em;background-color: white;}#sk-container-id-1 div.sk-label label {font-family: monospace;font-weight: bold;display: inline-block;line-height: 1.2em;}#sk-container-id-1 div.sk-label-container {text-align: center;}#sk-container-id-1 div.sk-container {/* jupyter's `normalize.less` sets `[hidden] { display: none; }` but bootstrap.min.css set `[hidden] { display: none !important; }` so we also need the `!important` here to be able to override the default hidden behavior on the sphinx rendered scikit-learn.org. See: https://github.com/scikit-learn/scikit-learn/issues/21755 */display: inline-block !important;position: relative;}#sk-container-id-1 div.sk-text-repr-fallback {display: none;}</style><div id=\"sk-container-id-1\" class=\"sk-top-container\"><div class=\"sk-text-repr-fallback\"><pre>GridSearchCV(cv=KFold(n_splits=5, random_state=42, shuffle=True),\n",
       "             estimator=SVR(epsilon=0.2), n_jobs=-1,\n",
       "             param_grid={&#x27;C&#x27;: [1, 10, 100, 1000, 10000],\n",
       "                         &#x27;gamma&#x27;: [1e-06, 1e-05, 0.0001, 0.001, 0.01, 0.1]},\n",
       "             verbose=1)</pre><b>In a Jupyter environment, please rerun this cell to show the HTML representation or trust the notebook. <br />On GitHub, the HTML representation is unable to render, please try loading this page with nbviewer.org.</b></div><div class=\"sk-container\" hidden><div class=\"sk-item sk-dashed-wrapped\"><div class=\"sk-label-container\"><div class=\"sk-label sk-toggleable\"><input class=\"sk-toggleable__control sk-hidden--visually\" id=\"sk-estimator-id-1\" type=\"checkbox\" ><label for=\"sk-estimator-id-1\" class=\"sk-toggleable__label sk-toggleable__label-arrow\">GridSearchCV</label><div class=\"sk-toggleable__content\"><pre>GridSearchCV(cv=KFold(n_splits=5, random_state=42, shuffle=True),\n",
       "             estimator=SVR(epsilon=0.2), n_jobs=-1,\n",
       "             param_grid={&#x27;C&#x27;: [1, 10, 100, 1000, 10000],\n",
       "                         &#x27;gamma&#x27;: [1e-06, 1e-05, 0.0001, 0.001, 0.01, 0.1]},\n",
       "             verbose=1)</pre></div></div></div><div class=\"sk-parallel\"><div class=\"sk-parallel-item\"><div class=\"sk-item\"><div class=\"sk-label-container\"><div class=\"sk-label sk-toggleable\"><input class=\"sk-toggleable__control sk-hidden--visually\" id=\"sk-estimator-id-2\" type=\"checkbox\" ><label for=\"sk-estimator-id-2\" class=\"sk-toggleable__label sk-toggleable__label-arrow\">estimator: SVR</label><div class=\"sk-toggleable__content\"><pre>SVR(epsilon=0.2)</pre></div></div></div><div class=\"sk-serial\"><div class=\"sk-item\"><div class=\"sk-estimator sk-toggleable\"><input class=\"sk-toggleable__control sk-hidden--visually\" id=\"sk-estimator-id-3\" type=\"checkbox\" ><label for=\"sk-estimator-id-3\" class=\"sk-toggleable__label sk-toggleable__label-arrow\">SVR</label><div class=\"sk-toggleable__content\"><pre>SVR(epsilon=0.2)</pre></div></div></div></div></div></div></div></div></div></div>"
      ],
      "text/plain": [
       "GridSearchCV(cv=KFold(n_splits=5, random_state=42, shuffle=True),\n",
       "             estimator=SVR(epsilon=0.2), n_jobs=-1,\n",
       "             param_grid={'C': [1, 10, 100, 1000, 10000],\n",
       "                         'gamma': [1e-06, 1e-05, 0.0001, 0.001, 0.01, 0.1]},\n",
       "             verbose=1)"
      ]
     },
     "execution_count": 67,
     "metadata": {},
     "output_type": "execute_result"
    }
   ],
   "source": [
    "svm.fit(x_tr, y_tr)"
   ]
  },
  {
   "cell_type": "code",
   "execution_count": 68,
   "metadata": {},
   "outputs": [],
   "source": [
    "svm.best_params_\n",
    "best_svm = svm.best_estimator_"
   ]
  },
  {
   "cell_type": "code",
   "execution_count": 69,
   "metadata": {},
   "outputs": [
    {
     "data": {
      "text/plain": [
       "{'C': 10, 'gamma': 0.01}"
      ]
     },
     "execution_count": 69,
     "metadata": {},
     "output_type": "execute_result"
    }
   ],
   "source": [
    "svm.best_params_"
   ]
  },
  {
   "cell_type": "code",
   "execution_count": 70,
   "metadata": {},
   "outputs": [],
   "source": [
    "y_pred_ws_svm = best_svm.predict(x_tr)"
   ]
  },
  {
   "cell_type": "code",
   "execution_count": 71,
   "metadata": {},
   "outputs": [
    {
     "data": {
      "text/plain": [
       "0.91"
      ]
     },
     "execution_count": 71,
     "metadata": {},
     "output_type": "execute_result"
    }
   ],
   "source": [
    "R2_WS = round(r2_score(y_tr, y_pred_ws_svm), 2)\n",
    "R2_WS"
   ]
  },
  {
   "cell_type": "code",
   "execution_count": 72,
   "metadata": {},
   "outputs": [
    {
     "data": {
      "text/plain": [
       "0.49"
      ]
     },
     "execution_count": 72,
     "metadata": {},
     "output_type": "execute_result"
    }
   ],
   "source": [
    "RMSE_WS=round(np.sqrt(mean_absolute_error(y_tr, y_pred_ws_svm)), 2)\n",
    "RMSE_WS"
   ]
  },
  {
   "cell_type": "code",
   "execution_count": 73,
   "metadata": {},
   "outputs": [],
   "source": [
    "y_pred_CV_svm = cross_val_predict(best_svm, x_tr, y_tr, cv=cv)"
   ]
  },
  {
   "cell_type": "code",
   "execution_count": 74,
   "metadata": {},
   "outputs": [
    {
     "data": {
      "text/plain": [
       "0.65"
      ]
     },
     "execution_count": 74,
     "metadata": {},
     "output_type": "execute_result"
    }
   ],
   "source": [
    "Q2_CV = round(r2_score(y_tr, y_pred_CV_svm), 2)\n",
    "Q2_CV"
   ]
  },
  {
   "cell_type": "code",
   "execution_count": 75,
   "metadata": {},
   "outputs": [
    {
     "data": {
      "text/plain": [
       "0.69"
      ]
     },
     "execution_count": 75,
     "metadata": {},
     "output_type": "execute_result"
    }
   ],
   "source": [
    "RMSE_CV=round(np.sqrt(mean_absolute_error(y_tr, y_pred_CV_svm)), 2)\n",
    "RMSE_CV"
   ]
  },
  {
   "cell_type": "markdown",
   "metadata": {},
   "source": [
    "# 9. Prediction for test set's molecules"
   ]
  },
  {
   "cell_type": "code",
   "execution_count": 76,
   "metadata": {},
   "outputs": [],
   "source": [
    "x_ts = np.array(x_ts, dtype=np.float32)\n",
    "y_ts = np.array(y_ts, dtype=np.float32)"
   ]
  },
  {
   "cell_type": "code",
   "execution_count": 77,
   "metadata": {},
   "outputs": [],
   "source": [
    "y_pred_svm = best_svm.predict(x_ts)"
   ]
  },
  {
   "cell_type": "code",
   "execution_count": 78,
   "metadata": {},
   "outputs": [
    {
     "data": {
      "text/plain": [
       "0.7"
      ]
     },
     "execution_count": 78,
     "metadata": {},
     "output_type": "execute_result"
    }
   ],
   "source": [
    "Q2_TS = round(r2_score(y_ts, y_pred_svm), 2)\n",
    "Q2_TS"
   ]
  },
  {
   "cell_type": "code",
   "execution_count": 79,
   "metadata": {},
   "outputs": [
    {
     "data": {
      "text/plain": [
       "0.67"
      ]
     },
     "execution_count": 79,
     "metadata": {},
     "output_type": "execute_result"
    }
   ],
   "source": [
    "RMSE_TS=round(np.sqrt(mean_absolute_error(y_ts, y_pred_svm)), 2)\n",
    "RMSE_TS"
   ]
  },
  {
   "cell_type": "markdown",
   "metadata": {},
   "source": [
    "save the model to disk"
   ]
  },
  {
   "cell_type": "code",
   "execution_count": 80,
   "metadata": {},
   "outputs": [],
   "source": [
    "pickle.dump(best_svm, open('Models/Padels/HDAC6_SVM_KlekotaRoth.pkl', 'wb'))"
   ]
  },
  {
   "cell_type": "markdown",
   "metadata": {},
   "source": [
    "load the model from disk"
   ]
  },
  {
   "cell_type": "code",
   "execution_count": 93,
   "metadata": {},
   "outputs": [],
   "source": [
    "best_svm = pickle.load(open('Models/Padels/HDAC6_SVM_KlekotaRoth.pkl', 'rb'))"
   ]
  },
  {
   "cell_type": "markdown",
   "metadata": {},
   "source": [
    "# 10. Y-randomization SVM model"
   ]
  },
  {
   "cell_type": "code",
   "execution_count": 81,
   "metadata": {},
   "outputs": [
    {
     "name": "stderr",
     "output_type": "stream",
     "text": [
      "[Parallel(n_jobs=-1)]: Using backend LokyBackend with 16 concurrent workers.\n",
      "[Parallel(n_jobs=-1)]: Done  18 tasks      | elapsed: 31.9min\n"
     ]
    },
    {
     "name": "stdout",
     "output_type": "stream",
     "text": [
      "True score =  0.653 \n",
      "Y-randomization =  -0.26 \n",
      "p-value =  0.0196\n"
     ]
    },
    {
     "name": "stderr",
     "output_type": "stream",
     "text": [
      "[Parallel(n_jobs=-1)]: Done  50 out of  50 | elapsed: 50.5min finished\n"
     ]
    }
   ],
   "source": [
    "permutations = 50\n",
    "score, permutation_scores, pvalue = permutation_test_score(best_svm, x_tr, y_tr,\n",
    "                                                           cv=cv, scoring='r2',\n",
    "                                                           n_permutations=permutations,\n",
    "                                                           n_jobs=-1,\n",
    "                                                           verbose=1,\n",
    "                                                           random_state=seed)\n",
    "print('True score = ', score.round(3),\n",
    "      '\\nY-randomization = ', np.mean(permutation_scores).round(2),\n",
    "      '\\np-value = ', pvalue.round(4))"
   ]
  },
  {
   "cell_type": "markdown",
   "metadata": {},
   "source": [
    "# 11. Estimating applicability domain. Method - Euclidian distances, K=1"
   ]
  },
  {
   "cell_type": "code",
   "execution_count": 82,
   "metadata": {},
   "outputs": [],
   "source": [
    "neighbors_k= pairwise_distances(x_tr, n_jobs=-1)\n",
    "neighbors_k.sort(0)"
   ]
  },
  {
   "cell_type": "code",
   "execution_count": 83,
   "metadata": {},
   "outputs": [
    {
     "data": {
      "text/html": [
       "<div>\n",
       "<style scoped>\n",
       "    .dataframe tbody tr th:only-of-type {\n",
       "        vertical-align: middle;\n",
       "    }\n",
       "\n",
       "    .dataframe tbody tr th {\n",
       "        vertical-align: top;\n",
       "    }\n",
       "\n",
       "    .dataframe thead th {\n",
       "        text-align: right;\n",
       "    }\n",
       "</style>\n",
       "<table border=\"1\" class=\"dataframe\">\n",
       "  <thead>\n",
       "    <tr style=\"text-align: right;\">\n",
       "      <th></th>\n",
       "      <th>0</th>\n",
       "      <th>1</th>\n",
       "      <th>2</th>\n",
       "      <th>3</th>\n",
       "      <th>4</th>\n",
       "      <th>5</th>\n",
       "      <th>6</th>\n",
       "      <th>7</th>\n",
       "      <th>8</th>\n",
       "      <th>9</th>\n",
       "      <th>...</th>\n",
       "      <th>3073</th>\n",
       "      <th>3074</th>\n",
       "      <th>3075</th>\n",
       "      <th>3076</th>\n",
       "      <th>3077</th>\n",
       "      <th>3078</th>\n",
       "      <th>3079</th>\n",
       "      <th>3080</th>\n",
       "      <th>3081</th>\n",
       "      <th>3082</th>\n",
       "    </tr>\n",
       "  </thead>\n",
       "  <tbody>\n",
       "    <tr>\n",
       "      <th>0</th>\n",
       "      <td>0.000000</td>\n",
       "      <td>0.000000</td>\n",
       "      <td>0.000000</td>\n",
       "      <td>0.000000</td>\n",
       "      <td>0.000000</td>\n",
       "      <td>0.000000</td>\n",
       "      <td>0.000000</td>\n",
       "      <td>0.000000</td>\n",
       "      <td>0.000000</td>\n",
       "      <td>0.000000</td>\n",
       "      <td>...</td>\n",
       "      <td>0.000000</td>\n",
       "      <td>0.000000</td>\n",
       "      <td>0.000000</td>\n",
       "      <td>0.000000</td>\n",
       "      <td>0.000000</td>\n",
       "      <td>0.000000</td>\n",
       "      <td>0.000000</td>\n",
       "      <td>0.000000</td>\n",
       "      <td>0.000000</td>\n",
       "      <td>0.000000</td>\n",
       "    </tr>\n",
       "    <tr>\n",
       "      <th>1</th>\n",
       "      <td>3.872983</td>\n",
       "      <td>5.099020</td>\n",
       "      <td>3.872983</td>\n",
       "      <td>2.236068</td>\n",
       "      <td>5.385165</td>\n",
       "      <td>2.000000</td>\n",
       "      <td>3.605551</td>\n",
       "      <td>4.358899</td>\n",
       "      <td>3.162278</td>\n",
       "      <td>6.082763</td>\n",
       "      <td>...</td>\n",
       "      <td>2.828427</td>\n",
       "      <td>3.000000</td>\n",
       "      <td>2.645751</td>\n",
       "      <td>2.236068</td>\n",
       "      <td>2.236068</td>\n",
       "      <td>3.000000</td>\n",
       "      <td>2.645751</td>\n",
       "      <td>4.898980</td>\n",
       "      <td>1.732051</td>\n",
       "      <td>5.000000</td>\n",
       "    </tr>\n",
       "    <tr>\n",
       "      <th>2</th>\n",
       "      <td>6.000000</td>\n",
       "      <td>5.385165</td>\n",
       "      <td>4.582576</td>\n",
       "      <td>2.645751</td>\n",
       "      <td>6.082763</td>\n",
       "      <td>5.656854</td>\n",
       "      <td>5.291502</td>\n",
       "      <td>5.567764</td>\n",
       "      <td>6.782330</td>\n",
       "      <td>6.244998</td>\n",
       "      <td>...</td>\n",
       "      <td>3.872983</td>\n",
       "      <td>4.242640</td>\n",
       "      <td>3.316625</td>\n",
       "      <td>2.645751</td>\n",
       "      <td>2.236068</td>\n",
       "      <td>4.898980</td>\n",
       "      <td>2.828427</td>\n",
       "      <td>4.898980</td>\n",
       "      <td>3.000000</td>\n",
       "      <td>5.099020</td>\n",
       "    </tr>\n",
       "    <tr>\n",
       "      <th>3</th>\n",
       "      <td>6.164414</td>\n",
       "      <td>5.385165</td>\n",
       "      <td>4.690416</td>\n",
       "      <td>2.645751</td>\n",
       "      <td>6.403124</td>\n",
       "      <td>5.916080</td>\n",
       "      <td>5.385165</td>\n",
       "      <td>5.567764</td>\n",
       "      <td>7.141428</td>\n",
       "      <td>6.324555</td>\n",
       "      <td>...</td>\n",
       "      <td>4.795832</td>\n",
       "      <td>4.582576</td>\n",
       "      <td>3.872983</td>\n",
       "      <td>2.828427</td>\n",
       "      <td>2.236068</td>\n",
       "      <td>5.000000</td>\n",
       "      <td>3.162278</td>\n",
       "      <td>5.000000</td>\n",
       "      <td>3.000000</td>\n",
       "      <td>5.099020</td>\n",
       "    </tr>\n",
       "    <tr>\n",
       "      <th>4</th>\n",
       "      <td>6.324555</td>\n",
       "      <td>5.385165</td>\n",
       "      <td>4.795832</td>\n",
       "      <td>2.645751</td>\n",
       "      <td>6.403124</td>\n",
       "      <td>6.000000</td>\n",
       "      <td>5.477226</td>\n",
       "      <td>5.656854</td>\n",
       "      <td>7.211102</td>\n",
       "      <td>6.324555</td>\n",
       "      <td>...</td>\n",
       "      <td>4.795832</td>\n",
       "      <td>4.898980</td>\n",
       "      <td>4.472136</td>\n",
       "      <td>3.000000</td>\n",
       "      <td>2.645751</td>\n",
       "      <td>5.000000</td>\n",
       "      <td>3.316625</td>\n",
       "      <td>5.000000</td>\n",
       "      <td>3.162278</td>\n",
       "      <td>5.099020</td>\n",
       "    </tr>\n",
       "    <tr>\n",
       "      <th>...</th>\n",
       "      <td>...</td>\n",
       "      <td>...</td>\n",
       "      <td>...</td>\n",
       "      <td>...</td>\n",
       "      <td>...</td>\n",
       "      <td>...</td>\n",
       "      <td>...</td>\n",
       "      <td>...</td>\n",
       "      <td>...</td>\n",
       "      <td>...</td>\n",
       "      <td>...</td>\n",
       "      <td>...</td>\n",
       "      <td>...</td>\n",
       "      <td>...</td>\n",
       "      <td>...</td>\n",
       "      <td>...</td>\n",
       "      <td>...</td>\n",
       "      <td>...</td>\n",
       "      <td>...</td>\n",
       "      <td>...</td>\n",
       "      <td>...</td>\n",
       "    </tr>\n",
       "    <tr>\n",
       "      <th>3078</th>\n",
       "      <td>13.190906</td>\n",
       "      <td>12.124355</td>\n",
       "      <td>13.453624</td>\n",
       "      <td>13.341664</td>\n",
       "      <td>13.152946</td>\n",
       "      <td>12.727922</td>\n",
       "      <td>12.649111</td>\n",
       "      <td>13.304134</td>\n",
       "      <td>13.379088</td>\n",
       "      <td>12.845233</td>\n",
       "      <td>...</td>\n",
       "      <td>12.767145</td>\n",
       "      <td>12.961481</td>\n",
       "      <td>12.569805</td>\n",
       "      <td>13.000000</td>\n",
       "      <td>13.266500</td>\n",
       "      <td>13.076696</td>\n",
       "      <td>12.449900</td>\n",
       "      <td>13.674794</td>\n",
       "      <td>12.409674</td>\n",
       "      <td>13.266500</td>\n",
       "    </tr>\n",
       "    <tr>\n",
       "      <th>3079</th>\n",
       "      <td>13.190906</td>\n",
       "      <td>12.206555</td>\n",
       "      <td>13.453624</td>\n",
       "      <td>13.341664</td>\n",
       "      <td>13.152946</td>\n",
       "      <td>12.727922</td>\n",
       "      <td>12.649111</td>\n",
       "      <td>13.304134</td>\n",
       "      <td>13.453624</td>\n",
       "      <td>12.845233</td>\n",
       "      <td>...</td>\n",
       "      <td>12.806249</td>\n",
       "      <td>12.961481</td>\n",
       "      <td>12.609520</td>\n",
       "      <td>13.000000</td>\n",
       "      <td>13.266500</td>\n",
       "      <td>13.076696</td>\n",
       "      <td>12.489996</td>\n",
       "      <td>13.674794</td>\n",
       "      <td>12.449900</td>\n",
       "      <td>13.266500</td>\n",
       "    </tr>\n",
       "    <tr>\n",
       "      <th>3080</th>\n",
       "      <td>13.190906</td>\n",
       "      <td>12.206555</td>\n",
       "      <td>13.453624</td>\n",
       "      <td>13.341664</td>\n",
       "      <td>13.228757</td>\n",
       "      <td>12.727922</td>\n",
       "      <td>12.649111</td>\n",
       "      <td>13.304134</td>\n",
       "      <td>13.490738</td>\n",
       "      <td>12.845233</td>\n",
       "      <td>...</td>\n",
       "      <td>12.845233</td>\n",
       "      <td>12.961481</td>\n",
       "      <td>12.961481</td>\n",
       "      <td>13.000000</td>\n",
       "      <td>13.341664</td>\n",
       "      <td>13.076696</td>\n",
       "      <td>12.649111</td>\n",
       "      <td>13.674794</td>\n",
       "      <td>12.449900</td>\n",
       "      <td>13.266500</td>\n",
       "    </tr>\n",
       "    <tr>\n",
       "      <th>3081</th>\n",
       "      <td>13.190906</td>\n",
       "      <td>12.409674</td>\n",
       "      <td>13.490738</td>\n",
       "      <td>13.341664</td>\n",
       "      <td>13.453624</td>\n",
       "      <td>12.767145</td>\n",
       "      <td>12.727922</td>\n",
       "      <td>13.416408</td>\n",
       "      <td>13.564660</td>\n",
       "      <td>12.845233</td>\n",
       "      <td>...</td>\n",
       "      <td>12.884099</td>\n",
       "      <td>12.961481</td>\n",
       "      <td>13.038404</td>\n",
       "      <td>13.114877</td>\n",
       "      <td>13.379088</td>\n",
       "      <td>13.076696</td>\n",
       "      <td>12.727922</td>\n",
       "      <td>13.711309</td>\n",
       "      <td>12.489996</td>\n",
       "      <td>13.304134</td>\n",
       "    </tr>\n",
       "    <tr>\n",
       "      <th>3082</th>\n",
       "      <td>13.564660</td>\n",
       "      <td>12.489996</td>\n",
       "      <td>13.490738</td>\n",
       "      <td>13.341664</td>\n",
       "      <td>13.527749</td>\n",
       "      <td>12.922848</td>\n",
       "      <td>12.727922</td>\n",
       "      <td>13.416408</td>\n",
       "      <td>13.564660</td>\n",
       "      <td>12.845233</td>\n",
       "      <td>...</td>\n",
       "      <td>12.922848</td>\n",
       "      <td>12.961481</td>\n",
       "      <td>13.341664</td>\n",
       "      <td>13.114877</td>\n",
       "      <td>13.379088</td>\n",
       "      <td>13.076696</td>\n",
       "      <td>12.806249</td>\n",
       "      <td>13.784049</td>\n",
       "      <td>12.806249</td>\n",
       "      <td>13.379088</td>\n",
       "    </tr>\n",
       "  </tbody>\n",
       "</table>\n",
       "<p>3083 rows × 3083 columns</p>\n",
       "</div>"
      ],
      "text/plain": [
       "           0          1          2          3          4          5     \\\n",
       "0      0.000000   0.000000   0.000000   0.000000   0.000000   0.000000   \n",
       "1      3.872983   5.099020   3.872983   2.236068   5.385165   2.000000   \n",
       "2      6.000000   5.385165   4.582576   2.645751   6.082763   5.656854   \n",
       "3      6.164414   5.385165   4.690416   2.645751   6.403124   5.916080   \n",
       "4      6.324555   5.385165   4.795832   2.645751   6.403124   6.000000   \n",
       "...         ...        ...        ...        ...        ...        ...   \n",
       "3078  13.190906  12.124355  13.453624  13.341664  13.152946  12.727922   \n",
       "3079  13.190906  12.206555  13.453624  13.341664  13.152946  12.727922   \n",
       "3080  13.190906  12.206555  13.453624  13.341664  13.228757  12.727922   \n",
       "3081  13.190906  12.409674  13.490738  13.341664  13.453624  12.767145   \n",
       "3082  13.564660  12.489996  13.490738  13.341664  13.527749  12.922848   \n",
       "\n",
       "           6          7          8          9     ...       3073       3074  \\\n",
       "0      0.000000   0.000000   0.000000   0.000000  ...   0.000000   0.000000   \n",
       "1      3.605551   4.358899   3.162278   6.082763  ...   2.828427   3.000000   \n",
       "2      5.291502   5.567764   6.782330   6.244998  ...   3.872983   4.242640   \n",
       "3      5.385165   5.567764   7.141428   6.324555  ...   4.795832   4.582576   \n",
       "4      5.477226   5.656854   7.211102   6.324555  ...   4.795832   4.898980   \n",
       "...         ...        ...        ...        ...  ...        ...        ...   \n",
       "3078  12.649111  13.304134  13.379088  12.845233  ...  12.767145  12.961481   \n",
       "3079  12.649111  13.304134  13.453624  12.845233  ...  12.806249  12.961481   \n",
       "3080  12.649111  13.304134  13.490738  12.845233  ...  12.845233  12.961481   \n",
       "3081  12.727922  13.416408  13.564660  12.845233  ...  12.884099  12.961481   \n",
       "3082  12.727922  13.416408  13.564660  12.845233  ...  12.922848  12.961481   \n",
       "\n",
       "           3075       3076       3077       3078       3079       3080  \\\n",
       "0      0.000000   0.000000   0.000000   0.000000   0.000000   0.000000   \n",
       "1      2.645751   2.236068   2.236068   3.000000   2.645751   4.898980   \n",
       "2      3.316625   2.645751   2.236068   4.898980   2.828427   4.898980   \n",
       "3      3.872983   2.828427   2.236068   5.000000   3.162278   5.000000   \n",
       "4      4.472136   3.000000   2.645751   5.000000   3.316625   5.000000   \n",
       "...         ...        ...        ...        ...        ...        ...   \n",
       "3078  12.569805  13.000000  13.266500  13.076696  12.449900  13.674794   \n",
       "3079  12.609520  13.000000  13.266500  13.076696  12.489996  13.674794   \n",
       "3080  12.961481  13.000000  13.341664  13.076696  12.649111  13.674794   \n",
       "3081  13.038404  13.114877  13.379088  13.076696  12.727922  13.711309   \n",
       "3082  13.341664  13.114877  13.379088  13.076696  12.806249  13.784049   \n",
       "\n",
       "           3081       3082  \n",
       "0      0.000000   0.000000  \n",
       "1      1.732051   5.000000  \n",
       "2      3.000000   5.099020  \n",
       "3      3.000000   5.099020  \n",
       "4      3.162278   5.099020  \n",
       "...         ...        ...  \n",
       "3078  12.409674  13.266500  \n",
       "3079  12.449900  13.266500  \n",
       "3080  12.449900  13.266500  \n",
       "3081  12.489996  13.304134  \n",
       "3082  12.806249  13.379088  \n",
       "\n",
       "[3083 rows x 3083 columns]"
      ]
     },
     "execution_count": 83,
     "metadata": {},
     "output_type": "execute_result"
    }
   ],
   "source": [
    "df_tr=pd.DataFrame(neighbors_k)\n",
    "df_tr"
   ]
  },
  {
   "cell_type": "code",
   "execution_count": 84,
   "metadata": {},
   "outputs": [],
   "source": [
    "similarity= neighbors_k"
   ]
  },
  {
   "cell_type": "code",
   "execution_count": 85,
   "metadata": {},
   "outputs": [],
   "source": [
    "Dmean=np.mean(similarity[1,:])"
   ]
  },
  {
   "cell_type": "code",
   "execution_count": 86,
   "metadata": {},
   "outputs": [
    {
     "data": {
      "text/plain": [
       "2.73"
      ]
     },
     "execution_count": 86,
     "metadata": {},
     "output_type": "execute_result"
    }
   ],
   "source": [
    "round(Dmean, 2)"
   ]
  },
  {
   "cell_type": "code",
   "execution_count": 87,
   "metadata": {},
   "outputs": [],
   "source": [
    "std=np.std(similarity[1,:])"
   ]
  },
  {
   "cell_type": "code",
   "execution_count": 88,
   "metadata": {},
   "outputs": [
    {
     "data": {
      "text/plain": [
       "1.24"
      ]
     },
     "execution_count": 88,
     "metadata": {},
     "output_type": "execute_result"
    }
   ],
   "source": [
    "round(std, 2)"
   ]
  },
  {
   "cell_type": "code",
   "execution_count": 89,
   "metadata": {},
   "outputs": [
    {
     "name": "stdout",
     "output_type": "stream",
     "text": [
      "3.34\n"
     ]
    }
   ],
   "source": [
    "model_AD_limit=Dmean+std*0.5\n",
    "print(np.round(model_AD_limit, 2))"
   ]
  },
  {
   "cell_type": "code",
   "execution_count": 90,
   "metadata": {},
   "outputs": [],
   "source": [
    "neighbors_k_ts= pairwise_distances(x_tr,Y=x_ts, n_jobs=-1)\n",
    "neighbors_k_ts.sort(0)"
   ]
  },
  {
   "cell_type": "code",
   "execution_count": 91,
   "metadata": {},
   "outputs": [
    {
     "data": {
      "text/html": [
       "<div>\n",
       "<style scoped>\n",
       "    .dataframe tbody tr th:only-of-type {\n",
       "        vertical-align: middle;\n",
       "    }\n",
       "\n",
       "    .dataframe tbody tr th {\n",
       "        vertical-align: top;\n",
       "    }\n",
       "\n",
       "    .dataframe thead th {\n",
       "        text-align: right;\n",
       "    }\n",
       "</style>\n",
       "<table border=\"1\" class=\"dataframe\">\n",
       "  <thead>\n",
       "    <tr style=\"text-align: right;\">\n",
       "      <th></th>\n",
       "      <th>0</th>\n",
       "      <th>1</th>\n",
       "      <th>2</th>\n",
       "      <th>3</th>\n",
       "      <th>4</th>\n",
       "      <th>5</th>\n",
       "      <th>6</th>\n",
       "      <th>7</th>\n",
       "      <th>8</th>\n",
       "      <th>9</th>\n",
       "      <th>...</th>\n",
       "      <th>761</th>\n",
       "      <th>762</th>\n",
       "      <th>763</th>\n",
       "      <th>764</th>\n",
       "      <th>765</th>\n",
       "      <th>766</th>\n",
       "      <th>767</th>\n",
       "      <th>768</th>\n",
       "      <th>769</th>\n",
       "      <th>770</th>\n",
       "    </tr>\n",
       "  </thead>\n",
       "  <tbody>\n",
       "    <tr>\n",
       "      <th>0</th>\n",
       "      <td>2.449490</td>\n",
       "      <td>3.000000</td>\n",
       "      <td>3.605551</td>\n",
       "      <td>6.557438</td>\n",
       "      <td>5.196152</td>\n",
       "      <td>1.000000</td>\n",
       "      <td>2.645751</td>\n",
       "      <td>2.645751</td>\n",
       "      <td>2.645751</td>\n",
       "      <td>3.464102</td>\n",
       "      <td>...</td>\n",
       "      <td>2.449490</td>\n",
       "      <td>1.732051</td>\n",
       "      <td>3.464102</td>\n",
       "      <td>2.000000</td>\n",
       "      <td>1.732051</td>\n",
       "      <td>3.741657</td>\n",
       "      <td>2.828427</td>\n",
       "      <td>2.828427</td>\n",
       "      <td>3.162278</td>\n",
       "      <td>2.236068</td>\n",
       "    </tr>\n",
       "    <tr>\n",
       "      <th>1</th>\n",
       "      <td>2.828427</td>\n",
       "      <td>3.162278</td>\n",
       "      <td>4.000000</td>\n",
       "      <td>7.071068</td>\n",
       "      <td>5.291502</td>\n",
       "      <td>3.000000</td>\n",
       "      <td>3.000000</td>\n",
       "      <td>2.645751</td>\n",
       "      <td>2.645751</td>\n",
       "      <td>3.872983</td>\n",
       "      <td>...</td>\n",
       "      <td>2.645751</td>\n",
       "      <td>2.645751</td>\n",
       "      <td>4.000000</td>\n",
       "      <td>2.000000</td>\n",
       "      <td>1.732051</td>\n",
       "      <td>4.000000</td>\n",
       "      <td>4.123106</td>\n",
       "      <td>3.316625</td>\n",
       "      <td>3.605551</td>\n",
       "      <td>2.449490</td>\n",
       "    </tr>\n",
       "    <tr>\n",
       "      <th>2</th>\n",
       "      <td>3.000000</td>\n",
       "      <td>4.472136</td>\n",
       "      <td>4.582576</td>\n",
       "      <td>7.141428</td>\n",
       "      <td>5.477226</td>\n",
       "      <td>6.557438</td>\n",
       "      <td>3.000000</td>\n",
       "      <td>3.464102</td>\n",
       "      <td>3.316625</td>\n",
       "      <td>4.000000</td>\n",
       "      <td>...</td>\n",
       "      <td>3.000000</td>\n",
       "      <td>2.828427</td>\n",
       "      <td>4.242640</td>\n",
       "      <td>2.645751</td>\n",
       "      <td>1.732051</td>\n",
       "      <td>4.123106</td>\n",
       "      <td>4.242640</td>\n",
       "      <td>3.605551</td>\n",
       "      <td>3.605551</td>\n",
       "      <td>2.449490</td>\n",
       "    </tr>\n",
       "    <tr>\n",
       "      <th>3</th>\n",
       "      <td>3.605551</td>\n",
       "      <td>6.082763</td>\n",
       "      <td>4.898980</td>\n",
       "      <td>7.348469</td>\n",
       "      <td>5.477226</td>\n",
       "      <td>6.855655</td>\n",
       "      <td>3.162278</td>\n",
       "      <td>3.605551</td>\n",
       "      <td>4.472136</td>\n",
       "      <td>4.242640</td>\n",
       "      <td>...</td>\n",
       "      <td>3.000000</td>\n",
       "      <td>3.000000</td>\n",
       "      <td>4.358899</td>\n",
       "      <td>2.828427</td>\n",
       "      <td>2.000000</td>\n",
       "      <td>4.472136</td>\n",
       "      <td>4.242640</td>\n",
       "      <td>3.872983</td>\n",
       "      <td>3.741657</td>\n",
       "      <td>2.645751</td>\n",
       "    </tr>\n",
       "    <tr>\n",
       "      <th>4</th>\n",
       "      <td>4.242640</td>\n",
       "      <td>6.164414</td>\n",
       "      <td>5.000000</td>\n",
       "      <td>7.416198</td>\n",
       "      <td>5.567764</td>\n",
       "      <td>6.928203</td>\n",
       "      <td>3.316625</td>\n",
       "      <td>3.605551</td>\n",
       "      <td>4.690416</td>\n",
       "      <td>5.830952</td>\n",
       "      <td>...</td>\n",
       "      <td>3.162278</td>\n",
       "      <td>3.000000</td>\n",
       "      <td>4.472136</td>\n",
       "      <td>3.000000</td>\n",
       "      <td>2.236068</td>\n",
       "      <td>4.472136</td>\n",
       "      <td>4.242640</td>\n",
       "      <td>3.872983</td>\n",
       "      <td>4.123106</td>\n",
       "      <td>2.828427</td>\n",
       "    </tr>\n",
       "    <tr>\n",
       "      <th>...</th>\n",
       "      <td>...</td>\n",
       "      <td>...</td>\n",
       "      <td>...</td>\n",
       "      <td>...</td>\n",
       "      <td>...</td>\n",
       "      <td>...</td>\n",
       "      <td>...</td>\n",
       "      <td>...</td>\n",
       "      <td>...</td>\n",
       "      <td>...</td>\n",
       "      <td>...</td>\n",
       "      <td>...</td>\n",
       "      <td>...</td>\n",
       "      <td>...</td>\n",
       "      <td>...</td>\n",
       "      <td>...</td>\n",
       "      <td>...</td>\n",
       "      <td>...</td>\n",
       "      <td>...</td>\n",
       "      <td>...</td>\n",
       "      <td>...</td>\n",
       "    </tr>\n",
       "    <tr>\n",
       "      <th>3078</th>\n",
       "      <td>12.845233</td>\n",
       "      <td>12.000000</td>\n",
       "      <td>12.884099</td>\n",
       "      <td>12.529964</td>\n",
       "      <td>12.727922</td>\n",
       "      <td>13.190906</td>\n",
       "      <td>12.922848</td>\n",
       "      <td>12.124355</td>\n",
       "      <td>13.379088</td>\n",
       "      <td>13.000000</td>\n",
       "      <td>...</td>\n",
       "      <td>13.453624</td>\n",
       "      <td>11.916375</td>\n",
       "      <td>13.527749</td>\n",
       "      <td>12.727922</td>\n",
       "      <td>13.190906</td>\n",
       "      <td>11.832160</td>\n",
       "      <td>13.228757</td>\n",
       "      <td>13.266500</td>\n",
       "      <td>12.649111</td>\n",
       "      <td>12.409674</td>\n",
       "    </tr>\n",
       "    <tr>\n",
       "      <th>3079</th>\n",
       "      <td>12.884099</td>\n",
       "      <td>12.124355</td>\n",
       "      <td>12.922848</td>\n",
       "      <td>12.529964</td>\n",
       "      <td>12.767145</td>\n",
       "      <td>13.266500</td>\n",
       "      <td>13.000000</td>\n",
       "      <td>12.124355</td>\n",
       "      <td>13.379088</td>\n",
       "      <td>13.000000</td>\n",
       "      <td>...</td>\n",
       "      <td>13.490738</td>\n",
       "      <td>12.083046</td>\n",
       "      <td>13.564660</td>\n",
       "      <td>12.845233</td>\n",
       "      <td>13.190906</td>\n",
       "      <td>11.874342</td>\n",
       "      <td>13.228757</td>\n",
       "      <td>13.304134</td>\n",
       "      <td>12.688578</td>\n",
       "      <td>12.449900</td>\n",
       "    </tr>\n",
       "    <tr>\n",
       "      <th>3080</th>\n",
       "      <td>12.884099</td>\n",
       "      <td>12.206555</td>\n",
       "      <td>12.922848</td>\n",
       "      <td>12.609520</td>\n",
       "      <td>12.767145</td>\n",
       "      <td>13.379088</td>\n",
       "      <td>13.038404</td>\n",
       "      <td>12.165525</td>\n",
       "      <td>13.379088</td>\n",
       "      <td>13.000000</td>\n",
       "      <td>...</td>\n",
       "      <td>13.490738</td>\n",
       "      <td>12.083046</td>\n",
       "      <td>13.638182</td>\n",
       "      <td>12.845233</td>\n",
       "      <td>13.266500</td>\n",
       "      <td>11.958261</td>\n",
       "      <td>13.228757</td>\n",
       "      <td>13.304134</td>\n",
       "      <td>12.727922</td>\n",
       "      <td>12.489996</td>\n",
       "    </tr>\n",
       "    <tr>\n",
       "      <th>3081</th>\n",
       "      <td>12.884099</td>\n",
       "      <td>12.369317</td>\n",
       "      <td>12.961481</td>\n",
       "      <td>12.609520</td>\n",
       "      <td>12.767145</td>\n",
       "      <td>13.379088</td>\n",
       "      <td>13.038404</td>\n",
       "      <td>12.328828</td>\n",
       "      <td>13.416408</td>\n",
       "      <td>13.000000</td>\n",
       "      <td>...</td>\n",
       "      <td>13.490738</td>\n",
       "      <td>12.124355</td>\n",
       "      <td>13.674794</td>\n",
       "      <td>13.114877</td>\n",
       "      <td>13.304134</td>\n",
       "      <td>11.958261</td>\n",
       "      <td>13.228757</td>\n",
       "      <td>13.304134</td>\n",
       "      <td>12.727922</td>\n",
       "      <td>12.569805</td>\n",
       "    </tr>\n",
       "    <tr>\n",
       "      <th>3082</th>\n",
       "      <td>12.884099</td>\n",
       "      <td>12.369317</td>\n",
       "      <td>12.961481</td>\n",
       "      <td>12.767145</td>\n",
       "      <td>12.767145</td>\n",
       "      <td>13.453624</td>\n",
       "      <td>13.076696</td>\n",
       "      <td>12.489996</td>\n",
       "      <td>13.490738</td>\n",
       "      <td>13.304134</td>\n",
       "      <td>...</td>\n",
       "      <td>13.490738</td>\n",
       "      <td>12.124355</td>\n",
       "      <td>13.674794</td>\n",
       "      <td>13.190906</td>\n",
       "      <td>13.304134</td>\n",
       "      <td>12.041595</td>\n",
       "      <td>13.228757</td>\n",
       "      <td>13.304134</td>\n",
       "      <td>12.961481</td>\n",
       "      <td>12.806249</td>\n",
       "    </tr>\n",
       "  </tbody>\n",
       "</table>\n",
       "<p>3083 rows × 771 columns</p>\n",
       "</div>"
      ],
      "text/plain": [
       "            0          1          2          3          4          5    \\\n",
       "0      2.449490   3.000000   3.605551   6.557438   5.196152   1.000000   \n",
       "1      2.828427   3.162278   4.000000   7.071068   5.291502   3.000000   \n",
       "2      3.000000   4.472136   4.582576   7.141428   5.477226   6.557438   \n",
       "3      3.605551   6.082763   4.898980   7.348469   5.477226   6.855655   \n",
       "4      4.242640   6.164414   5.000000   7.416198   5.567764   6.928203   \n",
       "...         ...        ...        ...        ...        ...        ...   \n",
       "3078  12.845233  12.000000  12.884099  12.529964  12.727922  13.190906   \n",
       "3079  12.884099  12.124355  12.922848  12.529964  12.767145  13.266500   \n",
       "3080  12.884099  12.206555  12.922848  12.609520  12.767145  13.379088   \n",
       "3081  12.884099  12.369317  12.961481  12.609520  12.767145  13.379088   \n",
       "3082  12.884099  12.369317  12.961481  12.767145  12.767145  13.453624   \n",
       "\n",
       "            6          7          8          9    ...        761        762  \\\n",
       "0      2.645751   2.645751   2.645751   3.464102  ...   2.449490   1.732051   \n",
       "1      3.000000   2.645751   2.645751   3.872983  ...   2.645751   2.645751   \n",
       "2      3.000000   3.464102   3.316625   4.000000  ...   3.000000   2.828427   \n",
       "3      3.162278   3.605551   4.472136   4.242640  ...   3.000000   3.000000   \n",
       "4      3.316625   3.605551   4.690416   5.830952  ...   3.162278   3.000000   \n",
       "...         ...        ...        ...        ...  ...        ...        ...   \n",
       "3078  12.922848  12.124355  13.379088  13.000000  ...  13.453624  11.916375   \n",
       "3079  13.000000  12.124355  13.379088  13.000000  ...  13.490738  12.083046   \n",
       "3080  13.038404  12.165525  13.379088  13.000000  ...  13.490738  12.083046   \n",
       "3081  13.038404  12.328828  13.416408  13.000000  ...  13.490738  12.124355   \n",
       "3082  13.076696  12.489996  13.490738  13.304134  ...  13.490738  12.124355   \n",
       "\n",
       "            763        764        765        766        767        768  \\\n",
       "0      3.464102   2.000000   1.732051   3.741657   2.828427   2.828427   \n",
       "1      4.000000   2.000000   1.732051   4.000000   4.123106   3.316625   \n",
       "2      4.242640   2.645751   1.732051   4.123106   4.242640   3.605551   \n",
       "3      4.358899   2.828427   2.000000   4.472136   4.242640   3.872983   \n",
       "4      4.472136   3.000000   2.236068   4.472136   4.242640   3.872983   \n",
       "...         ...        ...        ...        ...        ...        ...   \n",
       "3078  13.527749  12.727922  13.190906  11.832160  13.228757  13.266500   \n",
       "3079  13.564660  12.845233  13.190906  11.874342  13.228757  13.304134   \n",
       "3080  13.638182  12.845233  13.266500  11.958261  13.228757  13.304134   \n",
       "3081  13.674794  13.114877  13.304134  11.958261  13.228757  13.304134   \n",
       "3082  13.674794  13.190906  13.304134  12.041595  13.228757  13.304134   \n",
       "\n",
       "            769        770  \n",
       "0      3.162278   2.236068  \n",
       "1      3.605551   2.449490  \n",
       "2      3.605551   2.449490  \n",
       "3      3.741657   2.645751  \n",
       "4      4.123106   2.828427  \n",
       "...         ...        ...  \n",
       "3078  12.649111  12.409674  \n",
       "3079  12.688578  12.449900  \n",
       "3080  12.727922  12.489996  \n",
       "3081  12.727922  12.569805  \n",
       "3082  12.961481  12.806249  \n",
       "\n",
       "[3083 rows x 771 columns]"
      ]
     },
     "execution_count": 91,
     "metadata": {},
     "output_type": "execute_result"
    }
   ],
   "source": [
    "x_ts_AD=pd.DataFrame(neighbors_k_ts)\n",
    "x_ts_AD"
   ]
  },
  {
   "cell_type": "code",
   "execution_count": 92,
   "metadata": {},
   "outputs": [
    {
     "name": "stdout",
     "output_type": "stream",
     "text": [
      "[2.449 3.    3.606 6.557 5.196 1.    2.646 2.646 2.646 3.464 3.317 2.449\n",
      " 5.568 2.    2.646 2.646 2.449 5.099 3.606 3.317 4.123 2.828 5.477 2.\n",
      " 6.245 4.    2.236 5.568 3.162 3.873 4.123 7.071 3.873 3.    2.236 1.732\n",
      " 4.359 2.646 2.    4.583 5.    3.    3.464 4.69  3.606 2.828 3.464 2.449\n",
      " 2.    1.    3.606 2.646 4.899 4.    3.742 1.732 2.646 2.646 5.657 3.\n",
      " 2.828 2.646 3.606 2.646 3.742 4.123 3.162 2.646 1.732 2.646 2.449 1.\n",
      " 2.449 4.899 2.    1.414 3.    2.646 6.164 3.    1.    3.317 5.    1.732\n",
      " 4.69  2.646 1.414 1.414 4.583 1.414 3.    2.449 3.162 2.    2.828 6.403\n",
      " 5.196 3.464 2.236 3.873 2.449 5.831 2.    2.646 4.243 4.123 2.    2.828\n",
      " 2.646 3.162 2.449 2.646 3.162 3.    3.873 3.    3.464 2.    2.236 2.449\n",
      " 3.    1.    3.162 3.162 3.317 2.646 3.    2.828 3.162 3.742 2.646 1.414\n",
      " 2.449 1.732 6.403 2.449 2.449 3.606 2.    1.414 3.162 2.    3.317 0.\n",
      " 4.243 2.236 1.732 1.732 3.742 1.    2.646 0.    2.449 4.359 4.359 2.236\n",
      " 1.732 1.732 4.    1.732 3.464 2.449 3.162 0.    2.    1.732 3.464 3.873\n",
      " 2.828 1.732 2.449 3.162 2.646 3.317 0.    3.317 2.646 6.403 3.606 4.899\n",
      " 2.449 1.    3.606 2.828 3.317 2.    6.245 3.    3.873 2.449 3.    2.449\n",
      " 1.    3.162 5.196 1.    2.    2.236 2.646 2.    2.    4.472 3.162 0.\n",
      " 2.236 2.828 3.162 3.    2.646 1.732 3.    1.414 2.646 3.606 3.162 3.464\n",
      " 3.317 0.    3.464 3.162 2.449 4.    1.414 1.    1.732 3.162 1.414 3.606\n",
      " 2.449 3.162 2.828 3.742 1.732 2.828 2.646 2.646 3.317 1.414 2.236 1.732\n",
      " 2.236 2.236 3.    3.317 3.    0.    2.828 2.646 0.    0.    5.292 2.\n",
      " 3.162 3.162 2.828 1.    3.    3.    4.472 3.162 3.464 3.    1.414 2.\n",
      " 0.    2.828 0.    4.359 1.732 3.464 2.    3.317 4.583 1.    3.162 2.646\n",
      " 4.899 2.646 0.    1.732 0.    2.449 3.742 3.873 2.    3.317 2.828 3.606\n",
      " 2.236 2.646 1.    2.    4.    2.    2.    2.449 3.873 2.828 2.828 3.317\n",
      " 1.732 4.123 1.    4.123 4.472 1.732 2.    4.    2.828 2.    3.162 3.317\n",
      " 3.317 1.414 1.732 1.732 1.    1.732 2.236 4.359 1.732 1.    6.708 3.742\n",
      " 1.    2.    4.    4.    2.828 2.646 2.    4.243 2.    4.583 2.449 1.414\n",
      " 2.449 2.449 5.477 4.123 2.    3.162 1.732 2.828 1.    1.732 1.732 4.243\n",
      " 2.    2.449 3.162 4.583 7.746 3.162 5.657 3.464 2.828 1.414 2.646 1.\n",
      " 1.732 6.083 6.403 4.    3.606 3.873 0.    3.162 1.732 1.414 3.162 1.732\n",
      " 2.    4.243 2.828 3.162 2.449 3.742 2.    3.162 2.    4.472 3.873 0.\n",
      " 0.    2.646 1.732 1.732 1.732 4.243 1.414 1.414 2.449 3.    0.    2.828\n",
      " 1.732 2.449 4.123 1.732 2.    1.414 3.317 2.    3.742 3.742 0.    2.449\n",
      " 4.583 3.    1.732 3.873 2.236 2.449 2.    2.828 3.    3.606 2.449 1.414\n",
      " 4.123 9.22  2.236 1.    3.742 3.162 3.162 5.    2.646 1.732 1.732 2.\n",
      " 1.    2.646 3.464 2.646 1.414 3.606 2.449 3.    4.123 2.449 2.    3.606\n",
      " 4.583 2.236 3.162 4.796 1.414 2.449 2.    1.414 4.899 3.742 3.162 3.606\n",
      " 3.873 0.    4.    1.414 1.    2.    1.732 1.732 1.    2.    1.732 4.472\n",
      " 2.646 4.359 5.099 1.732 1.    2.646 1.414 3.873 1.732 2.449 1.732 4.\n",
      " 4.583 3.    1.414 1.    3.    2.646 1.732 3.162 2.236 2.646 2.449 2.\n",
      " 1.732 2.    1.414 1.732 2.646 2.449 2.646 2.    2.646 5.292 4.796 1.732\n",
      " 1.732 2.449 2.828 3.464 2.828 2.236 1.    2.236 1.414 2.449 1.    2.\n",
      " 4.    3.162 3.162 1.732 3.464 1.414 3.317 3.742 3.    2.449 1.732 5.568\n",
      " 2.236 1.414 2.449 4.123 2.646 2.    2.236 2.236 1.732 2.236 5.    3.464\n",
      " 3.317 3.606 3.317 1.732 2.449 2.828 3.    4.472 3.162 3.162 1.732 2.828\n",
      " 2.    2.236 1.414 2.236 0.    1.    3.606 4.    1.732 1.732 0.    5.831\n",
      " 3.    1.732 1.732 1.414 1.    2.    2.646 1.732 2.236 3.742 2.    1.414\n",
      " 2.449 1.    3.606 2.236 2.    1.414 2.    3.317 3.464 1.414 1.414 4.583\n",
      " 2.236 2.449 3.464 5.568 5.196 1.414 3.873 3.742 1.732 1.732 2.236 2.449\n",
      " 1.    3.317 2.646 4.    3.    3.162 1.414 2.    3.742 1.414 2.646 2.449\n",
      " 3.464 2.828 5.657 1.732 3.464 2.236 2.236 5.196 5.    4.123 3.317 3.464\n",
      " 3.606 2.646 1.732 2.236 2.449 1.414 2.    2.646 2.828 1.732 2.    3.464\n",
      " 3.    3.742 1.732 1.414 2.828 0.    2.449 1.    2.236 1.732 1.    2.\n",
      " 5.099 2.828 2.236 1.732 1.732 4.796 1.414 1.    0.    2.646 2.449 4.472\n",
      " 2.236 3.464 2.828 4.123 0.    2.449 2.236 2.236 1.414 4.899 4.899 3.\n",
      " 2.646 2.449 1.414 2.    2.828 2.646 3.162 1.    3.606 2.236 4.796 1.414\n",
      " 3.317 2.646 1.414 2.236 4.243 1.732 3.317 1.414 3.464 2.646 1.414 1.\n",
      " 3.    4.796 1.414 0.    1.414 3.162 2.449 3.464 3.    2.    2.236 1.732\n",
      " 3.464 2.    2.    4.899 0.    2.646 4.243 0.    0.    3.    3.162 2.449\n",
      " 0.    1.732 2.828 1.    2.    2.449 3.464 2.449 2.449 3.606 3.162 1.\n",
      " 1.732 3.    3.162 3.317 2.    3.    3.742 4.472 2.449 1.    2.    5.292\n",
      " 0.    2.449 3.464 3.    2.828 0.    3.    1.732 1.    2.236 3.    2.449\n",
      " 3.873 4.    0.    3.    2.646 2.449 1.732 3.464 2.    1.732 3.742 2.828\n",
      " 2.828 3.162 2.236]\n"
     ]
    }
   ],
   "source": [
    "similarity_ts= neighbors_k_ts\n",
    "cpd_AD=similarity_ts[0,:]\n",
    "cpd_value = np.round(cpd_AD, 3)\n",
    "print(cpd_value)"
   ]
  },
  {
   "cell_type": "code",
   "execution_count": 93,
   "metadata": {},
   "outputs": [
    {
     "name": "stdout",
     "output_type": "stream",
     "text": [
      "[ True  True False False False  True  True  True  True False  True  True\n",
      " False  True  True  True  True False False  True False  True False  True\n",
      " False False  True False  True False False False False  True  True  True\n",
      " False  True  True False False  True False False False  True False  True\n",
      "  True  True False  True False False False  True  True  True False  True\n",
      "  True  True False  True False False  True  True  True  True  True  True\n",
      "  True False  True  True  True  True False  True  True  True False  True\n",
      " False  True  True  True False  True  True  True  True  True  True False\n",
      " False False  True False  True False  True  True False False  True  True\n",
      "  True  True  True  True  True  True False  True False  True  True  True\n",
      "  True  True  True  True  True  True  True  True  True False  True  True\n",
      "  True  True False  True  True False  True  True  True  True  True  True\n",
      " False  True  True  True False  True  True  True  True False False  True\n",
      "  True  True False  True False  True  True  True  True  True False False\n",
      "  True  True  True  True  True  True  True  True  True False False False\n",
      "  True  True False  True  True  True False  True False  True  True  True\n",
      "  True  True False  True  True  True  True  True  True False  True  True\n",
      "  True  True  True  True  True  True  True  True  True False  True False\n",
      "  True  True False  True  True False  True  True  True  True  True False\n",
      "  True  True  True False  True  True  True  True  True  True  True  True\n",
      "  True  True  True  True  True  True  True  True  True  True False  True\n",
      "  True  True  True  True  True  True False  True False  True  True  True\n",
      "  True  True  True False  True False  True  True False  True  True  True\n",
      " False  True  True  True  True  True False False  True  True  True False\n",
      "  True  True  True  True False  True  True  True False  True  True  True\n",
      "  True False  True False False  True  True False  True  True  True  True\n",
      "  True  True  True  True  True  True  True False  True  True False False\n",
      "  True  True False False  True  True  True False  True False  True  True\n",
      "  True  True False False  True  True  True  True  True  True  True False\n",
      "  True  True  True False False  True False False  True  True  True  True\n",
      "  True False False False False False  True  True  True  True  True  True\n",
      "  True False  True  True  True False  True  True  True False False  True\n",
      "  True  True  True  True  True False  True  True  True  True  True  True\n",
      "  True  True False  True  True  True  True  True False False  True  True\n",
      " False  True  True False  True  True  True  True  True False  True  True\n",
      " False False  True  True False  True  True False  True  True  True  True\n",
      "  True  True False  True  True False  True  True False  True  True False\n",
      " False  True  True False  True  True  True  True False False  True False\n",
      " False  True False  True  True  True  True  True  True  True  True False\n",
      "  True False False  True  True  True  True False  True  True  True False\n",
      " False  True  True  True  True  True  True  True  True  True  True  True\n",
      "  True  True  True  True  True  True  True  True  True False False  True\n",
      "  True  True  True False  True  True  True  True  True  True  True  True\n",
      " False  True  True  True False  True  True False  True  True  True False\n",
      "  True  True  True False  True  True  True  True  True  True False False\n",
      "  True False  True  True  True  True  True False  True  True  True  True\n",
      "  True  True  True  True  True  True False False  True  True  True False\n",
      "  True  True  True  True  True  True  True  True  True False  True  True\n",
      "  True  True False  True  True  True  True  True False  True  True False\n",
      "  True  True False False False  True False False  True  True  True  True\n",
      "  True  True  True False  True  True  True  True False  True  True  True\n",
      " False  True False  True False  True  True False False False  True False\n",
      " False  True  True  True  True  True  True  True  True  True  True False\n",
      "  True False  True  True  True  True  True  True  True  True  True  True\n",
      " False  True  True  True  True False  True  True  True  True  True False\n",
      "  True False  True False  True  True  True  True  True False False  True\n",
      "  True  True  True  True  True  True  True  True False  True False  True\n",
      "  True  True  True  True False  True  True  True False  True  True  True\n",
      "  True False  True  True  True  True  True False  True  True  True  True\n",
      " False  True  True False  True  True False  True  True  True  True  True\n",
      "  True  True  True  True  True  True False  True  True False  True  True\n",
      "  True  True  True  True  True  True False False  True  True  True False\n",
      "  True  True False  True  True  True  True  True  True  True  True  True\n",
      " False False  True  True  True  True  True False  True  True False  True\n",
      "  True  True  True]\n"
     ]
    }
   ],
   "source": [
    "cpd_AD = np.where(cpd_value <= model_AD_limit, True, False)\n",
    "print(cpd_AD)"
   ]
  },
  {
   "cell_type": "code",
   "execution_count": 94,
   "metadata": {},
   "outputs": [
    {
     "name": "stdout",
     "output_type": "stream",
     "text": [
      "Coverage =  0.74\n"
     ]
    }
   ],
   "source": [
    "print(\"Coverage = \", round(sum(cpd_AD) / len(cpd_AD), 2))"
   ]
  },
  {
   "cell_type": "code",
   "execution_count": 95,
   "metadata": {},
   "outputs": [
    {
     "name": "stdout",
     "output_type": "stream",
     "text": [
      "Indices of substances included in AD =  [  0   1   5   6   7   8  10  11  13  14  15  16  19  21  23  26  28  33\n",
      "  34  35  37  38  41  45  47  48  49  51  55  56  57  59  60  61  63  66\n",
      "  67  68  69  70  71  72  74  75  76  77  79  80  81  83  85  86  87  89\n",
      "  90  91  92  93  94  98 100 102 103 106 107 108 109 110 111 112 113 115\n",
      " 117 118 119 120 121 122 123 124 125 126 127 128 130 131 132 133 135 136\n",
      " 138 139 140 141 142 143 145 146 147 149 150 151 152 155 156 157 159 161\n",
      " 162 163 164 165 168 169 170 171 172 173 174 175 176 180 181 183 184 185\n",
      " 187 189 190 191 192 193 195 196 197 198 199 200 202 203 204 205 206 207\n",
      " 208 209 210 211 212 214 216 217 219 220 222 223 224 225 226 228 229 230\n",
      " 232 233 234 235 236 237 238 239 240 241 242 243 244 245 246 247 248 249\n",
      " 251 252 253 254 255 256 257 259 261 262 263 264 265 266 268 270 271 273\n",
      " 274 275 277 278 279 280 281 284 285 286 288 289 290 291 293 294 295 297\n",
      " 298 299 300 302 305 306 308 309 310 311 312 313 314 315 316 317 318 320\n",
      " 321 324 325 328 329 330 332 334 335 336 337 340 341 342 343 344 345 346\n",
      " 348 349 350 353 356 357 358 359 360 366 367 368 369 370 371 372 374 375\n",
      " 376 378 379 380 383 384 385 386 387 388 390 391 392 393 394 395 396 397\n",
      " 399 400 401 402 403 406 407 409 410 412 413 414 415 416 418 419 422 423\n",
      " 425 426 428 429 430 431 432 433 435 436 438 439 441 442 445 446 448 449\n",
      " 450 451 454 457 459 460 461 462 463 464 465 466 468 471 472 473 474 476\n",
      " 477 478 481 482 483 484 485 486 487 488 489 490 491 492 493 494 495 496\n",
      " 497 498 499 500 503 504 505 506 508 509 510 511 512 513 514 515 517 518\n",
      " 519 521 522 524 525 526 528 529 530 532 533 534 535 536 537 540 542 543\n",
      " 544 545 546 548 549 550 551 552 553 554 555 556 557 560 561 562 564 565\n",
      " 566 567 568 569 570 571 572 574 575 576 577 579 580 581 582 583 585 586\n",
      " 588 589 593 596 597 598 599 600 601 602 604 605 606 607 609 610 611 613\n",
      " 615 617 618 622 625 626 627 628 629 630 631 632 633 634 636 638 639 640\n",
      " 641 642 643 644 645 646 647 649 650 651 652 654 655 656 657 658 660 662\n",
      " 664 665 666 667 668 671 672 673 674 675 676 677 678 679 681 683 684 685\n",
      " 686 687 689 690 691 693 694 695 696 698 699 700 701 702 704 705 706 707\n",
      " 709 710 712 713 715 716 717 718 719 720 721 722 723 724 725 727 728 730\n",
      " 731 732 733 734 735 736 737 740 741 742 744 745 747 748 749 750 751 752\n",
      " 753 754 755 758 759 760 761 762 764 765 767 768 769 770]\n"
     ]
    }
   ],
   "source": [
    "print(\"Indices of substances included in AD = \", np.where(cpd_AD != 0)[0])"
   ]
  },
  {
   "cell_type": "code",
   "execution_count": 96,
   "metadata": {},
   "outputs": [],
   "source": [
    "out_Ad=list(np.where(cpd_AD == 0)[0])"
   ]
  },
  {
   "cell_type": "markdown",
   "metadata": {},
   "source": [
    "# 12. Prediction only for molecules included in  AD"
   ]
  },
  {
   "cell_type": "code",
   "execution_count": 97,
   "metadata": {},
   "outputs": [],
   "source": [
    "y_pred_svm_ad=list(y_pred_svm)"
   ]
  },
  {
   "cell_type": "code",
   "execution_count": 98,
   "metadata": {},
   "outputs": [],
   "source": [
    "y_pred_svm_ad[:] = [x for i,x in enumerate(y_pred_svm_ad) if i not in out_Ad]"
   ]
  },
  {
   "cell_type": "code",
   "execution_count": 99,
   "metadata": {},
   "outputs": [
    {
     "data": {
      "text/plain": [
       "572"
      ]
     },
     "execution_count": 99,
     "metadata": {},
     "output_type": "execute_result"
    }
   ],
   "source": [
    "len(y_pred_svm_ad)"
   ]
  },
  {
   "cell_type": "code",
   "execution_count": 100,
   "metadata": {},
   "outputs": [],
   "source": [
    "y_ts_ad=list(y_ts)"
   ]
  },
  {
   "cell_type": "code",
   "execution_count": 101,
   "metadata": {},
   "outputs": [],
   "source": [
    "y_ts_ad[:] = [x for i,x in enumerate(y_ts_ad) if i not in out_Ad]"
   ]
  },
  {
   "cell_type": "code",
   "execution_count": 102,
   "metadata": {},
   "outputs": [
    {
     "data": {
      "text/plain": [
       "572"
      ]
     },
     "execution_count": 102,
     "metadata": {},
     "output_type": "execute_result"
    }
   ],
   "source": [
    "len(y_ts_ad)"
   ]
  },
  {
   "cell_type": "code",
   "execution_count": 103,
   "metadata": {},
   "outputs": [
    {
     "data": {
      "text/plain": [
       "0.73"
      ]
     },
     "execution_count": 103,
     "metadata": {},
     "output_type": "execute_result"
    }
   ],
   "source": [
    "Q2_TS = round(r2_score(y_ts_ad, y_pred_svm_ad), 2)\n",
    "Q2_TS"
   ]
  },
  {
   "cell_type": "code",
   "execution_count": 104,
   "metadata": {},
   "outputs": [
    {
     "data": {
      "text/plain": [
       "0.65"
      ]
     },
     "execution_count": 104,
     "metadata": {},
     "output_type": "execute_result"
    }
   ],
   "source": [
    "RMSE_TS=round(np.sqrt(mean_absolute_error(y_ts_ad, y_pred_svm_ad)), 2)\n",
    "RMSE_TS"
   ]
  },
  {
   "cell_type": "code",
   "execution_count": null,
   "metadata": {},
   "outputs": [],
   "source": []
  },
  {
   "cell_type": "markdown",
   "metadata": {},
   "source": [
    "# Multi-layer Perceptron regressor"
   ]
  },
  {
   "cell_type": "code",
   "execution_count": 25,
   "metadata": {},
   "outputs": [],
   "source": [
    "from sklearn.neural_network import MLPRegressor"
   ]
  },
  {
   "cell_type": "code",
   "execution_count": 26,
   "metadata": {},
   "outputs": [],
   "source": [
    "seed = 42\n",
    "cv=KFold(n_splits=5, random_state=seed, shuffle=True)"
   ]
  },
  {
   "cell_type": "code",
   "execution_count": 27,
   "metadata": {},
   "outputs": [],
   "source": [
    "param_grid ={\"hidden_layer_sizes\": [(400, 300, 200, 100), (10, 10)], \"activation\": [\"tanh\", \"relu\"], \"solver\": [\"sgd\", \"adam\"],  'max_iter': [2000]}"
   ]
  },
  {
   "cell_type": "code",
   "execution_count": 28,
   "metadata": {},
   "outputs": [],
   "source": [
    "m = GridSearchCV(MLPRegressor(), param_grid, n_jobs=-1, cv=cv, verbose=1)"
   ]
  },
  {
   "cell_type": "code",
   "execution_count": 29,
   "metadata": {},
   "outputs": [
    {
     "name": "stdout",
     "output_type": "stream",
     "text": [
      "Fitting 5 folds for each of 8 candidates, totalling 40 fits\n"
     ]
    },
    {
     "data": {
      "text/html": [
       "<style>#sk-container-id-1 {color: black;}#sk-container-id-1 pre{padding: 0;}#sk-container-id-1 div.sk-toggleable {background-color: white;}#sk-container-id-1 label.sk-toggleable__label {cursor: pointer;display: block;width: 100%;margin-bottom: 0;padding: 0.3em;box-sizing: border-box;text-align: center;}#sk-container-id-1 label.sk-toggleable__label-arrow:before {content: \"▸\";float: left;margin-right: 0.25em;color: #696969;}#sk-container-id-1 label.sk-toggleable__label-arrow:hover:before {color: black;}#sk-container-id-1 div.sk-estimator:hover label.sk-toggleable__label-arrow:before {color: black;}#sk-container-id-1 div.sk-toggleable__content {max-height: 0;max-width: 0;overflow: hidden;text-align: left;background-color: #f0f8ff;}#sk-container-id-1 div.sk-toggleable__content pre {margin: 0.2em;color: black;border-radius: 0.25em;background-color: #f0f8ff;}#sk-container-id-1 input.sk-toggleable__control:checked~div.sk-toggleable__content {max-height: 200px;max-width: 100%;overflow: auto;}#sk-container-id-1 input.sk-toggleable__control:checked~label.sk-toggleable__label-arrow:before {content: \"▾\";}#sk-container-id-1 div.sk-estimator input.sk-toggleable__control:checked~label.sk-toggleable__label {background-color: #d4ebff;}#sk-container-id-1 div.sk-label input.sk-toggleable__control:checked~label.sk-toggleable__label {background-color: #d4ebff;}#sk-container-id-1 input.sk-hidden--visually {border: 0;clip: rect(1px 1px 1px 1px);clip: rect(1px, 1px, 1px, 1px);height: 1px;margin: -1px;overflow: hidden;padding: 0;position: absolute;width: 1px;}#sk-container-id-1 div.sk-estimator {font-family: monospace;background-color: #f0f8ff;border: 1px dotted black;border-radius: 0.25em;box-sizing: border-box;margin-bottom: 0.5em;}#sk-container-id-1 div.sk-estimator:hover {background-color: #d4ebff;}#sk-container-id-1 div.sk-parallel-item::after {content: \"\";width: 100%;border-bottom: 1px solid gray;flex-grow: 1;}#sk-container-id-1 div.sk-label:hover label.sk-toggleable__label {background-color: #d4ebff;}#sk-container-id-1 div.sk-serial::before {content: \"\";position: absolute;border-left: 1px solid gray;box-sizing: border-box;top: 0;bottom: 0;left: 50%;z-index: 0;}#sk-container-id-1 div.sk-serial {display: flex;flex-direction: column;align-items: center;background-color: white;padding-right: 0.2em;padding-left: 0.2em;position: relative;}#sk-container-id-1 div.sk-item {position: relative;z-index: 1;}#sk-container-id-1 div.sk-parallel {display: flex;align-items: stretch;justify-content: center;background-color: white;position: relative;}#sk-container-id-1 div.sk-item::before, #sk-container-id-1 div.sk-parallel-item::before {content: \"\";position: absolute;border-left: 1px solid gray;box-sizing: border-box;top: 0;bottom: 0;left: 50%;z-index: -1;}#sk-container-id-1 div.sk-parallel-item {display: flex;flex-direction: column;z-index: 1;position: relative;background-color: white;}#sk-container-id-1 div.sk-parallel-item:first-child::after {align-self: flex-end;width: 50%;}#sk-container-id-1 div.sk-parallel-item:last-child::after {align-self: flex-start;width: 50%;}#sk-container-id-1 div.sk-parallel-item:only-child::after {width: 0;}#sk-container-id-1 div.sk-dashed-wrapped {border: 1px dashed gray;margin: 0 0.4em 0.5em 0.4em;box-sizing: border-box;padding-bottom: 0.4em;background-color: white;}#sk-container-id-1 div.sk-label label {font-family: monospace;font-weight: bold;display: inline-block;line-height: 1.2em;}#sk-container-id-1 div.sk-label-container {text-align: center;}#sk-container-id-1 div.sk-container {/* jupyter's `normalize.less` sets `[hidden] { display: none; }` but bootstrap.min.css set `[hidden] { display: none !important; }` so we also need the `!important` here to be able to override the default hidden behavior on the sphinx rendered scikit-learn.org. See: https://github.com/scikit-learn/scikit-learn/issues/21755 */display: inline-block !important;position: relative;}#sk-container-id-1 div.sk-text-repr-fallback {display: none;}</style><div id=\"sk-container-id-1\" class=\"sk-top-container\"><div class=\"sk-text-repr-fallback\"><pre>GridSearchCV(cv=KFold(n_splits=5, random_state=42, shuffle=True),\n",
       "             estimator=MLPRegressor(), n_jobs=-1,\n",
       "             param_grid={&#x27;activation&#x27;: [&#x27;tanh&#x27;, &#x27;relu&#x27;],\n",
       "                         &#x27;hidden_layer_sizes&#x27;: [(400, 300, 200, 100), (10, 10)],\n",
       "                         &#x27;max_iter&#x27;: [2000], &#x27;solver&#x27;: [&#x27;sgd&#x27;, &#x27;adam&#x27;]},\n",
       "             verbose=1)</pre><b>In a Jupyter environment, please rerun this cell to show the HTML representation or trust the notebook. <br />On GitHub, the HTML representation is unable to render, please try loading this page with nbviewer.org.</b></div><div class=\"sk-container\" hidden><div class=\"sk-item sk-dashed-wrapped\"><div class=\"sk-label-container\"><div class=\"sk-label sk-toggleable\"><input class=\"sk-toggleable__control sk-hidden--visually\" id=\"sk-estimator-id-1\" type=\"checkbox\" ><label for=\"sk-estimator-id-1\" class=\"sk-toggleable__label sk-toggleable__label-arrow\">GridSearchCV</label><div class=\"sk-toggleable__content\"><pre>GridSearchCV(cv=KFold(n_splits=5, random_state=42, shuffle=True),\n",
       "             estimator=MLPRegressor(), n_jobs=-1,\n",
       "             param_grid={&#x27;activation&#x27;: [&#x27;tanh&#x27;, &#x27;relu&#x27;],\n",
       "                         &#x27;hidden_layer_sizes&#x27;: [(400, 300, 200, 100), (10, 10)],\n",
       "                         &#x27;max_iter&#x27;: [2000], &#x27;solver&#x27;: [&#x27;sgd&#x27;, &#x27;adam&#x27;]},\n",
       "             verbose=1)</pre></div></div></div><div class=\"sk-parallel\"><div class=\"sk-parallel-item\"><div class=\"sk-item\"><div class=\"sk-label-container\"><div class=\"sk-label sk-toggleable\"><input class=\"sk-toggleable__control sk-hidden--visually\" id=\"sk-estimator-id-2\" type=\"checkbox\" ><label for=\"sk-estimator-id-2\" class=\"sk-toggleable__label sk-toggleable__label-arrow\">estimator: MLPRegressor</label><div class=\"sk-toggleable__content\"><pre>MLPRegressor()</pre></div></div></div><div class=\"sk-serial\"><div class=\"sk-item\"><div class=\"sk-estimator sk-toggleable\"><input class=\"sk-toggleable__control sk-hidden--visually\" id=\"sk-estimator-id-3\" type=\"checkbox\" ><label for=\"sk-estimator-id-3\" class=\"sk-toggleable__label sk-toggleable__label-arrow\">MLPRegressor</label><div class=\"sk-toggleable__content\"><pre>MLPRegressor()</pre></div></div></div></div></div></div></div></div></div></div>"
      ],
      "text/plain": [
       "GridSearchCV(cv=KFold(n_splits=5, random_state=42, shuffle=True),\n",
       "             estimator=MLPRegressor(), n_jobs=-1,\n",
       "             param_grid={'activation': ['tanh', 'relu'],\n",
       "                         'hidden_layer_sizes': [(400, 300, 200, 100), (10, 10)],\n",
       "                         'max_iter': [2000], 'solver': ['sgd', 'adam']},\n",
       "             verbose=1)"
      ]
     },
     "execution_count": 29,
     "metadata": {},
     "output_type": "execute_result"
    }
   ],
   "source": [
    "m.fit(x_tr, y_tr)"
   ]
  },
  {
   "cell_type": "code",
   "execution_count": 30,
   "metadata": {},
   "outputs": [],
   "source": [
    "best_MLPR = m.best_estimator_"
   ]
  },
  {
   "cell_type": "code",
   "execution_count": 31,
   "metadata": {},
   "outputs": [
    {
     "data": {
      "text/plain": [
       "{'activation': 'relu',\n",
       " 'hidden_layer_sizes': (400, 300, 200, 100),\n",
       " 'max_iter': 2000,\n",
       " 'solver': 'sgd'}"
      ]
     },
     "execution_count": 31,
     "metadata": {},
     "output_type": "execute_result"
    }
   ],
   "source": [
    "m.best_params_"
   ]
  },
  {
   "cell_type": "code",
   "execution_count": 32,
   "metadata": {},
   "outputs": [],
   "source": [
    "y_pred_ws_MLPR = best_MLPR.predict(x_tr)"
   ]
  },
  {
   "cell_type": "code",
   "execution_count": 33,
   "metadata": {},
   "outputs": [
    {
     "data": {
      "text/plain": [
       "0.98"
      ]
     },
     "execution_count": 33,
     "metadata": {},
     "output_type": "execute_result"
    }
   ],
   "source": [
    "R2_WS = round(r2_score(y_tr, y_pred_ws_MLPR), 2)\n",
    "R2_WS"
   ]
  },
  {
   "cell_type": "code",
   "execution_count": 34,
   "metadata": {},
   "outputs": [
    {
     "data": {
      "text/plain": [
       "0.35"
      ]
     },
     "execution_count": 34,
     "metadata": {},
     "output_type": "execute_result"
    }
   ],
   "source": [
    "RMSE_WS=round(np.sqrt(mean_absolute_error(y_tr, y_pred_ws_MLPR)), 2)\n",
    "RMSE_WS"
   ]
  },
  {
   "cell_type": "code",
   "execution_count": 35,
   "metadata": {},
   "outputs": [],
   "source": [
    "y_pred_CV_MLPR = cross_val_predict(best_MLPR, x_tr, y_tr, cv=cv)"
   ]
  },
  {
   "cell_type": "code",
   "execution_count": 36,
   "metadata": {},
   "outputs": [
    {
     "data": {
      "text/plain": [
       "array([5.4285893, 4.372045 , 5.4062376, ..., 7.0878863, 6.918948 ,\n",
       "       7.3580875], dtype=float32)"
      ]
     },
     "execution_count": 36,
     "metadata": {},
     "output_type": "execute_result"
    }
   ],
   "source": [
    "y_pred_CV_MLPR"
   ]
  },
  {
   "cell_type": "code",
   "execution_count": 37,
   "metadata": {},
   "outputs": [
    {
     "data": {
      "text/plain": [
       "0.61"
      ]
     },
     "execution_count": 37,
     "metadata": {},
     "output_type": "execute_result"
    }
   ],
   "source": [
    "Q2_CV = round(r2_score(y_tr, y_pred_CV_MLPR), 2)\n",
    "Q2_CV"
   ]
  },
  {
   "cell_type": "code",
   "execution_count": 38,
   "metadata": {},
   "outputs": [
    {
     "data": {
      "text/plain": [
       "0.72"
      ]
     },
     "execution_count": 38,
     "metadata": {},
     "output_type": "execute_result"
    }
   ],
   "source": [
    "RMSE_CV=round(np.sqrt(mean_absolute_error(y_tr, y_pred_CV_MLPR)), 2)\n",
    "RMSE_CV"
   ]
  },
  {
   "cell_type": "markdown",
   "metadata": {},
   "source": [
    "# 9. Prediction for test set's molecules"
   ]
  },
  {
   "cell_type": "code",
   "execution_count": 39,
   "metadata": {},
   "outputs": [],
   "source": [
    "x_ts = np.array(x_ts, dtype=np.float32)\n",
    "y_ts = np.array(y_ts, dtype=np.float32)"
   ]
  },
  {
   "cell_type": "code",
   "execution_count": 40,
   "metadata": {},
   "outputs": [],
   "source": [
    "y_pred_MLPR = best_MLPR.predict(x_ts)"
   ]
  },
  {
   "cell_type": "code",
   "execution_count": 41,
   "metadata": {},
   "outputs": [
    {
     "data": {
      "text/plain": [
       "0.63"
      ]
     },
     "execution_count": 41,
     "metadata": {},
     "output_type": "execute_result"
    }
   ],
   "source": [
    "Q2_TS = round(r2_score(y_ts, y_pred_MLPR), 2)\n",
    "Q2_TS"
   ]
  },
  {
   "cell_type": "code",
   "execution_count": 42,
   "metadata": {},
   "outputs": [
    {
     "data": {
      "text/plain": [
       "0.71"
      ]
     },
     "execution_count": 42,
     "metadata": {},
     "output_type": "execute_result"
    }
   ],
   "source": [
    "RMSE_TS=round(np.sqrt(mean_absolute_error(y_ts, y_pred_MLPR)), 2)\n",
    "RMSE_TS"
   ]
  },
  {
   "cell_type": "markdown",
   "metadata": {},
   "source": [
    "# save the model to disk"
   ]
  },
  {
   "cell_type": "code",
   "execution_count": 43,
   "metadata": {},
   "outputs": [],
   "source": [
    "pickle.dump(best_MLPR, open('Models/Padels/HDAC6_MLPR_KlekotaRoth.pkl', 'wb'))"
   ]
  },
  {
   "cell_type": "markdown",
   "metadata": {},
   "source": [
    "# load the model from disk"
   ]
  },
  {
   "cell_type": "code",
   "execution_count": 100,
   "metadata": {},
   "outputs": [],
   "source": [
    "best_MLPR = pickle.load(open('Models/Padels/HDAC6_MLPR_KlekotaRoth.pkl', 'rb'))"
   ]
  },
  {
   "cell_type": "markdown",
   "metadata": {},
   "source": [
    "# 10. Y-randomization MLPR"
   ]
  },
  {
   "cell_type": "code",
   "execution_count": 44,
   "metadata": {},
   "outputs": [
    {
     "name": "stderr",
     "output_type": "stream",
     "text": [
      "[Parallel(n_jobs=-1)]: Using backend LokyBackend with 16 concurrent workers.\n",
      "[Parallel(n_jobs=-1)]: Done  18 tasks      | elapsed: 192.8min\n"
     ]
    },
    {
     "name": "stdout",
     "output_type": "stream",
     "text": [
      "True score =  0.6 \n",
      "Y-randomization =  -0.58 \n",
      "p-value =  0.0196\n"
     ]
    },
    {
     "name": "stderr",
     "output_type": "stream",
     "text": [
      "[Parallel(n_jobs=-1)]: Done  50 out of  50 | elapsed: 318.8min finished\n"
     ]
    }
   ],
   "source": [
    "permutations = 50\n",
    "score, permutation_scores, pvalue = permutation_test_score(best_MLPR, x_tr, y_tr,\n",
    "                                                           cv=cv, scoring='r2',\n",
    "                                                           n_permutations=permutations,\n",
    "                                                           n_jobs=-1,\n",
    "                                                           verbose=1,\n",
    "                                                           random_state=seed)\n",
    "print('True score = ', score.round(2),\n",
    "      '\\nY-randomization = ', np.mean(permutation_scores).round(2),\n",
    "      '\\np-value = ', pvalue.round(4))"
   ]
  },
  {
   "cell_type": "markdown",
   "metadata": {},
   "source": [
    "# 11. Estimating applicability domain. Method - Euclidian distances, K=1"
   ]
  },
  {
   "cell_type": "code",
   "execution_count": 45,
   "metadata": {},
   "outputs": [],
   "source": [
    "neighbors_k= pairwise_distances(x_tr, n_jobs=-1)\n",
    "neighbors_k.sort(0)"
   ]
  },
  {
   "cell_type": "code",
   "execution_count": 46,
   "metadata": {},
   "outputs": [
    {
     "data": {
      "text/html": [
       "<div>\n",
       "<style scoped>\n",
       "    .dataframe tbody tr th:only-of-type {\n",
       "        vertical-align: middle;\n",
       "    }\n",
       "\n",
       "    .dataframe tbody tr th {\n",
       "        vertical-align: top;\n",
       "    }\n",
       "\n",
       "    .dataframe thead th {\n",
       "        text-align: right;\n",
       "    }\n",
       "</style>\n",
       "<table border=\"1\" class=\"dataframe\">\n",
       "  <thead>\n",
       "    <tr style=\"text-align: right;\">\n",
       "      <th></th>\n",
       "      <th>0</th>\n",
       "      <th>1</th>\n",
       "      <th>2</th>\n",
       "      <th>3</th>\n",
       "      <th>4</th>\n",
       "      <th>5</th>\n",
       "      <th>6</th>\n",
       "      <th>7</th>\n",
       "      <th>8</th>\n",
       "      <th>9</th>\n",
       "      <th>...</th>\n",
       "      <th>3073</th>\n",
       "      <th>3074</th>\n",
       "      <th>3075</th>\n",
       "      <th>3076</th>\n",
       "      <th>3077</th>\n",
       "      <th>3078</th>\n",
       "      <th>3079</th>\n",
       "      <th>3080</th>\n",
       "      <th>3081</th>\n",
       "      <th>3082</th>\n",
       "    </tr>\n",
       "  </thead>\n",
       "  <tbody>\n",
       "    <tr>\n",
       "      <th>0</th>\n",
       "      <td>0.000000</td>\n",
       "      <td>0.000000</td>\n",
       "      <td>0.000000</td>\n",
       "      <td>0.000000</td>\n",
       "      <td>0.000000</td>\n",
       "      <td>0.000000</td>\n",
       "      <td>0.000000</td>\n",
       "      <td>0.000000</td>\n",
       "      <td>0.000000</td>\n",
       "      <td>0.000000</td>\n",
       "      <td>...</td>\n",
       "      <td>0.000000</td>\n",
       "      <td>0.000000</td>\n",
       "      <td>0.000000</td>\n",
       "      <td>0.000000</td>\n",
       "      <td>0.000000</td>\n",
       "      <td>0.000000</td>\n",
       "      <td>0.000000</td>\n",
       "      <td>0.000000</td>\n",
       "      <td>0.000000</td>\n",
       "      <td>0.000000</td>\n",
       "    </tr>\n",
       "    <tr>\n",
       "      <th>1</th>\n",
       "      <td>3.872983</td>\n",
       "      <td>5.099020</td>\n",
       "      <td>3.872983</td>\n",
       "      <td>2.236068</td>\n",
       "      <td>5.385165</td>\n",
       "      <td>2.000000</td>\n",
       "      <td>3.605551</td>\n",
       "      <td>4.358899</td>\n",
       "      <td>3.162278</td>\n",
       "      <td>6.082763</td>\n",
       "      <td>...</td>\n",
       "      <td>2.828427</td>\n",
       "      <td>3.000000</td>\n",
       "      <td>2.645751</td>\n",
       "      <td>2.236068</td>\n",
       "      <td>2.236068</td>\n",
       "      <td>3.000000</td>\n",
       "      <td>2.645751</td>\n",
       "      <td>4.898980</td>\n",
       "      <td>1.732051</td>\n",
       "      <td>5.000000</td>\n",
       "    </tr>\n",
       "    <tr>\n",
       "      <th>2</th>\n",
       "      <td>6.000000</td>\n",
       "      <td>5.385165</td>\n",
       "      <td>4.582576</td>\n",
       "      <td>2.645751</td>\n",
       "      <td>6.082763</td>\n",
       "      <td>5.656854</td>\n",
       "      <td>5.291502</td>\n",
       "      <td>5.567764</td>\n",
       "      <td>6.782330</td>\n",
       "      <td>6.244998</td>\n",
       "      <td>...</td>\n",
       "      <td>3.872983</td>\n",
       "      <td>4.242640</td>\n",
       "      <td>3.316625</td>\n",
       "      <td>2.645751</td>\n",
       "      <td>2.236068</td>\n",
       "      <td>4.898980</td>\n",
       "      <td>2.828427</td>\n",
       "      <td>4.898980</td>\n",
       "      <td>3.000000</td>\n",
       "      <td>5.099020</td>\n",
       "    </tr>\n",
       "    <tr>\n",
       "      <th>3</th>\n",
       "      <td>6.164414</td>\n",
       "      <td>5.385165</td>\n",
       "      <td>4.690416</td>\n",
       "      <td>2.645751</td>\n",
       "      <td>6.403124</td>\n",
       "      <td>5.916080</td>\n",
       "      <td>5.385165</td>\n",
       "      <td>5.567764</td>\n",
       "      <td>7.141428</td>\n",
       "      <td>6.324555</td>\n",
       "      <td>...</td>\n",
       "      <td>4.795832</td>\n",
       "      <td>4.582576</td>\n",
       "      <td>3.872983</td>\n",
       "      <td>2.828427</td>\n",
       "      <td>2.236068</td>\n",
       "      <td>5.000000</td>\n",
       "      <td>3.162278</td>\n",
       "      <td>5.000000</td>\n",
       "      <td>3.000000</td>\n",
       "      <td>5.099020</td>\n",
       "    </tr>\n",
       "    <tr>\n",
       "      <th>4</th>\n",
       "      <td>6.324555</td>\n",
       "      <td>5.385165</td>\n",
       "      <td>4.795832</td>\n",
       "      <td>2.645751</td>\n",
       "      <td>6.403124</td>\n",
       "      <td>6.000000</td>\n",
       "      <td>5.477226</td>\n",
       "      <td>5.656854</td>\n",
       "      <td>7.211102</td>\n",
       "      <td>6.324555</td>\n",
       "      <td>...</td>\n",
       "      <td>4.795832</td>\n",
       "      <td>4.898980</td>\n",
       "      <td>4.472136</td>\n",
       "      <td>3.000000</td>\n",
       "      <td>2.645751</td>\n",
       "      <td>5.000000</td>\n",
       "      <td>3.316625</td>\n",
       "      <td>5.000000</td>\n",
       "      <td>3.162278</td>\n",
       "      <td>5.099020</td>\n",
       "    </tr>\n",
       "    <tr>\n",
       "      <th>...</th>\n",
       "      <td>...</td>\n",
       "      <td>...</td>\n",
       "      <td>...</td>\n",
       "      <td>...</td>\n",
       "      <td>...</td>\n",
       "      <td>...</td>\n",
       "      <td>...</td>\n",
       "      <td>...</td>\n",
       "      <td>...</td>\n",
       "      <td>...</td>\n",
       "      <td>...</td>\n",
       "      <td>...</td>\n",
       "      <td>...</td>\n",
       "      <td>...</td>\n",
       "      <td>...</td>\n",
       "      <td>...</td>\n",
       "      <td>...</td>\n",
       "      <td>...</td>\n",
       "      <td>...</td>\n",
       "      <td>...</td>\n",
       "      <td>...</td>\n",
       "    </tr>\n",
       "    <tr>\n",
       "      <th>3078</th>\n",
       "      <td>13.190906</td>\n",
       "      <td>12.124355</td>\n",
       "      <td>13.453624</td>\n",
       "      <td>13.341664</td>\n",
       "      <td>13.152946</td>\n",
       "      <td>12.727922</td>\n",
       "      <td>12.649111</td>\n",
       "      <td>13.304134</td>\n",
       "      <td>13.379088</td>\n",
       "      <td>12.845233</td>\n",
       "      <td>...</td>\n",
       "      <td>12.767145</td>\n",
       "      <td>12.961481</td>\n",
       "      <td>12.569805</td>\n",
       "      <td>13.000000</td>\n",
       "      <td>13.266500</td>\n",
       "      <td>13.076696</td>\n",
       "      <td>12.449900</td>\n",
       "      <td>13.674794</td>\n",
       "      <td>12.409674</td>\n",
       "      <td>13.266500</td>\n",
       "    </tr>\n",
       "    <tr>\n",
       "      <th>3079</th>\n",
       "      <td>13.190906</td>\n",
       "      <td>12.206555</td>\n",
       "      <td>13.453624</td>\n",
       "      <td>13.341664</td>\n",
       "      <td>13.152946</td>\n",
       "      <td>12.727922</td>\n",
       "      <td>12.649111</td>\n",
       "      <td>13.304134</td>\n",
       "      <td>13.453624</td>\n",
       "      <td>12.845233</td>\n",
       "      <td>...</td>\n",
       "      <td>12.806249</td>\n",
       "      <td>12.961481</td>\n",
       "      <td>12.609520</td>\n",
       "      <td>13.000000</td>\n",
       "      <td>13.266500</td>\n",
       "      <td>13.076696</td>\n",
       "      <td>12.489996</td>\n",
       "      <td>13.674794</td>\n",
       "      <td>12.449900</td>\n",
       "      <td>13.266500</td>\n",
       "    </tr>\n",
       "    <tr>\n",
       "      <th>3080</th>\n",
       "      <td>13.190906</td>\n",
       "      <td>12.206555</td>\n",
       "      <td>13.453624</td>\n",
       "      <td>13.341664</td>\n",
       "      <td>13.228757</td>\n",
       "      <td>12.727922</td>\n",
       "      <td>12.649111</td>\n",
       "      <td>13.304134</td>\n",
       "      <td>13.490738</td>\n",
       "      <td>12.845233</td>\n",
       "      <td>...</td>\n",
       "      <td>12.845233</td>\n",
       "      <td>12.961481</td>\n",
       "      <td>12.961481</td>\n",
       "      <td>13.000000</td>\n",
       "      <td>13.341664</td>\n",
       "      <td>13.076696</td>\n",
       "      <td>12.649111</td>\n",
       "      <td>13.674794</td>\n",
       "      <td>12.449900</td>\n",
       "      <td>13.266500</td>\n",
       "    </tr>\n",
       "    <tr>\n",
       "      <th>3081</th>\n",
       "      <td>13.190906</td>\n",
       "      <td>12.409674</td>\n",
       "      <td>13.490738</td>\n",
       "      <td>13.341664</td>\n",
       "      <td>13.453624</td>\n",
       "      <td>12.767145</td>\n",
       "      <td>12.727922</td>\n",
       "      <td>13.416408</td>\n",
       "      <td>13.564660</td>\n",
       "      <td>12.845233</td>\n",
       "      <td>...</td>\n",
       "      <td>12.884099</td>\n",
       "      <td>12.961481</td>\n",
       "      <td>13.038404</td>\n",
       "      <td>13.114877</td>\n",
       "      <td>13.379088</td>\n",
       "      <td>13.076696</td>\n",
       "      <td>12.727922</td>\n",
       "      <td>13.711309</td>\n",
       "      <td>12.489996</td>\n",
       "      <td>13.304134</td>\n",
       "    </tr>\n",
       "    <tr>\n",
       "      <th>3082</th>\n",
       "      <td>13.564660</td>\n",
       "      <td>12.489996</td>\n",
       "      <td>13.490738</td>\n",
       "      <td>13.341664</td>\n",
       "      <td>13.527749</td>\n",
       "      <td>12.922848</td>\n",
       "      <td>12.727922</td>\n",
       "      <td>13.416408</td>\n",
       "      <td>13.564660</td>\n",
       "      <td>12.845233</td>\n",
       "      <td>...</td>\n",
       "      <td>12.922848</td>\n",
       "      <td>12.961481</td>\n",
       "      <td>13.341664</td>\n",
       "      <td>13.114877</td>\n",
       "      <td>13.379088</td>\n",
       "      <td>13.076696</td>\n",
       "      <td>12.806249</td>\n",
       "      <td>13.784049</td>\n",
       "      <td>12.806249</td>\n",
       "      <td>13.379088</td>\n",
       "    </tr>\n",
       "  </tbody>\n",
       "</table>\n",
       "<p>3083 rows × 3083 columns</p>\n",
       "</div>"
      ],
      "text/plain": [
       "           0          1          2          3          4          5     \\\n",
       "0      0.000000   0.000000   0.000000   0.000000   0.000000   0.000000   \n",
       "1      3.872983   5.099020   3.872983   2.236068   5.385165   2.000000   \n",
       "2      6.000000   5.385165   4.582576   2.645751   6.082763   5.656854   \n",
       "3      6.164414   5.385165   4.690416   2.645751   6.403124   5.916080   \n",
       "4      6.324555   5.385165   4.795832   2.645751   6.403124   6.000000   \n",
       "...         ...        ...        ...        ...        ...        ...   \n",
       "3078  13.190906  12.124355  13.453624  13.341664  13.152946  12.727922   \n",
       "3079  13.190906  12.206555  13.453624  13.341664  13.152946  12.727922   \n",
       "3080  13.190906  12.206555  13.453624  13.341664  13.228757  12.727922   \n",
       "3081  13.190906  12.409674  13.490738  13.341664  13.453624  12.767145   \n",
       "3082  13.564660  12.489996  13.490738  13.341664  13.527749  12.922848   \n",
       "\n",
       "           6          7          8          9     ...       3073       3074  \\\n",
       "0      0.000000   0.000000   0.000000   0.000000  ...   0.000000   0.000000   \n",
       "1      3.605551   4.358899   3.162278   6.082763  ...   2.828427   3.000000   \n",
       "2      5.291502   5.567764   6.782330   6.244998  ...   3.872983   4.242640   \n",
       "3      5.385165   5.567764   7.141428   6.324555  ...   4.795832   4.582576   \n",
       "4      5.477226   5.656854   7.211102   6.324555  ...   4.795832   4.898980   \n",
       "...         ...        ...        ...        ...  ...        ...        ...   \n",
       "3078  12.649111  13.304134  13.379088  12.845233  ...  12.767145  12.961481   \n",
       "3079  12.649111  13.304134  13.453624  12.845233  ...  12.806249  12.961481   \n",
       "3080  12.649111  13.304134  13.490738  12.845233  ...  12.845233  12.961481   \n",
       "3081  12.727922  13.416408  13.564660  12.845233  ...  12.884099  12.961481   \n",
       "3082  12.727922  13.416408  13.564660  12.845233  ...  12.922848  12.961481   \n",
       "\n",
       "           3075       3076       3077       3078       3079       3080  \\\n",
       "0      0.000000   0.000000   0.000000   0.000000   0.000000   0.000000   \n",
       "1      2.645751   2.236068   2.236068   3.000000   2.645751   4.898980   \n",
       "2      3.316625   2.645751   2.236068   4.898980   2.828427   4.898980   \n",
       "3      3.872983   2.828427   2.236068   5.000000   3.162278   5.000000   \n",
       "4      4.472136   3.000000   2.645751   5.000000   3.316625   5.000000   \n",
       "...         ...        ...        ...        ...        ...        ...   \n",
       "3078  12.569805  13.000000  13.266500  13.076696  12.449900  13.674794   \n",
       "3079  12.609520  13.000000  13.266500  13.076696  12.489996  13.674794   \n",
       "3080  12.961481  13.000000  13.341664  13.076696  12.649111  13.674794   \n",
       "3081  13.038404  13.114877  13.379088  13.076696  12.727922  13.711309   \n",
       "3082  13.341664  13.114877  13.379088  13.076696  12.806249  13.784049   \n",
       "\n",
       "           3081       3082  \n",
       "0      0.000000   0.000000  \n",
       "1      1.732051   5.000000  \n",
       "2      3.000000   5.099020  \n",
       "3      3.000000   5.099020  \n",
       "4      3.162278   5.099020  \n",
       "...         ...        ...  \n",
       "3078  12.409674  13.266500  \n",
       "3079  12.449900  13.266500  \n",
       "3080  12.449900  13.266500  \n",
       "3081  12.489996  13.304134  \n",
       "3082  12.806249  13.379088  \n",
       "\n",
       "[3083 rows x 3083 columns]"
      ]
     },
     "execution_count": 46,
     "metadata": {},
     "output_type": "execute_result"
    }
   ],
   "source": [
    "df_tr=pd.DataFrame(neighbors_k)\n",
    "df_tr"
   ]
  },
  {
   "cell_type": "code",
   "execution_count": 47,
   "metadata": {},
   "outputs": [],
   "source": [
    "similarity= neighbors_k"
   ]
  },
  {
   "cell_type": "code",
   "execution_count": 48,
   "metadata": {},
   "outputs": [],
   "source": [
    "Dmean=np.mean(similarity[1,:])"
   ]
  },
  {
   "cell_type": "code",
   "execution_count": 49,
   "metadata": {},
   "outputs": [
    {
     "data": {
      "text/plain": [
       "2.73"
      ]
     },
     "execution_count": 49,
     "metadata": {},
     "output_type": "execute_result"
    }
   ],
   "source": [
    "round(Dmean, 2)"
   ]
  },
  {
   "cell_type": "code",
   "execution_count": 50,
   "metadata": {},
   "outputs": [],
   "source": [
    "std=np.std(similarity[1,:])"
   ]
  },
  {
   "cell_type": "code",
   "execution_count": 51,
   "metadata": {},
   "outputs": [
    {
     "data": {
      "text/plain": [
       "1.24"
      ]
     },
     "execution_count": 51,
     "metadata": {},
     "output_type": "execute_result"
    }
   ],
   "source": [
    "round(std, 2)"
   ]
  },
  {
   "cell_type": "code",
   "execution_count": 52,
   "metadata": {},
   "outputs": [
    {
     "name": "stdout",
     "output_type": "stream",
     "text": [
      "3.34\n"
     ]
    }
   ],
   "source": [
    "model_AD_limit=Dmean+std*0.5\n",
    "print(np.round(model_AD_limit, 2))"
   ]
  },
  {
   "cell_type": "code",
   "execution_count": 53,
   "metadata": {},
   "outputs": [],
   "source": [
    "neighbors_k_ts= pairwise_distances(x_tr,Y=x_ts, n_jobs=-1)\n",
    "neighbors_k_ts.sort(0)"
   ]
  },
  {
   "cell_type": "code",
   "execution_count": 54,
   "metadata": {},
   "outputs": [
    {
     "data": {
      "text/html": [
       "<div>\n",
       "<style scoped>\n",
       "    .dataframe tbody tr th:only-of-type {\n",
       "        vertical-align: middle;\n",
       "    }\n",
       "\n",
       "    .dataframe tbody tr th {\n",
       "        vertical-align: top;\n",
       "    }\n",
       "\n",
       "    .dataframe thead th {\n",
       "        text-align: right;\n",
       "    }\n",
       "</style>\n",
       "<table border=\"1\" class=\"dataframe\">\n",
       "  <thead>\n",
       "    <tr style=\"text-align: right;\">\n",
       "      <th></th>\n",
       "      <th>0</th>\n",
       "      <th>1</th>\n",
       "      <th>2</th>\n",
       "      <th>3</th>\n",
       "      <th>4</th>\n",
       "      <th>5</th>\n",
       "      <th>6</th>\n",
       "      <th>7</th>\n",
       "      <th>8</th>\n",
       "      <th>9</th>\n",
       "      <th>...</th>\n",
       "      <th>761</th>\n",
       "      <th>762</th>\n",
       "      <th>763</th>\n",
       "      <th>764</th>\n",
       "      <th>765</th>\n",
       "      <th>766</th>\n",
       "      <th>767</th>\n",
       "      <th>768</th>\n",
       "      <th>769</th>\n",
       "      <th>770</th>\n",
       "    </tr>\n",
       "  </thead>\n",
       "  <tbody>\n",
       "    <tr>\n",
       "      <th>0</th>\n",
       "      <td>2.449490</td>\n",
       "      <td>3.000000</td>\n",
       "      <td>3.605551</td>\n",
       "      <td>6.557438</td>\n",
       "      <td>5.196152</td>\n",
       "      <td>1.000000</td>\n",
       "      <td>2.645751</td>\n",
       "      <td>2.645751</td>\n",
       "      <td>2.645751</td>\n",
       "      <td>3.464102</td>\n",
       "      <td>...</td>\n",
       "      <td>2.449490</td>\n",
       "      <td>1.732051</td>\n",
       "      <td>3.464102</td>\n",
       "      <td>2.000000</td>\n",
       "      <td>1.732051</td>\n",
       "      <td>3.741657</td>\n",
       "      <td>2.828427</td>\n",
       "      <td>2.828427</td>\n",
       "      <td>3.162278</td>\n",
       "      <td>2.236068</td>\n",
       "    </tr>\n",
       "    <tr>\n",
       "      <th>1</th>\n",
       "      <td>2.828427</td>\n",
       "      <td>3.162278</td>\n",
       "      <td>4.000000</td>\n",
       "      <td>7.071068</td>\n",
       "      <td>5.291502</td>\n",
       "      <td>3.000000</td>\n",
       "      <td>3.000000</td>\n",
       "      <td>2.645751</td>\n",
       "      <td>2.645751</td>\n",
       "      <td>3.872983</td>\n",
       "      <td>...</td>\n",
       "      <td>2.645751</td>\n",
       "      <td>2.645751</td>\n",
       "      <td>4.000000</td>\n",
       "      <td>2.000000</td>\n",
       "      <td>1.732051</td>\n",
       "      <td>4.000000</td>\n",
       "      <td>4.123106</td>\n",
       "      <td>3.316625</td>\n",
       "      <td>3.605551</td>\n",
       "      <td>2.449490</td>\n",
       "    </tr>\n",
       "    <tr>\n",
       "      <th>2</th>\n",
       "      <td>3.000000</td>\n",
       "      <td>4.472136</td>\n",
       "      <td>4.582576</td>\n",
       "      <td>7.141428</td>\n",
       "      <td>5.477226</td>\n",
       "      <td>6.557438</td>\n",
       "      <td>3.000000</td>\n",
       "      <td>3.464102</td>\n",
       "      <td>3.316625</td>\n",
       "      <td>4.000000</td>\n",
       "      <td>...</td>\n",
       "      <td>3.000000</td>\n",
       "      <td>2.828427</td>\n",
       "      <td>4.242640</td>\n",
       "      <td>2.645751</td>\n",
       "      <td>1.732051</td>\n",
       "      <td>4.123106</td>\n",
       "      <td>4.242640</td>\n",
       "      <td>3.605551</td>\n",
       "      <td>3.605551</td>\n",
       "      <td>2.449490</td>\n",
       "    </tr>\n",
       "    <tr>\n",
       "      <th>3</th>\n",
       "      <td>3.605551</td>\n",
       "      <td>6.082763</td>\n",
       "      <td>4.898980</td>\n",
       "      <td>7.348469</td>\n",
       "      <td>5.477226</td>\n",
       "      <td>6.855655</td>\n",
       "      <td>3.162278</td>\n",
       "      <td>3.605551</td>\n",
       "      <td>4.472136</td>\n",
       "      <td>4.242640</td>\n",
       "      <td>...</td>\n",
       "      <td>3.000000</td>\n",
       "      <td>3.000000</td>\n",
       "      <td>4.358899</td>\n",
       "      <td>2.828427</td>\n",
       "      <td>2.000000</td>\n",
       "      <td>4.472136</td>\n",
       "      <td>4.242640</td>\n",
       "      <td>3.872983</td>\n",
       "      <td>3.741657</td>\n",
       "      <td>2.645751</td>\n",
       "    </tr>\n",
       "    <tr>\n",
       "      <th>4</th>\n",
       "      <td>4.242640</td>\n",
       "      <td>6.164414</td>\n",
       "      <td>5.000000</td>\n",
       "      <td>7.416198</td>\n",
       "      <td>5.567764</td>\n",
       "      <td>6.928203</td>\n",
       "      <td>3.316625</td>\n",
       "      <td>3.605551</td>\n",
       "      <td>4.690416</td>\n",
       "      <td>5.830952</td>\n",
       "      <td>...</td>\n",
       "      <td>3.162278</td>\n",
       "      <td>3.000000</td>\n",
       "      <td>4.472136</td>\n",
       "      <td>3.000000</td>\n",
       "      <td>2.236068</td>\n",
       "      <td>4.472136</td>\n",
       "      <td>4.242640</td>\n",
       "      <td>3.872983</td>\n",
       "      <td>4.123106</td>\n",
       "      <td>2.828427</td>\n",
       "    </tr>\n",
       "    <tr>\n",
       "      <th>...</th>\n",
       "      <td>...</td>\n",
       "      <td>...</td>\n",
       "      <td>...</td>\n",
       "      <td>...</td>\n",
       "      <td>...</td>\n",
       "      <td>...</td>\n",
       "      <td>...</td>\n",
       "      <td>...</td>\n",
       "      <td>...</td>\n",
       "      <td>...</td>\n",
       "      <td>...</td>\n",
       "      <td>...</td>\n",
       "      <td>...</td>\n",
       "      <td>...</td>\n",
       "      <td>...</td>\n",
       "      <td>...</td>\n",
       "      <td>...</td>\n",
       "      <td>...</td>\n",
       "      <td>...</td>\n",
       "      <td>...</td>\n",
       "      <td>...</td>\n",
       "    </tr>\n",
       "    <tr>\n",
       "      <th>3078</th>\n",
       "      <td>12.845233</td>\n",
       "      <td>12.000000</td>\n",
       "      <td>12.884099</td>\n",
       "      <td>12.529964</td>\n",
       "      <td>12.727922</td>\n",
       "      <td>13.190906</td>\n",
       "      <td>12.922848</td>\n",
       "      <td>12.124355</td>\n",
       "      <td>13.379088</td>\n",
       "      <td>13.000000</td>\n",
       "      <td>...</td>\n",
       "      <td>13.453624</td>\n",
       "      <td>11.916375</td>\n",
       "      <td>13.527749</td>\n",
       "      <td>12.727922</td>\n",
       "      <td>13.190906</td>\n",
       "      <td>11.832160</td>\n",
       "      <td>13.228757</td>\n",
       "      <td>13.266500</td>\n",
       "      <td>12.649111</td>\n",
       "      <td>12.409674</td>\n",
       "    </tr>\n",
       "    <tr>\n",
       "      <th>3079</th>\n",
       "      <td>12.884099</td>\n",
       "      <td>12.124355</td>\n",
       "      <td>12.922848</td>\n",
       "      <td>12.529964</td>\n",
       "      <td>12.767145</td>\n",
       "      <td>13.266500</td>\n",
       "      <td>13.000000</td>\n",
       "      <td>12.124355</td>\n",
       "      <td>13.379088</td>\n",
       "      <td>13.000000</td>\n",
       "      <td>...</td>\n",
       "      <td>13.490738</td>\n",
       "      <td>12.083046</td>\n",
       "      <td>13.564660</td>\n",
       "      <td>12.845233</td>\n",
       "      <td>13.190906</td>\n",
       "      <td>11.874342</td>\n",
       "      <td>13.228757</td>\n",
       "      <td>13.304134</td>\n",
       "      <td>12.688578</td>\n",
       "      <td>12.449900</td>\n",
       "    </tr>\n",
       "    <tr>\n",
       "      <th>3080</th>\n",
       "      <td>12.884099</td>\n",
       "      <td>12.206555</td>\n",
       "      <td>12.922848</td>\n",
       "      <td>12.609520</td>\n",
       "      <td>12.767145</td>\n",
       "      <td>13.379088</td>\n",
       "      <td>13.038404</td>\n",
       "      <td>12.165525</td>\n",
       "      <td>13.379088</td>\n",
       "      <td>13.000000</td>\n",
       "      <td>...</td>\n",
       "      <td>13.490738</td>\n",
       "      <td>12.083046</td>\n",
       "      <td>13.638182</td>\n",
       "      <td>12.845233</td>\n",
       "      <td>13.266500</td>\n",
       "      <td>11.958261</td>\n",
       "      <td>13.228757</td>\n",
       "      <td>13.304134</td>\n",
       "      <td>12.727922</td>\n",
       "      <td>12.489996</td>\n",
       "    </tr>\n",
       "    <tr>\n",
       "      <th>3081</th>\n",
       "      <td>12.884099</td>\n",
       "      <td>12.369317</td>\n",
       "      <td>12.961481</td>\n",
       "      <td>12.609520</td>\n",
       "      <td>12.767145</td>\n",
       "      <td>13.379088</td>\n",
       "      <td>13.038404</td>\n",
       "      <td>12.328828</td>\n",
       "      <td>13.416408</td>\n",
       "      <td>13.000000</td>\n",
       "      <td>...</td>\n",
       "      <td>13.490738</td>\n",
       "      <td>12.124355</td>\n",
       "      <td>13.674794</td>\n",
       "      <td>13.114877</td>\n",
       "      <td>13.304134</td>\n",
       "      <td>11.958261</td>\n",
       "      <td>13.228757</td>\n",
       "      <td>13.304134</td>\n",
       "      <td>12.727922</td>\n",
       "      <td>12.569805</td>\n",
       "    </tr>\n",
       "    <tr>\n",
       "      <th>3082</th>\n",
       "      <td>12.884099</td>\n",
       "      <td>12.369317</td>\n",
       "      <td>12.961481</td>\n",
       "      <td>12.767145</td>\n",
       "      <td>12.767145</td>\n",
       "      <td>13.453624</td>\n",
       "      <td>13.076696</td>\n",
       "      <td>12.489996</td>\n",
       "      <td>13.490738</td>\n",
       "      <td>13.304134</td>\n",
       "      <td>...</td>\n",
       "      <td>13.490738</td>\n",
       "      <td>12.124355</td>\n",
       "      <td>13.674794</td>\n",
       "      <td>13.190906</td>\n",
       "      <td>13.304134</td>\n",
       "      <td>12.041595</td>\n",
       "      <td>13.228757</td>\n",
       "      <td>13.304134</td>\n",
       "      <td>12.961481</td>\n",
       "      <td>12.806249</td>\n",
       "    </tr>\n",
       "  </tbody>\n",
       "</table>\n",
       "<p>3083 rows × 771 columns</p>\n",
       "</div>"
      ],
      "text/plain": [
       "            0          1          2          3          4          5    \\\n",
       "0      2.449490   3.000000   3.605551   6.557438   5.196152   1.000000   \n",
       "1      2.828427   3.162278   4.000000   7.071068   5.291502   3.000000   \n",
       "2      3.000000   4.472136   4.582576   7.141428   5.477226   6.557438   \n",
       "3      3.605551   6.082763   4.898980   7.348469   5.477226   6.855655   \n",
       "4      4.242640   6.164414   5.000000   7.416198   5.567764   6.928203   \n",
       "...         ...        ...        ...        ...        ...        ...   \n",
       "3078  12.845233  12.000000  12.884099  12.529964  12.727922  13.190906   \n",
       "3079  12.884099  12.124355  12.922848  12.529964  12.767145  13.266500   \n",
       "3080  12.884099  12.206555  12.922848  12.609520  12.767145  13.379088   \n",
       "3081  12.884099  12.369317  12.961481  12.609520  12.767145  13.379088   \n",
       "3082  12.884099  12.369317  12.961481  12.767145  12.767145  13.453624   \n",
       "\n",
       "            6          7          8          9    ...        761        762  \\\n",
       "0      2.645751   2.645751   2.645751   3.464102  ...   2.449490   1.732051   \n",
       "1      3.000000   2.645751   2.645751   3.872983  ...   2.645751   2.645751   \n",
       "2      3.000000   3.464102   3.316625   4.000000  ...   3.000000   2.828427   \n",
       "3      3.162278   3.605551   4.472136   4.242640  ...   3.000000   3.000000   \n",
       "4      3.316625   3.605551   4.690416   5.830952  ...   3.162278   3.000000   \n",
       "...         ...        ...        ...        ...  ...        ...        ...   \n",
       "3078  12.922848  12.124355  13.379088  13.000000  ...  13.453624  11.916375   \n",
       "3079  13.000000  12.124355  13.379088  13.000000  ...  13.490738  12.083046   \n",
       "3080  13.038404  12.165525  13.379088  13.000000  ...  13.490738  12.083046   \n",
       "3081  13.038404  12.328828  13.416408  13.000000  ...  13.490738  12.124355   \n",
       "3082  13.076696  12.489996  13.490738  13.304134  ...  13.490738  12.124355   \n",
       "\n",
       "            763        764        765        766        767        768  \\\n",
       "0      3.464102   2.000000   1.732051   3.741657   2.828427   2.828427   \n",
       "1      4.000000   2.000000   1.732051   4.000000   4.123106   3.316625   \n",
       "2      4.242640   2.645751   1.732051   4.123106   4.242640   3.605551   \n",
       "3      4.358899   2.828427   2.000000   4.472136   4.242640   3.872983   \n",
       "4      4.472136   3.000000   2.236068   4.472136   4.242640   3.872983   \n",
       "...         ...        ...        ...        ...        ...        ...   \n",
       "3078  13.527749  12.727922  13.190906  11.832160  13.228757  13.266500   \n",
       "3079  13.564660  12.845233  13.190906  11.874342  13.228757  13.304134   \n",
       "3080  13.638182  12.845233  13.266500  11.958261  13.228757  13.304134   \n",
       "3081  13.674794  13.114877  13.304134  11.958261  13.228757  13.304134   \n",
       "3082  13.674794  13.190906  13.304134  12.041595  13.228757  13.304134   \n",
       "\n",
       "            769        770  \n",
       "0      3.162278   2.236068  \n",
       "1      3.605551   2.449490  \n",
       "2      3.605551   2.449490  \n",
       "3      3.741657   2.645751  \n",
       "4      4.123106   2.828427  \n",
       "...         ...        ...  \n",
       "3078  12.649111  12.409674  \n",
       "3079  12.688578  12.449900  \n",
       "3080  12.727922  12.489996  \n",
       "3081  12.727922  12.569805  \n",
       "3082  12.961481  12.806249  \n",
       "\n",
       "[3083 rows x 771 columns]"
      ]
     },
     "execution_count": 54,
     "metadata": {},
     "output_type": "execute_result"
    }
   ],
   "source": [
    "x_ts_AD=pd.DataFrame(neighbors_k_ts)\n",
    "x_ts_AD"
   ]
  },
  {
   "cell_type": "code",
   "execution_count": 55,
   "metadata": {},
   "outputs": [
    {
     "name": "stdout",
     "output_type": "stream",
     "text": [
      "[2.449 3.    3.606 6.557 5.196 1.    2.646 2.646 2.646 3.464 3.317 2.449\n",
      " 5.568 2.    2.646 2.646 2.449 5.099 3.606 3.317 4.123 2.828 5.477 2.\n",
      " 6.245 4.    2.236 5.568 3.162 3.873 4.123 7.071 3.873 3.    2.236 1.732\n",
      " 4.359 2.646 2.    4.583 5.    3.    3.464 4.69  3.606 2.828 3.464 2.449\n",
      " 2.    1.    3.606 2.646 4.899 4.    3.742 1.732 2.646 2.646 5.657 3.\n",
      " 2.828 2.646 3.606 2.646 3.742 4.123 3.162 2.646 1.732 2.646 2.449 1.\n",
      " 2.449 4.899 2.    1.414 3.    2.646 6.164 3.    1.    3.317 5.    1.732\n",
      " 4.69  2.646 1.414 1.414 4.583 1.414 3.    2.449 3.162 2.    2.828 6.403\n",
      " 5.196 3.464 2.236 3.873 2.449 5.831 2.    2.646 4.243 4.123 2.    2.828\n",
      " 2.646 3.162 2.449 2.646 3.162 3.    3.873 3.    3.464 2.    2.236 2.449\n",
      " 3.    1.    3.162 3.162 3.317 2.646 3.    2.828 3.162 3.742 2.646 1.414\n",
      " 2.449 1.732 6.403 2.449 2.449 3.606 2.    1.414 3.162 2.    3.317 0.\n",
      " 4.243 2.236 1.732 1.732 3.742 1.    2.646 0.    2.449 4.359 4.359 2.236\n",
      " 1.732 1.732 4.    1.732 3.464 2.449 3.162 0.    2.    1.732 3.464 3.873\n",
      " 2.828 1.732 2.449 3.162 2.646 3.317 0.    3.317 2.646 6.403 3.606 4.899\n",
      " 2.449 1.    3.606 2.828 3.317 2.    6.245 3.    3.873 2.449 3.    2.449\n",
      " 1.    3.162 5.196 1.    2.    2.236 2.646 2.    2.    4.472 3.162 0.\n",
      " 2.236 2.828 3.162 3.    2.646 1.732 3.    1.414 2.646 3.606 3.162 3.464\n",
      " 3.317 0.    3.464 3.162 2.449 4.    1.414 1.    1.732 3.162 1.414 3.606\n",
      " 2.449 3.162 2.828 3.742 1.732 2.828 2.646 2.646 3.317 1.414 2.236 1.732\n",
      " 2.236 2.236 3.    3.317 3.    0.    2.828 2.646 0.    0.    5.292 2.\n",
      " 3.162 3.162 2.828 1.    3.    3.    4.472 3.162 3.464 3.    1.414 2.\n",
      " 0.    2.828 0.    4.359 1.732 3.464 2.    3.317 4.583 1.    3.162 2.646\n",
      " 4.899 2.646 0.    1.732 0.    2.449 3.742 3.873 2.    3.317 2.828 3.606\n",
      " 2.236 2.646 1.    2.    4.    2.    2.    2.449 3.873 2.828 2.828 3.317\n",
      " 1.732 4.123 1.    4.123 4.472 1.732 2.    4.    2.828 2.    3.162 3.317\n",
      " 3.317 1.414 1.732 1.732 1.    1.732 2.236 4.359 1.732 1.    6.708 3.742\n",
      " 1.    2.    4.    4.    2.828 2.646 2.    4.243 2.    4.583 2.449 1.414\n",
      " 2.449 2.449 5.477 4.123 2.    3.162 1.732 2.828 1.    1.732 1.732 4.243\n",
      " 2.    2.449 3.162 4.583 7.746 3.162 5.657 3.464 2.828 1.414 2.646 1.\n",
      " 1.732 6.083 6.403 4.    3.606 3.873 0.    3.162 1.732 1.414 3.162 1.732\n",
      " 2.    4.243 2.828 3.162 2.449 3.742 2.    3.162 2.    4.472 3.873 0.\n",
      " 0.    2.646 1.732 1.732 1.732 4.243 1.414 1.414 2.449 3.    0.    2.828\n",
      " 1.732 2.449 4.123 1.732 2.    1.414 3.317 2.    3.742 3.742 0.    2.449\n",
      " 4.583 3.    1.732 3.873 2.236 2.449 2.    2.828 3.    3.606 2.449 1.414\n",
      " 4.123 9.22  2.236 1.    3.742 3.162 3.162 5.    2.646 1.732 1.732 2.\n",
      " 1.    2.646 3.464 2.646 1.414 3.606 2.449 3.    4.123 2.449 2.    3.606\n",
      " 4.583 2.236 3.162 4.796 1.414 2.449 2.    1.414 4.899 3.742 3.162 3.606\n",
      " 3.873 0.    4.    1.414 1.    2.    1.732 1.732 1.    2.    1.732 4.472\n",
      " 2.646 4.359 5.099 1.732 1.    2.646 1.414 3.873 1.732 2.449 1.732 4.\n",
      " 4.583 3.    1.414 1.    3.    2.646 1.732 3.162 2.236 2.646 2.449 2.\n",
      " 1.732 2.    1.414 1.732 2.646 2.449 2.646 2.    2.646 5.292 4.796 1.732\n",
      " 1.732 2.449 2.828 3.464 2.828 2.236 1.    2.236 1.414 2.449 1.    2.\n",
      " 4.    3.162 3.162 1.732 3.464 1.414 3.317 3.742 3.    2.449 1.732 5.568\n",
      " 2.236 1.414 2.449 4.123 2.646 2.    2.236 2.236 1.732 2.236 5.    3.464\n",
      " 3.317 3.606 3.317 1.732 2.449 2.828 3.    4.472 3.162 3.162 1.732 2.828\n",
      " 2.    2.236 1.414 2.236 0.    1.    3.606 4.    1.732 1.732 0.    5.831\n",
      " 3.    1.732 1.732 1.414 1.    2.    2.646 1.732 2.236 3.742 2.    1.414\n",
      " 2.449 1.    3.606 2.236 2.    1.414 2.    3.317 3.464 1.414 1.414 4.583\n",
      " 2.236 2.449 3.464 5.568 5.196 1.414 3.873 3.742 1.732 1.732 2.236 2.449\n",
      " 1.    3.317 2.646 4.    3.    3.162 1.414 2.    3.742 1.414 2.646 2.449\n",
      " 3.464 2.828 5.657 1.732 3.464 2.236 2.236 5.196 5.    4.123 3.317 3.464\n",
      " 3.606 2.646 1.732 2.236 2.449 1.414 2.    2.646 2.828 1.732 2.    3.464\n",
      " 3.    3.742 1.732 1.414 2.828 0.    2.449 1.    2.236 1.732 1.    2.\n",
      " 5.099 2.828 2.236 1.732 1.732 4.796 1.414 1.    0.    2.646 2.449 4.472\n",
      " 2.236 3.464 2.828 4.123 0.    2.449 2.236 2.236 1.414 4.899 4.899 3.\n",
      " 2.646 2.449 1.414 2.    2.828 2.646 3.162 1.    3.606 2.236 4.796 1.414\n",
      " 3.317 2.646 1.414 2.236 4.243 1.732 3.317 1.414 3.464 2.646 1.414 1.\n",
      " 3.    4.796 1.414 0.    1.414 3.162 2.449 3.464 3.    2.    2.236 1.732\n",
      " 3.464 2.    2.    4.899 0.    2.646 4.243 0.    0.    3.    3.162 2.449\n",
      " 0.    1.732 2.828 1.    2.    2.449 3.464 2.449 2.449 3.606 3.162 1.\n",
      " 1.732 3.    3.162 3.317 2.    3.    3.742 4.472 2.449 1.    2.    5.292\n",
      " 0.    2.449 3.464 3.    2.828 0.    3.    1.732 1.    2.236 3.    2.449\n",
      " 3.873 4.    0.    3.    2.646 2.449 1.732 3.464 2.    1.732 3.742 2.828\n",
      " 2.828 3.162 2.236]\n"
     ]
    }
   ],
   "source": [
    "similarity_ts= neighbors_k_ts\n",
    "cpd_AD=similarity_ts[0,:]\n",
    "cpd_value = np.round(cpd_AD, 3)\n",
    "print(cpd_value)"
   ]
  },
  {
   "cell_type": "code",
   "execution_count": 56,
   "metadata": {},
   "outputs": [
    {
     "name": "stdout",
     "output_type": "stream",
     "text": [
      "[ True  True False False False  True  True  True  True False  True  True\n",
      " False  True  True  True  True False False  True False  True False  True\n",
      " False False  True False  True False False False False  True  True  True\n",
      " False  True  True False False  True False False False  True False  True\n",
      "  True  True False  True False False False  True  True  True False  True\n",
      "  True  True False  True False False  True  True  True  True  True  True\n",
      "  True False  True  True  True  True False  True  True  True False  True\n",
      " False  True  True  True False  True  True  True  True  True  True False\n",
      " False False  True False  True False  True  True False False  True  True\n",
      "  True  True  True  True  True  True False  True False  True  True  True\n",
      "  True  True  True  True  True  True  True  True  True False  True  True\n",
      "  True  True False  True  True False  True  True  True  True  True  True\n",
      " False  True  True  True False  True  True  True  True False False  True\n",
      "  True  True False  True False  True  True  True  True  True False False\n",
      "  True  True  True  True  True  True  True  True  True False False False\n",
      "  True  True False  True  True  True False  True False  True  True  True\n",
      "  True  True False  True  True  True  True  True  True False  True  True\n",
      "  True  True  True  True  True  True  True  True  True False  True False\n",
      "  True  True False  True  True False  True  True  True  True  True False\n",
      "  True  True  True False  True  True  True  True  True  True  True  True\n",
      "  True  True  True  True  True  True  True  True  True  True False  True\n",
      "  True  True  True  True  True  True False  True False  True  True  True\n",
      "  True  True  True False  True False  True  True False  True  True  True\n",
      " False  True  True  True  True  True False False  True  True  True False\n",
      "  True  True  True  True False  True  True  True False  True  True  True\n",
      "  True False  True False False  True  True False  True  True  True  True\n",
      "  True  True  True  True  True  True  True False  True  True False False\n",
      "  True  True False False  True  True  True False  True False  True  True\n",
      "  True  True False False  True  True  True  True  True  True  True False\n",
      "  True  True  True False False  True False False  True  True  True  True\n",
      "  True False False False False False  True  True  True  True  True  True\n",
      "  True False  True  True  True False  True  True  True False False  True\n",
      "  True  True  True  True  True False  True  True  True  True  True  True\n",
      "  True  True False  True  True  True  True  True False False  True  True\n",
      " False  True  True False  True  True  True  True  True False  True  True\n",
      " False False  True  True False  True  True False  True  True  True  True\n",
      "  True  True False  True  True False  True  True False  True  True False\n",
      " False  True  True False  True  True  True  True False False  True False\n",
      " False  True False  True  True  True  True  True  True  True  True False\n",
      "  True False False  True  True  True  True False  True  True  True False\n",
      " False  True  True  True  True  True  True  True  True  True  True  True\n",
      "  True  True  True  True  True  True  True  True  True False False  True\n",
      "  True  True  True False  True  True  True  True  True  True  True  True\n",
      " False  True  True  True False  True  True False  True  True  True False\n",
      "  True  True  True False  True  True  True  True  True  True False False\n",
      "  True False  True  True  True  True  True False  True  True  True  True\n",
      "  True  True  True  True  True  True False False  True  True  True False\n",
      "  True  True  True  True  True  True  True  True  True False  True  True\n",
      "  True  True False  True  True  True  True  True False  True  True False\n",
      "  True  True False False False  True False False  True  True  True  True\n",
      "  True  True  True False  True  True  True  True False  True  True  True\n",
      " False  True False  True False  True  True False False False  True False\n",
      " False  True  True  True  True  True  True  True  True  True  True False\n",
      "  True False  True  True  True  True  True  True  True  True  True  True\n",
      " False  True  True  True  True False  True  True  True  True  True False\n",
      "  True False  True False  True  True  True  True  True False False  True\n",
      "  True  True  True  True  True  True  True  True False  True False  True\n",
      "  True  True  True  True False  True  True  True False  True  True  True\n",
      "  True False  True  True  True  True  True False  True  True  True  True\n",
      " False  True  True False  True  True False  True  True  True  True  True\n",
      "  True  True  True  True  True  True False  True  True False  True  True\n",
      "  True  True  True  True  True  True False False  True  True  True False\n",
      "  True  True False  True  True  True  True  True  True  True  True  True\n",
      " False False  True  True  True  True  True False  True  True False  True\n",
      "  True  True  True]\n"
     ]
    }
   ],
   "source": [
    "cpd_AD = np.where(cpd_value <= model_AD_limit, True, False)\n",
    "print(cpd_AD)"
   ]
  },
  {
   "cell_type": "code",
   "execution_count": 57,
   "metadata": {},
   "outputs": [
    {
     "name": "stdout",
     "output_type": "stream",
     "text": [
      "Coverage =  0.74\n"
     ]
    }
   ],
   "source": [
    "print(\"Coverage = \", round(sum(cpd_AD) / len(cpd_AD), 2))"
   ]
  },
  {
   "cell_type": "code",
   "execution_count": 58,
   "metadata": {},
   "outputs": [
    {
     "name": "stdout",
     "output_type": "stream",
     "text": [
      "Indices of substances included in AD =  [  0   1   5   6   7   8  10  11  13  14  15  16  19  21  23  26  28  33\n",
      "  34  35  37  38  41  45  47  48  49  51  55  56  57  59  60  61  63  66\n",
      "  67  68  69  70  71  72  74  75  76  77  79  80  81  83  85  86  87  89\n",
      "  90  91  92  93  94  98 100 102 103 106 107 108 109 110 111 112 113 115\n",
      " 117 118 119 120 121 122 123 124 125 126 127 128 130 131 132 133 135 136\n",
      " 138 139 140 141 142 143 145 146 147 149 150 151 152 155 156 157 159 161\n",
      " 162 163 164 165 168 169 170 171 172 173 174 175 176 180 181 183 184 185\n",
      " 187 189 190 191 192 193 195 196 197 198 199 200 202 203 204 205 206 207\n",
      " 208 209 210 211 212 214 216 217 219 220 222 223 224 225 226 228 229 230\n",
      " 232 233 234 235 236 237 238 239 240 241 242 243 244 245 246 247 248 249\n",
      " 251 252 253 254 255 256 257 259 261 262 263 264 265 266 268 270 271 273\n",
      " 274 275 277 278 279 280 281 284 285 286 288 289 290 291 293 294 295 297\n",
      " 298 299 300 302 305 306 308 309 310 311 312 313 314 315 316 317 318 320\n",
      " 321 324 325 328 329 330 332 334 335 336 337 340 341 342 343 344 345 346\n",
      " 348 349 350 353 356 357 358 359 360 366 367 368 369 370 371 372 374 375\n",
      " 376 378 379 380 383 384 385 386 387 388 390 391 392 393 394 395 396 397\n",
      " 399 400 401 402 403 406 407 409 410 412 413 414 415 416 418 419 422 423\n",
      " 425 426 428 429 430 431 432 433 435 436 438 439 441 442 445 446 448 449\n",
      " 450 451 454 457 459 460 461 462 463 464 465 466 468 471 472 473 474 476\n",
      " 477 478 481 482 483 484 485 486 487 488 489 490 491 492 493 494 495 496\n",
      " 497 498 499 500 503 504 505 506 508 509 510 511 512 513 514 515 517 518\n",
      " 519 521 522 524 525 526 528 529 530 532 533 534 535 536 537 540 542 543\n",
      " 544 545 546 548 549 550 551 552 553 554 555 556 557 560 561 562 564 565\n",
      " 566 567 568 569 570 571 572 574 575 576 577 579 580 581 582 583 585 586\n",
      " 588 589 593 596 597 598 599 600 601 602 604 605 606 607 609 610 611 613\n",
      " 615 617 618 622 625 626 627 628 629 630 631 632 633 634 636 638 639 640\n",
      " 641 642 643 644 645 646 647 649 650 651 652 654 655 656 657 658 660 662\n",
      " 664 665 666 667 668 671 672 673 674 675 676 677 678 679 681 683 684 685\n",
      " 686 687 689 690 691 693 694 695 696 698 699 700 701 702 704 705 706 707\n",
      " 709 710 712 713 715 716 717 718 719 720 721 722 723 724 725 727 728 730\n",
      " 731 732 733 734 735 736 737 740 741 742 744 745 747 748 749 750 751 752\n",
      " 753 754 755 758 759 760 761 762 764 765 767 768 769 770]\n"
     ]
    }
   ],
   "source": [
    "print(\"Indices of substances included in AD = \", np.where(cpd_AD != 0)[0])"
   ]
  },
  {
   "cell_type": "code",
   "execution_count": 59,
   "metadata": {},
   "outputs": [],
   "source": [
    "out_Ad=list(np.where(cpd_AD == 0)[0])"
   ]
  },
  {
   "cell_type": "markdown",
   "metadata": {},
   "source": [
    "# 12. Prediction only for molecules included in  AD"
   ]
  },
  {
   "cell_type": "code",
   "execution_count": 60,
   "metadata": {},
   "outputs": [],
   "source": [
    "y_pred_MLPR_ad=list(y_pred_MLPR)"
   ]
  },
  {
   "cell_type": "code",
   "execution_count": 61,
   "metadata": {},
   "outputs": [],
   "source": [
    "y_pred_MLPR_ad[:] = [x for i,x in enumerate(y_pred_MLPR_ad) if i not in out_Ad]"
   ]
  },
  {
   "cell_type": "code",
   "execution_count": 62,
   "metadata": {},
   "outputs": [
    {
     "data": {
      "text/plain": [
       "572"
      ]
     },
     "execution_count": 62,
     "metadata": {},
     "output_type": "execute_result"
    }
   ],
   "source": [
    "len(y_pred_MLPR_ad)"
   ]
  },
  {
   "cell_type": "code",
   "execution_count": 63,
   "metadata": {},
   "outputs": [],
   "source": [
    "y_ts_ad=list(y_ts)"
   ]
  },
  {
   "cell_type": "code",
   "execution_count": 64,
   "metadata": {},
   "outputs": [],
   "source": [
    "y_ts_ad[:] = [x for i,x in enumerate(y_ts_ad) if i not in out_Ad]"
   ]
  },
  {
   "cell_type": "code",
   "execution_count": 65,
   "metadata": {},
   "outputs": [
    {
     "data": {
      "text/plain": [
       "572"
      ]
     },
     "execution_count": 65,
     "metadata": {},
     "output_type": "execute_result"
    }
   ],
   "source": [
    "len(y_ts_ad)"
   ]
  },
  {
   "cell_type": "code",
   "execution_count": 66,
   "metadata": {},
   "outputs": [
    {
     "data": {
      "text/plain": [
       "0.67"
      ]
     },
     "execution_count": 66,
     "metadata": {},
     "output_type": "execute_result"
    }
   ],
   "source": [
    "Q2_TS = round(r2_score(y_ts_ad, y_pred_MLPR_ad), 2)\n",
    "Q2_TS"
   ]
  },
  {
   "cell_type": "code",
   "execution_count": 129,
   "metadata": {
    "scrolled": true
   },
   "outputs": [
    {
     "data": {
      "text/plain": [
       "0.66"
      ]
     },
     "execution_count": 129,
     "metadata": {},
     "output_type": "execute_result"
    }
   ],
   "source": [
    "RMSE_TS=round(np.sqrt(mean_absolute_error(y_ts_ad, y_pred_MLPR_ad)), 2)\n",
    "RMSE_TS"
   ]
  },
  {
   "cell_type": "code",
   "execution_count": null,
   "metadata": {},
   "outputs": [],
   "source": []
  },
  {
   "cell_type": "markdown",
   "metadata": {},
   "source": [
    "# k-nearest neighbors"
   ]
  },
  {
   "cell_type": "code",
   "execution_count": 67,
   "metadata": {},
   "outputs": [],
   "source": [
    "from sklearn.neighbors import KNeighborsRegressor"
   ]
  },
  {
   "cell_type": "code",
   "execution_count": 68,
   "metadata": {},
   "outputs": [],
   "source": [
    "k_range = list(range(1, 31))\n",
    "param_grid = dict(n_neighbors=k_range)"
   ]
  },
  {
   "cell_type": "code",
   "execution_count": 69,
   "metadata": {},
   "outputs": [],
   "source": [
    "m = GridSearchCV(KNeighborsRegressor(), param_grid, n_jobs=-1, cv=cv, verbose=1)"
   ]
  },
  {
   "cell_type": "code",
   "execution_count": 70,
   "metadata": {},
   "outputs": [
    {
     "name": "stdout",
     "output_type": "stream",
     "text": [
      "Fitting 5 folds for each of 30 candidates, totalling 150 fits\n"
     ]
    },
    {
     "data": {
      "text/html": [
       "<style>#sk-container-id-2 {color: black;}#sk-container-id-2 pre{padding: 0;}#sk-container-id-2 div.sk-toggleable {background-color: white;}#sk-container-id-2 label.sk-toggleable__label {cursor: pointer;display: block;width: 100%;margin-bottom: 0;padding: 0.3em;box-sizing: border-box;text-align: center;}#sk-container-id-2 label.sk-toggleable__label-arrow:before {content: \"▸\";float: left;margin-right: 0.25em;color: #696969;}#sk-container-id-2 label.sk-toggleable__label-arrow:hover:before {color: black;}#sk-container-id-2 div.sk-estimator:hover label.sk-toggleable__label-arrow:before {color: black;}#sk-container-id-2 div.sk-toggleable__content {max-height: 0;max-width: 0;overflow: hidden;text-align: left;background-color: #f0f8ff;}#sk-container-id-2 div.sk-toggleable__content pre {margin: 0.2em;color: black;border-radius: 0.25em;background-color: #f0f8ff;}#sk-container-id-2 input.sk-toggleable__control:checked~div.sk-toggleable__content {max-height: 200px;max-width: 100%;overflow: auto;}#sk-container-id-2 input.sk-toggleable__control:checked~label.sk-toggleable__label-arrow:before {content: \"▾\";}#sk-container-id-2 div.sk-estimator input.sk-toggleable__control:checked~label.sk-toggleable__label {background-color: #d4ebff;}#sk-container-id-2 div.sk-label input.sk-toggleable__control:checked~label.sk-toggleable__label {background-color: #d4ebff;}#sk-container-id-2 input.sk-hidden--visually {border: 0;clip: rect(1px 1px 1px 1px);clip: rect(1px, 1px, 1px, 1px);height: 1px;margin: -1px;overflow: hidden;padding: 0;position: absolute;width: 1px;}#sk-container-id-2 div.sk-estimator {font-family: monospace;background-color: #f0f8ff;border: 1px dotted black;border-radius: 0.25em;box-sizing: border-box;margin-bottom: 0.5em;}#sk-container-id-2 div.sk-estimator:hover {background-color: #d4ebff;}#sk-container-id-2 div.sk-parallel-item::after {content: \"\";width: 100%;border-bottom: 1px solid gray;flex-grow: 1;}#sk-container-id-2 div.sk-label:hover label.sk-toggleable__label {background-color: #d4ebff;}#sk-container-id-2 div.sk-serial::before {content: \"\";position: absolute;border-left: 1px solid gray;box-sizing: border-box;top: 0;bottom: 0;left: 50%;z-index: 0;}#sk-container-id-2 div.sk-serial {display: flex;flex-direction: column;align-items: center;background-color: white;padding-right: 0.2em;padding-left: 0.2em;position: relative;}#sk-container-id-2 div.sk-item {position: relative;z-index: 1;}#sk-container-id-2 div.sk-parallel {display: flex;align-items: stretch;justify-content: center;background-color: white;position: relative;}#sk-container-id-2 div.sk-item::before, #sk-container-id-2 div.sk-parallel-item::before {content: \"\";position: absolute;border-left: 1px solid gray;box-sizing: border-box;top: 0;bottom: 0;left: 50%;z-index: -1;}#sk-container-id-2 div.sk-parallel-item {display: flex;flex-direction: column;z-index: 1;position: relative;background-color: white;}#sk-container-id-2 div.sk-parallel-item:first-child::after {align-self: flex-end;width: 50%;}#sk-container-id-2 div.sk-parallel-item:last-child::after {align-self: flex-start;width: 50%;}#sk-container-id-2 div.sk-parallel-item:only-child::after {width: 0;}#sk-container-id-2 div.sk-dashed-wrapped {border: 1px dashed gray;margin: 0 0.4em 0.5em 0.4em;box-sizing: border-box;padding-bottom: 0.4em;background-color: white;}#sk-container-id-2 div.sk-label label {font-family: monospace;font-weight: bold;display: inline-block;line-height: 1.2em;}#sk-container-id-2 div.sk-label-container {text-align: center;}#sk-container-id-2 div.sk-container {/* jupyter's `normalize.less` sets `[hidden] { display: none; }` but bootstrap.min.css set `[hidden] { display: none !important; }` so we also need the `!important` here to be able to override the default hidden behavior on the sphinx rendered scikit-learn.org. See: https://github.com/scikit-learn/scikit-learn/issues/21755 */display: inline-block !important;position: relative;}#sk-container-id-2 div.sk-text-repr-fallback {display: none;}</style><div id=\"sk-container-id-2\" class=\"sk-top-container\"><div class=\"sk-text-repr-fallback\"><pre>GridSearchCV(cv=KFold(n_splits=5, random_state=42, shuffle=True),\n",
       "             estimator=KNeighborsRegressor(), n_jobs=-1,\n",
       "             param_grid={&#x27;n_neighbors&#x27;: [1, 2, 3, 4, 5, 6, 7, 8, 9, 10, 11, 12,\n",
       "                                         13, 14, 15, 16, 17, 18, 19, 20, 21, 22,\n",
       "                                         23, 24, 25, 26, 27, 28, 29, 30]},\n",
       "             verbose=1)</pre><b>In a Jupyter environment, please rerun this cell to show the HTML representation or trust the notebook. <br />On GitHub, the HTML representation is unable to render, please try loading this page with nbviewer.org.</b></div><div class=\"sk-container\" hidden><div class=\"sk-item sk-dashed-wrapped\"><div class=\"sk-label-container\"><div class=\"sk-label sk-toggleable\"><input class=\"sk-toggleable__control sk-hidden--visually\" id=\"sk-estimator-id-4\" type=\"checkbox\" ><label for=\"sk-estimator-id-4\" class=\"sk-toggleable__label sk-toggleable__label-arrow\">GridSearchCV</label><div class=\"sk-toggleable__content\"><pre>GridSearchCV(cv=KFold(n_splits=5, random_state=42, shuffle=True),\n",
       "             estimator=KNeighborsRegressor(), n_jobs=-1,\n",
       "             param_grid={&#x27;n_neighbors&#x27;: [1, 2, 3, 4, 5, 6, 7, 8, 9, 10, 11, 12,\n",
       "                                         13, 14, 15, 16, 17, 18, 19, 20, 21, 22,\n",
       "                                         23, 24, 25, 26, 27, 28, 29, 30]},\n",
       "             verbose=1)</pre></div></div></div><div class=\"sk-parallel\"><div class=\"sk-parallel-item\"><div class=\"sk-item\"><div class=\"sk-label-container\"><div class=\"sk-label sk-toggleable\"><input class=\"sk-toggleable__control sk-hidden--visually\" id=\"sk-estimator-id-5\" type=\"checkbox\" ><label for=\"sk-estimator-id-5\" class=\"sk-toggleable__label sk-toggleable__label-arrow\">estimator: KNeighborsRegressor</label><div class=\"sk-toggleable__content\"><pre>KNeighborsRegressor()</pre></div></div></div><div class=\"sk-serial\"><div class=\"sk-item\"><div class=\"sk-estimator sk-toggleable\"><input class=\"sk-toggleable__control sk-hidden--visually\" id=\"sk-estimator-id-6\" type=\"checkbox\" ><label for=\"sk-estimator-id-6\" class=\"sk-toggleable__label sk-toggleable__label-arrow\">KNeighborsRegressor</label><div class=\"sk-toggleable__content\"><pre>KNeighborsRegressor()</pre></div></div></div></div></div></div></div></div></div></div>"
      ],
      "text/plain": [
       "GridSearchCV(cv=KFold(n_splits=5, random_state=42, shuffle=True),\n",
       "             estimator=KNeighborsRegressor(), n_jobs=-1,\n",
       "             param_grid={'n_neighbors': [1, 2, 3, 4, 5, 6, 7, 8, 9, 10, 11, 12,\n",
       "                                         13, 14, 15, 16, 17, 18, 19, 20, 21, 22,\n",
       "                                         23, 24, 25, 26, 27, 28, 29, 30]},\n",
       "             verbose=1)"
      ]
     },
     "execution_count": 70,
     "metadata": {},
     "output_type": "execute_result"
    }
   ],
   "source": [
    "m.fit(x_tr, y_tr)"
   ]
  },
  {
   "cell_type": "code",
   "execution_count": 71,
   "metadata": {},
   "outputs": [],
   "source": [
    "best_kNN = m.best_estimator_"
   ]
  },
  {
   "cell_type": "code",
   "execution_count": 72,
   "metadata": {},
   "outputs": [
    {
     "data": {
      "text/plain": [
       "{'n_neighbors': 4}"
      ]
     },
     "execution_count": 72,
     "metadata": {},
     "output_type": "execute_result"
    }
   ],
   "source": [
    "m.best_params_"
   ]
  },
  {
   "cell_type": "code",
   "execution_count": 73,
   "metadata": {},
   "outputs": [],
   "source": [
    "y_pred_ws_kNN = best_kNN.predict(x_tr)"
   ]
  },
  {
   "cell_type": "code",
   "execution_count": 74,
   "metadata": {},
   "outputs": [
    {
     "data": {
      "text/plain": [
       "0.78"
      ]
     },
     "execution_count": 74,
     "metadata": {},
     "output_type": "execute_result"
    }
   ],
   "source": [
    "R2_WS = round(r2_score(y_tr, y_pred_ws_kNN), 2)\n",
    "R2_WS"
   ]
  },
  {
   "cell_type": "code",
   "execution_count": 75,
   "metadata": {},
   "outputs": [
    {
     "data": {
      "text/plain": [
       "0.61"
      ]
     },
     "execution_count": 75,
     "metadata": {},
     "output_type": "execute_result"
    }
   ],
   "source": [
    "RMSE_WS=round(np.sqrt(mean_absolute_error(y_tr, y_pred_ws_kNN)), 2)\n",
    "RMSE_WS"
   ]
  },
  {
   "cell_type": "code",
   "execution_count": 76,
   "metadata": {},
   "outputs": [],
   "source": [
    "y_pred_CV_kNN = cross_val_predict(best_kNN, x_tr, y_tr, cv=cv)"
   ]
  },
  {
   "cell_type": "code",
   "execution_count": 77,
   "metadata": {},
   "outputs": [
    {
     "data": {
      "text/plain": [
       "array([4.4925   , 6.985    , 5.9124994, ..., 7.5650005, 8.16     ,\n",
       "       7.6775002], dtype=float32)"
      ]
     },
     "execution_count": 77,
     "metadata": {},
     "output_type": "execute_result"
    }
   ],
   "source": [
    "y_pred_CV_kNN"
   ]
  },
  {
   "cell_type": "code",
   "execution_count": 78,
   "metadata": {},
   "outputs": [
    {
     "data": {
      "text/plain": [
       "0.56"
      ]
     },
     "execution_count": 78,
     "metadata": {},
     "output_type": "execute_result"
    }
   ],
   "source": [
    "Q2_CV = round(r2_score(y_tr, y_pred_CV_kNN), 2)\n",
    "Q2_CV"
   ]
  },
  {
   "cell_type": "code",
   "execution_count": 79,
   "metadata": {},
   "outputs": [
    {
     "data": {
      "text/plain": [
       "0.73"
      ]
     },
     "execution_count": 79,
     "metadata": {},
     "output_type": "execute_result"
    }
   ],
   "source": [
    "RMSE_CV=round(np.sqrt(mean_absolute_error(y_tr, y_pred_CV_kNN)), 2)\n",
    "RMSE_CV"
   ]
  },
  {
   "cell_type": "markdown",
   "metadata": {},
   "source": [
    "# 9. Prediction for test set's molecules"
   ]
  },
  {
   "cell_type": "code",
   "execution_count": 80,
   "metadata": {},
   "outputs": [],
   "source": [
    "x_ts = np.array(x_ts, dtype=np.float32)\n",
    "y_ts = np.array(y_ts, dtype=np.float32)"
   ]
  },
  {
   "cell_type": "code",
   "execution_count": 81,
   "metadata": {},
   "outputs": [],
   "source": [
    "y_pred_kNN = best_kNN.predict(x_ts)"
   ]
  },
  {
   "cell_type": "code",
   "execution_count": 82,
   "metadata": {},
   "outputs": [
    {
     "data": {
      "text/plain": [
       "0.61"
      ]
     },
     "execution_count": 82,
     "metadata": {},
     "output_type": "execute_result"
    }
   ],
   "source": [
    "Q2_TS = round(r2_score(y_ts, y_pred_kNN), 2)\n",
    "Q2_TS"
   ]
  },
  {
   "cell_type": "code",
   "execution_count": 83,
   "metadata": {},
   "outputs": [
    {
     "data": {
      "text/plain": [
       "0.71"
      ]
     },
     "execution_count": 83,
     "metadata": {},
     "output_type": "execute_result"
    }
   ],
   "source": [
    "RMSE_TS=round(np.sqrt(mean_absolute_error(y_ts, y_pred_kNN)), 2)\n",
    "RMSE_TS"
   ]
  },
  {
   "cell_type": "markdown",
   "metadata": {},
   "source": [
    "# save the model to disk"
   ]
  },
  {
   "cell_type": "code",
   "execution_count": 164,
   "metadata": {},
   "outputs": [],
   "source": [
    "pickle.dump(best_kNN, open('Models/Padels/HDAC6_kNN_KlekotaRoth.pkl', 'wb'))"
   ]
  },
  {
   "cell_type": "markdown",
   "metadata": {},
   "source": [
    "# load the model from disk"
   ]
  },
  {
   "cell_type": "code",
   "execution_count": 190,
   "metadata": {},
   "outputs": [],
   "source": [
    "best_kNN = pickle.load(open('Models/Padels/HDAC6_kNN_KlekotaRoth.pkl', 'rb'))"
   ]
  },
  {
   "cell_type": "markdown",
   "metadata": {},
   "source": [
    "# 10. Y-randomization kNN"
   ]
  },
  {
   "cell_type": "code",
   "execution_count": 165,
   "metadata": {},
   "outputs": [
    {
     "name": "stderr",
     "output_type": "stream",
     "text": [
      "[Parallel(n_jobs=-1)]: Using backend LokyBackend with 16 concurrent workers.\n",
      "[Parallel(n_jobs=-1)]: Done  18 tasks      | elapsed:    3.6s\n"
     ]
    },
    {
     "name": "stdout",
     "output_type": "stream",
     "text": [
      "True score =  0.5 \n",
      "Y-randomization =  -0.34 \n",
      "p-value =  0.0196\n"
     ]
    },
    {
     "name": "stderr",
     "output_type": "stream",
     "text": [
      "[Parallel(n_jobs=-1)]: Done  50 out of  50 | elapsed:    6.2s finished\n"
     ]
    }
   ],
   "source": [
    "permutations = 50\n",
    "score, permutation_scores, pvalue = permutation_test_score(best_kNN, x_tr, y_tr,\n",
    "                                                           cv=cv, scoring='r2',\n",
    "                                                           n_permutations=permutations,\n",
    "                                                           n_jobs=-1,\n",
    "                                                           verbose=1,\n",
    "                                                           random_state=seed)\n",
    "print('True score = ', score.round(2),\n",
    "      '\\nY-randomization = ', np.mean(permutation_scores).round(2),\n",
    "      '\\np-value = ', pvalue.round(4))"
   ]
  },
  {
   "cell_type": "markdown",
   "metadata": {},
   "source": [
    "# 11. Estimating applicability domain. Method - Euclidian distances, K=1"
   ]
  },
  {
   "cell_type": "code",
   "execution_count": 84,
   "metadata": {},
   "outputs": [],
   "source": [
    "neighbors_k= pairwise_distances(x_tr, n_jobs=-1)\n",
    "neighbors_k.sort(0)"
   ]
  },
  {
   "cell_type": "code",
   "execution_count": 85,
   "metadata": {},
   "outputs": [
    {
     "data": {
      "text/html": [
       "<div>\n",
       "<style scoped>\n",
       "    .dataframe tbody tr th:only-of-type {\n",
       "        vertical-align: middle;\n",
       "    }\n",
       "\n",
       "    .dataframe tbody tr th {\n",
       "        vertical-align: top;\n",
       "    }\n",
       "\n",
       "    .dataframe thead th {\n",
       "        text-align: right;\n",
       "    }\n",
       "</style>\n",
       "<table border=\"1\" class=\"dataframe\">\n",
       "  <thead>\n",
       "    <tr style=\"text-align: right;\">\n",
       "      <th></th>\n",
       "      <th>0</th>\n",
       "      <th>1</th>\n",
       "      <th>2</th>\n",
       "      <th>3</th>\n",
       "      <th>4</th>\n",
       "      <th>5</th>\n",
       "      <th>6</th>\n",
       "      <th>7</th>\n",
       "      <th>8</th>\n",
       "      <th>9</th>\n",
       "      <th>...</th>\n",
       "      <th>3073</th>\n",
       "      <th>3074</th>\n",
       "      <th>3075</th>\n",
       "      <th>3076</th>\n",
       "      <th>3077</th>\n",
       "      <th>3078</th>\n",
       "      <th>3079</th>\n",
       "      <th>3080</th>\n",
       "      <th>3081</th>\n",
       "      <th>3082</th>\n",
       "    </tr>\n",
       "  </thead>\n",
       "  <tbody>\n",
       "    <tr>\n",
       "      <th>0</th>\n",
       "      <td>0.000000</td>\n",
       "      <td>0.000000</td>\n",
       "      <td>0.000000</td>\n",
       "      <td>0.000000</td>\n",
       "      <td>0.000000</td>\n",
       "      <td>0.000000</td>\n",
       "      <td>0.000000</td>\n",
       "      <td>0.000000</td>\n",
       "      <td>0.000000</td>\n",
       "      <td>0.000000</td>\n",
       "      <td>...</td>\n",
       "      <td>0.000000</td>\n",
       "      <td>0.000000</td>\n",
       "      <td>0.000000</td>\n",
       "      <td>0.000000</td>\n",
       "      <td>0.000000</td>\n",
       "      <td>0.000000</td>\n",
       "      <td>0.000000</td>\n",
       "      <td>0.000000</td>\n",
       "      <td>0.000000</td>\n",
       "      <td>0.000000</td>\n",
       "    </tr>\n",
       "    <tr>\n",
       "      <th>1</th>\n",
       "      <td>3.872983</td>\n",
       "      <td>5.099020</td>\n",
       "      <td>3.872983</td>\n",
       "      <td>2.236068</td>\n",
       "      <td>5.385165</td>\n",
       "      <td>2.000000</td>\n",
       "      <td>3.605551</td>\n",
       "      <td>4.358899</td>\n",
       "      <td>3.162278</td>\n",
       "      <td>6.082763</td>\n",
       "      <td>...</td>\n",
       "      <td>2.828427</td>\n",
       "      <td>3.000000</td>\n",
       "      <td>2.645751</td>\n",
       "      <td>2.236068</td>\n",
       "      <td>2.236068</td>\n",
       "      <td>3.000000</td>\n",
       "      <td>2.645751</td>\n",
       "      <td>4.898980</td>\n",
       "      <td>1.732051</td>\n",
       "      <td>5.000000</td>\n",
       "    </tr>\n",
       "    <tr>\n",
       "      <th>2</th>\n",
       "      <td>6.000000</td>\n",
       "      <td>5.385165</td>\n",
       "      <td>4.582576</td>\n",
       "      <td>2.645751</td>\n",
       "      <td>6.082763</td>\n",
       "      <td>5.656854</td>\n",
       "      <td>5.291502</td>\n",
       "      <td>5.567764</td>\n",
       "      <td>6.782330</td>\n",
       "      <td>6.244998</td>\n",
       "      <td>...</td>\n",
       "      <td>3.872983</td>\n",
       "      <td>4.242640</td>\n",
       "      <td>3.316625</td>\n",
       "      <td>2.645751</td>\n",
       "      <td>2.236068</td>\n",
       "      <td>4.898980</td>\n",
       "      <td>2.828427</td>\n",
       "      <td>4.898980</td>\n",
       "      <td>3.000000</td>\n",
       "      <td>5.099020</td>\n",
       "    </tr>\n",
       "    <tr>\n",
       "      <th>3</th>\n",
       "      <td>6.164414</td>\n",
       "      <td>5.385165</td>\n",
       "      <td>4.690416</td>\n",
       "      <td>2.645751</td>\n",
       "      <td>6.403124</td>\n",
       "      <td>5.916080</td>\n",
       "      <td>5.385165</td>\n",
       "      <td>5.567764</td>\n",
       "      <td>7.141428</td>\n",
       "      <td>6.324555</td>\n",
       "      <td>...</td>\n",
       "      <td>4.795832</td>\n",
       "      <td>4.582576</td>\n",
       "      <td>3.872983</td>\n",
       "      <td>2.828427</td>\n",
       "      <td>2.236068</td>\n",
       "      <td>5.000000</td>\n",
       "      <td>3.162278</td>\n",
       "      <td>5.000000</td>\n",
       "      <td>3.000000</td>\n",
       "      <td>5.099020</td>\n",
       "    </tr>\n",
       "    <tr>\n",
       "      <th>4</th>\n",
       "      <td>6.324555</td>\n",
       "      <td>5.385165</td>\n",
       "      <td>4.795832</td>\n",
       "      <td>2.645751</td>\n",
       "      <td>6.403124</td>\n",
       "      <td>6.000000</td>\n",
       "      <td>5.477226</td>\n",
       "      <td>5.656854</td>\n",
       "      <td>7.211102</td>\n",
       "      <td>6.324555</td>\n",
       "      <td>...</td>\n",
       "      <td>4.795832</td>\n",
       "      <td>4.898980</td>\n",
       "      <td>4.472136</td>\n",
       "      <td>3.000000</td>\n",
       "      <td>2.645751</td>\n",
       "      <td>5.000000</td>\n",
       "      <td>3.316625</td>\n",
       "      <td>5.000000</td>\n",
       "      <td>3.162278</td>\n",
       "      <td>5.099020</td>\n",
       "    </tr>\n",
       "    <tr>\n",
       "      <th>...</th>\n",
       "      <td>...</td>\n",
       "      <td>...</td>\n",
       "      <td>...</td>\n",
       "      <td>...</td>\n",
       "      <td>...</td>\n",
       "      <td>...</td>\n",
       "      <td>...</td>\n",
       "      <td>...</td>\n",
       "      <td>...</td>\n",
       "      <td>...</td>\n",
       "      <td>...</td>\n",
       "      <td>...</td>\n",
       "      <td>...</td>\n",
       "      <td>...</td>\n",
       "      <td>...</td>\n",
       "      <td>...</td>\n",
       "      <td>...</td>\n",
       "      <td>...</td>\n",
       "      <td>...</td>\n",
       "      <td>...</td>\n",
       "      <td>...</td>\n",
       "    </tr>\n",
       "    <tr>\n",
       "      <th>3078</th>\n",
       "      <td>13.190906</td>\n",
       "      <td>12.124355</td>\n",
       "      <td>13.453624</td>\n",
       "      <td>13.341664</td>\n",
       "      <td>13.152946</td>\n",
       "      <td>12.727922</td>\n",
       "      <td>12.649111</td>\n",
       "      <td>13.304134</td>\n",
       "      <td>13.379088</td>\n",
       "      <td>12.845233</td>\n",
       "      <td>...</td>\n",
       "      <td>12.767145</td>\n",
       "      <td>12.961481</td>\n",
       "      <td>12.569805</td>\n",
       "      <td>13.000000</td>\n",
       "      <td>13.266500</td>\n",
       "      <td>13.076696</td>\n",
       "      <td>12.449900</td>\n",
       "      <td>13.674794</td>\n",
       "      <td>12.409674</td>\n",
       "      <td>13.266500</td>\n",
       "    </tr>\n",
       "    <tr>\n",
       "      <th>3079</th>\n",
       "      <td>13.190906</td>\n",
       "      <td>12.206555</td>\n",
       "      <td>13.453624</td>\n",
       "      <td>13.341664</td>\n",
       "      <td>13.152946</td>\n",
       "      <td>12.727922</td>\n",
       "      <td>12.649111</td>\n",
       "      <td>13.304134</td>\n",
       "      <td>13.453624</td>\n",
       "      <td>12.845233</td>\n",
       "      <td>...</td>\n",
       "      <td>12.806249</td>\n",
       "      <td>12.961481</td>\n",
       "      <td>12.609520</td>\n",
       "      <td>13.000000</td>\n",
       "      <td>13.266500</td>\n",
       "      <td>13.076696</td>\n",
       "      <td>12.489996</td>\n",
       "      <td>13.674794</td>\n",
       "      <td>12.449900</td>\n",
       "      <td>13.266500</td>\n",
       "    </tr>\n",
       "    <tr>\n",
       "      <th>3080</th>\n",
       "      <td>13.190906</td>\n",
       "      <td>12.206555</td>\n",
       "      <td>13.453624</td>\n",
       "      <td>13.341664</td>\n",
       "      <td>13.228757</td>\n",
       "      <td>12.727922</td>\n",
       "      <td>12.649111</td>\n",
       "      <td>13.304134</td>\n",
       "      <td>13.490738</td>\n",
       "      <td>12.845233</td>\n",
       "      <td>...</td>\n",
       "      <td>12.845233</td>\n",
       "      <td>12.961481</td>\n",
       "      <td>12.961481</td>\n",
       "      <td>13.000000</td>\n",
       "      <td>13.341664</td>\n",
       "      <td>13.076696</td>\n",
       "      <td>12.649111</td>\n",
       "      <td>13.674794</td>\n",
       "      <td>12.449900</td>\n",
       "      <td>13.266500</td>\n",
       "    </tr>\n",
       "    <tr>\n",
       "      <th>3081</th>\n",
       "      <td>13.190906</td>\n",
       "      <td>12.409674</td>\n",
       "      <td>13.490738</td>\n",
       "      <td>13.341664</td>\n",
       "      <td>13.453624</td>\n",
       "      <td>12.767145</td>\n",
       "      <td>12.727922</td>\n",
       "      <td>13.416408</td>\n",
       "      <td>13.564660</td>\n",
       "      <td>12.845233</td>\n",
       "      <td>...</td>\n",
       "      <td>12.884099</td>\n",
       "      <td>12.961481</td>\n",
       "      <td>13.038404</td>\n",
       "      <td>13.114877</td>\n",
       "      <td>13.379088</td>\n",
       "      <td>13.076696</td>\n",
       "      <td>12.727922</td>\n",
       "      <td>13.711309</td>\n",
       "      <td>12.489996</td>\n",
       "      <td>13.304134</td>\n",
       "    </tr>\n",
       "    <tr>\n",
       "      <th>3082</th>\n",
       "      <td>13.564660</td>\n",
       "      <td>12.489996</td>\n",
       "      <td>13.490738</td>\n",
       "      <td>13.341664</td>\n",
       "      <td>13.527749</td>\n",
       "      <td>12.922848</td>\n",
       "      <td>12.727922</td>\n",
       "      <td>13.416408</td>\n",
       "      <td>13.564660</td>\n",
       "      <td>12.845233</td>\n",
       "      <td>...</td>\n",
       "      <td>12.922848</td>\n",
       "      <td>12.961481</td>\n",
       "      <td>13.341664</td>\n",
       "      <td>13.114877</td>\n",
       "      <td>13.379088</td>\n",
       "      <td>13.076696</td>\n",
       "      <td>12.806249</td>\n",
       "      <td>13.784049</td>\n",
       "      <td>12.806249</td>\n",
       "      <td>13.379088</td>\n",
       "    </tr>\n",
       "  </tbody>\n",
       "</table>\n",
       "<p>3083 rows × 3083 columns</p>\n",
       "</div>"
      ],
      "text/plain": [
       "           0          1          2          3          4          5     \\\n",
       "0      0.000000   0.000000   0.000000   0.000000   0.000000   0.000000   \n",
       "1      3.872983   5.099020   3.872983   2.236068   5.385165   2.000000   \n",
       "2      6.000000   5.385165   4.582576   2.645751   6.082763   5.656854   \n",
       "3      6.164414   5.385165   4.690416   2.645751   6.403124   5.916080   \n",
       "4      6.324555   5.385165   4.795832   2.645751   6.403124   6.000000   \n",
       "...         ...        ...        ...        ...        ...        ...   \n",
       "3078  13.190906  12.124355  13.453624  13.341664  13.152946  12.727922   \n",
       "3079  13.190906  12.206555  13.453624  13.341664  13.152946  12.727922   \n",
       "3080  13.190906  12.206555  13.453624  13.341664  13.228757  12.727922   \n",
       "3081  13.190906  12.409674  13.490738  13.341664  13.453624  12.767145   \n",
       "3082  13.564660  12.489996  13.490738  13.341664  13.527749  12.922848   \n",
       "\n",
       "           6          7          8          9     ...       3073       3074  \\\n",
       "0      0.000000   0.000000   0.000000   0.000000  ...   0.000000   0.000000   \n",
       "1      3.605551   4.358899   3.162278   6.082763  ...   2.828427   3.000000   \n",
       "2      5.291502   5.567764   6.782330   6.244998  ...   3.872983   4.242640   \n",
       "3      5.385165   5.567764   7.141428   6.324555  ...   4.795832   4.582576   \n",
       "4      5.477226   5.656854   7.211102   6.324555  ...   4.795832   4.898980   \n",
       "...         ...        ...        ...        ...  ...        ...        ...   \n",
       "3078  12.649111  13.304134  13.379088  12.845233  ...  12.767145  12.961481   \n",
       "3079  12.649111  13.304134  13.453624  12.845233  ...  12.806249  12.961481   \n",
       "3080  12.649111  13.304134  13.490738  12.845233  ...  12.845233  12.961481   \n",
       "3081  12.727922  13.416408  13.564660  12.845233  ...  12.884099  12.961481   \n",
       "3082  12.727922  13.416408  13.564660  12.845233  ...  12.922848  12.961481   \n",
       "\n",
       "           3075       3076       3077       3078       3079       3080  \\\n",
       "0      0.000000   0.000000   0.000000   0.000000   0.000000   0.000000   \n",
       "1      2.645751   2.236068   2.236068   3.000000   2.645751   4.898980   \n",
       "2      3.316625   2.645751   2.236068   4.898980   2.828427   4.898980   \n",
       "3      3.872983   2.828427   2.236068   5.000000   3.162278   5.000000   \n",
       "4      4.472136   3.000000   2.645751   5.000000   3.316625   5.000000   \n",
       "...         ...        ...        ...        ...        ...        ...   \n",
       "3078  12.569805  13.000000  13.266500  13.076696  12.449900  13.674794   \n",
       "3079  12.609520  13.000000  13.266500  13.076696  12.489996  13.674794   \n",
       "3080  12.961481  13.000000  13.341664  13.076696  12.649111  13.674794   \n",
       "3081  13.038404  13.114877  13.379088  13.076696  12.727922  13.711309   \n",
       "3082  13.341664  13.114877  13.379088  13.076696  12.806249  13.784049   \n",
       "\n",
       "           3081       3082  \n",
       "0      0.000000   0.000000  \n",
       "1      1.732051   5.000000  \n",
       "2      3.000000   5.099020  \n",
       "3      3.000000   5.099020  \n",
       "4      3.162278   5.099020  \n",
       "...         ...        ...  \n",
       "3078  12.409674  13.266500  \n",
       "3079  12.449900  13.266500  \n",
       "3080  12.449900  13.266500  \n",
       "3081  12.489996  13.304134  \n",
       "3082  12.806249  13.379088  \n",
       "\n",
       "[3083 rows x 3083 columns]"
      ]
     },
     "execution_count": 85,
     "metadata": {},
     "output_type": "execute_result"
    }
   ],
   "source": [
    "df_tr=pd.DataFrame(neighbors_k)\n",
    "df_tr"
   ]
  },
  {
   "cell_type": "code",
   "execution_count": 86,
   "metadata": {},
   "outputs": [],
   "source": [
    "similarity= neighbors_k"
   ]
  },
  {
   "cell_type": "code",
   "execution_count": 87,
   "metadata": {},
   "outputs": [],
   "source": [
    "Dmean=np.mean(similarity[1,:])"
   ]
  },
  {
   "cell_type": "code",
   "execution_count": 88,
   "metadata": {},
   "outputs": [
    {
     "data": {
      "text/plain": [
       "2.73"
      ]
     },
     "execution_count": 88,
     "metadata": {},
     "output_type": "execute_result"
    }
   ],
   "source": [
    "round(Dmean, 2)"
   ]
  },
  {
   "cell_type": "code",
   "execution_count": 89,
   "metadata": {},
   "outputs": [],
   "source": [
    "std=np.std(similarity[1,:])"
   ]
  },
  {
   "cell_type": "code",
   "execution_count": 90,
   "metadata": {},
   "outputs": [
    {
     "data": {
      "text/plain": [
       "1.24"
      ]
     },
     "execution_count": 90,
     "metadata": {},
     "output_type": "execute_result"
    }
   ],
   "source": [
    "round(std, 2)"
   ]
  },
  {
   "cell_type": "code",
   "execution_count": 91,
   "metadata": {},
   "outputs": [
    {
     "name": "stdout",
     "output_type": "stream",
     "text": [
      "3.34\n"
     ]
    }
   ],
   "source": [
    "model_AD_limit=Dmean+std*0.5\n",
    "print(np.round(model_AD_limit, 2))"
   ]
  },
  {
   "cell_type": "code",
   "execution_count": 92,
   "metadata": {},
   "outputs": [],
   "source": [
    "neighbors_k_ts= pairwise_distances(x_tr,Y=x_ts, n_jobs=-1)\n",
    "neighbors_k_ts.sort(0)"
   ]
  },
  {
   "cell_type": "code",
   "execution_count": 93,
   "metadata": {},
   "outputs": [
    {
     "data": {
      "text/html": [
       "<div>\n",
       "<style scoped>\n",
       "    .dataframe tbody tr th:only-of-type {\n",
       "        vertical-align: middle;\n",
       "    }\n",
       "\n",
       "    .dataframe tbody tr th {\n",
       "        vertical-align: top;\n",
       "    }\n",
       "\n",
       "    .dataframe thead th {\n",
       "        text-align: right;\n",
       "    }\n",
       "</style>\n",
       "<table border=\"1\" class=\"dataframe\">\n",
       "  <thead>\n",
       "    <tr style=\"text-align: right;\">\n",
       "      <th></th>\n",
       "      <th>0</th>\n",
       "      <th>1</th>\n",
       "      <th>2</th>\n",
       "      <th>3</th>\n",
       "      <th>4</th>\n",
       "      <th>5</th>\n",
       "      <th>6</th>\n",
       "      <th>7</th>\n",
       "      <th>8</th>\n",
       "      <th>9</th>\n",
       "      <th>...</th>\n",
       "      <th>761</th>\n",
       "      <th>762</th>\n",
       "      <th>763</th>\n",
       "      <th>764</th>\n",
       "      <th>765</th>\n",
       "      <th>766</th>\n",
       "      <th>767</th>\n",
       "      <th>768</th>\n",
       "      <th>769</th>\n",
       "      <th>770</th>\n",
       "    </tr>\n",
       "  </thead>\n",
       "  <tbody>\n",
       "    <tr>\n",
       "      <th>0</th>\n",
       "      <td>2.449490</td>\n",
       "      <td>3.000000</td>\n",
       "      <td>3.605551</td>\n",
       "      <td>6.557438</td>\n",
       "      <td>5.196152</td>\n",
       "      <td>1.000000</td>\n",
       "      <td>2.645751</td>\n",
       "      <td>2.645751</td>\n",
       "      <td>2.645751</td>\n",
       "      <td>3.464102</td>\n",
       "      <td>...</td>\n",
       "      <td>2.449490</td>\n",
       "      <td>1.732051</td>\n",
       "      <td>3.464102</td>\n",
       "      <td>2.000000</td>\n",
       "      <td>1.732051</td>\n",
       "      <td>3.741657</td>\n",
       "      <td>2.828427</td>\n",
       "      <td>2.828427</td>\n",
       "      <td>3.162278</td>\n",
       "      <td>2.236068</td>\n",
       "    </tr>\n",
       "    <tr>\n",
       "      <th>1</th>\n",
       "      <td>2.828427</td>\n",
       "      <td>3.162278</td>\n",
       "      <td>4.000000</td>\n",
       "      <td>7.071068</td>\n",
       "      <td>5.291502</td>\n",
       "      <td>3.000000</td>\n",
       "      <td>3.000000</td>\n",
       "      <td>2.645751</td>\n",
       "      <td>2.645751</td>\n",
       "      <td>3.872983</td>\n",
       "      <td>...</td>\n",
       "      <td>2.645751</td>\n",
       "      <td>2.645751</td>\n",
       "      <td>4.000000</td>\n",
       "      <td>2.000000</td>\n",
       "      <td>1.732051</td>\n",
       "      <td>4.000000</td>\n",
       "      <td>4.123106</td>\n",
       "      <td>3.316625</td>\n",
       "      <td>3.605551</td>\n",
       "      <td>2.449490</td>\n",
       "    </tr>\n",
       "    <tr>\n",
       "      <th>2</th>\n",
       "      <td>3.000000</td>\n",
       "      <td>4.472136</td>\n",
       "      <td>4.582576</td>\n",
       "      <td>7.141428</td>\n",
       "      <td>5.477226</td>\n",
       "      <td>6.557438</td>\n",
       "      <td>3.000000</td>\n",
       "      <td>3.464102</td>\n",
       "      <td>3.316625</td>\n",
       "      <td>4.000000</td>\n",
       "      <td>...</td>\n",
       "      <td>3.000000</td>\n",
       "      <td>2.828427</td>\n",
       "      <td>4.242640</td>\n",
       "      <td>2.645751</td>\n",
       "      <td>1.732051</td>\n",
       "      <td>4.123106</td>\n",
       "      <td>4.242640</td>\n",
       "      <td>3.605551</td>\n",
       "      <td>3.605551</td>\n",
       "      <td>2.449490</td>\n",
       "    </tr>\n",
       "    <tr>\n",
       "      <th>3</th>\n",
       "      <td>3.605551</td>\n",
       "      <td>6.082763</td>\n",
       "      <td>4.898980</td>\n",
       "      <td>7.348469</td>\n",
       "      <td>5.477226</td>\n",
       "      <td>6.855655</td>\n",
       "      <td>3.162278</td>\n",
       "      <td>3.605551</td>\n",
       "      <td>4.472136</td>\n",
       "      <td>4.242640</td>\n",
       "      <td>...</td>\n",
       "      <td>3.000000</td>\n",
       "      <td>3.000000</td>\n",
       "      <td>4.358899</td>\n",
       "      <td>2.828427</td>\n",
       "      <td>2.000000</td>\n",
       "      <td>4.472136</td>\n",
       "      <td>4.242640</td>\n",
       "      <td>3.872983</td>\n",
       "      <td>3.741657</td>\n",
       "      <td>2.645751</td>\n",
       "    </tr>\n",
       "    <tr>\n",
       "      <th>4</th>\n",
       "      <td>4.242640</td>\n",
       "      <td>6.164414</td>\n",
       "      <td>5.000000</td>\n",
       "      <td>7.416198</td>\n",
       "      <td>5.567764</td>\n",
       "      <td>6.928203</td>\n",
       "      <td>3.316625</td>\n",
       "      <td>3.605551</td>\n",
       "      <td>4.690416</td>\n",
       "      <td>5.830952</td>\n",
       "      <td>...</td>\n",
       "      <td>3.162278</td>\n",
       "      <td>3.000000</td>\n",
       "      <td>4.472136</td>\n",
       "      <td>3.000000</td>\n",
       "      <td>2.236068</td>\n",
       "      <td>4.472136</td>\n",
       "      <td>4.242640</td>\n",
       "      <td>3.872983</td>\n",
       "      <td>4.123106</td>\n",
       "      <td>2.828427</td>\n",
       "    </tr>\n",
       "    <tr>\n",
       "      <th>...</th>\n",
       "      <td>...</td>\n",
       "      <td>...</td>\n",
       "      <td>...</td>\n",
       "      <td>...</td>\n",
       "      <td>...</td>\n",
       "      <td>...</td>\n",
       "      <td>...</td>\n",
       "      <td>...</td>\n",
       "      <td>...</td>\n",
       "      <td>...</td>\n",
       "      <td>...</td>\n",
       "      <td>...</td>\n",
       "      <td>...</td>\n",
       "      <td>...</td>\n",
       "      <td>...</td>\n",
       "      <td>...</td>\n",
       "      <td>...</td>\n",
       "      <td>...</td>\n",
       "      <td>...</td>\n",
       "      <td>...</td>\n",
       "      <td>...</td>\n",
       "    </tr>\n",
       "    <tr>\n",
       "      <th>3078</th>\n",
       "      <td>12.845233</td>\n",
       "      <td>12.000000</td>\n",
       "      <td>12.884099</td>\n",
       "      <td>12.529964</td>\n",
       "      <td>12.727922</td>\n",
       "      <td>13.190906</td>\n",
       "      <td>12.922848</td>\n",
       "      <td>12.124355</td>\n",
       "      <td>13.379088</td>\n",
       "      <td>13.000000</td>\n",
       "      <td>...</td>\n",
       "      <td>13.453624</td>\n",
       "      <td>11.916375</td>\n",
       "      <td>13.527749</td>\n",
       "      <td>12.727922</td>\n",
       "      <td>13.190906</td>\n",
       "      <td>11.832160</td>\n",
       "      <td>13.228757</td>\n",
       "      <td>13.266500</td>\n",
       "      <td>12.649111</td>\n",
       "      <td>12.409674</td>\n",
       "    </tr>\n",
       "    <tr>\n",
       "      <th>3079</th>\n",
       "      <td>12.884099</td>\n",
       "      <td>12.124355</td>\n",
       "      <td>12.922848</td>\n",
       "      <td>12.529964</td>\n",
       "      <td>12.767145</td>\n",
       "      <td>13.266500</td>\n",
       "      <td>13.000000</td>\n",
       "      <td>12.124355</td>\n",
       "      <td>13.379088</td>\n",
       "      <td>13.000000</td>\n",
       "      <td>...</td>\n",
       "      <td>13.490738</td>\n",
       "      <td>12.083046</td>\n",
       "      <td>13.564660</td>\n",
       "      <td>12.845233</td>\n",
       "      <td>13.190906</td>\n",
       "      <td>11.874342</td>\n",
       "      <td>13.228757</td>\n",
       "      <td>13.304134</td>\n",
       "      <td>12.688578</td>\n",
       "      <td>12.449900</td>\n",
       "    </tr>\n",
       "    <tr>\n",
       "      <th>3080</th>\n",
       "      <td>12.884099</td>\n",
       "      <td>12.206555</td>\n",
       "      <td>12.922848</td>\n",
       "      <td>12.609520</td>\n",
       "      <td>12.767145</td>\n",
       "      <td>13.379088</td>\n",
       "      <td>13.038404</td>\n",
       "      <td>12.165525</td>\n",
       "      <td>13.379088</td>\n",
       "      <td>13.000000</td>\n",
       "      <td>...</td>\n",
       "      <td>13.490738</td>\n",
       "      <td>12.083046</td>\n",
       "      <td>13.638182</td>\n",
       "      <td>12.845233</td>\n",
       "      <td>13.266500</td>\n",
       "      <td>11.958261</td>\n",
       "      <td>13.228757</td>\n",
       "      <td>13.304134</td>\n",
       "      <td>12.727922</td>\n",
       "      <td>12.489996</td>\n",
       "    </tr>\n",
       "    <tr>\n",
       "      <th>3081</th>\n",
       "      <td>12.884099</td>\n",
       "      <td>12.369317</td>\n",
       "      <td>12.961481</td>\n",
       "      <td>12.609520</td>\n",
       "      <td>12.767145</td>\n",
       "      <td>13.379088</td>\n",
       "      <td>13.038404</td>\n",
       "      <td>12.328828</td>\n",
       "      <td>13.416408</td>\n",
       "      <td>13.000000</td>\n",
       "      <td>...</td>\n",
       "      <td>13.490738</td>\n",
       "      <td>12.124355</td>\n",
       "      <td>13.674794</td>\n",
       "      <td>13.114877</td>\n",
       "      <td>13.304134</td>\n",
       "      <td>11.958261</td>\n",
       "      <td>13.228757</td>\n",
       "      <td>13.304134</td>\n",
       "      <td>12.727922</td>\n",
       "      <td>12.569805</td>\n",
       "    </tr>\n",
       "    <tr>\n",
       "      <th>3082</th>\n",
       "      <td>12.884099</td>\n",
       "      <td>12.369317</td>\n",
       "      <td>12.961481</td>\n",
       "      <td>12.767145</td>\n",
       "      <td>12.767145</td>\n",
       "      <td>13.453624</td>\n",
       "      <td>13.076696</td>\n",
       "      <td>12.489996</td>\n",
       "      <td>13.490738</td>\n",
       "      <td>13.304134</td>\n",
       "      <td>...</td>\n",
       "      <td>13.490738</td>\n",
       "      <td>12.124355</td>\n",
       "      <td>13.674794</td>\n",
       "      <td>13.190906</td>\n",
       "      <td>13.304134</td>\n",
       "      <td>12.041595</td>\n",
       "      <td>13.228757</td>\n",
       "      <td>13.304134</td>\n",
       "      <td>12.961481</td>\n",
       "      <td>12.806249</td>\n",
       "    </tr>\n",
       "  </tbody>\n",
       "</table>\n",
       "<p>3083 rows × 771 columns</p>\n",
       "</div>"
      ],
      "text/plain": [
       "            0          1          2          3          4          5    \\\n",
       "0      2.449490   3.000000   3.605551   6.557438   5.196152   1.000000   \n",
       "1      2.828427   3.162278   4.000000   7.071068   5.291502   3.000000   \n",
       "2      3.000000   4.472136   4.582576   7.141428   5.477226   6.557438   \n",
       "3      3.605551   6.082763   4.898980   7.348469   5.477226   6.855655   \n",
       "4      4.242640   6.164414   5.000000   7.416198   5.567764   6.928203   \n",
       "...         ...        ...        ...        ...        ...        ...   \n",
       "3078  12.845233  12.000000  12.884099  12.529964  12.727922  13.190906   \n",
       "3079  12.884099  12.124355  12.922848  12.529964  12.767145  13.266500   \n",
       "3080  12.884099  12.206555  12.922848  12.609520  12.767145  13.379088   \n",
       "3081  12.884099  12.369317  12.961481  12.609520  12.767145  13.379088   \n",
       "3082  12.884099  12.369317  12.961481  12.767145  12.767145  13.453624   \n",
       "\n",
       "            6          7          8          9    ...        761        762  \\\n",
       "0      2.645751   2.645751   2.645751   3.464102  ...   2.449490   1.732051   \n",
       "1      3.000000   2.645751   2.645751   3.872983  ...   2.645751   2.645751   \n",
       "2      3.000000   3.464102   3.316625   4.000000  ...   3.000000   2.828427   \n",
       "3      3.162278   3.605551   4.472136   4.242640  ...   3.000000   3.000000   \n",
       "4      3.316625   3.605551   4.690416   5.830952  ...   3.162278   3.000000   \n",
       "...         ...        ...        ...        ...  ...        ...        ...   \n",
       "3078  12.922848  12.124355  13.379088  13.000000  ...  13.453624  11.916375   \n",
       "3079  13.000000  12.124355  13.379088  13.000000  ...  13.490738  12.083046   \n",
       "3080  13.038404  12.165525  13.379088  13.000000  ...  13.490738  12.083046   \n",
       "3081  13.038404  12.328828  13.416408  13.000000  ...  13.490738  12.124355   \n",
       "3082  13.076696  12.489996  13.490738  13.304134  ...  13.490738  12.124355   \n",
       "\n",
       "            763        764        765        766        767        768  \\\n",
       "0      3.464102   2.000000   1.732051   3.741657   2.828427   2.828427   \n",
       "1      4.000000   2.000000   1.732051   4.000000   4.123106   3.316625   \n",
       "2      4.242640   2.645751   1.732051   4.123106   4.242640   3.605551   \n",
       "3      4.358899   2.828427   2.000000   4.472136   4.242640   3.872983   \n",
       "4      4.472136   3.000000   2.236068   4.472136   4.242640   3.872983   \n",
       "...         ...        ...        ...        ...        ...        ...   \n",
       "3078  13.527749  12.727922  13.190906  11.832160  13.228757  13.266500   \n",
       "3079  13.564660  12.845233  13.190906  11.874342  13.228757  13.304134   \n",
       "3080  13.638182  12.845233  13.266500  11.958261  13.228757  13.304134   \n",
       "3081  13.674794  13.114877  13.304134  11.958261  13.228757  13.304134   \n",
       "3082  13.674794  13.190906  13.304134  12.041595  13.228757  13.304134   \n",
       "\n",
       "            769        770  \n",
       "0      3.162278   2.236068  \n",
       "1      3.605551   2.449490  \n",
       "2      3.605551   2.449490  \n",
       "3      3.741657   2.645751  \n",
       "4      4.123106   2.828427  \n",
       "...         ...        ...  \n",
       "3078  12.649111  12.409674  \n",
       "3079  12.688578  12.449900  \n",
       "3080  12.727922  12.489996  \n",
       "3081  12.727922  12.569805  \n",
       "3082  12.961481  12.806249  \n",
       "\n",
       "[3083 rows x 771 columns]"
      ]
     },
     "execution_count": 93,
     "metadata": {},
     "output_type": "execute_result"
    }
   ],
   "source": [
    "x_ts_AD=pd.DataFrame(neighbors_k_ts)\n",
    "x_ts_AD"
   ]
  },
  {
   "cell_type": "code",
   "execution_count": 94,
   "metadata": {},
   "outputs": [
    {
     "name": "stdout",
     "output_type": "stream",
     "text": [
      "[2.449 3.    3.606 6.557 5.196 1.    2.646 2.646 2.646 3.464 3.317 2.449\n",
      " 5.568 2.    2.646 2.646 2.449 5.099 3.606 3.317 4.123 2.828 5.477 2.\n",
      " 6.245 4.    2.236 5.568 3.162 3.873 4.123 7.071 3.873 3.    2.236 1.732\n",
      " 4.359 2.646 2.    4.583 5.    3.    3.464 4.69  3.606 2.828 3.464 2.449\n",
      " 2.    1.    3.606 2.646 4.899 4.    3.742 1.732 2.646 2.646 5.657 3.\n",
      " 2.828 2.646 3.606 2.646 3.742 4.123 3.162 2.646 1.732 2.646 2.449 1.\n",
      " 2.449 4.899 2.    1.414 3.    2.646 6.164 3.    1.    3.317 5.    1.732\n",
      " 4.69  2.646 1.414 1.414 4.583 1.414 3.    2.449 3.162 2.    2.828 6.403\n",
      " 5.196 3.464 2.236 3.873 2.449 5.831 2.    2.646 4.243 4.123 2.    2.828\n",
      " 2.646 3.162 2.449 2.646 3.162 3.    3.873 3.    3.464 2.    2.236 2.449\n",
      " 3.    1.    3.162 3.162 3.317 2.646 3.    2.828 3.162 3.742 2.646 1.414\n",
      " 2.449 1.732 6.403 2.449 2.449 3.606 2.    1.414 3.162 2.    3.317 0.\n",
      " 4.243 2.236 1.732 1.732 3.742 1.    2.646 0.    2.449 4.359 4.359 2.236\n",
      " 1.732 1.732 4.    1.732 3.464 2.449 3.162 0.    2.    1.732 3.464 3.873\n",
      " 2.828 1.732 2.449 3.162 2.646 3.317 0.    3.317 2.646 6.403 3.606 4.899\n",
      " 2.449 1.    3.606 2.828 3.317 2.    6.245 3.    3.873 2.449 3.    2.449\n",
      " 1.    3.162 5.196 1.    2.    2.236 2.646 2.    2.    4.472 3.162 0.\n",
      " 2.236 2.828 3.162 3.    2.646 1.732 3.    1.414 2.646 3.606 3.162 3.464\n",
      " 3.317 0.    3.464 3.162 2.449 4.    1.414 1.    1.732 3.162 1.414 3.606\n",
      " 2.449 3.162 2.828 3.742 1.732 2.828 2.646 2.646 3.317 1.414 2.236 1.732\n",
      " 2.236 2.236 3.    3.317 3.    0.    2.828 2.646 0.    0.    5.292 2.\n",
      " 3.162 3.162 2.828 1.    3.    3.    4.472 3.162 3.464 3.    1.414 2.\n",
      " 0.    2.828 0.    4.359 1.732 3.464 2.    3.317 4.583 1.    3.162 2.646\n",
      " 4.899 2.646 0.    1.732 0.    2.449 3.742 3.873 2.    3.317 2.828 3.606\n",
      " 2.236 2.646 1.    2.    4.    2.    2.    2.449 3.873 2.828 2.828 3.317\n",
      " 1.732 4.123 1.    4.123 4.472 1.732 2.    4.    2.828 2.    3.162 3.317\n",
      " 3.317 1.414 1.732 1.732 1.    1.732 2.236 4.359 1.732 1.    6.708 3.742\n",
      " 1.    2.    4.    4.    2.828 2.646 2.    4.243 2.    4.583 2.449 1.414\n",
      " 2.449 2.449 5.477 4.123 2.    3.162 1.732 2.828 1.    1.732 1.732 4.243\n",
      " 2.    2.449 3.162 4.583 7.746 3.162 5.657 3.464 2.828 1.414 2.646 1.\n",
      " 1.732 6.083 6.403 4.    3.606 3.873 0.    3.162 1.732 1.414 3.162 1.732\n",
      " 2.    4.243 2.828 3.162 2.449 3.742 2.    3.162 2.    4.472 3.873 0.\n",
      " 0.    2.646 1.732 1.732 1.732 4.243 1.414 1.414 2.449 3.    0.    2.828\n",
      " 1.732 2.449 4.123 1.732 2.    1.414 3.317 2.    3.742 3.742 0.    2.449\n",
      " 4.583 3.    1.732 3.873 2.236 2.449 2.    2.828 3.    3.606 2.449 1.414\n",
      " 4.123 9.22  2.236 1.    3.742 3.162 3.162 5.    2.646 1.732 1.732 2.\n",
      " 1.    2.646 3.464 2.646 1.414 3.606 2.449 3.    4.123 2.449 2.    3.606\n",
      " 4.583 2.236 3.162 4.796 1.414 2.449 2.    1.414 4.899 3.742 3.162 3.606\n",
      " 3.873 0.    4.    1.414 1.    2.    1.732 1.732 1.    2.    1.732 4.472\n",
      " 2.646 4.359 5.099 1.732 1.    2.646 1.414 3.873 1.732 2.449 1.732 4.\n",
      " 4.583 3.    1.414 1.    3.    2.646 1.732 3.162 2.236 2.646 2.449 2.\n",
      " 1.732 2.    1.414 1.732 2.646 2.449 2.646 2.    2.646 5.292 4.796 1.732\n",
      " 1.732 2.449 2.828 3.464 2.828 2.236 1.    2.236 1.414 2.449 1.    2.\n",
      " 4.    3.162 3.162 1.732 3.464 1.414 3.317 3.742 3.    2.449 1.732 5.568\n",
      " 2.236 1.414 2.449 4.123 2.646 2.    2.236 2.236 1.732 2.236 5.    3.464\n",
      " 3.317 3.606 3.317 1.732 2.449 2.828 3.    4.472 3.162 3.162 1.732 2.828\n",
      " 2.    2.236 1.414 2.236 0.    1.    3.606 4.    1.732 1.732 0.    5.831\n",
      " 3.    1.732 1.732 1.414 1.    2.    2.646 1.732 2.236 3.742 2.    1.414\n",
      " 2.449 1.    3.606 2.236 2.    1.414 2.    3.317 3.464 1.414 1.414 4.583\n",
      " 2.236 2.449 3.464 5.568 5.196 1.414 3.873 3.742 1.732 1.732 2.236 2.449\n",
      " 1.    3.317 2.646 4.    3.    3.162 1.414 2.    3.742 1.414 2.646 2.449\n",
      " 3.464 2.828 5.657 1.732 3.464 2.236 2.236 5.196 5.    4.123 3.317 3.464\n",
      " 3.606 2.646 1.732 2.236 2.449 1.414 2.    2.646 2.828 1.732 2.    3.464\n",
      " 3.    3.742 1.732 1.414 2.828 0.    2.449 1.    2.236 1.732 1.    2.\n",
      " 5.099 2.828 2.236 1.732 1.732 4.796 1.414 1.    0.    2.646 2.449 4.472\n",
      " 2.236 3.464 2.828 4.123 0.    2.449 2.236 2.236 1.414 4.899 4.899 3.\n",
      " 2.646 2.449 1.414 2.    2.828 2.646 3.162 1.    3.606 2.236 4.796 1.414\n",
      " 3.317 2.646 1.414 2.236 4.243 1.732 3.317 1.414 3.464 2.646 1.414 1.\n",
      " 3.    4.796 1.414 0.    1.414 3.162 2.449 3.464 3.    2.    2.236 1.732\n",
      " 3.464 2.    2.    4.899 0.    2.646 4.243 0.    0.    3.    3.162 2.449\n",
      " 0.    1.732 2.828 1.    2.    2.449 3.464 2.449 2.449 3.606 3.162 1.\n",
      " 1.732 3.    3.162 3.317 2.    3.    3.742 4.472 2.449 1.    2.    5.292\n",
      " 0.    2.449 3.464 3.    2.828 0.    3.    1.732 1.    2.236 3.    2.449\n",
      " 3.873 4.    0.    3.    2.646 2.449 1.732 3.464 2.    1.732 3.742 2.828\n",
      " 2.828 3.162 2.236]\n"
     ]
    }
   ],
   "source": [
    "similarity_ts= neighbors_k_ts\n",
    "cpd_AD=similarity_ts[0,:]\n",
    "cpd_value = np.round(cpd_AD, 3)\n",
    "print(cpd_value)"
   ]
  },
  {
   "cell_type": "code",
   "execution_count": 95,
   "metadata": {},
   "outputs": [
    {
     "name": "stdout",
     "output_type": "stream",
     "text": [
      "[ True  True False False False  True  True  True  True False  True  True\n",
      " False  True  True  True  True False False  True False  True False  True\n",
      " False False  True False  True False False False False  True  True  True\n",
      " False  True  True False False  True False False False  True False  True\n",
      "  True  True False  True False False False  True  True  True False  True\n",
      "  True  True False  True False False  True  True  True  True  True  True\n",
      "  True False  True  True  True  True False  True  True  True False  True\n",
      " False  True  True  True False  True  True  True  True  True  True False\n",
      " False False  True False  True False  True  True False False  True  True\n",
      "  True  True  True  True  True  True False  True False  True  True  True\n",
      "  True  True  True  True  True  True  True  True  True False  True  True\n",
      "  True  True False  True  True False  True  True  True  True  True  True\n",
      " False  True  True  True False  True  True  True  True False False  True\n",
      "  True  True False  True False  True  True  True  True  True False False\n",
      "  True  True  True  True  True  True  True  True  True False False False\n",
      "  True  True False  True  True  True False  True False  True  True  True\n",
      "  True  True False  True  True  True  True  True  True False  True  True\n",
      "  True  True  True  True  True  True  True  True  True False  True False\n",
      "  True  True False  True  True False  True  True  True  True  True False\n",
      "  True  True  True False  True  True  True  True  True  True  True  True\n",
      "  True  True  True  True  True  True  True  True  True  True False  True\n",
      "  True  True  True  True  True  True False  True False  True  True  True\n",
      "  True  True  True False  True False  True  True False  True  True  True\n",
      " False  True  True  True  True  True False False  True  True  True False\n",
      "  True  True  True  True False  True  True  True False  True  True  True\n",
      "  True False  True False False  True  True False  True  True  True  True\n",
      "  True  True  True  True  True  True  True False  True  True False False\n",
      "  True  True False False  True  True  True False  True False  True  True\n",
      "  True  True False False  True  True  True  True  True  True  True False\n",
      "  True  True  True False False  True False False  True  True  True  True\n",
      "  True False False False False False  True  True  True  True  True  True\n",
      "  True False  True  True  True False  True  True  True False False  True\n",
      "  True  True  True  True  True False  True  True  True  True  True  True\n",
      "  True  True False  True  True  True  True  True False False  True  True\n",
      " False  True  True False  True  True  True  True  True False  True  True\n",
      " False False  True  True False  True  True False  True  True  True  True\n",
      "  True  True False  True  True False  True  True False  True  True False\n",
      " False  True  True False  True  True  True  True False False  True False\n",
      " False  True False  True  True  True  True  True  True  True  True False\n",
      "  True False False  True  True  True  True False  True  True  True False\n",
      " False  True  True  True  True  True  True  True  True  True  True  True\n",
      "  True  True  True  True  True  True  True  True  True False False  True\n",
      "  True  True  True False  True  True  True  True  True  True  True  True\n",
      " False  True  True  True False  True  True False  True  True  True False\n",
      "  True  True  True False  True  True  True  True  True  True False False\n",
      "  True False  True  True  True  True  True False  True  True  True  True\n",
      "  True  True  True  True  True  True False False  True  True  True False\n",
      "  True  True  True  True  True  True  True  True  True False  True  True\n",
      "  True  True False  True  True  True  True  True False  True  True False\n",
      "  True  True False False False  True False False  True  True  True  True\n",
      "  True  True  True False  True  True  True  True False  True  True  True\n",
      " False  True False  True False  True  True False False False  True False\n",
      " False  True  True  True  True  True  True  True  True  True  True False\n",
      "  True False  True  True  True  True  True  True  True  True  True  True\n",
      " False  True  True  True  True False  True  True  True  True  True False\n",
      "  True False  True False  True  True  True  True  True False False  True\n",
      "  True  True  True  True  True  True  True  True False  True False  True\n",
      "  True  True  True  True False  True  True  True False  True  True  True\n",
      "  True False  True  True  True  True  True False  True  True  True  True\n",
      " False  True  True False  True  True False  True  True  True  True  True\n",
      "  True  True  True  True  True  True False  True  True False  True  True\n",
      "  True  True  True  True  True  True False False  True  True  True False\n",
      "  True  True False  True  True  True  True  True  True  True  True  True\n",
      " False False  True  True  True  True  True False  True  True False  True\n",
      "  True  True  True]\n"
     ]
    }
   ],
   "source": [
    "cpd_AD = np.where(cpd_value <= model_AD_limit, True, False)\n",
    "print(cpd_AD)"
   ]
  },
  {
   "cell_type": "code",
   "execution_count": 96,
   "metadata": {},
   "outputs": [
    {
     "name": "stdout",
     "output_type": "stream",
     "text": [
      "Coverage =  0.74\n"
     ]
    }
   ],
   "source": [
    "print(\"Coverage = \", round(sum(cpd_AD) / len(cpd_AD), 2))"
   ]
  },
  {
   "cell_type": "code",
   "execution_count": 97,
   "metadata": {},
   "outputs": [
    {
     "name": "stdout",
     "output_type": "stream",
     "text": [
      "Indices of substances included in AD =  [  0   1   5   6   7   8  10  11  13  14  15  16  19  21  23  26  28  33\n",
      "  34  35  37  38  41  45  47  48  49  51  55  56  57  59  60  61  63  66\n",
      "  67  68  69  70  71  72  74  75  76  77  79  80  81  83  85  86  87  89\n",
      "  90  91  92  93  94  98 100 102 103 106 107 108 109 110 111 112 113 115\n",
      " 117 118 119 120 121 122 123 124 125 126 127 128 130 131 132 133 135 136\n",
      " 138 139 140 141 142 143 145 146 147 149 150 151 152 155 156 157 159 161\n",
      " 162 163 164 165 168 169 170 171 172 173 174 175 176 180 181 183 184 185\n",
      " 187 189 190 191 192 193 195 196 197 198 199 200 202 203 204 205 206 207\n",
      " 208 209 210 211 212 214 216 217 219 220 222 223 224 225 226 228 229 230\n",
      " 232 233 234 235 236 237 238 239 240 241 242 243 244 245 246 247 248 249\n",
      " 251 252 253 254 255 256 257 259 261 262 263 264 265 266 268 270 271 273\n",
      " 274 275 277 278 279 280 281 284 285 286 288 289 290 291 293 294 295 297\n",
      " 298 299 300 302 305 306 308 309 310 311 312 313 314 315 316 317 318 320\n",
      " 321 324 325 328 329 330 332 334 335 336 337 340 341 342 343 344 345 346\n",
      " 348 349 350 353 356 357 358 359 360 366 367 368 369 370 371 372 374 375\n",
      " 376 378 379 380 383 384 385 386 387 388 390 391 392 393 394 395 396 397\n",
      " 399 400 401 402 403 406 407 409 410 412 413 414 415 416 418 419 422 423\n",
      " 425 426 428 429 430 431 432 433 435 436 438 439 441 442 445 446 448 449\n",
      " 450 451 454 457 459 460 461 462 463 464 465 466 468 471 472 473 474 476\n",
      " 477 478 481 482 483 484 485 486 487 488 489 490 491 492 493 494 495 496\n",
      " 497 498 499 500 503 504 505 506 508 509 510 511 512 513 514 515 517 518\n",
      " 519 521 522 524 525 526 528 529 530 532 533 534 535 536 537 540 542 543\n",
      " 544 545 546 548 549 550 551 552 553 554 555 556 557 560 561 562 564 565\n",
      " 566 567 568 569 570 571 572 574 575 576 577 579 580 581 582 583 585 586\n",
      " 588 589 593 596 597 598 599 600 601 602 604 605 606 607 609 610 611 613\n",
      " 615 617 618 622 625 626 627 628 629 630 631 632 633 634 636 638 639 640\n",
      " 641 642 643 644 645 646 647 649 650 651 652 654 655 656 657 658 660 662\n",
      " 664 665 666 667 668 671 672 673 674 675 676 677 678 679 681 683 684 685\n",
      " 686 687 689 690 691 693 694 695 696 698 699 700 701 702 704 705 706 707\n",
      " 709 710 712 713 715 716 717 718 719 720 721 722 723 724 725 727 728 730\n",
      " 731 732 733 734 735 736 737 740 741 742 744 745 747 748 749 750 751 752\n",
      " 753 754 755 758 759 760 761 762 764 765 767 768 769 770]\n"
     ]
    }
   ],
   "source": [
    "print(\"Indices of substances included in AD = \", np.where(cpd_AD != 0)[0])"
   ]
  },
  {
   "cell_type": "code",
   "execution_count": 100,
   "metadata": {},
   "outputs": [],
   "source": [
    "out_Ad=list(np.where(cpd_AD == 0)[0])"
   ]
  },
  {
   "cell_type": "markdown",
   "metadata": {},
   "source": [
    "# 12. Prediction only for molecules included in  AD"
   ]
  },
  {
   "cell_type": "code",
   "execution_count": 101,
   "metadata": {},
   "outputs": [],
   "source": [
    "y_pred_kNN_ad=list(y_pred_kNN)"
   ]
  },
  {
   "cell_type": "code",
   "execution_count": 102,
   "metadata": {},
   "outputs": [],
   "source": [
    "y_pred_kNN_ad[:] = [x for i,x in enumerate(y_pred_kNN_ad) if i not in out_Ad]"
   ]
  },
  {
   "cell_type": "code",
   "execution_count": 103,
   "metadata": {},
   "outputs": [
    {
     "data": {
      "text/plain": [
       "572"
      ]
     },
     "execution_count": 103,
     "metadata": {},
     "output_type": "execute_result"
    }
   ],
   "source": [
    "len(y_pred_kNN_ad)"
   ]
  },
  {
   "cell_type": "code",
   "execution_count": 104,
   "metadata": {},
   "outputs": [],
   "source": [
    "y_ts_ad=list(y_ts)"
   ]
  },
  {
   "cell_type": "code",
   "execution_count": 105,
   "metadata": {},
   "outputs": [],
   "source": [
    "y_ts_ad[:] = [x for i,x in enumerate(y_ts_ad) if i not in out_Ad]"
   ]
  },
  {
   "cell_type": "code",
   "execution_count": 106,
   "metadata": {},
   "outputs": [
    {
     "data": {
      "text/plain": [
       "572"
      ]
     },
     "execution_count": 106,
     "metadata": {},
     "output_type": "execute_result"
    }
   ],
   "source": [
    "len(y_ts_ad)"
   ]
  },
  {
   "cell_type": "code",
   "execution_count": 107,
   "metadata": {},
   "outputs": [
    {
     "data": {
      "text/plain": [
       "0.65"
      ]
     },
     "execution_count": 107,
     "metadata": {},
     "output_type": "execute_result"
    }
   ],
   "source": [
    "Q2_TS = round(r2_score(y_ts_ad, y_pred_kNN_ad), 2)\n",
    "Q2_TS"
   ]
  },
  {
   "cell_type": "code",
   "execution_count": 108,
   "metadata": {
    "scrolled": true
   },
   "outputs": [
    {
     "data": {
      "text/plain": [
       "0.68"
      ]
     },
     "execution_count": 108,
     "metadata": {},
     "output_type": "execute_result"
    }
   ],
   "source": [
    "RMSE_TS=round(np.sqrt(mean_absolute_error(y_ts_ad, y_pred_kNN_ad)), 2)\n",
    "RMSE_TS"
   ]
  },
  {
   "cell_type": "markdown",
   "metadata": {},
   "source": [
    "## Analyzing the importance of descriptors for the GBM model"
   ]
  },
  {
   "cell_type": "code",
   "execution_count": 109,
   "metadata": {},
   "outputs": [],
   "source": [
    "import shap"
   ]
  },
  {
   "cell_type": "code",
   "execution_count": 112,
   "metadata": {},
   "outputs": [],
   "source": [
    "explainer = shap.Explainer(best_GBR)"
   ]
  },
  {
   "cell_type": "code",
   "execution_count": 114,
   "metadata": {},
   "outputs": [],
   "source": [
    "shap_values = explainer(x_tr)"
   ]
  },
  {
   "cell_type": "code",
   "execution_count": 115,
   "metadata": {},
   "outputs": [
    {
     "data": {
      "image/png": "[encoded data removed]",
      "text/plain": [
       "<Figure size 800x550 with 2 Axes>"
      ]
     },
     "metadata": {},
     "output_type": "display_data"
    }
   ],
   "source": [
    "shap.plots.beeswarm(shap_values)"
   ]
  },
  {
   "cell_type": "code",
   "execution_count": 116,
   "metadata": {},
   "outputs": [
    {
     "data": {
      "image/png": "[encoded data removed]",
      "text/plain": [
       "<Figure size 800x650 with 1 Axes>"
      ]
     },
     "metadata": {},
     "output_type": "display_data"
    }
   ],
   "source": [
    "shap.plots.bar(shap_values)"
   ]
  },
  {
   "cell_type": "code",
   "execution_count": null,
   "metadata": {},
   "outputs": [],
   "source": []
  }
 ],
 "metadata": {
  "kernelspec": {
   "display_name": "Python3 (rdkit)",
   "language": "python",
   "name": "my-rdkit-env"
  },
  "language_info": {
   "codemirror_mode": {
    "name": "ipython",
    "version": 3
   },
   "file_extension": ".py",
   "mimetype": "text/x-python",
   "name": "python",
   "nbconvert_exporter": "python",
   "pygments_lexer": "ipython3",
   "version": "3.10.12"
  }
 },
 "nbformat": 4,
 "nbformat_minor": 4
}
