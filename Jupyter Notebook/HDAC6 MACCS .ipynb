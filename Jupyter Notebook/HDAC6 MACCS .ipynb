{
 "cells": [
  {
   "cell_type": "markdown",
   "metadata": {},
   "source": [
    "# 1. Importing modules and functions"
   ]
  },
  {
   "cell_type": "code",
   "execution_count": 2,
   "metadata": {},
   "outputs": [],
   "source": [
    "import numpy as np\n",
    "import pandas as pd\n",
    "from rdkit import Chem, DataStructs\n",
    "from rdkit.Chem import AllChem, Descriptors\n",
    "from rdkit.Chem import MACCSkeys\n",
    "from rdkit.ML.Descriptors import MoleculeDescriptors\n",
    "from molvs import standardize_smiles\n",
    "from sklearn.model_selection import KFold, GridSearchCV\n",
    "from sklearn.model_selection import permutation_test_score\n",
    "from sklearn.preprocessing import StandardScaler\n",
    "from sklearn.model_selection import cross_val_predict\n",
    "from sklearn import metrics\n",
    "from sklearn.metrics import pairwise_distances\n",
    "import joblib\n",
    "import pickle\n",
    "from numpy import savetxt\n",
    "from padelpy import from_sdf\n",
    "from IPython.display import HTML\n",
    "import matplotlib.pyplot as plt\n",
    "from sklearn.metrics import mean_squared_error\n",
    "from sklearn.metrics import mean_absolute_error\n",
    "from sklearn.metrics import r2_score\n",
    "from sklearn.ensemble import GradientBoostingRegressor\n",
    "from sklearn.neighbors import KNeighborsRegressor\n",
    "from sklearn.svm import SVR\n",
    "from padelpy import from_sdf\n",
    "import shap\n",
    "from tqdm.notebook import tqdm\n",
    "import warnings\n",
    "warnings.filterwarnings('ignore')"
   ]
  },
  {
   "cell_type": "markdown",
   "metadata": {},
   "source": [
    "# 2.Data entry and curation work set"
   ]
  },
  {
   "cell_type": "code",
   "execution_count": 3,
   "metadata": {},
   "outputs": [
    {
     "name": "stdout",
     "output_type": "stream",
     "text": [
      "Original data:  3083 molecules\n",
      "Failed data:  0 molecules\n"
     ]
    },
    {
     "data": {
      "text/html": [
       "<div>\n",
       "<style scoped>\n",
       "    .dataframe tbody tr th:only-of-type {\n",
       "        vertical-align: middle;\n",
       "    }\n",
       "\n",
       "    .dataframe tbody tr th {\n",
       "        vertical-align: top;\n",
       "    }\n",
       "\n",
       "    .dataframe thead th {\n",
       "        text-align: right;\n",
       "    }\n",
       "</style>\n",
       "<table border=\"1\" class=\"dataframe\">\n",
       "  <thead>\n",
       "    <tr style=\"text-align: right;\">\n",
       "      <th></th>\n",
       "      <th>No. failed molecule in original set</th>\n",
       "      <th>SMILES of wrong structure:</th>\n",
       "    </tr>\n",
       "    <tr>\n",
       "      <th>No.</th>\n",
       "      <th></th>\n",
       "      <th></th>\n",
       "    </tr>\n",
       "  </thead>\n",
       "  <tbody>\n",
       "  </tbody>\n",
       "</table>\n",
       "</div>"
      ],
      "text/plain": [
       "Empty DataFrame\n",
       "Columns: [No. failed molecule in original set, SMILES of wrong structure: ]\n",
       "Index: []"
      ]
     },
     "execution_count": 3,
     "metadata": {},
     "output_type": "execute_result"
    }
   ],
   "source": [
    "uploaded_file_ws=\"datasets/HDAC6_work.sdf\"\n",
    "supplier_ws = Chem.ForwardSDMolSupplier(uploaded_file_ws,sanitize=False)\n",
    "failed_mols_ws = []\n",
    "all_mols_ws =[]\n",
    "wrong_structure_ws=[]\n",
    "wrong_smiles_ws=[]\n",
    "y_tr = []\n",
    "y_bad_index=[]\n",
    "\n",
    "for i, m in enumerate(supplier_ws):\n",
    "    structure = Chem.Mol(m)\n",
    "    all_mols_ws.append(structure)\n",
    "    y_tr.append(m.GetProp(\"pchembl_value_mean\"))\n",
    "    try:\n",
    "        Chem.SanitizeMol(structure)\n",
    "    except:\n",
    "        failed_mols_ws.append(m)\n",
    "        wrong_smiles_ws.append(Chem.MolToSmiles(m))\n",
    "        wrong_structure_ws.append(str(i+1))\n",
    "        y_bad_index.append(i)\n",
    "print('Original data: ', len(all_mols_ws), 'molecules')\n",
    "print('Failed data: ', len(failed_mols_ws), 'molecules')\n",
    "number_ws =[]\n",
    "for i in range(len(failed_mols_ws)):\n",
    "        number_ws.append(str(i+1))\n",
    "bad_molecules_ws = pd.DataFrame({'No. failed molecule in original set': wrong_structure_ws, 'SMILES of wrong structure: ': wrong_smiles_ws, 'No.': number_ws}, index=None)\n",
    "bad_molecules_ws = bad_molecules_ws.set_index('No.')\n",
    "bad_molecules_ws"
   ]
  },
  {
   "cell_type": "markdown",
   "metadata": {},
   "source": [
    "deleting activity values for substances with incorrect structure"
   ]
  },
  {
   "cell_type": "code",
   "execution_count": 4,
   "metadata": {},
   "outputs": [],
   "source": [
    "y_tr[:] = [x for i,x in enumerate(y_tr) if i not in y_bad_index]"
   ]
  },
  {
   "cell_type": "code",
   "execution_count": 5,
   "metadata": {},
   "outputs": [
    {
     "data": {
      "text/plain": [
       "3083"
      ]
     },
     "execution_count": 5,
     "metadata": {},
     "output_type": "execute_result"
    }
   ],
   "source": [
    "len(y_tr)"
   ]
  },
  {
   "cell_type": "markdown",
   "metadata": {},
   "source": [
    "# 3.Standardization SDF file for work set"
   ]
  },
  {
   "cell_type": "code",
   "execution_count": 6,
   "metadata": {},
   "outputs": [
    {
     "name": "stdout",
     "output_type": "stream",
     "text": [
      "Kept data:  3083 molecules\n"
     ]
    }
   ],
   "source": [
    "all_mols_ws[:] = [x for i,x in enumerate(all_mols_ws) if i not in y_bad_index] \n",
    "records = []\n",
    "for i in range(len(all_mols_ws)):\n",
    "    record = Chem.MolToSmiles(all_mols_ws[i])\n",
    "    records.append(record)\n",
    "\n",
    "moldf_ws = []\n",
    "for i,record in enumerate(records):\n",
    "    standard_record = standardize_smiles(record)\n",
    "    m = Chem.MolFromSmiles(standard_record)\n",
    "    moldf_ws.append(m)\n",
    "    \n",
    "print('Kept data: ', len(moldf_ws), 'molecules')"
   ]
  },
  {
   "cell_type": "markdown",
   "metadata": {},
   "source": [
    "# 4.Data entry and curation test set"
   ]
  },
  {
   "cell_type": "code",
   "execution_count": 7,
   "metadata": {},
   "outputs": [
    {
     "name": "stdout",
     "output_type": "stream",
     "text": [
      "Original data:  771 molecules\n",
      "Failed data:  0 molecules\n"
     ]
    },
    {
     "data": {
      "text/html": [
       "<div>\n",
       "<style scoped>\n",
       "    .dataframe tbody tr th:only-of-type {\n",
       "        vertical-align: middle;\n",
       "    }\n",
       "\n",
       "    .dataframe tbody tr th {\n",
       "        vertical-align: top;\n",
       "    }\n",
       "\n",
       "    .dataframe thead th {\n",
       "        text-align: right;\n",
       "    }\n",
       "</style>\n",
       "<table border=\"1\" class=\"dataframe\">\n",
       "  <thead>\n",
       "    <tr style=\"text-align: right;\">\n",
       "      <th></th>\n",
       "      <th>No. failed molecule in original set</th>\n",
       "      <th>SMILES of wrong structure:</th>\n",
       "    </tr>\n",
       "    <tr>\n",
       "      <th>No.</th>\n",
       "      <th></th>\n",
       "      <th></th>\n",
       "    </tr>\n",
       "  </thead>\n",
       "  <tbody>\n",
       "  </tbody>\n",
       "</table>\n",
       "</div>"
      ],
      "text/plain": [
       "Empty DataFrame\n",
       "Columns: [No. failed molecule in original set, SMILES of wrong structure: ]\n",
       "Index: []"
      ]
     },
     "execution_count": 7,
     "metadata": {},
     "output_type": "execute_result"
    }
   ],
   "source": [
    "uploaded_file_ts=\"datasets/HDAC6_test.sdf\"\n",
    "supplier_ts = Chem.ForwardSDMolSupplier(uploaded_file_ts,sanitize=False)\n",
    "failed_mols_ts = []\n",
    "all_mols_ts =[]\n",
    "wrong_structure_ts=[]\n",
    "wrong_smiles_ts=[]\n",
    "y_ts = []\n",
    "y_bad_index=[]\n",
    "for i, m in enumerate(supplier_ts):\n",
    "    structure = Chem.Mol(m)\n",
    "    all_mols_ts.append(structure)\n",
    "    y_ts.append(m.GetProp(\"pchembl_value_mean\"))\n",
    "    try:\n",
    "        Chem.SanitizeMol(structure)\n",
    "    except:\n",
    "        failed_mols_ts.append(m)\n",
    "        wrong_smiles_ts.append(Chem.MolToSmiles(m))\n",
    "        wrong_structure_ts.append(str(i+1))\n",
    "        y_bad_index.append(i)\n",
    "print('Original data: ', len(all_mols_ts), 'molecules')\n",
    "print('Failed data: ', len(failed_mols_ts), 'molecules')\n",
    "number_ts =[]\n",
    "for i in range(len(failed_mols_ts)):\n",
    "        number_ts.append(str(i+1))\n",
    "bad_molecules_ts = pd.DataFrame({'No. failed molecule in original set': wrong_structure_ts, 'SMILES of wrong structure: ': wrong_smiles_ts, 'No.': number_ts}, index=None)\n",
    "bad_molecules_ts = bad_molecules_ts.set_index('No.')\n",
    "bad_molecules_ts"
   ]
  },
  {
   "cell_type": "markdown",
   "metadata": {},
   "source": [
    "deleting activity values for substances with incorrect structure"
   ]
  },
  {
   "cell_type": "code",
   "execution_count": 8,
   "metadata": {},
   "outputs": [],
   "source": [
    "y_ts[:] = [x for i,x in enumerate(y_ts) if i not in y_bad_index]"
   ]
  },
  {
   "cell_type": "code",
   "execution_count": 9,
   "metadata": {},
   "outputs": [
    {
     "data": {
      "text/plain": [
       "771"
      ]
     },
     "execution_count": 9,
     "metadata": {},
     "output_type": "execute_result"
    }
   ],
   "source": [
    "len(y_ts)"
   ]
  },
  {
   "cell_type": "markdown",
   "metadata": {},
   "source": [
    "# 5.Standardization SDF file for test set"
   ]
  },
  {
   "cell_type": "code",
   "execution_count": 10,
   "metadata": {},
   "outputs": [
    {
     "name": "stdout",
     "output_type": "stream",
     "text": [
      "Kept data:  771 molecules\n"
     ]
    }
   ],
   "source": [
    "all_mols_ts[:] = [x for i,x in enumerate(all_mols_ts) if i not in y_bad_index] \n",
    "records = []\n",
    "for i in range(len(all_mols_ts)):\n",
    "    record = Chem.MolToSmiles(all_mols_ts[i])\n",
    "    records.append(record)\n",
    "\n",
    "moldf_ts = []\n",
    "for i,record in enumerate(records):\n",
    "    standard_record = standardize_smiles(record)\n",
    "    m = Chem.MolFromSmiles(standard_record)\n",
    "    moldf_ts.append(m)\n",
    "    \n",
    "print('Kept data: ', len(moldf_ts), 'molecules')"
   ]
  },
  {
   "cell_type": "markdown",
   "metadata": {},
   "source": [
    "## Calculation MACCS Fingerprints for work set"
   ]
  },
  {
   "cell_type": "code",
   "execution_count": 11,
   "metadata": {},
   "outputs": [],
   "source": [
    "fp_tr = [MACCSkeys.GenMACCSKeys(m) for m in moldf_ws]"
   ]
  },
  {
   "cell_type": "code",
   "execution_count": 12,
   "metadata": {},
   "outputs": [],
   "source": [
    "def rdkit_numpy_convert(fp_tr):\n",
    "    output = []\n",
    "    for f in fp_tr:\n",
    "        arr = np.zeros((1,))\n",
    "        DataStructs.ConvertToNumpyArray(f, arr)\n",
    "        output.append(arr)\n",
    "    return np.asarray(output)"
   ]
  },
  {
   "cell_type": "code",
   "execution_count": 13,
   "metadata": {},
   "outputs": [],
   "source": [
    "from numpy import savetxt\n",
    "x_tr = rdkit_numpy_convert(fp_tr)"
   ]
  },
  {
   "cell_type": "code",
   "execution_count": 14,
   "metadata": {},
   "outputs": [],
   "source": [
    "savetxt('Models/MACCS/x_tr_MACCS.csv', x_tr, delimiter=',')"
   ]
  },
  {
   "cell_type": "code",
   "execution_count": 15,
   "metadata": {},
   "outputs": [
    {
     "data": {
      "text/plain": [
       "(3083, 167)"
      ]
     },
     "execution_count": 15,
     "metadata": {},
     "output_type": "execute_result"
    }
   ],
   "source": [
    "x_tr.shape"
   ]
  },
  {
   "cell_type": "markdown",
   "metadata": {},
   "source": [
    "## Calculation  MACCS Fingerprint for test set"
   ]
  },
  {
   "cell_type": "code",
   "execution_count": 16,
   "metadata": {},
   "outputs": [],
   "source": [
    "fp_ts = [MACCSkeys.GenMACCSKeys(m) for m in moldf_ts]"
   ]
  },
  {
   "cell_type": "code",
   "execution_count": 17,
   "metadata": {},
   "outputs": [],
   "source": [
    "def rdkit_numpy_convert(fp_ts):\n",
    "    output = []\n",
    "    for f in fp_ts:\n",
    "        arr = np.zeros((1,))\n",
    "        DataStructs.ConvertToNumpyArray(f, arr)\n",
    "        output.append(arr)\n",
    "    return np.asarray(output)"
   ]
  },
  {
   "cell_type": "code",
   "execution_count": 18,
   "metadata": {},
   "outputs": [],
   "source": [
    "x_ts = rdkit_numpy_convert(fp_ts)"
   ]
  },
  {
   "cell_type": "code",
   "execution_count": 34,
   "metadata": {},
   "outputs": [
    {
     "data": {
      "text/plain": [
       "(771, 167)"
      ]
     },
     "execution_count": 34,
     "metadata": {},
     "output_type": "execute_result"
    }
   ],
   "source": [
    "x_ts.shape"
   ]
  },
  {
   "cell_type": "code",
   "execution_count": 35,
   "metadata": {},
   "outputs": [],
   "source": [
    "x_tr = np.array(x_tr, dtype=np.float32)\n",
    "y_tr = np.array(y_tr, dtype=np.float32)"
   ]
  },
  {
   "cell_type": "markdown",
   "metadata": {},
   "source": [
    " ## GradientBoostingRegressor model building and validation"
   ]
  },
  {
   "cell_type": "code",
   "execution_count": 23,
   "metadata": {},
   "outputs": [],
   "source": [
    "seed = 42"
   ]
  },
  {
   "cell_type": "code",
   "execution_count": 24,
   "metadata": {},
   "outputs": [],
   "source": [
    "cv=KFold(n_splits=5, random_state=seed, shuffle=True)"
   ]
  },
  {
   "cell_type": "code",
   "execution_count": 25,
   "metadata": {},
   "outputs": [],
   "source": [
    "param_grid = {'learning_rate': [0.02,0.05],\n",
    "                  'subsample'    : [0.9, 0.5, 0.1],\n",
    "                  'n_estimators' : [100,500,1000],\n",
    "                  'max_depth'    : [4, 10]\n",
    "                 }"
   ]
  },
  {
   "cell_type": "code",
   "execution_count": 26,
   "metadata": {},
   "outputs": [],
   "source": [
    "m = GridSearchCV(GradientBoostingRegressor(), param_grid, n_jobs=-1, cv=cv, verbose=1)"
   ]
  },
  {
   "cell_type": "code",
   "execution_count": 27,
   "metadata": {},
   "outputs": [
    {
     "name": "stdout",
     "output_type": "stream",
     "text": [
      "Fitting 5 folds for each of 36 candidates, totalling 180 fits\n"
     ]
    },
    {
     "data": {
      "text/html": [
       "<style>#sk-container-id-1 {color: black;}#sk-container-id-1 pre{padding: 0;}#sk-container-id-1 div.sk-toggleable {background-color: white;}#sk-container-id-1 label.sk-toggleable__label {cursor: pointer;display: block;width: 100%;margin-bottom: 0;padding: 0.3em;box-sizing: border-box;text-align: center;}#sk-container-id-1 label.sk-toggleable__label-arrow:before {content: \"▸\";float: left;margin-right: 0.25em;color: #696969;}#sk-container-id-1 label.sk-toggleable__label-arrow:hover:before {color: black;}#sk-container-id-1 div.sk-estimator:hover label.sk-toggleable__label-arrow:before {color: black;}#sk-container-id-1 div.sk-toggleable__content {max-height: 0;max-width: 0;overflow: hidden;text-align: left;background-color: #f0f8ff;}#sk-container-id-1 div.sk-toggleable__content pre {margin: 0.2em;color: black;border-radius: 0.25em;background-color: #f0f8ff;}#sk-container-id-1 input.sk-toggleable__control:checked~div.sk-toggleable__content {max-height: 200px;max-width: 100%;overflow: auto;}#sk-container-id-1 input.sk-toggleable__control:checked~label.sk-toggleable__label-arrow:before {content: \"▾\";}#sk-container-id-1 div.sk-estimator input.sk-toggleable__control:checked~label.sk-toggleable__label {background-color: #d4ebff;}#sk-container-id-1 div.sk-label input.sk-toggleable__control:checked~label.sk-toggleable__label {background-color: #d4ebff;}#sk-container-id-1 input.sk-hidden--visually {border: 0;clip: rect(1px 1px 1px 1px);clip: rect(1px, 1px, 1px, 1px);height: 1px;margin: -1px;overflow: hidden;padding: 0;position: absolute;width: 1px;}#sk-container-id-1 div.sk-estimator {font-family: monospace;background-color: #f0f8ff;border: 1px dotted black;border-radius: 0.25em;box-sizing: border-box;margin-bottom: 0.5em;}#sk-container-id-1 div.sk-estimator:hover {background-color: #d4ebff;}#sk-container-id-1 div.sk-parallel-item::after {content: \"\";width: 100%;border-bottom: 1px solid gray;flex-grow: 1;}#sk-container-id-1 div.sk-label:hover label.sk-toggleable__label {background-color: #d4ebff;}#sk-container-id-1 div.sk-serial::before {content: \"\";position: absolute;border-left: 1px solid gray;box-sizing: border-box;top: 0;bottom: 0;left: 50%;z-index: 0;}#sk-container-id-1 div.sk-serial {display: flex;flex-direction: column;align-items: center;background-color: white;padding-right: 0.2em;padding-left: 0.2em;position: relative;}#sk-container-id-1 div.sk-item {position: relative;z-index: 1;}#sk-container-id-1 div.sk-parallel {display: flex;align-items: stretch;justify-content: center;background-color: white;position: relative;}#sk-container-id-1 div.sk-item::before, #sk-container-id-1 div.sk-parallel-item::before {content: \"\";position: absolute;border-left: 1px solid gray;box-sizing: border-box;top: 0;bottom: 0;left: 50%;z-index: -1;}#sk-container-id-1 div.sk-parallel-item {display: flex;flex-direction: column;z-index: 1;position: relative;background-color: white;}#sk-container-id-1 div.sk-parallel-item:first-child::after {align-self: flex-end;width: 50%;}#sk-container-id-1 div.sk-parallel-item:last-child::after {align-self: flex-start;width: 50%;}#sk-container-id-1 div.sk-parallel-item:only-child::after {width: 0;}#sk-container-id-1 div.sk-dashed-wrapped {border: 1px dashed gray;margin: 0 0.4em 0.5em 0.4em;box-sizing: border-box;padding-bottom: 0.4em;background-color: white;}#sk-container-id-1 div.sk-label label {font-family: monospace;font-weight: bold;display: inline-block;line-height: 1.2em;}#sk-container-id-1 div.sk-label-container {text-align: center;}#sk-container-id-1 div.sk-container {/* jupyter's `normalize.less` sets `[hidden] { display: none; }` but bootstrap.min.css set `[hidden] { display: none !important; }` so we also need the `!important` here to be able to override the default hidden behavior on the sphinx rendered scikit-learn.org. See: https://github.com/scikit-learn/scikit-learn/issues/21755 */display: inline-block !important;position: relative;}#sk-container-id-1 div.sk-text-repr-fallback {display: none;}</style><div id=\"sk-container-id-1\" class=\"sk-top-container\"><div class=\"sk-text-repr-fallback\"><pre>GridSearchCV(cv=KFold(n_splits=5, random_state=42, shuffle=True),\n",
       "             estimator=GradientBoostingRegressor(), n_jobs=-1,\n",
       "             param_grid={&#x27;learning_rate&#x27;: [0.02, 0.05], &#x27;max_depth&#x27;: [4, 10],\n",
       "                         &#x27;n_estimators&#x27;: [100, 500, 1000],\n",
       "                         &#x27;subsample&#x27;: [0.9, 0.5, 0.1]},\n",
       "             verbose=1)</pre><b>In a Jupyter environment, please rerun this cell to show the HTML representation or trust the notebook. <br />On GitHub, the HTML representation is unable to render, please try loading this page with nbviewer.org.</b></div><div class=\"sk-container\" hidden><div class=\"sk-item sk-dashed-wrapped\"><div class=\"sk-label-container\"><div class=\"sk-label sk-toggleable\"><input class=\"sk-toggleable__control sk-hidden--visually\" id=\"sk-estimator-id-1\" type=\"checkbox\" ><label for=\"sk-estimator-id-1\" class=\"sk-toggleable__label sk-toggleable__label-arrow\">GridSearchCV</label><div class=\"sk-toggleable__content\"><pre>GridSearchCV(cv=KFold(n_splits=5, random_state=42, shuffle=True),\n",
       "             estimator=GradientBoostingRegressor(), n_jobs=-1,\n",
       "             param_grid={&#x27;learning_rate&#x27;: [0.02, 0.05], &#x27;max_depth&#x27;: [4, 10],\n",
       "                         &#x27;n_estimators&#x27;: [100, 500, 1000],\n",
       "                         &#x27;subsample&#x27;: [0.9, 0.5, 0.1]},\n",
       "             verbose=1)</pre></div></div></div><div class=\"sk-parallel\"><div class=\"sk-parallel-item\"><div class=\"sk-item\"><div class=\"sk-label-container\"><div class=\"sk-label sk-toggleable\"><input class=\"sk-toggleable__control sk-hidden--visually\" id=\"sk-estimator-id-2\" type=\"checkbox\" ><label for=\"sk-estimator-id-2\" class=\"sk-toggleable__label sk-toggleable__label-arrow\">estimator: GradientBoostingRegressor</label><div class=\"sk-toggleable__content\"><pre>GradientBoostingRegressor()</pre></div></div></div><div class=\"sk-serial\"><div class=\"sk-item\"><div class=\"sk-estimator sk-toggleable\"><input class=\"sk-toggleable__control sk-hidden--visually\" id=\"sk-estimator-id-3\" type=\"checkbox\" ><label for=\"sk-estimator-id-3\" class=\"sk-toggleable__label sk-toggleable__label-arrow\">GradientBoostingRegressor</label><div class=\"sk-toggleable__content\"><pre>GradientBoostingRegressor()</pre></div></div></div></div></div></div></div></div></div></div>"
      ],
      "text/plain": [
       "GridSearchCV(cv=KFold(n_splits=5, random_state=42, shuffle=True),\n",
       "             estimator=GradientBoostingRegressor(), n_jobs=-1,\n",
       "             param_grid={'learning_rate': [0.02, 0.05], 'max_depth': [4, 10],\n",
       "                         'n_estimators': [100, 500, 1000],\n",
       "                         'subsample': [0.9, 0.5, 0.1]},\n",
       "             verbose=1)"
      ]
     },
     "execution_count": 27,
     "metadata": {},
     "output_type": "execute_result"
    }
   ],
   "source": [
    "m.fit(x_tr, y_tr)"
   ]
  },
  {
   "cell_type": "code",
   "execution_count": 28,
   "metadata": {},
   "outputs": [],
   "source": [
    "best_GBR = m.best_estimator_"
   ]
  },
  {
   "cell_type": "code",
   "execution_count": 29,
   "metadata": {},
   "outputs": [
    {
     "data": {
      "text/plain": [
       "{'learning_rate': 0.05, 'max_depth': 4, 'n_estimators': 1000, 'subsample': 0.9}"
      ]
     },
     "execution_count": 29,
     "metadata": {},
     "output_type": "execute_result"
    }
   ],
   "source": [
    "m.best_params_"
   ]
  },
  {
   "cell_type": "code",
   "execution_count": 30,
   "metadata": {},
   "outputs": [],
   "source": [
    "y_pred_ws_GBR = best_GBR.predict(x_tr)"
   ]
  },
  {
   "cell_type": "code",
   "execution_count": 31,
   "metadata": {},
   "outputs": [
    {
     "data": {
      "text/plain": [
       "0.85"
      ]
     },
     "execution_count": 31,
     "metadata": {},
     "output_type": "execute_result"
    }
   ],
   "source": [
    "R2_WS = round(r2_score(y_tr, y_pred_ws_GBR), 2)\n",
    "R2_WS"
   ]
  },
  {
   "cell_type": "code",
   "execution_count": 32,
   "metadata": {},
   "outputs": [
    {
     "data": {
      "text/plain": [
       "0.56"
      ]
     },
     "execution_count": 32,
     "metadata": {},
     "output_type": "execute_result"
    }
   ],
   "source": [
    "RMSE_WS=round(np.sqrt(mean_absolute_error(y_tr, y_pred_ws_GBR)), 2)\n",
    "RMSE_WS"
   ]
  },
  {
   "cell_type": "code",
   "execution_count": 33,
   "metadata": {},
   "outputs": [],
   "source": [
    "y_pred_CV_GBR = cross_val_predict(best_GBR, x_tr, y_tr, cv=cv)"
   ]
  },
  {
   "cell_type": "code",
   "execution_count": 34,
   "metadata": {},
   "outputs": [
    {
     "data": {
      "text/plain": [
       "array([4.80483859, 6.33949154, 5.93401577, ..., 6.92789574, 7.81602605,\n",
       "       7.37840087])"
      ]
     },
     "execution_count": 34,
     "metadata": {},
     "output_type": "execute_result"
    }
   ],
   "source": [
    "y_pred_CV_GBR"
   ]
  },
  {
   "cell_type": "code",
   "execution_count": 35,
   "metadata": {},
   "outputs": [
    {
     "data": {
      "text/plain": [
       "0.62"
      ]
     },
     "execution_count": 35,
     "metadata": {},
     "output_type": "execute_result"
    }
   ],
   "source": [
    "Q2_CV = round(r2_score(y_tr, y_pred_CV_GBR), 2)\n",
    "Q2_CV"
   ]
  },
  {
   "cell_type": "code",
   "execution_count": 36,
   "metadata": {},
   "outputs": [
    {
     "data": {
      "text/plain": [
       "0.71"
      ]
     },
     "execution_count": 36,
     "metadata": {},
     "output_type": "execute_result"
    }
   ],
   "source": [
    "RMSE_CV=round(np.sqrt(mean_absolute_error(y_tr, y_pred_CV_GBR)), 2)\n",
    "RMSE_CV"
   ]
  },
  {
   "cell_type": "markdown",
   "metadata": {},
   "source": [
    "# 9. Prediction for test set's molecules"
   ]
  },
  {
   "cell_type": "code",
   "execution_count": 21,
   "metadata": {},
   "outputs": [
    {
     "data": {
      "text/plain": [
       "771"
      ]
     },
     "execution_count": 21,
     "metadata": {},
     "output_type": "execute_result"
    }
   ],
   "source": [
    "x_ts = np.array(x_ts, dtype=np.float32)\n",
    "y_ts = np.array(y_ts, dtype=np.float32)\n",
    "len(y_ts)"
   ]
  },
  {
   "cell_type": "code",
   "execution_count": 22,
   "metadata": {},
   "outputs": [],
   "source": [
    "y_pred_GBR = best_GBR.predict(x_ts)"
   ]
  },
  {
   "cell_type": "code",
   "execution_count": 23,
   "metadata": {},
   "outputs": [
    {
     "data": {
      "text/plain": [
       "0.61"
      ]
     },
     "execution_count": 23,
     "metadata": {},
     "output_type": "execute_result"
    }
   ],
   "source": [
    "Q2_TS = round(r2_score(y_ts, y_pred_GBR), 2)\n",
    "Q2_TS"
   ]
  },
  {
   "cell_type": "code",
   "execution_count": 24,
   "metadata": {},
   "outputs": [
    {
     "data": {
      "text/plain": [
       "0.71"
      ]
     },
     "execution_count": 24,
     "metadata": {},
     "output_type": "execute_result"
    }
   ],
   "source": [
    "RMSE_TS=round(np.sqrt(mean_absolute_error(y_ts, y_pred_GBR)), 2)\n",
    "RMSE_TS"
   ]
  },
  {
   "cell_type": "markdown",
   "metadata": {},
   "source": [
    "# save the model to disk"
   ]
  },
  {
   "cell_type": "code",
   "execution_count": 62,
   "metadata": {},
   "outputs": [],
   "source": [
    "pickle.dump(best_GBR, open('Models/MACCS/HDAC6_GBR_MACCS.pkl', 'wb'))"
   ]
  },
  {
   "cell_type": "markdown",
   "metadata": {},
   "source": [
    "# load the model from disk"
   ]
  },
  {
   "cell_type": "code",
   "execution_count": 20,
   "metadata": {},
   "outputs": [],
   "source": [
    "best_GBR = pickle.load(open('Models/MACCS/HDAC6_GBR_MACCS.pkl', 'rb'))"
   ]
  },
  {
   "cell_type": "markdown",
   "metadata": {},
   "source": [
    "# 10. Y-randomization GradientBoostingRegressor model"
   ]
  },
  {
   "cell_type": "code",
   "execution_count": 64,
   "metadata": {},
   "outputs": [
    {
     "name": "stderr",
     "output_type": "stream",
     "text": [
      "[Parallel(n_jobs=-1)]: Using backend LokyBackend with 16 concurrent workers.\n",
      "[Parallel(n_jobs=-1)]: Done  18 tasks      | elapsed:  2.9min\n"
     ]
    },
    {
     "name": "stdout",
     "output_type": "stream",
     "text": [
      "True score =  0.62 \n",
      "Y-randomization =  -0.22 \n",
      "p-value =  0.0196\n"
     ]
    },
    {
     "name": "stderr",
     "output_type": "stream",
     "text": [
      "[Parallel(n_jobs=-1)]: Done  50 out of  50 | elapsed:  5.1min finished\n"
     ]
    }
   ],
   "source": [
    "permutations = 50\n",
    "score, permutation_scores, pvalue = permutation_test_score(best_GBR, x_tr, y_tr,\n",
    "                                                           cv=cv, scoring='r2',\n",
    "                                                           n_permutations=permutations,\n",
    "                                                           n_jobs=-1,\n",
    "                                                           verbose=1,\n",
    "                                                           random_state=seed)\n",
    "print('True score = ', score.round(2),\n",
    "      '\\nY-randomization = ', np.mean(permutation_scores).round(2),\n",
    "      '\\np-value = ', pvalue.round(4))"
   ]
  },
  {
   "cell_type": "markdown",
   "metadata": {},
   "source": [
    "# 11. Estimating applicability domain. Method - Euclidian distances, K=1"
   ]
  },
  {
   "cell_type": "code",
   "execution_count": 65,
   "metadata": {},
   "outputs": [],
   "source": [
    "neighbors_k= pairwise_distances(x_tr, n_jobs=-1)\n",
    "neighbors_k.sort(0)"
   ]
  },
  {
   "cell_type": "code",
   "execution_count": 66,
   "metadata": {},
   "outputs": [
    {
     "data": {
      "text/html": [
       "<div>\n",
       "<style scoped>\n",
       "    .dataframe tbody tr th:only-of-type {\n",
       "        vertical-align: middle;\n",
       "    }\n",
       "\n",
       "    .dataframe tbody tr th {\n",
       "        vertical-align: top;\n",
       "    }\n",
       "\n",
       "    .dataframe thead th {\n",
       "        text-align: right;\n",
       "    }\n",
       "</style>\n",
       "<table border=\"1\" class=\"dataframe\">\n",
       "  <thead>\n",
       "    <tr style=\"text-align: right;\">\n",
       "      <th></th>\n",
       "      <th>0</th>\n",
       "      <th>1</th>\n",
       "      <th>2</th>\n",
       "      <th>3</th>\n",
       "      <th>4</th>\n",
       "      <th>5</th>\n",
       "      <th>6</th>\n",
       "      <th>7</th>\n",
       "      <th>8</th>\n",
       "      <th>9</th>\n",
       "      <th>...</th>\n",
       "      <th>3073</th>\n",
       "      <th>3074</th>\n",
       "      <th>3075</th>\n",
       "      <th>3076</th>\n",
       "      <th>3077</th>\n",
       "      <th>3078</th>\n",
       "      <th>3079</th>\n",
       "      <th>3080</th>\n",
       "      <th>3081</th>\n",
       "      <th>3082</th>\n",
       "    </tr>\n",
       "  </thead>\n",
       "  <tbody>\n",
       "    <tr>\n",
       "      <th>0</th>\n",
       "      <td>0.000000</td>\n",
       "      <td>0.000000</td>\n",
       "      <td>0.000000</td>\n",
       "      <td>0.000000</td>\n",
       "      <td>0.000000</td>\n",
       "      <td>0.000000</td>\n",
       "      <td>0.000000</td>\n",
       "      <td>0.000000</td>\n",
       "      <td>0.000000</td>\n",
       "      <td>0.000000</td>\n",
       "      <td>...</td>\n",
       "      <td>0.000000</td>\n",
       "      <td>0.000000</td>\n",
       "      <td>0.000000</td>\n",
       "      <td>0.000000</td>\n",
       "      <td>0.000000</td>\n",
       "      <td>0.000000</td>\n",
       "      <td>0.000000</td>\n",
       "      <td>0.000000</td>\n",
       "      <td>0.000000</td>\n",
       "      <td>0.000000</td>\n",
       "    </tr>\n",
       "    <tr>\n",
       "      <th>1</th>\n",
       "      <td>2.236068</td>\n",
       "      <td>4.123106</td>\n",
       "      <td>3.316625</td>\n",
       "      <td>1.414214</td>\n",
       "      <td>5.099020</td>\n",
       "      <td>2.449490</td>\n",
       "      <td>3.464102</td>\n",
       "      <td>2.236068</td>\n",
       "      <td>2.828427</td>\n",
       "      <td>3.872983</td>\n",
       "      <td>...</td>\n",
       "      <td>1.000000</td>\n",
       "      <td>1.414214</td>\n",
       "      <td>2.000000</td>\n",
       "      <td>2.000000</td>\n",
       "      <td>0.000000</td>\n",
       "      <td>1.414214</td>\n",
       "      <td>1.414214</td>\n",
       "      <td>2.828427</td>\n",
       "      <td>1.414214</td>\n",
       "      <td>2.449490</td>\n",
       "    </tr>\n",
       "    <tr>\n",
       "      <th>2</th>\n",
       "      <td>3.464102</td>\n",
       "      <td>4.242640</td>\n",
       "      <td>3.464102</td>\n",
       "      <td>1.732051</td>\n",
       "      <td>5.477226</td>\n",
       "      <td>3.872983</td>\n",
       "      <td>3.872983</td>\n",
       "      <td>2.449490</td>\n",
       "      <td>5.099020</td>\n",
       "      <td>4.582576</td>\n",
       "      <td>...</td>\n",
       "      <td>2.828427</td>\n",
       "      <td>2.828427</td>\n",
       "      <td>2.449490</td>\n",
       "      <td>2.000000</td>\n",
       "      <td>0.000000</td>\n",
       "      <td>2.828427</td>\n",
       "      <td>1.732051</td>\n",
       "      <td>3.741657</td>\n",
       "      <td>1.732051</td>\n",
       "      <td>2.449490</td>\n",
       "    </tr>\n",
       "    <tr>\n",
       "      <th>3</th>\n",
       "      <td>3.605551</td>\n",
       "      <td>4.472136</td>\n",
       "      <td>3.872983</td>\n",
       "      <td>1.732051</td>\n",
       "      <td>5.567764</td>\n",
       "      <td>3.872983</td>\n",
       "      <td>4.000000</td>\n",
       "      <td>2.449490</td>\n",
       "      <td>5.099020</td>\n",
       "      <td>4.582576</td>\n",
       "      <td>...</td>\n",
       "      <td>2.828427</td>\n",
       "      <td>3.000000</td>\n",
       "      <td>2.449490</td>\n",
       "      <td>2.449490</td>\n",
       "      <td>0.000000</td>\n",
       "      <td>3.000000</td>\n",
       "      <td>2.236068</td>\n",
       "      <td>3.872983</td>\n",
       "      <td>2.236068</td>\n",
       "      <td>2.645751</td>\n",
       "    </tr>\n",
       "    <tr>\n",
       "      <th>4</th>\n",
       "      <td>4.000000</td>\n",
       "      <td>4.472136</td>\n",
       "      <td>4.123106</td>\n",
       "      <td>1.732051</td>\n",
       "      <td>5.744563</td>\n",
       "      <td>4.690416</td>\n",
       "      <td>4.000000</td>\n",
       "      <td>2.645751</td>\n",
       "      <td>5.099020</td>\n",
       "      <td>4.690416</td>\n",
       "      <td>...</td>\n",
       "      <td>2.828427</td>\n",
       "      <td>3.162278</td>\n",
       "      <td>3.000000</td>\n",
       "      <td>2.449490</td>\n",
       "      <td>1.000000</td>\n",
       "      <td>3.000000</td>\n",
       "      <td>2.449490</td>\n",
       "      <td>4.242640</td>\n",
       "      <td>2.449490</td>\n",
       "      <td>2.645751</td>\n",
       "    </tr>\n",
       "    <tr>\n",
       "      <th>...</th>\n",
       "      <td>...</td>\n",
       "      <td>...</td>\n",
       "      <td>...</td>\n",
       "      <td>...</td>\n",
       "      <td>...</td>\n",
       "      <td>...</td>\n",
       "      <td>...</td>\n",
       "      <td>...</td>\n",
       "      <td>...</td>\n",
       "      <td>...</td>\n",
       "      <td>...</td>\n",
       "      <td>...</td>\n",
       "      <td>...</td>\n",
       "      <td>...</td>\n",
       "      <td>...</td>\n",
       "      <td>...</td>\n",
       "      <td>...</td>\n",
       "      <td>...</td>\n",
       "      <td>...</td>\n",
       "      <td>...</td>\n",
       "      <td>...</td>\n",
       "    </tr>\n",
       "    <tr>\n",
       "      <th>3078</th>\n",
       "      <td>8.062258</td>\n",
       "      <td>7.937254</td>\n",
       "      <td>8.000000</td>\n",
       "      <td>8.426149</td>\n",
       "      <td>9.380832</td>\n",
       "      <td>8.124039</td>\n",
       "      <td>8.124039</td>\n",
       "      <td>7.874008</td>\n",
       "      <td>8.831760</td>\n",
       "      <td>7.874008</td>\n",
       "      <td>...</td>\n",
       "      <td>7.937254</td>\n",
       "      <td>8.306623</td>\n",
       "      <td>8.306623</td>\n",
       "      <td>7.937254</td>\n",
       "      <td>8.000000</td>\n",
       "      <td>8.306623</td>\n",
       "      <td>8.246211</td>\n",
       "      <td>8.062258</td>\n",
       "      <td>8.062258</td>\n",
       "      <td>7.937254</td>\n",
       "    </tr>\n",
       "    <tr>\n",
       "      <th>3079</th>\n",
       "      <td>8.124039</td>\n",
       "      <td>8.000000</td>\n",
       "      <td>8.062258</td>\n",
       "      <td>8.426149</td>\n",
       "      <td>9.433981</td>\n",
       "      <td>8.124039</td>\n",
       "      <td>8.124039</td>\n",
       "      <td>7.874008</td>\n",
       "      <td>8.831760</td>\n",
       "      <td>7.874008</td>\n",
       "      <td>...</td>\n",
       "      <td>7.937254</td>\n",
       "      <td>8.366600</td>\n",
       "      <td>8.366600</td>\n",
       "      <td>7.937254</td>\n",
       "      <td>8.000000</td>\n",
       "      <td>8.306623</td>\n",
       "      <td>8.246211</td>\n",
       "      <td>8.062258</td>\n",
       "      <td>8.124039</td>\n",
       "      <td>7.937254</td>\n",
       "    </tr>\n",
       "    <tr>\n",
       "      <th>3080</th>\n",
       "      <td>8.185352</td>\n",
       "      <td>8.000000</td>\n",
       "      <td>8.124039</td>\n",
       "      <td>8.426149</td>\n",
       "      <td>9.539392</td>\n",
       "      <td>8.124039</td>\n",
       "      <td>8.185352</td>\n",
       "      <td>7.874008</td>\n",
       "      <td>8.831760</td>\n",
       "      <td>8.000000</td>\n",
       "      <td>...</td>\n",
       "      <td>8.000000</td>\n",
       "      <td>8.426149</td>\n",
       "      <td>8.602325</td>\n",
       "      <td>8.000000</td>\n",
       "      <td>8.124039</td>\n",
       "      <td>8.366600</td>\n",
       "      <td>8.246211</td>\n",
       "      <td>8.124039</td>\n",
       "      <td>8.124039</td>\n",
       "      <td>7.937254</td>\n",
       "    </tr>\n",
       "    <tr>\n",
       "      <th>3081</th>\n",
       "      <td>8.246211</td>\n",
       "      <td>8.000000</td>\n",
       "      <td>8.185352</td>\n",
       "      <td>8.944272</td>\n",
       "      <td>9.591663</td>\n",
       "      <td>8.185352</td>\n",
       "      <td>8.185352</td>\n",
       "      <td>7.937254</td>\n",
       "      <td>8.831760</td>\n",
       "      <td>8.426149</td>\n",
       "      <td>...</td>\n",
       "      <td>8.062258</td>\n",
       "      <td>8.426149</td>\n",
       "      <td>8.602325</td>\n",
       "      <td>8.000000</td>\n",
       "      <td>8.306623</td>\n",
       "      <td>8.544003</td>\n",
       "      <td>8.306623</td>\n",
       "      <td>8.185352</td>\n",
       "      <td>8.185352</td>\n",
       "      <td>8.000000</td>\n",
       "    </tr>\n",
       "    <tr>\n",
       "      <th>3082</th>\n",
       "      <td>8.246211</td>\n",
       "      <td>8.062258</td>\n",
       "      <td>8.185352</td>\n",
       "      <td>8.944272</td>\n",
       "      <td>9.591663</td>\n",
       "      <td>8.185352</td>\n",
       "      <td>8.185352</td>\n",
       "      <td>8.062258</td>\n",
       "      <td>8.831760</td>\n",
       "      <td>8.426149</td>\n",
       "      <td>...</td>\n",
       "      <td>8.124039</td>\n",
       "      <td>8.660254</td>\n",
       "      <td>8.602325</td>\n",
       "      <td>8.062258</td>\n",
       "      <td>8.306623</td>\n",
       "      <td>8.544003</td>\n",
       "      <td>8.366600</td>\n",
       "      <td>8.185352</td>\n",
       "      <td>8.306623</td>\n",
       "      <td>8.000000</td>\n",
       "    </tr>\n",
       "  </tbody>\n",
       "</table>\n",
       "<p>3083 rows × 3083 columns</p>\n",
       "</div>"
      ],
      "text/plain": [
       "          0         1         2         3         4         5         6     \\\n",
       "0     0.000000  0.000000  0.000000  0.000000  0.000000  0.000000  0.000000   \n",
       "1     2.236068  4.123106  3.316625  1.414214  5.099020  2.449490  3.464102   \n",
       "2     3.464102  4.242640  3.464102  1.732051  5.477226  3.872983  3.872983   \n",
       "3     3.605551  4.472136  3.872983  1.732051  5.567764  3.872983  4.000000   \n",
       "4     4.000000  4.472136  4.123106  1.732051  5.744563  4.690416  4.000000   \n",
       "...        ...       ...       ...       ...       ...       ...       ...   \n",
       "3078  8.062258  7.937254  8.000000  8.426149  9.380832  8.124039  8.124039   \n",
       "3079  8.124039  8.000000  8.062258  8.426149  9.433981  8.124039  8.124039   \n",
       "3080  8.185352  8.000000  8.124039  8.426149  9.539392  8.124039  8.185352   \n",
       "3081  8.246211  8.000000  8.185352  8.944272  9.591663  8.185352  8.185352   \n",
       "3082  8.246211  8.062258  8.185352  8.944272  9.591663  8.185352  8.185352   \n",
       "\n",
       "          7         8         9     ...      3073      3074      3075  \\\n",
       "0     0.000000  0.000000  0.000000  ...  0.000000  0.000000  0.000000   \n",
       "1     2.236068  2.828427  3.872983  ...  1.000000  1.414214  2.000000   \n",
       "2     2.449490  5.099020  4.582576  ...  2.828427  2.828427  2.449490   \n",
       "3     2.449490  5.099020  4.582576  ...  2.828427  3.000000  2.449490   \n",
       "4     2.645751  5.099020  4.690416  ...  2.828427  3.162278  3.000000   \n",
       "...        ...       ...       ...  ...       ...       ...       ...   \n",
       "3078  7.874008  8.831760  7.874008  ...  7.937254  8.306623  8.306623   \n",
       "3079  7.874008  8.831760  7.874008  ...  7.937254  8.366600  8.366600   \n",
       "3080  7.874008  8.831760  8.000000  ...  8.000000  8.426149  8.602325   \n",
       "3081  7.937254  8.831760  8.426149  ...  8.062258  8.426149  8.602325   \n",
       "3082  8.062258  8.831760  8.426149  ...  8.124039  8.660254  8.602325   \n",
       "\n",
       "          3076      3077      3078      3079      3080      3081      3082  \n",
       "0     0.000000  0.000000  0.000000  0.000000  0.000000  0.000000  0.000000  \n",
       "1     2.000000  0.000000  1.414214  1.414214  2.828427  1.414214  2.449490  \n",
       "2     2.000000  0.000000  2.828427  1.732051  3.741657  1.732051  2.449490  \n",
       "3     2.449490  0.000000  3.000000  2.236068  3.872983  2.236068  2.645751  \n",
       "4     2.449490  1.000000  3.000000  2.449490  4.242640  2.449490  2.645751  \n",
       "...        ...       ...       ...       ...       ...       ...       ...  \n",
       "3078  7.937254  8.000000  8.306623  8.246211  8.062258  8.062258  7.937254  \n",
       "3079  7.937254  8.000000  8.306623  8.246211  8.062258  8.124039  7.937254  \n",
       "3080  8.000000  8.124039  8.366600  8.246211  8.124039  8.124039  7.937254  \n",
       "3081  8.000000  8.306623  8.544003  8.306623  8.185352  8.185352  8.000000  \n",
       "3082  8.062258  8.306623  8.544003  8.366600  8.185352  8.306623  8.000000  \n",
       "\n",
       "[3083 rows x 3083 columns]"
      ]
     },
     "execution_count": 66,
     "metadata": {},
     "output_type": "execute_result"
    }
   ],
   "source": [
    "df_tr=pd.DataFrame(neighbors_k)\n",
    "df_tr"
   ]
  },
  {
   "cell_type": "code",
   "execution_count": 67,
   "metadata": {},
   "outputs": [],
   "source": [
    "similarity= neighbors_k"
   ]
  },
  {
   "cell_type": "code",
   "execution_count": 68,
   "metadata": {},
   "outputs": [],
   "source": [
    "Dmean=np.mean(similarity[1,:])"
   ]
  },
  {
   "cell_type": "code",
   "execution_count": 69,
   "metadata": {},
   "outputs": [
    {
     "data": {
      "text/plain": [
       "1.36"
      ]
     },
     "execution_count": 69,
     "metadata": {},
     "output_type": "execute_result"
    }
   ],
   "source": [
    "round(Dmean, 2)"
   ]
  },
  {
   "cell_type": "code",
   "execution_count": 70,
   "metadata": {},
   "outputs": [],
   "source": [
    "std=np.std(similarity[1,:])"
   ]
  },
  {
   "cell_type": "code",
   "execution_count": 71,
   "metadata": {},
   "outputs": [
    {
     "data": {
      "text/plain": [
       "1.11"
      ]
     },
     "execution_count": 71,
     "metadata": {},
     "output_type": "execute_result"
    }
   ],
   "source": [
    "round(std, 2)"
   ]
  },
  {
   "cell_type": "code",
   "execution_count": 72,
   "metadata": {},
   "outputs": [
    {
     "name": "stdout",
     "output_type": "stream",
     "text": [
      "1.91\n"
     ]
    }
   ],
   "source": [
    "model_AD_limit=Dmean+std*0.5\n",
    "print(np.round(model_AD_limit, 2))"
   ]
  },
  {
   "cell_type": "code",
   "execution_count": 73,
   "metadata": {},
   "outputs": [],
   "source": [
    "neighbors_k_ts= pairwise_distances(x_tr,Y=x_ts, n_jobs=-1)\n",
    "neighbors_k_ts.sort(0)"
   ]
  },
  {
   "cell_type": "code",
   "execution_count": 74,
   "metadata": {},
   "outputs": [
    {
     "data": {
      "text/html": [
       "<div>\n",
       "<style scoped>\n",
       "    .dataframe tbody tr th:only-of-type {\n",
       "        vertical-align: middle;\n",
       "    }\n",
       "\n",
       "    .dataframe tbody tr th {\n",
       "        vertical-align: top;\n",
       "    }\n",
       "\n",
       "    .dataframe thead th {\n",
       "        text-align: right;\n",
       "    }\n",
       "</style>\n",
       "<table border=\"1\" class=\"dataframe\">\n",
       "  <thead>\n",
       "    <tr style=\"text-align: right;\">\n",
       "      <th></th>\n",
       "      <th>0</th>\n",
       "      <th>1</th>\n",
       "      <th>2</th>\n",
       "      <th>3</th>\n",
       "      <th>4</th>\n",
       "      <th>5</th>\n",
       "      <th>6</th>\n",
       "      <th>7</th>\n",
       "      <th>8</th>\n",
       "      <th>9</th>\n",
       "      <th>...</th>\n",
       "      <th>761</th>\n",
       "      <th>762</th>\n",
       "      <th>763</th>\n",
       "      <th>764</th>\n",
       "      <th>765</th>\n",
       "      <th>766</th>\n",
       "      <th>767</th>\n",
       "      <th>768</th>\n",
       "      <th>769</th>\n",
       "      <th>770</th>\n",
       "    </tr>\n",
       "  </thead>\n",
       "  <tbody>\n",
       "    <tr>\n",
       "      <th>0</th>\n",
       "      <td>3.464102</td>\n",
       "      <td>3.872983</td>\n",
       "      <td>0.000000</td>\n",
       "      <td>3.605551</td>\n",
       "      <td>2.000000</td>\n",
       "      <td>0.000000</td>\n",
       "      <td>1.414214</td>\n",
       "      <td>1.732051</td>\n",
       "      <td>1.414214</td>\n",
       "      <td>1.414214</td>\n",
       "      <td>...</td>\n",
       "      <td>1.414214</td>\n",
       "      <td>2.000000</td>\n",
       "      <td>1.000000</td>\n",
       "      <td>1.414214</td>\n",
       "      <td>0.000000</td>\n",
       "      <td>3.162278</td>\n",
       "      <td>1.414214</td>\n",
       "      <td>2.000000</td>\n",
       "      <td>1.000000</td>\n",
       "      <td>2.236068</td>\n",
       "    </tr>\n",
       "    <tr>\n",
       "      <th>1</th>\n",
       "      <td>4.000000</td>\n",
       "      <td>4.123106</td>\n",
       "      <td>1.732051</td>\n",
       "      <td>4.123106</td>\n",
       "      <td>2.236068</td>\n",
       "      <td>2.828427</td>\n",
       "      <td>1.414214</td>\n",
       "      <td>2.236068</td>\n",
       "      <td>2.236068</td>\n",
       "      <td>1.732051</td>\n",
       "      <td>...</td>\n",
       "      <td>1.732051</td>\n",
       "      <td>2.000000</td>\n",
       "      <td>1.000000</td>\n",
       "      <td>1.732051</td>\n",
       "      <td>0.000000</td>\n",
       "      <td>3.741657</td>\n",
       "      <td>2.000000</td>\n",
       "      <td>2.000000</td>\n",
       "      <td>3.316625</td>\n",
       "      <td>2.449490</td>\n",
       "    </tr>\n",
       "    <tr>\n",
       "      <th>2</th>\n",
       "      <td>4.472136</td>\n",
       "      <td>4.123106</td>\n",
       "      <td>2.000000</td>\n",
       "      <td>4.358899</td>\n",
       "      <td>2.449490</td>\n",
       "      <td>5.099020</td>\n",
       "      <td>2.645751</td>\n",
       "      <td>2.236068</td>\n",
       "      <td>3.000000</td>\n",
       "      <td>1.732051</td>\n",
       "      <td>...</td>\n",
       "      <td>2.000000</td>\n",
       "      <td>2.000000</td>\n",
       "      <td>2.449490</td>\n",
       "      <td>1.732051</td>\n",
       "      <td>0.000000</td>\n",
       "      <td>3.741657</td>\n",
       "      <td>2.000000</td>\n",
       "      <td>2.000000</td>\n",
       "      <td>3.316625</td>\n",
       "      <td>2.645751</td>\n",
       "    </tr>\n",
       "    <tr>\n",
       "      <th>3</th>\n",
       "      <td>4.472136</td>\n",
       "      <td>4.358899</td>\n",
       "      <td>2.000000</td>\n",
       "      <td>4.358899</td>\n",
       "      <td>2.449490</td>\n",
       "      <td>5.099020</td>\n",
       "      <td>2.645751</td>\n",
       "      <td>2.236068</td>\n",
       "      <td>4.472136</td>\n",
       "      <td>2.828427</td>\n",
       "      <td>...</td>\n",
       "      <td>2.236068</td>\n",
       "      <td>2.236068</td>\n",
       "      <td>2.645751</td>\n",
       "      <td>2.000000</td>\n",
       "      <td>0.000000</td>\n",
       "      <td>3.872983</td>\n",
       "      <td>2.000000</td>\n",
       "      <td>2.000000</td>\n",
       "      <td>3.464102</td>\n",
       "      <td>2.828427</td>\n",
       "    </tr>\n",
       "    <tr>\n",
       "      <th>4</th>\n",
       "      <td>4.582576</td>\n",
       "      <td>4.582576</td>\n",
       "      <td>3.162278</td>\n",
       "      <td>4.472136</td>\n",
       "      <td>2.645751</td>\n",
       "      <td>5.385165</td>\n",
       "      <td>2.828427</td>\n",
       "      <td>2.449490</td>\n",
       "      <td>4.472136</td>\n",
       "      <td>2.828427</td>\n",
       "      <td>...</td>\n",
       "      <td>2.236068</td>\n",
       "      <td>2.449490</td>\n",
       "      <td>2.645751</td>\n",
       "      <td>2.828427</td>\n",
       "      <td>1.000000</td>\n",
       "      <td>3.872983</td>\n",
       "      <td>2.236068</td>\n",
       "      <td>2.000000</td>\n",
       "      <td>3.464102</td>\n",
       "      <td>2.828427</td>\n",
       "    </tr>\n",
       "    <tr>\n",
       "      <th>...</th>\n",
       "      <td>...</td>\n",
       "      <td>...</td>\n",
       "      <td>...</td>\n",
       "      <td>...</td>\n",
       "      <td>...</td>\n",
       "      <td>...</td>\n",
       "      <td>...</td>\n",
       "      <td>...</td>\n",
       "      <td>...</td>\n",
       "      <td>...</td>\n",
       "      <td>...</td>\n",
       "      <td>...</td>\n",
       "      <td>...</td>\n",
       "      <td>...</td>\n",
       "      <td>...</td>\n",
       "      <td>...</td>\n",
       "      <td>...</td>\n",
       "      <td>...</td>\n",
       "      <td>...</td>\n",
       "      <td>...</td>\n",
       "      <td>...</td>\n",
       "    </tr>\n",
       "    <tr>\n",
       "      <th>3078</th>\n",
       "      <td>8.306623</td>\n",
       "      <td>8.602325</td>\n",
       "      <td>8.426149</td>\n",
       "      <td>8.306623</td>\n",
       "      <td>8.185352</td>\n",
       "      <td>8.660254</td>\n",
       "      <td>7.681146</td>\n",
       "      <td>8.426149</td>\n",
       "      <td>8.306623</td>\n",
       "      <td>8.660254</td>\n",
       "      <td>...</td>\n",
       "      <td>8.426149</td>\n",
       "      <td>7.810250</td>\n",
       "      <td>8.000000</td>\n",
       "      <td>7.937254</td>\n",
       "      <td>8.062258</td>\n",
       "      <td>8.246211</td>\n",
       "      <td>8.366600</td>\n",
       "      <td>8.246211</td>\n",
       "      <td>7.937254</td>\n",
       "      <td>7.937254</td>\n",
       "    </tr>\n",
       "    <tr>\n",
       "      <th>3079</th>\n",
       "      <td>8.426149</td>\n",
       "      <td>8.660254</td>\n",
       "      <td>8.485281</td>\n",
       "      <td>8.306623</td>\n",
       "      <td>8.246211</td>\n",
       "      <td>8.660254</td>\n",
       "      <td>7.745967</td>\n",
       "      <td>8.426149</td>\n",
       "      <td>8.366600</td>\n",
       "      <td>8.660254</td>\n",
       "      <td>...</td>\n",
       "      <td>8.426149</td>\n",
       "      <td>7.937254</td>\n",
       "      <td>8.000000</td>\n",
       "      <td>8.000000</td>\n",
       "      <td>8.124039</td>\n",
       "      <td>8.306623</td>\n",
       "      <td>8.366600</td>\n",
       "      <td>8.306623</td>\n",
       "      <td>8.000000</td>\n",
       "      <td>7.937254</td>\n",
       "    </tr>\n",
       "    <tr>\n",
       "      <th>3080</th>\n",
       "      <td>8.485281</td>\n",
       "      <td>8.660254</td>\n",
       "      <td>8.485281</td>\n",
       "      <td>8.306623</td>\n",
       "      <td>8.246211</td>\n",
       "      <td>8.660254</td>\n",
       "      <td>7.810250</td>\n",
       "      <td>8.485281</td>\n",
       "      <td>8.426149</td>\n",
       "      <td>8.717798</td>\n",
       "      <td>...</td>\n",
       "      <td>8.426149</td>\n",
       "      <td>7.937254</td>\n",
       "      <td>8.000000</td>\n",
       "      <td>8.062258</td>\n",
       "      <td>8.124039</td>\n",
       "      <td>8.306623</td>\n",
       "      <td>8.426149</td>\n",
       "      <td>8.366600</td>\n",
       "      <td>8.000000</td>\n",
       "      <td>8.000000</td>\n",
       "    </tr>\n",
       "    <tr>\n",
       "      <th>3081</th>\n",
       "      <td>8.485281</td>\n",
       "      <td>8.660254</td>\n",
       "      <td>8.544003</td>\n",
       "      <td>8.366600</td>\n",
       "      <td>8.246211</td>\n",
       "      <td>8.660254</td>\n",
       "      <td>7.810250</td>\n",
       "      <td>8.544003</td>\n",
       "      <td>8.426149</td>\n",
       "      <td>8.717798</td>\n",
       "      <td>...</td>\n",
       "      <td>8.485281</td>\n",
       "      <td>7.937254</td>\n",
       "      <td>8.124039</td>\n",
       "      <td>8.062258</td>\n",
       "      <td>8.426149</td>\n",
       "      <td>8.426149</td>\n",
       "      <td>8.485281</td>\n",
       "      <td>8.426149</td>\n",
       "      <td>8.124039</td>\n",
       "      <td>8.000000</td>\n",
       "    </tr>\n",
       "    <tr>\n",
       "      <th>3082</th>\n",
       "      <td>8.485281</td>\n",
       "      <td>8.717798</td>\n",
       "      <td>8.602325</td>\n",
       "      <td>8.426149</td>\n",
       "      <td>8.366600</td>\n",
       "      <td>8.717798</td>\n",
       "      <td>7.874008</td>\n",
       "      <td>8.602325</td>\n",
       "      <td>8.426149</td>\n",
       "      <td>8.774964</td>\n",
       "      <td>...</td>\n",
       "      <td>8.485281</td>\n",
       "      <td>8.062258</td>\n",
       "      <td>8.185352</td>\n",
       "      <td>8.062258</td>\n",
       "      <td>8.426149</td>\n",
       "      <td>8.485281</td>\n",
       "      <td>8.602325</td>\n",
       "      <td>8.426149</td>\n",
       "      <td>8.246211</td>\n",
       "      <td>8.000000</td>\n",
       "    </tr>\n",
       "  </tbody>\n",
       "</table>\n",
       "<p>3083 rows × 771 columns</p>\n",
       "</div>"
      ],
      "text/plain": [
       "           0         1         2         3         4         5         6    \\\n",
       "0     3.464102  3.872983  0.000000  3.605551  2.000000  0.000000  1.414214   \n",
       "1     4.000000  4.123106  1.732051  4.123106  2.236068  2.828427  1.414214   \n",
       "2     4.472136  4.123106  2.000000  4.358899  2.449490  5.099020  2.645751   \n",
       "3     4.472136  4.358899  2.000000  4.358899  2.449490  5.099020  2.645751   \n",
       "4     4.582576  4.582576  3.162278  4.472136  2.645751  5.385165  2.828427   \n",
       "...        ...       ...       ...       ...       ...       ...       ...   \n",
       "3078  8.306623  8.602325  8.426149  8.306623  8.185352  8.660254  7.681146   \n",
       "3079  8.426149  8.660254  8.485281  8.306623  8.246211  8.660254  7.745967   \n",
       "3080  8.485281  8.660254  8.485281  8.306623  8.246211  8.660254  7.810250   \n",
       "3081  8.485281  8.660254  8.544003  8.366600  8.246211  8.660254  7.810250   \n",
       "3082  8.485281  8.717798  8.602325  8.426149  8.366600  8.717798  7.874008   \n",
       "\n",
       "           7         8         9    ...       761       762       763  \\\n",
       "0     1.732051  1.414214  1.414214  ...  1.414214  2.000000  1.000000   \n",
       "1     2.236068  2.236068  1.732051  ...  1.732051  2.000000  1.000000   \n",
       "2     2.236068  3.000000  1.732051  ...  2.000000  2.000000  2.449490   \n",
       "3     2.236068  4.472136  2.828427  ...  2.236068  2.236068  2.645751   \n",
       "4     2.449490  4.472136  2.828427  ...  2.236068  2.449490  2.645751   \n",
       "...        ...       ...       ...  ...       ...       ...       ...   \n",
       "3078  8.426149  8.306623  8.660254  ...  8.426149  7.810250  8.000000   \n",
       "3079  8.426149  8.366600  8.660254  ...  8.426149  7.937254  8.000000   \n",
       "3080  8.485281  8.426149  8.717798  ...  8.426149  7.937254  8.000000   \n",
       "3081  8.544003  8.426149  8.717798  ...  8.485281  7.937254  8.124039   \n",
       "3082  8.602325  8.426149  8.774964  ...  8.485281  8.062258  8.185352   \n",
       "\n",
       "           764       765       766       767       768       769       770  \n",
       "0     1.414214  0.000000  3.162278  1.414214  2.000000  1.000000  2.236068  \n",
       "1     1.732051  0.000000  3.741657  2.000000  2.000000  3.316625  2.449490  \n",
       "2     1.732051  0.000000  3.741657  2.000000  2.000000  3.316625  2.645751  \n",
       "3     2.000000  0.000000  3.872983  2.000000  2.000000  3.464102  2.828427  \n",
       "4     2.828427  1.000000  3.872983  2.236068  2.000000  3.464102  2.828427  \n",
       "...        ...       ...       ...       ...       ...       ...       ...  \n",
       "3078  7.937254  8.062258  8.246211  8.366600  8.246211  7.937254  7.937254  \n",
       "3079  8.000000  8.124039  8.306623  8.366600  8.306623  8.000000  7.937254  \n",
       "3080  8.062258  8.124039  8.306623  8.426149  8.366600  8.000000  8.000000  \n",
       "3081  8.062258  8.426149  8.426149  8.485281  8.426149  8.124039  8.000000  \n",
       "3082  8.062258  8.426149  8.485281  8.602325  8.426149  8.246211  8.000000  \n",
       "\n",
       "[3083 rows x 771 columns]"
      ]
     },
     "execution_count": 74,
     "metadata": {},
     "output_type": "execute_result"
    }
   ],
   "source": [
    "x_ts_AD=pd.DataFrame(neighbors_k_ts)\n",
    "x_ts_AD"
   ]
  },
  {
   "cell_type": "code",
   "execution_count": 75,
   "metadata": {},
   "outputs": [
    {
     "name": "stdout",
     "output_type": "stream",
     "text": [
      "[3.464 3.873 0.    3.606 2.    0.    1.414 1.732 1.414 1.414 1.    1.\n",
      " 3.742 1.732 0.    0.    1.    2.    2.449 2.236 2.449 1.414 2.236 1.\n",
      " 4.472 1.    0.    4.123 1.414 2.449 1.732 2.646 3.317 3.742 1.732 1.414\n",
      " 2.449 1.732 1.732 1.732 2.646 1.414 2.236 2.646 2.646 2.236 1.414 1.732\n",
      " 1.414 0.    2.449 1.732 3.606 3.    2.646 0.    1.732 1.414 2.449 1.414\n",
      " 1.732 1.732 2.449 0.    1.732 4.    2.    1.414 0.    2.449 1.    1.414\n",
      " 0.    2.646 1.414 1.    1.732 2.449 3.162 1.414 0.    2.236 1.732 1.732\n",
      " 3.606 1.414 0.    1.    3.606 0.    0.    2.449 1.732 1.732 0.    3.873\n",
      " 2.    0.    0.    2.646 0.    3.742 0.    1.414 2.449 2.646 1.414 2.236\n",
      " 2.    1.    1.    1.732 2.449 0.    2.    1.414 2.    0.    2.449 0.\n",
      " 2.    0.    0.    2.828 2.828 2.828 1.    1.    2.828 0.    1.414 1.\n",
      " 1.732 1.414 3.606 1.    2.828 1.732 0.    0.    2.236 1.732 1.414 0.\n",
      " 2.    2.    0.    1.    2.236 1.    2.828 1.414 2.    3.606 2.449 1.\n",
      " 0.    2.    1.732 0.    1.414 1.414 2.    0.    0.    0.    1.414 3.464\n",
      " 1.732 0.    0.    2.236 1.    2.828 0.    0.    1.    2.646 2.646 2.236\n",
      " 0.    0.    2.    2.449 0.    1.    2.828 1.    2.236 2.    1.414 2.\n",
      " 0.    1.732 2.828 0.    0.    2.236 3.    1.414 0.    1.    0.    0.\n",
      " 0.    1.    0.    2.    1.    1.732 1.    0.    1.414 4.    1.732 2.\n",
      " 2.449 2.236 3.162 0.    1.    0.    1.    0.    1.    0.    0.    2.828\n",
      " 2.449 2.646 1.414 1.732 0.    0.    1.414 1.414 2.828 0.    1.414 0.\n",
      " 0.    0.    1.    3.606 2.    0.    0.    3.464 0.    0.    0.    0.\n",
      " 2.    0.    1.414 1.732 1.    0.    2.828 2.    3.162 1.732 1.    2.\n",
      " 0.    0.    0.    2.646 2.    2.646 1.414 1.414 3.162 0.    2.236 1.\n",
      " 2.449 1.732 0.    0.    0.    1.    1.732 2.    1.414 2.236 1.    2.\n",
      " 1.    0.    0.    2.    1.414 2.    0.    1.    1.    1.414 2.646 1.414\n",
      " 1.414 2.646 1.414 2.646 1.    1.414 0.    3.317 1.732 0.    0.    2.\n",
      " 1.    0.    0.    0.    0.    0.    0.    2.646 0.    1.414 2.646 2.449\n",
      " 0.    0.    2.    1.414 2.    2.449 2.    2.828 1.    3.464 0.    1.\n",
      " 1.414 0.    3.606 2.828 0.    2.    0.    2.    0.    0.    0.    1.414\n",
      " 1.414 1.414 1.    1.732 4.796 1.732 1.414 2.236 0.    2.236 2.646 1.\n",
      " 1.732 3.317 3.742 3.162 1.414 2.236 0.    1.    0.    1.    1.732 1.414\n",
      " 0.    2.646 0.    1.    0.    2.    1.    1.414 1.    3.162 2.828 0.\n",
      " 0.    1.    1.    0.    0.    1.732 1.414 0.    0.    2.449 0.    1.\n",
      " 0.    0.    3.162 0.    1.    0.    1.732 1.414 3.317 2.449 0.    1.414\n",
      " 1.732 1.732 0.    2.    2.236 1.    0.    1.    3.464 2.236 0.    2.\n",
      " 2.    5.745 2.449 1.    1.732 0.    1.414 2.236 1.732 1.732 1.732 0.\n",
      " 0.    1.732 1.414 2.828 0.    1.414 1.414 0.    1.414 1.414 0.    0.\n",
      " 0.    0.    1.732 2.828 0.    0.    1.414 0.    3.317 0.    2.    0.\n",
      " 2.646 1.    2.449 1.    1.    0.    0.    3.    0.    1.414 0.    2.236\n",
      " 2.828 2.236 2.646 1.414 0.    1.414 0.    0.    1.    0.    0.    1.414\n",
      " 3.317 2.    0.    1.732 2.    0.    1.732 0.    0.    1.414 0.    1.\n",
      " 1.732 1.732 0.    2.828 2.    1.414 0.    0.    0.    3.    2.    0.\n",
      " 1.    2.646 0.    2.236 0.    0.    1.414 2.236 0.    0.    0.    0.\n",
      " 1.414 2.449 1.414 0.    2.236 1.    2.449 2.449 2.449 1.732 1.732 2.646\n",
      " 1.732 0.    1.414 2.    0.    2.828 2.828 0.    0.    2.828 3.317 1.414\n",
      " 0.    0.    0.    1.732 1.    2.449 1.732 2.828 1.414 1.    0.    2.236\n",
      " 1.    2.    1.414 1.414 0.    1.    1.732 2.828 0.    0.    1.414 4.472\n",
      " 1.414 2.236 1.    0.    0.    2.    1.414 0.    0.    3.    1.414 2.\n",
      " 1.    0.    2.236 1.    1.414 0.    0.    2.828 1.414 0.    0.    2.646\n",
      " 3.464 0.    1.414 4.123 2.828 0.    2.828 2.646 0.    0.    1.    1.\n",
      " 0.    1.    0.    1.    2.    2.    2.236 0.    1.732 1.    1.414 1.414\n",
      " 1.732 2.    3.317 2.828 1.414 0.    0.    3.464 3.317 2.828 2.646 1.414\n",
      " 1.    0.    0.    0.    1.414 2.    1.732 1.    0.    0.    1.732 3.606\n",
      " 1.732 0.    0.    0.    2.236 0.    1.    3.    1.    1.732 1.    1.\n",
      " 4.472 1.414 0.    0.    0.    3.162 1.732 1.    0.    0.    1.    2.\n",
      " 1.    2.236 2.236 2.828 1.414 1.414 0.    0.    0.    2.828 1.732 1.414\n",
      " 1.    1.    1.    0.    2.    1.732 2.828 2.    1.414 1.    2.236 1.414\n",
      " 2.449 1.    1.732 1.    2.449 0.    1.414 0.    1.414 1.    0.    0.\n",
      " 0.    2.449 1.414 1.414 1.    0.    0.    0.    1.414 0.    2.449 0.\n",
      " 0.    1.732 0.    2.449 1.414 0.    2.236 0.    1.414 1.414 0.    1.414\n",
      " 0.    1.414 2.    1.    0.    0.    1.732 0.    0.    1.732 1.414 1.\n",
      " 0.    2.236 1.732 2.449 1.    1.732 2.236 3.317 1.414 1.732 1.    4.583\n",
      " 0.    1.    2.236 3.464 2.    2.    1.    1.414 2.236 2.    1.    1.732\n",
      " 2.646 0.    0.    2.236 3.    1.414 2.    1.    1.414 0.    3.162 1.414\n",
      " 2.    1.    2.236]\n"
     ]
    }
   ],
   "source": [
    "similarity_ts= neighbors_k_ts\n",
    "cpd_AD=similarity_ts[0,:]\n",
    "cpd_value = np.round(cpd_AD, 3)\n",
    "print(cpd_value)"
   ]
  },
  {
   "cell_type": "code",
   "execution_count": 76,
   "metadata": {},
   "outputs": [
    {
     "name": "stdout",
     "output_type": "stream",
     "text": [
      "[False False  True False False  True  True  True  True  True  True  True\n",
      " False  True  True  True  True False False False False  True False  True\n",
      " False  True  True False  True False  True False False False  True  True\n",
      " False  True  True  True False  True False False False False  True  True\n",
      "  True  True False  True False False False  True  True  True False  True\n",
      "  True  True False  True  True False False  True  True False  True  True\n",
      "  True False  True  True  True False False  True  True False  True  True\n",
      " False  True  True  True False  True  True False  True  True  True False\n",
      " False  True  True False  True False  True  True False False  True False\n",
      " False  True  True  True False  True False  True False  True False  True\n",
      " False  True  True False False False  True  True False  True  True  True\n",
      "  True  True False  True False  True  True  True False  True  True  True\n",
      " False False  True  True False  True False  True False False False  True\n",
      "  True False  True  True  True  True False  True  True  True  True False\n",
      "  True  True  True False  True False  True  True  True False False False\n",
      "  True  True False False  True  True False  True False False  True False\n",
      "  True  True False  True  True False False  True  True  True  True  True\n",
      "  True  True  True False  True  True  True  True  True False  True False\n",
      " False False False  True  True  True  True  True  True  True  True False\n",
      " False False  True  True  True  True  True  True False  True  True  True\n",
      "  True  True  True False False  True  True False  True  True  True  True\n",
      " False  True  True  True  True  True False False False  True  True False\n",
      "  True  True  True False False False  True  True False  True False  True\n",
      " False  True  True  True  True  True  True False  True False  True False\n",
      "  True  True  True False  True False  True  True  True  True False  True\n",
      "  True False  True False  True  True  True False  True  True  True False\n",
      "  True  True  True  True  True  True  True False  True  True False False\n",
      "  True  True False  True False False False False  True False  True  True\n",
      "  True  True False False  True False  True False  True  True  True  True\n",
      "  True  True  True  True False  True  True False  True False False  True\n",
      "  True False False False  True False  True  True  True  True  True  True\n",
      "  True False  True  True  True False  True  True  True False False  True\n",
      "  True  True  True  True  True  True  True  True  True False  True  True\n",
      "  True  True False  True  True  True  True  True False False  True  True\n",
      "  True  True  True False False  True  True  True False False  True False\n",
      " False False False  True  True  True  True False  True  True  True  True\n",
      "  True  True  True False  True  True  True  True  True  True  True  True\n",
      "  True  True  True False  True  True  True  True False  True False  True\n",
      " False  True False  True  True  True  True False  True  True  True False\n",
      " False False False  True  True  True  True  True  True  True  True  True\n",
      " False False  True  True False  True  True  True  True  True  True  True\n",
      "  True  True  True False False  True  True  True  True False False  True\n",
      "  True False  True False  True  True  True False  True  True  True  True\n",
      "  True False  True  True False  True False False False  True  True False\n",
      "  True  True  True False  True False False  True  True False False  True\n",
      "  True  True  True  True  True False  True False  True  True  True False\n",
      "  True False  True  True  True  True  True False  True  True  True False\n",
      "  True False  True  True  True False  True  True  True False  True False\n",
      "  True  True False  True  True  True  True False  True  True  True False\n",
      " False  True  True False False  True False False  True  True  True  True\n",
      "  True  True  True  True False False False  True  True  True  True  True\n",
      "  True False False False  True  True  True False False False False  True\n",
      "  True  True  True  True  True False  True  True  True  True  True False\n",
      "  True  True  True  True False  True  True False  True  True  True  True\n",
      " False  True  True  True  True False  True  True  True  True  True False\n",
      "  True False False False  True  True  True  True  True False  True  True\n",
      "  True  True  True  True False  True False False  True  True False  True\n",
      " False  True  True  True False  True  True  True  True  True  True  True\n",
      "  True False  True  True  True  True  True  True  True  True False  True\n",
      "  True  True  True False  True  True False  True  True  True  True  True\n",
      "  True  True False  True  True  True  True  True  True  True  True  True\n",
      "  True False  True False  True  True False False  True  True  True False\n",
      "  True  True False False False False  True  True False False  True  True\n",
      " False  True  True False False  True False  True  True  True False  True\n",
      " False  True False]\n"
     ]
    }
   ],
   "source": [
    "cpd_AD = np.where(cpd_value <= model_AD_limit, True, False)\n",
    "print(cpd_AD)"
   ]
  },
  {
   "cell_type": "code",
   "execution_count": 77,
   "metadata": {},
   "outputs": [
    {
     "name": "stdout",
     "output_type": "stream",
     "text": [
      "Coverage =  0.67\n"
     ]
    }
   ],
   "source": [
    "print(\"Coverage = \", round(sum(cpd_AD) / len(cpd_AD), 2))"
   ]
  },
  {
   "cell_type": "code",
   "execution_count": 78,
   "metadata": {},
   "outputs": [
    {
     "name": "stdout",
     "output_type": "stream",
     "text": [
      "Indices of substances included in AD =  [  2   5   6   7   8   9  10  11  13  14  15  16  21  23  25  26  28  30\n",
      "  34  35  37  38  39  41  46  47  48  49  51  55  56  57  59  60  61  63\n",
      "  64  67  68  70  71  72  74  75  76  79  80  82  83  85  86  87  89  90\n",
      "  92  93  94  97  98 100 102 103 106 109 110 111 113 115 117 119 121 122\n",
      " 126 127 129 130 131 132 133 135 137 138 139 141 142 143 146 147 149 151\n",
      " 155 156 158 159 160 161 163 164 165 166 168 169 170 172 174 175 176 180\n",
      " 181 184 185 187 190 192 193 195 196 199 200 201 202 203 204 205 206 208\n",
      " 209 210 211 212 214 219 220 221 222 223 224 225 226 230 231 232 233 234\n",
      " 235 237 238 239 240 241 242 245 246 248 249 250 251 253 254 255 256 257\n",
      " 261 262 264 265 266 270 271 273 275 277 278 279 280 281 282 284 286 288\n",
      " 289 290 292 294 295 296 297 299 300 302 304 305 306 308 309 310 312 313\n",
      " 314 315 316 317 318 320 321 324 325 327 332 334 335 336 337 340 342 344\n",
      " 345 346 347 348 349 350 351 353 354 356 359 360 364 366 367 368 369 370\n",
      " 371 372 374 375 376 378 379 380 383 384 385 386 387 388 389 390 391 392\n",
      " 394 395 396 397 399 400 401 402 403 406 407 408 409 410 413 414 415 418\n",
      " 423 424 425 426 428 429 430 431 432 433 434 436 437 438 439 440 441 442\n",
      " 443 444 445 446 448 449 450 451 453 455 457 459 460 461 462 464 465 466\n",
      " 471 472 473 474 475 476 477 478 479 482 483 485 486 487 488 489 490 491\n",
      " 492 493 494 497 498 499 500 503 504 506 508 509 510 512 513 514 515 516\n",
      " 518 519 521 525 526 528 529 530 532 535 536 539 540 541 542 543 544 546\n",
      " 548 549 550 552 554 555 556 557 558 560 561 562 564 566 567 568 570 571\n",
      " 572 574 576 577 579 580 581 582 584 585 586 589 590 593 596 597 598 599\n",
      " 600 601 602 603 607 608 609 610 611 612 616 617 618 623 624 625 626 627\n",
      " 628 630 631 632 633 634 636 637 638 639 641 642 644 645 646 647 649 650\n",
      " 651 652 654 655 656 657 658 660 664 665 666 667 668 670 671 672 673 674\n",
      " 675 677 680 681 683 685 686 687 689 690 691 692 693 694 695 696 698 699\n",
      " 700 701 702 703 704 705 707 708 709 710 712 713 715 716 717 718 719 720\n",
      " 721 723 724 725 726 727 728 729 730 731 732 734 736 737 740 741 742 744\n",
      " 745 750 751 754 755 757 758 761 763 764 765 767 769]\n"
     ]
    }
   ],
   "source": [
    "print(\"Indices of substances included in AD = \", np.where(cpd_AD != 0)[0])"
   ]
  },
  {
   "cell_type": "code",
   "execution_count": 79,
   "metadata": {},
   "outputs": [],
   "source": [
    "out_Ad=list(np.where(cpd_AD == 0)[0])"
   ]
  },
  {
   "cell_type": "markdown",
   "metadata": {},
   "source": [
    "# 12. Prediction only for molecules included in  AD"
   ]
  },
  {
   "cell_type": "code",
   "execution_count": 80,
   "metadata": {},
   "outputs": [],
   "source": [
    "y_pred_GBR_ad=list(y_pred_GBR)"
   ]
  },
  {
   "cell_type": "code",
   "execution_count": 81,
   "metadata": {},
   "outputs": [],
   "source": [
    "y_pred_GBR_ad[:] = [x for i,x in enumerate(y_pred_GBR_ad) if i not in out_Ad]"
   ]
  },
  {
   "cell_type": "code",
   "execution_count": 82,
   "metadata": {},
   "outputs": [
    {
     "data": {
      "text/plain": [
       "517"
      ]
     },
     "execution_count": 82,
     "metadata": {},
     "output_type": "execute_result"
    }
   ],
   "source": [
    "len(y_pred_GBR_ad)"
   ]
  },
  {
   "cell_type": "code",
   "execution_count": 83,
   "metadata": {},
   "outputs": [],
   "source": [
    "y_ts_ad=list(y_ts)"
   ]
  },
  {
   "cell_type": "code",
   "execution_count": 84,
   "metadata": {},
   "outputs": [],
   "source": [
    "y_ts_ad[:] = [x for i,x in enumerate(y_ts_ad) if i not in out_Ad]"
   ]
  },
  {
   "cell_type": "code",
   "execution_count": 85,
   "metadata": {},
   "outputs": [
    {
     "data": {
      "text/plain": [
       "517"
      ]
     },
     "execution_count": 85,
     "metadata": {},
     "output_type": "execute_result"
    }
   ],
   "source": [
    "len(y_ts_ad)"
   ]
  },
  {
   "cell_type": "code",
   "execution_count": 86,
   "metadata": {},
   "outputs": [
    {
     "data": {
      "text/plain": [
       "0.63"
      ]
     },
     "execution_count": 86,
     "metadata": {},
     "output_type": "execute_result"
    }
   ],
   "source": [
    "Q2_TS = round(r2_score(y_ts_ad, y_pred_GBR_ad), 2)\n",
    "Q2_TS"
   ]
  },
  {
   "cell_type": "code",
   "execution_count": 87,
   "metadata": {},
   "outputs": [
    {
     "data": {
      "text/plain": [
       "0.69"
      ]
     },
     "execution_count": 87,
     "metadata": {},
     "output_type": "execute_result"
    }
   ],
   "source": [
    "RMSE_TS=round(np.sqrt(mean_absolute_error(y_ts_ad, y_pred_GBR_ad)), 2)\n",
    "RMSE_TS"
   ]
  },
  {
   "cell_type": "markdown",
   "metadata": {},
   "source": [
    "# SVM model building and validation"
   ]
  },
  {
   "cell_type": "code",
   "execution_count": 88,
   "metadata": {},
   "outputs": [],
   "source": [
    "param_grid = {\"C\": [10 ** i for i in range(0, 5)],\n",
    "              \"gamma\": [10 ** i for i in range(-6, 0)]}"
   ]
  },
  {
   "cell_type": "code",
   "execution_count": 89,
   "metadata": {},
   "outputs": [],
   "source": [
    "seed = 42\n",
    "cv=KFold(n_splits=5, random_state=seed, shuffle=True)"
   ]
  },
  {
   "cell_type": "code",
   "execution_count": 90,
   "metadata": {},
   "outputs": [],
   "source": [
    "svm = GridSearchCV(SVR(C=1.0, epsilon=0.2), param_grid, n_jobs=-1, cv=cv, verbose=1)"
   ]
  },
  {
   "cell_type": "code",
   "execution_count": 91,
   "metadata": {},
   "outputs": [
    {
     "name": "stdout",
     "output_type": "stream",
     "text": [
      "Fitting 5 folds for each of 30 candidates, totalling 150 fits\n"
     ]
    },
    {
     "data": {
      "text/html": [
       "<style>#sk-container-id-2 {color: black;}#sk-container-id-2 pre{padding: 0;}#sk-container-id-2 div.sk-toggleable {background-color: white;}#sk-container-id-2 label.sk-toggleable__label {cursor: pointer;display: block;width: 100%;margin-bottom: 0;padding: 0.3em;box-sizing: border-box;text-align: center;}#sk-container-id-2 label.sk-toggleable__label-arrow:before {content: \"▸\";float: left;margin-right: 0.25em;color: #696969;}#sk-container-id-2 label.sk-toggleable__label-arrow:hover:before {color: black;}#sk-container-id-2 div.sk-estimator:hover label.sk-toggleable__label-arrow:before {color: black;}#sk-container-id-2 div.sk-toggleable__content {max-height: 0;max-width: 0;overflow: hidden;text-align: left;background-color: #f0f8ff;}#sk-container-id-2 div.sk-toggleable__content pre {margin: 0.2em;color: black;border-radius: 0.25em;background-color: #f0f8ff;}#sk-container-id-2 input.sk-toggleable__control:checked~div.sk-toggleable__content {max-height: 200px;max-width: 100%;overflow: auto;}#sk-container-id-2 input.sk-toggleable__control:checked~label.sk-toggleable__label-arrow:before {content: \"▾\";}#sk-container-id-2 div.sk-estimator input.sk-toggleable__control:checked~label.sk-toggleable__label {background-color: #d4ebff;}#sk-container-id-2 div.sk-label input.sk-toggleable__control:checked~label.sk-toggleable__label {background-color: #d4ebff;}#sk-container-id-2 input.sk-hidden--visually {border: 0;clip: rect(1px 1px 1px 1px);clip: rect(1px, 1px, 1px, 1px);height: 1px;margin: -1px;overflow: hidden;padding: 0;position: absolute;width: 1px;}#sk-container-id-2 div.sk-estimator {font-family: monospace;background-color: #f0f8ff;border: 1px dotted black;border-radius: 0.25em;box-sizing: border-box;margin-bottom: 0.5em;}#sk-container-id-2 div.sk-estimator:hover {background-color: #d4ebff;}#sk-container-id-2 div.sk-parallel-item::after {content: \"\";width: 100%;border-bottom: 1px solid gray;flex-grow: 1;}#sk-container-id-2 div.sk-label:hover label.sk-toggleable__label {background-color: #d4ebff;}#sk-container-id-2 div.sk-serial::before {content: \"\";position: absolute;border-left: 1px solid gray;box-sizing: border-box;top: 0;bottom: 0;left: 50%;z-index: 0;}#sk-container-id-2 div.sk-serial {display: flex;flex-direction: column;align-items: center;background-color: white;padding-right: 0.2em;padding-left: 0.2em;position: relative;}#sk-container-id-2 div.sk-item {position: relative;z-index: 1;}#sk-container-id-2 div.sk-parallel {display: flex;align-items: stretch;justify-content: center;background-color: white;position: relative;}#sk-container-id-2 div.sk-item::before, #sk-container-id-2 div.sk-parallel-item::before {content: \"\";position: absolute;border-left: 1px solid gray;box-sizing: border-box;top: 0;bottom: 0;left: 50%;z-index: -1;}#sk-container-id-2 div.sk-parallel-item {display: flex;flex-direction: column;z-index: 1;position: relative;background-color: white;}#sk-container-id-2 div.sk-parallel-item:first-child::after {align-self: flex-end;width: 50%;}#sk-container-id-2 div.sk-parallel-item:last-child::after {align-self: flex-start;width: 50%;}#sk-container-id-2 div.sk-parallel-item:only-child::after {width: 0;}#sk-container-id-2 div.sk-dashed-wrapped {border: 1px dashed gray;margin: 0 0.4em 0.5em 0.4em;box-sizing: border-box;padding-bottom: 0.4em;background-color: white;}#sk-container-id-2 div.sk-label label {font-family: monospace;font-weight: bold;display: inline-block;line-height: 1.2em;}#sk-container-id-2 div.sk-label-container {text-align: center;}#sk-container-id-2 div.sk-container {/* jupyter's `normalize.less` sets `[hidden] { display: none; }` but bootstrap.min.css set `[hidden] { display: none !important; }` so we also need the `!important` here to be able to override the default hidden behavior on the sphinx rendered scikit-learn.org. See: https://github.com/scikit-learn/scikit-learn/issues/21755 */display: inline-block !important;position: relative;}#sk-container-id-2 div.sk-text-repr-fallback {display: none;}</style><div id=\"sk-container-id-2\" class=\"sk-top-container\"><div class=\"sk-text-repr-fallback\"><pre>GridSearchCV(cv=KFold(n_splits=5, random_state=42, shuffle=True),\n",
       "             estimator=SVR(epsilon=0.2), n_jobs=-1,\n",
       "             param_grid={&#x27;C&#x27;: [1, 10, 100, 1000, 10000],\n",
       "                         &#x27;gamma&#x27;: [1e-06, 1e-05, 0.0001, 0.001, 0.01, 0.1]},\n",
       "             verbose=1)</pre><b>In a Jupyter environment, please rerun this cell to show the HTML representation or trust the notebook. <br />On GitHub, the HTML representation is unable to render, please try loading this page with nbviewer.org.</b></div><div class=\"sk-container\" hidden><div class=\"sk-item sk-dashed-wrapped\"><div class=\"sk-label-container\"><div class=\"sk-label sk-toggleable\"><input class=\"sk-toggleable__control sk-hidden--visually\" id=\"sk-estimator-id-4\" type=\"checkbox\" ><label for=\"sk-estimator-id-4\" class=\"sk-toggleable__label sk-toggleable__label-arrow\">GridSearchCV</label><div class=\"sk-toggleable__content\"><pre>GridSearchCV(cv=KFold(n_splits=5, random_state=42, shuffle=True),\n",
       "             estimator=SVR(epsilon=0.2), n_jobs=-1,\n",
       "             param_grid={&#x27;C&#x27;: [1, 10, 100, 1000, 10000],\n",
       "                         &#x27;gamma&#x27;: [1e-06, 1e-05, 0.0001, 0.001, 0.01, 0.1]},\n",
       "             verbose=1)</pre></div></div></div><div class=\"sk-parallel\"><div class=\"sk-parallel-item\"><div class=\"sk-item\"><div class=\"sk-label-container\"><div class=\"sk-label sk-toggleable\"><input class=\"sk-toggleable__control sk-hidden--visually\" id=\"sk-estimator-id-5\" type=\"checkbox\" ><label for=\"sk-estimator-id-5\" class=\"sk-toggleable__label sk-toggleable__label-arrow\">estimator: SVR</label><div class=\"sk-toggleable__content\"><pre>SVR(epsilon=0.2)</pre></div></div></div><div class=\"sk-serial\"><div class=\"sk-item\"><div class=\"sk-estimator sk-toggleable\"><input class=\"sk-toggleable__control sk-hidden--visually\" id=\"sk-estimator-id-6\" type=\"checkbox\" ><label for=\"sk-estimator-id-6\" class=\"sk-toggleable__label sk-toggleable__label-arrow\">SVR</label><div class=\"sk-toggleable__content\"><pre>SVR(epsilon=0.2)</pre></div></div></div></div></div></div></div></div></div></div>"
      ],
      "text/plain": [
       "GridSearchCV(cv=KFold(n_splits=5, random_state=42, shuffle=True),\n",
       "             estimator=SVR(epsilon=0.2), n_jobs=-1,\n",
       "             param_grid={'C': [1, 10, 100, 1000, 10000],\n",
       "                         'gamma': [1e-06, 1e-05, 0.0001, 0.001, 0.01, 0.1]},\n",
       "             verbose=1)"
      ]
     },
     "execution_count": 91,
     "metadata": {},
     "output_type": "execute_result"
    }
   ],
   "source": [
    "svm.fit(x_tr, y_tr)"
   ]
  },
  {
   "cell_type": "code",
   "execution_count": 92,
   "metadata": {},
   "outputs": [],
   "source": [
    "svm.best_params_\n",
    "best_svm = svm.best_estimator_"
   ]
  },
  {
   "cell_type": "code",
   "execution_count": 93,
   "metadata": {},
   "outputs": [
    {
     "data": {
      "text/plain": [
       "{'C': 10, 'gamma': 0.1}"
      ]
     },
     "execution_count": 93,
     "metadata": {},
     "output_type": "execute_result"
    }
   ],
   "source": [
    "svm.best_params_"
   ]
  },
  {
   "cell_type": "code",
   "execution_count": 94,
   "metadata": {},
   "outputs": [],
   "source": [
    "y_pred_ws_svm = best_svm.predict(x_tr)"
   ]
  },
  {
   "cell_type": "code",
   "execution_count": 95,
   "metadata": {},
   "outputs": [
    {
     "data": {
      "text/plain": [
       "0.93"
      ]
     },
     "execution_count": 95,
     "metadata": {},
     "output_type": "execute_result"
    }
   ],
   "source": [
    "R2_WS = round(r2_score(y_tr, y_pred_ws_svm), 2)\n",
    "R2_WS"
   ]
  },
  {
   "cell_type": "code",
   "execution_count": 96,
   "metadata": {},
   "outputs": [
    {
     "data": {
      "text/plain": [
       "0.46"
      ]
     },
     "execution_count": 96,
     "metadata": {},
     "output_type": "execute_result"
    }
   ],
   "source": [
    "RMSE_WS=round(np.sqrt(mean_absolute_error(y_tr, y_pred_ws_svm)), 2)\n",
    "RMSE_WS"
   ]
  },
  {
   "cell_type": "code",
   "execution_count": 97,
   "metadata": {},
   "outputs": [],
   "source": [
    "y_pred_CV_svm = cross_val_predict(best_svm, x_tr, y_tr, cv=cv)"
   ]
  },
  {
   "cell_type": "code",
   "execution_count": 98,
   "metadata": {},
   "outputs": [
    {
     "data": {
      "text/plain": [
       "0.6"
      ]
     },
     "execution_count": 98,
     "metadata": {},
     "output_type": "execute_result"
    }
   ],
   "source": [
    "Q2_CV = round(r2_score(y_tr, y_pred_CV_svm), 2)\n",
    "Q2_CV"
   ]
  },
  {
   "cell_type": "code",
   "execution_count": 99,
   "metadata": {},
   "outputs": [
    {
     "data": {
      "text/plain": [
       "0.72"
      ]
     },
     "execution_count": 99,
     "metadata": {},
     "output_type": "execute_result"
    }
   ],
   "source": [
    "RMSE_CV=round(np.sqrt(mean_absolute_error(y_tr, y_pred_CV_svm)), 2)\n",
    "RMSE_CV"
   ]
  },
  {
   "cell_type": "markdown",
   "metadata": {},
   "source": [
    "# 9. Prediction for test set's molecules"
   ]
  },
  {
   "cell_type": "code",
   "execution_count": 100,
   "metadata": {},
   "outputs": [],
   "source": [
    "x_ts = np.array(x_ts, dtype=np.float32)\n",
    "y_ts = np.array(y_ts, dtype=np.float32)"
   ]
  },
  {
   "cell_type": "code",
   "execution_count": 101,
   "metadata": {},
   "outputs": [],
   "source": [
    "y_pred_svm = best_svm.predict(x_ts)"
   ]
  },
  {
   "cell_type": "code",
   "execution_count": 102,
   "metadata": {},
   "outputs": [
    {
     "data": {
      "text/plain": [
       "0.6"
      ]
     },
     "execution_count": 102,
     "metadata": {},
     "output_type": "execute_result"
    }
   ],
   "source": [
    "Q2_TS = round(r2_score(y_ts, y_pred_svm), 2)\n",
    "Q2_TS"
   ]
  },
  {
   "cell_type": "code",
   "execution_count": 103,
   "metadata": {},
   "outputs": [
    {
     "data": {
      "text/plain": [
       "0.72"
      ]
     },
     "execution_count": 103,
     "metadata": {},
     "output_type": "execute_result"
    }
   ],
   "source": [
    "RMSE_TS=round(np.sqrt(mean_absolute_error(y_ts, y_pred_svm)), 2)\n",
    "RMSE_TS"
   ]
  },
  {
   "cell_type": "markdown",
   "metadata": {},
   "source": [
    "save the model to disk"
   ]
  },
  {
   "cell_type": "code",
   "execution_count": 104,
   "metadata": {},
   "outputs": [],
   "source": [
    "pickle.dump(best_svm, open('Models/MACCS/HDAC6_SVM_MACCS.pkl', 'wb'))"
   ]
  },
  {
   "cell_type": "markdown",
   "metadata": {},
   "source": [
    "load the model from disk"
   ]
  },
  {
   "cell_type": "code",
   "execution_count": 105,
   "metadata": {},
   "outputs": [],
   "source": [
    "best_svm = pickle.load(open('Models/MACCS/HDAC6_SVM_MACCS.pkl', 'rb'))"
   ]
  },
  {
   "cell_type": "markdown",
   "metadata": {},
   "source": [
    "# 10. Y-randomization SVM model"
   ]
  },
  {
   "cell_type": "code",
   "execution_count": 106,
   "metadata": {},
   "outputs": [
    {
     "name": "stderr",
     "output_type": "stream",
     "text": [
      "[Parallel(n_jobs=-1)]: Using backend LokyBackend with 16 concurrent workers.\n",
      "[Parallel(n_jobs=-1)]: Done  18 tasks      | elapsed:   28.7s\n"
     ]
    },
    {
     "name": "stdout",
     "output_type": "stream",
     "text": [
      "True score =  0.603 \n",
      "Y-randomization =  -0.39 \n",
      "p-value =  0.0196\n"
     ]
    },
    {
     "name": "stderr",
     "output_type": "stream",
     "text": [
      "[Parallel(n_jobs=-1)]: Done  50 out of  50 | elapsed:   54.6s finished\n"
     ]
    }
   ],
   "source": [
    "permutations = 50\n",
    "score, permutation_scores, pvalue = permutation_test_score(best_svm, x_tr, y_tr,\n",
    "                                                           cv=cv, scoring='r2',\n",
    "                                                           n_permutations=permutations,\n",
    "                                                           n_jobs=-1,\n",
    "                                                           verbose=1,\n",
    "                                                           random_state=seed)\n",
    "print('True score = ', score.round(3),\n",
    "      '\\nY-randomization = ', np.mean(permutation_scores).round(2),\n",
    "      '\\np-value = ', pvalue.round(4))"
   ]
  },
  {
   "cell_type": "markdown",
   "metadata": {},
   "source": [
    "# 11. Estimating applicability domain. Method - Euclidian distances, K=1"
   ]
  },
  {
   "cell_type": "code",
   "execution_count": 107,
   "metadata": {},
   "outputs": [],
   "source": [
    "neighbors_k= pairwise_distances(x_tr, n_jobs=-1)\n",
    "neighbors_k.sort(0)"
   ]
  },
  {
   "cell_type": "code",
   "execution_count": 108,
   "metadata": {},
   "outputs": [
    {
     "data": {
      "text/html": [
       "<div>\n",
       "<style scoped>\n",
       "    .dataframe tbody tr th:only-of-type {\n",
       "        vertical-align: middle;\n",
       "    }\n",
       "\n",
       "    .dataframe tbody tr th {\n",
       "        vertical-align: top;\n",
       "    }\n",
       "\n",
       "    .dataframe thead th {\n",
       "        text-align: right;\n",
       "    }\n",
       "</style>\n",
       "<table border=\"1\" class=\"dataframe\">\n",
       "  <thead>\n",
       "    <tr style=\"text-align: right;\">\n",
       "      <th></th>\n",
       "      <th>0</th>\n",
       "      <th>1</th>\n",
       "      <th>2</th>\n",
       "      <th>3</th>\n",
       "      <th>4</th>\n",
       "      <th>5</th>\n",
       "      <th>6</th>\n",
       "      <th>7</th>\n",
       "      <th>8</th>\n",
       "      <th>9</th>\n",
       "      <th>...</th>\n",
       "      <th>3073</th>\n",
       "      <th>3074</th>\n",
       "      <th>3075</th>\n",
       "      <th>3076</th>\n",
       "      <th>3077</th>\n",
       "      <th>3078</th>\n",
       "      <th>3079</th>\n",
       "      <th>3080</th>\n",
       "      <th>3081</th>\n",
       "      <th>3082</th>\n",
       "    </tr>\n",
       "  </thead>\n",
       "  <tbody>\n",
       "    <tr>\n",
       "      <th>0</th>\n",
       "      <td>0.000000</td>\n",
       "      <td>0.000000</td>\n",
       "      <td>0.000000</td>\n",
       "      <td>0.000000</td>\n",
       "      <td>0.000000</td>\n",
       "      <td>0.000000</td>\n",
       "      <td>0.000000</td>\n",
       "      <td>0.000000</td>\n",
       "      <td>0.000000</td>\n",
       "      <td>0.000000</td>\n",
       "      <td>...</td>\n",
       "      <td>0.000000</td>\n",
       "      <td>0.000000</td>\n",
       "      <td>0.000000</td>\n",
       "      <td>0.000000</td>\n",
       "      <td>0.000000</td>\n",
       "      <td>0.000000</td>\n",
       "      <td>0.000000</td>\n",
       "      <td>0.000000</td>\n",
       "      <td>0.000000</td>\n",
       "      <td>0.000000</td>\n",
       "    </tr>\n",
       "    <tr>\n",
       "      <th>1</th>\n",
       "      <td>2.236068</td>\n",
       "      <td>4.123106</td>\n",
       "      <td>3.316625</td>\n",
       "      <td>1.414214</td>\n",
       "      <td>5.099020</td>\n",
       "      <td>2.449490</td>\n",
       "      <td>3.464102</td>\n",
       "      <td>2.236068</td>\n",
       "      <td>2.828427</td>\n",
       "      <td>3.872983</td>\n",
       "      <td>...</td>\n",
       "      <td>1.000000</td>\n",
       "      <td>1.414214</td>\n",
       "      <td>2.000000</td>\n",
       "      <td>2.000000</td>\n",
       "      <td>0.000000</td>\n",
       "      <td>1.414214</td>\n",
       "      <td>1.414214</td>\n",
       "      <td>2.828427</td>\n",
       "      <td>1.414214</td>\n",
       "      <td>2.449490</td>\n",
       "    </tr>\n",
       "    <tr>\n",
       "      <th>2</th>\n",
       "      <td>3.464102</td>\n",
       "      <td>4.242640</td>\n",
       "      <td>3.464102</td>\n",
       "      <td>1.732051</td>\n",
       "      <td>5.477226</td>\n",
       "      <td>3.872983</td>\n",
       "      <td>3.872983</td>\n",
       "      <td>2.449490</td>\n",
       "      <td>5.099020</td>\n",
       "      <td>4.582576</td>\n",
       "      <td>...</td>\n",
       "      <td>2.828427</td>\n",
       "      <td>2.828427</td>\n",
       "      <td>2.449490</td>\n",
       "      <td>2.000000</td>\n",
       "      <td>0.000000</td>\n",
       "      <td>2.828427</td>\n",
       "      <td>1.732051</td>\n",
       "      <td>3.741657</td>\n",
       "      <td>1.732051</td>\n",
       "      <td>2.449490</td>\n",
       "    </tr>\n",
       "    <tr>\n",
       "      <th>3</th>\n",
       "      <td>3.605551</td>\n",
       "      <td>4.472136</td>\n",
       "      <td>3.872983</td>\n",
       "      <td>1.732051</td>\n",
       "      <td>5.567764</td>\n",
       "      <td>3.872983</td>\n",
       "      <td>4.000000</td>\n",
       "      <td>2.449490</td>\n",
       "      <td>5.099020</td>\n",
       "      <td>4.582576</td>\n",
       "      <td>...</td>\n",
       "      <td>2.828427</td>\n",
       "      <td>3.000000</td>\n",
       "      <td>2.449490</td>\n",
       "      <td>2.449490</td>\n",
       "      <td>0.000000</td>\n",
       "      <td>3.000000</td>\n",
       "      <td>2.236068</td>\n",
       "      <td>3.872983</td>\n",
       "      <td>2.236068</td>\n",
       "      <td>2.645751</td>\n",
       "    </tr>\n",
       "    <tr>\n",
       "      <th>4</th>\n",
       "      <td>4.000000</td>\n",
       "      <td>4.472136</td>\n",
       "      <td>4.123106</td>\n",
       "      <td>1.732051</td>\n",
       "      <td>5.744563</td>\n",
       "      <td>4.690416</td>\n",
       "      <td>4.000000</td>\n",
       "      <td>2.645751</td>\n",
       "      <td>5.099020</td>\n",
       "      <td>4.690416</td>\n",
       "      <td>...</td>\n",
       "      <td>2.828427</td>\n",
       "      <td>3.162278</td>\n",
       "      <td>3.000000</td>\n",
       "      <td>2.449490</td>\n",
       "      <td>1.000000</td>\n",
       "      <td>3.000000</td>\n",
       "      <td>2.449490</td>\n",
       "      <td>4.242640</td>\n",
       "      <td>2.449490</td>\n",
       "      <td>2.645751</td>\n",
       "    </tr>\n",
       "    <tr>\n",
       "      <th>...</th>\n",
       "      <td>...</td>\n",
       "      <td>...</td>\n",
       "      <td>...</td>\n",
       "      <td>...</td>\n",
       "      <td>...</td>\n",
       "      <td>...</td>\n",
       "      <td>...</td>\n",
       "      <td>...</td>\n",
       "      <td>...</td>\n",
       "      <td>...</td>\n",
       "      <td>...</td>\n",
       "      <td>...</td>\n",
       "      <td>...</td>\n",
       "      <td>...</td>\n",
       "      <td>...</td>\n",
       "      <td>...</td>\n",
       "      <td>...</td>\n",
       "      <td>...</td>\n",
       "      <td>...</td>\n",
       "      <td>...</td>\n",
       "      <td>...</td>\n",
       "    </tr>\n",
       "    <tr>\n",
       "      <th>3078</th>\n",
       "      <td>8.062258</td>\n",
       "      <td>7.937254</td>\n",
       "      <td>8.000000</td>\n",
       "      <td>8.426149</td>\n",
       "      <td>9.380832</td>\n",
       "      <td>8.124039</td>\n",
       "      <td>8.124039</td>\n",
       "      <td>7.874008</td>\n",
       "      <td>8.831760</td>\n",
       "      <td>7.874008</td>\n",
       "      <td>...</td>\n",
       "      <td>7.937254</td>\n",
       "      <td>8.306623</td>\n",
       "      <td>8.306623</td>\n",
       "      <td>7.937254</td>\n",
       "      <td>8.000000</td>\n",
       "      <td>8.306623</td>\n",
       "      <td>8.246211</td>\n",
       "      <td>8.062258</td>\n",
       "      <td>8.062258</td>\n",
       "      <td>7.937254</td>\n",
       "    </tr>\n",
       "    <tr>\n",
       "      <th>3079</th>\n",
       "      <td>8.124039</td>\n",
       "      <td>8.000000</td>\n",
       "      <td>8.062258</td>\n",
       "      <td>8.426149</td>\n",
       "      <td>9.433981</td>\n",
       "      <td>8.124039</td>\n",
       "      <td>8.124039</td>\n",
       "      <td>7.874008</td>\n",
       "      <td>8.831760</td>\n",
       "      <td>7.874008</td>\n",
       "      <td>...</td>\n",
       "      <td>7.937254</td>\n",
       "      <td>8.366600</td>\n",
       "      <td>8.366600</td>\n",
       "      <td>7.937254</td>\n",
       "      <td>8.000000</td>\n",
       "      <td>8.306623</td>\n",
       "      <td>8.246211</td>\n",
       "      <td>8.062258</td>\n",
       "      <td>8.124039</td>\n",
       "      <td>7.937254</td>\n",
       "    </tr>\n",
       "    <tr>\n",
       "      <th>3080</th>\n",
       "      <td>8.185352</td>\n",
       "      <td>8.000000</td>\n",
       "      <td>8.124039</td>\n",
       "      <td>8.426149</td>\n",
       "      <td>9.539392</td>\n",
       "      <td>8.124039</td>\n",
       "      <td>8.185352</td>\n",
       "      <td>7.874008</td>\n",
       "      <td>8.831760</td>\n",
       "      <td>8.000000</td>\n",
       "      <td>...</td>\n",
       "      <td>8.000000</td>\n",
       "      <td>8.426149</td>\n",
       "      <td>8.602325</td>\n",
       "      <td>8.000000</td>\n",
       "      <td>8.124039</td>\n",
       "      <td>8.366600</td>\n",
       "      <td>8.246211</td>\n",
       "      <td>8.124039</td>\n",
       "      <td>8.124039</td>\n",
       "      <td>7.937254</td>\n",
       "    </tr>\n",
       "    <tr>\n",
       "      <th>3081</th>\n",
       "      <td>8.246211</td>\n",
       "      <td>8.000000</td>\n",
       "      <td>8.185352</td>\n",
       "      <td>8.944272</td>\n",
       "      <td>9.591663</td>\n",
       "      <td>8.185352</td>\n",
       "      <td>8.185352</td>\n",
       "      <td>7.937254</td>\n",
       "      <td>8.831760</td>\n",
       "      <td>8.426149</td>\n",
       "      <td>...</td>\n",
       "      <td>8.062258</td>\n",
       "      <td>8.426149</td>\n",
       "      <td>8.602325</td>\n",
       "      <td>8.000000</td>\n",
       "      <td>8.306623</td>\n",
       "      <td>8.544003</td>\n",
       "      <td>8.306623</td>\n",
       "      <td>8.185352</td>\n",
       "      <td>8.185352</td>\n",
       "      <td>8.000000</td>\n",
       "    </tr>\n",
       "    <tr>\n",
       "      <th>3082</th>\n",
       "      <td>8.246211</td>\n",
       "      <td>8.062258</td>\n",
       "      <td>8.185352</td>\n",
       "      <td>8.944272</td>\n",
       "      <td>9.591663</td>\n",
       "      <td>8.185352</td>\n",
       "      <td>8.185352</td>\n",
       "      <td>8.062258</td>\n",
       "      <td>8.831760</td>\n",
       "      <td>8.426149</td>\n",
       "      <td>...</td>\n",
       "      <td>8.124039</td>\n",
       "      <td>8.660254</td>\n",
       "      <td>8.602325</td>\n",
       "      <td>8.062258</td>\n",
       "      <td>8.306623</td>\n",
       "      <td>8.544003</td>\n",
       "      <td>8.366600</td>\n",
       "      <td>8.185352</td>\n",
       "      <td>8.306623</td>\n",
       "      <td>8.000000</td>\n",
       "    </tr>\n",
       "  </tbody>\n",
       "</table>\n",
       "<p>3083 rows × 3083 columns</p>\n",
       "</div>"
      ],
      "text/plain": [
       "          0         1         2         3         4         5         6     \\\n",
       "0     0.000000  0.000000  0.000000  0.000000  0.000000  0.000000  0.000000   \n",
       "1     2.236068  4.123106  3.316625  1.414214  5.099020  2.449490  3.464102   \n",
       "2     3.464102  4.242640  3.464102  1.732051  5.477226  3.872983  3.872983   \n",
       "3     3.605551  4.472136  3.872983  1.732051  5.567764  3.872983  4.000000   \n",
       "4     4.000000  4.472136  4.123106  1.732051  5.744563  4.690416  4.000000   \n",
       "...        ...       ...       ...       ...       ...       ...       ...   \n",
       "3078  8.062258  7.937254  8.000000  8.426149  9.380832  8.124039  8.124039   \n",
       "3079  8.124039  8.000000  8.062258  8.426149  9.433981  8.124039  8.124039   \n",
       "3080  8.185352  8.000000  8.124039  8.426149  9.539392  8.124039  8.185352   \n",
       "3081  8.246211  8.000000  8.185352  8.944272  9.591663  8.185352  8.185352   \n",
       "3082  8.246211  8.062258  8.185352  8.944272  9.591663  8.185352  8.185352   \n",
       "\n",
       "          7         8         9     ...      3073      3074      3075  \\\n",
       "0     0.000000  0.000000  0.000000  ...  0.000000  0.000000  0.000000   \n",
       "1     2.236068  2.828427  3.872983  ...  1.000000  1.414214  2.000000   \n",
       "2     2.449490  5.099020  4.582576  ...  2.828427  2.828427  2.449490   \n",
       "3     2.449490  5.099020  4.582576  ...  2.828427  3.000000  2.449490   \n",
       "4     2.645751  5.099020  4.690416  ...  2.828427  3.162278  3.000000   \n",
       "...        ...       ...       ...  ...       ...       ...       ...   \n",
       "3078  7.874008  8.831760  7.874008  ...  7.937254  8.306623  8.306623   \n",
       "3079  7.874008  8.831760  7.874008  ...  7.937254  8.366600  8.366600   \n",
       "3080  7.874008  8.831760  8.000000  ...  8.000000  8.426149  8.602325   \n",
       "3081  7.937254  8.831760  8.426149  ...  8.062258  8.426149  8.602325   \n",
       "3082  8.062258  8.831760  8.426149  ...  8.124039  8.660254  8.602325   \n",
       "\n",
       "          3076      3077      3078      3079      3080      3081      3082  \n",
       "0     0.000000  0.000000  0.000000  0.000000  0.000000  0.000000  0.000000  \n",
       "1     2.000000  0.000000  1.414214  1.414214  2.828427  1.414214  2.449490  \n",
       "2     2.000000  0.000000  2.828427  1.732051  3.741657  1.732051  2.449490  \n",
       "3     2.449490  0.000000  3.000000  2.236068  3.872983  2.236068  2.645751  \n",
       "4     2.449490  1.000000  3.000000  2.449490  4.242640  2.449490  2.645751  \n",
       "...        ...       ...       ...       ...       ...       ...       ...  \n",
       "3078  7.937254  8.000000  8.306623  8.246211  8.062258  8.062258  7.937254  \n",
       "3079  7.937254  8.000000  8.306623  8.246211  8.062258  8.124039  7.937254  \n",
       "3080  8.000000  8.124039  8.366600  8.246211  8.124039  8.124039  7.937254  \n",
       "3081  8.000000  8.306623  8.544003  8.306623  8.185352  8.185352  8.000000  \n",
       "3082  8.062258  8.306623  8.544003  8.366600  8.185352  8.306623  8.000000  \n",
       "\n",
       "[3083 rows x 3083 columns]"
      ]
     },
     "execution_count": 108,
     "metadata": {},
     "output_type": "execute_result"
    }
   ],
   "source": [
    "df_tr=pd.DataFrame(neighbors_k)\n",
    "df_tr"
   ]
  },
  {
   "cell_type": "code",
   "execution_count": 109,
   "metadata": {},
   "outputs": [],
   "source": [
    "similarity= neighbors_k"
   ]
  },
  {
   "cell_type": "code",
   "execution_count": 110,
   "metadata": {},
   "outputs": [],
   "source": [
    "Dmean=np.mean(similarity[1,:])"
   ]
  },
  {
   "cell_type": "code",
   "execution_count": 111,
   "metadata": {},
   "outputs": [
    {
     "data": {
      "text/plain": [
       "1.36"
      ]
     },
     "execution_count": 111,
     "metadata": {},
     "output_type": "execute_result"
    }
   ],
   "source": [
    "round(Dmean, 2)"
   ]
  },
  {
   "cell_type": "code",
   "execution_count": 112,
   "metadata": {},
   "outputs": [],
   "source": [
    "std=np.std(similarity[1,:])"
   ]
  },
  {
   "cell_type": "code",
   "execution_count": 113,
   "metadata": {},
   "outputs": [
    {
     "data": {
      "text/plain": [
       "1.11"
      ]
     },
     "execution_count": 113,
     "metadata": {},
     "output_type": "execute_result"
    }
   ],
   "source": [
    "round(std, 2)"
   ]
  },
  {
   "cell_type": "code",
   "execution_count": 114,
   "metadata": {},
   "outputs": [
    {
     "name": "stdout",
     "output_type": "stream",
     "text": [
      "1.91\n"
     ]
    }
   ],
   "source": [
    "model_AD_limit=Dmean+std*0.5\n",
    "print(np.round(model_AD_limit, 2))"
   ]
  },
  {
   "cell_type": "code",
   "execution_count": 115,
   "metadata": {},
   "outputs": [],
   "source": [
    "neighbors_k_ts= pairwise_distances(x_tr,Y=x_ts, n_jobs=-1)\n",
    "neighbors_k_ts.sort(0)"
   ]
  },
  {
   "cell_type": "code",
   "execution_count": 116,
   "metadata": {},
   "outputs": [
    {
     "data": {
      "text/html": [
       "<div>\n",
       "<style scoped>\n",
       "    .dataframe tbody tr th:only-of-type {\n",
       "        vertical-align: middle;\n",
       "    }\n",
       "\n",
       "    .dataframe tbody tr th {\n",
       "        vertical-align: top;\n",
       "    }\n",
       "\n",
       "    .dataframe thead th {\n",
       "        text-align: right;\n",
       "    }\n",
       "</style>\n",
       "<table border=\"1\" class=\"dataframe\">\n",
       "  <thead>\n",
       "    <tr style=\"text-align: right;\">\n",
       "      <th></th>\n",
       "      <th>0</th>\n",
       "      <th>1</th>\n",
       "      <th>2</th>\n",
       "      <th>3</th>\n",
       "      <th>4</th>\n",
       "      <th>5</th>\n",
       "      <th>6</th>\n",
       "      <th>7</th>\n",
       "      <th>8</th>\n",
       "      <th>9</th>\n",
       "      <th>...</th>\n",
       "      <th>761</th>\n",
       "      <th>762</th>\n",
       "      <th>763</th>\n",
       "      <th>764</th>\n",
       "      <th>765</th>\n",
       "      <th>766</th>\n",
       "      <th>767</th>\n",
       "      <th>768</th>\n",
       "      <th>769</th>\n",
       "      <th>770</th>\n",
       "    </tr>\n",
       "  </thead>\n",
       "  <tbody>\n",
       "    <tr>\n",
       "      <th>0</th>\n",
       "      <td>3.464102</td>\n",
       "      <td>3.872983</td>\n",
       "      <td>0.000000</td>\n",
       "      <td>3.605551</td>\n",
       "      <td>2.000000</td>\n",
       "      <td>0.000000</td>\n",
       "      <td>1.414214</td>\n",
       "      <td>1.732051</td>\n",
       "      <td>1.414214</td>\n",
       "      <td>1.414214</td>\n",
       "      <td>...</td>\n",
       "      <td>1.414214</td>\n",
       "      <td>2.000000</td>\n",
       "      <td>1.000000</td>\n",
       "      <td>1.414214</td>\n",
       "      <td>0.000000</td>\n",
       "      <td>3.162278</td>\n",
       "      <td>1.414214</td>\n",
       "      <td>2.000000</td>\n",
       "      <td>1.000000</td>\n",
       "      <td>2.236068</td>\n",
       "    </tr>\n",
       "    <tr>\n",
       "      <th>1</th>\n",
       "      <td>4.000000</td>\n",
       "      <td>4.123106</td>\n",
       "      <td>1.732051</td>\n",
       "      <td>4.123106</td>\n",
       "      <td>2.236068</td>\n",
       "      <td>2.828427</td>\n",
       "      <td>1.414214</td>\n",
       "      <td>2.236068</td>\n",
       "      <td>2.236068</td>\n",
       "      <td>1.732051</td>\n",
       "      <td>...</td>\n",
       "      <td>1.732051</td>\n",
       "      <td>2.000000</td>\n",
       "      <td>1.000000</td>\n",
       "      <td>1.732051</td>\n",
       "      <td>0.000000</td>\n",
       "      <td>3.741657</td>\n",
       "      <td>2.000000</td>\n",
       "      <td>2.000000</td>\n",
       "      <td>3.316625</td>\n",
       "      <td>2.449490</td>\n",
       "    </tr>\n",
       "    <tr>\n",
       "      <th>2</th>\n",
       "      <td>4.472136</td>\n",
       "      <td>4.123106</td>\n",
       "      <td>2.000000</td>\n",
       "      <td>4.358899</td>\n",
       "      <td>2.449490</td>\n",
       "      <td>5.099020</td>\n",
       "      <td>2.645751</td>\n",
       "      <td>2.236068</td>\n",
       "      <td>3.000000</td>\n",
       "      <td>1.732051</td>\n",
       "      <td>...</td>\n",
       "      <td>2.000000</td>\n",
       "      <td>2.000000</td>\n",
       "      <td>2.449490</td>\n",
       "      <td>1.732051</td>\n",
       "      <td>0.000000</td>\n",
       "      <td>3.741657</td>\n",
       "      <td>2.000000</td>\n",
       "      <td>2.000000</td>\n",
       "      <td>3.316625</td>\n",
       "      <td>2.645751</td>\n",
       "    </tr>\n",
       "    <tr>\n",
       "      <th>3</th>\n",
       "      <td>4.472136</td>\n",
       "      <td>4.358899</td>\n",
       "      <td>2.000000</td>\n",
       "      <td>4.358899</td>\n",
       "      <td>2.449490</td>\n",
       "      <td>5.099020</td>\n",
       "      <td>2.645751</td>\n",
       "      <td>2.236068</td>\n",
       "      <td>4.472136</td>\n",
       "      <td>2.828427</td>\n",
       "      <td>...</td>\n",
       "      <td>2.236068</td>\n",
       "      <td>2.236068</td>\n",
       "      <td>2.645751</td>\n",
       "      <td>2.000000</td>\n",
       "      <td>0.000000</td>\n",
       "      <td>3.872983</td>\n",
       "      <td>2.000000</td>\n",
       "      <td>2.000000</td>\n",
       "      <td>3.464102</td>\n",
       "      <td>2.828427</td>\n",
       "    </tr>\n",
       "    <tr>\n",
       "      <th>4</th>\n",
       "      <td>4.582576</td>\n",
       "      <td>4.582576</td>\n",
       "      <td>3.162278</td>\n",
       "      <td>4.472136</td>\n",
       "      <td>2.645751</td>\n",
       "      <td>5.385165</td>\n",
       "      <td>2.828427</td>\n",
       "      <td>2.449490</td>\n",
       "      <td>4.472136</td>\n",
       "      <td>2.828427</td>\n",
       "      <td>...</td>\n",
       "      <td>2.236068</td>\n",
       "      <td>2.449490</td>\n",
       "      <td>2.645751</td>\n",
       "      <td>2.828427</td>\n",
       "      <td>1.000000</td>\n",
       "      <td>3.872983</td>\n",
       "      <td>2.236068</td>\n",
       "      <td>2.000000</td>\n",
       "      <td>3.464102</td>\n",
       "      <td>2.828427</td>\n",
       "    </tr>\n",
       "    <tr>\n",
       "      <th>...</th>\n",
       "      <td>...</td>\n",
       "      <td>...</td>\n",
       "      <td>...</td>\n",
       "      <td>...</td>\n",
       "      <td>...</td>\n",
       "      <td>...</td>\n",
       "      <td>...</td>\n",
       "      <td>...</td>\n",
       "      <td>...</td>\n",
       "      <td>...</td>\n",
       "      <td>...</td>\n",
       "      <td>...</td>\n",
       "      <td>...</td>\n",
       "      <td>...</td>\n",
       "      <td>...</td>\n",
       "      <td>...</td>\n",
       "      <td>...</td>\n",
       "      <td>...</td>\n",
       "      <td>...</td>\n",
       "      <td>...</td>\n",
       "      <td>...</td>\n",
       "    </tr>\n",
       "    <tr>\n",
       "      <th>3078</th>\n",
       "      <td>8.306623</td>\n",
       "      <td>8.602325</td>\n",
       "      <td>8.426149</td>\n",
       "      <td>8.306623</td>\n",
       "      <td>8.185352</td>\n",
       "      <td>8.660254</td>\n",
       "      <td>7.681146</td>\n",
       "      <td>8.426149</td>\n",
       "      <td>8.306623</td>\n",
       "      <td>8.660254</td>\n",
       "      <td>...</td>\n",
       "      <td>8.426149</td>\n",
       "      <td>7.810250</td>\n",
       "      <td>8.000000</td>\n",
       "      <td>7.937254</td>\n",
       "      <td>8.062258</td>\n",
       "      <td>8.246211</td>\n",
       "      <td>8.366600</td>\n",
       "      <td>8.246211</td>\n",
       "      <td>7.937254</td>\n",
       "      <td>7.937254</td>\n",
       "    </tr>\n",
       "    <tr>\n",
       "      <th>3079</th>\n",
       "      <td>8.426149</td>\n",
       "      <td>8.660254</td>\n",
       "      <td>8.485281</td>\n",
       "      <td>8.306623</td>\n",
       "      <td>8.246211</td>\n",
       "      <td>8.660254</td>\n",
       "      <td>7.745967</td>\n",
       "      <td>8.426149</td>\n",
       "      <td>8.366600</td>\n",
       "      <td>8.660254</td>\n",
       "      <td>...</td>\n",
       "      <td>8.426149</td>\n",
       "      <td>7.937254</td>\n",
       "      <td>8.000000</td>\n",
       "      <td>8.000000</td>\n",
       "      <td>8.124039</td>\n",
       "      <td>8.306623</td>\n",
       "      <td>8.366600</td>\n",
       "      <td>8.306623</td>\n",
       "      <td>8.000000</td>\n",
       "      <td>7.937254</td>\n",
       "    </tr>\n",
       "    <tr>\n",
       "      <th>3080</th>\n",
       "      <td>8.485281</td>\n",
       "      <td>8.660254</td>\n",
       "      <td>8.485281</td>\n",
       "      <td>8.306623</td>\n",
       "      <td>8.246211</td>\n",
       "      <td>8.660254</td>\n",
       "      <td>7.810250</td>\n",
       "      <td>8.485281</td>\n",
       "      <td>8.426149</td>\n",
       "      <td>8.717798</td>\n",
       "      <td>...</td>\n",
       "      <td>8.426149</td>\n",
       "      <td>7.937254</td>\n",
       "      <td>8.000000</td>\n",
       "      <td>8.062258</td>\n",
       "      <td>8.124039</td>\n",
       "      <td>8.306623</td>\n",
       "      <td>8.426149</td>\n",
       "      <td>8.366600</td>\n",
       "      <td>8.000000</td>\n",
       "      <td>8.000000</td>\n",
       "    </tr>\n",
       "    <tr>\n",
       "      <th>3081</th>\n",
       "      <td>8.485281</td>\n",
       "      <td>8.660254</td>\n",
       "      <td>8.544003</td>\n",
       "      <td>8.366600</td>\n",
       "      <td>8.246211</td>\n",
       "      <td>8.660254</td>\n",
       "      <td>7.810250</td>\n",
       "      <td>8.544003</td>\n",
       "      <td>8.426149</td>\n",
       "      <td>8.717798</td>\n",
       "      <td>...</td>\n",
       "      <td>8.485281</td>\n",
       "      <td>7.937254</td>\n",
       "      <td>8.124039</td>\n",
       "      <td>8.062258</td>\n",
       "      <td>8.426149</td>\n",
       "      <td>8.426149</td>\n",
       "      <td>8.485281</td>\n",
       "      <td>8.426149</td>\n",
       "      <td>8.124039</td>\n",
       "      <td>8.000000</td>\n",
       "    </tr>\n",
       "    <tr>\n",
       "      <th>3082</th>\n",
       "      <td>8.485281</td>\n",
       "      <td>8.717798</td>\n",
       "      <td>8.602325</td>\n",
       "      <td>8.426149</td>\n",
       "      <td>8.366600</td>\n",
       "      <td>8.717798</td>\n",
       "      <td>7.874008</td>\n",
       "      <td>8.602325</td>\n",
       "      <td>8.426149</td>\n",
       "      <td>8.774964</td>\n",
       "      <td>...</td>\n",
       "      <td>8.485281</td>\n",
       "      <td>8.062258</td>\n",
       "      <td>8.185352</td>\n",
       "      <td>8.062258</td>\n",
       "      <td>8.426149</td>\n",
       "      <td>8.485281</td>\n",
       "      <td>8.602325</td>\n",
       "      <td>8.426149</td>\n",
       "      <td>8.246211</td>\n",
       "      <td>8.000000</td>\n",
       "    </tr>\n",
       "  </tbody>\n",
       "</table>\n",
       "<p>3083 rows × 771 columns</p>\n",
       "</div>"
      ],
      "text/plain": [
       "           0         1         2         3         4         5         6    \\\n",
       "0     3.464102  3.872983  0.000000  3.605551  2.000000  0.000000  1.414214   \n",
       "1     4.000000  4.123106  1.732051  4.123106  2.236068  2.828427  1.414214   \n",
       "2     4.472136  4.123106  2.000000  4.358899  2.449490  5.099020  2.645751   \n",
       "3     4.472136  4.358899  2.000000  4.358899  2.449490  5.099020  2.645751   \n",
       "4     4.582576  4.582576  3.162278  4.472136  2.645751  5.385165  2.828427   \n",
       "...        ...       ...       ...       ...       ...       ...       ...   \n",
       "3078  8.306623  8.602325  8.426149  8.306623  8.185352  8.660254  7.681146   \n",
       "3079  8.426149  8.660254  8.485281  8.306623  8.246211  8.660254  7.745967   \n",
       "3080  8.485281  8.660254  8.485281  8.306623  8.246211  8.660254  7.810250   \n",
       "3081  8.485281  8.660254  8.544003  8.366600  8.246211  8.660254  7.810250   \n",
       "3082  8.485281  8.717798  8.602325  8.426149  8.366600  8.717798  7.874008   \n",
       "\n",
       "           7         8         9    ...       761       762       763  \\\n",
       "0     1.732051  1.414214  1.414214  ...  1.414214  2.000000  1.000000   \n",
       "1     2.236068  2.236068  1.732051  ...  1.732051  2.000000  1.000000   \n",
       "2     2.236068  3.000000  1.732051  ...  2.000000  2.000000  2.449490   \n",
       "3     2.236068  4.472136  2.828427  ...  2.236068  2.236068  2.645751   \n",
       "4     2.449490  4.472136  2.828427  ...  2.236068  2.449490  2.645751   \n",
       "...        ...       ...       ...  ...       ...       ...       ...   \n",
       "3078  8.426149  8.306623  8.660254  ...  8.426149  7.810250  8.000000   \n",
       "3079  8.426149  8.366600  8.660254  ...  8.426149  7.937254  8.000000   \n",
       "3080  8.485281  8.426149  8.717798  ...  8.426149  7.937254  8.000000   \n",
       "3081  8.544003  8.426149  8.717798  ...  8.485281  7.937254  8.124039   \n",
       "3082  8.602325  8.426149  8.774964  ...  8.485281  8.062258  8.185352   \n",
       "\n",
       "           764       765       766       767       768       769       770  \n",
       "0     1.414214  0.000000  3.162278  1.414214  2.000000  1.000000  2.236068  \n",
       "1     1.732051  0.000000  3.741657  2.000000  2.000000  3.316625  2.449490  \n",
       "2     1.732051  0.000000  3.741657  2.000000  2.000000  3.316625  2.645751  \n",
       "3     2.000000  0.000000  3.872983  2.000000  2.000000  3.464102  2.828427  \n",
       "4     2.828427  1.000000  3.872983  2.236068  2.000000  3.464102  2.828427  \n",
       "...        ...       ...       ...       ...       ...       ...       ...  \n",
       "3078  7.937254  8.062258  8.246211  8.366600  8.246211  7.937254  7.937254  \n",
       "3079  8.000000  8.124039  8.306623  8.366600  8.306623  8.000000  7.937254  \n",
       "3080  8.062258  8.124039  8.306623  8.426149  8.366600  8.000000  8.000000  \n",
       "3081  8.062258  8.426149  8.426149  8.485281  8.426149  8.124039  8.000000  \n",
       "3082  8.062258  8.426149  8.485281  8.602325  8.426149  8.246211  8.000000  \n",
       "\n",
       "[3083 rows x 771 columns]"
      ]
     },
     "execution_count": 116,
     "metadata": {},
     "output_type": "execute_result"
    }
   ],
   "source": [
    "x_ts_AD=pd.DataFrame(neighbors_k_ts)\n",
    "x_ts_AD"
   ]
  },
  {
   "cell_type": "code",
   "execution_count": 117,
   "metadata": {},
   "outputs": [
    {
     "name": "stdout",
     "output_type": "stream",
     "text": [
      "[3.464 3.873 0.    3.606 2.    0.    1.414 1.732 1.414 1.414 1.    1.\n",
      " 3.742 1.732 0.    0.    1.    2.    2.449 2.236 2.449 1.414 2.236 1.\n",
      " 4.472 1.    0.    4.123 1.414 2.449 1.732 2.646 3.317 3.742 1.732 1.414\n",
      " 2.449 1.732 1.732 1.732 2.646 1.414 2.236 2.646 2.646 2.236 1.414 1.732\n",
      " 1.414 0.    2.449 1.732 3.606 3.    2.646 0.    1.732 1.414 2.449 1.414\n",
      " 1.732 1.732 2.449 0.    1.732 4.    2.    1.414 0.    2.449 1.    1.414\n",
      " 0.    2.646 1.414 1.    1.732 2.449 3.162 1.414 0.    2.236 1.732 1.732\n",
      " 3.606 1.414 0.    1.    3.606 0.    0.    2.449 1.732 1.732 0.    3.873\n",
      " 2.    0.    0.    2.646 0.    3.742 0.    1.414 2.449 2.646 1.414 2.236\n",
      " 2.    1.    1.    1.732 2.449 0.    2.    1.414 2.    0.    2.449 0.\n",
      " 2.    0.    0.    2.828 2.828 2.828 1.    1.    2.828 0.    1.414 1.\n",
      " 1.732 1.414 3.606 1.    2.828 1.732 0.    0.    2.236 1.732 1.414 0.\n",
      " 2.    2.    0.    1.    2.236 1.    2.828 1.414 2.    3.606 2.449 1.\n",
      " 0.    2.    1.732 0.    1.414 1.414 2.    0.    0.    0.    1.414 3.464\n",
      " 1.732 0.    0.    2.236 1.    2.828 0.    0.    1.    2.646 2.646 2.236\n",
      " 0.    0.    2.    2.449 0.    1.    2.828 1.    2.236 2.    1.414 2.\n",
      " 0.    1.732 2.828 0.    0.    2.236 3.    1.414 0.    1.    0.    0.\n",
      " 0.    1.    0.    2.    1.    1.732 1.    0.    1.414 4.    1.732 2.\n",
      " 2.449 2.236 3.162 0.    1.    0.    1.    0.    1.    0.    0.    2.828\n",
      " 2.449 2.646 1.414 1.732 0.    0.    1.414 1.414 2.828 0.    1.414 0.\n",
      " 0.    0.    1.    3.606 2.    0.    0.    3.464 0.    0.    0.    0.\n",
      " 2.    0.    1.414 1.732 1.    0.    2.828 2.    3.162 1.732 1.    2.\n",
      " 0.    0.    0.    2.646 2.    2.646 1.414 1.414 3.162 0.    2.236 1.\n",
      " 2.449 1.732 0.    0.    0.    1.    1.732 2.    1.414 2.236 1.    2.\n",
      " 1.    0.    0.    2.    1.414 2.    0.    1.    1.    1.414 2.646 1.414\n",
      " 1.414 2.646 1.414 2.646 1.    1.414 0.    3.317 1.732 0.    0.    2.\n",
      " 1.    0.    0.    0.    0.    0.    0.    2.646 0.    1.414 2.646 2.449\n",
      " 0.    0.    2.    1.414 2.    2.449 2.    2.828 1.    3.464 0.    1.\n",
      " 1.414 0.    3.606 2.828 0.    2.    0.    2.    0.    0.    0.    1.414\n",
      " 1.414 1.414 1.    1.732 4.796 1.732 1.414 2.236 0.    2.236 2.646 1.\n",
      " 1.732 3.317 3.742 3.162 1.414 2.236 0.    1.    0.    1.    1.732 1.414\n",
      " 0.    2.646 0.    1.    0.    2.    1.    1.414 1.    3.162 2.828 0.\n",
      " 0.    1.    1.    0.    0.    1.732 1.414 0.    0.    2.449 0.    1.\n",
      " 0.    0.    3.162 0.    1.    0.    1.732 1.414 3.317 2.449 0.    1.414\n",
      " 1.732 1.732 0.    2.    2.236 1.    0.    1.    3.464 2.236 0.    2.\n",
      " 2.    5.745 2.449 1.    1.732 0.    1.414 2.236 1.732 1.732 1.732 0.\n",
      " 0.    1.732 1.414 2.828 0.    1.414 1.414 0.    1.414 1.414 0.    0.\n",
      " 0.    0.    1.732 2.828 0.    0.    1.414 0.    3.317 0.    2.    0.\n",
      " 2.646 1.    2.449 1.    1.    0.    0.    3.    0.    1.414 0.    2.236\n",
      " 2.828 2.236 2.646 1.414 0.    1.414 0.    0.    1.    0.    0.    1.414\n",
      " 3.317 2.    0.    1.732 2.    0.    1.732 0.    0.    1.414 0.    1.\n",
      " 1.732 1.732 0.    2.828 2.    1.414 0.    0.    0.    3.    2.    0.\n",
      " 1.    2.646 0.    2.236 0.    0.    1.414 2.236 0.    0.    0.    0.\n",
      " 1.414 2.449 1.414 0.    2.236 1.    2.449 2.449 2.449 1.732 1.732 2.646\n",
      " 1.732 0.    1.414 2.    0.    2.828 2.828 0.    0.    2.828 3.317 1.414\n",
      " 0.    0.    0.    1.732 1.    2.449 1.732 2.828 1.414 1.    0.    2.236\n",
      " 1.    2.    1.414 1.414 0.    1.    1.732 2.828 0.    0.    1.414 4.472\n",
      " 1.414 2.236 1.    0.    0.    2.    1.414 0.    0.    3.    1.414 2.\n",
      " 1.    0.    2.236 1.    1.414 0.    0.    2.828 1.414 0.    0.    2.646\n",
      " 3.464 0.    1.414 4.123 2.828 0.    2.828 2.646 0.    0.    1.    1.\n",
      " 0.    1.    0.    1.    2.    2.    2.236 0.    1.732 1.    1.414 1.414\n",
      " 1.732 2.    3.317 2.828 1.414 0.    0.    3.464 3.317 2.828 2.646 1.414\n",
      " 1.    0.    0.    0.    1.414 2.    1.732 1.    0.    0.    1.732 3.606\n",
      " 1.732 0.    0.    0.    2.236 0.    1.    3.    1.    1.732 1.    1.\n",
      " 4.472 1.414 0.    0.    0.    3.162 1.732 1.    0.    0.    1.    2.\n",
      " 1.    2.236 2.236 2.828 1.414 1.414 0.    0.    0.    2.828 1.732 1.414\n",
      " 1.    1.    1.    0.    2.    1.732 2.828 2.    1.414 1.    2.236 1.414\n",
      " 2.449 1.    1.732 1.    2.449 0.    1.414 0.    1.414 1.    0.    0.\n",
      " 0.    2.449 1.414 1.414 1.    0.    0.    0.    1.414 0.    2.449 0.\n",
      " 0.    1.732 0.    2.449 1.414 0.    2.236 0.    1.414 1.414 0.    1.414\n",
      " 0.    1.414 2.    1.    0.    0.    1.732 0.    0.    1.732 1.414 1.\n",
      " 0.    2.236 1.732 2.449 1.    1.732 2.236 3.317 1.414 1.732 1.    4.583\n",
      " 0.    1.    2.236 3.464 2.    2.    1.    1.414 2.236 2.    1.    1.732\n",
      " 2.646 0.    0.    2.236 3.    1.414 2.    1.    1.414 0.    3.162 1.414\n",
      " 2.    1.    2.236]\n"
     ]
    }
   ],
   "source": [
    "similarity_ts= neighbors_k_ts\n",
    "cpd_AD=similarity_ts[0,:]\n",
    "cpd_value = np.round(cpd_AD, 3)\n",
    "print(cpd_value)"
   ]
  },
  {
   "cell_type": "code",
   "execution_count": 118,
   "metadata": {},
   "outputs": [
    {
     "name": "stdout",
     "output_type": "stream",
     "text": [
      "[False False  True False False  True  True  True  True  True  True  True\n",
      " False  True  True  True  True False False False False  True False  True\n",
      " False  True  True False  True False  True False False False  True  True\n",
      " False  True  True  True False  True False False False False  True  True\n",
      "  True  True False  True False False False  True  True  True False  True\n",
      "  True  True False  True  True False False  True  True False  True  True\n",
      "  True False  True  True  True False False  True  True False  True  True\n",
      " False  True  True  True False  True  True False  True  True  True False\n",
      " False  True  True False  True False  True  True False False  True False\n",
      " False  True  True  True False  True False  True False  True False  True\n",
      " False  True  True False False False  True  True False  True  True  True\n",
      "  True  True False  True False  True  True  True False  True  True  True\n",
      " False False  True  True False  True False  True False False False  True\n",
      "  True False  True  True  True  True False  True  True  True  True False\n",
      "  True  True  True False  True False  True  True  True False False False\n",
      "  True  True False False  True  True False  True False False  True False\n",
      "  True  True False  True  True False False  True  True  True  True  True\n",
      "  True  True  True False  True  True  True  True  True False  True False\n",
      " False False False  True  True  True  True  True  True  True  True False\n",
      " False False  True  True  True  True  True  True False  True  True  True\n",
      "  True  True  True False False  True  True False  True  True  True  True\n",
      " False  True  True  True  True  True False False False  True  True False\n",
      "  True  True  True False False False  True  True False  True False  True\n",
      " False  True  True  True  True  True  True False  True False  True False\n",
      "  True  True  True False  True False  True  True  True  True False  True\n",
      "  True False  True False  True  True  True False  True  True  True False\n",
      "  True  True  True  True  True  True  True False  True  True False False\n",
      "  True  True False  True False False False False  True False  True  True\n",
      "  True  True False False  True False  True False  True  True  True  True\n",
      "  True  True  True  True False  True  True False  True False False  True\n",
      "  True False False False  True False  True  True  True  True  True  True\n",
      "  True False  True  True  True False  True  True  True False False  True\n",
      "  True  True  True  True  True  True  True  True  True False  True  True\n",
      "  True  True False  True  True  True  True  True False False  True  True\n",
      "  True  True  True False False  True  True  True False False  True False\n",
      " False False False  True  True  True  True False  True  True  True  True\n",
      "  True  True  True False  True  True  True  True  True  True  True  True\n",
      "  True  True  True False  True  True  True  True False  True False  True\n",
      " False  True False  True  True  True  True False  True  True  True False\n",
      " False False False  True  True  True  True  True  True  True  True  True\n",
      " False False  True  True False  True  True  True  True  True  True  True\n",
      "  True  True  True False False  True  True  True  True False False  True\n",
      "  True False  True False  True  True  True False  True  True  True  True\n",
      "  True False  True  True False  True False False False  True  True False\n",
      "  True  True  True False  True False False  True  True False False  True\n",
      "  True  True  True  True  True False  True False  True  True  True False\n",
      "  True False  True  True  True  True  True False  True  True  True False\n",
      "  True False  True  True  True False  True  True  True False  True False\n",
      "  True  True False  True  True  True  True False  True  True  True False\n",
      " False  True  True False False  True False False  True  True  True  True\n",
      "  True  True  True  True False False False  True  True  True  True  True\n",
      "  True False False False  True  True  True False False False False  True\n",
      "  True  True  True  True  True False  True  True  True  True  True False\n",
      "  True  True  True  True False  True  True False  True  True  True  True\n",
      " False  True  True  True  True False  True  True  True  True  True False\n",
      "  True False False False  True  True  True  True  True False  True  True\n",
      "  True  True  True  True False  True False False  True  True False  True\n",
      " False  True  True  True False  True  True  True  True  True  True  True\n",
      "  True False  True  True  True  True  True  True  True  True False  True\n",
      "  True  True  True False  True  True False  True  True  True  True  True\n",
      "  True  True False  True  True  True  True  True  True  True  True  True\n",
      "  True False  True False  True  True False False  True  True  True False\n",
      "  True  True False False False False  True  True False False  True  True\n",
      " False  True  True False False  True False  True  True  True False  True\n",
      " False  True False]\n"
     ]
    }
   ],
   "source": [
    "cpd_AD = np.where(cpd_value <= model_AD_limit, True, False)\n",
    "print(cpd_AD)"
   ]
  },
  {
   "cell_type": "code",
   "execution_count": 119,
   "metadata": {},
   "outputs": [
    {
     "name": "stdout",
     "output_type": "stream",
     "text": [
      "Coverage =  0.67\n"
     ]
    }
   ],
   "source": [
    "print(\"Coverage = \", round(sum(cpd_AD) / len(cpd_AD), 2))"
   ]
  },
  {
   "cell_type": "code",
   "execution_count": 120,
   "metadata": {},
   "outputs": [
    {
     "name": "stdout",
     "output_type": "stream",
     "text": [
      "Indices of substances included in AD =  [  2   5   6   7   8   9  10  11  13  14  15  16  21  23  25  26  28  30\n",
      "  34  35  37  38  39  41  46  47  48  49  51  55  56  57  59  60  61  63\n",
      "  64  67  68  70  71  72  74  75  76  79  80  82  83  85  86  87  89  90\n",
      "  92  93  94  97  98 100 102 103 106 109 110 111 113 115 117 119 121 122\n",
      " 126 127 129 130 131 132 133 135 137 138 139 141 142 143 146 147 149 151\n",
      " 155 156 158 159 160 161 163 164 165 166 168 169 170 172 174 175 176 180\n",
      " 181 184 185 187 190 192 193 195 196 199 200 201 202 203 204 205 206 208\n",
      " 209 210 211 212 214 219 220 221 222 223 224 225 226 230 231 232 233 234\n",
      " 235 237 238 239 240 241 242 245 246 248 249 250 251 253 254 255 256 257\n",
      " 261 262 264 265 266 270 271 273 275 277 278 279 280 281 282 284 286 288\n",
      " 289 290 292 294 295 296 297 299 300 302 304 305 306 308 309 310 312 313\n",
      " 314 315 316 317 318 320 321 324 325 327 332 334 335 336 337 340 342 344\n",
      " 345 346 347 348 349 350 351 353 354 356 359 360 364 366 367 368 369 370\n",
      " 371 372 374 375 376 378 379 380 383 384 385 386 387 388 389 390 391 392\n",
      " 394 395 396 397 399 400 401 402 403 406 407 408 409 410 413 414 415 418\n",
      " 423 424 425 426 428 429 430 431 432 433 434 436 437 438 439 440 441 442\n",
      " 443 444 445 446 448 449 450 451 453 455 457 459 460 461 462 464 465 466\n",
      " 471 472 473 474 475 476 477 478 479 482 483 485 486 487 488 489 490 491\n",
      " 492 493 494 497 498 499 500 503 504 506 508 509 510 512 513 514 515 516\n",
      " 518 519 521 525 526 528 529 530 532 535 536 539 540 541 542 543 544 546\n",
      " 548 549 550 552 554 555 556 557 558 560 561 562 564 566 567 568 570 571\n",
      " 572 574 576 577 579 580 581 582 584 585 586 589 590 593 596 597 598 599\n",
      " 600 601 602 603 607 608 609 610 611 612 616 617 618 623 624 625 626 627\n",
      " 628 630 631 632 633 634 636 637 638 639 641 642 644 645 646 647 649 650\n",
      " 651 652 654 655 656 657 658 660 664 665 666 667 668 670 671 672 673 674\n",
      " 675 677 680 681 683 685 686 687 689 690 691 692 693 694 695 696 698 699\n",
      " 700 701 702 703 704 705 707 708 709 710 712 713 715 716 717 718 719 720\n",
      " 721 723 724 725 726 727 728 729 730 731 732 734 736 737 740 741 742 744\n",
      " 745 750 751 754 755 757 758 761 763 764 765 767 769]\n"
     ]
    }
   ],
   "source": [
    "print(\"Indices of substances included in AD = \", np.where(cpd_AD != 0)[0])"
   ]
  },
  {
   "cell_type": "code",
   "execution_count": 121,
   "metadata": {},
   "outputs": [],
   "source": [
    "out_Ad=list(np.where(cpd_AD == 0)[0])"
   ]
  },
  {
   "cell_type": "markdown",
   "metadata": {},
   "source": [
    "# 12. Prediction only for molecules included in  AD"
   ]
  },
  {
   "cell_type": "code",
   "execution_count": 122,
   "metadata": {},
   "outputs": [],
   "source": [
    "y_pred_svm_ad=list(y_pred_svm)"
   ]
  },
  {
   "cell_type": "code",
   "execution_count": 123,
   "metadata": {},
   "outputs": [],
   "source": [
    "y_pred_svm_ad[:] = [x for i,x in enumerate(y_pred_svm_ad) if i not in out_Ad]"
   ]
  },
  {
   "cell_type": "code",
   "execution_count": 124,
   "metadata": {},
   "outputs": [
    {
     "data": {
      "text/plain": [
       "517"
      ]
     },
     "execution_count": 124,
     "metadata": {},
     "output_type": "execute_result"
    }
   ],
   "source": [
    "len(y_pred_svm_ad)"
   ]
  },
  {
   "cell_type": "code",
   "execution_count": 125,
   "metadata": {},
   "outputs": [],
   "source": [
    "y_ts_ad=list(y_ts)"
   ]
  },
  {
   "cell_type": "code",
   "execution_count": 126,
   "metadata": {},
   "outputs": [],
   "source": [
    "y_ts_ad[:] = [x for i,x in enumerate(y_ts_ad) if i not in out_Ad]"
   ]
  },
  {
   "cell_type": "code",
   "execution_count": 127,
   "metadata": {},
   "outputs": [
    {
     "data": {
      "text/plain": [
       "517"
      ]
     },
     "execution_count": 127,
     "metadata": {},
     "output_type": "execute_result"
    }
   ],
   "source": [
    "len(y_ts_ad)"
   ]
  },
  {
   "cell_type": "code",
   "execution_count": 128,
   "metadata": {},
   "outputs": [
    {
     "data": {
      "text/plain": [
       "0.64"
      ]
     },
     "execution_count": 128,
     "metadata": {},
     "output_type": "execute_result"
    }
   ],
   "source": [
    "Q2_TS = round(r2_score(y_ts_ad, y_pred_svm_ad), 2)\n",
    "Q2_TS"
   ]
  },
  {
   "cell_type": "code",
   "execution_count": 129,
   "metadata": {},
   "outputs": [
    {
     "data": {
      "text/plain": [
       "0.68"
      ]
     },
     "execution_count": 129,
     "metadata": {},
     "output_type": "execute_result"
    }
   ],
   "source": [
    "RMSE_TS=round(np.sqrt(mean_absolute_error(y_ts_ad, y_pred_svm_ad)), 2)\n",
    "RMSE_TS"
   ]
  },
  {
   "cell_type": "markdown",
   "metadata": {},
   "source": [
    "# Multi-layer Perceptron regressor"
   ]
  },
  {
   "cell_type": "code",
   "execution_count": 25,
   "metadata": {},
   "outputs": [],
   "source": [
    "from sklearn.neural_network import MLPRegressor"
   ]
  },
  {
   "cell_type": "code",
   "execution_count": 28,
   "metadata": {},
   "outputs": [],
   "source": [
    "seed = 42\n",
    "cv=KFold(n_splits=5, random_state=seed, shuffle=True)"
   ]
  },
  {
   "cell_type": "code",
   "execution_count": 41,
   "metadata": {},
   "outputs": [],
   "source": [
    "param_grid ={\"hidden_layer_sizes\": [(400, 300, 200, 100),(100, 100, 100), (10, 10, 10),(50,)], \"activation\": [\"tanh\", \"relu\"], \"solver\": [\"lbfgs\", \"sgd\", \"adam\"], \"alpha\": [0.00005,0.0005], 'max_iter': [1000, 2000]}"
   ]
  },
  {
   "cell_type": "code",
   "execution_count": 42,
   "metadata": {},
   "outputs": [],
   "source": [
    "m = GridSearchCV(MLPRegressor(), param_grid, n_jobs=-1, cv=cv, verbose=1)"
   ]
  },
  {
   "cell_type": "code",
   "execution_count": 43,
   "metadata": {},
   "outputs": [
    {
     "name": "stdout",
     "output_type": "stream",
     "text": [
      "Fitting 5 folds for each of 96 candidates, totalling 480 fits\n"
     ]
    },
    {
     "data": {
      "text/html": [
       "<style>#sk-container-id-2 {color: black;}#sk-container-id-2 pre{padding: 0;}#sk-container-id-2 div.sk-toggleable {background-color: white;}#sk-container-id-2 label.sk-toggleable__label {cursor: pointer;display: block;width: 100%;margin-bottom: 0;padding: 0.3em;box-sizing: border-box;text-align: center;}#sk-container-id-2 label.sk-toggleable__label-arrow:before {content: \"▸\";float: left;margin-right: 0.25em;color: #696969;}#sk-container-id-2 label.sk-toggleable__label-arrow:hover:before {color: black;}#sk-container-id-2 div.sk-estimator:hover label.sk-toggleable__label-arrow:before {color: black;}#sk-container-id-2 div.sk-toggleable__content {max-height: 0;max-width: 0;overflow: hidden;text-align: left;background-color: #f0f8ff;}#sk-container-id-2 div.sk-toggleable__content pre {margin: 0.2em;color: black;border-radius: 0.25em;background-color: #f0f8ff;}#sk-container-id-2 input.sk-toggleable__control:checked~div.sk-toggleable__content {max-height: 200px;max-width: 100%;overflow: auto;}#sk-container-id-2 input.sk-toggleable__control:checked~label.sk-toggleable__label-arrow:before {content: \"▾\";}#sk-container-id-2 div.sk-estimator input.sk-toggleable__control:checked~label.sk-toggleable__label {background-color: #d4ebff;}#sk-container-id-2 div.sk-label input.sk-toggleable__control:checked~label.sk-toggleable__label {background-color: #d4ebff;}#sk-container-id-2 input.sk-hidden--visually {border: 0;clip: rect(1px 1px 1px 1px);clip: rect(1px, 1px, 1px, 1px);height: 1px;margin: -1px;overflow: hidden;padding: 0;position: absolute;width: 1px;}#sk-container-id-2 div.sk-estimator {font-family: monospace;background-color: #f0f8ff;border: 1px dotted black;border-radius: 0.25em;box-sizing: border-box;margin-bottom: 0.5em;}#sk-container-id-2 div.sk-estimator:hover {background-color: #d4ebff;}#sk-container-id-2 div.sk-parallel-item::after {content: \"\";width: 100%;border-bottom: 1px solid gray;flex-grow: 1;}#sk-container-id-2 div.sk-label:hover label.sk-toggleable__label {background-color: #d4ebff;}#sk-container-id-2 div.sk-serial::before {content: \"\";position: absolute;border-left: 1px solid gray;box-sizing: border-box;top: 0;bottom: 0;left: 50%;z-index: 0;}#sk-container-id-2 div.sk-serial {display: flex;flex-direction: column;align-items: center;background-color: white;padding-right: 0.2em;padding-left: 0.2em;position: relative;}#sk-container-id-2 div.sk-item {position: relative;z-index: 1;}#sk-container-id-2 div.sk-parallel {display: flex;align-items: stretch;justify-content: center;background-color: white;position: relative;}#sk-container-id-2 div.sk-item::before, #sk-container-id-2 div.sk-parallel-item::before {content: \"\";position: absolute;border-left: 1px solid gray;box-sizing: border-box;top: 0;bottom: 0;left: 50%;z-index: -1;}#sk-container-id-2 div.sk-parallel-item {display: flex;flex-direction: column;z-index: 1;position: relative;background-color: white;}#sk-container-id-2 div.sk-parallel-item:first-child::after {align-self: flex-end;width: 50%;}#sk-container-id-2 div.sk-parallel-item:last-child::after {align-self: flex-start;width: 50%;}#sk-container-id-2 div.sk-parallel-item:only-child::after {width: 0;}#sk-container-id-2 div.sk-dashed-wrapped {border: 1px dashed gray;margin: 0 0.4em 0.5em 0.4em;box-sizing: border-box;padding-bottom: 0.4em;background-color: white;}#sk-container-id-2 div.sk-label label {font-family: monospace;font-weight: bold;display: inline-block;line-height: 1.2em;}#sk-container-id-2 div.sk-label-container {text-align: center;}#sk-container-id-2 div.sk-container {/* jupyter's `normalize.less` sets `[hidden] { display: none; }` but bootstrap.min.css set `[hidden] { display: none !important; }` so we also need the `!important` here to be able to override the default hidden behavior on the sphinx rendered scikit-learn.org. See: https://github.com/scikit-learn/scikit-learn/issues/21755 */display: inline-block !important;position: relative;}#sk-container-id-2 div.sk-text-repr-fallback {display: none;}</style><div id=\"sk-container-id-2\" class=\"sk-top-container\"><div class=\"sk-text-repr-fallback\"><pre>GridSearchCV(cv=KFold(n_splits=5, random_state=42, shuffle=True),\n",
       "             estimator=MLPRegressor(), n_jobs=-1,\n",
       "             param_grid={&#x27;activation&#x27;: [&#x27;tanh&#x27;, &#x27;relu&#x27;],\n",
       "                         &#x27;alpha&#x27;: [5e-05, 0.0005],\n",
       "                         &#x27;hidden_layer_sizes&#x27;: [(400, 300, 200, 100),\n",
       "                                                (100, 100, 100), (10, 10, 10),\n",
       "                                                (50,)],\n",
       "                         &#x27;max_iter&#x27;: [1000, 2000],\n",
       "                         &#x27;solver&#x27;: [&#x27;lbfgs&#x27;, &#x27;sgd&#x27;, &#x27;adam&#x27;]},\n",
       "             verbose=1)</pre><b>In a Jupyter environment, please rerun this cell to show the HTML representation or trust the notebook. <br />On GitHub, the HTML representation is unable to render, please try loading this page with nbviewer.org.</b></div><div class=\"sk-container\" hidden><div class=\"sk-item sk-dashed-wrapped\"><div class=\"sk-label-container\"><div class=\"sk-label sk-toggleable\"><input class=\"sk-toggleable__control sk-hidden--visually\" id=\"sk-estimator-id-4\" type=\"checkbox\" ><label for=\"sk-estimator-id-4\" class=\"sk-toggleable__label sk-toggleable__label-arrow\">GridSearchCV</label><div class=\"sk-toggleable__content\"><pre>GridSearchCV(cv=KFold(n_splits=5, random_state=42, shuffle=True),\n",
       "             estimator=MLPRegressor(), n_jobs=-1,\n",
       "             param_grid={&#x27;activation&#x27;: [&#x27;tanh&#x27;, &#x27;relu&#x27;],\n",
       "                         &#x27;alpha&#x27;: [5e-05, 0.0005],\n",
       "                         &#x27;hidden_layer_sizes&#x27;: [(400, 300, 200, 100),\n",
       "                                                (100, 100, 100), (10, 10, 10),\n",
       "                                                (50,)],\n",
       "                         &#x27;max_iter&#x27;: [1000, 2000],\n",
       "                         &#x27;solver&#x27;: [&#x27;lbfgs&#x27;, &#x27;sgd&#x27;, &#x27;adam&#x27;]},\n",
       "             verbose=1)</pre></div></div></div><div class=\"sk-parallel\"><div class=\"sk-parallel-item\"><div class=\"sk-item\"><div class=\"sk-label-container\"><div class=\"sk-label sk-toggleable\"><input class=\"sk-toggleable__control sk-hidden--visually\" id=\"sk-estimator-id-5\" type=\"checkbox\" ><label for=\"sk-estimator-id-5\" class=\"sk-toggleable__label sk-toggleable__label-arrow\">estimator: MLPRegressor</label><div class=\"sk-toggleable__content\"><pre>MLPRegressor()</pre></div></div></div><div class=\"sk-serial\"><div class=\"sk-item\"><div class=\"sk-estimator sk-toggleable\"><input class=\"sk-toggleable__control sk-hidden--visually\" id=\"sk-estimator-id-6\" type=\"checkbox\" ><label for=\"sk-estimator-id-6\" class=\"sk-toggleable__label sk-toggleable__label-arrow\">MLPRegressor</label><div class=\"sk-toggleable__content\"><pre>MLPRegressor()</pre></div></div></div></div></div></div></div></div></div></div>"
      ],
      "text/plain": [
       "GridSearchCV(cv=KFold(n_splits=5, random_state=42, shuffle=True),\n",
       "             estimator=MLPRegressor(), n_jobs=-1,\n",
       "             param_grid={'activation': ['tanh', 'relu'],\n",
       "                         'alpha': [5e-05, 0.0005],\n",
       "                         'hidden_layer_sizes': [(400, 300, 200, 100),\n",
       "                                                (100, 100, 100), (10, 10, 10),\n",
       "                                                (50,)],\n",
       "                         'max_iter': [1000, 2000],\n",
       "                         'solver': ['lbfgs', 'sgd', 'adam']},\n",
       "             verbose=1)"
      ]
     },
     "execution_count": 43,
     "metadata": {},
     "output_type": "execute_result"
    }
   ],
   "source": [
    "m.fit(x_tr, y_tr)"
   ]
  },
  {
   "cell_type": "code",
   "execution_count": 44,
   "metadata": {},
   "outputs": [],
   "source": [
    "best_MLPR = m.best_estimator_"
   ]
  },
  {
   "cell_type": "code",
   "execution_count": 45,
   "metadata": {},
   "outputs": [
    {
     "data": {
      "text/plain": [
       "{'activation': 'relu',\n",
       " 'alpha': 5e-05,\n",
       " 'hidden_layer_sizes': (400, 300, 200, 100),\n",
       " 'max_iter': 2000,\n",
       " 'solver': 'sgd'}"
      ]
     },
     "execution_count": 45,
     "metadata": {},
     "output_type": "execute_result"
    }
   ],
   "source": [
    "m.best_params_"
   ]
  },
  {
   "cell_type": "code",
   "execution_count": 46,
   "metadata": {},
   "outputs": [],
   "source": [
    "y_pred_ws_MLPR = best_MLPR.predict(x_tr)"
   ]
  },
  {
   "cell_type": "code",
   "execution_count": 47,
   "metadata": {},
   "outputs": [
    {
     "data": {
      "text/plain": [
       "0.91"
      ]
     },
     "execution_count": 47,
     "metadata": {},
     "output_type": "execute_result"
    }
   ],
   "source": [
    "R2_WS = round(r2_score(y_tr, y_pred_ws_MLPR), 2)\n",
    "R2_WS"
   ]
  },
  {
   "cell_type": "code",
   "execution_count": 48,
   "metadata": {},
   "outputs": [
    {
     "data": {
      "text/plain": [
       "0.49"
      ]
     },
     "execution_count": 48,
     "metadata": {},
     "output_type": "execute_result"
    }
   ],
   "source": [
    "RMSE_WS=round(np.sqrt(mean_absolute_error(y_tr, y_pred_ws_MLPR)), 2)\n",
    "RMSE_WS"
   ]
  },
  {
   "cell_type": "code",
   "execution_count": 49,
   "metadata": {},
   "outputs": [],
   "source": [
    "y_pred_CV_MLPR = cross_val_predict(best_MLPR, x_tr, y_tr, cv=cv)"
   ]
  },
  {
   "cell_type": "code",
   "execution_count": 50,
   "metadata": {},
   "outputs": [
    {
     "data": {
      "text/plain": [
       "array([4.5473413, 6.270536 , 6.571547 , ..., 6.8544917, 7.8592067,\n",
       "       6.622988 ], dtype=float32)"
      ]
     },
     "execution_count": 50,
     "metadata": {},
     "output_type": "execute_result"
    }
   ],
   "source": [
    "y_pred_CV_MLPR"
   ]
  },
  {
   "cell_type": "code",
   "execution_count": 51,
   "metadata": {},
   "outputs": [
    {
     "data": {
      "text/plain": [
       "0.53"
      ]
     },
     "execution_count": 51,
     "metadata": {},
     "output_type": "execute_result"
    }
   ],
   "source": [
    "Q2_CV = round(r2_score(y_tr, y_pred_CV_MLPR), 2)\n",
    "Q2_CV"
   ]
  },
  {
   "cell_type": "code",
   "execution_count": 52,
   "metadata": {},
   "outputs": [
    {
     "data": {
      "text/plain": [
       "0.76"
      ]
     },
     "execution_count": 52,
     "metadata": {},
     "output_type": "execute_result"
    }
   ],
   "source": [
    "RMSE_CV=round(np.sqrt(mean_absolute_error(y_tr, y_pred_CV_MLPR)), 2)\n",
    "RMSE_CV"
   ]
  },
  {
   "cell_type": "markdown",
   "metadata": {},
   "source": [
    "# 9. Prediction for test set's molecules"
   ]
  },
  {
   "cell_type": "code",
   "execution_count": 53,
   "metadata": {},
   "outputs": [],
   "source": [
    "x_ts = np.array(x_ts, dtype=np.float32)\n",
    "y_ts = np.array(y_ts, dtype=np.float32)"
   ]
  },
  {
   "cell_type": "code",
   "execution_count": 54,
   "metadata": {},
   "outputs": [],
   "source": [
    "y_pred_MLPR = best_MLPR.predict(x_ts)"
   ]
  },
  {
   "cell_type": "code",
   "execution_count": 55,
   "metadata": {},
   "outputs": [
    {
     "data": {
      "text/plain": [
       "0.53"
      ]
     },
     "execution_count": 55,
     "metadata": {},
     "output_type": "execute_result"
    }
   ],
   "source": [
    "Q2_TS = round(r2_score(y_ts, y_pred_MLPR), 2)\n",
    "Q2_TS"
   ]
  },
  {
   "cell_type": "code",
   "execution_count": 56,
   "metadata": {},
   "outputs": [
    {
     "data": {
      "text/plain": [
       "0.75"
      ]
     },
     "execution_count": 56,
     "metadata": {},
     "output_type": "execute_result"
    }
   ],
   "source": [
    "RMSE_TS=round(np.sqrt(mean_absolute_error(y_ts, y_pred_MLPR)), 2)\n",
    "RMSE_TS"
   ]
  },
  {
   "cell_type": "markdown",
   "metadata": {},
   "source": [
    "# save the model to disk"
   ]
  },
  {
   "cell_type": "code",
   "execution_count": 82,
   "metadata": {},
   "outputs": [],
   "source": [
    "pickle.dump(best_MLPR, open('Models/MACCS/HDAC6_MLPR_MACCS.pkl', 'wb'))"
   ]
  },
  {
   "cell_type": "markdown",
   "metadata": {},
   "source": [
    "# load the model from disk"
   ]
  },
  {
   "cell_type": "code",
   "execution_count": 83,
   "metadata": {},
   "outputs": [],
   "source": [
    "best_MLPR = pickle.load(open('Models/MACCS/HDAC6_MLPR_MACCS.pkl', 'rb'))"
   ]
  },
  {
   "cell_type": "markdown",
   "metadata": {},
   "source": [
    "# 10. Y-randomization MLPR"
   ]
  },
  {
   "cell_type": "code",
   "execution_count": 58,
   "metadata": {},
   "outputs": [
    {
     "name": "stderr",
     "output_type": "stream",
     "text": [
      "[Parallel(n_jobs=-1)]: Using backend LokyBackend with 16 concurrent workers.\n",
      "[Parallel(n_jobs=-1)]: Done  18 tasks      | elapsed: 22.2min\n"
     ]
    },
    {
     "name": "stdout",
     "output_type": "stream",
     "text": [
      "True score =  0.52 \n",
      "Y-randomization =  -0.48 \n",
      "p-value =  0.0196\n"
     ]
    },
    {
     "name": "stderr",
     "output_type": "stream",
     "text": [
      "[Parallel(n_jobs=-1)]: Done  50 out of  50 | elapsed: 38.0min finished\n"
     ]
    }
   ],
   "source": [
    "permutations = 50\n",
    "score, permutation_scores, pvalue = permutation_test_score(best_MLPR, x_tr, y_tr,\n",
    "                                                           cv=cv, scoring='r2',\n",
    "                                                           n_permutations=permutations,\n",
    "                                                           n_jobs=-1,\n",
    "                                                           verbose=1,\n",
    "                                                           random_state=seed)\n",
    "print('True score = ', score.round(2),\n",
    "      '\\nY-randomization = ', np.mean(permutation_scores).round(2),\n",
    "      '\\np-value = ', pvalue.round(4))"
   ]
  },
  {
   "cell_type": "markdown",
   "metadata": {},
   "source": [
    "# 11. Estimating applicability domain. Method - Euclidian distances, K=1"
   ]
  },
  {
   "cell_type": "code",
   "execution_count": 84,
   "metadata": {},
   "outputs": [],
   "source": [
    "neighbors_k= pairwise_distances(x_tr, n_jobs=-1)\n",
    "neighbors_k.sort(0)"
   ]
  },
  {
   "cell_type": "code",
   "execution_count": 85,
   "metadata": {},
   "outputs": [
    {
     "data": {
      "text/html": [
       "<div>\n",
       "<style scoped>\n",
       "    .dataframe tbody tr th:only-of-type {\n",
       "        vertical-align: middle;\n",
       "    }\n",
       "\n",
       "    .dataframe tbody tr th {\n",
       "        vertical-align: top;\n",
       "    }\n",
       "\n",
       "    .dataframe thead th {\n",
       "        text-align: right;\n",
       "    }\n",
       "</style>\n",
       "<table border=\"1\" class=\"dataframe\">\n",
       "  <thead>\n",
       "    <tr style=\"text-align: right;\">\n",
       "      <th></th>\n",
       "      <th>0</th>\n",
       "      <th>1</th>\n",
       "      <th>2</th>\n",
       "      <th>3</th>\n",
       "      <th>4</th>\n",
       "      <th>5</th>\n",
       "      <th>6</th>\n",
       "      <th>7</th>\n",
       "      <th>8</th>\n",
       "      <th>9</th>\n",
       "      <th>...</th>\n",
       "      <th>3073</th>\n",
       "      <th>3074</th>\n",
       "      <th>3075</th>\n",
       "      <th>3076</th>\n",
       "      <th>3077</th>\n",
       "      <th>3078</th>\n",
       "      <th>3079</th>\n",
       "      <th>3080</th>\n",
       "      <th>3081</th>\n",
       "      <th>3082</th>\n",
       "    </tr>\n",
       "  </thead>\n",
       "  <tbody>\n",
       "    <tr>\n",
       "      <th>0</th>\n",
       "      <td>0.000000</td>\n",
       "      <td>0.000000</td>\n",
       "      <td>0.000000</td>\n",
       "      <td>0.000000</td>\n",
       "      <td>0.000000</td>\n",
       "      <td>0.000000</td>\n",
       "      <td>0.000000</td>\n",
       "      <td>0.000000</td>\n",
       "      <td>0.000000</td>\n",
       "      <td>0.000000</td>\n",
       "      <td>...</td>\n",
       "      <td>0.000000</td>\n",
       "      <td>0.000000</td>\n",
       "      <td>0.000000</td>\n",
       "      <td>0.000000</td>\n",
       "      <td>0.000000</td>\n",
       "      <td>0.000000</td>\n",
       "      <td>0.000000</td>\n",
       "      <td>0.000000</td>\n",
       "      <td>0.000000</td>\n",
       "      <td>0.000000</td>\n",
       "    </tr>\n",
       "    <tr>\n",
       "      <th>1</th>\n",
       "      <td>2.236068</td>\n",
       "      <td>4.123106</td>\n",
       "      <td>3.316625</td>\n",
       "      <td>1.414214</td>\n",
       "      <td>5.099020</td>\n",
       "      <td>2.449490</td>\n",
       "      <td>3.464102</td>\n",
       "      <td>2.236068</td>\n",
       "      <td>2.828427</td>\n",
       "      <td>3.872983</td>\n",
       "      <td>...</td>\n",
       "      <td>1.000000</td>\n",
       "      <td>1.414214</td>\n",
       "      <td>2.000000</td>\n",
       "      <td>2.000000</td>\n",
       "      <td>0.000000</td>\n",
       "      <td>1.414214</td>\n",
       "      <td>1.414214</td>\n",
       "      <td>2.828427</td>\n",
       "      <td>1.414214</td>\n",
       "      <td>2.449490</td>\n",
       "    </tr>\n",
       "    <tr>\n",
       "      <th>2</th>\n",
       "      <td>3.464102</td>\n",
       "      <td>4.242640</td>\n",
       "      <td>3.464102</td>\n",
       "      <td>1.732051</td>\n",
       "      <td>5.477226</td>\n",
       "      <td>3.872983</td>\n",
       "      <td>3.872983</td>\n",
       "      <td>2.449490</td>\n",
       "      <td>5.099020</td>\n",
       "      <td>4.582576</td>\n",
       "      <td>...</td>\n",
       "      <td>2.828427</td>\n",
       "      <td>2.828427</td>\n",
       "      <td>2.449490</td>\n",
       "      <td>2.000000</td>\n",
       "      <td>0.000000</td>\n",
       "      <td>2.828427</td>\n",
       "      <td>1.732051</td>\n",
       "      <td>3.741657</td>\n",
       "      <td>1.732051</td>\n",
       "      <td>2.449490</td>\n",
       "    </tr>\n",
       "    <tr>\n",
       "      <th>3</th>\n",
       "      <td>3.605551</td>\n",
       "      <td>4.472136</td>\n",
       "      <td>3.872983</td>\n",
       "      <td>1.732051</td>\n",
       "      <td>5.567764</td>\n",
       "      <td>3.872983</td>\n",
       "      <td>4.000000</td>\n",
       "      <td>2.449490</td>\n",
       "      <td>5.099020</td>\n",
       "      <td>4.582576</td>\n",
       "      <td>...</td>\n",
       "      <td>2.828427</td>\n",
       "      <td>3.000000</td>\n",
       "      <td>2.449490</td>\n",
       "      <td>2.449490</td>\n",
       "      <td>0.000000</td>\n",
       "      <td>3.000000</td>\n",
       "      <td>2.236068</td>\n",
       "      <td>3.872983</td>\n",
       "      <td>2.236068</td>\n",
       "      <td>2.645751</td>\n",
       "    </tr>\n",
       "    <tr>\n",
       "      <th>4</th>\n",
       "      <td>4.000000</td>\n",
       "      <td>4.472136</td>\n",
       "      <td>4.123106</td>\n",
       "      <td>1.732051</td>\n",
       "      <td>5.744563</td>\n",
       "      <td>4.690416</td>\n",
       "      <td>4.000000</td>\n",
       "      <td>2.645751</td>\n",
       "      <td>5.099020</td>\n",
       "      <td>4.690416</td>\n",
       "      <td>...</td>\n",
       "      <td>2.828427</td>\n",
       "      <td>3.162278</td>\n",
       "      <td>3.000000</td>\n",
       "      <td>2.449490</td>\n",
       "      <td>1.000000</td>\n",
       "      <td>3.000000</td>\n",
       "      <td>2.449490</td>\n",
       "      <td>4.242640</td>\n",
       "      <td>2.449490</td>\n",
       "      <td>2.645751</td>\n",
       "    </tr>\n",
       "    <tr>\n",
       "      <th>...</th>\n",
       "      <td>...</td>\n",
       "      <td>...</td>\n",
       "      <td>...</td>\n",
       "      <td>...</td>\n",
       "      <td>...</td>\n",
       "      <td>...</td>\n",
       "      <td>...</td>\n",
       "      <td>...</td>\n",
       "      <td>...</td>\n",
       "      <td>...</td>\n",
       "      <td>...</td>\n",
       "      <td>...</td>\n",
       "      <td>...</td>\n",
       "      <td>...</td>\n",
       "      <td>...</td>\n",
       "      <td>...</td>\n",
       "      <td>...</td>\n",
       "      <td>...</td>\n",
       "      <td>...</td>\n",
       "      <td>...</td>\n",
       "      <td>...</td>\n",
       "    </tr>\n",
       "    <tr>\n",
       "      <th>3078</th>\n",
       "      <td>8.062258</td>\n",
       "      <td>7.937254</td>\n",
       "      <td>8.000000</td>\n",
       "      <td>8.426149</td>\n",
       "      <td>9.380832</td>\n",
       "      <td>8.124039</td>\n",
       "      <td>8.124039</td>\n",
       "      <td>7.874008</td>\n",
       "      <td>8.831760</td>\n",
       "      <td>7.874008</td>\n",
       "      <td>...</td>\n",
       "      <td>7.937254</td>\n",
       "      <td>8.306623</td>\n",
       "      <td>8.306623</td>\n",
       "      <td>7.937254</td>\n",
       "      <td>8.000000</td>\n",
       "      <td>8.306623</td>\n",
       "      <td>8.246211</td>\n",
       "      <td>8.062258</td>\n",
       "      <td>8.062258</td>\n",
       "      <td>7.937254</td>\n",
       "    </tr>\n",
       "    <tr>\n",
       "      <th>3079</th>\n",
       "      <td>8.124039</td>\n",
       "      <td>8.000000</td>\n",
       "      <td>8.062258</td>\n",
       "      <td>8.426149</td>\n",
       "      <td>9.433981</td>\n",
       "      <td>8.124039</td>\n",
       "      <td>8.124039</td>\n",
       "      <td>7.874008</td>\n",
       "      <td>8.831760</td>\n",
       "      <td>7.874008</td>\n",
       "      <td>...</td>\n",
       "      <td>7.937254</td>\n",
       "      <td>8.366600</td>\n",
       "      <td>8.366600</td>\n",
       "      <td>7.937254</td>\n",
       "      <td>8.000000</td>\n",
       "      <td>8.306623</td>\n",
       "      <td>8.246211</td>\n",
       "      <td>8.062258</td>\n",
       "      <td>8.124039</td>\n",
       "      <td>7.937254</td>\n",
       "    </tr>\n",
       "    <tr>\n",
       "      <th>3080</th>\n",
       "      <td>8.185352</td>\n",
       "      <td>8.000000</td>\n",
       "      <td>8.124039</td>\n",
       "      <td>8.426149</td>\n",
       "      <td>9.539392</td>\n",
       "      <td>8.124039</td>\n",
       "      <td>8.185352</td>\n",
       "      <td>7.874008</td>\n",
       "      <td>8.831760</td>\n",
       "      <td>8.000000</td>\n",
       "      <td>...</td>\n",
       "      <td>8.000000</td>\n",
       "      <td>8.426149</td>\n",
       "      <td>8.602325</td>\n",
       "      <td>8.000000</td>\n",
       "      <td>8.124039</td>\n",
       "      <td>8.366600</td>\n",
       "      <td>8.246211</td>\n",
       "      <td>8.124039</td>\n",
       "      <td>8.124039</td>\n",
       "      <td>7.937254</td>\n",
       "    </tr>\n",
       "    <tr>\n",
       "      <th>3081</th>\n",
       "      <td>8.246211</td>\n",
       "      <td>8.000000</td>\n",
       "      <td>8.185352</td>\n",
       "      <td>8.944272</td>\n",
       "      <td>9.591663</td>\n",
       "      <td>8.185352</td>\n",
       "      <td>8.185352</td>\n",
       "      <td>7.937254</td>\n",
       "      <td>8.831760</td>\n",
       "      <td>8.426149</td>\n",
       "      <td>...</td>\n",
       "      <td>8.062258</td>\n",
       "      <td>8.426149</td>\n",
       "      <td>8.602325</td>\n",
       "      <td>8.000000</td>\n",
       "      <td>8.306623</td>\n",
       "      <td>8.544003</td>\n",
       "      <td>8.306623</td>\n",
       "      <td>8.185352</td>\n",
       "      <td>8.185352</td>\n",
       "      <td>8.000000</td>\n",
       "    </tr>\n",
       "    <tr>\n",
       "      <th>3082</th>\n",
       "      <td>8.246211</td>\n",
       "      <td>8.062258</td>\n",
       "      <td>8.185352</td>\n",
       "      <td>8.944272</td>\n",
       "      <td>9.591663</td>\n",
       "      <td>8.185352</td>\n",
       "      <td>8.185352</td>\n",
       "      <td>8.062258</td>\n",
       "      <td>8.831760</td>\n",
       "      <td>8.426149</td>\n",
       "      <td>...</td>\n",
       "      <td>8.124039</td>\n",
       "      <td>8.660254</td>\n",
       "      <td>8.602325</td>\n",
       "      <td>8.062258</td>\n",
       "      <td>8.306623</td>\n",
       "      <td>8.544003</td>\n",
       "      <td>8.366600</td>\n",
       "      <td>8.185352</td>\n",
       "      <td>8.306623</td>\n",
       "      <td>8.000000</td>\n",
       "    </tr>\n",
       "  </tbody>\n",
       "</table>\n",
       "<p>3083 rows × 3083 columns</p>\n",
       "</div>"
      ],
      "text/plain": [
       "          0         1         2         3         4         5         6     \\\n",
       "0     0.000000  0.000000  0.000000  0.000000  0.000000  0.000000  0.000000   \n",
       "1     2.236068  4.123106  3.316625  1.414214  5.099020  2.449490  3.464102   \n",
       "2     3.464102  4.242640  3.464102  1.732051  5.477226  3.872983  3.872983   \n",
       "3     3.605551  4.472136  3.872983  1.732051  5.567764  3.872983  4.000000   \n",
       "4     4.000000  4.472136  4.123106  1.732051  5.744563  4.690416  4.000000   \n",
       "...        ...       ...       ...       ...       ...       ...       ...   \n",
       "3078  8.062258  7.937254  8.000000  8.426149  9.380832  8.124039  8.124039   \n",
       "3079  8.124039  8.000000  8.062258  8.426149  9.433981  8.124039  8.124039   \n",
       "3080  8.185352  8.000000  8.124039  8.426149  9.539392  8.124039  8.185352   \n",
       "3081  8.246211  8.000000  8.185352  8.944272  9.591663  8.185352  8.185352   \n",
       "3082  8.246211  8.062258  8.185352  8.944272  9.591663  8.185352  8.185352   \n",
       "\n",
       "          7         8         9     ...      3073      3074      3075  \\\n",
       "0     0.000000  0.000000  0.000000  ...  0.000000  0.000000  0.000000   \n",
       "1     2.236068  2.828427  3.872983  ...  1.000000  1.414214  2.000000   \n",
       "2     2.449490  5.099020  4.582576  ...  2.828427  2.828427  2.449490   \n",
       "3     2.449490  5.099020  4.582576  ...  2.828427  3.000000  2.449490   \n",
       "4     2.645751  5.099020  4.690416  ...  2.828427  3.162278  3.000000   \n",
       "...        ...       ...       ...  ...       ...       ...       ...   \n",
       "3078  7.874008  8.831760  7.874008  ...  7.937254  8.306623  8.306623   \n",
       "3079  7.874008  8.831760  7.874008  ...  7.937254  8.366600  8.366600   \n",
       "3080  7.874008  8.831760  8.000000  ...  8.000000  8.426149  8.602325   \n",
       "3081  7.937254  8.831760  8.426149  ...  8.062258  8.426149  8.602325   \n",
       "3082  8.062258  8.831760  8.426149  ...  8.124039  8.660254  8.602325   \n",
       "\n",
       "          3076      3077      3078      3079      3080      3081      3082  \n",
       "0     0.000000  0.000000  0.000000  0.000000  0.000000  0.000000  0.000000  \n",
       "1     2.000000  0.000000  1.414214  1.414214  2.828427  1.414214  2.449490  \n",
       "2     2.000000  0.000000  2.828427  1.732051  3.741657  1.732051  2.449490  \n",
       "3     2.449490  0.000000  3.000000  2.236068  3.872983  2.236068  2.645751  \n",
       "4     2.449490  1.000000  3.000000  2.449490  4.242640  2.449490  2.645751  \n",
       "...        ...       ...       ...       ...       ...       ...       ...  \n",
       "3078  7.937254  8.000000  8.306623  8.246211  8.062258  8.062258  7.937254  \n",
       "3079  7.937254  8.000000  8.306623  8.246211  8.062258  8.124039  7.937254  \n",
       "3080  8.000000  8.124039  8.366600  8.246211  8.124039  8.124039  7.937254  \n",
       "3081  8.000000  8.306623  8.544003  8.306623  8.185352  8.185352  8.000000  \n",
       "3082  8.062258  8.306623  8.544003  8.366600  8.185352  8.306623  8.000000  \n",
       "\n",
       "[3083 rows x 3083 columns]"
      ]
     },
     "execution_count": 85,
     "metadata": {},
     "output_type": "execute_result"
    }
   ],
   "source": [
    "df_tr=pd.DataFrame(neighbors_k)\n",
    "df_tr"
   ]
  },
  {
   "cell_type": "code",
   "execution_count": 86,
   "metadata": {},
   "outputs": [],
   "source": [
    "similarity= neighbors_k"
   ]
  },
  {
   "cell_type": "code",
   "execution_count": 87,
   "metadata": {},
   "outputs": [],
   "source": [
    "Dmean=np.mean(similarity[1,:])"
   ]
  },
  {
   "cell_type": "code",
   "execution_count": 88,
   "metadata": {},
   "outputs": [
    {
     "data": {
      "text/plain": [
       "1.36"
      ]
     },
     "execution_count": 88,
     "metadata": {},
     "output_type": "execute_result"
    }
   ],
   "source": [
    "round(Dmean, 2)"
   ]
  },
  {
   "cell_type": "code",
   "execution_count": 89,
   "metadata": {},
   "outputs": [],
   "source": [
    "std=np.std(similarity[1,:])"
   ]
  },
  {
   "cell_type": "code",
   "execution_count": 90,
   "metadata": {},
   "outputs": [
    {
     "data": {
      "text/plain": [
       "1.11"
      ]
     },
     "execution_count": 90,
     "metadata": {},
     "output_type": "execute_result"
    }
   ],
   "source": [
    "round(std, 2)"
   ]
  },
  {
   "cell_type": "code",
   "execution_count": 91,
   "metadata": {},
   "outputs": [
    {
     "name": "stdout",
     "output_type": "stream",
     "text": [
      "1.91\n"
     ]
    }
   ],
   "source": [
    "model_AD_limit=Dmean+std*0.5\n",
    "print(np.round(model_AD_limit, 2))"
   ]
  },
  {
   "cell_type": "code",
   "execution_count": 92,
   "metadata": {},
   "outputs": [],
   "source": [
    "neighbors_k_ts= pairwise_distances(x_tr,Y=x_ts, n_jobs=-1)\n",
    "neighbors_k_ts.sort(0)"
   ]
  },
  {
   "cell_type": "code",
   "execution_count": 93,
   "metadata": {},
   "outputs": [
    {
     "data": {
      "text/html": [
       "<div>\n",
       "<style scoped>\n",
       "    .dataframe tbody tr th:only-of-type {\n",
       "        vertical-align: middle;\n",
       "    }\n",
       "\n",
       "    .dataframe tbody tr th {\n",
       "        vertical-align: top;\n",
       "    }\n",
       "\n",
       "    .dataframe thead th {\n",
       "        text-align: right;\n",
       "    }\n",
       "</style>\n",
       "<table border=\"1\" class=\"dataframe\">\n",
       "  <thead>\n",
       "    <tr style=\"text-align: right;\">\n",
       "      <th></th>\n",
       "      <th>0</th>\n",
       "      <th>1</th>\n",
       "      <th>2</th>\n",
       "      <th>3</th>\n",
       "      <th>4</th>\n",
       "      <th>5</th>\n",
       "      <th>6</th>\n",
       "      <th>7</th>\n",
       "      <th>8</th>\n",
       "      <th>9</th>\n",
       "      <th>...</th>\n",
       "      <th>761</th>\n",
       "      <th>762</th>\n",
       "      <th>763</th>\n",
       "      <th>764</th>\n",
       "      <th>765</th>\n",
       "      <th>766</th>\n",
       "      <th>767</th>\n",
       "      <th>768</th>\n",
       "      <th>769</th>\n",
       "      <th>770</th>\n",
       "    </tr>\n",
       "  </thead>\n",
       "  <tbody>\n",
       "    <tr>\n",
       "      <th>0</th>\n",
       "      <td>3.464102</td>\n",
       "      <td>3.872983</td>\n",
       "      <td>0.000000</td>\n",
       "      <td>3.605551</td>\n",
       "      <td>2.000000</td>\n",
       "      <td>0.000000</td>\n",
       "      <td>1.414214</td>\n",
       "      <td>1.732051</td>\n",
       "      <td>1.414214</td>\n",
       "      <td>1.414214</td>\n",
       "      <td>...</td>\n",
       "      <td>1.414214</td>\n",
       "      <td>2.000000</td>\n",
       "      <td>1.000000</td>\n",
       "      <td>1.414214</td>\n",
       "      <td>0.000000</td>\n",
       "      <td>3.162278</td>\n",
       "      <td>1.414214</td>\n",
       "      <td>2.000000</td>\n",
       "      <td>1.000000</td>\n",
       "      <td>2.236068</td>\n",
       "    </tr>\n",
       "    <tr>\n",
       "      <th>1</th>\n",
       "      <td>4.000000</td>\n",
       "      <td>4.123106</td>\n",
       "      <td>1.732051</td>\n",
       "      <td>4.123106</td>\n",
       "      <td>2.236068</td>\n",
       "      <td>2.828427</td>\n",
       "      <td>1.414214</td>\n",
       "      <td>2.236068</td>\n",
       "      <td>2.236068</td>\n",
       "      <td>1.732051</td>\n",
       "      <td>...</td>\n",
       "      <td>1.732051</td>\n",
       "      <td>2.000000</td>\n",
       "      <td>1.000000</td>\n",
       "      <td>1.732051</td>\n",
       "      <td>0.000000</td>\n",
       "      <td>3.741657</td>\n",
       "      <td>2.000000</td>\n",
       "      <td>2.000000</td>\n",
       "      <td>3.316625</td>\n",
       "      <td>2.449490</td>\n",
       "    </tr>\n",
       "    <tr>\n",
       "      <th>2</th>\n",
       "      <td>4.472136</td>\n",
       "      <td>4.123106</td>\n",
       "      <td>2.000000</td>\n",
       "      <td>4.358899</td>\n",
       "      <td>2.449490</td>\n",
       "      <td>5.099020</td>\n",
       "      <td>2.645751</td>\n",
       "      <td>2.236068</td>\n",
       "      <td>3.000000</td>\n",
       "      <td>1.732051</td>\n",
       "      <td>...</td>\n",
       "      <td>2.000000</td>\n",
       "      <td>2.000000</td>\n",
       "      <td>2.449490</td>\n",
       "      <td>1.732051</td>\n",
       "      <td>0.000000</td>\n",
       "      <td>3.741657</td>\n",
       "      <td>2.000000</td>\n",
       "      <td>2.000000</td>\n",
       "      <td>3.316625</td>\n",
       "      <td>2.645751</td>\n",
       "    </tr>\n",
       "    <tr>\n",
       "      <th>3</th>\n",
       "      <td>4.472136</td>\n",
       "      <td>4.358899</td>\n",
       "      <td>2.000000</td>\n",
       "      <td>4.358899</td>\n",
       "      <td>2.449490</td>\n",
       "      <td>5.099020</td>\n",
       "      <td>2.645751</td>\n",
       "      <td>2.236068</td>\n",
       "      <td>4.472136</td>\n",
       "      <td>2.828427</td>\n",
       "      <td>...</td>\n",
       "      <td>2.236068</td>\n",
       "      <td>2.236068</td>\n",
       "      <td>2.645751</td>\n",
       "      <td>2.000000</td>\n",
       "      <td>0.000000</td>\n",
       "      <td>3.872983</td>\n",
       "      <td>2.000000</td>\n",
       "      <td>2.000000</td>\n",
       "      <td>3.464102</td>\n",
       "      <td>2.828427</td>\n",
       "    </tr>\n",
       "    <tr>\n",
       "      <th>4</th>\n",
       "      <td>4.582576</td>\n",
       "      <td>4.582576</td>\n",
       "      <td>3.162278</td>\n",
       "      <td>4.472136</td>\n",
       "      <td>2.645751</td>\n",
       "      <td>5.385165</td>\n",
       "      <td>2.828427</td>\n",
       "      <td>2.449490</td>\n",
       "      <td>4.472136</td>\n",
       "      <td>2.828427</td>\n",
       "      <td>...</td>\n",
       "      <td>2.236068</td>\n",
       "      <td>2.449490</td>\n",
       "      <td>2.645751</td>\n",
       "      <td>2.828427</td>\n",
       "      <td>1.000000</td>\n",
       "      <td>3.872983</td>\n",
       "      <td>2.236068</td>\n",
       "      <td>2.000000</td>\n",
       "      <td>3.464102</td>\n",
       "      <td>2.828427</td>\n",
       "    </tr>\n",
       "    <tr>\n",
       "      <th>...</th>\n",
       "      <td>...</td>\n",
       "      <td>...</td>\n",
       "      <td>...</td>\n",
       "      <td>...</td>\n",
       "      <td>...</td>\n",
       "      <td>...</td>\n",
       "      <td>...</td>\n",
       "      <td>...</td>\n",
       "      <td>...</td>\n",
       "      <td>...</td>\n",
       "      <td>...</td>\n",
       "      <td>...</td>\n",
       "      <td>...</td>\n",
       "      <td>...</td>\n",
       "      <td>...</td>\n",
       "      <td>...</td>\n",
       "      <td>...</td>\n",
       "      <td>...</td>\n",
       "      <td>...</td>\n",
       "      <td>...</td>\n",
       "      <td>...</td>\n",
       "    </tr>\n",
       "    <tr>\n",
       "      <th>3078</th>\n",
       "      <td>8.306623</td>\n",
       "      <td>8.602325</td>\n",
       "      <td>8.426149</td>\n",
       "      <td>8.306623</td>\n",
       "      <td>8.185352</td>\n",
       "      <td>8.660254</td>\n",
       "      <td>7.681146</td>\n",
       "      <td>8.426149</td>\n",
       "      <td>8.306623</td>\n",
       "      <td>8.660254</td>\n",
       "      <td>...</td>\n",
       "      <td>8.426149</td>\n",
       "      <td>7.810250</td>\n",
       "      <td>8.000000</td>\n",
       "      <td>7.937254</td>\n",
       "      <td>8.062258</td>\n",
       "      <td>8.246211</td>\n",
       "      <td>8.366600</td>\n",
       "      <td>8.246211</td>\n",
       "      <td>7.937254</td>\n",
       "      <td>7.937254</td>\n",
       "    </tr>\n",
       "    <tr>\n",
       "      <th>3079</th>\n",
       "      <td>8.426149</td>\n",
       "      <td>8.660254</td>\n",
       "      <td>8.485281</td>\n",
       "      <td>8.306623</td>\n",
       "      <td>8.246211</td>\n",
       "      <td>8.660254</td>\n",
       "      <td>7.745967</td>\n",
       "      <td>8.426149</td>\n",
       "      <td>8.366600</td>\n",
       "      <td>8.660254</td>\n",
       "      <td>...</td>\n",
       "      <td>8.426149</td>\n",
       "      <td>7.937254</td>\n",
       "      <td>8.000000</td>\n",
       "      <td>8.000000</td>\n",
       "      <td>8.124039</td>\n",
       "      <td>8.306623</td>\n",
       "      <td>8.366600</td>\n",
       "      <td>8.306623</td>\n",
       "      <td>8.000000</td>\n",
       "      <td>7.937254</td>\n",
       "    </tr>\n",
       "    <tr>\n",
       "      <th>3080</th>\n",
       "      <td>8.485281</td>\n",
       "      <td>8.660254</td>\n",
       "      <td>8.485281</td>\n",
       "      <td>8.306623</td>\n",
       "      <td>8.246211</td>\n",
       "      <td>8.660254</td>\n",
       "      <td>7.810250</td>\n",
       "      <td>8.485281</td>\n",
       "      <td>8.426149</td>\n",
       "      <td>8.717798</td>\n",
       "      <td>...</td>\n",
       "      <td>8.426149</td>\n",
       "      <td>7.937254</td>\n",
       "      <td>8.000000</td>\n",
       "      <td>8.062258</td>\n",
       "      <td>8.124039</td>\n",
       "      <td>8.306623</td>\n",
       "      <td>8.426149</td>\n",
       "      <td>8.366600</td>\n",
       "      <td>8.000000</td>\n",
       "      <td>8.000000</td>\n",
       "    </tr>\n",
       "    <tr>\n",
       "      <th>3081</th>\n",
       "      <td>8.485281</td>\n",
       "      <td>8.660254</td>\n",
       "      <td>8.544003</td>\n",
       "      <td>8.366600</td>\n",
       "      <td>8.246211</td>\n",
       "      <td>8.660254</td>\n",
       "      <td>7.810250</td>\n",
       "      <td>8.544003</td>\n",
       "      <td>8.426149</td>\n",
       "      <td>8.717798</td>\n",
       "      <td>...</td>\n",
       "      <td>8.485281</td>\n",
       "      <td>7.937254</td>\n",
       "      <td>8.124039</td>\n",
       "      <td>8.062258</td>\n",
       "      <td>8.426149</td>\n",
       "      <td>8.426149</td>\n",
       "      <td>8.485281</td>\n",
       "      <td>8.426149</td>\n",
       "      <td>8.124039</td>\n",
       "      <td>8.000000</td>\n",
       "    </tr>\n",
       "    <tr>\n",
       "      <th>3082</th>\n",
       "      <td>8.485281</td>\n",
       "      <td>8.717798</td>\n",
       "      <td>8.602325</td>\n",
       "      <td>8.426149</td>\n",
       "      <td>8.366600</td>\n",
       "      <td>8.717798</td>\n",
       "      <td>7.874008</td>\n",
       "      <td>8.602325</td>\n",
       "      <td>8.426149</td>\n",
       "      <td>8.774964</td>\n",
       "      <td>...</td>\n",
       "      <td>8.485281</td>\n",
       "      <td>8.062258</td>\n",
       "      <td>8.185352</td>\n",
       "      <td>8.062258</td>\n",
       "      <td>8.426149</td>\n",
       "      <td>8.485281</td>\n",
       "      <td>8.602325</td>\n",
       "      <td>8.426149</td>\n",
       "      <td>8.246211</td>\n",
       "      <td>8.000000</td>\n",
       "    </tr>\n",
       "  </tbody>\n",
       "</table>\n",
       "<p>3083 rows × 771 columns</p>\n",
       "</div>"
      ],
      "text/plain": [
       "           0         1         2         3         4         5         6    \\\n",
       "0     3.464102  3.872983  0.000000  3.605551  2.000000  0.000000  1.414214   \n",
       "1     4.000000  4.123106  1.732051  4.123106  2.236068  2.828427  1.414214   \n",
       "2     4.472136  4.123106  2.000000  4.358899  2.449490  5.099020  2.645751   \n",
       "3     4.472136  4.358899  2.000000  4.358899  2.449490  5.099020  2.645751   \n",
       "4     4.582576  4.582576  3.162278  4.472136  2.645751  5.385165  2.828427   \n",
       "...        ...       ...       ...       ...       ...       ...       ...   \n",
       "3078  8.306623  8.602325  8.426149  8.306623  8.185352  8.660254  7.681146   \n",
       "3079  8.426149  8.660254  8.485281  8.306623  8.246211  8.660254  7.745967   \n",
       "3080  8.485281  8.660254  8.485281  8.306623  8.246211  8.660254  7.810250   \n",
       "3081  8.485281  8.660254  8.544003  8.366600  8.246211  8.660254  7.810250   \n",
       "3082  8.485281  8.717798  8.602325  8.426149  8.366600  8.717798  7.874008   \n",
       "\n",
       "           7         8         9    ...       761       762       763  \\\n",
       "0     1.732051  1.414214  1.414214  ...  1.414214  2.000000  1.000000   \n",
       "1     2.236068  2.236068  1.732051  ...  1.732051  2.000000  1.000000   \n",
       "2     2.236068  3.000000  1.732051  ...  2.000000  2.000000  2.449490   \n",
       "3     2.236068  4.472136  2.828427  ...  2.236068  2.236068  2.645751   \n",
       "4     2.449490  4.472136  2.828427  ...  2.236068  2.449490  2.645751   \n",
       "...        ...       ...       ...  ...       ...       ...       ...   \n",
       "3078  8.426149  8.306623  8.660254  ...  8.426149  7.810250  8.000000   \n",
       "3079  8.426149  8.366600  8.660254  ...  8.426149  7.937254  8.000000   \n",
       "3080  8.485281  8.426149  8.717798  ...  8.426149  7.937254  8.000000   \n",
       "3081  8.544003  8.426149  8.717798  ...  8.485281  7.937254  8.124039   \n",
       "3082  8.602325  8.426149  8.774964  ...  8.485281  8.062258  8.185352   \n",
       "\n",
       "           764       765       766       767       768       769       770  \n",
       "0     1.414214  0.000000  3.162278  1.414214  2.000000  1.000000  2.236068  \n",
       "1     1.732051  0.000000  3.741657  2.000000  2.000000  3.316625  2.449490  \n",
       "2     1.732051  0.000000  3.741657  2.000000  2.000000  3.316625  2.645751  \n",
       "3     2.000000  0.000000  3.872983  2.000000  2.000000  3.464102  2.828427  \n",
       "4     2.828427  1.000000  3.872983  2.236068  2.000000  3.464102  2.828427  \n",
       "...        ...       ...       ...       ...       ...       ...       ...  \n",
       "3078  7.937254  8.062258  8.246211  8.366600  8.246211  7.937254  7.937254  \n",
       "3079  8.000000  8.124039  8.306623  8.366600  8.306623  8.000000  7.937254  \n",
       "3080  8.062258  8.124039  8.306623  8.426149  8.366600  8.000000  8.000000  \n",
       "3081  8.062258  8.426149  8.426149  8.485281  8.426149  8.124039  8.000000  \n",
       "3082  8.062258  8.426149  8.485281  8.602325  8.426149  8.246211  8.000000  \n",
       "\n",
       "[3083 rows x 771 columns]"
      ]
     },
     "execution_count": 93,
     "metadata": {},
     "output_type": "execute_result"
    }
   ],
   "source": [
    "x_ts_AD=pd.DataFrame(neighbors_k_ts)\n",
    "x_ts_AD"
   ]
  },
  {
   "cell_type": "code",
   "execution_count": 94,
   "metadata": {},
   "outputs": [
    {
     "name": "stdout",
     "output_type": "stream",
     "text": [
      "[3.464 3.873 0.    3.606 2.    0.    1.414 1.732 1.414 1.414 1.    1.\n",
      " 3.742 1.732 0.    0.    1.    2.    2.449 2.236 2.449 1.414 2.236 1.\n",
      " 4.472 1.    0.    4.123 1.414 2.449 1.732 2.646 3.317 3.742 1.732 1.414\n",
      " 2.449 1.732 1.732 1.732 2.646 1.414 2.236 2.646 2.646 2.236 1.414 1.732\n",
      " 1.414 0.    2.449 1.732 3.606 3.    2.646 0.    1.732 1.414 2.449 1.414\n",
      " 1.732 1.732 2.449 0.    1.732 4.    2.    1.414 0.    2.449 1.    1.414\n",
      " 0.    2.646 1.414 1.    1.732 2.449 3.162 1.414 0.    2.236 1.732 1.732\n",
      " 3.606 1.414 0.    1.    3.606 0.    0.    2.449 1.732 1.732 0.    3.873\n",
      " 2.    0.    0.    2.646 0.    3.742 0.    1.414 2.449 2.646 1.414 2.236\n",
      " 2.    1.    1.    1.732 2.449 0.    2.    1.414 2.    0.    2.449 0.\n",
      " 2.    0.    0.    2.828 2.828 2.828 1.    1.    2.828 0.    1.414 1.\n",
      " 1.732 1.414 3.606 1.    2.828 1.732 0.    0.    2.236 1.732 1.414 0.\n",
      " 2.    2.    0.    1.    2.236 1.    2.828 1.414 2.    3.606 2.449 1.\n",
      " 0.    2.    1.732 0.    1.414 1.414 2.    0.    0.    0.    1.414 3.464\n",
      " 1.732 0.    0.    2.236 1.    2.828 0.    0.    1.    2.646 2.646 2.236\n",
      " 0.    0.    2.    2.449 0.    1.    2.828 1.    2.236 2.    1.414 2.\n",
      " 0.    1.732 2.828 0.    0.    2.236 3.    1.414 0.    1.    0.    0.\n",
      " 0.    1.    0.    2.    1.    1.732 1.    0.    1.414 4.    1.732 2.\n",
      " 2.449 2.236 3.162 0.    1.    0.    1.    0.    1.    0.    0.    2.828\n",
      " 2.449 2.646 1.414 1.732 0.    0.    1.414 1.414 2.828 0.    1.414 0.\n",
      " 0.    0.    1.    3.606 2.    0.    0.    3.464 0.    0.    0.    0.\n",
      " 2.    0.    1.414 1.732 1.    0.    2.828 2.    3.162 1.732 1.    2.\n",
      " 0.    0.    0.    2.646 2.    2.646 1.414 1.414 3.162 0.    2.236 1.\n",
      " 2.449 1.732 0.    0.    0.    1.    1.732 2.    1.414 2.236 1.    2.\n",
      " 1.    0.    0.    2.    1.414 2.    0.    1.    1.    1.414 2.646 1.414\n",
      " 1.414 2.646 1.414 2.646 1.    1.414 0.    3.317 1.732 0.    0.    2.\n",
      " 1.    0.    0.    0.    0.    0.    0.    2.646 0.    1.414 2.646 2.449\n",
      " 0.    0.    2.    1.414 2.    2.449 2.    2.828 1.    3.464 0.    1.\n",
      " 1.414 0.    3.606 2.828 0.    2.    0.    2.    0.    0.    0.    1.414\n",
      " 1.414 1.414 1.    1.732 4.796 1.732 1.414 2.236 0.    2.236 2.646 1.\n",
      " 1.732 3.317 3.742 3.162 1.414 2.236 0.    1.    0.    1.    1.732 1.414\n",
      " 0.    2.646 0.    1.    0.    2.    1.    1.414 1.    3.162 2.828 0.\n",
      " 0.    1.    1.    0.    0.    1.732 1.414 0.    0.    2.449 0.    1.\n",
      " 0.    0.    3.162 0.    1.    0.    1.732 1.414 3.317 2.449 0.    1.414\n",
      " 1.732 1.732 0.    2.    2.236 1.    0.    1.    3.464 2.236 0.    2.\n",
      " 2.    5.745 2.449 1.    1.732 0.    1.414 2.236 1.732 1.732 1.732 0.\n",
      " 0.    1.732 1.414 2.828 0.    1.414 1.414 0.    1.414 1.414 0.    0.\n",
      " 0.    0.    1.732 2.828 0.    0.    1.414 0.    3.317 0.    2.    0.\n",
      " 2.646 1.    2.449 1.    1.    0.    0.    3.    0.    1.414 0.    2.236\n",
      " 2.828 2.236 2.646 1.414 0.    1.414 0.    0.    1.    0.    0.    1.414\n",
      " 3.317 2.    0.    1.732 2.    0.    1.732 0.    0.    1.414 0.    1.\n",
      " 1.732 1.732 0.    2.828 2.    1.414 0.    0.    0.    3.    2.    0.\n",
      " 1.    2.646 0.    2.236 0.    0.    1.414 2.236 0.    0.    0.    0.\n",
      " 1.414 2.449 1.414 0.    2.236 1.    2.449 2.449 2.449 1.732 1.732 2.646\n",
      " 1.732 0.    1.414 2.    0.    2.828 2.828 0.    0.    2.828 3.317 1.414\n",
      " 0.    0.    0.    1.732 1.    2.449 1.732 2.828 1.414 1.    0.    2.236\n",
      " 1.    2.    1.414 1.414 0.    1.    1.732 2.828 0.    0.    1.414 4.472\n",
      " 1.414 2.236 1.    0.    0.    2.    1.414 0.    0.    3.    1.414 2.\n",
      " 1.    0.    2.236 1.    1.414 0.    0.    2.828 1.414 0.    0.    2.646\n",
      " 3.464 0.    1.414 4.123 2.828 0.    2.828 2.646 0.    0.    1.    1.\n",
      " 0.    1.    0.    1.    2.    2.    2.236 0.    1.732 1.    1.414 1.414\n",
      " 1.732 2.    3.317 2.828 1.414 0.    0.    3.464 3.317 2.828 2.646 1.414\n",
      " 1.    0.    0.    0.    1.414 2.    1.732 1.    0.    0.    1.732 3.606\n",
      " 1.732 0.    0.    0.    2.236 0.    1.    3.    1.    1.732 1.    1.\n",
      " 4.472 1.414 0.    0.    0.    3.162 1.732 1.    0.    0.    1.    2.\n",
      " 1.    2.236 2.236 2.828 1.414 1.414 0.    0.    0.    2.828 1.732 1.414\n",
      " 1.    1.    1.    0.    2.    1.732 2.828 2.    1.414 1.    2.236 1.414\n",
      " 2.449 1.    1.732 1.    2.449 0.    1.414 0.    1.414 1.    0.    0.\n",
      " 0.    2.449 1.414 1.414 1.    0.    0.    0.    1.414 0.    2.449 0.\n",
      " 0.    1.732 0.    2.449 1.414 0.    2.236 0.    1.414 1.414 0.    1.414\n",
      " 0.    1.414 2.    1.    0.    0.    1.732 0.    0.    1.732 1.414 1.\n",
      " 0.    2.236 1.732 2.449 1.    1.732 2.236 3.317 1.414 1.732 1.    4.583\n",
      " 0.    1.    2.236 3.464 2.    2.    1.    1.414 2.236 2.    1.    1.732\n",
      " 2.646 0.    0.    2.236 3.    1.414 2.    1.    1.414 0.    3.162 1.414\n",
      " 2.    1.    2.236]\n"
     ]
    }
   ],
   "source": [
    "similarity_ts= neighbors_k_ts\n",
    "cpd_AD=similarity_ts[0,:]\n",
    "cpd_value = np.round(cpd_AD, 3)\n",
    "print(cpd_value)"
   ]
  },
  {
   "cell_type": "code",
   "execution_count": 95,
   "metadata": {},
   "outputs": [
    {
     "name": "stdout",
     "output_type": "stream",
     "text": [
      "[False False  True False False  True  True  True  True  True  True  True\n",
      " False  True  True  True  True False False False False  True False  True\n",
      " False  True  True False  True False  True False False False  True  True\n",
      " False  True  True  True False  True False False False False  True  True\n",
      "  True  True False  True False False False  True  True  True False  True\n",
      "  True  True False  True  True False False  True  True False  True  True\n",
      "  True False  True  True  True False False  True  True False  True  True\n",
      " False  True  True  True False  True  True False  True  True  True False\n",
      " False  True  True False  True False  True  True False False  True False\n",
      " False  True  True  True False  True False  True False  True False  True\n",
      " False  True  True False False False  True  True False  True  True  True\n",
      "  True  True False  True False  True  True  True False  True  True  True\n",
      " False False  True  True False  True False  True False False False  True\n",
      "  True False  True  True  True  True False  True  True  True  True False\n",
      "  True  True  True False  True False  True  True  True False False False\n",
      "  True  True False False  True  True False  True False False  True False\n",
      "  True  True False  True  True False False  True  True  True  True  True\n",
      "  True  True  True False  True  True  True  True  True False  True False\n",
      " False False False  True  True  True  True  True  True  True  True False\n",
      " False False  True  True  True  True  True  True False  True  True  True\n",
      "  True  True  True False False  True  True False  True  True  True  True\n",
      " False  True  True  True  True  True False False False  True  True False\n",
      "  True  True  True False False False  True  True False  True False  True\n",
      " False  True  True  True  True  True  True False  True False  True False\n",
      "  True  True  True False  True False  True  True  True  True False  True\n",
      "  True False  True False  True  True  True False  True  True  True False\n",
      "  True  True  True  True  True  True  True False  True  True False False\n",
      "  True  True False  True False False False False  True False  True  True\n",
      "  True  True False False  True False  True False  True  True  True  True\n",
      "  True  True  True  True False  True  True False  True False False  True\n",
      "  True False False False  True False  True  True  True  True  True  True\n",
      "  True False  True  True  True False  True  True  True False False  True\n",
      "  True  True  True  True  True  True  True  True  True False  True  True\n",
      "  True  True False  True  True  True  True  True False False  True  True\n",
      "  True  True  True False False  True  True  True False False  True False\n",
      " False False False  True  True  True  True False  True  True  True  True\n",
      "  True  True  True False  True  True  True  True  True  True  True  True\n",
      "  True  True  True False  True  True  True  True False  True False  True\n",
      " False  True False  True  True  True  True False  True  True  True False\n",
      " False False False  True  True  True  True  True  True  True  True  True\n",
      " False False  True  True False  True  True  True  True  True  True  True\n",
      "  True  True  True False False  True  True  True  True False False  True\n",
      "  True False  True False  True  True  True False  True  True  True  True\n",
      "  True False  True  True False  True False False False  True  True False\n",
      "  True  True  True False  True False False  True  True False False  True\n",
      "  True  True  True  True  True False  True False  True  True  True False\n",
      "  True False  True  True  True  True  True False  True  True  True False\n",
      "  True False  True  True  True False  True  True  True False  True False\n",
      "  True  True False  True  True  True  True False  True  True  True False\n",
      " False  True  True False False  True False False  True  True  True  True\n",
      "  True  True  True  True False False False  True  True  True  True  True\n",
      "  True False False False  True  True  True False False False False  True\n",
      "  True  True  True  True  True False  True  True  True  True  True False\n",
      "  True  True  True  True False  True  True False  True  True  True  True\n",
      " False  True  True  True  True False  True  True  True  True  True False\n",
      "  True False False False  True  True  True  True  True False  True  True\n",
      "  True  True  True  True False  True False False  True  True False  True\n",
      " False  True  True  True False  True  True  True  True  True  True  True\n",
      "  True False  True  True  True  True  True  True  True  True False  True\n",
      "  True  True  True False  True  True False  True  True  True  True  True\n",
      "  True  True False  True  True  True  True  True  True  True  True  True\n",
      "  True False  True False  True  True False False  True  True  True False\n",
      "  True  True False False False False  True  True False False  True  True\n",
      " False  True  True False False  True False  True  True  True False  True\n",
      " False  True False]\n"
     ]
    }
   ],
   "source": [
    "cpd_AD = np.where(cpd_value <= model_AD_limit, True, False)\n",
    "print(cpd_AD)"
   ]
  },
  {
   "cell_type": "code",
   "execution_count": 96,
   "metadata": {},
   "outputs": [
    {
     "name": "stdout",
     "output_type": "stream",
     "text": [
      "Coverage =  0.67\n"
     ]
    }
   ],
   "source": [
    "print(\"Coverage = \", round(sum(cpd_AD) / len(cpd_AD), 2))"
   ]
  },
  {
   "cell_type": "code",
   "execution_count": 97,
   "metadata": {},
   "outputs": [
    {
     "name": "stdout",
     "output_type": "stream",
     "text": [
      "Indices of substances included in AD =  [  2   5   6   7   8   9  10  11  13  14  15  16  21  23  25  26  28  30\n",
      "  34  35  37  38  39  41  46  47  48  49  51  55  56  57  59  60  61  63\n",
      "  64  67  68  70  71  72  74  75  76  79  80  82  83  85  86  87  89  90\n",
      "  92  93  94  97  98 100 102 103 106 109 110 111 113 115 117 119 121 122\n",
      " 126 127 129 130 131 132 133 135 137 138 139 141 142 143 146 147 149 151\n",
      " 155 156 158 159 160 161 163 164 165 166 168 169 170 172 174 175 176 180\n",
      " 181 184 185 187 190 192 193 195 196 199 200 201 202 203 204 205 206 208\n",
      " 209 210 211 212 214 219 220 221 222 223 224 225 226 230 231 232 233 234\n",
      " 235 237 238 239 240 241 242 245 246 248 249 250 251 253 254 255 256 257\n",
      " 261 262 264 265 266 270 271 273 275 277 278 279 280 281 282 284 286 288\n",
      " 289 290 292 294 295 296 297 299 300 302 304 305 306 308 309 310 312 313\n",
      " 314 315 316 317 318 320 321 324 325 327 332 334 335 336 337 340 342 344\n",
      " 345 346 347 348 349 350 351 353 354 356 359 360 364 366 367 368 369 370\n",
      " 371 372 374 375 376 378 379 380 383 384 385 386 387 388 389 390 391 392\n",
      " 394 395 396 397 399 400 401 402 403 406 407 408 409 410 413 414 415 418\n",
      " 423 424 425 426 428 429 430 431 432 433 434 436 437 438 439 440 441 442\n",
      " 443 444 445 446 448 449 450 451 453 455 457 459 460 461 462 464 465 466\n",
      " 471 472 473 474 475 476 477 478 479 482 483 485 486 487 488 489 490 491\n",
      " 492 493 494 497 498 499 500 503 504 506 508 509 510 512 513 514 515 516\n",
      " 518 519 521 525 526 528 529 530 532 535 536 539 540 541 542 543 544 546\n",
      " 548 549 550 552 554 555 556 557 558 560 561 562 564 566 567 568 570 571\n",
      " 572 574 576 577 579 580 581 582 584 585 586 589 590 593 596 597 598 599\n",
      " 600 601 602 603 607 608 609 610 611 612 616 617 618 623 624 625 626 627\n",
      " 628 630 631 632 633 634 636 637 638 639 641 642 644 645 646 647 649 650\n",
      " 651 652 654 655 656 657 658 660 664 665 666 667 668 670 671 672 673 674\n",
      " 675 677 680 681 683 685 686 687 689 690 691 692 693 694 695 696 698 699\n",
      " 700 701 702 703 704 705 707 708 709 710 712 713 715 716 717 718 719 720\n",
      " 721 723 724 725 726 727 728 729 730 731 732 734 736 737 740 741 742 744\n",
      " 745 750 751 754 755 757 758 761 763 764 765 767 769]\n"
     ]
    }
   ],
   "source": [
    "print(\"Indices of substances included in AD = \", np.where(cpd_AD != 0)[0])"
   ]
  },
  {
   "cell_type": "code",
   "execution_count": 98,
   "metadata": {},
   "outputs": [],
   "source": [
    "out_Ad=list(np.where(cpd_AD == 0)[0])"
   ]
  },
  {
   "cell_type": "markdown",
   "metadata": {},
   "source": [
    "# 12. Prediction only for molecules included in  AD"
   ]
  },
  {
   "cell_type": "code",
   "execution_count": 99,
   "metadata": {},
   "outputs": [],
   "source": [
    "y_pred_MLPR_ad=list(y_pred_MLPR)"
   ]
  },
  {
   "cell_type": "code",
   "execution_count": 100,
   "metadata": {},
   "outputs": [],
   "source": [
    "y_pred_MLPR_ad[:] = [x for i,x in enumerate(y_pred_MLPR_ad) if i not in out_Ad]"
   ]
  },
  {
   "cell_type": "code",
   "execution_count": 101,
   "metadata": {},
   "outputs": [
    {
     "data": {
      "text/plain": [
       "517"
      ]
     },
     "execution_count": 101,
     "metadata": {},
     "output_type": "execute_result"
    }
   ],
   "source": [
    "len(y_pred_MLPR_ad)"
   ]
  },
  {
   "cell_type": "code",
   "execution_count": 102,
   "metadata": {},
   "outputs": [],
   "source": [
    "y_ts_ad=list(y_ts)"
   ]
  },
  {
   "cell_type": "code",
   "execution_count": 103,
   "metadata": {},
   "outputs": [],
   "source": [
    "y_ts_ad[:] = [x for i,x in enumerate(y_ts_ad) if i not in out_Ad]"
   ]
  },
  {
   "cell_type": "code",
   "execution_count": 104,
   "metadata": {},
   "outputs": [
    {
     "data": {
      "text/plain": [
       "517"
      ]
     },
     "execution_count": 104,
     "metadata": {},
     "output_type": "execute_result"
    }
   ],
   "source": [
    "len(y_ts_ad)"
   ]
  },
  {
   "cell_type": "code",
   "execution_count": 105,
   "metadata": {},
   "outputs": [
    {
     "data": {
      "text/plain": [
       "0.59"
      ]
     },
     "execution_count": 105,
     "metadata": {},
     "output_type": "execute_result"
    }
   ],
   "source": [
    "Q2_TS = round(r2_score(y_ts_ad, y_pred_MLPR_ad), 2)\n",
    "Q2_TS"
   ]
  },
  {
   "cell_type": "code",
   "execution_count": 106,
   "metadata": {
    "scrolled": true
   },
   "outputs": [
    {
     "data": {
      "text/plain": [
       "0.71"
      ]
     },
     "execution_count": 106,
     "metadata": {},
     "output_type": "execute_result"
    }
   ],
   "source": [
    "RMSE_TS=round(np.sqrt(mean_absolute_error(y_ts_ad, y_pred_MLPR_ad)), 2)\n",
    "RMSE_TS"
   ]
  },
  {
   "cell_type": "markdown",
   "metadata": {},
   "source": [
    "# k-nearest neighbors"
   ]
  },
  {
   "cell_type": "code",
   "execution_count": 117,
   "metadata": {},
   "outputs": [],
   "source": [
    "k_range = list(range(1, 31))\n",
    "param_grid = dict(n_neighbors=k_range)"
   ]
  },
  {
   "cell_type": "code",
   "execution_count": 118,
   "metadata": {},
   "outputs": [],
   "source": [
    "m = GridSearchCV(KNeighborsRegressor(), param_grid, n_jobs=-1, cv=cv, verbose=1)"
   ]
  },
  {
   "cell_type": "code",
   "execution_count": 119,
   "metadata": {},
   "outputs": [
    {
     "name": "stdout",
     "output_type": "stream",
     "text": [
      "Fitting 5 folds for each of 30 candidates, totalling 150 fits\n"
     ]
    },
    {
     "data": {
      "text/html": [
       "<style>#sk-container-id-4 {color: black;}#sk-container-id-4 pre{padding: 0;}#sk-container-id-4 div.sk-toggleable {background-color: white;}#sk-container-id-4 label.sk-toggleable__label {cursor: pointer;display: block;width: 100%;margin-bottom: 0;padding: 0.3em;box-sizing: border-box;text-align: center;}#sk-container-id-4 label.sk-toggleable__label-arrow:before {content: \"▸\";float: left;margin-right: 0.25em;color: #696969;}#sk-container-id-4 label.sk-toggleable__label-arrow:hover:before {color: black;}#sk-container-id-4 div.sk-estimator:hover label.sk-toggleable__label-arrow:before {color: black;}#sk-container-id-4 div.sk-toggleable__content {max-height: 0;max-width: 0;overflow: hidden;text-align: left;background-color: #f0f8ff;}#sk-container-id-4 div.sk-toggleable__content pre {margin: 0.2em;color: black;border-radius: 0.25em;background-color: #f0f8ff;}#sk-container-id-4 input.sk-toggleable__control:checked~div.sk-toggleable__content {max-height: 200px;max-width: 100%;overflow: auto;}#sk-container-id-4 input.sk-toggleable__control:checked~label.sk-toggleable__label-arrow:before {content: \"▾\";}#sk-container-id-4 div.sk-estimator input.sk-toggleable__control:checked~label.sk-toggleable__label {background-color: #d4ebff;}#sk-container-id-4 div.sk-label input.sk-toggleable__control:checked~label.sk-toggleable__label {background-color: #d4ebff;}#sk-container-id-4 input.sk-hidden--visually {border: 0;clip: rect(1px 1px 1px 1px);clip: rect(1px, 1px, 1px, 1px);height: 1px;margin: -1px;overflow: hidden;padding: 0;position: absolute;width: 1px;}#sk-container-id-4 div.sk-estimator {font-family: monospace;background-color: #f0f8ff;border: 1px dotted black;border-radius: 0.25em;box-sizing: border-box;margin-bottom: 0.5em;}#sk-container-id-4 div.sk-estimator:hover {background-color: #d4ebff;}#sk-container-id-4 div.sk-parallel-item::after {content: \"\";width: 100%;border-bottom: 1px solid gray;flex-grow: 1;}#sk-container-id-4 div.sk-label:hover label.sk-toggleable__label {background-color: #d4ebff;}#sk-container-id-4 div.sk-serial::before {content: \"\";position: absolute;border-left: 1px solid gray;box-sizing: border-box;top: 0;bottom: 0;left: 50%;z-index: 0;}#sk-container-id-4 div.sk-serial {display: flex;flex-direction: column;align-items: center;background-color: white;padding-right: 0.2em;padding-left: 0.2em;position: relative;}#sk-container-id-4 div.sk-item {position: relative;z-index: 1;}#sk-container-id-4 div.sk-parallel {display: flex;align-items: stretch;justify-content: center;background-color: white;position: relative;}#sk-container-id-4 div.sk-item::before, #sk-container-id-4 div.sk-parallel-item::before {content: \"\";position: absolute;border-left: 1px solid gray;box-sizing: border-box;top: 0;bottom: 0;left: 50%;z-index: -1;}#sk-container-id-4 div.sk-parallel-item {display: flex;flex-direction: column;z-index: 1;position: relative;background-color: white;}#sk-container-id-4 div.sk-parallel-item:first-child::after {align-self: flex-end;width: 50%;}#sk-container-id-4 div.sk-parallel-item:last-child::after {align-self: flex-start;width: 50%;}#sk-container-id-4 div.sk-parallel-item:only-child::after {width: 0;}#sk-container-id-4 div.sk-dashed-wrapped {border: 1px dashed gray;margin: 0 0.4em 0.5em 0.4em;box-sizing: border-box;padding-bottom: 0.4em;background-color: white;}#sk-container-id-4 div.sk-label label {font-family: monospace;font-weight: bold;display: inline-block;line-height: 1.2em;}#sk-container-id-4 div.sk-label-container {text-align: center;}#sk-container-id-4 div.sk-container {/* jupyter's `normalize.less` sets `[hidden] { display: none; }` but bootstrap.min.css set `[hidden] { display: none !important; }` so we also need the `!important` here to be able to override the default hidden behavior on the sphinx rendered scikit-learn.org. See: https://github.com/scikit-learn/scikit-learn/issues/21755 */display: inline-block !important;position: relative;}#sk-container-id-4 div.sk-text-repr-fallback {display: none;}</style><div id=\"sk-container-id-4\" class=\"sk-top-container\"><div class=\"sk-text-repr-fallback\"><pre>GridSearchCV(cv=KFold(n_splits=5, random_state=42, shuffle=True),\n",
       "             estimator=KNeighborsRegressor(), n_jobs=-1,\n",
       "             param_grid={&#x27;n_neighbors&#x27;: [1, 2, 3, 4, 5, 6, 7, 8, 9, 10, 11, 12,\n",
       "                                         13, 14, 15, 16, 17, 18, 19, 20, 21, 22,\n",
       "                                         23, 24, 25, 26, 27, 28, 29, 30]},\n",
       "             verbose=1)</pre><b>In a Jupyter environment, please rerun this cell to show the HTML representation or trust the notebook. <br />On GitHub, the HTML representation is unable to render, please try loading this page with nbviewer.org.</b></div><div class=\"sk-container\" hidden><div class=\"sk-item sk-dashed-wrapped\"><div class=\"sk-label-container\"><div class=\"sk-label sk-toggleable\"><input class=\"sk-toggleable__control sk-hidden--visually\" id=\"sk-estimator-id-10\" type=\"checkbox\" ><label for=\"sk-estimator-id-10\" class=\"sk-toggleable__label sk-toggleable__label-arrow\">GridSearchCV</label><div class=\"sk-toggleable__content\"><pre>GridSearchCV(cv=KFold(n_splits=5, random_state=42, shuffle=True),\n",
       "             estimator=KNeighborsRegressor(), n_jobs=-1,\n",
       "             param_grid={&#x27;n_neighbors&#x27;: [1, 2, 3, 4, 5, 6, 7, 8, 9, 10, 11, 12,\n",
       "                                         13, 14, 15, 16, 17, 18, 19, 20, 21, 22,\n",
       "                                         23, 24, 25, 26, 27, 28, 29, 30]},\n",
       "             verbose=1)</pre></div></div></div><div class=\"sk-parallel\"><div class=\"sk-parallel-item\"><div class=\"sk-item\"><div class=\"sk-label-container\"><div class=\"sk-label sk-toggleable\"><input class=\"sk-toggleable__control sk-hidden--visually\" id=\"sk-estimator-id-11\" type=\"checkbox\" ><label for=\"sk-estimator-id-11\" class=\"sk-toggleable__label sk-toggleable__label-arrow\">estimator: KNeighborsRegressor</label><div class=\"sk-toggleable__content\"><pre>KNeighborsRegressor()</pre></div></div></div><div class=\"sk-serial\"><div class=\"sk-item\"><div class=\"sk-estimator sk-toggleable\"><input class=\"sk-toggleable__control sk-hidden--visually\" id=\"sk-estimator-id-12\" type=\"checkbox\" ><label for=\"sk-estimator-id-12\" class=\"sk-toggleable__label sk-toggleable__label-arrow\">KNeighborsRegressor</label><div class=\"sk-toggleable__content\"><pre>KNeighborsRegressor()</pre></div></div></div></div></div></div></div></div></div></div>"
      ],
      "text/plain": [
       "GridSearchCV(cv=KFold(n_splits=5, random_state=42, shuffle=True),\n",
       "             estimator=KNeighborsRegressor(), n_jobs=-1,\n",
       "             param_grid={'n_neighbors': [1, 2, 3, 4, 5, 6, 7, 8, 9, 10, 11, 12,\n",
       "                                         13, 14, 15, 16, 17, 18, 19, 20, 21, 22,\n",
       "                                         23, 24, 25, 26, 27, 28, 29, 30]},\n",
       "             verbose=1)"
      ]
     },
     "execution_count": 119,
     "metadata": {},
     "output_type": "execute_result"
    }
   ],
   "source": [
    "m.fit(x_tr, y_tr)"
   ]
  },
  {
   "cell_type": "code",
   "execution_count": 120,
   "metadata": {},
   "outputs": [],
   "source": [
    "best_kNN = m.best_estimator_"
   ]
  },
  {
   "cell_type": "code",
   "execution_count": 121,
   "metadata": {},
   "outputs": [
    {
     "data": {
      "text/plain": [
       "{'n_neighbors': 4}"
      ]
     },
     "execution_count": 121,
     "metadata": {},
     "output_type": "execute_result"
    }
   ],
   "source": [
    "m.best_params_"
   ]
  },
  {
   "cell_type": "code",
   "execution_count": 122,
   "metadata": {},
   "outputs": [],
   "source": [
    "y_pred_ws_kNN = best_kNN.predict(x_tr)"
   ]
  },
  {
   "cell_type": "code",
   "execution_count": 123,
   "metadata": {},
   "outputs": [
    {
     "data": {
      "text/plain": [
       "0.75"
      ]
     },
     "execution_count": 123,
     "metadata": {},
     "output_type": "execute_result"
    }
   ],
   "source": [
    "R2_WS = round(r2_score(y_tr, y_pred_ws_kNN), 2)\n",
    "R2_WS"
   ]
  },
  {
   "cell_type": "code",
   "execution_count": 124,
   "metadata": {},
   "outputs": [
    {
     "data": {
      "text/plain": [
       "0.63"
      ]
     },
     "execution_count": 124,
     "metadata": {},
     "output_type": "execute_result"
    }
   ],
   "source": [
    "RMSE_WS=round(np.sqrt(mean_absolute_error(y_tr, y_pred_ws_kNN)), 2)\n",
    "RMSE_WS"
   ]
  },
  {
   "cell_type": "code",
   "execution_count": 125,
   "metadata": {},
   "outputs": [],
   "source": [
    "y_pred_CV_kNN = cross_val_predict(best_kNN, x_tr, y_tr, cv=cv)"
   ]
  },
  {
   "cell_type": "code",
   "execution_count": 126,
   "metadata": {},
   "outputs": [
    {
     "data": {
      "text/plain": [
       "array([4.2312503, 7.1425   , 5.71     , ..., 6.54     , 7.8425   ,\n",
       "       7.075    ], dtype=float32)"
      ]
     },
     "execution_count": 126,
     "metadata": {},
     "output_type": "execute_result"
    }
   ],
   "source": [
    "y_pred_CV_kNN"
   ]
  },
  {
   "cell_type": "code",
   "execution_count": 127,
   "metadata": {},
   "outputs": [
    {
     "data": {
      "text/plain": [
       "0.55"
      ]
     },
     "execution_count": 127,
     "metadata": {},
     "output_type": "execute_result"
    }
   ],
   "source": [
    "Q2_CV = round(r2_score(y_tr, y_pred_CV_kNN), 2)\n",
    "Q2_CV"
   ]
  },
  {
   "cell_type": "code",
   "execution_count": 128,
   "metadata": {},
   "outputs": [
    {
     "data": {
      "text/plain": [
       "0.73"
      ]
     },
     "execution_count": 128,
     "metadata": {},
     "output_type": "execute_result"
    }
   ],
   "source": [
    "RMSE_CV=round(np.sqrt(mean_absolute_error(y_tr, y_pred_CV_kNN)), 2)\n",
    "RMSE_CV"
   ]
  },
  {
   "cell_type": "markdown",
   "metadata": {},
   "source": [
    "# 9. Prediction for test set's molecules"
   ]
  },
  {
   "cell_type": "code",
   "execution_count": 129,
   "metadata": {},
   "outputs": [],
   "source": [
    "x_ts = np.array(x_ts, dtype=np.float32)\n",
    "y_ts = np.array(y_ts, dtype=np.float32)"
   ]
  },
  {
   "cell_type": "code",
   "execution_count": 130,
   "metadata": {},
   "outputs": [],
   "source": [
    "y_pred_kNN = best_kNN.predict(x_ts)"
   ]
  },
  {
   "cell_type": "code",
   "execution_count": 131,
   "metadata": {},
   "outputs": [
    {
     "data": {
      "text/plain": [
       "0.52"
      ]
     },
     "execution_count": 131,
     "metadata": {},
     "output_type": "execute_result"
    }
   ],
   "source": [
    "Q2_TS = round(r2_score(y_ts, y_pred_kNN), 2)\n",
    "Q2_TS"
   ]
  },
  {
   "cell_type": "code",
   "execution_count": 132,
   "metadata": {},
   "outputs": [
    {
     "data": {
      "text/plain": [
       "0.74"
      ]
     },
     "execution_count": 132,
     "metadata": {},
     "output_type": "execute_result"
    }
   ],
   "source": [
    "RMSE_TS=round(np.sqrt(mean_absolute_error(y_ts, y_pred_kNN)), 2)\n",
    "RMSE_TS"
   ]
  },
  {
   "cell_type": "markdown",
   "metadata": {},
   "source": [
    "# save the model to disk"
   ]
  },
  {
   "cell_type": "code",
   "execution_count": 133,
   "metadata": {},
   "outputs": [],
   "source": [
    "pickle.dump(best_kNN, open('Models/MACCS/HDAC6_kNN_MACCS.pkl', 'wb'))"
   ]
  },
  {
   "cell_type": "markdown",
   "metadata": {},
   "source": [
    "# load the model from disk"
   ]
  },
  {
   "cell_type": "code",
   "execution_count": 190,
   "metadata": {},
   "outputs": [],
   "source": [
    "best_kNN = pickle.load(open('Models/MACCS/HDAC6_kNN_MACCS.pkl', 'rb'))"
   ]
  },
  {
   "cell_type": "markdown",
   "metadata": {},
   "source": [
    "# 10. Y-randomization MLPR"
   ]
  },
  {
   "cell_type": "code",
   "execution_count": 134,
   "metadata": {},
   "outputs": [
    {
     "name": "stderr",
     "output_type": "stream",
     "text": [
      "[Parallel(n_jobs=-1)]: Using backend LokyBackend with 16 concurrent workers.\n",
      "[Parallel(n_jobs=-1)]: Done  18 tasks      | elapsed:    0.3s\n"
     ]
    },
    {
     "name": "stdout",
     "output_type": "stream",
     "text": [
      "True score =  0.55 \n",
      "Y-randomization =  -0.25 \n",
      "p-value =  0.0196\n"
     ]
    },
    {
     "name": "stderr",
     "output_type": "stream",
     "text": [
      "[Parallel(n_jobs=-1)]: Done  50 out of  50 | elapsed:    0.6s finished\n"
     ]
    }
   ],
   "source": [
    "permutations = 50\n",
    "score, permutation_scores, pvalue = permutation_test_score(best_kNN, x_tr, y_tr,\n",
    "                                                           cv=cv, scoring='r2',\n",
    "                                                           n_permutations=permutations,\n",
    "                                                           n_jobs=-1,\n",
    "                                                           verbose=1,\n",
    "                                                           random_state=seed)\n",
    "print('True score = ', score.round(2),\n",
    "      '\\nY-randomization = ', np.mean(permutation_scores).round(2),\n",
    "      '\\np-value = ', pvalue.round(4))"
   ]
  },
  {
   "cell_type": "markdown",
   "metadata": {},
   "source": [
    "# 11. Estimating applicability domain. Method - Euclidian distances, K=1"
   ]
  },
  {
   "cell_type": "code",
   "execution_count": 135,
   "metadata": {},
   "outputs": [],
   "source": [
    "neighbors_k= pairwise_distances(x_tr, n_jobs=-1)\n",
    "neighbors_k.sort(0)"
   ]
  },
  {
   "cell_type": "code",
   "execution_count": 136,
   "metadata": {},
   "outputs": [
    {
     "data": {
      "text/html": [
       "<div>\n",
       "<style scoped>\n",
       "    .dataframe tbody tr th:only-of-type {\n",
       "        vertical-align: middle;\n",
       "    }\n",
       "\n",
       "    .dataframe tbody tr th {\n",
       "        vertical-align: top;\n",
       "    }\n",
       "\n",
       "    .dataframe thead th {\n",
       "        text-align: right;\n",
       "    }\n",
       "</style>\n",
       "<table border=\"1\" class=\"dataframe\">\n",
       "  <thead>\n",
       "    <tr style=\"text-align: right;\">\n",
       "      <th></th>\n",
       "      <th>0</th>\n",
       "      <th>1</th>\n",
       "      <th>2</th>\n",
       "      <th>3</th>\n",
       "      <th>4</th>\n",
       "      <th>5</th>\n",
       "      <th>6</th>\n",
       "      <th>7</th>\n",
       "      <th>8</th>\n",
       "      <th>9</th>\n",
       "      <th>...</th>\n",
       "      <th>3073</th>\n",
       "      <th>3074</th>\n",
       "      <th>3075</th>\n",
       "      <th>3076</th>\n",
       "      <th>3077</th>\n",
       "      <th>3078</th>\n",
       "      <th>3079</th>\n",
       "      <th>3080</th>\n",
       "      <th>3081</th>\n",
       "      <th>3082</th>\n",
       "    </tr>\n",
       "  </thead>\n",
       "  <tbody>\n",
       "    <tr>\n",
       "      <th>0</th>\n",
       "      <td>0.000000</td>\n",
       "      <td>0.000000</td>\n",
       "      <td>0.000000</td>\n",
       "      <td>0.000000</td>\n",
       "      <td>0.000000</td>\n",
       "      <td>0.000000</td>\n",
       "      <td>0.000000</td>\n",
       "      <td>0.000000</td>\n",
       "      <td>0.000000</td>\n",
       "      <td>0.000000</td>\n",
       "      <td>...</td>\n",
       "      <td>0.000000</td>\n",
       "      <td>0.000000</td>\n",
       "      <td>0.000000</td>\n",
       "      <td>0.000000</td>\n",
       "      <td>0.000000</td>\n",
       "      <td>0.000000</td>\n",
       "      <td>0.000000</td>\n",
       "      <td>0.000000</td>\n",
       "      <td>0.000000</td>\n",
       "      <td>0.000000</td>\n",
       "    </tr>\n",
       "    <tr>\n",
       "      <th>1</th>\n",
       "      <td>2.236068</td>\n",
       "      <td>4.123106</td>\n",
       "      <td>3.316625</td>\n",
       "      <td>1.414214</td>\n",
       "      <td>5.099020</td>\n",
       "      <td>2.449490</td>\n",
       "      <td>3.464102</td>\n",
       "      <td>2.236068</td>\n",
       "      <td>2.828427</td>\n",
       "      <td>3.872983</td>\n",
       "      <td>...</td>\n",
       "      <td>1.000000</td>\n",
       "      <td>1.414214</td>\n",
       "      <td>2.000000</td>\n",
       "      <td>2.000000</td>\n",
       "      <td>0.000000</td>\n",
       "      <td>1.414214</td>\n",
       "      <td>1.414214</td>\n",
       "      <td>2.828427</td>\n",
       "      <td>1.414214</td>\n",
       "      <td>2.449490</td>\n",
       "    </tr>\n",
       "    <tr>\n",
       "      <th>2</th>\n",
       "      <td>3.464102</td>\n",
       "      <td>4.242640</td>\n",
       "      <td>3.464102</td>\n",
       "      <td>1.732051</td>\n",
       "      <td>5.477226</td>\n",
       "      <td>3.872983</td>\n",
       "      <td>3.872983</td>\n",
       "      <td>2.449490</td>\n",
       "      <td>5.099020</td>\n",
       "      <td>4.582576</td>\n",
       "      <td>...</td>\n",
       "      <td>2.828427</td>\n",
       "      <td>2.828427</td>\n",
       "      <td>2.449490</td>\n",
       "      <td>2.000000</td>\n",
       "      <td>0.000000</td>\n",
       "      <td>2.828427</td>\n",
       "      <td>1.732051</td>\n",
       "      <td>3.741657</td>\n",
       "      <td>1.732051</td>\n",
       "      <td>2.449490</td>\n",
       "    </tr>\n",
       "    <tr>\n",
       "      <th>3</th>\n",
       "      <td>3.605551</td>\n",
       "      <td>4.472136</td>\n",
       "      <td>3.872983</td>\n",
       "      <td>1.732051</td>\n",
       "      <td>5.567764</td>\n",
       "      <td>3.872983</td>\n",
       "      <td>4.000000</td>\n",
       "      <td>2.449490</td>\n",
       "      <td>5.099020</td>\n",
       "      <td>4.582576</td>\n",
       "      <td>...</td>\n",
       "      <td>2.828427</td>\n",
       "      <td>3.000000</td>\n",
       "      <td>2.449490</td>\n",
       "      <td>2.449490</td>\n",
       "      <td>0.000000</td>\n",
       "      <td>3.000000</td>\n",
       "      <td>2.236068</td>\n",
       "      <td>3.872983</td>\n",
       "      <td>2.236068</td>\n",
       "      <td>2.645751</td>\n",
       "    </tr>\n",
       "    <tr>\n",
       "      <th>4</th>\n",
       "      <td>4.000000</td>\n",
       "      <td>4.472136</td>\n",
       "      <td>4.123106</td>\n",
       "      <td>1.732051</td>\n",
       "      <td>5.744563</td>\n",
       "      <td>4.690416</td>\n",
       "      <td>4.000000</td>\n",
       "      <td>2.645751</td>\n",
       "      <td>5.099020</td>\n",
       "      <td>4.690416</td>\n",
       "      <td>...</td>\n",
       "      <td>2.828427</td>\n",
       "      <td>3.162278</td>\n",
       "      <td>3.000000</td>\n",
       "      <td>2.449490</td>\n",
       "      <td>1.000000</td>\n",
       "      <td>3.000000</td>\n",
       "      <td>2.449490</td>\n",
       "      <td>4.242640</td>\n",
       "      <td>2.449490</td>\n",
       "      <td>2.645751</td>\n",
       "    </tr>\n",
       "    <tr>\n",
       "      <th>...</th>\n",
       "      <td>...</td>\n",
       "      <td>...</td>\n",
       "      <td>...</td>\n",
       "      <td>...</td>\n",
       "      <td>...</td>\n",
       "      <td>...</td>\n",
       "      <td>...</td>\n",
       "      <td>...</td>\n",
       "      <td>...</td>\n",
       "      <td>...</td>\n",
       "      <td>...</td>\n",
       "      <td>...</td>\n",
       "      <td>...</td>\n",
       "      <td>...</td>\n",
       "      <td>...</td>\n",
       "      <td>...</td>\n",
       "      <td>...</td>\n",
       "      <td>...</td>\n",
       "      <td>...</td>\n",
       "      <td>...</td>\n",
       "      <td>...</td>\n",
       "    </tr>\n",
       "    <tr>\n",
       "      <th>3078</th>\n",
       "      <td>8.062258</td>\n",
       "      <td>7.937254</td>\n",
       "      <td>8.000000</td>\n",
       "      <td>8.426149</td>\n",
       "      <td>9.380832</td>\n",
       "      <td>8.124039</td>\n",
       "      <td>8.124039</td>\n",
       "      <td>7.874008</td>\n",
       "      <td>8.831760</td>\n",
       "      <td>7.874008</td>\n",
       "      <td>...</td>\n",
       "      <td>7.937254</td>\n",
       "      <td>8.306623</td>\n",
       "      <td>8.306623</td>\n",
       "      <td>7.937254</td>\n",
       "      <td>8.000000</td>\n",
       "      <td>8.306623</td>\n",
       "      <td>8.246211</td>\n",
       "      <td>8.062258</td>\n",
       "      <td>8.062258</td>\n",
       "      <td>7.937254</td>\n",
       "    </tr>\n",
       "    <tr>\n",
       "      <th>3079</th>\n",
       "      <td>8.124039</td>\n",
       "      <td>8.000000</td>\n",
       "      <td>8.062258</td>\n",
       "      <td>8.426149</td>\n",
       "      <td>9.433981</td>\n",
       "      <td>8.124039</td>\n",
       "      <td>8.124039</td>\n",
       "      <td>7.874008</td>\n",
       "      <td>8.831760</td>\n",
       "      <td>7.874008</td>\n",
       "      <td>...</td>\n",
       "      <td>7.937254</td>\n",
       "      <td>8.366600</td>\n",
       "      <td>8.366600</td>\n",
       "      <td>7.937254</td>\n",
       "      <td>8.000000</td>\n",
       "      <td>8.306623</td>\n",
       "      <td>8.246211</td>\n",
       "      <td>8.062258</td>\n",
       "      <td>8.124039</td>\n",
       "      <td>7.937254</td>\n",
       "    </tr>\n",
       "    <tr>\n",
       "      <th>3080</th>\n",
       "      <td>8.185352</td>\n",
       "      <td>8.000000</td>\n",
       "      <td>8.124039</td>\n",
       "      <td>8.426149</td>\n",
       "      <td>9.539392</td>\n",
       "      <td>8.124039</td>\n",
       "      <td>8.185352</td>\n",
       "      <td>7.874008</td>\n",
       "      <td>8.831760</td>\n",
       "      <td>8.000000</td>\n",
       "      <td>...</td>\n",
       "      <td>8.000000</td>\n",
       "      <td>8.426149</td>\n",
       "      <td>8.602325</td>\n",
       "      <td>8.000000</td>\n",
       "      <td>8.124039</td>\n",
       "      <td>8.366600</td>\n",
       "      <td>8.246211</td>\n",
       "      <td>8.124039</td>\n",
       "      <td>8.124039</td>\n",
       "      <td>7.937254</td>\n",
       "    </tr>\n",
       "    <tr>\n",
       "      <th>3081</th>\n",
       "      <td>8.246211</td>\n",
       "      <td>8.000000</td>\n",
       "      <td>8.185352</td>\n",
       "      <td>8.944272</td>\n",
       "      <td>9.591663</td>\n",
       "      <td>8.185352</td>\n",
       "      <td>8.185352</td>\n",
       "      <td>7.937254</td>\n",
       "      <td>8.831760</td>\n",
       "      <td>8.426149</td>\n",
       "      <td>...</td>\n",
       "      <td>8.062258</td>\n",
       "      <td>8.426149</td>\n",
       "      <td>8.602325</td>\n",
       "      <td>8.000000</td>\n",
       "      <td>8.306623</td>\n",
       "      <td>8.544003</td>\n",
       "      <td>8.306623</td>\n",
       "      <td>8.185352</td>\n",
       "      <td>8.185352</td>\n",
       "      <td>8.000000</td>\n",
       "    </tr>\n",
       "    <tr>\n",
       "      <th>3082</th>\n",
       "      <td>8.246211</td>\n",
       "      <td>8.062258</td>\n",
       "      <td>8.185352</td>\n",
       "      <td>8.944272</td>\n",
       "      <td>9.591663</td>\n",
       "      <td>8.185352</td>\n",
       "      <td>8.185352</td>\n",
       "      <td>8.062258</td>\n",
       "      <td>8.831760</td>\n",
       "      <td>8.426149</td>\n",
       "      <td>...</td>\n",
       "      <td>8.124039</td>\n",
       "      <td>8.660254</td>\n",
       "      <td>8.602325</td>\n",
       "      <td>8.062258</td>\n",
       "      <td>8.306623</td>\n",
       "      <td>8.544003</td>\n",
       "      <td>8.366600</td>\n",
       "      <td>8.185352</td>\n",
       "      <td>8.306623</td>\n",
       "      <td>8.000000</td>\n",
       "    </tr>\n",
       "  </tbody>\n",
       "</table>\n",
       "<p>3083 rows × 3083 columns</p>\n",
       "</div>"
      ],
      "text/plain": [
       "          0         1         2         3         4         5         6     \\\n",
       "0     0.000000  0.000000  0.000000  0.000000  0.000000  0.000000  0.000000   \n",
       "1     2.236068  4.123106  3.316625  1.414214  5.099020  2.449490  3.464102   \n",
       "2     3.464102  4.242640  3.464102  1.732051  5.477226  3.872983  3.872983   \n",
       "3     3.605551  4.472136  3.872983  1.732051  5.567764  3.872983  4.000000   \n",
       "4     4.000000  4.472136  4.123106  1.732051  5.744563  4.690416  4.000000   \n",
       "...        ...       ...       ...       ...       ...       ...       ...   \n",
       "3078  8.062258  7.937254  8.000000  8.426149  9.380832  8.124039  8.124039   \n",
       "3079  8.124039  8.000000  8.062258  8.426149  9.433981  8.124039  8.124039   \n",
       "3080  8.185352  8.000000  8.124039  8.426149  9.539392  8.124039  8.185352   \n",
       "3081  8.246211  8.000000  8.185352  8.944272  9.591663  8.185352  8.185352   \n",
       "3082  8.246211  8.062258  8.185352  8.944272  9.591663  8.185352  8.185352   \n",
       "\n",
       "          7         8         9     ...      3073      3074      3075  \\\n",
       "0     0.000000  0.000000  0.000000  ...  0.000000  0.000000  0.000000   \n",
       "1     2.236068  2.828427  3.872983  ...  1.000000  1.414214  2.000000   \n",
       "2     2.449490  5.099020  4.582576  ...  2.828427  2.828427  2.449490   \n",
       "3     2.449490  5.099020  4.582576  ...  2.828427  3.000000  2.449490   \n",
       "4     2.645751  5.099020  4.690416  ...  2.828427  3.162278  3.000000   \n",
       "...        ...       ...       ...  ...       ...       ...       ...   \n",
       "3078  7.874008  8.831760  7.874008  ...  7.937254  8.306623  8.306623   \n",
       "3079  7.874008  8.831760  7.874008  ...  7.937254  8.366600  8.366600   \n",
       "3080  7.874008  8.831760  8.000000  ...  8.000000  8.426149  8.602325   \n",
       "3081  7.937254  8.831760  8.426149  ...  8.062258  8.426149  8.602325   \n",
       "3082  8.062258  8.831760  8.426149  ...  8.124039  8.660254  8.602325   \n",
       "\n",
       "          3076      3077      3078      3079      3080      3081      3082  \n",
       "0     0.000000  0.000000  0.000000  0.000000  0.000000  0.000000  0.000000  \n",
       "1     2.000000  0.000000  1.414214  1.414214  2.828427  1.414214  2.449490  \n",
       "2     2.000000  0.000000  2.828427  1.732051  3.741657  1.732051  2.449490  \n",
       "3     2.449490  0.000000  3.000000  2.236068  3.872983  2.236068  2.645751  \n",
       "4     2.449490  1.000000  3.000000  2.449490  4.242640  2.449490  2.645751  \n",
       "...        ...       ...       ...       ...       ...       ...       ...  \n",
       "3078  7.937254  8.000000  8.306623  8.246211  8.062258  8.062258  7.937254  \n",
       "3079  7.937254  8.000000  8.306623  8.246211  8.062258  8.124039  7.937254  \n",
       "3080  8.000000  8.124039  8.366600  8.246211  8.124039  8.124039  7.937254  \n",
       "3081  8.000000  8.306623  8.544003  8.306623  8.185352  8.185352  8.000000  \n",
       "3082  8.062258  8.306623  8.544003  8.366600  8.185352  8.306623  8.000000  \n",
       "\n",
       "[3083 rows x 3083 columns]"
      ]
     },
     "execution_count": 136,
     "metadata": {},
     "output_type": "execute_result"
    }
   ],
   "source": [
    "df_tr=pd.DataFrame(neighbors_k)\n",
    "df_tr"
   ]
  },
  {
   "cell_type": "code",
   "execution_count": 137,
   "metadata": {},
   "outputs": [],
   "source": [
    "similarity= neighbors_k"
   ]
  },
  {
   "cell_type": "code",
   "execution_count": 138,
   "metadata": {},
   "outputs": [],
   "source": [
    "Dmean=np.mean(similarity[1,:])"
   ]
  },
  {
   "cell_type": "code",
   "execution_count": 139,
   "metadata": {},
   "outputs": [
    {
     "data": {
      "text/plain": [
       "1.36"
      ]
     },
     "execution_count": 139,
     "metadata": {},
     "output_type": "execute_result"
    }
   ],
   "source": [
    "round(Dmean, 2)"
   ]
  },
  {
   "cell_type": "code",
   "execution_count": 140,
   "metadata": {},
   "outputs": [],
   "source": [
    "std=np.std(similarity[1,:])"
   ]
  },
  {
   "cell_type": "code",
   "execution_count": 141,
   "metadata": {},
   "outputs": [
    {
     "data": {
      "text/plain": [
       "1.11"
      ]
     },
     "execution_count": 141,
     "metadata": {},
     "output_type": "execute_result"
    }
   ],
   "source": [
    "round(std, 2)"
   ]
  },
  {
   "cell_type": "code",
   "execution_count": 142,
   "metadata": {},
   "outputs": [
    {
     "name": "stdout",
     "output_type": "stream",
     "text": [
      "1.91\n"
     ]
    }
   ],
   "source": [
    "model_AD_limit=Dmean+std*0.5\n",
    "print(np.round(model_AD_limit, 2))"
   ]
  },
  {
   "cell_type": "code",
   "execution_count": 143,
   "metadata": {},
   "outputs": [],
   "source": [
    "neighbors_k_ts= pairwise_distances(x_tr,Y=x_ts, n_jobs=-1)\n",
    "neighbors_k_ts.sort(0)"
   ]
  },
  {
   "cell_type": "code",
   "execution_count": 144,
   "metadata": {},
   "outputs": [
    {
     "data": {
      "text/html": [
       "<div>\n",
       "<style scoped>\n",
       "    .dataframe tbody tr th:only-of-type {\n",
       "        vertical-align: middle;\n",
       "    }\n",
       "\n",
       "    .dataframe tbody tr th {\n",
       "        vertical-align: top;\n",
       "    }\n",
       "\n",
       "    .dataframe thead th {\n",
       "        text-align: right;\n",
       "    }\n",
       "</style>\n",
       "<table border=\"1\" class=\"dataframe\">\n",
       "  <thead>\n",
       "    <tr style=\"text-align: right;\">\n",
       "      <th></th>\n",
       "      <th>0</th>\n",
       "      <th>1</th>\n",
       "      <th>2</th>\n",
       "      <th>3</th>\n",
       "      <th>4</th>\n",
       "      <th>5</th>\n",
       "      <th>6</th>\n",
       "      <th>7</th>\n",
       "      <th>8</th>\n",
       "      <th>9</th>\n",
       "      <th>...</th>\n",
       "      <th>761</th>\n",
       "      <th>762</th>\n",
       "      <th>763</th>\n",
       "      <th>764</th>\n",
       "      <th>765</th>\n",
       "      <th>766</th>\n",
       "      <th>767</th>\n",
       "      <th>768</th>\n",
       "      <th>769</th>\n",
       "      <th>770</th>\n",
       "    </tr>\n",
       "  </thead>\n",
       "  <tbody>\n",
       "    <tr>\n",
       "      <th>0</th>\n",
       "      <td>3.464102</td>\n",
       "      <td>3.872983</td>\n",
       "      <td>0.000000</td>\n",
       "      <td>3.605551</td>\n",
       "      <td>2.000000</td>\n",
       "      <td>0.000000</td>\n",
       "      <td>1.414214</td>\n",
       "      <td>1.732051</td>\n",
       "      <td>1.414214</td>\n",
       "      <td>1.414214</td>\n",
       "      <td>...</td>\n",
       "      <td>1.414214</td>\n",
       "      <td>2.000000</td>\n",
       "      <td>1.000000</td>\n",
       "      <td>1.414214</td>\n",
       "      <td>0.000000</td>\n",
       "      <td>3.162278</td>\n",
       "      <td>1.414214</td>\n",
       "      <td>2.000000</td>\n",
       "      <td>1.000000</td>\n",
       "      <td>2.236068</td>\n",
       "    </tr>\n",
       "    <tr>\n",
       "      <th>1</th>\n",
       "      <td>4.000000</td>\n",
       "      <td>4.123106</td>\n",
       "      <td>1.732051</td>\n",
       "      <td>4.123106</td>\n",
       "      <td>2.236068</td>\n",
       "      <td>2.828427</td>\n",
       "      <td>1.414214</td>\n",
       "      <td>2.236068</td>\n",
       "      <td>2.236068</td>\n",
       "      <td>1.732051</td>\n",
       "      <td>...</td>\n",
       "      <td>1.732051</td>\n",
       "      <td>2.000000</td>\n",
       "      <td>1.000000</td>\n",
       "      <td>1.732051</td>\n",
       "      <td>0.000000</td>\n",
       "      <td>3.741657</td>\n",
       "      <td>2.000000</td>\n",
       "      <td>2.000000</td>\n",
       "      <td>3.316625</td>\n",
       "      <td>2.449490</td>\n",
       "    </tr>\n",
       "    <tr>\n",
       "      <th>2</th>\n",
       "      <td>4.472136</td>\n",
       "      <td>4.123106</td>\n",
       "      <td>2.000000</td>\n",
       "      <td>4.358899</td>\n",
       "      <td>2.449490</td>\n",
       "      <td>5.099020</td>\n",
       "      <td>2.645751</td>\n",
       "      <td>2.236068</td>\n",
       "      <td>3.000000</td>\n",
       "      <td>1.732051</td>\n",
       "      <td>...</td>\n",
       "      <td>2.000000</td>\n",
       "      <td>2.000000</td>\n",
       "      <td>2.449490</td>\n",
       "      <td>1.732051</td>\n",
       "      <td>0.000000</td>\n",
       "      <td>3.741657</td>\n",
       "      <td>2.000000</td>\n",
       "      <td>2.000000</td>\n",
       "      <td>3.316625</td>\n",
       "      <td>2.645751</td>\n",
       "    </tr>\n",
       "    <tr>\n",
       "      <th>3</th>\n",
       "      <td>4.472136</td>\n",
       "      <td>4.358899</td>\n",
       "      <td>2.000000</td>\n",
       "      <td>4.358899</td>\n",
       "      <td>2.449490</td>\n",
       "      <td>5.099020</td>\n",
       "      <td>2.645751</td>\n",
       "      <td>2.236068</td>\n",
       "      <td>4.472136</td>\n",
       "      <td>2.828427</td>\n",
       "      <td>...</td>\n",
       "      <td>2.236068</td>\n",
       "      <td>2.236068</td>\n",
       "      <td>2.645751</td>\n",
       "      <td>2.000000</td>\n",
       "      <td>0.000000</td>\n",
       "      <td>3.872983</td>\n",
       "      <td>2.000000</td>\n",
       "      <td>2.000000</td>\n",
       "      <td>3.464102</td>\n",
       "      <td>2.828427</td>\n",
       "    </tr>\n",
       "    <tr>\n",
       "      <th>4</th>\n",
       "      <td>4.582576</td>\n",
       "      <td>4.582576</td>\n",
       "      <td>3.162278</td>\n",
       "      <td>4.472136</td>\n",
       "      <td>2.645751</td>\n",
       "      <td>5.385165</td>\n",
       "      <td>2.828427</td>\n",
       "      <td>2.449490</td>\n",
       "      <td>4.472136</td>\n",
       "      <td>2.828427</td>\n",
       "      <td>...</td>\n",
       "      <td>2.236068</td>\n",
       "      <td>2.449490</td>\n",
       "      <td>2.645751</td>\n",
       "      <td>2.828427</td>\n",
       "      <td>1.000000</td>\n",
       "      <td>3.872983</td>\n",
       "      <td>2.236068</td>\n",
       "      <td>2.000000</td>\n",
       "      <td>3.464102</td>\n",
       "      <td>2.828427</td>\n",
       "    </tr>\n",
       "    <tr>\n",
       "      <th>...</th>\n",
       "      <td>...</td>\n",
       "      <td>...</td>\n",
       "      <td>...</td>\n",
       "      <td>...</td>\n",
       "      <td>...</td>\n",
       "      <td>...</td>\n",
       "      <td>...</td>\n",
       "      <td>...</td>\n",
       "      <td>...</td>\n",
       "      <td>...</td>\n",
       "      <td>...</td>\n",
       "      <td>...</td>\n",
       "      <td>...</td>\n",
       "      <td>...</td>\n",
       "      <td>...</td>\n",
       "      <td>...</td>\n",
       "      <td>...</td>\n",
       "      <td>...</td>\n",
       "      <td>...</td>\n",
       "      <td>...</td>\n",
       "      <td>...</td>\n",
       "    </tr>\n",
       "    <tr>\n",
       "      <th>3078</th>\n",
       "      <td>8.306623</td>\n",
       "      <td>8.602325</td>\n",
       "      <td>8.426149</td>\n",
       "      <td>8.306623</td>\n",
       "      <td>8.185352</td>\n",
       "      <td>8.660254</td>\n",
       "      <td>7.681146</td>\n",
       "      <td>8.426149</td>\n",
       "      <td>8.306623</td>\n",
       "      <td>8.660254</td>\n",
       "      <td>...</td>\n",
       "      <td>8.426149</td>\n",
       "      <td>7.810250</td>\n",
       "      <td>8.000000</td>\n",
       "      <td>7.937254</td>\n",
       "      <td>8.062258</td>\n",
       "      <td>8.246211</td>\n",
       "      <td>8.366600</td>\n",
       "      <td>8.246211</td>\n",
       "      <td>7.937254</td>\n",
       "      <td>7.937254</td>\n",
       "    </tr>\n",
       "    <tr>\n",
       "      <th>3079</th>\n",
       "      <td>8.426149</td>\n",
       "      <td>8.660254</td>\n",
       "      <td>8.485281</td>\n",
       "      <td>8.306623</td>\n",
       "      <td>8.246211</td>\n",
       "      <td>8.660254</td>\n",
       "      <td>7.745967</td>\n",
       "      <td>8.426149</td>\n",
       "      <td>8.366600</td>\n",
       "      <td>8.660254</td>\n",
       "      <td>...</td>\n",
       "      <td>8.426149</td>\n",
       "      <td>7.937254</td>\n",
       "      <td>8.000000</td>\n",
       "      <td>8.000000</td>\n",
       "      <td>8.124039</td>\n",
       "      <td>8.306623</td>\n",
       "      <td>8.366600</td>\n",
       "      <td>8.306623</td>\n",
       "      <td>8.000000</td>\n",
       "      <td>7.937254</td>\n",
       "    </tr>\n",
       "    <tr>\n",
       "      <th>3080</th>\n",
       "      <td>8.485281</td>\n",
       "      <td>8.660254</td>\n",
       "      <td>8.485281</td>\n",
       "      <td>8.306623</td>\n",
       "      <td>8.246211</td>\n",
       "      <td>8.660254</td>\n",
       "      <td>7.810250</td>\n",
       "      <td>8.485281</td>\n",
       "      <td>8.426149</td>\n",
       "      <td>8.717798</td>\n",
       "      <td>...</td>\n",
       "      <td>8.426149</td>\n",
       "      <td>7.937254</td>\n",
       "      <td>8.000000</td>\n",
       "      <td>8.062258</td>\n",
       "      <td>8.124039</td>\n",
       "      <td>8.306623</td>\n",
       "      <td>8.426149</td>\n",
       "      <td>8.366600</td>\n",
       "      <td>8.000000</td>\n",
       "      <td>8.000000</td>\n",
       "    </tr>\n",
       "    <tr>\n",
       "      <th>3081</th>\n",
       "      <td>8.485281</td>\n",
       "      <td>8.660254</td>\n",
       "      <td>8.544003</td>\n",
       "      <td>8.366600</td>\n",
       "      <td>8.246211</td>\n",
       "      <td>8.660254</td>\n",
       "      <td>7.810250</td>\n",
       "      <td>8.544003</td>\n",
       "      <td>8.426149</td>\n",
       "      <td>8.717798</td>\n",
       "      <td>...</td>\n",
       "      <td>8.485281</td>\n",
       "      <td>7.937254</td>\n",
       "      <td>8.124039</td>\n",
       "      <td>8.062258</td>\n",
       "      <td>8.426149</td>\n",
       "      <td>8.426149</td>\n",
       "      <td>8.485281</td>\n",
       "      <td>8.426149</td>\n",
       "      <td>8.124039</td>\n",
       "      <td>8.000000</td>\n",
       "    </tr>\n",
       "    <tr>\n",
       "      <th>3082</th>\n",
       "      <td>8.485281</td>\n",
       "      <td>8.717798</td>\n",
       "      <td>8.602325</td>\n",
       "      <td>8.426149</td>\n",
       "      <td>8.366600</td>\n",
       "      <td>8.717798</td>\n",
       "      <td>7.874008</td>\n",
       "      <td>8.602325</td>\n",
       "      <td>8.426149</td>\n",
       "      <td>8.774964</td>\n",
       "      <td>...</td>\n",
       "      <td>8.485281</td>\n",
       "      <td>8.062258</td>\n",
       "      <td>8.185352</td>\n",
       "      <td>8.062258</td>\n",
       "      <td>8.426149</td>\n",
       "      <td>8.485281</td>\n",
       "      <td>8.602325</td>\n",
       "      <td>8.426149</td>\n",
       "      <td>8.246211</td>\n",
       "      <td>8.000000</td>\n",
       "    </tr>\n",
       "  </tbody>\n",
       "</table>\n",
       "<p>3083 rows × 771 columns</p>\n",
       "</div>"
      ],
      "text/plain": [
       "           0         1         2         3         4         5         6    \\\n",
       "0     3.464102  3.872983  0.000000  3.605551  2.000000  0.000000  1.414214   \n",
       "1     4.000000  4.123106  1.732051  4.123106  2.236068  2.828427  1.414214   \n",
       "2     4.472136  4.123106  2.000000  4.358899  2.449490  5.099020  2.645751   \n",
       "3     4.472136  4.358899  2.000000  4.358899  2.449490  5.099020  2.645751   \n",
       "4     4.582576  4.582576  3.162278  4.472136  2.645751  5.385165  2.828427   \n",
       "...        ...       ...       ...       ...       ...       ...       ...   \n",
       "3078  8.306623  8.602325  8.426149  8.306623  8.185352  8.660254  7.681146   \n",
       "3079  8.426149  8.660254  8.485281  8.306623  8.246211  8.660254  7.745967   \n",
       "3080  8.485281  8.660254  8.485281  8.306623  8.246211  8.660254  7.810250   \n",
       "3081  8.485281  8.660254  8.544003  8.366600  8.246211  8.660254  7.810250   \n",
       "3082  8.485281  8.717798  8.602325  8.426149  8.366600  8.717798  7.874008   \n",
       "\n",
       "           7         8         9    ...       761       762       763  \\\n",
       "0     1.732051  1.414214  1.414214  ...  1.414214  2.000000  1.000000   \n",
       "1     2.236068  2.236068  1.732051  ...  1.732051  2.000000  1.000000   \n",
       "2     2.236068  3.000000  1.732051  ...  2.000000  2.000000  2.449490   \n",
       "3     2.236068  4.472136  2.828427  ...  2.236068  2.236068  2.645751   \n",
       "4     2.449490  4.472136  2.828427  ...  2.236068  2.449490  2.645751   \n",
       "...        ...       ...       ...  ...       ...       ...       ...   \n",
       "3078  8.426149  8.306623  8.660254  ...  8.426149  7.810250  8.000000   \n",
       "3079  8.426149  8.366600  8.660254  ...  8.426149  7.937254  8.000000   \n",
       "3080  8.485281  8.426149  8.717798  ...  8.426149  7.937254  8.000000   \n",
       "3081  8.544003  8.426149  8.717798  ...  8.485281  7.937254  8.124039   \n",
       "3082  8.602325  8.426149  8.774964  ...  8.485281  8.062258  8.185352   \n",
       "\n",
       "           764       765       766       767       768       769       770  \n",
       "0     1.414214  0.000000  3.162278  1.414214  2.000000  1.000000  2.236068  \n",
       "1     1.732051  0.000000  3.741657  2.000000  2.000000  3.316625  2.449490  \n",
       "2     1.732051  0.000000  3.741657  2.000000  2.000000  3.316625  2.645751  \n",
       "3     2.000000  0.000000  3.872983  2.000000  2.000000  3.464102  2.828427  \n",
       "4     2.828427  1.000000  3.872983  2.236068  2.000000  3.464102  2.828427  \n",
       "...        ...       ...       ...       ...       ...       ...       ...  \n",
       "3078  7.937254  8.062258  8.246211  8.366600  8.246211  7.937254  7.937254  \n",
       "3079  8.000000  8.124039  8.306623  8.366600  8.306623  8.000000  7.937254  \n",
       "3080  8.062258  8.124039  8.306623  8.426149  8.366600  8.000000  8.000000  \n",
       "3081  8.062258  8.426149  8.426149  8.485281  8.426149  8.124039  8.000000  \n",
       "3082  8.062258  8.426149  8.485281  8.602325  8.426149  8.246211  8.000000  \n",
       "\n",
       "[3083 rows x 771 columns]"
      ]
     },
     "execution_count": 144,
     "metadata": {},
     "output_type": "execute_result"
    }
   ],
   "source": [
    "x_ts_AD=pd.DataFrame(neighbors_k_ts)\n",
    "x_ts_AD"
   ]
  },
  {
   "cell_type": "code",
   "execution_count": 145,
   "metadata": {},
   "outputs": [
    {
     "name": "stdout",
     "output_type": "stream",
     "text": [
      "[3.464 3.873 0.    3.606 2.    0.    1.414 1.732 1.414 1.414 1.    1.\n",
      " 3.742 1.732 0.    0.    1.    2.    2.449 2.236 2.449 1.414 2.236 1.\n",
      " 4.472 1.    0.    4.123 1.414 2.449 1.732 2.646 3.317 3.742 1.732 1.414\n",
      " 2.449 1.732 1.732 1.732 2.646 1.414 2.236 2.646 2.646 2.236 1.414 1.732\n",
      " 1.414 0.    2.449 1.732 3.606 3.    2.646 0.    1.732 1.414 2.449 1.414\n",
      " 1.732 1.732 2.449 0.    1.732 4.    2.    1.414 0.    2.449 1.    1.414\n",
      " 0.    2.646 1.414 1.    1.732 2.449 3.162 1.414 0.    2.236 1.732 1.732\n",
      " 3.606 1.414 0.    1.    3.606 0.    0.    2.449 1.732 1.732 0.    3.873\n",
      " 2.    0.    0.    2.646 0.    3.742 0.    1.414 2.449 2.646 1.414 2.236\n",
      " 2.    1.    1.    1.732 2.449 0.    2.    1.414 2.    0.    2.449 0.\n",
      " 2.    0.    0.    2.828 2.828 2.828 1.    1.    2.828 0.    1.414 1.\n",
      " 1.732 1.414 3.606 1.    2.828 1.732 0.    0.    2.236 1.732 1.414 0.\n",
      " 2.    2.    0.    1.    2.236 1.    2.828 1.414 2.    3.606 2.449 1.\n",
      " 0.    2.    1.732 0.    1.414 1.414 2.    0.    0.    0.    1.414 3.464\n",
      " 1.732 0.    0.    2.236 1.    2.828 0.    0.    1.    2.646 2.646 2.236\n",
      " 0.    0.    2.    2.449 0.    1.    2.828 1.    2.236 2.    1.414 2.\n",
      " 0.    1.732 2.828 0.    0.    2.236 3.    1.414 0.    1.    0.    0.\n",
      " 0.    1.    0.    2.    1.    1.732 1.    0.    1.414 4.    1.732 2.\n",
      " 2.449 2.236 3.162 0.    1.    0.    1.    0.    1.    0.    0.    2.828\n",
      " 2.449 2.646 1.414 1.732 0.    0.    1.414 1.414 2.828 0.    1.414 0.\n",
      " 0.    0.    1.    3.606 2.    0.    0.    3.464 0.    0.    0.    0.\n",
      " 2.    0.    1.414 1.732 1.    0.    2.828 2.    3.162 1.732 1.    2.\n",
      " 0.    0.    0.    2.646 2.    2.646 1.414 1.414 3.162 0.    2.236 1.\n",
      " 2.449 1.732 0.    0.    0.    1.    1.732 2.    1.414 2.236 1.    2.\n",
      " 1.    0.    0.    2.    1.414 2.    0.    1.    1.    1.414 2.646 1.414\n",
      " 1.414 2.646 1.414 2.646 1.    1.414 0.    3.317 1.732 0.    0.    2.\n",
      " 1.    0.    0.    0.    0.    0.    0.    2.646 0.    1.414 2.646 2.449\n",
      " 0.    0.    2.    1.414 2.    2.449 2.    2.828 1.    3.464 0.    1.\n",
      " 1.414 0.    3.606 2.828 0.    2.    0.    2.    0.    0.    0.    1.414\n",
      " 1.414 1.414 1.    1.732 4.796 1.732 1.414 2.236 0.    2.236 2.646 1.\n",
      " 1.732 3.317 3.742 3.162 1.414 2.236 0.    1.    0.    1.    1.732 1.414\n",
      " 0.    2.646 0.    1.    0.    2.    1.    1.414 1.    3.162 2.828 0.\n",
      " 0.    1.    1.    0.    0.    1.732 1.414 0.    0.    2.449 0.    1.\n",
      " 0.    0.    3.162 0.    1.    0.    1.732 1.414 3.317 2.449 0.    1.414\n",
      " 1.732 1.732 0.    2.    2.236 1.    0.    1.    3.464 2.236 0.    2.\n",
      " 2.    5.745 2.449 1.    1.732 0.    1.414 2.236 1.732 1.732 1.732 0.\n",
      " 0.    1.732 1.414 2.828 0.    1.414 1.414 0.    1.414 1.414 0.    0.\n",
      " 0.    0.    1.732 2.828 0.    0.    1.414 0.    3.317 0.    2.    0.\n",
      " 2.646 1.    2.449 1.    1.    0.    0.    3.    0.    1.414 0.    2.236\n",
      " 2.828 2.236 2.646 1.414 0.    1.414 0.    0.    1.    0.    0.    1.414\n",
      " 3.317 2.    0.    1.732 2.    0.    1.732 0.    0.    1.414 0.    1.\n",
      " 1.732 1.732 0.    2.828 2.    1.414 0.    0.    0.    3.    2.    0.\n",
      " 1.    2.646 0.    2.236 0.    0.    1.414 2.236 0.    0.    0.    0.\n",
      " 1.414 2.449 1.414 0.    2.236 1.    2.449 2.449 2.449 1.732 1.732 2.646\n",
      " 1.732 0.    1.414 2.    0.    2.828 2.828 0.    0.    2.828 3.317 1.414\n",
      " 0.    0.    0.    1.732 1.    2.449 1.732 2.828 1.414 1.    0.    2.236\n",
      " 1.    2.    1.414 1.414 0.    1.    1.732 2.828 0.    0.    1.414 4.472\n",
      " 1.414 2.236 1.    0.    0.    2.    1.414 0.    0.    3.    1.414 2.\n",
      " 1.    0.    2.236 1.    1.414 0.    0.    2.828 1.414 0.    0.    2.646\n",
      " 3.464 0.    1.414 4.123 2.828 0.    2.828 2.646 0.    0.    1.    1.\n",
      " 0.    1.    0.    1.    2.    2.    2.236 0.    1.732 1.    1.414 1.414\n",
      " 1.732 2.    3.317 2.828 1.414 0.    0.    3.464 3.317 2.828 2.646 1.414\n",
      " 1.    0.    0.    0.    1.414 2.    1.732 1.    0.    0.    1.732 3.606\n",
      " 1.732 0.    0.    0.    2.236 0.    1.    3.    1.    1.732 1.    1.\n",
      " 4.472 1.414 0.    0.    0.    3.162 1.732 1.    0.    0.    1.    2.\n",
      " 1.    2.236 2.236 2.828 1.414 1.414 0.    0.    0.    2.828 1.732 1.414\n",
      " 1.    1.    1.    0.    2.    1.732 2.828 2.    1.414 1.    2.236 1.414\n",
      " 2.449 1.    1.732 1.    2.449 0.    1.414 0.    1.414 1.    0.    0.\n",
      " 0.    2.449 1.414 1.414 1.    0.    0.    0.    1.414 0.    2.449 0.\n",
      " 0.    1.732 0.    2.449 1.414 0.    2.236 0.    1.414 1.414 0.    1.414\n",
      " 0.    1.414 2.    1.    0.    0.    1.732 0.    0.    1.732 1.414 1.\n",
      " 0.    2.236 1.732 2.449 1.    1.732 2.236 3.317 1.414 1.732 1.    4.583\n",
      " 0.    1.    2.236 3.464 2.    2.    1.    1.414 2.236 2.    1.    1.732\n",
      " 2.646 0.    0.    2.236 3.    1.414 2.    1.    1.414 0.    3.162 1.414\n",
      " 2.    1.    2.236]\n"
     ]
    }
   ],
   "source": [
    "similarity_ts= neighbors_k_ts\n",
    "cpd_AD=similarity_ts[0,:]\n",
    "cpd_value = np.round(cpd_AD, 3)\n",
    "print(cpd_value)"
   ]
  },
  {
   "cell_type": "code",
   "execution_count": 146,
   "metadata": {},
   "outputs": [
    {
     "name": "stdout",
     "output_type": "stream",
     "text": [
      "[False False  True False False  True  True  True  True  True  True  True\n",
      " False  True  True  True  True False False False False  True False  True\n",
      " False  True  True False  True False  True False False False  True  True\n",
      " False  True  True  True False  True False False False False  True  True\n",
      "  True  True False  True False False False  True  True  True False  True\n",
      "  True  True False  True  True False False  True  True False  True  True\n",
      "  True False  True  True  True False False  True  True False  True  True\n",
      " False  True  True  True False  True  True False  True  True  True False\n",
      " False  True  True False  True False  True  True False False  True False\n",
      " False  True  True  True False  True False  True False  True False  True\n",
      " False  True  True False False False  True  True False  True  True  True\n",
      "  True  True False  True False  True  True  True False  True  True  True\n",
      " False False  True  True False  True False  True False False False  True\n",
      "  True False  True  True  True  True False  True  True  True  True False\n",
      "  True  True  True False  True False  True  True  True False False False\n",
      "  True  True False False  True  True False  True False False  True False\n",
      "  True  True False  True  True False False  True  True  True  True  True\n",
      "  True  True  True False  True  True  True  True  True False  True False\n",
      " False False False  True  True  True  True  True  True  True  True False\n",
      " False False  True  True  True  True  True  True False  True  True  True\n",
      "  True  True  True False False  True  True False  True  True  True  True\n",
      " False  True  True  True  True  True False False False  True  True False\n",
      "  True  True  True False False False  True  True False  True False  True\n",
      " False  True  True  True  True  True  True False  True False  True False\n",
      "  True  True  True False  True False  True  True  True  True False  True\n",
      "  True False  True False  True  True  True False  True  True  True False\n",
      "  True  True  True  True  True  True  True False  True  True False False\n",
      "  True  True False  True False False False False  True False  True  True\n",
      "  True  True False False  True False  True False  True  True  True  True\n",
      "  True  True  True  True False  True  True False  True False False  True\n",
      "  True False False False  True False  True  True  True  True  True  True\n",
      "  True False  True  True  True False  True  True  True False False  True\n",
      "  True  True  True  True  True  True  True  True  True False  True  True\n",
      "  True  True False  True  True  True  True  True False False  True  True\n",
      "  True  True  True False False  True  True  True False False  True False\n",
      " False False False  True  True  True  True False  True  True  True  True\n",
      "  True  True  True False  True  True  True  True  True  True  True  True\n",
      "  True  True  True False  True  True  True  True False  True False  True\n",
      " False  True False  True  True  True  True False  True  True  True False\n",
      " False False False  True  True  True  True  True  True  True  True  True\n",
      " False False  True  True False  True  True  True  True  True  True  True\n",
      "  True  True  True False False  True  True  True  True False False  True\n",
      "  True False  True False  True  True  True False  True  True  True  True\n",
      "  True False  True  True False  True False False False  True  True False\n",
      "  True  True  True False  True False False  True  True False False  True\n",
      "  True  True  True  True  True False  True False  True  True  True False\n",
      "  True False  True  True  True  True  True False  True  True  True False\n",
      "  True False  True  True  True False  True  True  True False  True False\n",
      "  True  True False  True  True  True  True False  True  True  True False\n",
      " False  True  True False False  True False False  True  True  True  True\n",
      "  True  True  True  True False False False  True  True  True  True  True\n",
      "  True False False False  True  True  True False False False False  True\n",
      "  True  True  True  True  True False  True  True  True  True  True False\n",
      "  True  True  True  True False  True  True False  True  True  True  True\n",
      " False  True  True  True  True False  True  True  True  True  True False\n",
      "  True False False False  True  True  True  True  True False  True  True\n",
      "  True  True  True  True False  True False False  True  True False  True\n",
      " False  True  True  True False  True  True  True  True  True  True  True\n",
      "  True False  True  True  True  True  True  True  True  True False  True\n",
      "  True  True  True False  True  True False  True  True  True  True  True\n",
      "  True  True False  True  True  True  True  True  True  True  True  True\n",
      "  True False  True False  True  True False False  True  True  True False\n",
      "  True  True False False False False  True  True False False  True  True\n",
      " False  True  True False False  True False  True  True  True False  True\n",
      " False  True False]\n"
     ]
    }
   ],
   "source": [
    "cpd_AD = np.where(cpd_value <= model_AD_limit, True, False)\n",
    "print(cpd_AD)"
   ]
  },
  {
   "cell_type": "code",
   "execution_count": 147,
   "metadata": {},
   "outputs": [
    {
     "name": "stdout",
     "output_type": "stream",
     "text": [
      "Coverage =  0.67\n"
     ]
    }
   ],
   "source": [
    "print(\"Coverage = \", round(sum(cpd_AD) / len(cpd_AD), 2))"
   ]
  },
  {
   "cell_type": "code",
   "execution_count": 148,
   "metadata": {},
   "outputs": [
    {
     "name": "stdout",
     "output_type": "stream",
     "text": [
      "Indices of substances included in AD =  [  2   5   6   7   8   9  10  11  13  14  15  16  21  23  25  26  28  30\n",
      "  34  35  37  38  39  41  46  47  48  49  51  55  56  57  59  60  61  63\n",
      "  64  67  68  70  71  72  74  75  76  79  80  82  83  85  86  87  89  90\n",
      "  92  93  94  97  98 100 102 103 106 109 110 111 113 115 117 119 121 122\n",
      " 126 127 129 130 131 132 133 135 137 138 139 141 142 143 146 147 149 151\n",
      " 155 156 158 159 160 161 163 164 165 166 168 169 170 172 174 175 176 180\n",
      " 181 184 185 187 190 192 193 195 196 199 200 201 202 203 204 205 206 208\n",
      " 209 210 211 212 214 219 220 221 222 223 224 225 226 230 231 232 233 234\n",
      " 235 237 238 239 240 241 242 245 246 248 249 250 251 253 254 255 256 257\n",
      " 261 262 264 265 266 270 271 273 275 277 278 279 280 281 282 284 286 288\n",
      " 289 290 292 294 295 296 297 299 300 302 304 305 306 308 309 310 312 313\n",
      " 314 315 316 317 318 320 321 324 325 327 332 334 335 336 337 340 342 344\n",
      " 345 346 347 348 349 350 351 353 354 356 359 360 364 366 367 368 369 370\n",
      " 371 372 374 375 376 378 379 380 383 384 385 386 387 388 389 390 391 392\n",
      " 394 395 396 397 399 400 401 402 403 406 407 408 409 410 413 414 415 418\n",
      " 423 424 425 426 428 429 430 431 432 433 434 436 437 438 439 440 441 442\n",
      " 443 444 445 446 448 449 450 451 453 455 457 459 460 461 462 464 465 466\n",
      " 471 472 473 474 475 476 477 478 479 482 483 485 486 487 488 489 490 491\n",
      " 492 493 494 497 498 499 500 503 504 506 508 509 510 512 513 514 515 516\n",
      " 518 519 521 525 526 528 529 530 532 535 536 539 540 541 542 543 544 546\n",
      " 548 549 550 552 554 555 556 557 558 560 561 562 564 566 567 568 570 571\n",
      " 572 574 576 577 579 580 581 582 584 585 586 589 590 593 596 597 598 599\n",
      " 600 601 602 603 607 608 609 610 611 612 616 617 618 623 624 625 626 627\n",
      " 628 630 631 632 633 634 636 637 638 639 641 642 644 645 646 647 649 650\n",
      " 651 652 654 655 656 657 658 660 664 665 666 667 668 670 671 672 673 674\n",
      " 675 677 680 681 683 685 686 687 689 690 691 692 693 694 695 696 698 699\n",
      " 700 701 702 703 704 705 707 708 709 710 712 713 715 716 717 718 719 720\n",
      " 721 723 724 725 726 727 728 729 730 731 732 734 736 737 740 741 742 744\n",
      " 745 750 751 754 755 757 758 761 763 764 765 767 769]\n"
     ]
    }
   ],
   "source": [
    "print(\"Indices of substances included in AD = \", np.where(cpd_AD != 0)[0])"
   ]
  },
  {
   "cell_type": "code",
   "execution_count": 149,
   "metadata": {},
   "outputs": [],
   "source": [
    "out_Ad=list(np.where(cpd_AD == 0)[0])"
   ]
  },
  {
   "cell_type": "markdown",
   "metadata": {},
   "source": [
    "# 12. Prediction only for molecules included in  AD"
   ]
  },
  {
   "cell_type": "code",
   "execution_count": 150,
   "metadata": {},
   "outputs": [],
   "source": [
    "y_pred_kNN_ad=list(y_pred_kNN)"
   ]
  },
  {
   "cell_type": "code",
   "execution_count": 151,
   "metadata": {},
   "outputs": [],
   "source": [
    "y_pred_kNN_ad[:] = [x for i,x in enumerate(y_pred_kNN_ad) if i not in out_Ad]"
   ]
  },
  {
   "cell_type": "code",
   "execution_count": 152,
   "metadata": {},
   "outputs": [
    {
     "data": {
      "text/plain": [
       "517"
      ]
     },
     "execution_count": 152,
     "metadata": {},
     "output_type": "execute_result"
    }
   ],
   "source": [
    "len(y_pred_kNN_ad)"
   ]
  },
  {
   "cell_type": "code",
   "execution_count": 153,
   "metadata": {},
   "outputs": [],
   "source": [
    "y_ts_ad=list(y_ts)"
   ]
  },
  {
   "cell_type": "code",
   "execution_count": 154,
   "metadata": {},
   "outputs": [],
   "source": [
    "y_ts_ad[:] = [x for i,x in enumerate(y_ts_ad) if i not in out_Ad]"
   ]
  },
  {
   "cell_type": "code",
   "execution_count": 155,
   "metadata": {},
   "outputs": [
    {
     "data": {
      "text/plain": [
       "517"
      ]
     },
     "execution_count": 155,
     "metadata": {},
     "output_type": "execute_result"
    }
   ],
   "source": [
    "len(y_ts_ad)"
   ]
  },
  {
   "cell_type": "code",
   "execution_count": 156,
   "metadata": {},
   "outputs": [
    {
     "data": {
      "text/plain": [
       "0.58"
      ]
     },
     "execution_count": 156,
     "metadata": {},
     "output_type": "execute_result"
    }
   ],
   "source": [
    "Q2_TS = round(r2_score(y_ts_ad, y_pred_kNN_ad), 2)\n",
    "Q2_TS"
   ]
  },
  {
   "cell_type": "code",
   "execution_count": 157,
   "metadata": {
    "scrolled": true
   },
   "outputs": [
    {
     "data": {
      "text/plain": [
       "0.71"
      ]
     },
     "execution_count": 157,
     "metadata": {},
     "output_type": "execute_result"
    }
   ],
   "source": [
    "RMSE_TS=round(np.sqrt(mean_absolute_error(y_ts_ad, y_pred_kNN_ad)), 2)\n",
    "RMSE_TS"
   ]
  },
  {
   "cell_type": "code",
   "execution_count": null,
   "metadata": {},
   "outputs": [],
   "source": []
  }
 ],
 "metadata": {
  "kernelspec": {
   "display_name": "Python3 (rdkit)",
   "language": "python",
   "name": "my-rdkit-env"
  },
  "language_info": {
   "codemirror_mode": {
    "name": "ipython",
    "version": 3
   },
   "file_extension": ".py",
   "mimetype": "text/x-python",
   "name": "python",
   "nbconvert_exporter": "python",
   "pygments_lexer": "ipython3",
   "version": "3.10.12"
  },
  "toc": {
   "base_numbering": 1,
   "nav_menu": {},
   "number_sections": true,
   "sideBar": true,
   "skip_h1_title": false,
   "title_cell": "Table of Contents",
   "title_sidebar": "Contents",
   "toc_cell": false,
   "toc_position": {
    "height": "calc(100% - 180px)",
    "left": "10px",
    "top": "150px",
    "width": "384px"
   },
   "toc_section_display": true,
   "toc_window_display": true
  },
  "widgets": {
   "application/vnd.jupyter.widget-state+json": {
    "state": {},
    "version_major": 2,
    "version_minor": 0
   }
  }
 },
 "nbformat": 4,
 "nbformat_minor": 4
}
