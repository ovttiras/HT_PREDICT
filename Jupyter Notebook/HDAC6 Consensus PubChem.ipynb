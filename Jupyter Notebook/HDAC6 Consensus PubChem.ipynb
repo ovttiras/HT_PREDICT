{
 "cells": [
  {
   "cell_type": "code",
   "execution_count": null,
   "metadata": {},
   "outputs": [],
   "source": []
  },
  {
   "cell_type": "markdown",
   "metadata": {},
   "source": [
    "# 1. Importing modules and functions"
   ]
  },
  {
   "cell_type": "code",
   "execution_count": 2,
   "metadata": {},
   "outputs": [],
   "source": [
    "from rdkit import Chem, DataStructs\n",
    "from rdkit.Chem import AllChem, Descriptors\n",
    "from rdkit.ML.Descriptors import MoleculeDescriptors\n",
    "from molvs import standardize_smiles\n",
    "import numpy as np\n",
    "import pandas as pd\n",
    "from sklearn.svm import SVC\n",
    "from sklearn.model_selection import KFold, GridSearchCV\n",
    "from sklearn.metrics import mean_absolute_error\n",
    "from sklearn.metrics import r2_score\n",
    "from sklearn.ensemble import GradientBoostingRegressor\n",
    "from sklearn.svm import SVR\n",
    "from sklearn.model_selection import permutation_test_score\n",
    "from sklearn.preprocessing import StandardScaler\n",
    "from sklearn.model_selection import cross_val_predict\n",
    "from sklearn import metrics\n",
    "from sklearn.metrics import pairwise_distances\n",
    "import joblib\n",
    "import pickle\n",
    "from numpy import savetxt\n",
    "from padelpy import from_sdf\n",
    "import shap\n",
    "from tqdm.notebook import tqdm"
   ]
  },
  {
   "cell_type": "markdown",
   "metadata": {},
   "source": [
    "# 2.Data entry and curation work set"
   ]
  },
  {
   "cell_type": "code",
   "execution_count": 3,
   "metadata": {},
   "outputs": [
    {
     "name": "stdout",
     "output_type": "stream",
     "text": [
      "Original data:  3083 molecules\n",
      "Failed data:  0 molecules\n"
     ]
    },
    {
     "data": {
      "text/html": [
       "<div>\n",
       "<style scoped>\n",
       "    .dataframe tbody tr th:only-of-type {\n",
       "        vertical-align: middle;\n",
       "    }\n",
       "\n",
       "    .dataframe tbody tr th {\n",
       "        vertical-align: top;\n",
       "    }\n",
       "\n",
       "    .dataframe thead th {\n",
       "        text-align: right;\n",
       "    }\n",
       "</style>\n",
       "<table border=\"1\" class=\"dataframe\">\n",
       "  <thead>\n",
       "    <tr style=\"text-align: right;\">\n",
       "      <th></th>\n",
       "      <th>No. failed molecule in original set</th>\n",
       "      <th>SMILES of wrong structure:</th>\n",
       "    </tr>\n",
       "    <tr>\n",
       "      <th>No.</th>\n",
       "      <th></th>\n",
       "      <th></th>\n",
       "    </tr>\n",
       "  </thead>\n",
       "  <tbody>\n",
       "  </tbody>\n",
       "</table>\n",
       "</div>"
      ],
      "text/plain": [
       "Empty DataFrame\n",
       "Columns: [No. failed molecule in original set, SMILES of wrong structure: ]\n",
       "Index: []"
      ]
     },
     "execution_count": 3,
     "metadata": {},
     "output_type": "execute_result"
    }
   ],
   "source": [
    "uploaded_file_ws=\"datasets/HDAC6_work.sdf\"\n",
    "supplier_ws = Chem.ForwardSDMolSupplier(uploaded_file_ws,sanitize=False)\n",
    "failed_mols_ws = []\n",
    "all_mols_ws =[]\n",
    "wrong_structure_ws=[]\n",
    "wrong_smiles_ws=[]\n",
    "y_tr = []\n",
    "y_bad_index=[]\n",
    "\n",
    "for i, m in enumerate(supplier_ws):\n",
    "    structure = Chem.Mol(m)\n",
    "    all_mols_ws.append(structure)\n",
    "    y_tr.append(m.GetProp(\"pchembl_value_mean\"))\n",
    "    try:\n",
    "        Chem.SanitizeMol(structure)\n",
    "    except:\n",
    "        failed_mols_ws.append(m)\n",
    "        wrong_smiles_ws.append(Chem.MolToSmiles(m))\n",
    "        wrong_structure_ws.append(str(i+1))\n",
    "        y_bad_index.append(i)\n",
    "print('Original data: ', len(all_mols_ws), 'molecules')\n",
    "print('Failed data: ', len(failed_mols_ws), 'molecules')\n",
    "number_ws =[]\n",
    "for i in range(len(failed_mols_ws)):\n",
    "        number_ws.append(str(i+1))\n",
    "bad_molecules_ws = pd.DataFrame({'No. failed molecule in original set': wrong_structure_ws, 'SMILES of wrong structure: ': wrong_smiles_ws, 'No.': number_ws}, index=None)\n",
    "bad_molecules_ws = bad_molecules_ws.set_index('No.')\n",
    "bad_molecules_ws"
   ]
  },
  {
   "cell_type": "markdown",
   "metadata": {},
   "source": [
    "deleting activity values for substances with incorrect structure"
   ]
  },
  {
   "cell_type": "code",
   "execution_count": 4,
   "metadata": {},
   "outputs": [],
   "source": [
    "y_tr[:] = [x for i,x in enumerate(y_tr) if i not in y_bad_index]"
   ]
  },
  {
   "cell_type": "code",
   "execution_count": 5,
   "metadata": {},
   "outputs": [
    {
     "data": {
      "text/plain": [
       "3083"
      ]
     },
     "execution_count": 5,
     "metadata": {},
     "output_type": "execute_result"
    }
   ],
   "source": [
    "len(y_tr)"
   ]
  },
  {
   "cell_type": "markdown",
   "metadata": {},
   "source": [
    "# 3.Standardization SDF file for work set"
   ]
  },
  {
   "cell_type": "code",
   "execution_count": 6,
   "metadata": {},
   "outputs": [
    {
     "name": "stdout",
     "output_type": "stream",
     "text": [
      "Kept data:  3083 molecules\n"
     ]
    }
   ],
   "source": [
    "all_mols_ws[:] = [x for i,x in enumerate(all_mols_ws) if i not in y_bad_index] \n",
    "records = []\n",
    "for i in range(len(all_mols_ws)):\n",
    "    record = Chem.MolToSmiles(all_mols_ws[i])\n",
    "    records.append(record)\n",
    "\n",
    "moldf_ws = []\n",
    "for i,record in enumerate(records):\n",
    "    standard_record = standardize_smiles(record)\n",
    "    m = Chem.MolFromSmiles(standard_record)\n",
    "    moldf_ws.append(m)\n",
    "    \n",
    "print('Kept data: ', len(moldf_ws), 'molecules')"
   ]
  },
  {
   "cell_type": "code",
   "execution_count": 7,
   "metadata": {},
   "outputs": [],
   "source": [
    "records_ws = []\n",
    "for i in range(len(moldf_ws)):\n",
    "    record = Chem.MolToSmiles(moldf_ws[i])\n",
    "    records_ws.append(record)"
   ]
  },
  {
   "cell_type": "code",
   "execution_count": 8,
   "metadata": {},
   "outputs": [],
   "source": [
    "df = pd.DataFrame(records_ws, columns=[\"Smiles\"])\n",
    "df.to_csv('datasets/molecule_ws.smi', sep=',', index=False, header=False)"
   ]
  },
  {
   "cell_type": "markdown",
   "metadata": {},
   "source": [
    "# 4.Data entry and curation test set"
   ]
  },
  {
   "cell_type": "code",
   "execution_count": 9,
   "metadata": {},
   "outputs": [
    {
     "name": "stdout",
     "output_type": "stream",
     "text": [
      "Original data:  771 molecules\n",
      "Failed data:  0 molecules\n"
     ]
    },
    {
     "data": {
      "text/html": [
       "<div>\n",
       "<style scoped>\n",
       "    .dataframe tbody tr th:only-of-type {\n",
       "        vertical-align: middle;\n",
       "    }\n",
       "\n",
       "    .dataframe tbody tr th {\n",
       "        vertical-align: top;\n",
       "    }\n",
       "\n",
       "    .dataframe thead th {\n",
       "        text-align: right;\n",
       "    }\n",
       "</style>\n",
       "<table border=\"1\" class=\"dataframe\">\n",
       "  <thead>\n",
       "    <tr style=\"text-align: right;\">\n",
       "      <th></th>\n",
       "      <th>No. failed molecule in original set</th>\n",
       "      <th>SMILES of wrong structure:</th>\n",
       "    </tr>\n",
       "    <tr>\n",
       "      <th>No.</th>\n",
       "      <th></th>\n",
       "      <th></th>\n",
       "    </tr>\n",
       "  </thead>\n",
       "  <tbody>\n",
       "  </tbody>\n",
       "</table>\n",
       "</div>"
      ],
      "text/plain": [
       "Empty DataFrame\n",
       "Columns: [No. failed molecule in original set, SMILES of wrong structure: ]\n",
       "Index: []"
      ]
     },
     "execution_count": 9,
     "metadata": {},
     "output_type": "execute_result"
    }
   ],
   "source": [
    "uploaded_file_ts=\"datasets/HDAC6_test.sdf\"\n",
    "supplier_ts = Chem.ForwardSDMolSupplier(uploaded_file_ts,sanitize=False)\n",
    "failed_mols_ts = []\n",
    "all_mols_ts =[]\n",
    "wrong_structure_ts=[]\n",
    "wrong_smiles_ts=[]\n",
    "y_ts = []\n",
    "y_bad_index=[]\n",
    "for i, m in enumerate(supplier_ts):\n",
    "    structure = Chem.Mol(m)\n",
    "    all_mols_ts.append(structure)\n",
    "    y_ts.append(m.GetProp(\"pchembl_value_mean\"))\n",
    "    try:\n",
    "        Chem.SanitizeMol(structure)\n",
    "    except:\n",
    "        failed_mols_ts.append(m)\n",
    "        wrong_smiles_ts.append(Chem.MolToSmiles(m))\n",
    "        wrong_structure_ts.append(str(i+1))\n",
    "        y_bad_index.append(i)\n",
    "print('Original data: ', len(all_mols_ts), 'molecules')\n",
    "print('Failed data: ', len(failed_mols_ts), 'molecules')\n",
    "number_ts =[]\n",
    "for i in range(len(failed_mols_ts)):\n",
    "        number_ts.append(str(i+1))\n",
    "bad_molecules_ts = pd.DataFrame({'No. failed molecule in original set': wrong_structure_ts, 'SMILES of wrong structure: ': wrong_smiles_ts, 'No.': number_ts}, index=None)\n",
    "bad_molecules_ts = bad_molecules_ts.set_index('No.')\n",
    "bad_molecules_ts"
   ]
  },
  {
   "cell_type": "markdown",
   "metadata": {},
   "source": [
    "deleting activity values for substances with incorrect structure"
   ]
  },
  {
   "cell_type": "code",
   "execution_count": 10,
   "metadata": {},
   "outputs": [],
   "source": [
    "y_ts[:] = [x for i,x in enumerate(y_ts) if i not in y_bad_index]"
   ]
  },
  {
   "cell_type": "code",
   "execution_count": 11,
   "metadata": {},
   "outputs": [
    {
     "data": {
      "text/plain": [
       "771"
      ]
     },
     "execution_count": 11,
     "metadata": {},
     "output_type": "execute_result"
    }
   ],
   "source": [
    "len(y_ts)"
   ]
  },
  {
   "cell_type": "markdown",
   "metadata": {
    "scrolled": true
   },
   "source": [
    "# 5.Standardization SDF file for test set"
   ]
  },
  {
   "cell_type": "code",
   "execution_count": 12,
   "metadata": {},
   "outputs": [
    {
     "name": "stdout",
     "output_type": "stream",
     "text": [
      "Kept data:  771 molecules\n"
     ]
    }
   ],
   "source": [
    "all_mols_ts[:] = [x for i,x in enumerate(all_mols_ts) if i not in y_bad_index] \n",
    "records = []\n",
    "for i in range(len(all_mols_ts)):\n",
    "    record = Chem.MolToSmiles(all_mols_ts[i])\n",
    "    records.append(record)\n",
    "\n",
    "moldf_ts = []\n",
    "for i,record in enumerate(records):\n",
    "    standard_record = standardize_smiles(record)\n",
    "    m = Chem.MolFromSmiles(standard_record)\n",
    "    moldf_ts.append(m)\n",
    "    \n",
    "print('Kept data: ', len(moldf_ts), 'molecules')"
   ]
  },
  {
   "cell_type": "code",
   "execution_count": 13,
   "metadata": {},
   "outputs": [],
   "source": [
    "records_ts = []\n",
    "for i in range(len(moldf_ts)):\n",
    "    record = Chem.MolToSmiles(moldf_ts[i])\n",
    "    records_ts.append(record)"
   ]
  },
  {
   "cell_type": "code",
   "execution_count": 14,
   "metadata": {},
   "outputs": [],
   "source": [
    "df_ts = pd.DataFrame(records_ts, columns=[\"Smiles\"])\n",
    "df_ts.to_csv('datasets/molecule_ts.smi', sep=',', index=False, header=False)"
   ]
  },
  {
   "cell_type": "markdown",
   "metadata": {},
   "source": [
    "# 6.Descriptor calculation for work set"
   ]
  },
  {
   "cell_type": "markdown",
   "metadata": {},
   "source": [
    "## PubChem FPs"
   ]
  },
  {
   "cell_type": "code",
   "execution_count": 163,
   "metadata": {},
   "outputs": [],
   "source": [
    "from padelpy import padeldescriptor\n",
    "\n",
    "fingerprint = 'PubChem'\n",
    "\n",
    "fingerprint_output_file = ''.join([fingerprint,'.csv']) #Substructure.csv\n",
    "fingerprint_descriptortypes = fp[fingerprint]\n",
    "\n",
    "padeldescriptor(mol_dir='datasets/molecule_ws.smi', \n",
    "                d_file=fingerprint_output_file, #'Substructure.csv'\n",
    "                #descriptortypes='SubstructureFingerprint.xml', \n",
    "                descriptortypes= fingerprint_descriptortypes,\n",
    "                detectaromaticity=True,\n",
    "                standardizenitro=True,\n",
    "                standardizetautomers=True,\n",
    "                threads=2,\n",
    "                removesalt=True,\n",
    "                log=True,\n",
    "                fingerprints=True)"
   ]
  },
  {
   "cell_type": "code",
   "execution_count": 15,
   "metadata": {},
   "outputs": [],
   "source": [
    "descriptors_PubChem = pd.read_csv('PubChem.csv')"
   ]
  },
  {
   "cell_type": "code",
   "execution_count": 16,
   "metadata": {},
   "outputs": [
    {
     "data": {
      "text/html": [
       "<div>\n",
       "<style scoped>\n",
       "    .dataframe tbody tr th:only-of-type {\n",
       "        vertical-align: middle;\n",
       "    }\n",
       "\n",
       "    .dataframe tbody tr th {\n",
       "        vertical-align: top;\n",
       "    }\n",
       "\n",
       "    .dataframe thead th {\n",
       "        text-align: right;\n",
       "    }\n",
       "</style>\n",
       "<table border=\"1\" class=\"dataframe\">\n",
       "  <thead>\n",
       "    <tr style=\"text-align: right;\">\n",
       "      <th></th>\n",
       "      <th>Name</th>\n",
       "      <th>PubchemFP0</th>\n",
       "      <th>PubchemFP1</th>\n",
       "      <th>PubchemFP2</th>\n",
       "      <th>PubchemFP3</th>\n",
       "      <th>PubchemFP4</th>\n",
       "      <th>PubchemFP5</th>\n",
       "      <th>PubchemFP6</th>\n",
       "      <th>PubchemFP7</th>\n",
       "      <th>PubchemFP8</th>\n",
       "      <th>...</th>\n",
       "      <th>PubchemFP871</th>\n",
       "      <th>PubchemFP872</th>\n",
       "      <th>PubchemFP873</th>\n",
       "      <th>PubchemFP874</th>\n",
       "      <th>PubchemFP875</th>\n",
       "      <th>PubchemFP876</th>\n",
       "      <th>PubchemFP877</th>\n",
       "      <th>PubchemFP878</th>\n",
       "      <th>PubchemFP879</th>\n",
       "      <th>PubchemFP880</th>\n",
       "    </tr>\n",
       "  </thead>\n",
       "  <tbody>\n",
       "    <tr>\n",
       "      <th>0</th>\n",
       "      <td>AUTOGEN_molecule_ws_1</td>\n",
       "      <td>1</td>\n",
       "      <td>1</td>\n",
       "      <td>0</td>\n",
       "      <td>0</td>\n",
       "      <td>0</td>\n",
       "      <td>0</td>\n",
       "      <td>0</td>\n",
       "      <td>0</td>\n",
       "      <td>0</td>\n",
       "      <td>...</td>\n",
       "      <td>0</td>\n",
       "      <td>0</td>\n",
       "      <td>0</td>\n",
       "      <td>0</td>\n",
       "      <td>0</td>\n",
       "      <td>0</td>\n",
       "      <td>0</td>\n",
       "      <td>0</td>\n",
       "      <td>0</td>\n",
       "      <td>0</td>\n",
       "    </tr>\n",
       "    <tr>\n",
       "      <th>1</th>\n",
       "      <td>AUTOGEN_molecule_ws_2</td>\n",
       "      <td>1</td>\n",
       "      <td>1</td>\n",
       "      <td>1</td>\n",
       "      <td>0</td>\n",
       "      <td>0</td>\n",
       "      <td>0</td>\n",
       "      <td>0</td>\n",
       "      <td>0</td>\n",
       "      <td>0</td>\n",
       "      <td>...</td>\n",
       "      <td>0</td>\n",
       "      <td>0</td>\n",
       "      <td>0</td>\n",
       "      <td>0</td>\n",
       "      <td>0</td>\n",
       "      <td>0</td>\n",
       "      <td>0</td>\n",
       "      <td>0</td>\n",
       "      <td>0</td>\n",
       "      <td>0</td>\n",
       "    </tr>\n",
       "    <tr>\n",
       "      <th>2</th>\n",
       "      <td>AUTOGEN_molecule_ws_3</td>\n",
       "      <td>1</td>\n",
       "      <td>1</td>\n",
       "      <td>0</td>\n",
       "      <td>0</td>\n",
       "      <td>0</td>\n",
       "      <td>0</td>\n",
       "      <td>0</td>\n",
       "      <td>0</td>\n",
       "      <td>0</td>\n",
       "      <td>...</td>\n",
       "      <td>0</td>\n",
       "      <td>0</td>\n",
       "      <td>0</td>\n",
       "      <td>0</td>\n",
       "      <td>0</td>\n",
       "      <td>0</td>\n",
       "      <td>0</td>\n",
       "      <td>0</td>\n",
       "      <td>0</td>\n",
       "      <td>0</td>\n",
       "    </tr>\n",
       "    <tr>\n",
       "      <th>3</th>\n",
       "      <td>AUTOGEN_molecule_ws_4</td>\n",
       "      <td>1</td>\n",
       "      <td>1</td>\n",
       "      <td>0</td>\n",
       "      <td>0</td>\n",
       "      <td>0</td>\n",
       "      <td>0</td>\n",
       "      <td>0</td>\n",
       "      <td>0</td>\n",
       "      <td>0</td>\n",
       "      <td>...</td>\n",
       "      <td>0</td>\n",
       "      <td>0</td>\n",
       "      <td>0</td>\n",
       "      <td>0</td>\n",
       "      <td>0</td>\n",
       "      <td>0</td>\n",
       "      <td>0</td>\n",
       "      <td>0</td>\n",
       "      <td>0</td>\n",
       "      <td>0</td>\n",
       "    </tr>\n",
       "    <tr>\n",
       "      <th>4</th>\n",
       "      <td>AUTOGEN_molecule_ws_5</td>\n",
       "      <td>1</td>\n",
       "      <td>1</td>\n",
       "      <td>1</td>\n",
       "      <td>1</td>\n",
       "      <td>0</td>\n",
       "      <td>0</td>\n",
       "      <td>0</td>\n",
       "      <td>0</td>\n",
       "      <td>0</td>\n",
       "      <td>...</td>\n",
       "      <td>0</td>\n",
       "      <td>0</td>\n",
       "      <td>0</td>\n",
       "      <td>0</td>\n",
       "      <td>0</td>\n",
       "      <td>0</td>\n",
       "      <td>0</td>\n",
       "      <td>0</td>\n",
       "      <td>0</td>\n",
       "      <td>0</td>\n",
       "    </tr>\n",
       "    <tr>\n",
       "      <th>...</th>\n",
       "      <td>...</td>\n",
       "      <td>...</td>\n",
       "      <td>...</td>\n",
       "      <td>...</td>\n",
       "      <td>...</td>\n",
       "      <td>...</td>\n",
       "      <td>...</td>\n",
       "      <td>...</td>\n",
       "      <td>...</td>\n",
       "      <td>...</td>\n",
       "      <td>...</td>\n",
       "      <td>...</td>\n",
       "      <td>...</td>\n",
       "      <td>...</td>\n",
       "      <td>...</td>\n",
       "      <td>...</td>\n",
       "      <td>...</td>\n",
       "      <td>...</td>\n",
       "      <td>...</td>\n",
       "      <td>...</td>\n",
       "      <td>...</td>\n",
       "    </tr>\n",
       "    <tr>\n",
       "      <th>3078</th>\n",
       "      <td>AUTOGEN_molecule_ws_3079</td>\n",
       "      <td>1</td>\n",
       "      <td>1</td>\n",
       "      <td>1</td>\n",
       "      <td>0</td>\n",
       "      <td>0</td>\n",
       "      <td>0</td>\n",
       "      <td>0</td>\n",
       "      <td>0</td>\n",
       "      <td>0</td>\n",
       "      <td>...</td>\n",
       "      <td>0</td>\n",
       "      <td>0</td>\n",
       "      <td>0</td>\n",
       "      <td>0</td>\n",
       "      <td>0</td>\n",
       "      <td>0</td>\n",
       "      <td>0</td>\n",
       "      <td>0</td>\n",
       "      <td>0</td>\n",
       "      <td>0</td>\n",
       "    </tr>\n",
       "    <tr>\n",
       "      <th>3079</th>\n",
       "      <td>AUTOGEN_molecule_ws_3080</td>\n",
       "      <td>0</td>\n",
       "      <td>0</td>\n",
       "      <td>0</td>\n",
       "      <td>0</td>\n",
       "      <td>0</td>\n",
       "      <td>0</td>\n",
       "      <td>0</td>\n",
       "      <td>0</td>\n",
       "      <td>0</td>\n",
       "      <td>...</td>\n",
       "      <td>0</td>\n",
       "      <td>0</td>\n",
       "      <td>0</td>\n",
       "      <td>0</td>\n",
       "      <td>0</td>\n",
       "      <td>0</td>\n",
       "      <td>0</td>\n",
       "      <td>0</td>\n",
       "      <td>0</td>\n",
       "      <td>0</td>\n",
       "    </tr>\n",
       "    <tr>\n",
       "      <th>3080</th>\n",
       "      <td>AUTOGEN_molecule_ws_3081</td>\n",
       "      <td>1</td>\n",
       "      <td>1</td>\n",
       "      <td>1</td>\n",
       "      <td>0</td>\n",
       "      <td>0</td>\n",
       "      <td>0</td>\n",
       "      <td>0</td>\n",
       "      <td>0</td>\n",
       "      <td>0</td>\n",
       "      <td>...</td>\n",
       "      <td>0</td>\n",
       "      <td>0</td>\n",
       "      <td>0</td>\n",
       "      <td>0</td>\n",
       "      <td>0</td>\n",
       "      <td>0</td>\n",
       "      <td>0</td>\n",
       "      <td>0</td>\n",
       "      <td>0</td>\n",
       "      <td>0</td>\n",
       "    </tr>\n",
       "    <tr>\n",
       "      <th>3081</th>\n",
       "      <td>AUTOGEN_molecule_ws_3082</td>\n",
       "      <td>0</td>\n",
       "      <td>0</td>\n",
       "      <td>0</td>\n",
       "      <td>0</td>\n",
       "      <td>0</td>\n",
       "      <td>0</td>\n",
       "      <td>0</td>\n",
       "      <td>0</td>\n",
       "      <td>0</td>\n",
       "      <td>...</td>\n",
       "      <td>0</td>\n",
       "      <td>0</td>\n",
       "      <td>0</td>\n",
       "      <td>0</td>\n",
       "      <td>0</td>\n",
       "      <td>0</td>\n",
       "      <td>0</td>\n",
       "      <td>0</td>\n",
       "      <td>0</td>\n",
       "      <td>0</td>\n",
       "    </tr>\n",
       "    <tr>\n",
       "      <th>3082</th>\n",
       "      <td>AUTOGEN_molecule_ws_3083</td>\n",
       "      <td>1</td>\n",
       "      <td>1</td>\n",
       "      <td>1</td>\n",
       "      <td>0</td>\n",
       "      <td>0</td>\n",
       "      <td>0</td>\n",
       "      <td>0</td>\n",
       "      <td>0</td>\n",
       "      <td>0</td>\n",
       "      <td>...</td>\n",
       "      <td>0</td>\n",
       "      <td>0</td>\n",
       "      <td>0</td>\n",
       "      <td>0</td>\n",
       "      <td>0</td>\n",
       "      <td>0</td>\n",
       "      <td>0</td>\n",
       "      <td>0</td>\n",
       "      <td>0</td>\n",
       "      <td>0</td>\n",
       "    </tr>\n",
       "  </tbody>\n",
       "</table>\n",
       "<p>3083 rows × 882 columns</p>\n",
       "</div>"
      ],
      "text/plain": [
       "                          Name  PubchemFP0  PubchemFP1  PubchemFP2  \\\n",
       "0        AUTOGEN_molecule_ws_1           1           1           0   \n",
       "1        AUTOGEN_molecule_ws_2           1           1           1   \n",
       "2        AUTOGEN_molecule_ws_3           1           1           0   \n",
       "3        AUTOGEN_molecule_ws_4           1           1           0   \n",
       "4        AUTOGEN_molecule_ws_5           1           1           1   \n",
       "...                        ...         ...         ...         ...   \n",
       "3078  AUTOGEN_molecule_ws_3079           1           1           1   \n",
       "3079  AUTOGEN_molecule_ws_3080           0           0           0   \n",
       "3080  AUTOGEN_molecule_ws_3081           1           1           1   \n",
       "3081  AUTOGEN_molecule_ws_3082           0           0           0   \n",
       "3082  AUTOGEN_molecule_ws_3083           1           1           1   \n",
       "\n",
       "      PubchemFP3  PubchemFP4  PubchemFP5  PubchemFP6  PubchemFP7  PubchemFP8  \\\n",
       "0              0           0           0           0           0           0   \n",
       "1              0           0           0           0           0           0   \n",
       "2              0           0           0           0           0           0   \n",
       "3              0           0           0           0           0           0   \n",
       "4              1           0           0           0           0           0   \n",
       "...          ...         ...         ...         ...         ...         ...   \n",
       "3078           0           0           0           0           0           0   \n",
       "3079           0           0           0           0           0           0   \n",
       "3080           0           0           0           0           0           0   \n",
       "3081           0           0           0           0           0           0   \n",
       "3082           0           0           0           0           0           0   \n",
       "\n",
       "      ...  PubchemFP871  PubchemFP872  PubchemFP873  PubchemFP874  \\\n",
       "0     ...             0             0             0             0   \n",
       "1     ...             0             0             0             0   \n",
       "2     ...             0             0             0             0   \n",
       "3     ...             0             0             0             0   \n",
       "4     ...             0             0             0             0   \n",
       "...   ...           ...           ...           ...           ...   \n",
       "3078  ...             0             0             0             0   \n",
       "3079  ...             0             0             0             0   \n",
       "3080  ...             0             0             0             0   \n",
       "3081  ...             0             0             0             0   \n",
       "3082  ...             0             0             0             0   \n",
       "\n",
       "      PubchemFP875  PubchemFP876  PubchemFP877  PubchemFP878  PubchemFP879  \\\n",
       "0                0             0             0             0             0   \n",
       "1                0             0             0             0             0   \n",
       "2                0             0             0             0             0   \n",
       "3                0             0             0             0             0   \n",
       "4                0             0             0             0             0   \n",
       "...            ...           ...           ...           ...           ...   \n",
       "3078             0             0             0             0             0   \n",
       "3079             0             0             0             0             0   \n",
       "3080             0             0             0             0             0   \n",
       "3081             0             0             0             0             0   \n",
       "3082             0             0             0             0             0   \n",
       "\n",
       "      PubchemFP880  \n",
       "0                0  \n",
       "1                0  \n",
       "2                0  \n",
       "3                0  \n",
       "4                0  \n",
       "...            ...  \n",
       "3078             0  \n",
       "3079             0  \n",
       "3080             0  \n",
       "3081             0  \n",
       "3082             0  \n",
       "\n",
       "[3083 rows x 882 columns]"
      ]
     },
     "execution_count": 16,
     "metadata": {},
     "output_type": "execute_result"
    }
   ],
   "source": [
    "descriptors_PubChem"
   ]
  },
  {
   "cell_type": "code",
   "execution_count": 17,
   "metadata": {},
   "outputs": [],
   "source": [
    "x_tr = descriptors_PubChem.drop('Name', axis=1)"
   ]
  },
  {
   "cell_type": "code",
   "execution_count": 18,
   "metadata": {},
   "outputs": [],
   "source": [
    "x_tr = np.array(x_tr, dtype=np.float32)\n",
    "y_tr = np.array(y_tr, dtype=np.float32)"
   ]
  },
  {
   "cell_type": "code",
   "execution_count": 35,
   "metadata": {},
   "outputs": [],
   "source": [
    "savetxt('Models/Padels/x_tr_PubChem.csv', y_tr, delimiter=',')"
   ]
  },
  {
   "cell_type": "code",
   "execution_count": 36,
   "metadata": {},
   "outputs": [
    {
     "data": {
      "text/plain": [
       "(3083, 881)"
      ]
     },
     "execution_count": 36,
     "metadata": {},
     "output_type": "execute_result"
    }
   ],
   "source": [
    "x_tr.shape"
   ]
  },
  {
   "cell_type": "markdown",
   "metadata": {},
   "source": [
    "# 7.Descriptor calculation for test set"
   ]
  },
  {
   "cell_type": "code",
   "execution_count": 179,
   "metadata": {},
   "outputs": [],
   "source": [
    "from padelpy import padeldescriptor\n",
    "\n",
    "fingerprint = 'PubChem'\n",
    "\n",
    "fingerprint_output_file = ''.join([fingerprint,'_ts.csv']) #PubChem.csv\n",
    "fingerprint_descriptortypes = fp[fingerprint]\n",
    "\n",
    "padeldescriptor(mol_dir='datasets/molecule_ts.smi', \n",
    "                d_file=fingerprint_output_file, #'PubChem.csv'\n",
    "                #descriptortypes='PubChem.xml', \n",
    "                descriptortypes= fingerprint_descriptortypes,\n",
    "                detectaromaticity=True,\n",
    "                standardizenitro=True,\n",
    "                standardizetautomers=True,\n",
    "                threads=2,\n",
    "                removesalt=True,\n",
    "                log=False,\n",
    "                fingerprints=True)"
   ]
  },
  {
   "cell_type": "code",
   "execution_count": 19,
   "metadata": {},
   "outputs": [],
   "source": [
    "descriptors_PubChem_ts = pd.read_csv('PubChem_ts.csv')"
   ]
  },
  {
   "cell_type": "code",
   "execution_count": 20,
   "metadata": {},
   "outputs": [],
   "source": [
    "x_ts = descriptors_PubChem_ts.drop('Name', axis=1)"
   ]
  },
  {
   "cell_type": "code",
   "execution_count": 21,
   "metadata": {},
   "outputs": [
    {
     "data": {
      "text/plain": [
       "(771, 881)"
      ]
     },
     "execution_count": 21,
     "metadata": {},
     "output_type": "execute_result"
    }
   ],
   "source": [
    "x_ts.shape"
   ]
  },
  {
   "cell_type": "code",
   "execution_count": null,
   "metadata": {},
   "outputs": [],
   "source": []
  },
  {
   "cell_type": "code",
   "execution_count": null,
   "metadata": {},
   "outputs": [],
   "source": []
  },
  {
   "cell_type": "markdown",
   "metadata": {},
   "source": [
    "# load the models from disk"
   ]
  },
  {
   "cell_type": "code",
   "execution_count": 22,
   "metadata": {},
   "outputs": [],
   "source": [
    "best_svm = pickle.load(open('Models/Padels/HDAC6_SVM_PubChem.pkl', 'rb'))"
   ]
  },
  {
   "cell_type": "code",
   "execution_count": 23,
   "metadata": {},
   "outputs": [],
   "source": [
    "best_gbr = pickle.load(open('Models/Padels/HDAC6_GBR_PubChem.pkl', 'rb'))"
   ]
  },
  {
   "cell_type": "code",
   "execution_count": 24,
   "metadata": {},
   "outputs": [],
   "source": [
    "best_MLPR = pickle.load(open('Models/Padels/HDAC6_MLPR_PubChem.pkl', 'rb'))"
   ]
  },
  {
   "cell_type": "code",
   "execution_count": 25,
   "metadata": {},
   "outputs": [],
   "source": [
    "best_kNN = pickle.load(open('Models/Padels/HDAC6_kNN_PubChem.pkl', 'rb'))"
   ]
  },
  {
   "cell_type": "markdown",
   "metadata": {},
   "source": [
    "# Prediction for CV"
   ]
  },
  {
   "cell_type": "code",
   "execution_count": 26,
   "metadata": {},
   "outputs": [],
   "source": [
    "y_pred_ws_GBR = best_gbr.predict(x_tr)"
   ]
  },
  {
   "cell_type": "code",
   "execution_count": 27,
   "metadata": {},
   "outputs": [],
   "source": [
    "y_pred_ws_svm = best_svm.predict(x_tr)"
   ]
  },
  {
   "cell_type": "code",
   "execution_count": 28,
   "metadata": {},
   "outputs": [],
   "source": [
    "y_pred_con=(y_pred_ws_GBR+y_pred_ws_svm)/2"
   ]
  },
  {
   "cell_type": "code",
   "execution_count": 29,
   "metadata": {},
   "outputs": [
    {
     "data": {
      "text/plain": [
       "0.93"
      ]
     },
     "execution_count": 29,
     "metadata": {},
     "output_type": "execute_result"
    }
   ],
   "source": [
    "R2_WS = round(r2_score(y_tr, y_pred_con), 2)\n",
    "R2_WS"
   ]
  },
  {
   "cell_type": "code",
   "execution_count": 30,
   "metadata": {},
   "outputs": [
    {
     "data": {
      "text/plain": [
       "0.46"
      ]
     },
     "execution_count": 30,
     "metadata": {},
     "output_type": "execute_result"
    }
   ],
   "source": [
    "RMSE_WS=round(np.sqrt(mean_absolute_error(y_tr, y_pred_con)), 2)\n",
    "RMSE_WS"
   ]
  },
  {
   "cell_type": "code",
   "execution_count": 31,
   "metadata": {},
   "outputs": [],
   "source": [
    "seed = 42\n",
    "cv=KFold(n_splits=5, random_state=seed, shuffle=True)"
   ]
  },
  {
   "cell_type": "code",
   "execution_count": 76,
   "metadata": {},
   "outputs": [],
   "source": [
    "y_pred_CV_svm = cross_val_predict(best_svm, x_tr, y_tr, cv=cv)"
   ]
  },
  {
   "cell_type": "code",
   "execution_count": 77,
   "metadata": {},
   "outputs": [],
   "source": [
    "y_pred_CV_gbr = cross_val_predict(best_gbr, x_tr, y_tr, cv=cv)"
   ]
  },
  {
   "cell_type": "code",
   "execution_count": 78,
   "metadata": {},
   "outputs": [],
   "source": [
    "y_pred_CV_MLPR = cross_val_predict(best_MLPR, x_tr, y_tr, cv=cv)"
   ]
  },
  {
   "cell_type": "code",
   "execution_count": 79,
   "metadata": {},
   "outputs": [],
   "source": [
    "y_pred_CV_kNN = cross_val_predict(best_kNN, x_tr, y_tr, cv=cv)"
   ]
  },
  {
   "cell_type": "markdown",
   "metadata": {},
   "source": [
    "# For all models"
   ]
  },
  {
   "cell_type": "code",
   "execution_count": 80,
   "metadata": {},
   "outputs": [],
   "source": [
    "y_pred_con=(y_pred_CV_svm+y_pred_CV_gbr+y_pred_CV_MLPR+y_pred_CV_kNN)/4"
   ]
  },
  {
   "cell_type": "code",
   "execution_count": 81,
   "metadata": {},
   "outputs": [
    {
     "data": {
      "text/plain": [
       "0.62"
      ]
     },
     "execution_count": 81,
     "metadata": {},
     "output_type": "execute_result"
    }
   ],
   "source": [
    "Q2_CV = round(r2_score(y_tr, y_pred_con), 2)\n",
    "Q2_CV"
   ]
  },
  {
   "cell_type": "code",
   "execution_count": 82,
   "metadata": {},
   "outputs": [
    {
     "data": {
      "text/plain": [
       "0.7"
      ]
     },
     "execution_count": 82,
     "metadata": {},
     "output_type": "execute_result"
    }
   ],
   "source": [
    "RMSE_CV=round(np.sqrt(mean_absolute_error(y_tr, y_pred_con)),2)\n",
    "RMSE_CV"
   ]
  },
  {
   "cell_type": "markdown",
   "metadata": {},
   "source": [
    "# three models: svm+gbr+MLPR"
   ]
  },
  {
   "cell_type": "code",
   "execution_count": 83,
   "metadata": {},
   "outputs": [],
   "source": [
    "y_pred_con=(y_pred_CV_svm+y_pred_CV_gbr+y_pred_CV_MLPR)/3"
   ]
  },
  {
   "cell_type": "code",
   "execution_count": 84,
   "metadata": {},
   "outputs": [
    {
     "data": {
      "text/plain": [
       "0.62"
      ]
     },
     "execution_count": 84,
     "metadata": {},
     "output_type": "execute_result"
    }
   ],
   "source": [
    "Q2_CV = round(r2_score(y_tr, y_pred_con), 2)\n",
    "Q2_CV"
   ]
  },
  {
   "cell_type": "code",
   "execution_count": 85,
   "metadata": {},
   "outputs": [
    {
     "data": {
      "text/plain": [
       "0.71"
      ]
     },
     "execution_count": 85,
     "metadata": {},
     "output_type": "execute_result"
    }
   ],
   "source": [
    "RMSE_CV=round(np.sqrt(mean_absolute_error(y_tr, y_pred_con)),2)\n",
    "RMSE_CV"
   ]
  },
  {
   "cell_type": "markdown",
   "metadata": {},
   "source": [
    "# two models: svm+gbr"
   ]
  },
  {
   "cell_type": "code",
   "execution_count": 86,
   "metadata": {},
   "outputs": [],
   "source": [
    "y_pred_con_without_MLPR=(y_pred_CV_svm+y_pred_CV_gbr)/2"
   ]
  },
  {
   "cell_type": "code",
   "execution_count": 87,
   "metadata": {},
   "outputs": [
    {
     "data": {
      "text/plain": [
       "0.63"
      ]
     },
     "execution_count": 87,
     "metadata": {},
     "output_type": "execute_result"
    }
   ],
   "source": [
    "Q2_CV = round(r2_score(y_tr, y_pred_con_without_MLPR), 2)\n",
    "Q2_CV"
   ]
  },
  {
   "cell_type": "code",
   "execution_count": 88,
   "metadata": {},
   "outputs": [
    {
     "data": {
      "text/plain": [
       "0.7"
      ]
     },
     "execution_count": 88,
     "metadata": {},
     "output_type": "execute_result"
    }
   ],
   "source": [
    "RMSE_CV=round(np.sqrt(mean_absolute_error(y_tr, y_pred_con_without_MLPR)),2)\n",
    "RMSE_CV"
   ]
  },
  {
   "cell_type": "markdown",
   "metadata": {},
   "source": [
    "# Prediction for test set's molecules"
   ]
  },
  {
   "cell_type": "code",
   "execution_count": 45,
   "metadata": {},
   "outputs": [],
   "source": [
    "x_ts = np.array(x_ts, dtype=np.float32)\n",
    "y_ts = np.array(y_ts, dtype=np.float32)"
   ]
  },
  {
   "cell_type": "code",
   "execution_count": 46,
   "metadata": {},
   "outputs": [],
   "source": [
    "y_pred_svm = best_svm.predict(x_ts)"
   ]
  },
  {
   "cell_type": "code",
   "execution_count": 47,
   "metadata": {},
   "outputs": [],
   "source": [
    "y_pred_gbr = best_gbr.predict(x_ts)"
   ]
  },
  {
   "cell_type": "code",
   "execution_count": 48,
   "metadata": {},
   "outputs": [],
   "source": [
    "y_pred_MLPR = best_MLPR.predict(x_ts)"
   ]
  },
  {
   "cell_type": "code",
   "execution_count": 49,
   "metadata": {},
   "outputs": [],
   "source": [
    "y_pred_kNN = best_kNN.predict(x_ts)"
   ]
  },
  {
   "cell_type": "code",
   "execution_count": 50,
   "metadata": {},
   "outputs": [],
   "source": [
    "y_pred_con=(y_pred_svm+y_pred_gbr)/2"
   ]
  },
  {
   "cell_type": "code",
   "execution_count": 51,
   "metadata": {},
   "outputs": [
    {
     "data": {
      "text/plain": [
       "0.67"
      ]
     },
     "execution_count": 51,
     "metadata": {},
     "output_type": "execute_result"
    }
   ],
   "source": [
    "Q2_TS = round(r2_score(y_ts, y_pred_con), 2)\n",
    "Q2_TS"
   ]
  },
  {
   "cell_type": "code",
   "execution_count": 52,
   "metadata": {},
   "outputs": [
    {
     "data": {
      "text/plain": [
       "0.68"
      ]
     },
     "execution_count": 52,
     "metadata": {},
     "output_type": "execute_result"
    }
   ],
   "source": [
    "RMSE_TS=round(np.sqrt(mean_absolute_error(y_ts, y_pred_con)), 2)\n",
    "RMSE_TS"
   ]
  },
  {
   "cell_type": "markdown",
   "metadata": {},
   "source": [
    "# Estimating applicability domain. Method - Euclidian distances, K=1"
   ]
  },
  {
   "cell_type": "code",
   "execution_count": 53,
   "metadata": {},
   "outputs": [],
   "source": [
    "neighbors_k= pairwise_distances(x_tr, n_jobs=-1)\n",
    "neighbors_k.sort(0)"
   ]
  },
  {
   "cell_type": "code",
   "execution_count": 54,
   "metadata": {},
   "outputs": [
    {
     "data": {
      "text/html": [
       "<div>\n",
       "<style scoped>\n",
       "    .dataframe tbody tr th:only-of-type {\n",
       "        vertical-align: middle;\n",
       "    }\n",
       "\n",
       "    .dataframe tbody tr th {\n",
       "        vertical-align: top;\n",
       "    }\n",
       "\n",
       "    .dataframe thead th {\n",
       "        text-align: right;\n",
       "    }\n",
       "</style>\n",
       "<table border=\"1\" class=\"dataframe\">\n",
       "  <thead>\n",
       "    <tr style=\"text-align: right;\">\n",
       "      <th></th>\n",
       "      <th>0</th>\n",
       "      <th>1</th>\n",
       "      <th>2</th>\n",
       "      <th>3</th>\n",
       "      <th>4</th>\n",
       "      <th>5</th>\n",
       "      <th>6</th>\n",
       "      <th>7</th>\n",
       "      <th>8</th>\n",
       "      <th>9</th>\n",
       "      <th>...</th>\n",
       "      <th>3073</th>\n",
       "      <th>3074</th>\n",
       "      <th>3075</th>\n",
       "      <th>3076</th>\n",
       "      <th>3077</th>\n",
       "      <th>3078</th>\n",
       "      <th>3079</th>\n",
       "      <th>3080</th>\n",
       "      <th>3081</th>\n",
       "      <th>3082</th>\n",
       "    </tr>\n",
       "  </thead>\n",
       "  <tbody>\n",
       "    <tr>\n",
       "      <th>0</th>\n",
       "      <td>0.000000</td>\n",
       "      <td>0.000000</td>\n",
       "      <td>0.000000</td>\n",
       "      <td>0.000000</td>\n",
       "      <td>0.000000</td>\n",
       "      <td>0.000000</td>\n",
       "      <td>0.000000</td>\n",
       "      <td>0.000000</td>\n",
       "      <td>0.000000</td>\n",
       "      <td>0.000000</td>\n",
       "      <td>...</td>\n",
       "      <td>0.000000</td>\n",
       "      <td>0.000000</td>\n",
       "      <td>0.000000</td>\n",
       "      <td>0.000000</td>\n",
       "      <td>0.000000</td>\n",
       "      <td>0.000000</td>\n",
       "      <td>0.000000</td>\n",
       "      <td>0.000000</td>\n",
       "      <td>0.000000</td>\n",
       "      <td>0.000000</td>\n",
       "    </tr>\n",
       "    <tr>\n",
       "      <th>1</th>\n",
       "      <td>2.449490</td>\n",
       "      <td>4.795832</td>\n",
       "      <td>4.898980</td>\n",
       "      <td>3.316625</td>\n",
       "      <td>6.928203</td>\n",
       "      <td>3.464102</td>\n",
       "      <td>7.549834</td>\n",
       "      <td>2.828427</td>\n",
       "      <td>2.236068</td>\n",
       "      <td>5.291502</td>\n",
       "      <td>...</td>\n",
       "      <td>2.000000</td>\n",
       "      <td>4.000000</td>\n",
       "      <td>2.236068</td>\n",
       "      <td>4.358899</td>\n",
       "      <td>2.000000</td>\n",
       "      <td>3.000000</td>\n",
       "      <td>0.000000</td>\n",
       "      <td>3.162278</td>\n",
       "      <td>0.000000</td>\n",
       "      <td>4.690416</td>\n",
       "    </tr>\n",
       "    <tr>\n",
       "      <th>2</th>\n",
       "      <td>6.855655</td>\n",
       "      <td>5.196152</td>\n",
       "      <td>5.385165</td>\n",
       "      <td>4.123106</td>\n",
       "      <td>7.000000</td>\n",
       "      <td>4.000000</td>\n",
       "      <td>7.681146</td>\n",
       "      <td>3.000000</td>\n",
       "      <td>4.690416</td>\n",
       "      <td>5.656854</td>\n",
       "      <td>...</td>\n",
       "      <td>3.000000</td>\n",
       "      <td>4.000000</td>\n",
       "      <td>2.236068</td>\n",
       "      <td>4.690416</td>\n",
       "      <td>2.449490</td>\n",
       "      <td>4.000000</td>\n",
       "      <td>1.732051</td>\n",
       "      <td>3.162278</td>\n",
       "      <td>1.732051</td>\n",
       "      <td>4.795832</td>\n",
       "    </tr>\n",
       "    <tr>\n",
       "      <th>3</th>\n",
       "      <td>7.071068</td>\n",
       "      <td>5.477226</td>\n",
       "      <td>6.244998</td>\n",
       "      <td>4.242640</td>\n",
       "      <td>7.071068</td>\n",
       "      <td>5.385165</td>\n",
       "      <td>7.874008</td>\n",
       "      <td>3.000000</td>\n",
       "      <td>4.690416</td>\n",
       "      <td>5.656854</td>\n",
       "      <td>...</td>\n",
       "      <td>3.464102</td>\n",
       "      <td>4.795832</td>\n",
       "      <td>2.828427</td>\n",
       "      <td>5.099020</td>\n",
       "      <td>2.645751</td>\n",
       "      <td>4.690416</td>\n",
       "      <td>2.449490</td>\n",
       "      <td>3.316625</td>\n",
       "      <td>2.449490</td>\n",
       "      <td>4.898980</td>\n",
       "    </tr>\n",
       "    <tr>\n",
       "      <th>4</th>\n",
       "      <td>7.141428</td>\n",
       "      <td>5.477226</td>\n",
       "      <td>6.244998</td>\n",
       "      <td>4.358899</td>\n",
       "      <td>7.141428</td>\n",
       "      <td>5.477226</td>\n",
       "      <td>8.000000</td>\n",
       "      <td>3.000000</td>\n",
       "      <td>5.099020</td>\n",
       "      <td>5.916080</td>\n",
       "      <td>...</td>\n",
       "      <td>3.605551</td>\n",
       "      <td>5.385165</td>\n",
       "      <td>3.000000</td>\n",
       "      <td>5.196152</td>\n",
       "      <td>3.000000</td>\n",
       "      <td>5.000000</td>\n",
       "      <td>2.449490</td>\n",
       "      <td>3.741657</td>\n",
       "      <td>2.449490</td>\n",
       "      <td>5.567764</td>\n",
       "    </tr>\n",
       "    <tr>\n",
       "      <th>...</th>\n",
       "      <td>...</td>\n",
       "      <td>...</td>\n",
       "      <td>...</td>\n",
       "      <td>...</td>\n",
       "      <td>...</td>\n",
       "      <td>...</td>\n",
       "      <td>...</td>\n",
       "      <td>...</td>\n",
       "      <td>...</td>\n",
       "      <td>...</td>\n",
       "      <td>...</td>\n",
       "      <td>...</td>\n",
       "      <td>...</td>\n",
       "      <td>...</td>\n",
       "      <td>...</td>\n",
       "      <td>...</td>\n",
       "      <td>...</td>\n",
       "      <td>...</td>\n",
       "      <td>...</td>\n",
       "      <td>...</td>\n",
       "      <td>...</td>\n",
       "    </tr>\n",
       "    <tr>\n",
       "      <th>3078</th>\n",
       "      <td>13.711309</td>\n",
       "      <td>12.328828</td>\n",
       "      <td>12.845233</td>\n",
       "      <td>13.784049</td>\n",
       "      <td>15.556349</td>\n",
       "      <td>13.453624</td>\n",
       "      <td>13.266500</td>\n",
       "      <td>13.416408</td>\n",
       "      <td>14.933185</td>\n",
       "      <td>12.529964</td>\n",
       "      <td>...</td>\n",
       "      <td>12.609520</td>\n",
       "      <td>13.000000</td>\n",
       "      <td>12.609520</td>\n",
       "      <td>12.845233</td>\n",
       "      <td>12.369317</td>\n",
       "      <td>12.727922</td>\n",
       "      <td>13.564660</td>\n",
       "      <td>12.328828</td>\n",
       "      <td>13.564660</td>\n",
       "      <td>13.527749</td>\n",
       "    </tr>\n",
       "    <tr>\n",
       "      <th>3079</th>\n",
       "      <td>13.820275</td>\n",
       "      <td>12.409674</td>\n",
       "      <td>12.884099</td>\n",
       "      <td>13.784049</td>\n",
       "      <td>15.620500</td>\n",
       "      <td>13.527749</td>\n",
       "      <td>13.304134</td>\n",
       "      <td>13.490738</td>\n",
       "      <td>15.000000</td>\n",
       "      <td>12.884099</td>\n",
       "      <td>...</td>\n",
       "      <td>12.688578</td>\n",
       "      <td>13.038404</td>\n",
       "      <td>12.688578</td>\n",
       "      <td>12.845233</td>\n",
       "      <td>12.489996</td>\n",
       "      <td>12.727922</td>\n",
       "      <td>13.674794</td>\n",
       "      <td>12.369317</td>\n",
       "      <td>13.674794</td>\n",
       "      <td>13.564660</td>\n",
       "    </tr>\n",
       "    <tr>\n",
       "      <th>3080</th>\n",
       "      <td>13.820275</td>\n",
       "      <td>12.529964</td>\n",
       "      <td>12.884099</td>\n",
       "      <td>14.352700</td>\n",
       "      <td>15.874508</td>\n",
       "      <td>13.527749</td>\n",
       "      <td>13.304134</td>\n",
       "      <td>13.490738</td>\n",
       "      <td>15.264338</td>\n",
       "      <td>12.961481</td>\n",
       "      <td>...</td>\n",
       "      <td>12.845233</td>\n",
       "      <td>13.038404</td>\n",
       "      <td>12.727922</td>\n",
       "      <td>12.922848</td>\n",
       "      <td>12.569805</td>\n",
       "      <td>12.767145</td>\n",
       "      <td>13.747727</td>\n",
       "      <td>12.369317</td>\n",
       "      <td>13.747727</td>\n",
       "      <td>13.601471</td>\n",
       "    </tr>\n",
       "    <tr>\n",
       "      <th>3081</th>\n",
       "      <td>13.856406</td>\n",
       "      <td>12.649111</td>\n",
       "      <td>12.922848</td>\n",
       "      <td>14.352700</td>\n",
       "      <td>15.874508</td>\n",
       "      <td>13.564660</td>\n",
       "      <td>13.304134</td>\n",
       "      <td>13.564660</td>\n",
       "      <td>15.264338</td>\n",
       "      <td>12.961481</td>\n",
       "      <td>...</td>\n",
       "      <td>12.845233</td>\n",
       "      <td>13.076696</td>\n",
       "      <td>12.845233</td>\n",
       "      <td>13.000000</td>\n",
       "      <td>12.569805</td>\n",
       "      <td>12.767145</td>\n",
       "      <td>13.820275</td>\n",
       "      <td>12.369317</td>\n",
       "      <td>13.820275</td>\n",
       "      <td>13.638182</td>\n",
       "    </tr>\n",
       "    <tr>\n",
       "      <th>3082</th>\n",
       "      <td>13.892444</td>\n",
       "      <td>12.688578</td>\n",
       "      <td>12.922848</td>\n",
       "      <td>14.866069</td>\n",
       "      <td>16.401220</td>\n",
       "      <td>13.856406</td>\n",
       "      <td>13.341664</td>\n",
       "      <td>13.820275</td>\n",
       "      <td>15.620500</td>\n",
       "      <td>13.076696</td>\n",
       "      <td>...</td>\n",
       "      <td>13.190906</td>\n",
       "      <td>13.114877</td>\n",
       "      <td>12.884099</td>\n",
       "      <td>13.304134</td>\n",
       "      <td>12.649111</td>\n",
       "      <td>13.076696</td>\n",
       "      <td>13.856406</td>\n",
       "      <td>12.529964</td>\n",
       "      <td>13.856406</td>\n",
       "      <td>13.674794</td>\n",
       "    </tr>\n",
       "  </tbody>\n",
       "</table>\n",
       "<p>3083 rows × 3083 columns</p>\n",
       "</div>"
      ],
      "text/plain": [
       "           0          1          2          3          4          5     \\\n",
       "0      0.000000   0.000000   0.000000   0.000000   0.000000   0.000000   \n",
       "1      2.449490   4.795832   4.898980   3.316625   6.928203   3.464102   \n",
       "2      6.855655   5.196152   5.385165   4.123106   7.000000   4.000000   \n",
       "3      7.071068   5.477226   6.244998   4.242640   7.071068   5.385165   \n",
       "4      7.141428   5.477226   6.244998   4.358899   7.141428   5.477226   \n",
       "...         ...        ...        ...        ...        ...        ...   \n",
       "3078  13.711309  12.328828  12.845233  13.784049  15.556349  13.453624   \n",
       "3079  13.820275  12.409674  12.884099  13.784049  15.620500  13.527749   \n",
       "3080  13.820275  12.529964  12.884099  14.352700  15.874508  13.527749   \n",
       "3081  13.856406  12.649111  12.922848  14.352700  15.874508  13.564660   \n",
       "3082  13.892444  12.688578  12.922848  14.866069  16.401220  13.856406   \n",
       "\n",
       "           6          7          8          9     ...       3073       3074  \\\n",
       "0      0.000000   0.000000   0.000000   0.000000  ...   0.000000   0.000000   \n",
       "1      7.549834   2.828427   2.236068   5.291502  ...   2.000000   4.000000   \n",
       "2      7.681146   3.000000   4.690416   5.656854  ...   3.000000   4.000000   \n",
       "3      7.874008   3.000000   4.690416   5.656854  ...   3.464102   4.795832   \n",
       "4      8.000000   3.000000   5.099020   5.916080  ...   3.605551   5.385165   \n",
       "...         ...        ...        ...        ...  ...        ...        ...   \n",
       "3078  13.266500  13.416408  14.933185  12.529964  ...  12.609520  13.000000   \n",
       "3079  13.304134  13.490738  15.000000  12.884099  ...  12.688578  13.038404   \n",
       "3080  13.304134  13.490738  15.264338  12.961481  ...  12.845233  13.038404   \n",
       "3081  13.304134  13.564660  15.264338  12.961481  ...  12.845233  13.076696   \n",
       "3082  13.341664  13.820275  15.620500  13.076696  ...  13.190906  13.114877   \n",
       "\n",
       "           3075       3076       3077       3078       3079       3080  \\\n",
       "0      0.000000   0.000000   0.000000   0.000000   0.000000   0.000000   \n",
       "1      2.236068   4.358899   2.000000   3.000000   0.000000   3.162278   \n",
       "2      2.236068   4.690416   2.449490   4.000000   1.732051   3.162278   \n",
       "3      2.828427   5.099020   2.645751   4.690416   2.449490   3.316625   \n",
       "4      3.000000   5.196152   3.000000   5.000000   2.449490   3.741657   \n",
       "...         ...        ...        ...        ...        ...        ...   \n",
       "3078  12.609520  12.845233  12.369317  12.727922  13.564660  12.328828   \n",
       "3079  12.688578  12.845233  12.489996  12.727922  13.674794  12.369317   \n",
       "3080  12.727922  12.922848  12.569805  12.767145  13.747727  12.369317   \n",
       "3081  12.845233  13.000000  12.569805  12.767145  13.820275  12.369317   \n",
       "3082  12.884099  13.304134  12.649111  13.076696  13.856406  12.529964   \n",
       "\n",
       "           3081       3082  \n",
       "0      0.000000   0.000000  \n",
       "1      0.000000   4.690416  \n",
       "2      1.732051   4.795832  \n",
       "3      2.449490   4.898980  \n",
       "4      2.449490   5.567764  \n",
       "...         ...        ...  \n",
       "3078  13.564660  13.527749  \n",
       "3079  13.674794  13.564660  \n",
       "3080  13.747727  13.601471  \n",
       "3081  13.820275  13.638182  \n",
       "3082  13.856406  13.674794  \n",
       "\n",
       "[3083 rows x 3083 columns]"
      ]
     },
     "execution_count": 54,
     "metadata": {},
     "output_type": "execute_result"
    }
   ],
   "source": [
    "df_tr=pd.DataFrame(neighbors_k)\n",
    "df_tr"
   ]
  },
  {
   "cell_type": "code",
   "execution_count": 55,
   "metadata": {},
   "outputs": [],
   "source": [
    "similarity= neighbors_k"
   ]
  },
  {
   "cell_type": "code",
   "execution_count": 56,
   "metadata": {},
   "outputs": [],
   "source": [
    "Dmean=np.mean(similarity[1,:])"
   ]
  },
  {
   "cell_type": "code",
   "execution_count": 57,
   "metadata": {},
   "outputs": [
    {
     "data": {
      "text/plain": [
       "2.41"
      ]
     },
     "execution_count": 57,
     "metadata": {},
     "output_type": "execute_result"
    }
   ],
   "source": [
    "round(Dmean, 2)"
   ]
  },
  {
   "cell_type": "code",
   "execution_count": 58,
   "metadata": {},
   "outputs": [],
   "source": [
    "std=np.std(similarity[1,:])"
   ]
  },
  {
   "cell_type": "code",
   "execution_count": 59,
   "metadata": {},
   "outputs": [
    {
     "data": {
      "text/plain": [
       "1.57"
      ]
     },
     "execution_count": 59,
     "metadata": {},
     "output_type": "execute_result"
    }
   ],
   "source": [
    "round(std, 2)"
   ]
  },
  {
   "cell_type": "code",
   "execution_count": 60,
   "metadata": {},
   "outputs": [
    {
     "name": "stdout",
     "output_type": "stream",
     "text": [
      "3.19\n"
     ]
    }
   ],
   "source": [
    "model_AD_limit=Dmean+std*0.5\n",
    "print(np.round(model_AD_limit, 2))"
   ]
  },
  {
   "cell_type": "code",
   "execution_count": 61,
   "metadata": {},
   "outputs": [],
   "source": [
    "neighbors_k_ts= pairwise_distances(x_tr,Y=x_ts, n_jobs=-1)\n",
    "neighbors_k_ts.sort(0)"
   ]
  },
  {
   "cell_type": "code",
   "execution_count": 62,
   "metadata": {},
   "outputs": [
    {
     "data": {
      "text/html": [
       "<div>\n",
       "<style scoped>\n",
       "    .dataframe tbody tr th:only-of-type {\n",
       "        vertical-align: middle;\n",
       "    }\n",
       "\n",
       "    .dataframe tbody tr th {\n",
       "        vertical-align: top;\n",
       "    }\n",
       "\n",
       "    .dataframe thead th {\n",
       "        text-align: right;\n",
       "    }\n",
       "</style>\n",
       "<table border=\"1\" class=\"dataframe\">\n",
       "  <thead>\n",
       "    <tr style=\"text-align: right;\">\n",
       "      <th></th>\n",
       "      <th>0</th>\n",
       "      <th>1</th>\n",
       "      <th>2</th>\n",
       "      <th>3</th>\n",
       "      <th>4</th>\n",
       "      <th>5</th>\n",
       "      <th>6</th>\n",
       "      <th>7</th>\n",
       "      <th>8</th>\n",
       "      <th>9</th>\n",
       "      <th>...</th>\n",
       "      <th>761</th>\n",
       "      <th>762</th>\n",
       "      <th>763</th>\n",
       "      <th>764</th>\n",
       "      <th>765</th>\n",
       "      <th>766</th>\n",
       "      <th>767</th>\n",
       "      <th>768</th>\n",
       "      <th>769</th>\n",
       "      <th>770</th>\n",
       "    </tr>\n",
       "  </thead>\n",
       "  <tbody>\n",
       "    <tr>\n",
       "      <th>0</th>\n",
       "      <td>4.898980</td>\n",
       "      <td>5.656854</td>\n",
       "      <td>3.464102</td>\n",
       "      <td>2.236068</td>\n",
       "      <td>5.656854</td>\n",
       "      <td>0.000000</td>\n",
       "      <td>3.464102</td>\n",
       "      <td>2.000000</td>\n",
       "      <td>0.000000</td>\n",
       "      <td>2.449490</td>\n",
       "      <td>...</td>\n",
       "      <td>1.732051</td>\n",
       "      <td>2.645751</td>\n",
       "      <td>2.828427</td>\n",
       "      <td>3.605551</td>\n",
       "      <td>1.414214</td>\n",
       "      <td>6.244998</td>\n",
       "      <td>2.828427</td>\n",
       "      <td>2.236068</td>\n",
       "      <td>0.000000</td>\n",
       "      <td>2.449490</td>\n",
       "    </tr>\n",
       "    <tr>\n",
       "      <th>1</th>\n",
       "      <td>6.000000</td>\n",
       "      <td>6.000000</td>\n",
       "      <td>3.741657</td>\n",
       "      <td>5.744563</td>\n",
       "      <td>5.656854</td>\n",
       "      <td>2.236068</td>\n",
       "      <td>4.000000</td>\n",
       "      <td>4.123106</td>\n",
       "      <td>0.000000</td>\n",
       "      <td>2.449490</td>\n",
       "      <td>...</td>\n",
       "      <td>3.316625</td>\n",
       "      <td>5.477226</td>\n",
       "      <td>3.464102</td>\n",
       "      <td>4.898980</td>\n",
       "      <td>1.414214</td>\n",
       "      <td>7.141428</td>\n",
       "      <td>3.464102</td>\n",
       "      <td>2.828427</td>\n",
       "      <td>4.000000</td>\n",
       "      <td>2.449490</td>\n",
       "    </tr>\n",
       "    <tr>\n",
       "      <th>2</th>\n",
       "      <td>6.164414</td>\n",
       "      <td>6.000000</td>\n",
       "      <td>4.123106</td>\n",
       "      <td>6.082763</td>\n",
       "      <td>6.244998</td>\n",
       "      <td>4.358899</td>\n",
       "      <td>4.472136</td>\n",
       "      <td>4.242640</td>\n",
       "      <td>0.000000</td>\n",
       "      <td>2.645751</td>\n",
       "      <td>...</td>\n",
       "      <td>3.316625</td>\n",
       "      <td>5.744563</td>\n",
       "      <td>4.123106</td>\n",
       "      <td>5.291502</td>\n",
       "      <td>1.414214</td>\n",
       "      <td>7.141428</td>\n",
       "      <td>4.123106</td>\n",
       "      <td>4.242640</td>\n",
       "      <td>5.099020</td>\n",
       "      <td>2.449490</td>\n",
       "    </tr>\n",
       "    <tr>\n",
       "      <th>3</th>\n",
       "      <td>6.244998</td>\n",
       "      <td>6.000000</td>\n",
       "      <td>4.472136</td>\n",
       "      <td>6.082763</td>\n",
       "      <td>6.244998</td>\n",
       "      <td>4.358899</td>\n",
       "      <td>4.898980</td>\n",
       "      <td>4.358899</td>\n",
       "      <td>3.872983</td>\n",
       "      <td>3.741657</td>\n",
       "      <td>...</td>\n",
       "      <td>4.000000</td>\n",
       "      <td>5.830952</td>\n",
       "      <td>4.898980</td>\n",
       "      <td>5.567764</td>\n",
       "      <td>3.000000</td>\n",
       "      <td>7.280110</td>\n",
       "      <td>4.898980</td>\n",
       "      <td>4.242640</td>\n",
       "      <td>5.196152</td>\n",
       "      <td>2.449490</td>\n",
       "    </tr>\n",
       "    <tr>\n",
       "      <th>4</th>\n",
       "      <td>6.324555</td>\n",
       "      <td>6.000000</td>\n",
       "      <td>4.898980</td>\n",
       "      <td>6.164414</td>\n",
       "      <td>6.403124</td>\n",
       "      <td>4.795832</td>\n",
       "      <td>4.898980</td>\n",
       "      <td>4.472136</td>\n",
       "      <td>4.795832</td>\n",
       "      <td>4.000000</td>\n",
       "      <td>...</td>\n",
       "      <td>4.123106</td>\n",
       "      <td>6.082763</td>\n",
       "      <td>5.000000</td>\n",
       "      <td>5.567764</td>\n",
       "      <td>3.000000</td>\n",
       "      <td>7.348469</td>\n",
       "      <td>4.898980</td>\n",
       "      <td>4.242640</td>\n",
       "      <td>5.291502</td>\n",
       "      <td>2.828427</td>\n",
       "    </tr>\n",
       "    <tr>\n",
       "      <th>...</th>\n",
       "      <td>...</td>\n",
       "      <td>...</td>\n",
       "      <td>...</td>\n",
       "      <td>...</td>\n",
       "      <td>...</td>\n",
       "      <td>...</td>\n",
       "      <td>...</td>\n",
       "      <td>...</td>\n",
       "      <td>...</td>\n",
       "      <td>...</td>\n",
       "      <td>...</td>\n",
       "      <td>...</td>\n",
       "      <td>...</td>\n",
       "      <td>...</td>\n",
       "      <td>...</td>\n",
       "      <td>...</td>\n",
       "      <td>...</td>\n",
       "      <td>...</td>\n",
       "      <td>...</td>\n",
       "      <td>...</td>\n",
       "      <td>...</td>\n",
       "    </tr>\n",
       "    <tr>\n",
       "      <th>3078</th>\n",
       "      <td>12.845233</td>\n",
       "      <td>13.152946</td>\n",
       "      <td>13.190906</td>\n",
       "      <td>12.369317</td>\n",
       "      <td>13.784049</td>\n",
       "      <td>14.832397</td>\n",
       "      <td>12.845233</td>\n",
       "      <td>13.341664</td>\n",
       "      <td>13.076696</td>\n",
       "      <td>13.820275</td>\n",
       "      <td>...</td>\n",
       "      <td>12.449900</td>\n",
       "      <td>14.247807</td>\n",
       "      <td>14.035668</td>\n",
       "      <td>12.961481</td>\n",
       "      <td>12.288206</td>\n",
       "      <td>14.387495</td>\n",
       "      <td>13.038404</td>\n",
       "      <td>12.884099</td>\n",
       "      <td>12.288206</td>\n",
       "      <td>13.747727</td>\n",
       "    </tr>\n",
       "    <tr>\n",
       "      <th>3079</th>\n",
       "      <td>12.884099</td>\n",
       "      <td>13.304134</td>\n",
       "      <td>13.266500</td>\n",
       "      <td>12.369317</td>\n",
       "      <td>13.820275</td>\n",
       "      <td>14.966630</td>\n",
       "      <td>12.845233</td>\n",
       "      <td>13.416408</td>\n",
       "      <td>13.076696</td>\n",
       "      <td>13.856406</td>\n",
       "      <td>...</td>\n",
       "      <td>12.569805</td>\n",
       "      <td>14.282857</td>\n",
       "      <td>14.106736</td>\n",
       "      <td>13.000000</td>\n",
       "      <td>12.288206</td>\n",
       "      <td>14.387495</td>\n",
       "      <td>13.038404</td>\n",
       "      <td>12.884099</td>\n",
       "      <td>12.409674</td>\n",
       "      <td>13.747727</td>\n",
       "    </tr>\n",
       "    <tr>\n",
       "      <th>3080</th>\n",
       "      <td>12.922848</td>\n",
       "      <td>13.601471</td>\n",
       "      <td>13.379088</td>\n",
       "      <td>12.489996</td>\n",
       "      <td>13.856406</td>\n",
       "      <td>15.297058</td>\n",
       "      <td>12.884099</td>\n",
       "      <td>13.490738</td>\n",
       "      <td>13.114877</td>\n",
       "      <td>13.856406</td>\n",
       "      <td>...</td>\n",
       "      <td>12.688578</td>\n",
       "      <td>14.456832</td>\n",
       "      <td>14.212670</td>\n",
       "      <td>13.000000</td>\n",
       "      <td>12.369317</td>\n",
       "      <td>14.422205</td>\n",
       "      <td>13.114877</td>\n",
       "      <td>12.922848</td>\n",
       "      <td>12.449900</td>\n",
       "      <td>13.747727</td>\n",
       "    </tr>\n",
       "    <tr>\n",
       "      <th>3081</th>\n",
       "      <td>12.961481</td>\n",
       "      <td>13.601471</td>\n",
       "      <td>13.416408</td>\n",
       "      <td>12.727922</td>\n",
       "      <td>14.317822</td>\n",
       "      <td>15.297058</td>\n",
       "      <td>12.922848</td>\n",
       "      <td>13.601471</td>\n",
       "      <td>13.152946</td>\n",
       "      <td>13.892444</td>\n",
       "      <td>...</td>\n",
       "      <td>12.727922</td>\n",
       "      <td>14.899665</td>\n",
       "      <td>14.212670</td>\n",
       "      <td>13.038404</td>\n",
       "      <td>12.449900</td>\n",
       "      <td>14.525839</td>\n",
       "      <td>13.114877</td>\n",
       "      <td>12.922848</td>\n",
       "      <td>12.489996</td>\n",
       "      <td>13.928389</td>\n",
       "    </tr>\n",
       "    <tr>\n",
       "      <th>3082</th>\n",
       "      <td>13.341664</td>\n",
       "      <td>14.071247</td>\n",
       "      <td>13.490738</td>\n",
       "      <td>12.922848</td>\n",
       "      <td>14.317822</td>\n",
       "      <td>15.524175</td>\n",
       "      <td>13.114877</td>\n",
       "      <td>13.711309</td>\n",
       "      <td>13.341664</td>\n",
       "      <td>14.106736</td>\n",
       "      <td>...</td>\n",
       "      <td>12.806249</td>\n",
       "      <td>14.899665</td>\n",
       "      <td>14.456832</td>\n",
       "      <td>13.304134</td>\n",
       "      <td>12.609520</td>\n",
       "      <td>14.560220</td>\n",
       "      <td>13.152946</td>\n",
       "      <td>13.228757</td>\n",
       "      <td>12.489996</td>\n",
       "      <td>13.964240</td>\n",
       "    </tr>\n",
       "  </tbody>\n",
       "</table>\n",
       "<p>3083 rows × 771 columns</p>\n",
       "</div>"
      ],
      "text/plain": [
       "            0          1          2          3          4          5    \\\n",
       "0      4.898980   5.656854   3.464102   2.236068   5.656854   0.000000   \n",
       "1      6.000000   6.000000   3.741657   5.744563   5.656854   2.236068   \n",
       "2      6.164414   6.000000   4.123106   6.082763   6.244998   4.358899   \n",
       "3      6.244998   6.000000   4.472136   6.082763   6.244998   4.358899   \n",
       "4      6.324555   6.000000   4.898980   6.164414   6.403124   4.795832   \n",
       "...         ...        ...        ...        ...        ...        ...   \n",
       "3078  12.845233  13.152946  13.190906  12.369317  13.784049  14.832397   \n",
       "3079  12.884099  13.304134  13.266500  12.369317  13.820275  14.966630   \n",
       "3080  12.922848  13.601471  13.379088  12.489996  13.856406  15.297058   \n",
       "3081  12.961481  13.601471  13.416408  12.727922  14.317822  15.297058   \n",
       "3082  13.341664  14.071247  13.490738  12.922848  14.317822  15.524175   \n",
       "\n",
       "            6          7          8          9    ...        761        762  \\\n",
       "0      3.464102   2.000000   0.000000   2.449490  ...   1.732051   2.645751   \n",
       "1      4.000000   4.123106   0.000000   2.449490  ...   3.316625   5.477226   \n",
       "2      4.472136   4.242640   0.000000   2.645751  ...   3.316625   5.744563   \n",
       "3      4.898980   4.358899   3.872983   3.741657  ...   4.000000   5.830952   \n",
       "4      4.898980   4.472136   4.795832   4.000000  ...   4.123106   6.082763   \n",
       "...         ...        ...        ...        ...  ...        ...        ...   \n",
       "3078  12.845233  13.341664  13.076696  13.820275  ...  12.449900  14.247807   \n",
       "3079  12.845233  13.416408  13.076696  13.856406  ...  12.569805  14.282857   \n",
       "3080  12.884099  13.490738  13.114877  13.856406  ...  12.688578  14.456832   \n",
       "3081  12.922848  13.601471  13.152946  13.892444  ...  12.727922  14.899665   \n",
       "3082  13.114877  13.711309  13.341664  14.106736  ...  12.806249  14.899665   \n",
       "\n",
       "            763        764        765        766        767        768  \\\n",
       "0      2.828427   3.605551   1.414214   6.244998   2.828427   2.236068   \n",
       "1      3.464102   4.898980   1.414214   7.141428   3.464102   2.828427   \n",
       "2      4.123106   5.291502   1.414214   7.141428   4.123106   4.242640   \n",
       "3      4.898980   5.567764   3.000000   7.280110   4.898980   4.242640   \n",
       "4      5.000000   5.567764   3.000000   7.348469   4.898980   4.242640   \n",
       "...         ...        ...        ...        ...        ...        ...   \n",
       "3078  14.035668  12.961481  12.288206  14.387495  13.038404  12.884099   \n",
       "3079  14.106736  13.000000  12.288206  14.387495  13.038404  12.884099   \n",
       "3080  14.212670  13.000000  12.369317  14.422205  13.114877  12.922848   \n",
       "3081  14.212670  13.038404  12.449900  14.525839  13.114877  12.922848   \n",
       "3082  14.456832  13.304134  12.609520  14.560220  13.152946  13.228757   \n",
       "\n",
       "            769        770  \n",
       "0      0.000000   2.449490  \n",
       "1      4.000000   2.449490  \n",
       "2      5.099020   2.449490  \n",
       "3      5.196152   2.449490  \n",
       "4      5.291502   2.828427  \n",
       "...         ...        ...  \n",
       "3078  12.288206  13.747727  \n",
       "3079  12.409674  13.747727  \n",
       "3080  12.449900  13.747727  \n",
       "3081  12.489996  13.928389  \n",
       "3082  12.489996  13.964240  \n",
       "\n",
       "[3083 rows x 771 columns]"
      ]
     },
     "execution_count": 62,
     "metadata": {},
     "output_type": "execute_result"
    }
   ],
   "source": [
    "x_ts_AD=pd.DataFrame(neighbors_k_ts)\n",
    "x_ts_AD"
   ]
  },
  {
   "cell_type": "code",
   "execution_count": 63,
   "metadata": {},
   "outputs": [
    {
     "name": "stdout",
     "output_type": "stream",
     "text": [
      "[4.899 5.657 3.464 2.236 5.657 0.    3.464 2.    0.    2.449 2.236 1.\n",
      " 4.899 1.414 0.    1.414 1.414 5.568 1.414 1.732 1.732 2.828 3.464 4.583\n",
      " 6.856 3.    1.    3.873 2.    3.162 2.828 3.606 3.317 3.162 2.449 3.\n",
      " 2.    2.236 2.236 3.162 3.873 1.732 1.414 2.    2.    1.414 2.646 0.\n",
      " 1.    1.    2.449 1.    4.123 2.449 2.    0.    1.414 3.873 5.099 2.236\n",
      " 3.873 2.    1.    1.    4.    3.317 2.236 0.    2.    2.646 1.732 0.\n",
      " 2.236 2.236 4.472 2.    0.    4.359 6.245 1.732 1.    3.    6.557 3.317\n",
      " 5.196 2.236 2.828 0.    2.646 0.    1.    5.099 2.449 3.606 1.414 3.742\n",
      " 3.317 2.236 2.646 2.449 1.    3.742 0.    5.099 2.828 5.568 1.414 3.162\n",
      " 1.732 1.414 0.    1.414 1.732 2.449 3.162 0.    2.449 0.    1.414 1.\n",
      " 4.243 1.    0.    4.243 2.646 3.317 1.414 1.414 3.742 2.828 3.606 2.828\n",
      " 2.236 0.    4.359 1.414 5.831 0.    0.    0.    5.385 3.464 3.606 0.\n",
      " 4.123 4.359 1.414 0.    3.    3.162 4.123 2.    5.    3.464 0.    2.828\n",
      " 2.    5.    4.    0.    1.414 1.    2.    2.    2.    0.    1.414 4.123\n",
      " 3.873 1.    2.    5.    1.    2.828 1.    2.449 1.732 3.464 3.    4.123\n",
      " 2.828 0.    4.359 1.    2.236 0.    4.    2.    2.449 2.236 4.796 2.\n",
      " 1.732 1.414 4.    0.    0.    3.317 3.    0.    0.    1.414 2.449 0.\n",
      " 2.    2.828 0.    3.    2.    2.    1.    2.236 2.236 6.557 1.732 2.236\n",
      " 5.292 3.    2.236 2.449 0.    2.449 4.796 2.    2.646 2.449 0.    2.\n",
      " 3.162 4.899 2.828 1.414 3.162 2.449 1.414 3.    3.464 1.732 3.873 2.236\n",
      " 1.732 2.    4.    5.568 2.828 2.449 2.    5.477 0.    1.414 2.    1.732\n",
      " 2.236 0.    1.    1.    2.236 1.    3.162 1.414 6.164 1.414 2.236 1.732\n",
      " 1.    1.    0.    3.162 3.    3.742 1.414 3.317 2.449 4.69  4.69  4.243\n",
      " 2.828 3.742 0.    2.    0.    1.414 1.414 2.    1.414 5.292 2.449 1.414\n",
      " 2.449 0.    0.    1.732 2.236 2.449 1.414 1.732 1.414 1.414 2.646 1.414\n",
      " 1.732 3.742 1.732 1.732 0.    0.    1.    6.782 1.414 1.    2.646 1.732\n",
      " 2.646 2.449 4.123 0.    1.    1.414 3.    2.449 3.162 1.414 4.243 5.099\n",
      " 1.    1.    2.828 3.873 3.    4.472 4.472 2.    0.    5.099 0.    1.414\n",
      " 2.449 0.    5.568 2.646 1.732 2.828 0.    2.236 0.    2.646 0.    2.236\n",
      " 1.414 3.    1.732 3.873 5.657 4.123 1.    5.196 0.    1.732 2.646 1.414\n",
      " 3.742 7.681 7.416 2.    2.236 2.236 2.    1.    2.236 1.    3.317 4.123\n",
      " 1.414 3.464 1.    1.    1.414 4.    1.414 2.449 1.    5.477 5.745 1.414\n",
      " 0.    2.646 2.449 0.    1.    2.236 5.477 1.732 1.    3.742 1.    2.236\n",
      " 0.    3.    3.873 1.    1.414 0.    2.646 2.646 5.099 2.646 0.    3.873\n",
      " 2.236 1.732 1.    2.    2.236 2.236 1.    2.236 5.292 3.606 2.    3.873\n",
      " 2.236 9.11  4.359 1.414 1.414 1.414 3.317 4.    1.414 5.477 3.742 1.732\n",
      " 1.414 1.    4.123 2.236 0.    3.    4.123 3.162 2.449 3.317 2.449 2.236\n",
      " 2.236 1.414 3.162 5.292 1.732 2.    1.    0.    3.317 2.    5.657 2.\n",
      " 2.828 0.    2.646 1.    2.236 2.449 0.    6.633 1.    2.    0.    4.123\n",
      " 4.583 3.317 5.196 0.    0.    3.606 0.    2.828 1.414 3.873 0.    2.449\n",
      " 4.123 2.646 0.    2.449 5.385 2.    2.    2.    1.    1.732 2.449 1.732\n",
      " 1.732 3.742 0.    5.099 3.162 2.    1.732 2.    2.    6.245 1.732 1.\n",
      " 2.    4.359 2.646 2.828 1.732 0.    3.464 6.245 1.    0.    2.    2.828\n",
      " 1.732 2.449 3.317 0.    1.732 2.236 3.317 3.    3.317 6.245 0.    4.\n",
      " 3.162 0.    4.472 3.873 1.414 6.856 3.606 0.    2.236 3.606 3.317 4.359\n",
      " 2.    2.    2.236 0.    1.414 1.732 2.828 3.606 1.    1.414 0.    2.828\n",
      " 2.236 2.828 3.317 5.385 1.414 0.    3.464 4.796 1.414 0.    0.    6.\n",
      " 1.    2.646 1.732 0.    1.    2.    4.243 1.    2.449 3.162 5.477 3.873\n",
      " 1.    0.    3.742 1.    2.449 0.    0.    1.732 4.123 0.    0.    3.873\n",
      " 3.742 3.    2.828 7.81  6.557 1.    4.472 3.742 1.414 0.    0.    2.449\n",
      " 0.    2.236 2.449 1.414 2.236 1.414 3.162 1.    0.    1.732 2.449 2.646\n",
      " 4.472 0.    7.071 2.236 0.    0.    0.    4.796 3.162 4.359 3.464 1.414\n",
      " 2.    1.    1.414 1.    4.    3.873 3.873 2.    1.414 1.414 4.243 3.606\n",
      " 2.236 1.    2.    1.732 1.414 1.732 0.    1.    1.732 4.472 2.449 2.\n",
      " 5.099 3.317 1.414 0.    1.    3.    3.742 1.414 1.    1.414 1.414 3.162\n",
      " 2.    2.828 3.873 2.828 1.    3.742 1.732 1.414 2.    4.123 4.583 3.464\n",
      " 2.    2.    1.414 1.414 3.464 2.236 3.464 3.873 3.464 1.414 5.477 3.606\n",
      " 3.317 1.414 5.385 2.828 3.    1.414 3.317 2.449 3.317 2.    0.    2.646\n",
      " 0.    5.831 4.69  1.    4.796 2.    1.414 2.    2.    2.449 3.606 0.\n",
      " 2.449 2.646 1.    3.464 1.    1.732 4.583 0.    4.359 2.449 2.828 0.\n",
      " 1.    3.317 1.732 2.236 1.732 1.732 3.606 0.    0.    3.    1.414 3.317\n",
      " 2.    2.236 1.732 4.472 2.236 0.    2.236 3.606 2.449 1.414 2.    6.856\n",
      " 1.    2.    4.    3.162 1.732 2.236 1.    2.236 1.414 1.732 1.    1.\n",
      " 3.606 1.732 1.732 4.899 2.449 1.732 2.646 2.828 3.606 1.414 6.245 2.828\n",
      " 2.236 0.    2.449]\n"
     ]
    }
   ],
   "source": [
    "similarity_ts= neighbors_k_ts\n",
    "cpd_AD=similarity_ts[0,:]\n",
    "cpd_value = np.round(cpd_AD, 3)\n",
    "print(cpd_value)"
   ]
  },
  {
   "cell_type": "code",
   "execution_count": 64,
   "metadata": {},
   "outputs": [
    {
     "name": "stdout",
     "output_type": "stream",
     "text": [
      "[False False False  True False  True False  True  True  True  True  True\n",
      " False  True  True  True  True False  True  True  True  True False False\n",
      " False  True  True False  True  True  True False False  True  True  True\n",
      "  True  True  True  True False  True  True  True  True  True  True  True\n",
      "  True  True  True  True False  True  True  True  True False False  True\n",
      " False  True  True  True False False  True  True  True  True  True  True\n",
      "  True  True False  True  True False False  True  True  True False False\n",
      " False  True  True  True  True  True  True False  True False  True False\n",
      " False  True  True  True  True False  True False  True False  True  True\n",
      "  True  True  True  True  True  True  True  True  True  True  True  True\n",
      " False  True  True False  True False  True  True False  True False  True\n",
      "  True  True False  True False  True  True  True False False False  True\n",
      " False False  True  True  True  True False  True False False  True  True\n",
      "  True False False  True  True  True  True  True  True  True  True False\n",
      " False  True  True False  True  True  True  True  True False  True False\n",
      "  True  True False  True  True  True False  True  True  True False  True\n",
      "  True  True False  True  True False  True  True  True  True  True  True\n",
      "  True  True  True  True  True  True  True  True  True False  True  True\n",
      " False  True  True  True  True  True False  True  True  True  True  True\n",
      "  True False  True  True  True  True  True  True False  True False  True\n",
      "  True  True False False  True  True  True False  True  True  True  True\n",
      "  True  True  True  True  True  True  True  True False  True  True  True\n",
      "  True  True  True  True  True False  True False  True False False False\n",
      "  True False  True  True  True  True  True  True  True False  True  True\n",
      "  True  True  True  True  True  True  True  True  True  True  True  True\n",
      "  True False  True  True  True  True  True False  True  True  True  True\n",
      "  True  True False  True  True  True  True  True  True  True False False\n",
      "  True  True  True False  True False False  True  True False  True  True\n",
      "  True  True False  True  True  True  True  True  True  True  True  True\n",
      "  True  True  True False False False  True False  True  True  True  True\n",
      " False False False  True  True  True  True  True  True  True False False\n",
      "  True False  True  True  True False  True  True  True False False  True\n",
      "  True  True  True  True  True  True False  True  True False  True  True\n",
      "  True  True False  True  True  True  True  True False  True  True False\n",
      "  True  True  True  True  True  True  True  True False False  True False\n",
      "  True False False  True  True  True False False  True False False  True\n",
      "  True  True False  True  True  True False  True  True False  True  True\n",
      "  True  True  True False  True  True  True  True False  True False  True\n",
      "  True  True  True  True  True  True  True False  True  True  True False\n",
      " False False False  True  True False  True  True  True False  True  True\n",
      " False  True  True  True False  True  True  True  True  True  True  True\n",
      "  True False  True False  True  True  True  True  True False  True  True\n",
      "  True False  True  True  True  True False False  True  True  True  True\n",
      "  True  True False  True  True  True False  True False False  True False\n",
      "  True  True False False  True False False  True  True False False False\n",
      "  True  True  True  True  True  True  True False  True  True  True  True\n",
      "  True  True False False  True  True False False  True  True  True False\n",
      "  True  True  True  True  True  True False  True  True  True False False\n",
      "  True  True False  True  True  True  True  True False  True  True False\n",
      " False  True  True False False  True False False  True  True  True  True\n",
      "  True  True  True  True  True  True  True  True  True  True  True  True\n",
      " False  True False  True  True  True  True False  True False False  True\n",
      "  True  True  True  True False False False  True  True  True False False\n",
      "  True  True  True  True  True  True  True  True  True False  True  True\n",
      " False False  True  True  True  True False  True  True  True  True  True\n",
      "  True  True False  True  True False  True  True  True False False False\n",
      "  True  True  True  True False  True False False False  True False False\n",
      " False  True False  True  True  True False  True False  True  True  True\n",
      "  True False False  True False  True  True  True  True  True False  True\n",
      "  True  True  True False  True  True False  True False  True  True  True\n",
      "  True False  True  True  True  True False  True  True  True  True False\n",
      "  True  True  True False  True  True  True False  True  True  True False\n",
      "  True  True False  True  True  True  True  True  True  True  True  True\n",
      " False  True  True False  True  True  True  True False  True False  True\n",
      "  True  True  True]\n"
     ]
    }
   ],
   "source": [
    "cpd_AD = np.where(cpd_value <= model_AD_limit, True, False)\n",
    "print(cpd_AD)"
   ]
  },
  {
   "cell_type": "code",
   "execution_count": 65,
   "metadata": {},
   "outputs": [
    {
     "name": "stdout",
     "output_type": "stream",
     "text": [
      "Coverage =  0.7263294422827496\n"
     ]
    }
   ],
   "source": [
    "print(\"Coverage = \", sum(cpd_AD) / len(cpd_AD))"
   ]
  },
  {
   "cell_type": "code",
   "execution_count": 66,
   "metadata": {},
   "outputs": [
    {
     "name": "stdout",
     "output_type": "stream",
     "text": [
      "Indices of substances included in AD =  [  3   5   7   8   9  10  11  13  14  15  16  18  19  20  21  25  26  28\n",
      "  29  30  33  34  35  36  37  38  39  41  42  43  44  45  46  47  48  49\n",
      "  50  51  53  54  55  56  59  61  62  63  66  67  68  69  70  71  72  73\n",
      "  75  76  79  80  81  85  86  87  88  89  90  92  94  97  98  99 100 102\n",
      " 104 106 107 108 109 110 111 112 113 114 115 116 117 118 119 121 122 124\n",
      " 126 127 129 131 132 133 135 137 138 139 143 146 147 148 149 151 154 155\n",
      " 156 159 160 161 162 163 164 165 166 169 170 172 173 174 175 176 178 180\n",
      " 181 183 184 185 187 188 189 191 192 193 195 196 198 199 200 201 202 203\n",
      " 204 205 206 207 208 209 210 211 212 214 215 217 218 219 220 221 223 224\n",
      " 225 226 227 228 230 231 232 233 234 235 237 239 240 241 244 245 246 248\n",
      " 249 250 251 252 253 254 255 256 257 258 259 261 262 263 264 265 266 267\n",
      " 268 270 272 276 278 279 280 281 282 283 284 286 287 288 289 290 291 292\n",
      " 293 294 295 296 297 298 299 300 302 303 304 305 306 308 309 310 311 312\n",
      " 313 315 316 317 318 319 320 321 324 325 326 328 331 332 334 335 336 337\n",
      " 339 340 341 342 343 344 345 346 347 348 349 350 354 356 357 358 359 363\n",
      " 364 365 366 367 368 369 372 374 375 376 378 379 380 383 384 385 386 387\n",
      " 388 389 391 392 394 395 396 397 399 400 401 402 403 405 406 408 409 410\n",
      " 411 412 413 414 415 418 420 423 424 425 428 431 432 433 435 436 437 439\n",
      " 440 442 443 444 445 446 448 449 450 451 453 455 456 457 458 459 460 461\n",
      " 462 464 465 466 471 472 474 475 476 478 479 481 482 483 485 486 487 488\n",
      " 489 490 491 492 494 496 497 498 499 500 502 503 504 506 507 508 509 512\n",
      " 513 514 515 516 517 519 520 521 523 526 528 529 532 535 536 540 541 542\n",
      " 543 544 545 546 548 549 550 551 552 553 556 557 560 561 562 564 565 566\n",
      " 567 568 569 571 572 573 576 577 579 580 581 582 583 585 586 589 590 593\n",
      " 596 597 598 599 600 601 602 603 604 605 606 607 608 609 610 611 613 615\n",
      " 616 617 618 620 623 624 625 626 627 631 632 633 636 637 638 639 640 641\n",
      " 642 643 644 646 647 650 651 652 653 655 656 657 658 659 660 661 663 664\n",
      " 666 667 668 672 673 674 675 677 681 685 687 688 689 691 693 694 695 696\n",
      " 699 701 702 703 704 705 707 708 709 710 712 713 715 717 718 719 720 722\n",
      " 723 724 725 727 728 729 730 732 733 734 736 737 738 740 741 742 744 745\n",
      " 747 748 749 750 751 752 753 754 755 757 758 760 761 762 763 765 767 768\n",
      " 769 770]\n"
     ]
    }
   ],
   "source": [
    "print(\"Indices of substances included in AD = \", np.where(cpd_AD != 0)[0])"
   ]
  },
  {
   "cell_type": "code",
   "execution_count": 67,
   "metadata": {},
   "outputs": [],
   "source": [
    "out_Ad=list(np.where(cpd_AD == 0)[0])"
   ]
  },
  {
   "cell_type": "markdown",
   "metadata": {},
   "source": [
    "# Prediction only for molecules included in  AD"
   ]
  },
  {
   "cell_type": "code",
   "execution_count": 68,
   "metadata": {},
   "outputs": [],
   "source": [
    "y_pred_con_ad=list(y_pred_con)"
   ]
  },
  {
   "cell_type": "code",
   "execution_count": 69,
   "metadata": {},
   "outputs": [],
   "source": [
    "y_pred_con_ad[:] = [x for i,x in enumerate(y_pred_con_ad) if i not in out_Ad]"
   ]
  },
  {
   "cell_type": "code",
   "execution_count": 70,
   "metadata": {},
   "outputs": [
    {
     "data": {
      "text/plain": [
       "560"
      ]
     },
     "execution_count": 70,
     "metadata": {},
     "output_type": "execute_result"
    }
   ],
   "source": [
    "len(y_pred_con_ad)"
   ]
  },
  {
   "cell_type": "code",
   "execution_count": 71,
   "metadata": {},
   "outputs": [],
   "source": [
    "y_ts_ad=list(y_ts)"
   ]
  },
  {
   "cell_type": "code",
   "execution_count": 72,
   "metadata": {},
   "outputs": [],
   "source": [
    "y_ts_ad[:] = [x for i,x in enumerate(y_ts_ad) if i not in out_Ad]"
   ]
  },
  {
   "cell_type": "code",
   "execution_count": 73,
   "metadata": {},
   "outputs": [
    {
     "data": {
      "text/plain": [
       "560"
      ]
     },
     "execution_count": 73,
     "metadata": {},
     "output_type": "execute_result"
    }
   ],
   "source": [
    "len(y_ts_ad)"
   ]
  },
  {
   "cell_type": "code",
   "execution_count": 74,
   "metadata": {},
   "outputs": [
    {
     "data": {
      "text/plain": [
       "0.75"
      ]
     },
     "execution_count": 74,
     "metadata": {},
     "output_type": "execute_result"
    }
   ],
   "source": [
    "Q2_TS = round(r2_score(y_ts_ad, y_pred_con_ad), 2)\n",
    "Q2_TS"
   ]
  },
  {
   "cell_type": "code",
   "execution_count": 75,
   "metadata": {},
   "outputs": [
    {
     "data": {
      "text/plain": [
       "0.63"
      ]
     },
     "execution_count": 75,
     "metadata": {},
     "output_type": "execute_result"
    }
   ],
   "source": [
    "RMSE_TS=round(np.sqrt(mean_absolute_error(y_ts_ad, y_pred_con_ad)), 2)\n",
    "RMSE_TS"
   ]
  },
  {
   "cell_type": "code",
   "execution_count": null,
   "metadata": {},
   "outputs": [],
   "source": []
  }
 ],
 "metadata": {
  "kernelspec": {
   "display_name": "Python 3 (ipykernel)",
   "language": "python",
   "name": "python3"
  },
  "language_info": {
   "codemirror_mode": {
    "name": "ipython",
    "version": 3
   },
   "file_extension": ".py",
   "mimetype": "text/x-python",
   "name": "python",
   "nbconvert_exporter": "python",
   "pygments_lexer": "ipython3",
   "version": "3.11.4"
  },
  "toc": {
   "base_numbering": 1,
   "nav_menu": {},
   "number_sections": true,
   "sideBar": true,
   "skip_h1_title": false,
   "title_cell": "Table of Contents",
   "title_sidebar": "Contents",
   "toc_cell": false,
   "toc_position": {
    "height": "calc(100% - 180px)",
    "left": "10px",
    "top": "150px",
    "width": "208.267px"
   },
   "toc_section_display": true,
   "toc_window_display": true
  }
 },
 "nbformat": 4,
 "nbformat_minor": 4
}
