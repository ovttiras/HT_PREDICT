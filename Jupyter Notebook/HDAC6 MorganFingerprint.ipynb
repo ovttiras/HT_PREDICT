{
 "cells": [
  {
   "cell_type": "markdown",
   "metadata": {},
   "source": [
    "# 1. Importing modules and functions"
   ]
  },
  {
   "cell_type": "code",
   "execution_count": 51,
   "metadata": {},
   "outputs": [],
   "source": [
    "import numpy as np\n",
    "import pandas as pd\n",
    "from rdkit import Chem, DataStructs\n",
    "from rdkit.Chem import AllChem, Descriptors\n",
    "from rdkit.ML.Descriptors import MoleculeDescriptors\n",
    "from molvs import standardize_smiles\n",
    "from sklearn.model_selection import KFold, GridSearchCV\n",
    "from sklearn.model_selection import permutation_test_score\n",
    "from sklearn.preprocessing import StandardScaler\n",
    "from sklearn.model_selection import cross_val_predict\n",
    "from sklearn import metrics\n",
    "from sklearn.metrics import pairwise_distances\n",
    "import joblib\n",
    "import pickle\n",
    "from numpy import savetxt\n",
    "from padelpy import from_sdf\n",
    "from IPython.display import HTML\n",
    "import matplotlib.pyplot as plt\n",
    "from sklearn.metrics import mean_squared_error\n",
    "from sklearn.metrics import mean_absolute_error\n",
    "from sklearn.metrics import r2_score\n",
    "from sklearn.ensemble import GradientBoostingRegressor\n",
    "from sklearn.neighbors import KNeighborsRegressor\n",
    "from sklearn.svm import SVR\n",
    "from padelpy import from_sdf\n",
    "import shap\n",
    "from tqdm.notebook import tqdm\n",
    "import warnings\n",
    "warnings.filterwarnings('ignore')"
   ]
  },
  {
   "cell_type": "markdown",
   "metadata": {},
   "source": [
    "# 2.Data entry and curation work set"
   ]
  },
  {
   "cell_type": "code",
   "execution_count": 2,
   "metadata": {},
   "outputs": [
    {
     "name": "stdout",
     "output_type": "stream",
     "text": [
      "Original data:  3083 molecules\n",
      "Failed data:  0 molecules\n"
     ]
    },
    {
     "data": {
      "text/html": [
       "<div>\n",
       "<style scoped>\n",
       "    .dataframe tbody tr th:only-of-type {\n",
       "        vertical-align: middle;\n",
       "    }\n",
       "\n",
       "    .dataframe tbody tr th {\n",
       "        vertical-align: top;\n",
       "    }\n",
       "\n",
       "    .dataframe thead th {\n",
       "        text-align: right;\n",
       "    }\n",
       "</style>\n",
       "<table border=\"1\" class=\"dataframe\">\n",
       "  <thead>\n",
       "    <tr style=\"text-align: right;\">\n",
       "      <th></th>\n",
       "      <th>No. failed molecule in original set</th>\n",
       "      <th>SMILES of wrong structure:</th>\n",
       "    </tr>\n",
       "    <tr>\n",
       "      <th>No.</th>\n",
       "      <th></th>\n",
       "      <th></th>\n",
       "    </tr>\n",
       "  </thead>\n",
       "  <tbody>\n",
       "  </tbody>\n",
       "</table>\n",
       "</div>"
      ],
      "text/plain": [
       "Empty DataFrame\n",
       "Columns: [No. failed molecule in original set, SMILES of wrong structure: ]\n",
       "Index: []"
      ]
     },
     "execution_count": 2,
     "metadata": {},
     "output_type": "execute_result"
    }
   ],
   "source": [
    "uploaded_file_ws=\"datasets/HDAC6_work.sdf\"\n",
    "supplier_ws = Chem.ForwardSDMolSupplier(uploaded_file_ws,sanitize=False)\n",
    "failed_mols_ws = []\n",
    "all_mols_ws =[]\n",
    "wrong_structure_ws=[]\n",
    "wrong_smiles_ws=[]\n",
    "y_tr = []\n",
    "y_bad_index=[]\n",
    "\n",
    "for i, m in enumerate(supplier_ws):\n",
    "    structure = Chem.Mol(m)\n",
    "    all_mols_ws.append(structure)\n",
    "    y_tr.append(m.GetProp(\"pchembl_value_mean\"))\n",
    "    try:\n",
    "        Chem.SanitizeMol(structure)\n",
    "    except:\n",
    "        failed_mols_ws.append(m)\n",
    "        wrong_smiles_ws.append(Chem.MolToSmiles(m))\n",
    "        wrong_structure_ws.append(str(i+1))\n",
    "        y_bad_index.append(i)\n",
    "print('Original data: ', len(all_mols_ws), 'molecules')\n",
    "print('Failed data: ', len(failed_mols_ws), 'molecules')\n",
    "number_ws =[]\n",
    "for i in range(len(failed_mols_ws)):\n",
    "        number_ws.append(str(i+1))\n",
    "bad_molecules_ws = pd.DataFrame({'No. failed molecule in original set': wrong_structure_ws, 'SMILES of wrong structure: ': wrong_smiles_ws, 'No.': number_ws}, index=None)\n",
    "bad_molecules_ws = bad_molecules_ws.set_index('No.')\n",
    "bad_molecules_ws"
   ]
  },
  {
   "cell_type": "markdown",
   "metadata": {},
   "source": [
    "deleting activity values for substances with incorrect structure"
   ]
  },
  {
   "cell_type": "code",
   "execution_count": 3,
   "metadata": {},
   "outputs": [],
   "source": [
    "y_tr[:] = [x for i,x in enumerate(y_tr) if i not in y_bad_index]"
   ]
  },
  {
   "cell_type": "code",
   "execution_count": 4,
   "metadata": {},
   "outputs": [
    {
     "data": {
      "text/plain": [
       "3083"
      ]
     },
     "execution_count": 4,
     "metadata": {},
     "output_type": "execute_result"
    }
   ],
   "source": [
    "len(y_tr)"
   ]
  },
  {
   "cell_type": "markdown",
   "metadata": {},
   "source": [
    "# 3.Standardization SDF file for work set"
   ]
  },
  {
   "cell_type": "code",
   "execution_count": 5,
   "metadata": {},
   "outputs": [
    {
     "name": "stdout",
     "output_type": "stream",
     "text": [
      "Kept data:  3083 molecules\n"
     ]
    }
   ],
   "source": [
    "all_mols_ws[:] = [x for i,x in enumerate(all_mols_ws) if i not in y_bad_index] \n",
    "records = []\n",
    "for i in range(len(all_mols_ws)):\n",
    "    record = Chem.MolToSmiles(all_mols_ws[i])\n",
    "    records.append(record)\n",
    "\n",
    "moldf_ws = []\n",
    "for i,record in enumerate(records):\n",
    "    standard_record = standardize_smiles(record)\n",
    "    m = Chem.MolFromSmiles(standard_record)\n",
    "    moldf_ws.append(m)\n",
    "    \n",
    "print('Kept data: ', len(moldf_ws), 'molecules')"
   ]
  },
  {
   "cell_type": "markdown",
   "metadata": {},
   "source": [
    "# 4.Data entry and curation test set"
   ]
  },
  {
   "cell_type": "code",
   "execution_count": 6,
   "metadata": {},
   "outputs": [
    {
     "name": "stdout",
     "output_type": "stream",
     "text": [
      "Original data:  771 molecules\n",
      "Failed data:  0 molecules\n"
     ]
    },
    {
     "data": {
      "text/html": [
       "<div>\n",
       "<style scoped>\n",
       "    .dataframe tbody tr th:only-of-type {\n",
       "        vertical-align: middle;\n",
       "    }\n",
       "\n",
       "    .dataframe tbody tr th {\n",
       "        vertical-align: top;\n",
       "    }\n",
       "\n",
       "    .dataframe thead th {\n",
       "        text-align: right;\n",
       "    }\n",
       "</style>\n",
       "<table border=\"1\" class=\"dataframe\">\n",
       "  <thead>\n",
       "    <tr style=\"text-align: right;\">\n",
       "      <th></th>\n",
       "      <th>No. failed molecule in original set</th>\n",
       "      <th>SMILES of wrong structure:</th>\n",
       "    </tr>\n",
       "    <tr>\n",
       "      <th>No.</th>\n",
       "      <th></th>\n",
       "      <th></th>\n",
       "    </tr>\n",
       "  </thead>\n",
       "  <tbody>\n",
       "  </tbody>\n",
       "</table>\n",
       "</div>"
      ],
      "text/plain": [
       "Empty DataFrame\n",
       "Columns: [No. failed molecule in original set, SMILES of wrong structure: ]\n",
       "Index: []"
      ]
     },
     "execution_count": 6,
     "metadata": {},
     "output_type": "execute_result"
    }
   ],
   "source": [
    "uploaded_file_ts=\"datasets/HDAC6_test.sdf\"\n",
    "supplier_ts = Chem.ForwardSDMolSupplier(uploaded_file_ts,sanitize=False)\n",
    "failed_mols_ts = []\n",
    "all_mols_ts =[]\n",
    "wrong_structure_ts=[]\n",
    "wrong_smiles_ts=[]\n",
    "y_ts = []\n",
    "y_bad_index=[]\n",
    "for i, m in enumerate(supplier_ts):\n",
    "    structure = Chem.Mol(m)\n",
    "    all_mols_ts.append(structure)\n",
    "    y_ts.append(m.GetProp(\"pchembl_value_mean\"))\n",
    "    try:\n",
    "        Chem.SanitizeMol(structure)\n",
    "    except:\n",
    "        failed_mols_ts.append(m)\n",
    "        wrong_smiles_ts.append(Chem.MolToSmiles(m))\n",
    "        wrong_structure_ts.append(str(i+1))\n",
    "        y_bad_index.append(i)\n",
    "print('Original data: ', len(all_mols_ts), 'molecules')\n",
    "print('Failed data: ', len(failed_mols_ts), 'molecules')\n",
    "number_ts =[]\n",
    "for i in range(len(failed_mols_ts)):\n",
    "        number_ts.append(str(i+1))\n",
    "bad_molecules_ts = pd.DataFrame({'No. failed molecule in original set': wrong_structure_ts, 'SMILES of wrong structure: ': wrong_smiles_ts, 'No.': number_ts}, index=None)\n",
    "bad_molecules_ts = bad_molecules_ts.set_index('No.')\n",
    "bad_molecules_ts"
   ]
  },
  {
   "cell_type": "markdown",
   "metadata": {},
   "source": [
    "deleting activity values for substances with incorrect structure"
   ]
  },
  {
   "cell_type": "code",
   "execution_count": 7,
   "metadata": {},
   "outputs": [],
   "source": [
    "y_ts[:] = [x for i,x in enumerate(y_ts) if i not in y_bad_index]"
   ]
  },
  {
   "cell_type": "code",
   "execution_count": 8,
   "metadata": {},
   "outputs": [
    {
     "data": {
      "text/plain": [
       "771"
      ]
     },
     "execution_count": 8,
     "metadata": {},
     "output_type": "execute_result"
    }
   ],
   "source": [
    "len(y_ts)"
   ]
  },
  {
   "cell_type": "markdown",
   "metadata": {},
   "source": [
    "# 5.Standardization SDF file for test set"
   ]
  },
  {
   "cell_type": "code",
   "execution_count": 9,
   "metadata": {},
   "outputs": [
    {
     "name": "stdout",
     "output_type": "stream",
     "text": [
      "Kept data:  771 molecules\n"
     ]
    }
   ],
   "source": [
    "all_mols_ts[:] = [x for i,x in enumerate(all_mols_ts) if i not in y_bad_index] \n",
    "records = []\n",
    "for i in range(len(all_mols_ts)):\n",
    "    record = Chem.MolToSmiles(all_mols_ts[i])\n",
    "    records.append(record)\n",
    "\n",
    "moldf_ts = []\n",
    "for i,record in enumerate(records):\n",
    "    standard_record = standardize_smiles(record)\n",
    "    m = Chem.MolFromSmiles(standard_record)\n",
    "    moldf_ts.append(m)\n",
    "    \n",
    "print('Kept data: ', len(moldf_ts), 'molecules')"
   ]
  },
  {
   "cell_type": "markdown",
   "metadata": {},
   "source": [
    "# 6.Calculation MorganFingerprint for work set"
   ]
  },
  {
   "cell_type": "code",
   "execution_count": 10,
   "metadata": {},
   "outputs": [],
   "source": [
    "fp_tr = [AllChem.GetMorganFingerprintAsBitVect(m, radius=2,nBits=1024,useFeatures=False,useChirality = False) for m in moldf_ws]"
   ]
  },
  {
   "cell_type": "code",
   "execution_count": 11,
   "metadata": {},
   "outputs": [],
   "source": [
    "def rdkit_numpy_convert(fp_tr):\n",
    "    output = []\n",
    "    for f in fp_tr:\n",
    "        arr = np.zeros((1,))\n",
    "        DataStructs.ConvertToNumpyArray(f, arr)\n",
    "        output.append(arr)\n",
    "    return np.asarray(output)"
   ]
  },
  {
   "cell_type": "code",
   "execution_count": 12,
   "metadata": {},
   "outputs": [],
   "source": [
    "from numpy import savetxt\n",
    "x_tr = rdkit_numpy_convert(fp_tr)"
   ]
  },
  {
   "cell_type": "code",
   "execution_count": 13,
   "metadata": {},
   "outputs": [
    {
     "data": {
      "text/plain": [
       "(3083, 1024)"
      ]
     },
     "execution_count": 13,
     "metadata": {},
     "output_type": "execute_result"
    }
   ],
   "source": [
    "x_tr.shape"
   ]
  },
  {
   "cell_type": "markdown",
   "metadata": {},
   "source": [
    "# 7.Calculation MorganFingerprint for test set"
   ]
  },
  {
   "cell_type": "code",
   "execution_count": 14,
   "metadata": {},
   "outputs": [],
   "source": [
    "fp_ts = [AllChem.GetMorganFingerprintAsBitVect(m, radius=2,nBits=1024,useFeatures=False,useChirality = False) for m in moldf_ts]"
   ]
  },
  {
   "cell_type": "code",
   "execution_count": 15,
   "metadata": {},
   "outputs": [],
   "source": [
    "def rdkit_numpy_convert(fp_ts):\n",
    "    output = []\n",
    "    for f in fp_ts:\n",
    "        arr = np.zeros((1,))\n",
    "        DataStructs.ConvertToNumpyArray(f, arr)\n",
    "        output.append(arr)\n",
    "    return np.asarray(output)"
   ]
  },
  {
   "cell_type": "code",
   "execution_count": 16,
   "metadata": {},
   "outputs": [],
   "source": [
    "x_ts = rdkit_numpy_convert(fp_ts)"
   ]
  },
  {
   "cell_type": "code",
   "execution_count": 17,
   "metadata": {},
   "outputs": [
    {
     "data": {
      "text/plain": [
       "(771, 1024)"
      ]
     },
     "execution_count": 17,
     "metadata": {},
     "output_type": "execute_result"
    }
   ],
   "source": [
    "x_ts.shape"
   ]
  },
  {
   "cell_type": "code",
   "execution_count": 18,
   "metadata": {},
   "outputs": [
    {
     "data": {
      "text/plain": [
       "numpy.ndarray"
      ]
     },
     "execution_count": 18,
     "metadata": {},
     "output_type": "execute_result"
    }
   ],
   "source": [
    "type(x_tr)"
   ]
  },
  {
   "cell_type": "code",
   "execution_count": 19,
   "metadata": {},
   "outputs": [
    {
     "data": {
      "text/plain": [
       "array([[0., 0., 0., ..., 0., 0., 0.],\n",
       "       [0., 0., 0., ..., 0., 0., 0.],\n",
       "       [0., 0., 0., ..., 0., 0., 0.],\n",
       "       ...,\n",
       "       [0., 0., 0., ..., 0., 0., 0.],\n",
       "       [0., 0., 1., ..., 0., 0., 0.],\n",
       "       [0., 0., 0., ..., 0., 0., 0.]])"
      ]
     },
     "execution_count": 19,
     "metadata": {},
     "output_type": "execute_result"
    }
   ],
   "source": [
    "x_tr"
   ]
  },
  {
   "cell_type": "code",
   "execution_count": 20,
   "metadata": {},
   "outputs": [],
   "source": [
    "x_tr = np.array(x_tr, dtype=np.float32)\n",
    "y_tr = np.array(y_tr, dtype=np.float32)"
   ]
  },
  {
   "cell_type": "code",
   "execution_count": 22,
   "metadata": {},
   "outputs": [
    {
     "data": {
      "text/plain": [
       "array([ 4.02,  4.03,  4.06, ...,  9.77,  9.85, 10.  ], dtype=float32)"
      ]
     },
     "execution_count": 22,
     "metadata": {},
     "output_type": "execute_result"
    }
   ],
   "source": [
    "y_tr"
   ]
  },
  {
   "cell_type": "markdown",
   "metadata": {},
   "source": [
    " # GradientBoostingRegressor model building and validation"
   ]
  },
  {
   "cell_type": "code",
   "execution_count": 87,
   "metadata": {},
   "outputs": [],
   "source": [
    "seed = 42"
   ]
  },
  {
   "cell_type": "code",
   "execution_count": 88,
   "metadata": {},
   "outputs": [],
   "source": [
    "cv=KFold(n_splits=5, random_state=seed, shuffle=True)"
   ]
  },
  {
   "cell_type": "code",
   "execution_count": 27,
   "metadata": {},
   "outputs": [],
   "source": [
    "param_grid = {'learning_rate': [0.02,0.05],\n",
    "                  'subsample'    : [0.9, 0.5, 0.1],\n",
    "                  'n_estimators' : [100,500,1000],\n",
    "                  'max_depth'    : [4, 10]\n",
    "                 }"
   ]
  },
  {
   "cell_type": "code",
   "execution_count": 28,
   "metadata": {},
   "outputs": [],
   "source": [
    "m = GridSearchCV(GradientBoostingRegressor(), param_grid, n_jobs=-1, cv=cv, verbose=1)"
   ]
  },
  {
   "cell_type": "code",
   "execution_count": 29,
   "metadata": {},
   "outputs": [
    {
     "name": "stdout",
     "output_type": "stream",
     "text": [
      "Fitting 5 folds for each of 36 candidates, totalling 180 fits\n"
     ]
    },
    {
     "data": {
      "text/html": [
       "<style>#sk-container-id-1 {color: black;}#sk-container-id-1 pre{padding: 0;}#sk-container-id-1 div.sk-toggleable {background-color: white;}#sk-container-id-1 label.sk-toggleable__label {cursor: pointer;display: block;width: 100%;margin-bottom: 0;padding: 0.3em;box-sizing: border-box;text-align: center;}#sk-container-id-1 label.sk-toggleable__label-arrow:before {content: \"▸\";float: left;margin-right: 0.25em;color: #696969;}#sk-container-id-1 label.sk-toggleable__label-arrow:hover:before {color: black;}#sk-container-id-1 div.sk-estimator:hover label.sk-toggleable__label-arrow:before {color: black;}#sk-container-id-1 div.sk-toggleable__content {max-height: 0;max-width: 0;overflow: hidden;text-align: left;background-color: #f0f8ff;}#sk-container-id-1 div.sk-toggleable__content pre {margin: 0.2em;color: black;border-radius: 0.25em;background-color: #f0f8ff;}#sk-container-id-1 input.sk-toggleable__control:checked~div.sk-toggleable__content {max-height: 200px;max-width: 100%;overflow: auto;}#sk-container-id-1 input.sk-toggleable__control:checked~label.sk-toggleable__label-arrow:before {content: \"▾\";}#sk-container-id-1 div.sk-estimator input.sk-toggleable__control:checked~label.sk-toggleable__label {background-color: #d4ebff;}#sk-container-id-1 div.sk-label input.sk-toggleable__control:checked~label.sk-toggleable__label {background-color: #d4ebff;}#sk-container-id-1 input.sk-hidden--visually {border: 0;clip: rect(1px 1px 1px 1px);clip: rect(1px, 1px, 1px, 1px);height: 1px;margin: -1px;overflow: hidden;padding: 0;position: absolute;width: 1px;}#sk-container-id-1 div.sk-estimator {font-family: monospace;background-color: #f0f8ff;border: 1px dotted black;border-radius: 0.25em;box-sizing: border-box;margin-bottom: 0.5em;}#sk-container-id-1 div.sk-estimator:hover {background-color: #d4ebff;}#sk-container-id-1 div.sk-parallel-item::after {content: \"\";width: 100%;border-bottom: 1px solid gray;flex-grow: 1;}#sk-container-id-1 div.sk-label:hover label.sk-toggleable__label {background-color: #d4ebff;}#sk-container-id-1 div.sk-serial::before {content: \"\";position: absolute;border-left: 1px solid gray;box-sizing: border-box;top: 0;bottom: 0;left: 50%;z-index: 0;}#sk-container-id-1 div.sk-serial {display: flex;flex-direction: column;align-items: center;background-color: white;padding-right: 0.2em;padding-left: 0.2em;position: relative;}#sk-container-id-1 div.sk-item {position: relative;z-index: 1;}#sk-container-id-1 div.sk-parallel {display: flex;align-items: stretch;justify-content: center;background-color: white;position: relative;}#sk-container-id-1 div.sk-item::before, #sk-container-id-1 div.sk-parallel-item::before {content: \"\";position: absolute;border-left: 1px solid gray;box-sizing: border-box;top: 0;bottom: 0;left: 50%;z-index: -1;}#sk-container-id-1 div.sk-parallel-item {display: flex;flex-direction: column;z-index: 1;position: relative;background-color: white;}#sk-container-id-1 div.sk-parallel-item:first-child::after {align-self: flex-end;width: 50%;}#sk-container-id-1 div.sk-parallel-item:last-child::after {align-self: flex-start;width: 50%;}#sk-container-id-1 div.sk-parallel-item:only-child::after {width: 0;}#sk-container-id-1 div.sk-dashed-wrapped {border: 1px dashed gray;margin: 0 0.4em 0.5em 0.4em;box-sizing: border-box;padding-bottom: 0.4em;background-color: white;}#sk-container-id-1 div.sk-label label {font-family: monospace;font-weight: bold;display: inline-block;line-height: 1.2em;}#sk-container-id-1 div.sk-label-container {text-align: center;}#sk-container-id-1 div.sk-container {/* jupyter's `normalize.less` sets `[hidden] { display: none; }` but bootstrap.min.css set `[hidden] { display: none !important; }` so we also need the `!important` here to be able to override the default hidden behavior on the sphinx rendered scikit-learn.org. See: https://github.com/scikit-learn/scikit-learn/issues/21755 */display: inline-block !important;position: relative;}#sk-container-id-1 div.sk-text-repr-fallback {display: none;}</style><div id=\"sk-container-id-1\" class=\"sk-top-container\"><div class=\"sk-text-repr-fallback\"><pre>GridSearchCV(cv=KFold(n_splits=5, random_state=42, shuffle=True),\n",
       "             estimator=GradientBoostingRegressor(), n_jobs=-1,\n",
       "             param_grid={&#x27;learning_rate&#x27;: [0.02, 0.05], &#x27;max_depth&#x27;: [4, 10],\n",
       "                         &#x27;n_estimators&#x27;: [100, 500, 1000],\n",
       "                         &#x27;subsample&#x27;: [0.9, 0.5, 0.1]},\n",
       "             verbose=1)</pre><b>In a Jupyter environment, please rerun this cell to show the HTML representation or trust the notebook. <br />On GitHub, the HTML representation is unable to render, please try loading this page with nbviewer.org.</b></div><div class=\"sk-container\" hidden><div class=\"sk-item sk-dashed-wrapped\"><div class=\"sk-label-container\"><div class=\"sk-label sk-toggleable\"><input class=\"sk-toggleable__control sk-hidden--visually\" id=\"sk-estimator-id-1\" type=\"checkbox\" ><label for=\"sk-estimator-id-1\" class=\"sk-toggleable__label sk-toggleable__label-arrow\">GridSearchCV</label><div class=\"sk-toggleable__content\"><pre>GridSearchCV(cv=KFold(n_splits=5, random_state=42, shuffle=True),\n",
       "             estimator=GradientBoostingRegressor(), n_jobs=-1,\n",
       "             param_grid={&#x27;learning_rate&#x27;: [0.02, 0.05], &#x27;max_depth&#x27;: [4, 10],\n",
       "                         &#x27;n_estimators&#x27;: [100, 500, 1000],\n",
       "                         &#x27;subsample&#x27;: [0.9, 0.5, 0.1]},\n",
       "             verbose=1)</pre></div></div></div><div class=\"sk-parallel\"><div class=\"sk-parallel-item\"><div class=\"sk-item\"><div class=\"sk-label-container\"><div class=\"sk-label sk-toggleable\"><input class=\"sk-toggleable__control sk-hidden--visually\" id=\"sk-estimator-id-2\" type=\"checkbox\" ><label for=\"sk-estimator-id-2\" class=\"sk-toggleable__label sk-toggleable__label-arrow\">estimator: GradientBoostingRegressor</label><div class=\"sk-toggleable__content\"><pre>GradientBoostingRegressor()</pre></div></div></div><div class=\"sk-serial\"><div class=\"sk-item\"><div class=\"sk-estimator sk-toggleable\"><input class=\"sk-toggleable__control sk-hidden--visually\" id=\"sk-estimator-id-3\" type=\"checkbox\" ><label for=\"sk-estimator-id-3\" class=\"sk-toggleable__label sk-toggleable__label-arrow\">GradientBoostingRegressor</label><div class=\"sk-toggleable__content\"><pre>GradientBoostingRegressor()</pre></div></div></div></div></div></div></div></div></div></div>"
      ],
      "text/plain": [
       "GridSearchCV(cv=KFold(n_splits=5, random_state=42, shuffle=True),\n",
       "             estimator=GradientBoostingRegressor(), n_jobs=-1,\n",
       "             param_grid={'learning_rate': [0.02, 0.05], 'max_depth': [4, 10],\n",
       "                         'n_estimators': [100, 500, 1000],\n",
       "                         'subsample': [0.9, 0.5, 0.1]},\n",
       "             verbose=1)"
      ]
     },
     "execution_count": 29,
     "metadata": {},
     "output_type": "execute_result"
    }
   ],
   "source": [
    "m.fit(x_tr, y_tr)"
   ]
  },
  {
   "cell_type": "code",
   "execution_count": 30,
   "metadata": {},
   "outputs": [],
   "source": [
    "best_GBR = m.best_estimator_"
   ]
  },
  {
   "cell_type": "code",
   "execution_count": 31,
   "metadata": {},
   "outputs": [
    {
     "data": {
      "text/plain": [
       "{'learning_rate': 0.02,\n",
       " 'max_depth': 10,\n",
       " 'n_estimators': 1000,\n",
       " 'subsample': 0.5}"
      ]
     },
     "execution_count": 31,
     "metadata": {},
     "output_type": "execute_result"
    }
   ],
   "source": [
    "m.best_params_"
   ]
  },
  {
   "cell_type": "code",
   "execution_count": 28,
   "metadata": {},
   "outputs": [],
   "source": [
    "y_pred_ws_GBR = best_GBR.predict(x_tr)"
   ]
  },
  {
   "cell_type": "code",
   "execution_count": 29,
   "metadata": {},
   "outputs": [
    {
     "data": {
      "text/plain": [
       "0.96"
      ]
     },
     "execution_count": 29,
     "metadata": {},
     "output_type": "execute_result"
    }
   ],
   "source": [
    "R2_WS = round(r2_score(y_tr, y_pred_ws_GBR), 2)\n",
    "R2_WS"
   ]
  },
  {
   "cell_type": "code",
   "execution_count": 30,
   "metadata": {},
   "outputs": [
    {
     "data": {
      "text/plain": [
       "0.4"
      ]
     },
     "execution_count": 30,
     "metadata": {},
     "output_type": "execute_result"
    }
   ],
   "source": [
    "RMSE_WS=round(np.sqrt(mean_absolute_error(y_tr, y_pred_ws_GBR)), 2)\n",
    "RMSE_WS"
   ]
  },
  {
   "cell_type": "code",
   "execution_count": 32,
   "metadata": {},
   "outputs": [],
   "source": [
    "y_pred_CV_GBR = cross_val_predict(best_GBR, x_tr, y_tr, cv=cv)"
   ]
  },
  {
   "cell_type": "code",
   "execution_count": 33,
   "metadata": {},
   "outputs": [
    {
     "data": {
      "text/plain": [
       "array([5.89651444, 5.34990513, 5.92955438, ..., 7.74835486, 7.69122844,\n",
       "       8.01240632])"
      ]
     },
     "execution_count": 33,
     "metadata": {},
     "output_type": "execute_result"
    }
   ],
   "source": [
    "y_pred_CV_GBR"
   ]
  },
  {
   "cell_type": "code",
   "execution_count": 34,
   "metadata": {},
   "outputs": [
    {
     "data": {
      "text/plain": [
       "0.68"
      ]
     },
     "execution_count": 34,
     "metadata": {},
     "output_type": "execute_result"
    }
   ],
   "source": [
    "Q2_CV = round(r2_score(y_tr, y_pred_CV_GBR), 2)\n",
    "Q2_CV"
   ]
  },
  {
   "cell_type": "code",
   "execution_count": 35,
   "metadata": {},
   "outputs": [
    {
     "data": {
      "text/plain": [
       "0.68"
      ]
     },
     "execution_count": 35,
     "metadata": {},
     "output_type": "execute_result"
    }
   ],
   "source": [
    "RMSE_CV=round(np.sqrt(mean_absolute_error(y_tr, y_pred_CV_GBR)), 2)\n",
    "RMSE_CV"
   ]
  },
  {
   "cell_type": "markdown",
   "metadata": {},
   "source": [
    "# 9. Prediction for test set's molecules"
   ]
  },
  {
   "cell_type": "code",
   "execution_count": 41,
   "metadata": {},
   "outputs": [],
   "source": [
    "x_ts = np.array(x_ts, dtype=np.float32)\n",
    "y_ts = np.array(y_ts, dtype=np.float32)"
   ]
  },
  {
   "cell_type": "code",
   "execution_count": 42,
   "metadata": {},
   "outputs": [],
   "source": [
    "y_pred_GBR = best_GBR.predict(x_ts)"
   ]
  },
  {
   "cell_type": "code",
   "execution_count": 43,
   "metadata": {},
   "outputs": [
    {
     "data": {
      "text/plain": [
       "0.7"
      ]
     },
     "execution_count": 43,
     "metadata": {},
     "output_type": "execute_result"
    }
   ],
   "source": [
    "Q2_TS = round(r2_score(y_ts, y_pred_GBR), 2)\n",
    "Q2_TS"
   ]
  },
  {
   "cell_type": "code",
   "execution_count": 44,
   "metadata": {},
   "outputs": [
    {
     "data": {
      "text/plain": [
       "0.67"
      ]
     },
     "execution_count": 44,
     "metadata": {},
     "output_type": "execute_result"
    }
   ],
   "source": [
    "RMSE_TS=round(np.sqrt(mean_absolute_error(y_ts, y_pred_GBR)), 2)\n",
    "RMSE_TS"
   ]
  },
  {
   "cell_type": "markdown",
   "metadata": {},
   "source": [
    "# save the model to disk"
   ]
  },
  {
   "cell_type": "code",
   "execution_count": 40,
   "metadata": {},
   "outputs": [],
   "source": [
    "pickle.dump(best_GBR, open('Models/Morgan_fingerprint/HDAC6_GBR_MF.pkl', 'wb'))"
   ]
  },
  {
   "cell_type": "markdown",
   "metadata": {},
   "source": [
    "# load the model from disk"
   ]
  },
  {
   "cell_type": "code",
   "execution_count": 21,
   "metadata": {},
   "outputs": [],
   "source": [
    "best_GBR = pickle.load(open('Models/Morgan_fingerprint/HDAC6_GBR_MF.pkl', 'rb'))"
   ]
  },
  {
   "cell_type": "markdown",
   "metadata": {},
   "source": [
    "# 10. Y-randomization GradientBoostingRegressor model"
   ]
  },
  {
   "cell_type": "code",
   "execution_count": 41,
   "metadata": {},
   "outputs": [
    {
     "name": "stderr",
     "output_type": "stream",
     "text": [
      "[Parallel(n_jobs=-1)]: Using backend LokyBackend with 16 concurrent workers.\n",
      "[Parallel(n_jobs=-1)]: Done  18 tasks      | elapsed: 102.5min\n"
     ]
    },
    {
     "name": "stdout",
     "output_type": "stream",
     "text": [
      "True score =  0.68 \n",
      "Y-randomization =  -0.25 \n",
      "p-value =  0.0196\n"
     ]
    },
    {
     "name": "stderr",
     "output_type": "stream",
     "text": [
      "[Parallel(n_jobs=-1)]: Done  50 out of  50 | elapsed: 163.9min finished\n"
     ]
    }
   ],
   "source": [
    "permutations = 50\n",
    "score, permutation_scores, pvalue = permutation_test_score(best_GBR, x_tr, y_tr,\n",
    "                                                           cv=cv, scoring='r2',\n",
    "                                                           n_permutations=permutations,\n",
    "                                                           n_jobs=-1,\n",
    "                                                           verbose=1,\n",
    "                                                           random_state=seed)\n",
    "print('True score = ', score.round(2),\n",
    "      '\\nY-randomization = ', np.mean(permutation_scores).round(2),\n",
    "      '\\np-value = ', pvalue.round(4))"
   ]
  },
  {
   "cell_type": "markdown",
   "metadata": {},
   "source": [
    "# 11. Estimating applicability domain. Method - Euclidian distances, K=1"
   ]
  },
  {
   "cell_type": "code",
   "execution_count": 22,
   "metadata": {},
   "outputs": [],
   "source": [
    "neighbors_k= pairwise_distances(x_tr, n_jobs=-1)\n",
    "neighbors_k.sort(0)"
   ]
  },
  {
   "cell_type": "code",
   "execution_count": 23,
   "metadata": {},
   "outputs": [
    {
     "data": {
      "text/html": [
       "<div>\n",
       "<style scoped>\n",
       "    .dataframe tbody tr th:only-of-type {\n",
       "        vertical-align: middle;\n",
       "    }\n",
       "\n",
       "    .dataframe tbody tr th {\n",
       "        vertical-align: top;\n",
       "    }\n",
       "\n",
       "    .dataframe thead th {\n",
       "        text-align: right;\n",
       "    }\n",
       "</style>\n",
       "<table border=\"1\" class=\"dataframe\">\n",
       "  <thead>\n",
       "    <tr style=\"text-align: right;\">\n",
       "      <th></th>\n",
       "      <th>0</th>\n",
       "      <th>1</th>\n",
       "      <th>2</th>\n",
       "      <th>3</th>\n",
       "      <th>4</th>\n",
       "      <th>5</th>\n",
       "      <th>6</th>\n",
       "      <th>7</th>\n",
       "      <th>8</th>\n",
       "      <th>9</th>\n",
       "      <th>...</th>\n",
       "      <th>3073</th>\n",
       "      <th>3074</th>\n",
       "      <th>3075</th>\n",
       "      <th>3076</th>\n",
       "      <th>3077</th>\n",
       "      <th>3078</th>\n",
       "      <th>3079</th>\n",
       "      <th>3080</th>\n",
       "      <th>3081</th>\n",
       "      <th>3082</th>\n",
       "    </tr>\n",
       "  </thead>\n",
       "  <tbody>\n",
       "    <tr>\n",
       "      <th>0</th>\n",
       "      <td>0.000000</td>\n",
       "      <td>0.000000</td>\n",
       "      <td>0.000000</td>\n",
       "      <td>0.000000</td>\n",
       "      <td>0.000000</td>\n",
       "      <td>0.000000</td>\n",
       "      <td>0.000000</td>\n",
       "      <td>0.000000</td>\n",
       "      <td>0.000000</td>\n",
       "      <td>0.000000</td>\n",
       "      <td>...</td>\n",
       "      <td>0.000000</td>\n",
       "      <td>0.000000</td>\n",
       "      <td>0.000000</td>\n",
       "      <td>0.000000</td>\n",
       "      <td>0.000000</td>\n",
       "      <td>0.000000</td>\n",
       "      <td>0.000000</td>\n",
       "      <td>0.000000</td>\n",
       "      <td>0.000000</td>\n",
       "      <td>0.000000</td>\n",
       "    </tr>\n",
       "    <tr>\n",
       "      <th>1</th>\n",
       "      <td>3.162278</td>\n",
       "      <td>5.656854</td>\n",
       "      <td>4.472136</td>\n",
       "      <td>3.872983</td>\n",
       "      <td>6.708204</td>\n",
       "      <td>3.316625</td>\n",
       "      <td>6.244998</td>\n",
       "      <td>5.000000</td>\n",
       "      <td>3.464102</td>\n",
       "      <td>6.480741</td>\n",
       "      <td>...</td>\n",
       "      <td>3.162278</td>\n",
       "      <td>3.605551</td>\n",
       "      <td>4.123106</td>\n",
       "      <td>4.242640</td>\n",
       "      <td>3.162278</td>\n",
       "      <td>3.605551</td>\n",
       "      <td>3.872983</td>\n",
       "      <td>3.741657</td>\n",
       "      <td>2.645751</td>\n",
       "      <td>4.795832</td>\n",
       "    </tr>\n",
       "    <tr>\n",
       "      <th>2</th>\n",
       "      <td>6.164414</td>\n",
       "      <td>6.000000</td>\n",
       "      <td>5.385165</td>\n",
       "      <td>4.358899</td>\n",
       "      <td>6.782330</td>\n",
       "      <td>3.872983</td>\n",
       "      <td>6.403124</td>\n",
       "      <td>5.099020</td>\n",
       "      <td>4.242640</td>\n",
       "      <td>6.633250</td>\n",
       "      <td>...</td>\n",
       "      <td>3.162278</td>\n",
       "      <td>5.567764</td>\n",
       "      <td>4.472136</td>\n",
       "      <td>4.358899</td>\n",
       "      <td>3.605551</td>\n",
       "      <td>5.099020</td>\n",
       "      <td>3.872983</td>\n",
       "      <td>4.000000</td>\n",
       "      <td>3.464102</td>\n",
       "      <td>5.477226</td>\n",
       "    </tr>\n",
       "    <tr>\n",
       "      <th>3</th>\n",
       "      <td>6.164414</td>\n",
       "      <td>6.082763</td>\n",
       "      <td>5.567764</td>\n",
       "      <td>4.795832</td>\n",
       "      <td>6.855655</td>\n",
       "      <td>4.472136</td>\n",
       "      <td>7.071068</td>\n",
       "      <td>5.099020</td>\n",
       "      <td>4.242640</td>\n",
       "      <td>6.708204</td>\n",
       "      <td>...</td>\n",
       "      <td>4.472136</td>\n",
       "      <td>5.916080</td>\n",
       "      <td>4.690416</td>\n",
       "      <td>4.472136</td>\n",
       "      <td>3.741657</td>\n",
       "      <td>5.291502</td>\n",
       "      <td>4.242640</td>\n",
       "      <td>4.242640</td>\n",
       "      <td>3.464102</td>\n",
       "      <td>5.567764</td>\n",
       "    </tr>\n",
       "    <tr>\n",
       "      <th>4</th>\n",
       "      <td>6.244998</td>\n",
       "      <td>6.082763</td>\n",
       "      <td>5.567764</td>\n",
       "      <td>4.795832</td>\n",
       "      <td>6.855655</td>\n",
       "      <td>5.196152</td>\n",
       "      <td>7.141428</td>\n",
       "      <td>5.099020</td>\n",
       "      <td>4.582576</td>\n",
       "      <td>6.708204</td>\n",
       "      <td>...</td>\n",
       "      <td>4.582576</td>\n",
       "      <td>6.000000</td>\n",
       "      <td>4.795832</td>\n",
       "      <td>4.690416</td>\n",
       "      <td>3.872983</td>\n",
       "      <td>5.477226</td>\n",
       "      <td>4.242640</td>\n",
       "      <td>4.242640</td>\n",
       "      <td>3.464102</td>\n",
       "      <td>5.567764</td>\n",
       "    </tr>\n",
       "    <tr>\n",
       "      <th>...</th>\n",
       "      <td>...</td>\n",
       "      <td>...</td>\n",
       "      <td>...</td>\n",
       "      <td>...</td>\n",
       "      <td>...</td>\n",
       "      <td>...</td>\n",
       "      <td>...</td>\n",
       "      <td>...</td>\n",
       "      <td>...</td>\n",
       "      <td>...</td>\n",
       "      <td>...</td>\n",
       "      <td>...</td>\n",
       "      <td>...</td>\n",
       "      <td>...</td>\n",
       "      <td>...</td>\n",
       "      <td>...</td>\n",
       "      <td>...</td>\n",
       "      <td>...</td>\n",
       "      <td>...</td>\n",
       "      <td>...</td>\n",
       "      <td>...</td>\n",
       "    </tr>\n",
       "    <tr>\n",
       "      <th>3078</th>\n",
       "      <td>11.000000</td>\n",
       "      <td>11.090536</td>\n",
       "      <td>11.269427</td>\n",
       "      <td>10.630146</td>\n",
       "      <td>11.313708</td>\n",
       "      <td>10.816654</td>\n",
       "      <td>11.532562</td>\n",
       "      <td>11.401754</td>\n",
       "      <td>11.401754</td>\n",
       "      <td>11.313708</td>\n",
       "      <td>...</td>\n",
       "      <td>11.090536</td>\n",
       "      <td>11.445523</td>\n",
       "      <td>11.401754</td>\n",
       "      <td>11.090536</td>\n",
       "      <td>11.000000</td>\n",
       "      <td>11.313708</td>\n",
       "      <td>11.090536</td>\n",
       "      <td>11.180340</td>\n",
       "      <td>11.135529</td>\n",
       "      <td>10.862781</td>\n",
       "    </tr>\n",
       "    <tr>\n",
       "      <th>3079</th>\n",
       "      <td>11.000000</td>\n",
       "      <td>11.090536</td>\n",
       "      <td>11.269427</td>\n",
       "      <td>10.677078</td>\n",
       "      <td>11.313708</td>\n",
       "      <td>10.816654</td>\n",
       "      <td>11.532562</td>\n",
       "      <td>11.401754</td>\n",
       "      <td>11.445523</td>\n",
       "      <td>11.313708</td>\n",
       "      <td>...</td>\n",
       "      <td>11.090536</td>\n",
       "      <td>11.445523</td>\n",
       "      <td>11.401754</td>\n",
       "      <td>11.090536</td>\n",
       "      <td>11.135529</td>\n",
       "      <td>11.313708</td>\n",
       "      <td>11.180340</td>\n",
       "      <td>11.180340</td>\n",
       "      <td>11.135529</td>\n",
       "      <td>11.180340</td>\n",
       "    </tr>\n",
       "    <tr>\n",
       "      <th>3080</th>\n",
       "      <td>11.000000</td>\n",
       "      <td>11.090536</td>\n",
       "      <td>11.269427</td>\n",
       "      <td>10.677078</td>\n",
       "      <td>11.313708</td>\n",
       "      <td>10.816654</td>\n",
       "      <td>11.532562</td>\n",
       "      <td>11.401754</td>\n",
       "      <td>11.445523</td>\n",
       "      <td>11.313708</td>\n",
       "      <td>...</td>\n",
       "      <td>11.180340</td>\n",
       "      <td>11.445523</td>\n",
       "      <td>11.401754</td>\n",
       "      <td>11.090536</td>\n",
       "      <td>11.135529</td>\n",
       "      <td>11.313708</td>\n",
       "      <td>11.269427</td>\n",
       "      <td>11.224972</td>\n",
       "      <td>11.269427</td>\n",
       "      <td>11.180340</td>\n",
       "    </tr>\n",
       "    <tr>\n",
       "      <th>3081</th>\n",
       "      <td>11.180340</td>\n",
       "      <td>11.269427</td>\n",
       "      <td>11.357817</td>\n",
       "      <td>10.677078</td>\n",
       "      <td>11.401754</td>\n",
       "      <td>11.045361</td>\n",
       "      <td>11.704700</td>\n",
       "      <td>11.489125</td>\n",
       "      <td>11.532562</td>\n",
       "      <td>11.313708</td>\n",
       "      <td>...</td>\n",
       "      <td>11.180340</td>\n",
       "      <td>11.445523</td>\n",
       "      <td>11.401754</td>\n",
       "      <td>11.313708</td>\n",
       "      <td>11.135529</td>\n",
       "      <td>11.313708</td>\n",
       "      <td>11.401754</td>\n",
       "      <td>11.224972</td>\n",
       "      <td>11.313708</td>\n",
       "      <td>11.180340</td>\n",
       "    </tr>\n",
       "    <tr>\n",
       "      <th>3082</th>\n",
       "      <td>11.575837</td>\n",
       "      <td>11.747340</td>\n",
       "      <td>11.832160</td>\n",
       "      <td>11.269427</td>\n",
       "      <td>11.958261</td>\n",
       "      <td>11.445523</td>\n",
       "      <td>11.704700</td>\n",
       "      <td>12.000000</td>\n",
       "      <td>11.575837</td>\n",
       "      <td>11.489125</td>\n",
       "      <td>...</td>\n",
       "      <td>11.832160</td>\n",
       "      <td>11.789826</td>\n",
       "      <td>11.958261</td>\n",
       "      <td>11.489125</td>\n",
       "      <td>11.618950</td>\n",
       "      <td>11.661903</td>\n",
       "      <td>11.874342</td>\n",
       "      <td>11.224972</td>\n",
       "      <td>11.661903</td>\n",
       "      <td>11.575837</td>\n",
       "    </tr>\n",
       "  </tbody>\n",
       "</table>\n",
       "<p>3083 rows × 3083 columns</p>\n",
       "</div>"
      ],
      "text/plain": [
       "           0          1          2          3          4          5     \\\n",
       "0      0.000000   0.000000   0.000000   0.000000   0.000000   0.000000   \n",
       "1      3.162278   5.656854   4.472136   3.872983   6.708204   3.316625   \n",
       "2      6.164414   6.000000   5.385165   4.358899   6.782330   3.872983   \n",
       "3      6.164414   6.082763   5.567764   4.795832   6.855655   4.472136   \n",
       "4      6.244998   6.082763   5.567764   4.795832   6.855655   5.196152   \n",
       "...         ...        ...        ...        ...        ...        ...   \n",
       "3078  11.000000  11.090536  11.269427  10.630146  11.313708  10.816654   \n",
       "3079  11.000000  11.090536  11.269427  10.677078  11.313708  10.816654   \n",
       "3080  11.000000  11.090536  11.269427  10.677078  11.313708  10.816654   \n",
       "3081  11.180340  11.269427  11.357817  10.677078  11.401754  11.045361   \n",
       "3082  11.575837  11.747340  11.832160  11.269427  11.958261  11.445523   \n",
       "\n",
       "           6          7          8          9     ...       3073       3074  \\\n",
       "0      0.000000   0.000000   0.000000   0.000000  ...   0.000000   0.000000   \n",
       "1      6.244998   5.000000   3.464102   6.480741  ...   3.162278   3.605551   \n",
       "2      6.403124   5.099020   4.242640   6.633250  ...   3.162278   5.567764   \n",
       "3      7.071068   5.099020   4.242640   6.708204  ...   4.472136   5.916080   \n",
       "4      7.141428   5.099020   4.582576   6.708204  ...   4.582576   6.000000   \n",
       "...         ...        ...        ...        ...  ...        ...        ...   \n",
       "3078  11.532562  11.401754  11.401754  11.313708  ...  11.090536  11.445523   \n",
       "3079  11.532562  11.401754  11.445523  11.313708  ...  11.090536  11.445523   \n",
       "3080  11.532562  11.401754  11.445523  11.313708  ...  11.180340  11.445523   \n",
       "3081  11.704700  11.489125  11.532562  11.313708  ...  11.180340  11.445523   \n",
       "3082  11.704700  12.000000  11.575837  11.489125  ...  11.832160  11.789826   \n",
       "\n",
       "           3075       3076       3077       3078       3079       3080  \\\n",
       "0      0.000000   0.000000   0.000000   0.000000   0.000000   0.000000   \n",
       "1      4.123106   4.242640   3.162278   3.605551   3.872983   3.741657   \n",
       "2      4.472136   4.358899   3.605551   5.099020   3.872983   4.000000   \n",
       "3      4.690416   4.472136   3.741657   5.291502   4.242640   4.242640   \n",
       "4      4.795832   4.690416   3.872983   5.477226   4.242640   4.242640   \n",
       "...         ...        ...        ...        ...        ...        ...   \n",
       "3078  11.401754  11.090536  11.000000  11.313708  11.090536  11.180340   \n",
       "3079  11.401754  11.090536  11.135529  11.313708  11.180340  11.180340   \n",
       "3080  11.401754  11.090536  11.135529  11.313708  11.269427  11.224972   \n",
       "3081  11.401754  11.313708  11.135529  11.313708  11.401754  11.224972   \n",
       "3082  11.958261  11.489125  11.618950  11.661903  11.874342  11.224972   \n",
       "\n",
       "           3081       3082  \n",
       "0      0.000000   0.000000  \n",
       "1      2.645751   4.795832  \n",
       "2      3.464102   5.477226  \n",
       "3      3.464102   5.567764  \n",
       "4      3.464102   5.567764  \n",
       "...         ...        ...  \n",
       "3078  11.135529  10.862781  \n",
       "3079  11.135529  11.180340  \n",
       "3080  11.269427  11.180340  \n",
       "3081  11.313708  11.180340  \n",
       "3082  11.661903  11.575837  \n",
       "\n",
       "[3083 rows x 3083 columns]"
      ]
     },
     "execution_count": 23,
     "metadata": {},
     "output_type": "execute_result"
    }
   ],
   "source": [
    "df_tr=pd.DataFrame(neighbors_k)\n",
    "df_tr"
   ]
  },
  {
   "cell_type": "code",
   "execution_count": 24,
   "metadata": {},
   "outputs": [],
   "source": [
    "similarity= neighbors_k"
   ]
  },
  {
   "cell_type": "code",
   "execution_count": 25,
   "metadata": {},
   "outputs": [],
   "source": [
    "Dmean=np.mean(similarity[1,:])"
   ]
  },
  {
   "cell_type": "code",
   "execution_count": 26,
   "metadata": {},
   "outputs": [
    {
     "data": {
      "text/plain": [
       "3.23"
      ]
     },
     "execution_count": 26,
     "metadata": {},
     "output_type": "execute_result"
    }
   ],
   "source": [
    "round(Dmean, 2)"
   ]
  },
  {
   "cell_type": "code",
   "execution_count": 27,
   "metadata": {},
   "outputs": [],
   "source": [
    "std=np.std(similarity[1,:])"
   ]
  },
  {
   "cell_type": "code",
   "execution_count": 28,
   "metadata": {},
   "outputs": [
    {
     "data": {
      "text/plain": [
       "1.37"
      ]
     },
     "execution_count": 28,
     "metadata": {},
     "output_type": "execute_result"
    }
   ],
   "source": [
    "round(std, 2)"
   ]
  },
  {
   "cell_type": "code",
   "execution_count": 29,
   "metadata": {},
   "outputs": [
    {
     "name": "stdout",
     "output_type": "stream",
     "text": [
      "3.91\n"
     ]
    }
   ],
   "source": [
    "model_AD_limit=Dmean+std*0.5\n",
    "print(np.round(model_AD_limit, 2))"
   ]
  },
  {
   "cell_type": "code",
   "execution_count": 30,
   "metadata": {},
   "outputs": [],
   "source": [
    "neighbors_k_ts= pairwise_distances(x_tr,Y=x_ts, n_jobs=-1)\n",
    "neighbors_k_ts.sort(0)"
   ]
  },
  {
   "cell_type": "code",
   "execution_count": 31,
   "metadata": {},
   "outputs": [
    {
     "data": {
      "text/html": [
       "<div>\n",
       "<style scoped>\n",
       "    .dataframe tbody tr th:only-of-type {\n",
       "        vertical-align: middle;\n",
       "    }\n",
       "\n",
       "    .dataframe tbody tr th {\n",
       "        vertical-align: top;\n",
       "    }\n",
       "\n",
       "    .dataframe thead th {\n",
       "        text-align: right;\n",
       "    }\n",
       "</style>\n",
       "<table border=\"1\" class=\"dataframe\">\n",
       "  <thead>\n",
       "    <tr style=\"text-align: right;\">\n",
       "      <th></th>\n",
       "      <th>0</th>\n",
       "      <th>1</th>\n",
       "      <th>2</th>\n",
       "      <th>3</th>\n",
       "      <th>4</th>\n",
       "      <th>5</th>\n",
       "      <th>6</th>\n",
       "      <th>7</th>\n",
       "      <th>8</th>\n",
       "      <th>9</th>\n",
       "      <th>...</th>\n",
       "      <th>761</th>\n",
       "      <th>762</th>\n",
       "      <th>763</th>\n",
       "      <th>764</th>\n",
       "      <th>765</th>\n",
       "      <th>766</th>\n",
       "      <th>767</th>\n",
       "      <th>768</th>\n",
       "      <th>769</th>\n",
       "      <th>770</th>\n",
       "    </tr>\n",
       "  </thead>\n",
       "  <tbody>\n",
       "    <tr>\n",
       "      <th>0</th>\n",
       "      <td>3.605551</td>\n",
       "      <td>4.358899</td>\n",
       "      <td>3.316625</td>\n",
       "      <td>4.898979</td>\n",
       "      <td>5.000000</td>\n",
       "      <td>1.000000</td>\n",
       "      <td>2.449490</td>\n",
       "      <td>5.000000</td>\n",
       "      <td>2.449490</td>\n",
       "      <td>3.605551</td>\n",
       "      <td>...</td>\n",
       "      <td>3.162278</td>\n",
       "      <td>3.316625</td>\n",
       "      <td>3.872983</td>\n",
       "      <td>3.605551</td>\n",
       "      <td>2.645751</td>\n",
       "      <td>4.582576</td>\n",
       "      <td>3.605551</td>\n",
       "      <td>3.605551</td>\n",
       "      <td>1.000000</td>\n",
       "      <td>4.898979</td>\n",
       "    </tr>\n",
       "    <tr>\n",
       "      <th>1</th>\n",
       "      <td>4.898979</td>\n",
       "      <td>4.582576</td>\n",
       "      <td>3.605551</td>\n",
       "      <td>5.099020</td>\n",
       "      <td>5.196152</td>\n",
       "      <td>3.316625</td>\n",
       "      <td>3.464102</td>\n",
       "      <td>5.099020</td>\n",
       "      <td>2.828427</td>\n",
       "      <td>3.872983</td>\n",
       "      <td>...</td>\n",
       "      <td>4.123106</td>\n",
       "      <td>4.582576</td>\n",
       "      <td>4.000000</td>\n",
       "      <td>3.605551</td>\n",
       "      <td>3.605551</td>\n",
       "      <td>6.855655</td>\n",
       "      <td>5.099020</td>\n",
       "      <td>4.690416</td>\n",
       "      <td>3.605551</td>\n",
       "      <td>5.000000</td>\n",
       "    </tr>\n",
       "    <tr>\n",
       "      <th>2</th>\n",
       "      <td>5.196152</td>\n",
       "      <td>4.898979</td>\n",
       "      <td>3.605551</td>\n",
       "      <td>6.633250</td>\n",
       "      <td>5.196152</td>\n",
       "      <td>4.123106</td>\n",
       "      <td>3.872983</td>\n",
       "      <td>5.291503</td>\n",
       "      <td>3.464102</td>\n",
       "      <td>4.000000</td>\n",
       "      <td>...</td>\n",
       "      <td>4.582576</td>\n",
       "      <td>4.582576</td>\n",
       "      <td>4.795832</td>\n",
       "      <td>4.123106</td>\n",
       "      <td>3.872983</td>\n",
       "      <td>6.855655</td>\n",
       "      <td>5.196152</td>\n",
       "      <td>4.795832</td>\n",
       "      <td>5.477226</td>\n",
       "      <td>5.099020</td>\n",
       "    </tr>\n",
       "    <tr>\n",
       "      <th>3</th>\n",
       "      <td>5.196152</td>\n",
       "      <td>5.196152</td>\n",
       "      <td>4.000000</td>\n",
       "      <td>7.211103</td>\n",
       "      <td>5.291503</td>\n",
       "      <td>4.358899</td>\n",
       "      <td>3.872983</td>\n",
       "      <td>5.291503</td>\n",
       "      <td>4.358899</td>\n",
       "      <td>4.358899</td>\n",
       "      <td>...</td>\n",
       "      <td>4.582576</td>\n",
       "      <td>4.582576</td>\n",
       "      <td>5.567764</td>\n",
       "      <td>4.582576</td>\n",
       "      <td>4.000000</td>\n",
       "      <td>6.855655</td>\n",
       "      <td>5.385165</td>\n",
       "      <td>4.898979</td>\n",
       "      <td>5.477226</td>\n",
       "      <td>5.099020</td>\n",
       "    </tr>\n",
       "    <tr>\n",
       "      <th>4</th>\n",
       "      <td>5.477226</td>\n",
       "      <td>5.385165</td>\n",
       "      <td>5.567764</td>\n",
       "      <td>7.211103</td>\n",
       "      <td>5.385165</td>\n",
       "      <td>4.472136</td>\n",
       "      <td>4.123106</td>\n",
       "      <td>5.291503</td>\n",
       "      <td>6.633250</td>\n",
       "      <td>4.898979</td>\n",
       "      <td>...</td>\n",
       "      <td>4.582576</td>\n",
       "      <td>4.690416</td>\n",
       "      <td>6.082763</td>\n",
       "      <td>4.898979</td>\n",
       "      <td>4.242641</td>\n",
       "      <td>6.928203</td>\n",
       "      <td>5.385165</td>\n",
       "      <td>5.099020</td>\n",
       "      <td>5.656854</td>\n",
       "      <td>5.196152</td>\n",
       "    </tr>\n",
       "    <tr>\n",
       "      <th>...</th>\n",
       "      <td>...</td>\n",
       "      <td>...</td>\n",
       "      <td>...</td>\n",
       "      <td>...</td>\n",
       "      <td>...</td>\n",
       "      <td>...</td>\n",
       "      <td>...</td>\n",
       "      <td>...</td>\n",
       "      <td>...</td>\n",
       "      <td>...</td>\n",
       "      <td>...</td>\n",
       "      <td>...</td>\n",
       "      <td>...</td>\n",
       "      <td>...</td>\n",
       "      <td>...</td>\n",
       "      <td>...</td>\n",
       "      <td>...</td>\n",
       "      <td>...</td>\n",
       "      <td>...</td>\n",
       "      <td>...</td>\n",
       "      <td>...</td>\n",
       "    </tr>\n",
       "    <tr>\n",
       "      <th>3078</th>\n",
       "      <td>10.816654</td>\n",
       "      <td>11.224972</td>\n",
       "      <td>11.000000</td>\n",
       "      <td>11.313708</td>\n",
       "      <td>11.180340</td>\n",
       "      <td>11.401754</td>\n",
       "      <td>10.723805</td>\n",
       "      <td>11.489125</td>\n",
       "      <td>11.489125</td>\n",
       "      <td>10.862780</td>\n",
       "      <td>...</td>\n",
       "      <td>11.180340</td>\n",
       "      <td>10.677078</td>\n",
       "      <td>11.357817</td>\n",
       "      <td>11.489125</td>\n",
       "      <td>11.045361</td>\n",
       "      <td>11.180340</td>\n",
       "      <td>11.269428</td>\n",
       "      <td>11.090537</td>\n",
       "      <td>11.045361</td>\n",
       "      <td>11.090537</td>\n",
       "    </tr>\n",
       "    <tr>\n",
       "      <th>3079</th>\n",
       "      <td>10.816654</td>\n",
       "      <td>11.313708</td>\n",
       "      <td>11.401754</td>\n",
       "      <td>11.357817</td>\n",
       "      <td>11.180340</td>\n",
       "      <td>11.401754</td>\n",
       "      <td>11.000000</td>\n",
       "      <td>11.532563</td>\n",
       "      <td>11.532563</td>\n",
       "      <td>10.862780</td>\n",
       "      <td>...</td>\n",
       "      <td>11.224972</td>\n",
       "      <td>10.677078</td>\n",
       "      <td>11.532563</td>\n",
       "      <td>11.575837</td>\n",
       "      <td>11.090537</td>\n",
       "      <td>11.224972</td>\n",
       "      <td>11.269428</td>\n",
       "      <td>11.090537</td>\n",
       "      <td>11.045361</td>\n",
       "      <td>11.135529</td>\n",
       "    </tr>\n",
       "    <tr>\n",
       "      <th>3080</th>\n",
       "      <td>10.816654</td>\n",
       "      <td>11.313708</td>\n",
       "      <td>11.401754</td>\n",
       "      <td>11.357817</td>\n",
       "      <td>11.180340</td>\n",
       "      <td>11.401754</td>\n",
       "      <td>11.000000</td>\n",
       "      <td>11.575837</td>\n",
       "      <td>11.532563</td>\n",
       "      <td>10.862780</td>\n",
       "      <td>...</td>\n",
       "      <td>11.224972</td>\n",
       "      <td>10.770330</td>\n",
       "      <td>11.532563</td>\n",
       "      <td>11.789826</td>\n",
       "      <td>11.090537</td>\n",
       "      <td>11.269428</td>\n",
       "      <td>11.269428</td>\n",
       "      <td>11.090537</td>\n",
       "      <td>11.090537</td>\n",
       "      <td>11.135529</td>\n",
       "    </tr>\n",
       "    <tr>\n",
       "      <th>3081</th>\n",
       "      <td>10.816654</td>\n",
       "      <td>11.357817</td>\n",
       "      <td>11.401754</td>\n",
       "      <td>11.401754</td>\n",
       "      <td>11.180340</td>\n",
       "      <td>11.401754</td>\n",
       "      <td>11.000000</td>\n",
       "      <td>11.618950</td>\n",
       "      <td>11.532563</td>\n",
       "      <td>11.224972</td>\n",
       "      <td>...</td>\n",
       "      <td>11.224972</td>\n",
       "      <td>10.770330</td>\n",
       "      <td>11.532563</td>\n",
       "      <td>11.789826</td>\n",
       "      <td>11.090537</td>\n",
       "      <td>11.357817</td>\n",
       "      <td>11.269428</td>\n",
       "      <td>11.180340</td>\n",
       "      <td>11.090537</td>\n",
       "      <td>11.180340</td>\n",
       "    </tr>\n",
       "    <tr>\n",
       "      <th>3082</th>\n",
       "      <td>11.224972</td>\n",
       "      <td>11.401754</td>\n",
       "      <td>11.445523</td>\n",
       "      <td>11.958261</td>\n",
       "      <td>11.618950</td>\n",
       "      <td>11.489125</td>\n",
       "      <td>11.313708</td>\n",
       "      <td>11.704700</td>\n",
       "      <td>11.958261</td>\n",
       "      <td>11.789826</td>\n",
       "      <td>...</td>\n",
       "      <td>11.789826</td>\n",
       "      <td>11.135529</td>\n",
       "      <td>11.916375</td>\n",
       "      <td>11.789826</td>\n",
       "      <td>11.489125</td>\n",
       "      <td>11.958261</td>\n",
       "      <td>11.789826</td>\n",
       "      <td>11.747340</td>\n",
       "      <td>11.789826</td>\n",
       "      <td>11.832160</td>\n",
       "    </tr>\n",
       "  </tbody>\n",
       "</table>\n",
       "<p>3083 rows × 771 columns</p>\n",
       "</div>"
      ],
      "text/plain": [
       "            0          1          2          3          4          5    \\\n",
       "0      3.605551   4.358899   3.316625   4.898979   5.000000   1.000000   \n",
       "1      4.898979   4.582576   3.605551   5.099020   5.196152   3.316625   \n",
       "2      5.196152   4.898979   3.605551   6.633250   5.196152   4.123106   \n",
       "3      5.196152   5.196152   4.000000   7.211103   5.291503   4.358899   \n",
       "4      5.477226   5.385165   5.567764   7.211103   5.385165   4.472136   \n",
       "...         ...        ...        ...        ...        ...        ...   \n",
       "3078  10.816654  11.224972  11.000000  11.313708  11.180340  11.401754   \n",
       "3079  10.816654  11.313708  11.401754  11.357817  11.180340  11.401754   \n",
       "3080  10.816654  11.313708  11.401754  11.357817  11.180340  11.401754   \n",
       "3081  10.816654  11.357817  11.401754  11.401754  11.180340  11.401754   \n",
       "3082  11.224972  11.401754  11.445523  11.958261  11.618950  11.489125   \n",
       "\n",
       "            6          7          8          9    ...        761        762  \\\n",
       "0      2.449490   5.000000   2.449490   3.605551  ...   3.162278   3.316625   \n",
       "1      3.464102   5.099020   2.828427   3.872983  ...   4.123106   4.582576   \n",
       "2      3.872983   5.291503   3.464102   4.000000  ...   4.582576   4.582576   \n",
       "3      3.872983   5.291503   4.358899   4.358899  ...   4.582576   4.582576   \n",
       "4      4.123106   5.291503   6.633250   4.898979  ...   4.582576   4.690416   \n",
       "...         ...        ...        ...        ...  ...        ...        ...   \n",
       "3078  10.723805  11.489125  11.489125  10.862780  ...  11.180340  10.677078   \n",
       "3079  11.000000  11.532563  11.532563  10.862780  ...  11.224972  10.677078   \n",
       "3080  11.000000  11.575837  11.532563  10.862780  ...  11.224972  10.770330   \n",
       "3081  11.000000  11.618950  11.532563  11.224972  ...  11.224972  10.770330   \n",
       "3082  11.313708  11.704700  11.958261  11.789826  ...  11.789826  11.135529   \n",
       "\n",
       "            763        764        765        766        767        768  \\\n",
       "0      3.872983   3.605551   2.645751   4.582576   3.605551   3.605551   \n",
       "1      4.000000   3.605551   3.605551   6.855655   5.099020   4.690416   \n",
       "2      4.795832   4.123106   3.872983   6.855655   5.196152   4.795832   \n",
       "3      5.567764   4.582576   4.000000   6.855655   5.385165   4.898979   \n",
       "4      6.082763   4.898979   4.242641   6.928203   5.385165   5.099020   \n",
       "...         ...        ...        ...        ...        ...        ...   \n",
       "3078  11.357817  11.489125  11.045361  11.180340  11.269428  11.090537   \n",
       "3079  11.532563  11.575837  11.090537  11.224972  11.269428  11.090537   \n",
       "3080  11.532563  11.789826  11.090537  11.269428  11.269428  11.090537   \n",
       "3081  11.532563  11.789826  11.090537  11.357817  11.269428  11.180340   \n",
       "3082  11.916375  11.789826  11.489125  11.958261  11.789826  11.747340   \n",
       "\n",
       "            769        770  \n",
       "0      1.000000   4.898979  \n",
       "1      3.605551   5.000000  \n",
       "2      5.477226   5.099020  \n",
       "3      5.477226   5.099020  \n",
       "4      5.656854   5.196152  \n",
       "...         ...        ...  \n",
       "3078  11.045361  11.090537  \n",
       "3079  11.045361  11.135529  \n",
       "3080  11.090537  11.135529  \n",
       "3081  11.090537  11.180340  \n",
       "3082  11.789826  11.832160  \n",
       "\n",
       "[3083 rows x 771 columns]"
      ]
     },
     "execution_count": 31,
     "metadata": {},
     "output_type": "execute_result"
    }
   ],
   "source": [
    "x_ts_AD=pd.DataFrame(neighbors_k_ts)\n",
    "x_ts_AD"
   ]
  },
  {
   "cell_type": "code",
   "execution_count": 32,
   "metadata": {},
   "outputs": [
    {
     "name": "stdout",
     "output_type": "stream",
     "text": [
      "[3.606 4.359 3.317 4.899 5.    1.    2.449 5.    2.449 3.606 3.464 2.828\n",
      " 6.928 3.162 0.    4.123 1.    5.    3.162 4.123 2.646 3.162 4.899 4.359\n",
      " 6.    2.828 3.464 4.583 3.317 4.    3.742 7.    3.606 4.    4.243 3.606\n",
      " 3.873 3.873 3.317 3.606 4.    1.    3.317 4.472 2.646 4.359 2.828 2.828\n",
      " 3.162 3.464 3.873 3.464 5.916 3.162 4.359 1.732 3.    3.606 6.481 3.742\n",
      " 3.606 3.742 3.464 2.828 5.099 4.123 3.162 3.464 3.    3.606 3.742 3.162\n",
      " 1.    4.899 4.472 3.464 3.    4.472 6.856 1.    3.606 4.359 3.742 3.606\n",
      " 5.831 3.464 4.359 2.    4.69  1.    2.    4.69  3.742 4.69  2.646 4.583\n",
      " 3.742 3.162 1.414 3.464 1.414 6.481 0.    4.    2.646 4.359 2.828 3.873\n",
      " 3.162 3.464 1.    3.606 4.359 3.    3.464 3.317 2.449 2.236 3.317 1.\n",
      " 3.606 2.236 0.    4.243 4.243 3.742 3.464 4.243 4.583 2.449 3.873 0.\n",
      " 2.828 2.449 3.873 1.732 5.099 3.464 0.    2.449 3.317 3.    3.606 0.\n",
      " 3.    4.    0.    2.    3.606 1.414 3.742 1.414 4.    5.477 2.828 4.\n",
      " 4.123 4.    4.899 0.    3.742 3.    3.873 3.162 3.464 0.    2.    5.196\n",
      " 3.873 2.236 3.    5.196 2.646 4.123 2.236 3.    2.646 4.899 5.    5.\n",
      " 4.243 0.    2.236 3.464 3.464 2.646 5.657 3.317 2.828 3.464 3.    3.162\n",
      " 4.243 3.606 5.099 0.    3.464 3.464 3.873 4.    0.    3.742 3.464 1.732\n",
      " 1.    3.606 3.317 3.464 2.236 3.464 2.646 3.    2.828 4.796 3.742 4.243\n",
      " 4.243 3.    3.742 1.732 1.    2.    4.243 2.646 3.873 3.317 2.828 4.243\n",
      " 2.828 4.472 3.464 3.873 3.873 3.162 4.796 4.123 4.    2.    2.449 0.\n",
      " 2.236 2.828 4.359 5.292 3.464 3.317 2.828 5.196 0.    2.449 3.742 3.317\n",
      " 3.606 2.236 1.732 3.    1.732 1.732 3.873 3.606 5.385 3.742 3.    4.243\n",
      " 2.236 2.828 0.    4.583 3.464 4.123 3.606 2.828 5.    3.317 3.873 3.317\n",
      " 3.162 4.69  0.    2.646 2.    1.    3.317 4.243 3.162 3.162 2.828 4.123\n",
      " 3.464 0.    0.    3.317 2.    2.236 3.317 2.449 1.732 3.464 2.828 3.873\n",
      " 3.162 4.69  2.828 4.472 4.359 3.    3.606 4.583 4.472 1.732 3.    3.162\n",
      " 2.    4.472 3.606 2.449 1.414 0.    4.359 4.583 0.    3.464 4.472 4.796\n",
      " 2.646 4.    4.    3.317 3.317 3.606 4.    4.123 3.162 5.657 0.    3.742\n",
      " 3.317 0.    4.243 4.243 3.162 3.317 3.162 3.873 0.    3.317 2.828 3.873\n",
      " 3.    3.606 1.732 5.    7.28  4.472 3.317 3.742 2.828 4.123 4.    3.162\n",
      " 3.742 6.083 4.899 4.359 3.162 3.742 2.236 3.317 3.162 2.449 3.742 3.\n",
      " 3.162 3.742 3.    3.317 1.    4.123 1.    2.828 2.828 5.    4.899 3.464\n",
      " 3.464 2.828 4.    3.    0.    3.    4.243 3.317 2.646 4.123 2.236 3.606\n",
      " 3.464 2.236 4.359 1.732 3.    0.    4.    2.449 4.899 4.583 1.732 3.606\n",
      " 3.162 3.873 1.    4.243 4.243 3.317 2.828 1.    5.292 3.    3.162 4.359\n",
      " 3.606 9.22  3.464 2.828 4.    3.464 3.464 3.464 3.464 4.243 3.317 3.317\n",
      " 3.317 3.464 4.123 3.317 0.    3.317 3.464 3.873 4.    3.606 1.732 3.742\n",
      " 3.464 1.732 3.317 6.481 2.    1.    4.359 0.    4.359 3.606 4.359 3.162\n",
      " 4.    3.162 3.    1.    3.606 3.606 0.    4.69  2.449 3.742 0.    4.472\n",
      " 4.69  4.583 6.325 3.464 0.    3.162 0.    3.162 2.828 3.464 0.    3.162\n",
      " 5.196 4.243 0.    2.828 4.69  3.    2.449 3.464 3.742 3.162 3.162 2.449\n",
      " 3.606 4.    0.    5.099 4.123 0.    3.317 2.    3.464 6.708 4.    0.\n",
      " 1.732 3.606 3.    4.359 2.828 3.317 4.243 4.583 0.    3.317 0.    3.162\n",
      " 4.123 3.742 3.317 0.    3.742 3.464 5.196 3.873 3.162 3.873 3.162 6.325\n",
      " 3.606 3.    3.317 3.606 2.646 4.243 3.873 0.    2.236 3.606 5.099 2.646\n",
      " 3.464 3.606 3.317 3.464 1.    3.317 4.    5.    2.828 2.828 0.    4.\n",
      " 3.162 3.606 3.    3.742 2.828 2.828 3.873 5.292 0.    2.236 2.646 5.831\n",
      " 3.162 3.606 1.    0.    3.    4.    3.606 0.    2.449 3.606 3.464 3.606\n",
      " 3.    0.    3.742 1.    1.414 0.    4.    4.359 4.123 0.    0.    5.\n",
      " 3.606 3.    2.828 6.557 5.745 4.    5.    4.899 0.    0.    2.449 3.317\n",
      " 0.    4.359 2.828 3.873 3.317 3.317 4.123 2.449 3.464 3.    4.359 3.464\n",
      " 4.    3.162 7.746 3.873 3.317 0.    3.162 6.    5.292 4.123 2.828 2.449\n",
      " 3.317 0.    0.    3.    3.873 4.    4.123 2.828 0.    0.    4.123 4.69\n",
      " 3.317 3.162 4.    0.    3.742 2.449 2.449 4.359 3.    4.    3.    2.828\n",
      " 5.831 3.317 3.742 1.732 2.828 4.899 3.873 2.828 3.162 3.162 1.    4.243\n",
      " 2.828 4.359 2.646 3.742 4.472 3.162 2.828 3.162 3.317 4.796 3.742 3.\n",
      " 3.162 4.    4.123 1.414 3.606 3.873 4.243 4.243 3.742 1.    5.831 3.464\n",
      " 4.243 3.742 4.359 2.449 4.    3.    3.317 3.606 2.646 4.583 0.    2.828\n",
      " 0.    6.481 4.899 4.69  4.359 3.162 3.464 3.464 1.    3.317 4.    2.646\n",
      " 4.359 2.236 2.236 5.196 3.    3.162 5.    4.    3.873 3.606 3.    2.449\n",
      " 3.317 3.464 2.646 3.162 3.742 3.162 3.162 0.    3.464 3.606 2.236 4.\n",
      " 3.    3.742 2.828 5.196 3.606 3.464 3.742 3.873 3.606 3.162 0.    7.55\n",
      " 2.    2.449 3.742 4.    3.464 2.828 2.646 4.796 4.123 4.    3.    3.317\n",
      " 4.899 3.162 3.317 4.    4.69  3.162 3.317 3.873 3.606 2.646 4.583 3.606\n",
      " 3.606 1.    4.899]\n"
     ]
    }
   ],
   "source": [
    "similarity_ts= neighbors_k_ts\n",
    "cpd_AD=similarity_ts[0,:]\n",
    "cpd_value = np.round(cpd_AD, 3)\n",
    "print(cpd_value)"
   ]
  },
  {
   "cell_type": "code",
   "execution_count": 33,
   "metadata": {},
   "outputs": [
    {
     "name": "stdout",
     "output_type": "stream",
     "text": [
      "[ True False  True False False  True  True False  True  True  True  True\n",
      " False  True  True False  True False  True False  True  True False False\n",
      " False  True  True False  True False  True False  True False False  True\n",
      "  True  True  True  True False  True  True False  True False  True  True\n",
      "  True  True  True  True False  True False  True  True  True False  True\n",
      "  True  True  True  True False False  True  True  True  True  True  True\n",
      "  True False False  True  True False False  True  True False  True  True\n",
      " False  True False  True False  True  True False  True False  True False\n",
      "  True  True  True  True  True False  True False  True False  True  True\n",
      "  True  True  True  True False  True  True  True  True  True  True  True\n",
      "  True  True  True False False  True  True False False  True  True  True\n",
      "  True  True  True  True False  True  True  True  True  True  True  True\n",
      "  True False  True  True  True  True  True  True False False  True False\n",
      " False False False  True  True  True  True  True  True  True  True False\n",
      "  True  True  True False  True False  True  True  True False False False\n",
      " False  True  True  True  True  True False  True  True  True  True  True\n",
      " False  True False  True  True  True  True False  True  True  True  True\n",
      "  True  True  True  True  True  True  True  True  True False  True False\n",
      " False  True  True  True  True  True False  True  True  True  True False\n",
      "  True False  True  True  True  True False False False  True  True  True\n",
      "  True  True False False  True  True  True False  True  True  True  True\n",
      "  True  True  True  True  True  True  True  True False  True  True False\n",
      "  True  True  True False  True False  True  True False  True  True  True\n",
      "  True False  True  True  True  True  True False  True  True  True False\n",
      "  True  True  True  True  True  True  True  True  True  True  True  True\n",
      "  True False  True False False  True  True False False  True  True  True\n",
      "  True False  True  True  True  True False False  True  True False False\n",
      "  True False False  True  True  True False False  True False  True  True\n",
      "  True  True False False  True  True  True  True  True  True  True  True\n",
      "  True  True  True False False False  True  True  True False False  True\n",
      "  True False False False  True  True  True  True  True  True  True  True\n",
      "  True  True  True  True  True False  True  True  True False False  True\n",
      "  True  True False  True  True  True False  True  True False  True  True\n",
      "  True  True False  True  True  True False  True False False  True  True\n",
      "  True  True  True False False  True  True  True False  True  True False\n",
      "  True False  True  True False  True  True  True  True False  True  True\n",
      "  True  True False  True  True  True  True  True False  True  True  True\n",
      "  True  True  True False  True  True False  True False  True False  True\n",
      " False  True  True  True  True  True  True False  True  True  True False\n",
      " False False False  True  True  True  True  True  True  True  True  True\n",
      " False False  True  True False  True  True  True  True  True  True  True\n",
      "  True False  True False False  True  True  True  True False False  True\n",
      "  True  True  True False  True  True False False  True  True  True  True\n",
      " False  True  True  True  True  True False  True  True  True  True False\n",
      "  True  True  True  True  True False  True  True  True  True False  True\n",
      "  True  True  True  True  True  True False False  True  True  True False\n",
      "  True  True  True  True  True  True  True False  True  True  True False\n",
      "  True  True  True  True  True False  True  True  True  True  True  True\n",
      "  True  True  True  True  True  True False False False  True  True False\n",
      "  True  True  True False False False False False  True  True  True  True\n",
      "  True False  True  True  True  True False  True  True  True False  True\n",
      " False  True False  True  True  True  True False False False  True  True\n",
      "  True  True  True  True  True False False  True  True  True False False\n",
      "  True  True False  True  True  True  True False  True False  True  True\n",
      " False  True  True  True  True False  True  True  True  True  True False\n",
      "  True False  True  True False  True  True  True  True False  True  True\n",
      "  True False False  True  True  True False False  True  True False  True\n",
      " False  True False  True False  True  True  True  True False  True  True\n",
      "  True False False False False  True  True  True  True  True False  True\n",
      " False  True  True False  True  True False False  True  True  True  True\n",
      "  True  True  True  True  True  True  True  True  True  True  True False\n",
      "  True  True  True False  True  True  True  True  True  True  True False\n",
      "  True  True  True False  True  True  True False False False  True  True\n",
      " False  True  True False False  True  True  True  True  True False  True\n",
      "  True  True False]\n"
     ]
    }
   ],
   "source": [
    "cpd_AD = np.where(cpd_value <= model_AD_limit, True, False)\n",
    "print(cpd_AD)"
   ]
  },
  {
   "cell_type": "code",
   "execution_count": 34,
   "metadata": {},
   "outputs": [
    {
     "name": "stdout",
     "output_type": "stream",
     "text": [
      "Coverage =  0.72\n"
     ]
    }
   ],
   "source": [
    "print(\"Coverage = \", round(sum(cpd_AD) / len(cpd_AD), 2))"
   ]
  },
  {
   "cell_type": "code",
   "execution_count": 35,
   "metadata": {},
   "outputs": [
    {
     "name": "stdout",
     "output_type": "stream",
     "text": [
      "Indices of substances included in AD =  [  0   2   5   6   8   9  10  11  13  14  16  18  20  21  25  26  28  30\n",
      "  32  35  36  37  38  39  41  42  44  46  47  48  49  50  51  53  55  56\n",
      "  57  59  60  61  62  63  66  67  68  69  70  71  72  75  76  79  80  82\n",
      "  83  85  87  89  90  92  94  96  97  98  99 100 102 104 106 107 108 109\n",
      " 110 111 113 114 115 116 117 118 119 120 121 122 125 126 129 130 131 132\n",
      " 133 134 135 137 138 139 140 141 142 143 144 146 147 148 149 150 151 154\n",
      " 159 160 161 162 163 164 165 166 168 169 170 172 174 175 176 181 182 183\n",
      " 184 185 187 188 189 190 191 193 195 196 197 198 200 201 202 203 204 205\n",
      " 206 207 208 209 210 211 212 214 217 218 219 220 221 223 224 225 226 228\n",
      " 230 231 232 233 237 238 239 240 241 244 245 246 248 249 250 251 252 253\n",
      " 254 255 256 257 258 259 261 262 264 265 266 268 270 271 273 274 275 276\n",
      " 278 279 280 281 282 284 285 286 288 289 290 291 292 293 294 295 296 297\n",
      " 298 299 300 302 305 306 309 310 311 312 314 315 316 317 320 321 324 327\n",
      " 328 329 332 334 335 336 337 340 341 342 343 344 345 346 347 348 349 350\n",
      " 354 355 356 359 360 364 365 366 367 368 369 370 371 372 373 374 375 376\n",
      " 378 379 380 383 384 385 387 388 389 391 392 394 395 396 397 399 400 401\n",
      " 403 406 407 408 409 410 413 414 415 417 418 420 422 423 425 426 427 428\n",
      " 430 431 432 433 435 436 437 438 439 441 442 443 444 445 446 448 449 451\n",
      " 453 455 457 458 459 460 461 462 464 465 466 471 472 473 474 475 476 477\n",
      " 478 479 482 483 485 486 487 488 489 490 491 492 494 497 498 499 500 503\n",
      " 504 505 506 508 509 512 513 514 515 517 518 519 520 521 523 524 525 526\n",
      " 528 529 530 531 532 534 535 536 537 539 540 541 542 543 544 545 548 549\n",
      " 550 552 553 554 555 556 557 558 560 561 562 564 565 566 567 568 570 571\n",
      " 572 573 574 575 576 577 578 579 580 581 585 586 588 589 590 596 597 598\n",
      " 599 600 602 603 604 605 607 608 609 611 613 615 616 617 618 622 623 624\n",
      " 625 626 627 628 631 632 633 636 637 639 640 641 642 644 646 647 649 650\n",
      " 651 652 654 655 656 657 658 660 662 663 665 666 667 668 670 671 672 675\n",
      " 676 677 680 681 683 685 687 689 690 691 692 694 695 696 701 702 703 704\n",
      " 705 707 709 710 712 713 716 717 718 719 720 721 722 723 724 725 726 727\n",
      " 728 729 730 732 733 734 736 737 738 739 740 741 742 744 745 746 748 749\n",
      " 750 754 755 757 758 761 762 763 764 765 767 768 769]\n"
     ]
    }
   ],
   "source": [
    "print(\"Indices of substances included in AD = \", np.where(cpd_AD != 0)[0])"
   ]
  },
  {
   "cell_type": "code",
   "execution_count": 36,
   "metadata": {},
   "outputs": [],
   "source": [
    "out_Ad=list(np.where(cpd_AD == 0)[0])"
   ]
  },
  {
   "cell_type": "markdown",
   "metadata": {},
   "source": [
    "# 12. Prediction only for molecules included in  AD"
   ]
  },
  {
   "cell_type": "code",
   "execution_count": 45,
   "metadata": {},
   "outputs": [],
   "source": [
    "y_pred_GBR_ad=list(y_pred_GBR)"
   ]
  },
  {
   "cell_type": "code",
   "execution_count": 46,
   "metadata": {},
   "outputs": [],
   "source": [
    "y_pred_GBR_ad[:] = [x for i,x in enumerate(y_pred_GBR_ad) if i not in out_Ad]"
   ]
  },
  {
   "cell_type": "code",
   "execution_count": 47,
   "metadata": {},
   "outputs": [
    {
     "data": {
      "text/plain": [
       "553"
      ]
     },
     "execution_count": 47,
     "metadata": {},
     "output_type": "execute_result"
    }
   ],
   "source": [
    "len(y_pred_GBR_ad)"
   ]
  },
  {
   "cell_type": "code",
   "execution_count": 48,
   "metadata": {},
   "outputs": [],
   "source": [
    "y_ts_ad=list(y_ts)"
   ]
  },
  {
   "cell_type": "code",
   "execution_count": 49,
   "metadata": {},
   "outputs": [],
   "source": [
    "y_ts_ad[:] = [x for i,x in enumerate(y_ts_ad) if i not in out_Ad]"
   ]
  },
  {
   "cell_type": "code",
   "execution_count": 50,
   "metadata": {},
   "outputs": [
    {
     "data": {
      "text/plain": [
       "553"
      ]
     },
     "execution_count": 50,
     "metadata": {},
     "output_type": "execute_result"
    }
   ],
   "source": [
    "len(y_ts_ad)"
   ]
  },
  {
   "cell_type": "code",
   "execution_count": 51,
   "metadata": {},
   "outputs": [
    {
     "data": {
      "text/plain": [
       "0.72"
      ]
     },
     "execution_count": 51,
     "metadata": {},
     "output_type": "execute_result"
    }
   ],
   "source": [
    "Q2_TS = round(r2_score(y_ts_ad, y_pred_GBR_ad), 2)\n",
    "Q2_TS"
   ]
  },
  {
   "cell_type": "code",
   "execution_count": 52,
   "metadata": {},
   "outputs": [
    {
     "data": {
      "text/plain": [
       "0.64"
      ]
     },
     "execution_count": 52,
     "metadata": {},
     "output_type": "execute_result"
    }
   ],
   "source": [
    "RMSE_TS=round(np.sqrt(mean_absolute_error(y_ts_ad, y_pred_GBR_ad)), 2)\n",
    "RMSE_TS"
   ]
  },
  {
   "cell_type": "markdown",
   "metadata": {},
   "source": [
    "# SVM model building and validation"
   ]
  },
  {
   "cell_type": "code",
   "execution_count": 73,
   "metadata": {},
   "outputs": [],
   "source": [
    "param_grid = {\"C\": [10 ** i for i in range(0, 5)],\n",
    "              \"gamma\": [10 ** i for i in range(-6, 0)]}"
   ]
  },
  {
   "cell_type": "code",
   "execution_count": 25,
   "metadata": {},
   "outputs": [],
   "source": [
    "seed = 42\n",
    "cv=KFold(n_splits=5, random_state=seed, shuffle=True)"
   ]
  },
  {
   "cell_type": "code",
   "execution_count": 75,
   "metadata": {},
   "outputs": [],
   "source": [
    "svm = GridSearchCV(SVR(C=1.0, epsilon=0.2), param_grid, n_jobs=-1, cv=cv, verbose=1)"
   ]
  },
  {
   "cell_type": "code",
   "execution_count": 76,
   "metadata": {},
   "outputs": [
    {
     "name": "stdout",
     "output_type": "stream",
     "text": [
      "Fitting 5 folds for each of 30 candidates, totalling 150 fits\n"
     ]
    },
    {
     "data": {
      "text/html": [
       "<style>#sk-container-id-2 {color: black;}#sk-container-id-2 pre{padding: 0;}#sk-container-id-2 div.sk-toggleable {background-color: white;}#sk-container-id-2 label.sk-toggleable__label {cursor: pointer;display: block;width: 100%;margin-bottom: 0;padding: 0.3em;box-sizing: border-box;text-align: center;}#sk-container-id-2 label.sk-toggleable__label-arrow:before {content: \"▸\";float: left;margin-right: 0.25em;color: #696969;}#sk-container-id-2 label.sk-toggleable__label-arrow:hover:before {color: black;}#sk-container-id-2 div.sk-estimator:hover label.sk-toggleable__label-arrow:before {color: black;}#sk-container-id-2 div.sk-toggleable__content {max-height: 0;max-width: 0;overflow: hidden;text-align: left;background-color: #f0f8ff;}#sk-container-id-2 div.sk-toggleable__content pre {margin: 0.2em;color: black;border-radius: 0.25em;background-color: #f0f8ff;}#sk-container-id-2 input.sk-toggleable__control:checked~div.sk-toggleable__content {max-height: 200px;max-width: 100%;overflow: auto;}#sk-container-id-2 input.sk-toggleable__control:checked~label.sk-toggleable__label-arrow:before {content: \"▾\";}#sk-container-id-2 div.sk-estimator input.sk-toggleable__control:checked~label.sk-toggleable__label {background-color: #d4ebff;}#sk-container-id-2 div.sk-label input.sk-toggleable__control:checked~label.sk-toggleable__label {background-color: #d4ebff;}#sk-container-id-2 input.sk-hidden--visually {border: 0;clip: rect(1px 1px 1px 1px);clip: rect(1px, 1px, 1px, 1px);height: 1px;margin: -1px;overflow: hidden;padding: 0;position: absolute;width: 1px;}#sk-container-id-2 div.sk-estimator {font-family: monospace;background-color: #f0f8ff;border: 1px dotted black;border-radius: 0.25em;box-sizing: border-box;margin-bottom: 0.5em;}#sk-container-id-2 div.sk-estimator:hover {background-color: #d4ebff;}#sk-container-id-2 div.sk-parallel-item::after {content: \"\";width: 100%;border-bottom: 1px solid gray;flex-grow: 1;}#sk-container-id-2 div.sk-label:hover label.sk-toggleable__label {background-color: #d4ebff;}#sk-container-id-2 div.sk-serial::before {content: \"\";position: absolute;border-left: 1px solid gray;box-sizing: border-box;top: 0;bottom: 0;left: 50%;z-index: 0;}#sk-container-id-2 div.sk-serial {display: flex;flex-direction: column;align-items: center;background-color: white;padding-right: 0.2em;padding-left: 0.2em;position: relative;}#sk-container-id-2 div.sk-item {position: relative;z-index: 1;}#sk-container-id-2 div.sk-parallel {display: flex;align-items: stretch;justify-content: center;background-color: white;position: relative;}#sk-container-id-2 div.sk-item::before, #sk-container-id-2 div.sk-parallel-item::before {content: \"\";position: absolute;border-left: 1px solid gray;box-sizing: border-box;top: 0;bottom: 0;left: 50%;z-index: -1;}#sk-container-id-2 div.sk-parallel-item {display: flex;flex-direction: column;z-index: 1;position: relative;background-color: white;}#sk-container-id-2 div.sk-parallel-item:first-child::after {align-self: flex-end;width: 50%;}#sk-container-id-2 div.sk-parallel-item:last-child::after {align-self: flex-start;width: 50%;}#sk-container-id-2 div.sk-parallel-item:only-child::after {width: 0;}#sk-container-id-2 div.sk-dashed-wrapped {border: 1px dashed gray;margin: 0 0.4em 0.5em 0.4em;box-sizing: border-box;padding-bottom: 0.4em;background-color: white;}#sk-container-id-2 div.sk-label label {font-family: monospace;font-weight: bold;display: inline-block;line-height: 1.2em;}#sk-container-id-2 div.sk-label-container {text-align: center;}#sk-container-id-2 div.sk-container {/* jupyter's `normalize.less` sets `[hidden] { display: none; }` but bootstrap.min.css set `[hidden] { display: none !important; }` so we also need the `!important` here to be able to override the default hidden behavior on the sphinx rendered scikit-learn.org. See: https://github.com/scikit-learn/scikit-learn/issues/21755 */display: inline-block !important;position: relative;}#sk-container-id-2 div.sk-text-repr-fallback {display: none;}</style><div id=\"sk-container-id-2\" class=\"sk-top-container\"><div class=\"sk-text-repr-fallback\"><pre>GridSearchCV(cv=KFold(n_splits=5, random_state=42, shuffle=True),\n",
       "             estimator=SVR(epsilon=0.2), n_jobs=-1,\n",
       "             param_grid={&#x27;C&#x27;: [1, 10, 100, 1000, 10000],\n",
       "                         &#x27;gamma&#x27;: [1e-06, 1e-05, 0.0001, 0.001, 0.01, 0.1]},\n",
       "             verbose=1)</pre><b>In a Jupyter environment, please rerun this cell to show the HTML representation or trust the notebook. <br />On GitHub, the HTML representation is unable to render, please try loading this page with nbviewer.org.</b></div><div class=\"sk-container\" hidden><div class=\"sk-item sk-dashed-wrapped\"><div class=\"sk-label-container\"><div class=\"sk-label sk-toggleable\"><input class=\"sk-toggleable__control sk-hidden--visually\" id=\"sk-estimator-id-4\" type=\"checkbox\" ><label for=\"sk-estimator-id-4\" class=\"sk-toggleable__label sk-toggleable__label-arrow\">GridSearchCV</label><div class=\"sk-toggleable__content\"><pre>GridSearchCV(cv=KFold(n_splits=5, random_state=42, shuffle=True),\n",
       "             estimator=SVR(epsilon=0.2), n_jobs=-1,\n",
       "             param_grid={&#x27;C&#x27;: [1, 10, 100, 1000, 10000],\n",
       "                         &#x27;gamma&#x27;: [1e-06, 1e-05, 0.0001, 0.001, 0.01, 0.1]},\n",
       "             verbose=1)</pre></div></div></div><div class=\"sk-parallel\"><div class=\"sk-parallel-item\"><div class=\"sk-item\"><div class=\"sk-label-container\"><div class=\"sk-label sk-toggleable\"><input class=\"sk-toggleable__control sk-hidden--visually\" id=\"sk-estimator-id-5\" type=\"checkbox\" ><label for=\"sk-estimator-id-5\" class=\"sk-toggleable__label sk-toggleable__label-arrow\">estimator: SVR</label><div class=\"sk-toggleable__content\"><pre>SVR(epsilon=0.2)</pre></div></div></div><div class=\"sk-serial\"><div class=\"sk-item\"><div class=\"sk-estimator sk-toggleable\"><input class=\"sk-toggleable__control sk-hidden--visually\" id=\"sk-estimator-id-6\" type=\"checkbox\" ><label for=\"sk-estimator-id-6\" class=\"sk-toggleable__label sk-toggleable__label-arrow\">SVR</label><div class=\"sk-toggleable__content\"><pre>SVR(epsilon=0.2)</pre></div></div></div></div></div></div></div></div></div></div>"
      ],
      "text/plain": [
       "GridSearchCV(cv=KFold(n_splits=5, random_state=42, shuffle=True),\n",
       "             estimator=SVR(epsilon=0.2), n_jobs=-1,\n",
       "             param_grid={'C': [1, 10, 100, 1000, 10000],\n",
       "                         'gamma': [1e-06, 1e-05, 0.0001, 0.001, 0.01, 0.1]},\n",
       "             verbose=1)"
      ]
     },
     "execution_count": 76,
     "metadata": {},
     "output_type": "execute_result"
    }
   ],
   "source": [
    "svm.fit(x_tr, y_tr)"
   ]
  },
  {
   "cell_type": "code",
   "execution_count": 77,
   "metadata": {},
   "outputs": [],
   "source": [
    "svm.best_params_\n",
    "best_svm = svm.best_estimator_"
   ]
  },
  {
   "cell_type": "code",
   "execution_count": 78,
   "metadata": {},
   "outputs": [
    {
     "data": {
      "text/plain": [
       "{'C': 10, 'gamma': 0.01}"
      ]
     },
     "execution_count": 78,
     "metadata": {},
     "output_type": "execute_result"
    }
   ],
   "source": [
    "svm.best_params_"
   ]
  },
  {
   "cell_type": "code",
   "execution_count": 33,
   "metadata": {},
   "outputs": [],
   "source": [
    "y_pred_ws_svm = best_svm.predict(x_tr)"
   ]
  },
  {
   "cell_type": "code",
   "execution_count": 35,
   "metadata": {},
   "outputs": [
    {
     "data": {
      "text/plain": [
       "0.94"
      ]
     },
     "execution_count": 35,
     "metadata": {},
     "output_type": "execute_result"
    }
   ],
   "source": [
    "R2_WS = round(r2_score(y_tr, y_pred_ws_svm), 2)\n",
    "R2_WS"
   ]
  },
  {
   "cell_type": "code",
   "execution_count": 36,
   "metadata": {},
   "outputs": [
    {
     "data": {
      "text/plain": [
       "0.45"
      ]
     },
     "execution_count": 36,
     "metadata": {},
     "output_type": "execute_result"
    }
   ],
   "source": [
    "RMSE_WS=round(np.sqrt(mean_absolute_error(y_tr, y_pred_ws_svm)), 2)\n",
    "RMSE_WS"
   ]
  },
  {
   "cell_type": "code",
   "execution_count": 79,
   "metadata": {},
   "outputs": [],
   "source": [
    "y_pred_CV_svm = cross_val_predict(best_svm, x_tr, y_tr, cv=cv)"
   ]
  },
  {
   "cell_type": "code",
   "execution_count": 81,
   "metadata": {},
   "outputs": [
    {
     "data": {
      "text/plain": [
       "0.66"
      ]
     },
     "execution_count": 81,
     "metadata": {},
     "output_type": "execute_result"
    }
   ],
   "source": [
    "Q2_CV = round(r2_score(y_tr, y_pred_CV_svm), 2)\n",
    "Q2_CV"
   ]
  },
  {
   "cell_type": "code",
   "execution_count": 82,
   "metadata": {},
   "outputs": [
    {
     "data": {
      "text/plain": [
       "0.69"
      ]
     },
     "execution_count": 82,
     "metadata": {},
     "output_type": "execute_result"
    }
   ],
   "source": [
    "RMSE_CV=round(np.sqrt(mean_absolute_error(y_tr, y_pred_CV_svm)), 2)\n",
    "RMSE_CV"
   ]
  },
  {
   "cell_type": "markdown",
   "metadata": {},
   "source": [
    "# 9. Prediction for test set's molecules"
   ]
  },
  {
   "cell_type": "code",
   "execution_count": 83,
   "metadata": {},
   "outputs": [],
   "source": [
    "x_ts = np.array(x_ts, dtype=np.float32)\n",
    "y_ts = np.array(y_ts, dtype=np.float32)"
   ]
  },
  {
   "cell_type": "code",
   "execution_count": 54,
   "metadata": {},
   "outputs": [],
   "source": [
    "y_pred_svm = best_svm.predict(x_ts)"
   ]
  },
  {
   "cell_type": "code",
   "execution_count": 55,
   "metadata": {},
   "outputs": [
    {
     "data": {
      "text/plain": [
       "0.68"
      ]
     },
     "execution_count": 55,
     "metadata": {},
     "output_type": "execute_result"
    }
   ],
   "source": [
    "Q2_TS = round(r2_score(y_ts, y_pred_svm), 2)\n",
    "Q2_TS"
   ]
  },
  {
   "cell_type": "code",
   "execution_count": 56,
   "metadata": {},
   "outputs": [
    {
     "data": {
      "text/plain": [
       "0.68"
      ]
     },
     "execution_count": 56,
     "metadata": {},
     "output_type": "execute_result"
    }
   ],
   "source": [
    "RMSE_TS=round(np.sqrt(mean_absolute_error(y_ts, y_pred_svm)), 2)\n",
    "RMSE_TS"
   ]
  },
  {
   "cell_type": "markdown",
   "metadata": {},
   "source": [
    "save the model to disk"
   ]
  },
  {
   "cell_type": "code",
   "execution_count": 87,
   "metadata": {},
   "outputs": [],
   "source": [
    "pickle.dump(best_svm, open('Models/Morgan_fingerprint/HDAC6_SVM_MF.pkl', 'wb'))"
   ]
  },
  {
   "cell_type": "markdown",
   "metadata": {},
   "source": [
    "load the model from disk"
   ]
  },
  {
   "cell_type": "code",
   "execution_count": 53,
   "metadata": {},
   "outputs": [],
   "source": [
    "best_svm = pickle.load(open('Models/Morgan_fingerprint/HDAC6_SVM_MF.pkl', 'rb'))"
   ]
  },
  {
   "cell_type": "markdown",
   "metadata": {},
   "source": [
    "# 10. Y-randomization SVM model"
   ]
  },
  {
   "cell_type": "code",
   "execution_count": 88,
   "metadata": {},
   "outputs": [
    {
     "name": "stderr",
     "output_type": "stream",
     "text": [
      "[Parallel(n_jobs=-1)]: Using backend LokyBackend with 16 concurrent workers.\n",
      "[Parallel(n_jobs=-1)]: Done  18 tasks      | elapsed:  7.5min\n"
     ]
    },
    {
     "name": "stdout",
     "output_type": "stream",
     "text": [
      "True score =  0.655 \n",
      "Y-randomization =  -0.31 \n",
      "p-value =  0.0196\n"
     ]
    },
    {
     "name": "stderr",
     "output_type": "stream",
     "text": [
      "[Parallel(n_jobs=-1)]: Done  50 out of  50 | elapsed: 11.8min finished\n"
     ]
    }
   ],
   "source": [
    "permutations = 50\n",
    "score, permutation_scores, pvalue = permutation_test_score(best_svm, x_tr, y_tr,\n",
    "                                                           cv=cv, scoring='r2',\n",
    "                                                           n_permutations=permutations,\n",
    "                                                           n_jobs=-1,\n",
    "                                                           verbose=1,\n",
    "                                                           random_state=seed)\n",
    "print('True score = ', score.round(3),\n",
    "      '\\nY-randomization = ', np.mean(permutation_scores).round(2),\n",
    "      '\\np-value = ', pvalue.round(4))"
   ]
  },
  {
   "cell_type": "markdown",
   "metadata": {},
   "source": [
    "# 11. Estimating applicability domain. Method - Euclidian distances, K=1"
   ]
  },
  {
   "cell_type": "code",
   "execution_count": 57,
   "metadata": {},
   "outputs": [],
   "source": [
    "neighbors_k= pairwise_distances(x_tr, n_jobs=-1)\n",
    "neighbors_k.sort(0)"
   ]
  },
  {
   "cell_type": "code",
   "execution_count": 58,
   "metadata": {},
   "outputs": [
    {
     "data": {
      "text/html": [
       "<div>\n",
       "<style scoped>\n",
       "    .dataframe tbody tr th:only-of-type {\n",
       "        vertical-align: middle;\n",
       "    }\n",
       "\n",
       "    .dataframe tbody tr th {\n",
       "        vertical-align: top;\n",
       "    }\n",
       "\n",
       "    .dataframe thead th {\n",
       "        text-align: right;\n",
       "    }\n",
       "</style>\n",
       "<table border=\"1\" class=\"dataframe\">\n",
       "  <thead>\n",
       "    <tr style=\"text-align: right;\">\n",
       "      <th></th>\n",
       "      <th>0</th>\n",
       "      <th>1</th>\n",
       "      <th>2</th>\n",
       "      <th>3</th>\n",
       "      <th>4</th>\n",
       "      <th>5</th>\n",
       "      <th>6</th>\n",
       "      <th>7</th>\n",
       "      <th>8</th>\n",
       "      <th>9</th>\n",
       "      <th>...</th>\n",
       "      <th>3073</th>\n",
       "      <th>3074</th>\n",
       "      <th>3075</th>\n",
       "      <th>3076</th>\n",
       "      <th>3077</th>\n",
       "      <th>3078</th>\n",
       "      <th>3079</th>\n",
       "      <th>3080</th>\n",
       "      <th>3081</th>\n",
       "      <th>3082</th>\n",
       "    </tr>\n",
       "  </thead>\n",
       "  <tbody>\n",
       "    <tr>\n",
       "      <th>0</th>\n",
       "      <td>0.000000</td>\n",
       "      <td>0.000000</td>\n",
       "      <td>0.000000</td>\n",
       "      <td>0.000000</td>\n",
       "      <td>0.000000</td>\n",
       "      <td>0.000000</td>\n",
       "      <td>0.000000</td>\n",
       "      <td>0.000000</td>\n",
       "      <td>0.000000</td>\n",
       "      <td>0.000000</td>\n",
       "      <td>...</td>\n",
       "      <td>0.000000</td>\n",
       "      <td>0.000000</td>\n",
       "      <td>0.000000</td>\n",
       "      <td>0.000000</td>\n",
       "      <td>0.000000</td>\n",
       "      <td>0.000000</td>\n",
       "      <td>0.000000</td>\n",
       "      <td>0.000000</td>\n",
       "      <td>0.000000</td>\n",
       "      <td>0.000000</td>\n",
       "    </tr>\n",
       "    <tr>\n",
       "      <th>1</th>\n",
       "      <td>3.162278</td>\n",
       "      <td>5.656854</td>\n",
       "      <td>4.472136</td>\n",
       "      <td>3.872983</td>\n",
       "      <td>6.708204</td>\n",
       "      <td>3.316625</td>\n",
       "      <td>6.244998</td>\n",
       "      <td>5.000000</td>\n",
       "      <td>3.464102</td>\n",
       "      <td>6.480741</td>\n",
       "      <td>...</td>\n",
       "      <td>3.162278</td>\n",
       "      <td>3.605551</td>\n",
       "      <td>4.123106</td>\n",
       "      <td>4.242640</td>\n",
       "      <td>3.162278</td>\n",
       "      <td>3.605551</td>\n",
       "      <td>3.872983</td>\n",
       "      <td>3.741657</td>\n",
       "      <td>2.645751</td>\n",
       "      <td>4.795832</td>\n",
       "    </tr>\n",
       "    <tr>\n",
       "      <th>2</th>\n",
       "      <td>6.164414</td>\n",
       "      <td>6.000000</td>\n",
       "      <td>5.385165</td>\n",
       "      <td>4.358899</td>\n",
       "      <td>6.782330</td>\n",
       "      <td>3.872983</td>\n",
       "      <td>6.403124</td>\n",
       "      <td>5.099020</td>\n",
       "      <td>4.242640</td>\n",
       "      <td>6.633250</td>\n",
       "      <td>...</td>\n",
       "      <td>3.162278</td>\n",
       "      <td>5.567764</td>\n",
       "      <td>4.472136</td>\n",
       "      <td>4.358899</td>\n",
       "      <td>3.605551</td>\n",
       "      <td>5.099020</td>\n",
       "      <td>3.872983</td>\n",
       "      <td>4.000000</td>\n",
       "      <td>3.464102</td>\n",
       "      <td>5.477226</td>\n",
       "    </tr>\n",
       "    <tr>\n",
       "      <th>3</th>\n",
       "      <td>6.164414</td>\n",
       "      <td>6.082763</td>\n",
       "      <td>5.567764</td>\n",
       "      <td>4.795832</td>\n",
       "      <td>6.855655</td>\n",
       "      <td>4.472136</td>\n",
       "      <td>7.071068</td>\n",
       "      <td>5.099020</td>\n",
       "      <td>4.242640</td>\n",
       "      <td>6.708204</td>\n",
       "      <td>...</td>\n",
       "      <td>4.472136</td>\n",
       "      <td>5.916080</td>\n",
       "      <td>4.690416</td>\n",
       "      <td>4.472136</td>\n",
       "      <td>3.741657</td>\n",
       "      <td>5.291502</td>\n",
       "      <td>4.242640</td>\n",
       "      <td>4.242640</td>\n",
       "      <td>3.464102</td>\n",
       "      <td>5.567764</td>\n",
       "    </tr>\n",
       "    <tr>\n",
       "      <th>4</th>\n",
       "      <td>6.244998</td>\n",
       "      <td>6.082763</td>\n",
       "      <td>5.567764</td>\n",
       "      <td>4.795832</td>\n",
       "      <td>6.855655</td>\n",
       "      <td>5.196152</td>\n",
       "      <td>7.141428</td>\n",
       "      <td>5.099020</td>\n",
       "      <td>4.582576</td>\n",
       "      <td>6.708204</td>\n",
       "      <td>...</td>\n",
       "      <td>4.582576</td>\n",
       "      <td>6.000000</td>\n",
       "      <td>4.795832</td>\n",
       "      <td>4.690416</td>\n",
       "      <td>3.872983</td>\n",
       "      <td>5.477226</td>\n",
       "      <td>4.242640</td>\n",
       "      <td>4.242640</td>\n",
       "      <td>3.464102</td>\n",
       "      <td>5.567764</td>\n",
       "    </tr>\n",
       "    <tr>\n",
       "      <th>...</th>\n",
       "      <td>...</td>\n",
       "      <td>...</td>\n",
       "      <td>...</td>\n",
       "      <td>...</td>\n",
       "      <td>...</td>\n",
       "      <td>...</td>\n",
       "      <td>...</td>\n",
       "      <td>...</td>\n",
       "      <td>...</td>\n",
       "      <td>...</td>\n",
       "      <td>...</td>\n",
       "      <td>...</td>\n",
       "      <td>...</td>\n",
       "      <td>...</td>\n",
       "      <td>...</td>\n",
       "      <td>...</td>\n",
       "      <td>...</td>\n",
       "      <td>...</td>\n",
       "      <td>...</td>\n",
       "      <td>...</td>\n",
       "      <td>...</td>\n",
       "    </tr>\n",
       "    <tr>\n",
       "      <th>3078</th>\n",
       "      <td>11.000000</td>\n",
       "      <td>11.090536</td>\n",
       "      <td>11.269427</td>\n",
       "      <td>10.630146</td>\n",
       "      <td>11.313708</td>\n",
       "      <td>10.816654</td>\n",
       "      <td>11.532562</td>\n",
       "      <td>11.401754</td>\n",
       "      <td>11.401754</td>\n",
       "      <td>11.313708</td>\n",
       "      <td>...</td>\n",
       "      <td>11.090536</td>\n",
       "      <td>11.445523</td>\n",
       "      <td>11.401754</td>\n",
       "      <td>11.090536</td>\n",
       "      <td>11.000000</td>\n",
       "      <td>11.313708</td>\n",
       "      <td>11.090536</td>\n",
       "      <td>11.180340</td>\n",
       "      <td>11.135529</td>\n",
       "      <td>10.862781</td>\n",
       "    </tr>\n",
       "    <tr>\n",
       "      <th>3079</th>\n",
       "      <td>11.000000</td>\n",
       "      <td>11.090536</td>\n",
       "      <td>11.269427</td>\n",
       "      <td>10.677078</td>\n",
       "      <td>11.313708</td>\n",
       "      <td>10.816654</td>\n",
       "      <td>11.532562</td>\n",
       "      <td>11.401754</td>\n",
       "      <td>11.445523</td>\n",
       "      <td>11.313708</td>\n",
       "      <td>...</td>\n",
       "      <td>11.090536</td>\n",
       "      <td>11.445523</td>\n",
       "      <td>11.401754</td>\n",
       "      <td>11.090536</td>\n",
       "      <td>11.135529</td>\n",
       "      <td>11.313708</td>\n",
       "      <td>11.180340</td>\n",
       "      <td>11.180340</td>\n",
       "      <td>11.135529</td>\n",
       "      <td>11.180340</td>\n",
       "    </tr>\n",
       "    <tr>\n",
       "      <th>3080</th>\n",
       "      <td>11.000000</td>\n",
       "      <td>11.090536</td>\n",
       "      <td>11.269427</td>\n",
       "      <td>10.677078</td>\n",
       "      <td>11.313708</td>\n",
       "      <td>10.816654</td>\n",
       "      <td>11.532562</td>\n",
       "      <td>11.401754</td>\n",
       "      <td>11.445523</td>\n",
       "      <td>11.313708</td>\n",
       "      <td>...</td>\n",
       "      <td>11.180340</td>\n",
       "      <td>11.445523</td>\n",
       "      <td>11.401754</td>\n",
       "      <td>11.090536</td>\n",
       "      <td>11.135529</td>\n",
       "      <td>11.313708</td>\n",
       "      <td>11.269427</td>\n",
       "      <td>11.224972</td>\n",
       "      <td>11.269427</td>\n",
       "      <td>11.180340</td>\n",
       "    </tr>\n",
       "    <tr>\n",
       "      <th>3081</th>\n",
       "      <td>11.180340</td>\n",
       "      <td>11.269427</td>\n",
       "      <td>11.357817</td>\n",
       "      <td>10.677078</td>\n",
       "      <td>11.401754</td>\n",
       "      <td>11.045361</td>\n",
       "      <td>11.704700</td>\n",
       "      <td>11.489125</td>\n",
       "      <td>11.532562</td>\n",
       "      <td>11.313708</td>\n",
       "      <td>...</td>\n",
       "      <td>11.180340</td>\n",
       "      <td>11.445523</td>\n",
       "      <td>11.401754</td>\n",
       "      <td>11.313708</td>\n",
       "      <td>11.135529</td>\n",
       "      <td>11.313708</td>\n",
       "      <td>11.401754</td>\n",
       "      <td>11.224972</td>\n",
       "      <td>11.313708</td>\n",
       "      <td>11.180340</td>\n",
       "    </tr>\n",
       "    <tr>\n",
       "      <th>3082</th>\n",
       "      <td>11.575837</td>\n",
       "      <td>11.747340</td>\n",
       "      <td>11.832160</td>\n",
       "      <td>11.269427</td>\n",
       "      <td>11.958261</td>\n",
       "      <td>11.445523</td>\n",
       "      <td>11.704700</td>\n",
       "      <td>12.000000</td>\n",
       "      <td>11.575837</td>\n",
       "      <td>11.489125</td>\n",
       "      <td>...</td>\n",
       "      <td>11.832160</td>\n",
       "      <td>11.789826</td>\n",
       "      <td>11.958261</td>\n",
       "      <td>11.489125</td>\n",
       "      <td>11.618950</td>\n",
       "      <td>11.661903</td>\n",
       "      <td>11.874342</td>\n",
       "      <td>11.224972</td>\n",
       "      <td>11.661903</td>\n",
       "      <td>11.575837</td>\n",
       "    </tr>\n",
       "  </tbody>\n",
       "</table>\n",
       "<p>3083 rows × 3083 columns</p>\n",
       "</div>"
      ],
      "text/plain": [
       "           0          1          2          3          4          5     \\\n",
       "0      0.000000   0.000000   0.000000   0.000000   0.000000   0.000000   \n",
       "1      3.162278   5.656854   4.472136   3.872983   6.708204   3.316625   \n",
       "2      6.164414   6.000000   5.385165   4.358899   6.782330   3.872983   \n",
       "3      6.164414   6.082763   5.567764   4.795832   6.855655   4.472136   \n",
       "4      6.244998   6.082763   5.567764   4.795832   6.855655   5.196152   \n",
       "...         ...        ...        ...        ...        ...        ...   \n",
       "3078  11.000000  11.090536  11.269427  10.630146  11.313708  10.816654   \n",
       "3079  11.000000  11.090536  11.269427  10.677078  11.313708  10.816654   \n",
       "3080  11.000000  11.090536  11.269427  10.677078  11.313708  10.816654   \n",
       "3081  11.180340  11.269427  11.357817  10.677078  11.401754  11.045361   \n",
       "3082  11.575837  11.747340  11.832160  11.269427  11.958261  11.445523   \n",
       "\n",
       "           6          7          8          9     ...       3073       3074  \\\n",
       "0      0.000000   0.000000   0.000000   0.000000  ...   0.000000   0.000000   \n",
       "1      6.244998   5.000000   3.464102   6.480741  ...   3.162278   3.605551   \n",
       "2      6.403124   5.099020   4.242640   6.633250  ...   3.162278   5.567764   \n",
       "3      7.071068   5.099020   4.242640   6.708204  ...   4.472136   5.916080   \n",
       "4      7.141428   5.099020   4.582576   6.708204  ...   4.582576   6.000000   \n",
       "...         ...        ...        ...        ...  ...        ...        ...   \n",
       "3078  11.532562  11.401754  11.401754  11.313708  ...  11.090536  11.445523   \n",
       "3079  11.532562  11.401754  11.445523  11.313708  ...  11.090536  11.445523   \n",
       "3080  11.532562  11.401754  11.445523  11.313708  ...  11.180340  11.445523   \n",
       "3081  11.704700  11.489125  11.532562  11.313708  ...  11.180340  11.445523   \n",
       "3082  11.704700  12.000000  11.575837  11.489125  ...  11.832160  11.789826   \n",
       "\n",
       "           3075       3076       3077       3078       3079       3080  \\\n",
       "0      0.000000   0.000000   0.000000   0.000000   0.000000   0.000000   \n",
       "1      4.123106   4.242640   3.162278   3.605551   3.872983   3.741657   \n",
       "2      4.472136   4.358899   3.605551   5.099020   3.872983   4.000000   \n",
       "3      4.690416   4.472136   3.741657   5.291502   4.242640   4.242640   \n",
       "4      4.795832   4.690416   3.872983   5.477226   4.242640   4.242640   \n",
       "...         ...        ...        ...        ...        ...        ...   \n",
       "3078  11.401754  11.090536  11.000000  11.313708  11.090536  11.180340   \n",
       "3079  11.401754  11.090536  11.135529  11.313708  11.180340  11.180340   \n",
       "3080  11.401754  11.090536  11.135529  11.313708  11.269427  11.224972   \n",
       "3081  11.401754  11.313708  11.135529  11.313708  11.401754  11.224972   \n",
       "3082  11.958261  11.489125  11.618950  11.661903  11.874342  11.224972   \n",
       "\n",
       "           3081       3082  \n",
       "0      0.000000   0.000000  \n",
       "1      2.645751   4.795832  \n",
       "2      3.464102   5.477226  \n",
       "3      3.464102   5.567764  \n",
       "4      3.464102   5.567764  \n",
       "...         ...        ...  \n",
       "3078  11.135529  10.862781  \n",
       "3079  11.135529  11.180340  \n",
       "3080  11.269427  11.180340  \n",
       "3081  11.313708  11.180340  \n",
       "3082  11.661903  11.575837  \n",
       "\n",
       "[3083 rows x 3083 columns]"
      ]
     },
     "execution_count": 58,
     "metadata": {},
     "output_type": "execute_result"
    }
   ],
   "source": [
    "df_tr=pd.DataFrame(neighbors_k)\n",
    "df_tr"
   ]
  },
  {
   "cell_type": "code",
   "execution_count": 59,
   "metadata": {},
   "outputs": [],
   "source": [
    "similarity= neighbors_k"
   ]
  },
  {
   "cell_type": "code",
   "execution_count": 60,
   "metadata": {},
   "outputs": [],
   "source": [
    "Dmean=np.mean(similarity[1,:])"
   ]
  },
  {
   "cell_type": "code",
   "execution_count": 61,
   "metadata": {},
   "outputs": [
    {
     "data": {
      "text/plain": [
       "3.23"
      ]
     },
     "execution_count": 61,
     "metadata": {},
     "output_type": "execute_result"
    }
   ],
   "source": [
    "round(Dmean, 2)"
   ]
  },
  {
   "cell_type": "code",
   "execution_count": 62,
   "metadata": {},
   "outputs": [],
   "source": [
    "std=np.std(similarity[1,:])"
   ]
  },
  {
   "cell_type": "code",
   "execution_count": 63,
   "metadata": {},
   "outputs": [
    {
     "data": {
      "text/plain": [
       "1.37"
      ]
     },
     "execution_count": 63,
     "metadata": {},
     "output_type": "execute_result"
    }
   ],
   "source": [
    "round(std, 2)"
   ]
  },
  {
   "cell_type": "code",
   "execution_count": 64,
   "metadata": {},
   "outputs": [
    {
     "name": "stdout",
     "output_type": "stream",
     "text": [
      "3.91\n"
     ]
    }
   ],
   "source": [
    "model_AD_limit=Dmean+std*0.5\n",
    "print(np.round(model_AD_limit, 2))"
   ]
  },
  {
   "cell_type": "code",
   "execution_count": 65,
   "metadata": {},
   "outputs": [],
   "source": [
    "neighbors_k_ts= pairwise_distances(x_tr,Y=x_ts, n_jobs=-1)\n",
    "neighbors_k_ts.sort(0)"
   ]
  },
  {
   "cell_type": "code",
   "execution_count": 66,
   "metadata": {},
   "outputs": [
    {
     "data": {
      "text/html": [
       "<div>\n",
       "<style scoped>\n",
       "    .dataframe tbody tr th:only-of-type {\n",
       "        vertical-align: middle;\n",
       "    }\n",
       "\n",
       "    .dataframe tbody tr th {\n",
       "        vertical-align: top;\n",
       "    }\n",
       "\n",
       "    .dataframe thead th {\n",
       "        text-align: right;\n",
       "    }\n",
       "</style>\n",
       "<table border=\"1\" class=\"dataframe\">\n",
       "  <thead>\n",
       "    <tr style=\"text-align: right;\">\n",
       "      <th></th>\n",
       "      <th>0</th>\n",
       "      <th>1</th>\n",
       "      <th>2</th>\n",
       "      <th>3</th>\n",
       "      <th>4</th>\n",
       "      <th>5</th>\n",
       "      <th>6</th>\n",
       "      <th>7</th>\n",
       "      <th>8</th>\n",
       "      <th>9</th>\n",
       "      <th>...</th>\n",
       "      <th>761</th>\n",
       "      <th>762</th>\n",
       "      <th>763</th>\n",
       "      <th>764</th>\n",
       "      <th>765</th>\n",
       "      <th>766</th>\n",
       "      <th>767</th>\n",
       "      <th>768</th>\n",
       "      <th>769</th>\n",
       "      <th>770</th>\n",
       "    </tr>\n",
       "  </thead>\n",
       "  <tbody>\n",
       "    <tr>\n",
       "      <th>0</th>\n",
       "      <td>3.605551</td>\n",
       "      <td>4.358899</td>\n",
       "      <td>3.316625</td>\n",
       "      <td>4.898980</td>\n",
       "      <td>5.000000</td>\n",
       "      <td>1.000000</td>\n",
       "      <td>2.449490</td>\n",
       "      <td>5.000000</td>\n",
       "      <td>2.449490</td>\n",
       "      <td>3.605551</td>\n",
       "      <td>...</td>\n",
       "      <td>3.162278</td>\n",
       "      <td>3.316625</td>\n",
       "      <td>3.872983</td>\n",
       "      <td>3.605551</td>\n",
       "      <td>2.645751</td>\n",
       "      <td>4.582576</td>\n",
       "      <td>3.605551</td>\n",
       "      <td>3.605551</td>\n",
       "      <td>1.000000</td>\n",
       "      <td>4.898980</td>\n",
       "    </tr>\n",
       "    <tr>\n",
       "      <th>1</th>\n",
       "      <td>4.898980</td>\n",
       "      <td>4.582576</td>\n",
       "      <td>3.605551</td>\n",
       "      <td>5.099020</td>\n",
       "      <td>5.196152</td>\n",
       "      <td>3.316625</td>\n",
       "      <td>3.464102</td>\n",
       "      <td>5.099020</td>\n",
       "      <td>2.828427</td>\n",
       "      <td>3.872983</td>\n",
       "      <td>...</td>\n",
       "      <td>4.123106</td>\n",
       "      <td>4.582576</td>\n",
       "      <td>4.000000</td>\n",
       "      <td>3.605551</td>\n",
       "      <td>3.605551</td>\n",
       "      <td>6.855655</td>\n",
       "      <td>5.099020</td>\n",
       "      <td>4.690416</td>\n",
       "      <td>3.605551</td>\n",
       "      <td>5.000000</td>\n",
       "    </tr>\n",
       "    <tr>\n",
       "      <th>2</th>\n",
       "      <td>5.196152</td>\n",
       "      <td>4.898980</td>\n",
       "      <td>3.605551</td>\n",
       "      <td>6.633250</td>\n",
       "      <td>5.196152</td>\n",
       "      <td>4.123106</td>\n",
       "      <td>3.872983</td>\n",
       "      <td>5.291502</td>\n",
       "      <td>3.464102</td>\n",
       "      <td>4.000000</td>\n",
       "      <td>...</td>\n",
       "      <td>4.582576</td>\n",
       "      <td>4.582576</td>\n",
       "      <td>4.795832</td>\n",
       "      <td>4.123106</td>\n",
       "      <td>3.872983</td>\n",
       "      <td>6.855655</td>\n",
       "      <td>5.196152</td>\n",
       "      <td>4.795832</td>\n",
       "      <td>5.477226</td>\n",
       "      <td>5.099020</td>\n",
       "    </tr>\n",
       "    <tr>\n",
       "      <th>3</th>\n",
       "      <td>5.196152</td>\n",
       "      <td>5.196152</td>\n",
       "      <td>4.000000</td>\n",
       "      <td>7.211102</td>\n",
       "      <td>5.291502</td>\n",
       "      <td>4.358899</td>\n",
       "      <td>3.872983</td>\n",
       "      <td>5.291502</td>\n",
       "      <td>4.358899</td>\n",
       "      <td>4.358899</td>\n",
       "      <td>...</td>\n",
       "      <td>4.582576</td>\n",
       "      <td>4.582576</td>\n",
       "      <td>5.567764</td>\n",
       "      <td>4.582576</td>\n",
       "      <td>4.000000</td>\n",
       "      <td>6.855655</td>\n",
       "      <td>5.385165</td>\n",
       "      <td>4.898980</td>\n",
       "      <td>5.477226</td>\n",
       "      <td>5.099020</td>\n",
       "    </tr>\n",
       "    <tr>\n",
       "      <th>4</th>\n",
       "      <td>5.477226</td>\n",
       "      <td>5.385165</td>\n",
       "      <td>5.567764</td>\n",
       "      <td>7.211102</td>\n",
       "      <td>5.385165</td>\n",
       "      <td>4.472136</td>\n",
       "      <td>4.123106</td>\n",
       "      <td>5.291502</td>\n",
       "      <td>6.633250</td>\n",
       "      <td>4.898980</td>\n",
       "      <td>...</td>\n",
       "      <td>4.582576</td>\n",
       "      <td>4.690416</td>\n",
       "      <td>6.082763</td>\n",
       "      <td>4.898980</td>\n",
       "      <td>4.242640</td>\n",
       "      <td>6.928203</td>\n",
       "      <td>5.385165</td>\n",
       "      <td>5.099020</td>\n",
       "      <td>5.656854</td>\n",
       "      <td>5.196152</td>\n",
       "    </tr>\n",
       "    <tr>\n",
       "      <th>...</th>\n",
       "      <td>...</td>\n",
       "      <td>...</td>\n",
       "      <td>...</td>\n",
       "      <td>...</td>\n",
       "      <td>...</td>\n",
       "      <td>...</td>\n",
       "      <td>...</td>\n",
       "      <td>...</td>\n",
       "      <td>...</td>\n",
       "      <td>...</td>\n",
       "      <td>...</td>\n",
       "      <td>...</td>\n",
       "      <td>...</td>\n",
       "      <td>...</td>\n",
       "      <td>...</td>\n",
       "      <td>...</td>\n",
       "      <td>...</td>\n",
       "      <td>...</td>\n",
       "      <td>...</td>\n",
       "      <td>...</td>\n",
       "      <td>...</td>\n",
       "    </tr>\n",
       "    <tr>\n",
       "      <th>3078</th>\n",
       "      <td>10.816654</td>\n",
       "      <td>11.224972</td>\n",
       "      <td>11.000000</td>\n",
       "      <td>11.313708</td>\n",
       "      <td>11.180340</td>\n",
       "      <td>11.401754</td>\n",
       "      <td>10.723805</td>\n",
       "      <td>11.489125</td>\n",
       "      <td>11.489125</td>\n",
       "      <td>10.862781</td>\n",
       "      <td>...</td>\n",
       "      <td>11.180340</td>\n",
       "      <td>10.677078</td>\n",
       "      <td>11.357817</td>\n",
       "      <td>11.489125</td>\n",
       "      <td>11.045361</td>\n",
       "      <td>11.180340</td>\n",
       "      <td>11.269427</td>\n",
       "      <td>11.090536</td>\n",
       "      <td>11.045361</td>\n",
       "      <td>11.090536</td>\n",
       "    </tr>\n",
       "    <tr>\n",
       "      <th>3079</th>\n",
       "      <td>10.816654</td>\n",
       "      <td>11.313708</td>\n",
       "      <td>11.401754</td>\n",
       "      <td>11.357817</td>\n",
       "      <td>11.180340</td>\n",
       "      <td>11.401754</td>\n",
       "      <td>11.000000</td>\n",
       "      <td>11.532562</td>\n",
       "      <td>11.532562</td>\n",
       "      <td>10.862781</td>\n",
       "      <td>...</td>\n",
       "      <td>11.224972</td>\n",
       "      <td>10.677078</td>\n",
       "      <td>11.532562</td>\n",
       "      <td>11.575837</td>\n",
       "      <td>11.090536</td>\n",
       "      <td>11.224972</td>\n",
       "      <td>11.269427</td>\n",
       "      <td>11.090536</td>\n",
       "      <td>11.045361</td>\n",
       "      <td>11.135529</td>\n",
       "    </tr>\n",
       "    <tr>\n",
       "      <th>3080</th>\n",
       "      <td>10.816654</td>\n",
       "      <td>11.313708</td>\n",
       "      <td>11.401754</td>\n",
       "      <td>11.357817</td>\n",
       "      <td>11.180340</td>\n",
       "      <td>11.401754</td>\n",
       "      <td>11.000000</td>\n",
       "      <td>11.575837</td>\n",
       "      <td>11.532562</td>\n",
       "      <td>10.862781</td>\n",
       "      <td>...</td>\n",
       "      <td>11.224972</td>\n",
       "      <td>10.770329</td>\n",
       "      <td>11.532562</td>\n",
       "      <td>11.789826</td>\n",
       "      <td>11.090536</td>\n",
       "      <td>11.269427</td>\n",
       "      <td>11.269427</td>\n",
       "      <td>11.090536</td>\n",
       "      <td>11.090536</td>\n",
       "      <td>11.135529</td>\n",
       "    </tr>\n",
       "    <tr>\n",
       "      <th>3081</th>\n",
       "      <td>10.816654</td>\n",
       "      <td>11.357817</td>\n",
       "      <td>11.401754</td>\n",
       "      <td>11.401754</td>\n",
       "      <td>11.180340</td>\n",
       "      <td>11.401754</td>\n",
       "      <td>11.000000</td>\n",
       "      <td>11.618950</td>\n",
       "      <td>11.532562</td>\n",
       "      <td>11.224972</td>\n",
       "      <td>...</td>\n",
       "      <td>11.224972</td>\n",
       "      <td>10.770329</td>\n",
       "      <td>11.532562</td>\n",
       "      <td>11.789826</td>\n",
       "      <td>11.090536</td>\n",
       "      <td>11.357817</td>\n",
       "      <td>11.269427</td>\n",
       "      <td>11.180340</td>\n",
       "      <td>11.090536</td>\n",
       "      <td>11.180340</td>\n",
       "    </tr>\n",
       "    <tr>\n",
       "      <th>3082</th>\n",
       "      <td>11.224972</td>\n",
       "      <td>11.401754</td>\n",
       "      <td>11.445523</td>\n",
       "      <td>11.958261</td>\n",
       "      <td>11.618950</td>\n",
       "      <td>11.489125</td>\n",
       "      <td>11.313708</td>\n",
       "      <td>11.704700</td>\n",
       "      <td>11.958261</td>\n",
       "      <td>11.789826</td>\n",
       "      <td>...</td>\n",
       "      <td>11.789826</td>\n",
       "      <td>11.135529</td>\n",
       "      <td>11.916375</td>\n",
       "      <td>11.789826</td>\n",
       "      <td>11.489125</td>\n",
       "      <td>11.958261</td>\n",
       "      <td>11.789826</td>\n",
       "      <td>11.747340</td>\n",
       "      <td>11.789826</td>\n",
       "      <td>11.832160</td>\n",
       "    </tr>\n",
       "  </tbody>\n",
       "</table>\n",
       "<p>3083 rows × 771 columns</p>\n",
       "</div>"
      ],
      "text/plain": [
       "            0          1          2          3          4          5    \\\n",
       "0      3.605551   4.358899   3.316625   4.898980   5.000000   1.000000   \n",
       "1      4.898980   4.582576   3.605551   5.099020   5.196152   3.316625   \n",
       "2      5.196152   4.898980   3.605551   6.633250   5.196152   4.123106   \n",
       "3      5.196152   5.196152   4.000000   7.211102   5.291502   4.358899   \n",
       "4      5.477226   5.385165   5.567764   7.211102   5.385165   4.472136   \n",
       "...         ...        ...        ...        ...        ...        ...   \n",
       "3078  10.816654  11.224972  11.000000  11.313708  11.180340  11.401754   \n",
       "3079  10.816654  11.313708  11.401754  11.357817  11.180340  11.401754   \n",
       "3080  10.816654  11.313708  11.401754  11.357817  11.180340  11.401754   \n",
       "3081  10.816654  11.357817  11.401754  11.401754  11.180340  11.401754   \n",
       "3082  11.224972  11.401754  11.445523  11.958261  11.618950  11.489125   \n",
       "\n",
       "            6          7          8          9    ...        761        762  \\\n",
       "0      2.449490   5.000000   2.449490   3.605551  ...   3.162278   3.316625   \n",
       "1      3.464102   5.099020   2.828427   3.872983  ...   4.123106   4.582576   \n",
       "2      3.872983   5.291502   3.464102   4.000000  ...   4.582576   4.582576   \n",
       "3      3.872983   5.291502   4.358899   4.358899  ...   4.582576   4.582576   \n",
       "4      4.123106   5.291502   6.633250   4.898980  ...   4.582576   4.690416   \n",
       "...         ...        ...        ...        ...  ...        ...        ...   \n",
       "3078  10.723805  11.489125  11.489125  10.862781  ...  11.180340  10.677078   \n",
       "3079  11.000000  11.532562  11.532562  10.862781  ...  11.224972  10.677078   \n",
       "3080  11.000000  11.575837  11.532562  10.862781  ...  11.224972  10.770329   \n",
       "3081  11.000000  11.618950  11.532562  11.224972  ...  11.224972  10.770329   \n",
       "3082  11.313708  11.704700  11.958261  11.789826  ...  11.789826  11.135529   \n",
       "\n",
       "            763        764        765        766        767        768  \\\n",
       "0      3.872983   3.605551   2.645751   4.582576   3.605551   3.605551   \n",
       "1      4.000000   3.605551   3.605551   6.855655   5.099020   4.690416   \n",
       "2      4.795832   4.123106   3.872983   6.855655   5.196152   4.795832   \n",
       "3      5.567764   4.582576   4.000000   6.855655   5.385165   4.898980   \n",
       "4      6.082763   4.898980   4.242640   6.928203   5.385165   5.099020   \n",
       "...         ...        ...        ...        ...        ...        ...   \n",
       "3078  11.357817  11.489125  11.045361  11.180340  11.269427  11.090536   \n",
       "3079  11.532562  11.575837  11.090536  11.224972  11.269427  11.090536   \n",
       "3080  11.532562  11.789826  11.090536  11.269427  11.269427  11.090536   \n",
       "3081  11.532562  11.789826  11.090536  11.357817  11.269427  11.180340   \n",
       "3082  11.916375  11.789826  11.489125  11.958261  11.789826  11.747340   \n",
       "\n",
       "            769        770  \n",
       "0      1.000000   4.898980  \n",
       "1      3.605551   5.000000  \n",
       "2      5.477226   5.099020  \n",
       "3      5.477226   5.099020  \n",
       "4      5.656854   5.196152  \n",
       "...         ...        ...  \n",
       "3078  11.045361  11.090536  \n",
       "3079  11.045361  11.135529  \n",
       "3080  11.090536  11.135529  \n",
       "3081  11.090536  11.180340  \n",
       "3082  11.789826  11.832160  \n",
       "\n",
       "[3083 rows x 771 columns]"
      ]
     },
     "execution_count": 66,
     "metadata": {},
     "output_type": "execute_result"
    }
   ],
   "source": [
    "x_ts_AD=pd.DataFrame(neighbors_k_ts)\n",
    "x_ts_AD"
   ]
  },
  {
   "cell_type": "code",
   "execution_count": 67,
   "metadata": {},
   "outputs": [
    {
     "name": "stdout",
     "output_type": "stream",
     "text": [
      "[3.606 4.359 3.317 4.899 5.    1.    2.449 5.    2.449 3.606 3.464 2.828\n",
      " 6.928 3.162 0.    4.123 1.    5.    3.162 4.123 2.646 3.162 4.899 4.359\n",
      " 6.    2.828 3.464 4.583 3.317 4.    3.742 7.    3.606 4.    4.243 3.606\n",
      " 3.873 3.873 3.317 3.606 4.    1.    3.317 4.472 2.646 4.359 2.828 2.828\n",
      " 3.162 3.464 3.873 3.464 5.916 3.162 4.359 1.732 3.    3.606 6.481 3.742\n",
      " 3.606 3.742 3.464 2.828 5.099 4.123 3.162 3.464 3.    3.606 3.742 3.162\n",
      " 1.    4.899 4.472 3.464 3.    4.472 6.856 1.    3.606 4.359 3.742 3.606\n",
      " 5.831 3.464 4.359 2.    4.69  1.    2.    4.69  3.742 4.69  2.646 4.583\n",
      " 3.742 3.162 1.414 3.464 1.414 6.481 0.    4.    2.646 4.359 2.828 3.873\n",
      " 3.162 3.464 1.    3.606 4.359 3.    3.464 3.317 2.449 2.236 3.317 1.\n",
      " 3.606 2.236 0.    4.243 4.243 3.742 3.464 4.243 4.583 2.449 3.873 0.\n",
      " 2.828 2.449 3.873 1.732 5.099 3.464 0.    2.449 3.317 3.    3.606 0.\n",
      " 3.    4.    0.    2.    3.606 1.414 3.742 1.414 4.    5.477 2.828 4.\n",
      " 4.123 4.    4.899 0.    3.742 3.    3.873 3.162 3.464 0.    2.    5.196\n",
      " 3.873 2.236 3.    5.196 2.646 4.123 2.236 3.    2.646 4.899 5.    5.\n",
      " 4.243 0.    2.236 3.464 3.464 2.646 5.657 3.317 2.828 3.464 3.    3.162\n",
      " 4.243 3.606 5.099 0.    3.464 3.464 3.873 4.    0.    3.742 3.464 1.732\n",
      " 1.    3.606 3.317 3.464 2.236 3.464 2.646 3.    2.828 4.796 3.742 4.243\n",
      " 4.243 3.    3.742 1.732 1.    2.    4.243 2.646 3.873 3.317 2.828 4.243\n",
      " 2.828 4.472 3.464 3.873 3.873 3.162 4.796 4.123 4.    2.    2.449 0.\n",
      " 2.236 2.828 4.359 5.292 3.464 3.317 2.828 5.196 0.    2.449 3.742 3.317\n",
      " 3.606 2.236 1.732 3.    1.732 1.732 3.873 3.606 5.385 3.742 3.    4.243\n",
      " 2.236 2.828 0.    4.583 3.464 4.123 3.606 2.828 5.    3.317 3.873 3.317\n",
      " 3.162 4.69  0.    2.646 2.    1.    3.317 4.243 3.162 3.162 2.828 4.123\n",
      " 3.464 0.    0.    3.317 2.    2.236 3.317 2.449 1.732 3.464 2.828 3.873\n",
      " 3.162 4.69  2.828 4.472 4.359 3.    3.606 4.583 4.472 1.732 3.    3.162\n",
      " 2.    4.472 3.606 2.449 1.414 0.    4.359 4.583 0.    3.464 4.472 4.796\n",
      " 2.646 4.    4.    3.317 3.317 3.606 4.    4.123 3.162 5.657 0.    3.742\n",
      " 3.317 0.    4.243 4.243 3.162 3.317 3.162 3.873 0.    3.317 2.828 3.873\n",
      " 3.    3.606 1.732 5.    7.28  4.472 3.317 3.742 2.828 4.123 4.    3.162\n",
      " 3.742 6.083 4.899 4.359 3.162 3.742 2.236 3.317 3.162 2.449 3.742 3.\n",
      " 3.162 3.742 3.    3.317 1.    4.123 1.    2.828 2.828 5.    4.899 3.464\n",
      " 3.464 2.828 4.    3.    0.    3.    4.243 3.317 2.646 4.123 2.236 3.606\n",
      " 3.464 2.236 4.359 1.732 3.    0.    4.    2.449 4.899 4.583 1.732 3.606\n",
      " 3.162 3.873 1.    4.243 4.243 3.317 2.828 1.    5.292 3.    3.162 4.359\n",
      " 3.606 9.22  3.464 2.828 4.    3.464 3.464 3.464 3.464 4.243 3.317 3.317\n",
      " 3.317 3.464 4.123 3.317 0.    3.317 3.464 3.873 4.    3.606 1.732 3.742\n",
      " 3.464 1.732 3.317 6.481 2.    1.    4.359 0.    4.359 3.606 4.359 3.162\n",
      " 4.    3.162 3.    1.    3.606 3.606 0.    4.69  2.449 3.742 0.    4.472\n",
      " 4.69  4.583 6.325 3.464 0.    3.162 0.    3.162 2.828 3.464 0.    3.162\n",
      " 5.196 4.243 0.    2.828 4.69  3.    2.449 3.464 3.742 3.162 3.162 2.449\n",
      " 3.606 4.    0.    5.099 4.123 0.    3.317 2.    3.464 6.708 4.    0.\n",
      " 1.732 3.606 3.    4.359 2.828 3.317 4.243 4.583 0.    3.317 0.    3.162\n",
      " 4.123 3.742 3.317 0.    3.742 3.464 5.196 3.873 3.162 3.873 3.162 6.325\n",
      " 3.606 3.    3.317 3.606 2.646 4.243 3.873 0.    2.236 3.606 5.099 2.646\n",
      " 3.464 3.606 3.317 3.464 1.    3.317 4.    5.    2.828 2.828 0.    4.\n",
      " 3.162 3.606 3.    3.742 2.828 2.828 3.873 5.292 0.    2.236 2.646 5.831\n",
      " 3.162 3.606 1.    0.    3.    4.    3.606 0.    2.449 3.606 3.464 3.606\n",
      " 3.    0.    3.742 1.    1.414 0.    4.    4.359 4.123 0.    0.    5.\n",
      " 3.606 3.    2.828 6.557 5.745 4.    5.    4.899 0.    0.    2.449 3.317\n",
      " 0.    4.359 2.828 3.873 3.317 3.317 4.123 2.449 3.464 3.    4.359 3.464\n",
      " 4.    3.162 7.746 3.873 3.317 0.    3.162 6.    5.292 4.123 2.828 2.449\n",
      " 3.317 0.    0.    3.    3.873 4.    4.123 2.828 0.    0.    4.123 4.69\n",
      " 3.317 3.162 4.    0.    3.742 2.449 2.449 4.359 3.    4.    3.    2.828\n",
      " 5.831 3.317 3.742 1.732 2.828 4.899 3.873 2.828 3.162 3.162 1.    4.243\n",
      " 2.828 4.359 2.646 3.742 4.472 3.162 2.828 3.162 3.317 4.796 3.742 3.\n",
      " 3.162 4.    4.123 1.414 3.606 3.873 4.243 4.243 3.742 1.    5.831 3.464\n",
      " 4.243 3.742 4.359 2.449 4.    3.    3.317 3.606 2.646 4.583 0.    2.828\n",
      " 0.    6.481 4.899 4.69  4.359 3.162 3.464 3.464 1.    3.317 4.    2.646\n",
      " 4.359 2.236 2.236 5.196 3.    3.162 5.    4.    3.873 3.606 3.    2.449\n",
      " 3.317 3.464 2.646 3.162 3.742 3.162 3.162 0.    3.464 3.606 2.236 4.\n",
      " 3.    3.742 2.828 5.196 3.606 3.464 3.742 3.873 3.606 3.162 0.    7.55\n",
      " 2.    2.449 3.742 4.    3.464 2.828 2.646 4.796 4.123 4.    3.    3.317\n",
      " 4.899 3.162 3.317 4.    4.69  3.162 3.317 3.873 3.606 2.646 4.583 3.606\n",
      " 3.606 1.    4.899]\n"
     ]
    }
   ],
   "source": [
    "similarity_ts= neighbors_k_ts\n",
    "cpd_AD=similarity_ts[0,:]\n",
    "cpd_value = np.round(cpd_AD, 3)\n",
    "print(cpd_value)"
   ]
  },
  {
   "cell_type": "code",
   "execution_count": 68,
   "metadata": {},
   "outputs": [
    {
     "name": "stdout",
     "output_type": "stream",
     "text": [
      "[ True False  True False False  True  True False  True  True  True  True\n",
      " False  True  True False  True False  True False  True  True False False\n",
      " False  True  True False  True False  True False  True False False  True\n",
      "  True  True  True  True False  True  True False  True False  True  True\n",
      "  True  True  True  True False  True False  True  True  True False  True\n",
      "  True  True  True  True False False  True  True  True  True  True  True\n",
      "  True False False  True  True False False  True  True False  True  True\n",
      " False  True False  True False  True  True False  True False  True False\n",
      "  True  True  True  True  True False  True False  True False  True  True\n",
      "  True  True  True  True False  True  True  True  True  True  True  True\n",
      "  True  True  True False False  True  True False False  True  True  True\n",
      "  True  True  True  True False  True  True  True  True  True  True  True\n",
      "  True False  True  True  True  True  True  True False False  True False\n",
      " False False False  True  True  True  True  True  True  True  True False\n",
      "  True  True  True False  True False  True  True  True False False False\n",
      " False  True  True  True  True  True False  True  True  True  True  True\n",
      " False  True False  True  True  True  True False  True  True  True  True\n",
      "  True  True  True  True  True  True  True  True  True False  True False\n",
      " False  True  True  True  True  True False  True  True  True  True False\n",
      "  True False  True  True  True  True False False False  True  True  True\n",
      "  True  True False False  True  True  True False  True  True  True  True\n",
      "  True  True  True  True  True  True  True  True False  True  True False\n",
      "  True  True  True False  True False  True  True False  True  True  True\n",
      "  True False  True  True  True  True  True False  True  True  True False\n",
      "  True  True  True  True  True  True  True  True  True  True  True  True\n",
      "  True False  True False False  True  True False False  True  True  True\n",
      "  True False  True  True  True  True False False  True  True False False\n",
      "  True False False  True  True  True False False  True False  True  True\n",
      "  True  True False False  True  True  True  True  True  True  True  True\n",
      "  True  True  True False False False  True  True  True False False  True\n",
      "  True False False False  True  True  True  True  True  True  True  True\n",
      "  True  True  True  True  True False  True  True  True False False  True\n",
      "  True  True False  True  True  True False  True  True False  True  True\n",
      "  True  True False  True  True  True False  True False False  True  True\n",
      "  True  True  True False False  True  True  True False  True  True False\n",
      "  True False  True  True False  True  True  True  True False  True  True\n",
      "  True  True False  True  True  True  True  True False  True  True  True\n",
      "  True  True  True False  True  True False  True False  True False  True\n",
      " False  True  True  True  True  True  True False  True  True  True False\n",
      " False False False  True  True  True  True  True  True  True  True  True\n",
      " False False  True  True False  True  True  True  True  True  True  True\n",
      "  True False  True False False  True  True  True  True False False  True\n",
      "  True  True  True False  True  True False False  True  True  True  True\n",
      " False  True  True  True  True  True False  True  True  True  True False\n",
      "  True  True  True  True  True False  True  True  True  True False  True\n",
      "  True  True  True  True  True  True False False  True  True  True False\n",
      "  True  True  True  True  True  True  True False  True  True  True False\n",
      "  True  True  True  True  True False  True  True  True  True  True  True\n",
      "  True  True  True  True  True  True False False False  True  True False\n",
      "  True  True  True False False False False False  True  True  True  True\n",
      "  True False  True  True  True  True False  True  True  True False  True\n",
      " False  True False  True  True  True  True False False False  True  True\n",
      "  True  True  True  True  True False False  True  True  True False False\n",
      "  True  True False  True  True  True  True False  True False  True  True\n",
      " False  True  True  True  True False  True  True  True  True  True False\n",
      "  True False  True  True False  True  True  True  True False  True  True\n",
      "  True False False  True  True  True False False  True  True False  True\n",
      " False  True False  True False  True  True  True  True False  True  True\n",
      "  True False False False False  True  True  True  True  True False  True\n",
      " False  True  True False  True  True False False  True  True  True  True\n",
      "  True  True  True  True  True  True  True  True  True  True  True False\n",
      "  True  True  True False  True  True  True  True  True  True  True False\n",
      "  True  True  True False  True  True  True False False False  True  True\n",
      " False  True  True False False  True  True  True  True  True False  True\n",
      "  True  True False]\n"
     ]
    }
   ],
   "source": [
    "cpd_AD = np.where(cpd_value <= model_AD_limit, True, False)\n",
    "print(cpd_AD)"
   ]
  },
  {
   "cell_type": "code",
   "execution_count": 69,
   "metadata": {},
   "outputs": [
    {
     "name": "stdout",
     "output_type": "stream",
     "text": [
      "Coverage =  0.72\n"
     ]
    }
   ],
   "source": [
    "print(\"Coverage = \", round(sum(cpd_AD) / len(cpd_AD), 2))"
   ]
  },
  {
   "cell_type": "code",
   "execution_count": 70,
   "metadata": {},
   "outputs": [
    {
     "name": "stdout",
     "output_type": "stream",
     "text": [
      "Indices of substances included in AD =  [  0   2   5   6   8   9  10  11  13  14  16  18  20  21  25  26  28  30\n",
      "  32  35  36  37  38  39  41  42  44  46  47  48  49  50  51  53  55  56\n",
      "  57  59  60  61  62  63  66  67  68  69  70  71  72  75  76  79  80  82\n",
      "  83  85  87  89  90  92  94  96  97  98  99 100 102 104 106 107 108 109\n",
      " 110 111 113 114 115 116 117 118 119 120 121 122 125 126 129 130 131 132\n",
      " 133 134 135 137 138 139 140 141 142 143 144 146 147 148 149 150 151 154\n",
      " 159 160 161 162 163 164 165 166 168 169 170 172 174 175 176 181 182 183\n",
      " 184 185 187 188 189 190 191 193 195 196 197 198 200 201 202 203 204 205\n",
      " 206 207 208 209 210 211 212 214 217 218 219 220 221 223 224 225 226 228\n",
      " 230 231 232 233 237 238 239 240 241 244 245 246 248 249 250 251 252 253\n",
      " 254 255 256 257 258 259 261 262 264 265 266 268 270 271 273 274 275 276\n",
      " 278 279 280 281 282 284 285 286 288 289 290 291 292 293 294 295 296 297\n",
      " 298 299 300 302 305 306 309 310 311 312 314 315 316 317 320 321 324 327\n",
      " 328 329 332 334 335 336 337 340 341 342 343 344 345 346 347 348 349 350\n",
      " 354 355 356 359 360 364 365 366 367 368 369 370 371 372 373 374 375 376\n",
      " 378 379 380 383 384 385 387 388 389 391 392 394 395 396 397 399 400 401\n",
      " 403 406 407 408 409 410 413 414 415 417 418 420 422 423 425 426 427 428\n",
      " 430 431 432 433 435 436 437 438 439 441 442 443 444 445 446 448 449 451\n",
      " 453 455 457 458 459 460 461 462 464 465 466 471 472 473 474 475 476 477\n",
      " 478 479 482 483 485 486 487 488 489 490 491 492 494 497 498 499 500 503\n",
      " 504 505 506 508 509 512 513 514 515 517 518 519 520 521 523 524 525 526\n",
      " 528 529 530 531 532 534 535 536 537 539 540 541 542 543 544 545 548 549\n",
      " 550 552 553 554 555 556 557 558 560 561 562 564 565 566 567 568 570 571\n",
      " 572 573 574 575 576 577 578 579 580 581 585 586 588 589 590 596 597 598\n",
      " 599 600 602 603 604 605 607 608 609 611 613 615 616 617 618 622 623 624\n",
      " 625 626 627 628 631 632 633 636 637 639 640 641 642 644 646 647 649 650\n",
      " 651 652 654 655 656 657 658 660 662 663 665 666 667 668 670 671 672 675\n",
      " 676 677 680 681 683 685 687 689 690 691 692 694 695 696 701 702 703 704\n",
      " 705 707 709 710 712 713 716 717 718 719 720 721 722 723 724 725 726 727\n",
      " 728 729 730 732 733 734 736 737 738 739 740 741 742 744 745 746 748 749\n",
      " 750 754 755 757 758 761 762 763 764 765 767 768 769]\n"
     ]
    }
   ],
   "source": [
    "print(\"Indices of substances included in AD = \", np.where(cpd_AD != 0)[0])"
   ]
  },
  {
   "cell_type": "code",
   "execution_count": 71,
   "metadata": {},
   "outputs": [],
   "source": [
    "out_Ad=list(np.where(cpd_AD == 0)[0])"
   ]
  },
  {
   "cell_type": "markdown",
   "metadata": {},
   "source": [
    "# 12. Prediction only for molecules included in  AD"
   ]
  },
  {
   "cell_type": "code",
   "execution_count": 72,
   "metadata": {},
   "outputs": [],
   "source": [
    "y_pred_svm_ad=list(y_pred_svm)"
   ]
  },
  {
   "cell_type": "code",
   "execution_count": 73,
   "metadata": {},
   "outputs": [],
   "source": [
    "y_pred_svm_ad[:] = [x for i,x in enumerate(y_pred_svm_ad) if i not in out_Ad]"
   ]
  },
  {
   "cell_type": "code",
   "execution_count": 74,
   "metadata": {},
   "outputs": [
    {
     "data": {
      "text/plain": [
       "553"
      ]
     },
     "execution_count": 74,
     "metadata": {},
     "output_type": "execute_result"
    }
   ],
   "source": [
    "len(y_pred_svm_ad)"
   ]
  },
  {
   "cell_type": "code",
   "execution_count": 75,
   "metadata": {},
   "outputs": [],
   "source": [
    "y_ts_ad=list(y_ts)"
   ]
  },
  {
   "cell_type": "code",
   "execution_count": 76,
   "metadata": {},
   "outputs": [],
   "source": [
    "y_ts_ad[:] = [x for i,x in enumerate(y_ts_ad) if i not in out_Ad]"
   ]
  },
  {
   "cell_type": "code",
   "execution_count": 77,
   "metadata": {},
   "outputs": [
    {
     "data": {
      "text/plain": [
       "553"
      ]
     },
     "execution_count": 77,
     "metadata": {},
     "output_type": "execute_result"
    }
   ],
   "source": [
    "len(y_ts_ad)"
   ]
  },
  {
   "cell_type": "code",
   "execution_count": 78,
   "metadata": {},
   "outputs": [
    {
     "data": {
      "text/plain": [
       "0.73"
      ]
     },
     "execution_count": 78,
     "metadata": {},
     "output_type": "execute_result"
    }
   ],
   "source": [
    "Q2_TS = round(r2_score(y_ts_ad, y_pred_svm_ad), 2)\n",
    "Q2_TS"
   ]
  },
  {
   "cell_type": "code",
   "execution_count": 79,
   "metadata": {},
   "outputs": [
    {
     "data": {
      "text/plain": [
       "0.64"
      ]
     },
     "execution_count": 79,
     "metadata": {},
     "output_type": "execute_result"
    }
   ],
   "source": [
    "RMSE_TS=round(np.sqrt(mean_absolute_error(y_ts_ad, y_pred_svm_ad)), 2)\n",
    "RMSE_TS"
   ]
  },
  {
   "cell_type": "markdown",
   "metadata": {},
   "source": [
    "# Multi-layer Perceptron regressor"
   ]
  },
  {
   "cell_type": "code",
   "execution_count": 84,
   "metadata": {},
   "outputs": [],
   "source": [
    "from sklearn.neural_network import MLPRegressor"
   ]
  },
  {
   "cell_type": "code",
   "execution_count": 90,
   "metadata": {},
   "outputs": [],
   "source": [
    "param_grid ={\"hidden_layer_sizes\": [(400, 300, 200, 100),(100, 100, 100), (10, 10, 10),(50,)], \"activation\": [\"tanh\", \"relu\"], \"solver\": [\"lbfgs\", \"sgd\", \"adam\"], \"alpha\": [0.00005,0.0005], 'max_iter': [1000, 2000]}"
   ]
  },
  {
   "cell_type": "code",
   "execution_count": 91,
   "metadata": {},
   "outputs": [],
   "source": [
    "m = GridSearchCV(MLPRegressor(), param_grid, n_jobs=-1, cv=cv, verbose=1)"
   ]
  },
  {
   "cell_type": "code",
   "execution_count": 92,
   "metadata": {},
   "outputs": [
    {
     "name": "stdout",
     "output_type": "stream",
     "text": [
      "Fitting 5 folds for each of 96 candidates, totalling 480 fits\n"
     ]
    },
    {
     "data": {
      "text/html": [
       "<style>#sk-container-id-1 {color: black;}#sk-container-id-1 pre{padding: 0;}#sk-container-id-1 div.sk-toggleable {background-color: white;}#sk-container-id-1 label.sk-toggleable__label {cursor: pointer;display: block;width: 100%;margin-bottom: 0;padding: 0.3em;box-sizing: border-box;text-align: center;}#sk-container-id-1 label.sk-toggleable__label-arrow:before {content: \"▸\";float: left;margin-right: 0.25em;color: #696969;}#sk-container-id-1 label.sk-toggleable__label-arrow:hover:before {color: black;}#sk-container-id-1 div.sk-estimator:hover label.sk-toggleable__label-arrow:before {color: black;}#sk-container-id-1 div.sk-toggleable__content {max-height: 0;max-width: 0;overflow: hidden;text-align: left;background-color: #f0f8ff;}#sk-container-id-1 div.sk-toggleable__content pre {margin: 0.2em;color: black;border-radius: 0.25em;background-color: #f0f8ff;}#sk-container-id-1 input.sk-toggleable__control:checked~div.sk-toggleable__content {max-height: 200px;max-width: 100%;overflow: auto;}#sk-container-id-1 input.sk-toggleable__control:checked~label.sk-toggleable__label-arrow:before {content: \"▾\";}#sk-container-id-1 div.sk-estimator input.sk-toggleable__control:checked~label.sk-toggleable__label {background-color: #d4ebff;}#sk-container-id-1 div.sk-label input.sk-toggleable__control:checked~label.sk-toggleable__label {background-color: #d4ebff;}#sk-container-id-1 input.sk-hidden--visually {border: 0;clip: rect(1px 1px 1px 1px);clip: rect(1px, 1px, 1px, 1px);height: 1px;margin: -1px;overflow: hidden;padding: 0;position: absolute;width: 1px;}#sk-container-id-1 div.sk-estimator {font-family: monospace;background-color: #f0f8ff;border: 1px dotted black;border-radius: 0.25em;box-sizing: border-box;margin-bottom: 0.5em;}#sk-container-id-1 div.sk-estimator:hover {background-color: #d4ebff;}#sk-container-id-1 div.sk-parallel-item::after {content: \"\";width: 100%;border-bottom: 1px solid gray;flex-grow: 1;}#sk-container-id-1 div.sk-label:hover label.sk-toggleable__label {background-color: #d4ebff;}#sk-container-id-1 div.sk-serial::before {content: \"\";position: absolute;border-left: 1px solid gray;box-sizing: border-box;top: 0;bottom: 0;left: 50%;z-index: 0;}#sk-container-id-1 div.sk-serial {display: flex;flex-direction: column;align-items: center;background-color: white;padding-right: 0.2em;padding-left: 0.2em;position: relative;}#sk-container-id-1 div.sk-item {position: relative;z-index: 1;}#sk-container-id-1 div.sk-parallel {display: flex;align-items: stretch;justify-content: center;background-color: white;position: relative;}#sk-container-id-1 div.sk-item::before, #sk-container-id-1 div.sk-parallel-item::before {content: \"\";position: absolute;border-left: 1px solid gray;box-sizing: border-box;top: 0;bottom: 0;left: 50%;z-index: -1;}#sk-container-id-1 div.sk-parallel-item {display: flex;flex-direction: column;z-index: 1;position: relative;background-color: white;}#sk-container-id-1 div.sk-parallel-item:first-child::after {align-self: flex-end;width: 50%;}#sk-container-id-1 div.sk-parallel-item:last-child::after {align-self: flex-start;width: 50%;}#sk-container-id-1 div.sk-parallel-item:only-child::after {width: 0;}#sk-container-id-1 div.sk-dashed-wrapped {border: 1px dashed gray;margin: 0 0.4em 0.5em 0.4em;box-sizing: border-box;padding-bottom: 0.4em;background-color: white;}#sk-container-id-1 div.sk-label label {font-family: monospace;font-weight: bold;display: inline-block;line-height: 1.2em;}#sk-container-id-1 div.sk-label-container {text-align: center;}#sk-container-id-1 div.sk-container {/* jupyter's `normalize.less` sets `[hidden] { display: none; }` but bootstrap.min.css set `[hidden] { display: none !important; }` so we also need the `!important` here to be able to override the default hidden behavior on the sphinx rendered scikit-learn.org. See: https://github.com/scikit-learn/scikit-learn/issues/21755 */display: inline-block !important;position: relative;}#sk-container-id-1 div.sk-text-repr-fallback {display: none;}</style><div id=\"sk-container-id-1\" class=\"sk-top-container\"><div class=\"sk-text-repr-fallback\"><pre>GridSearchCV(cv=KFold(n_splits=5, random_state=42, shuffle=True),\n",
       "             estimator=MLPRegressor(), n_jobs=-1,\n",
       "             param_grid={&#x27;activation&#x27;: [&#x27;tanh&#x27;, &#x27;relu&#x27;],\n",
       "                         &#x27;alpha&#x27;: [5e-05, 0.0005],\n",
       "                         &#x27;hidden_layer_sizes&#x27;: [(400, 300, 200, 100),\n",
       "                                                (100, 100, 100), (10, 10, 10),\n",
       "                                                (50,)],\n",
       "                         &#x27;max_iter&#x27;: [1000, 2000],\n",
       "                         &#x27;solver&#x27;: [&#x27;lbfgs&#x27;, &#x27;sgd&#x27;, &#x27;adam&#x27;]},\n",
       "             verbose=1)</pre><b>In a Jupyter environment, please rerun this cell to show the HTML representation or trust the notebook. <br />On GitHub, the HTML representation is unable to render, please try loading this page with nbviewer.org.</b></div><div class=\"sk-container\" hidden><div class=\"sk-item sk-dashed-wrapped\"><div class=\"sk-label-container\"><div class=\"sk-label sk-toggleable\"><input class=\"sk-toggleable__control sk-hidden--visually\" id=\"sk-estimator-id-1\" type=\"checkbox\" ><label for=\"sk-estimator-id-1\" class=\"sk-toggleable__label sk-toggleable__label-arrow\">GridSearchCV</label><div class=\"sk-toggleable__content\"><pre>GridSearchCV(cv=KFold(n_splits=5, random_state=42, shuffle=True),\n",
       "             estimator=MLPRegressor(), n_jobs=-1,\n",
       "             param_grid={&#x27;activation&#x27;: [&#x27;tanh&#x27;, &#x27;relu&#x27;],\n",
       "                         &#x27;alpha&#x27;: [5e-05, 0.0005],\n",
       "                         &#x27;hidden_layer_sizes&#x27;: [(400, 300, 200, 100),\n",
       "                                                (100, 100, 100), (10, 10, 10),\n",
       "                                                (50,)],\n",
       "                         &#x27;max_iter&#x27;: [1000, 2000],\n",
       "                         &#x27;solver&#x27;: [&#x27;lbfgs&#x27;, &#x27;sgd&#x27;, &#x27;adam&#x27;]},\n",
       "             verbose=1)</pre></div></div></div><div class=\"sk-parallel\"><div class=\"sk-parallel-item\"><div class=\"sk-item\"><div class=\"sk-label-container\"><div class=\"sk-label sk-toggleable\"><input class=\"sk-toggleable__control sk-hidden--visually\" id=\"sk-estimator-id-2\" type=\"checkbox\" ><label for=\"sk-estimator-id-2\" class=\"sk-toggleable__label sk-toggleable__label-arrow\">estimator: MLPRegressor</label><div class=\"sk-toggleable__content\"><pre>MLPRegressor()</pre></div></div></div><div class=\"sk-serial\"><div class=\"sk-item\"><div class=\"sk-estimator sk-toggleable\"><input class=\"sk-toggleable__control sk-hidden--visually\" id=\"sk-estimator-id-3\" type=\"checkbox\" ><label for=\"sk-estimator-id-3\" class=\"sk-toggleable__label sk-toggleable__label-arrow\">MLPRegressor</label><div class=\"sk-toggleable__content\"><pre>MLPRegressor()</pre></div></div></div></div></div></div></div></div></div></div>"
      ],
      "text/plain": [
       "GridSearchCV(cv=KFold(n_splits=5, random_state=42, shuffle=True),\n",
       "             estimator=MLPRegressor(), n_jobs=-1,\n",
       "             param_grid={'activation': ['tanh', 'relu'],\n",
       "                         'alpha': [5e-05, 0.0005],\n",
       "                         'hidden_layer_sizes': [(400, 300, 200, 100),\n",
       "                                                (100, 100, 100), (10, 10, 10),\n",
       "                                                (50,)],\n",
       "                         'max_iter': [1000, 2000],\n",
       "                         'solver': ['lbfgs', 'sgd', 'adam']},\n",
       "             verbose=1)"
      ]
     },
     "execution_count": 92,
     "metadata": {},
     "output_type": "execute_result"
    }
   ],
   "source": [
    "m.fit(x_tr, y_tr)"
   ]
  },
  {
   "cell_type": "code",
   "execution_count": 93,
   "metadata": {},
   "outputs": [],
   "source": [
    "best_MLPR = m.best_estimator_"
   ]
  },
  {
   "cell_type": "code",
   "execution_count": 94,
   "metadata": {},
   "outputs": [
    {
     "data": {
      "text/plain": [
       "{'activation': 'relu',\n",
       " 'alpha': 5e-05,\n",
       " 'hidden_layer_sizes': (400, 300, 200, 100),\n",
       " 'max_iter': 1000,\n",
       " 'solver': 'lbfgs'}"
      ]
     },
     "execution_count": 94,
     "metadata": {},
     "output_type": "execute_result"
    }
   ],
   "source": [
    "m.best_params_"
   ]
  },
  {
   "cell_type": "code",
   "execution_count": 95,
   "metadata": {},
   "outputs": [],
   "source": [
    "y_pred_ws_MLPR = best_MLPR.predict(x_tr)"
   ]
  },
  {
   "cell_type": "code",
   "execution_count": 96,
   "metadata": {},
   "outputs": [
    {
     "data": {
      "text/plain": [
       "0.99"
      ]
     },
     "execution_count": 96,
     "metadata": {},
     "output_type": "execute_result"
    }
   ],
   "source": [
    "R2_WS = round(r2_score(y_tr, y_pred_ws_MLPR), 2)\n",
    "R2_WS"
   ]
  },
  {
   "cell_type": "code",
   "execution_count": 97,
   "metadata": {},
   "outputs": [
    {
     "data": {
      "text/plain": [
       "0.15"
      ]
     },
     "execution_count": 97,
     "metadata": {},
     "output_type": "execute_result"
    }
   ],
   "source": [
    "RMSE_WS=round(np.sqrt(mean_absolute_error(y_tr, y_pred_ws_MLPR)), 2)\n",
    "RMSE_WS"
   ]
  },
  {
   "cell_type": "code",
   "execution_count": 101,
   "metadata": {},
   "outputs": [],
   "source": [
    "y_pred_CV_MLPR = cross_val_predict(best_MLPR, x_tr, y_tr, cv=cv)"
   ]
  },
  {
   "cell_type": "code",
   "execution_count": 102,
   "metadata": {},
   "outputs": [
    {
     "data": {
      "text/plain": [
       "array([5.63223732, 5.59104909, 5.3910536 , ..., 8.25383691, 6.65215014,\n",
       "       7.93132945])"
      ]
     },
     "execution_count": 102,
     "metadata": {},
     "output_type": "execute_result"
    }
   ],
   "source": [
    "y_pred_CV_MLPR"
   ]
  },
  {
   "cell_type": "code",
   "execution_count": 103,
   "metadata": {},
   "outputs": [
    {
     "data": {
      "text/plain": [
       "0.61"
      ]
     },
     "execution_count": 103,
     "metadata": {},
     "output_type": "execute_result"
    }
   ],
   "source": [
    "Q2_CV = round(r2_score(y_tr, y_pred_CV_MLPR), 2)\n",
    "Q2_CV"
   ]
  },
  {
   "cell_type": "code",
   "execution_count": 104,
   "metadata": {},
   "outputs": [
    {
     "data": {
      "text/plain": [
       "0.71"
      ]
     },
     "execution_count": 104,
     "metadata": {},
     "output_type": "execute_result"
    }
   ],
   "source": [
    "RMSE_CV=round(np.sqrt(mean_absolute_error(y_tr, y_pred_CV_MLPR)), 2)\n",
    "RMSE_CV"
   ]
  },
  {
   "cell_type": "markdown",
   "metadata": {},
   "source": [
    "# 9. Prediction for test set's molecules"
   ]
  },
  {
   "cell_type": "code",
   "execution_count": 24,
   "metadata": {},
   "outputs": [],
   "source": [
    "x_ts = np.array(x_ts, dtype=np.float32)\n",
    "y_ts = np.array(y_ts, dtype=np.float32)"
   ]
  },
  {
   "cell_type": "code",
   "execution_count": 25,
   "metadata": {},
   "outputs": [],
   "source": [
    "y_pred_MLPR = best_MLPR.predict(x_ts)"
   ]
  },
  {
   "cell_type": "code",
   "execution_count": 26,
   "metadata": {},
   "outputs": [
    {
     "data": {
      "text/plain": [
       "0.64"
      ]
     },
     "execution_count": 26,
     "metadata": {},
     "output_type": "execute_result"
    }
   ],
   "source": [
    "Q2_TS = round(r2_score(y_ts, y_pred_MLPR), 2)\n",
    "Q2_TS"
   ]
  },
  {
   "cell_type": "code",
   "execution_count": 27,
   "metadata": {},
   "outputs": [
    {
     "data": {
      "text/plain": [
       "0.69"
      ]
     },
     "execution_count": 27,
     "metadata": {},
     "output_type": "execute_result"
    }
   ],
   "source": [
    "RMSE_TS=round(np.sqrt(mean_absolute_error(y_ts, y_pred_MLPR)), 2)\n",
    "RMSE_TS"
   ]
  },
  {
   "cell_type": "markdown",
   "metadata": {},
   "source": [
    "# save the model to disk"
   ]
  },
  {
   "cell_type": "code",
   "execution_count": 110,
   "metadata": {},
   "outputs": [],
   "source": [
    "pickle.dump(best_MLPR, open('Models/Morgan_fingerprint/HDAC6_MLPR_MF.pkl', 'wb'))"
   ]
  },
  {
   "cell_type": "markdown",
   "metadata": {},
   "source": [
    "# load the model from disk"
   ]
  },
  {
   "cell_type": "code",
   "execution_count": 23,
   "metadata": {},
   "outputs": [],
   "source": [
    "best_MLPR = pickle.load(open('Models/Morgan_fingerprint/HDAC6_MLPR_MF.pkl', 'rb'))"
   ]
  },
  {
   "cell_type": "markdown",
   "metadata": {},
   "source": [
    "# 10. Y-randomization MLPR"
   ]
  },
  {
   "cell_type": "code",
   "execution_count": 111,
   "metadata": {},
   "outputs": [
    {
     "name": "stderr",
     "output_type": "stream",
     "text": [
      "[Parallel(n_jobs=-1)]: Using backend LokyBackend with 16 concurrent workers.\n",
      "[Parallel(n_jobs=-1)]: Done  18 tasks      | elapsed: 124.2min\n"
     ]
    },
    {
     "name": "stdout",
     "output_type": "stream",
     "text": [
      "True score =  0.61 \n",
      "Y-randomization =  -0.74 \n",
      "p-value =  0.0196\n"
     ]
    },
    {
     "name": "stderr",
     "output_type": "stream",
     "text": [
      "[Parallel(n_jobs=-1)]: Done  50 out of  50 | elapsed: 209.5min finished\n"
     ]
    }
   ],
   "source": [
    "permutations = 50\n",
    "score, permutation_scores, pvalue = permutation_test_score(best_MLPR, x_tr, y_tr,\n",
    "                                                           cv=cv, scoring='r2',\n",
    "                                                           n_permutations=permutations,\n",
    "                                                           n_jobs=-1,\n",
    "                                                           verbose=1,\n",
    "                                                           random_state=seed)\n",
    "print('True score = ', score.round(2),\n",
    "      '\\nY-randomization = ', np.mean(permutation_scores).round(2),\n",
    "      '\\np-value = ', pvalue.round(4))"
   ]
  },
  {
   "cell_type": "markdown",
   "metadata": {},
   "source": [
    "# 11. Estimating applicability domain. Method - Euclidian distances, K=1"
   ]
  },
  {
   "cell_type": "code",
   "execution_count": 28,
   "metadata": {},
   "outputs": [],
   "source": [
    "neighbors_k= pairwise_distances(x_tr, n_jobs=-1)\n",
    "neighbors_k.sort(0)"
   ]
  },
  {
   "cell_type": "code",
   "execution_count": 29,
   "metadata": {},
   "outputs": [
    {
     "data": {
      "text/html": [
       "<div>\n",
       "<style scoped>\n",
       "    .dataframe tbody tr th:only-of-type {\n",
       "        vertical-align: middle;\n",
       "    }\n",
       "\n",
       "    .dataframe tbody tr th {\n",
       "        vertical-align: top;\n",
       "    }\n",
       "\n",
       "    .dataframe thead th {\n",
       "        text-align: right;\n",
       "    }\n",
       "</style>\n",
       "<table border=\"1\" class=\"dataframe\">\n",
       "  <thead>\n",
       "    <tr style=\"text-align: right;\">\n",
       "      <th></th>\n",
       "      <th>0</th>\n",
       "      <th>1</th>\n",
       "      <th>2</th>\n",
       "      <th>3</th>\n",
       "      <th>4</th>\n",
       "      <th>5</th>\n",
       "      <th>6</th>\n",
       "      <th>7</th>\n",
       "      <th>8</th>\n",
       "      <th>9</th>\n",
       "      <th>...</th>\n",
       "      <th>3073</th>\n",
       "      <th>3074</th>\n",
       "      <th>3075</th>\n",
       "      <th>3076</th>\n",
       "      <th>3077</th>\n",
       "      <th>3078</th>\n",
       "      <th>3079</th>\n",
       "      <th>3080</th>\n",
       "      <th>3081</th>\n",
       "      <th>3082</th>\n",
       "    </tr>\n",
       "  </thead>\n",
       "  <tbody>\n",
       "    <tr>\n",
       "      <th>0</th>\n",
       "      <td>0.000000</td>\n",
       "      <td>0.000000</td>\n",
       "      <td>0.000000</td>\n",
       "      <td>0.000000</td>\n",
       "      <td>0.000000</td>\n",
       "      <td>0.000000</td>\n",
       "      <td>0.000000</td>\n",
       "      <td>0.000000</td>\n",
       "      <td>0.000000</td>\n",
       "      <td>0.000000</td>\n",
       "      <td>...</td>\n",
       "      <td>0.000000</td>\n",
       "      <td>0.000000</td>\n",
       "      <td>0.000000</td>\n",
       "      <td>0.000000</td>\n",
       "      <td>0.000000</td>\n",
       "      <td>0.000000</td>\n",
       "      <td>0.000000</td>\n",
       "      <td>0.000000</td>\n",
       "      <td>0.000000</td>\n",
       "      <td>0.000000</td>\n",
       "    </tr>\n",
       "    <tr>\n",
       "      <th>1</th>\n",
       "      <td>3.162278</td>\n",
       "      <td>5.656854</td>\n",
       "      <td>4.472136</td>\n",
       "      <td>3.872983</td>\n",
       "      <td>6.708204</td>\n",
       "      <td>3.316625</td>\n",
       "      <td>6.244998</td>\n",
       "      <td>5.000000</td>\n",
       "      <td>3.464102</td>\n",
       "      <td>6.480741</td>\n",
       "      <td>...</td>\n",
       "      <td>3.162278</td>\n",
       "      <td>3.605551</td>\n",
       "      <td>4.123106</td>\n",
       "      <td>4.242640</td>\n",
       "      <td>3.162278</td>\n",
       "      <td>3.605551</td>\n",
       "      <td>3.872983</td>\n",
       "      <td>3.741657</td>\n",
       "      <td>2.645751</td>\n",
       "      <td>4.795832</td>\n",
       "    </tr>\n",
       "    <tr>\n",
       "      <th>2</th>\n",
       "      <td>6.164414</td>\n",
       "      <td>6.000000</td>\n",
       "      <td>5.385165</td>\n",
       "      <td>4.358899</td>\n",
       "      <td>6.782330</td>\n",
       "      <td>3.872983</td>\n",
       "      <td>6.403124</td>\n",
       "      <td>5.099020</td>\n",
       "      <td>4.242640</td>\n",
       "      <td>6.633250</td>\n",
       "      <td>...</td>\n",
       "      <td>3.162278</td>\n",
       "      <td>5.567764</td>\n",
       "      <td>4.472136</td>\n",
       "      <td>4.358899</td>\n",
       "      <td>3.605551</td>\n",
       "      <td>5.099020</td>\n",
       "      <td>3.872983</td>\n",
       "      <td>4.000000</td>\n",
       "      <td>3.464102</td>\n",
       "      <td>5.477226</td>\n",
       "    </tr>\n",
       "    <tr>\n",
       "      <th>3</th>\n",
       "      <td>6.164414</td>\n",
       "      <td>6.082763</td>\n",
       "      <td>5.567764</td>\n",
       "      <td>4.795832</td>\n",
       "      <td>6.855655</td>\n",
       "      <td>4.472136</td>\n",
       "      <td>7.071068</td>\n",
       "      <td>5.099020</td>\n",
       "      <td>4.242640</td>\n",
       "      <td>6.708204</td>\n",
       "      <td>...</td>\n",
       "      <td>4.472136</td>\n",
       "      <td>5.916080</td>\n",
       "      <td>4.690416</td>\n",
       "      <td>4.472136</td>\n",
       "      <td>3.741657</td>\n",
       "      <td>5.291502</td>\n",
       "      <td>4.242640</td>\n",
       "      <td>4.242640</td>\n",
       "      <td>3.464102</td>\n",
       "      <td>5.567764</td>\n",
       "    </tr>\n",
       "    <tr>\n",
       "      <th>4</th>\n",
       "      <td>6.244998</td>\n",
       "      <td>6.082763</td>\n",
       "      <td>5.567764</td>\n",
       "      <td>4.795832</td>\n",
       "      <td>6.855655</td>\n",
       "      <td>5.196152</td>\n",
       "      <td>7.141428</td>\n",
       "      <td>5.099020</td>\n",
       "      <td>4.582576</td>\n",
       "      <td>6.708204</td>\n",
       "      <td>...</td>\n",
       "      <td>4.582576</td>\n",
       "      <td>6.000000</td>\n",
       "      <td>4.795832</td>\n",
       "      <td>4.690416</td>\n",
       "      <td>3.872983</td>\n",
       "      <td>5.477226</td>\n",
       "      <td>4.242640</td>\n",
       "      <td>4.242640</td>\n",
       "      <td>3.464102</td>\n",
       "      <td>5.567764</td>\n",
       "    </tr>\n",
       "    <tr>\n",
       "      <th>...</th>\n",
       "      <td>...</td>\n",
       "      <td>...</td>\n",
       "      <td>...</td>\n",
       "      <td>...</td>\n",
       "      <td>...</td>\n",
       "      <td>...</td>\n",
       "      <td>...</td>\n",
       "      <td>...</td>\n",
       "      <td>...</td>\n",
       "      <td>...</td>\n",
       "      <td>...</td>\n",
       "      <td>...</td>\n",
       "      <td>...</td>\n",
       "      <td>...</td>\n",
       "      <td>...</td>\n",
       "      <td>...</td>\n",
       "      <td>...</td>\n",
       "      <td>...</td>\n",
       "      <td>...</td>\n",
       "      <td>...</td>\n",
       "      <td>...</td>\n",
       "    </tr>\n",
       "    <tr>\n",
       "      <th>3078</th>\n",
       "      <td>11.000000</td>\n",
       "      <td>11.090536</td>\n",
       "      <td>11.269427</td>\n",
       "      <td>10.630146</td>\n",
       "      <td>11.313708</td>\n",
       "      <td>10.816654</td>\n",
       "      <td>11.532562</td>\n",
       "      <td>11.401754</td>\n",
       "      <td>11.401754</td>\n",
       "      <td>11.313708</td>\n",
       "      <td>...</td>\n",
       "      <td>11.090536</td>\n",
       "      <td>11.445523</td>\n",
       "      <td>11.401754</td>\n",
       "      <td>11.090536</td>\n",
       "      <td>11.000000</td>\n",
       "      <td>11.313708</td>\n",
       "      <td>11.090536</td>\n",
       "      <td>11.180340</td>\n",
       "      <td>11.135529</td>\n",
       "      <td>10.862781</td>\n",
       "    </tr>\n",
       "    <tr>\n",
       "      <th>3079</th>\n",
       "      <td>11.000000</td>\n",
       "      <td>11.090536</td>\n",
       "      <td>11.269427</td>\n",
       "      <td>10.677078</td>\n",
       "      <td>11.313708</td>\n",
       "      <td>10.816654</td>\n",
       "      <td>11.532562</td>\n",
       "      <td>11.401754</td>\n",
       "      <td>11.445523</td>\n",
       "      <td>11.313708</td>\n",
       "      <td>...</td>\n",
       "      <td>11.090536</td>\n",
       "      <td>11.445523</td>\n",
       "      <td>11.401754</td>\n",
       "      <td>11.090536</td>\n",
       "      <td>11.135529</td>\n",
       "      <td>11.313708</td>\n",
       "      <td>11.180340</td>\n",
       "      <td>11.180340</td>\n",
       "      <td>11.135529</td>\n",
       "      <td>11.180340</td>\n",
       "    </tr>\n",
       "    <tr>\n",
       "      <th>3080</th>\n",
       "      <td>11.000000</td>\n",
       "      <td>11.090536</td>\n",
       "      <td>11.269427</td>\n",
       "      <td>10.677078</td>\n",
       "      <td>11.313708</td>\n",
       "      <td>10.816654</td>\n",
       "      <td>11.532562</td>\n",
       "      <td>11.401754</td>\n",
       "      <td>11.445523</td>\n",
       "      <td>11.313708</td>\n",
       "      <td>...</td>\n",
       "      <td>11.180340</td>\n",
       "      <td>11.445523</td>\n",
       "      <td>11.401754</td>\n",
       "      <td>11.090536</td>\n",
       "      <td>11.135529</td>\n",
       "      <td>11.313708</td>\n",
       "      <td>11.269427</td>\n",
       "      <td>11.224972</td>\n",
       "      <td>11.269427</td>\n",
       "      <td>11.180340</td>\n",
       "    </tr>\n",
       "    <tr>\n",
       "      <th>3081</th>\n",
       "      <td>11.180340</td>\n",
       "      <td>11.269427</td>\n",
       "      <td>11.357817</td>\n",
       "      <td>10.677078</td>\n",
       "      <td>11.401754</td>\n",
       "      <td>11.045361</td>\n",
       "      <td>11.704700</td>\n",
       "      <td>11.489125</td>\n",
       "      <td>11.532562</td>\n",
       "      <td>11.313708</td>\n",
       "      <td>...</td>\n",
       "      <td>11.180340</td>\n",
       "      <td>11.445523</td>\n",
       "      <td>11.401754</td>\n",
       "      <td>11.313708</td>\n",
       "      <td>11.135529</td>\n",
       "      <td>11.313708</td>\n",
       "      <td>11.401754</td>\n",
       "      <td>11.224972</td>\n",
       "      <td>11.313708</td>\n",
       "      <td>11.180340</td>\n",
       "    </tr>\n",
       "    <tr>\n",
       "      <th>3082</th>\n",
       "      <td>11.575837</td>\n",
       "      <td>11.747340</td>\n",
       "      <td>11.832160</td>\n",
       "      <td>11.269427</td>\n",
       "      <td>11.958261</td>\n",
       "      <td>11.445523</td>\n",
       "      <td>11.704700</td>\n",
       "      <td>12.000000</td>\n",
       "      <td>11.575837</td>\n",
       "      <td>11.489125</td>\n",
       "      <td>...</td>\n",
       "      <td>11.832160</td>\n",
       "      <td>11.789826</td>\n",
       "      <td>11.958261</td>\n",
       "      <td>11.489125</td>\n",
       "      <td>11.618950</td>\n",
       "      <td>11.661903</td>\n",
       "      <td>11.874342</td>\n",
       "      <td>11.224972</td>\n",
       "      <td>11.661903</td>\n",
       "      <td>11.575837</td>\n",
       "    </tr>\n",
       "  </tbody>\n",
       "</table>\n",
       "<p>3083 rows × 3083 columns</p>\n",
       "</div>"
      ],
      "text/plain": [
       "           0          1          2          3          4          5     \\\n",
       "0      0.000000   0.000000   0.000000   0.000000   0.000000   0.000000   \n",
       "1      3.162278   5.656854   4.472136   3.872983   6.708204   3.316625   \n",
       "2      6.164414   6.000000   5.385165   4.358899   6.782330   3.872983   \n",
       "3      6.164414   6.082763   5.567764   4.795832   6.855655   4.472136   \n",
       "4      6.244998   6.082763   5.567764   4.795832   6.855655   5.196152   \n",
       "...         ...        ...        ...        ...        ...        ...   \n",
       "3078  11.000000  11.090536  11.269427  10.630146  11.313708  10.816654   \n",
       "3079  11.000000  11.090536  11.269427  10.677078  11.313708  10.816654   \n",
       "3080  11.000000  11.090536  11.269427  10.677078  11.313708  10.816654   \n",
       "3081  11.180340  11.269427  11.357817  10.677078  11.401754  11.045361   \n",
       "3082  11.575837  11.747340  11.832160  11.269427  11.958261  11.445523   \n",
       "\n",
       "           6          7          8          9     ...       3073       3074  \\\n",
       "0      0.000000   0.000000   0.000000   0.000000  ...   0.000000   0.000000   \n",
       "1      6.244998   5.000000   3.464102   6.480741  ...   3.162278   3.605551   \n",
       "2      6.403124   5.099020   4.242640   6.633250  ...   3.162278   5.567764   \n",
       "3      7.071068   5.099020   4.242640   6.708204  ...   4.472136   5.916080   \n",
       "4      7.141428   5.099020   4.582576   6.708204  ...   4.582576   6.000000   \n",
       "...         ...        ...        ...        ...  ...        ...        ...   \n",
       "3078  11.532562  11.401754  11.401754  11.313708  ...  11.090536  11.445523   \n",
       "3079  11.532562  11.401754  11.445523  11.313708  ...  11.090536  11.445523   \n",
       "3080  11.532562  11.401754  11.445523  11.313708  ...  11.180340  11.445523   \n",
       "3081  11.704700  11.489125  11.532562  11.313708  ...  11.180340  11.445523   \n",
       "3082  11.704700  12.000000  11.575837  11.489125  ...  11.832160  11.789826   \n",
       "\n",
       "           3075       3076       3077       3078       3079       3080  \\\n",
       "0      0.000000   0.000000   0.000000   0.000000   0.000000   0.000000   \n",
       "1      4.123106   4.242640   3.162278   3.605551   3.872983   3.741657   \n",
       "2      4.472136   4.358899   3.605551   5.099020   3.872983   4.000000   \n",
       "3      4.690416   4.472136   3.741657   5.291502   4.242640   4.242640   \n",
       "4      4.795832   4.690416   3.872983   5.477226   4.242640   4.242640   \n",
       "...         ...        ...        ...        ...        ...        ...   \n",
       "3078  11.401754  11.090536  11.000000  11.313708  11.090536  11.180340   \n",
       "3079  11.401754  11.090536  11.135529  11.313708  11.180340  11.180340   \n",
       "3080  11.401754  11.090536  11.135529  11.313708  11.269427  11.224972   \n",
       "3081  11.401754  11.313708  11.135529  11.313708  11.401754  11.224972   \n",
       "3082  11.958261  11.489125  11.618950  11.661903  11.874342  11.224972   \n",
       "\n",
       "           3081       3082  \n",
       "0      0.000000   0.000000  \n",
       "1      2.645751   4.795832  \n",
       "2      3.464102   5.477226  \n",
       "3      3.464102   5.567764  \n",
       "4      3.464102   5.567764  \n",
       "...         ...        ...  \n",
       "3078  11.135529  10.862781  \n",
       "3079  11.135529  11.180340  \n",
       "3080  11.269427  11.180340  \n",
       "3081  11.313708  11.180340  \n",
       "3082  11.661903  11.575837  \n",
       "\n",
       "[3083 rows x 3083 columns]"
      ]
     },
     "execution_count": 29,
     "metadata": {},
     "output_type": "execute_result"
    }
   ],
   "source": [
    "df_tr=pd.DataFrame(neighbors_k)\n",
    "df_tr"
   ]
  },
  {
   "cell_type": "code",
   "execution_count": 30,
   "metadata": {},
   "outputs": [],
   "source": [
    "similarity= neighbors_k"
   ]
  },
  {
   "cell_type": "code",
   "execution_count": 31,
   "metadata": {},
   "outputs": [],
   "source": [
    "Dmean=np.mean(similarity[1,:])"
   ]
  },
  {
   "cell_type": "code",
   "execution_count": 32,
   "metadata": {},
   "outputs": [
    {
     "data": {
      "text/plain": [
       "3.23"
      ]
     },
     "execution_count": 32,
     "metadata": {},
     "output_type": "execute_result"
    }
   ],
   "source": [
    "round(Dmean, 2)"
   ]
  },
  {
   "cell_type": "code",
   "execution_count": 33,
   "metadata": {},
   "outputs": [],
   "source": [
    "std=np.std(similarity[1,:])"
   ]
  },
  {
   "cell_type": "code",
   "execution_count": 34,
   "metadata": {},
   "outputs": [
    {
     "data": {
      "text/plain": [
       "1.37"
      ]
     },
     "execution_count": 34,
     "metadata": {},
     "output_type": "execute_result"
    }
   ],
   "source": [
    "round(std, 2)"
   ]
  },
  {
   "cell_type": "code",
   "execution_count": 35,
   "metadata": {},
   "outputs": [
    {
     "name": "stdout",
     "output_type": "stream",
     "text": [
      "3.91\n"
     ]
    }
   ],
   "source": [
    "model_AD_limit=Dmean+std*0.5\n",
    "print(np.round(model_AD_limit, 2))"
   ]
  },
  {
   "cell_type": "code",
   "execution_count": 36,
   "metadata": {},
   "outputs": [],
   "source": [
    "neighbors_k_ts= pairwise_distances(x_tr,Y=x_ts, n_jobs=-1)\n",
    "neighbors_k_ts.sort(0)"
   ]
  },
  {
   "cell_type": "code",
   "execution_count": 37,
   "metadata": {},
   "outputs": [
    {
     "data": {
      "text/html": [
       "<div>\n",
       "<style scoped>\n",
       "    .dataframe tbody tr th:only-of-type {\n",
       "        vertical-align: middle;\n",
       "    }\n",
       "\n",
       "    .dataframe tbody tr th {\n",
       "        vertical-align: top;\n",
       "    }\n",
       "\n",
       "    .dataframe thead th {\n",
       "        text-align: right;\n",
       "    }\n",
       "</style>\n",
       "<table border=\"1\" class=\"dataframe\">\n",
       "  <thead>\n",
       "    <tr style=\"text-align: right;\">\n",
       "      <th></th>\n",
       "      <th>0</th>\n",
       "      <th>1</th>\n",
       "      <th>2</th>\n",
       "      <th>3</th>\n",
       "      <th>4</th>\n",
       "      <th>5</th>\n",
       "      <th>6</th>\n",
       "      <th>7</th>\n",
       "      <th>8</th>\n",
       "      <th>9</th>\n",
       "      <th>...</th>\n",
       "      <th>761</th>\n",
       "      <th>762</th>\n",
       "      <th>763</th>\n",
       "      <th>764</th>\n",
       "      <th>765</th>\n",
       "      <th>766</th>\n",
       "      <th>767</th>\n",
       "      <th>768</th>\n",
       "      <th>769</th>\n",
       "      <th>770</th>\n",
       "    </tr>\n",
       "  </thead>\n",
       "  <tbody>\n",
       "    <tr>\n",
       "      <th>0</th>\n",
       "      <td>3.605551</td>\n",
       "      <td>4.358899</td>\n",
       "      <td>3.316625</td>\n",
       "      <td>4.898980</td>\n",
       "      <td>5.000000</td>\n",
       "      <td>1.000000</td>\n",
       "      <td>2.449490</td>\n",
       "      <td>5.000000</td>\n",
       "      <td>2.449490</td>\n",
       "      <td>3.605551</td>\n",
       "      <td>...</td>\n",
       "      <td>3.162278</td>\n",
       "      <td>3.316625</td>\n",
       "      <td>3.872983</td>\n",
       "      <td>3.605551</td>\n",
       "      <td>2.645751</td>\n",
       "      <td>4.582576</td>\n",
       "      <td>3.605551</td>\n",
       "      <td>3.605551</td>\n",
       "      <td>1.000000</td>\n",
       "      <td>4.898980</td>\n",
       "    </tr>\n",
       "    <tr>\n",
       "      <th>1</th>\n",
       "      <td>4.898980</td>\n",
       "      <td>4.582576</td>\n",
       "      <td>3.605551</td>\n",
       "      <td>5.099020</td>\n",
       "      <td>5.196152</td>\n",
       "      <td>3.316625</td>\n",
       "      <td>3.464102</td>\n",
       "      <td>5.099020</td>\n",
       "      <td>2.828427</td>\n",
       "      <td>3.872983</td>\n",
       "      <td>...</td>\n",
       "      <td>4.123106</td>\n",
       "      <td>4.582576</td>\n",
       "      <td>4.000000</td>\n",
       "      <td>3.605551</td>\n",
       "      <td>3.605551</td>\n",
       "      <td>6.855655</td>\n",
       "      <td>5.099020</td>\n",
       "      <td>4.690416</td>\n",
       "      <td>3.605551</td>\n",
       "      <td>5.000000</td>\n",
       "    </tr>\n",
       "    <tr>\n",
       "      <th>2</th>\n",
       "      <td>5.196152</td>\n",
       "      <td>4.898980</td>\n",
       "      <td>3.605551</td>\n",
       "      <td>6.633250</td>\n",
       "      <td>5.196152</td>\n",
       "      <td>4.123106</td>\n",
       "      <td>3.872983</td>\n",
       "      <td>5.291502</td>\n",
       "      <td>3.464102</td>\n",
       "      <td>4.000000</td>\n",
       "      <td>...</td>\n",
       "      <td>4.582576</td>\n",
       "      <td>4.582576</td>\n",
       "      <td>4.795832</td>\n",
       "      <td>4.123106</td>\n",
       "      <td>3.872983</td>\n",
       "      <td>6.855655</td>\n",
       "      <td>5.196152</td>\n",
       "      <td>4.795832</td>\n",
       "      <td>5.477226</td>\n",
       "      <td>5.099020</td>\n",
       "    </tr>\n",
       "    <tr>\n",
       "      <th>3</th>\n",
       "      <td>5.196152</td>\n",
       "      <td>5.196152</td>\n",
       "      <td>4.000000</td>\n",
       "      <td>7.211102</td>\n",
       "      <td>5.291502</td>\n",
       "      <td>4.358899</td>\n",
       "      <td>3.872983</td>\n",
       "      <td>5.291502</td>\n",
       "      <td>4.358899</td>\n",
       "      <td>4.358899</td>\n",
       "      <td>...</td>\n",
       "      <td>4.582576</td>\n",
       "      <td>4.582576</td>\n",
       "      <td>5.567764</td>\n",
       "      <td>4.582576</td>\n",
       "      <td>4.000000</td>\n",
       "      <td>6.855655</td>\n",
       "      <td>5.385165</td>\n",
       "      <td>4.898980</td>\n",
       "      <td>5.477226</td>\n",
       "      <td>5.099020</td>\n",
       "    </tr>\n",
       "    <tr>\n",
       "      <th>4</th>\n",
       "      <td>5.477226</td>\n",
       "      <td>5.385165</td>\n",
       "      <td>5.567764</td>\n",
       "      <td>7.211102</td>\n",
       "      <td>5.385165</td>\n",
       "      <td>4.472136</td>\n",
       "      <td>4.123106</td>\n",
       "      <td>5.291502</td>\n",
       "      <td>6.633250</td>\n",
       "      <td>4.898980</td>\n",
       "      <td>...</td>\n",
       "      <td>4.582576</td>\n",
       "      <td>4.690416</td>\n",
       "      <td>6.082763</td>\n",
       "      <td>4.898980</td>\n",
       "      <td>4.242640</td>\n",
       "      <td>6.928203</td>\n",
       "      <td>5.385165</td>\n",
       "      <td>5.099020</td>\n",
       "      <td>5.656854</td>\n",
       "      <td>5.196152</td>\n",
       "    </tr>\n",
       "    <tr>\n",
       "      <th>...</th>\n",
       "      <td>...</td>\n",
       "      <td>...</td>\n",
       "      <td>...</td>\n",
       "      <td>...</td>\n",
       "      <td>...</td>\n",
       "      <td>...</td>\n",
       "      <td>...</td>\n",
       "      <td>...</td>\n",
       "      <td>...</td>\n",
       "      <td>...</td>\n",
       "      <td>...</td>\n",
       "      <td>...</td>\n",
       "      <td>...</td>\n",
       "      <td>...</td>\n",
       "      <td>...</td>\n",
       "      <td>...</td>\n",
       "      <td>...</td>\n",
       "      <td>...</td>\n",
       "      <td>...</td>\n",
       "      <td>...</td>\n",
       "      <td>...</td>\n",
       "    </tr>\n",
       "    <tr>\n",
       "      <th>3078</th>\n",
       "      <td>10.816654</td>\n",
       "      <td>11.224972</td>\n",
       "      <td>11.000000</td>\n",
       "      <td>11.313708</td>\n",
       "      <td>11.180340</td>\n",
       "      <td>11.401754</td>\n",
       "      <td>10.723805</td>\n",
       "      <td>11.489125</td>\n",
       "      <td>11.489125</td>\n",
       "      <td>10.862781</td>\n",
       "      <td>...</td>\n",
       "      <td>11.180340</td>\n",
       "      <td>10.677078</td>\n",
       "      <td>11.357817</td>\n",
       "      <td>11.489125</td>\n",
       "      <td>11.045361</td>\n",
       "      <td>11.180340</td>\n",
       "      <td>11.269427</td>\n",
       "      <td>11.090536</td>\n",
       "      <td>11.045361</td>\n",
       "      <td>11.090536</td>\n",
       "    </tr>\n",
       "    <tr>\n",
       "      <th>3079</th>\n",
       "      <td>10.816654</td>\n",
       "      <td>11.313708</td>\n",
       "      <td>11.401754</td>\n",
       "      <td>11.357817</td>\n",
       "      <td>11.180340</td>\n",
       "      <td>11.401754</td>\n",
       "      <td>11.000000</td>\n",
       "      <td>11.532562</td>\n",
       "      <td>11.532562</td>\n",
       "      <td>10.862781</td>\n",
       "      <td>...</td>\n",
       "      <td>11.224972</td>\n",
       "      <td>10.677078</td>\n",
       "      <td>11.532562</td>\n",
       "      <td>11.575837</td>\n",
       "      <td>11.090536</td>\n",
       "      <td>11.224972</td>\n",
       "      <td>11.269427</td>\n",
       "      <td>11.090536</td>\n",
       "      <td>11.045361</td>\n",
       "      <td>11.135529</td>\n",
       "    </tr>\n",
       "    <tr>\n",
       "      <th>3080</th>\n",
       "      <td>10.816654</td>\n",
       "      <td>11.313708</td>\n",
       "      <td>11.401754</td>\n",
       "      <td>11.357817</td>\n",
       "      <td>11.180340</td>\n",
       "      <td>11.401754</td>\n",
       "      <td>11.000000</td>\n",
       "      <td>11.575837</td>\n",
       "      <td>11.532562</td>\n",
       "      <td>10.862781</td>\n",
       "      <td>...</td>\n",
       "      <td>11.224972</td>\n",
       "      <td>10.770329</td>\n",
       "      <td>11.532562</td>\n",
       "      <td>11.789826</td>\n",
       "      <td>11.090536</td>\n",
       "      <td>11.269427</td>\n",
       "      <td>11.269427</td>\n",
       "      <td>11.090536</td>\n",
       "      <td>11.090536</td>\n",
       "      <td>11.135529</td>\n",
       "    </tr>\n",
       "    <tr>\n",
       "      <th>3081</th>\n",
       "      <td>10.816654</td>\n",
       "      <td>11.357817</td>\n",
       "      <td>11.401754</td>\n",
       "      <td>11.401754</td>\n",
       "      <td>11.180340</td>\n",
       "      <td>11.401754</td>\n",
       "      <td>11.000000</td>\n",
       "      <td>11.618950</td>\n",
       "      <td>11.532562</td>\n",
       "      <td>11.224972</td>\n",
       "      <td>...</td>\n",
       "      <td>11.224972</td>\n",
       "      <td>10.770329</td>\n",
       "      <td>11.532562</td>\n",
       "      <td>11.789826</td>\n",
       "      <td>11.090536</td>\n",
       "      <td>11.357817</td>\n",
       "      <td>11.269427</td>\n",
       "      <td>11.180340</td>\n",
       "      <td>11.090536</td>\n",
       "      <td>11.180340</td>\n",
       "    </tr>\n",
       "    <tr>\n",
       "      <th>3082</th>\n",
       "      <td>11.224972</td>\n",
       "      <td>11.401754</td>\n",
       "      <td>11.445523</td>\n",
       "      <td>11.958261</td>\n",
       "      <td>11.618950</td>\n",
       "      <td>11.489125</td>\n",
       "      <td>11.313708</td>\n",
       "      <td>11.704700</td>\n",
       "      <td>11.958261</td>\n",
       "      <td>11.789826</td>\n",
       "      <td>...</td>\n",
       "      <td>11.789826</td>\n",
       "      <td>11.135529</td>\n",
       "      <td>11.916375</td>\n",
       "      <td>11.789826</td>\n",
       "      <td>11.489125</td>\n",
       "      <td>11.958261</td>\n",
       "      <td>11.789826</td>\n",
       "      <td>11.747340</td>\n",
       "      <td>11.789826</td>\n",
       "      <td>11.832160</td>\n",
       "    </tr>\n",
       "  </tbody>\n",
       "</table>\n",
       "<p>3083 rows × 771 columns</p>\n",
       "</div>"
      ],
      "text/plain": [
       "            0          1          2          3          4          5    \\\n",
       "0      3.605551   4.358899   3.316625   4.898980   5.000000   1.000000   \n",
       "1      4.898980   4.582576   3.605551   5.099020   5.196152   3.316625   \n",
       "2      5.196152   4.898980   3.605551   6.633250   5.196152   4.123106   \n",
       "3      5.196152   5.196152   4.000000   7.211102   5.291502   4.358899   \n",
       "4      5.477226   5.385165   5.567764   7.211102   5.385165   4.472136   \n",
       "...         ...        ...        ...        ...        ...        ...   \n",
       "3078  10.816654  11.224972  11.000000  11.313708  11.180340  11.401754   \n",
       "3079  10.816654  11.313708  11.401754  11.357817  11.180340  11.401754   \n",
       "3080  10.816654  11.313708  11.401754  11.357817  11.180340  11.401754   \n",
       "3081  10.816654  11.357817  11.401754  11.401754  11.180340  11.401754   \n",
       "3082  11.224972  11.401754  11.445523  11.958261  11.618950  11.489125   \n",
       "\n",
       "            6          7          8          9    ...        761        762  \\\n",
       "0      2.449490   5.000000   2.449490   3.605551  ...   3.162278   3.316625   \n",
       "1      3.464102   5.099020   2.828427   3.872983  ...   4.123106   4.582576   \n",
       "2      3.872983   5.291502   3.464102   4.000000  ...   4.582576   4.582576   \n",
       "3      3.872983   5.291502   4.358899   4.358899  ...   4.582576   4.582576   \n",
       "4      4.123106   5.291502   6.633250   4.898980  ...   4.582576   4.690416   \n",
       "...         ...        ...        ...        ...  ...        ...        ...   \n",
       "3078  10.723805  11.489125  11.489125  10.862781  ...  11.180340  10.677078   \n",
       "3079  11.000000  11.532562  11.532562  10.862781  ...  11.224972  10.677078   \n",
       "3080  11.000000  11.575837  11.532562  10.862781  ...  11.224972  10.770329   \n",
       "3081  11.000000  11.618950  11.532562  11.224972  ...  11.224972  10.770329   \n",
       "3082  11.313708  11.704700  11.958261  11.789826  ...  11.789826  11.135529   \n",
       "\n",
       "            763        764        765        766        767        768  \\\n",
       "0      3.872983   3.605551   2.645751   4.582576   3.605551   3.605551   \n",
       "1      4.000000   3.605551   3.605551   6.855655   5.099020   4.690416   \n",
       "2      4.795832   4.123106   3.872983   6.855655   5.196152   4.795832   \n",
       "3      5.567764   4.582576   4.000000   6.855655   5.385165   4.898980   \n",
       "4      6.082763   4.898980   4.242640   6.928203   5.385165   5.099020   \n",
       "...         ...        ...        ...        ...        ...        ...   \n",
       "3078  11.357817  11.489125  11.045361  11.180340  11.269427  11.090536   \n",
       "3079  11.532562  11.575837  11.090536  11.224972  11.269427  11.090536   \n",
       "3080  11.532562  11.789826  11.090536  11.269427  11.269427  11.090536   \n",
       "3081  11.532562  11.789826  11.090536  11.357817  11.269427  11.180340   \n",
       "3082  11.916375  11.789826  11.489125  11.958261  11.789826  11.747340   \n",
       "\n",
       "            769        770  \n",
       "0      1.000000   4.898980  \n",
       "1      3.605551   5.000000  \n",
       "2      5.477226   5.099020  \n",
       "3      5.477226   5.099020  \n",
       "4      5.656854   5.196152  \n",
       "...         ...        ...  \n",
       "3078  11.045361  11.090536  \n",
       "3079  11.045361  11.135529  \n",
       "3080  11.090536  11.135529  \n",
       "3081  11.090536  11.180340  \n",
       "3082  11.789826  11.832160  \n",
       "\n",
       "[3083 rows x 771 columns]"
      ]
     },
     "execution_count": 37,
     "metadata": {},
     "output_type": "execute_result"
    }
   ],
   "source": [
    "x_ts_AD=pd.DataFrame(neighbors_k_ts)\n",
    "x_ts_AD"
   ]
  },
  {
   "cell_type": "code",
   "execution_count": 38,
   "metadata": {},
   "outputs": [
    {
     "name": "stdout",
     "output_type": "stream",
     "text": [
      "[3.606 4.359 3.317 4.899 5.    1.    2.449 5.    2.449 3.606 3.464 2.828\n",
      " 6.928 3.162 0.    4.123 1.    5.    3.162 4.123 2.646 3.162 4.899 4.359\n",
      " 6.    2.828 3.464 4.583 3.317 4.    3.742 7.    3.606 4.    4.243 3.606\n",
      " 3.873 3.873 3.317 3.606 4.    1.    3.317 4.472 2.646 4.359 2.828 2.828\n",
      " 3.162 3.464 3.873 3.464 5.916 3.162 4.359 1.732 3.    3.606 6.481 3.742\n",
      " 3.606 3.742 3.464 2.828 5.099 4.123 3.162 3.464 3.    3.606 3.742 3.162\n",
      " 1.    4.899 4.472 3.464 3.    4.472 6.856 1.    3.606 4.359 3.742 3.606\n",
      " 5.831 3.464 4.359 2.    4.69  1.    2.    4.69  3.742 4.69  2.646 4.583\n",
      " 3.742 3.162 1.414 3.464 1.414 6.481 0.    4.    2.646 4.359 2.828 3.873\n",
      " 3.162 3.464 1.    3.606 4.359 3.    3.464 3.317 2.449 2.236 3.317 1.\n",
      " 3.606 2.236 0.    4.243 4.243 3.742 3.464 4.243 4.583 2.449 3.873 0.\n",
      " 2.828 2.449 3.873 1.732 5.099 3.464 0.    2.449 3.317 3.    3.606 0.\n",
      " 3.    4.    0.    2.    3.606 1.414 3.742 1.414 4.    5.477 2.828 4.\n",
      " 4.123 4.    4.899 0.    3.742 3.    3.873 3.162 3.464 0.    2.    5.196\n",
      " 3.873 2.236 3.    5.196 2.646 4.123 2.236 3.    2.646 4.899 5.    5.\n",
      " 4.243 0.    2.236 3.464 3.464 2.646 5.657 3.317 2.828 3.464 3.    3.162\n",
      " 4.243 3.606 5.099 0.    3.464 3.464 3.873 4.    0.    3.742 3.464 1.732\n",
      " 1.    3.606 3.317 3.464 2.236 3.464 2.646 3.    2.828 4.796 3.742 4.243\n",
      " 4.243 3.    3.742 1.732 1.    2.    4.243 2.646 3.873 3.317 2.828 4.243\n",
      " 2.828 4.472 3.464 3.873 3.873 3.162 4.796 4.123 4.    2.    2.449 0.\n",
      " 2.236 2.828 4.359 5.292 3.464 3.317 2.828 5.196 0.    2.449 3.742 3.317\n",
      " 3.606 2.236 1.732 3.    1.732 1.732 3.873 3.606 5.385 3.742 3.    4.243\n",
      " 2.236 2.828 0.    4.583 3.464 4.123 3.606 2.828 5.    3.317 3.873 3.317\n",
      " 3.162 4.69  0.    2.646 2.    1.    3.317 4.243 3.162 3.162 2.828 4.123\n",
      " 3.464 0.    0.    3.317 2.    2.236 3.317 2.449 1.732 3.464 2.828 3.873\n",
      " 3.162 4.69  2.828 4.472 4.359 3.    3.606 4.583 4.472 1.732 3.    3.162\n",
      " 2.    4.472 3.606 2.449 1.414 0.    4.359 4.583 0.    3.464 4.472 4.796\n",
      " 2.646 4.    4.    3.317 3.317 3.606 4.    4.123 3.162 5.657 0.    3.742\n",
      " 3.317 0.    4.243 4.243 3.162 3.317 3.162 3.873 0.    3.317 2.828 3.873\n",
      " 3.    3.606 1.732 5.    7.28  4.472 3.317 3.742 2.828 4.123 4.    3.162\n",
      " 3.742 6.083 4.899 4.359 3.162 3.742 2.236 3.317 3.162 2.449 3.742 3.\n",
      " 3.162 3.742 3.    3.317 1.    4.123 1.    2.828 2.828 5.    4.899 3.464\n",
      " 3.464 2.828 4.    3.    0.    3.    4.243 3.317 2.646 4.123 2.236 3.606\n",
      " 3.464 2.236 4.359 1.732 3.    0.    4.    2.449 4.899 4.583 1.732 3.606\n",
      " 3.162 3.873 1.    4.243 4.243 3.317 2.828 1.    5.292 3.    3.162 4.359\n",
      " 3.606 9.22  3.464 2.828 4.    3.464 3.464 3.464 3.464 4.243 3.317 3.317\n",
      " 3.317 3.464 4.123 3.317 0.    3.317 3.464 3.873 4.    3.606 1.732 3.742\n",
      " 3.464 1.732 3.317 6.481 2.    1.    4.359 0.    4.359 3.606 4.359 3.162\n",
      " 4.    3.162 3.    1.    3.606 3.606 0.    4.69  2.449 3.742 0.    4.472\n",
      " 4.69  4.583 6.325 3.464 0.    3.162 0.    3.162 2.828 3.464 0.    3.162\n",
      " 5.196 4.243 0.    2.828 4.69  3.    2.449 3.464 3.742 3.162 3.162 2.449\n",
      " 3.606 4.    0.    5.099 4.123 0.    3.317 2.    3.464 6.708 4.    0.\n",
      " 1.732 3.606 3.    4.359 2.828 3.317 4.243 4.583 0.    3.317 0.    3.162\n",
      " 4.123 3.742 3.317 0.    3.742 3.464 5.196 3.873 3.162 3.873 3.162 6.325\n",
      " 3.606 3.    3.317 3.606 2.646 4.243 3.873 0.    2.236 3.606 5.099 2.646\n",
      " 3.464 3.606 3.317 3.464 1.    3.317 4.    5.    2.828 2.828 0.    4.\n",
      " 3.162 3.606 3.    3.742 2.828 2.828 3.873 5.292 0.    2.236 2.646 5.831\n",
      " 3.162 3.606 1.    0.    3.    4.    3.606 0.    2.449 3.606 3.464 3.606\n",
      " 3.    0.    3.742 1.    1.414 0.    4.    4.359 4.123 0.    0.    5.\n",
      " 3.606 3.    2.828 6.557 5.745 4.    5.    4.899 0.    0.    2.449 3.317\n",
      " 0.    4.359 2.828 3.873 3.317 3.317 4.123 2.449 3.464 3.    4.359 3.464\n",
      " 4.    3.162 7.746 3.873 3.317 0.    3.162 6.    5.292 4.123 2.828 2.449\n",
      " 3.317 0.    0.    3.    3.873 4.    4.123 2.828 0.    0.    4.123 4.69\n",
      " 3.317 3.162 4.    0.    3.742 2.449 2.449 4.359 3.    4.    3.    2.828\n",
      " 5.831 3.317 3.742 1.732 2.828 4.899 3.873 2.828 3.162 3.162 1.    4.243\n",
      " 2.828 4.359 2.646 3.742 4.472 3.162 2.828 3.162 3.317 4.796 3.742 3.\n",
      " 3.162 4.    4.123 1.414 3.606 3.873 4.243 4.243 3.742 1.    5.831 3.464\n",
      " 4.243 3.742 4.359 2.449 4.    3.    3.317 3.606 2.646 4.583 0.    2.828\n",
      " 0.    6.481 4.899 4.69  4.359 3.162 3.464 3.464 1.    3.317 4.    2.646\n",
      " 4.359 2.236 2.236 5.196 3.    3.162 5.    4.    3.873 3.606 3.    2.449\n",
      " 3.317 3.464 2.646 3.162 3.742 3.162 3.162 0.    3.464 3.606 2.236 4.\n",
      " 3.    3.742 2.828 5.196 3.606 3.464 3.742 3.873 3.606 3.162 0.    7.55\n",
      " 2.    2.449 3.742 4.    3.464 2.828 2.646 4.796 4.123 4.    3.    3.317\n",
      " 4.899 3.162 3.317 4.    4.69  3.162 3.317 3.873 3.606 2.646 4.583 3.606\n",
      " 3.606 1.    4.899]\n"
     ]
    }
   ],
   "source": [
    "similarity_ts= neighbors_k_ts\n",
    "cpd_AD=similarity_ts[0,:]\n",
    "cpd_value = np.round(cpd_AD, 3)\n",
    "print(cpd_value)"
   ]
  },
  {
   "cell_type": "code",
   "execution_count": 39,
   "metadata": {},
   "outputs": [
    {
     "name": "stdout",
     "output_type": "stream",
     "text": [
      "[ True False  True False False  True  True False  True  True  True  True\n",
      " False  True  True False  True False  True False  True  True False False\n",
      " False  True  True False  True False  True False  True False False  True\n",
      "  True  True  True  True False  True  True False  True False  True  True\n",
      "  True  True  True  True False  True False  True  True  True False  True\n",
      "  True  True  True  True False False  True  True  True  True  True  True\n",
      "  True False False  True  True False False  True  True False  True  True\n",
      " False  True False  True False  True  True False  True False  True False\n",
      "  True  True  True  True  True False  True False  True False  True  True\n",
      "  True  True  True  True False  True  True  True  True  True  True  True\n",
      "  True  True  True False False  True  True False False  True  True  True\n",
      "  True  True  True  True False  True  True  True  True  True  True  True\n",
      "  True False  True  True  True  True  True  True False False  True False\n",
      " False False False  True  True  True  True  True  True  True  True False\n",
      "  True  True  True False  True False  True  True  True False False False\n",
      " False  True  True  True  True  True False  True  True  True  True  True\n",
      " False  True False  True  True  True  True False  True  True  True  True\n",
      "  True  True  True  True  True  True  True  True  True False  True False\n",
      " False  True  True  True  True  True False  True  True  True  True False\n",
      "  True False  True  True  True  True False False False  True  True  True\n",
      "  True  True False False  True  True  True False  True  True  True  True\n",
      "  True  True  True  True  True  True  True  True False  True  True False\n",
      "  True  True  True False  True False  True  True False  True  True  True\n",
      "  True False  True  True  True  True  True False  True  True  True False\n",
      "  True  True  True  True  True  True  True  True  True  True  True  True\n",
      "  True False  True False False  True  True False False  True  True  True\n",
      "  True False  True  True  True  True False False  True  True False False\n",
      "  True False False  True  True  True False False  True False  True  True\n",
      "  True  True False False  True  True  True  True  True  True  True  True\n",
      "  True  True  True False False False  True  True  True False False  True\n",
      "  True False False False  True  True  True  True  True  True  True  True\n",
      "  True  True  True  True  True False  True  True  True False False  True\n",
      "  True  True False  True  True  True False  True  True False  True  True\n",
      "  True  True False  True  True  True False  True False False  True  True\n",
      "  True  True  True False False  True  True  True False  True  True False\n",
      "  True False  True  True False  True  True  True  True False  True  True\n",
      "  True  True False  True  True  True  True  True False  True  True  True\n",
      "  True  True  True False  True  True False  True False  True False  True\n",
      " False  True  True  True  True  True  True False  True  True  True False\n",
      " False False False  True  True  True  True  True  True  True  True  True\n",
      " False False  True  True False  True  True  True  True  True  True  True\n",
      "  True False  True False False  True  True  True  True False False  True\n",
      "  True  True  True False  True  True False False  True  True  True  True\n",
      " False  True  True  True  True  True False  True  True  True  True False\n",
      "  True  True  True  True  True False  True  True  True  True False  True\n",
      "  True  True  True  True  True  True False False  True  True  True False\n",
      "  True  True  True  True  True  True  True False  True  True  True False\n",
      "  True  True  True  True  True False  True  True  True  True  True  True\n",
      "  True  True  True  True  True  True False False False  True  True False\n",
      "  True  True  True False False False False False  True  True  True  True\n",
      "  True False  True  True  True  True False  True  True  True False  True\n",
      " False  True False  True  True  True  True False False False  True  True\n",
      "  True  True  True  True  True False False  True  True  True False False\n",
      "  True  True False  True  True  True  True False  True False  True  True\n",
      " False  True  True  True  True False  True  True  True  True  True False\n",
      "  True False  True  True False  True  True  True  True False  True  True\n",
      "  True False False  True  True  True False False  True  True False  True\n",
      " False  True False  True False  True  True  True  True False  True  True\n",
      "  True False False False False  True  True  True  True  True False  True\n",
      " False  True  True False  True  True False False  True  True  True  True\n",
      "  True  True  True  True  True  True  True  True  True  True  True False\n",
      "  True  True  True False  True  True  True  True  True  True  True False\n",
      "  True  True  True False  True  True  True False False False  True  True\n",
      " False  True  True False False  True  True  True  True  True False  True\n",
      "  True  True False]\n"
     ]
    }
   ],
   "source": [
    "cpd_AD = np.where(cpd_value <= model_AD_limit, True, False)\n",
    "print(cpd_AD)"
   ]
  },
  {
   "cell_type": "code",
   "execution_count": 40,
   "metadata": {},
   "outputs": [
    {
     "name": "stdout",
     "output_type": "stream",
     "text": [
      "Coverage =  0.72\n"
     ]
    }
   ],
   "source": [
    "print(\"Coverage = \", round(sum(cpd_AD) / len(cpd_AD), 2))"
   ]
  },
  {
   "cell_type": "code",
   "execution_count": 41,
   "metadata": {},
   "outputs": [
    {
     "name": "stdout",
     "output_type": "stream",
     "text": [
      "Indices of substances included in AD =  [  0   2   5   6   8   9  10  11  13  14  16  18  20  21  25  26  28  30\n",
      "  32  35  36  37  38  39  41  42  44  46  47  48  49  50  51  53  55  56\n",
      "  57  59  60  61  62  63  66  67  68  69  70  71  72  75  76  79  80  82\n",
      "  83  85  87  89  90  92  94  96  97  98  99 100 102 104 106 107 108 109\n",
      " 110 111 113 114 115 116 117 118 119 120 121 122 125 126 129 130 131 132\n",
      " 133 134 135 137 138 139 140 141 142 143 144 146 147 148 149 150 151 154\n",
      " 159 160 161 162 163 164 165 166 168 169 170 172 174 175 176 181 182 183\n",
      " 184 185 187 188 189 190 191 193 195 196 197 198 200 201 202 203 204 205\n",
      " 206 207 208 209 210 211 212 214 217 218 219 220 221 223 224 225 226 228\n",
      " 230 231 232 233 237 238 239 240 241 244 245 246 248 249 250 251 252 253\n",
      " 254 255 256 257 258 259 261 262 264 265 266 268 270 271 273 274 275 276\n",
      " 278 279 280 281 282 284 285 286 288 289 290 291 292 293 294 295 296 297\n",
      " 298 299 300 302 305 306 309 310 311 312 314 315 316 317 320 321 324 327\n",
      " 328 329 332 334 335 336 337 340 341 342 343 344 345 346 347 348 349 350\n",
      " 354 355 356 359 360 364 365 366 367 368 369 370 371 372 373 374 375 376\n",
      " 378 379 380 383 384 385 387 388 389 391 392 394 395 396 397 399 400 401\n",
      " 403 406 407 408 409 410 413 414 415 417 418 420 422 423 425 426 427 428\n",
      " 430 431 432 433 435 436 437 438 439 441 442 443 444 445 446 448 449 451\n",
      " 453 455 457 458 459 460 461 462 464 465 466 471 472 473 474 475 476 477\n",
      " 478 479 482 483 485 486 487 488 489 490 491 492 494 497 498 499 500 503\n",
      " 504 505 506 508 509 512 513 514 515 517 518 519 520 521 523 524 525 526\n",
      " 528 529 530 531 532 534 535 536 537 539 540 541 542 543 544 545 548 549\n",
      " 550 552 553 554 555 556 557 558 560 561 562 564 565 566 567 568 570 571\n",
      " 572 573 574 575 576 577 578 579 580 581 585 586 588 589 590 596 597 598\n",
      " 599 600 602 603 604 605 607 608 609 611 613 615 616 617 618 622 623 624\n",
      " 625 626 627 628 631 632 633 636 637 639 640 641 642 644 646 647 649 650\n",
      " 651 652 654 655 656 657 658 660 662 663 665 666 667 668 670 671 672 675\n",
      " 676 677 680 681 683 685 687 689 690 691 692 694 695 696 701 702 703 704\n",
      " 705 707 709 710 712 713 716 717 718 719 720 721 722 723 724 725 726 727\n",
      " 728 729 730 732 733 734 736 737 738 739 740 741 742 744 745 746 748 749\n",
      " 750 754 755 757 758 761 762 763 764 765 767 768 769]\n"
     ]
    }
   ],
   "source": [
    "print(\"Indices of substances included in AD = \", np.where(cpd_AD != 0)[0])"
   ]
  },
  {
   "cell_type": "code",
   "execution_count": 42,
   "metadata": {},
   "outputs": [],
   "source": [
    "out_Ad=list(np.where(cpd_AD == 0)[0])"
   ]
  },
  {
   "cell_type": "markdown",
   "metadata": {},
   "source": [
    "# 12. Prediction only for molecules included in  AD"
   ]
  },
  {
   "cell_type": "code",
   "execution_count": 43,
   "metadata": {},
   "outputs": [],
   "source": [
    "y_pred_MLPR_ad=list(y_pred_MLPR)"
   ]
  },
  {
   "cell_type": "code",
   "execution_count": 44,
   "metadata": {},
   "outputs": [],
   "source": [
    "y_pred_MLPR_ad[:] = [x for i,x in enumerate(y_pred_MLPR_ad) if i not in out_Ad]"
   ]
  },
  {
   "cell_type": "code",
   "execution_count": 45,
   "metadata": {},
   "outputs": [
    {
     "data": {
      "text/plain": [
       "553"
      ]
     },
     "execution_count": 45,
     "metadata": {},
     "output_type": "execute_result"
    }
   ],
   "source": [
    "len(y_pred_MLPR_ad)"
   ]
  },
  {
   "cell_type": "code",
   "execution_count": 46,
   "metadata": {},
   "outputs": [],
   "source": [
    "y_ts_ad=list(y_ts)"
   ]
  },
  {
   "cell_type": "code",
   "execution_count": 47,
   "metadata": {},
   "outputs": [],
   "source": [
    "y_ts_ad[:] = [x for i,x in enumerate(y_ts_ad) if i not in out_Ad]"
   ]
  },
  {
   "cell_type": "code",
   "execution_count": 48,
   "metadata": {},
   "outputs": [
    {
     "data": {
      "text/plain": [
       "553"
      ]
     },
     "execution_count": 48,
     "metadata": {},
     "output_type": "execute_result"
    }
   ],
   "source": [
    "len(y_ts_ad)"
   ]
  },
  {
   "cell_type": "code",
   "execution_count": 49,
   "metadata": {},
   "outputs": [
    {
     "data": {
      "text/plain": [
       "0.69"
      ]
     },
     "execution_count": 49,
     "metadata": {},
     "output_type": "execute_result"
    }
   ],
   "source": [
    "Q2_TS = round(r2_score(y_ts_ad, y_pred_MLPR_ad), 2)\n",
    "Q2_TS"
   ]
  },
  {
   "cell_type": "code",
   "execution_count": 50,
   "metadata": {
    "scrolled": true
   },
   "outputs": [
    {
     "data": {
      "text/plain": [
       "0.66"
      ]
     },
     "execution_count": 50,
     "metadata": {},
     "output_type": "execute_result"
    }
   ],
   "source": [
    "RMSE_TS=round(np.sqrt(mean_absolute_error(y_ts_ad, y_pred_MLPR_ad)), 2)\n",
    "RMSE_TS"
   ]
  },
  {
   "cell_type": "code",
   "execution_count": null,
   "metadata": {},
   "outputs": [],
   "source": []
  },
  {
   "cell_type": "markdown",
   "metadata": {},
   "source": [
    "# k-nearest neighbors"
   ]
  },
  {
   "cell_type": "code",
   "execution_count": 140,
   "metadata": {},
   "outputs": [],
   "source": [
    "k_range = list(range(1, 31))\n",
    "param_grid = dict(n_neighbors=k_range)"
   ]
  },
  {
   "cell_type": "code",
   "execution_count": 141,
   "metadata": {},
   "outputs": [],
   "source": [
    "m = GridSearchCV(KNeighborsRegressor(), param_grid, n_jobs=-1, cv=cv, verbose=1)"
   ]
  },
  {
   "cell_type": "code",
   "execution_count": 142,
   "metadata": {},
   "outputs": [
    {
     "name": "stdout",
     "output_type": "stream",
     "text": [
      "Fitting 5 folds for each of 30 candidates, totalling 150 fits\n"
     ]
    },
    {
     "data": {
      "text/html": [
       "<style>#sk-container-id-3 {color: black;}#sk-container-id-3 pre{padding: 0;}#sk-container-id-3 div.sk-toggleable {background-color: white;}#sk-container-id-3 label.sk-toggleable__label {cursor: pointer;display: block;width: 100%;margin-bottom: 0;padding: 0.3em;box-sizing: border-box;text-align: center;}#sk-container-id-3 label.sk-toggleable__label-arrow:before {content: \"▸\";float: left;margin-right: 0.25em;color: #696969;}#sk-container-id-3 label.sk-toggleable__label-arrow:hover:before {color: black;}#sk-container-id-3 div.sk-estimator:hover label.sk-toggleable__label-arrow:before {color: black;}#sk-container-id-3 div.sk-toggleable__content {max-height: 0;max-width: 0;overflow: hidden;text-align: left;background-color: #f0f8ff;}#sk-container-id-3 div.sk-toggleable__content pre {margin: 0.2em;color: black;border-radius: 0.25em;background-color: #f0f8ff;}#sk-container-id-3 input.sk-toggleable__control:checked~div.sk-toggleable__content {max-height: 200px;max-width: 100%;overflow: auto;}#sk-container-id-3 input.sk-toggleable__control:checked~label.sk-toggleable__label-arrow:before {content: \"▾\";}#sk-container-id-3 div.sk-estimator input.sk-toggleable__control:checked~label.sk-toggleable__label {background-color: #d4ebff;}#sk-container-id-3 div.sk-label input.sk-toggleable__control:checked~label.sk-toggleable__label {background-color: #d4ebff;}#sk-container-id-3 input.sk-hidden--visually {border: 0;clip: rect(1px 1px 1px 1px);clip: rect(1px, 1px, 1px, 1px);height: 1px;margin: -1px;overflow: hidden;padding: 0;position: absolute;width: 1px;}#sk-container-id-3 div.sk-estimator {font-family: monospace;background-color: #f0f8ff;border: 1px dotted black;border-radius: 0.25em;box-sizing: border-box;margin-bottom: 0.5em;}#sk-container-id-3 div.sk-estimator:hover {background-color: #d4ebff;}#sk-container-id-3 div.sk-parallel-item::after {content: \"\";width: 100%;border-bottom: 1px solid gray;flex-grow: 1;}#sk-container-id-3 div.sk-label:hover label.sk-toggleable__label {background-color: #d4ebff;}#sk-container-id-3 div.sk-serial::before {content: \"\";position: absolute;border-left: 1px solid gray;box-sizing: border-box;top: 0;bottom: 0;left: 50%;z-index: 0;}#sk-container-id-3 div.sk-serial {display: flex;flex-direction: column;align-items: center;background-color: white;padding-right: 0.2em;padding-left: 0.2em;position: relative;}#sk-container-id-3 div.sk-item {position: relative;z-index: 1;}#sk-container-id-3 div.sk-parallel {display: flex;align-items: stretch;justify-content: center;background-color: white;position: relative;}#sk-container-id-3 div.sk-item::before, #sk-container-id-3 div.sk-parallel-item::before {content: \"\";position: absolute;border-left: 1px solid gray;box-sizing: border-box;top: 0;bottom: 0;left: 50%;z-index: -1;}#sk-container-id-3 div.sk-parallel-item {display: flex;flex-direction: column;z-index: 1;position: relative;background-color: white;}#sk-container-id-3 div.sk-parallel-item:first-child::after {align-self: flex-end;width: 50%;}#sk-container-id-3 div.sk-parallel-item:last-child::after {align-self: flex-start;width: 50%;}#sk-container-id-3 div.sk-parallel-item:only-child::after {width: 0;}#sk-container-id-3 div.sk-dashed-wrapped {border: 1px dashed gray;margin: 0 0.4em 0.5em 0.4em;box-sizing: border-box;padding-bottom: 0.4em;background-color: white;}#sk-container-id-3 div.sk-label label {font-family: monospace;font-weight: bold;display: inline-block;line-height: 1.2em;}#sk-container-id-3 div.sk-label-container {text-align: center;}#sk-container-id-3 div.sk-container {/* jupyter's `normalize.less` sets `[hidden] { display: none; }` but bootstrap.min.css set `[hidden] { display: none !important; }` so we also need the `!important` here to be able to override the default hidden behavior on the sphinx rendered scikit-learn.org. See: https://github.com/scikit-learn/scikit-learn/issues/21755 */display: inline-block !important;position: relative;}#sk-container-id-3 div.sk-text-repr-fallback {display: none;}</style><div id=\"sk-container-id-3\" class=\"sk-top-container\"><div class=\"sk-text-repr-fallback\"><pre>GridSearchCV(cv=KFold(n_splits=5, random_state=42, shuffle=True),\n",
       "             estimator=KNeighborsRegressor(), n_jobs=-1,\n",
       "             param_grid={&#x27;n_neighbors&#x27;: [1, 2, 3, 4, 5, 6, 7, 8, 9, 10, 11, 12,\n",
       "                                         13, 14, 15, 16, 17, 18, 19, 20, 21, 22,\n",
       "                                         23, 24, 25, 26, 27, 28, 29, 30]},\n",
       "             verbose=1)</pre><b>In a Jupyter environment, please rerun this cell to show the HTML representation or trust the notebook. <br />On GitHub, the HTML representation is unable to render, please try loading this page with nbviewer.org.</b></div><div class=\"sk-container\" hidden><div class=\"sk-item sk-dashed-wrapped\"><div class=\"sk-label-container\"><div class=\"sk-label sk-toggleable\"><input class=\"sk-toggleable__control sk-hidden--visually\" id=\"sk-estimator-id-7\" type=\"checkbox\" ><label for=\"sk-estimator-id-7\" class=\"sk-toggleable__label sk-toggleable__label-arrow\">GridSearchCV</label><div class=\"sk-toggleable__content\"><pre>GridSearchCV(cv=KFold(n_splits=5, random_state=42, shuffle=True),\n",
       "             estimator=KNeighborsRegressor(), n_jobs=-1,\n",
       "             param_grid={&#x27;n_neighbors&#x27;: [1, 2, 3, 4, 5, 6, 7, 8, 9, 10, 11, 12,\n",
       "                                         13, 14, 15, 16, 17, 18, 19, 20, 21, 22,\n",
       "                                         23, 24, 25, 26, 27, 28, 29, 30]},\n",
       "             verbose=1)</pre></div></div></div><div class=\"sk-parallel\"><div class=\"sk-parallel-item\"><div class=\"sk-item\"><div class=\"sk-label-container\"><div class=\"sk-label sk-toggleable\"><input class=\"sk-toggleable__control sk-hidden--visually\" id=\"sk-estimator-id-8\" type=\"checkbox\" ><label for=\"sk-estimator-id-8\" class=\"sk-toggleable__label sk-toggleable__label-arrow\">estimator: KNeighborsRegressor</label><div class=\"sk-toggleable__content\"><pre>KNeighborsRegressor()</pre></div></div></div><div class=\"sk-serial\"><div class=\"sk-item\"><div class=\"sk-estimator sk-toggleable\"><input class=\"sk-toggleable__control sk-hidden--visually\" id=\"sk-estimator-id-9\" type=\"checkbox\" ><label for=\"sk-estimator-id-9\" class=\"sk-toggleable__label sk-toggleable__label-arrow\">KNeighborsRegressor</label><div class=\"sk-toggleable__content\"><pre>KNeighborsRegressor()</pre></div></div></div></div></div></div></div></div></div></div>"
      ],
      "text/plain": [
       "GridSearchCV(cv=KFold(n_splits=5, random_state=42, shuffle=True),\n",
       "             estimator=KNeighborsRegressor(), n_jobs=-1,\n",
       "             param_grid={'n_neighbors': [1, 2, 3, 4, 5, 6, 7, 8, 9, 10, 11, 12,\n",
       "                                         13, 14, 15, 16, 17, 18, 19, 20, 21, 22,\n",
       "                                         23, 24, 25, 26, 27, 28, 29, 30]},\n",
       "             verbose=1)"
      ]
     },
     "execution_count": 142,
     "metadata": {},
     "output_type": "execute_result"
    }
   ],
   "source": [
    "m.fit(x_tr, y_tr)"
   ]
  },
  {
   "cell_type": "code",
   "execution_count": 143,
   "metadata": {},
   "outputs": [],
   "source": [
    "best_kNN = m.best_estimator_"
   ]
  },
  {
   "cell_type": "code",
   "execution_count": 144,
   "metadata": {},
   "outputs": [
    {
     "data": {
      "text/plain": [
       "{'n_neighbors': 3}"
      ]
     },
     "execution_count": 144,
     "metadata": {},
     "output_type": "execute_result"
    }
   ],
   "source": [
    "m.best_params_"
   ]
  },
  {
   "cell_type": "code",
   "execution_count": 145,
   "metadata": {},
   "outputs": [],
   "source": [
    "y_pred_ws_kNN = best_kNN.predict(x_tr)"
   ]
  },
  {
   "cell_type": "code",
   "execution_count": 146,
   "metadata": {},
   "outputs": [
    {
     "data": {
      "text/plain": [
       "0.82"
      ]
     },
     "execution_count": 146,
     "metadata": {},
     "output_type": "execute_result"
    }
   ],
   "source": [
    "R2_WS = round(r2_score(y_tr, y_pred_ws_kNN), 2)\n",
    "R2_WS"
   ]
  },
  {
   "cell_type": "code",
   "execution_count": 147,
   "metadata": {},
   "outputs": [
    {
     "data": {
      "text/plain": [
       "0.58"
      ]
     },
     "execution_count": 147,
     "metadata": {},
     "output_type": "execute_result"
    }
   ],
   "source": [
    "RMSE_WS=round(np.sqrt(mean_absolute_error(y_tr, y_pred_ws_kNN)), 2)\n",
    "RMSE_WS"
   ]
  },
  {
   "cell_type": "code",
   "execution_count": 148,
   "metadata": {},
   "outputs": [],
   "source": [
    "y_pred_CV_kNN = cross_val_predict(best_kNN, x_tr, y_tr, cv=cv)"
   ]
  },
  {
   "cell_type": "code",
   "execution_count": 149,
   "metadata": {},
   "outputs": [
    {
     "data": {
      "text/plain": [
       "array([4.605    , 5.343333 , 5.343333 , ..., 7.4083333, 7.39     ,\n",
       "       7.6666665], dtype=float32)"
      ]
     },
     "execution_count": 149,
     "metadata": {},
     "output_type": "execute_result"
    }
   ],
   "source": [
    "y_pred_CV_kNN"
   ]
  },
  {
   "cell_type": "code",
   "execution_count": 150,
   "metadata": {},
   "outputs": [
    {
     "data": {
      "text/plain": [
       "0.6"
      ]
     },
     "execution_count": 150,
     "metadata": {},
     "output_type": "execute_result"
    }
   ],
   "source": [
    "Q2_CV = round(r2_score(y_tr, y_pred_CV_kNN), 2)\n",
    "Q2_CV"
   ]
  },
  {
   "cell_type": "code",
   "execution_count": 151,
   "metadata": {},
   "outputs": [
    {
     "data": {
      "text/plain": [
       "0.71"
      ]
     },
     "execution_count": 151,
     "metadata": {},
     "output_type": "execute_result"
    }
   ],
   "source": [
    "RMSE_CV=round(np.sqrt(mean_absolute_error(y_tr, y_pred_CV_kNN)), 2)\n",
    "RMSE_CV"
   ]
  },
  {
   "cell_type": "markdown",
   "metadata": {},
   "source": [
    "# 9. Prediction for test set's molecules"
   ]
  },
  {
   "cell_type": "code",
   "execution_count": 152,
   "metadata": {},
   "outputs": [],
   "source": [
    "x_ts = np.array(x_ts, dtype=np.float32)\n",
    "y_ts = np.array(y_ts, dtype=np.float32)"
   ]
  },
  {
   "cell_type": "code",
   "execution_count": 153,
   "metadata": {},
   "outputs": [],
   "source": [
    "y_pred_kNN = best_kNN.predict(x_ts)"
   ]
  },
  {
   "cell_type": "code",
   "execution_count": 154,
   "metadata": {},
   "outputs": [
    {
     "data": {
      "text/plain": [
       "0.6"
      ]
     },
     "execution_count": 154,
     "metadata": {},
     "output_type": "execute_result"
    }
   ],
   "source": [
    "Q2_TS = round(r2_score(y_ts, y_pred_kNN), 2)\n",
    "Q2_TS"
   ]
  },
  {
   "cell_type": "code",
   "execution_count": 155,
   "metadata": {},
   "outputs": [
    {
     "data": {
      "text/plain": [
       "0.7"
      ]
     },
     "execution_count": 155,
     "metadata": {},
     "output_type": "execute_result"
    }
   ],
   "source": [
    "RMSE_TS=round(np.sqrt(mean_absolute_error(y_ts, y_pred_kNN)), 2)\n",
    "RMSE_TS"
   ]
  },
  {
   "cell_type": "markdown",
   "metadata": {},
   "source": [
    "# save the model to disk"
   ]
  },
  {
   "cell_type": "code",
   "execution_count": 156,
   "metadata": {},
   "outputs": [],
   "source": [
    "pickle.dump(best_kNN, open('Models/Morgan_fingerprint/HDAC6_kNN_MF.pkl', 'wb'))"
   ]
  },
  {
   "cell_type": "markdown",
   "metadata": {},
   "source": [
    "# load the model from disk"
   ]
  },
  {
   "cell_type": "code",
   "execution_count": 138,
   "metadata": {},
   "outputs": [],
   "source": [
    "best_kNN = pickle.load(open('Models/Morgan_fingerprint/HDAC6_kNN_MF.pkl', 'rb'))"
   ]
  },
  {
   "cell_type": "markdown",
   "metadata": {},
   "source": [
    "# 10. Y-randomization MLPR"
   ]
  },
  {
   "cell_type": "code",
   "execution_count": 145,
   "metadata": {},
   "outputs": [
    {
     "name": "stderr",
     "output_type": "stream",
     "text": [
      "[Parallel(n_jobs=-1)]: Using backend LokyBackend with 16 concurrent workers.\n",
      "[Parallel(n_jobs=-1)]: Done  18 tasks      | elapsed:    4.4s\n"
     ]
    },
    {
     "name": "stdout",
     "output_type": "stream",
     "text": [
      "True score =  0.59 \n",
      "Y-randomization =  -0.34 \n",
      "p-value =  0.0196\n"
     ]
    },
    {
     "name": "stderr",
     "output_type": "stream",
     "text": [
      "[Parallel(n_jobs=-1)]: Done  50 out of  50 | elapsed:    7.6s finished\n"
     ]
    }
   ],
   "source": [
    "permutations = 50\n",
    "score, permutation_scores, pvalue = permutation_test_score(best_kNN, x_tr, y_tr,\n",
    "                                                           cv=cv, scoring='r2',\n",
    "                                                           n_permutations=permutations,\n",
    "                                                           n_jobs=-1,\n",
    "                                                           verbose=1,\n",
    "                                                           random_state=seed)\n",
    "print('True score = ', score.round(2),\n",
    "      '\\nY-randomization = ', np.mean(permutation_scores).round(2),\n",
    "      '\\np-value = ', pvalue.round(4))"
   ]
  },
  {
   "cell_type": "markdown",
   "metadata": {},
   "source": [
    "# 11. Estimating applicability domain. Method - Euclidian distances, K=1"
   ]
  },
  {
   "cell_type": "code",
   "execution_count": 157,
   "metadata": {},
   "outputs": [],
   "source": [
    "neighbors_k= pairwise_distances(x_tr, n_jobs=-1)\n",
    "neighbors_k.sort(0)"
   ]
  },
  {
   "cell_type": "code",
   "execution_count": 158,
   "metadata": {},
   "outputs": [
    {
     "data": {
      "text/html": [
       "<div>\n",
       "<style scoped>\n",
       "    .dataframe tbody tr th:only-of-type {\n",
       "        vertical-align: middle;\n",
       "    }\n",
       "\n",
       "    .dataframe tbody tr th {\n",
       "        vertical-align: top;\n",
       "    }\n",
       "\n",
       "    .dataframe thead th {\n",
       "        text-align: right;\n",
       "    }\n",
       "</style>\n",
       "<table border=\"1\" class=\"dataframe\">\n",
       "  <thead>\n",
       "    <tr style=\"text-align: right;\">\n",
       "      <th></th>\n",
       "      <th>0</th>\n",
       "      <th>1</th>\n",
       "      <th>2</th>\n",
       "      <th>3</th>\n",
       "      <th>4</th>\n",
       "      <th>5</th>\n",
       "      <th>6</th>\n",
       "      <th>7</th>\n",
       "      <th>8</th>\n",
       "      <th>9</th>\n",
       "      <th>...</th>\n",
       "      <th>3073</th>\n",
       "      <th>3074</th>\n",
       "      <th>3075</th>\n",
       "      <th>3076</th>\n",
       "      <th>3077</th>\n",
       "      <th>3078</th>\n",
       "      <th>3079</th>\n",
       "      <th>3080</th>\n",
       "      <th>3081</th>\n",
       "      <th>3082</th>\n",
       "    </tr>\n",
       "  </thead>\n",
       "  <tbody>\n",
       "    <tr>\n",
       "      <th>0</th>\n",
       "      <td>0.000000</td>\n",
       "      <td>0.000000</td>\n",
       "      <td>0.000000</td>\n",
       "      <td>0.000000</td>\n",
       "      <td>0.000000</td>\n",
       "      <td>0.000000</td>\n",
       "      <td>0.000000</td>\n",
       "      <td>0.000000</td>\n",
       "      <td>0.000000</td>\n",
       "      <td>0.000000</td>\n",
       "      <td>...</td>\n",
       "      <td>0.000000</td>\n",
       "      <td>0.000000</td>\n",
       "      <td>0.000000</td>\n",
       "      <td>0.000000</td>\n",
       "      <td>0.000000</td>\n",
       "      <td>0.000000</td>\n",
       "      <td>0.000000</td>\n",
       "      <td>0.000000</td>\n",
       "      <td>0.000000</td>\n",
       "      <td>0.000000</td>\n",
       "    </tr>\n",
       "    <tr>\n",
       "      <th>1</th>\n",
       "      <td>3.162278</td>\n",
       "      <td>5.656854</td>\n",
       "      <td>4.472136</td>\n",
       "      <td>3.872983</td>\n",
       "      <td>6.708204</td>\n",
       "      <td>3.316625</td>\n",
       "      <td>6.244998</td>\n",
       "      <td>5.000000</td>\n",
       "      <td>3.464102</td>\n",
       "      <td>6.480741</td>\n",
       "      <td>...</td>\n",
       "      <td>3.162278</td>\n",
       "      <td>3.605551</td>\n",
       "      <td>4.123106</td>\n",
       "      <td>4.242640</td>\n",
       "      <td>3.162278</td>\n",
       "      <td>3.605551</td>\n",
       "      <td>3.872983</td>\n",
       "      <td>3.741657</td>\n",
       "      <td>2.645751</td>\n",
       "      <td>4.795832</td>\n",
       "    </tr>\n",
       "    <tr>\n",
       "      <th>2</th>\n",
       "      <td>6.164414</td>\n",
       "      <td>6.000000</td>\n",
       "      <td>5.385165</td>\n",
       "      <td>4.358899</td>\n",
       "      <td>6.782330</td>\n",
       "      <td>3.872983</td>\n",
       "      <td>6.403124</td>\n",
       "      <td>5.099020</td>\n",
       "      <td>4.242640</td>\n",
       "      <td>6.633250</td>\n",
       "      <td>...</td>\n",
       "      <td>3.162278</td>\n",
       "      <td>5.567764</td>\n",
       "      <td>4.472136</td>\n",
       "      <td>4.358899</td>\n",
       "      <td>3.605551</td>\n",
       "      <td>5.099020</td>\n",
       "      <td>3.872983</td>\n",
       "      <td>4.000000</td>\n",
       "      <td>3.464102</td>\n",
       "      <td>5.477226</td>\n",
       "    </tr>\n",
       "    <tr>\n",
       "      <th>3</th>\n",
       "      <td>6.164414</td>\n",
       "      <td>6.082763</td>\n",
       "      <td>5.567764</td>\n",
       "      <td>4.795832</td>\n",
       "      <td>6.855655</td>\n",
       "      <td>4.472136</td>\n",
       "      <td>7.071068</td>\n",
       "      <td>5.099020</td>\n",
       "      <td>4.242640</td>\n",
       "      <td>6.708204</td>\n",
       "      <td>...</td>\n",
       "      <td>4.472136</td>\n",
       "      <td>5.916080</td>\n",
       "      <td>4.690416</td>\n",
       "      <td>4.472136</td>\n",
       "      <td>3.741657</td>\n",
       "      <td>5.291502</td>\n",
       "      <td>4.242640</td>\n",
       "      <td>4.242640</td>\n",
       "      <td>3.464102</td>\n",
       "      <td>5.567764</td>\n",
       "    </tr>\n",
       "    <tr>\n",
       "      <th>4</th>\n",
       "      <td>6.244998</td>\n",
       "      <td>6.082763</td>\n",
       "      <td>5.567764</td>\n",
       "      <td>4.795832</td>\n",
       "      <td>6.855655</td>\n",
       "      <td>5.196152</td>\n",
       "      <td>7.141428</td>\n",
       "      <td>5.099020</td>\n",
       "      <td>4.582576</td>\n",
       "      <td>6.708204</td>\n",
       "      <td>...</td>\n",
       "      <td>4.582576</td>\n",
       "      <td>6.000000</td>\n",
       "      <td>4.795832</td>\n",
       "      <td>4.690416</td>\n",
       "      <td>3.872983</td>\n",
       "      <td>5.477226</td>\n",
       "      <td>4.242640</td>\n",
       "      <td>4.242640</td>\n",
       "      <td>3.464102</td>\n",
       "      <td>5.567764</td>\n",
       "    </tr>\n",
       "    <tr>\n",
       "      <th>...</th>\n",
       "      <td>...</td>\n",
       "      <td>...</td>\n",
       "      <td>...</td>\n",
       "      <td>...</td>\n",
       "      <td>...</td>\n",
       "      <td>...</td>\n",
       "      <td>...</td>\n",
       "      <td>...</td>\n",
       "      <td>...</td>\n",
       "      <td>...</td>\n",
       "      <td>...</td>\n",
       "      <td>...</td>\n",
       "      <td>...</td>\n",
       "      <td>...</td>\n",
       "      <td>...</td>\n",
       "      <td>...</td>\n",
       "      <td>...</td>\n",
       "      <td>...</td>\n",
       "      <td>...</td>\n",
       "      <td>...</td>\n",
       "      <td>...</td>\n",
       "    </tr>\n",
       "    <tr>\n",
       "      <th>3078</th>\n",
       "      <td>11.000000</td>\n",
       "      <td>11.090536</td>\n",
       "      <td>11.269427</td>\n",
       "      <td>10.630146</td>\n",
       "      <td>11.313708</td>\n",
       "      <td>10.816654</td>\n",
       "      <td>11.532562</td>\n",
       "      <td>11.401754</td>\n",
       "      <td>11.401754</td>\n",
       "      <td>11.313708</td>\n",
       "      <td>...</td>\n",
       "      <td>11.090536</td>\n",
       "      <td>11.445523</td>\n",
       "      <td>11.401754</td>\n",
       "      <td>11.090536</td>\n",
       "      <td>11.000000</td>\n",
       "      <td>11.313708</td>\n",
       "      <td>11.090536</td>\n",
       "      <td>11.180340</td>\n",
       "      <td>11.135529</td>\n",
       "      <td>10.862781</td>\n",
       "    </tr>\n",
       "    <tr>\n",
       "      <th>3079</th>\n",
       "      <td>11.000000</td>\n",
       "      <td>11.090536</td>\n",
       "      <td>11.269427</td>\n",
       "      <td>10.677078</td>\n",
       "      <td>11.313708</td>\n",
       "      <td>10.816654</td>\n",
       "      <td>11.532562</td>\n",
       "      <td>11.401754</td>\n",
       "      <td>11.445523</td>\n",
       "      <td>11.313708</td>\n",
       "      <td>...</td>\n",
       "      <td>11.090536</td>\n",
       "      <td>11.445523</td>\n",
       "      <td>11.401754</td>\n",
       "      <td>11.090536</td>\n",
       "      <td>11.135529</td>\n",
       "      <td>11.313708</td>\n",
       "      <td>11.180340</td>\n",
       "      <td>11.180340</td>\n",
       "      <td>11.135529</td>\n",
       "      <td>11.180340</td>\n",
       "    </tr>\n",
       "    <tr>\n",
       "      <th>3080</th>\n",
       "      <td>11.000000</td>\n",
       "      <td>11.090536</td>\n",
       "      <td>11.269427</td>\n",
       "      <td>10.677078</td>\n",
       "      <td>11.313708</td>\n",
       "      <td>10.816654</td>\n",
       "      <td>11.532562</td>\n",
       "      <td>11.401754</td>\n",
       "      <td>11.445523</td>\n",
       "      <td>11.313708</td>\n",
       "      <td>...</td>\n",
       "      <td>11.180340</td>\n",
       "      <td>11.445523</td>\n",
       "      <td>11.401754</td>\n",
       "      <td>11.090536</td>\n",
       "      <td>11.135529</td>\n",
       "      <td>11.313708</td>\n",
       "      <td>11.269427</td>\n",
       "      <td>11.224972</td>\n",
       "      <td>11.269427</td>\n",
       "      <td>11.180340</td>\n",
       "    </tr>\n",
       "    <tr>\n",
       "      <th>3081</th>\n",
       "      <td>11.180340</td>\n",
       "      <td>11.269427</td>\n",
       "      <td>11.357817</td>\n",
       "      <td>10.677078</td>\n",
       "      <td>11.401754</td>\n",
       "      <td>11.045361</td>\n",
       "      <td>11.704700</td>\n",
       "      <td>11.489125</td>\n",
       "      <td>11.532562</td>\n",
       "      <td>11.313708</td>\n",
       "      <td>...</td>\n",
       "      <td>11.180340</td>\n",
       "      <td>11.445523</td>\n",
       "      <td>11.401754</td>\n",
       "      <td>11.313708</td>\n",
       "      <td>11.135529</td>\n",
       "      <td>11.313708</td>\n",
       "      <td>11.401754</td>\n",
       "      <td>11.224972</td>\n",
       "      <td>11.313708</td>\n",
       "      <td>11.180340</td>\n",
       "    </tr>\n",
       "    <tr>\n",
       "      <th>3082</th>\n",
       "      <td>11.575837</td>\n",
       "      <td>11.747340</td>\n",
       "      <td>11.832160</td>\n",
       "      <td>11.269427</td>\n",
       "      <td>11.958261</td>\n",
       "      <td>11.445523</td>\n",
       "      <td>11.704700</td>\n",
       "      <td>12.000000</td>\n",
       "      <td>11.575837</td>\n",
       "      <td>11.489125</td>\n",
       "      <td>...</td>\n",
       "      <td>11.832160</td>\n",
       "      <td>11.789826</td>\n",
       "      <td>11.958261</td>\n",
       "      <td>11.489125</td>\n",
       "      <td>11.618950</td>\n",
       "      <td>11.661903</td>\n",
       "      <td>11.874342</td>\n",
       "      <td>11.224972</td>\n",
       "      <td>11.661903</td>\n",
       "      <td>11.575837</td>\n",
       "    </tr>\n",
       "  </tbody>\n",
       "</table>\n",
       "<p>3083 rows × 3083 columns</p>\n",
       "</div>"
      ],
      "text/plain": [
       "           0          1          2          3          4          5     \\\n",
       "0      0.000000   0.000000   0.000000   0.000000   0.000000   0.000000   \n",
       "1      3.162278   5.656854   4.472136   3.872983   6.708204   3.316625   \n",
       "2      6.164414   6.000000   5.385165   4.358899   6.782330   3.872983   \n",
       "3      6.164414   6.082763   5.567764   4.795832   6.855655   4.472136   \n",
       "4      6.244998   6.082763   5.567764   4.795832   6.855655   5.196152   \n",
       "...         ...        ...        ...        ...        ...        ...   \n",
       "3078  11.000000  11.090536  11.269427  10.630146  11.313708  10.816654   \n",
       "3079  11.000000  11.090536  11.269427  10.677078  11.313708  10.816654   \n",
       "3080  11.000000  11.090536  11.269427  10.677078  11.313708  10.816654   \n",
       "3081  11.180340  11.269427  11.357817  10.677078  11.401754  11.045361   \n",
       "3082  11.575837  11.747340  11.832160  11.269427  11.958261  11.445523   \n",
       "\n",
       "           6          7          8          9     ...       3073       3074  \\\n",
       "0      0.000000   0.000000   0.000000   0.000000  ...   0.000000   0.000000   \n",
       "1      6.244998   5.000000   3.464102   6.480741  ...   3.162278   3.605551   \n",
       "2      6.403124   5.099020   4.242640   6.633250  ...   3.162278   5.567764   \n",
       "3      7.071068   5.099020   4.242640   6.708204  ...   4.472136   5.916080   \n",
       "4      7.141428   5.099020   4.582576   6.708204  ...   4.582576   6.000000   \n",
       "...         ...        ...        ...        ...  ...        ...        ...   \n",
       "3078  11.532562  11.401754  11.401754  11.313708  ...  11.090536  11.445523   \n",
       "3079  11.532562  11.401754  11.445523  11.313708  ...  11.090536  11.445523   \n",
       "3080  11.532562  11.401754  11.445523  11.313708  ...  11.180340  11.445523   \n",
       "3081  11.704700  11.489125  11.532562  11.313708  ...  11.180340  11.445523   \n",
       "3082  11.704700  12.000000  11.575837  11.489125  ...  11.832160  11.789826   \n",
       "\n",
       "           3075       3076       3077       3078       3079       3080  \\\n",
       "0      0.000000   0.000000   0.000000   0.000000   0.000000   0.000000   \n",
       "1      4.123106   4.242640   3.162278   3.605551   3.872983   3.741657   \n",
       "2      4.472136   4.358899   3.605551   5.099020   3.872983   4.000000   \n",
       "3      4.690416   4.472136   3.741657   5.291502   4.242640   4.242640   \n",
       "4      4.795832   4.690416   3.872983   5.477226   4.242640   4.242640   \n",
       "...         ...        ...        ...        ...        ...        ...   \n",
       "3078  11.401754  11.090536  11.000000  11.313708  11.090536  11.180340   \n",
       "3079  11.401754  11.090536  11.135529  11.313708  11.180340  11.180340   \n",
       "3080  11.401754  11.090536  11.135529  11.313708  11.269427  11.224972   \n",
       "3081  11.401754  11.313708  11.135529  11.313708  11.401754  11.224972   \n",
       "3082  11.958261  11.489125  11.618950  11.661903  11.874342  11.224972   \n",
       "\n",
       "           3081       3082  \n",
       "0      0.000000   0.000000  \n",
       "1      2.645751   4.795832  \n",
       "2      3.464102   5.477226  \n",
       "3      3.464102   5.567764  \n",
       "4      3.464102   5.567764  \n",
       "...         ...        ...  \n",
       "3078  11.135529  10.862781  \n",
       "3079  11.135529  11.180340  \n",
       "3080  11.269427  11.180340  \n",
       "3081  11.313708  11.180340  \n",
       "3082  11.661903  11.575837  \n",
       "\n",
       "[3083 rows x 3083 columns]"
      ]
     },
     "execution_count": 158,
     "metadata": {},
     "output_type": "execute_result"
    }
   ],
   "source": [
    "df_tr=pd.DataFrame(neighbors_k)\n",
    "df_tr"
   ]
  },
  {
   "cell_type": "code",
   "execution_count": 159,
   "metadata": {},
   "outputs": [],
   "source": [
    "similarity= neighbors_k"
   ]
  },
  {
   "cell_type": "code",
   "execution_count": 160,
   "metadata": {},
   "outputs": [],
   "source": [
    "Dmean=np.mean(similarity[1,:])"
   ]
  },
  {
   "cell_type": "code",
   "execution_count": 161,
   "metadata": {},
   "outputs": [
    {
     "data": {
      "text/plain": [
       "3.23"
      ]
     },
     "execution_count": 161,
     "metadata": {},
     "output_type": "execute_result"
    }
   ],
   "source": [
    "round(Dmean, 2)"
   ]
  },
  {
   "cell_type": "code",
   "execution_count": 162,
   "metadata": {},
   "outputs": [],
   "source": [
    "std=np.std(similarity[1,:])"
   ]
  },
  {
   "cell_type": "code",
   "execution_count": 163,
   "metadata": {},
   "outputs": [
    {
     "data": {
      "text/plain": [
       "1.37"
      ]
     },
     "execution_count": 163,
     "metadata": {},
     "output_type": "execute_result"
    }
   ],
   "source": [
    "round(std, 2)"
   ]
  },
  {
   "cell_type": "code",
   "execution_count": 164,
   "metadata": {},
   "outputs": [
    {
     "name": "stdout",
     "output_type": "stream",
     "text": [
      "3.91\n"
     ]
    }
   ],
   "source": [
    "model_AD_limit=Dmean+std*0.5\n",
    "print(np.round(model_AD_limit, 2))"
   ]
  },
  {
   "cell_type": "code",
   "execution_count": 165,
   "metadata": {},
   "outputs": [],
   "source": [
    "neighbors_k_ts= pairwise_distances(x_tr,Y=x_ts, n_jobs=-1)\n",
    "neighbors_k_ts.sort(0)"
   ]
  },
  {
   "cell_type": "code",
   "execution_count": 166,
   "metadata": {},
   "outputs": [
    {
     "data": {
      "text/html": [
       "<div>\n",
       "<style scoped>\n",
       "    .dataframe tbody tr th:only-of-type {\n",
       "        vertical-align: middle;\n",
       "    }\n",
       "\n",
       "    .dataframe tbody tr th {\n",
       "        vertical-align: top;\n",
       "    }\n",
       "\n",
       "    .dataframe thead th {\n",
       "        text-align: right;\n",
       "    }\n",
       "</style>\n",
       "<table border=\"1\" class=\"dataframe\">\n",
       "  <thead>\n",
       "    <tr style=\"text-align: right;\">\n",
       "      <th></th>\n",
       "      <th>0</th>\n",
       "      <th>1</th>\n",
       "      <th>2</th>\n",
       "      <th>3</th>\n",
       "      <th>4</th>\n",
       "      <th>5</th>\n",
       "      <th>6</th>\n",
       "      <th>7</th>\n",
       "      <th>8</th>\n",
       "      <th>9</th>\n",
       "      <th>...</th>\n",
       "      <th>761</th>\n",
       "      <th>762</th>\n",
       "      <th>763</th>\n",
       "      <th>764</th>\n",
       "      <th>765</th>\n",
       "      <th>766</th>\n",
       "      <th>767</th>\n",
       "      <th>768</th>\n",
       "      <th>769</th>\n",
       "      <th>770</th>\n",
       "    </tr>\n",
       "  </thead>\n",
       "  <tbody>\n",
       "    <tr>\n",
       "      <th>0</th>\n",
       "      <td>3.605551</td>\n",
       "      <td>4.358899</td>\n",
       "      <td>3.316625</td>\n",
       "      <td>4.898980</td>\n",
       "      <td>5.000000</td>\n",
       "      <td>1.000000</td>\n",
       "      <td>2.449490</td>\n",
       "      <td>5.000000</td>\n",
       "      <td>2.449490</td>\n",
       "      <td>3.605551</td>\n",
       "      <td>...</td>\n",
       "      <td>3.162278</td>\n",
       "      <td>3.316625</td>\n",
       "      <td>3.872983</td>\n",
       "      <td>3.605551</td>\n",
       "      <td>2.645751</td>\n",
       "      <td>4.582576</td>\n",
       "      <td>3.605551</td>\n",
       "      <td>3.605551</td>\n",
       "      <td>1.000000</td>\n",
       "      <td>4.898980</td>\n",
       "    </tr>\n",
       "    <tr>\n",
       "      <th>1</th>\n",
       "      <td>4.898980</td>\n",
       "      <td>4.582576</td>\n",
       "      <td>3.605551</td>\n",
       "      <td>5.099020</td>\n",
       "      <td>5.196152</td>\n",
       "      <td>3.316625</td>\n",
       "      <td>3.464102</td>\n",
       "      <td>5.099020</td>\n",
       "      <td>2.828427</td>\n",
       "      <td>3.872983</td>\n",
       "      <td>...</td>\n",
       "      <td>4.123106</td>\n",
       "      <td>4.582576</td>\n",
       "      <td>4.000000</td>\n",
       "      <td>3.605551</td>\n",
       "      <td>3.605551</td>\n",
       "      <td>6.855655</td>\n",
       "      <td>5.099020</td>\n",
       "      <td>4.690416</td>\n",
       "      <td>3.605551</td>\n",
       "      <td>5.000000</td>\n",
       "    </tr>\n",
       "    <tr>\n",
       "      <th>2</th>\n",
       "      <td>5.196152</td>\n",
       "      <td>4.898980</td>\n",
       "      <td>3.605551</td>\n",
       "      <td>6.633250</td>\n",
       "      <td>5.196152</td>\n",
       "      <td>4.123106</td>\n",
       "      <td>3.872983</td>\n",
       "      <td>5.291502</td>\n",
       "      <td>3.464102</td>\n",
       "      <td>4.000000</td>\n",
       "      <td>...</td>\n",
       "      <td>4.582576</td>\n",
       "      <td>4.582576</td>\n",
       "      <td>4.795832</td>\n",
       "      <td>4.123106</td>\n",
       "      <td>3.872983</td>\n",
       "      <td>6.855655</td>\n",
       "      <td>5.196152</td>\n",
       "      <td>4.795832</td>\n",
       "      <td>5.477226</td>\n",
       "      <td>5.099020</td>\n",
       "    </tr>\n",
       "    <tr>\n",
       "      <th>3</th>\n",
       "      <td>5.196152</td>\n",
       "      <td>5.196152</td>\n",
       "      <td>4.000000</td>\n",
       "      <td>7.211102</td>\n",
       "      <td>5.291502</td>\n",
       "      <td>4.358899</td>\n",
       "      <td>3.872983</td>\n",
       "      <td>5.291502</td>\n",
       "      <td>4.358899</td>\n",
       "      <td>4.358899</td>\n",
       "      <td>...</td>\n",
       "      <td>4.582576</td>\n",
       "      <td>4.582576</td>\n",
       "      <td>5.567764</td>\n",
       "      <td>4.582576</td>\n",
       "      <td>4.000000</td>\n",
       "      <td>6.855655</td>\n",
       "      <td>5.385165</td>\n",
       "      <td>4.898980</td>\n",
       "      <td>5.477226</td>\n",
       "      <td>5.099020</td>\n",
       "    </tr>\n",
       "    <tr>\n",
       "      <th>4</th>\n",
       "      <td>5.477226</td>\n",
       "      <td>5.385165</td>\n",
       "      <td>5.567764</td>\n",
       "      <td>7.211102</td>\n",
       "      <td>5.385165</td>\n",
       "      <td>4.472136</td>\n",
       "      <td>4.123106</td>\n",
       "      <td>5.291502</td>\n",
       "      <td>6.633250</td>\n",
       "      <td>4.898980</td>\n",
       "      <td>...</td>\n",
       "      <td>4.582576</td>\n",
       "      <td>4.690416</td>\n",
       "      <td>6.082763</td>\n",
       "      <td>4.898980</td>\n",
       "      <td>4.242640</td>\n",
       "      <td>6.928203</td>\n",
       "      <td>5.385165</td>\n",
       "      <td>5.099020</td>\n",
       "      <td>5.656854</td>\n",
       "      <td>5.196152</td>\n",
       "    </tr>\n",
       "    <tr>\n",
       "      <th>...</th>\n",
       "      <td>...</td>\n",
       "      <td>...</td>\n",
       "      <td>...</td>\n",
       "      <td>...</td>\n",
       "      <td>...</td>\n",
       "      <td>...</td>\n",
       "      <td>...</td>\n",
       "      <td>...</td>\n",
       "      <td>...</td>\n",
       "      <td>...</td>\n",
       "      <td>...</td>\n",
       "      <td>...</td>\n",
       "      <td>...</td>\n",
       "      <td>...</td>\n",
       "      <td>...</td>\n",
       "      <td>...</td>\n",
       "      <td>...</td>\n",
       "      <td>...</td>\n",
       "      <td>...</td>\n",
       "      <td>...</td>\n",
       "      <td>...</td>\n",
       "    </tr>\n",
       "    <tr>\n",
       "      <th>3078</th>\n",
       "      <td>10.816654</td>\n",
       "      <td>11.224972</td>\n",
       "      <td>11.000000</td>\n",
       "      <td>11.313708</td>\n",
       "      <td>11.180340</td>\n",
       "      <td>11.401754</td>\n",
       "      <td>10.723805</td>\n",
       "      <td>11.489125</td>\n",
       "      <td>11.489125</td>\n",
       "      <td>10.862781</td>\n",
       "      <td>...</td>\n",
       "      <td>11.180340</td>\n",
       "      <td>10.677078</td>\n",
       "      <td>11.357817</td>\n",
       "      <td>11.489125</td>\n",
       "      <td>11.045361</td>\n",
       "      <td>11.180340</td>\n",
       "      <td>11.269427</td>\n",
       "      <td>11.090536</td>\n",
       "      <td>11.045361</td>\n",
       "      <td>11.090536</td>\n",
       "    </tr>\n",
       "    <tr>\n",
       "      <th>3079</th>\n",
       "      <td>10.816654</td>\n",
       "      <td>11.313708</td>\n",
       "      <td>11.401754</td>\n",
       "      <td>11.357817</td>\n",
       "      <td>11.180340</td>\n",
       "      <td>11.401754</td>\n",
       "      <td>11.000000</td>\n",
       "      <td>11.532562</td>\n",
       "      <td>11.532562</td>\n",
       "      <td>10.862781</td>\n",
       "      <td>...</td>\n",
       "      <td>11.224972</td>\n",
       "      <td>10.677078</td>\n",
       "      <td>11.532562</td>\n",
       "      <td>11.575837</td>\n",
       "      <td>11.090536</td>\n",
       "      <td>11.224972</td>\n",
       "      <td>11.269427</td>\n",
       "      <td>11.090536</td>\n",
       "      <td>11.045361</td>\n",
       "      <td>11.135529</td>\n",
       "    </tr>\n",
       "    <tr>\n",
       "      <th>3080</th>\n",
       "      <td>10.816654</td>\n",
       "      <td>11.313708</td>\n",
       "      <td>11.401754</td>\n",
       "      <td>11.357817</td>\n",
       "      <td>11.180340</td>\n",
       "      <td>11.401754</td>\n",
       "      <td>11.000000</td>\n",
       "      <td>11.575837</td>\n",
       "      <td>11.532562</td>\n",
       "      <td>10.862781</td>\n",
       "      <td>...</td>\n",
       "      <td>11.224972</td>\n",
       "      <td>10.770329</td>\n",
       "      <td>11.532562</td>\n",
       "      <td>11.789826</td>\n",
       "      <td>11.090536</td>\n",
       "      <td>11.269427</td>\n",
       "      <td>11.269427</td>\n",
       "      <td>11.090536</td>\n",
       "      <td>11.090536</td>\n",
       "      <td>11.135529</td>\n",
       "    </tr>\n",
       "    <tr>\n",
       "      <th>3081</th>\n",
       "      <td>10.816654</td>\n",
       "      <td>11.357817</td>\n",
       "      <td>11.401754</td>\n",
       "      <td>11.401754</td>\n",
       "      <td>11.180340</td>\n",
       "      <td>11.401754</td>\n",
       "      <td>11.000000</td>\n",
       "      <td>11.618950</td>\n",
       "      <td>11.532562</td>\n",
       "      <td>11.224972</td>\n",
       "      <td>...</td>\n",
       "      <td>11.224972</td>\n",
       "      <td>10.770329</td>\n",
       "      <td>11.532562</td>\n",
       "      <td>11.789826</td>\n",
       "      <td>11.090536</td>\n",
       "      <td>11.357817</td>\n",
       "      <td>11.269427</td>\n",
       "      <td>11.180340</td>\n",
       "      <td>11.090536</td>\n",
       "      <td>11.180340</td>\n",
       "    </tr>\n",
       "    <tr>\n",
       "      <th>3082</th>\n",
       "      <td>11.224972</td>\n",
       "      <td>11.401754</td>\n",
       "      <td>11.445523</td>\n",
       "      <td>11.958261</td>\n",
       "      <td>11.618950</td>\n",
       "      <td>11.489125</td>\n",
       "      <td>11.313708</td>\n",
       "      <td>11.704700</td>\n",
       "      <td>11.958261</td>\n",
       "      <td>11.789826</td>\n",
       "      <td>...</td>\n",
       "      <td>11.789826</td>\n",
       "      <td>11.135529</td>\n",
       "      <td>11.916375</td>\n",
       "      <td>11.789826</td>\n",
       "      <td>11.489125</td>\n",
       "      <td>11.958261</td>\n",
       "      <td>11.789826</td>\n",
       "      <td>11.747340</td>\n",
       "      <td>11.789826</td>\n",
       "      <td>11.832160</td>\n",
       "    </tr>\n",
       "  </tbody>\n",
       "</table>\n",
       "<p>3083 rows × 771 columns</p>\n",
       "</div>"
      ],
      "text/plain": [
       "            0          1          2          3          4          5    \\\n",
       "0      3.605551   4.358899   3.316625   4.898980   5.000000   1.000000   \n",
       "1      4.898980   4.582576   3.605551   5.099020   5.196152   3.316625   \n",
       "2      5.196152   4.898980   3.605551   6.633250   5.196152   4.123106   \n",
       "3      5.196152   5.196152   4.000000   7.211102   5.291502   4.358899   \n",
       "4      5.477226   5.385165   5.567764   7.211102   5.385165   4.472136   \n",
       "...         ...        ...        ...        ...        ...        ...   \n",
       "3078  10.816654  11.224972  11.000000  11.313708  11.180340  11.401754   \n",
       "3079  10.816654  11.313708  11.401754  11.357817  11.180340  11.401754   \n",
       "3080  10.816654  11.313708  11.401754  11.357817  11.180340  11.401754   \n",
       "3081  10.816654  11.357817  11.401754  11.401754  11.180340  11.401754   \n",
       "3082  11.224972  11.401754  11.445523  11.958261  11.618950  11.489125   \n",
       "\n",
       "            6          7          8          9    ...        761        762  \\\n",
       "0      2.449490   5.000000   2.449490   3.605551  ...   3.162278   3.316625   \n",
       "1      3.464102   5.099020   2.828427   3.872983  ...   4.123106   4.582576   \n",
       "2      3.872983   5.291502   3.464102   4.000000  ...   4.582576   4.582576   \n",
       "3      3.872983   5.291502   4.358899   4.358899  ...   4.582576   4.582576   \n",
       "4      4.123106   5.291502   6.633250   4.898980  ...   4.582576   4.690416   \n",
       "...         ...        ...        ...        ...  ...        ...        ...   \n",
       "3078  10.723805  11.489125  11.489125  10.862781  ...  11.180340  10.677078   \n",
       "3079  11.000000  11.532562  11.532562  10.862781  ...  11.224972  10.677078   \n",
       "3080  11.000000  11.575837  11.532562  10.862781  ...  11.224972  10.770329   \n",
       "3081  11.000000  11.618950  11.532562  11.224972  ...  11.224972  10.770329   \n",
       "3082  11.313708  11.704700  11.958261  11.789826  ...  11.789826  11.135529   \n",
       "\n",
       "            763        764        765        766        767        768  \\\n",
       "0      3.872983   3.605551   2.645751   4.582576   3.605551   3.605551   \n",
       "1      4.000000   3.605551   3.605551   6.855655   5.099020   4.690416   \n",
       "2      4.795832   4.123106   3.872983   6.855655   5.196152   4.795832   \n",
       "3      5.567764   4.582576   4.000000   6.855655   5.385165   4.898980   \n",
       "4      6.082763   4.898980   4.242640   6.928203   5.385165   5.099020   \n",
       "...         ...        ...        ...        ...        ...        ...   \n",
       "3078  11.357817  11.489125  11.045361  11.180340  11.269427  11.090536   \n",
       "3079  11.532562  11.575837  11.090536  11.224972  11.269427  11.090536   \n",
       "3080  11.532562  11.789826  11.090536  11.269427  11.269427  11.090536   \n",
       "3081  11.532562  11.789826  11.090536  11.357817  11.269427  11.180340   \n",
       "3082  11.916375  11.789826  11.489125  11.958261  11.789826  11.747340   \n",
       "\n",
       "            769        770  \n",
       "0      1.000000   4.898980  \n",
       "1      3.605551   5.000000  \n",
       "2      5.477226   5.099020  \n",
       "3      5.477226   5.099020  \n",
       "4      5.656854   5.196152  \n",
       "...         ...        ...  \n",
       "3078  11.045361  11.090536  \n",
       "3079  11.045361  11.135529  \n",
       "3080  11.090536  11.135529  \n",
       "3081  11.090536  11.180340  \n",
       "3082  11.789826  11.832160  \n",
       "\n",
       "[3083 rows x 771 columns]"
      ]
     },
     "execution_count": 166,
     "metadata": {},
     "output_type": "execute_result"
    }
   ],
   "source": [
    "x_ts_AD=pd.DataFrame(neighbors_k_ts)\n",
    "x_ts_AD"
   ]
  },
  {
   "cell_type": "code",
   "execution_count": 167,
   "metadata": {},
   "outputs": [
    {
     "name": "stdout",
     "output_type": "stream",
     "text": [
      "[3.606 4.359 3.317 4.899 5.    1.    2.449 5.    2.449 3.606 3.464 2.828\n",
      " 6.928 3.162 0.    4.123 1.    5.    3.162 4.123 2.646 3.162 4.899 4.359\n",
      " 6.    2.828 3.464 4.583 3.317 4.    3.742 7.    3.606 4.    4.243 3.606\n",
      " 3.873 3.873 3.317 3.606 4.    1.    3.317 4.472 2.646 4.359 2.828 2.828\n",
      " 3.162 3.464 3.873 3.464 5.916 3.162 4.359 1.732 3.    3.606 6.481 3.742\n",
      " 3.606 3.742 3.464 2.828 5.099 4.123 3.162 3.464 3.    3.606 3.742 3.162\n",
      " 1.    4.899 4.472 3.464 3.    4.472 6.856 1.    3.606 4.359 3.742 3.606\n",
      " 5.831 3.464 4.359 2.    4.69  1.    2.    4.69  3.742 4.69  2.646 4.583\n",
      " 3.742 3.162 1.414 3.464 1.414 6.481 0.    4.    2.646 4.359 2.828 3.873\n",
      " 3.162 3.464 1.    3.606 4.359 3.    3.464 3.317 2.449 2.236 3.317 1.\n",
      " 3.606 2.236 0.    4.243 4.243 3.742 3.464 4.243 4.583 2.449 3.873 0.\n",
      " 2.828 2.449 3.873 1.732 5.099 3.464 0.    2.449 3.317 3.    3.606 0.\n",
      " 3.    4.    0.    2.    3.606 1.414 3.742 1.414 4.    5.477 2.828 4.\n",
      " 4.123 4.    4.899 0.    3.742 3.    3.873 3.162 3.464 0.    2.    5.196\n",
      " 3.873 2.236 3.    5.196 2.646 4.123 2.236 3.    2.646 4.899 5.    5.\n",
      " 4.243 0.    2.236 3.464 3.464 2.646 5.657 3.317 2.828 3.464 3.    3.162\n",
      " 4.243 3.606 5.099 0.    3.464 3.464 3.873 4.    0.    3.742 3.464 1.732\n",
      " 1.    3.606 3.317 3.464 2.236 3.464 2.646 3.    2.828 4.796 3.742 4.243\n",
      " 4.243 3.    3.742 1.732 1.    2.    4.243 2.646 3.873 3.317 2.828 4.243\n",
      " 2.828 4.472 3.464 3.873 3.873 3.162 4.796 4.123 4.    2.    2.449 0.\n",
      " 2.236 2.828 4.359 5.292 3.464 3.317 2.828 5.196 0.    2.449 3.742 3.317\n",
      " 3.606 2.236 1.732 3.    1.732 1.732 3.873 3.606 5.385 3.742 3.    4.243\n",
      " 2.236 2.828 0.    4.583 3.464 4.123 3.606 2.828 5.    3.317 3.873 3.317\n",
      " 3.162 4.69  0.    2.646 2.    1.    3.317 4.243 3.162 3.162 2.828 4.123\n",
      " 3.464 0.    0.    3.317 2.    2.236 3.317 2.449 1.732 3.464 2.828 3.873\n",
      " 3.162 4.69  2.828 4.472 4.359 3.    3.606 4.583 4.472 1.732 3.    3.162\n",
      " 2.    4.472 3.606 2.449 1.414 0.    4.359 4.583 0.    3.464 4.472 4.796\n",
      " 2.646 4.    4.    3.317 3.317 3.606 4.    4.123 3.162 5.657 0.    3.742\n",
      " 3.317 0.    4.243 4.243 3.162 3.317 3.162 3.873 0.    3.317 2.828 3.873\n",
      " 3.    3.606 1.732 5.    7.28  4.472 3.317 3.742 2.828 4.123 4.    3.162\n",
      " 3.742 6.083 4.899 4.359 3.162 3.742 2.236 3.317 3.162 2.449 3.742 3.\n",
      " 3.162 3.742 3.    3.317 1.    4.123 1.    2.828 2.828 5.    4.899 3.464\n",
      " 3.464 2.828 4.    3.    0.    3.    4.243 3.317 2.646 4.123 2.236 3.606\n",
      " 3.464 2.236 4.359 1.732 3.    0.    4.    2.449 4.899 4.583 1.732 3.606\n",
      " 3.162 3.873 1.    4.243 4.243 3.317 2.828 1.    5.292 3.    3.162 4.359\n",
      " 3.606 9.22  3.464 2.828 4.    3.464 3.464 3.464 3.464 4.243 3.317 3.317\n",
      " 3.317 3.464 4.123 3.317 0.    3.317 3.464 3.873 4.    3.606 1.732 3.742\n",
      " 3.464 1.732 3.317 6.481 2.    1.    4.359 0.    4.359 3.606 4.359 3.162\n",
      " 4.    3.162 3.    1.    3.606 3.606 0.    4.69  2.449 3.742 0.    4.472\n",
      " 4.69  4.583 6.325 3.464 0.    3.162 0.    3.162 2.828 3.464 0.    3.162\n",
      " 5.196 4.243 0.    2.828 4.69  3.    2.449 3.464 3.742 3.162 3.162 2.449\n",
      " 3.606 4.    0.    5.099 4.123 0.    3.317 2.    3.464 6.708 4.    0.\n",
      " 1.732 3.606 3.    4.359 2.828 3.317 4.243 4.583 0.    3.317 0.    3.162\n",
      " 4.123 3.742 3.317 0.    3.742 3.464 5.196 3.873 3.162 3.873 3.162 6.325\n",
      " 3.606 3.    3.317 3.606 2.646 4.243 3.873 0.    2.236 3.606 5.099 2.646\n",
      " 3.464 3.606 3.317 3.464 1.    3.317 4.    5.    2.828 2.828 0.    4.\n",
      " 3.162 3.606 3.    3.742 2.828 2.828 3.873 5.292 0.    2.236 2.646 5.831\n",
      " 3.162 3.606 1.    0.    3.    4.    3.606 0.    2.449 3.606 3.464 3.606\n",
      " 3.    0.    3.742 1.    1.414 0.    4.    4.359 4.123 0.    0.    5.\n",
      " 3.606 3.    2.828 6.557 5.745 4.    5.    4.899 0.    0.    2.449 3.317\n",
      " 0.    4.359 2.828 3.873 3.317 3.317 4.123 2.449 3.464 3.    4.359 3.464\n",
      " 4.    3.162 7.746 3.873 3.317 0.    3.162 6.    5.292 4.123 2.828 2.449\n",
      " 3.317 0.    0.    3.    3.873 4.    4.123 2.828 0.    0.    4.123 4.69\n",
      " 3.317 3.162 4.    0.    3.742 2.449 2.449 4.359 3.    4.    3.    2.828\n",
      " 5.831 3.317 3.742 1.732 2.828 4.899 3.873 2.828 3.162 3.162 1.    4.243\n",
      " 2.828 4.359 2.646 3.742 4.472 3.162 2.828 3.162 3.317 4.796 3.742 3.\n",
      " 3.162 4.    4.123 1.414 3.606 3.873 4.243 4.243 3.742 1.    5.831 3.464\n",
      " 4.243 3.742 4.359 2.449 4.    3.    3.317 3.606 2.646 4.583 0.    2.828\n",
      " 0.    6.481 4.899 4.69  4.359 3.162 3.464 3.464 1.    3.317 4.    2.646\n",
      " 4.359 2.236 2.236 5.196 3.    3.162 5.    4.    3.873 3.606 3.    2.449\n",
      " 3.317 3.464 2.646 3.162 3.742 3.162 3.162 0.    3.464 3.606 2.236 4.\n",
      " 3.    3.742 2.828 5.196 3.606 3.464 3.742 3.873 3.606 3.162 0.    7.55\n",
      " 2.    2.449 3.742 4.    3.464 2.828 2.646 4.796 4.123 4.    3.    3.317\n",
      " 4.899 3.162 3.317 4.    4.69  3.162 3.317 3.873 3.606 2.646 4.583 3.606\n",
      " 3.606 1.    4.899]\n"
     ]
    }
   ],
   "source": [
    "similarity_ts= neighbors_k_ts\n",
    "cpd_AD=similarity_ts[0,:]\n",
    "cpd_value = np.round(cpd_AD, 3)\n",
    "print(cpd_value)"
   ]
  },
  {
   "cell_type": "code",
   "execution_count": 168,
   "metadata": {},
   "outputs": [
    {
     "name": "stdout",
     "output_type": "stream",
     "text": [
      "[ True False  True False False  True  True False  True  True  True  True\n",
      " False  True  True False  True False  True False  True  True False False\n",
      " False  True  True False  True False  True False  True False False  True\n",
      "  True  True  True  True False  True  True False  True False  True  True\n",
      "  True  True  True  True False  True False  True  True  True False  True\n",
      "  True  True  True  True False False  True  True  True  True  True  True\n",
      "  True False False  True  True False False  True  True False  True  True\n",
      " False  True False  True False  True  True False  True False  True False\n",
      "  True  True  True  True  True False  True False  True False  True  True\n",
      "  True  True  True  True False  True  True  True  True  True  True  True\n",
      "  True  True  True False False  True  True False False  True  True  True\n",
      "  True  True  True  True False  True  True  True  True  True  True  True\n",
      "  True False  True  True  True  True  True  True False False  True False\n",
      " False False False  True  True  True  True  True  True  True  True False\n",
      "  True  True  True False  True False  True  True  True False False False\n",
      " False  True  True  True  True  True False  True  True  True  True  True\n",
      " False  True False  True  True  True  True False  True  True  True  True\n",
      "  True  True  True  True  True  True  True  True  True False  True False\n",
      " False  True  True  True  True  True False  True  True  True  True False\n",
      "  True False  True  True  True  True False False False  True  True  True\n",
      "  True  True False False  True  True  True False  True  True  True  True\n",
      "  True  True  True  True  True  True  True  True False  True  True False\n",
      "  True  True  True False  True False  True  True False  True  True  True\n",
      "  True False  True  True  True  True  True False  True  True  True False\n",
      "  True  True  True  True  True  True  True  True  True  True  True  True\n",
      "  True False  True False False  True  True False False  True  True  True\n",
      "  True False  True  True  True  True False False  True  True False False\n",
      "  True False False  True  True  True False False  True False  True  True\n",
      "  True  True False False  True  True  True  True  True  True  True  True\n",
      "  True  True  True False False False  True  True  True False False  True\n",
      "  True False False False  True  True  True  True  True  True  True  True\n",
      "  True  True  True  True  True False  True  True  True False False  True\n",
      "  True  True False  True  True  True False  True  True False  True  True\n",
      "  True  True False  True  True  True False  True False False  True  True\n",
      "  True  True  True False False  True  True  True False  True  True False\n",
      "  True False  True  True False  True  True  True  True False  True  True\n",
      "  True  True False  True  True  True  True  True False  True  True  True\n",
      "  True  True  True False  True  True False  True False  True False  True\n",
      " False  True  True  True  True  True  True False  True  True  True False\n",
      " False False False  True  True  True  True  True  True  True  True  True\n",
      " False False  True  True False  True  True  True  True  True  True  True\n",
      "  True False  True False False  True  True  True  True False False  True\n",
      "  True  True  True False  True  True False False  True  True  True  True\n",
      " False  True  True  True  True  True False  True  True  True  True False\n",
      "  True  True  True  True  True False  True  True  True  True False  True\n",
      "  True  True  True  True  True  True False False  True  True  True False\n",
      "  True  True  True  True  True  True  True False  True  True  True False\n",
      "  True  True  True  True  True False  True  True  True  True  True  True\n",
      "  True  True  True  True  True  True False False False  True  True False\n",
      "  True  True  True False False False False False  True  True  True  True\n",
      "  True False  True  True  True  True False  True  True  True False  True\n",
      " False  True False  True  True  True  True False False False  True  True\n",
      "  True  True  True  True  True False False  True  True  True False False\n",
      "  True  True False  True  True  True  True False  True False  True  True\n",
      " False  True  True  True  True False  True  True  True  True  True False\n",
      "  True False  True  True False  True  True  True  True False  True  True\n",
      "  True False False  True  True  True False False  True  True False  True\n",
      " False  True False  True False  True  True  True  True False  True  True\n",
      "  True False False False False  True  True  True  True  True False  True\n",
      " False  True  True False  True  True False False  True  True  True  True\n",
      "  True  True  True  True  True  True  True  True  True  True  True False\n",
      "  True  True  True False  True  True  True  True  True  True  True False\n",
      "  True  True  True False  True  True  True False False False  True  True\n",
      " False  True  True False False  True  True  True  True  True False  True\n",
      "  True  True False]\n"
     ]
    }
   ],
   "source": [
    "cpd_AD = np.where(cpd_value <= model_AD_limit, True, False)\n",
    "print(cpd_AD)"
   ]
  },
  {
   "cell_type": "code",
   "execution_count": 169,
   "metadata": {},
   "outputs": [
    {
     "name": "stdout",
     "output_type": "stream",
     "text": [
      "Coverage =  0.72\n"
     ]
    }
   ],
   "source": [
    "print(\"Coverage = \", round(sum(cpd_AD) / len(cpd_AD), 2))"
   ]
  },
  {
   "cell_type": "code",
   "execution_count": 170,
   "metadata": {},
   "outputs": [
    {
     "name": "stdout",
     "output_type": "stream",
     "text": [
      "Indices of substances included in AD =  [  0   2   5   6   8   9  10  11  13  14  16  18  20  21  25  26  28  30\n",
      "  32  35  36  37  38  39  41  42  44  46  47  48  49  50  51  53  55  56\n",
      "  57  59  60  61  62  63  66  67  68  69  70  71  72  75  76  79  80  82\n",
      "  83  85  87  89  90  92  94  96  97  98  99 100 102 104 106 107 108 109\n",
      " 110 111 113 114 115 116 117 118 119 120 121 122 125 126 129 130 131 132\n",
      " 133 134 135 137 138 139 140 141 142 143 144 146 147 148 149 150 151 154\n",
      " 159 160 161 162 163 164 165 166 168 169 170 172 174 175 176 181 182 183\n",
      " 184 185 187 188 189 190 191 193 195 196 197 198 200 201 202 203 204 205\n",
      " 206 207 208 209 210 211 212 214 217 218 219 220 221 223 224 225 226 228\n",
      " 230 231 232 233 237 238 239 240 241 244 245 246 248 249 250 251 252 253\n",
      " 254 255 256 257 258 259 261 262 264 265 266 268 270 271 273 274 275 276\n",
      " 278 279 280 281 282 284 285 286 288 289 290 291 292 293 294 295 296 297\n",
      " 298 299 300 302 305 306 309 310 311 312 314 315 316 317 320 321 324 327\n",
      " 328 329 332 334 335 336 337 340 341 342 343 344 345 346 347 348 349 350\n",
      " 354 355 356 359 360 364 365 366 367 368 369 370 371 372 373 374 375 376\n",
      " 378 379 380 383 384 385 387 388 389 391 392 394 395 396 397 399 400 401\n",
      " 403 406 407 408 409 410 413 414 415 417 418 420 422 423 425 426 427 428\n",
      " 430 431 432 433 435 436 437 438 439 441 442 443 444 445 446 448 449 451\n",
      " 453 455 457 458 459 460 461 462 464 465 466 471 472 473 474 475 476 477\n",
      " 478 479 482 483 485 486 487 488 489 490 491 492 494 497 498 499 500 503\n",
      " 504 505 506 508 509 512 513 514 515 517 518 519 520 521 523 524 525 526\n",
      " 528 529 530 531 532 534 535 536 537 539 540 541 542 543 544 545 548 549\n",
      " 550 552 553 554 555 556 557 558 560 561 562 564 565 566 567 568 570 571\n",
      " 572 573 574 575 576 577 578 579 580 581 585 586 588 589 590 596 597 598\n",
      " 599 600 602 603 604 605 607 608 609 611 613 615 616 617 618 622 623 624\n",
      " 625 626 627 628 631 632 633 636 637 639 640 641 642 644 646 647 649 650\n",
      " 651 652 654 655 656 657 658 660 662 663 665 666 667 668 670 671 672 675\n",
      " 676 677 680 681 683 685 687 689 690 691 692 694 695 696 701 702 703 704\n",
      " 705 707 709 710 712 713 716 717 718 719 720 721 722 723 724 725 726 727\n",
      " 728 729 730 732 733 734 736 737 738 739 740 741 742 744 745 746 748 749\n",
      " 750 754 755 757 758 761 762 763 764 765 767 768 769]\n"
     ]
    }
   ],
   "source": [
    "print(\"Indices of substances included in AD = \", np.where(cpd_AD != 0)[0])"
   ]
  },
  {
   "cell_type": "code",
   "execution_count": 171,
   "metadata": {},
   "outputs": [],
   "source": [
    "out_Ad=list(np.where(cpd_AD == 0)[0])"
   ]
  },
  {
   "cell_type": "markdown",
   "metadata": {},
   "source": [
    "# 12. Prediction only for molecules included in  AD"
   ]
  },
  {
   "cell_type": "code",
   "execution_count": 172,
   "metadata": {},
   "outputs": [],
   "source": [
    "y_pred_kNN_ad=list(y_pred_kNN)"
   ]
  },
  {
   "cell_type": "code",
   "execution_count": 173,
   "metadata": {},
   "outputs": [],
   "source": [
    "y_pred_kNN_ad[:] = [x for i,x in enumerate(y_pred_kNN_ad) if i not in out_Ad]"
   ]
  },
  {
   "cell_type": "code",
   "execution_count": 174,
   "metadata": {},
   "outputs": [
    {
     "data": {
      "text/plain": [
       "553"
      ]
     },
     "execution_count": 174,
     "metadata": {},
     "output_type": "execute_result"
    }
   ],
   "source": [
    "len(y_pred_kNN_ad)"
   ]
  },
  {
   "cell_type": "code",
   "execution_count": 175,
   "metadata": {},
   "outputs": [],
   "source": [
    "y_ts_ad=list(y_ts)"
   ]
  },
  {
   "cell_type": "code",
   "execution_count": 176,
   "metadata": {},
   "outputs": [],
   "source": [
    "y_ts_ad[:] = [x for i,x in enumerate(y_ts_ad) if i not in out_Ad]"
   ]
  },
  {
   "cell_type": "code",
   "execution_count": 177,
   "metadata": {},
   "outputs": [
    {
     "data": {
      "text/plain": [
       "553"
      ]
     },
     "execution_count": 177,
     "metadata": {},
     "output_type": "execute_result"
    }
   ],
   "source": [
    "len(y_ts_ad)"
   ]
  },
  {
   "cell_type": "code",
   "execution_count": 178,
   "metadata": {},
   "outputs": [
    {
     "data": {
      "text/plain": [
       "0.64"
      ]
     },
     "execution_count": 178,
     "metadata": {},
     "output_type": "execute_result"
    }
   ],
   "source": [
    "Q2_TS = round(r2_score(y_ts_ad, y_pred_kNN_ad), 2)\n",
    "Q2_TS"
   ]
  },
  {
   "cell_type": "code",
   "execution_count": 179,
   "metadata": {
    "scrolled": true
   },
   "outputs": [
    {
     "data": {
      "text/plain": [
       "0.67"
      ]
     },
     "execution_count": 179,
     "metadata": {},
     "output_type": "execute_result"
    }
   ],
   "source": [
    "RMSE_TS=round(np.sqrt(mean_absolute_error(y_ts_ad, y_pred_kNN_ad)), 2)\n",
    "RMSE_TS"
   ]
  },
  {
   "cell_type": "code",
   "execution_count": null,
   "metadata": {},
   "outputs": [],
   "source": []
  }
 ],
 "metadata": {
  "kernelspec": {
   "display_name": "Python3 (rdkit)",
   "language": "python",
   "name": "my-rdkit-env"
  },
  "language_info": {
   "codemirror_mode": {
    "name": "ipython",
    "version": 3
   },
   "file_extension": ".py",
   "mimetype": "text/x-python",
   "name": "python",
   "nbconvert_exporter": "python",
   "pygments_lexer": "ipython3",
   "version": "3.10.12"
  },
  "toc": {
   "base_numbering": 1,
   "nav_menu": {},
   "number_sections": true,
   "sideBar": true,
   "skip_h1_title": false,
   "title_cell": "Table of Contents",
   "title_sidebar": "Contents",
   "toc_cell": false,
   "toc_position": {
    "height": "calc(100% - 180px)",
    "left": "10px",
    "top": "150px",
    "width": "384px"
   },
   "toc_section_display": true,
   "toc_window_display": true
  },
  "widgets": {
   "application/vnd.jupyter.widget-state+json": {
    "state": {},
    "version_major": 2,
    "version_minor": 0
   }
  }
 },
 "nbformat": 4,
 "nbformat_minor": 4
}
