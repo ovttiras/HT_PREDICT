{
 "cells": [
  {
   "cell_type": "code",
   "execution_count": null,
   "metadata": {},
   "outputs": [],
   "source": []
  },
  {
   "cell_type": "code",
   "execution_count": 1,
   "metadata": {
    "colab": {
     "base_uri": "https://localhost:8080/"
    },
    "id": "WYiWRiHFEnCt",
    "outputId": "e3126378-3536-4876-d9ea-894685071867"
   },
   "outputs": [],
   "source": [
    "from rdkit import Chem, DataStructs\n",
    "from rdkit.Chem import AllChem, Descriptors\n",
    "from rdkit.ML.Descriptors import MoleculeDescriptors\n",
    "from molvs import standardize_smiles\n",
    "from copy import deepcopy\n",
    "import numpy as np\n",
    "import pandas as pd\n",
    "from sklearn.svm import SVC\n",
    "from sklearn.model_selection import KFold, GridSearchCV\n",
    "from sklearn.metrics import mean_absolute_error\n",
    "from sklearn.metrics import r2_score\n",
    "from sklearn.ensemble import GradientBoostingRegressor\n",
    "from sklearn.svm import SVR\n",
    "from sklearn.model_selection import permutation_test_score\n",
    "from sklearn.preprocessing import StandardScaler\n",
    "from sklearn.model_selection import cross_val_predict\n",
    "from sklearn import metrics\n",
    "from sklearn.metrics import pairwise_distances\n",
    "import joblib\n",
    "import pickle\n",
    "from numpy import savetxt\n",
    "from padelpy import from_sdf\n",
    "import shap\n",
    "from tqdm.notebook import tqdm"
   ]
  },
  {
   "cell_type": "code",
   "execution_count": 2,
   "metadata": {
    "id": "J6dhVvUYkWCP"
   },
   "outputs": [],
   "source": [
    "def convert_smi_to_canon_smi(smi):\n",
    "\n",
    "    try:\n",
    "        canon_smi = Chem.MolToSmiles(Chem.MolFromSmiles(smi),isomericSmiles = False)\n",
    "    except:\n",
    "        canon_smi='wrong_smiles'\n",
    "    return canon_smi"
   ]
  },
  {
   "cell_type": "code",
   "execution_count": 3,
   "metadata": {
    "id": "Bt0bd3e2lEXt"
   },
   "outputs": [],
   "source": [
    "def standart(smi):\n",
    "    global m\n",
    "    if smi!='wrong_smiles':\n",
    "        try:\n",
    "            smiles=standardize_smiles(smi)\n",
    "            m = Chem.MolFromSmiles(smi)\n",
    "        except:\n",
    "            smi='error kekule'\n",
    "    else:\n",
    "        m = 'check the smiles'\n",
    "    return m"
   ]
  },
  {
   "cell_type": "code",
   "execution_count": 4,
   "metadata": {
    "colab": {
     "base_uri": "https://localhost:8080/",
     "height": 424
    },
    "id": "jMHL4B_FlHOs",
    "outputId": "33dfb65e-9b06-46bb-b6b2-fec211eceff9"
   },
   "outputs": [
    {
     "data": {
      "text/html": [
       "<div>\n",
       "<style scoped>\n",
       "    .dataframe tbody tr th:only-of-type {\n",
       "        vertical-align: middle;\n",
       "    }\n",
       "\n",
       "    .dataframe tbody tr th {\n",
       "        vertical-align: top;\n",
       "    }\n",
       "\n",
       "    .dataframe thead th {\n",
       "        text-align: right;\n",
       "    }\n",
       "</style>\n",
       "<table border=\"1\" class=\"dataframe\">\n",
       "  <thead>\n",
       "    <tr style=\"text-align: right;\">\n",
       "      <th></th>\n",
       "      <th>CAS_Number</th>\n",
       "      <th>SMILES</th>\n",
       "      <th>pLD50</th>\n",
       "      <th>LD50,mg/kg</th>\n",
       "    </tr>\n",
       "  </thead>\n",
       "  <tbody>\n",
       "    <tr>\n",
       "      <th>0</th>\n",
       "      <td>626-48-2</td>\n",
       "      <td>Cc1cc(=O)[nH]c(=O)[nH]1</td>\n",
       "      <td>0.291207</td>\n",
       "      <td>64463.0000</td>\n",
       "    </tr>\n",
       "    <tr>\n",
       "      <th>1</th>\n",
       "      <td>27849-94-1</td>\n",
       "      <td>CC(CCc1ccc2c(c1)OCO2)NN</td>\n",
       "      <td>0.440660</td>\n",
       "      <td>75449.0000</td>\n",
       "    </tr>\n",
       "    <tr>\n",
       "      <th>2</th>\n",
       "      <td>110-54-3</td>\n",
       "      <td>CCCCCC</td>\n",
       "      <td>0.537460</td>\n",
       "      <td>24980.0000</td>\n",
       "    </tr>\n",
       "    <tr>\n",
       "      <th>3</th>\n",
       "      <td>1330-92-3</td>\n",
       "      <td>CCCCC(CC)COC(=O)C1=C(C(=O)OCC(CC)CCCC)CCCC1</td>\n",
       "      <td>0.539250</td>\n",
       "      <td>113917.0000</td>\n",
       "    </tr>\n",
       "    <tr>\n",
       "      <th>4</th>\n",
       "      <td>57-55-6</td>\n",
       "      <td>CC(O)CO</td>\n",
       "      <td>0.580330</td>\n",
       "      <td>19989.0000</td>\n",
       "    </tr>\n",
       "    <tr>\n",
       "      <th>...</th>\n",
       "      <td>...</td>\n",
       "      <td>...</td>\n",
       "      <td>...</td>\n",
       "      <td>...</td>\n",
       "    </tr>\n",
       "    <tr>\n",
       "      <th>7707</th>\n",
       "      <td>56073-10-0</td>\n",
       "      <td>O=c1oc2ccccc2c(O)c1C1CC(c2ccc(-c3ccc(Br)cc3)cc...</td>\n",
       "      <td>6.514700</td>\n",
       "      <td>0.1596</td>\n",
       "    </tr>\n",
       "    <tr>\n",
       "      <th>7708</th>\n",
       "      <td>130209-82-4</td>\n",
       "      <td>CC(C)OC(=O)CCC/C=C/CC1C(O)CC(O)C1CCC(O)CCc1ccccc1</td>\n",
       "      <td>6.937100</td>\n",
       "      <td>0.0500</td>\n",
       "    </tr>\n",
       "    <tr>\n",
       "      <th>7709</th>\n",
       "      <td>83805-11-2</td>\n",
       "      <td>C=C1/C(=C\\C=C2/CCCC3(C)C2CCC3C(C)CCCC(O)(C(F)(...</td>\n",
       "      <td>7.099700</td>\n",
       "      <td>0.0417</td>\n",
       "    </tr>\n",
       "    <tr>\n",
       "      <th>7710</th>\n",
       "      <td>1746-01-6</td>\n",
       "      <td>Clc1cc2c(cc1Cl)Oc1cc(Cl)c(Cl)cc1O2</td>\n",
       "      <td>7.206800</td>\n",
       "      <td>0.0199</td>\n",
       "    </tr>\n",
       "    <tr>\n",
       "      <th>7711</th>\n",
       "      <td>316-42-7</td>\n",
       "      <td>CCC1CN2CCc3cc(OC)c(OC)cc3C2CC1CC1NCCc2cc(OC)c(...</td>\n",
       "      <td>7.602600</td>\n",
       "      <td>0.0120</td>\n",
       "    </tr>\n",
       "  </tbody>\n",
       "</table>\n",
       "<p>7712 rows × 4 columns</p>\n",
       "</div>"
      ],
      "text/plain": [
       "       CAS_Number                                             SMILES  \\\n",
       "0        626-48-2                            Cc1cc(=O)[nH]c(=O)[nH]1   \n",
       "1      27849-94-1                            CC(CCc1ccc2c(c1)OCO2)NN   \n",
       "2        110-54-3                                             CCCCCC   \n",
       "3       1330-92-3        CCCCC(CC)COC(=O)C1=C(C(=O)OCC(CC)CCCC)CCCC1   \n",
       "4         57-55-6                                            CC(O)CO   \n",
       "...           ...                                                ...   \n",
       "7707   56073-10-0  O=c1oc2ccccc2c(O)c1C1CC(c2ccc(-c3ccc(Br)cc3)cc...   \n",
       "7708  130209-82-4  CC(C)OC(=O)CCC/C=C/CC1C(O)CC(O)C1CCC(O)CCc1ccccc1   \n",
       "7709   83805-11-2  C=C1/C(=C\\C=C2/CCCC3(C)C2CCC3C(C)CCCC(O)(C(F)(...   \n",
       "7710    1746-01-6                 Clc1cc2c(cc1Cl)Oc1cc(Cl)c(Cl)cc1O2   \n",
       "7711     316-42-7  CCC1CN2CCc3cc(OC)c(OC)cc3C2CC1CC1NCCc2cc(OC)c(...   \n",
       "\n",
       "         pLD50   LD50,mg/kg  \n",
       "0     0.291207   64463.0000  \n",
       "1     0.440660   75449.0000  \n",
       "2     0.537460   24980.0000  \n",
       "3     0.539250  113917.0000  \n",
       "4     0.580330   19989.0000  \n",
       "...        ...          ...  \n",
       "7707  6.514700       0.1596  \n",
       "7708  6.937100       0.0500  \n",
       "7709  7.099700       0.0417  \n",
       "7710  7.206800       0.0199  \n",
       "7711  7.602600       0.0120  \n",
       "\n",
       "[7712 rows x 4 columns]"
      ]
     },
     "execution_count": 4,
     "metadata": {},
     "output_type": "execute_result"
    }
   ],
   "source": [
    "df_ws=pd.read_csv('rat_oral_LD50_WS.csv')\n",
    "df_ws"
   ]
  },
  {
   "cell_type": "code",
   "execution_count": 5,
   "metadata": {
    "colab": {
     "base_uri": "https://localhost:8080/",
     "height": 424
    },
    "id": "UsgDqvydlzhd",
    "outputId": "402d6cae-fe2b-4ef3-c840-279d9355ee2a"
   },
   "outputs": [
    {
     "data": {
      "text/html": [
       "<div>\n",
       "<style scoped>\n",
       "    .dataframe tbody tr th:only-of-type {\n",
       "        vertical-align: middle;\n",
       "    }\n",
       "\n",
       "    .dataframe tbody tr th {\n",
       "        vertical-align: top;\n",
       "    }\n",
       "\n",
       "    .dataframe thead th {\n",
       "        text-align: right;\n",
       "    }\n",
       "</style>\n",
       "<table border=\"1\" class=\"dataframe\">\n",
       "  <thead>\n",
       "    <tr style=\"text-align: right;\">\n",
       "      <th></th>\n",
       "      <th>CAS_Number</th>\n",
       "      <th>SMILES</th>\n",
       "      <th>pLD50</th>\n",
       "      <th>LD50,mg/kg</th>\n",
       "    </tr>\n",
       "  </thead>\n",
       "  <tbody>\n",
       "    <tr>\n",
       "      <th>0</th>\n",
       "      <td>626-48-2</td>\n",
       "      <td>Cc1cc(=O)[nH]c(=O)[nH]1</td>\n",
       "      <td>0.291207</td>\n",
       "      <td>64463.0000</td>\n",
       "    </tr>\n",
       "    <tr>\n",
       "      <th>1</th>\n",
       "      <td>27849-94-1</td>\n",
       "      <td>CC(CCc1ccc2c(c1)OCO2)NN</td>\n",
       "      <td>0.440660</td>\n",
       "      <td>75449.0000</td>\n",
       "    </tr>\n",
       "    <tr>\n",
       "      <th>2</th>\n",
       "      <td>110-54-3</td>\n",
       "      <td>CCCCCC</td>\n",
       "      <td>0.537460</td>\n",
       "      <td>24980.0000</td>\n",
       "    </tr>\n",
       "    <tr>\n",
       "      <th>3</th>\n",
       "      <td>1330-92-3</td>\n",
       "      <td>CCCCC(CC)COC(=O)C1=C(C(=O)OCC(CC)CCCC)CCCC1</td>\n",
       "      <td>0.539250</td>\n",
       "      <td>113917.0000</td>\n",
       "    </tr>\n",
       "    <tr>\n",
       "      <th>4</th>\n",
       "      <td>57-55-6</td>\n",
       "      <td>CC(O)CO</td>\n",
       "      <td>0.580330</td>\n",
       "      <td>19989.0000</td>\n",
       "    </tr>\n",
       "    <tr>\n",
       "      <th>...</th>\n",
       "      <td>...</td>\n",
       "      <td>...</td>\n",
       "      <td>...</td>\n",
       "      <td>...</td>\n",
       "    </tr>\n",
       "    <tr>\n",
       "      <th>7707</th>\n",
       "      <td>56073-10-0</td>\n",
       "      <td>O=c1oc2ccccc2c(O)c1C1CC(c2ccc(-c3ccc(Br)cc3)cc...</td>\n",
       "      <td>6.514700</td>\n",
       "      <td>0.1596</td>\n",
       "    </tr>\n",
       "    <tr>\n",
       "      <th>7708</th>\n",
       "      <td>130209-82-4</td>\n",
       "      <td>CC(C)OC(=O)CCCC=CCC1C(O)CC(O)C1CCC(O)CCc1ccccc1</td>\n",
       "      <td>6.937100</td>\n",
       "      <td>0.0500</td>\n",
       "    </tr>\n",
       "    <tr>\n",
       "      <th>7709</th>\n",
       "      <td>83805-11-2</td>\n",
       "      <td>C=C1C(=CC=C2CCCC3(C)C2CCC3C(C)CCCC(O)(C(F)(F)F...</td>\n",
       "      <td>7.099700</td>\n",
       "      <td>0.0417</td>\n",
       "    </tr>\n",
       "    <tr>\n",
       "      <th>7710</th>\n",
       "      <td>1746-01-6</td>\n",
       "      <td>Clc1cc2c(cc1Cl)Oc1cc(Cl)c(Cl)cc1O2</td>\n",
       "      <td>7.206800</td>\n",
       "      <td>0.0199</td>\n",
       "    </tr>\n",
       "    <tr>\n",
       "      <th>7711</th>\n",
       "      <td>316-42-7</td>\n",
       "      <td>CCC1CN2CCc3cc(OC)c(OC)cc3C2CC1CC1NCCc2cc(OC)c(...</td>\n",
       "      <td>7.602600</td>\n",
       "      <td>0.0120</td>\n",
       "    </tr>\n",
       "  </tbody>\n",
       "</table>\n",
       "<p>7712 rows × 4 columns</p>\n",
       "</div>"
      ],
      "text/plain": [
       "       CAS_Number                                             SMILES  \\\n",
       "0        626-48-2                            Cc1cc(=O)[nH]c(=O)[nH]1   \n",
       "1      27849-94-1                            CC(CCc1ccc2c(c1)OCO2)NN   \n",
       "2        110-54-3                                             CCCCCC   \n",
       "3       1330-92-3        CCCCC(CC)COC(=O)C1=C(C(=O)OCC(CC)CCCC)CCCC1   \n",
       "4         57-55-6                                            CC(O)CO   \n",
       "...           ...                                                ...   \n",
       "7707   56073-10-0  O=c1oc2ccccc2c(O)c1C1CC(c2ccc(-c3ccc(Br)cc3)cc...   \n",
       "7708  130209-82-4    CC(C)OC(=O)CCCC=CCC1C(O)CC(O)C1CCC(O)CCc1ccccc1   \n",
       "7709   83805-11-2  C=C1C(=CC=C2CCCC3(C)C2CCC3C(C)CCCC(O)(C(F)(F)F...   \n",
       "7710    1746-01-6                 Clc1cc2c(cc1Cl)Oc1cc(Cl)c(Cl)cc1O2   \n",
       "7711     316-42-7  CCC1CN2CCc3cc(OC)c(OC)cc3C2CC1CC1NCCc2cc(OC)c(...   \n",
       "\n",
       "         pLD50   LD50,mg/kg  \n",
       "0     0.291207   64463.0000  \n",
       "1     0.440660   75449.0000  \n",
       "2     0.537460   24980.0000  \n",
       "3     0.539250  113917.0000  \n",
       "4     0.580330   19989.0000  \n",
       "...        ...          ...  \n",
       "7707  6.514700       0.1596  \n",
       "7708  6.937100       0.0500  \n",
       "7709  7.099700       0.0417  \n",
       "7710  7.206800       0.0199  \n",
       "7711  7.602600       0.0120  \n",
       "\n",
       "[7712 rows x 4 columns]"
      ]
     },
     "execution_count": 5,
     "metadata": {},
     "output_type": "execute_result"
    }
   ],
   "source": [
    "df_ws1 = deepcopy(df_ws)\n",
    "df_ws1[\"SMILES\"] = df_ws1.apply(lambda x: convert_smi_to_canon_smi(x.SMILES), axis=1)\n",
    "df_ws1"
   ]
  },
  {
   "cell_type": "code",
   "execution_count": 6,
   "metadata": {
    "colab": {
     "base_uri": "https://localhost:8080/"
    },
    "id": "37Udfijxl3AE",
    "outputId": "a460744e-7db5-4804-b4e8-c31b8bddc741"
   },
   "outputs": [
    {
     "name": "stdout",
     "output_type": "stream",
     "text": [
      "Original data:  7712 molecules\n",
      "Failed data:  0 molecules\n"
     ]
    }
   ],
   "source": [
    "print('Original data: ', len(df_ws), 'molecules')\n",
    "print('Failed data: ', len(df_ws1[df_ws1['SMILES']=='wrong_smiles']), 'molecules')"
   ]
  },
  {
   "cell_type": "code",
   "execution_count": 7,
   "metadata": {
    "colab": {
     "base_uri": "https://localhost:8080/",
     "height": 81
    },
    "id": "Nb0da9N9l-GX",
    "outputId": "54ded7ac-5bf7-4609-f11a-03ba78ebcb88"
   },
   "outputs": [
    {
     "data": {
      "text/html": [
       "<div>\n",
       "<style scoped>\n",
       "    .dataframe tbody tr th:only-of-type {\n",
       "        vertical-align: middle;\n",
       "    }\n",
       "\n",
       "    .dataframe tbody tr th {\n",
       "        vertical-align: top;\n",
       "    }\n",
       "\n",
       "    .dataframe thead th {\n",
       "        text-align: right;\n",
       "    }\n",
       "</style>\n",
       "<table border=\"1\" class=\"dataframe\">\n",
       "  <thead>\n",
       "    <tr style=\"text-align: right;\">\n",
       "      <th></th>\n",
       "      <th>SMILES of wrong structure:</th>\n",
       "    </tr>\n",
       "    <tr>\n",
       "      <th>No. failed smiles in original set</th>\n",
       "      <th></th>\n",
       "    </tr>\n",
       "  </thead>\n",
       "  <tbody>\n",
       "  </tbody>\n",
       "</table>\n",
       "</div>"
      ],
      "text/plain": [
       "Empty DataFrame\n",
       "Columns: [SMILES of wrong structure: ]\n",
       "Index: []"
      ]
     },
     "execution_count": 7,
     "metadata": {},
     "output_type": "execute_result"
    }
   ],
   "source": [
    "index=df_ws1.index[df_ws1['SMILES']=='wrong_smiles'].tolist()\n",
    "wrong_smiles=df_ws.iloc[index]\n",
    "wrong_smiles=wrong_smiles.SMILES\n",
    "number=[x+1 for x in index]\n",
    "bad_molecules = pd.DataFrame({'No. failed smiles in original set': number, 'SMILES of wrong structure: ': wrong_smiles}, index=None)\n",
    "bad_molecules = bad_molecules.set_index('No. failed smiles in original set')\n",
    "bad_molecules"
   ]
  },
  {
   "cell_type": "markdown",
   "metadata": {
    "id": "hdD5zRqKmBG2"
   },
   "source": [
    "2.2  Standardization for work set"
   ]
  },
  {
   "cell_type": "code",
   "execution_count": 8,
   "metadata": {
    "colab": {
     "base_uri": "https://localhost:8080/"
    },
    "id": "XDQbVHpomEk4",
    "outputId": "93891982-de2b-4602-ccae-6dcab99a9d61"
   },
   "outputs": [
    {
     "name": "stdout",
     "output_type": "stream",
     "text": [
      "Kept data:  7712 molecules\n"
     ]
    }
   ],
   "source": [
    "df_ws1[\"Molecule\"] = df_ws1.apply(lambda x: standart(x.SMILES), axis=1)\n",
    "moldf_ws=df_ws1[df_ws1['SMILES']!='wrong_smiles']\n",
    "print('Kept data: ', len(moldf_ws), 'molecules')"
   ]
  },
  {
   "cell_type": "code",
   "execution_count": 9,
   "metadata": {
    "colab": {
     "base_uri": "https://localhost:8080/",
     "height": 424
    },
    "id": "0HKTYe-ymMOv",
    "outputId": "c66019b1-3d29-4477-96c2-8f5e9036447e"
   },
   "outputs": [
    {
     "data": {
      "text/html": [
       "<div>\n",
       "<style scoped>\n",
       "    .dataframe tbody tr th:only-of-type {\n",
       "        vertical-align: middle;\n",
       "    }\n",
       "\n",
       "    .dataframe tbody tr th {\n",
       "        vertical-align: top;\n",
       "    }\n",
       "\n",
       "    .dataframe thead th {\n",
       "        text-align: right;\n",
       "    }\n",
       "</style>\n",
       "<table border=\"1\" class=\"dataframe\">\n",
       "  <thead>\n",
       "    <tr style=\"text-align: right;\">\n",
       "      <th></th>\n",
       "      <th>CAS_Number</th>\n",
       "      <th>SMILES</th>\n",
       "      <th>pLD50</th>\n",
       "      <th>LD50,mg/kg</th>\n",
       "      <th>Molecule</th>\n",
       "    </tr>\n",
       "  </thead>\n",
       "  <tbody>\n",
       "    <tr>\n",
       "      <th>0</th>\n",
       "      <td>626-48-2</td>\n",
       "      <td>Cc1cc(=O)[nH]c(=O)[nH]1</td>\n",
       "      <td>0.291207</td>\n",
       "      <td>64463.0000</td>\n",
       "      <td>&lt;rdkit.Chem.rdchem.Mol object at 0x0000014A970...</td>\n",
       "    </tr>\n",
       "    <tr>\n",
       "      <th>1</th>\n",
       "      <td>27849-94-1</td>\n",
       "      <td>CC(CCc1ccc2c(c1)OCO2)NN</td>\n",
       "      <td>0.440660</td>\n",
       "      <td>75449.0000</td>\n",
       "      <td>&lt;rdkit.Chem.rdchem.Mol object at 0x0000014A970...</td>\n",
       "    </tr>\n",
       "    <tr>\n",
       "      <th>2</th>\n",
       "      <td>110-54-3</td>\n",
       "      <td>CCCCCC</td>\n",
       "      <td>0.537460</td>\n",
       "      <td>24980.0000</td>\n",
       "      <td>&lt;rdkit.Chem.rdchem.Mol object at 0x0000014A970...</td>\n",
       "    </tr>\n",
       "    <tr>\n",
       "      <th>3</th>\n",
       "      <td>1330-92-3</td>\n",
       "      <td>CCCCC(CC)COC(=O)C1=C(C(=O)OCC(CC)CCCC)CCCC1</td>\n",
       "      <td>0.539250</td>\n",
       "      <td>113917.0000</td>\n",
       "      <td>&lt;rdkit.Chem.rdchem.Mol object at 0x0000014A970...</td>\n",
       "    </tr>\n",
       "    <tr>\n",
       "      <th>4</th>\n",
       "      <td>57-55-6</td>\n",
       "      <td>CC(O)CO</td>\n",
       "      <td>0.580330</td>\n",
       "      <td>19989.0000</td>\n",
       "      <td>&lt;rdkit.Chem.rdchem.Mol object at 0x0000014A972...</td>\n",
       "    </tr>\n",
       "    <tr>\n",
       "      <th>...</th>\n",
       "      <td>...</td>\n",
       "      <td>...</td>\n",
       "      <td>...</td>\n",
       "      <td>...</td>\n",
       "      <td>...</td>\n",
       "    </tr>\n",
       "    <tr>\n",
       "      <th>7707</th>\n",
       "      <td>56073-10-0</td>\n",
       "      <td>O=c1oc2ccccc2c(O)c1C1CC(c2ccc(-c3ccc(Br)cc3)cc...</td>\n",
       "      <td>6.514700</td>\n",
       "      <td>0.1596</td>\n",
       "      <td>&lt;rdkit.Chem.rdchem.Mol object at 0x0000014A982...</td>\n",
       "    </tr>\n",
       "    <tr>\n",
       "      <th>7708</th>\n",
       "      <td>130209-82-4</td>\n",
       "      <td>CC(C)OC(=O)CCCC=CCC1C(O)CC(O)C1CCC(O)CCc1ccccc1</td>\n",
       "      <td>6.937100</td>\n",
       "      <td>0.0500</td>\n",
       "      <td>&lt;rdkit.Chem.rdchem.Mol object at 0x0000014A982...</td>\n",
       "    </tr>\n",
       "    <tr>\n",
       "      <th>7709</th>\n",
       "      <td>83805-11-2</td>\n",
       "      <td>C=C1C(=CC=C2CCCC3(C)C2CCC3C(C)CCCC(O)(C(F)(F)F...</td>\n",
       "      <td>7.099700</td>\n",
       "      <td>0.0417</td>\n",
       "      <td>&lt;rdkit.Chem.rdchem.Mol object at 0x0000014A982...</td>\n",
       "    </tr>\n",
       "    <tr>\n",
       "      <th>7710</th>\n",
       "      <td>1746-01-6</td>\n",
       "      <td>Clc1cc2c(cc1Cl)Oc1cc(Cl)c(Cl)cc1O2</td>\n",
       "      <td>7.206800</td>\n",
       "      <td>0.0199</td>\n",
       "      <td>&lt;rdkit.Chem.rdchem.Mol object at 0x0000014A982...</td>\n",
       "    </tr>\n",
       "    <tr>\n",
       "      <th>7711</th>\n",
       "      <td>316-42-7</td>\n",
       "      <td>CCC1CN2CCc3cc(OC)c(OC)cc3C2CC1CC1NCCc2cc(OC)c(...</td>\n",
       "      <td>7.602600</td>\n",
       "      <td>0.0120</td>\n",
       "      <td>&lt;rdkit.Chem.rdchem.Mol object at 0x0000014A982...</td>\n",
       "    </tr>\n",
       "  </tbody>\n",
       "</table>\n",
       "<p>7712 rows × 5 columns</p>\n",
       "</div>"
      ],
      "text/plain": [
       "       CAS_Number                                             SMILES  \\\n",
       "0        626-48-2                            Cc1cc(=O)[nH]c(=O)[nH]1   \n",
       "1      27849-94-1                            CC(CCc1ccc2c(c1)OCO2)NN   \n",
       "2        110-54-3                                             CCCCCC   \n",
       "3       1330-92-3        CCCCC(CC)COC(=O)C1=C(C(=O)OCC(CC)CCCC)CCCC1   \n",
       "4         57-55-6                                            CC(O)CO   \n",
       "...           ...                                                ...   \n",
       "7707   56073-10-0  O=c1oc2ccccc2c(O)c1C1CC(c2ccc(-c3ccc(Br)cc3)cc...   \n",
       "7708  130209-82-4    CC(C)OC(=O)CCCC=CCC1C(O)CC(O)C1CCC(O)CCc1ccccc1   \n",
       "7709   83805-11-2  C=C1C(=CC=C2CCCC3(C)C2CCC3C(C)CCCC(O)(C(F)(F)F...   \n",
       "7710    1746-01-6                 Clc1cc2c(cc1Cl)Oc1cc(Cl)c(Cl)cc1O2   \n",
       "7711     316-42-7  CCC1CN2CCc3cc(OC)c(OC)cc3C2CC1CC1NCCc2cc(OC)c(...   \n",
       "\n",
       "         pLD50   LD50,mg/kg                                           Molecule  \n",
       "0     0.291207   64463.0000  <rdkit.Chem.rdchem.Mol object at 0x0000014A970...  \n",
       "1     0.440660   75449.0000  <rdkit.Chem.rdchem.Mol object at 0x0000014A970...  \n",
       "2     0.537460   24980.0000  <rdkit.Chem.rdchem.Mol object at 0x0000014A970...  \n",
       "3     0.539250  113917.0000  <rdkit.Chem.rdchem.Mol object at 0x0000014A970...  \n",
       "4     0.580330   19989.0000  <rdkit.Chem.rdchem.Mol object at 0x0000014A972...  \n",
       "...        ...          ...                                                ...  \n",
       "7707  6.514700       0.1596  <rdkit.Chem.rdchem.Mol object at 0x0000014A982...  \n",
       "7708  6.937100       0.0500  <rdkit.Chem.rdchem.Mol object at 0x0000014A982...  \n",
       "7709  7.099700       0.0417  <rdkit.Chem.rdchem.Mol object at 0x0000014A982...  \n",
       "7710  7.206800       0.0199  <rdkit.Chem.rdchem.Mol object at 0x0000014A982...  \n",
       "7711  7.602600       0.0120  <rdkit.Chem.rdchem.Mol object at 0x0000014A982...  \n",
       "\n",
       "[7712 rows x 5 columns]"
      ]
     },
     "execution_count": 9,
     "metadata": {},
     "output_type": "execute_result"
    }
   ],
   "source": [
    "moldf_ws"
   ]
  },
  {
   "cell_type": "code",
   "execution_count": 10,
   "metadata": {
    "colab": {
     "base_uri": "https://localhost:8080/"
    },
    "id": "NQaB6GUpmQeG",
    "outputId": "c2a054fa-c78d-46ee-f259-9a28fdb78fc2"
   },
   "outputs": [
    {
     "data": {
      "text/plain": [
       "0       0.291207\n",
       "1       0.440660\n",
       "2       0.537460\n",
       "3       0.539250\n",
       "4       0.580330\n",
       "          ...   \n",
       "7707    6.514700\n",
       "7708    6.937100\n",
       "7709    7.099700\n",
       "7710    7.206800\n",
       "7711    7.602600\n",
       "Name: pLD50, Length: 7712, dtype: float64"
      ]
     },
     "execution_count": 10,
     "metadata": {},
     "output_type": "execute_result"
    }
   ],
   "source": [
    "y_tr=moldf_ws.pLD50\n",
    "y_tr"
   ]
  },
  {
   "cell_type": "code",
   "execution_count": 11,
   "metadata": {
    "colab": {
     "base_uri": "https://localhost:8080/",
     "height": 424
    },
    "id": "HfpXGKmFmSxV",
    "outputId": "e12fc285-2f9f-423d-9f10-be00ac3366a4"
   },
   "outputs": [
    {
     "data": {
      "text/html": [
       "<div>\n",
       "<style scoped>\n",
       "    .dataframe tbody tr th:only-of-type {\n",
       "        vertical-align: middle;\n",
       "    }\n",
       "\n",
       "    .dataframe tbody tr th {\n",
       "        vertical-align: top;\n",
       "    }\n",
       "\n",
       "    .dataframe thead th {\n",
       "        text-align: right;\n",
       "    }\n",
       "</style>\n",
       "<table border=\"1\" class=\"dataframe\">\n",
       "  <thead>\n",
       "    <tr style=\"text-align: right;\">\n",
       "      <th></th>\n",
       "      <th>SMILES</th>\n",
       "    </tr>\n",
       "  </thead>\n",
       "  <tbody>\n",
       "    <tr>\n",
       "      <th>0</th>\n",
       "      <td>Cc1cc(=O)[nH]c(=O)[nH]1</td>\n",
       "    </tr>\n",
       "    <tr>\n",
       "      <th>1</th>\n",
       "      <td>CC(CCc1ccc2c(c1)OCO2)NN</td>\n",
       "    </tr>\n",
       "    <tr>\n",
       "      <th>2</th>\n",
       "      <td>CCCCCC</td>\n",
       "    </tr>\n",
       "    <tr>\n",
       "      <th>3</th>\n",
       "      <td>CCCCC(CC)COC(=O)C1=C(C(=O)OCC(CC)CCCC)CCCC1</td>\n",
       "    </tr>\n",
       "    <tr>\n",
       "      <th>4</th>\n",
       "      <td>CC(O)CO</td>\n",
       "    </tr>\n",
       "    <tr>\n",
       "      <th>...</th>\n",
       "      <td>...</td>\n",
       "    </tr>\n",
       "    <tr>\n",
       "      <th>7707</th>\n",
       "      <td>O=c1oc2ccccc2c(O)c1C1CC(c2ccc(-c3ccc(Br)cc3)cc...</td>\n",
       "    </tr>\n",
       "    <tr>\n",
       "      <th>7708</th>\n",
       "      <td>CC(C)OC(=O)CCCC=CCC1C(O)CC(O)C1CCC(O)CCc1ccccc1</td>\n",
       "    </tr>\n",
       "    <tr>\n",
       "      <th>7709</th>\n",
       "      <td>C=C1C(=CC=C2CCCC3(C)C2CCC3C(C)CCCC(O)(C(F)(F)F...</td>\n",
       "    </tr>\n",
       "    <tr>\n",
       "      <th>7710</th>\n",
       "      <td>Clc1cc2c(cc1Cl)Oc1cc(Cl)c(Cl)cc1O2</td>\n",
       "    </tr>\n",
       "    <tr>\n",
       "      <th>7711</th>\n",
       "      <td>CCC1CN2CCc3cc(OC)c(OC)cc3C2CC1CC1NCCc2cc(OC)c(...</td>\n",
       "    </tr>\n",
       "  </tbody>\n",
       "</table>\n",
       "<p>7712 rows × 1 columns</p>\n",
       "</div>"
      ],
      "text/plain": [
       "                                                 SMILES\n",
       "0                               Cc1cc(=O)[nH]c(=O)[nH]1\n",
       "1                               CC(CCc1ccc2c(c1)OCO2)NN\n",
       "2                                                CCCCCC\n",
       "3           CCCCC(CC)COC(=O)C1=C(C(=O)OCC(CC)CCCC)CCCC1\n",
       "4                                               CC(O)CO\n",
       "...                                                 ...\n",
       "7707  O=c1oc2ccccc2c(O)c1C1CC(c2ccc(-c3ccc(Br)cc3)cc...\n",
       "7708    CC(C)OC(=O)CCCC=CCC1C(O)CC(O)C1CCC(O)CCc1ccccc1\n",
       "7709  C=C1C(=CC=C2CCCC3(C)C2CCC3C(C)CCCC(O)(C(F)(F)F...\n",
       "7710                 Clc1cc2c(cc1Cl)Oc1cc(Cl)c(Cl)cc1O2\n",
       "7711  CCC1CN2CCc3cc(OC)c(OC)cc3C2CC1CC1NCCc2cc(OC)c(...\n",
       "\n",
       "[7712 rows x 1 columns]"
      ]
     },
     "execution_count": 11,
     "metadata": {},
     "output_type": "execute_result"
    }
   ],
   "source": [
    "df = pd.DataFrame(moldf_ws, columns=[\"SMILES\"])\n",
    "df"
   ]
  },
  {
   "cell_type": "code",
   "execution_count": 12,
   "metadata": {
    "id": "9-gGvDdemXE6"
   },
   "outputs": [],
   "source": [
    "df.to_csv('datasets/molecule_ws.smi', sep=',', index=False, header=False)"
   ]
  },
  {
   "cell_type": "markdown",
   "metadata": {
    "id": "xpZZfNXqotHS"
   },
   "source": [
    "2.3  Load data and curation test set"
   ]
  },
  {
   "cell_type": "code",
   "execution_count": 13,
   "metadata": {
    "colab": {
     "base_uri": "https://localhost:8080/",
     "height": 424
    },
    "id": "rFc1VfCoovzB",
    "outputId": "2911e7bb-5929-4b6d-8cdf-f98bd4ae9aac"
   },
   "outputs": [
    {
     "data": {
      "text/html": [
       "<div>\n",
       "<style scoped>\n",
       "    .dataframe tbody tr th:only-of-type {\n",
       "        vertical-align: middle;\n",
       "    }\n",
       "\n",
       "    .dataframe tbody tr th {\n",
       "        vertical-align: top;\n",
       "    }\n",
       "\n",
       "    .dataframe thead th {\n",
       "        text-align: right;\n",
       "    }\n",
       "</style>\n",
       "<table border=\"1\" class=\"dataframe\">\n",
       "  <thead>\n",
       "    <tr style=\"text-align: right;\">\n",
       "      <th></th>\n",
       "      <th>CAS_Number</th>\n",
       "      <th>SMILES</th>\n",
       "      <th>pLD50</th>\n",
       "      <th>LD50,mg/kg</th>\n",
       "    </tr>\n",
       "  </thead>\n",
       "  <tbody>\n",
       "    <tr>\n",
       "      <th>0</th>\n",
       "      <td>7782-40-3</td>\n",
       "      <td>C</td>\n",
       "      <td>0.017765</td>\n",
       "      <td>15388.8000</td>\n",
       "    </tr>\n",
       "    <tr>\n",
       "      <th>1</th>\n",
       "      <td>2842-38-8</td>\n",
       "      <td>OCCNC1CCCCC1</td>\n",
       "      <td>0.572840</td>\n",
       "      <td>38274.0000</td>\n",
       "    </tr>\n",
       "    <tr>\n",
       "      <th>2</th>\n",
       "      <td>66257-53-2</td>\n",
       "      <td>NC(=O)C(=O)O</td>\n",
       "      <td>0.624490</td>\n",
       "      <td>21133.0000</td>\n",
       "    </tr>\n",
       "    <tr>\n",
       "      <th>3</th>\n",
       "      <td>2173-56-0</td>\n",
       "      <td>CCCCCOC(=O)CCCC</td>\n",
       "      <td>0.686960</td>\n",
       "      <td>35395.0000</td>\n",
       "    </tr>\n",
       "    <tr>\n",
       "      <th>4</th>\n",
       "      <td>4726-93-6</td>\n",
       "      <td>O=C1CCCCC(=O)N1</td>\n",
       "      <td>0.750180</td>\n",
       "      <td>22586.0000</td>\n",
       "    </tr>\n",
       "    <tr>\n",
       "      <th>...</th>\n",
       "      <td>...</td>\n",
       "      <td>...</td>\n",
       "      <td>...</td>\n",
       "      <td>...</td>\n",
       "    </tr>\n",
       "    <tr>\n",
       "      <th>1924</th>\n",
       "      <td>3385-03-3</td>\n",
       "      <td>CC1(C)OC2CC3C4CC(F)C5=CC(=O)C=CC5(C)C4C(O)CC3(...</td>\n",
       "      <td>5.939000</td>\n",
       "      <td>0.4997</td>\n",
       "    </tr>\n",
       "    <tr>\n",
       "      <th>1925</th>\n",
       "      <td>2338-29-6</td>\n",
       "      <td>FC(F)(F)c1nc2c(Cl)c(Cl)c(Cl)c(Cl)c2[nH]1</td>\n",
       "      <td>6.121300</td>\n",
       "      <td>0.2435</td>\n",
       "    </tr>\n",
       "    <tr>\n",
       "      <th>1926</th>\n",
       "      <td>128606-48-4</td>\n",
       "      <td>CCOP(=S)(OCC)O/C(C)=C/C(=O)OC</td>\n",
       "      <td>6.282400</td>\n",
       "      <td>0.1399</td>\n",
       "    </tr>\n",
       "    <tr>\n",
       "      <th>1927</th>\n",
       "      <td>50585-41-6</td>\n",
       "      <td>Brc1cc2c(cc1Br)Oc1cc(Br)c(Br)cc1O2</td>\n",
       "      <td>6.698800</td>\n",
       "      <td>0.0992</td>\n",
       "    </tr>\n",
       "    <tr>\n",
       "      <th>1928</th>\n",
       "      <td>75605-85-5</td>\n",
       "      <td>CC(=O)C1=CCC2C3(C)CCC4C(C)(C)CCCC4(C)C3CC(OC(=...</td>\n",
       "      <td>9.541100</td>\n",
       "      <td>0.0001</td>\n",
       "    </tr>\n",
       "  </tbody>\n",
       "</table>\n",
       "<p>1929 rows × 4 columns</p>\n",
       "</div>"
      ],
      "text/plain": [
       "       CAS_Number                                             SMILES  \\\n",
       "0       7782-40-3                                                  C   \n",
       "1       2842-38-8                                       OCCNC1CCCCC1   \n",
       "2      66257-53-2                                       NC(=O)C(=O)O   \n",
       "3       2173-56-0                                    CCCCCOC(=O)CCCC   \n",
       "4       4726-93-6                                    O=C1CCCCC(=O)N1   \n",
       "...           ...                                                ...   \n",
       "1924    3385-03-3  CC1(C)OC2CC3C4CC(F)C5=CC(=O)C=CC5(C)C4C(O)CC3(...   \n",
       "1925    2338-29-6           FC(F)(F)c1nc2c(Cl)c(Cl)c(Cl)c(Cl)c2[nH]1   \n",
       "1926  128606-48-4                      CCOP(=S)(OCC)O/C(C)=C/C(=O)OC   \n",
       "1927   50585-41-6                 Brc1cc2c(cc1Br)Oc1cc(Br)c(Br)cc1O2   \n",
       "1928   75605-85-5  CC(=O)C1=CCC2C3(C)CCC4C(C)(C)CCCC4(C)C3CC(OC(=...   \n",
       "\n",
       "         pLD50  LD50,mg/kg  \n",
       "0     0.017765  15388.8000  \n",
       "1     0.572840  38274.0000  \n",
       "2     0.624490  21133.0000  \n",
       "3     0.686960  35395.0000  \n",
       "4     0.750180  22586.0000  \n",
       "...        ...         ...  \n",
       "1924  5.939000      0.4997  \n",
       "1925  6.121300      0.2435  \n",
       "1926  6.282400      0.1399  \n",
       "1927  6.698800      0.0992  \n",
       "1928  9.541100      0.0001  \n",
       "\n",
       "[1929 rows x 4 columns]"
      ]
     },
     "execution_count": 13,
     "metadata": {},
     "output_type": "execute_result"
    }
   ],
   "source": [
    "df_ts=pd.read_csv('rat_oral_LD50_TS.csv')\n",
    "df_ts"
   ]
  },
  {
   "cell_type": "code",
   "execution_count": 14,
   "metadata": {
    "colab": {
     "base_uri": "https://localhost:8080/",
     "height": 424
    },
    "id": "wsPqTpoPo9Vh",
    "outputId": "1e7e17e5-1496-4549-eb16-641cb8a07d08"
   },
   "outputs": [
    {
     "data": {
      "text/html": [
       "<div>\n",
       "<style scoped>\n",
       "    .dataframe tbody tr th:only-of-type {\n",
       "        vertical-align: middle;\n",
       "    }\n",
       "\n",
       "    .dataframe tbody tr th {\n",
       "        vertical-align: top;\n",
       "    }\n",
       "\n",
       "    .dataframe thead th {\n",
       "        text-align: right;\n",
       "    }\n",
       "</style>\n",
       "<table border=\"1\" class=\"dataframe\">\n",
       "  <thead>\n",
       "    <tr style=\"text-align: right;\">\n",
       "      <th></th>\n",
       "      <th>CAS_Number</th>\n",
       "      <th>SMILES</th>\n",
       "      <th>pLD50</th>\n",
       "      <th>LD50,mg/kg</th>\n",
       "    </tr>\n",
       "  </thead>\n",
       "  <tbody>\n",
       "    <tr>\n",
       "      <th>0</th>\n",
       "      <td>7782-40-3</td>\n",
       "      <td>C</td>\n",
       "      <td>0.017765</td>\n",
       "      <td>15388.8000</td>\n",
       "    </tr>\n",
       "    <tr>\n",
       "      <th>1</th>\n",
       "      <td>2842-38-8</td>\n",
       "      <td>OCCNC1CCCCC1</td>\n",
       "      <td>0.572840</td>\n",
       "      <td>38274.0000</td>\n",
       "    </tr>\n",
       "    <tr>\n",
       "      <th>2</th>\n",
       "      <td>66257-53-2</td>\n",
       "      <td>NC(=O)C(=O)O</td>\n",
       "      <td>0.624490</td>\n",
       "      <td>21133.0000</td>\n",
       "    </tr>\n",
       "    <tr>\n",
       "      <th>3</th>\n",
       "      <td>2173-56-0</td>\n",
       "      <td>CCCCCOC(=O)CCCC</td>\n",
       "      <td>0.686960</td>\n",
       "      <td>35395.0000</td>\n",
       "    </tr>\n",
       "    <tr>\n",
       "      <th>4</th>\n",
       "      <td>4726-93-6</td>\n",
       "      <td>O=C1CCCCC(=O)N1</td>\n",
       "      <td>0.750180</td>\n",
       "      <td>22586.0000</td>\n",
       "    </tr>\n",
       "    <tr>\n",
       "      <th>...</th>\n",
       "      <td>...</td>\n",
       "      <td>...</td>\n",
       "      <td>...</td>\n",
       "      <td>...</td>\n",
       "    </tr>\n",
       "    <tr>\n",
       "      <th>1924</th>\n",
       "      <td>3385-03-3</td>\n",
       "      <td>CC1(C)OC2CC3C4CC(F)C5=CC(=O)C=CC5(C)C4C(O)CC3(...</td>\n",
       "      <td>5.939000</td>\n",
       "      <td>0.4997</td>\n",
       "    </tr>\n",
       "    <tr>\n",
       "      <th>1925</th>\n",
       "      <td>2338-29-6</td>\n",
       "      <td>FC(F)(F)c1nc2c(Cl)c(Cl)c(Cl)c(Cl)c2[nH]1</td>\n",
       "      <td>6.121300</td>\n",
       "      <td>0.2435</td>\n",
       "    </tr>\n",
       "    <tr>\n",
       "      <th>1926</th>\n",
       "      <td>128606-48-4</td>\n",
       "      <td>CCOP(=S)(OCC)OC(C)=CC(=O)OC</td>\n",
       "      <td>6.282400</td>\n",
       "      <td>0.1399</td>\n",
       "    </tr>\n",
       "    <tr>\n",
       "      <th>1927</th>\n",
       "      <td>50585-41-6</td>\n",
       "      <td>Brc1cc2c(cc1Br)Oc1cc(Br)c(Br)cc1O2</td>\n",
       "      <td>6.698800</td>\n",
       "      <td>0.0992</td>\n",
       "    </tr>\n",
       "    <tr>\n",
       "      <th>1928</th>\n",
       "      <td>75605-85-5</td>\n",
       "      <td>CC(=O)C1=CCC2C3(C)CCC4C(C)(C)CCCC4(C)C3CC(OC(=...</td>\n",
       "      <td>9.541100</td>\n",
       "      <td>0.0001</td>\n",
       "    </tr>\n",
       "  </tbody>\n",
       "</table>\n",
       "<p>1929 rows × 4 columns</p>\n",
       "</div>"
      ],
      "text/plain": [
       "       CAS_Number                                             SMILES  \\\n",
       "0       7782-40-3                                                  C   \n",
       "1       2842-38-8                                       OCCNC1CCCCC1   \n",
       "2      66257-53-2                                       NC(=O)C(=O)O   \n",
       "3       2173-56-0                                    CCCCCOC(=O)CCCC   \n",
       "4       4726-93-6                                    O=C1CCCCC(=O)N1   \n",
       "...           ...                                                ...   \n",
       "1924    3385-03-3  CC1(C)OC2CC3C4CC(F)C5=CC(=O)C=CC5(C)C4C(O)CC3(...   \n",
       "1925    2338-29-6           FC(F)(F)c1nc2c(Cl)c(Cl)c(Cl)c(Cl)c2[nH]1   \n",
       "1926  128606-48-4                        CCOP(=S)(OCC)OC(C)=CC(=O)OC   \n",
       "1927   50585-41-6                 Brc1cc2c(cc1Br)Oc1cc(Br)c(Br)cc1O2   \n",
       "1928   75605-85-5  CC(=O)C1=CCC2C3(C)CCC4C(C)(C)CCCC4(C)C3CC(OC(=...   \n",
       "\n",
       "         pLD50  LD50,mg/kg  \n",
       "0     0.017765  15388.8000  \n",
       "1     0.572840  38274.0000  \n",
       "2     0.624490  21133.0000  \n",
       "3     0.686960  35395.0000  \n",
       "4     0.750180  22586.0000  \n",
       "...        ...         ...  \n",
       "1924  5.939000      0.4997  \n",
       "1925  6.121300      0.2435  \n",
       "1926  6.282400      0.1399  \n",
       "1927  6.698800      0.0992  \n",
       "1928  9.541100      0.0001  \n",
       "\n",
       "[1929 rows x 4 columns]"
      ]
     },
     "execution_count": 14,
     "metadata": {},
     "output_type": "execute_result"
    }
   ],
   "source": [
    "df_ts1 = deepcopy(df_ts)\n",
    "df_ts1[\"SMILES\"] = df_ts1.apply(lambda x: convert_smi_to_canon_smi(x.SMILES), axis=1)\n",
    "df_ts1"
   ]
  },
  {
   "cell_type": "code",
   "execution_count": 15,
   "metadata": {
    "colab": {
     "base_uri": "https://localhost:8080/"
    },
    "id": "2uO8at7Oo_b4",
    "outputId": "39c63358-2539-4d2f-8ab0-3df1b043f558"
   },
   "outputs": [
    {
     "name": "stdout",
     "output_type": "stream",
     "text": [
      "Original data:  1929 molecules\n",
      "Failed data:  0 molecules\n"
     ]
    }
   ],
   "source": [
    "print('Original data: ', len(df_ts), 'molecules')\n",
    "print('Failed data: ', len(df_ts1[df_ts1['SMILES']=='wrong_smiles']), 'molecules')"
   ]
  },
  {
   "cell_type": "code",
   "execution_count": 16,
   "metadata": {
    "colab": {
     "base_uri": "https://localhost:8080/",
     "height": 81
    },
    "id": "xFPJSFv_pDOH",
    "outputId": "f42a52cc-c728-434f-efaf-d809f0cdb859"
   },
   "outputs": [
    {
     "data": {
      "text/html": [
       "<div>\n",
       "<style scoped>\n",
       "    .dataframe tbody tr th:only-of-type {\n",
       "        vertical-align: middle;\n",
       "    }\n",
       "\n",
       "    .dataframe tbody tr th {\n",
       "        vertical-align: top;\n",
       "    }\n",
       "\n",
       "    .dataframe thead th {\n",
       "        text-align: right;\n",
       "    }\n",
       "</style>\n",
       "<table border=\"1\" class=\"dataframe\">\n",
       "  <thead>\n",
       "    <tr style=\"text-align: right;\">\n",
       "      <th></th>\n",
       "      <th>SMILES of wrong structure:</th>\n",
       "    </tr>\n",
       "    <tr>\n",
       "      <th>No. failed smiles in original set</th>\n",
       "      <th></th>\n",
       "    </tr>\n",
       "  </thead>\n",
       "  <tbody>\n",
       "  </tbody>\n",
       "</table>\n",
       "</div>"
      ],
      "text/plain": [
       "Empty DataFrame\n",
       "Columns: [SMILES of wrong structure: ]\n",
       "Index: []"
      ]
     },
     "execution_count": 16,
     "metadata": {},
     "output_type": "execute_result"
    }
   ],
   "source": [
    "index=df_ts1.index[df_ts1['SMILES']=='wrong_smiles'].tolist()\n",
    "wrong_smiles=df_ts.iloc[index]\n",
    "wrong_smiles=wrong_smiles.SMILES\n",
    "number=[x+1 for x in index]\n",
    "bad_molecules = pd.DataFrame({'No. failed smiles in original set': number, 'SMILES of wrong structure: ': wrong_smiles}, index=None)\n",
    "bad_molecules = bad_molecules.set_index('No. failed smiles in original set')\n",
    "bad_molecules"
   ]
  },
  {
   "cell_type": "markdown",
   "metadata": {
    "id": "rETGhwFRpGil"
   },
   "source": [
    "2.4  Standardization for test set"
   ]
  },
  {
   "cell_type": "code",
   "execution_count": 17,
   "metadata": {
    "colab": {
     "base_uri": "https://localhost:8080/"
    },
    "id": "YogqcxphpHHd",
    "outputId": "415b870c-6b9e-45fa-c1df-80c4888b1802"
   },
   "outputs": [
    {
     "name": "stdout",
     "output_type": "stream",
     "text": [
      "Kept data:  1929 molecules\n"
     ]
    }
   ],
   "source": [
    "df_ts1[\"Molecule\"] = df_ts1.apply(lambda x: standart(x.SMILES), axis=1)\n",
    "moldf_ts=df_ts1[df_ts1['SMILES']!='wrong_smiles']\n",
    "print('Kept data: ', len(moldf_ts), 'molecules')"
   ]
  },
  {
   "cell_type": "code",
   "execution_count": 18,
   "metadata": {
    "colab": {
     "base_uri": "https://localhost:8080/",
     "height": 424
    },
    "id": "8BYJPQtYpMIi",
    "outputId": "8f4c93aa-aff4-4e34-f0b0-45442b737335"
   },
   "outputs": [
    {
     "data": {
      "text/html": [
       "<div>\n",
       "<style scoped>\n",
       "    .dataframe tbody tr th:only-of-type {\n",
       "        vertical-align: middle;\n",
       "    }\n",
       "\n",
       "    .dataframe tbody tr th {\n",
       "        vertical-align: top;\n",
       "    }\n",
       "\n",
       "    .dataframe thead th {\n",
       "        text-align: right;\n",
       "    }\n",
       "</style>\n",
       "<table border=\"1\" class=\"dataframe\">\n",
       "  <thead>\n",
       "    <tr style=\"text-align: right;\">\n",
       "      <th></th>\n",
       "      <th>CAS_Number</th>\n",
       "      <th>SMILES</th>\n",
       "      <th>pLD50</th>\n",
       "      <th>LD50,mg/kg</th>\n",
       "      <th>Molecule</th>\n",
       "    </tr>\n",
       "  </thead>\n",
       "  <tbody>\n",
       "    <tr>\n",
       "      <th>0</th>\n",
       "      <td>7782-40-3</td>\n",
       "      <td>C</td>\n",
       "      <td>0.017765</td>\n",
       "      <td>15388.8000</td>\n",
       "      <td>&lt;rdkit.Chem.rdchem.Mol object at 0x0000014A971...</td>\n",
       "    </tr>\n",
       "    <tr>\n",
       "      <th>1</th>\n",
       "      <td>2842-38-8</td>\n",
       "      <td>OCCNC1CCCCC1</td>\n",
       "      <td>0.572840</td>\n",
       "      <td>38274.0000</td>\n",
       "      <td>&lt;rdkit.Chem.rdchem.Mol object at 0x0000014A971...</td>\n",
       "    </tr>\n",
       "    <tr>\n",
       "      <th>2</th>\n",
       "      <td>66257-53-2</td>\n",
       "      <td>NC(=O)C(=O)O</td>\n",
       "      <td>0.624490</td>\n",
       "      <td>21133.0000</td>\n",
       "      <td>&lt;rdkit.Chem.rdchem.Mol object at 0x0000014A971...</td>\n",
       "    </tr>\n",
       "    <tr>\n",
       "      <th>3</th>\n",
       "      <td>2173-56-0</td>\n",
       "      <td>CCCCCOC(=O)CCCC</td>\n",
       "      <td>0.686960</td>\n",
       "      <td>35395.0000</td>\n",
       "      <td>&lt;rdkit.Chem.rdchem.Mol object at 0x0000014A971...</td>\n",
       "    </tr>\n",
       "    <tr>\n",
       "      <th>4</th>\n",
       "      <td>4726-93-6</td>\n",
       "      <td>O=C1CCCCC(=O)N1</td>\n",
       "      <td>0.750180</td>\n",
       "      <td>22586.0000</td>\n",
       "      <td>&lt;rdkit.Chem.rdchem.Mol object at 0x0000014A971...</td>\n",
       "    </tr>\n",
       "    <tr>\n",
       "      <th>...</th>\n",
       "      <td>...</td>\n",
       "      <td>...</td>\n",
       "      <td>...</td>\n",
       "      <td>...</td>\n",
       "      <td>...</td>\n",
       "    </tr>\n",
       "    <tr>\n",
       "      <th>1924</th>\n",
       "      <td>3385-03-3</td>\n",
       "      <td>CC1(C)OC2CC3C4CC(F)C5=CC(=O)C=CC5(C)C4C(O)CC3(...</td>\n",
       "      <td>5.939000</td>\n",
       "      <td>0.4997</td>\n",
       "      <td>&lt;rdkit.Chem.rdchem.Mol object at 0x0000014A970...</td>\n",
       "    </tr>\n",
       "    <tr>\n",
       "      <th>1925</th>\n",
       "      <td>2338-29-6</td>\n",
       "      <td>FC(F)(F)c1nc2c(Cl)c(Cl)c(Cl)c(Cl)c2[nH]1</td>\n",
       "      <td>6.121300</td>\n",
       "      <td>0.2435</td>\n",
       "      <td>&lt;rdkit.Chem.rdchem.Mol object at 0x0000014A970...</td>\n",
       "    </tr>\n",
       "    <tr>\n",
       "      <th>1926</th>\n",
       "      <td>128606-48-4</td>\n",
       "      <td>CCOP(=S)(OCC)OC(C)=CC(=O)OC</td>\n",
       "      <td>6.282400</td>\n",
       "      <td>0.1399</td>\n",
       "      <td>&lt;rdkit.Chem.rdchem.Mol object at 0x0000014A970...</td>\n",
       "    </tr>\n",
       "    <tr>\n",
       "      <th>1927</th>\n",
       "      <td>50585-41-6</td>\n",
       "      <td>Brc1cc2c(cc1Br)Oc1cc(Br)c(Br)cc1O2</td>\n",
       "      <td>6.698800</td>\n",
       "      <td>0.0992</td>\n",
       "      <td>&lt;rdkit.Chem.rdchem.Mol object at 0x0000014A970...</td>\n",
       "    </tr>\n",
       "    <tr>\n",
       "      <th>1928</th>\n",
       "      <td>75605-85-5</td>\n",
       "      <td>CC(=O)C1=CCC2C3(C)CCC4C(C)(C)CCCC4(C)C3CC(OC(=...</td>\n",
       "      <td>9.541100</td>\n",
       "      <td>0.0001</td>\n",
       "      <td>&lt;rdkit.Chem.rdchem.Mol object at 0x0000014A970...</td>\n",
       "    </tr>\n",
       "  </tbody>\n",
       "</table>\n",
       "<p>1929 rows × 5 columns</p>\n",
       "</div>"
      ],
      "text/plain": [
       "       CAS_Number                                             SMILES  \\\n",
       "0       7782-40-3                                                  C   \n",
       "1       2842-38-8                                       OCCNC1CCCCC1   \n",
       "2      66257-53-2                                       NC(=O)C(=O)O   \n",
       "3       2173-56-0                                    CCCCCOC(=O)CCCC   \n",
       "4       4726-93-6                                    O=C1CCCCC(=O)N1   \n",
       "...           ...                                                ...   \n",
       "1924    3385-03-3  CC1(C)OC2CC3C4CC(F)C5=CC(=O)C=CC5(C)C4C(O)CC3(...   \n",
       "1925    2338-29-6           FC(F)(F)c1nc2c(Cl)c(Cl)c(Cl)c(Cl)c2[nH]1   \n",
       "1926  128606-48-4                        CCOP(=S)(OCC)OC(C)=CC(=O)OC   \n",
       "1927   50585-41-6                 Brc1cc2c(cc1Br)Oc1cc(Br)c(Br)cc1O2   \n",
       "1928   75605-85-5  CC(=O)C1=CCC2C3(C)CCC4C(C)(C)CCCC4(C)C3CC(OC(=...   \n",
       "\n",
       "         pLD50  LD50,mg/kg                                           Molecule  \n",
       "0     0.017765  15388.8000  <rdkit.Chem.rdchem.Mol object at 0x0000014A971...  \n",
       "1     0.572840  38274.0000  <rdkit.Chem.rdchem.Mol object at 0x0000014A971...  \n",
       "2     0.624490  21133.0000  <rdkit.Chem.rdchem.Mol object at 0x0000014A971...  \n",
       "3     0.686960  35395.0000  <rdkit.Chem.rdchem.Mol object at 0x0000014A971...  \n",
       "4     0.750180  22586.0000  <rdkit.Chem.rdchem.Mol object at 0x0000014A971...  \n",
       "...        ...         ...                                                ...  \n",
       "1924  5.939000      0.4997  <rdkit.Chem.rdchem.Mol object at 0x0000014A970...  \n",
       "1925  6.121300      0.2435  <rdkit.Chem.rdchem.Mol object at 0x0000014A970...  \n",
       "1926  6.282400      0.1399  <rdkit.Chem.rdchem.Mol object at 0x0000014A970...  \n",
       "1927  6.698800      0.0992  <rdkit.Chem.rdchem.Mol object at 0x0000014A970...  \n",
       "1928  9.541100      0.0001  <rdkit.Chem.rdchem.Mol object at 0x0000014A970...  \n",
       "\n",
       "[1929 rows x 5 columns]"
      ]
     },
     "execution_count": 18,
     "metadata": {},
     "output_type": "execute_result"
    }
   ],
   "source": [
    "moldf_ts"
   ]
  },
  {
   "cell_type": "code",
   "execution_count": 19,
   "metadata": {
    "colab": {
     "base_uri": "https://localhost:8080/"
    },
    "id": "qDT8AccvpP5_",
    "outputId": "4abd7104-249f-41b5-b13e-8b724da7a216"
   },
   "outputs": [
    {
     "data": {
      "text/plain": [
       "0       0.017765\n",
       "1       0.572840\n",
       "2       0.624490\n",
       "3       0.686960\n",
       "4       0.750180\n",
       "          ...   \n",
       "1924    5.939000\n",
       "1925    6.121300\n",
       "1926    6.282400\n",
       "1927    6.698800\n",
       "1928    9.541100\n",
       "Name: pLD50, Length: 1929, dtype: float64"
      ]
     },
     "execution_count": 19,
     "metadata": {},
     "output_type": "execute_result"
    }
   ],
   "source": [
    "y_ts=moldf_ts.pLD50\n",
    "y_ts"
   ]
  },
  {
   "cell_type": "code",
   "execution_count": 24,
   "metadata": {
    "id": "47GcfIF1pSbt"
   },
   "outputs": [],
   "source": [
    "df = pd.DataFrame(moldf_ts, columns=[\"SMILES\"])\n",
    "df.to_csv('datasets/molecule_ts.smi', sep=',', index=False, header=False)"
   ]
  },
  {
   "cell_type": "markdown",
   "metadata": {},
   "source": [
    "# 6.Descriptor calculation for work set"
   ]
  },
  {
   "cell_type": "markdown",
   "metadata": {},
   "source": [
    "## AtomPairs2D FPs"
   ]
  },
  {
   "cell_type": "code",
   "execution_count": 163,
   "metadata": {},
   "outputs": [],
   "source": [
    "from padelpy import padeldescriptor\n",
    "\n",
    "fingerprint = 'AtomPairs2D'\n",
    "\n",
    "fingerprint_output_file = ''.join([fingerprint,'.csv']) #Substructure.csv\n",
    "fingerprint_descriptortypes = fp[fingerprint]\n",
    "\n",
    "padeldescriptor(mol_dir='datasets/molecule_ws.smi', \n",
    "                d_file=fingerprint_output_file, #'Substructure.csv'\n",
    "                #descriptortypes='SubstructureFingerprint.xml', \n",
    "                descriptortypes= fingerprint_descriptortypes,\n",
    "                detectaromaticity=True,\n",
    "                standardizenitro=True,\n",
    "                standardizetautomers=True,\n",
    "                threads=2,\n",
    "                removesalt=True,\n",
    "                log=True,\n",
    "                fingerprints=True)"
   ]
  },
  {
   "cell_type": "code",
   "execution_count": 32,
   "metadata": {},
   "outputs": [],
   "source": [
    "descriptors_AtomPairs2D = pd.read_csv('AtomPairs2D.csv')"
   ]
  },
  {
   "cell_type": "code",
   "execution_count": 33,
   "metadata": {},
   "outputs": [
    {
     "data": {
      "text/html": [
       "<div>\n",
       "<style scoped>\n",
       "    .dataframe tbody tr th:only-of-type {\n",
       "        vertical-align: middle;\n",
       "    }\n",
       "\n",
       "    .dataframe tbody tr th {\n",
       "        vertical-align: top;\n",
       "    }\n",
       "\n",
       "    .dataframe thead th {\n",
       "        text-align: right;\n",
       "    }\n",
       "</style>\n",
       "<table border=\"1\" class=\"dataframe\">\n",
       "  <thead>\n",
       "    <tr style=\"text-align: right;\">\n",
       "      <th></th>\n",
       "      <th>Name</th>\n",
       "      <th>AD2D1</th>\n",
       "      <th>AD2D2</th>\n",
       "      <th>AD2D3</th>\n",
       "      <th>AD2D4</th>\n",
       "      <th>AD2D5</th>\n",
       "      <th>AD2D6</th>\n",
       "      <th>AD2D7</th>\n",
       "      <th>AD2D8</th>\n",
       "      <th>AD2D9</th>\n",
       "      <th>...</th>\n",
       "      <th>AD2D771</th>\n",
       "      <th>AD2D772</th>\n",
       "      <th>AD2D773</th>\n",
       "      <th>AD2D774</th>\n",
       "      <th>AD2D775</th>\n",
       "      <th>AD2D776</th>\n",
       "      <th>AD2D777</th>\n",
       "      <th>AD2D778</th>\n",
       "      <th>AD2D779</th>\n",
       "      <th>AD2D780</th>\n",
       "    </tr>\n",
       "  </thead>\n",
       "  <tbody>\n",
       "    <tr>\n",
       "      <th>0</th>\n",
       "      <td>AUTOGEN_molecule_ws_1</td>\n",
       "      <td>1</td>\n",
       "      <td>1</td>\n",
       "      <td>1</td>\n",
       "      <td>0</td>\n",
       "      <td>0</td>\n",
       "      <td>0</td>\n",
       "      <td>0</td>\n",
       "      <td>0</td>\n",
       "      <td>0</td>\n",
       "      <td>...</td>\n",
       "      <td>0</td>\n",
       "      <td>0</td>\n",
       "      <td>0</td>\n",
       "      <td>0</td>\n",
       "      <td>0</td>\n",
       "      <td>0</td>\n",
       "      <td>0</td>\n",
       "      <td>0</td>\n",
       "      <td>0</td>\n",
       "      <td>0</td>\n",
       "    </tr>\n",
       "    <tr>\n",
       "      <th>1</th>\n",
       "      <td>AUTOGEN_molecule_ws_2</td>\n",
       "      <td>1</td>\n",
       "      <td>1</td>\n",
       "      <td>1</td>\n",
       "      <td>0</td>\n",
       "      <td>0</td>\n",
       "      <td>0</td>\n",
       "      <td>0</td>\n",
       "      <td>0</td>\n",
       "      <td>0</td>\n",
       "      <td>...</td>\n",
       "      <td>0</td>\n",
       "      <td>0</td>\n",
       "      <td>0</td>\n",
       "      <td>0</td>\n",
       "      <td>0</td>\n",
       "      <td>0</td>\n",
       "      <td>0</td>\n",
       "      <td>0</td>\n",
       "      <td>0</td>\n",
       "      <td>0</td>\n",
       "    </tr>\n",
       "    <tr>\n",
       "      <th>2</th>\n",
       "      <td>AUTOGEN_molecule_ws_3</td>\n",
       "      <td>1</td>\n",
       "      <td>0</td>\n",
       "      <td>0</td>\n",
       "      <td>0</td>\n",
       "      <td>0</td>\n",
       "      <td>0</td>\n",
       "      <td>0</td>\n",
       "      <td>0</td>\n",
       "      <td>0</td>\n",
       "      <td>...</td>\n",
       "      <td>0</td>\n",
       "      <td>0</td>\n",
       "      <td>0</td>\n",
       "      <td>0</td>\n",
       "      <td>0</td>\n",
       "      <td>0</td>\n",
       "      <td>0</td>\n",
       "      <td>0</td>\n",
       "      <td>0</td>\n",
       "      <td>0</td>\n",
       "    </tr>\n",
       "    <tr>\n",
       "      <th>3</th>\n",
       "      <td>AUTOGEN_molecule_ws_4</td>\n",
       "      <td>1</td>\n",
       "      <td>0</td>\n",
       "      <td>1</td>\n",
       "      <td>0</td>\n",
       "      <td>0</td>\n",
       "      <td>0</td>\n",
       "      <td>0</td>\n",
       "      <td>0</td>\n",
       "      <td>0</td>\n",
       "      <td>...</td>\n",
       "      <td>0</td>\n",
       "      <td>0</td>\n",
       "      <td>0</td>\n",
       "      <td>0</td>\n",
       "      <td>0</td>\n",
       "      <td>0</td>\n",
       "      <td>0</td>\n",
       "      <td>0</td>\n",
       "      <td>0</td>\n",
       "      <td>0</td>\n",
       "    </tr>\n",
       "    <tr>\n",
       "      <th>4</th>\n",
       "      <td>AUTOGEN_molecule_ws_5</td>\n",
       "      <td>1</td>\n",
       "      <td>0</td>\n",
       "      <td>1</td>\n",
       "      <td>0</td>\n",
       "      <td>0</td>\n",
       "      <td>0</td>\n",
       "      <td>0</td>\n",
       "      <td>0</td>\n",
       "      <td>0</td>\n",
       "      <td>...</td>\n",
       "      <td>0</td>\n",
       "      <td>0</td>\n",
       "      <td>0</td>\n",
       "      <td>0</td>\n",
       "      <td>0</td>\n",
       "      <td>0</td>\n",
       "      <td>0</td>\n",
       "      <td>0</td>\n",
       "      <td>0</td>\n",
       "      <td>0</td>\n",
       "    </tr>\n",
       "    <tr>\n",
       "      <th>...</th>\n",
       "      <td>...</td>\n",
       "      <td>...</td>\n",
       "      <td>...</td>\n",
       "      <td>...</td>\n",
       "      <td>...</td>\n",
       "      <td>...</td>\n",
       "      <td>...</td>\n",
       "      <td>...</td>\n",
       "      <td>...</td>\n",
       "      <td>...</td>\n",
       "      <td>...</td>\n",
       "      <td>...</td>\n",
       "      <td>...</td>\n",
       "      <td>...</td>\n",
       "      <td>...</td>\n",
       "      <td>...</td>\n",
       "      <td>...</td>\n",
       "      <td>...</td>\n",
       "      <td>...</td>\n",
       "      <td>...</td>\n",
       "      <td>...</td>\n",
       "    </tr>\n",
       "    <tr>\n",
       "      <th>7707</th>\n",
       "      <td>AUTOGEN_molecule_ws_7708</td>\n",
       "      <td>1</td>\n",
       "      <td>0</td>\n",
       "      <td>1</td>\n",
       "      <td>0</td>\n",
       "      <td>0</td>\n",
       "      <td>0</td>\n",
       "      <td>0</td>\n",
       "      <td>1</td>\n",
       "      <td>0</td>\n",
       "      <td>...</td>\n",
       "      <td>0</td>\n",
       "      <td>0</td>\n",
       "      <td>0</td>\n",
       "      <td>0</td>\n",
       "      <td>0</td>\n",
       "      <td>0</td>\n",
       "      <td>0</td>\n",
       "      <td>0</td>\n",
       "      <td>0</td>\n",
       "      <td>0</td>\n",
       "    </tr>\n",
       "    <tr>\n",
       "      <th>7708</th>\n",
       "      <td>AUTOGEN_molecule_ws_7709</td>\n",
       "      <td>1</td>\n",
       "      <td>0</td>\n",
       "      <td>1</td>\n",
       "      <td>0</td>\n",
       "      <td>0</td>\n",
       "      <td>0</td>\n",
       "      <td>0</td>\n",
       "      <td>0</td>\n",
       "      <td>0</td>\n",
       "      <td>...</td>\n",
       "      <td>0</td>\n",
       "      <td>0</td>\n",
       "      <td>0</td>\n",
       "      <td>0</td>\n",
       "      <td>0</td>\n",
       "      <td>0</td>\n",
       "      <td>0</td>\n",
       "      <td>0</td>\n",
       "      <td>0</td>\n",
       "      <td>0</td>\n",
       "    </tr>\n",
       "    <tr>\n",
       "      <th>7709</th>\n",
       "      <td>AUTOGEN_molecule_ws_7710</td>\n",
       "      <td>1</td>\n",
       "      <td>0</td>\n",
       "      <td>1</td>\n",
       "      <td>0</td>\n",
       "      <td>0</td>\n",
       "      <td>1</td>\n",
       "      <td>0</td>\n",
       "      <td>0</td>\n",
       "      <td>0</td>\n",
       "      <td>...</td>\n",
       "      <td>0</td>\n",
       "      <td>0</td>\n",
       "      <td>0</td>\n",
       "      <td>0</td>\n",
       "      <td>0</td>\n",
       "      <td>0</td>\n",
       "      <td>0</td>\n",
       "      <td>0</td>\n",
       "      <td>0</td>\n",
       "      <td>0</td>\n",
       "    </tr>\n",
       "    <tr>\n",
       "      <th>7710</th>\n",
       "      <td>AUTOGEN_molecule_ws_7711</td>\n",
       "      <td>1</td>\n",
       "      <td>0</td>\n",
       "      <td>1</td>\n",
       "      <td>0</td>\n",
       "      <td>0</td>\n",
       "      <td>0</td>\n",
       "      <td>1</td>\n",
       "      <td>0</td>\n",
       "      <td>0</td>\n",
       "      <td>...</td>\n",
       "      <td>0</td>\n",
       "      <td>0</td>\n",
       "      <td>0</td>\n",
       "      <td>0</td>\n",
       "      <td>0</td>\n",
       "      <td>0</td>\n",
       "      <td>0</td>\n",
       "      <td>0</td>\n",
       "      <td>0</td>\n",
       "      <td>0</td>\n",
       "    </tr>\n",
       "    <tr>\n",
       "      <th>7711</th>\n",
       "      <td>AUTOGEN_molecule_ws_7712</td>\n",
       "      <td>1</td>\n",
       "      <td>1</td>\n",
       "      <td>1</td>\n",
       "      <td>0</td>\n",
       "      <td>0</td>\n",
       "      <td>0</td>\n",
       "      <td>0</td>\n",
       "      <td>0</td>\n",
       "      <td>0</td>\n",
       "      <td>...</td>\n",
       "      <td>0</td>\n",
       "      <td>0</td>\n",
       "      <td>0</td>\n",
       "      <td>0</td>\n",
       "      <td>0</td>\n",
       "      <td>0</td>\n",
       "      <td>0</td>\n",
       "      <td>0</td>\n",
       "      <td>0</td>\n",
       "      <td>0</td>\n",
       "    </tr>\n",
       "  </tbody>\n",
       "</table>\n",
       "<p>7712 rows × 781 columns</p>\n",
       "</div>"
      ],
      "text/plain": [
       "                          Name  AD2D1  AD2D2  AD2D3  AD2D4  AD2D5  AD2D6  \\\n",
       "0        AUTOGEN_molecule_ws_1      1      1      1      0      0      0   \n",
       "1        AUTOGEN_molecule_ws_2      1      1      1      0      0      0   \n",
       "2        AUTOGEN_molecule_ws_3      1      0      0      0      0      0   \n",
       "3        AUTOGEN_molecule_ws_4      1      0      1      0      0      0   \n",
       "4        AUTOGEN_molecule_ws_5      1      0      1      0      0      0   \n",
       "...                        ...    ...    ...    ...    ...    ...    ...   \n",
       "7707  AUTOGEN_molecule_ws_7708      1      0      1      0      0      0   \n",
       "7708  AUTOGEN_molecule_ws_7709      1      0      1      0      0      0   \n",
       "7709  AUTOGEN_molecule_ws_7710      1      0      1      0      0      1   \n",
       "7710  AUTOGEN_molecule_ws_7711      1      0      1      0      0      0   \n",
       "7711  AUTOGEN_molecule_ws_7712      1      1      1      0      0      0   \n",
       "\n",
       "      AD2D7  AD2D8  AD2D9  ...  AD2D771  AD2D772  AD2D773  AD2D774  AD2D775  \\\n",
       "0         0      0      0  ...        0        0        0        0        0   \n",
       "1         0      0      0  ...        0        0        0        0        0   \n",
       "2         0      0      0  ...        0        0        0        0        0   \n",
       "3         0      0      0  ...        0        0        0        0        0   \n",
       "4         0      0      0  ...        0        0        0        0        0   \n",
       "...     ...    ...    ...  ...      ...      ...      ...      ...      ...   \n",
       "7707      0      1      0  ...        0        0        0        0        0   \n",
       "7708      0      0      0  ...        0        0        0        0        0   \n",
       "7709      0      0      0  ...        0        0        0        0        0   \n",
       "7710      1      0      0  ...        0        0        0        0        0   \n",
       "7711      0      0      0  ...        0        0        0        0        0   \n",
       "\n",
       "      AD2D776  AD2D777  AD2D778  AD2D779  AD2D780  \n",
       "0           0        0        0        0        0  \n",
       "1           0        0        0        0        0  \n",
       "2           0        0        0        0        0  \n",
       "3           0        0        0        0        0  \n",
       "4           0        0        0        0        0  \n",
       "...       ...      ...      ...      ...      ...  \n",
       "7707        0        0        0        0        0  \n",
       "7708        0        0        0        0        0  \n",
       "7709        0        0        0        0        0  \n",
       "7710        0        0        0        0        0  \n",
       "7711        0        0        0        0        0  \n",
       "\n",
       "[7712 rows x 781 columns]"
      ]
     },
     "execution_count": 33,
     "metadata": {},
     "output_type": "execute_result"
    }
   ],
   "source": [
    "descriptors_AtomPairs2D"
   ]
  },
  {
   "cell_type": "code",
   "execution_count": 34,
   "metadata": {},
   "outputs": [],
   "source": [
    "x_tr = descriptors_AtomPairs2D.drop('Name', axis=1)"
   ]
  },
  {
   "cell_type": "code",
   "execution_count": 35,
   "metadata": {},
   "outputs": [],
   "source": [
    "x_tr = np.array(x_tr, dtype=np.float32)\n",
    "y_tr = np.array(y_tr, dtype=np.float32)"
   ]
  },
  {
   "cell_type": "code",
   "execution_count": 124,
   "metadata": {},
   "outputs": [],
   "source": [
    "savetxt('Models/Padels/x_tr_AtomPairs2D.csv', y_tr, delimiter=',')"
   ]
  },
  {
   "cell_type": "code",
   "execution_count": 36,
   "metadata": {},
   "outputs": [
    {
     "data": {
      "text/plain": [
       "(7712, 780)"
      ]
     },
     "execution_count": 36,
     "metadata": {},
     "output_type": "execute_result"
    }
   ],
   "source": [
    "x_tr.shape"
   ]
  },
  {
   "cell_type": "markdown",
   "metadata": {},
   "source": [
    "# 7.Descriptor calculation for test set"
   ]
  },
  {
   "cell_type": "code",
   "execution_count": 179,
   "metadata": {},
   "outputs": [],
   "source": [
    "from padelpy import padeldescriptor\n",
    "\n",
    "fingerprint = 'AtomPairs2D'\n",
    "\n",
    "fingerprint_output_file = ''.join([fingerprint,'_ts.csv']) #AtomPairs2D.csv\n",
    "fingerprint_descriptortypes = fp[fingerprint]\n",
    "\n",
    "padeldescriptor(mol_dir='datasets/molecule_ts.smi', \n",
    "                d_file=fingerprint_output_file, #'AtomPairs2D.csv'\n",
    "                #descriptortypes='AtomPairs2D.xml', \n",
    "                descriptortypes= fingerprint_descriptortypes,\n",
    "                detectaromaticity=True,\n",
    "                standardizenitro=True,\n",
    "                standardizetautomers=True,\n",
    "                threads=2,\n",
    "                removesalt=True,\n",
    "                log=False,\n",
    "                fingerprints=True)"
   ]
  },
  {
   "cell_type": "code",
   "execution_count": 24,
   "metadata": {},
   "outputs": [],
   "source": [
    "descriptors_AtomPairs2D_ts = pd.read_csv('AtomPairs2D_ts.csv')"
   ]
  },
  {
   "cell_type": "code",
   "execution_count": 25,
   "metadata": {},
   "outputs": [],
   "source": [
    "x_ts = descriptors_AtomPairs2D_ts.drop('Name', axis=1)"
   ]
  },
  {
   "cell_type": "code",
   "execution_count": 26,
   "metadata": {},
   "outputs": [
    {
     "data": {
      "text/plain": [
       "(1929, 780)"
      ]
     },
     "execution_count": 26,
     "metadata": {},
     "output_type": "execute_result"
    }
   ],
   "source": [
    "x_ts.shape"
   ]
  },
  {
   "cell_type": "code",
   "execution_count": null,
   "metadata": {},
   "outputs": [],
   "source": []
  },
  {
   "cell_type": "code",
   "execution_count": null,
   "metadata": {},
   "outputs": [],
   "source": []
  },
  {
   "cell_type": "markdown",
   "metadata": {},
   "source": [
    "# load the models from disk"
   ]
  },
  {
   "cell_type": "code",
   "execution_count": 29,
   "metadata": {},
   "outputs": [],
   "source": [
    "best_svm = pickle.load(open('models/Padels/Toxicity_SVM_AtomPairs2D.pkl', 'rb'))"
   ]
  },
  {
   "cell_type": "code",
   "execution_count": 28,
   "metadata": {},
   "outputs": [],
   "source": [
    "best_gbr = pickle.load(open('models/Padels/GBR_AtomPairs2D.pkl', 'rb'))"
   ]
  },
  {
   "cell_type": "code",
   "execution_count": 30,
   "metadata": {},
   "outputs": [],
   "source": [
    "best_MLPR = pickle.load(open('models/Padels/Toxicity_MLPR_AtomPairs2D.pkl', 'rb'))"
   ]
  },
  {
   "cell_type": "markdown",
   "metadata": {},
   "source": [
    "# Prediction "
   ]
  },
  {
   "cell_type": "code",
   "execution_count": 37,
   "metadata": {},
   "outputs": [],
   "source": [
    "y_pred_ws_GBR = best_gbr.predict(x_tr)"
   ]
  },
  {
   "cell_type": "code",
   "execution_count": 38,
   "metadata": {},
   "outputs": [],
   "source": [
    "y_pred_ws_svm = best_svm.predict(x_tr)"
   ]
  },
  {
   "cell_type": "code",
   "execution_count": 39,
   "metadata": {},
   "outputs": [],
   "source": [
    "y_pred_con=(y_pred_ws_GBR+y_pred_ws_svm)/2"
   ]
  },
  {
   "cell_type": "code",
   "execution_count": 40,
   "metadata": {},
   "outputs": [
    {
     "data": {
      "text/plain": [
       "0.78"
      ]
     },
     "execution_count": 40,
     "metadata": {},
     "output_type": "execute_result"
    }
   ],
   "source": [
    "R2_WS = round(r2_score(y_tr, y_pred_con), 2)\n",
    "R2_WS"
   ]
  },
  {
   "cell_type": "code",
   "execution_count": 41,
   "metadata": {},
   "outputs": [
    {
     "data": {
      "text/plain": [
       "0.54"
      ]
     },
     "execution_count": 41,
     "metadata": {},
     "output_type": "execute_result"
    }
   ],
   "source": [
    "RMSE_WS=round(np.sqrt(mean_absolute_error(y_tr, y_pred_con)), 2)\n",
    "RMSE_WS"
   ]
  },
  {
   "cell_type": "code",
   "execution_count": 42,
   "metadata": {},
   "outputs": [],
   "source": [
    "seed = 42\n",
    "cv=KFold(n_splits=5, random_state=seed, shuffle=True)"
   ]
  },
  {
   "cell_type": "code",
   "execution_count": 43,
   "metadata": {},
   "outputs": [],
   "source": [
    "y_pred_CV_svm = cross_val_predict(best_svm, x_tr, y_tr, cv=cv)"
   ]
  },
  {
   "cell_type": "code",
   "execution_count": 44,
   "metadata": {},
   "outputs": [],
   "source": [
    "y_pred_CV_gbr = cross_val_predict(best_gbr, x_tr, y_tr, cv=cv)"
   ]
  },
  {
   "cell_type": "code",
   "execution_count": 45,
   "metadata": {},
   "outputs": [],
   "source": [
    "y_pred_CV_MLPR = cross_val_predict(best_MLPR, x_tr, y_tr, cv=cv)"
   ]
  },
  {
   "cell_type": "markdown",
   "metadata": {},
   "source": [
    "# For all models"
   ]
  },
  {
   "cell_type": "code",
   "execution_count": 46,
   "metadata": {},
   "outputs": [],
   "source": [
    "y_pred_con=(y_pred_CV_svm+y_pred_CV_gbr+y_pred_CV_MLPR)/3"
   ]
  },
  {
   "cell_type": "code",
   "execution_count": 47,
   "metadata": {},
   "outputs": [
    {
     "data": {
      "text/plain": [
       "0.49"
      ]
     },
     "execution_count": 47,
     "metadata": {},
     "output_type": "execute_result"
    }
   ],
   "source": [
    "Q2_CV = round(r2_score(y_tr, y_pred_con), 2)\n",
    "Q2_CV"
   ]
  },
  {
   "cell_type": "code",
   "execution_count": 48,
   "metadata": {},
   "outputs": [
    {
     "data": {
      "text/plain": [
       "0.68"
      ]
     },
     "execution_count": 48,
     "metadata": {},
     "output_type": "execute_result"
    }
   ],
   "source": [
    "RMSE_CV=round(np.sqrt(mean_absolute_error(y_tr, y_pred_con)),2)\n",
    "RMSE_CV"
   ]
  },
  {
   "cell_type": "markdown",
   "metadata": {},
   "source": [
    "# two models: svm+gbr"
   ]
  },
  {
   "cell_type": "code",
   "execution_count": 49,
   "metadata": {},
   "outputs": [],
   "source": [
    "y_pred_con_without_MLPR=(y_pred_CV_svm+y_pred_CV_gbr)/2"
   ]
  },
  {
   "cell_type": "code",
   "execution_count": 50,
   "metadata": {},
   "outputs": [
    {
     "data": {
      "text/plain": [
       "0.49"
      ]
     },
     "execution_count": 50,
     "metadata": {},
     "output_type": "execute_result"
    }
   ],
   "source": [
    "Q2_CV = round(r2_score(y_tr, y_pred_con_without_MLPR), 2)\n",
    "Q2_CV"
   ]
  },
  {
   "cell_type": "code",
   "execution_count": 51,
   "metadata": {},
   "outputs": [
    {
     "data": {
      "text/plain": [
       "0.68"
      ]
     },
     "execution_count": 51,
     "metadata": {},
     "output_type": "execute_result"
    }
   ],
   "source": [
    "RMSE_CV=round(np.sqrt(mean_absolute_error(y_tr, y_pred_con_without_MLPR)),2)\n",
    "RMSE_CV"
   ]
  },
  {
   "cell_type": "markdown",
   "metadata": {},
   "source": [
    "# Prediction for test set's molecules"
   ]
  },
  {
   "cell_type": "code",
   "execution_count": 79,
   "metadata": {},
   "outputs": [],
   "source": [
    "x_ts = np.array(x_ts, dtype=np.float32)\n",
    "y_ts = np.array(y_ts, dtype=np.float32)"
   ]
  },
  {
   "cell_type": "code",
   "execution_count": 80,
   "metadata": {},
   "outputs": [],
   "source": [
    "y_pred_svm = best_svm.predict(x_ts)"
   ]
  },
  {
   "cell_type": "code",
   "execution_count": 81,
   "metadata": {},
   "outputs": [],
   "source": [
    "y_pred_gbr = best_gbr.predict(x_ts)"
   ]
  },
  {
   "cell_type": "code",
   "execution_count": 82,
   "metadata": {},
   "outputs": [],
   "source": [
    "y_pred_con=(y_pred_svm+y_pred_gbr)/2"
   ]
  },
  {
   "cell_type": "code",
   "execution_count": 83,
   "metadata": {},
   "outputs": [
    {
     "data": {
      "text/plain": [
       "0.5"
      ]
     },
     "execution_count": 83,
     "metadata": {},
     "output_type": "execute_result"
    }
   ],
   "source": [
    "Q2_TS = round(r2_score(y_ts, y_pred_con), 2)\n",
    "Q2_TS"
   ]
  },
  {
   "cell_type": "code",
   "execution_count": 84,
   "metadata": {},
   "outputs": [
    {
     "data": {
      "text/plain": [
       "0.68"
      ]
     },
     "execution_count": 84,
     "metadata": {},
     "output_type": "execute_result"
    }
   ],
   "source": [
    "RMSE_TS=round(np.sqrt(mean_absolute_error(y_ts, y_pred_con)), 2)\n",
    "RMSE_TS"
   ]
  },
  {
   "cell_type": "markdown",
   "metadata": {},
   "source": [
    "# Estimating applicability domain. Method - Euclidian distances, K=1"
   ]
  },
  {
   "cell_type": "code",
   "execution_count": 85,
   "metadata": {},
   "outputs": [],
   "source": [
    "neighbors_k= pairwise_distances(x_tr, n_jobs=-1)\n",
    "neighbors_k.sort(0)"
   ]
  },
  {
   "cell_type": "code",
   "execution_count": 86,
   "metadata": {},
   "outputs": [
    {
     "data": {
      "text/html": [
       "<div>\n",
       "<style scoped>\n",
       "    .dataframe tbody tr th:only-of-type {\n",
       "        vertical-align: middle;\n",
       "    }\n",
       "\n",
       "    .dataframe tbody tr th {\n",
       "        vertical-align: top;\n",
       "    }\n",
       "\n",
       "    .dataframe thead th {\n",
       "        text-align: right;\n",
       "    }\n",
       "</style>\n",
       "<table border=\"1\" class=\"dataframe\">\n",
       "  <thead>\n",
       "    <tr style=\"text-align: right;\">\n",
       "      <th></th>\n",
       "      <th>0</th>\n",
       "      <th>1</th>\n",
       "      <th>2</th>\n",
       "      <th>3</th>\n",
       "      <th>4</th>\n",
       "      <th>5</th>\n",
       "      <th>6</th>\n",
       "      <th>7</th>\n",
       "      <th>8</th>\n",
       "      <th>9</th>\n",
       "      <th>...</th>\n",
       "      <th>7702</th>\n",
       "      <th>7703</th>\n",
       "      <th>7704</th>\n",
       "      <th>7705</th>\n",
       "      <th>7706</th>\n",
       "      <th>7707</th>\n",
       "      <th>7708</th>\n",
       "      <th>7709</th>\n",
       "      <th>7710</th>\n",
       "      <th>7711</th>\n",
       "    </tr>\n",
       "  </thead>\n",
       "  <tbody>\n",
       "    <tr>\n",
       "      <th>0</th>\n",
       "      <td>0.000000</td>\n",
       "      <td>0.000000</td>\n",
       "      <td>0.000000</td>\n",
       "      <td>0.000000</td>\n",
       "      <td>0.000000</td>\n",
       "      <td>0.000000</td>\n",
       "      <td>0.000000</td>\n",
       "      <td>0.000000</td>\n",
       "      <td>0.000000</td>\n",
       "      <td>0.000000</td>\n",
       "      <td>...</td>\n",
       "      <td>0.000000</td>\n",
       "      <td>0.000000</td>\n",
       "      <td>0.000000</td>\n",
       "      <td>0.000000</td>\n",
       "      <td>0.000000</td>\n",
       "      <td>0.000000</td>\n",
       "      <td>0.000000</td>\n",
       "      <td>0.000000</td>\n",
       "      <td>0.000000</td>\n",
       "      <td>0.000000</td>\n",
       "    </tr>\n",
       "    <tr>\n",
       "      <th>1</th>\n",
       "      <td>1.000000</td>\n",
       "      <td>2.449490</td>\n",
       "      <td>0.000000</td>\n",
       "      <td>0.000000</td>\n",
       "      <td>0.000000</td>\n",
       "      <td>0.000000</td>\n",
       "      <td>2.645751</td>\n",
       "      <td>0.000000</td>\n",
       "      <td>0.000000</td>\n",
       "      <td>1.000000</td>\n",
       "      <td>...</td>\n",
       "      <td>1.732051</td>\n",
       "      <td>2.236068</td>\n",
       "      <td>2.000000</td>\n",
       "      <td>3.316625</td>\n",
       "      <td>1.000000</td>\n",
       "      <td>1.732051</td>\n",
       "      <td>0.000000</td>\n",
       "      <td>3.316625</td>\n",
       "      <td>2.828427</td>\n",
       "      <td>1.732051</td>\n",
       "    </tr>\n",
       "    <tr>\n",
       "      <th>2</th>\n",
       "      <td>1.000000</td>\n",
       "      <td>2.449490</td>\n",
       "      <td>0.000000</td>\n",
       "      <td>0.000000</td>\n",
       "      <td>0.000000</td>\n",
       "      <td>0.000000</td>\n",
       "      <td>2.645751</td>\n",
       "      <td>0.000000</td>\n",
       "      <td>0.000000</td>\n",
       "      <td>1.000000</td>\n",
       "      <td>...</td>\n",
       "      <td>2.449490</td>\n",
       "      <td>2.449490</td>\n",
       "      <td>2.236068</td>\n",
       "      <td>3.464102</td>\n",
       "      <td>2.645751</td>\n",
       "      <td>1.732051</td>\n",
       "      <td>0.000000</td>\n",
       "      <td>3.316625</td>\n",
       "      <td>3.316625</td>\n",
       "      <td>2.000000</td>\n",
       "    </tr>\n",
       "    <tr>\n",
       "      <th>3</th>\n",
       "      <td>1.414214</td>\n",
       "      <td>2.449490</td>\n",
       "      <td>0.000000</td>\n",
       "      <td>0.000000</td>\n",
       "      <td>1.000000</td>\n",
       "      <td>1.732051</td>\n",
       "      <td>2.645751</td>\n",
       "      <td>0.000000</td>\n",
       "      <td>0.000000</td>\n",
       "      <td>2.645751</td>\n",
       "      <td>...</td>\n",
       "      <td>2.449490</td>\n",
       "      <td>3.000000</td>\n",
       "      <td>2.449490</td>\n",
       "      <td>3.605551</td>\n",
       "      <td>3.000000</td>\n",
       "      <td>2.000000</td>\n",
       "      <td>1.414214</td>\n",
       "      <td>3.464102</td>\n",
       "      <td>3.741657</td>\n",
       "      <td>2.236068</td>\n",
       "    </tr>\n",
       "    <tr>\n",
       "      <th>4</th>\n",
       "      <td>1.732051</td>\n",
       "      <td>2.645751</td>\n",
       "      <td>0.000000</td>\n",
       "      <td>0.000000</td>\n",
       "      <td>1.000000</td>\n",
       "      <td>1.732051</td>\n",
       "      <td>2.828427</td>\n",
       "      <td>0.000000</td>\n",
       "      <td>0.000000</td>\n",
       "      <td>2.828427</td>\n",
       "      <td>...</td>\n",
       "      <td>2.645751</td>\n",
       "      <td>3.162278</td>\n",
       "      <td>2.449490</td>\n",
       "      <td>3.741657</td>\n",
       "      <td>3.162278</td>\n",
       "      <td>2.000000</td>\n",
       "      <td>1.414214</td>\n",
       "      <td>3.464102</td>\n",
       "      <td>3.741657</td>\n",
       "      <td>2.236068</td>\n",
       "    </tr>\n",
       "    <tr>\n",
       "      <th>...</th>\n",
       "      <td>...</td>\n",
       "      <td>...</td>\n",
       "      <td>...</td>\n",
       "      <td>...</td>\n",
       "      <td>...</td>\n",
       "      <td>...</td>\n",
       "      <td>...</td>\n",
       "      <td>...</td>\n",
       "      <td>...</td>\n",
       "      <td>...</td>\n",
       "      <td>...</td>\n",
       "      <td>...</td>\n",
       "      <td>...</td>\n",
       "      <td>...</td>\n",
       "      <td>...</td>\n",
       "      <td>...</td>\n",
       "      <td>...</td>\n",
       "      <td>...</td>\n",
       "      <td>...</td>\n",
       "      <td>...</td>\n",
       "      <td>...</td>\n",
       "    </tr>\n",
       "    <tr>\n",
       "      <th>7707</th>\n",
       "      <td>10.246951</td>\n",
       "      <td>9.848858</td>\n",
       "      <td>10.677078</td>\n",
       "      <td>10.049875</td>\n",
       "      <td>10.723805</td>\n",
       "      <td>10.392304</td>\n",
       "      <td>10.198039</td>\n",
       "      <td>10.000000</td>\n",
       "      <td>10.049875</td>\n",
       "      <td>10.954452</td>\n",
       "      <td>...</td>\n",
       "      <td>10.535654</td>\n",
       "      <td>10.344080</td>\n",
       "      <td>10.049875</td>\n",
       "      <td>9.797959</td>\n",
       "      <td>10.440307</td>\n",
       "      <td>10.049875</td>\n",
       "      <td>10.148891</td>\n",
       "      <td>9.746795</td>\n",
       "      <td>10.198039</td>\n",
       "      <td>9.899495</td>\n",
       "    </tr>\n",
       "    <tr>\n",
       "      <th>7708</th>\n",
       "      <td>10.440307</td>\n",
       "      <td>9.899495</td>\n",
       "      <td>10.723805</td>\n",
       "      <td>10.198039</td>\n",
       "      <td>10.770329</td>\n",
       "      <td>10.440307</td>\n",
       "      <td>10.535654</td>\n",
       "      <td>10.148891</td>\n",
       "      <td>10.099504</td>\n",
       "      <td>11.000000</td>\n",
       "      <td>...</td>\n",
       "      <td>10.583005</td>\n",
       "      <td>10.677078</td>\n",
       "      <td>10.049875</td>\n",
       "      <td>9.848858</td>\n",
       "      <td>10.677078</td>\n",
       "      <td>10.295630</td>\n",
       "      <td>10.344080</td>\n",
       "      <td>9.848858</td>\n",
       "      <td>10.198039</td>\n",
       "      <td>10.000000</td>\n",
       "    </tr>\n",
       "    <tr>\n",
       "      <th>7709</th>\n",
       "      <td>10.862781</td>\n",
       "      <td>10.344080</td>\n",
       "      <td>10.862781</td>\n",
       "      <td>10.630146</td>\n",
       "      <td>11.000000</td>\n",
       "      <td>10.816654</td>\n",
       "      <td>10.630146</td>\n",
       "      <td>10.583005</td>\n",
       "      <td>10.535654</td>\n",
       "      <td>11.135529</td>\n",
       "      <td>...</td>\n",
       "      <td>10.954452</td>\n",
       "      <td>10.770329</td>\n",
       "      <td>10.630146</td>\n",
       "      <td>9.899495</td>\n",
       "      <td>10.862781</td>\n",
       "      <td>10.723805</td>\n",
       "      <td>10.770329</td>\n",
       "      <td>10.049875</td>\n",
       "      <td>10.862781</td>\n",
       "      <td>10.630146</td>\n",
       "    </tr>\n",
       "    <tr>\n",
       "      <th>7710</th>\n",
       "      <td>11.135529</td>\n",
       "      <td>10.535654</td>\n",
       "      <td>11.224972</td>\n",
       "      <td>10.677078</td>\n",
       "      <td>11.357817</td>\n",
       "      <td>11.045361</td>\n",
       "      <td>10.816654</td>\n",
       "      <td>10.770329</td>\n",
       "      <td>10.630146</td>\n",
       "      <td>11.313708</td>\n",
       "      <td>...</td>\n",
       "      <td>11.313708</td>\n",
       "      <td>10.954452</td>\n",
       "      <td>10.677078</td>\n",
       "      <td>9.899495</td>\n",
       "      <td>11.135529</td>\n",
       "      <td>10.770329</td>\n",
       "      <td>10.862781</td>\n",
       "      <td>10.049875</td>\n",
       "      <td>11.224972</td>\n",
       "      <td>10.630146</td>\n",
       "    </tr>\n",
       "    <tr>\n",
       "      <th>7711</th>\n",
       "      <td>11.269427</td>\n",
       "      <td>10.677078</td>\n",
       "      <td>11.445523</td>\n",
       "      <td>10.723805</td>\n",
       "      <td>11.489125</td>\n",
       "      <td>11.090536</td>\n",
       "      <td>10.862781</td>\n",
       "      <td>10.816654</td>\n",
       "      <td>10.770329</td>\n",
       "      <td>11.532562</td>\n",
       "      <td>...</td>\n",
       "      <td>11.445523</td>\n",
       "      <td>11.090536</td>\n",
       "      <td>10.677078</td>\n",
       "      <td>9.949874</td>\n",
       "      <td>11.180340</td>\n",
       "      <td>10.816654</td>\n",
       "      <td>10.908712</td>\n",
       "      <td>10.198039</td>\n",
       "      <td>11.357817</td>\n",
       "      <td>10.677078</td>\n",
       "    </tr>\n",
       "  </tbody>\n",
       "</table>\n",
       "<p>7712 rows × 7712 columns</p>\n",
       "</div>"
      ],
      "text/plain": [
       "           0          1          2          3          4          5     \\\n",
       "0      0.000000   0.000000   0.000000   0.000000   0.000000   0.000000   \n",
       "1      1.000000   2.449490   0.000000   0.000000   0.000000   0.000000   \n",
       "2      1.000000   2.449490   0.000000   0.000000   0.000000   0.000000   \n",
       "3      1.414214   2.449490   0.000000   0.000000   1.000000   1.732051   \n",
       "4      1.732051   2.645751   0.000000   0.000000   1.000000   1.732051   \n",
       "...         ...        ...        ...        ...        ...        ...   \n",
       "7707  10.246951   9.848858  10.677078  10.049875  10.723805  10.392304   \n",
       "7708  10.440307   9.899495  10.723805  10.198039  10.770329  10.440307   \n",
       "7709  10.862781  10.344080  10.862781  10.630146  11.000000  10.816654   \n",
       "7710  11.135529  10.535654  11.224972  10.677078  11.357817  11.045361   \n",
       "7711  11.269427  10.677078  11.445523  10.723805  11.489125  11.090536   \n",
       "\n",
       "           6          7          8          9     ...       7702       7703  \\\n",
       "0      0.000000   0.000000   0.000000   0.000000  ...   0.000000   0.000000   \n",
       "1      2.645751   0.000000   0.000000   1.000000  ...   1.732051   2.236068   \n",
       "2      2.645751   0.000000   0.000000   1.000000  ...   2.449490   2.449490   \n",
       "3      2.645751   0.000000   0.000000   2.645751  ...   2.449490   3.000000   \n",
       "4      2.828427   0.000000   0.000000   2.828427  ...   2.645751   3.162278   \n",
       "...         ...        ...        ...        ...  ...        ...        ...   \n",
       "7707  10.198039  10.000000  10.049875  10.954452  ...  10.535654  10.344080   \n",
       "7708  10.535654  10.148891  10.099504  11.000000  ...  10.583005  10.677078   \n",
       "7709  10.630146  10.583005  10.535654  11.135529  ...  10.954452  10.770329   \n",
       "7710  10.816654  10.770329  10.630146  11.313708  ...  11.313708  10.954452   \n",
       "7711  10.862781  10.816654  10.770329  11.532562  ...  11.445523  11.090536   \n",
       "\n",
       "           7704      7705       7706       7707       7708       7709  \\\n",
       "0      0.000000  0.000000   0.000000   0.000000   0.000000   0.000000   \n",
       "1      2.000000  3.316625   1.000000   1.732051   0.000000   3.316625   \n",
       "2      2.236068  3.464102   2.645751   1.732051   0.000000   3.316625   \n",
       "3      2.449490  3.605551   3.000000   2.000000   1.414214   3.464102   \n",
       "4      2.449490  3.741657   3.162278   2.000000   1.414214   3.464102   \n",
       "...         ...       ...        ...        ...        ...        ...   \n",
       "7707  10.049875  9.797959  10.440307  10.049875  10.148891   9.746795   \n",
       "7708  10.049875  9.848858  10.677078  10.295630  10.344080   9.848858   \n",
       "7709  10.630146  9.899495  10.862781  10.723805  10.770329  10.049875   \n",
       "7710  10.677078  9.899495  11.135529  10.770329  10.862781  10.049875   \n",
       "7711  10.677078  9.949874  11.180340  10.816654  10.908712  10.198039   \n",
       "\n",
       "           7710       7711  \n",
       "0      0.000000   0.000000  \n",
       "1      2.828427   1.732051  \n",
       "2      3.316625   2.000000  \n",
       "3      3.741657   2.236068  \n",
       "4      3.741657   2.236068  \n",
       "...         ...        ...  \n",
       "7707  10.198039   9.899495  \n",
       "7708  10.198039  10.000000  \n",
       "7709  10.862781  10.630146  \n",
       "7710  11.224972  10.630146  \n",
       "7711  11.357817  10.677078  \n",
       "\n",
       "[7712 rows x 7712 columns]"
      ]
     },
     "execution_count": 86,
     "metadata": {},
     "output_type": "execute_result"
    }
   ],
   "source": [
    "df_tr=pd.DataFrame(neighbors_k)\n",
    "df_tr"
   ]
  },
  {
   "cell_type": "code",
   "execution_count": 87,
   "metadata": {},
   "outputs": [],
   "source": [
    "similarity= neighbors_k"
   ]
  },
  {
   "cell_type": "code",
   "execution_count": 88,
   "metadata": {},
   "outputs": [],
   "source": [
    "Dmean=np.mean(similarity[1,:])"
   ]
  },
  {
   "cell_type": "code",
   "execution_count": 89,
   "metadata": {},
   "outputs": [
    {
     "data": {
      "text/plain": [
       "1.36"
      ]
     },
     "execution_count": 89,
     "metadata": {},
     "output_type": "execute_result"
    }
   ],
   "source": [
    "round(Dmean, 2)"
   ]
  },
  {
   "cell_type": "code",
   "execution_count": 90,
   "metadata": {},
   "outputs": [],
   "source": [
    "std=np.std(similarity[1,:])"
   ]
  },
  {
   "cell_type": "code",
   "execution_count": 91,
   "metadata": {},
   "outputs": [
    {
     "data": {
      "text/plain": [
       "1.35"
      ]
     },
     "execution_count": 91,
     "metadata": {},
     "output_type": "execute_result"
    }
   ],
   "source": [
    "round(std, 2)"
   ]
  },
  {
   "cell_type": "code",
   "execution_count": 92,
   "metadata": {},
   "outputs": [
    {
     "name": "stdout",
     "output_type": "stream",
     "text": [
      "2.03\n"
     ]
    }
   ],
   "source": [
    "model_AD_limit=Dmean+std*0.5\n",
    "print(np.round(model_AD_limit, 2))"
   ]
  },
  {
   "cell_type": "code",
   "execution_count": 93,
   "metadata": {},
   "outputs": [],
   "source": [
    "neighbors_k_ts= pairwise_distances(x_tr,Y=x_ts, n_jobs=-1)\n",
    "neighbors_k_ts.sort(0)"
   ]
  },
  {
   "cell_type": "code",
   "execution_count": 94,
   "metadata": {},
   "outputs": [
    {
     "data": {
      "text/html": [
       "<div>\n",
       "<style scoped>\n",
       "    .dataframe tbody tr th:only-of-type {\n",
       "        vertical-align: middle;\n",
       "    }\n",
       "\n",
       "    .dataframe tbody tr th {\n",
       "        vertical-align: top;\n",
       "    }\n",
       "\n",
       "    .dataframe thead th {\n",
       "        text-align: right;\n",
       "    }\n",
       "</style>\n",
       "<table border=\"1\" class=\"dataframe\">\n",
       "  <thead>\n",
       "    <tr style=\"text-align: right;\">\n",
       "      <th></th>\n",
       "      <th>0</th>\n",
       "      <th>1</th>\n",
       "      <th>2</th>\n",
       "      <th>3</th>\n",
       "      <th>4</th>\n",
       "      <th>5</th>\n",
       "      <th>6</th>\n",
       "      <th>7</th>\n",
       "      <th>8</th>\n",
       "      <th>9</th>\n",
       "      <th>...</th>\n",
       "      <th>1919</th>\n",
       "      <th>1920</th>\n",
       "      <th>1921</th>\n",
       "      <th>1922</th>\n",
       "      <th>1923</th>\n",
       "      <th>1924</th>\n",
       "      <th>1925</th>\n",
       "      <th>1926</th>\n",
       "      <th>1927</th>\n",
       "      <th>1928</th>\n",
       "    </tr>\n",
       "  </thead>\n",
       "  <tbody>\n",
       "    <tr>\n",
       "      <th>0</th>\n",
       "      <td>1.000000</td>\n",
       "      <td>0.000000</td>\n",
       "      <td>1.732051</td>\n",
       "      <td>0.000000</td>\n",
       "      <td>1.000000</td>\n",
       "      <td>1.000000</td>\n",
       "      <td>0.000000</td>\n",
       "      <td>0.000000</td>\n",
       "      <td>0.000000</td>\n",
       "      <td>0.000000</td>\n",
       "      <td>...</td>\n",
       "      <td>0.000000</td>\n",
       "      <td>3.464102</td>\n",
       "      <td>2.449490</td>\n",
       "      <td>2.449490</td>\n",
       "      <td>0.000000</td>\n",
       "      <td>2.236068</td>\n",
       "      <td>0.000000</td>\n",
       "      <td>1.732051</td>\n",
       "      <td>3.741657</td>\n",
       "      <td>1.000000</td>\n",
       "    </tr>\n",
       "    <tr>\n",
       "      <th>1</th>\n",
       "      <td>1.000000</td>\n",
       "      <td>0.000000</td>\n",
       "      <td>2.000000</td>\n",
       "      <td>0.000000</td>\n",
       "      <td>1.414214</td>\n",
       "      <td>1.000000</td>\n",
       "      <td>0.000000</td>\n",
       "      <td>0.000000</td>\n",
       "      <td>0.000000</td>\n",
       "      <td>0.000000</td>\n",
       "      <td>...</td>\n",
       "      <td>0.000000</td>\n",
       "      <td>4.358899</td>\n",
       "      <td>3.162278</td>\n",
       "      <td>2.645751</td>\n",
       "      <td>1.414214</td>\n",
       "      <td>2.449490</td>\n",
       "      <td>1.732051</td>\n",
       "      <td>2.645751</td>\n",
       "      <td>3.872983</td>\n",
       "      <td>1.000000</td>\n",
       "    </tr>\n",
       "    <tr>\n",
       "      <th>2</th>\n",
       "      <td>1.000000</td>\n",
       "      <td>0.000000</td>\n",
       "      <td>2.000000</td>\n",
       "      <td>0.000000</td>\n",
       "      <td>1.414214</td>\n",
       "      <td>1.000000</td>\n",
       "      <td>0.000000</td>\n",
       "      <td>0.000000</td>\n",
       "      <td>1.000000</td>\n",
       "      <td>0.000000</td>\n",
       "      <td>...</td>\n",
       "      <td>0.000000</td>\n",
       "      <td>4.582576</td>\n",
       "      <td>3.316625</td>\n",
       "      <td>2.645751</td>\n",
       "      <td>1.414214</td>\n",
       "      <td>2.828427</td>\n",
       "      <td>2.449490</td>\n",
       "      <td>3.000000</td>\n",
       "      <td>4.242640</td>\n",
       "      <td>1.000000</td>\n",
       "    </tr>\n",
       "    <tr>\n",
       "      <th>3</th>\n",
       "      <td>1.414214</td>\n",
       "      <td>0.000000</td>\n",
       "      <td>2.236068</td>\n",
       "      <td>0.000000</td>\n",
       "      <td>1.414214</td>\n",
       "      <td>1.000000</td>\n",
       "      <td>0.000000</td>\n",
       "      <td>1.000000</td>\n",
       "      <td>1.000000</td>\n",
       "      <td>0.000000</td>\n",
       "      <td>...</td>\n",
       "      <td>1.000000</td>\n",
       "      <td>4.582576</td>\n",
       "      <td>3.605551</td>\n",
       "      <td>2.828427</td>\n",
       "      <td>1.732051</td>\n",
       "      <td>3.000000</td>\n",
       "      <td>2.449490</td>\n",
       "      <td>3.000000</td>\n",
       "      <td>4.358899</td>\n",
       "      <td>1.000000</td>\n",
       "    </tr>\n",
       "    <tr>\n",
       "      <th>4</th>\n",
       "      <td>1.414214</td>\n",
       "      <td>1.000000</td>\n",
       "      <td>2.236068</td>\n",
       "      <td>0.000000</td>\n",
       "      <td>1.414214</td>\n",
       "      <td>1.000000</td>\n",
       "      <td>0.000000</td>\n",
       "      <td>1.000000</td>\n",
       "      <td>1.000000</td>\n",
       "      <td>0.000000</td>\n",
       "      <td>...</td>\n",
       "      <td>1.000000</td>\n",
       "      <td>4.582576</td>\n",
       "      <td>3.605551</td>\n",
       "      <td>3.000000</td>\n",
       "      <td>2.236068</td>\n",
       "      <td>3.162278</td>\n",
       "      <td>2.449490</td>\n",
       "      <td>3.000000</td>\n",
       "      <td>4.472136</td>\n",
       "      <td>1.000000</td>\n",
       "    </tr>\n",
       "    <tr>\n",
       "      <th>...</th>\n",
       "      <td>...</td>\n",
       "      <td>...</td>\n",
       "      <td>...</td>\n",
       "      <td>...</td>\n",
       "      <td>...</td>\n",
       "      <td>...</td>\n",
       "      <td>...</td>\n",
       "      <td>...</td>\n",
       "      <td>...</td>\n",
       "      <td>...</td>\n",
       "      <td>...</td>\n",
       "      <td>...</td>\n",
       "      <td>...</td>\n",
       "      <td>...</td>\n",
       "      <td>...</td>\n",
       "      <td>...</td>\n",
       "      <td>...</td>\n",
       "      <td>...</td>\n",
       "      <td>...</td>\n",
       "      <td>...</td>\n",
       "      <td>...</td>\n",
       "    </tr>\n",
       "    <tr>\n",
       "      <th>7707</th>\n",
       "      <td>10.908712</td>\n",
       "      <td>10.148891</td>\n",
       "      <td>10.630146</td>\n",
       "      <td>10.148891</td>\n",
       "      <td>10.392304</td>\n",
       "      <td>10.440307</td>\n",
       "      <td>10.099504</td>\n",
       "      <td>10.770329</td>\n",
       "      <td>10.630146</td>\n",
       "      <td>10.099504</td>\n",
       "      <td>...</td>\n",
       "      <td>10.148891</td>\n",
       "      <td>10.000000</td>\n",
       "      <td>11.269427</td>\n",
       "      <td>10.000000</td>\n",
       "      <td>10.770329</td>\n",
       "      <td>9.848858</td>\n",
       "      <td>10.954452</td>\n",
       "      <td>10.488089</td>\n",
       "      <td>10.862781</td>\n",
       "      <td>10.295630</td>\n",
       "    </tr>\n",
       "    <tr>\n",
       "      <th>7708</th>\n",
       "      <td>10.954452</td>\n",
       "      <td>10.198039</td>\n",
       "      <td>10.770329</td>\n",
       "      <td>10.198039</td>\n",
       "      <td>10.488089</td>\n",
       "      <td>10.488089</td>\n",
       "      <td>10.148891</td>\n",
       "      <td>10.816654</td>\n",
       "      <td>10.770329</td>\n",
       "      <td>10.148891</td>\n",
       "      <td>...</td>\n",
       "      <td>10.246951</td>\n",
       "      <td>10.099504</td>\n",
       "      <td>11.313708</td>\n",
       "      <td>10.295630</td>\n",
       "      <td>10.816654</td>\n",
       "      <td>9.848858</td>\n",
       "      <td>10.954452</td>\n",
       "      <td>10.816654</td>\n",
       "      <td>10.862781</td>\n",
       "      <td>10.392304</td>\n",
       "    </tr>\n",
       "    <tr>\n",
       "      <th>7709</th>\n",
       "      <td>11.090536</td>\n",
       "      <td>10.583005</td>\n",
       "      <td>11.045361</td>\n",
       "      <td>10.630146</td>\n",
       "      <td>10.816654</td>\n",
       "      <td>10.723805</td>\n",
       "      <td>10.535654</td>\n",
       "      <td>10.954452</td>\n",
       "      <td>11.000000</td>\n",
       "      <td>10.583005</td>\n",
       "      <td>...</td>\n",
       "      <td>10.770329</td>\n",
       "      <td>10.148891</td>\n",
       "      <td>11.313708</td>\n",
       "      <td>10.488089</td>\n",
       "      <td>11.045361</td>\n",
       "      <td>9.949874</td>\n",
       "      <td>11.000000</td>\n",
       "      <td>10.908712</td>\n",
       "      <td>10.862781</td>\n",
       "      <td>10.908712</td>\n",
       "    </tr>\n",
       "    <tr>\n",
       "      <th>7710</th>\n",
       "      <td>11.445523</td>\n",
       "      <td>10.862781</td>\n",
       "      <td>11.313708</td>\n",
       "      <td>10.723805</td>\n",
       "      <td>11.090536</td>\n",
       "      <td>11.090536</td>\n",
       "      <td>10.723805</td>\n",
       "      <td>11.313708</td>\n",
       "      <td>11.357817</td>\n",
       "      <td>10.677078</td>\n",
       "      <td>...</td>\n",
       "      <td>10.862781</td>\n",
       "      <td>10.198039</td>\n",
       "      <td>11.357817</td>\n",
       "      <td>10.535654</td>\n",
       "      <td>11.090536</td>\n",
       "      <td>10.000000</td>\n",
       "      <td>11.045361</td>\n",
       "      <td>11.090536</td>\n",
       "      <td>11.224972</td>\n",
       "      <td>10.954452</td>\n",
       "    </tr>\n",
       "    <tr>\n",
       "      <th>7711</th>\n",
       "      <td>11.661903</td>\n",
       "      <td>10.908712</td>\n",
       "      <td>11.357817</td>\n",
       "      <td>10.862781</td>\n",
       "      <td>11.224972</td>\n",
       "      <td>11.224972</td>\n",
       "      <td>10.862781</td>\n",
       "      <td>11.532562</td>\n",
       "      <td>11.489125</td>\n",
       "      <td>10.816654</td>\n",
       "      <td>...</td>\n",
       "      <td>10.908712</td>\n",
       "      <td>10.440307</td>\n",
       "      <td>11.401754</td>\n",
       "      <td>10.677078</td>\n",
       "      <td>11.180340</td>\n",
       "      <td>10.148891</td>\n",
       "      <td>11.045361</td>\n",
       "      <td>11.224972</td>\n",
       "      <td>11.357817</td>\n",
       "      <td>11.000000</td>\n",
       "    </tr>\n",
       "  </tbody>\n",
       "</table>\n",
       "<p>7712 rows × 1929 columns</p>\n",
       "</div>"
      ],
      "text/plain": [
       "           0          1          2          3          4          5     \\\n",
       "0      1.000000   0.000000   1.732051   0.000000   1.000000   1.000000   \n",
       "1      1.000000   0.000000   2.000000   0.000000   1.414214   1.000000   \n",
       "2      1.000000   0.000000   2.000000   0.000000   1.414214   1.000000   \n",
       "3      1.414214   0.000000   2.236068   0.000000   1.414214   1.000000   \n",
       "4      1.414214   1.000000   2.236068   0.000000   1.414214   1.000000   \n",
       "...         ...        ...        ...        ...        ...        ...   \n",
       "7707  10.908712  10.148891  10.630146  10.148891  10.392304  10.440307   \n",
       "7708  10.954452  10.198039  10.770329  10.198039  10.488089  10.488089   \n",
       "7709  11.090536  10.583005  11.045361  10.630146  10.816654  10.723805   \n",
       "7710  11.445523  10.862781  11.313708  10.723805  11.090536  11.090536   \n",
       "7711  11.661903  10.908712  11.357817  10.862781  11.224972  11.224972   \n",
       "\n",
       "           6          7          8          9     ...       1919       1920  \\\n",
       "0      0.000000   0.000000   0.000000   0.000000  ...   0.000000   3.464102   \n",
       "1      0.000000   0.000000   0.000000   0.000000  ...   0.000000   4.358899   \n",
       "2      0.000000   0.000000   1.000000   0.000000  ...   0.000000   4.582576   \n",
       "3      0.000000   1.000000   1.000000   0.000000  ...   1.000000   4.582576   \n",
       "4      0.000000   1.000000   1.000000   0.000000  ...   1.000000   4.582576   \n",
       "...         ...        ...        ...        ...  ...        ...        ...   \n",
       "7707  10.099504  10.770329  10.630146  10.099504  ...  10.148891  10.000000   \n",
       "7708  10.148891  10.816654  10.770329  10.148891  ...  10.246951  10.099504   \n",
       "7709  10.535654  10.954452  11.000000  10.583005  ...  10.770329  10.148891   \n",
       "7710  10.723805  11.313708  11.357817  10.677078  ...  10.862781  10.198039   \n",
       "7711  10.862781  11.532562  11.489125  10.816654  ...  10.908712  10.440307   \n",
       "\n",
       "           1921       1922       1923       1924       1925       1926  \\\n",
       "0      2.449490   2.449490   0.000000   2.236068   0.000000   1.732051   \n",
       "1      3.162278   2.645751   1.414214   2.449490   1.732051   2.645751   \n",
       "2      3.316625   2.645751   1.414214   2.828427   2.449490   3.000000   \n",
       "3      3.605551   2.828427   1.732051   3.000000   2.449490   3.000000   \n",
       "4      3.605551   3.000000   2.236068   3.162278   2.449490   3.000000   \n",
       "...         ...        ...        ...        ...        ...        ...   \n",
       "7707  11.269427  10.000000  10.770329   9.848858  10.954452  10.488089   \n",
       "7708  11.313708  10.295630  10.816654   9.848858  10.954452  10.816654   \n",
       "7709  11.313708  10.488089  11.045361   9.949874  11.000000  10.908712   \n",
       "7710  11.357817  10.535654  11.090536  10.000000  11.045361  11.090536   \n",
       "7711  11.401754  10.677078  11.180340  10.148891  11.045361  11.224972   \n",
       "\n",
       "           1927       1928  \n",
       "0      3.741657   1.000000  \n",
       "1      3.872983   1.000000  \n",
       "2      4.242640   1.000000  \n",
       "3      4.358899   1.000000  \n",
       "4      4.472136   1.000000  \n",
       "...         ...        ...  \n",
       "7707  10.862781  10.295630  \n",
       "7708  10.862781  10.392304  \n",
       "7709  10.862781  10.908712  \n",
       "7710  11.224972  10.954452  \n",
       "7711  11.357817  11.000000  \n",
       "\n",
       "[7712 rows x 1929 columns]"
      ]
     },
     "execution_count": 94,
     "metadata": {},
     "output_type": "execute_result"
    }
   ],
   "source": [
    "x_ts_AD=pd.DataFrame(neighbors_k_ts)\n",
    "x_ts_AD"
   ]
  },
  {
   "cell_type": "code",
   "execution_count": 95,
   "metadata": {},
   "outputs": [
    {
     "name": "stdout",
     "output_type": "stream",
     "text": [
      "[1.    0.    1.732 ... 1.732 3.742 1.   ]\n"
     ]
    }
   ],
   "source": [
    "similarity_ts= neighbors_k_ts\n",
    "cpd_AD=similarity_ts[0,:]\n",
    "cpd_value = np.round(cpd_AD, 3)\n",
    "print(cpd_value)"
   ]
  },
  {
   "cell_type": "code",
   "execution_count": 96,
   "metadata": {},
   "outputs": [
    {
     "name": "stdout",
     "output_type": "stream",
     "text": [
      "[ True  True  True ...  True False  True]\n"
     ]
    }
   ],
   "source": [
    "cpd_AD = np.where(cpd_value <= model_AD_limit, True, False)\n",
    "print(cpd_AD)"
   ]
  },
  {
   "cell_type": "code",
   "execution_count": 97,
   "metadata": {},
   "outputs": [
    {
     "name": "stdout",
     "output_type": "stream",
     "text": [
      "Coverage =  0.7257646448937273\n"
     ]
    }
   ],
   "source": [
    "print(\"Coverage = \", sum(cpd_AD) / len(cpd_AD))"
   ]
  },
  {
   "cell_type": "code",
   "execution_count": 98,
   "metadata": {},
   "outputs": [
    {
     "name": "stdout",
     "output_type": "stream",
     "text": [
      "Indices of substances included in AD =  [   0    1    2 ... 1925 1926 1928]\n"
     ]
    }
   ],
   "source": [
    "print(\"Indices of substances included in AD = \", np.where(cpd_AD != 0)[0])"
   ]
  },
  {
   "cell_type": "code",
   "execution_count": 99,
   "metadata": {},
   "outputs": [],
   "source": [
    "out_Ad=list(np.where(cpd_AD == 0)[0])"
   ]
  },
  {
   "cell_type": "markdown",
   "metadata": {},
   "source": [
    "# Prediction only for molecules included in  AD"
   ]
  },
  {
   "cell_type": "code",
   "execution_count": 100,
   "metadata": {},
   "outputs": [],
   "source": [
    "y_pred_con_ad=list(y_pred_con)"
   ]
  },
  {
   "cell_type": "code",
   "execution_count": 101,
   "metadata": {},
   "outputs": [],
   "source": [
    "y_pred_con_ad[:] = [x for i,x in enumerate(y_pred_con_ad) if i not in out_Ad]"
   ]
  },
  {
   "cell_type": "code",
   "execution_count": 102,
   "metadata": {},
   "outputs": [
    {
     "data": {
      "text/plain": [
       "1400"
      ]
     },
     "execution_count": 102,
     "metadata": {},
     "output_type": "execute_result"
    }
   ],
   "source": [
    "len(y_pred_con_ad)"
   ]
  },
  {
   "cell_type": "code",
   "execution_count": 103,
   "metadata": {},
   "outputs": [],
   "source": [
    "y_ts_ad=list(y_ts)"
   ]
  },
  {
   "cell_type": "code",
   "execution_count": 104,
   "metadata": {},
   "outputs": [],
   "source": [
    "y_ts_ad[:] = [x for i,x in enumerate(y_ts_ad) if i not in out_Ad]"
   ]
  },
  {
   "cell_type": "code",
   "execution_count": 105,
   "metadata": {},
   "outputs": [
    {
     "data": {
      "text/plain": [
       "1400"
      ]
     },
     "execution_count": 105,
     "metadata": {},
     "output_type": "execute_result"
    }
   ],
   "source": [
    "len(y_ts_ad)"
   ]
  },
  {
   "cell_type": "code",
   "execution_count": 106,
   "metadata": {},
   "outputs": [
    {
     "data": {
      "text/plain": [
       "0.54"
      ]
     },
     "execution_count": 106,
     "metadata": {},
     "output_type": "execute_result"
    }
   ],
   "source": [
    "Q2_TS = round(r2_score(y_ts_ad, y_pred_con_ad), 2)\n",
    "Q2_TS"
   ]
  },
  {
   "cell_type": "code",
   "execution_count": 107,
   "metadata": {},
   "outputs": [
    {
     "data": {
      "text/plain": [
       "0.65"
      ]
     },
     "execution_count": 107,
     "metadata": {},
     "output_type": "execute_result"
    }
   ],
   "source": [
    "RMSE_TS=round(np.sqrt(mean_absolute_error(y_ts_ad, y_pred_con_ad)), 2)\n",
    "RMSE_TS"
   ]
  },
  {
   "cell_type": "code",
   "execution_count": null,
   "metadata": {},
   "outputs": [],
   "source": []
  }
 ],
 "metadata": {
  "kernelspec": {
   "display_name": "Python 3 (ipykernel)",
   "language": "python",
   "name": "python3"
  },
  "language_info": {
   "codemirror_mode": {
    "name": "ipython",
    "version": 3
   },
   "file_extension": ".py",
   "mimetype": "text/x-python",
   "name": "python",
   "nbconvert_exporter": "python",
   "pygments_lexer": "ipython3",
   "version": "3.11.4"
  },
  "toc": {
   "base_numbering": 1,
   "nav_menu": {},
   "number_sections": true,
   "sideBar": true,
   "skip_h1_title": false,
   "title_cell": "Table of Contents",
   "title_sidebar": "Contents",
   "toc_cell": false,
   "toc_position": {
    "height": "calc(100% - 180px)",
    "left": "10px",
    "top": "150px",
    "width": "208.267px"
   },
   "toc_section_display": true,
   "toc_window_display": true
  }
 },
 "nbformat": 4,
 "nbformat_minor": 4
}
