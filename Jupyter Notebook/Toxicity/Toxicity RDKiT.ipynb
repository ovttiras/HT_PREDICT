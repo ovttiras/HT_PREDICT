{
 "cells": [
  {
   "cell_type": "markdown",
   "metadata": {},
   "source": [
    "# 1. Importing modules and functions"
   ]
  },
  {
   "cell_type": "code",
   "execution_count": 1,
   "metadata": {},
   "outputs": [
    {
     "name": "stderr",
     "output_type": "stream",
     "text": [
      "Using `tqdm.autonotebook.tqdm` in notebook mode. Use `tqdm.tqdm` instead to force console mode (e.g. in jupyter console)\n"
     ]
    }
   ],
   "source": [
    "import numpy as np\n",
    "import pandas as pd\n",
    "from rdkit import Chem, DataStructs\n",
    "from rdkit.Chem import AllChem, Descriptors\n",
    "from rdkit.Chem import MACCSkeys\n",
    "from copy import deepcopy\n",
    "from rdkit.ML.Descriptors import MoleculeDescriptors\n",
    "from molvs import standardize_smiles\n",
    "from sklearn.model_selection import KFold, GridSearchCV\n",
    "from sklearn.model_selection import permutation_test_score\n",
    "from sklearn.preprocessing import StandardScaler\n",
    "from sklearn.model_selection import cross_val_predict\n",
    "from sklearn import metrics\n",
    "from sklearn.metrics import pairwise_distances\n",
    "import joblib\n",
    "import pickle\n",
    "from numpy import savetxt\n",
    "from padelpy import from_sdf\n",
    "from IPython.display import HTML\n",
    "import matplotlib.pyplot as plt\n",
    "from sklearn.metrics import mean_squared_error\n",
    "from sklearn.metrics import mean_absolute_error\n",
    "from sklearn.metrics import r2_score\n",
    "from sklearn.ensemble import GradientBoostingRegressor\n",
    "from sklearn.neighbors import KNeighborsRegressor\n",
    "from sklearn.svm import SVR\n",
    "from padelpy import from_sdf\n",
    "import shap\n",
    "from tqdm.notebook import tqdm\n",
    "import warnings\n",
    "warnings.filterwarnings('ignore')"
   ]
  },
  {
   "cell_type": "code",
   "execution_count": 2,
   "metadata": {},
   "outputs": [],
   "source": [
    "def convert_smi_to_canon_smi(smi):\n",
    "    \n",
    "    try:\n",
    "        canon_smi = Chem.MolToSmiles(Chem.MolFromSmiles(smi),isomericSmiles = False)\n",
    "    except:\n",
    "        canon_smi='wrong_smiles'\n",
    "    return canon_smi"
   ]
  },
  {
   "cell_type": "code",
   "execution_count": 3,
   "metadata": {},
   "outputs": [],
   "source": [
    "def standart(smi):\n",
    "    global m\n",
    "    if smi!='wrong_smiles':\n",
    "        try:\n",
    "            smiles=standardize_smiles(smi)\n",
    "            m = Chem.MolFromSmiles(smi)\n",
    "        except:\n",
    "            smi='error kekule'\n",
    "    else:\n",
    "        m = 'check the smiles'\n",
    "    return m"
   ]
  },
  {
   "cell_type": "markdown",
   "metadata": {},
   "source": [
    "## Load data and curation work set"
   ]
  },
  {
   "cell_type": "code",
   "execution_count": 4,
   "metadata": {},
   "outputs": [
    {
     "data": {
      "text/html": [
       "<div>\n",
       "<style scoped>\n",
       "    .dataframe tbody tr th:only-of-type {\n",
       "        vertical-align: middle;\n",
       "    }\n",
       "\n",
       "    .dataframe tbody tr th {\n",
       "        vertical-align: top;\n",
       "    }\n",
       "\n",
       "    .dataframe thead th {\n",
       "        text-align: right;\n",
       "    }\n",
       "</style>\n",
       "<table border=\"1\" class=\"dataframe\">\n",
       "  <thead>\n",
       "    <tr style=\"text-align: right;\">\n",
       "      <th></th>\n",
       "      <th>CAS_Number</th>\n",
       "      <th>SMILES</th>\n",
       "      <th>pLD50</th>\n",
       "      <th>LD50,mg/kg</th>\n",
       "    </tr>\n",
       "  </thead>\n",
       "  <tbody>\n",
       "    <tr>\n",
       "      <th>0</th>\n",
       "      <td>626-48-2</td>\n",
       "      <td>Cc1cc(=O)[nH]c(=O)[nH]1</td>\n",
       "      <td>0.291207</td>\n",
       "      <td>64463.0000</td>\n",
       "    </tr>\n",
       "    <tr>\n",
       "      <th>1</th>\n",
       "      <td>27849-94-1</td>\n",
       "      <td>CC(CCc1ccc2c(c1)OCO2)NN</td>\n",
       "      <td>0.440660</td>\n",
       "      <td>75449.0000</td>\n",
       "    </tr>\n",
       "    <tr>\n",
       "      <th>2</th>\n",
       "      <td>110-54-3</td>\n",
       "      <td>CCCCCC</td>\n",
       "      <td>0.537460</td>\n",
       "      <td>24980.0000</td>\n",
       "    </tr>\n",
       "    <tr>\n",
       "      <th>3</th>\n",
       "      <td>1330-92-3</td>\n",
       "      <td>CCCCC(CC)COC(=O)C1=C(C(=O)OCC(CC)CCCC)CCCC1</td>\n",
       "      <td>0.539250</td>\n",
       "      <td>113917.0000</td>\n",
       "    </tr>\n",
       "    <tr>\n",
       "      <th>4</th>\n",
       "      <td>57-55-6</td>\n",
       "      <td>CC(O)CO</td>\n",
       "      <td>0.580330</td>\n",
       "      <td>19989.0000</td>\n",
       "    </tr>\n",
       "    <tr>\n",
       "      <th>...</th>\n",
       "      <td>...</td>\n",
       "      <td>...</td>\n",
       "      <td>...</td>\n",
       "      <td>...</td>\n",
       "    </tr>\n",
       "    <tr>\n",
       "      <th>7707</th>\n",
       "      <td>56073-10-0</td>\n",
       "      <td>O=c1oc2ccccc2c(O)c1C1CC(c2ccc(-c3ccc(Br)cc3)cc...</td>\n",
       "      <td>6.514700</td>\n",
       "      <td>0.1596</td>\n",
       "    </tr>\n",
       "    <tr>\n",
       "      <th>7708</th>\n",
       "      <td>130209-82-4</td>\n",
       "      <td>CC(C)OC(=O)CCC/C=C/CC1C(O)CC(O)C1CCC(O)CCc1ccccc1</td>\n",
       "      <td>6.937100</td>\n",
       "      <td>0.0500</td>\n",
       "    </tr>\n",
       "    <tr>\n",
       "      <th>7709</th>\n",
       "      <td>83805-11-2</td>\n",
       "      <td>C=C1/C(=C\\C=C2/CCCC3(C)C2CCC3C(C)CCCC(O)(C(F)(...</td>\n",
       "      <td>7.099700</td>\n",
       "      <td>0.0417</td>\n",
       "    </tr>\n",
       "    <tr>\n",
       "      <th>7710</th>\n",
       "      <td>1746-01-6</td>\n",
       "      <td>Clc1cc2c(cc1Cl)Oc1cc(Cl)c(Cl)cc1O2</td>\n",
       "      <td>7.206800</td>\n",
       "      <td>0.0199</td>\n",
       "    </tr>\n",
       "    <tr>\n",
       "      <th>7711</th>\n",
       "      <td>316-42-7</td>\n",
       "      <td>CCC1CN2CCc3cc(OC)c(OC)cc3C2CC1CC1NCCc2cc(OC)c(...</td>\n",
       "      <td>7.602600</td>\n",
       "      <td>0.0120</td>\n",
       "    </tr>\n",
       "  </tbody>\n",
       "</table>\n",
       "<p>7712 rows × 4 columns</p>\n",
       "</div>"
      ],
      "text/plain": [
       "       CAS_Number                                             SMILES  \\\n",
       "0        626-48-2                            Cc1cc(=O)[nH]c(=O)[nH]1   \n",
       "1      27849-94-1                            CC(CCc1ccc2c(c1)OCO2)NN   \n",
       "2        110-54-3                                             CCCCCC   \n",
       "3       1330-92-3        CCCCC(CC)COC(=O)C1=C(C(=O)OCC(CC)CCCC)CCCC1   \n",
       "4         57-55-6                                            CC(O)CO   \n",
       "...           ...                                                ...   \n",
       "7707   56073-10-0  O=c1oc2ccccc2c(O)c1C1CC(c2ccc(-c3ccc(Br)cc3)cc...   \n",
       "7708  130209-82-4  CC(C)OC(=O)CCC/C=C/CC1C(O)CC(O)C1CCC(O)CCc1ccccc1   \n",
       "7709   83805-11-2  C=C1/C(=C\\C=C2/CCCC3(C)C2CCC3C(C)CCCC(O)(C(F)(...   \n",
       "7710    1746-01-6                 Clc1cc2c(cc1Cl)Oc1cc(Cl)c(Cl)cc1O2   \n",
       "7711     316-42-7  CCC1CN2CCc3cc(OC)c(OC)cc3C2CC1CC1NCCc2cc(OC)c(...   \n",
       "\n",
       "         pLD50   LD50,mg/kg  \n",
       "0     0.291207   64463.0000  \n",
       "1     0.440660   75449.0000  \n",
       "2     0.537460   24980.0000  \n",
       "3     0.539250  113917.0000  \n",
       "4     0.580330   19989.0000  \n",
       "...        ...          ...  \n",
       "7707  6.514700       0.1596  \n",
       "7708  6.937100       0.0500  \n",
       "7709  7.099700       0.0417  \n",
       "7710  7.206800       0.0199  \n",
       "7711  7.602600       0.0120  \n",
       "\n",
       "[7712 rows x 4 columns]"
      ]
     },
     "execution_count": 4,
     "metadata": {},
     "output_type": "execute_result"
    }
   ],
   "source": [
    "# Set file path\n",
    "df_ws=pd.read_csv('rat_oral_LD50_WS.csv')\n",
    "df_ws"
   ]
  },
  {
   "cell_type": "markdown",
   "metadata": {},
   "source": [
    " Convert a SMILES string to canonical SMILES"
   ]
  },
  {
   "cell_type": "code",
   "execution_count": 5,
   "metadata": {},
   "outputs": [
    {
     "data": {
      "text/html": [
       "<div>\n",
       "<style scoped>\n",
       "    .dataframe tbody tr th:only-of-type {\n",
       "        vertical-align: middle;\n",
       "    }\n",
       "\n",
       "    .dataframe tbody tr th {\n",
       "        vertical-align: top;\n",
       "    }\n",
       "\n",
       "    .dataframe thead th {\n",
       "        text-align: right;\n",
       "    }\n",
       "</style>\n",
       "<table border=\"1\" class=\"dataframe\">\n",
       "  <thead>\n",
       "    <tr style=\"text-align: right;\">\n",
       "      <th></th>\n",
       "      <th>CAS_Number</th>\n",
       "      <th>SMILES</th>\n",
       "      <th>pLD50</th>\n",
       "      <th>LD50,mg/kg</th>\n",
       "    </tr>\n",
       "  </thead>\n",
       "  <tbody>\n",
       "    <tr>\n",
       "      <th>0</th>\n",
       "      <td>626-48-2</td>\n",
       "      <td>Cc1cc(=O)[nH]c(=O)[nH]1</td>\n",
       "      <td>0.291207</td>\n",
       "      <td>64463.0000</td>\n",
       "    </tr>\n",
       "    <tr>\n",
       "      <th>1</th>\n",
       "      <td>27849-94-1</td>\n",
       "      <td>CC(CCc1ccc2c(c1)OCO2)NN</td>\n",
       "      <td>0.440660</td>\n",
       "      <td>75449.0000</td>\n",
       "    </tr>\n",
       "    <tr>\n",
       "      <th>2</th>\n",
       "      <td>110-54-3</td>\n",
       "      <td>CCCCCC</td>\n",
       "      <td>0.537460</td>\n",
       "      <td>24980.0000</td>\n",
       "    </tr>\n",
       "    <tr>\n",
       "      <th>3</th>\n",
       "      <td>1330-92-3</td>\n",
       "      <td>CCCCC(CC)COC(=O)C1=C(C(=O)OCC(CC)CCCC)CCCC1</td>\n",
       "      <td>0.539250</td>\n",
       "      <td>113917.0000</td>\n",
       "    </tr>\n",
       "    <tr>\n",
       "      <th>4</th>\n",
       "      <td>57-55-6</td>\n",
       "      <td>CC(O)CO</td>\n",
       "      <td>0.580330</td>\n",
       "      <td>19989.0000</td>\n",
       "    </tr>\n",
       "    <tr>\n",
       "      <th>...</th>\n",
       "      <td>...</td>\n",
       "      <td>...</td>\n",
       "      <td>...</td>\n",
       "      <td>...</td>\n",
       "    </tr>\n",
       "    <tr>\n",
       "      <th>7707</th>\n",
       "      <td>56073-10-0</td>\n",
       "      <td>O=c1oc2ccccc2c(O)c1C1CC(c2ccc(-c3ccc(Br)cc3)cc...</td>\n",
       "      <td>6.514700</td>\n",
       "      <td>0.1596</td>\n",
       "    </tr>\n",
       "    <tr>\n",
       "      <th>7708</th>\n",
       "      <td>130209-82-4</td>\n",
       "      <td>CC(C)OC(=O)CCCC=CCC1C(O)CC(O)C1CCC(O)CCc1ccccc1</td>\n",
       "      <td>6.937100</td>\n",
       "      <td>0.0500</td>\n",
       "    </tr>\n",
       "    <tr>\n",
       "      <th>7709</th>\n",
       "      <td>83805-11-2</td>\n",
       "      <td>C=C1C(=CC=C2CCCC3(C)C2CCC3C(C)CCCC(O)(C(F)(F)F...</td>\n",
       "      <td>7.099700</td>\n",
       "      <td>0.0417</td>\n",
       "    </tr>\n",
       "    <tr>\n",
       "      <th>7710</th>\n",
       "      <td>1746-01-6</td>\n",
       "      <td>Clc1cc2c(cc1Cl)Oc1cc(Cl)c(Cl)cc1O2</td>\n",
       "      <td>7.206800</td>\n",
       "      <td>0.0199</td>\n",
       "    </tr>\n",
       "    <tr>\n",
       "      <th>7711</th>\n",
       "      <td>316-42-7</td>\n",
       "      <td>CCC1CN2CCc3cc(OC)c(OC)cc3C2CC1CC1NCCc2cc(OC)c(...</td>\n",
       "      <td>7.602600</td>\n",
       "      <td>0.0120</td>\n",
       "    </tr>\n",
       "  </tbody>\n",
       "</table>\n",
       "<p>7712 rows × 4 columns</p>\n",
       "</div>"
      ],
      "text/plain": [
       "       CAS_Number                                             SMILES  \\\n",
       "0        626-48-2                            Cc1cc(=O)[nH]c(=O)[nH]1   \n",
       "1      27849-94-1                            CC(CCc1ccc2c(c1)OCO2)NN   \n",
       "2        110-54-3                                             CCCCCC   \n",
       "3       1330-92-3        CCCCC(CC)COC(=O)C1=C(C(=O)OCC(CC)CCCC)CCCC1   \n",
       "4         57-55-6                                            CC(O)CO   \n",
       "...           ...                                                ...   \n",
       "7707   56073-10-0  O=c1oc2ccccc2c(O)c1C1CC(c2ccc(-c3ccc(Br)cc3)cc...   \n",
       "7708  130209-82-4    CC(C)OC(=O)CCCC=CCC1C(O)CC(O)C1CCC(O)CCc1ccccc1   \n",
       "7709   83805-11-2  C=C1C(=CC=C2CCCC3(C)C2CCC3C(C)CCCC(O)(C(F)(F)F...   \n",
       "7710    1746-01-6                 Clc1cc2c(cc1Cl)Oc1cc(Cl)c(Cl)cc1O2   \n",
       "7711     316-42-7  CCC1CN2CCc3cc(OC)c(OC)cc3C2CC1CC1NCCc2cc(OC)c(...   \n",
       "\n",
       "         pLD50   LD50,mg/kg  \n",
       "0     0.291207   64463.0000  \n",
       "1     0.440660   75449.0000  \n",
       "2     0.537460   24980.0000  \n",
       "3     0.539250  113917.0000  \n",
       "4     0.580330   19989.0000  \n",
       "...        ...          ...  \n",
       "7707  6.514700       0.1596  \n",
       "7708  6.937100       0.0500  \n",
       "7709  7.099700       0.0417  \n",
       "7710  7.206800       0.0199  \n",
       "7711  7.602600       0.0120  \n",
       "\n",
       "[7712 rows x 4 columns]"
      ]
     },
     "execution_count": 5,
     "metadata": {},
     "output_type": "execute_result"
    }
   ],
   "source": [
    "df_ws1 = deepcopy(df_ws)\n",
    "df_ws1[\"SMILES\"] = df_ws1.apply(lambda x: convert_smi_to_canon_smi(x.SMILES), axis=1)\n",
    "df_ws1"
   ]
  },
  {
   "cell_type": "code",
   "execution_count": 6,
   "metadata": {},
   "outputs": [
    {
     "name": "stdout",
     "output_type": "stream",
     "text": [
      "Original data:  7712 molecules\n",
      "Failed data:  0 molecules\n"
     ]
    }
   ],
   "source": [
    "print('Original data: ', len(df_ws), 'molecules')\n",
    "print('Failed data: ', len(df_ws1[df_ws1['SMILES']=='wrong_smiles']), 'molecules')"
   ]
  },
  {
   "cell_type": "code",
   "execution_count": 7,
   "metadata": {
    "scrolled": true
   },
   "outputs": [
    {
     "data": {
      "text/html": [
       "<div>\n",
       "<style scoped>\n",
       "    .dataframe tbody tr th:only-of-type {\n",
       "        vertical-align: middle;\n",
       "    }\n",
       "\n",
       "    .dataframe tbody tr th {\n",
       "        vertical-align: top;\n",
       "    }\n",
       "\n",
       "    .dataframe thead th {\n",
       "        text-align: right;\n",
       "    }\n",
       "</style>\n",
       "<table border=\"1\" class=\"dataframe\">\n",
       "  <thead>\n",
       "    <tr style=\"text-align: right;\">\n",
       "      <th></th>\n",
       "      <th>SMILES of wrong structure:</th>\n",
       "    </tr>\n",
       "    <tr>\n",
       "      <th>No. failed smiles in original set</th>\n",
       "      <th></th>\n",
       "    </tr>\n",
       "  </thead>\n",
       "  <tbody>\n",
       "  </tbody>\n",
       "</table>\n",
       "</div>"
      ],
      "text/plain": [
       "Empty DataFrame\n",
       "Columns: [SMILES of wrong structure: ]\n",
       "Index: []"
      ]
     },
     "execution_count": 7,
     "metadata": {},
     "output_type": "execute_result"
    }
   ],
   "source": [
    "index=df_ws1.index[df_ws1['SMILES']=='wrong_smiles'].tolist()\n",
    "wrong_smiles=df_ws.iloc[index]\n",
    "wrong_smiles=wrong_smiles.SMILES\n",
    "number=[x+1 for x in index]\n",
    "bad_molecules = pd.DataFrame({'No. failed smiles in original set': number, 'SMILES of wrong structure: ': wrong_smiles}, index=None)\n",
    "bad_molecules = bad_molecules.set_index('No. failed smiles in original set')\n",
    "bad_molecules"
   ]
  },
  {
   "cell_type": "markdown",
   "metadata": {},
   "source": [
    "##  Standardization  for work set"
   ]
  },
  {
   "cell_type": "code",
   "execution_count": 8,
   "metadata": {},
   "outputs": [
    {
     "name": "stdout",
     "output_type": "stream",
     "text": [
      "Kept data:  7712 molecules\n"
     ]
    }
   ],
   "source": [
    "df_ws1[\"Molecule\"] = df_ws1.apply(lambda x: standart(x.SMILES), axis=1)\n",
    "moldf_ws=df_ws1[df_ws1['SMILES']!='wrong_smiles']\n",
    "print('Kept data: ', len(moldf_ws), 'molecules')"
   ]
  },
  {
   "cell_type": "code",
   "execution_count": 9,
   "metadata": {},
   "outputs": [
    {
     "data": {
      "text/html": [
       "<div>\n",
       "<style scoped>\n",
       "    .dataframe tbody tr th:only-of-type {\n",
       "        vertical-align: middle;\n",
       "    }\n",
       "\n",
       "    .dataframe tbody tr th {\n",
       "        vertical-align: top;\n",
       "    }\n",
       "\n",
       "    .dataframe thead th {\n",
       "        text-align: right;\n",
       "    }\n",
       "</style>\n",
       "<table border=\"1\" class=\"dataframe\">\n",
       "  <thead>\n",
       "    <tr style=\"text-align: right;\">\n",
       "      <th></th>\n",
       "      <th>CAS_Number</th>\n",
       "      <th>SMILES</th>\n",
       "      <th>pLD50</th>\n",
       "      <th>LD50,mg/kg</th>\n",
       "      <th>Molecule</th>\n",
       "    </tr>\n",
       "  </thead>\n",
       "  <tbody>\n",
       "    <tr>\n",
       "      <th>0</th>\n",
       "      <td>626-48-2</td>\n",
       "      <td>Cc1cc(=O)[nH]c(=O)[nH]1</td>\n",
       "      <td>0.291207</td>\n",
       "      <td>64463.0000</td>\n",
       "      <td>&lt;rdkit.Chem.rdchem.Mol object at 0x000001AFFC3...</td>\n",
       "    </tr>\n",
       "    <tr>\n",
       "      <th>1</th>\n",
       "      <td>27849-94-1</td>\n",
       "      <td>CC(CCc1ccc2c(c1)OCO2)NN</td>\n",
       "      <td>0.440660</td>\n",
       "      <td>75449.0000</td>\n",
       "      <td>&lt;rdkit.Chem.rdchem.Mol object at 0x000001AFFC3...</td>\n",
       "    </tr>\n",
       "    <tr>\n",
       "      <th>2</th>\n",
       "      <td>110-54-3</td>\n",
       "      <td>CCCCCC</td>\n",
       "      <td>0.537460</td>\n",
       "      <td>24980.0000</td>\n",
       "      <td>&lt;rdkit.Chem.rdchem.Mol object at 0x000001AFFC3...</td>\n",
       "    </tr>\n",
       "    <tr>\n",
       "      <th>3</th>\n",
       "      <td>1330-92-3</td>\n",
       "      <td>CCCCC(CC)COC(=O)C1=C(C(=O)OCC(CC)CCCC)CCCC1</td>\n",
       "      <td>0.539250</td>\n",
       "      <td>113917.0000</td>\n",
       "      <td>&lt;rdkit.Chem.rdchem.Mol object at 0x000001AFFC3...</td>\n",
       "    </tr>\n",
       "    <tr>\n",
       "      <th>4</th>\n",
       "      <td>57-55-6</td>\n",
       "      <td>CC(O)CO</td>\n",
       "      <td>0.580330</td>\n",
       "      <td>19989.0000</td>\n",
       "      <td>&lt;rdkit.Chem.rdchem.Mol object at 0x000001AFFCC...</td>\n",
       "    </tr>\n",
       "    <tr>\n",
       "      <th>...</th>\n",
       "      <td>...</td>\n",
       "      <td>...</td>\n",
       "      <td>...</td>\n",
       "      <td>...</td>\n",
       "      <td>...</td>\n",
       "    </tr>\n",
       "    <tr>\n",
       "      <th>7707</th>\n",
       "      <td>56073-10-0</td>\n",
       "      <td>O=c1oc2ccccc2c(O)c1C1CC(c2ccc(-c3ccc(Br)cc3)cc...</td>\n",
       "      <td>6.514700</td>\n",
       "      <td>0.1596</td>\n",
       "      <td>&lt;rdkit.Chem.rdchem.Mol object at 0x000001AFFC5...</td>\n",
       "    </tr>\n",
       "    <tr>\n",
       "      <th>7708</th>\n",
       "      <td>130209-82-4</td>\n",
       "      <td>CC(C)OC(=O)CCCC=CCC1C(O)CC(O)C1CCC(O)CCc1ccccc1</td>\n",
       "      <td>6.937100</td>\n",
       "      <td>0.0500</td>\n",
       "      <td>&lt;rdkit.Chem.rdchem.Mol object at 0x000001AFFC5...</td>\n",
       "    </tr>\n",
       "    <tr>\n",
       "      <th>7709</th>\n",
       "      <td>83805-11-2</td>\n",
       "      <td>C=C1C(=CC=C2CCCC3(C)C2CCC3C(C)CCCC(O)(C(F)(F)F...</td>\n",
       "      <td>7.099700</td>\n",
       "      <td>0.0417</td>\n",
       "      <td>&lt;rdkit.Chem.rdchem.Mol object at 0x000001AFFC5...</td>\n",
       "    </tr>\n",
       "    <tr>\n",
       "      <th>7710</th>\n",
       "      <td>1746-01-6</td>\n",
       "      <td>Clc1cc2c(cc1Cl)Oc1cc(Cl)c(Cl)cc1O2</td>\n",
       "      <td>7.206800</td>\n",
       "      <td>0.0199</td>\n",
       "      <td>&lt;rdkit.Chem.rdchem.Mol object at 0x000001AFFC5...</td>\n",
       "    </tr>\n",
       "    <tr>\n",
       "      <th>7711</th>\n",
       "      <td>316-42-7</td>\n",
       "      <td>CCC1CN2CCc3cc(OC)c(OC)cc3C2CC1CC1NCCc2cc(OC)c(...</td>\n",
       "      <td>7.602600</td>\n",
       "      <td>0.0120</td>\n",
       "      <td>&lt;rdkit.Chem.rdchem.Mol object at 0x000001AFFC5...</td>\n",
       "    </tr>\n",
       "  </tbody>\n",
       "</table>\n",
       "<p>7712 rows × 5 columns</p>\n",
       "</div>"
      ],
      "text/plain": [
       "       CAS_Number                                             SMILES  \\\n",
       "0        626-48-2                            Cc1cc(=O)[nH]c(=O)[nH]1   \n",
       "1      27849-94-1                            CC(CCc1ccc2c(c1)OCO2)NN   \n",
       "2        110-54-3                                             CCCCCC   \n",
       "3       1330-92-3        CCCCC(CC)COC(=O)C1=C(C(=O)OCC(CC)CCCC)CCCC1   \n",
       "4         57-55-6                                            CC(O)CO   \n",
       "...           ...                                                ...   \n",
       "7707   56073-10-0  O=c1oc2ccccc2c(O)c1C1CC(c2ccc(-c3ccc(Br)cc3)cc...   \n",
       "7708  130209-82-4    CC(C)OC(=O)CCCC=CCC1C(O)CC(O)C1CCC(O)CCc1ccccc1   \n",
       "7709   83805-11-2  C=C1C(=CC=C2CCCC3(C)C2CCC3C(C)CCCC(O)(C(F)(F)F...   \n",
       "7710    1746-01-6                 Clc1cc2c(cc1Cl)Oc1cc(Cl)c(Cl)cc1O2   \n",
       "7711     316-42-7  CCC1CN2CCc3cc(OC)c(OC)cc3C2CC1CC1NCCc2cc(OC)c(...   \n",
       "\n",
       "         pLD50   LD50,mg/kg                                           Molecule  \n",
       "0     0.291207   64463.0000  <rdkit.Chem.rdchem.Mol object at 0x000001AFFC3...  \n",
       "1     0.440660   75449.0000  <rdkit.Chem.rdchem.Mol object at 0x000001AFFC3...  \n",
       "2     0.537460   24980.0000  <rdkit.Chem.rdchem.Mol object at 0x000001AFFC3...  \n",
       "3     0.539250  113917.0000  <rdkit.Chem.rdchem.Mol object at 0x000001AFFC3...  \n",
       "4     0.580330   19989.0000  <rdkit.Chem.rdchem.Mol object at 0x000001AFFCC...  \n",
       "...        ...          ...                                                ...  \n",
       "7707  6.514700       0.1596  <rdkit.Chem.rdchem.Mol object at 0x000001AFFC5...  \n",
       "7708  6.937100       0.0500  <rdkit.Chem.rdchem.Mol object at 0x000001AFFC5...  \n",
       "7709  7.099700       0.0417  <rdkit.Chem.rdchem.Mol object at 0x000001AFFC5...  \n",
       "7710  7.206800       0.0199  <rdkit.Chem.rdchem.Mol object at 0x000001AFFC5...  \n",
       "7711  7.602600       0.0120  <rdkit.Chem.rdchem.Mol object at 0x000001AFFC5...  \n",
       "\n",
       "[7712 rows x 5 columns]"
      ]
     },
     "execution_count": 9,
     "metadata": {},
     "output_type": "execute_result"
    }
   ],
   "source": [
    "moldf_ws"
   ]
  },
  {
   "cell_type": "code",
   "execution_count": 10,
   "metadata": {},
   "outputs": [
    {
     "data": {
      "text/plain": [
       "0       0.291207\n",
       "1       0.440660\n",
       "2       0.537460\n",
       "3       0.539250\n",
       "4       0.580330\n",
       "          ...   \n",
       "7707    6.514700\n",
       "7708    6.937100\n",
       "7709    7.099700\n",
       "7710    7.206800\n",
       "7711    7.602600\n",
       "Name: pLD50, Length: 7712, dtype: float64"
      ]
     },
     "execution_count": 10,
     "metadata": {},
     "output_type": "execute_result"
    }
   ],
   "source": [
    "y_tr=moldf_ws.pLD50\n",
    "y_tr"
   ]
  },
  {
   "cell_type": "code",
   "execution_count": 11,
   "metadata": {},
   "outputs": [],
   "source": [
    "moldf_ws=moldf_ws.Molecule"
   ]
  },
  {
   "cell_type": "markdown",
   "metadata": {},
   "source": [
    "##  Load data and curation test set"
   ]
  },
  {
   "cell_type": "code",
   "execution_count": 12,
   "metadata": {
    "scrolled": true
   },
   "outputs": [
    {
     "data": {
      "text/html": [
       "<div>\n",
       "<style scoped>\n",
       "    .dataframe tbody tr th:only-of-type {\n",
       "        vertical-align: middle;\n",
       "    }\n",
       "\n",
       "    .dataframe tbody tr th {\n",
       "        vertical-align: top;\n",
       "    }\n",
       "\n",
       "    .dataframe thead th {\n",
       "        text-align: right;\n",
       "    }\n",
       "</style>\n",
       "<table border=\"1\" class=\"dataframe\">\n",
       "  <thead>\n",
       "    <tr style=\"text-align: right;\">\n",
       "      <th></th>\n",
       "      <th>CAS_Number</th>\n",
       "      <th>SMILES</th>\n",
       "      <th>pLD50</th>\n",
       "      <th>LD50,mg/kg</th>\n",
       "    </tr>\n",
       "  </thead>\n",
       "  <tbody>\n",
       "    <tr>\n",
       "      <th>0</th>\n",
       "      <td>7782-40-3</td>\n",
       "      <td>C</td>\n",
       "      <td>0.017765</td>\n",
       "      <td>15388.8000</td>\n",
       "    </tr>\n",
       "    <tr>\n",
       "      <th>1</th>\n",
       "      <td>2842-38-8</td>\n",
       "      <td>OCCNC1CCCCC1</td>\n",
       "      <td>0.572840</td>\n",
       "      <td>38274.0000</td>\n",
       "    </tr>\n",
       "    <tr>\n",
       "      <th>2</th>\n",
       "      <td>66257-53-2</td>\n",
       "      <td>NC(=O)C(=O)O</td>\n",
       "      <td>0.624490</td>\n",
       "      <td>21133.0000</td>\n",
       "    </tr>\n",
       "    <tr>\n",
       "      <th>3</th>\n",
       "      <td>2173-56-0</td>\n",
       "      <td>CCCCCOC(=O)CCCC</td>\n",
       "      <td>0.686960</td>\n",
       "      <td>35395.0000</td>\n",
       "    </tr>\n",
       "    <tr>\n",
       "      <th>4</th>\n",
       "      <td>4726-93-6</td>\n",
       "      <td>O=C1CCCCC(=O)N1</td>\n",
       "      <td>0.750180</td>\n",
       "      <td>22586.0000</td>\n",
       "    </tr>\n",
       "    <tr>\n",
       "      <th>...</th>\n",
       "      <td>...</td>\n",
       "      <td>...</td>\n",
       "      <td>...</td>\n",
       "      <td>...</td>\n",
       "    </tr>\n",
       "    <tr>\n",
       "      <th>1924</th>\n",
       "      <td>3385-03-3</td>\n",
       "      <td>CC1(C)OC2CC3C4CC(F)C5=CC(=O)C=CC5(C)C4C(O)CC3(...</td>\n",
       "      <td>5.939000</td>\n",
       "      <td>0.4997</td>\n",
       "    </tr>\n",
       "    <tr>\n",
       "      <th>1925</th>\n",
       "      <td>2338-29-6</td>\n",
       "      <td>FC(F)(F)c1nc2c(Cl)c(Cl)c(Cl)c(Cl)c2[nH]1</td>\n",
       "      <td>6.121300</td>\n",
       "      <td>0.2435</td>\n",
       "    </tr>\n",
       "    <tr>\n",
       "      <th>1926</th>\n",
       "      <td>128606-48-4</td>\n",
       "      <td>CCOP(=S)(OCC)O/C(C)=C/C(=O)OC</td>\n",
       "      <td>6.282400</td>\n",
       "      <td>0.1399</td>\n",
       "    </tr>\n",
       "    <tr>\n",
       "      <th>1927</th>\n",
       "      <td>50585-41-6</td>\n",
       "      <td>Brc1cc2c(cc1Br)Oc1cc(Br)c(Br)cc1O2</td>\n",
       "      <td>6.698800</td>\n",
       "      <td>0.0992</td>\n",
       "    </tr>\n",
       "    <tr>\n",
       "      <th>1928</th>\n",
       "      <td>75605-85-5</td>\n",
       "      <td>CC(=O)C1=CCC2C3(C)CCC4C(C)(C)CCCC4(C)C3CC(OC(=...</td>\n",
       "      <td>9.541100</td>\n",
       "      <td>0.0001</td>\n",
       "    </tr>\n",
       "  </tbody>\n",
       "</table>\n",
       "<p>1929 rows × 4 columns</p>\n",
       "</div>"
      ],
      "text/plain": [
       "       CAS_Number                                             SMILES  \\\n",
       "0       7782-40-3                                                  C   \n",
       "1       2842-38-8                                       OCCNC1CCCCC1   \n",
       "2      66257-53-2                                       NC(=O)C(=O)O   \n",
       "3       2173-56-0                                    CCCCCOC(=O)CCCC   \n",
       "4       4726-93-6                                    O=C1CCCCC(=O)N1   \n",
       "...           ...                                                ...   \n",
       "1924    3385-03-3  CC1(C)OC2CC3C4CC(F)C5=CC(=O)C=CC5(C)C4C(O)CC3(...   \n",
       "1925    2338-29-6           FC(F)(F)c1nc2c(Cl)c(Cl)c(Cl)c(Cl)c2[nH]1   \n",
       "1926  128606-48-4                      CCOP(=S)(OCC)O/C(C)=C/C(=O)OC   \n",
       "1927   50585-41-6                 Brc1cc2c(cc1Br)Oc1cc(Br)c(Br)cc1O2   \n",
       "1928   75605-85-5  CC(=O)C1=CCC2C3(C)CCC4C(C)(C)CCCC4(C)C3CC(OC(=...   \n",
       "\n",
       "         pLD50  LD50,mg/kg  \n",
       "0     0.017765  15388.8000  \n",
       "1     0.572840  38274.0000  \n",
       "2     0.624490  21133.0000  \n",
       "3     0.686960  35395.0000  \n",
       "4     0.750180  22586.0000  \n",
       "...        ...         ...  \n",
       "1924  5.939000      0.4997  \n",
       "1925  6.121300      0.2435  \n",
       "1926  6.282400      0.1399  \n",
       "1927  6.698800      0.0992  \n",
       "1928  9.541100      0.0001  \n",
       "\n",
       "[1929 rows x 4 columns]"
      ]
     },
     "execution_count": 12,
     "metadata": {},
     "output_type": "execute_result"
    }
   ],
   "source": [
    "df_ts=pd.read_csv('rat_oral_LD50_TS.csv')\n",
    "df_ts"
   ]
  },
  {
   "cell_type": "markdown",
   "metadata": {},
   "source": [
    " Convert a SMILES string to canonical SMILES"
   ]
  },
  {
   "cell_type": "code",
   "execution_count": 13,
   "metadata": {},
   "outputs": [
    {
     "data": {
      "text/html": [
       "<div>\n",
       "<style scoped>\n",
       "    .dataframe tbody tr th:only-of-type {\n",
       "        vertical-align: middle;\n",
       "    }\n",
       "\n",
       "    .dataframe tbody tr th {\n",
       "        vertical-align: top;\n",
       "    }\n",
       "\n",
       "    .dataframe thead th {\n",
       "        text-align: right;\n",
       "    }\n",
       "</style>\n",
       "<table border=\"1\" class=\"dataframe\">\n",
       "  <thead>\n",
       "    <tr style=\"text-align: right;\">\n",
       "      <th></th>\n",
       "      <th>CAS_Number</th>\n",
       "      <th>SMILES</th>\n",
       "      <th>pLD50</th>\n",
       "      <th>LD50,mg/kg</th>\n",
       "    </tr>\n",
       "  </thead>\n",
       "  <tbody>\n",
       "    <tr>\n",
       "      <th>0</th>\n",
       "      <td>7782-40-3</td>\n",
       "      <td>C</td>\n",
       "      <td>0.017765</td>\n",
       "      <td>15388.8000</td>\n",
       "    </tr>\n",
       "    <tr>\n",
       "      <th>1</th>\n",
       "      <td>2842-38-8</td>\n",
       "      <td>OCCNC1CCCCC1</td>\n",
       "      <td>0.572840</td>\n",
       "      <td>38274.0000</td>\n",
       "    </tr>\n",
       "    <tr>\n",
       "      <th>2</th>\n",
       "      <td>66257-53-2</td>\n",
       "      <td>NC(=O)C(=O)O</td>\n",
       "      <td>0.624490</td>\n",
       "      <td>21133.0000</td>\n",
       "    </tr>\n",
       "    <tr>\n",
       "      <th>3</th>\n",
       "      <td>2173-56-0</td>\n",
       "      <td>CCCCCOC(=O)CCCC</td>\n",
       "      <td>0.686960</td>\n",
       "      <td>35395.0000</td>\n",
       "    </tr>\n",
       "    <tr>\n",
       "      <th>4</th>\n",
       "      <td>4726-93-6</td>\n",
       "      <td>O=C1CCCCC(=O)N1</td>\n",
       "      <td>0.750180</td>\n",
       "      <td>22586.0000</td>\n",
       "    </tr>\n",
       "    <tr>\n",
       "      <th>...</th>\n",
       "      <td>...</td>\n",
       "      <td>...</td>\n",
       "      <td>...</td>\n",
       "      <td>...</td>\n",
       "    </tr>\n",
       "    <tr>\n",
       "      <th>1924</th>\n",
       "      <td>3385-03-3</td>\n",
       "      <td>CC1(C)OC2CC3C4CC(F)C5=CC(=O)C=CC5(C)C4C(O)CC3(...</td>\n",
       "      <td>5.939000</td>\n",
       "      <td>0.4997</td>\n",
       "    </tr>\n",
       "    <tr>\n",
       "      <th>1925</th>\n",
       "      <td>2338-29-6</td>\n",
       "      <td>FC(F)(F)c1nc2c(Cl)c(Cl)c(Cl)c(Cl)c2[nH]1</td>\n",
       "      <td>6.121300</td>\n",
       "      <td>0.2435</td>\n",
       "    </tr>\n",
       "    <tr>\n",
       "      <th>1926</th>\n",
       "      <td>128606-48-4</td>\n",
       "      <td>CCOP(=S)(OCC)OC(C)=CC(=O)OC</td>\n",
       "      <td>6.282400</td>\n",
       "      <td>0.1399</td>\n",
       "    </tr>\n",
       "    <tr>\n",
       "      <th>1927</th>\n",
       "      <td>50585-41-6</td>\n",
       "      <td>Brc1cc2c(cc1Br)Oc1cc(Br)c(Br)cc1O2</td>\n",
       "      <td>6.698800</td>\n",
       "      <td>0.0992</td>\n",
       "    </tr>\n",
       "    <tr>\n",
       "      <th>1928</th>\n",
       "      <td>75605-85-5</td>\n",
       "      <td>CC(=O)C1=CCC2C3(C)CCC4C(C)(C)CCCC4(C)C3CC(OC(=...</td>\n",
       "      <td>9.541100</td>\n",
       "      <td>0.0001</td>\n",
       "    </tr>\n",
       "  </tbody>\n",
       "</table>\n",
       "<p>1929 rows × 4 columns</p>\n",
       "</div>"
      ],
      "text/plain": [
       "       CAS_Number                                             SMILES  \\\n",
       "0       7782-40-3                                                  C   \n",
       "1       2842-38-8                                       OCCNC1CCCCC1   \n",
       "2      66257-53-2                                       NC(=O)C(=O)O   \n",
       "3       2173-56-0                                    CCCCCOC(=O)CCCC   \n",
       "4       4726-93-6                                    O=C1CCCCC(=O)N1   \n",
       "...           ...                                                ...   \n",
       "1924    3385-03-3  CC1(C)OC2CC3C4CC(F)C5=CC(=O)C=CC5(C)C4C(O)CC3(...   \n",
       "1925    2338-29-6           FC(F)(F)c1nc2c(Cl)c(Cl)c(Cl)c(Cl)c2[nH]1   \n",
       "1926  128606-48-4                        CCOP(=S)(OCC)OC(C)=CC(=O)OC   \n",
       "1927   50585-41-6                 Brc1cc2c(cc1Br)Oc1cc(Br)c(Br)cc1O2   \n",
       "1928   75605-85-5  CC(=O)C1=CCC2C3(C)CCC4C(C)(C)CCCC4(C)C3CC(OC(=...   \n",
       "\n",
       "         pLD50  LD50,mg/kg  \n",
       "0     0.017765  15388.8000  \n",
       "1     0.572840  38274.0000  \n",
       "2     0.624490  21133.0000  \n",
       "3     0.686960  35395.0000  \n",
       "4     0.750180  22586.0000  \n",
       "...        ...         ...  \n",
       "1924  5.939000      0.4997  \n",
       "1925  6.121300      0.2435  \n",
       "1926  6.282400      0.1399  \n",
       "1927  6.698800      0.0992  \n",
       "1928  9.541100      0.0001  \n",
       "\n",
       "[1929 rows x 4 columns]"
      ]
     },
     "execution_count": 13,
     "metadata": {},
     "output_type": "execute_result"
    }
   ],
   "source": [
    "df_ts1 = deepcopy(df_ts)\n",
    "df_ts1[\"SMILES\"] = df_ts1.apply(lambda x: convert_smi_to_canon_smi(x.SMILES), axis=1)\n",
    "df_ts1"
   ]
  },
  {
   "cell_type": "code",
   "execution_count": 14,
   "metadata": {},
   "outputs": [
    {
     "name": "stdout",
     "output_type": "stream",
     "text": [
      "Original data:  1929 molecules\n",
      "Failed data:  0 molecules\n"
     ]
    }
   ],
   "source": [
    "print('Original data: ', len(df_ts), 'molecules')\n",
    "print('Failed data: ', len(df_ts1[df_ts1['SMILES']=='wrong_smiles']), 'molecules')"
   ]
  },
  {
   "cell_type": "code",
   "execution_count": 15,
   "metadata": {
    "scrolled": true
   },
   "outputs": [
    {
     "data": {
      "text/html": [
       "<div>\n",
       "<style scoped>\n",
       "    .dataframe tbody tr th:only-of-type {\n",
       "        vertical-align: middle;\n",
       "    }\n",
       "\n",
       "    .dataframe tbody tr th {\n",
       "        vertical-align: top;\n",
       "    }\n",
       "\n",
       "    .dataframe thead th {\n",
       "        text-align: right;\n",
       "    }\n",
       "</style>\n",
       "<table border=\"1\" class=\"dataframe\">\n",
       "  <thead>\n",
       "    <tr style=\"text-align: right;\">\n",
       "      <th></th>\n",
       "      <th>SMILES of wrong structure:</th>\n",
       "    </tr>\n",
       "    <tr>\n",
       "      <th>No. failed smiles in original set</th>\n",
       "      <th></th>\n",
       "    </tr>\n",
       "  </thead>\n",
       "  <tbody>\n",
       "  </tbody>\n",
       "</table>\n",
       "</div>"
      ],
      "text/plain": [
       "Empty DataFrame\n",
       "Columns: [SMILES of wrong structure: ]\n",
       "Index: []"
      ]
     },
     "execution_count": 15,
     "metadata": {},
     "output_type": "execute_result"
    }
   ],
   "source": [
    "index=df_ts1.index[df_ts1['SMILES']=='wrong_smiles'].tolist()\n",
    "wrong_smiles=df_ts.iloc[index]\n",
    "wrong_smiles=wrong_smiles.SMILES\n",
    "number=[x+1 for x in index]\n",
    "bad_molecules = pd.DataFrame({'No. failed smiles in original set': number, 'SMILES of wrong structure: ': wrong_smiles}, index=None)\n",
    "bad_molecules = bad_molecules.set_index('No. failed smiles in original set')\n",
    "bad_molecules"
   ]
  },
  {
   "cell_type": "markdown",
   "metadata": {},
   "source": [
    "##  Standardization  for test set"
   ]
  },
  {
   "cell_type": "code",
   "execution_count": 16,
   "metadata": {},
   "outputs": [
    {
     "name": "stdout",
     "output_type": "stream",
     "text": [
      "Kept data:  1929 molecules\n"
     ]
    }
   ],
   "source": [
    "df_ts1[\"Molecule\"] = df_ts1.apply(lambda x: standart(x.SMILES), axis=1)\n",
    "moldf_ts=df_ts1[df_ts1['SMILES']!='wrong_smiles']\n",
    "print('Kept data: ', len(moldf_ts), 'molecules')"
   ]
  },
  {
   "cell_type": "code",
   "execution_count": 17,
   "metadata": {},
   "outputs": [
    {
     "data": {
      "text/html": [
       "<div>\n",
       "<style scoped>\n",
       "    .dataframe tbody tr th:only-of-type {\n",
       "        vertical-align: middle;\n",
       "    }\n",
       "\n",
       "    .dataframe tbody tr th {\n",
       "        vertical-align: top;\n",
       "    }\n",
       "\n",
       "    .dataframe thead th {\n",
       "        text-align: right;\n",
       "    }\n",
       "</style>\n",
       "<table border=\"1\" class=\"dataframe\">\n",
       "  <thead>\n",
       "    <tr style=\"text-align: right;\">\n",
       "      <th></th>\n",
       "      <th>CAS_Number</th>\n",
       "      <th>SMILES</th>\n",
       "      <th>pLD50</th>\n",
       "      <th>LD50,mg/kg</th>\n",
       "      <th>Molecule</th>\n",
       "    </tr>\n",
       "  </thead>\n",
       "  <tbody>\n",
       "    <tr>\n",
       "      <th>0</th>\n",
       "      <td>7782-40-3</td>\n",
       "      <td>C</td>\n",
       "      <td>0.017765</td>\n",
       "      <td>15388.8000</td>\n",
       "      <td>&lt;rdkit.Chem.rdchem.Mol object at 0x000001AFFC3...</td>\n",
       "    </tr>\n",
       "    <tr>\n",
       "      <th>1</th>\n",
       "      <td>2842-38-8</td>\n",
       "      <td>OCCNC1CCCCC1</td>\n",
       "      <td>0.572840</td>\n",
       "      <td>38274.0000</td>\n",
       "      <td>&lt;rdkit.Chem.rdchem.Mol object at 0x000001AFFC3...</td>\n",
       "    </tr>\n",
       "    <tr>\n",
       "      <th>2</th>\n",
       "      <td>66257-53-2</td>\n",
       "      <td>NC(=O)C(=O)O</td>\n",
       "      <td>0.624490</td>\n",
       "      <td>21133.0000</td>\n",
       "      <td>&lt;rdkit.Chem.rdchem.Mol object at 0x000001AFFC3...</td>\n",
       "    </tr>\n",
       "    <tr>\n",
       "      <th>3</th>\n",
       "      <td>2173-56-0</td>\n",
       "      <td>CCCCCOC(=O)CCCC</td>\n",
       "      <td>0.686960</td>\n",
       "      <td>35395.0000</td>\n",
       "      <td>&lt;rdkit.Chem.rdchem.Mol object at 0x000001AFFC3...</td>\n",
       "    </tr>\n",
       "    <tr>\n",
       "      <th>4</th>\n",
       "      <td>4726-93-6</td>\n",
       "      <td>O=C1CCCCC(=O)N1</td>\n",
       "      <td>0.750180</td>\n",
       "      <td>22586.0000</td>\n",
       "      <td>&lt;rdkit.Chem.rdchem.Mol object at 0x000001AFFC3...</td>\n",
       "    </tr>\n",
       "    <tr>\n",
       "      <th>...</th>\n",
       "      <td>...</td>\n",
       "      <td>...</td>\n",
       "      <td>...</td>\n",
       "      <td>...</td>\n",
       "      <td>...</td>\n",
       "    </tr>\n",
       "    <tr>\n",
       "      <th>1924</th>\n",
       "      <td>3385-03-3</td>\n",
       "      <td>CC1(C)OC2CC3C4CC(F)C5=CC(=O)C=CC5(C)C4C(O)CC3(...</td>\n",
       "      <td>5.939000</td>\n",
       "      <td>0.4997</td>\n",
       "      <td>&lt;rdkit.Chem.rdchem.Mol object at 0x000001AFFC5...</td>\n",
       "    </tr>\n",
       "    <tr>\n",
       "      <th>1925</th>\n",
       "      <td>2338-29-6</td>\n",
       "      <td>FC(F)(F)c1nc2c(Cl)c(Cl)c(Cl)c(Cl)c2[nH]1</td>\n",
       "      <td>6.121300</td>\n",
       "      <td>0.2435</td>\n",
       "      <td>&lt;rdkit.Chem.rdchem.Mol object at 0x000001AFFC5...</td>\n",
       "    </tr>\n",
       "    <tr>\n",
       "      <th>1926</th>\n",
       "      <td>128606-48-4</td>\n",
       "      <td>CCOP(=S)(OCC)OC(C)=CC(=O)OC</td>\n",
       "      <td>6.282400</td>\n",
       "      <td>0.1399</td>\n",
       "      <td>&lt;rdkit.Chem.rdchem.Mol object at 0x000001AFFC5...</td>\n",
       "    </tr>\n",
       "    <tr>\n",
       "      <th>1927</th>\n",
       "      <td>50585-41-6</td>\n",
       "      <td>Brc1cc2c(cc1Br)Oc1cc(Br)c(Br)cc1O2</td>\n",
       "      <td>6.698800</td>\n",
       "      <td>0.0992</td>\n",
       "      <td>&lt;rdkit.Chem.rdchem.Mol object at 0x000001AFFC5...</td>\n",
       "    </tr>\n",
       "    <tr>\n",
       "      <th>1928</th>\n",
       "      <td>75605-85-5</td>\n",
       "      <td>CC(=O)C1=CCC2C3(C)CCC4C(C)(C)CCCC4(C)C3CC(OC(=...</td>\n",
       "      <td>9.541100</td>\n",
       "      <td>0.0001</td>\n",
       "      <td>&lt;rdkit.Chem.rdchem.Mol object at 0x000001AFFC5...</td>\n",
       "    </tr>\n",
       "  </tbody>\n",
       "</table>\n",
       "<p>1929 rows × 5 columns</p>\n",
       "</div>"
      ],
      "text/plain": [
       "       CAS_Number                                             SMILES  \\\n",
       "0       7782-40-3                                                  C   \n",
       "1       2842-38-8                                       OCCNC1CCCCC1   \n",
       "2      66257-53-2                                       NC(=O)C(=O)O   \n",
       "3       2173-56-0                                    CCCCCOC(=O)CCCC   \n",
       "4       4726-93-6                                    O=C1CCCCC(=O)N1   \n",
       "...           ...                                                ...   \n",
       "1924    3385-03-3  CC1(C)OC2CC3C4CC(F)C5=CC(=O)C=CC5(C)C4C(O)CC3(...   \n",
       "1925    2338-29-6           FC(F)(F)c1nc2c(Cl)c(Cl)c(Cl)c(Cl)c2[nH]1   \n",
       "1926  128606-48-4                        CCOP(=S)(OCC)OC(C)=CC(=O)OC   \n",
       "1927   50585-41-6                 Brc1cc2c(cc1Br)Oc1cc(Br)c(Br)cc1O2   \n",
       "1928   75605-85-5  CC(=O)C1=CCC2C3(C)CCC4C(C)(C)CCCC4(C)C3CC(OC(=...   \n",
       "\n",
       "         pLD50  LD50,mg/kg                                           Molecule  \n",
       "0     0.017765  15388.8000  <rdkit.Chem.rdchem.Mol object at 0x000001AFFC3...  \n",
       "1     0.572840  38274.0000  <rdkit.Chem.rdchem.Mol object at 0x000001AFFC3...  \n",
       "2     0.624490  21133.0000  <rdkit.Chem.rdchem.Mol object at 0x000001AFFC3...  \n",
       "3     0.686960  35395.0000  <rdkit.Chem.rdchem.Mol object at 0x000001AFFC3...  \n",
       "4     0.750180  22586.0000  <rdkit.Chem.rdchem.Mol object at 0x000001AFFC3...  \n",
       "...        ...         ...                                                ...  \n",
       "1924  5.939000      0.4997  <rdkit.Chem.rdchem.Mol object at 0x000001AFFC5...  \n",
       "1925  6.121300      0.2435  <rdkit.Chem.rdchem.Mol object at 0x000001AFFC5...  \n",
       "1926  6.282400      0.1399  <rdkit.Chem.rdchem.Mol object at 0x000001AFFC5...  \n",
       "1927  6.698800      0.0992  <rdkit.Chem.rdchem.Mol object at 0x000001AFFC5...  \n",
       "1928  9.541100      0.0001  <rdkit.Chem.rdchem.Mol object at 0x000001AFFC5...  \n",
       "\n",
       "[1929 rows x 5 columns]"
      ]
     },
     "execution_count": 17,
     "metadata": {},
     "output_type": "execute_result"
    }
   ],
   "source": [
    "moldf_ts"
   ]
  },
  {
   "cell_type": "code",
   "execution_count": 18,
   "metadata": {},
   "outputs": [
    {
     "data": {
      "text/plain": [
       "0       0.017765\n",
       "1       0.572840\n",
       "2       0.624490\n",
       "3       0.686960\n",
       "4       0.750180\n",
       "          ...   \n",
       "1924    5.939000\n",
       "1925    6.121300\n",
       "1926    6.282400\n",
       "1927    6.698800\n",
       "1928    9.541100\n",
       "Name: pLD50, Length: 1929, dtype: float64"
      ]
     },
     "execution_count": 18,
     "metadata": {},
     "output_type": "execute_result"
    }
   ],
   "source": [
    "y_ts=moldf_ts.pLD50\n",
    "y_ts"
   ]
  },
  {
   "cell_type": "code",
   "execution_count": 19,
   "metadata": {},
   "outputs": [],
   "source": [
    "moldf_ts=moldf_ts.Molecule"
   ]
  },
  {
   "cell_type": "markdown",
   "metadata": {},
   "source": [
    "# Calculation RDKit_2D descriptors for work set"
   ]
  },
  {
   "cell_type": "code",
   "execution_count": 20,
   "metadata": {},
   "outputs": [],
   "source": [
    "calc = MoleculeDescriptors.MolecularDescriptorCalculator([x[0] for x in Descriptors._descList])\n",
    "header = calc.GetDescriptorNames()"
   ]
  },
  {
   "cell_type": "code",
   "execution_count": 21,
   "metadata": {},
   "outputs": [],
   "source": [
    "descr_tr= []\n",
    "for m in moldf_ws:\n",
    "    descr_tr.append(calc.CalcDescriptors(m))\n",
    "x_tr = np.asarray(descr_tr)"
   ]
  },
  {
   "cell_type": "code",
   "execution_count": 22,
   "metadata": {},
   "outputs": [],
   "source": [
    "df_RDKit_2D = pd.DataFrame(x_tr,columns=header)"
   ]
  },
  {
   "cell_type": "code",
   "execution_count": 23,
   "metadata": {},
   "outputs": [
    {
     "data": {
      "text/html": [
       "<div>\n",
       "<style scoped>\n",
       "    .dataframe tbody tr th:only-of-type {\n",
       "        vertical-align: middle;\n",
       "    }\n",
       "\n",
       "    .dataframe tbody tr th {\n",
       "        vertical-align: top;\n",
       "    }\n",
       "\n",
       "    .dataframe thead th {\n",
       "        text-align: right;\n",
       "    }\n",
       "</style>\n",
       "<table border=\"1\" class=\"dataframe\">\n",
       "  <thead>\n",
       "    <tr style=\"text-align: right;\">\n",
       "      <th></th>\n",
       "      <th>MaxAbsEStateIndex</th>\n",
       "      <th>MaxEStateIndex</th>\n",
       "      <th>MinAbsEStateIndex</th>\n",
       "      <th>MinEStateIndex</th>\n",
       "      <th>qed</th>\n",
       "      <th>MolWt</th>\n",
       "      <th>HeavyAtomMolWt</th>\n",
       "      <th>ExactMolWt</th>\n",
       "      <th>NumValenceElectrons</th>\n",
       "      <th>NumRadicalElectrons</th>\n",
       "      <th>...</th>\n",
       "      <th>fr_sulfide</th>\n",
       "      <th>fr_sulfonamd</th>\n",
       "      <th>fr_sulfone</th>\n",
       "      <th>fr_term_acetylene</th>\n",
       "      <th>fr_tetrazole</th>\n",
       "      <th>fr_thiazole</th>\n",
       "      <th>fr_thiocyan</th>\n",
       "      <th>fr_thiophene</th>\n",
       "      <th>fr_unbrch_alkane</th>\n",
       "      <th>fr_urea</th>\n",
       "    </tr>\n",
       "  </thead>\n",
       "  <tbody>\n",
       "    <tr>\n",
       "      <th>0</th>\n",
       "      <td>10.435556</td>\n",
       "      <td>10.435556</td>\n",
       "      <td>0.364583</td>\n",
       "      <td>-0.458333</td>\n",
       "      <td>0.485781</td>\n",
       "      <td>126.115</td>\n",
       "      <td>120.067</td>\n",
       "      <td>126.042927</td>\n",
       "      <td>48.0</td>\n",
       "      <td>0.0</td>\n",
       "      <td>...</td>\n",
       "      <td>0.0</td>\n",
       "      <td>0.0</td>\n",
       "      <td>0.0</td>\n",
       "      <td>0.0</td>\n",
       "      <td>0.0</td>\n",
       "      <td>0.0</td>\n",
       "      <td>0.0</td>\n",
       "      <td>0.0</td>\n",
       "      <td>0.0</td>\n",
       "      <td>0.0</td>\n",
       "    </tr>\n",
       "    <tr>\n",
       "      <th>1</th>\n",
       "      <td>5.331682</td>\n",
       "      <td>5.331682</td>\n",
       "      <td>0.329095</td>\n",
       "      <td>0.329095</td>\n",
       "      <td>0.576369</td>\n",
       "      <td>208.261</td>\n",
       "      <td>192.133</td>\n",
       "      <td>208.121178</td>\n",
       "      <td>82.0</td>\n",
       "      <td>0.0</td>\n",
       "      <td>...</td>\n",
       "      <td>0.0</td>\n",
       "      <td>0.0</td>\n",
       "      <td>0.0</td>\n",
       "      <td>0.0</td>\n",
       "      <td>0.0</td>\n",
       "      <td>0.0</td>\n",
       "      <td>0.0</td>\n",
       "      <td>0.0</td>\n",
       "      <td>0.0</td>\n",
       "      <td>0.0</td>\n",
       "    </tr>\n",
       "  </tbody>\n",
       "</table>\n",
       "<p>2 rows × 209 columns</p>\n",
       "</div>"
      ],
      "text/plain": [
       "   MaxAbsEStateIndex  MaxEStateIndex  MinAbsEStateIndex  MinEStateIndex  \\\n",
       "0          10.435556       10.435556           0.364583       -0.458333   \n",
       "1           5.331682        5.331682           0.329095        0.329095   \n",
       "\n",
       "        qed    MolWt  HeavyAtomMolWt  ExactMolWt  NumValenceElectrons  \\\n",
       "0  0.485781  126.115         120.067  126.042927                 48.0   \n",
       "1  0.576369  208.261         192.133  208.121178                 82.0   \n",
       "\n",
       "   NumRadicalElectrons  ...  fr_sulfide  fr_sulfonamd  fr_sulfone  \\\n",
       "0                  0.0  ...         0.0           0.0         0.0   \n",
       "1                  0.0  ...         0.0           0.0         0.0   \n",
       "\n",
       "   fr_term_acetylene  fr_tetrazole  fr_thiazole  fr_thiocyan  fr_thiophene  \\\n",
       "0                0.0           0.0          0.0          0.0           0.0   \n",
       "1                0.0           0.0          0.0          0.0           0.0   \n",
       "\n",
       "   fr_unbrch_alkane  fr_urea  \n",
       "0               0.0      0.0  \n",
       "1               0.0      0.0  \n",
       "\n",
       "[2 rows x 209 columns]"
      ]
     },
     "execution_count": 23,
     "metadata": {},
     "output_type": "execute_result"
    }
   ],
   "source": [
    "df_RDKit_2D.head(2)"
   ]
  },
  {
   "cell_type": "code",
   "execution_count": 24,
   "metadata": {},
   "outputs": [
    {
     "data": {
      "text/plain": [
       "BCUT2D_MWLOW        0.000259\n",
       "MaxPartialCharge    0.000259\n",
       "BCUT2D_CHGLO        0.000259\n",
       "BCUT2D_CHGHI        0.000259\n",
       "BCUT2D_MRHI         0.000259\n",
       "                      ...   \n",
       "SlogP_VSA8          0.000000\n",
       "SlogP_VSA9          0.000000\n",
       "TPSA                0.000000\n",
       "EState_VSA1         0.000000\n",
       "fr_urea             0.000000\n",
       "Length: 209, dtype: float64"
      ]
     },
     "execution_count": 24,
     "metadata": {},
     "output_type": "execute_result"
    }
   ],
   "source": [
    "df_RDKit_2D.isna().mean().sort_values(ascending=False)"
   ]
  },
  {
   "cell_type": "code",
   "execution_count": 25,
   "metadata": {},
   "outputs": [
    {
     "data": {
      "text/html": [
       "<div>\n",
       "<style scoped>\n",
       "    .dataframe tbody tr th:only-of-type {\n",
       "        vertical-align: middle;\n",
       "    }\n",
       "\n",
       "    .dataframe tbody tr th {\n",
       "        vertical-align: top;\n",
       "    }\n",
       "\n",
       "    .dataframe thead th {\n",
       "        text-align: right;\n",
       "    }\n",
       "</style>\n",
       "<table border=\"1\" class=\"dataframe\">\n",
       "  <thead>\n",
       "    <tr style=\"text-align: right;\">\n",
       "      <th></th>\n",
       "      <th>MaxAbsEStateIndex</th>\n",
       "      <th>MaxEStateIndex</th>\n",
       "      <th>MinAbsEStateIndex</th>\n",
       "      <th>MinEStateIndex</th>\n",
       "      <th>qed</th>\n",
       "      <th>MolWt</th>\n",
       "      <th>HeavyAtomMolWt</th>\n",
       "      <th>ExactMolWt</th>\n",
       "      <th>NumValenceElectrons</th>\n",
       "      <th>NumRadicalElectrons</th>\n",
       "      <th>...</th>\n",
       "      <th>fr_sulfide</th>\n",
       "      <th>fr_sulfonamd</th>\n",
       "      <th>fr_sulfone</th>\n",
       "      <th>fr_term_acetylene</th>\n",
       "      <th>fr_tetrazole</th>\n",
       "      <th>fr_thiazole</th>\n",
       "      <th>fr_thiocyan</th>\n",
       "      <th>fr_thiophene</th>\n",
       "      <th>fr_unbrch_alkane</th>\n",
       "      <th>fr_urea</th>\n",
       "    </tr>\n",
       "  </thead>\n",
       "  <tbody>\n",
       "    <tr>\n",
       "      <th>0</th>\n",
       "      <td>10.435556</td>\n",
       "      <td>10.435556</td>\n",
       "      <td>0.364583</td>\n",
       "      <td>-0.458333</td>\n",
       "      <td>0.485781</td>\n",
       "      <td>126.115</td>\n",
       "      <td>120.067</td>\n",
       "      <td>126.042927</td>\n",
       "      <td>48.0</td>\n",
       "      <td>0.0</td>\n",
       "      <td>...</td>\n",
       "      <td>0.0</td>\n",
       "      <td>0.0</td>\n",
       "      <td>0.0</td>\n",
       "      <td>0.0</td>\n",
       "      <td>0.0</td>\n",
       "      <td>0.0</td>\n",
       "      <td>0.0</td>\n",
       "      <td>0.0</td>\n",
       "      <td>0.0</td>\n",
       "      <td>0.0</td>\n",
       "    </tr>\n",
       "    <tr>\n",
       "      <th>1</th>\n",
       "      <td>5.331682</td>\n",
       "      <td>5.331682</td>\n",
       "      <td>0.329095</td>\n",
       "      <td>0.329095</td>\n",
       "      <td>0.576369</td>\n",
       "      <td>208.261</td>\n",
       "      <td>192.133</td>\n",
       "      <td>208.121178</td>\n",
       "      <td>82.0</td>\n",
       "      <td>0.0</td>\n",
       "      <td>...</td>\n",
       "      <td>0.0</td>\n",
       "      <td>0.0</td>\n",
       "      <td>0.0</td>\n",
       "      <td>0.0</td>\n",
       "      <td>0.0</td>\n",
       "      <td>0.0</td>\n",
       "      <td>0.0</td>\n",
       "      <td>0.0</td>\n",
       "      <td>0.0</td>\n",
       "      <td>0.0</td>\n",
       "    </tr>\n",
       "    <tr>\n",
       "      <th>2</th>\n",
       "      <td>2.231806</td>\n",
       "      <td>2.231806</td>\n",
       "      <td>1.355000</td>\n",
       "      <td>1.355000</td>\n",
       "      <td>0.462954</td>\n",
       "      <td>86.178</td>\n",
       "      <td>72.066</td>\n",
       "      <td>86.109550</td>\n",
       "      <td>38.0</td>\n",
       "      <td>0.0</td>\n",
       "      <td>...</td>\n",
       "      <td>0.0</td>\n",
       "      <td>0.0</td>\n",
       "      <td>0.0</td>\n",
       "      <td>0.0</td>\n",
       "      <td>0.0</td>\n",
       "      <td>0.0</td>\n",
       "      <td>0.0</td>\n",
       "      <td>0.0</td>\n",
       "      <td>1.0</td>\n",
       "      <td>0.0</td>\n",
       "    </tr>\n",
       "    <tr>\n",
       "      <th>3</th>\n",
       "      <td>12.654921</td>\n",
       "      <td>12.654921</td>\n",
       "      <td>0.305905</td>\n",
       "      <td>-0.305905</td>\n",
       "      <td>0.320912</td>\n",
       "      <td>394.596</td>\n",
       "      <td>352.260</td>\n",
       "      <td>394.308310</td>\n",
       "      <td>162.0</td>\n",
       "      <td>0.0</td>\n",
       "      <td>...</td>\n",
       "      <td>0.0</td>\n",
       "      <td>0.0</td>\n",
       "      <td>0.0</td>\n",
       "      <td>0.0</td>\n",
       "      <td>0.0</td>\n",
       "      <td>0.0</td>\n",
       "      <td>0.0</td>\n",
       "      <td>0.0</td>\n",
       "      <td>0.0</td>\n",
       "      <td>0.0</td>\n",
       "    </tr>\n",
       "    <tr>\n",
       "      <th>4</th>\n",
       "      <td>8.111111</td>\n",
       "      <td>8.111111</td>\n",
       "      <td>0.138889</td>\n",
       "      <td>-0.560185</td>\n",
       "      <td>0.435835</td>\n",
       "      <td>76.095</td>\n",
       "      <td>68.031</td>\n",
       "      <td>76.052429</td>\n",
       "      <td>32.0</td>\n",
       "      <td>0.0</td>\n",
       "      <td>...</td>\n",
       "      <td>0.0</td>\n",
       "      <td>0.0</td>\n",
       "      <td>0.0</td>\n",
       "      <td>0.0</td>\n",
       "      <td>0.0</td>\n",
       "      <td>0.0</td>\n",
       "      <td>0.0</td>\n",
       "      <td>0.0</td>\n",
       "      <td>0.0</td>\n",
       "      <td>0.0</td>\n",
       "    </tr>\n",
       "    <tr>\n",
       "      <th>...</th>\n",
       "      <td>...</td>\n",
       "      <td>...</td>\n",
       "      <td>...</td>\n",
       "      <td>...</td>\n",
       "      <td>...</td>\n",
       "      <td>...</td>\n",
       "      <td>...</td>\n",
       "      <td>...</td>\n",
       "      <td>...</td>\n",
       "      <td>...</td>\n",
       "      <td>...</td>\n",
       "      <td>...</td>\n",
       "      <td>...</td>\n",
       "      <td>...</td>\n",
       "      <td>...</td>\n",
       "      <td>...</td>\n",
       "      <td>...</td>\n",
       "      <td>...</td>\n",
       "      <td>...</td>\n",
       "      <td>...</td>\n",
       "      <td>...</td>\n",
       "    </tr>\n",
       "    <tr>\n",
       "      <th>7707</th>\n",
       "      <td>13.101706</td>\n",
       "      <td>13.101706</td>\n",
       "      <td>0.030453</td>\n",
       "      <td>-0.465519</td>\n",
       "      <td>0.245754</td>\n",
       "      <td>523.426</td>\n",
       "      <td>500.242</td>\n",
       "      <td>522.083057</td>\n",
       "      <td>172.0</td>\n",
       "      <td>0.0</td>\n",
       "      <td>...</td>\n",
       "      <td>0.0</td>\n",
       "      <td>0.0</td>\n",
       "      <td>0.0</td>\n",
       "      <td>0.0</td>\n",
       "      <td>0.0</td>\n",
       "      <td>0.0</td>\n",
       "      <td>0.0</td>\n",
       "      <td>0.0</td>\n",
       "      <td>0.0</td>\n",
       "      <td>0.0</td>\n",
       "    </tr>\n",
       "    <tr>\n",
       "      <th>7708</th>\n",
       "      <td>11.543842</td>\n",
       "      <td>11.543842</td>\n",
       "      <td>0.006523</td>\n",
       "      <td>-0.513401</td>\n",
       "      <td>0.247186</td>\n",
       "      <td>432.601</td>\n",
       "      <td>392.281</td>\n",
       "      <td>432.287574</td>\n",
       "      <td>174.0</td>\n",
       "      <td>0.0</td>\n",
       "      <td>...</td>\n",
       "      <td>0.0</td>\n",
       "      <td>0.0</td>\n",
       "      <td>0.0</td>\n",
       "      <td>0.0</td>\n",
       "      <td>0.0</td>\n",
       "      <td>0.0</td>\n",
       "      <td>0.0</td>\n",
       "      <td>0.0</td>\n",
       "      <td>1.0</td>\n",
       "      <td>0.0</td>\n",
       "    </tr>\n",
       "    <tr>\n",
       "      <th>7709</th>\n",
       "      <td>13.011064</td>\n",
       "      <td>13.011064</td>\n",
       "      <td>0.077001</td>\n",
       "      <td>-5.771605</td>\n",
       "      <td>0.335502</td>\n",
       "      <td>524.586</td>\n",
       "      <td>486.282</td>\n",
       "      <td>524.272514</td>\n",
       "      <td>206.0</td>\n",
       "      <td>0.0</td>\n",
       "      <td>...</td>\n",
       "      <td>0.0</td>\n",
       "      <td>0.0</td>\n",
       "      <td>0.0</td>\n",
       "      <td>0.0</td>\n",
       "      <td>0.0</td>\n",
       "      <td>0.0</td>\n",
       "      <td>0.0</td>\n",
       "      <td>0.0</td>\n",
       "      <td>0.0</td>\n",
       "      <td>0.0</td>\n",
       "    </tr>\n",
       "    <tr>\n",
       "      <th>7710</th>\n",
       "      <td>5.914545</td>\n",
       "      <td>5.914545</td>\n",
       "      <td>0.391229</td>\n",
       "      <td>0.391229</td>\n",
       "      <td>0.490572</td>\n",
       "      <td>321.974</td>\n",
       "      <td>317.942</td>\n",
       "      <td>319.896540</td>\n",
       "      <td>92.0</td>\n",
       "      <td>0.0</td>\n",
       "      <td>...</td>\n",
       "      <td>0.0</td>\n",
       "      <td>0.0</td>\n",
       "      <td>0.0</td>\n",
       "      <td>0.0</td>\n",
       "      <td>0.0</td>\n",
       "      <td>0.0</td>\n",
       "      <td>0.0</td>\n",
       "      <td>0.0</td>\n",
       "      <td>0.0</td>\n",
       "      <td>0.0</td>\n",
       "    </tr>\n",
       "    <tr>\n",
       "      <th>7711</th>\n",
       "      <td>5.676825</td>\n",
       "      <td>5.676825</td>\n",
       "      <td>0.345019</td>\n",
       "      <td>0.345019</td>\n",
       "      <td>0.605684</td>\n",
       "      <td>480.649</td>\n",
       "      <td>440.329</td>\n",
       "      <td>480.298808</td>\n",
       "      <td>190.0</td>\n",
       "      <td>0.0</td>\n",
       "      <td>...</td>\n",
       "      <td>0.0</td>\n",
       "      <td>0.0</td>\n",
       "      <td>0.0</td>\n",
       "      <td>0.0</td>\n",
       "      <td>0.0</td>\n",
       "      <td>0.0</td>\n",
       "      <td>0.0</td>\n",
       "      <td>0.0</td>\n",
       "      <td>0.0</td>\n",
       "      <td>0.0</td>\n",
       "    </tr>\n",
       "  </tbody>\n",
       "</table>\n",
       "<p>7712 rows × 197 columns</p>\n",
       "</div>"
      ],
      "text/plain": [
       "      MaxAbsEStateIndex  MaxEStateIndex  MinAbsEStateIndex  MinEStateIndex  \\\n",
       "0             10.435556       10.435556           0.364583       -0.458333   \n",
       "1              5.331682        5.331682           0.329095        0.329095   \n",
       "2              2.231806        2.231806           1.355000        1.355000   \n",
       "3             12.654921       12.654921           0.305905       -0.305905   \n",
       "4              8.111111        8.111111           0.138889       -0.560185   \n",
       "...                 ...             ...                ...             ...   \n",
       "7707          13.101706       13.101706           0.030453       -0.465519   \n",
       "7708          11.543842       11.543842           0.006523       -0.513401   \n",
       "7709          13.011064       13.011064           0.077001       -5.771605   \n",
       "7710           5.914545        5.914545           0.391229        0.391229   \n",
       "7711           5.676825        5.676825           0.345019        0.345019   \n",
       "\n",
       "           qed    MolWt  HeavyAtomMolWt  ExactMolWt  NumValenceElectrons  \\\n",
       "0     0.485781  126.115         120.067  126.042927                 48.0   \n",
       "1     0.576369  208.261         192.133  208.121178                 82.0   \n",
       "2     0.462954   86.178          72.066   86.109550                 38.0   \n",
       "3     0.320912  394.596         352.260  394.308310                162.0   \n",
       "4     0.435835   76.095          68.031   76.052429                 32.0   \n",
       "...        ...      ...             ...         ...                  ...   \n",
       "7707  0.245754  523.426         500.242  522.083057                172.0   \n",
       "7708  0.247186  432.601         392.281  432.287574                174.0   \n",
       "7709  0.335502  524.586         486.282  524.272514                206.0   \n",
       "7710  0.490572  321.974         317.942  319.896540                 92.0   \n",
       "7711  0.605684  480.649         440.329  480.298808                190.0   \n",
       "\n",
       "      NumRadicalElectrons  ...  fr_sulfide  fr_sulfonamd  fr_sulfone  \\\n",
       "0                     0.0  ...         0.0           0.0         0.0   \n",
       "1                     0.0  ...         0.0           0.0         0.0   \n",
       "2                     0.0  ...         0.0           0.0         0.0   \n",
       "3                     0.0  ...         0.0           0.0         0.0   \n",
       "4                     0.0  ...         0.0           0.0         0.0   \n",
       "...                   ...  ...         ...           ...         ...   \n",
       "7707                  0.0  ...         0.0           0.0         0.0   \n",
       "7708                  0.0  ...         0.0           0.0         0.0   \n",
       "7709                  0.0  ...         0.0           0.0         0.0   \n",
       "7710                  0.0  ...         0.0           0.0         0.0   \n",
       "7711                  0.0  ...         0.0           0.0         0.0   \n",
       "\n",
       "      fr_term_acetylene  fr_tetrazole  fr_thiazole  fr_thiocyan  fr_thiophene  \\\n",
       "0                   0.0           0.0          0.0          0.0           0.0   \n",
       "1                   0.0           0.0          0.0          0.0           0.0   \n",
       "2                   0.0           0.0          0.0          0.0           0.0   \n",
       "3                   0.0           0.0          0.0          0.0           0.0   \n",
       "4                   0.0           0.0          0.0          0.0           0.0   \n",
       "...                 ...           ...          ...          ...           ...   \n",
       "7707                0.0           0.0          0.0          0.0           0.0   \n",
       "7708                0.0           0.0          0.0          0.0           0.0   \n",
       "7709                0.0           0.0          0.0          0.0           0.0   \n",
       "7710                0.0           0.0          0.0          0.0           0.0   \n",
       "7711                0.0           0.0          0.0          0.0           0.0   \n",
       "\n",
       "      fr_unbrch_alkane  fr_urea  \n",
       "0                  0.0      0.0  \n",
       "1                  0.0      0.0  \n",
       "2                  1.0      0.0  \n",
       "3                  0.0      0.0  \n",
       "4                  0.0      0.0  \n",
       "...                ...      ...  \n",
       "7707               0.0      0.0  \n",
       "7708               1.0      0.0  \n",
       "7709               0.0      0.0  \n",
       "7710               0.0      0.0  \n",
       "7711               0.0      0.0  \n",
       "\n",
       "[7712 rows x 197 columns]"
      ]
     },
     "execution_count": 25,
     "metadata": {},
     "output_type": "execute_result"
    }
   ],
   "source": [
    "df_RDKit_2D=df_RDKit_2D.dropna(axis=1)\n",
    "df_RDKit_2D"
   ]
  },
  {
   "cell_type": "code",
   "execution_count": 26,
   "metadata": {},
   "outputs": [],
   "source": [
    "x_tr= df_RDKit_2D.to_numpy ()"
   ]
  },
  {
   "cell_type": "code",
   "execution_count": 27,
   "metadata": {},
   "outputs": [],
   "source": [
    "# Data Standardization\n",
    "from sklearn.preprocessing import StandardScaler\n",
    "scale = StandardScaler().fit(x_tr)\n",
    "x_tr = scale.transform(x_tr)\n"
   ]
  },
  {
   "cell_type": "code",
   "execution_count": 28,
   "metadata": {},
   "outputs": [
    {
     "data": {
      "text/plain": [
       "(7712, 197)"
      ]
     },
     "execution_count": 28,
     "metadata": {},
     "output_type": "execute_result"
    }
   ],
   "source": [
    "x_tr.shape"
   ]
  },
  {
   "cell_type": "code",
   "execution_count": 29,
   "metadata": {},
   "outputs": [],
   "source": [
    "savetxt('models/RDKiT/x_tr_RDKiT.csv', x_tr, delimiter=',')"
   ]
  },
  {
   "cell_type": "markdown",
   "metadata": {},
   "source": [
    "# Calculation RDKit_2D descriptors for test set"
   ]
  },
  {
   "cell_type": "code",
   "execution_count": 30,
   "metadata": {},
   "outputs": [],
   "source": [
    "descr_ts = []\n",
    "for m in moldf_ts:\n",
    "    descr_ts.append(calc.CalcDescriptors(m))\n",
    "x_ts = np.asarray(descr_ts)"
   ]
  },
  {
   "cell_type": "code",
   "execution_count": 31,
   "metadata": {},
   "outputs": [
    {
     "data": {
      "text/plain": [
       "(1929, 209)"
      ]
     },
     "execution_count": 31,
     "metadata": {},
     "output_type": "execute_result"
    }
   ],
   "source": [
    "x_ts.shape"
   ]
  },
  {
   "cell_type": "code",
   "execution_count": 32,
   "metadata": {},
   "outputs": [
    {
     "data": {
      "text/html": [
       "<div>\n",
       "<style scoped>\n",
       "    .dataframe tbody tr th:only-of-type {\n",
       "        vertical-align: middle;\n",
       "    }\n",
       "\n",
       "    .dataframe tbody tr th {\n",
       "        vertical-align: top;\n",
       "    }\n",
       "\n",
       "    .dataframe thead th {\n",
       "        text-align: right;\n",
       "    }\n",
       "</style>\n",
       "<table border=\"1\" class=\"dataframe\">\n",
       "  <thead>\n",
       "    <tr style=\"text-align: right;\">\n",
       "      <th></th>\n",
       "      <th>MaxAbsEStateIndex</th>\n",
       "      <th>MaxEStateIndex</th>\n",
       "      <th>MinAbsEStateIndex</th>\n",
       "      <th>MinEStateIndex</th>\n",
       "      <th>qed</th>\n",
       "      <th>MolWt</th>\n",
       "      <th>HeavyAtomMolWt</th>\n",
       "      <th>ExactMolWt</th>\n",
       "      <th>NumValenceElectrons</th>\n",
       "      <th>NumRadicalElectrons</th>\n",
       "      <th>...</th>\n",
       "      <th>fr_sulfide</th>\n",
       "      <th>fr_sulfonamd</th>\n",
       "      <th>fr_sulfone</th>\n",
       "      <th>fr_term_acetylene</th>\n",
       "      <th>fr_tetrazole</th>\n",
       "      <th>fr_thiazole</th>\n",
       "      <th>fr_thiocyan</th>\n",
       "      <th>fr_thiophene</th>\n",
       "      <th>fr_unbrch_alkane</th>\n",
       "      <th>fr_urea</th>\n",
       "    </tr>\n",
       "  </thead>\n",
       "  <tbody>\n",
       "    <tr>\n",
       "      <th>0</th>\n",
       "      <td>0.000000</td>\n",
       "      <td>0.000000</td>\n",
       "      <td>0.000000</td>\n",
       "      <td>0.000000</td>\n",
       "      <td>0.359785</td>\n",
       "      <td>16.043</td>\n",
       "      <td>12.011</td>\n",
       "      <td>16.031300</td>\n",
       "      <td>8.0</td>\n",
       "      <td>0.0</td>\n",
       "      <td>...</td>\n",
       "      <td>0.0</td>\n",
       "      <td>0.0</td>\n",
       "      <td>0.0</td>\n",
       "      <td>0.0</td>\n",
       "      <td>0.0</td>\n",
       "      <td>0.0</td>\n",
       "      <td>0.0</td>\n",
       "      <td>0.0</td>\n",
       "      <td>0.0</td>\n",
       "      <td>0.0</td>\n",
       "    </tr>\n",
       "    <tr>\n",
       "      <th>1</th>\n",
       "      <td>8.534403</td>\n",
       "      <td>8.534403</td>\n",
       "      <td>0.274306</td>\n",
       "      <td>0.274306</td>\n",
       "      <td>0.614964</td>\n",
       "      <td>143.230</td>\n",
       "      <td>126.094</td>\n",
       "      <td>143.131014</td>\n",
       "      <td>60.0</td>\n",
       "      <td>0.0</td>\n",
       "      <td>...</td>\n",
       "      <td>0.0</td>\n",
       "      <td>0.0</td>\n",
       "      <td>0.0</td>\n",
       "      <td>0.0</td>\n",
       "      <td>0.0</td>\n",
       "      <td>0.0</td>\n",
       "      <td>0.0</td>\n",
       "      <td>0.0</td>\n",
       "      <td>0.0</td>\n",
       "      <td>0.0</td>\n",
       "    </tr>\n",
       "    <tr>\n",
       "      <th>2</th>\n",
       "      <td>9.321759</td>\n",
       "      <td>9.321759</td>\n",
       "      <td>1.324074</td>\n",
       "      <td>-1.601852</td>\n",
       "      <td>0.356333</td>\n",
       "      <td>89.050</td>\n",
       "      <td>86.026</td>\n",
       "      <td>89.011293</td>\n",
       "      <td>34.0</td>\n",
       "      <td>0.0</td>\n",
       "      <td>...</td>\n",
       "      <td>0.0</td>\n",
       "      <td>0.0</td>\n",
       "      <td>0.0</td>\n",
       "      <td>0.0</td>\n",
       "      <td>0.0</td>\n",
       "      <td>0.0</td>\n",
       "      <td>0.0</td>\n",
       "      <td>0.0</td>\n",
       "      <td>0.0</td>\n",
       "      <td>0.0</td>\n",
       "    </tr>\n",
       "    <tr>\n",
       "      <th>3</th>\n",
       "      <td>10.942870</td>\n",
       "      <td>10.942870</td>\n",
       "      <td>0.034303</td>\n",
       "      <td>-0.034303</td>\n",
       "      <td>0.435733</td>\n",
       "      <td>172.268</td>\n",
       "      <td>152.108</td>\n",
       "      <td>172.146330</td>\n",
       "      <td>72.0</td>\n",
       "      <td>0.0</td>\n",
       "      <td>...</td>\n",
       "      <td>0.0</td>\n",
       "      <td>0.0</td>\n",
       "      <td>0.0</td>\n",
       "      <td>0.0</td>\n",
       "      <td>0.0</td>\n",
       "      <td>0.0</td>\n",
       "      <td>0.0</td>\n",
       "      <td>0.0</td>\n",
       "      <td>2.0</td>\n",
       "      <td>0.0</td>\n",
       "    </tr>\n",
       "    <tr>\n",
       "      <th>4</th>\n",
       "      <td>10.561528</td>\n",
       "      <td>10.561528</td>\n",
       "      <td>0.127315</td>\n",
       "      <td>-0.127315</td>\n",
       "      <td>0.472430</td>\n",
       "      <td>127.143</td>\n",
       "      <td>118.071</td>\n",
       "      <td>127.063329</td>\n",
       "      <td>50.0</td>\n",
       "      <td>0.0</td>\n",
       "      <td>...</td>\n",
       "      <td>0.0</td>\n",
       "      <td>0.0</td>\n",
       "      <td>0.0</td>\n",
       "      <td>0.0</td>\n",
       "      <td>0.0</td>\n",
       "      <td>0.0</td>\n",
       "      <td>0.0</td>\n",
       "      <td>0.0</td>\n",
       "      <td>0.0</td>\n",
       "      <td>0.0</td>\n",
       "    </tr>\n",
       "    <tr>\n",
       "      <th>...</th>\n",
       "      <td>...</td>\n",
       "      <td>...</td>\n",
       "      <td>...</td>\n",
       "      <td>...</td>\n",
       "      <td>...</td>\n",
       "      <td>...</td>\n",
       "      <td>...</td>\n",
       "      <td>...</td>\n",
       "      <td>...</td>\n",
       "      <td>...</td>\n",
       "      <td>...</td>\n",
       "      <td>...</td>\n",
       "      <td>...</td>\n",
       "      <td>...</td>\n",
       "      <td>...</td>\n",
       "      <td>...</td>\n",
       "      <td>...</td>\n",
       "      <td>...</td>\n",
       "      <td>...</td>\n",
       "      <td>...</td>\n",
       "      <td>...</td>\n",
       "    </tr>\n",
       "    <tr>\n",
       "      <th>1924</th>\n",
       "      <td>15.445723</td>\n",
       "      <td>15.445723</td>\n",
       "      <td>0.124858</td>\n",
       "      <td>-1.371957</td>\n",
       "      <td>0.692771</td>\n",
       "      <td>434.504</td>\n",
       "      <td>403.256</td>\n",
       "      <td>434.210467</td>\n",
       "      <td>170.0</td>\n",
       "      <td>0.0</td>\n",
       "      <td>...</td>\n",
       "      <td>0.0</td>\n",
       "      <td>0.0</td>\n",
       "      <td>0.0</td>\n",
       "      <td>0.0</td>\n",
       "      <td>0.0</td>\n",
       "      <td>0.0</td>\n",
       "      <td>0.0</td>\n",
       "      <td>0.0</td>\n",
       "      <td>0.0</td>\n",
       "      <td>0.0</td>\n",
       "    </tr>\n",
       "    <tr>\n",
       "      <th>1925</th>\n",
       "      <td>12.444734</td>\n",
       "      <td>12.444734</td>\n",
       "      <td>0.098711</td>\n",
       "      <td>-4.634295</td>\n",
       "      <td>0.523911</td>\n",
       "      <td>323.916</td>\n",
       "      <td>322.908</td>\n",
       "      <td>321.884593</td>\n",
       "      <td>92.0</td>\n",
       "      <td>0.0</td>\n",
       "      <td>...</td>\n",
       "      <td>0.0</td>\n",
       "      <td>0.0</td>\n",
       "      <td>0.0</td>\n",
       "      <td>0.0</td>\n",
       "      <td>0.0</td>\n",
       "      <td>0.0</td>\n",
       "      <td>0.0</td>\n",
       "      <td>0.0</td>\n",
       "      <td>0.0</td>\n",
       "      <td>0.0</td>\n",
       "    </tr>\n",
       "    <tr>\n",
       "      <th>1926</th>\n",
       "      <td>10.941895</td>\n",
       "      <td>10.941895</td>\n",
       "      <td>0.316744</td>\n",
       "      <td>-2.784901</td>\n",
       "      <td>0.305670</td>\n",
       "      <td>268.271</td>\n",
       "      <td>251.135</td>\n",
       "      <td>268.053431</td>\n",
       "      <td>94.0</td>\n",
       "      <td>0.0</td>\n",
       "      <td>...</td>\n",
       "      <td>0.0</td>\n",
       "      <td>0.0</td>\n",
       "      <td>0.0</td>\n",
       "      <td>0.0</td>\n",
       "      <td>0.0</td>\n",
       "      <td>0.0</td>\n",
       "      <td>0.0</td>\n",
       "      <td>0.0</td>\n",
       "      <td>0.0</td>\n",
       "      <td>0.0</td>\n",
       "    </tr>\n",
       "    <tr>\n",
       "      <th>1927</th>\n",
       "      <td>5.822407</td>\n",
       "      <td>5.822407</td>\n",
       "      <td>0.686849</td>\n",
       "      <td>0.686849</td>\n",
       "      <td>0.345378</td>\n",
       "      <td>499.778</td>\n",
       "      <td>495.746</td>\n",
       "      <td>495.694478</td>\n",
       "      <td>92.0</td>\n",
       "      <td>0.0</td>\n",
       "      <td>...</td>\n",
       "      <td>0.0</td>\n",
       "      <td>0.0</td>\n",
       "      <td>0.0</td>\n",
       "      <td>0.0</td>\n",
       "      <td>0.0</td>\n",
       "      <td>0.0</td>\n",
       "      <td>0.0</td>\n",
       "      <td>0.0</td>\n",
       "      <td>0.0</td>\n",
       "      <td>0.0</td>\n",
       "    </tr>\n",
       "    <tr>\n",
       "      <th>1928</th>\n",
       "      <td>12.902244</td>\n",
       "      <td>12.902244</td>\n",
       "      <td>0.000671</td>\n",
       "      <td>-0.780943</td>\n",
       "      <td>0.399459</td>\n",
       "      <td>486.693</td>\n",
       "      <td>440.325</td>\n",
       "      <td>486.334525</td>\n",
       "      <td>196.0</td>\n",
       "      <td>0.0</td>\n",
       "      <td>...</td>\n",
       "      <td>0.0</td>\n",
       "      <td>0.0</td>\n",
       "      <td>0.0</td>\n",
       "      <td>0.0</td>\n",
       "      <td>0.0</td>\n",
       "      <td>0.0</td>\n",
       "      <td>0.0</td>\n",
       "      <td>0.0</td>\n",
       "      <td>0.0</td>\n",
       "      <td>0.0</td>\n",
       "    </tr>\n",
       "  </tbody>\n",
       "</table>\n",
       "<p>1929 rows × 197 columns</p>\n",
       "</div>"
      ],
      "text/plain": [
       "      MaxAbsEStateIndex  MaxEStateIndex  MinAbsEStateIndex  MinEStateIndex  \\\n",
       "0              0.000000        0.000000           0.000000        0.000000   \n",
       "1              8.534403        8.534403           0.274306        0.274306   \n",
       "2              9.321759        9.321759           1.324074       -1.601852   \n",
       "3             10.942870       10.942870           0.034303       -0.034303   \n",
       "4             10.561528       10.561528           0.127315       -0.127315   \n",
       "...                 ...             ...                ...             ...   \n",
       "1924          15.445723       15.445723           0.124858       -1.371957   \n",
       "1925          12.444734       12.444734           0.098711       -4.634295   \n",
       "1926          10.941895       10.941895           0.316744       -2.784901   \n",
       "1927           5.822407        5.822407           0.686849        0.686849   \n",
       "1928          12.902244       12.902244           0.000671       -0.780943   \n",
       "\n",
       "           qed    MolWt  HeavyAtomMolWt  ExactMolWt  NumValenceElectrons  \\\n",
       "0     0.359785   16.043          12.011   16.031300                  8.0   \n",
       "1     0.614964  143.230         126.094  143.131014                 60.0   \n",
       "2     0.356333   89.050          86.026   89.011293                 34.0   \n",
       "3     0.435733  172.268         152.108  172.146330                 72.0   \n",
       "4     0.472430  127.143         118.071  127.063329                 50.0   \n",
       "...        ...      ...             ...         ...                  ...   \n",
       "1924  0.692771  434.504         403.256  434.210467                170.0   \n",
       "1925  0.523911  323.916         322.908  321.884593                 92.0   \n",
       "1926  0.305670  268.271         251.135  268.053431                 94.0   \n",
       "1927  0.345378  499.778         495.746  495.694478                 92.0   \n",
       "1928  0.399459  486.693         440.325  486.334525                196.0   \n",
       "\n",
       "      NumRadicalElectrons  ...  fr_sulfide  fr_sulfonamd  fr_sulfone  \\\n",
       "0                     0.0  ...         0.0           0.0         0.0   \n",
       "1                     0.0  ...         0.0           0.0         0.0   \n",
       "2                     0.0  ...         0.0           0.0         0.0   \n",
       "3                     0.0  ...         0.0           0.0         0.0   \n",
       "4                     0.0  ...         0.0           0.0         0.0   \n",
       "...                   ...  ...         ...           ...         ...   \n",
       "1924                  0.0  ...         0.0           0.0         0.0   \n",
       "1925                  0.0  ...         0.0           0.0         0.0   \n",
       "1926                  0.0  ...         0.0           0.0         0.0   \n",
       "1927                  0.0  ...         0.0           0.0         0.0   \n",
       "1928                  0.0  ...         0.0           0.0         0.0   \n",
       "\n",
       "      fr_term_acetylene  fr_tetrazole  fr_thiazole  fr_thiocyan  fr_thiophene  \\\n",
       "0                   0.0           0.0          0.0          0.0           0.0   \n",
       "1                   0.0           0.0          0.0          0.0           0.0   \n",
       "2                   0.0           0.0          0.0          0.0           0.0   \n",
       "3                   0.0           0.0          0.0          0.0           0.0   \n",
       "4                   0.0           0.0          0.0          0.0           0.0   \n",
       "...                 ...           ...          ...          ...           ...   \n",
       "1924                0.0           0.0          0.0          0.0           0.0   \n",
       "1925                0.0           0.0          0.0          0.0           0.0   \n",
       "1926                0.0           0.0          0.0          0.0           0.0   \n",
       "1927                0.0           0.0          0.0          0.0           0.0   \n",
       "1928                0.0           0.0          0.0          0.0           0.0   \n",
       "\n",
       "      fr_unbrch_alkane  fr_urea  \n",
       "0                  0.0      0.0  \n",
       "1                  0.0      0.0  \n",
       "2                  0.0      0.0  \n",
       "3                  2.0      0.0  \n",
       "4                  0.0      0.0  \n",
       "...                ...      ...  \n",
       "1924               0.0      0.0  \n",
       "1925               0.0      0.0  \n",
       "1926               0.0      0.0  \n",
       "1927               0.0      0.0  \n",
       "1928               0.0      0.0  \n",
       "\n",
       "[1929 rows x 197 columns]"
      ]
     },
     "execution_count": 32,
     "metadata": {},
     "output_type": "execute_result"
    }
   ],
   "source": [
    "df_RDKit_2D_ts = pd.DataFrame(x_ts,columns=header)\n",
    "df_RDKit_2D_ts=df_RDKit_2D_ts.dropna(axis=1)\n",
    "df_RDKit_2D_ts"
   ]
  },
  {
   "cell_type": "code",
   "execution_count": 33,
   "metadata": {},
   "outputs": [],
   "source": [
    "x_ts= df_RDKit_2D_ts.to_numpy ()"
   ]
  },
  {
   "cell_type": "code",
   "execution_count": 34,
   "metadata": {},
   "outputs": [],
   "source": [
    "x_ts = scale.transform(x_ts)"
   ]
  },
  {
   "cell_type": "code",
   "execution_count": 35,
   "metadata": {},
   "outputs": [
    {
     "data": {
      "text/plain": [
       "(1929, 197)"
      ]
     },
     "execution_count": 35,
     "metadata": {},
     "output_type": "execute_result"
    }
   ],
   "source": [
    "x_ts.shape"
   ]
  },
  {
   "cell_type": "markdown",
   "metadata": {},
   "source": [
    " ## GradientBoostingRegressor model building and validation"
   ]
  },
  {
   "cell_type": "code",
   "execution_count": 37,
   "metadata": {},
   "outputs": [],
   "source": [
    "seed = 42"
   ]
  },
  {
   "cell_type": "code",
   "execution_count": 38,
   "metadata": {},
   "outputs": [],
   "source": [
    "cv=KFold(n_splits=5, random_state=seed, shuffle=True)"
   ]
  },
  {
   "cell_type": "code",
   "execution_count": 39,
   "metadata": {},
   "outputs": [],
   "source": [
    "param_grid = {'learning_rate': [0.02,0.05],\n",
    "                  'subsample'    : [0.9, 0.5, 0.1],\n",
    "                  'n_estimators' : [100,500,1000],\n",
    "                  'max_depth'    : [4, 10]\n",
    "                 }"
   ]
  },
  {
   "cell_type": "code",
   "execution_count": 49,
   "metadata": {},
   "outputs": [],
   "source": [
    "m = GridSearchCV(GradientBoostingRegressor(), param_grid, n_jobs=-1, cv=cv, verbose=1)"
   ]
  },
  {
   "cell_type": "code",
   "execution_count": 43,
   "metadata": {},
   "outputs": [
    {
     "name": "stdout",
     "output_type": "stream",
     "text": [
      "Fitting 5 folds for each of 36 candidates, totalling 180 fits\n"
     ]
    },
    {
     "data": {
      "text/html": [
       "<style>#sk-container-id-1 {color: black;}#sk-container-id-1 pre{padding: 0;}#sk-container-id-1 div.sk-toggleable {background-color: white;}#sk-container-id-1 label.sk-toggleable__label {cursor: pointer;display: block;width: 100%;margin-bottom: 0;padding: 0.3em;box-sizing: border-box;text-align: center;}#sk-container-id-1 label.sk-toggleable__label-arrow:before {content: \"▸\";float: left;margin-right: 0.25em;color: #696969;}#sk-container-id-1 label.sk-toggleable__label-arrow:hover:before {color: black;}#sk-container-id-1 div.sk-estimator:hover label.sk-toggleable__label-arrow:before {color: black;}#sk-container-id-1 div.sk-toggleable__content {max-height: 0;max-width: 0;overflow: hidden;text-align: left;background-color: #f0f8ff;}#sk-container-id-1 div.sk-toggleable__content pre {margin: 0.2em;color: black;border-radius: 0.25em;background-color: #f0f8ff;}#sk-container-id-1 input.sk-toggleable__control:checked~div.sk-toggleable__content {max-height: 200px;max-width: 100%;overflow: auto;}#sk-container-id-1 input.sk-toggleable__control:checked~label.sk-toggleable__label-arrow:before {content: \"▾\";}#sk-container-id-1 div.sk-estimator input.sk-toggleable__control:checked~label.sk-toggleable__label {background-color: #d4ebff;}#sk-container-id-1 div.sk-label input.sk-toggleable__control:checked~label.sk-toggleable__label {background-color: #d4ebff;}#sk-container-id-1 input.sk-hidden--visually {border: 0;clip: rect(1px 1px 1px 1px);clip: rect(1px, 1px, 1px, 1px);height: 1px;margin: -1px;overflow: hidden;padding: 0;position: absolute;width: 1px;}#sk-container-id-1 div.sk-estimator {font-family: monospace;background-color: #f0f8ff;border: 1px dotted black;border-radius: 0.25em;box-sizing: border-box;margin-bottom: 0.5em;}#sk-container-id-1 div.sk-estimator:hover {background-color: #d4ebff;}#sk-container-id-1 div.sk-parallel-item::after {content: \"\";width: 100%;border-bottom: 1px solid gray;flex-grow: 1;}#sk-container-id-1 div.sk-label:hover label.sk-toggleable__label {background-color: #d4ebff;}#sk-container-id-1 div.sk-serial::before {content: \"\";position: absolute;border-left: 1px solid gray;box-sizing: border-box;top: 0;bottom: 0;left: 50%;z-index: 0;}#sk-container-id-1 div.sk-serial {display: flex;flex-direction: column;align-items: center;background-color: white;padding-right: 0.2em;padding-left: 0.2em;position: relative;}#sk-container-id-1 div.sk-item {position: relative;z-index: 1;}#sk-container-id-1 div.sk-parallel {display: flex;align-items: stretch;justify-content: center;background-color: white;position: relative;}#sk-container-id-1 div.sk-item::before, #sk-container-id-1 div.sk-parallel-item::before {content: \"\";position: absolute;border-left: 1px solid gray;box-sizing: border-box;top: 0;bottom: 0;left: 50%;z-index: -1;}#sk-container-id-1 div.sk-parallel-item {display: flex;flex-direction: column;z-index: 1;position: relative;background-color: white;}#sk-container-id-1 div.sk-parallel-item:first-child::after {align-self: flex-end;width: 50%;}#sk-container-id-1 div.sk-parallel-item:last-child::after {align-self: flex-start;width: 50%;}#sk-container-id-1 div.sk-parallel-item:only-child::after {width: 0;}#sk-container-id-1 div.sk-dashed-wrapped {border: 1px dashed gray;margin: 0 0.4em 0.5em 0.4em;box-sizing: border-box;padding-bottom: 0.4em;background-color: white;}#sk-container-id-1 div.sk-label label {font-family: monospace;font-weight: bold;display: inline-block;line-height: 1.2em;}#sk-container-id-1 div.sk-label-container {text-align: center;}#sk-container-id-1 div.sk-container {/* jupyter's `normalize.less` sets `[hidden] { display: none; }` but bootstrap.min.css set `[hidden] { display: none !important; }` so we also need the `!important` here to be able to override the default hidden behavior on the sphinx rendered scikit-learn.org. See: https://github.com/scikit-learn/scikit-learn/issues/21755 */display: inline-block !important;position: relative;}#sk-container-id-1 div.sk-text-repr-fallback {display: none;}</style><div id=\"sk-container-id-1\" class=\"sk-top-container\"><div class=\"sk-text-repr-fallback\"><pre>GridSearchCV(cv=KFold(n_splits=5, random_state=42, shuffle=True),\n",
       "             estimator=GradientBoostingRegressor(), n_jobs=-1,\n",
       "             param_grid={&#x27;learning_rate&#x27;: [0.02, 0.05], &#x27;max_depth&#x27;: [4, 10],\n",
       "                         &#x27;n_estimators&#x27;: [100, 500, 1000],\n",
       "                         &#x27;subsample&#x27;: [0.9, 0.5, 0.1]},\n",
       "             verbose=1)</pre><b>In a Jupyter environment, please rerun this cell to show the HTML representation or trust the notebook. <br />On GitHub, the HTML representation is unable to render, please try loading this page with nbviewer.org.</b></div><div class=\"sk-container\" hidden><div class=\"sk-item sk-dashed-wrapped\"><div class=\"sk-label-container\"><div class=\"sk-label sk-toggleable\"><input class=\"sk-toggleable__control sk-hidden--visually\" id=\"sk-estimator-id-1\" type=\"checkbox\" ><label for=\"sk-estimator-id-1\" class=\"sk-toggleable__label sk-toggleable__label-arrow\">GridSearchCV</label><div class=\"sk-toggleable__content\"><pre>GridSearchCV(cv=KFold(n_splits=5, random_state=42, shuffle=True),\n",
       "             estimator=GradientBoostingRegressor(), n_jobs=-1,\n",
       "             param_grid={&#x27;learning_rate&#x27;: [0.02, 0.05], &#x27;max_depth&#x27;: [4, 10],\n",
       "                         &#x27;n_estimators&#x27;: [100, 500, 1000],\n",
       "                         &#x27;subsample&#x27;: [0.9, 0.5, 0.1]},\n",
       "             verbose=1)</pre></div></div></div><div class=\"sk-parallel\"><div class=\"sk-parallel-item\"><div class=\"sk-item\"><div class=\"sk-label-container\"><div class=\"sk-label sk-toggleable\"><input class=\"sk-toggleable__control sk-hidden--visually\" id=\"sk-estimator-id-2\" type=\"checkbox\" ><label for=\"sk-estimator-id-2\" class=\"sk-toggleable__label sk-toggleable__label-arrow\">estimator: GradientBoostingRegressor</label><div class=\"sk-toggleable__content\"><pre>GradientBoostingRegressor()</pre></div></div></div><div class=\"sk-serial\"><div class=\"sk-item\"><div class=\"sk-estimator sk-toggleable\"><input class=\"sk-toggleable__control sk-hidden--visually\" id=\"sk-estimator-id-3\" type=\"checkbox\" ><label for=\"sk-estimator-id-3\" class=\"sk-toggleable__label sk-toggleable__label-arrow\">GradientBoostingRegressor</label><div class=\"sk-toggleable__content\"><pre>GradientBoostingRegressor()</pre></div></div></div></div></div></div></div></div></div></div>"
      ],
      "text/plain": [
       "GridSearchCV(cv=KFold(n_splits=5, random_state=42, shuffle=True),\n",
       "             estimator=GradientBoostingRegressor(), n_jobs=-1,\n",
       "             param_grid={'learning_rate': [0.02, 0.05], 'max_depth': [4, 10],\n",
       "                         'n_estimators': [100, 500, 1000],\n",
       "                         'subsample': [0.9, 0.5, 0.1]},\n",
       "             verbose=1)"
      ]
     },
     "execution_count": 43,
     "metadata": {},
     "output_type": "execute_result"
    }
   ],
   "source": [
    "m.fit(x_tr, y_tr)"
   ]
  },
  {
   "cell_type": "code",
   "execution_count": 51,
   "metadata": {},
   "outputs": [],
   "source": [
    "best_GBR = m.best_estimator_"
   ]
  },
  {
   "cell_type": "code",
   "execution_count": 52,
   "metadata": {},
   "outputs": [
    {
     "data": {
      "text/plain": [
       "{'learning_rate': 0.02, 'max_depth': 10, 'n_estimators': 500, 'subsample': 0.5}"
      ]
     },
     "execution_count": 52,
     "metadata": {},
     "output_type": "execute_result"
    }
   ],
   "source": [
    "m.best_params_"
   ]
  },
  {
   "cell_type": "code",
   "execution_count": 53,
   "metadata": {},
   "outputs": [],
   "source": [
    "y_pred_ws_GBR = best_GBR.predict(x_tr)"
   ]
  },
  {
   "cell_type": "code",
   "execution_count": 54,
   "metadata": {},
   "outputs": [
    {
     "data": {
      "text/plain": [
       "0.98"
      ]
     },
     "execution_count": 54,
     "metadata": {},
     "output_type": "execute_result"
    }
   ],
   "source": [
    "R2_WS = round(r2_score(y_tr, y_pred_ws_GBR), 2)\n",
    "R2_WS"
   ]
  },
  {
   "cell_type": "code",
   "execution_count": 55,
   "metadata": {},
   "outputs": [
    {
     "data": {
      "text/plain": [
       "0.33"
      ]
     },
     "execution_count": 55,
     "metadata": {},
     "output_type": "execute_result"
    }
   ],
   "source": [
    "RMSE_WS=round(np.sqrt(mean_absolute_error(y_tr, y_pred_ws_GBR)), 2)\n",
    "RMSE_WS"
   ]
  },
  {
   "cell_type": "code",
   "execution_count": 56,
   "metadata": {},
   "outputs": [],
   "source": [
    "y_pred_CV_GBR = cross_val_predict(best_GBR, x_tr, y_tr, cv=cv)"
   ]
  },
  {
   "cell_type": "code",
   "execution_count": 57,
   "metadata": {},
   "outputs": [
    {
     "data": {
      "text/plain": [
       "0.59"
      ]
     },
     "execution_count": 57,
     "metadata": {},
     "output_type": "execute_result"
    }
   ],
   "source": [
    "Q2_CV = round(r2_score(y_tr, y_pred_CV_GBR), 2)\n",
    "Q2_CV"
   ]
  },
  {
   "cell_type": "code",
   "execution_count": 58,
   "metadata": {},
   "outputs": [
    {
     "data": {
      "text/plain": [
       "0.64"
      ]
     },
     "execution_count": 58,
     "metadata": {},
     "output_type": "execute_result"
    }
   ],
   "source": [
    "RMSE_CV=round(np.sqrt(mean_absolute_error(y_tr, y_pred_CV_GBR)), 2)\n",
    "RMSE_CV"
   ]
  },
  {
   "cell_type": "markdown",
   "metadata": {},
   "source": [
    "# 9. Prediction for test set's molecules"
   ]
  },
  {
   "cell_type": "code",
   "execution_count": 59,
   "metadata": {},
   "outputs": [
    {
     "data": {
      "text/plain": [
       "1929"
      ]
     },
     "execution_count": 59,
     "metadata": {},
     "output_type": "execute_result"
    }
   ],
   "source": [
    "x_ts = np.array(x_ts, dtype=np.float32)\n",
    "y_ts = np.array(y_ts, dtype=np.float32)\n",
    "len(y_ts)"
   ]
  },
  {
   "cell_type": "code",
   "execution_count": 60,
   "metadata": {},
   "outputs": [],
   "source": [
    "y_pred_GBR = best_GBR.predict(x_ts)"
   ]
  },
  {
   "cell_type": "code",
   "execution_count": 61,
   "metadata": {},
   "outputs": [
    {
     "data": {
      "text/plain": [
       "0.59"
      ]
     },
     "execution_count": 61,
     "metadata": {},
     "output_type": "execute_result"
    }
   ],
   "source": [
    "Q2_TS = round(r2_score(y_ts, y_pred_GBR), 2)\n",
    "Q2_TS"
   ]
  },
  {
   "cell_type": "code",
   "execution_count": 62,
   "metadata": {},
   "outputs": [
    {
     "data": {
      "text/plain": [
       "0.64"
      ]
     },
     "execution_count": 62,
     "metadata": {},
     "output_type": "execute_result"
    }
   ],
   "source": [
    "RMSE_TS=round(np.sqrt(mean_absolute_error(y_ts, y_pred_GBR)), 2)\n",
    "RMSE_TS"
   ]
  },
  {
   "cell_type": "markdown",
   "metadata": {},
   "source": [
    "# save the model to disk"
   ]
  },
  {
   "cell_type": "code",
   "execution_count": 63,
   "metadata": {},
   "outputs": [],
   "source": [
    "pickle.dump(best_GBR, open('models/RDKiT/Toxicity_GBR_RDKiT.pkl', 'wb'))"
   ]
  },
  {
   "cell_type": "markdown",
   "metadata": {},
   "source": [
    "# load the model from disk"
   ]
  },
  {
   "cell_type": "code",
   "execution_count": 20,
   "metadata": {},
   "outputs": [],
   "source": [
    "best_GBR = pickle.load(open('models/RDKiT/Toxicity_GBR_RDKiT.pkl', 'rb'))"
   ]
  },
  {
   "cell_type": "markdown",
   "metadata": {},
   "source": [
    "# 10. Y-randomization GradientBoostingRegressor model"
   ]
  },
  {
   "cell_type": "code",
   "execution_count": 58,
   "metadata": {},
   "outputs": [
    {
     "name": "stderr",
     "output_type": "stream",
     "text": [
      "[Parallel(n_jobs=-1)]: Using backend LokyBackend with 16 concurrent workers.\n",
      "[Parallel(n_jobs=-1)]: Done  18 tasks      | elapsed: 63.1min\n"
     ]
    },
    {
     "name": "stdout",
     "output_type": "stream",
     "text": [
      "True score =  0.59 \n",
      "Y-randomization =  -0.12 \n",
      "p-value =  0.0196\n"
     ]
    },
    {
     "name": "stderr",
     "output_type": "stream",
     "text": [
      "[Parallel(n_jobs=-1)]: Done  50 out of  50 | elapsed: 114.1min finished\n"
     ]
    }
   ],
   "source": [
    "permutations = 50\n",
    "score, permutation_scores, pvalue = permutation_test_score(best_GBR, x_tr, y_tr,\n",
    "                                                           cv=cv, scoring='r2',\n",
    "                                                           n_permutations=permutations,\n",
    "                                                           n_jobs=-1,\n",
    "                                                           verbose=1,\n",
    "                                                           random_state=seed)\n",
    "print('True score = ', score.round(2),\n",
    "      '\\nY-randomization = ', np.mean(permutation_scores).round(2),\n",
    "      '\\np-value = ', pvalue.round(4))"
   ]
  },
  {
   "cell_type": "markdown",
   "metadata": {},
   "source": [
    "# 11. Estimating applicability domain. Method - Euclidian distances, K=1"
   ]
  },
  {
   "cell_type": "code",
   "execution_count": 64,
   "metadata": {},
   "outputs": [],
   "source": [
    "neighbors_k= pairwise_distances(x_tr, n_jobs=-1)\n",
    "neighbors_k.sort(0)"
   ]
  },
  {
   "cell_type": "code",
   "execution_count": 65,
   "metadata": {},
   "outputs": [
    {
     "data": {
      "text/html": [
       "<div>\n",
       "<style scoped>\n",
       "    .dataframe tbody tr th:only-of-type {\n",
       "        vertical-align: middle;\n",
       "    }\n",
       "\n",
       "    .dataframe tbody tr th {\n",
       "        vertical-align: top;\n",
       "    }\n",
       "\n",
       "    .dataframe thead th {\n",
       "        text-align: right;\n",
       "    }\n",
       "</style>\n",
       "<table border=\"1\" class=\"dataframe\">\n",
       "  <thead>\n",
       "    <tr style=\"text-align: right;\">\n",
       "      <th></th>\n",
       "      <th>0</th>\n",
       "      <th>1</th>\n",
       "      <th>2</th>\n",
       "      <th>3</th>\n",
       "      <th>4</th>\n",
       "      <th>5</th>\n",
       "      <th>6</th>\n",
       "      <th>7</th>\n",
       "      <th>8</th>\n",
       "      <th>9</th>\n",
       "      <th>...</th>\n",
       "      <th>7702</th>\n",
       "      <th>7703</th>\n",
       "      <th>7704</th>\n",
       "      <th>7705</th>\n",
       "      <th>7706</th>\n",
       "      <th>7707</th>\n",
       "      <th>7708</th>\n",
       "      <th>7709</th>\n",
       "      <th>7710</th>\n",
       "      <th>7711</th>\n",
       "    </tr>\n",
       "  </thead>\n",
       "  <tbody>\n",
       "    <tr>\n",
       "      <th>0</th>\n",
       "      <td>0.000000</td>\n",
       "      <td>0.000000</td>\n",
       "      <td>0.000000</td>\n",
       "      <td>0.000000</td>\n",
       "      <td>0.000000</td>\n",
       "      <td>0.000000</td>\n",
       "      <td>0.000000</td>\n",
       "      <td>0.000000</td>\n",
       "      <td>0.000000</td>\n",
       "      <td>0.000000</td>\n",
       "      <td>...</td>\n",
       "      <td>0.000000</td>\n",
       "      <td>0.000000</td>\n",
       "      <td>0.000000</td>\n",
       "      <td>0.000000</td>\n",
       "      <td>0.000000</td>\n",
       "      <td>0.000000</td>\n",
       "      <td>0.000000</td>\n",
       "      <td>0.000000</td>\n",
       "      <td>0.000000</td>\n",
       "      <td>0.000000</td>\n",
       "    </tr>\n",
       "    <tr>\n",
       "      <th>1</th>\n",
       "      <td>2.562488</td>\n",
       "      <td>6.832703</td>\n",
       "      <td>1.448362</td>\n",
       "      <td>4.681631</td>\n",
       "      <td>1.562480</td>\n",
       "      <td>2.661715</td>\n",
       "      <td>3.361996</td>\n",
       "      <td>5.787035</td>\n",
       "      <td>1.376064</td>\n",
       "      <td>3.669759</td>\n",
       "      <td>...</td>\n",
       "      <td>3.628012</td>\n",
       "      <td>2.261819</td>\n",
       "      <td>4.167718</td>\n",
       "      <td>8.600130</td>\n",
       "      <td>0.935955</td>\n",
       "      <td>2.519106</td>\n",
       "      <td>8.945021</td>\n",
       "      <td>13.855372</td>\n",
       "      <td>3.890718</td>\n",
       "      <td>8.905823</td>\n",
       "    </tr>\n",
       "    <tr>\n",
       "      <th>2</th>\n",
       "      <td>3.164496</td>\n",
       "      <td>7.323948</td>\n",
       "      <td>3.623594</td>\n",
       "      <td>4.999512</td>\n",
       "      <td>1.813125</td>\n",
       "      <td>3.018221</td>\n",
       "      <td>4.442691</td>\n",
       "      <td>6.076381</td>\n",
       "      <td>1.439991</td>\n",
       "      <td>4.800105</td>\n",
       "      <td>...</td>\n",
       "      <td>3.890718</td>\n",
       "      <td>3.550948</td>\n",
       "      <td>5.021064</td>\n",
       "      <td>8.694206</td>\n",
       "      <td>6.705638</td>\n",
       "      <td>4.227654</td>\n",
       "      <td>9.911580</td>\n",
       "      <td>13.920907</td>\n",
       "      <td>6.770072</td>\n",
       "      <td>8.913528</td>\n",
       "    </tr>\n",
       "    <tr>\n",
       "      <th>3</th>\n",
       "      <td>3.294469</td>\n",
       "      <td>7.935054</td>\n",
       "      <td>3.805816</td>\n",
       "      <td>5.718753</td>\n",
       "      <td>2.382169</td>\n",
       "      <td>3.436536</td>\n",
       "      <td>5.167877</td>\n",
       "      <td>6.184614</td>\n",
       "      <td>1.474926</td>\n",
       "      <td>5.354136</td>\n",
       "      <td>...</td>\n",
       "      <td>6.002839</td>\n",
       "      <td>3.556891</td>\n",
       "      <td>10.329050</td>\n",
       "      <td>8.869283</td>\n",
       "      <td>9.566367</td>\n",
       "      <td>5.794198</td>\n",
       "      <td>9.965301</td>\n",
       "      <td>13.927616</td>\n",
       "      <td>6.855199</td>\n",
       "      <td>10.449749</td>\n",
       "    </tr>\n",
       "    <tr>\n",
       "      <th>4</th>\n",
       "      <td>3.489494</td>\n",
       "      <td>8.309059</td>\n",
       "      <td>3.841268</td>\n",
       "      <td>6.123028</td>\n",
       "      <td>2.578850</td>\n",
       "      <td>3.915887</td>\n",
       "      <td>5.737502</td>\n",
       "      <td>6.276516</td>\n",
       "      <td>1.600469</td>\n",
       "      <td>6.016169</td>\n",
       "      <td>...</td>\n",
       "      <td>7.384877</td>\n",
       "      <td>3.615280</td>\n",
       "      <td>10.482573</td>\n",
       "      <td>10.078299</td>\n",
       "      <td>9.666793</td>\n",
       "      <td>8.600130</td>\n",
       "      <td>9.999884</td>\n",
       "      <td>14.100402</td>\n",
       "      <td>8.544723</td>\n",
       "      <td>10.476759</td>\n",
       "    </tr>\n",
       "    <tr>\n",
       "      <th>...</th>\n",
       "      <td>...</td>\n",
       "      <td>...</td>\n",
       "      <td>...</td>\n",
       "      <td>...</td>\n",
       "      <td>...</td>\n",
       "      <td>...</td>\n",
       "      <td>...</td>\n",
       "      <td>...</td>\n",
       "      <td>...</td>\n",
       "      <td>...</td>\n",
       "      <td>...</td>\n",
       "      <td>...</td>\n",
       "      <td>...</td>\n",
       "      <td>...</td>\n",
       "      <td>...</td>\n",
       "      <td>...</td>\n",
       "      <td>...</td>\n",
       "      <td>...</td>\n",
       "      <td>...</td>\n",
       "      <td>...</td>\n",
       "      <td>...</td>\n",
       "    </tr>\n",
       "    <tr>\n",
       "      <th>7707</th>\n",
       "      <td>75.133698</td>\n",
       "      <td>73.556090</td>\n",
       "      <td>78.585971</td>\n",
       "      <td>70.308503</td>\n",
       "      <td>76.866400</td>\n",
       "      <td>75.451438</td>\n",
       "      <td>75.169849</td>\n",
       "      <td>73.197261</td>\n",
       "      <td>75.075458</td>\n",
       "      <td>78.594127</td>\n",
       "      <td>...</td>\n",
       "      <td>72.505018</td>\n",
       "      <td>74.706794</td>\n",
       "      <td>68.529534</td>\n",
       "      <td>69.624848</td>\n",
       "      <td>73.921960</td>\n",
       "      <td>69.174428</td>\n",
       "      <td>68.071384</td>\n",
       "      <td>69.826393</td>\n",
       "      <td>72.995622</td>\n",
       "      <td>69.702880</td>\n",
       "    </tr>\n",
       "    <tr>\n",
       "      <th>7708</th>\n",
       "      <td>76.932624</td>\n",
       "      <td>73.610367</td>\n",
       "      <td>78.936545</td>\n",
       "      <td>71.087843</td>\n",
       "      <td>77.549940</td>\n",
       "      <td>76.259993</td>\n",
       "      <td>75.810369</td>\n",
       "      <td>73.289557</td>\n",
       "      <td>75.769468</td>\n",
       "      <td>78.765302</td>\n",
       "      <td>...</td>\n",
       "      <td>74.489957</td>\n",
       "      <td>75.604897</td>\n",
       "      <td>70.805419</td>\n",
       "      <td>72.282074</td>\n",
       "      <td>74.412062</td>\n",
       "      <td>71.555304</td>\n",
       "      <td>70.606372</td>\n",
       "      <td>72.112741</td>\n",
       "      <td>74.837928</td>\n",
       "      <td>72.165241</td>\n",
       "    </tr>\n",
       "    <tr>\n",
       "      <th>7709</th>\n",
       "      <td>80.805735</td>\n",
       "      <td>79.391259</td>\n",
       "      <td>83.519863</td>\n",
       "      <td>74.630181</td>\n",
       "      <td>82.746572</td>\n",
       "      <td>80.567789</td>\n",
       "      <td>80.477897</td>\n",
       "      <td>78.807718</td>\n",
       "      <td>79.772532</td>\n",
       "      <td>82.808969</td>\n",
       "      <td>...</td>\n",
       "      <td>80.806368</td>\n",
       "      <td>79.495811</td>\n",
       "      <td>71.829010</td>\n",
       "      <td>73.575325</td>\n",
       "      <td>78.844489</td>\n",
       "      <td>75.966021</td>\n",
       "      <td>72.914635</td>\n",
       "      <td>72.653164</td>\n",
       "      <td>81.081395</td>\n",
       "      <td>74.516930</td>\n",
       "    </tr>\n",
       "    <tr>\n",
       "      <th>7710</th>\n",
       "      <td>93.912378</td>\n",
       "      <td>91.540413</td>\n",
       "      <td>94.638615</td>\n",
       "      <td>90.564006</td>\n",
       "      <td>91.996302</td>\n",
       "      <td>92.527175</td>\n",
       "      <td>92.713480</td>\n",
       "      <td>90.560569</td>\n",
       "      <td>92.951683</td>\n",
       "      <td>94.317355</td>\n",
       "      <td>...</td>\n",
       "      <td>91.521122</td>\n",
       "      <td>92.183459</td>\n",
       "      <td>86.751036</td>\n",
       "      <td>88.392417</td>\n",
       "      <td>90.246292</td>\n",
       "      <td>90.134937</td>\n",
       "      <td>85.907759</td>\n",
       "      <td>84.817102</td>\n",
       "      <td>91.571177</td>\n",
       "      <td>86.234405</td>\n",
       "    </tr>\n",
       "    <tr>\n",
       "      <th>7711</th>\n",
       "      <td>117.163054</td>\n",
       "      <td>116.153876</td>\n",
       "      <td>118.798210</td>\n",
       "      <td>113.219728</td>\n",
       "      <td>118.272643</td>\n",
       "      <td>117.220635</td>\n",
       "      <td>117.173260</td>\n",
       "      <td>114.869848</td>\n",
       "      <td>116.557888</td>\n",
       "      <td>118.875259</td>\n",
       "      <td>...</td>\n",
       "      <td>116.075244</td>\n",
       "      <td>116.503558</td>\n",
       "      <td>111.744476</td>\n",
       "      <td>111.646627</td>\n",
       "      <td>115.846457</td>\n",
       "      <td>112.504260</td>\n",
       "      <td>112.002183</td>\n",
       "      <td>111.941761</td>\n",
       "      <td>116.446000</td>\n",
       "      <td>112.082900</td>\n",
       "    </tr>\n",
       "  </tbody>\n",
       "</table>\n",
       "<p>7712 rows × 7712 columns</p>\n",
       "</div>"
      ],
      "text/plain": [
       "            0           1           2           3           4           5     \\\n",
       "0       0.000000    0.000000    0.000000    0.000000    0.000000    0.000000   \n",
       "1       2.562488    6.832703    1.448362    4.681631    1.562480    2.661715   \n",
       "2       3.164496    7.323948    3.623594    4.999512    1.813125    3.018221   \n",
       "3       3.294469    7.935054    3.805816    5.718753    2.382169    3.436536   \n",
       "4       3.489494    8.309059    3.841268    6.123028    2.578850    3.915887   \n",
       "...          ...         ...         ...         ...         ...         ...   \n",
       "7707   75.133698   73.556090   78.585971   70.308503   76.866400   75.451438   \n",
       "7708   76.932624   73.610367   78.936545   71.087843   77.549940   76.259993   \n",
       "7709   80.805735   79.391259   83.519863   74.630181   82.746572   80.567789   \n",
       "7710   93.912378   91.540413   94.638615   90.564006   91.996302   92.527175   \n",
       "7711  117.163054  116.153876  118.798210  113.219728  118.272643  117.220635   \n",
       "\n",
       "            6           7           8           9     ...        7702  \\\n",
       "0       0.000000    0.000000    0.000000    0.000000  ...    0.000000   \n",
       "1       3.361996    5.787035    1.376064    3.669759  ...    3.628012   \n",
       "2       4.442691    6.076381    1.439991    4.800105  ...    3.890718   \n",
       "3       5.167877    6.184614    1.474926    5.354136  ...    6.002839   \n",
       "4       5.737502    6.276516    1.600469    6.016169  ...    7.384877   \n",
       "...          ...         ...         ...         ...  ...         ...   \n",
       "7707   75.169849   73.197261   75.075458   78.594127  ...   72.505018   \n",
       "7708   75.810369   73.289557   75.769468   78.765302  ...   74.489957   \n",
       "7709   80.477897   78.807718   79.772532   82.808969  ...   80.806368   \n",
       "7710   92.713480   90.560569   92.951683   94.317355  ...   91.521122   \n",
       "7711  117.173260  114.869848  116.557888  118.875259  ...  116.075244   \n",
       "\n",
       "            7703        7704        7705        7706        7707        7708  \\\n",
       "0       0.000000    0.000000    0.000000    0.000000    0.000000    0.000000   \n",
       "1       2.261819    4.167718    8.600130    0.935955    2.519106    8.945021   \n",
       "2       3.550948    5.021064    8.694206    6.705638    4.227654    9.911580   \n",
       "3       3.556891   10.329050    8.869283    9.566367    5.794198    9.965301   \n",
       "4       3.615280   10.482573   10.078299    9.666793    8.600130    9.999884   \n",
       "...          ...         ...         ...         ...         ...         ...   \n",
       "7707   74.706794   68.529534   69.624848   73.921960   69.174428   68.071384   \n",
       "7708   75.604897   70.805419   72.282074   74.412062   71.555304   70.606372   \n",
       "7709   79.495811   71.829010   73.575325   78.844489   75.966021   72.914635   \n",
       "7710   92.183459   86.751036   88.392417   90.246292   90.134937   85.907759   \n",
       "7711  116.503558  111.744476  111.646627  115.846457  112.504260  112.002183   \n",
       "\n",
       "            7709        7710        7711  \n",
       "0       0.000000    0.000000    0.000000  \n",
       "1      13.855372    3.890718    8.905823  \n",
       "2      13.920907    6.770072    8.913528  \n",
       "3      13.927616    6.855199   10.449749  \n",
       "4      14.100402    8.544723   10.476759  \n",
       "...          ...         ...         ...  \n",
       "7707   69.826393   72.995622   69.702880  \n",
       "7708   72.112741   74.837928   72.165241  \n",
       "7709   72.653164   81.081395   74.516930  \n",
       "7710   84.817102   91.571177   86.234405  \n",
       "7711  111.941761  116.446000  112.082900  \n",
       "\n",
       "[7712 rows x 7712 columns]"
      ]
     },
     "execution_count": 65,
     "metadata": {},
     "output_type": "execute_result"
    }
   ],
   "source": [
    "df_tr=pd.DataFrame(neighbors_k)\n",
    "df_tr"
   ]
  },
  {
   "cell_type": "code",
   "execution_count": 66,
   "metadata": {},
   "outputs": [],
   "source": [
    "similarity= neighbors_k"
   ]
  },
  {
   "cell_type": "code",
   "execution_count": 67,
   "metadata": {},
   "outputs": [],
   "source": [
    "Dmean=np.mean(similarity[1,:])"
   ]
  },
  {
   "cell_type": "code",
   "execution_count": 68,
   "metadata": {},
   "outputs": [
    {
     "data": {
      "text/plain": [
       "4.84"
      ]
     },
     "execution_count": 68,
     "metadata": {},
     "output_type": "execute_result"
    }
   ],
   "source": [
    "round(Dmean, 2)"
   ]
  },
  {
   "cell_type": "code",
   "execution_count": 69,
   "metadata": {},
   "outputs": [],
   "source": [
    "std=np.std(similarity[1,:])"
   ]
  },
  {
   "cell_type": "code",
   "execution_count": 70,
   "metadata": {},
   "outputs": [
    {
     "data": {
      "text/plain": [
       "3.48"
      ]
     },
     "execution_count": 70,
     "metadata": {},
     "output_type": "execute_result"
    }
   ],
   "source": [
    "round(std, 2)"
   ]
  },
  {
   "cell_type": "code",
   "execution_count": 71,
   "metadata": {},
   "outputs": [
    {
     "name": "stdout",
     "output_type": "stream",
     "text": [
      "6.57\n"
     ]
    }
   ],
   "source": [
    "model_AD_limit=Dmean+std*0.5\n",
    "print(np.round(model_AD_limit, 2))"
   ]
  },
  {
   "cell_type": "code",
   "execution_count": 72,
   "metadata": {},
   "outputs": [],
   "source": [
    "neighbors_k_ts= pairwise_distances(x_tr,Y=x_ts, n_jobs=-1)\n",
    "neighbors_k_ts.sort(0)"
   ]
  },
  {
   "cell_type": "code",
   "execution_count": 73,
   "metadata": {},
   "outputs": [
    {
     "data": {
      "text/html": [
       "<div>\n",
       "<style scoped>\n",
       "    .dataframe tbody tr th:only-of-type {\n",
       "        vertical-align: middle;\n",
       "    }\n",
       "\n",
       "    .dataframe tbody tr th {\n",
       "        vertical-align: top;\n",
       "    }\n",
       "\n",
       "    .dataframe thead th {\n",
       "        text-align: right;\n",
       "    }\n",
       "</style>\n",
       "<table border=\"1\" class=\"dataframe\">\n",
       "  <thead>\n",
       "    <tr style=\"text-align: right;\">\n",
       "      <th></th>\n",
       "      <th>0</th>\n",
       "      <th>1</th>\n",
       "      <th>2</th>\n",
       "      <th>3</th>\n",
       "      <th>4</th>\n",
       "      <th>5</th>\n",
       "      <th>6</th>\n",
       "      <th>7</th>\n",
       "      <th>8</th>\n",
       "      <th>9</th>\n",
       "      <th>...</th>\n",
       "      <th>1919</th>\n",
       "      <th>1920</th>\n",
       "      <th>1921</th>\n",
       "      <th>1922</th>\n",
       "      <th>1923</th>\n",
       "      <th>1924</th>\n",
       "      <th>1925</th>\n",
       "      <th>1926</th>\n",
       "      <th>1927</th>\n",
       "      <th>1928</th>\n",
       "    </tr>\n",
       "  </thead>\n",
       "  <tbody>\n",
       "    <tr>\n",
       "      <th>0</th>\n",
       "      <td>5.465819</td>\n",
       "      <td>3.063434</td>\n",
       "      <td>6.120520</td>\n",
       "      <td>1.215571</td>\n",
       "      <td>2.042183</td>\n",
       "      <td>1.515443</td>\n",
       "      <td>2.124263</td>\n",
       "      <td>1.025725</td>\n",
       "      <td>4.140815</td>\n",
       "      <td>6.195718</td>\n",
       "      <td>...</td>\n",
       "      <td>9.535378</td>\n",
       "      <td>6.718344</td>\n",
       "      <td>0.912277</td>\n",
       "      <td>3.417354</td>\n",
       "      <td>1.532195</td>\n",
       "      <td>5.493381</td>\n",
       "      <td>2.651548</td>\n",
       "      <td>3.937430</td>\n",
       "      <td>10.205494</td>\n",
       "      <td>10.943144</td>\n",
       "    </tr>\n",
       "    <tr>\n",
       "      <th>1</th>\n",
       "      <td>6.234664</td>\n",
       "      <td>3.486255</td>\n",
       "      <td>6.871261</td>\n",
       "      <td>1.274003</td>\n",
       "      <td>5.930919</td>\n",
       "      <td>1.834408</td>\n",
       "      <td>2.180423</td>\n",
       "      <td>4.632574</td>\n",
       "      <td>4.397817</td>\n",
       "      <td>6.286961</td>\n",
       "      <td>...</td>\n",
       "      <td>11.123143</td>\n",
       "      <td>8.086902</td>\n",
       "      <td>2.671876</td>\n",
       "      <td>4.956988</td>\n",
       "      <td>3.593117</td>\n",
       "      <td>5.741385</td>\n",
       "      <td>3.174836</td>\n",
       "      <td>4.261122</td>\n",
       "      <td>11.111793</td>\n",
       "      <td>11.040162</td>\n",
       "    </tr>\n",
       "    <tr>\n",
       "      <th>2</th>\n",
       "      <td>6.316803</td>\n",
       "      <td>3.733498</td>\n",
       "      <td>7.515488</td>\n",
       "      <td>1.471028</td>\n",
       "      <td>6.743273</td>\n",
       "      <td>1.948316</td>\n",
       "      <td>2.341627</td>\n",
       "      <td>4.793577</td>\n",
       "      <td>4.413711</td>\n",
       "      <td>6.723029</td>\n",
       "      <td>...</td>\n",
       "      <td>11.550254</td>\n",
       "      <td>8.196785</td>\n",
       "      <td>3.332332</td>\n",
       "      <td>4.981049</td>\n",
       "      <td>3.793641</td>\n",
       "      <td>6.125422</td>\n",
       "      <td>3.721587</td>\n",
       "      <td>4.628936</td>\n",
       "      <td>11.131279</td>\n",
       "      <td>11.288966</td>\n",
       "    </tr>\n",
       "    <tr>\n",
       "      <th>3</th>\n",
       "      <td>6.585389</td>\n",
       "      <td>4.169236</td>\n",
       "      <td>7.611287</td>\n",
       "      <td>1.482657</td>\n",
       "      <td>7.055424</td>\n",
       "      <td>2.380174</td>\n",
       "      <td>2.449700</td>\n",
       "      <td>5.243902</td>\n",
       "      <td>5.187092</td>\n",
       "      <td>6.844853</td>\n",
       "      <td>...</td>\n",
       "      <td>11.834881</td>\n",
       "      <td>9.029393</td>\n",
       "      <td>3.756933</td>\n",
       "      <td>5.153448</td>\n",
       "      <td>4.067074</td>\n",
       "      <td>6.232123</td>\n",
       "      <td>4.140182</td>\n",
       "      <td>4.668678</td>\n",
       "      <td>11.291831</td>\n",
       "      <td>11.433518</td>\n",
       "    </tr>\n",
       "    <tr>\n",
       "      <th>4</th>\n",
       "      <td>6.864812</td>\n",
       "      <td>4.318012</td>\n",
       "      <td>7.676110</td>\n",
       "      <td>1.539164</td>\n",
       "      <td>7.311141</td>\n",
       "      <td>2.622992</td>\n",
       "      <td>2.538964</td>\n",
       "      <td>5.825663</td>\n",
       "      <td>5.944842</td>\n",
       "      <td>7.037389</td>\n",
       "      <td>...</td>\n",
       "      <td>12.291220</td>\n",
       "      <td>9.363354</td>\n",
       "      <td>3.890703</td>\n",
       "      <td>5.395340</td>\n",
       "      <td>4.550949</td>\n",
       "      <td>6.623514</td>\n",
       "      <td>4.852862</td>\n",
       "      <td>4.695897</td>\n",
       "      <td>11.499324</td>\n",
       "      <td>11.473860</td>\n",
       "    </tr>\n",
       "    <tr>\n",
       "      <th>...</th>\n",
       "      <td>...</td>\n",
       "      <td>...</td>\n",
       "      <td>...</td>\n",
       "      <td>...</td>\n",
       "      <td>...</td>\n",
       "      <td>...</td>\n",
       "      <td>...</td>\n",
       "      <td>...</td>\n",
       "      <td>...</td>\n",
       "      <td>...</td>\n",
       "      <td>...</td>\n",
       "      <td>...</td>\n",
       "      <td>...</td>\n",
       "      <td>...</td>\n",
       "      <td>...</td>\n",
       "      <td>...</td>\n",
       "      <td>...</td>\n",
       "      <td>...</td>\n",
       "      <td>...</td>\n",
       "      <td>...</td>\n",
       "      <td>...</td>\n",
       "    </tr>\n",
       "    <tr>\n",
       "      <th>7707</th>\n",
       "      <td>80.338922</td>\n",
       "      <td>75.194374</td>\n",
       "      <td>74.820079</td>\n",
       "      <td>75.398762</td>\n",
       "      <td>75.141938</td>\n",
       "      <td>75.828034</td>\n",
       "      <td>74.448412</td>\n",
       "      <td>78.920279</td>\n",
       "      <td>73.853882</td>\n",
       "      <td>72.822870</td>\n",
       "      <td>...</td>\n",
       "      <td>70.320738</td>\n",
       "      <td>69.638145</td>\n",
       "      <td>73.015037</td>\n",
       "      <td>73.793203</td>\n",
       "      <td>73.584213</td>\n",
       "      <td>70.396721</td>\n",
       "      <td>73.250971</td>\n",
       "      <td>72.925727</td>\n",
       "      <td>72.262273</td>\n",
       "      <td>70.724559</td>\n",
       "    </tr>\n",
       "    <tr>\n",
       "      <th>7708</th>\n",
       "      <td>80.582292</td>\n",
       "      <td>75.874683</td>\n",
       "      <td>76.201353</td>\n",
       "      <td>75.984012</td>\n",
       "      <td>75.365956</td>\n",
       "      <td>76.498190</td>\n",
       "      <td>74.928930</td>\n",
       "      <td>79.056085</td>\n",
       "      <td>74.998817</td>\n",
       "      <td>73.314832</td>\n",
       "      <td>...</td>\n",
       "      <td>72.115851</td>\n",
       "      <td>70.937325</td>\n",
       "      <td>73.894682</td>\n",
       "      <td>74.797006</td>\n",
       "      <td>74.512838</td>\n",
       "      <td>73.053279</td>\n",
       "      <td>74.105870</td>\n",
       "      <td>73.897760</td>\n",
       "      <td>73.987772</td>\n",
       "      <td>72.474029</td>\n",
       "    </tr>\n",
       "    <tr>\n",
       "      <th>7709</th>\n",
       "      <td>85.610583</td>\n",
       "      <td>80.624788</td>\n",
       "      <td>81.426791</td>\n",
       "      <td>80.106681</td>\n",
       "      <td>79.355877</td>\n",
       "      <td>81.527688</td>\n",
       "      <td>79.109101</td>\n",
       "      <td>83.911801</td>\n",
       "      <td>80.073310</td>\n",
       "      <td>78.203852</td>\n",
       "      <td>...</td>\n",
       "      <td>72.845865</td>\n",
       "      <td>75.089405</td>\n",
       "      <td>78.752501</td>\n",
       "      <td>78.260727</td>\n",
       "      <td>77.933894</td>\n",
       "      <td>73.650932</td>\n",
       "      <td>79.158358</td>\n",
       "      <td>77.637680</td>\n",
       "      <td>79.799729</td>\n",
       "      <td>73.208492</td>\n",
       "    </tr>\n",
       "    <tr>\n",
       "      <th>7710</th>\n",
       "      <td>95.580120</td>\n",
       "      <td>91.566371</td>\n",
       "      <td>93.381943</td>\n",
       "      <td>93.038977</td>\n",
       "      <td>91.886781</td>\n",
       "      <td>91.586688</td>\n",
       "      <td>92.722557</td>\n",
       "      <td>94.148698</td>\n",
       "      <td>88.187959</td>\n",
       "      <td>91.504208</td>\n",
       "      <td>...</td>\n",
       "      <td>85.461066</td>\n",
       "      <td>87.054621</td>\n",
       "      <td>91.851129</td>\n",
       "      <td>92.173394</td>\n",
       "      <td>91.186276</td>\n",
       "      <td>83.418615</td>\n",
       "      <td>92.256111</td>\n",
       "      <td>91.054589</td>\n",
       "      <td>91.296886</td>\n",
       "      <td>87.232108</td>\n",
       "    </tr>\n",
       "    <tr>\n",
       "      <th>7711</th>\n",
       "      <td>120.159755</td>\n",
       "      <td>116.830472</td>\n",
       "      <td>117.638602</td>\n",
       "      <td>116.768683</td>\n",
       "      <td>116.537692</td>\n",
       "      <td>117.484805</td>\n",
       "      <td>115.939943</td>\n",
       "      <td>118.895632</td>\n",
       "      <td>116.915052</td>\n",
       "      <td>114.922416</td>\n",
       "      <td>...</td>\n",
       "      <td>110.556637</td>\n",
       "      <td>112.810353</td>\n",
       "      <td>115.622523</td>\n",
       "      <td>115.905034</td>\n",
       "      <td>115.783889</td>\n",
       "      <td>111.155273</td>\n",
       "      <td>115.610501</td>\n",
       "      <td>115.385405</td>\n",
       "      <td>115.719550</td>\n",
       "      <td>111.091906</td>\n",
       "    </tr>\n",
       "  </tbody>\n",
       "</table>\n",
       "<p>7712 rows × 1929 columns</p>\n",
       "</div>"
      ],
      "text/plain": [
       "            0           1           2           3           4           5     \\\n",
       "0       5.465819    3.063434    6.120520    1.215571    2.042183    1.515443   \n",
       "1       6.234664    3.486255    6.871261    1.274003    5.930919    1.834408   \n",
       "2       6.316803    3.733498    7.515488    1.471028    6.743273    1.948316   \n",
       "3       6.585389    4.169236    7.611287    1.482657    7.055424    2.380174   \n",
       "4       6.864812    4.318012    7.676110    1.539164    7.311141    2.622992   \n",
       "...          ...         ...         ...         ...         ...         ...   \n",
       "7707   80.338922   75.194374   74.820079   75.398762   75.141938   75.828034   \n",
       "7708   80.582292   75.874683   76.201353   75.984012   75.365956   76.498190   \n",
       "7709   85.610583   80.624788   81.426791   80.106681   79.355877   81.527688   \n",
       "7710   95.580120   91.566371   93.381943   93.038977   91.886781   91.586688   \n",
       "7711  120.159755  116.830472  117.638602  116.768683  116.537692  117.484805   \n",
       "\n",
       "            6           7           8           9     ...        1919  \\\n",
       "0       2.124263    1.025725    4.140815    6.195718  ...    9.535378   \n",
       "1       2.180423    4.632574    4.397817    6.286961  ...   11.123143   \n",
       "2       2.341627    4.793577    4.413711    6.723029  ...   11.550254   \n",
       "3       2.449700    5.243902    5.187092    6.844853  ...   11.834881   \n",
       "4       2.538964    5.825663    5.944842    7.037389  ...   12.291220   \n",
       "...          ...         ...         ...         ...  ...         ...   \n",
       "7707   74.448412   78.920279   73.853882   72.822870  ...   70.320738   \n",
       "7708   74.928930   79.056085   74.998817   73.314832  ...   72.115851   \n",
       "7709   79.109101   83.911801   80.073310   78.203852  ...   72.845865   \n",
       "7710   92.722557   94.148698   88.187959   91.504208  ...   85.461066   \n",
       "7711  115.939943  118.895632  116.915052  114.922416  ...  110.556637   \n",
       "\n",
       "            1920        1921        1922        1923        1924        1925  \\\n",
       "0       6.718344    0.912277    3.417354    1.532195    5.493381    2.651548   \n",
       "1       8.086902    2.671876    4.956988    3.593117    5.741385    3.174836   \n",
       "2       8.196785    3.332332    4.981049    3.793641    6.125422    3.721587   \n",
       "3       9.029393    3.756933    5.153448    4.067074    6.232123    4.140182   \n",
       "4       9.363354    3.890703    5.395340    4.550949    6.623514    4.852862   \n",
       "...          ...         ...         ...         ...         ...         ...   \n",
       "7707   69.638145   73.015037   73.793203   73.584213   70.396721   73.250971   \n",
       "7708   70.937325   73.894682   74.797006   74.512838   73.053279   74.105870   \n",
       "7709   75.089405   78.752501   78.260727   77.933894   73.650932   79.158358   \n",
       "7710   87.054621   91.851129   92.173394   91.186276   83.418615   92.256111   \n",
       "7711  112.810353  115.622523  115.905034  115.783889  111.155273  115.610501   \n",
       "\n",
       "            1926        1927        1928  \n",
       "0       3.937430   10.205494   10.943144  \n",
       "1       4.261122   11.111793   11.040162  \n",
       "2       4.628936   11.131279   11.288966  \n",
       "3       4.668678   11.291831   11.433518  \n",
       "4       4.695897   11.499324   11.473860  \n",
       "...          ...         ...         ...  \n",
       "7707   72.925727   72.262273   70.724559  \n",
       "7708   73.897760   73.987772   72.474029  \n",
       "7709   77.637680   79.799729   73.208492  \n",
       "7710   91.054589   91.296886   87.232108  \n",
       "7711  115.385405  115.719550  111.091906  \n",
       "\n",
       "[7712 rows x 1929 columns]"
      ]
     },
     "execution_count": 73,
     "metadata": {},
     "output_type": "execute_result"
    }
   ],
   "source": [
    "x_ts_AD=pd.DataFrame(neighbors_k_ts)\n",
    "x_ts_AD"
   ]
  },
  {
   "cell_type": "code",
   "execution_count": 74,
   "metadata": {},
   "outputs": [
    {
     "name": "stdout",
     "output_type": "stream",
     "text": [
      "[ 5.466  3.063  6.121 ...  3.937 10.205 10.943]\n"
     ]
    }
   ],
   "source": [
    "similarity_ts= neighbors_k_ts\n",
    "cpd_AD=similarity_ts[0,:]\n",
    "cpd_value = np.round(cpd_AD, 3)\n",
    "print(cpd_value)"
   ]
  },
  {
   "cell_type": "code",
   "execution_count": 75,
   "metadata": {},
   "outputs": [
    {
     "name": "stdout",
     "output_type": "stream",
     "text": [
      "[ True  True  True ...  True False False]\n"
     ]
    }
   ],
   "source": [
    "cpd_AD = np.where(cpd_value <= model_AD_limit, True, False)\n",
    "print(cpd_AD)"
   ]
  },
  {
   "cell_type": "code",
   "execution_count": 76,
   "metadata": {},
   "outputs": [
    {
     "name": "stdout",
     "output_type": "stream",
     "text": [
      "Coverage =  0.78\n"
     ]
    }
   ],
   "source": [
    "print(\"Coverage = \", round(sum(cpd_AD) / len(cpd_AD), 2))"
   ]
  },
  {
   "cell_type": "code",
   "execution_count": 77,
   "metadata": {},
   "outputs": [
    {
     "name": "stdout",
     "output_type": "stream",
     "text": [
      "Indices of substances included in AD =  [   0    1    2 ... 1924 1925 1926]\n"
     ]
    }
   ],
   "source": [
    "print(\"Indices of substances included in AD = \", np.where(cpd_AD != 0)[0])"
   ]
  },
  {
   "cell_type": "code",
   "execution_count": 78,
   "metadata": {},
   "outputs": [],
   "source": [
    "out_Ad=list(np.where(cpd_AD == 0)[0])"
   ]
  },
  {
   "cell_type": "markdown",
   "metadata": {},
   "source": [
    "# 12. Prediction only for molecules included in  AD"
   ]
  },
  {
   "cell_type": "code",
   "execution_count": 79,
   "metadata": {},
   "outputs": [],
   "source": [
    "y_pred_GBR_ad=list(y_pred_GBR)"
   ]
  },
  {
   "cell_type": "code",
   "execution_count": 80,
   "metadata": {},
   "outputs": [],
   "source": [
    "y_pred_GBR_ad[:] = [x for i,x in enumerate(y_pred_GBR_ad) if i not in out_Ad]"
   ]
  },
  {
   "cell_type": "code",
   "execution_count": 81,
   "metadata": {},
   "outputs": [
    {
     "data": {
      "text/plain": [
       "1508"
      ]
     },
     "execution_count": 81,
     "metadata": {},
     "output_type": "execute_result"
    }
   ],
   "source": [
    "len(y_pred_GBR_ad)"
   ]
  },
  {
   "cell_type": "code",
   "execution_count": 82,
   "metadata": {},
   "outputs": [],
   "source": [
    "y_ts_ad=list(y_ts)"
   ]
  },
  {
   "cell_type": "code",
   "execution_count": 83,
   "metadata": {},
   "outputs": [],
   "source": [
    "y_ts_ad[:] = [x for i,x in enumerate(y_ts_ad) if i not in out_Ad]"
   ]
  },
  {
   "cell_type": "code",
   "execution_count": 84,
   "metadata": {},
   "outputs": [
    {
     "data": {
      "text/plain": [
       "1508"
      ]
     },
     "execution_count": 84,
     "metadata": {},
     "output_type": "execute_result"
    }
   ],
   "source": [
    "len(y_ts_ad)"
   ]
  },
  {
   "cell_type": "code",
   "execution_count": 85,
   "metadata": {},
   "outputs": [
    {
     "data": {
      "text/plain": [
       "0.66"
      ]
     },
     "execution_count": 85,
     "metadata": {},
     "output_type": "execute_result"
    }
   ],
   "source": [
    "Q2_TS = round(r2_score(y_ts_ad, y_pred_GBR_ad), 2)\n",
    "Q2_TS"
   ]
  },
  {
   "cell_type": "code",
   "execution_count": 86,
   "metadata": {},
   "outputs": [
    {
     "data": {
      "text/plain": [
       "0.61"
      ]
     },
     "execution_count": 86,
     "metadata": {},
     "output_type": "execute_result"
    }
   ],
   "source": [
    "RMSE_TS=round(np.sqrt(mean_absolute_error(y_ts_ad, y_pred_GBR_ad)), 2)\n",
    "RMSE_TS"
   ]
  },
  {
   "cell_type": "markdown",
   "metadata": {},
   "source": [
    "# SVM model building and validation"
   ]
  },
  {
   "cell_type": "code",
   "execution_count": 87,
   "metadata": {},
   "outputs": [],
   "source": [
    "param_grid = {\"C\": [10 ** i for i in range(0, 5)],\n",
    "              \"gamma\": [10 ** i for i in range(-6, 0)]}"
   ]
  },
  {
   "cell_type": "code",
   "execution_count": 88,
   "metadata": {},
   "outputs": [],
   "source": [
    "seed = 42\n",
    "cv=KFold(n_splits=5, random_state=seed, shuffle=True)"
   ]
  },
  {
   "cell_type": "code",
   "execution_count": 89,
   "metadata": {},
   "outputs": [],
   "source": [
    "svm = GridSearchCV(SVR(C=1.0, epsilon=0.2), param_grid, n_jobs=-1, cv=cv, verbose=1)"
   ]
  },
  {
   "cell_type": "code",
   "execution_count": 90,
   "metadata": {},
   "outputs": [
    {
     "name": "stdout",
     "output_type": "stream",
     "text": [
      "Fitting 5 folds for each of 30 candidates, totalling 150 fits\n"
     ]
    },
    {
     "data": {
      "text/html": [
       "<style>#sk-container-id-3 {color: black;}#sk-container-id-3 pre{padding: 0;}#sk-container-id-3 div.sk-toggleable {background-color: white;}#sk-container-id-3 label.sk-toggleable__label {cursor: pointer;display: block;width: 100%;margin-bottom: 0;padding: 0.3em;box-sizing: border-box;text-align: center;}#sk-container-id-3 label.sk-toggleable__label-arrow:before {content: \"▸\";float: left;margin-right: 0.25em;color: #696969;}#sk-container-id-3 label.sk-toggleable__label-arrow:hover:before {color: black;}#sk-container-id-3 div.sk-estimator:hover label.sk-toggleable__label-arrow:before {color: black;}#sk-container-id-3 div.sk-toggleable__content {max-height: 0;max-width: 0;overflow: hidden;text-align: left;background-color: #f0f8ff;}#sk-container-id-3 div.sk-toggleable__content pre {margin: 0.2em;color: black;border-radius: 0.25em;background-color: #f0f8ff;}#sk-container-id-3 input.sk-toggleable__control:checked~div.sk-toggleable__content {max-height: 200px;max-width: 100%;overflow: auto;}#sk-container-id-3 input.sk-toggleable__control:checked~label.sk-toggleable__label-arrow:before {content: \"▾\";}#sk-container-id-3 div.sk-estimator input.sk-toggleable__control:checked~label.sk-toggleable__label {background-color: #d4ebff;}#sk-container-id-3 div.sk-label input.sk-toggleable__control:checked~label.sk-toggleable__label {background-color: #d4ebff;}#sk-container-id-3 input.sk-hidden--visually {border: 0;clip: rect(1px 1px 1px 1px);clip: rect(1px, 1px, 1px, 1px);height: 1px;margin: -1px;overflow: hidden;padding: 0;position: absolute;width: 1px;}#sk-container-id-3 div.sk-estimator {font-family: monospace;background-color: #f0f8ff;border: 1px dotted black;border-radius: 0.25em;box-sizing: border-box;margin-bottom: 0.5em;}#sk-container-id-3 div.sk-estimator:hover {background-color: #d4ebff;}#sk-container-id-3 div.sk-parallel-item::after {content: \"\";width: 100%;border-bottom: 1px solid gray;flex-grow: 1;}#sk-container-id-3 div.sk-label:hover label.sk-toggleable__label {background-color: #d4ebff;}#sk-container-id-3 div.sk-serial::before {content: \"\";position: absolute;border-left: 1px solid gray;box-sizing: border-box;top: 0;bottom: 0;left: 50%;z-index: 0;}#sk-container-id-3 div.sk-serial {display: flex;flex-direction: column;align-items: center;background-color: white;padding-right: 0.2em;padding-left: 0.2em;position: relative;}#sk-container-id-3 div.sk-item {position: relative;z-index: 1;}#sk-container-id-3 div.sk-parallel {display: flex;align-items: stretch;justify-content: center;background-color: white;position: relative;}#sk-container-id-3 div.sk-item::before, #sk-container-id-3 div.sk-parallel-item::before {content: \"\";position: absolute;border-left: 1px solid gray;box-sizing: border-box;top: 0;bottom: 0;left: 50%;z-index: -1;}#sk-container-id-3 div.sk-parallel-item {display: flex;flex-direction: column;z-index: 1;position: relative;background-color: white;}#sk-container-id-3 div.sk-parallel-item:first-child::after {align-self: flex-end;width: 50%;}#sk-container-id-3 div.sk-parallel-item:last-child::after {align-self: flex-start;width: 50%;}#sk-container-id-3 div.sk-parallel-item:only-child::after {width: 0;}#sk-container-id-3 div.sk-dashed-wrapped {border: 1px dashed gray;margin: 0 0.4em 0.5em 0.4em;box-sizing: border-box;padding-bottom: 0.4em;background-color: white;}#sk-container-id-3 div.sk-label label {font-family: monospace;font-weight: bold;display: inline-block;line-height: 1.2em;}#sk-container-id-3 div.sk-label-container {text-align: center;}#sk-container-id-3 div.sk-container {/* jupyter's `normalize.less` sets `[hidden] { display: none; }` but bootstrap.min.css set `[hidden] { display: none !important; }` so we also need the `!important` here to be able to override the default hidden behavior on the sphinx rendered scikit-learn.org. See: https://github.com/scikit-learn/scikit-learn/issues/21755 */display: inline-block !important;position: relative;}#sk-container-id-3 div.sk-text-repr-fallback {display: none;}</style><div id=\"sk-container-id-3\" class=\"sk-top-container\"><div class=\"sk-text-repr-fallback\"><pre>GridSearchCV(cv=KFold(n_splits=5, random_state=42, shuffle=True),\n",
       "             estimator=SVR(epsilon=0.2), n_jobs=-1,\n",
       "             param_grid={&#x27;C&#x27;: [1, 10, 100, 1000, 10000],\n",
       "                         &#x27;gamma&#x27;: [1e-06, 1e-05, 0.0001, 0.001, 0.01, 0.1]},\n",
       "             verbose=1)</pre><b>In a Jupyter environment, please rerun this cell to show the HTML representation or trust the notebook. <br />On GitHub, the HTML representation is unable to render, please try loading this page with nbviewer.org.</b></div><div class=\"sk-container\" hidden><div class=\"sk-item sk-dashed-wrapped\"><div class=\"sk-label-container\"><div class=\"sk-label sk-toggleable\"><input class=\"sk-toggleable__control sk-hidden--visually\" id=\"sk-estimator-id-7\" type=\"checkbox\" ><label for=\"sk-estimator-id-7\" class=\"sk-toggleable__label sk-toggleable__label-arrow\">GridSearchCV</label><div class=\"sk-toggleable__content\"><pre>GridSearchCV(cv=KFold(n_splits=5, random_state=42, shuffle=True),\n",
       "             estimator=SVR(epsilon=0.2), n_jobs=-1,\n",
       "             param_grid={&#x27;C&#x27;: [1, 10, 100, 1000, 10000],\n",
       "                         &#x27;gamma&#x27;: [1e-06, 1e-05, 0.0001, 0.001, 0.01, 0.1]},\n",
       "             verbose=1)</pre></div></div></div><div class=\"sk-parallel\"><div class=\"sk-parallel-item\"><div class=\"sk-item\"><div class=\"sk-label-container\"><div class=\"sk-label sk-toggleable\"><input class=\"sk-toggleable__control sk-hidden--visually\" id=\"sk-estimator-id-8\" type=\"checkbox\" ><label for=\"sk-estimator-id-8\" class=\"sk-toggleable__label sk-toggleable__label-arrow\">estimator: SVR</label><div class=\"sk-toggleable__content\"><pre>SVR(epsilon=0.2)</pre></div></div></div><div class=\"sk-serial\"><div class=\"sk-item\"><div class=\"sk-estimator sk-toggleable\"><input class=\"sk-toggleable__control sk-hidden--visually\" id=\"sk-estimator-id-9\" type=\"checkbox\" ><label for=\"sk-estimator-id-9\" class=\"sk-toggleable__label sk-toggleable__label-arrow\">SVR</label><div class=\"sk-toggleable__content\"><pre>SVR(epsilon=0.2)</pre></div></div></div></div></div></div></div></div></div></div>"
      ],
      "text/plain": [
       "GridSearchCV(cv=KFold(n_splits=5, random_state=42, shuffle=True),\n",
       "             estimator=SVR(epsilon=0.2), n_jobs=-1,\n",
       "             param_grid={'C': [1, 10, 100, 1000, 10000],\n",
       "                         'gamma': [1e-06, 1e-05, 0.0001, 0.001, 0.01, 0.1]},\n",
       "             verbose=1)"
      ]
     },
     "execution_count": 90,
     "metadata": {},
     "output_type": "execute_result"
    }
   ],
   "source": [
    "svm.fit(x_tr, y_tr)"
   ]
  },
  {
   "cell_type": "code",
   "execution_count": 99,
   "metadata": {},
   "outputs": [],
   "source": [
    "svm.best_params_\n",
    "best_svm = svm.best_estimator_"
   ]
  },
  {
   "cell_type": "code",
   "execution_count": 100,
   "metadata": {},
   "outputs": [
    {
     "data": {
      "text/plain": [
       "{'C': 10, 'gamma': 0.01}"
      ]
     },
     "execution_count": 100,
     "metadata": {},
     "output_type": "execute_result"
    }
   ],
   "source": [
    "svm.best_params_"
   ]
  },
  {
   "cell_type": "code",
   "execution_count": 101,
   "metadata": {},
   "outputs": [],
   "source": [
    "y_pred_ws_svm = best_svm.predict(x_tr)"
   ]
  },
  {
   "cell_type": "code",
   "execution_count": 102,
   "metadata": {},
   "outputs": [
    {
     "data": {
      "text/plain": [
       "0.93"
      ]
     },
     "execution_count": 102,
     "metadata": {},
     "output_type": "execute_result"
    }
   ],
   "source": [
    "R2_WS = round(r2_score(y_tr, y_pred_ws_svm), 2)\n",
    "R2_WS"
   ]
  },
  {
   "cell_type": "code",
   "execution_count": 103,
   "metadata": {},
   "outputs": [
    {
     "data": {
      "text/plain": [
       "0.43"
      ]
     },
     "execution_count": 103,
     "metadata": {},
     "output_type": "execute_result"
    }
   ],
   "source": [
    "RMSE_WS=round(np.sqrt(mean_absolute_error(y_tr, y_pred_ws_svm)), 2)\n",
    "RMSE_WS"
   ]
  },
  {
   "cell_type": "code",
   "execution_count": 104,
   "metadata": {},
   "outputs": [],
   "source": [
    "y_pred_CV_svm = cross_val_predict(best_svm, x_tr, y_tr, cv=cv)"
   ]
  },
  {
   "cell_type": "code",
   "execution_count": 105,
   "metadata": {},
   "outputs": [
    {
     "data": {
      "text/plain": [
       "0.54"
      ]
     },
     "execution_count": 105,
     "metadata": {},
     "output_type": "execute_result"
    }
   ],
   "source": [
    "Q2_CV = round(r2_score(y_tr, y_pred_CV_svm), 2)\n",
    "Q2_CV"
   ]
  },
  {
   "cell_type": "code",
   "execution_count": 106,
   "metadata": {},
   "outputs": [
    {
     "data": {
      "text/plain": [
       "0.66"
      ]
     },
     "execution_count": 106,
     "metadata": {},
     "output_type": "execute_result"
    }
   ],
   "source": [
    "RMSE_CV=round(np.sqrt(mean_absolute_error(y_tr, y_pred_CV_svm)), 2)\n",
    "RMSE_CV"
   ]
  },
  {
   "cell_type": "markdown",
   "metadata": {},
   "source": [
    "# 9. Prediction for test set's molecules"
   ]
  },
  {
   "cell_type": "code",
   "execution_count": 107,
   "metadata": {},
   "outputs": [],
   "source": [
    "x_ts = np.array(x_ts, dtype=np.float32)\n",
    "y_ts = np.array(y_ts, dtype=np.float32)"
   ]
  },
  {
   "cell_type": "code",
   "execution_count": 108,
   "metadata": {},
   "outputs": [],
   "source": [
    "y_pred_svm = best_svm.predict(x_ts)"
   ]
  },
  {
   "cell_type": "code",
   "execution_count": 109,
   "metadata": {},
   "outputs": [
    {
     "data": {
      "text/plain": [
       "0.56"
      ]
     },
     "execution_count": 109,
     "metadata": {},
     "output_type": "execute_result"
    }
   ],
   "source": [
    "Q2_TS = round(r2_score(y_ts, y_pred_svm), 2)\n",
    "Q2_TS"
   ]
  },
  {
   "cell_type": "code",
   "execution_count": 110,
   "metadata": {},
   "outputs": [
    {
     "data": {
      "text/plain": [
       "0.65"
      ]
     },
     "execution_count": 110,
     "metadata": {},
     "output_type": "execute_result"
    }
   ],
   "source": [
    "RMSE_TS=round(np.sqrt(mean_absolute_error(y_ts, y_pred_svm)), 2)\n",
    "RMSE_TS"
   ]
  },
  {
   "cell_type": "markdown",
   "metadata": {},
   "source": [
    "save the model to disk"
   ]
  },
  {
   "cell_type": "code",
   "execution_count": 111,
   "metadata": {},
   "outputs": [],
   "source": [
    "pickle.dump(best_svm, open('models/RDKiT/Toxicity_SVM_RDKiT.pkl', 'wb'))"
   ]
  },
  {
   "cell_type": "markdown",
   "metadata": {},
   "source": [
    "load the model from disk"
   ]
  },
  {
   "cell_type": "code",
   "execution_count": 105,
   "metadata": {},
   "outputs": [],
   "source": [
    "best_svm = pickle.load(open('models/RDKiT/Toxicity_SVM_RDKiT.pkl', 'rb'))"
   ]
  },
  {
   "cell_type": "markdown",
   "metadata": {},
   "source": [
    "# 10. Y-randomization SVM model"
   ]
  },
  {
   "cell_type": "code",
   "execution_count": 112,
   "metadata": {},
   "outputs": [
    {
     "name": "stderr",
     "output_type": "stream",
     "text": [
      "[Parallel(n_jobs=-1)]: Using backend LokyBackend with 16 concurrent workers.\n",
      "[Parallel(n_jobs=-1)]: Done  18 tasks      | elapsed:  7.6min\n"
     ]
    },
    {
     "name": "stdout",
     "output_type": "stream",
     "text": [
      "True score =  0.542 \n",
      "Y-randomization =  -0.31 \n",
      "p-value =  0.0196\n"
     ]
    },
    {
     "name": "stderr",
     "output_type": "stream",
     "text": [
      "[Parallel(n_jobs=-1)]: Done  50 out of  50 | elapsed: 12.2min finished\n"
     ]
    }
   ],
   "source": [
    "permutations = 50\n",
    "score, permutation_scores, pvalue = permutation_test_score(best_svm, x_tr, y_tr,\n",
    "                                                           cv=cv, scoring='r2',\n",
    "                                                           n_permutations=permutations,\n",
    "                                                           n_jobs=-1,\n",
    "                                                           verbose=1,\n",
    "                                                           random_state=seed)\n",
    "print('True score = ', score.round(3),\n",
    "      '\\nY-randomization = ', np.mean(permutation_scores).round(2),\n",
    "      '\\np-value = ', pvalue.round(4))"
   ]
  },
  {
   "cell_type": "markdown",
   "metadata": {},
   "source": [
    "# 11. Estimating applicability domain. Method - Euclidian distances, K=1"
   ]
  },
  {
   "cell_type": "code",
   "execution_count": 113,
   "metadata": {},
   "outputs": [],
   "source": [
    "neighbors_k= pairwise_distances(x_tr, n_jobs=-1)\n",
    "neighbors_k.sort(0)"
   ]
  },
  {
   "cell_type": "code",
   "execution_count": 114,
   "metadata": {},
   "outputs": [
    {
     "data": {
      "text/html": [
       "<div>\n",
       "<style scoped>\n",
       "    .dataframe tbody tr th:only-of-type {\n",
       "        vertical-align: middle;\n",
       "    }\n",
       "\n",
       "    .dataframe tbody tr th {\n",
       "        vertical-align: top;\n",
       "    }\n",
       "\n",
       "    .dataframe thead th {\n",
       "        text-align: right;\n",
       "    }\n",
       "</style>\n",
       "<table border=\"1\" class=\"dataframe\">\n",
       "  <thead>\n",
       "    <tr style=\"text-align: right;\">\n",
       "      <th></th>\n",
       "      <th>0</th>\n",
       "      <th>1</th>\n",
       "      <th>2</th>\n",
       "      <th>3</th>\n",
       "      <th>4</th>\n",
       "      <th>5</th>\n",
       "      <th>6</th>\n",
       "      <th>7</th>\n",
       "      <th>8</th>\n",
       "      <th>9</th>\n",
       "      <th>...</th>\n",
       "      <th>7702</th>\n",
       "      <th>7703</th>\n",
       "      <th>7704</th>\n",
       "      <th>7705</th>\n",
       "      <th>7706</th>\n",
       "      <th>7707</th>\n",
       "      <th>7708</th>\n",
       "      <th>7709</th>\n",
       "      <th>7710</th>\n",
       "      <th>7711</th>\n",
       "    </tr>\n",
       "  </thead>\n",
       "  <tbody>\n",
       "    <tr>\n",
       "      <th>0</th>\n",
       "      <td>0.000000</td>\n",
       "      <td>0.000000</td>\n",
       "      <td>0.000000</td>\n",
       "      <td>0.000000</td>\n",
       "      <td>0.000000</td>\n",
       "      <td>0.000000</td>\n",
       "      <td>0.000000</td>\n",
       "      <td>0.000000</td>\n",
       "      <td>0.000000</td>\n",
       "      <td>0.000000</td>\n",
       "      <td>...</td>\n",
       "      <td>0.000000</td>\n",
       "      <td>0.000000</td>\n",
       "      <td>0.000000</td>\n",
       "      <td>0.000000</td>\n",
       "      <td>0.000000</td>\n",
       "      <td>0.000000</td>\n",
       "      <td>0.000000</td>\n",
       "      <td>0.000000</td>\n",
       "      <td>0.000000</td>\n",
       "      <td>0.000000</td>\n",
       "    </tr>\n",
       "    <tr>\n",
       "      <th>1</th>\n",
       "      <td>2.562488</td>\n",
       "      <td>6.832703</td>\n",
       "      <td>1.448362</td>\n",
       "      <td>4.681631</td>\n",
       "      <td>1.562480</td>\n",
       "      <td>2.661715</td>\n",
       "      <td>3.361996</td>\n",
       "      <td>5.787035</td>\n",
       "      <td>1.376064</td>\n",
       "      <td>3.669759</td>\n",
       "      <td>...</td>\n",
       "      <td>3.628012</td>\n",
       "      <td>2.261819</td>\n",
       "      <td>4.167718</td>\n",
       "      <td>8.600130</td>\n",
       "      <td>0.935955</td>\n",
       "      <td>2.519106</td>\n",
       "      <td>8.945021</td>\n",
       "      <td>13.855372</td>\n",
       "      <td>3.890718</td>\n",
       "      <td>8.905823</td>\n",
       "    </tr>\n",
       "    <tr>\n",
       "      <th>2</th>\n",
       "      <td>3.164496</td>\n",
       "      <td>7.323948</td>\n",
       "      <td>3.623594</td>\n",
       "      <td>4.999512</td>\n",
       "      <td>1.813125</td>\n",
       "      <td>3.018221</td>\n",
       "      <td>4.442691</td>\n",
       "      <td>6.076381</td>\n",
       "      <td>1.439991</td>\n",
       "      <td>4.800105</td>\n",
       "      <td>...</td>\n",
       "      <td>3.890718</td>\n",
       "      <td>3.550948</td>\n",
       "      <td>5.021064</td>\n",
       "      <td>8.694206</td>\n",
       "      <td>6.705638</td>\n",
       "      <td>4.227654</td>\n",
       "      <td>9.911580</td>\n",
       "      <td>13.920907</td>\n",
       "      <td>6.770072</td>\n",
       "      <td>8.913528</td>\n",
       "    </tr>\n",
       "    <tr>\n",
       "      <th>3</th>\n",
       "      <td>3.294469</td>\n",
       "      <td>7.935054</td>\n",
       "      <td>3.805816</td>\n",
       "      <td>5.718753</td>\n",
       "      <td>2.382169</td>\n",
       "      <td>3.436536</td>\n",
       "      <td>5.167877</td>\n",
       "      <td>6.184614</td>\n",
       "      <td>1.474926</td>\n",
       "      <td>5.354136</td>\n",
       "      <td>...</td>\n",
       "      <td>6.002839</td>\n",
       "      <td>3.556891</td>\n",
       "      <td>10.329050</td>\n",
       "      <td>8.869283</td>\n",
       "      <td>9.566367</td>\n",
       "      <td>5.794198</td>\n",
       "      <td>9.965301</td>\n",
       "      <td>13.927616</td>\n",
       "      <td>6.855199</td>\n",
       "      <td>10.449749</td>\n",
       "    </tr>\n",
       "    <tr>\n",
       "      <th>4</th>\n",
       "      <td>3.489494</td>\n",
       "      <td>8.309059</td>\n",
       "      <td>3.841268</td>\n",
       "      <td>6.123028</td>\n",
       "      <td>2.578850</td>\n",
       "      <td>3.915887</td>\n",
       "      <td>5.737502</td>\n",
       "      <td>6.276516</td>\n",
       "      <td>1.600469</td>\n",
       "      <td>6.016169</td>\n",
       "      <td>...</td>\n",
       "      <td>7.384877</td>\n",
       "      <td>3.615280</td>\n",
       "      <td>10.482573</td>\n",
       "      <td>10.078299</td>\n",
       "      <td>9.666793</td>\n",
       "      <td>8.600130</td>\n",
       "      <td>9.999884</td>\n",
       "      <td>14.100402</td>\n",
       "      <td>8.544723</td>\n",
       "      <td>10.476759</td>\n",
       "    </tr>\n",
       "    <tr>\n",
       "      <th>...</th>\n",
       "      <td>...</td>\n",
       "      <td>...</td>\n",
       "      <td>...</td>\n",
       "      <td>...</td>\n",
       "      <td>...</td>\n",
       "      <td>...</td>\n",
       "      <td>...</td>\n",
       "      <td>...</td>\n",
       "      <td>...</td>\n",
       "      <td>...</td>\n",
       "      <td>...</td>\n",
       "      <td>...</td>\n",
       "      <td>...</td>\n",
       "      <td>...</td>\n",
       "      <td>...</td>\n",
       "      <td>...</td>\n",
       "      <td>...</td>\n",
       "      <td>...</td>\n",
       "      <td>...</td>\n",
       "      <td>...</td>\n",
       "      <td>...</td>\n",
       "    </tr>\n",
       "    <tr>\n",
       "      <th>7707</th>\n",
       "      <td>75.133698</td>\n",
       "      <td>73.556090</td>\n",
       "      <td>78.585971</td>\n",
       "      <td>70.308503</td>\n",
       "      <td>76.866400</td>\n",
       "      <td>75.451438</td>\n",
       "      <td>75.169849</td>\n",
       "      <td>73.197261</td>\n",
       "      <td>75.075458</td>\n",
       "      <td>78.594127</td>\n",
       "      <td>...</td>\n",
       "      <td>72.505018</td>\n",
       "      <td>74.706794</td>\n",
       "      <td>68.529534</td>\n",
       "      <td>69.624848</td>\n",
       "      <td>73.921960</td>\n",
       "      <td>69.174428</td>\n",
       "      <td>68.071384</td>\n",
       "      <td>69.826393</td>\n",
       "      <td>72.995622</td>\n",
       "      <td>69.702880</td>\n",
       "    </tr>\n",
       "    <tr>\n",
       "      <th>7708</th>\n",
       "      <td>76.932624</td>\n",
       "      <td>73.610367</td>\n",
       "      <td>78.936545</td>\n",
       "      <td>71.087843</td>\n",
       "      <td>77.549940</td>\n",
       "      <td>76.259993</td>\n",
       "      <td>75.810369</td>\n",
       "      <td>73.289557</td>\n",
       "      <td>75.769468</td>\n",
       "      <td>78.765302</td>\n",
       "      <td>...</td>\n",
       "      <td>74.489957</td>\n",
       "      <td>75.604897</td>\n",
       "      <td>70.805419</td>\n",
       "      <td>72.282074</td>\n",
       "      <td>74.412062</td>\n",
       "      <td>71.555304</td>\n",
       "      <td>70.606372</td>\n",
       "      <td>72.112741</td>\n",
       "      <td>74.837928</td>\n",
       "      <td>72.165241</td>\n",
       "    </tr>\n",
       "    <tr>\n",
       "      <th>7709</th>\n",
       "      <td>80.805735</td>\n",
       "      <td>79.391259</td>\n",
       "      <td>83.519863</td>\n",
       "      <td>74.630181</td>\n",
       "      <td>82.746572</td>\n",
       "      <td>80.567789</td>\n",
       "      <td>80.477897</td>\n",
       "      <td>78.807718</td>\n",
       "      <td>79.772532</td>\n",
       "      <td>82.808969</td>\n",
       "      <td>...</td>\n",
       "      <td>80.806368</td>\n",
       "      <td>79.495811</td>\n",
       "      <td>71.829010</td>\n",
       "      <td>73.575325</td>\n",
       "      <td>78.844489</td>\n",
       "      <td>75.966021</td>\n",
       "      <td>72.914635</td>\n",
       "      <td>72.653164</td>\n",
       "      <td>81.081395</td>\n",
       "      <td>74.516930</td>\n",
       "    </tr>\n",
       "    <tr>\n",
       "      <th>7710</th>\n",
       "      <td>93.912378</td>\n",
       "      <td>91.540413</td>\n",
       "      <td>94.638615</td>\n",
       "      <td>90.564006</td>\n",
       "      <td>91.996302</td>\n",
       "      <td>92.527175</td>\n",
       "      <td>92.713480</td>\n",
       "      <td>90.560569</td>\n",
       "      <td>92.951683</td>\n",
       "      <td>94.317355</td>\n",
       "      <td>...</td>\n",
       "      <td>91.521122</td>\n",
       "      <td>92.183459</td>\n",
       "      <td>86.751036</td>\n",
       "      <td>88.392417</td>\n",
       "      <td>90.246292</td>\n",
       "      <td>90.134937</td>\n",
       "      <td>85.907759</td>\n",
       "      <td>84.817102</td>\n",
       "      <td>91.571177</td>\n",
       "      <td>86.234405</td>\n",
       "    </tr>\n",
       "    <tr>\n",
       "      <th>7711</th>\n",
       "      <td>117.163054</td>\n",
       "      <td>116.153876</td>\n",
       "      <td>118.798210</td>\n",
       "      <td>113.219728</td>\n",
       "      <td>118.272643</td>\n",
       "      <td>117.220635</td>\n",
       "      <td>117.173260</td>\n",
       "      <td>114.869848</td>\n",
       "      <td>116.557888</td>\n",
       "      <td>118.875259</td>\n",
       "      <td>...</td>\n",
       "      <td>116.075244</td>\n",
       "      <td>116.503558</td>\n",
       "      <td>111.744476</td>\n",
       "      <td>111.646627</td>\n",
       "      <td>115.846457</td>\n",
       "      <td>112.504260</td>\n",
       "      <td>112.002183</td>\n",
       "      <td>111.941761</td>\n",
       "      <td>116.446000</td>\n",
       "      <td>112.082900</td>\n",
       "    </tr>\n",
       "  </tbody>\n",
       "</table>\n",
       "<p>7712 rows × 7712 columns</p>\n",
       "</div>"
      ],
      "text/plain": [
       "            0           1           2           3           4           5     \\\n",
       "0       0.000000    0.000000    0.000000    0.000000    0.000000    0.000000   \n",
       "1       2.562488    6.832703    1.448362    4.681631    1.562480    2.661715   \n",
       "2       3.164496    7.323948    3.623594    4.999512    1.813125    3.018221   \n",
       "3       3.294469    7.935054    3.805816    5.718753    2.382169    3.436536   \n",
       "4       3.489494    8.309059    3.841268    6.123028    2.578850    3.915887   \n",
       "...          ...         ...         ...         ...         ...         ...   \n",
       "7707   75.133698   73.556090   78.585971   70.308503   76.866400   75.451438   \n",
       "7708   76.932624   73.610367   78.936545   71.087843   77.549940   76.259993   \n",
       "7709   80.805735   79.391259   83.519863   74.630181   82.746572   80.567789   \n",
       "7710   93.912378   91.540413   94.638615   90.564006   91.996302   92.527175   \n",
       "7711  117.163054  116.153876  118.798210  113.219728  118.272643  117.220635   \n",
       "\n",
       "            6           7           8           9     ...        7702  \\\n",
       "0       0.000000    0.000000    0.000000    0.000000  ...    0.000000   \n",
       "1       3.361996    5.787035    1.376064    3.669759  ...    3.628012   \n",
       "2       4.442691    6.076381    1.439991    4.800105  ...    3.890718   \n",
       "3       5.167877    6.184614    1.474926    5.354136  ...    6.002839   \n",
       "4       5.737502    6.276516    1.600469    6.016169  ...    7.384877   \n",
       "...          ...         ...         ...         ...  ...         ...   \n",
       "7707   75.169849   73.197261   75.075458   78.594127  ...   72.505018   \n",
       "7708   75.810369   73.289557   75.769468   78.765302  ...   74.489957   \n",
       "7709   80.477897   78.807718   79.772532   82.808969  ...   80.806368   \n",
       "7710   92.713480   90.560569   92.951683   94.317355  ...   91.521122   \n",
       "7711  117.173260  114.869848  116.557888  118.875259  ...  116.075244   \n",
       "\n",
       "            7703        7704        7705        7706        7707        7708  \\\n",
       "0       0.000000    0.000000    0.000000    0.000000    0.000000    0.000000   \n",
       "1       2.261819    4.167718    8.600130    0.935955    2.519106    8.945021   \n",
       "2       3.550948    5.021064    8.694206    6.705638    4.227654    9.911580   \n",
       "3       3.556891   10.329050    8.869283    9.566367    5.794198    9.965301   \n",
       "4       3.615280   10.482573   10.078299    9.666793    8.600130    9.999884   \n",
       "...          ...         ...         ...         ...         ...         ...   \n",
       "7707   74.706794   68.529534   69.624848   73.921960   69.174428   68.071384   \n",
       "7708   75.604897   70.805419   72.282074   74.412062   71.555304   70.606372   \n",
       "7709   79.495811   71.829010   73.575325   78.844489   75.966021   72.914635   \n",
       "7710   92.183459   86.751036   88.392417   90.246292   90.134937   85.907759   \n",
       "7711  116.503558  111.744476  111.646627  115.846457  112.504260  112.002183   \n",
       "\n",
       "            7709        7710        7711  \n",
       "0       0.000000    0.000000    0.000000  \n",
       "1      13.855372    3.890718    8.905823  \n",
       "2      13.920907    6.770072    8.913528  \n",
       "3      13.927616    6.855199   10.449749  \n",
       "4      14.100402    8.544723   10.476759  \n",
       "...          ...         ...         ...  \n",
       "7707   69.826393   72.995622   69.702880  \n",
       "7708   72.112741   74.837928   72.165241  \n",
       "7709   72.653164   81.081395   74.516930  \n",
       "7710   84.817102   91.571177   86.234405  \n",
       "7711  111.941761  116.446000  112.082900  \n",
       "\n",
       "[7712 rows x 7712 columns]"
      ]
     },
     "execution_count": 114,
     "metadata": {},
     "output_type": "execute_result"
    }
   ],
   "source": [
    "df_tr=pd.DataFrame(neighbors_k)\n",
    "df_tr"
   ]
  },
  {
   "cell_type": "code",
   "execution_count": 115,
   "metadata": {},
   "outputs": [],
   "source": [
    "similarity= neighbors_k"
   ]
  },
  {
   "cell_type": "code",
   "execution_count": 116,
   "metadata": {},
   "outputs": [],
   "source": [
    "Dmean=np.mean(similarity[1,:])"
   ]
  },
  {
   "cell_type": "code",
   "execution_count": 117,
   "metadata": {},
   "outputs": [
    {
     "data": {
      "text/plain": [
       "4.84"
      ]
     },
     "execution_count": 117,
     "metadata": {},
     "output_type": "execute_result"
    }
   ],
   "source": [
    "round(Dmean, 2)"
   ]
  },
  {
   "cell_type": "code",
   "execution_count": 118,
   "metadata": {},
   "outputs": [],
   "source": [
    "std=np.std(similarity[1,:])"
   ]
  },
  {
   "cell_type": "code",
   "execution_count": 119,
   "metadata": {},
   "outputs": [
    {
     "data": {
      "text/plain": [
       "3.48"
      ]
     },
     "execution_count": 119,
     "metadata": {},
     "output_type": "execute_result"
    }
   ],
   "source": [
    "round(std, 2)"
   ]
  },
  {
   "cell_type": "code",
   "execution_count": 120,
   "metadata": {},
   "outputs": [
    {
     "name": "stdout",
     "output_type": "stream",
     "text": [
      "6.57\n"
     ]
    }
   ],
   "source": [
    "model_AD_limit=Dmean+std*0.5\n",
    "print(np.round(model_AD_limit, 2))"
   ]
  },
  {
   "cell_type": "code",
   "execution_count": 121,
   "metadata": {},
   "outputs": [],
   "source": [
    "neighbors_k_ts= pairwise_distances(x_tr,Y=x_ts, n_jobs=-1)\n",
    "neighbors_k_ts.sort(0)"
   ]
  },
  {
   "cell_type": "code",
   "execution_count": 122,
   "metadata": {},
   "outputs": [
    {
     "data": {
      "text/html": [
       "<div>\n",
       "<style scoped>\n",
       "    .dataframe tbody tr th:only-of-type {\n",
       "        vertical-align: middle;\n",
       "    }\n",
       "\n",
       "    .dataframe tbody tr th {\n",
       "        vertical-align: top;\n",
       "    }\n",
       "\n",
       "    .dataframe thead th {\n",
       "        text-align: right;\n",
       "    }\n",
       "</style>\n",
       "<table border=\"1\" class=\"dataframe\">\n",
       "  <thead>\n",
       "    <tr style=\"text-align: right;\">\n",
       "      <th></th>\n",
       "      <th>0</th>\n",
       "      <th>1</th>\n",
       "      <th>2</th>\n",
       "      <th>3</th>\n",
       "      <th>4</th>\n",
       "      <th>5</th>\n",
       "      <th>6</th>\n",
       "      <th>7</th>\n",
       "      <th>8</th>\n",
       "      <th>9</th>\n",
       "      <th>...</th>\n",
       "      <th>1919</th>\n",
       "      <th>1920</th>\n",
       "      <th>1921</th>\n",
       "      <th>1922</th>\n",
       "      <th>1923</th>\n",
       "      <th>1924</th>\n",
       "      <th>1925</th>\n",
       "      <th>1926</th>\n",
       "      <th>1927</th>\n",
       "      <th>1928</th>\n",
       "    </tr>\n",
       "  </thead>\n",
       "  <tbody>\n",
       "    <tr>\n",
       "      <th>0</th>\n",
       "      <td>5.465819</td>\n",
       "      <td>3.063434</td>\n",
       "      <td>6.120520</td>\n",
       "      <td>1.215571</td>\n",
       "      <td>2.042183</td>\n",
       "      <td>1.515443</td>\n",
       "      <td>2.124263</td>\n",
       "      <td>1.025725</td>\n",
       "      <td>4.140815</td>\n",
       "      <td>6.195718</td>\n",
       "      <td>...</td>\n",
       "      <td>9.535378</td>\n",
       "      <td>6.718344</td>\n",
       "      <td>0.912277</td>\n",
       "      <td>3.417354</td>\n",
       "      <td>1.532195</td>\n",
       "      <td>5.493381</td>\n",
       "      <td>2.651548</td>\n",
       "      <td>3.937430</td>\n",
       "      <td>10.205494</td>\n",
       "      <td>10.943144</td>\n",
       "    </tr>\n",
       "    <tr>\n",
       "      <th>1</th>\n",
       "      <td>6.234664</td>\n",
       "      <td>3.486255</td>\n",
       "      <td>6.871261</td>\n",
       "      <td>1.274003</td>\n",
       "      <td>5.930919</td>\n",
       "      <td>1.834408</td>\n",
       "      <td>2.180423</td>\n",
       "      <td>4.632574</td>\n",
       "      <td>4.397817</td>\n",
       "      <td>6.286961</td>\n",
       "      <td>...</td>\n",
       "      <td>11.123143</td>\n",
       "      <td>8.086902</td>\n",
       "      <td>2.671876</td>\n",
       "      <td>4.956988</td>\n",
       "      <td>3.593117</td>\n",
       "      <td>5.741385</td>\n",
       "      <td>3.174836</td>\n",
       "      <td>4.261122</td>\n",
       "      <td>11.111793</td>\n",
       "      <td>11.040162</td>\n",
       "    </tr>\n",
       "    <tr>\n",
       "      <th>2</th>\n",
       "      <td>6.316803</td>\n",
       "      <td>3.733498</td>\n",
       "      <td>7.515488</td>\n",
       "      <td>1.471028</td>\n",
       "      <td>6.743273</td>\n",
       "      <td>1.948316</td>\n",
       "      <td>2.341627</td>\n",
       "      <td>4.793577</td>\n",
       "      <td>4.413711</td>\n",
       "      <td>6.723029</td>\n",
       "      <td>...</td>\n",
       "      <td>11.550254</td>\n",
       "      <td>8.196785</td>\n",
       "      <td>3.332332</td>\n",
       "      <td>4.981049</td>\n",
       "      <td>3.793641</td>\n",
       "      <td>6.125422</td>\n",
       "      <td>3.721587</td>\n",
       "      <td>4.628936</td>\n",
       "      <td>11.131279</td>\n",
       "      <td>11.288966</td>\n",
       "    </tr>\n",
       "    <tr>\n",
       "      <th>3</th>\n",
       "      <td>6.585389</td>\n",
       "      <td>4.169236</td>\n",
       "      <td>7.611287</td>\n",
       "      <td>1.482657</td>\n",
       "      <td>7.055424</td>\n",
       "      <td>2.380174</td>\n",
       "      <td>2.449700</td>\n",
       "      <td>5.243902</td>\n",
       "      <td>5.187092</td>\n",
       "      <td>6.844853</td>\n",
       "      <td>...</td>\n",
       "      <td>11.834881</td>\n",
       "      <td>9.029393</td>\n",
       "      <td>3.756933</td>\n",
       "      <td>5.153448</td>\n",
       "      <td>4.067074</td>\n",
       "      <td>6.232123</td>\n",
       "      <td>4.140182</td>\n",
       "      <td>4.668678</td>\n",
       "      <td>11.291831</td>\n",
       "      <td>11.433518</td>\n",
       "    </tr>\n",
       "    <tr>\n",
       "      <th>4</th>\n",
       "      <td>6.864812</td>\n",
       "      <td>4.318012</td>\n",
       "      <td>7.676110</td>\n",
       "      <td>1.539164</td>\n",
       "      <td>7.311141</td>\n",
       "      <td>2.622992</td>\n",
       "      <td>2.538964</td>\n",
       "      <td>5.825663</td>\n",
       "      <td>5.944842</td>\n",
       "      <td>7.037389</td>\n",
       "      <td>...</td>\n",
       "      <td>12.291220</td>\n",
       "      <td>9.363354</td>\n",
       "      <td>3.890703</td>\n",
       "      <td>5.395340</td>\n",
       "      <td>4.550949</td>\n",
       "      <td>6.623514</td>\n",
       "      <td>4.852862</td>\n",
       "      <td>4.695897</td>\n",
       "      <td>11.499324</td>\n",
       "      <td>11.473860</td>\n",
       "    </tr>\n",
       "    <tr>\n",
       "      <th>...</th>\n",
       "      <td>...</td>\n",
       "      <td>...</td>\n",
       "      <td>...</td>\n",
       "      <td>...</td>\n",
       "      <td>...</td>\n",
       "      <td>...</td>\n",
       "      <td>...</td>\n",
       "      <td>...</td>\n",
       "      <td>...</td>\n",
       "      <td>...</td>\n",
       "      <td>...</td>\n",
       "      <td>...</td>\n",
       "      <td>...</td>\n",
       "      <td>...</td>\n",
       "      <td>...</td>\n",
       "      <td>...</td>\n",
       "      <td>...</td>\n",
       "      <td>...</td>\n",
       "      <td>...</td>\n",
       "      <td>...</td>\n",
       "      <td>...</td>\n",
       "    </tr>\n",
       "    <tr>\n",
       "      <th>7707</th>\n",
       "      <td>80.338922</td>\n",
       "      <td>75.194374</td>\n",
       "      <td>74.820079</td>\n",
       "      <td>75.398762</td>\n",
       "      <td>75.141938</td>\n",
       "      <td>75.828034</td>\n",
       "      <td>74.448412</td>\n",
       "      <td>78.920279</td>\n",
       "      <td>73.853882</td>\n",
       "      <td>72.822870</td>\n",
       "      <td>...</td>\n",
       "      <td>70.320738</td>\n",
       "      <td>69.638145</td>\n",
       "      <td>73.015037</td>\n",
       "      <td>73.793203</td>\n",
       "      <td>73.584213</td>\n",
       "      <td>70.396721</td>\n",
       "      <td>73.250971</td>\n",
       "      <td>72.925727</td>\n",
       "      <td>72.262273</td>\n",
       "      <td>70.724559</td>\n",
       "    </tr>\n",
       "    <tr>\n",
       "      <th>7708</th>\n",
       "      <td>80.582292</td>\n",
       "      <td>75.874683</td>\n",
       "      <td>76.201353</td>\n",
       "      <td>75.984012</td>\n",
       "      <td>75.365956</td>\n",
       "      <td>76.498190</td>\n",
       "      <td>74.928930</td>\n",
       "      <td>79.056085</td>\n",
       "      <td>74.998817</td>\n",
       "      <td>73.314832</td>\n",
       "      <td>...</td>\n",
       "      <td>72.115851</td>\n",
       "      <td>70.937325</td>\n",
       "      <td>73.894682</td>\n",
       "      <td>74.797006</td>\n",
       "      <td>74.512838</td>\n",
       "      <td>73.053279</td>\n",
       "      <td>74.105870</td>\n",
       "      <td>73.897760</td>\n",
       "      <td>73.987772</td>\n",
       "      <td>72.474029</td>\n",
       "    </tr>\n",
       "    <tr>\n",
       "      <th>7709</th>\n",
       "      <td>85.610583</td>\n",
       "      <td>80.624788</td>\n",
       "      <td>81.426791</td>\n",
       "      <td>80.106681</td>\n",
       "      <td>79.355877</td>\n",
       "      <td>81.527688</td>\n",
       "      <td>79.109101</td>\n",
       "      <td>83.911801</td>\n",
       "      <td>80.073310</td>\n",
       "      <td>78.203852</td>\n",
       "      <td>...</td>\n",
       "      <td>72.845865</td>\n",
       "      <td>75.089405</td>\n",
       "      <td>78.752501</td>\n",
       "      <td>78.260727</td>\n",
       "      <td>77.933894</td>\n",
       "      <td>73.650932</td>\n",
       "      <td>79.158358</td>\n",
       "      <td>77.637680</td>\n",
       "      <td>79.799729</td>\n",
       "      <td>73.208492</td>\n",
       "    </tr>\n",
       "    <tr>\n",
       "      <th>7710</th>\n",
       "      <td>95.580120</td>\n",
       "      <td>91.566371</td>\n",
       "      <td>93.381943</td>\n",
       "      <td>93.038977</td>\n",
       "      <td>91.886781</td>\n",
       "      <td>91.586688</td>\n",
       "      <td>92.722557</td>\n",
       "      <td>94.148698</td>\n",
       "      <td>88.187959</td>\n",
       "      <td>91.504208</td>\n",
       "      <td>...</td>\n",
       "      <td>85.461066</td>\n",
       "      <td>87.054621</td>\n",
       "      <td>91.851129</td>\n",
       "      <td>92.173394</td>\n",
       "      <td>91.186276</td>\n",
       "      <td>83.418615</td>\n",
       "      <td>92.256111</td>\n",
       "      <td>91.054589</td>\n",
       "      <td>91.296886</td>\n",
       "      <td>87.232108</td>\n",
       "    </tr>\n",
       "    <tr>\n",
       "      <th>7711</th>\n",
       "      <td>120.159755</td>\n",
       "      <td>116.830472</td>\n",
       "      <td>117.638602</td>\n",
       "      <td>116.768683</td>\n",
       "      <td>116.537692</td>\n",
       "      <td>117.484805</td>\n",
       "      <td>115.939943</td>\n",
       "      <td>118.895632</td>\n",
       "      <td>116.915052</td>\n",
       "      <td>114.922416</td>\n",
       "      <td>...</td>\n",
       "      <td>110.556637</td>\n",
       "      <td>112.810353</td>\n",
       "      <td>115.622523</td>\n",
       "      <td>115.905034</td>\n",
       "      <td>115.783889</td>\n",
       "      <td>111.155273</td>\n",
       "      <td>115.610501</td>\n",
       "      <td>115.385405</td>\n",
       "      <td>115.719550</td>\n",
       "      <td>111.091906</td>\n",
       "    </tr>\n",
       "  </tbody>\n",
       "</table>\n",
       "<p>7712 rows × 1929 columns</p>\n",
       "</div>"
      ],
      "text/plain": [
       "            0           1           2           3           4           5     \\\n",
       "0       5.465819    3.063434    6.120520    1.215571    2.042183    1.515443   \n",
       "1       6.234664    3.486255    6.871261    1.274003    5.930919    1.834408   \n",
       "2       6.316803    3.733498    7.515488    1.471028    6.743273    1.948316   \n",
       "3       6.585389    4.169236    7.611287    1.482657    7.055424    2.380174   \n",
       "4       6.864812    4.318012    7.676110    1.539164    7.311141    2.622992   \n",
       "...          ...         ...         ...         ...         ...         ...   \n",
       "7707   80.338922   75.194374   74.820079   75.398762   75.141938   75.828034   \n",
       "7708   80.582292   75.874683   76.201353   75.984012   75.365956   76.498190   \n",
       "7709   85.610583   80.624788   81.426791   80.106681   79.355877   81.527688   \n",
       "7710   95.580120   91.566371   93.381943   93.038977   91.886781   91.586688   \n",
       "7711  120.159755  116.830472  117.638602  116.768683  116.537692  117.484805   \n",
       "\n",
       "            6           7           8           9     ...        1919  \\\n",
       "0       2.124263    1.025725    4.140815    6.195718  ...    9.535378   \n",
       "1       2.180423    4.632574    4.397817    6.286961  ...   11.123143   \n",
       "2       2.341627    4.793577    4.413711    6.723029  ...   11.550254   \n",
       "3       2.449700    5.243902    5.187092    6.844853  ...   11.834881   \n",
       "4       2.538964    5.825663    5.944842    7.037389  ...   12.291220   \n",
       "...          ...         ...         ...         ...  ...         ...   \n",
       "7707   74.448412   78.920279   73.853882   72.822870  ...   70.320738   \n",
       "7708   74.928930   79.056085   74.998817   73.314832  ...   72.115851   \n",
       "7709   79.109101   83.911801   80.073310   78.203852  ...   72.845865   \n",
       "7710   92.722557   94.148698   88.187959   91.504208  ...   85.461066   \n",
       "7711  115.939943  118.895632  116.915052  114.922416  ...  110.556637   \n",
       "\n",
       "            1920        1921        1922        1923        1924        1925  \\\n",
       "0       6.718344    0.912277    3.417354    1.532195    5.493381    2.651548   \n",
       "1       8.086902    2.671876    4.956988    3.593117    5.741385    3.174836   \n",
       "2       8.196785    3.332332    4.981049    3.793641    6.125422    3.721587   \n",
       "3       9.029393    3.756933    5.153448    4.067074    6.232123    4.140182   \n",
       "4       9.363354    3.890703    5.395340    4.550949    6.623514    4.852862   \n",
       "...          ...         ...         ...         ...         ...         ...   \n",
       "7707   69.638145   73.015037   73.793203   73.584213   70.396721   73.250971   \n",
       "7708   70.937325   73.894682   74.797006   74.512838   73.053279   74.105870   \n",
       "7709   75.089405   78.752501   78.260727   77.933894   73.650932   79.158358   \n",
       "7710   87.054621   91.851129   92.173394   91.186276   83.418615   92.256111   \n",
       "7711  112.810353  115.622523  115.905034  115.783889  111.155273  115.610501   \n",
       "\n",
       "            1926        1927        1928  \n",
       "0       3.937430   10.205494   10.943144  \n",
       "1       4.261122   11.111793   11.040162  \n",
       "2       4.628936   11.131279   11.288966  \n",
       "3       4.668678   11.291831   11.433518  \n",
       "4       4.695897   11.499324   11.473860  \n",
       "...          ...         ...         ...  \n",
       "7707   72.925727   72.262273   70.724559  \n",
       "7708   73.897760   73.987772   72.474029  \n",
       "7709   77.637680   79.799729   73.208492  \n",
       "7710   91.054589   91.296886   87.232108  \n",
       "7711  115.385405  115.719550  111.091906  \n",
       "\n",
       "[7712 rows x 1929 columns]"
      ]
     },
     "execution_count": 122,
     "metadata": {},
     "output_type": "execute_result"
    }
   ],
   "source": [
    "x_ts_AD=pd.DataFrame(neighbors_k_ts)\n",
    "x_ts_AD"
   ]
  },
  {
   "cell_type": "code",
   "execution_count": 123,
   "metadata": {},
   "outputs": [
    {
     "name": "stdout",
     "output_type": "stream",
     "text": [
      "[ 5.466  3.063  6.121 ...  3.937 10.205 10.943]\n"
     ]
    }
   ],
   "source": [
    "similarity_ts= neighbors_k_ts\n",
    "cpd_AD=similarity_ts[0,:]\n",
    "cpd_value = np.round(cpd_AD, 3)\n",
    "print(cpd_value)"
   ]
  },
  {
   "cell_type": "code",
   "execution_count": 124,
   "metadata": {},
   "outputs": [
    {
     "name": "stdout",
     "output_type": "stream",
     "text": [
      "[ True  True  True ...  True False False]\n"
     ]
    }
   ],
   "source": [
    "cpd_AD = np.where(cpd_value <= model_AD_limit, True, False)\n",
    "print(cpd_AD)"
   ]
  },
  {
   "cell_type": "code",
   "execution_count": 125,
   "metadata": {},
   "outputs": [
    {
     "name": "stdout",
     "output_type": "stream",
     "text": [
      "Coverage =  0.78\n"
     ]
    }
   ],
   "source": [
    "print(\"Coverage = \", round(sum(cpd_AD) / len(cpd_AD), 2))"
   ]
  },
  {
   "cell_type": "code",
   "execution_count": 126,
   "metadata": {},
   "outputs": [
    {
     "name": "stdout",
     "output_type": "stream",
     "text": [
      "Indices of substances included in AD =  [   0    1    2 ... 1924 1925 1926]\n"
     ]
    }
   ],
   "source": [
    "print(\"Indices of substances included in AD = \", np.where(cpd_AD != 0)[0])"
   ]
  },
  {
   "cell_type": "code",
   "execution_count": 127,
   "metadata": {},
   "outputs": [],
   "source": [
    "out_Ad=list(np.where(cpd_AD == 0)[0])"
   ]
  },
  {
   "cell_type": "markdown",
   "metadata": {},
   "source": [
    "# 12. Prediction only for molecules included in  AD"
   ]
  },
  {
   "cell_type": "code",
   "execution_count": 128,
   "metadata": {},
   "outputs": [],
   "source": [
    "y_pred_svm_ad=list(y_pred_svm)"
   ]
  },
  {
   "cell_type": "code",
   "execution_count": 129,
   "metadata": {},
   "outputs": [],
   "source": [
    "y_pred_svm_ad[:] = [x for i,x in enumerate(y_pred_svm_ad) if i not in out_Ad]"
   ]
  },
  {
   "cell_type": "code",
   "execution_count": 130,
   "metadata": {},
   "outputs": [
    {
     "data": {
      "text/plain": [
       "1508"
      ]
     },
     "execution_count": 130,
     "metadata": {},
     "output_type": "execute_result"
    }
   ],
   "source": [
    "len(y_pred_svm_ad)"
   ]
  },
  {
   "cell_type": "code",
   "execution_count": 131,
   "metadata": {},
   "outputs": [],
   "source": [
    "y_ts_ad=list(y_ts)"
   ]
  },
  {
   "cell_type": "code",
   "execution_count": 132,
   "metadata": {},
   "outputs": [],
   "source": [
    "y_ts_ad[:] = [x for i,x in enumerate(y_ts_ad) if i not in out_Ad]"
   ]
  },
  {
   "cell_type": "code",
   "execution_count": 133,
   "metadata": {},
   "outputs": [
    {
     "data": {
      "text/plain": [
       "1508"
      ]
     },
     "execution_count": 133,
     "metadata": {},
     "output_type": "execute_result"
    }
   ],
   "source": [
    "len(y_ts_ad)"
   ]
  },
  {
   "cell_type": "code",
   "execution_count": 134,
   "metadata": {},
   "outputs": [
    {
     "data": {
      "text/plain": [
       "0.65"
      ]
     },
     "execution_count": 134,
     "metadata": {},
     "output_type": "execute_result"
    }
   ],
   "source": [
    "Q2_TS = round(r2_score(y_ts_ad, y_pred_svm_ad), 2)\n",
    "Q2_TS"
   ]
  },
  {
   "cell_type": "code",
   "execution_count": 135,
   "metadata": {},
   "outputs": [
    {
     "data": {
      "text/plain": [
       "0.62"
      ]
     },
     "execution_count": 135,
     "metadata": {},
     "output_type": "execute_result"
    }
   ],
   "source": [
    "RMSE_TS=round(np.sqrt(mean_absolute_error(y_ts_ad, y_pred_svm_ad)), 2)\n",
    "RMSE_TS"
   ]
  },
  {
   "cell_type": "markdown",
   "metadata": {},
   "source": [
    "# Multi-layer Perceptron regressor"
   ]
  },
  {
   "cell_type": "code",
   "execution_count": 142,
   "metadata": {},
   "outputs": [],
   "source": [
    "from sklearn.neural_network import MLPRegressor"
   ]
  },
  {
   "cell_type": "code",
   "execution_count": 143,
   "metadata": {},
   "outputs": [],
   "source": [
    "seed = 42\n",
    "cv=KFold(n_splits=5, random_state=seed, shuffle=True)"
   ]
  },
  {
   "cell_type": "code",
   "execution_count": 125,
   "metadata": {},
   "outputs": [],
   "source": [
    "param_grid ={\"hidden_layer_sizes\": [(400, 300, 200, 100),(100, 100, 100), (10, 10, 10),(50,)], \"activation\": [\"tanh\", \"relu\"], \"solver\": [\"lbfgs\", \"sgd\", \"adam\"], \"alpha\": [0.00005,0.0005], 'max_iter': [1000, 2000]}"
   ]
  },
  {
   "cell_type": "code",
   "execution_count": 144,
   "metadata": {},
   "outputs": [],
   "source": [
    "param_grid ={\"hidden_layer_sizes\": [(400, 300, 200, 100)], \"activation\": [\"relu\"], \"solver\": [\"adam\"], \"alpha\": [0.0005], 'max_iter': [2000]}"
   ]
  },
  {
   "cell_type": "code",
   "execution_count": 147,
   "metadata": {},
   "outputs": [],
   "source": [
    "m = GridSearchCV(MLPRegressor(), param_grid, n_jobs=-1, cv=cv, verbose=1)"
   ]
  },
  {
   "cell_type": "code",
   "execution_count": 148,
   "metadata": {},
   "outputs": [
    {
     "name": "stdout",
     "output_type": "stream",
     "text": [
      "Fitting 5 folds for each of 1 candidates, totalling 5 fits\n"
     ]
    },
    {
     "data": {
      "text/html": [
       "<style>#sk-container-id-5 {color: black;}#sk-container-id-5 pre{padding: 0;}#sk-container-id-5 div.sk-toggleable {background-color: white;}#sk-container-id-5 label.sk-toggleable__label {cursor: pointer;display: block;width: 100%;margin-bottom: 0;padding: 0.3em;box-sizing: border-box;text-align: center;}#sk-container-id-5 label.sk-toggleable__label-arrow:before {content: \"▸\";float: left;margin-right: 0.25em;color: #696969;}#sk-container-id-5 label.sk-toggleable__label-arrow:hover:before {color: black;}#sk-container-id-5 div.sk-estimator:hover label.sk-toggleable__label-arrow:before {color: black;}#sk-container-id-5 div.sk-toggleable__content {max-height: 0;max-width: 0;overflow: hidden;text-align: left;background-color: #f0f8ff;}#sk-container-id-5 div.sk-toggleable__content pre {margin: 0.2em;color: black;border-radius: 0.25em;background-color: #f0f8ff;}#sk-container-id-5 input.sk-toggleable__control:checked~div.sk-toggleable__content {max-height: 200px;max-width: 100%;overflow: auto;}#sk-container-id-5 input.sk-toggleable__control:checked~label.sk-toggleable__label-arrow:before {content: \"▾\";}#sk-container-id-5 div.sk-estimator input.sk-toggleable__control:checked~label.sk-toggleable__label {background-color: #d4ebff;}#sk-container-id-5 div.sk-label input.sk-toggleable__control:checked~label.sk-toggleable__label {background-color: #d4ebff;}#sk-container-id-5 input.sk-hidden--visually {border: 0;clip: rect(1px 1px 1px 1px);clip: rect(1px, 1px, 1px, 1px);height: 1px;margin: -1px;overflow: hidden;padding: 0;position: absolute;width: 1px;}#sk-container-id-5 div.sk-estimator {font-family: monospace;background-color: #f0f8ff;border: 1px dotted black;border-radius: 0.25em;box-sizing: border-box;margin-bottom: 0.5em;}#sk-container-id-5 div.sk-estimator:hover {background-color: #d4ebff;}#sk-container-id-5 div.sk-parallel-item::after {content: \"\";width: 100%;border-bottom: 1px solid gray;flex-grow: 1;}#sk-container-id-5 div.sk-label:hover label.sk-toggleable__label {background-color: #d4ebff;}#sk-container-id-5 div.sk-serial::before {content: \"\";position: absolute;border-left: 1px solid gray;box-sizing: border-box;top: 0;bottom: 0;left: 50%;z-index: 0;}#sk-container-id-5 div.sk-serial {display: flex;flex-direction: column;align-items: center;background-color: white;padding-right: 0.2em;padding-left: 0.2em;position: relative;}#sk-container-id-5 div.sk-item {position: relative;z-index: 1;}#sk-container-id-5 div.sk-parallel {display: flex;align-items: stretch;justify-content: center;background-color: white;position: relative;}#sk-container-id-5 div.sk-item::before, #sk-container-id-5 div.sk-parallel-item::before {content: \"\";position: absolute;border-left: 1px solid gray;box-sizing: border-box;top: 0;bottom: 0;left: 50%;z-index: -1;}#sk-container-id-5 div.sk-parallel-item {display: flex;flex-direction: column;z-index: 1;position: relative;background-color: white;}#sk-container-id-5 div.sk-parallel-item:first-child::after {align-self: flex-end;width: 50%;}#sk-container-id-5 div.sk-parallel-item:last-child::after {align-self: flex-start;width: 50%;}#sk-container-id-5 div.sk-parallel-item:only-child::after {width: 0;}#sk-container-id-5 div.sk-dashed-wrapped {border: 1px dashed gray;margin: 0 0.4em 0.5em 0.4em;box-sizing: border-box;padding-bottom: 0.4em;background-color: white;}#sk-container-id-5 div.sk-label label {font-family: monospace;font-weight: bold;display: inline-block;line-height: 1.2em;}#sk-container-id-5 div.sk-label-container {text-align: center;}#sk-container-id-5 div.sk-container {/* jupyter's `normalize.less` sets `[hidden] { display: none; }` but bootstrap.min.css set `[hidden] { display: none !important; }` so we also need the `!important` here to be able to override the default hidden behavior on the sphinx rendered scikit-learn.org. See: https://github.com/scikit-learn/scikit-learn/issues/21755 */display: inline-block !important;position: relative;}#sk-container-id-5 div.sk-text-repr-fallback {display: none;}</style><div id=\"sk-container-id-5\" class=\"sk-top-container\"><div class=\"sk-text-repr-fallback\"><pre>GridSearchCV(cv=KFold(n_splits=5, random_state=42, shuffle=True),\n",
       "             estimator=MLPRegressor(), n_jobs=-1,\n",
       "             param_grid={&#x27;activation&#x27;: [&#x27;relu&#x27;], &#x27;alpha&#x27;: [0.0005],\n",
       "                         &#x27;hidden_layer_sizes&#x27;: [(400, 300, 200, 100)],\n",
       "                         &#x27;max_iter&#x27;: [2000], &#x27;solver&#x27;: [&#x27;adam&#x27;]},\n",
       "             verbose=1)</pre><b>In a Jupyter environment, please rerun this cell to show the HTML representation or trust the notebook. <br />On GitHub, the HTML representation is unable to render, please try loading this page with nbviewer.org.</b></div><div class=\"sk-container\" hidden><div class=\"sk-item sk-dashed-wrapped\"><div class=\"sk-label-container\"><div class=\"sk-label sk-toggleable\"><input class=\"sk-toggleable__control sk-hidden--visually\" id=\"sk-estimator-id-13\" type=\"checkbox\" ><label for=\"sk-estimator-id-13\" class=\"sk-toggleable__label sk-toggleable__label-arrow\">GridSearchCV</label><div class=\"sk-toggleable__content\"><pre>GridSearchCV(cv=KFold(n_splits=5, random_state=42, shuffle=True),\n",
       "             estimator=MLPRegressor(), n_jobs=-1,\n",
       "             param_grid={&#x27;activation&#x27;: [&#x27;relu&#x27;], &#x27;alpha&#x27;: [0.0005],\n",
       "                         &#x27;hidden_layer_sizes&#x27;: [(400, 300, 200, 100)],\n",
       "                         &#x27;max_iter&#x27;: [2000], &#x27;solver&#x27;: [&#x27;adam&#x27;]},\n",
       "             verbose=1)</pre></div></div></div><div class=\"sk-parallel\"><div class=\"sk-parallel-item\"><div class=\"sk-item\"><div class=\"sk-label-container\"><div class=\"sk-label sk-toggleable\"><input class=\"sk-toggleable__control sk-hidden--visually\" id=\"sk-estimator-id-14\" type=\"checkbox\" ><label for=\"sk-estimator-id-14\" class=\"sk-toggleable__label sk-toggleable__label-arrow\">estimator: MLPRegressor</label><div class=\"sk-toggleable__content\"><pre>MLPRegressor()</pre></div></div></div><div class=\"sk-serial\"><div class=\"sk-item\"><div class=\"sk-estimator sk-toggleable\"><input class=\"sk-toggleable__control sk-hidden--visually\" id=\"sk-estimator-id-15\" type=\"checkbox\" ><label for=\"sk-estimator-id-15\" class=\"sk-toggleable__label sk-toggleable__label-arrow\">MLPRegressor</label><div class=\"sk-toggleable__content\"><pre>MLPRegressor()</pre></div></div></div></div></div></div></div></div></div></div>"
      ],
      "text/plain": [
       "GridSearchCV(cv=KFold(n_splits=5, random_state=42, shuffle=True),\n",
       "             estimator=MLPRegressor(), n_jobs=-1,\n",
       "             param_grid={'activation': ['relu'], 'alpha': [0.0005],\n",
       "                         'hidden_layer_sizes': [(400, 300, 200, 100)],\n",
       "                         'max_iter': [2000], 'solver': ['adam']},\n",
       "             verbose=1)"
      ]
     },
     "execution_count": 148,
     "metadata": {},
     "output_type": "execute_result"
    }
   ],
   "source": [
    "m.fit(x_tr, y_tr)"
   ]
  },
  {
   "cell_type": "code",
   "execution_count": null,
   "metadata": {},
   "outputs": [],
   "source": []
  },
  {
   "cell_type": "code",
   "execution_count": null,
   "metadata": {},
   "outputs": [],
   "source": []
  },
  {
   "cell_type": "code",
   "execution_count": 127,
   "metadata": {},
   "outputs": [
    {
     "name": "stdout",
     "output_type": "stream",
     "text": [
      "Fitting 5 folds for each of 96 candidates, totalling 480 fits\n"
     ]
    },
    {
     "data": {
      "text/html": [
       "<style>#sk-container-id-3 {color: black;}#sk-container-id-3 pre{padding: 0;}#sk-container-id-3 div.sk-toggleable {background-color: white;}#sk-container-id-3 label.sk-toggleable__label {cursor: pointer;display: block;width: 100%;margin-bottom: 0;padding: 0.3em;box-sizing: border-box;text-align: center;}#sk-container-id-3 label.sk-toggleable__label-arrow:before {content: \"▸\";float: left;margin-right: 0.25em;color: #696969;}#sk-container-id-3 label.sk-toggleable__label-arrow:hover:before {color: black;}#sk-container-id-3 div.sk-estimator:hover label.sk-toggleable__label-arrow:before {color: black;}#sk-container-id-3 div.sk-toggleable__content {max-height: 0;max-width: 0;overflow: hidden;text-align: left;background-color: #f0f8ff;}#sk-container-id-3 div.sk-toggleable__content pre {margin: 0.2em;color: black;border-radius: 0.25em;background-color: #f0f8ff;}#sk-container-id-3 input.sk-toggleable__control:checked~div.sk-toggleable__content {max-height: 200px;max-width: 100%;overflow: auto;}#sk-container-id-3 input.sk-toggleable__control:checked~label.sk-toggleable__label-arrow:before {content: \"▾\";}#sk-container-id-3 div.sk-estimator input.sk-toggleable__control:checked~label.sk-toggleable__label {background-color: #d4ebff;}#sk-container-id-3 div.sk-label input.sk-toggleable__control:checked~label.sk-toggleable__label {background-color: #d4ebff;}#sk-container-id-3 input.sk-hidden--visually {border: 0;clip: rect(1px 1px 1px 1px);clip: rect(1px, 1px, 1px, 1px);height: 1px;margin: -1px;overflow: hidden;padding: 0;position: absolute;width: 1px;}#sk-container-id-3 div.sk-estimator {font-family: monospace;background-color: #f0f8ff;border: 1px dotted black;border-radius: 0.25em;box-sizing: border-box;margin-bottom: 0.5em;}#sk-container-id-3 div.sk-estimator:hover {background-color: #d4ebff;}#sk-container-id-3 div.sk-parallel-item::after {content: \"\";width: 100%;border-bottom: 1px solid gray;flex-grow: 1;}#sk-container-id-3 div.sk-label:hover label.sk-toggleable__label {background-color: #d4ebff;}#sk-container-id-3 div.sk-serial::before {content: \"\";position: absolute;border-left: 1px solid gray;box-sizing: border-box;top: 0;bottom: 0;left: 50%;z-index: 0;}#sk-container-id-3 div.sk-serial {display: flex;flex-direction: column;align-items: center;background-color: white;padding-right: 0.2em;padding-left: 0.2em;position: relative;}#sk-container-id-3 div.sk-item {position: relative;z-index: 1;}#sk-container-id-3 div.sk-parallel {display: flex;align-items: stretch;justify-content: center;background-color: white;position: relative;}#sk-container-id-3 div.sk-item::before, #sk-container-id-3 div.sk-parallel-item::before {content: \"\";position: absolute;border-left: 1px solid gray;box-sizing: border-box;top: 0;bottom: 0;left: 50%;z-index: -1;}#sk-container-id-3 div.sk-parallel-item {display: flex;flex-direction: column;z-index: 1;position: relative;background-color: white;}#sk-container-id-3 div.sk-parallel-item:first-child::after {align-self: flex-end;width: 50%;}#sk-container-id-3 div.sk-parallel-item:last-child::after {align-self: flex-start;width: 50%;}#sk-container-id-3 div.sk-parallel-item:only-child::after {width: 0;}#sk-container-id-3 div.sk-dashed-wrapped {border: 1px dashed gray;margin: 0 0.4em 0.5em 0.4em;box-sizing: border-box;padding-bottom: 0.4em;background-color: white;}#sk-container-id-3 div.sk-label label {font-family: monospace;font-weight: bold;display: inline-block;line-height: 1.2em;}#sk-container-id-3 div.sk-label-container {text-align: center;}#sk-container-id-3 div.sk-container {/* jupyter's `normalize.less` sets `[hidden] { display: none; }` but bootstrap.min.css set `[hidden] { display: none !important; }` so we also need the `!important` here to be able to override the default hidden behavior on the sphinx rendered scikit-learn.org. See: https://github.com/scikit-learn/scikit-learn/issues/21755 */display: inline-block !important;position: relative;}#sk-container-id-3 div.sk-text-repr-fallback {display: none;}</style><div id=\"sk-container-id-3\" class=\"sk-top-container\"><div class=\"sk-text-repr-fallback\"><pre>GridSearchCV(cv=KFold(n_splits=5, random_state=42, shuffle=True),\n",
       "             estimator=MLPRegressor(), n_jobs=-1,\n",
       "             param_grid={&#x27;activation&#x27;: [&#x27;tanh&#x27;, &#x27;relu&#x27;],\n",
       "                         &#x27;alpha&#x27;: [5e-05, 0.0005],\n",
       "                         &#x27;hidden_layer_sizes&#x27;: [(400, 300, 200, 100),\n",
       "                                                (100, 100, 100), (10, 10, 10),\n",
       "                                                (50,)],\n",
       "                         &#x27;max_iter&#x27;: [1000, 2000],\n",
       "                         &#x27;solver&#x27;: [&#x27;lbfgs&#x27;, &#x27;sgd&#x27;, &#x27;adam&#x27;]},\n",
       "             verbose=1)</pre><b>In a Jupyter environment, please rerun this cell to show the HTML representation or trust the notebook. <br />On GitHub, the HTML representation is unable to render, please try loading this page with nbviewer.org.</b></div><div class=\"sk-container\" hidden><div class=\"sk-item sk-dashed-wrapped\"><div class=\"sk-label-container\"><div class=\"sk-label sk-toggleable\"><input class=\"sk-toggleable__control sk-hidden--visually\" id=\"sk-estimator-id-7\" type=\"checkbox\" ><label for=\"sk-estimator-id-7\" class=\"sk-toggleable__label sk-toggleable__label-arrow\">GridSearchCV</label><div class=\"sk-toggleable__content\"><pre>GridSearchCV(cv=KFold(n_splits=5, random_state=42, shuffle=True),\n",
       "             estimator=MLPRegressor(), n_jobs=-1,\n",
       "             param_grid={&#x27;activation&#x27;: [&#x27;tanh&#x27;, &#x27;relu&#x27;],\n",
       "                         &#x27;alpha&#x27;: [5e-05, 0.0005],\n",
       "                         &#x27;hidden_layer_sizes&#x27;: [(400, 300, 200, 100),\n",
       "                                                (100, 100, 100), (10, 10, 10),\n",
       "                                                (50,)],\n",
       "                         &#x27;max_iter&#x27;: [1000, 2000],\n",
       "                         &#x27;solver&#x27;: [&#x27;lbfgs&#x27;, &#x27;sgd&#x27;, &#x27;adam&#x27;]},\n",
       "             verbose=1)</pre></div></div></div><div class=\"sk-parallel\"><div class=\"sk-parallel-item\"><div class=\"sk-item\"><div class=\"sk-label-container\"><div class=\"sk-label sk-toggleable\"><input class=\"sk-toggleable__control sk-hidden--visually\" id=\"sk-estimator-id-8\" type=\"checkbox\" ><label for=\"sk-estimator-id-8\" class=\"sk-toggleable__label sk-toggleable__label-arrow\">estimator: MLPRegressor</label><div class=\"sk-toggleable__content\"><pre>MLPRegressor()</pre></div></div></div><div class=\"sk-serial\"><div class=\"sk-item\"><div class=\"sk-estimator sk-toggleable\"><input class=\"sk-toggleable__control sk-hidden--visually\" id=\"sk-estimator-id-9\" type=\"checkbox\" ><label for=\"sk-estimator-id-9\" class=\"sk-toggleable__label sk-toggleable__label-arrow\">MLPRegressor</label><div class=\"sk-toggleable__content\"><pre>MLPRegressor()</pre></div></div></div></div></div></div></div></div></div></div>"
      ],
      "text/plain": [
       "GridSearchCV(cv=KFold(n_splits=5, random_state=42, shuffle=True),\n",
       "             estimator=MLPRegressor(), n_jobs=-1,\n",
       "             param_grid={'activation': ['tanh', 'relu'],\n",
       "                         'alpha': [5e-05, 0.0005],\n",
       "                         'hidden_layer_sizes': [(400, 300, 200, 100),\n",
       "                                                (100, 100, 100), (10, 10, 10),\n",
       "                                                (50,)],\n",
       "                         'max_iter': [1000, 2000],\n",
       "                         'solver': ['lbfgs', 'sgd', 'adam']},\n",
       "             verbose=1)"
      ]
     },
     "execution_count": 127,
     "metadata": {},
     "output_type": "execute_result"
    }
   ],
   "source": [
    "m.fit(x_tr, y_tr)"
   ]
  },
  {
   "cell_type": "code",
   "execution_count": 149,
   "metadata": {},
   "outputs": [],
   "source": [
    "best_MLPR = m.best_estimator_"
   ]
  },
  {
   "cell_type": "code",
   "execution_count": 150,
   "metadata": {},
   "outputs": [
    {
     "data": {
      "text/plain": [
       "{'activation': 'relu',\n",
       " 'alpha': 0.0005,\n",
       " 'hidden_layer_sizes': (400, 300, 200, 100),\n",
       " 'max_iter': 2000,\n",
       " 'solver': 'adam'}"
      ]
     },
     "execution_count": 150,
     "metadata": {},
     "output_type": "execute_result"
    }
   ],
   "source": [
    "m.best_params_"
   ]
  },
  {
   "cell_type": "code",
   "execution_count": 151,
   "metadata": {},
   "outputs": [],
   "source": [
    "y_pred_ws_MLPR = best_MLPR.predict(x_tr)"
   ]
  },
  {
   "cell_type": "code",
   "execution_count": 152,
   "metadata": {},
   "outputs": [
    {
     "data": {
      "text/plain": [
       "0.98"
      ]
     },
     "execution_count": 152,
     "metadata": {},
     "output_type": "execute_result"
    }
   ],
   "source": [
    "R2_WS = round(r2_score(y_tr, y_pred_ws_MLPR), 2)\n",
    "R2_WS"
   ]
  },
  {
   "cell_type": "code",
   "execution_count": 153,
   "metadata": {},
   "outputs": [
    {
     "data": {
      "text/plain": [
       "0.31"
      ]
     },
     "execution_count": 153,
     "metadata": {},
     "output_type": "execute_result"
    }
   ],
   "source": [
    "RMSE_WS=round(np.sqrt(mean_absolute_error(y_tr, y_pred_ws_MLPR)), 2)\n",
    "RMSE_WS"
   ]
  },
  {
   "cell_type": "code",
   "execution_count": 154,
   "metadata": {},
   "outputs": [],
   "source": [
    "y_pred_CV_MLPR = cross_val_predict(best_MLPR, x_tr, y_tr, cv=cv)"
   ]
  },
  {
   "cell_type": "code",
   "execution_count": 155,
   "metadata": {},
   "outputs": [
    {
     "data": {
      "text/plain": [
       "0.49"
      ]
     },
     "execution_count": 155,
     "metadata": {},
     "output_type": "execute_result"
    }
   ],
   "source": [
    "Q2_CV = round(r2_score(y_tr, y_pred_CV_MLPR), 2)\n",
    "Q2_CV"
   ]
  },
  {
   "cell_type": "code",
   "execution_count": 156,
   "metadata": {},
   "outputs": [
    {
     "data": {
      "text/plain": [
       "0.67"
      ]
     },
     "execution_count": 156,
     "metadata": {},
     "output_type": "execute_result"
    }
   ],
   "source": [
    "RMSE_CV=round(np.sqrt(mean_absolute_error(y_tr, y_pred_CV_MLPR)), 2)\n",
    "RMSE_CV"
   ]
  },
  {
   "cell_type": "markdown",
   "metadata": {},
   "source": [
    "# 9. Prediction for test set's molecules"
   ]
  },
  {
   "cell_type": "code",
   "execution_count": 157,
   "metadata": {},
   "outputs": [],
   "source": [
    "x_ts = np.array(x_ts, dtype=np.float32)\n",
    "y_ts = np.array(y_ts, dtype=np.float32)"
   ]
  },
  {
   "cell_type": "code",
   "execution_count": 158,
   "metadata": {},
   "outputs": [],
   "source": [
    "y_pred_MLPR = best_MLPR.predict(x_ts)"
   ]
  },
  {
   "cell_type": "code",
   "execution_count": 159,
   "metadata": {},
   "outputs": [
    {
     "data": {
      "text/plain": [
       "-496534072162325.75"
      ]
     },
     "execution_count": 159,
     "metadata": {},
     "output_type": "execute_result"
    }
   ],
   "source": [
    "Q2_TS = round(r2_score(y_ts, y_pred_MLPR), 2)\n",
    "Q2_TS"
   ]
  },
  {
   "cell_type": "code",
   "execution_count": 160,
   "metadata": {},
   "outputs": [
    {
     "data": {
      "text/plain": [
       "676.44"
      ]
     },
     "execution_count": 160,
     "metadata": {},
     "output_type": "execute_result"
    }
   ],
   "source": [
    "RMSE_TS=round(np.sqrt(mean_absolute_error(y_ts, y_pred_MLPR)), 2)\n",
    "RMSE_TS"
   ]
  },
  {
   "cell_type": "markdown",
   "metadata": {},
   "source": [
    "# save the model to disk"
   ]
  },
  {
   "cell_type": "code",
   "execution_count": 161,
   "metadata": {},
   "outputs": [],
   "source": [
    "pickle.dump(best_MLPR, open('models/RDKiT/Toxicity_MLPR_RDKiT.pkl', 'wb'))"
   ]
  },
  {
   "cell_type": "markdown",
   "metadata": {},
   "source": [
    "# load the model from disk"
   ]
  },
  {
   "cell_type": "code",
   "execution_count": 232,
   "metadata": {},
   "outputs": [],
   "source": [
    "best_MLPR = pickle.load(open('models/RDKiT/Toxicity_MLPR_RDKiT.pkl', 'rb'))"
   ]
  },
  {
   "cell_type": "markdown",
   "metadata": {},
   "source": [
    "# 10. Y-randomization MLPR"
   ]
  },
  {
   "cell_type": "code",
   "execution_count": 142,
   "metadata": {},
   "outputs": [
    {
     "name": "stderr",
     "output_type": "stream",
     "text": [
      "[Parallel(n_jobs=-1)]: Using backend LokyBackend with 16 concurrent workers.\n",
      "[Parallel(n_jobs=-1)]: Done  18 tasks      | elapsed: 22.9min\n"
     ]
    },
    {
     "name": "stdout",
     "output_type": "stream",
     "text": [
      "True score =  0.49 \n",
      "Y-randomization =  -0.54 \n",
      "p-value =  0.0196\n"
     ]
    },
    {
     "name": "stderr",
     "output_type": "stream",
     "text": [
      "[Parallel(n_jobs=-1)]: Done  50 out of  50 | elapsed: 38.1min finished\n"
     ]
    }
   ],
   "source": [
    "permutations = 50\n",
    "score, permutation_scores, pvalue = permutation_test_score(best_MLPR, x_tr, y_tr,\n",
    "                                                           cv=cv, scoring='r2',\n",
    "                                                           n_permutations=permutations,\n",
    "                                                           n_jobs=-1,\n",
    "                                                           verbose=1,\n",
    "                                                           random_state=seed)\n",
    "print('True score = ', score.round(2),\n",
    "      '\\nY-randomization = ', np.mean(permutation_scores).round(2),\n",
    "      '\\np-value = ', pvalue.round(4))"
   ]
  },
  {
   "cell_type": "markdown",
   "metadata": {},
   "source": [
    "# 11. Estimating applicability domain. Method - Euclidian distances, K=1"
   ]
  },
  {
   "cell_type": "code",
   "execution_count": 162,
   "metadata": {},
   "outputs": [],
   "source": [
    "neighbors_k= pairwise_distances(x_tr, n_jobs=-1)\n",
    "neighbors_k.sort(0)"
   ]
  },
  {
   "cell_type": "code",
   "execution_count": 163,
   "metadata": {},
   "outputs": [
    {
     "data": {
      "text/html": [
       "<div>\n",
       "<style scoped>\n",
       "    .dataframe tbody tr th:only-of-type {\n",
       "        vertical-align: middle;\n",
       "    }\n",
       "\n",
       "    .dataframe tbody tr th {\n",
       "        vertical-align: top;\n",
       "    }\n",
       "\n",
       "    .dataframe thead th {\n",
       "        text-align: right;\n",
       "    }\n",
       "</style>\n",
       "<table border=\"1\" class=\"dataframe\">\n",
       "  <thead>\n",
       "    <tr style=\"text-align: right;\">\n",
       "      <th></th>\n",
       "      <th>0</th>\n",
       "      <th>1</th>\n",
       "      <th>2</th>\n",
       "      <th>3</th>\n",
       "      <th>4</th>\n",
       "      <th>5</th>\n",
       "      <th>6</th>\n",
       "      <th>7</th>\n",
       "      <th>8</th>\n",
       "      <th>9</th>\n",
       "      <th>...</th>\n",
       "      <th>7702</th>\n",
       "      <th>7703</th>\n",
       "      <th>7704</th>\n",
       "      <th>7705</th>\n",
       "      <th>7706</th>\n",
       "      <th>7707</th>\n",
       "      <th>7708</th>\n",
       "      <th>7709</th>\n",
       "      <th>7710</th>\n",
       "      <th>7711</th>\n",
       "    </tr>\n",
       "  </thead>\n",
       "  <tbody>\n",
       "    <tr>\n",
       "      <th>0</th>\n",
       "      <td>0.000000</td>\n",
       "      <td>0.000000</td>\n",
       "      <td>0.000000</td>\n",
       "      <td>0.000000</td>\n",
       "      <td>0.000000</td>\n",
       "      <td>0.000000</td>\n",
       "      <td>0.000000</td>\n",
       "      <td>0.000000</td>\n",
       "      <td>0.000000</td>\n",
       "      <td>0.000000</td>\n",
       "      <td>...</td>\n",
       "      <td>0.000000</td>\n",
       "      <td>0.000000</td>\n",
       "      <td>0.000000</td>\n",
       "      <td>0.000000</td>\n",
       "      <td>0.000000</td>\n",
       "      <td>0.000000</td>\n",
       "      <td>0.000000</td>\n",
       "      <td>0.000000</td>\n",
       "      <td>0.000000</td>\n",
       "      <td>0.000000</td>\n",
       "    </tr>\n",
       "    <tr>\n",
       "      <th>1</th>\n",
       "      <td>2.562488</td>\n",
       "      <td>6.832703</td>\n",
       "      <td>1.448362</td>\n",
       "      <td>4.681631</td>\n",
       "      <td>1.562480</td>\n",
       "      <td>2.661715</td>\n",
       "      <td>3.361996</td>\n",
       "      <td>5.787035</td>\n",
       "      <td>1.376064</td>\n",
       "      <td>3.669759</td>\n",
       "      <td>...</td>\n",
       "      <td>3.628012</td>\n",
       "      <td>2.261819</td>\n",
       "      <td>4.167718</td>\n",
       "      <td>8.600130</td>\n",
       "      <td>0.935955</td>\n",
       "      <td>2.519106</td>\n",
       "      <td>8.945021</td>\n",
       "      <td>13.855372</td>\n",
       "      <td>3.890718</td>\n",
       "      <td>8.905823</td>\n",
       "    </tr>\n",
       "    <tr>\n",
       "      <th>2</th>\n",
       "      <td>3.164496</td>\n",
       "      <td>7.323948</td>\n",
       "      <td>3.623594</td>\n",
       "      <td>4.999512</td>\n",
       "      <td>1.813125</td>\n",
       "      <td>3.018221</td>\n",
       "      <td>4.442691</td>\n",
       "      <td>6.076381</td>\n",
       "      <td>1.439991</td>\n",
       "      <td>4.800105</td>\n",
       "      <td>...</td>\n",
       "      <td>3.890718</td>\n",
       "      <td>3.550948</td>\n",
       "      <td>5.021064</td>\n",
       "      <td>8.694206</td>\n",
       "      <td>6.705638</td>\n",
       "      <td>4.227654</td>\n",
       "      <td>9.911580</td>\n",
       "      <td>13.920907</td>\n",
       "      <td>6.770072</td>\n",
       "      <td>8.913528</td>\n",
       "    </tr>\n",
       "    <tr>\n",
       "      <th>3</th>\n",
       "      <td>3.294469</td>\n",
       "      <td>7.935054</td>\n",
       "      <td>3.805816</td>\n",
       "      <td>5.718753</td>\n",
       "      <td>2.382169</td>\n",
       "      <td>3.436536</td>\n",
       "      <td>5.167877</td>\n",
       "      <td>6.184614</td>\n",
       "      <td>1.474926</td>\n",
       "      <td>5.354136</td>\n",
       "      <td>...</td>\n",
       "      <td>6.002839</td>\n",
       "      <td>3.556891</td>\n",
       "      <td>10.329050</td>\n",
       "      <td>8.869283</td>\n",
       "      <td>9.566367</td>\n",
       "      <td>5.794198</td>\n",
       "      <td>9.965301</td>\n",
       "      <td>13.927616</td>\n",
       "      <td>6.855199</td>\n",
       "      <td>10.449749</td>\n",
       "    </tr>\n",
       "    <tr>\n",
       "      <th>4</th>\n",
       "      <td>3.489494</td>\n",
       "      <td>8.309059</td>\n",
       "      <td>3.841268</td>\n",
       "      <td>6.123028</td>\n",
       "      <td>2.578850</td>\n",
       "      <td>3.915887</td>\n",
       "      <td>5.737502</td>\n",
       "      <td>6.276516</td>\n",
       "      <td>1.600469</td>\n",
       "      <td>6.016169</td>\n",
       "      <td>...</td>\n",
       "      <td>7.384877</td>\n",
       "      <td>3.615280</td>\n",
       "      <td>10.482573</td>\n",
       "      <td>10.078299</td>\n",
       "      <td>9.666793</td>\n",
       "      <td>8.600130</td>\n",
       "      <td>9.999884</td>\n",
       "      <td>14.100402</td>\n",
       "      <td>8.544723</td>\n",
       "      <td>10.476759</td>\n",
       "    </tr>\n",
       "    <tr>\n",
       "      <th>...</th>\n",
       "      <td>...</td>\n",
       "      <td>...</td>\n",
       "      <td>...</td>\n",
       "      <td>...</td>\n",
       "      <td>...</td>\n",
       "      <td>...</td>\n",
       "      <td>...</td>\n",
       "      <td>...</td>\n",
       "      <td>...</td>\n",
       "      <td>...</td>\n",
       "      <td>...</td>\n",
       "      <td>...</td>\n",
       "      <td>...</td>\n",
       "      <td>...</td>\n",
       "      <td>...</td>\n",
       "      <td>...</td>\n",
       "      <td>...</td>\n",
       "      <td>...</td>\n",
       "      <td>...</td>\n",
       "      <td>...</td>\n",
       "      <td>...</td>\n",
       "    </tr>\n",
       "    <tr>\n",
       "      <th>7707</th>\n",
       "      <td>75.133698</td>\n",
       "      <td>73.556090</td>\n",
       "      <td>78.585971</td>\n",
       "      <td>70.308503</td>\n",
       "      <td>76.866400</td>\n",
       "      <td>75.451438</td>\n",
       "      <td>75.169849</td>\n",
       "      <td>73.197261</td>\n",
       "      <td>75.075458</td>\n",
       "      <td>78.594127</td>\n",
       "      <td>...</td>\n",
       "      <td>72.505018</td>\n",
       "      <td>74.706794</td>\n",
       "      <td>68.529534</td>\n",
       "      <td>69.624848</td>\n",
       "      <td>73.921960</td>\n",
       "      <td>69.174428</td>\n",
       "      <td>68.071384</td>\n",
       "      <td>69.826393</td>\n",
       "      <td>72.995622</td>\n",
       "      <td>69.702880</td>\n",
       "    </tr>\n",
       "    <tr>\n",
       "      <th>7708</th>\n",
       "      <td>76.932624</td>\n",
       "      <td>73.610367</td>\n",
       "      <td>78.936545</td>\n",
       "      <td>71.087843</td>\n",
       "      <td>77.549940</td>\n",
       "      <td>76.259993</td>\n",
       "      <td>75.810369</td>\n",
       "      <td>73.289557</td>\n",
       "      <td>75.769468</td>\n",
       "      <td>78.765302</td>\n",
       "      <td>...</td>\n",
       "      <td>74.489957</td>\n",
       "      <td>75.604897</td>\n",
       "      <td>70.805419</td>\n",
       "      <td>72.282074</td>\n",
       "      <td>74.412062</td>\n",
       "      <td>71.555304</td>\n",
       "      <td>70.606372</td>\n",
       "      <td>72.112741</td>\n",
       "      <td>74.837928</td>\n",
       "      <td>72.165241</td>\n",
       "    </tr>\n",
       "    <tr>\n",
       "      <th>7709</th>\n",
       "      <td>80.805735</td>\n",
       "      <td>79.391259</td>\n",
       "      <td>83.519863</td>\n",
       "      <td>74.630181</td>\n",
       "      <td>82.746572</td>\n",
       "      <td>80.567789</td>\n",
       "      <td>80.477897</td>\n",
       "      <td>78.807718</td>\n",
       "      <td>79.772532</td>\n",
       "      <td>82.808969</td>\n",
       "      <td>...</td>\n",
       "      <td>80.806368</td>\n",
       "      <td>79.495811</td>\n",
       "      <td>71.829010</td>\n",
       "      <td>73.575325</td>\n",
       "      <td>78.844489</td>\n",
       "      <td>75.966021</td>\n",
       "      <td>72.914635</td>\n",
       "      <td>72.653164</td>\n",
       "      <td>81.081395</td>\n",
       "      <td>74.516930</td>\n",
       "    </tr>\n",
       "    <tr>\n",
       "      <th>7710</th>\n",
       "      <td>93.912378</td>\n",
       "      <td>91.540413</td>\n",
       "      <td>94.638615</td>\n",
       "      <td>90.564006</td>\n",
       "      <td>91.996302</td>\n",
       "      <td>92.527175</td>\n",
       "      <td>92.713480</td>\n",
       "      <td>90.560569</td>\n",
       "      <td>92.951683</td>\n",
       "      <td>94.317355</td>\n",
       "      <td>...</td>\n",
       "      <td>91.521122</td>\n",
       "      <td>92.183459</td>\n",
       "      <td>86.751036</td>\n",
       "      <td>88.392417</td>\n",
       "      <td>90.246292</td>\n",
       "      <td>90.134937</td>\n",
       "      <td>85.907759</td>\n",
       "      <td>84.817102</td>\n",
       "      <td>91.571177</td>\n",
       "      <td>86.234405</td>\n",
       "    </tr>\n",
       "    <tr>\n",
       "      <th>7711</th>\n",
       "      <td>117.163054</td>\n",
       "      <td>116.153876</td>\n",
       "      <td>118.798210</td>\n",
       "      <td>113.219728</td>\n",
       "      <td>118.272643</td>\n",
       "      <td>117.220635</td>\n",
       "      <td>117.173260</td>\n",
       "      <td>114.869848</td>\n",
       "      <td>116.557888</td>\n",
       "      <td>118.875259</td>\n",
       "      <td>...</td>\n",
       "      <td>116.075244</td>\n",
       "      <td>116.503558</td>\n",
       "      <td>111.744476</td>\n",
       "      <td>111.646627</td>\n",
       "      <td>115.846457</td>\n",
       "      <td>112.504260</td>\n",
       "      <td>112.002183</td>\n",
       "      <td>111.941761</td>\n",
       "      <td>116.446000</td>\n",
       "      <td>112.082900</td>\n",
       "    </tr>\n",
       "  </tbody>\n",
       "</table>\n",
       "<p>7712 rows × 7712 columns</p>\n",
       "</div>"
      ],
      "text/plain": [
       "            0           1           2           3           4           5     \\\n",
       "0       0.000000    0.000000    0.000000    0.000000    0.000000    0.000000   \n",
       "1       2.562488    6.832703    1.448362    4.681631    1.562480    2.661715   \n",
       "2       3.164496    7.323948    3.623594    4.999512    1.813125    3.018221   \n",
       "3       3.294469    7.935054    3.805816    5.718753    2.382169    3.436536   \n",
       "4       3.489494    8.309059    3.841268    6.123028    2.578850    3.915887   \n",
       "...          ...         ...         ...         ...         ...         ...   \n",
       "7707   75.133698   73.556090   78.585971   70.308503   76.866400   75.451438   \n",
       "7708   76.932624   73.610367   78.936545   71.087843   77.549940   76.259993   \n",
       "7709   80.805735   79.391259   83.519863   74.630181   82.746572   80.567789   \n",
       "7710   93.912378   91.540413   94.638615   90.564006   91.996302   92.527175   \n",
       "7711  117.163054  116.153876  118.798210  113.219728  118.272643  117.220635   \n",
       "\n",
       "            6           7           8           9     ...        7702  \\\n",
       "0       0.000000    0.000000    0.000000    0.000000  ...    0.000000   \n",
       "1       3.361996    5.787035    1.376064    3.669759  ...    3.628012   \n",
       "2       4.442691    6.076381    1.439991    4.800105  ...    3.890718   \n",
       "3       5.167877    6.184614    1.474926    5.354136  ...    6.002839   \n",
       "4       5.737502    6.276516    1.600469    6.016169  ...    7.384877   \n",
       "...          ...         ...         ...         ...  ...         ...   \n",
       "7707   75.169849   73.197261   75.075458   78.594127  ...   72.505018   \n",
       "7708   75.810369   73.289557   75.769468   78.765302  ...   74.489957   \n",
       "7709   80.477897   78.807718   79.772532   82.808969  ...   80.806368   \n",
       "7710   92.713480   90.560569   92.951683   94.317355  ...   91.521122   \n",
       "7711  117.173260  114.869848  116.557888  118.875259  ...  116.075244   \n",
       "\n",
       "            7703        7704        7705        7706        7707        7708  \\\n",
       "0       0.000000    0.000000    0.000000    0.000000    0.000000    0.000000   \n",
       "1       2.261819    4.167718    8.600130    0.935955    2.519106    8.945021   \n",
       "2       3.550948    5.021064    8.694206    6.705638    4.227654    9.911580   \n",
       "3       3.556891   10.329050    8.869283    9.566367    5.794198    9.965301   \n",
       "4       3.615280   10.482573   10.078299    9.666793    8.600130    9.999884   \n",
       "...          ...         ...         ...         ...         ...         ...   \n",
       "7707   74.706794   68.529534   69.624848   73.921960   69.174428   68.071384   \n",
       "7708   75.604897   70.805419   72.282074   74.412062   71.555304   70.606372   \n",
       "7709   79.495811   71.829010   73.575325   78.844489   75.966021   72.914635   \n",
       "7710   92.183459   86.751036   88.392417   90.246292   90.134937   85.907759   \n",
       "7711  116.503558  111.744476  111.646627  115.846457  112.504260  112.002183   \n",
       "\n",
       "            7709        7710        7711  \n",
       "0       0.000000    0.000000    0.000000  \n",
       "1      13.855372    3.890718    8.905823  \n",
       "2      13.920907    6.770072    8.913528  \n",
       "3      13.927616    6.855199   10.449749  \n",
       "4      14.100402    8.544723   10.476759  \n",
       "...          ...         ...         ...  \n",
       "7707   69.826393   72.995622   69.702880  \n",
       "7708   72.112741   74.837928   72.165241  \n",
       "7709   72.653164   81.081395   74.516930  \n",
       "7710   84.817102   91.571177   86.234405  \n",
       "7711  111.941761  116.446000  112.082900  \n",
       "\n",
       "[7712 rows x 7712 columns]"
      ]
     },
     "execution_count": 163,
     "metadata": {},
     "output_type": "execute_result"
    }
   ],
   "source": [
    "df_tr=pd.DataFrame(neighbors_k)\n",
    "df_tr"
   ]
  },
  {
   "cell_type": "code",
   "execution_count": 164,
   "metadata": {},
   "outputs": [],
   "source": [
    "similarity= neighbors_k"
   ]
  },
  {
   "cell_type": "code",
   "execution_count": 165,
   "metadata": {},
   "outputs": [],
   "source": [
    "Dmean=np.mean(similarity[1,:])"
   ]
  },
  {
   "cell_type": "code",
   "execution_count": 166,
   "metadata": {},
   "outputs": [
    {
     "data": {
      "text/plain": [
       "4.84"
      ]
     },
     "execution_count": 166,
     "metadata": {},
     "output_type": "execute_result"
    }
   ],
   "source": [
    "round(Dmean, 2)"
   ]
  },
  {
   "cell_type": "code",
   "execution_count": 167,
   "metadata": {},
   "outputs": [],
   "source": [
    "std=np.std(similarity[1,:])"
   ]
  },
  {
   "cell_type": "code",
   "execution_count": 168,
   "metadata": {},
   "outputs": [
    {
     "data": {
      "text/plain": [
       "3.48"
      ]
     },
     "execution_count": 168,
     "metadata": {},
     "output_type": "execute_result"
    }
   ],
   "source": [
    "round(std, 2)"
   ]
  },
  {
   "cell_type": "code",
   "execution_count": 169,
   "metadata": {},
   "outputs": [
    {
     "name": "stdout",
     "output_type": "stream",
     "text": [
      "6.57\n"
     ]
    }
   ],
   "source": [
    "model_AD_limit=Dmean+std*0.5\n",
    "print(np.round(model_AD_limit, 2))"
   ]
  },
  {
   "cell_type": "code",
   "execution_count": 170,
   "metadata": {},
   "outputs": [],
   "source": [
    "neighbors_k_ts= pairwise_distances(x_tr,Y=x_ts, n_jobs=-1)\n",
    "neighbors_k_ts.sort(0)"
   ]
  },
  {
   "cell_type": "code",
   "execution_count": 171,
   "metadata": {},
   "outputs": [
    {
     "data": {
      "text/html": [
       "<div>\n",
       "<style scoped>\n",
       "    .dataframe tbody tr th:only-of-type {\n",
       "        vertical-align: middle;\n",
       "    }\n",
       "\n",
       "    .dataframe tbody tr th {\n",
       "        vertical-align: top;\n",
       "    }\n",
       "\n",
       "    .dataframe thead th {\n",
       "        text-align: right;\n",
       "    }\n",
       "</style>\n",
       "<table border=\"1\" class=\"dataframe\">\n",
       "  <thead>\n",
       "    <tr style=\"text-align: right;\">\n",
       "      <th></th>\n",
       "      <th>0</th>\n",
       "      <th>1</th>\n",
       "      <th>2</th>\n",
       "      <th>3</th>\n",
       "      <th>4</th>\n",
       "      <th>5</th>\n",
       "      <th>6</th>\n",
       "      <th>7</th>\n",
       "      <th>8</th>\n",
       "      <th>9</th>\n",
       "      <th>...</th>\n",
       "      <th>1919</th>\n",
       "      <th>1920</th>\n",
       "      <th>1921</th>\n",
       "      <th>1922</th>\n",
       "      <th>1923</th>\n",
       "      <th>1924</th>\n",
       "      <th>1925</th>\n",
       "      <th>1926</th>\n",
       "      <th>1927</th>\n",
       "      <th>1928</th>\n",
       "    </tr>\n",
       "  </thead>\n",
       "  <tbody>\n",
       "    <tr>\n",
       "      <th>0</th>\n",
       "      <td>5.465819</td>\n",
       "      <td>3.063434</td>\n",
       "      <td>6.120520</td>\n",
       "      <td>1.215571</td>\n",
       "      <td>2.042183</td>\n",
       "      <td>1.515443</td>\n",
       "      <td>2.124263</td>\n",
       "      <td>1.025725</td>\n",
       "      <td>4.140815</td>\n",
       "      <td>6.195718</td>\n",
       "      <td>...</td>\n",
       "      <td>9.535378</td>\n",
       "      <td>6.718344</td>\n",
       "      <td>0.912277</td>\n",
       "      <td>3.417354</td>\n",
       "      <td>1.532195</td>\n",
       "      <td>5.493381</td>\n",
       "      <td>2.651548</td>\n",
       "      <td>3.937430</td>\n",
       "      <td>10.205494</td>\n",
       "      <td>10.943144</td>\n",
       "    </tr>\n",
       "    <tr>\n",
       "      <th>1</th>\n",
       "      <td>6.234664</td>\n",
       "      <td>3.486255</td>\n",
       "      <td>6.871261</td>\n",
       "      <td>1.274003</td>\n",
       "      <td>5.930919</td>\n",
       "      <td>1.834408</td>\n",
       "      <td>2.180423</td>\n",
       "      <td>4.632574</td>\n",
       "      <td>4.397817</td>\n",
       "      <td>6.286961</td>\n",
       "      <td>...</td>\n",
       "      <td>11.123143</td>\n",
       "      <td>8.086902</td>\n",
       "      <td>2.671876</td>\n",
       "      <td>4.956988</td>\n",
       "      <td>3.593117</td>\n",
       "      <td>5.741385</td>\n",
       "      <td>3.174836</td>\n",
       "      <td>4.261122</td>\n",
       "      <td>11.111793</td>\n",
       "      <td>11.040162</td>\n",
       "    </tr>\n",
       "    <tr>\n",
       "      <th>2</th>\n",
       "      <td>6.316803</td>\n",
       "      <td>3.733498</td>\n",
       "      <td>7.515488</td>\n",
       "      <td>1.471028</td>\n",
       "      <td>6.743273</td>\n",
       "      <td>1.948316</td>\n",
       "      <td>2.341627</td>\n",
       "      <td>4.793577</td>\n",
       "      <td>4.413711</td>\n",
       "      <td>6.723029</td>\n",
       "      <td>...</td>\n",
       "      <td>11.550254</td>\n",
       "      <td>8.196785</td>\n",
       "      <td>3.332332</td>\n",
       "      <td>4.981049</td>\n",
       "      <td>3.793641</td>\n",
       "      <td>6.125422</td>\n",
       "      <td>3.721587</td>\n",
       "      <td>4.628936</td>\n",
       "      <td>11.131279</td>\n",
       "      <td>11.288966</td>\n",
       "    </tr>\n",
       "    <tr>\n",
       "      <th>3</th>\n",
       "      <td>6.585389</td>\n",
       "      <td>4.169236</td>\n",
       "      <td>7.611287</td>\n",
       "      <td>1.482657</td>\n",
       "      <td>7.055424</td>\n",
       "      <td>2.380174</td>\n",
       "      <td>2.449700</td>\n",
       "      <td>5.243902</td>\n",
       "      <td>5.187092</td>\n",
       "      <td>6.844853</td>\n",
       "      <td>...</td>\n",
       "      <td>11.834881</td>\n",
       "      <td>9.029393</td>\n",
       "      <td>3.756933</td>\n",
       "      <td>5.153448</td>\n",
       "      <td>4.067074</td>\n",
       "      <td>6.232123</td>\n",
       "      <td>4.140182</td>\n",
       "      <td>4.668678</td>\n",
       "      <td>11.291831</td>\n",
       "      <td>11.433518</td>\n",
       "    </tr>\n",
       "    <tr>\n",
       "      <th>4</th>\n",
       "      <td>6.864812</td>\n",
       "      <td>4.318012</td>\n",
       "      <td>7.676110</td>\n",
       "      <td>1.539164</td>\n",
       "      <td>7.311141</td>\n",
       "      <td>2.622992</td>\n",
       "      <td>2.538964</td>\n",
       "      <td>5.825663</td>\n",
       "      <td>5.944842</td>\n",
       "      <td>7.037389</td>\n",
       "      <td>...</td>\n",
       "      <td>12.291220</td>\n",
       "      <td>9.363354</td>\n",
       "      <td>3.890703</td>\n",
       "      <td>5.395340</td>\n",
       "      <td>4.550949</td>\n",
       "      <td>6.623514</td>\n",
       "      <td>4.852862</td>\n",
       "      <td>4.695897</td>\n",
       "      <td>11.499324</td>\n",
       "      <td>11.473860</td>\n",
       "    </tr>\n",
       "    <tr>\n",
       "      <th>...</th>\n",
       "      <td>...</td>\n",
       "      <td>...</td>\n",
       "      <td>...</td>\n",
       "      <td>...</td>\n",
       "      <td>...</td>\n",
       "      <td>...</td>\n",
       "      <td>...</td>\n",
       "      <td>...</td>\n",
       "      <td>...</td>\n",
       "      <td>...</td>\n",
       "      <td>...</td>\n",
       "      <td>...</td>\n",
       "      <td>...</td>\n",
       "      <td>...</td>\n",
       "      <td>...</td>\n",
       "      <td>...</td>\n",
       "      <td>...</td>\n",
       "      <td>...</td>\n",
       "      <td>...</td>\n",
       "      <td>...</td>\n",
       "      <td>...</td>\n",
       "    </tr>\n",
       "    <tr>\n",
       "      <th>7707</th>\n",
       "      <td>80.338922</td>\n",
       "      <td>75.194374</td>\n",
       "      <td>74.820079</td>\n",
       "      <td>75.398762</td>\n",
       "      <td>75.141938</td>\n",
       "      <td>75.828034</td>\n",
       "      <td>74.448412</td>\n",
       "      <td>78.920279</td>\n",
       "      <td>73.853882</td>\n",
       "      <td>72.822870</td>\n",
       "      <td>...</td>\n",
       "      <td>70.320738</td>\n",
       "      <td>69.638145</td>\n",
       "      <td>73.015037</td>\n",
       "      <td>73.793203</td>\n",
       "      <td>73.584213</td>\n",
       "      <td>70.396721</td>\n",
       "      <td>73.250971</td>\n",
       "      <td>72.925727</td>\n",
       "      <td>72.262273</td>\n",
       "      <td>70.724559</td>\n",
       "    </tr>\n",
       "    <tr>\n",
       "      <th>7708</th>\n",
       "      <td>80.582292</td>\n",
       "      <td>75.874683</td>\n",
       "      <td>76.201353</td>\n",
       "      <td>75.984012</td>\n",
       "      <td>75.365956</td>\n",
       "      <td>76.498190</td>\n",
       "      <td>74.928930</td>\n",
       "      <td>79.056085</td>\n",
       "      <td>74.998817</td>\n",
       "      <td>73.314832</td>\n",
       "      <td>...</td>\n",
       "      <td>72.115851</td>\n",
       "      <td>70.937325</td>\n",
       "      <td>73.894682</td>\n",
       "      <td>74.797006</td>\n",
       "      <td>74.512838</td>\n",
       "      <td>73.053279</td>\n",
       "      <td>74.105870</td>\n",
       "      <td>73.897760</td>\n",
       "      <td>73.987772</td>\n",
       "      <td>72.474029</td>\n",
       "    </tr>\n",
       "    <tr>\n",
       "      <th>7709</th>\n",
       "      <td>85.610583</td>\n",
       "      <td>80.624788</td>\n",
       "      <td>81.426791</td>\n",
       "      <td>80.106681</td>\n",
       "      <td>79.355877</td>\n",
       "      <td>81.527688</td>\n",
       "      <td>79.109101</td>\n",
       "      <td>83.911801</td>\n",
       "      <td>80.073310</td>\n",
       "      <td>78.203852</td>\n",
       "      <td>...</td>\n",
       "      <td>72.845865</td>\n",
       "      <td>75.089405</td>\n",
       "      <td>78.752501</td>\n",
       "      <td>78.260727</td>\n",
       "      <td>77.933894</td>\n",
       "      <td>73.650932</td>\n",
       "      <td>79.158358</td>\n",
       "      <td>77.637680</td>\n",
       "      <td>79.799729</td>\n",
       "      <td>73.208492</td>\n",
       "    </tr>\n",
       "    <tr>\n",
       "      <th>7710</th>\n",
       "      <td>95.580120</td>\n",
       "      <td>91.566371</td>\n",
       "      <td>93.381943</td>\n",
       "      <td>93.038977</td>\n",
       "      <td>91.886781</td>\n",
       "      <td>91.586688</td>\n",
       "      <td>92.722557</td>\n",
       "      <td>94.148698</td>\n",
       "      <td>88.187959</td>\n",
       "      <td>91.504208</td>\n",
       "      <td>...</td>\n",
       "      <td>85.461066</td>\n",
       "      <td>87.054621</td>\n",
       "      <td>91.851129</td>\n",
       "      <td>92.173394</td>\n",
       "      <td>91.186276</td>\n",
       "      <td>83.418615</td>\n",
       "      <td>92.256111</td>\n",
       "      <td>91.054589</td>\n",
       "      <td>91.296886</td>\n",
       "      <td>87.232108</td>\n",
       "    </tr>\n",
       "    <tr>\n",
       "      <th>7711</th>\n",
       "      <td>120.159755</td>\n",
       "      <td>116.830472</td>\n",
       "      <td>117.638602</td>\n",
       "      <td>116.768683</td>\n",
       "      <td>116.537692</td>\n",
       "      <td>117.484805</td>\n",
       "      <td>115.939943</td>\n",
       "      <td>118.895632</td>\n",
       "      <td>116.915052</td>\n",
       "      <td>114.922416</td>\n",
       "      <td>...</td>\n",
       "      <td>110.556637</td>\n",
       "      <td>112.810353</td>\n",
       "      <td>115.622523</td>\n",
       "      <td>115.905034</td>\n",
       "      <td>115.783889</td>\n",
       "      <td>111.155273</td>\n",
       "      <td>115.610501</td>\n",
       "      <td>115.385405</td>\n",
       "      <td>115.719550</td>\n",
       "      <td>111.091906</td>\n",
       "    </tr>\n",
       "  </tbody>\n",
       "</table>\n",
       "<p>7712 rows × 1929 columns</p>\n",
       "</div>"
      ],
      "text/plain": [
       "            0           1           2           3           4           5     \\\n",
       "0       5.465819    3.063434    6.120520    1.215571    2.042183    1.515443   \n",
       "1       6.234664    3.486255    6.871261    1.274003    5.930919    1.834408   \n",
       "2       6.316803    3.733498    7.515488    1.471028    6.743273    1.948316   \n",
       "3       6.585389    4.169236    7.611287    1.482657    7.055424    2.380174   \n",
       "4       6.864812    4.318012    7.676110    1.539164    7.311141    2.622992   \n",
       "...          ...         ...         ...         ...         ...         ...   \n",
       "7707   80.338922   75.194374   74.820079   75.398762   75.141938   75.828034   \n",
       "7708   80.582292   75.874683   76.201353   75.984012   75.365956   76.498190   \n",
       "7709   85.610583   80.624788   81.426791   80.106681   79.355877   81.527688   \n",
       "7710   95.580120   91.566371   93.381943   93.038977   91.886781   91.586688   \n",
       "7711  120.159755  116.830472  117.638602  116.768683  116.537692  117.484805   \n",
       "\n",
       "            6           7           8           9     ...        1919  \\\n",
       "0       2.124263    1.025725    4.140815    6.195718  ...    9.535378   \n",
       "1       2.180423    4.632574    4.397817    6.286961  ...   11.123143   \n",
       "2       2.341627    4.793577    4.413711    6.723029  ...   11.550254   \n",
       "3       2.449700    5.243902    5.187092    6.844853  ...   11.834881   \n",
       "4       2.538964    5.825663    5.944842    7.037389  ...   12.291220   \n",
       "...          ...         ...         ...         ...  ...         ...   \n",
       "7707   74.448412   78.920279   73.853882   72.822870  ...   70.320738   \n",
       "7708   74.928930   79.056085   74.998817   73.314832  ...   72.115851   \n",
       "7709   79.109101   83.911801   80.073310   78.203852  ...   72.845865   \n",
       "7710   92.722557   94.148698   88.187959   91.504208  ...   85.461066   \n",
       "7711  115.939943  118.895632  116.915052  114.922416  ...  110.556637   \n",
       "\n",
       "            1920        1921        1922        1923        1924        1925  \\\n",
       "0       6.718344    0.912277    3.417354    1.532195    5.493381    2.651548   \n",
       "1       8.086902    2.671876    4.956988    3.593117    5.741385    3.174836   \n",
       "2       8.196785    3.332332    4.981049    3.793641    6.125422    3.721587   \n",
       "3       9.029393    3.756933    5.153448    4.067074    6.232123    4.140182   \n",
       "4       9.363354    3.890703    5.395340    4.550949    6.623514    4.852862   \n",
       "...          ...         ...         ...         ...         ...         ...   \n",
       "7707   69.638145   73.015037   73.793203   73.584213   70.396721   73.250971   \n",
       "7708   70.937325   73.894682   74.797006   74.512838   73.053279   74.105870   \n",
       "7709   75.089405   78.752501   78.260727   77.933894   73.650932   79.158358   \n",
       "7710   87.054621   91.851129   92.173394   91.186276   83.418615   92.256111   \n",
       "7711  112.810353  115.622523  115.905034  115.783889  111.155273  115.610501   \n",
       "\n",
       "            1926        1927        1928  \n",
       "0       3.937430   10.205494   10.943144  \n",
       "1       4.261122   11.111793   11.040162  \n",
       "2       4.628936   11.131279   11.288966  \n",
       "3       4.668678   11.291831   11.433518  \n",
       "4       4.695897   11.499324   11.473860  \n",
       "...          ...         ...         ...  \n",
       "7707   72.925727   72.262273   70.724559  \n",
       "7708   73.897760   73.987772   72.474029  \n",
       "7709   77.637680   79.799729   73.208492  \n",
       "7710   91.054589   91.296886   87.232108  \n",
       "7711  115.385405  115.719550  111.091906  \n",
       "\n",
       "[7712 rows x 1929 columns]"
      ]
     },
     "execution_count": 171,
     "metadata": {},
     "output_type": "execute_result"
    }
   ],
   "source": [
    "x_ts_AD=pd.DataFrame(neighbors_k_ts)\n",
    "x_ts_AD"
   ]
  },
  {
   "cell_type": "code",
   "execution_count": 172,
   "metadata": {},
   "outputs": [
    {
     "name": "stdout",
     "output_type": "stream",
     "text": [
      "[ 5.466  3.063  6.121 ...  3.937 10.205 10.943]\n"
     ]
    }
   ],
   "source": [
    "similarity_ts= neighbors_k_ts\n",
    "cpd_AD=similarity_ts[0,:]\n",
    "cpd_value = np.round(cpd_AD, 3)\n",
    "print(cpd_value)"
   ]
  },
  {
   "cell_type": "code",
   "execution_count": 173,
   "metadata": {},
   "outputs": [
    {
     "name": "stdout",
     "output_type": "stream",
     "text": [
      "[ True  True  True ...  True False False]\n"
     ]
    }
   ],
   "source": [
    "cpd_AD = np.where(cpd_value <= model_AD_limit, True, False)\n",
    "print(cpd_AD)"
   ]
  },
  {
   "cell_type": "code",
   "execution_count": 174,
   "metadata": {},
   "outputs": [
    {
     "name": "stdout",
     "output_type": "stream",
     "text": [
      "Coverage =  0.78\n"
     ]
    }
   ],
   "source": [
    "print(\"Coverage = \", round(sum(cpd_AD) / len(cpd_AD), 2))"
   ]
  },
  {
   "cell_type": "code",
   "execution_count": 175,
   "metadata": {},
   "outputs": [
    {
     "name": "stdout",
     "output_type": "stream",
     "text": [
      "Indices of substances included in AD =  [   0    1    2 ... 1924 1925 1926]\n"
     ]
    }
   ],
   "source": [
    "print(\"Indices of substances included in AD = \", np.where(cpd_AD != 0)[0])"
   ]
  },
  {
   "cell_type": "code",
   "execution_count": 176,
   "metadata": {},
   "outputs": [],
   "source": [
    "out_Ad=list(np.where(cpd_AD == 0)[0])"
   ]
  },
  {
   "cell_type": "markdown",
   "metadata": {},
   "source": [
    "# 12. Prediction only for molecules included in  AD"
   ]
  },
  {
   "cell_type": "code",
   "execution_count": 177,
   "metadata": {},
   "outputs": [],
   "source": [
    "y_pred_MLPR_ad=list(y_pred_MLPR)"
   ]
  },
  {
   "cell_type": "code",
   "execution_count": 178,
   "metadata": {},
   "outputs": [],
   "source": [
    "y_pred_MLPR_ad[:] = [x for i,x in enumerate(y_pred_MLPR_ad) if i not in out_Ad]"
   ]
  },
  {
   "cell_type": "code",
   "execution_count": 179,
   "metadata": {},
   "outputs": [
    {
     "data": {
      "text/plain": [
       "1508"
      ]
     },
     "execution_count": 179,
     "metadata": {},
     "output_type": "execute_result"
    }
   ],
   "source": [
    "len(y_pred_MLPR_ad)"
   ]
  },
  {
   "cell_type": "code",
   "execution_count": 180,
   "metadata": {},
   "outputs": [],
   "source": [
    "y_ts_ad=list(y_ts)"
   ]
  },
  {
   "cell_type": "code",
   "execution_count": 181,
   "metadata": {},
   "outputs": [],
   "source": [
    "y_ts_ad[:] = [x for i,x in enumerate(y_ts_ad) if i not in out_Ad]"
   ]
  },
  {
   "cell_type": "code",
   "execution_count": 182,
   "metadata": {},
   "outputs": [
    {
     "data": {
      "text/plain": [
       "1508"
      ]
     },
     "execution_count": 182,
     "metadata": {},
     "output_type": "execute_result"
    }
   ],
   "source": [
    "len(y_ts_ad)"
   ]
  },
  {
   "cell_type": "code",
   "execution_count": 183,
   "metadata": {},
   "outputs": [
    {
     "data": {
      "text/plain": [
       "0.61"
      ]
     },
     "execution_count": 183,
     "metadata": {},
     "output_type": "execute_result"
    }
   ],
   "source": [
    "Q2_TS = round(r2_score(y_ts_ad, y_pred_MLPR_ad), 2)\n",
    "Q2_TS"
   ]
  },
  {
   "cell_type": "code",
   "execution_count": 185,
   "metadata": {
    "scrolled": true
   },
   "outputs": [
    {
     "data": {
      "text/plain": [
       "0.63"
      ]
     },
     "execution_count": 185,
     "metadata": {},
     "output_type": "execute_result"
    }
   ],
   "source": [
    "RMSE_TS=round(np.sqrt(mean_absolute_error(y_ts_ad, y_pred_MLPR_ad)), 2)\n",
    "RMSE_TS"
   ]
  },
  {
   "cell_type": "markdown",
   "metadata": {},
   "source": [
    "# k-nearest neighbors"
   ]
  },
  {
   "cell_type": "code",
   "execution_count": 186,
   "metadata": {},
   "outputs": [],
   "source": [
    "k_range = list(range(1, 31))\n",
    "param_grid = dict(n_neighbors=k_range)"
   ]
  },
  {
   "cell_type": "code",
   "execution_count": 187,
   "metadata": {},
   "outputs": [],
   "source": [
    "m = GridSearchCV(KNeighborsRegressor(), param_grid, n_jobs=-1, cv=cv, verbose=1)"
   ]
  },
  {
   "cell_type": "code",
   "execution_count": 188,
   "metadata": {},
   "outputs": [
    {
     "name": "stdout",
     "output_type": "stream",
     "text": [
      "Fitting 5 folds for each of 30 candidates, totalling 150 fits\n"
     ]
    },
    {
     "data": {
      "text/html": [
       "<style>#sk-container-id-6 {color: black;}#sk-container-id-6 pre{padding: 0;}#sk-container-id-6 div.sk-toggleable {background-color: white;}#sk-container-id-6 label.sk-toggleable__label {cursor: pointer;display: block;width: 100%;margin-bottom: 0;padding: 0.3em;box-sizing: border-box;text-align: center;}#sk-container-id-6 label.sk-toggleable__label-arrow:before {content: \"▸\";float: left;margin-right: 0.25em;color: #696969;}#sk-container-id-6 label.sk-toggleable__label-arrow:hover:before {color: black;}#sk-container-id-6 div.sk-estimator:hover label.sk-toggleable__label-arrow:before {color: black;}#sk-container-id-6 div.sk-toggleable__content {max-height: 0;max-width: 0;overflow: hidden;text-align: left;background-color: #f0f8ff;}#sk-container-id-6 div.sk-toggleable__content pre {margin: 0.2em;color: black;border-radius: 0.25em;background-color: #f0f8ff;}#sk-container-id-6 input.sk-toggleable__control:checked~div.sk-toggleable__content {max-height: 200px;max-width: 100%;overflow: auto;}#sk-container-id-6 input.sk-toggleable__control:checked~label.sk-toggleable__label-arrow:before {content: \"▾\";}#sk-container-id-6 div.sk-estimator input.sk-toggleable__control:checked~label.sk-toggleable__label {background-color: #d4ebff;}#sk-container-id-6 div.sk-label input.sk-toggleable__control:checked~label.sk-toggleable__label {background-color: #d4ebff;}#sk-container-id-6 input.sk-hidden--visually {border: 0;clip: rect(1px 1px 1px 1px);clip: rect(1px, 1px, 1px, 1px);height: 1px;margin: -1px;overflow: hidden;padding: 0;position: absolute;width: 1px;}#sk-container-id-6 div.sk-estimator {font-family: monospace;background-color: #f0f8ff;border: 1px dotted black;border-radius: 0.25em;box-sizing: border-box;margin-bottom: 0.5em;}#sk-container-id-6 div.sk-estimator:hover {background-color: #d4ebff;}#sk-container-id-6 div.sk-parallel-item::after {content: \"\";width: 100%;border-bottom: 1px solid gray;flex-grow: 1;}#sk-container-id-6 div.sk-label:hover label.sk-toggleable__label {background-color: #d4ebff;}#sk-container-id-6 div.sk-serial::before {content: \"\";position: absolute;border-left: 1px solid gray;box-sizing: border-box;top: 0;bottom: 0;left: 50%;z-index: 0;}#sk-container-id-6 div.sk-serial {display: flex;flex-direction: column;align-items: center;background-color: white;padding-right: 0.2em;padding-left: 0.2em;position: relative;}#sk-container-id-6 div.sk-item {position: relative;z-index: 1;}#sk-container-id-6 div.sk-parallel {display: flex;align-items: stretch;justify-content: center;background-color: white;position: relative;}#sk-container-id-6 div.sk-item::before, #sk-container-id-6 div.sk-parallel-item::before {content: \"\";position: absolute;border-left: 1px solid gray;box-sizing: border-box;top: 0;bottom: 0;left: 50%;z-index: -1;}#sk-container-id-6 div.sk-parallel-item {display: flex;flex-direction: column;z-index: 1;position: relative;background-color: white;}#sk-container-id-6 div.sk-parallel-item:first-child::after {align-self: flex-end;width: 50%;}#sk-container-id-6 div.sk-parallel-item:last-child::after {align-self: flex-start;width: 50%;}#sk-container-id-6 div.sk-parallel-item:only-child::after {width: 0;}#sk-container-id-6 div.sk-dashed-wrapped {border: 1px dashed gray;margin: 0 0.4em 0.5em 0.4em;box-sizing: border-box;padding-bottom: 0.4em;background-color: white;}#sk-container-id-6 div.sk-label label {font-family: monospace;font-weight: bold;display: inline-block;line-height: 1.2em;}#sk-container-id-6 div.sk-label-container {text-align: center;}#sk-container-id-6 div.sk-container {/* jupyter's `normalize.less` sets `[hidden] { display: none; }` but bootstrap.min.css set `[hidden] { display: none !important; }` so we also need the `!important` here to be able to override the default hidden behavior on the sphinx rendered scikit-learn.org. See: https://github.com/scikit-learn/scikit-learn/issues/21755 */display: inline-block !important;position: relative;}#sk-container-id-6 div.sk-text-repr-fallback {display: none;}</style><div id=\"sk-container-id-6\" class=\"sk-top-container\"><div class=\"sk-text-repr-fallback\"><pre>GridSearchCV(cv=KFold(n_splits=5, random_state=42, shuffle=True),\n",
       "             estimator=KNeighborsRegressor(), n_jobs=-1,\n",
       "             param_grid={&#x27;n_neighbors&#x27;: [1, 2, 3, 4, 5, 6, 7, 8, 9, 10, 11, 12,\n",
       "                                         13, 14, 15, 16, 17, 18, 19, 20, 21, 22,\n",
       "                                         23, 24, 25, 26, 27, 28, 29, 30]},\n",
       "             verbose=1)</pre><b>In a Jupyter environment, please rerun this cell to show the HTML representation or trust the notebook. <br />On GitHub, the HTML representation is unable to render, please try loading this page with nbviewer.org.</b></div><div class=\"sk-container\" hidden><div class=\"sk-item sk-dashed-wrapped\"><div class=\"sk-label-container\"><div class=\"sk-label sk-toggleable\"><input class=\"sk-toggleable__control sk-hidden--visually\" id=\"sk-estimator-id-16\" type=\"checkbox\" ><label for=\"sk-estimator-id-16\" class=\"sk-toggleable__label sk-toggleable__label-arrow\">GridSearchCV</label><div class=\"sk-toggleable__content\"><pre>GridSearchCV(cv=KFold(n_splits=5, random_state=42, shuffle=True),\n",
       "             estimator=KNeighborsRegressor(), n_jobs=-1,\n",
       "             param_grid={&#x27;n_neighbors&#x27;: [1, 2, 3, 4, 5, 6, 7, 8, 9, 10, 11, 12,\n",
       "                                         13, 14, 15, 16, 17, 18, 19, 20, 21, 22,\n",
       "                                         23, 24, 25, 26, 27, 28, 29, 30]},\n",
       "             verbose=1)</pre></div></div></div><div class=\"sk-parallel\"><div class=\"sk-parallel-item\"><div class=\"sk-item\"><div class=\"sk-label-container\"><div class=\"sk-label sk-toggleable\"><input class=\"sk-toggleable__control sk-hidden--visually\" id=\"sk-estimator-id-17\" type=\"checkbox\" ><label for=\"sk-estimator-id-17\" class=\"sk-toggleable__label sk-toggleable__label-arrow\">estimator: KNeighborsRegressor</label><div class=\"sk-toggleable__content\"><pre>KNeighborsRegressor()</pre></div></div></div><div class=\"sk-serial\"><div class=\"sk-item\"><div class=\"sk-estimator sk-toggleable\"><input class=\"sk-toggleable__control sk-hidden--visually\" id=\"sk-estimator-id-18\" type=\"checkbox\" ><label for=\"sk-estimator-id-18\" class=\"sk-toggleable__label sk-toggleable__label-arrow\">KNeighborsRegressor</label><div class=\"sk-toggleable__content\"><pre>KNeighborsRegressor()</pre></div></div></div></div></div></div></div></div></div></div>"
      ],
      "text/plain": [
       "GridSearchCV(cv=KFold(n_splits=5, random_state=42, shuffle=True),\n",
       "             estimator=KNeighborsRegressor(), n_jobs=-1,\n",
       "             param_grid={'n_neighbors': [1, 2, 3, 4, 5, 6, 7, 8, 9, 10, 11, 12,\n",
       "                                         13, 14, 15, 16, 17, 18, 19, 20, 21, 22,\n",
       "                                         23, 24, 25, 26, 27, 28, 29, 30]},\n",
       "             verbose=1)"
      ]
     },
     "execution_count": 188,
     "metadata": {},
     "output_type": "execute_result"
    }
   ],
   "source": [
    "m.fit(x_tr, y_tr)"
   ]
  },
  {
   "cell_type": "code",
   "execution_count": 189,
   "metadata": {},
   "outputs": [],
   "source": [
    "best_kNN = m.best_estimator_"
   ]
  },
  {
   "cell_type": "code",
   "execution_count": 190,
   "metadata": {},
   "outputs": [
    {
     "data": {
      "text/plain": [
       "{'n_neighbors': 5}"
      ]
     },
     "execution_count": 190,
     "metadata": {},
     "output_type": "execute_result"
    }
   ],
   "source": [
    "m.best_params_"
   ]
  },
  {
   "cell_type": "code",
   "execution_count": 191,
   "metadata": {},
   "outputs": [],
   "source": [
    "y_pred_ws_kNN = best_kNN.predict(x_tr)"
   ]
  },
  {
   "cell_type": "code",
   "execution_count": 192,
   "metadata": {},
   "outputs": [
    {
     "data": {
      "text/plain": [
       "0.67"
      ]
     },
     "execution_count": 192,
     "metadata": {},
     "output_type": "execute_result"
    }
   ],
   "source": [
    "R2_WS = round(r2_score(y_tr, y_pred_ws_kNN), 2)\n",
    "R2_WS"
   ]
  },
  {
   "cell_type": "code",
   "execution_count": 193,
   "metadata": {},
   "outputs": [
    {
     "data": {
      "text/plain": [
       "0.6"
      ]
     },
     "execution_count": 193,
     "metadata": {},
     "output_type": "execute_result"
    }
   ],
   "source": [
    "RMSE_WS=round(np.sqrt(mean_absolute_error(y_tr, y_pred_ws_kNN)), 2)\n",
    "RMSE_WS"
   ]
  },
  {
   "cell_type": "code",
   "execution_count": 194,
   "metadata": {},
   "outputs": [],
   "source": [
    "y_pred_CV_kNN = cross_val_predict(best_kNN, x_tr, y_tr, cv=cv)"
   ]
  },
  {
   "cell_type": "code",
   "execution_count": 195,
   "metadata": {},
   "outputs": [
    {
     "data": {
      "text/plain": [
       "array([1.906134, 2.740466, 1.788866, ..., 3.956816, 3.72358 , 2.912094])"
      ]
     },
     "execution_count": 195,
     "metadata": {},
     "output_type": "execute_result"
    }
   ],
   "source": [
    "y_pred_CV_kNN"
   ]
  },
  {
   "cell_type": "code",
   "execution_count": 196,
   "metadata": {},
   "outputs": [
    {
     "data": {
      "text/plain": [
       "0.47"
      ]
     },
     "execution_count": 196,
     "metadata": {},
     "output_type": "execute_result"
    }
   ],
   "source": [
    "Q2_CV = round(r2_score(y_tr, y_pred_CV_kNN), 2)\n",
    "Q2_CV"
   ]
  },
  {
   "cell_type": "code",
   "execution_count": 197,
   "metadata": {},
   "outputs": [
    {
     "data": {
      "text/plain": [
       "0.68"
      ]
     },
     "execution_count": 197,
     "metadata": {},
     "output_type": "execute_result"
    }
   ],
   "source": [
    "RMSE_CV=round(np.sqrt(mean_absolute_error(y_tr, y_pred_CV_kNN)), 2)\n",
    "RMSE_CV"
   ]
  },
  {
   "cell_type": "markdown",
   "metadata": {},
   "source": [
    "# 9. Prediction for test set's molecules"
   ]
  },
  {
   "cell_type": "code",
   "execution_count": 198,
   "metadata": {},
   "outputs": [],
   "source": [
    "x_ts = np.array(x_ts, dtype=np.float32)\n",
    "y_ts = np.array(y_ts, dtype=np.float32)"
   ]
  },
  {
   "cell_type": "code",
   "execution_count": 199,
   "metadata": {},
   "outputs": [],
   "source": [
    "y_pred_kNN = best_kNN.predict(x_ts)"
   ]
  },
  {
   "cell_type": "code",
   "execution_count": 200,
   "metadata": {},
   "outputs": [
    {
     "data": {
      "text/plain": [
       "0.49"
      ]
     },
     "execution_count": 200,
     "metadata": {},
     "output_type": "execute_result"
    }
   ],
   "source": [
    "Q2_TS = round(r2_score(y_ts, y_pred_kNN), 2)\n",
    "Q2_TS"
   ]
  },
  {
   "cell_type": "code",
   "execution_count": 201,
   "metadata": {},
   "outputs": [
    {
     "data": {
      "text/plain": [
       "0.67"
      ]
     },
     "execution_count": 201,
     "metadata": {},
     "output_type": "execute_result"
    }
   ],
   "source": [
    "RMSE_TS=round(np.sqrt(mean_absolute_error(y_ts, y_pred_kNN)), 2)\n",
    "RMSE_TS"
   ]
  },
  {
   "cell_type": "markdown",
   "metadata": {},
   "source": [
    "# save the model to disk"
   ]
  },
  {
   "cell_type": "code",
   "execution_count": 202,
   "metadata": {},
   "outputs": [],
   "source": [
    "pickle.dump(best_kNN, open('models/RDKiT/Toxicity_kNN_RDKiT.pkl', 'wb'))"
   ]
  },
  {
   "cell_type": "markdown",
   "metadata": {},
   "source": [
    "# load the model from disk"
   ]
  },
  {
   "cell_type": "code",
   "execution_count": 203,
   "metadata": {},
   "outputs": [],
   "source": [
    "best_kNN = pickle.load(open('models/RDKiT/Toxicity_kNN_RDKiT.pkl', 'rb'))"
   ]
  },
  {
   "cell_type": "markdown",
   "metadata": {},
   "source": [
    "# 10. Y-randomization kNN"
   ]
  },
  {
   "cell_type": "code",
   "execution_count": 204,
   "metadata": {},
   "outputs": [
    {
     "name": "stderr",
     "output_type": "stream",
     "text": [
      "[Parallel(n_jobs=-1)]: Using backend LokyBackend with 16 concurrent workers.\n",
      "[Parallel(n_jobs=-1)]: Done  18 tasks      | elapsed:    2.8s\n"
     ]
    },
    {
     "name": "stdout",
     "output_type": "stream",
     "text": [
      "True score =  0.47 \n",
      "Y-randomization =  -0.2 \n",
      "p-value =  0.0196\n"
     ]
    },
    {
     "name": "stderr",
     "output_type": "stream",
     "text": [
      "[Parallel(n_jobs=-1)]: Done  50 out of  50 | elapsed:    5.2s finished\n"
     ]
    }
   ],
   "source": [
    "permutations = 50\n",
    "score, permutation_scores, pvalue = permutation_test_score(best_kNN, x_tr, y_tr,\n",
    "                                                           cv=cv, scoring='r2',\n",
    "                                                           n_permutations=permutations,\n",
    "                                                           n_jobs=-1,\n",
    "                                                           verbose=1,\n",
    "                                                           random_state=seed)\n",
    "print('True score = ', score.round(2),\n",
    "      '\\nY-randomization = ', np.mean(permutation_scores).round(2),\n",
    "      '\\np-value = ', pvalue.round(4))"
   ]
  },
  {
   "cell_type": "markdown",
   "metadata": {},
   "source": [
    "# 11. Estimating applicability domain. Method - Euclidian distances, K=1"
   ]
  },
  {
   "cell_type": "code",
   "execution_count": 205,
   "metadata": {},
   "outputs": [],
   "source": [
    "neighbors_k= pairwise_distances(x_tr, n_jobs=-1)\n",
    "neighbors_k.sort(0)"
   ]
  },
  {
   "cell_type": "code",
   "execution_count": 206,
   "metadata": {},
   "outputs": [
    {
     "data": {
      "text/html": [
       "<div>\n",
       "<style scoped>\n",
       "    .dataframe tbody tr th:only-of-type {\n",
       "        vertical-align: middle;\n",
       "    }\n",
       "\n",
       "    .dataframe tbody tr th {\n",
       "        vertical-align: top;\n",
       "    }\n",
       "\n",
       "    .dataframe thead th {\n",
       "        text-align: right;\n",
       "    }\n",
       "</style>\n",
       "<table border=\"1\" class=\"dataframe\">\n",
       "  <thead>\n",
       "    <tr style=\"text-align: right;\">\n",
       "      <th></th>\n",
       "      <th>0</th>\n",
       "      <th>1</th>\n",
       "      <th>2</th>\n",
       "      <th>3</th>\n",
       "      <th>4</th>\n",
       "      <th>5</th>\n",
       "      <th>6</th>\n",
       "      <th>7</th>\n",
       "      <th>8</th>\n",
       "      <th>9</th>\n",
       "      <th>...</th>\n",
       "      <th>7702</th>\n",
       "      <th>7703</th>\n",
       "      <th>7704</th>\n",
       "      <th>7705</th>\n",
       "      <th>7706</th>\n",
       "      <th>7707</th>\n",
       "      <th>7708</th>\n",
       "      <th>7709</th>\n",
       "      <th>7710</th>\n",
       "      <th>7711</th>\n",
       "    </tr>\n",
       "  </thead>\n",
       "  <tbody>\n",
       "    <tr>\n",
       "      <th>0</th>\n",
       "      <td>0.000000</td>\n",
       "      <td>0.000000</td>\n",
       "      <td>0.000000</td>\n",
       "      <td>0.000000</td>\n",
       "      <td>0.000000</td>\n",
       "      <td>0.000000</td>\n",
       "      <td>0.000000</td>\n",
       "      <td>0.000000</td>\n",
       "      <td>0.000000</td>\n",
       "      <td>0.000000</td>\n",
       "      <td>...</td>\n",
       "      <td>0.000000</td>\n",
       "      <td>0.000000</td>\n",
       "      <td>0.000000</td>\n",
       "      <td>0.000000</td>\n",
       "      <td>0.000000</td>\n",
       "      <td>0.000000</td>\n",
       "      <td>0.000000</td>\n",
       "      <td>0.000000</td>\n",
       "      <td>0.000000</td>\n",
       "      <td>0.000000</td>\n",
       "    </tr>\n",
       "    <tr>\n",
       "      <th>1</th>\n",
       "      <td>2.562488</td>\n",
       "      <td>6.832703</td>\n",
       "      <td>1.448362</td>\n",
       "      <td>4.681631</td>\n",
       "      <td>1.562480</td>\n",
       "      <td>2.661715</td>\n",
       "      <td>3.361996</td>\n",
       "      <td>5.787035</td>\n",
       "      <td>1.376064</td>\n",
       "      <td>3.669759</td>\n",
       "      <td>...</td>\n",
       "      <td>3.628012</td>\n",
       "      <td>2.261819</td>\n",
       "      <td>4.167718</td>\n",
       "      <td>8.600130</td>\n",
       "      <td>0.935955</td>\n",
       "      <td>2.519106</td>\n",
       "      <td>8.945021</td>\n",
       "      <td>13.855372</td>\n",
       "      <td>3.890718</td>\n",
       "      <td>8.905823</td>\n",
       "    </tr>\n",
       "    <tr>\n",
       "      <th>2</th>\n",
       "      <td>3.164496</td>\n",
       "      <td>7.323948</td>\n",
       "      <td>3.623594</td>\n",
       "      <td>4.999512</td>\n",
       "      <td>1.813125</td>\n",
       "      <td>3.018221</td>\n",
       "      <td>4.442691</td>\n",
       "      <td>6.076381</td>\n",
       "      <td>1.439991</td>\n",
       "      <td>4.800105</td>\n",
       "      <td>...</td>\n",
       "      <td>3.890718</td>\n",
       "      <td>3.550948</td>\n",
       "      <td>5.021064</td>\n",
       "      <td>8.694206</td>\n",
       "      <td>6.705638</td>\n",
       "      <td>4.227654</td>\n",
       "      <td>9.911580</td>\n",
       "      <td>13.920907</td>\n",
       "      <td>6.770072</td>\n",
       "      <td>8.913528</td>\n",
       "    </tr>\n",
       "    <tr>\n",
       "      <th>3</th>\n",
       "      <td>3.294469</td>\n",
       "      <td>7.935054</td>\n",
       "      <td>3.805816</td>\n",
       "      <td>5.718753</td>\n",
       "      <td>2.382169</td>\n",
       "      <td>3.436536</td>\n",
       "      <td>5.167877</td>\n",
       "      <td>6.184614</td>\n",
       "      <td>1.474926</td>\n",
       "      <td>5.354136</td>\n",
       "      <td>...</td>\n",
       "      <td>6.002839</td>\n",
       "      <td>3.556891</td>\n",
       "      <td>10.329050</td>\n",
       "      <td>8.869283</td>\n",
       "      <td>9.566367</td>\n",
       "      <td>5.794198</td>\n",
       "      <td>9.965301</td>\n",
       "      <td>13.927616</td>\n",
       "      <td>6.855199</td>\n",
       "      <td>10.449749</td>\n",
       "    </tr>\n",
       "    <tr>\n",
       "      <th>4</th>\n",
       "      <td>3.489494</td>\n",
       "      <td>8.309059</td>\n",
       "      <td>3.841268</td>\n",
       "      <td>6.123028</td>\n",
       "      <td>2.578850</td>\n",
       "      <td>3.915887</td>\n",
       "      <td>5.737502</td>\n",
       "      <td>6.276516</td>\n",
       "      <td>1.600469</td>\n",
       "      <td>6.016169</td>\n",
       "      <td>...</td>\n",
       "      <td>7.384877</td>\n",
       "      <td>3.615280</td>\n",
       "      <td>10.482573</td>\n",
       "      <td>10.078299</td>\n",
       "      <td>9.666793</td>\n",
       "      <td>8.600130</td>\n",
       "      <td>9.999884</td>\n",
       "      <td>14.100402</td>\n",
       "      <td>8.544723</td>\n",
       "      <td>10.476759</td>\n",
       "    </tr>\n",
       "    <tr>\n",
       "      <th>...</th>\n",
       "      <td>...</td>\n",
       "      <td>...</td>\n",
       "      <td>...</td>\n",
       "      <td>...</td>\n",
       "      <td>...</td>\n",
       "      <td>...</td>\n",
       "      <td>...</td>\n",
       "      <td>...</td>\n",
       "      <td>...</td>\n",
       "      <td>...</td>\n",
       "      <td>...</td>\n",
       "      <td>...</td>\n",
       "      <td>...</td>\n",
       "      <td>...</td>\n",
       "      <td>...</td>\n",
       "      <td>...</td>\n",
       "      <td>...</td>\n",
       "      <td>...</td>\n",
       "      <td>...</td>\n",
       "      <td>...</td>\n",
       "      <td>...</td>\n",
       "    </tr>\n",
       "    <tr>\n",
       "      <th>7707</th>\n",
       "      <td>75.133698</td>\n",
       "      <td>73.556090</td>\n",
       "      <td>78.585971</td>\n",
       "      <td>70.308503</td>\n",
       "      <td>76.866400</td>\n",
       "      <td>75.451438</td>\n",
       "      <td>75.169849</td>\n",
       "      <td>73.197261</td>\n",
       "      <td>75.075458</td>\n",
       "      <td>78.594127</td>\n",
       "      <td>...</td>\n",
       "      <td>72.505018</td>\n",
       "      <td>74.706794</td>\n",
       "      <td>68.529534</td>\n",
       "      <td>69.624848</td>\n",
       "      <td>73.921960</td>\n",
       "      <td>69.174428</td>\n",
       "      <td>68.071384</td>\n",
       "      <td>69.826393</td>\n",
       "      <td>72.995622</td>\n",
       "      <td>69.702880</td>\n",
       "    </tr>\n",
       "    <tr>\n",
       "      <th>7708</th>\n",
       "      <td>76.932624</td>\n",
       "      <td>73.610367</td>\n",
       "      <td>78.936545</td>\n",
       "      <td>71.087843</td>\n",
       "      <td>77.549940</td>\n",
       "      <td>76.259993</td>\n",
       "      <td>75.810369</td>\n",
       "      <td>73.289557</td>\n",
       "      <td>75.769468</td>\n",
       "      <td>78.765302</td>\n",
       "      <td>...</td>\n",
       "      <td>74.489957</td>\n",
       "      <td>75.604897</td>\n",
       "      <td>70.805419</td>\n",
       "      <td>72.282074</td>\n",
       "      <td>74.412062</td>\n",
       "      <td>71.555304</td>\n",
       "      <td>70.606372</td>\n",
       "      <td>72.112741</td>\n",
       "      <td>74.837928</td>\n",
       "      <td>72.165241</td>\n",
       "    </tr>\n",
       "    <tr>\n",
       "      <th>7709</th>\n",
       "      <td>80.805735</td>\n",
       "      <td>79.391259</td>\n",
       "      <td>83.519863</td>\n",
       "      <td>74.630181</td>\n",
       "      <td>82.746572</td>\n",
       "      <td>80.567789</td>\n",
       "      <td>80.477897</td>\n",
       "      <td>78.807718</td>\n",
       "      <td>79.772532</td>\n",
       "      <td>82.808969</td>\n",
       "      <td>...</td>\n",
       "      <td>80.806368</td>\n",
       "      <td>79.495811</td>\n",
       "      <td>71.829010</td>\n",
       "      <td>73.575325</td>\n",
       "      <td>78.844489</td>\n",
       "      <td>75.966021</td>\n",
       "      <td>72.914635</td>\n",
       "      <td>72.653164</td>\n",
       "      <td>81.081395</td>\n",
       "      <td>74.516930</td>\n",
       "    </tr>\n",
       "    <tr>\n",
       "      <th>7710</th>\n",
       "      <td>93.912378</td>\n",
       "      <td>91.540413</td>\n",
       "      <td>94.638615</td>\n",
       "      <td>90.564006</td>\n",
       "      <td>91.996302</td>\n",
       "      <td>92.527175</td>\n",
       "      <td>92.713480</td>\n",
       "      <td>90.560569</td>\n",
       "      <td>92.951683</td>\n",
       "      <td>94.317355</td>\n",
       "      <td>...</td>\n",
       "      <td>91.521122</td>\n",
       "      <td>92.183459</td>\n",
       "      <td>86.751036</td>\n",
       "      <td>88.392417</td>\n",
       "      <td>90.246292</td>\n",
       "      <td>90.134937</td>\n",
       "      <td>85.907759</td>\n",
       "      <td>84.817102</td>\n",
       "      <td>91.571177</td>\n",
       "      <td>86.234405</td>\n",
       "    </tr>\n",
       "    <tr>\n",
       "      <th>7711</th>\n",
       "      <td>117.163054</td>\n",
       "      <td>116.153876</td>\n",
       "      <td>118.798210</td>\n",
       "      <td>113.219728</td>\n",
       "      <td>118.272643</td>\n",
       "      <td>117.220635</td>\n",
       "      <td>117.173260</td>\n",
       "      <td>114.869848</td>\n",
       "      <td>116.557888</td>\n",
       "      <td>118.875259</td>\n",
       "      <td>...</td>\n",
       "      <td>116.075244</td>\n",
       "      <td>116.503558</td>\n",
       "      <td>111.744476</td>\n",
       "      <td>111.646627</td>\n",
       "      <td>115.846457</td>\n",
       "      <td>112.504260</td>\n",
       "      <td>112.002183</td>\n",
       "      <td>111.941761</td>\n",
       "      <td>116.446000</td>\n",
       "      <td>112.082900</td>\n",
       "    </tr>\n",
       "  </tbody>\n",
       "</table>\n",
       "<p>7712 rows × 7712 columns</p>\n",
       "</div>"
      ],
      "text/plain": [
       "            0           1           2           3           4           5     \\\n",
       "0       0.000000    0.000000    0.000000    0.000000    0.000000    0.000000   \n",
       "1       2.562488    6.832703    1.448362    4.681631    1.562480    2.661715   \n",
       "2       3.164496    7.323948    3.623594    4.999512    1.813125    3.018221   \n",
       "3       3.294469    7.935054    3.805816    5.718753    2.382169    3.436536   \n",
       "4       3.489494    8.309059    3.841268    6.123028    2.578850    3.915887   \n",
       "...          ...         ...         ...         ...         ...         ...   \n",
       "7707   75.133698   73.556090   78.585971   70.308503   76.866400   75.451438   \n",
       "7708   76.932624   73.610367   78.936545   71.087843   77.549940   76.259993   \n",
       "7709   80.805735   79.391259   83.519863   74.630181   82.746572   80.567789   \n",
       "7710   93.912378   91.540413   94.638615   90.564006   91.996302   92.527175   \n",
       "7711  117.163054  116.153876  118.798210  113.219728  118.272643  117.220635   \n",
       "\n",
       "            6           7           8           9     ...        7702  \\\n",
       "0       0.000000    0.000000    0.000000    0.000000  ...    0.000000   \n",
       "1       3.361996    5.787035    1.376064    3.669759  ...    3.628012   \n",
       "2       4.442691    6.076381    1.439991    4.800105  ...    3.890718   \n",
       "3       5.167877    6.184614    1.474926    5.354136  ...    6.002839   \n",
       "4       5.737502    6.276516    1.600469    6.016169  ...    7.384877   \n",
       "...          ...         ...         ...         ...  ...         ...   \n",
       "7707   75.169849   73.197261   75.075458   78.594127  ...   72.505018   \n",
       "7708   75.810369   73.289557   75.769468   78.765302  ...   74.489957   \n",
       "7709   80.477897   78.807718   79.772532   82.808969  ...   80.806368   \n",
       "7710   92.713480   90.560569   92.951683   94.317355  ...   91.521122   \n",
       "7711  117.173260  114.869848  116.557888  118.875259  ...  116.075244   \n",
       "\n",
       "            7703        7704        7705        7706        7707        7708  \\\n",
       "0       0.000000    0.000000    0.000000    0.000000    0.000000    0.000000   \n",
       "1       2.261819    4.167718    8.600130    0.935955    2.519106    8.945021   \n",
       "2       3.550948    5.021064    8.694206    6.705638    4.227654    9.911580   \n",
       "3       3.556891   10.329050    8.869283    9.566367    5.794198    9.965301   \n",
       "4       3.615280   10.482573   10.078299    9.666793    8.600130    9.999884   \n",
       "...          ...         ...         ...         ...         ...         ...   \n",
       "7707   74.706794   68.529534   69.624848   73.921960   69.174428   68.071384   \n",
       "7708   75.604897   70.805419   72.282074   74.412062   71.555304   70.606372   \n",
       "7709   79.495811   71.829010   73.575325   78.844489   75.966021   72.914635   \n",
       "7710   92.183459   86.751036   88.392417   90.246292   90.134937   85.907759   \n",
       "7711  116.503558  111.744476  111.646627  115.846457  112.504260  112.002183   \n",
       "\n",
       "            7709        7710        7711  \n",
       "0       0.000000    0.000000    0.000000  \n",
       "1      13.855372    3.890718    8.905823  \n",
       "2      13.920907    6.770072    8.913528  \n",
       "3      13.927616    6.855199   10.449749  \n",
       "4      14.100402    8.544723   10.476759  \n",
       "...          ...         ...         ...  \n",
       "7707   69.826393   72.995622   69.702880  \n",
       "7708   72.112741   74.837928   72.165241  \n",
       "7709   72.653164   81.081395   74.516930  \n",
       "7710   84.817102   91.571177   86.234405  \n",
       "7711  111.941761  116.446000  112.082900  \n",
       "\n",
       "[7712 rows x 7712 columns]"
      ]
     },
     "execution_count": 206,
     "metadata": {},
     "output_type": "execute_result"
    }
   ],
   "source": [
    "df_tr=pd.DataFrame(neighbors_k)\n",
    "df_tr"
   ]
  },
  {
   "cell_type": "code",
   "execution_count": 207,
   "metadata": {},
   "outputs": [],
   "source": [
    "similarity= neighbors_k"
   ]
  },
  {
   "cell_type": "code",
   "execution_count": 208,
   "metadata": {},
   "outputs": [],
   "source": [
    "Dmean=np.mean(similarity[1,:])"
   ]
  },
  {
   "cell_type": "code",
   "execution_count": 209,
   "metadata": {},
   "outputs": [
    {
     "data": {
      "text/plain": [
       "4.84"
      ]
     },
     "execution_count": 209,
     "metadata": {},
     "output_type": "execute_result"
    }
   ],
   "source": [
    "round(Dmean, 2)"
   ]
  },
  {
   "cell_type": "code",
   "execution_count": 210,
   "metadata": {},
   "outputs": [],
   "source": [
    "std=np.std(similarity[1,:])"
   ]
  },
  {
   "cell_type": "code",
   "execution_count": 211,
   "metadata": {},
   "outputs": [
    {
     "data": {
      "text/plain": [
       "3.48"
      ]
     },
     "execution_count": 211,
     "metadata": {},
     "output_type": "execute_result"
    }
   ],
   "source": [
    "round(std, 2)"
   ]
  },
  {
   "cell_type": "code",
   "execution_count": 212,
   "metadata": {},
   "outputs": [
    {
     "name": "stdout",
     "output_type": "stream",
     "text": [
      "6.57\n"
     ]
    }
   ],
   "source": [
    "model_AD_limit=Dmean+std*0.5\n",
    "print(np.round(model_AD_limit, 2))"
   ]
  },
  {
   "cell_type": "code",
   "execution_count": 213,
   "metadata": {},
   "outputs": [],
   "source": [
    "neighbors_k_ts= pairwise_distances(x_tr,Y=x_ts, n_jobs=-1)\n",
    "neighbors_k_ts.sort(0)"
   ]
  },
  {
   "cell_type": "code",
   "execution_count": 214,
   "metadata": {},
   "outputs": [
    {
     "data": {
      "text/html": [
       "<div>\n",
       "<style scoped>\n",
       "    .dataframe tbody tr th:only-of-type {\n",
       "        vertical-align: middle;\n",
       "    }\n",
       "\n",
       "    .dataframe tbody tr th {\n",
       "        vertical-align: top;\n",
       "    }\n",
       "\n",
       "    .dataframe thead th {\n",
       "        text-align: right;\n",
       "    }\n",
       "</style>\n",
       "<table border=\"1\" class=\"dataframe\">\n",
       "  <thead>\n",
       "    <tr style=\"text-align: right;\">\n",
       "      <th></th>\n",
       "      <th>0</th>\n",
       "      <th>1</th>\n",
       "      <th>2</th>\n",
       "      <th>3</th>\n",
       "      <th>4</th>\n",
       "      <th>5</th>\n",
       "      <th>6</th>\n",
       "      <th>7</th>\n",
       "      <th>8</th>\n",
       "      <th>9</th>\n",
       "      <th>...</th>\n",
       "      <th>1919</th>\n",
       "      <th>1920</th>\n",
       "      <th>1921</th>\n",
       "      <th>1922</th>\n",
       "      <th>1923</th>\n",
       "      <th>1924</th>\n",
       "      <th>1925</th>\n",
       "      <th>1926</th>\n",
       "      <th>1927</th>\n",
       "      <th>1928</th>\n",
       "    </tr>\n",
       "  </thead>\n",
       "  <tbody>\n",
       "    <tr>\n",
       "      <th>0</th>\n",
       "      <td>5.465819</td>\n",
       "      <td>3.063434</td>\n",
       "      <td>6.120520</td>\n",
       "      <td>1.215571</td>\n",
       "      <td>2.042183</td>\n",
       "      <td>1.515443</td>\n",
       "      <td>2.124263</td>\n",
       "      <td>1.025725</td>\n",
       "      <td>4.140815</td>\n",
       "      <td>6.195718</td>\n",
       "      <td>...</td>\n",
       "      <td>9.535378</td>\n",
       "      <td>6.718344</td>\n",
       "      <td>0.912277</td>\n",
       "      <td>3.417354</td>\n",
       "      <td>1.532195</td>\n",
       "      <td>5.493381</td>\n",
       "      <td>2.651548</td>\n",
       "      <td>3.937430</td>\n",
       "      <td>10.205494</td>\n",
       "      <td>10.943144</td>\n",
       "    </tr>\n",
       "    <tr>\n",
       "      <th>1</th>\n",
       "      <td>6.234664</td>\n",
       "      <td>3.486255</td>\n",
       "      <td>6.871261</td>\n",
       "      <td>1.274003</td>\n",
       "      <td>5.930919</td>\n",
       "      <td>1.834408</td>\n",
       "      <td>2.180423</td>\n",
       "      <td>4.632574</td>\n",
       "      <td>4.397817</td>\n",
       "      <td>6.286961</td>\n",
       "      <td>...</td>\n",
       "      <td>11.123143</td>\n",
       "      <td>8.086902</td>\n",
       "      <td>2.671876</td>\n",
       "      <td>4.956988</td>\n",
       "      <td>3.593117</td>\n",
       "      <td>5.741385</td>\n",
       "      <td>3.174836</td>\n",
       "      <td>4.261122</td>\n",
       "      <td>11.111793</td>\n",
       "      <td>11.040162</td>\n",
       "    </tr>\n",
       "    <tr>\n",
       "      <th>2</th>\n",
       "      <td>6.316803</td>\n",
       "      <td>3.733498</td>\n",
       "      <td>7.515488</td>\n",
       "      <td>1.471028</td>\n",
       "      <td>6.743273</td>\n",
       "      <td>1.948316</td>\n",
       "      <td>2.341627</td>\n",
       "      <td>4.793577</td>\n",
       "      <td>4.413711</td>\n",
       "      <td>6.723029</td>\n",
       "      <td>...</td>\n",
       "      <td>11.550254</td>\n",
       "      <td>8.196785</td>\n",
       "      <td>3.332332</td>\n",
       "      <td>4.981049</td>\n",
       "      <td>3.793641</td>\n",
       "      <td>6.125422</td>\n",
       "      <td>3.721587</td>\n",
       "      <td>4.628936</td>\n",
       "      <td>11.131279</td>\n",
       "      <td>11.288966</td>\n",
       "    </tr>\n",
       "    <tr>\n",
       "      <th>3</th>\n",
       "      <td>6.585389</td>\n",
       "      <td>4.169236</td>\n",
       "      <td>7.611287</td>\n",
       "      <td>1.482657</td>\n",
       "      <td>7.055424</td>\n",
       "      <td>2.380174</td>\n",
       "      <td>2.449700</td>\n",
       "      <td>5.243902</td>\n",
       "      <td>5.187092</td>\n",
       "      <td>6.844853</td>\n",
       "      <td>...</td>\n",
       "      <td>11.834881</td>\n",
       "      <td>9.029393</td>\n",
       "      <td>3.756933</td>\n",
       "      <td>5.153448</td>\n",
       "      <td>4.067074</td>\n",
       "      <td>6.232123</td>\n",
       "      <td>4.140182</td>\n",
       "      <td>4.668678</td>\n",
       "      <td>11.291831</td>\n",
       "      <td>11.433518</td>\n",
       "    </tr>\n",
       "    <tr>\n",
       "      <th>4</th>\n",
       "      <td>6.864812</td>\n",
       "      <td>4.318012</td>\n",
       "      <td>7.676110</td>\n",
       "      <td>1.539164</td>\n",
       "      <td>7.311141</td>\n",
       "      <td>2.622992</td>\n",
       "      <td>2.538964</td>\n",
       "      <td>5.825663</td>\n",
       "      <td>5.944842</td>\n",
       "      <td>7.037389</td>\n",
       "      <td>...</td>\n",
       "      <td>12.291220</td>\n",
       "      <td>9.363354</td>\n",
       "      <td>3.890703</td>\n",
       "      <td>5.395340</td>\n",
       "      <td>4.550949</td>\n",
       "      <td>6.623514</td>\n",
       "      <td>4.852862</td>\n",
       "      <td>4.695897</td>\n",
       "      <td>11.499324</td>\n",
       "      <td>11.473860</td>\n",
       "    </tr>\n",
       "    <tr>\n",
       "      <th>...</th>\n",
       "      <td>...</td>\n",
       "      <td>...</td>\n",
       "      <td>...</td>\n",
       "      <td>...</td>\n",
       "      <td>...</td>\n",
       "      <td>...</td>\n",
       "      <td>...</td>\n",
       "      <td>...</td>\n",
       "      <td>...</td>\n",
       "      <td>...</td>\n",
       "      <td>...</td>\n",
       "      <td>...</td>\n",
       "      <td>...</td>\n",
       "      <td>...</td>\n",
       "      <td>...</td>\n",
       "      <td>...</td>\n",
       "      <td>...</td>\n",
       "      <td>...</td>\n",
       "      <td>...</td>\n",
       "      <td>...</td>\n",
       "      <td>...</td>\n",
       "    </tr>\n",
       "    <tr>\n",
       "      <th>7707</th>\n",
       "      <td>80.338922</td>\n",
       "      <td>75.194374</td>\n",
       "      <td>74.820079</td>\n",
       "      <td>75.398762</td>\n",
       "      <td>75.141938</td>\n",
       "      <td>75.828034</td>\n",
       "      <td>74.448412</td>\n",
       "      <td>78.920279</td>\n",
       "      <td>73.853882</td>\n",
       "      <td>72.822870</td>\n",
       "      <td>...</td>\n",
       "      <td>70.320738</td>\n",
       "      <td>69.638145</td>\n",
       "      <td>73.015037</td>\n",
       "      <td>73.793203</td>\n",
       "      <td>73.584213</td>\n",
       "      <td>70.396721</td>\n",
       "      <td>73.250971</td>\n",
       "      <td>72.925727</td>\n",
       "      <td>72.262273</td>\n",
       "      <td>70.724559</td>\n",
       "    </tr>\n",
       "    <tr>\n",
       "      <th>7708</th>\n",
       "      <td>80.582292</td>\n",
       "      <td>75.874683</td>\n",
       "      <td>76.201353</td>\n",
       "      <td>75.984012</td>\n",
       "      <td>75.365956</td>\n",
       "      <td>76.498190</td>\n",
       "      <td>74.928930</td>\n",
       "      <td>79.056085</td>\n",
       "      <td>74.998817</td>\n",
       "      <td>73.314832</td>\n",
       "      <td>...</td>\n",
       "      <td>72.115851</td>\n",
       "      <td>70.937325</td>\n",
       "      <td>73.894682</td>\n",
       "      <td>74.797006</td>\n",
       "      <td>74.512838</td>\n",
       "      <td>73.053279</td>\n",
       "      <td>74.105870</td>\n",
       "      <td>73.897760</td>\n",
       "      <td>73.987772</td>\n",
       "      <td>72.474029</td>\n",
       "    </tr>\n",
       "    <tr>\n",
       "      <th>7709</th>\n",
       "      <td>85.610583</td>\n",
       "      <td>80.624788</td>\n",
       "      <td>81.426791</td>\n",
       "      <td>80.106681</td>\n",
       "      <td>79.355877</td>\n",
       "      <td>81.527688</td>\n",
       "      <td>79.109101</td>\n",
       "      <td>83.911801</td>\n",
       "      <td>80.073310</td>\n",
       "      <td>78.203852</td>\n",
       "      <td>...</td>\n",
       "      <td>72.845865</td>\n",
       "      <td>75.089405</td>\n",
       "      <td>78.752501</td>\n",
       "      <td>78.260727</td>\n",
       "      <td>77.933894</td>\n",
       "      <td>73.650932</td>\n",
       "      <td>79.158358</td>\n",
       "      <td>77.637680</td>\n",
       "      <td>79.799729</td>\n",
       "      <td>73.208492</td>\n",
       "    </tr>\n",
       "    <tr>\n",
       "      <th>7710</th>\n",
       "      <td>95.580120</td>\n",
       "      <td>91.566371</td>\n",
       "      <td>93.381943</td>\n",
       "      <td>93.038977</td>\n",
       "      <td>91.886781</td>\n",
       "      <td>91.586688</td>\n",
       "      <td>92.722557</td>\n",
       "      <td>94.148698</td>\n",
       "      <td>88.187959</td>\n",
       "      <td>91.504208</td>\n",
       "      <td>...</td>\n",
       "      <td>85.461066</td>\n",
       "      <td>87.054621</td>\n",
       "      <td>91.851129</td>\n",
       "      <td>92.173394</td>\n",
       "      <td>91.186276</td>\n",
       "      <td>83.418615</td>\n",
       "      <td>92.256111</td>\n",
       "      <td>91.054589</td>\n",
       "      <td>91.296886</td>\n",
       "      <td>87.232108</td>\n",
       "    </tr>\n",
       "    <tr>\n",
       "      <th>7711</th>\n",
       "      <td>120.159755</td>\n",
       "      <td>116.830472</td>\n",
       "      <td>117.638602</td>\n",
       "      <td>116.768683</td>\n",
       "      <td>116.537692</td>\n",
       "      <td>117.484805</td>\n",
       "      <td>115.939943</td>\n",
       "      <td>118.895632</td>\n",
       "      <td>116.915052</td>\n",
       "      <td>114.922416</td>\n",
       "      <td>...</td>\n",
       "      <td>110.556637</td>\n",
       "      <td>112.810353</td>\n",
       "      <td>115.622523</td>\n",
       "      <td>115.905034</td>\n",
       "      <td>115.783889</td>\n",
       "      <td>111.155273</td>\n",
       "      <td>115.610501</td>\n",
       "      <td>115.385405</td>\n",
       "      <td>115.719550</td>\n",
       "      <td>111.091906</td>\n",
       "    </tr>\n",
       "  </tbody>\n",
       "</table>\n",
       "<p>7712 rows × 1929 columns</p>\n",
       "</div>"
      ],
      "text/plain": [
       "            0           1           2           3           4           5     \\\n",
       "0       5.465819    3.063434    6.120520    1.215571    2.042183    1.515443   \n",
       "1       6.234664    3.486255    6.871261    1.274003    5.930919    1.834408   \n",
       "2       6.316803    3.733498    7.515488    1.471028    6.743273    1.948316   \n",
       "3       6.585389    4.169236    7.611287    1.482657    7.055424    2.380174   \n",
       "4       6.864812    4.318012    7.676110    1.539164    7.311141    2.622992   \n",
       "...          ...         ...         ...         ...         ...         ...   \n",
       "7707   80.338922   75.194374   74.820079   75.398762   75.141938   75.828034   \n",
       "7708   80.582292   75.874683   76.201353   75.984012   75.365956   76.498190   \n",
       "7709   85.610583   80.624788   81.426791   80.106681   79.355877   81.527688   \n",
       "7710   95.580120   91.566371   93.381943   93.038977   91.886781   91.586688   \n",
       "7711  120.159755  116.830472  117.638602  116.768683  116.537692  117.484805   \n",
       "\n",
       "            6           7           8           9     ...        1919  \\\n",
       "0       2.124263    1.025725    4.140815    6.195718  ...    9.535378   \n",
       "1       2.180423    4.632574    4.397817    6.286961  ...   11.123143   \n",
       "2       2.341627    4.793577    4.413711    6.723029  ...   11.550254   \n",
       "3       2.449700    5.243902    5.187092    6.844853  ...   11.834881   \n",
       "4       2.538964    5.825663    5.944842    7.037389  ...   12.291220   \n",
       "...          ...         ...         ...         ...  ...         ...   \n",
       "7707   74.448412   78.920279   73.853882   72.822870  ...   70.320738   \n",
       "7708   74.928930   79.056085   74.998817   73.314832  ...   72.115851   \n",
       "7709   79.109101   83.911801   80.073310   78.203852  ...   72.845865   \n",
       "7710   92.722557   94.148698   88.187959   91.504208  ...   85.461066   \n",
       "7711  115.939943  118.895632  116.915052  114.922416  ...  110.556637   \n",
       "\n",
       "            1920        1921        1922        1923        1924        1925  \\\n",
       "0       6.718344    0.912277    3.417354    1.532195    5.493381    2.651548   \n",
       "1       8.086902    2.671876    4.956988    3.593117    5.741385    3.174836   \n",
       "2       8.196785    3.332332    4.981049    3.793641    6.125422    3.721587   \n",
       "3       9.029393    3.756933    5.153448    4.067074    6.232123    4.140182   \n",
       "4       9.363354    3.890703    5.395340    4.550949    6.623514    4.852862   \n",
       "...          ...         ...         ...         ...         ...         ...   \n",
       "7707   69.638145   73.015037   73.793203   73.584213   70.396721   73.250971   \n",
       "7708   70.937325   73.894682   74.797006   74.512838   73.053279   74.105870   \n",
       "7709   75.089405   78.752501   78.260727   77.933894   73.650932   79.158358   \n",
       "7710   87.054621   91.851129   92.173394   91.186276   83.418615   92.256111   \n",
       "7711  112.810353  115.622523  115.905034  115.783889  111.155273  115.610501   \n",
       "\n",
       "            1926        1927        1928  \n",
       "0       3.937430   10.205494   10.943144  \n",
       "1       4.261122   11.111793   11.040162  \n",
       "2       4.628936   11.131279   11.288966  \n",
       "3       4.668678   11.291831   11.433518  \n",
       "4       4.695897   11.499324   11.473860  \n",
       "...          ...         ...         ...  \n",
       "7707   72.925727   72.262273   70.724559  \n",
       "7708   73.897760   73.987772   72.474029  \n",
       "7709   77.637680   79.799729   73.208492  \n",
       "7710   91.054589   91.296886   87.232108  \n",
       "7711  115.385405  115.719550  111.091906  \n",
       "\n",
       "[7712 rows x 1929 columns]"
      ]
     },
     "execution_count": 214,
     "metadata": {},
     "output_type": "execute_result"
    }
   ],
   "source": [
    "x_ts_AD=pd.DataFrame(neighbors_k_ts)\n",
    "x_ts_AD"
   ]
  },
  {
   "cell_type": "code",
   "execution_count": 215,
   "metadata": {},
   "outputs": [
    {
     "name": "stdout",
     "output_type": "stream",
     "text": [
      "[ 5.466  3.063  6.121 ...  3.937 10.205 10.943]\n"
     ]
    }
   ],
   "source": [
    "similarity_ts= neighbors_k_ts\n",
    "cpd_AD=similarity_ts[0,:]\n",
    "cpd_value = np.round(cpd_AD, 3)\n",
    "print(cpd_value)"
   ]
  },
  {
   "cell_type": "code",
   "execution_count": 216,
   "metadata": {},
   "outputs": [
    {
     "name": "stdout",
     "output_type": "stream",
     "text": [
      "[ True  True  True ...  True False False]\n"
     ]
    }
   ],
   "source": [
    "cpd_AD = np.where(cpd_value <= model_AD_limit, True, False)\n",
    "print(cpd_AD)"
   ]
  },
  {
   "cell_type": "code",
   "execution_count": 217,
   "metadata": {},
   "outputs": [
    {
     "name": "stdout",
     "output_type": "stream",
     "text": [
      "Coverage =  0.78\n"
     ]
    }
   ],
   "source": [
    "print(\"Coverage = \", round(sum(cpd_AD) / len(cpd_AD), 2))"
   ]
  },
  {
   "cell_type": "code",
   "execution_count": 218,
   "metadata": {},
   "outputs": [
    {
     "name": "stdout",
     "output_type": "stream",
     "text": [
      "Indices of substances included in AD =  [   0    1    2 ... 1924 1925 1926]\n"
     ]
    }
   ],
   "source": [
    "print(\"Indices of substances included in AD = \", np.where(cpd_AD != 0)[0])"
   ]
  },
  {
   "cell_type": "code",
   "execution_count": 219,
   "metadata": {},
   "outputs": [],
   "source": [
    "out_Ad=list(np.where(cpd_AD == 0)[0])"
   ]
  },
  {
   "cell_type": "markdown",
   "metadata": {},
   "source": [
    "# 12. Prediction only for molecules included in  AD"
   ]
  },
  {
   "cell_type": "code",
   "execution_count": 220,
   "metadata": {},
   "outputs": [],
   "source": [
    "y_pred_kNN_ad=list(y_pred_kNN)"
   ]
  },
  {
   "cell_type": "code",
   "execution_count": 221,
   "metadata": {},
   "outputs": [],
   "source": [
    "y_pred_kNN_ad[:] = [x for i,x in enumerate(y_pred_kNN_ad) if i not in out_Ad]"
   ]
  },
  {
   "cell_type": "code",
   "execution_count": 222,
   "metadata": {},
   "outputs": [
    {
     "data": {
      "text/plain": [
       "1508"
      ]
     },
     "execution_count": 222,
     "metadata": {},
     "output_type": "execute_result"
    }
   ],
   "source": [
    "len(y_pred_kNN_ad)"
   ]
  },
  {
   "cell_type": "code",
   "execution_count": 223,
   "metadata": {},
   "outputs": [],
   "source": [
    "y_ts_ad=list(y_ts)"
   ]
  },
  {
   "cell_type": "code",
   "execution_count": 224,
   "metadata": {},
   "outputs": [],
   "source": [
    "y_ts_ad[:] = [x for i,x in enumerate(y_ts_ad) if i not in out_Ad]"
   ]
  },
  {
   "cell_type": "code",
   "execution_count": 225,
   "metadata": {},
   "outputs": [
    {
     "data": {
      "text/plain": [
       "1508"
      ]
     },
     "execution_count": 225,
     "metadata": {},
     "output_type": "execute_result"
    }
   ],
   "source": [
    "len(y_ts_ad)"
   ]
  },
  {
   "cell_type": "code",
   "execution_count": 226,
   "metadata": {},
   "outputs": [
    {
     "data": {
      "text/plain": [
       "0.57"
      ]
     },
     "execution_count": 226,
     "metadata": {},
     "output_type": "execute_result"
    }
   ],
   "source": [
    "Q2_TS = round(r2_score(y_ts_ad, y_pred_kNN_ad), 2)\n",
    "Q2_TS"
   ]
  },
  {
   "cell_type": "code",
   "execution_count": 227,
   "metadata": {
    "scrolled": true
   },
   "outputs": [
    {
     "data": {
      "text/plain": [
       "0.65"
      ]
     },
     "execution_count": 227,
     "metadata": {},
     "output_type": "execute_result"
    }
   ],
   "source": [
    "RMSE_TS=round(np.sqrt(mean_absolute_error(y_ts_ad, y_pred_kNN_ad)), 2)\n",
    "RMSE_TS"
   ]
  },
  {
   "cell_type": "markdown",
   "metadata": {},
   "source": [
    "# Analyzing the importance of descriptors for the GBM model"
   ]
  },
  {
   "cell_type": "code",
   "execution_count": 228,
   "metadata": {},
   "outputs": [],
   "source": [
    "import shap"
   ]
  },
  {
   "cell_type": "code",
   "execution_count": 229,
   "metadata": {},
   "outputs": [],
   "source": [
    "explainer = shap.Explainer(best_GBR)"
   ]
  },
  {
   "cell_type": "code",
   "execution_count": 230,
   "metadata": {},
   "outputs": [],
   "source": [
    "shap_values = explainer(x_tr)"
   ]
  },
  {
   "cell_type": "code",
   "execution_count": 231,
   "metadata": {},
   "outputs": [
    {
     "data": {
      "image/png": "[encoded data removed]",
      "text/plain": [
       "<Figure size 800x550 with 2 Axes>"
      ]
     },
     "metadata": {},
     "output_type": "display_data"
    }
   ],
   "source": [
    "shap.plots.beeswarm(shap_values)"
   ]
  },
  {
   "cell_type": "code",
   "execution_count": 232,
   "metadata": {},
   "outputs": [
    {
     "data": {
      "image/png": "[encoded data removed]",
      "text/plain": [
       "<Figure size 800x650 with 1 Axes>"
      ]
     },
     "metadata": {},
     "output_type": "display_data"
    }
   ],
   "source": [
    "shap.plots.bar(shap_values)"
   ]
  }
 ],
 "metadata": {
  "kernelspec": {
   "display_name": "Python3 (rdkit)",
   "language": "python",
   "name": "my-rdkit-env"
  },
  "language_info": {
   "codemirror_mode": {
    "name": "ipython",
    "version": 3
   },
   "file_extension": ".py",
   "mimetype": "text/x-python",
   "name": "python",
   "nbconvert_exporter": "python",
   "pygments_lexer": "ipython3",
   "version": "3.10.12"
  },
  "toc": {
   "base_numbering": 1,
   "nav_menu": {},
   "number_sections": true,
   "sideBar": true,
   "skip_h1_title": false,
   "title_cell": "Table of Contents",
   "title_sidebar": "Contents",
   "toc_cell": false,
   "toc_position": {
    "height": "calc(100% - 180px)",
    "left": "10px",
    "top": "150px",
    "width": "384px"
   },
   "toc_section_display": true,
   "toc_window_display": true
  },
  "widgets": {
   "application/vnd.jupyter.widget-state+json": {
    "state": {},
    "version_major": 2,
    "version_minor": 0
   }
  }
 },
 "nbformat": 4,
 "nbformat_minor": 4
}
