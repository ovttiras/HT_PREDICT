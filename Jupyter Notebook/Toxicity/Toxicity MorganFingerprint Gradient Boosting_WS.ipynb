{
 "cells": [
  {
   "cell_type": "markdown",
   "metadata": {},
   "source": [
    "# 1. Importing modules and functions"
   ]
  },
  {
   "cell_type": "code",
   "execution_count": 1,
   "metadata": {},
   "outputs": [
    {
     "name": "stderr",
     "output_type": "stream",
     "text": [
      "[05:22:44] Initializing Normalizer\n"
     ]
    }
   ],
   "source": [
    "from rdkit import Chem, DataStructs\n",
    "from rdkit.Chem import AllChem, Descriptors\n",
    "from rdkit.ML.Descriptors import MoleculeDescriptors\n",
    "import chembl_structure_pipeline\n",
    "from molvs import standardize_smiles\n",
    "import numpy as np\n",
    "import pandas as pd\n",
    "from copy import deepcopy\n",
    "from sklearn.svm import SVR\n",
    "from sklearn.model_selection import train_test_split,KFold, StratifiedKFold, GridSearchCV\n",
    "from sklearn.model_selection import permutation_test_score\n",
    "from sklearn.preprocessing import StandardScaler\n",
    "from sklearn.model_selection import cross_val_predict\n",
    "from sklearn import metrics\n",
    "from sklearn.metrics import cohen_kappa_score\n",
    "from sklearn.metrics import balanced_accuracy_score\n",
    "from sklearn.metrics import pairwise_distances\n",
    "from sklearn.model_selection import train_test_split\n",
    "from sklearn.ensemble import GradientBoostingRegressor\n",
    "from sklearn.ensemble import RandomForestRegressor\n",
    "from sklearn.metrics import mean_squared_error\n",
    "from sklearn.metrics import mean_absolute_error\n",
    "from sklearn.metrics import r2_score\n",
    "import joblib\n",
    "import pickle\n",
    "from numpy import savetxt\n",
    "from IPython.display import HTML\n",
    "from rdkit.Chem import PandasTools"
   ]
  },
  {
   "cell_type": "code",
   "execution_count": 2,
   "metadata": {},
   "outputs": [],
   "source": [
    "def convert_smi_to_canon_smi(smi):\n",
    "    \n",
    "    try:\n",
    "        canon_smi = Chem.MolToSmiles(Chem.MolFromSmiles(smi),isomericSmiles = False)\n",
    "    except:\n",
    "        canon_smi='wrong_smiles'\n",
    "    return canon_smi"
   ]
  },
  {
   "cell_type": "code",
   "execution_count": 3,
   "metadata": {},
   "outputs": [],
   "source": [
    "def standart(smi):\n",
    "    global m\n",
    "    if smi!='wrong_smiles':\n",
    "        try:\n",
    "            smiles=standardize_smiles(smi)\n",
    "            m = Chem.MolFromSmiles(smi)\n",
    "        except:\n",
    "            smi='error kekule'\n",
    "    else:\n",
    "        m = 'check the smiles'\n",
    "    return m"
   ]
  },
  {
   "cell_type": "markdown",
   "metadata": {},
   "source": [
    "# MORGAN FP_Gradient Boosting Rat oral LD50, mg/kg  "
   ]
  },
  {
   "cell_type": "markdown",
   "metadata": {},
   "source": [
    "## Load data and curation work set"
   ]
  },
  {
   "cell_type": "code",
   "execution_count": 4,
   "metadata": {},
   "outputs": [
    {
     "data": {
      "text/html": [
       "<div>\n",
       "<style scoped>\n",
       "    .dataframe tbody tr th:only-of-type {\n",
       "        vertical-align: middle;\n",
       "    }\n",
       "\n",
       "    .dataframe tbody tr th {\n",
       "        vertical-align: top;\n",
       "    }\n",
       "\n",
       "    .dataframe thead th {\n",
       "        text-align: right;\n",
       "    }\n",
       "</style>\n",
       "<table border=\"1\" class=\"dataframe\">\n",
       "  <thead>\n",
       "    <tr style=\"text-align: right;\">\n",
       "      <th></th>\n",
       "      <th>CAS_Number</th>\n",
       "      <th>SMILES</th>\n",
       "      <th>pLD50</th>\n",
       "      <th>LD50,mg/kg</th>\n",
       "    </tr>\n",
       "  </thead>\n",
       "  <tbody>\n",
       "    <tr>\n",
       "      <th>0</th>\n",
       "      <td>626-48-2</td>\n",
       "      <td>Cc1cc(=O)[nH]c(=O)[nH]1</td>\n",
       "      <td>0.291207</td>\n",
       "      <td>64463.0000</td>\n",
       "    </tr>\n",
       "    <tr>\n",
       "      <th>1</th>\n",
       "      <td>27849-94-1</td>\n",
       "      <td>CC(CCc1ccc2c(c1)OCO2)NN</td>\n",
       "      <td>0.440660</td>\n",
       "      <td>75449.0000</td>\n",
       "    </tr>\n",
       "    <tr>\n",
       "      <th>2</th>\n",
       "      <td>110-54-3</td>\n",
       "      <td>CCCCCC</td>\n",
       "      <td>0.537460</td>\n",
       "      <td>24980.0000</td>\n",
       "    </tr>\n",
       "    <tr>\n",
       "      <th>3</th>\n",
       "      <td>1330-92-3</td>\n",
       "      <td>CCCCC(CC)COC(=O)C1=C(C(=O)OCC(CC)CCCC)CCCC1</td>\n",
       "      <td>0.539250</td>\n",
       "      <td>113917.0000</td>\n",
       "    </tr>\n",
       "    <tr>\n",
       "      <th>4</th>\n",
       "      <td>57-55-6</td>\n",
       "      <td>CC(O)CO</td>\n",
       "      <td>0.580330</td>\n",
       "      <td>19989.0000</td>\n",
       "    </tr>\n",
       "    <tr>\n",
       "      <th>...</th>\n",
       "      <td>...</td>\n",
       "      <td>...</td>\n",
       "      <td>...</td>\n",
       "      <td>...</td>\n",
       "    </tr>\n",
       "    <tr>\n",
       "      <th>7707</th>\n",
       "      <td>56073-10-0</td>\n",
       "      <td>O=c1oc2ccccc2c(O)c1C1CC(c2ccc(-c3ccc(Br)cc3)cc...</td>\n",
       "      <td>6.514700</td>\n",
       "      <td>0.1596</td>\n",
       "    </tr>\n",
       "    <tr>\n",
       "      <th>7708</th>\n",
       "      <td>130209-82-4</td>\n",
       "      <td>CC(C)OC(=O)CCC/C=C/CC1C(O)CC(O)C1CCC(O)CCc1ccccc1</td>\n",
       "      <td>6.937100</td>\n",
       "      <td>0.0500</td>\n",
       "    </tr>\n",
       "    <tr>\n",
       "      <th>7709</th>\n",
       "      <td>83805-11-2</td>\n",
       "      <td>C=C1/C(=C\\C=C2/CCCC3(C)C2CCC3C(C)CCCC(O)(C(F)(...</td>\n",
       "      <td>7.099700</td>\n",
       "      <td>0.0417</td>\n",
       "    </tr>\n",
       "    <tr>\n",
       "      <th>7710</th>\n",
       "      <td>1746-01-6</td>\n",
       "      <td>Clc1cc2c(cc1Cl)Oc1cc(Cl)c(Cl)cc1O2</td>\n",
       "      <td>7.206800</td>\n",
       "      <td>0.0199</td>\n",
       "    </tr>\n",
       "    <tr>\n",
       "      <th>7711</th>\n",
       "      <td>316-42-7</td>\n",
       "      <td>CCC1CN2CCc3cc(OC)c(OC)cc3C2CC1CC1NCCc2cc(OC)c(...</td>\n",
       "      <td>7.602600</td>\n",
       "      <td>0.0120</td>\n",
       "    </tr>\n",
       "  </tbody>\n",
       "</table>\n",
       "<p>7712 rows × 4 columns</p>\n",
       "</div>"
      ],
      "text/plain": [
       "       CAS_Number                                             SMILES  \\\n",
       "0        626-48-2                            Cc1cc(=O)[nH]c(=O)[nH]1   \n",
       "1      27849-94-1                            CC(CCc1ccc2c(c1)OCO2)NN   \n",
       "2        110-54-3                                             CCCCCC   \n",
       "3       1330-92-3        CCCCC(CC)COC(=O)C1=C(C(=O)OCC(CC)CCCC)CCCC1   \n",
       "4         57-55-6                                            CC(O)CO   \n",
       "...           ...                                                ...   \n",
       "7707   56073-10-0  O=c1oc2ccccc2c(O)c1C1CC(c2ccc(-c3ccc(Br)cc3)cc...   \n",
       "7708  130209-82-4  CC(C)OC(=O)CCC/C=C/CC1C(O)CC(O)C1CCC(O)CCc1ccccc1   \n",
       "7709   83805-11-2  C=C1/C(=C\\C=C2/CCCC3(C)C2CCC3C(C)CCCC(O)(C(F)(...   \n",
       "7710    1746-01-6                 Clc1cc2c(cc1Cl)Oc1cc(Cl)c(Cl)cc1O2   \n",
       "7711     316-42-7  CCC1CN2CCc3cc(OC)c(OC)cc3C2CC1CC1NCCc2cc(OC)c(...   \n",
       "\n",
       "         pLD50   LD50,mg/kg  \n",
       "0     0.291207   64463.0000  \n",
       "1     0.440660   75449.0000  \n",
       "2     0.537460   24980.0000  \n",
       "3     0.539250  113917.0000  \n",
       "4     0.580330   19989.0000  \n",
       "...        ...          ...  \n",
       "7707  6.514700       0.1596  \n",
       "7708  6.937100       0.0500  \n",
       "7709  7.099700       0.0417  \n",
       "7710  7.206800       0.0199  \n",
       "7711  7.602600       0.0120  \n",
       "\n",
       "[7712 rows x 4 columns]"
      ]
     },
     "execution_count": 4,
     "metadata": {},
     "output_type": "execute_result"
    }
   ],
   "source": [
    "# Set file path\n",
    "df_ws=pd.read_csv('rat_oral_LD50_WS.csv')\n",
    "df_ws"
   ]
  },
  {
   "cell_type": "markdown",
   "metadata": {},
   "source": [
    " Convert a SMILES string to canonical SMILES"
   ]
  },
  {
   "cell_type": "code",
   "execution_count": 5,
   "metadata": {},
   "outputs": [
    {
     "data": {
      "text/html": [
       "<div>\n",
       "<style scoped>\n",
       "    .dataframe tbody tr th:only-of-type {\n",
       "        vertical-align: middle;\n",
       "    }\n",
       "\n",
       "    .dataframe tbody tr th {\n",
       "        vertical-align: top;\n",
       "    }\n",
       "\n",
       "    .dataframe thead th {\n",
       "        text-align: right;\n",
       "    }\n",
       "</style>\n",
       "<table border=\"1\" class=\"dataframe\">\n",
       "  <thead>\n",
       "    <tr style=\"text-align: right;\">\n",
       "      <th></th>\n",
       "      <th>CAS_Number</th>\n",
       "      <th>SMILES</th>\n",
       "      <th>pLD50</th>\n",
       "      <th>LD50,mg/kg</th>\n",
       "    </tr>\n",
       "  </thead>\n",
       "  <tbody>\n",
       "    <tr>\n",
       "      <th>0</th>\n",
       "      <td>626-48-2</td>\n",
       "      <td>Cc1cc(=O)[nH]c(=O)[nH]1</td>\n",
       "      <td>0.291207</td>\n",
       "      <td>64463.0000</td>\n",
       "    </tr>\n",
       "    <tr>\n",
       "      <th>1</th>\n",
       "      <td>27849-94-1</td>\n",
       "      <td>CC(CCc1ccc2c(c1)OCO2)NN</td>\n",
       "      <td>0.440660</td>\n",
       "      <td>75449.0000</td>\n",
       "    </tr>\n",
       "    <tr>\n",
       "      <th>2</th>\n",
       "      <td>110-54-3</td>\n",
       "      <td>CCCCCC</td>\n",
       "      <td>0.537460</td>\n",
       "      <td>24980.0000</td>\n",
       "    </tr>\n",
       "    <tr>\n",
       "      <th>3</th>\n",
       "      <td>1330-92-3</td>\n",
       "      <td>CCCCC(CC)COC(=O)C1=C(C(=O)OCC(CC)CCCC)CCCC1</td>\n",
       "      <td>0.539250</td>\n",
       "      <td>113917.0000</td>\n",
       "    </tr>\n",
       "    <tr>\n",
       "      <th>4</th>\n",
       "      <td>57-55-6</td>\n",
       "      <td>CC(O)CO</td>\n",
       "      <td>0.580330</td>\n",
       "      <td>19989.0000</td>\n",
       "    </tr>\n",
       "    <tr>\n",
       "      <th>...</th>\n",
       "      <td>...</td>\n",
       "      <td>...</td>\n",
       "      <td>...</td>\n",
       "      <td>...</td>\n",
       "    </tr>\n",
       "    <tr>\n",
       "      <th>7707</th>\n",
       "      <td>56073-10-0</td>\n",
       "      <td>O=c1oc2ccccc2c(O)c1C1CC(c2ccc(-c3ccc(Br)cc3)cc...</td>\n",
       "      <td>6.514700</td>\n",
       "      <td>0.1596</td>\n",
       "    </tr>\n",
       "    <tr>\n",
       "      <th>7708</th>\n",
       "      <td>130209-82-4</td>\n",
       "      <td>CC(C)OC(=O)CCCC=CCC1C(O)CC(O)C1CCC(O)CCc1ccccc1</td>\n",
       "      <td>6.937100</td>\n",
       "      <td>0.0500</td>\n",
       "    </tr>\n",
       "    <tr>\n",
       "      <th>7709</th>\n",
       "      <td>83805-11-2</td>\n",
       "      <td>C=C1C(=CC=C2CCCC3(C)C2CCC3C(C)CCCC(O)(C(F)(F)F...</td>\n",
       "      <td>7.099700</td>\n",
       "      <td>0.0417</td>\n",
       "    </tr>\n",
       "    <tr>\n",
       "      <th>7710</th>\n",
       "      <td>1746-01-6</td>\n",
       "      <td>Clc1cc2c(cc1Cl)Oc1cc(Cl)c(Cl)cc1O2</td>\n",
       "      <td>7.206800</td>\n",
       "      <td>0.0199</td>\n",
       "    </tr>\n",
       "    <tr>\n",
       "      <th>7711</th>\n",
       "      <td>316-42-7</td>\n",
       "      <td>CCC1CN2CCc3cc(OC)c(OC)cc3C2CC1CC1NCCc2cc(OC)c(...</td>\n",
       "      <td>7.602600</td>\n",
       "      <td>0.0120</td>\n",
       "    </tr>\n",
       "  </tbody>\n",
       "</table>\n",
       "<p>7712 rows × 4 columns</p>\n",
       "</div>"
      ],
      "text/plain": [
       "       CAS_Number                                             SMILES  \\\n",
       "0        626-48-2                            Cc1cc(=O)[nH]c(=O)[nH]1   \n",
       "1      27849-94-1                            CC(CCc1ccc2c(c1)OCO2)NN   \n",
       "2        110-54-3                                             CCCCCC   \n",
       "3       1330-92-3        CCCCC(CC)COC(=O)C1=C(C(=O)OCC(CC)CCCC)CCCC1   \n",
       "4         57-55-6                                            CC(O)CO   \n",
       "...           ...                                                ...   \n",
       "7707   56073-10-0  O=c1oc2ccccc2c(O)c1C1CC(c2ccc(-c3ccc(Br)cc3)cc...   \n",
       "7708  130209-82-4    CC(C)OC(=O)CCCC=CCC1C(O)CC(O)C1CCC(O)CCc1ccccc1   \n",
       "7709   83805-11-2  C=C1C(=CC=C2CCCC3(C)C2CCC3C(C)CCCC(O)(C(F)(F)F...   \n",
       "7710    1746-01-6                 Clc1cc2c(cc1Cl)Oc1cc(Cl)c(Cl)cc1O2   \n",
       "7711     316-42-7  CCC1CN2CCc3cc(OC)c(OC)cc3C2CC1CC1NCCc2cc(OC)c(...   \n",
       "\n",
       "         pLD50   LD50,mg/kg  \n",
       "0     0.291207   64463.0000  \n",
       "1     0.440660   75449.0000  \n",
       "2     0.537460   24980.0000  \n",
       "3     0.539250  113917.0000  \n",
       "4     0.580330   19989.0000  \n",
       "...        ...          ...  \n",
       "7707  6.514700       0.1596  \n",
       "7708  6.937100       0.0500  \n",
       "7709  7.099700       0.0417  \n",
       "7710  7.206800       0.0199  \n",
       "7711  7.602600       0.0120  \n",
       "\n",
       "[7712 rows x 4 columns]"
      ]
     },
     "execution_count": 5,
     "metadata": {},
     "output_type": "execute_result"
    }
   ],
   "source": [
    "df_ws1 = deepcopy(df_ws)\n",
    "df_ws1[\"SMILES\"] = df_ws1.apply(lambda x: convert_smi_to_canon_smi(x.SMILES), axis=1)\n",
    "df_ws1"
   ]
  },
  {
   "cell_type": "code",
   "execution_count": 6,
   "metadata": {},
   "outputs": [
    {
     "name": "stdout",
     "output_type": "stream",
     "text": [
      "Original data:  7712 molecules\n",
      "Failed data:  0 molecules\n"
     ]
    }
   ],
   "source": [
    "print('Original data: ', len(df_ws), 'molecules')\n",
    "print('Failed data: ', len(df_ws1[df_ws1['SMILES']=='wrong_smiles']), 'molecules')"
   ]
  },
  {
   "cell_type": "code",
   "execution_count": 7,
   "metadata": {
    "scrolled": true
   },
   "outputs": [
    {
     "data": {
      "text/html": [
       "<div>\n",
       "<style scoped>\n",
       "    .dataframe tbody tr th:only-of-type {\n",
       "        vertical-align: middle;\n",
       "    }\n",
       "\n",
       "    .dataframe tbody tr th {\n",
       "        vertical-align: top;\n",
       "    }\n",
       "\n",
       "    .dataframe thead th {\n",
       "        text-align: right;\n",
       "    }\n",
       "</style>\n",
       "<table border=\"1\" class=\"dataframe\">\n",
       "  <thead>\n",
       "    <tr style=\"text-align: right;\">\n",
       "      <th></th>\n",
       "      <th>SMILES of wrong structure:</th>\n",
       "    </tr>\n",
       "    <tr>\n",
       "      <th>No. failed smiles in original set</th>\n",
       "      <th></th>\n",
       "    </tr>\n",
       "  </thead>\n",
       "  <tbody>\n",
       "  </tbody>\n",
       "</table>\n",
       "</div>"
      ],
      "text/plain": [
       "Empty DataFrame\n",
       "Columns: [SMILES of wrong structure: ]\n",
       "Index: []"
      ]
     },
     "execution_count": 7,
     "metadata": {},
     "output_type": "execute_result"
    }
   ],
   "source": [
    "index=df_ws1.index[df_ws1['SMILES']=='wrong_smiles'].tolist()\n",
    "wrong_smiles=df_ws.iloc[index]\n",
    "wrong_smiles=wrong_smiles.SMILES\n",
    "number=[x+1 for x in index]\n",
    "bad_molecules = pd.DataFrame({'No. failed smiles in original set': number, 'SMILES of wrong structure: ': wrong_smiles}, index=None)\n",
    "bad_molecules = bad_molecules.set_index('No. failed smiles in original set')\n",
    "bad_molecules"
   ]
  },
  {
   "cell_type": "markdown",
   "metadata": {},
   "source": [
    "##  Standardization  for work set"
   ]
  },
  {
   "cell_type": "code",
   "execution_count": 8,
   "metadata": {},
   "outputs": [
    {
     "name": "stdout",
     "output_type": "stream",
     "text": [
      "Kept data:  7712 molecules\n"
     ]
    }
   ],
   "source": [
    "df_ws1[\"Molecule\"] = df_ws1.apply(lambda x: standart(x.SMILES), axis=1)\n",
    "moldf_ws=df_ws1[df_ws1['SMILES']!='wrong_smiles']\n",
    "print('Kept data: ', len(moldf_ws), 'molecules')"
   ]
  },
  {
   "cell_type": "code",
   "execution_count": 9,
   "metadata": {},
   "outputs": [
    {
     "data": {
      "text/html": [
       "<div>\n",
       "<style scoped>\n",
       "    .dataframe tbody tr th:only-of-type {\n",
       "        vertical-align: middle;\n",
       "    }\n",
       "\n",
       "    .dataframe tbody tr th {\n",
       "        vertical-align: top;\n",
       "    }\n",
       "\n",
       "    .dataframe thead th {\n",
       "        text-align: right;\n",
       "    }\n",
       "</style>\n",
       "<table border=\"1\" class=\"dataframe\">\n",
       "  <thead>\n",
       "    <tr style=\"text-align: right;\">\n",
       "      <th></th>\n",
       "      <th>CAS_Number</th>\n",
       "      <th>SMILES</th>\n",
       "      <th>pLD50</th>\n",
       "      <th>LD50,mg/kg</th>\n",
       "      <th>Molecule</th>\n",
       "    </tr>\n",
       "  </thead>\n",
       "  <tbody>\n",
       "    <tr>\n",
       "      <th>0</th>\n",
       "      <td>626-48-2</td>\n",
       "      <td>Cc1cc(=O)[nH]c(=O)[nH]1</td>\n",
       "      <td>0.291207</td>\n",
       "      <td>64463.0000</td>\n",
       "      <td>&lt;rdkit.Chem.rdchem.Mol object at 0x0000022369D...</td>\n",
       "    </tr>\n",
       "    <tr>\n",
       "      <th>1</th>\n",
       "      <td>27849-94-1</td>\n",
       "      <td>CC(CCc1ccc2c(c1)OCO2)NN</td>\n",
       "      <td>0.440660</td>\n",
       "      <td>75449.0000</td>\n",
       "      <td>&lt;rdkit.Chem.rdchem.Mol object at 0x0000022369D...</td>\n",
       "    </tr>\n",
       "    <tr>\n",
       "      <th>2</th>\n",
       "      <td>110-54-3</td>\n",
       "      <td>CCCCCC</td>\n",
       "      <td>0.537460</td>\n",
       "      <td>24980.0000</td>\n",
       "      <td>&lt;rdkit.Chem.rdchem.Mol object at 0x0000022369D...</td>\n",
       "    </tr>\n",
       "    <tr>\n",
       "      <th>3</th>\n",
       "      <td>1330-92-3</td>\n",
       "      <td>CCCCC(CC)COC(=O)C1=C(C(=O)OCC(CC)CCCC)CCCC1</td>\n",
       "      <td>0.539250</td>\n",
       "      <td>113917.0000</td>\n",
       "      <td>&lt;rdkit.Chem.rdchem.Mol object at 0x0000022369D...</td>\n",
       "    </tr>\n",
       "    <tr>\n",
       "      <th>4</th>\n",
       "      <td>57-55-6</td>\n",
       "      <td>CC(O)CO</td>\n",
       "      <td>0.580330</td>\n",
       "      <td>19989.0000</td>\n",
       "      <td>&lt;rdkit.Chem.rdchem.Mol object at 0x0000022369D...</td>\n",
       "    </tr>\n",
       "    <tr>\n",
       "      <th>...</th>\n",
       "      <td>...</td>\n",
       "      <td>...</td>\n",
       "      <td>...</td>\n",
       "      <td>...</td>\n",
       "      <td>...</td>\n",
       "    </tr>\n",
       "    <tr>\n",
       "      <th>7707</th>\n",
       "      <td>56073-10-0</td>\n",
       "      <td>O=c1oc2ccccc2c(O)c1C1CC(c2ccc(-c3ccc(Br)cc3)cc...</td>\n",
       "      <td>6.514700</td>\n",
       "      <td>0.1596</td>\n",
       "      <td>&lt;rdkit.Chem.rdchem.Mol object at 0x000002236ED...</td>\n",
       "    </tr>\n",
       "    <tr>\n",
       "      <th>7708</th>\n",
       "      <td>130209-82-4</td>\n",
       "      <td>CC(C)OC(=O)CCCC=CCC1C(O)CC(O)C1CCC(O)CCc1ccccc1</td>\n",
       "      <td>6.937100</td>\n",
       "      <td>0.0500</td>\n",
       "      <td>&lt;rdkit.Chem.rdchem.Mol object at 0x000002236ED...</td>\n",
       "    </tr>\n",
       "    <tr>\n",
       "      <th>7709</th>\n",
       "      <td>83805-11-2</td>\n",
       "      <td>C=C1C(=CC=C2CCCC3(C)C2CCC3C(C)CCCC(O)(C(F)(F)F...</td>\n",
       "      <td>7.099700</td>\n",
       "      <td>0.0417</td>\n",
       "      <td>&lt;rdkit.Chem.rdchem.Mol object at 0x000002236ED...</td>\n",
       "    </tr>\n",
       "    <tr>\n",
       "      <th>7710</th>\n",
       "      <td>1746-01-6</td>\n",
       "      <td>Clc1cc2c(cc1Cl)Oc1cc(Cl)c(Cl)cc1O2</td>\n",
       "      <td>7.206800</td>\n",
       "      <td>0.0199</td>\n",
       "      <td>&lt;rdkit.Chem.rdchem.Mol object at 0x000002236ED...</td>\n",
       "    </tr>\n",
       "    <tr>\n",
       "      <th>7711</th>\n",
       "      <td>316-42-7</td>\n",
       "      <td>CCC1CN2CCc3cc(OC)c(OC)cc3C2CC1CC1NCCc2cc(OC)c(...</td>\n",
       "      <td>7.602600</td>\n",
       "      <td>0.0120</td>\n",
       "      <td>&lt;rdkit.Chem.rdchem.Mol object at 0x000002236ED...</td>\n",
       "    </tr>\n",
       "  </tbody>\n",
       "</table>\n",
       "<p>7712 rows × 5 columns</p>\n",
       "</div>"
      ],
      "text/plain": [
       "       CAS_Number                                             SMILES  \\\n",
       "0        626-48-2                            Cc1cc(=O)[nH]c(=O)[nH]1   \n",
       "1      27849-94-1                            CC(CCc1ccc2c(c1)OCO2)NN   \n",
       "2        110-54-3                                             CCCCCC   \n",
       "3       1330-92-3        CCCCC(CC)COC(=O)C1=C(C(=O)OCC(CC)CCCC)CCCC1   \n",
       "4         57-55-6                                            CC(O)CO   \n",
       "...           ...                                                ...   \n",
       "7707   56073-10-0  O=c1oc2ccccc2c(O)c1C1CC(c2ccc(-c3ccc(Br)cc3)cc...   \n",
       "7708  130209-82-4    CC(C)OC(=O)CCCC=CCC1C(O)CC(O)C1CCC(O)CCc1ccccc1   \n",
       "7709   83805-11-2  C=C1C(=CC=C2CCCC3(C)C2CCC3C(C)CCCC(O)(C(F)(F)F...   \n",
       "7710    1746-01-6                 Clc1cc2c(cc1Cl)Oc1cc(Cl)c(Cl)cc1O2   \n",
       "7711     316-42-7  CCC1CN2CCc3cc(OC)c(OC)cc3C2CC1CC1NCCc2cc(OC)c(...   \n",
       "\n",
       "         pLD50   LD50,mg/kg                                           Molecule  \n",
       "0     0.291207   64463.0000  <rdkit.Chem.rdchem.Mol object at 0x0000022369D...  \n",
       "1     0.440660   75449.0000  <rdkit.Chem.rdchem.Mol object at 0x0000022369D...  \n",
       "2     0.537460   24980.0000  <rdkit.Chem.rdchem.Mol object at 0x0000022369D...  \n",
       "3     0.539250  113917.0000  <rdkit.Chem.rdchem.Mol object at 0x0000022369D...  \n",
       "4     0.580330   19989.0000  <rdkit.Chem.rdchem.Mol object at 0x0000022369D...  \n",
       "...        ...          ...                                                ...  \n",
       "7707  6.514700       0.1596  <rdkit.Chem.rdchem.Mol object at 0x000002236ED...  \n",
       "7708  6.937100       0.0500  <rdkit.Chem.rdchem.Mol object at 0x000002236ED...  \n",
       "7709  7.099700       0.0417  <rdkit.Chem.rdchem.Mol object at 0x000002236ED...  \n",
       "7710  7.206800       0.0199  <rdkit.Chem.rdchem.Mol object at 0x000002236ED...  \n",
       "7711  7.602600       0.0120  <rdkit.Chem.rdchem.Mol object at 0x000002236ED...  \n",
       "\n",
       "[7712 rows x 5 columns]"
      ]
     },
     "execution_count": 9,
     "metadata": {},
     "output_type": "execute_result"
    }
   ],
   "source": [
    "moldf_ws"
   ]
  },
  {
   "cell_type": "code",
   "execution_count": 10,
   "metadata": {},
   "outputs": [
    {
     "data": {
      "text/plain": [
       "0       0.291207\n",
       "1       0.440660\n",
       "2       0.537460\n",
       "3       0.539250\n",
       "4       0.580330\n",
       "          ...   \n",
       "7707    6.514700\n",
       "7708    6.937100\n",
       "7709    7.099700\n",
       "7710    7.206800\n",
       "7711    7.602600\n",
       "Name: pLD50, Length: 7712, dtype: float64"
      ]
     },
     "execution_count": 10,
     "metadata": {},
     "output_type": "execute_result"
    }
   ],
   "source": [
    "y_tr=moldf_ws.pLD50\n",
    "y_tr"
   ]
  },
  {
   "cell_type": "code",
   "execution_count": 11,
   "metadata": {},
   "outputs": [],
   "source": [
    "moldf_ws=moldf_ws.Molecule"
   ]
  },
  {
   "cell_type": "markdown",
   "metadata": {},
   "source": [
    "##  Load data and curation test set"
   ]
  },
  {
   "cell_type": "code",
   "execution_count": 12,
   "metadata": {
    "scrolled": true
   },
   "outputs": [
    {
     "data": {
      "text/html": [
       "<div>\n",
       "<style scoped>\n",
       "    .dataframe tbody tr th:only-of-type {\n",
       "        vertical-align: middle;\n",
       "    }\n",
       "\n",
       "    .dataframe tbody tr th {\n",
       "        vertical-align: top;\n",
       "    }\n",
       "\n",
       "    .dataframe thead th {\n",
       "        text-align: right;\n",
       "    }\n",
       "</style>\n",
       "<table border=\"1\" class=\"dataframe\">\n",
       "  <thead>\n",
       "    <tr style=\"text-align: right;\">\n",
       "      <th></th>\n",
       "      <th>CAS_Number</th>\n",
       "      <th>SMILES</th>\n",
       "      <th>pLD50</th>\n",
       "      <th>LD50,mg/kg</th>\n",
       "    </tr>\n",
       "  </thead>\n",
       "  <tbody>\n",
       "    <tr>\n",
       "      <th>0</th>\n",
       "      <td>7782-40-3</td>\n",
       "      <td>C</td>\n",
       "      <td>0.017765</td>\n",
       "      <td>15388.8000</td>\n",
       "    </tr>\n",
       "    <tr>\n",
       "      <th>1</th>\n",
       "      <td>2842-38-8</td>\n",
       "      <td>OCCNC1CCCCC1</td>\n",
       "      <td>0.572840</td>\n",
       "      <td>38274.0000</td>\n",
       "    </tr>\n",
       "    <tr>\n",
       "      <th>2</th>\n",
       "      <td>66257-53-2</td>\n",
       "      <td>NC(=O)C(=O)O</td>\n",
       "      <td>0.624490</td>\n",
       "      <td>21133.0000</td>\n",
       "    </tr>\n",
       "    <tr>\n",
       "      <th>3</th>\n",
       "      <td>2173-56-0</td>\n",
       "      <td>CCCCCOC(=O)CCCC</td>\n",
       "      <td>0.686960</td>\n",
       "      <td>35395.0000</td>\n",
       "    </tr>\n",
       "    <tr>\n",
       "      <th>4</th>\n",
       "      <td>4726-93-6</td>\n",
       "      <td>O=C1CCCCC(=O)N1</td>\n",
       "      <td>0.750180</td>\n",
       "      <td>22586.0000</td>\n",
       "    </tr>\n",
       "    <tr>\n",
       "      <th>...</th>\n",
       "      <td>...</td>\n",
       "      <td>...</td>\n",
       "      <td>...</td>\n",
       "      <td>...</td>\n",
       "    </tr>\n",
       "    <tr>\n",
       "      <th>1924</th>\n",
       "      <td>3385-03-3</td>\n",
       "      <td>CC1(C)OC2CC3C4CC(F)C5=CC(=O)C=CC5(C)C4C(O)CC3(...</td>\n",
       "      <td>5.939000</td>\n",
       "      <td>0.4997</td>\n",
       "    </tr>\n",
       "    <tr>\n",
       "      <th>1925</th>\n",
       "      <td>2338-29-6</td>\n",
       "      <td>FC(F)(F)c1nc2c(Cl)c(Cl)c(Cl)c(Cl)c2[nH]1</td>\n",
       "      <td>6.121300</td>\n",
       "      <td>0.2435</td>\n",
       "    </tr>\n",
       "    <tr>\n",
       "      <th>1926</th>\n",
       "      <td>128606-48-4</td>\n",
       "      <td>CCOP(=S)(OCC)O/C(C)=C/C(=O)OC</td>\n",
       "      <td>6.282400</td>\n",
       "      <td>0.1399</td>\n",
       "    </tr>\n",
       "    <tr>\n",
       "      <th>1927</th>\n",
       "      <td>50585-41-6</td>\n",
       "      <td>Brc1cc2c(cc1Br)Oc1cc(Br)c(Br)cc1O2</td>\n",
       "      <td>6.698800</td>\n",
       "      <td>0.0992</td>\n",
       "    </tr>\n",
       "    <tr>\n",
       "      <th>1928</th>\n",
       "      <td>75605-85-5</td>\n",
       "      <td>CC(=O)C1=CCC2C3(C)CCC4C(C)(C)CCCC4(C)C3CC(OC(=...</td>\n",
       "      <td>9.541100</td>\n",
       "      <td>0.0001</td>\n",
       "    </tr>\n",
       "  </tbody>\n",
       "</table>\n",
       "<p>1929 rows × 4 columns</p>\n",
       "</div>"
      ],
      "text/plain": [
       "       CAS_Number                                             SMILES  \\\n",
       "0       7782-40-3                                                  C   \n",
       "1       2842-38-8                                       OCCNC1CCCCC1   \n",
       "2      66257-53-2                                       NC(=O)C(=O)O   \n",
       "3       2173-56-0                                    CCCCCOC(=O)CCCC   \n",
       "4       4726-93-6                                    O=C1CCCCC(=O)N1   \n",
       "...           ...                                                ...   \n",
       "1924    3385-03-3  CC1(C)OC2CC3C4CC(F)C5=CC(=O)C=CC5(C)C4C(O)CC3(...   \n",
       "1925    2338-29-6           FC(F)(F)c1nc2c(Cl)c(Cl)c(Cl)c(Cl)c2[nH]1   \n",
       "1926  128606-48-4                      CCOP(=S)(OCC)O/C(C)=C/C(=O)OC   \n",
       "1927   50585-41-6                 Brc1cc2c(cc1Br)Oc1cc(Br)c(Br)cc1O2   \n",
       "1928   75605-85-5  CC(=O)C1=CCC2C3(C)CCC4C(C)(C)CCCC4(C)C3CC(OC(=...   \n",
       "\n",
       "         pLD50  LD50,mg/kg  \n",
       "0     0.017765  15388.8000  \n",
       "1     0.572840  38274.0000  \n",
       "2     0.624490  21133.0000  \n",
       "3     0.686960  35395.0000  \n",
       "4     0.750180  22586.0000  \n",
       "...        ...         ...  \n",
       "1924  5.939000      0.4997  \n",
       "1925  6.121300      0.2435  \n",
       "1926  6.282400      0.1399  \n",
       "1927  6.698800      0.0992  \n",
       "1928  9.541100      0.0001  \n",
       "\n",
       "[1929 rows x 4 columns]"
      ]
     },
     "execution_count": 12,
     "metadata": {},
     "output_type": "execute_result"
    }
   ],
   "source": [
    "df_ts=pd.read_csv('rat_oral_LD50_TS.csv')\n",
    "df_ts"
   ]
  },
  {
   "cell_type": "markdown",
   "metadata": {},
   "source": [
    " Convert a SMILES string to canonical SMILES"
   ]
  },
  {
   "cell_type": "code",
   "execution_count": 13,
   "metadata": {},
   "outputs": [
    {
     "data": {
      "text/html": [
       "<div>\n",
       "<style scoped>\n",
       "    .dataframe tbody tr th:only-of-type {\n",
       "        vertical-align: middle;\n",
       "    }\n",
       "\n",
       "    .dataframe tbody tr th {\n",
       "        vertical-align: top;\n",
       "    }\n",
       "\n",
       "    .dataframe thead th {\n",
       "        text-align: right;\n",
       "    }\n",
       "</style>\n",
       "<table border=\"1\" class=\"dataframe\">\n",
       "  <thead>\n",
       "    <tr style=\"text-align: right;\">\n",
       "      <th></th>\n",
       "      <th>CAS_Number</th>\n",
       "      <th>SMILES</th>\n",
       "      <th>pLD50</th>\n",
       "      <th>LD50,mg/kg</th>\n",
       "    </tr>\n",
       "  </thead>\n",
       "  <tbody>\n",
       "    <tr>\n",
       "      <th>0</th>\n",
       "      <td>7782-40-3</td>\n",
       "      <td>C</td>\n",
       "      <td>0.017765</td>\n",
       "      <td>15388.8000</td>\n",
       "    </tr>\n",
       "    <tr>\n",
       "      <th>1</th>\n",
       "      <td>2842-38-8</td>\n",
       "      <td>OCCNC1CCCCC1</td>\n",
       "      <td>0.572840</td>\n",
       "      <td>38274.0000</td>\n",
       "    </tr>\n",
       "    <tr>\n",
       "      <th>2</th>\n",
       "      <td>66257-53-2</td>\n",
       "      <td>NC(=O)C(=O)O</td>\n",
       "      <td>0.624490</td>\n",
       "      <td>21133.0000</td>\n",
       "    </tr>\n",
       "    <tr>\n",
       "      <th>3</th>\n",
       "      <td>2173-56-0</td>\n",
       "      <td>CCCCCOC(=O)CCCC</td>\n",
       "      <td>0.686960</td>\n",
       "      <td>35395.0000</td>\n",
       "    </tr>\n",
       "    <tr>\n",
       "      <th>4</th>\n",
       "      <td>4726-93-6</td>\n",
       "      <td>O=C1CCCCC(=O)N1</td>\n",
       "      <td>0.750180</td>\n",
       "      <td>22586.0000</td>\n",
       "    </tr>\n",
       "    <tr>\n",
       "      <th>...</th>\n",
       "      <td>...</td>\n",
       "      <td>...</td>\n",
       "      <td>...</td>\n",
       "      <td>...</td>\n",
       "    </tr>\n",
       "    <tr>\n",
       "      <th>1924</th>\n",
       "      <td>3385-03-3</td>\n",
       "      <td>CC1(C)OC2CC3C4CC(F)C5=CC(=O)C=CC5(C)C4C(O)CC3(...</td>\n",
       "      <td>5.939000</td>\n",
       "      <td>0.4997</td>\n",
       "    </tr>\n",
       "    <tr>\n",
       "      <th>1925</th>\n",
       "      <td>2338-29-6</td>\n",
       "      <td>FC(F)(F)c1nc2c(Cl)c(Cl)c(Cl)c(Cl)c2[nH]1</td>\n",
       "      <td>6.121300</td>\n",
       "      <td>0.2435</td>\n",
       "    </tr>\n",
       "    <tr>\n",
       "      <th>1926</th>\n",
       "      <td>128606-48-4</td>\n",
       "      <td>CCOP(=S)(OCC)OC(C)=CC(=O)OC</td>\n",
       "      <td>6.282400</td>\n",
       "      <td>0.1399</td>\n",
       "    </tr>\n",
       "    <tr>\n",
       "      <th>1927</th>\n",
       "      <td>50585-41-6</td>\n",
       "      <td>Brc1cc2c(cc1Br)Oc1cc(Br)c(Br)cc1O2</td>\n",
       "      <td>6.698800</td>\n",
       "      <td>0.0992</td>\n",
       "    </tr>\n",
       "    <tr>\n",
       "      <th>1928</th>\n",
       "      <td>75605-85-5</td>\n",
       "      <td>CC(=O)C1=CCC2C3(C)CCC4C(C)(C)CCCC4(C)C3CC(OC(=...</td>\n",
       "      <td>9.541100</td>\n",
       "      <td>0.0001</td>\n",
       "    </tr>\n",
       "  </tbody>\n",
       "</table>\n",
       "<p>1929 rows × 4 columns</p>\n",
       "</div>"
      ],
      "text/plain": [
       "       CAS_Number                                             SMILES  \\\n",
       "0       7782-40-3                                                  C   \n",
       "1       2842-38-8                                       OCCNC1CCCCC1   \n",
       "2      66257-53-2                                       NC(=O)C(=O)O   \n",
       "3       2173-56-0                                    CCCCCOC(=O)CCCC   \n",
       "4       4726-93-6                                    O=C1CCCCC(=O)N1   \n",
       "...           ...                                                ...   \n",
       "1924    3385-03-3  CC1(C)OC2CC3C4CC(F)C5=CC(=O)C=CC5(C)C4C(O)CC3(...   \n",
       "1925    2338-29-6           FC(F)(F)c1nc2c(Cl)c(Cl)c(Cl)c(Cl)c2[nH]1   \n",
       "1926  128606-48-4                        CCOP(=S)(OCC)OC(C)=CC(=O)OC   \n",
       "1927   50585-41-6                 Brc1cc2c(cc1Br)Oc1cc(Br)c(Br)cc1O2   \n",
       "1928   75605-85-5  CC(=O)C1=CCC2C3(C)CCC4C(C)(C)CCCC4(C)C3CC(OC(=...   \n",
       "\n",
       "         pLD50  LD50,mg/kg  \n",
       "0     0.017765  15388.8000  \n",
       "1     0.572840  38274.0000  \n",
       "2     0.624490  21133.0000  \n",
       "3     0.686960  35395.0000  \n",
       "4     0.750180  22586.0000  \n",
       "...        ...         ...  \n",
       "1924  5.939000      0.4997  \n",
       "1925  6.121300      0.2435  \n",
       "1926  6.282400      0.1399  \n",
       "1927  6.698800      0.0992  \n",
       "1928  9.541100      0.0001  \n",
       "\n",
       "[1929 rows x 4 columns]"
      ]
     },
     "execution_count": 13,
     "metadata": {},
     "output_type": "execute_result"
    }
   ],
   "source": [
    "df_ts1 = deepcopy(df_ts)\n",
    "df_ts1[\"SMILES\"] = df_ts1.apply(lambda x: convert_smi_to_canon_smi(x.SMILES), axis=1)\n",
    "df_ts1"
   ]
  },
  {
   "cell_type": "code",
   "execution_count": 14,
   "metadata": {},
   "outputs": [
    {
     "name": "stdout",
     "output_type": "stream",
     "text": [
      "Original data:  1929 molecules\n",
      "Failed data:  0 molecules\n"
     ]
    }
   ],
   "source": [
    "print('Original data: ', len(df_ts), 'molecules')\n",
    "print('Failed data: ', len(df_ts1[df_ts1['SMILES']=='wrong_smiles']), 'molecules')"
   ]
  },
  {
   "cell_type": "code",
   "execution_count": 15,
   "metadata": {
    "scrolled": true
   },
   "outputs": [
    {
     "data": {
      "text/html": [
       "<div>\n",
       "<style scoped>\n",
       "    .dataframe tbody tr th:only-of-type {\n",
       "        vertical-align: middle;\n",
       "    }\n",
       "\n",
       "    .dataframe tbody tr th {\n",
       "        vertical-align: top;\n",
       "    }\n",
       "\n",
       "    .dataframe thead th {\n",
       "        text-align: right;\n",
       "    }\n",
       "</style>\n",
       "<table border=\"1\" class=\"dataframe\">\n",
       "  <thead>\n",
       "    <tr style=\"text-align: right;\">\n",
       "      <th></th>\n",
       "      <th>SMILES of wrong structure:</th>\n",
       "    </tr>\n",
       "    <tr>\n",
       "      <th>No. failed smiles in original set</th>\n",
       "      <th></th>\n",
       "    </tr>\n",
       "  </thead>\n",
       "  <tbody>\n",
       "  </tbody>\n",
       "</table>\n",
       "</div>"
      ],
      "text/plain": [
       "Empty DataFrame\n",
       "Columns: [SMILES of wrong structure: ]\n",
       "Index: []"
      ]
     },
     "execution_count": 15,
     "metadata": {},
     "output_type": "execute_result"
    }
   ],
   "source": [
    "index=df_ts1.index[df_ts1['SMILES']=='wrong_smiles'].tolist()\n",
    "wrong_smiles=df_ts.iloc[index]\n",
    "wrong_smiles=wrong_smiles.SMILES\n",
    "number=[x+1 for x in index]\n",
    "bad_molecules = pd.DataFrame({'No. failed smiles in original set': number, 'SMILES of wrong structure: ': wrong_smiles}, index=None)\n",
    "bad_molecules = bad_molecules.set_index('No. failed smiles in original set')\n",
    "bad_molecules"
   ]
  },
  {
   "cell_type": "markdown",
   "metadata": {},
   "source": [
    "##  Standardization  for test set"
   ]
  },
  {
   "cell_type": "code",
   "execution_count": 16,
   "metadata": {},
   "outputs": [
    {
     "name": "stdout",
     "output_type": "stream",
     "text": [
      "Kept data:  1929 molecules\n"
     ]
    }
   ],
   "source": [
    "df_ts1[\"Molecule\"] = df_ts1.apply(lambda x: standart(x.SMILES), axis=1)\n",
    "moldf_ts=df_ts1[df_ts1['SMILES']!='wrong_smiles']\n",
    "print('Kept data: ', len(moldf_ts), 'molecules')"
   ]
  },
  {
   "cell_type": "code",
   "execution_count": 17,
   "metadata": {},
   "outputs": [
    {
     "data": {
      "text/html": [
       "<div>\n",
       "<style scoped>\n",
       "    .dataframe tbody tr th:only-of-type {\n",
       "        vertical-align: middle;\n",
       "    }\n",
       "\n",
       "    .dataframe tbody tr th {\n",
       "        vertical-align: top;\n",
       "    }\n",
       "\n",
       "    .dataframe thead th {\n",
       "        text-align: right;\n",
       "    }\n",
       "</style>\n",
       "<table border=\"1\" class=\"dataframe\">\n",
       "  <thead>\n",
       "    <tr style=\"text-align: right;\">\n",
       "      <th></th>\n",
       "      <th>CAS_Number</th>\n",
       "      <th>SMILES</th>\n",
       "      <th>pLD50</th>\n",
       "      <th>LD50,mg/kg</th>\n",
       "      <th>Molecule</th>\n",
       "    </tr>\n",
       "  </thead>\n",
       "  <tbody>\n",
       "    <tr>\n",
       "      <th>0</th>\n",
       "      <td>7782-40-3</td>\n",
       "      <td>C</td>\n",
       "      <td>0.017765</td>\n",
       "      <td>15388.8000</td>\n",
       "      <td>&lt;rdkit.Chem.rdchem.Mol object at 0x0000022369B...</td>\n",
       "    </tr>\n",
       "    <tr>\n",
       "      <th>1</th>\n",
       "      <td>2842-38-8</td>\n",
       "      <td>OCCNC1CCCCC1</td>\n",
       "      <td>0.572840</td>\n",
       "      <td>38274.0000</td>\n",
       "      <td>&lt;rdkit.Chem.rdchem.Mol object at 0x0000022369B...</td>\n",
       "    </tr>\n",
       "    <tr>\n",
       "      <th>2</th>\n",
       "      <td>66257-53-2</td>\n",
       "      <td>NC(=O)C(=O)O</td>\n",
       "      <td>0.624490</td>\n",
       "      <td>21133.0000</td>\n",
       "      <td>&lt;rdkit.Chem.rdchem.Mol object at 0x0000022369B...</td>\n",
       "    </tr>\n",
       "    <tr>\n",
       "      <th>3</th>\n",
       "      <td>2173-56-0</td>\n",
       "      <td>CCCCCOC(=O)CCCC</td>\n",
       "      <td>0.686960</td>\n",
       "      <td>35395.0000</td>\n",
       "      <td>&lt;rdkit.Chem.rdchem.Mol object at 0x0000022369B...</td>\n",
       "    </tr>\n",
       "    <tr>\n",
       "      <th>4</th>\n",
       "      <td>4726-93-6</td>\n",
       "      <td>O=C1CCCCC(=O)N1</td>\n",
       "      <td>0.750180</td>\n",
       "      <td>22586.0000</td>\n",
       "      <td>&lt;rdkit.Chem.rdchem.Mol object at 0x0000022369B...</td>\n",
       "    </tr>\n",
       "    <tr>\n",
       "      <th>...</th>\n",
       "      <td>...</td>\n",
       "      <td>...</td>\n",
       "      <td>...</td>\n",
       "      <td>...</td>\n",
       "      <td>...</td>\n",
       "    </tr>\n",
       "    <tr>\n",
       "      <th>1924</th>\n",
       "      <td>3385-03-3</td>\n",
       "      <td>CC1(C)OC2CC3C4CC(F)C5=CC(=O)C=CC5(C)C4C(O)CC3(...</td>\n",
       "      <td>5.939000</td>\n",
       "      <td>0.4997</td>\n",
       "      <td>&lt;rdkit.Chem.rdchem.Mol object at 0x000002236ED...</td>\n",
       "    </tr>\n",
       "    <tr>\n",
       "      <th>1925</th>\n",
       "      <td>2338-29-6</td>\n",
       "      <td>FC(F)(F)c1nc2c(Cl)c(Cl)c(Cl)c(Cl)c2[nH]1</td>\n",
       "      <td>6.121300</td>\n",
       "      <td>0.2435</td>\n",
       "      <td>&lt;rdkit.Chem.rdchem.Mol object at 0x000002236ED...</td>\n",
       "    </tr>\n",
       "    <tr>\n",
       "      <th>1926</th>\n",
       "      <td>128606-48-4</td>\n",
       "      <td>CCOP(=S)(OCC)OC(C)=CC(=O)OC</td>\n",
       "      <td>6.282400</td>\n",
       "      <td>0.1399</td>\n",
       "      <td>&lt;rdkit.Chem.rdchem.Mol object at 0x000002236ED...</td>\n",
       "    </tr>\n",
       "    <tr>\n",
       "      <th>1927</th>\n",
       "      <td>50585-41-6</td>\n",
       "      <td>Brc1cc2c(cc1Br)Oc1cc(Br)c(Br)cc1O2</td>\n",
       "      <td>6.698800</td>\n",
       "      <td>0.0992</td>\n",
       "      <td>&lt;rdkit.Chem.rdchem.Mol object at 0x000002236ED...</td>\n",
       "    </tr>\n",
       "    <tr>\n",
       "      <th>1928</th>\n",
       "      <td>75605-85-5</td>\n",
       "      <td>CC(=O)C1=CCC2C3(C)CCC4C(C)(C)CCCC4(C)C3CC(OC(=...</td>\n",
       "      <td>9.541100</td>\n",
       "      <td>0.0001</td>\n",
       "      <td>&lt;rdkit.Chem.rdchem.Mol object at 0x000002236ED...</td>\n",
       "    </tr>\n",
       "  </tbody>\n",
       "</table>\n",
       "<p>1929 rows × 5 columns</p>\n",
       "</div>"
      ],
      "text/plain": [
       "       CAS_Number                                             SMILES  \\\n",
       "0       7782-40-3                                                  C   \n",
       "1       2842-38-8                                       OCCNC1CCCCC1   \n",
       "2      66257-53-2                                       NC(=O)C(=O)O   \n",
       "3       2173-56-0                                    CCCCCOC(=O)CCCC   \n",
       "4       4726-93-6                                    O=C1CCCCC(=O)N1   \n",
       "...           ...                                                ...   \n",
       "1924    3385-03-3  CC1(C)OC2CC3C4CC(F)C5=CC(=O)C=CC5(C)C4C(O)CC3(...   \n",
       "1925    2338-29-6           FC(F)(F)c1nc2c(Cl)c(Cl)c(Cl)c(Cl)c2[nH]1   \n",
       "1926  128606-48-4                        CCOP(=S)(OCC)OC(C)=CC(=O)OC   \n",
       "1927   50585-41-6                 Brc1cc2c(cc1Br)Oc1cc(Br)c(Br)cc1O2   \n",
       "1928   75605-85-5  CC(=O)C1=CCC2C3(C)CCC4C(C)(C)CCCC4(C)C3CC(OC(=...   \n",
       "\n",
       "         pLD50  LD50,mg/kg                                           Molecule  \n",
       "0     0.017765  15388.8000  <rdkit.Chem.rdchem.Mol object at 0x0000022369B...  \n",
       "1     0.572840  38274.0000  <rdkit.Chem.rdchem.Mol object at 0x0000022369B...  \n",
       "2     0.624490  21133.0000  <rdkit.Chem.rdchem.Mol object at 0x0000022369B...  \n",
       "3     0.686960  35395.0000  <rdkit.Chem.rdchem.Mol object at 0x0000022369B...  \n",
       "4     0.750180  22586.0000  <rdkit.Chem.rdchem.Mol object at 0x0000022369B...  \n",
       "...        ...         ...                                                ...  \n",
       "1924  5.939000      0.4997  <rdkit.Chem.rdchem.Mol object at 0x000002236ED...  \n",
       "1925  6.121300      0.2435  <rdkit.Chem.rdchem.Mol object at 0x000002236ED...  \n",
       "1926  6.282400      0.1399  <rdkit.Chem.rdchem.Mol object at 0x000002236ED...  \n",
       "1927  6.698800      0.0992  <rdkit.Chem.rdchem.Mol object at 0x000002236ED...  \n",
       "1928  9.541100      0.0001  <rdkit.Chem.rdchem.Mol object at 0x000002236ED...  \n",
       "\n",
       "[1929 rows x 5 columns]"
      ]
     },
     "execution_count": 17,
     "metadata": {},
     "output_type": "execute_result"
    }
   ],
   "source": [
    "moldf_ts"
   ]
  },
  {
   "cell_type": "code",
   "execution_count": 18,
   "metadata": {},
   "outputs": [
    {
     "data": {
      "text/plain": [
       "0       0.017765\n",
       "1       0.572840\n",
       "2       0.624490\n",
       "3       0.686960\n",
       "4       0.750180\n",
       "          ...   \n",
       "1924    5.939000\n",
       "1925    6.121300\n",
       "1926    6.282400\n",
       "1927    6.698800\n",
       "1928    9.541100\n",
       "Name: pLD50, Length: 1929, dtype: float64"
      ]
     },
     "execution_count": 18,
     "metadata": {},
     "output_type": "execute_result"
    }
   ],
   "source": [
    "y_ts=moldf_ts.pLD50\n",
    "y_ts"
   ]
  },
  {
   "cell_type": "code",
   "execution_count": 19,
   "metadata": {},
   "outputs": [],
   "source": [
    "moldf_ts=moldf_ts.Molecule"
   ]
  },
  {
   "cell_type": "markdown",
   "metadata": {},
   "source": [
    "## Calculation MorganFingerprint for work set"
   ]
  },
  {
   "cell_type": "code",
   "execution_count": 20,
   "metadata": {},
   "outputs": [],
   "source": [
    "fp_tr = [AllChem.GetMorganFingerprintAsBitVect(m, radius=2,nBits=1024,useFeatures=False,useChirality = False) for m in moldf_ws]"
   ]
  },
  {
   "cell_type": "code",
   "execution_count": 21,
   "metadata": {},
   "outputs": [],
   "source": [
    "def rdkit_numpy_convert(fp_tr):\n",
    "    output = []\n",
    "    for f in fp_tr:\n",
    "        arr = np.zeros((1,))\n",
    "        DataStructs.ConvertToNumpyArray(f, arr)\n",
    "        output.append(arr)\n",
    "    return np.asarray(output)"
   ]
  },
  {
   "cell_type": "code",
   "execution_count": 22,
   "metadata": {},
   "outputs": [],
   "source": [
    "from numpy import savetxt\n",
    "x_tr = rdkit_numpy_convert(fp_tr)"
   ]
  },
  {
   "cell_type": "code",
   "execution_count": 23,
   "metadata": {},
   "outputs": [],
   "source": [
    "savetxt('Models/MorganFingerprint/x_tr.csv', x_tr, delimiter=',')"
   ]
  },
  {
   "cell_type": "code",
   "execution_count": 24,
   "metadata": {},
   "outputs": [
    {
     "data": {
      "text/plain": [
       "(7712, 1024)"
      ]
     },
     "execution_count": 24,
     "metadata": {},
     "output_type": "execute_result"
    }
   ],
   "source": [
    "x_tr.shape"
   ]
  },
  {
   "cell_type": "markdown",
   "metadata": {},
   "source": [
    "## Calculation MorganFingerprint for test set"
   ]
  },
  {
   "cell_type": "code",
   "execution_count": 25,
   "metadata": {},
   "outputs": [],
   "source": [
    "fp_ts = [AllChem.GetMorganFingerprintAsBitVect(m, radius=2,nBits=1024,useFeatures=False,useChirality = False) for m in moldf_ts]"
   ]
  },
  {
   "cell_type": "code",
   "execution_count": 26,
   "metadata": {},
   "outputs": [],
   "source": [
    "def rdkit_numpy_convert(fp_ts):\n",
    "    output = []\n",
    "    for f in fp_ts:\n",
    "        arr = np.zeros((1,))\n",
    "        DataStructs.ConvertToNumpyArray(f, arr)\n",
    "        output.append(arr)\n",
    "    return np.asarray(output)"
   ]
  },
  {
   "cell_type": "code",
   "execution_count": 27,
   "metadata": {},
   "outputs": [],
   "source": [
    "x_ts = rdkit_numpy_convert(fp_ts)"
   ]
  },
  {
   "cell_type": "code",
   "execution_count": 30,
   "metadata": {},
   "outputs": [
    {
     "data": {
      "text/plain": [
       "(1929, 1024)"
      ]
     },
     "execution_count": 30,
     "metadata": {},
     "output_type": "execute_result"
    }
   ],
   "source": [
    "x_ts.shape"
   ]
  },
  {
   "cell_type": "code",
   "execution_count": 29,
   "metadata": {},
   "outputs": [],
   "source": [
    "x_tr = np.array(x_tr, dtype=np.float32)\n",
    "y_tr = np.array(y_tr, dtype=np.float32)"
   ]
  },
  {
   "cell_type": "code",
   "execution_count": null,
   "metadata": {},
   "outputs": [],
   "source": []
  },
  {
   "cell_type": "markdown",
   "metadata": {},
   "source": [
    " # GradientBoostingRegressor model building and validation"
   ]
  },
  {
   "cell_type": "code",
   "execution_count": 30,
   "metadata": {},
   "outputs": [],
   "source": [
    "seed = 42"
   ]
  },
  {
   "cell_type": "code",
   "execution_count": 31,
   "metadata": {},
   "outputs": [],
   "source": [
    "cv=KFold(n_splits=5, random_state=seed, shuffle=True)"
   ]
  },
  {
   "cell_type": "code",
   "execution_count": 32,
   "metadata": {},
   "outputs": [],
   "source": [
    "param_grid = {'learning_rate': [0.02,0.05],\n",
    "                  'subsample'    : [0.9, 0.5, 0.1],\n",
    "                  'n_estimators' : [100,500,1000],\n",
    "                  'max_depth'    : [4, 10]\n",
    "                 }"
   ]
  },
  {
   "cell_type": "code",
   "execution_count": 33,
   "metadata": {},
   "outputs": [],
   "source": [
    "m = GridSearchCV(GradientBoostingRegressor(), param_grid, n_jobs=-1, cv=cv, verbose=1)"
   ]
  },
  {
   "cell_type": "code",
   "execution_count": 34,
   "metadata": {},
   "outputs": [
    {
     "name": "stdout",
     "output_type": "stream",
     "text": [
      "Fitting 5 folds for each of 36 candidates, totalling 180 fits\n"
     ]
    },
    {
     "data": {
      "text/html": [
       "<style>#sk-container-id-1 {color: black;}#sk-container-id-1 pre{padding: 0;}#sk-container-id-1 div.sk-toggleable {background-color: white;}#sk-container-id-1 label.sk-toggleable__label {cursor: pointer;display: block;width: 100%;margin-bottom: 0;padding: 0.3em;box-sizing: border-box;text-align: center;}#sk-container-id-1 label.sk-toggleable__label-arrow:before {content: \"▸\";float: left;margin-right: 0.25em;color: #696969;}#sk-container-id-1 label.sk-toggleable__label-arrow:hover:before {color: black;}#sk-container-id-1 div.sk-estimator:hover label.sk-toggleable__label-arrow:before {color: black;}#sk-container-id-1 div.sk-toggleable__content {max-height: 0;max-width: 0;overflow: hidden;text-align: left;background-color: #f0f8ff;}#sk-container-id-1 div.sk-toggleable__content pre {margin: 0.2em;color: black;border-radius: 0.25em;background-color: #f0f8ff;}#sk-container-id-1 input.sk-toggleable__control:checked~div.sk-toggleable__content {max-height: 200px;max-width: 100%;overflow: auto;}#sk-container-id-1 input.sk-toggleable__control:checked~label.sk-toggleable__label-arrow:before {content: \"▾\";}#sk-container-id-1 div.sk-estimator input.sk-toggleable__control:checked~label.sk-toggleable__label {background-color: #d4ebff;}#sk-container-id-1 div.sk-label input.sk-toggleable__control:checked~label.sk-toggleable__label {background-color: #d4ebff;}#sk-container-id-1 input.sk-hidden--visually {border: 0;clip: rect(1px 1px 1px 1px);clip: rect(1px, 1px, 1px, 1px);height: 1px;margin: -1px;overflow: hidden;padding: 0;position: absolute;width: 1px;}#sk-container-id-1 div.sk-estimator {font-family: monospace;background-color: #f0f8ff;border: 1px dotted black;border-radius: 0.25em;box-sizing: border-box;margin-bottom: 0.5em;}#sk-container-id-1 div.sk-estimator:hover {background-color: #d4ebff;}#sk-container-id-1 div.sk-parallel-item::after {content: \"\";width: 100%;border-bottom: 1px solid gray;flex-grow: 1;}#sk-container-id-1 div.sk-label:hover label.sk-toggleable__label {background-color: #d4ebff;}#sk-container-id-1 div.sk-serial::before {content: \"\";position: absolute;border-left: 1px solid gray;box-sizing: border-box;top: 0;bottom: 0;left: 50%;z-index: 0;}#sk-container-id-1 div.sk-serial {display: flex;flex-direction: column;align-items: center;background-color: white;padding-right: 0.2em;padding-left: 0.2em;position: relative;}#sk-container-id-1 div.sk-item {position: relative;z-index: 1;}#sk-container-id-1 div.sk-parallel {display: flex;align-items: stretch;justify-content: center;background-color: white;position: relative;}#sk-container-id-1 div.sk-item::before, #sk-container-id-1 div.sk-parallel-item::before {content: \"\";position: absolute;border-left: 1px solid gray;box-sizing: border-box;top: 0;bottom: 0;left: 50%;z-index: -1;}#sk-container-id-1 div.sk-parallel-item {display: flex;flex-direction: column;z-index: 1;position: relative;background-color: white;}#sk-container-id-1 div.sk-parallel-item:first-child::after {align-self: flex-end;width: 50%;}#sk-container-id-1 div.sk-parallel-item:last-child::after {align-self: flex-start;width: 50%;}#sk-container-id-1 div.sk-parallel-item:only-child::after {width: 0;}#sk-container-id-1 div.sk-dashed-wrapped {border: 1px dashed gray;margin: 0 0.4em 0.5em 0.4em;box-sizing: border-box;padding-bottom: 0.4em;background-color: white;}#sk-container-id-1 div.sk-label label {font-family: monospace;font-weight: bold;display: inline-block;line-height: 1.2em;}#sk-container-id-1 div.sk-label-container {text-align: center;}#sk-container-id-1 div.sk-container {/* jupyter's `normalize.less` sets `[hidden] { display: none; }` but bootstrap.min.css set `[hidden] { display: none !important; }` so we also need the `!important` here to be able to override the default hidden behavior on the sphinx rendered scikit-learn.org. See: https://github.com/scikit-learn/scikit-learn/issues/21755 */display: inline-block !important;position: relative;}#sk-container-id-1 div.sk-text-repr-fallback {display: none;}</style><div id=\"sk-container-id-1\" class=\"sk-top-container\"><div class=\"sk-text-repr-fallback\"><pre>GridSearchCV(cv=KFold(n_splits=5, random_state=42, shuffle=True),\n",
       "             estimator=GradientBoostingRegressor(), n_jobs=-1,\n",
       "             param_grid={&#x27;learning_rate&#x27;: [0.02, 0.05], &#x27;max_depth&#x27;: [4, 10],\n",
       "                         &#x27;n_estimators&#x27;: [100, 500, 1000],\n",
       "                         &#x27;subsample&#x27;: [0.9, 0.5, 0.1]},\n",
       "             verbose=1)</pre><b>In a Jupyter environment, please rerun this cell to show the HTML representation or trust the notebook. <br />On GitHub, the HTML representation is unable to render, please try loading this page with nbviewer.org.</b></div><div class=\"sk-container\" hidden><div class=\"sk-item sk-dashed-wrapped\"><div class=\"sk-label-container\"><div class=\"sk-label sk-toggleable\"><input class=\"sk-toggleable__control sk-hidden--visually\" id=\"sk-estimator-id-1\" type=\"checkbox\" ><label for=\"sk-estimator-id-1\" class=\"sk-toggleable__label sk-toggleable__label-arrow\">GridSearchCV</label><div class=\"sk-toggleable__content\"><pre>GridSearchCV(cv=KFold(n_splits=5, random_state=42, shuffle=True),\n",
       "             estimator=GradientBoostingRegressor(), n_jobs=-1,\n",
       "             param_grid={&#x27;learning_rate&#x27;: [0.02, 0.05], &#x27;max_depth&#x27;: [4, 10],\n",
       "                         &#x27;n_estimators&#x27;: [100, 500, 1000],\n",
       "                         &#x27;subsample&#x27;: [0.9, 0.5, 0.1]},\n",
       "             verbose=1)</pre></div></div></div><div class=\"sk-parallel\"><div class=\"sk-parallel-item\"><div class=\"sk-item\"><div class=\"sk-label-container\"><div class=\"sk-label sk-toggleable\"><input class=\"sk-toggleable__control sk-hidden--visually\" id=\"sk-estimator-id-2\" type=\"checkbox\" ><label for=\"sk-estimator-id-2\" class=\"sk-toggleable__label sk-toggleable__label-arrow\">estimator: GradientBoostingRegressor</label><div class=\"sk-toggleable__content\"><pre>GradientBoostingRegressor()</pre></div></div></div><div class=\"sk-serial\"><div class=\"sk-item\"><div class=\"sk-estimator sk-toggleable\"><input class=\"sk-toggleable__control sk-hidden--visually\" id=\"sk-estimator-id-3\" type=\"checkbox\" ><label for=\"sk-estimator-id-3\" class=\"sk-toggleable__label sk-toggleable__label-arrow\">GradientBoostingRegressor</label><div class=\"sk-toggleable__content\"><pre>GradientBoostingRegressor()</pre></div></div></div></div></div></div></div></div></div></div>"
      ],
      "text/plain": [
       "GridSearchCV(cv=KFold(n_splits=5, random_state=42, shuffle=True),\n",
       "             estimator=GradientBoostingRegressor(), n_jobs=-1,\n",
       "             param_grid={'learning_rate': [0.02, 0.05], 'max_depth': [4, 10],\n",
       "                         'n_estimators': [100, 500, 1000],\n",
       "                         'subsample': [0.9, 0.5, 0.1]},\n",
       "             verbose=1)"
      ]
     },
     "execution_count": 34,
     "metadata": {},
     "output_type": "execute_result"
    }
   ],
   "source": [
    "m.fit(x_tr, y_tr)"
   ]
  },
  {
   "cell_type": "code",
   "execution_count": 41,
   "metadata": {},
   "outputs": [],
   "source": [
    "best_GBR = m.best_estimator_"
   ]
  },
  {
   "cell_type": "code",
   "execution_count": 42,
   "metadata": {},
   "outputs": [
    {
     "data": {
      "text/plain": [
       "{'learning_rate': 0.02,\n",
       " 'max_depth': 10,\n",
       " 'n_estimators': 1000,\n",
       " 'subsample': 0.5}"
      ]
     },
     "execution_count": 42,
     "metadata": {},
     "output_type": "execute_result"
    }
   ],
   "source": [
    "m.best_params_"
   ]
  },
  {
   "cell_type": "code",
   "execution_count": 43,
   "metadata": {},
   "outputs": [],
   "source": [
    "y_pred_ws_GBR = best_GBR.predict(x_tr)"
   ]
  },
  {
   "cell_type": "code",
   "execution_count": 44,
   "metadata": {},
   "outputs": [
    {
     "data": {
      "text/plain": [
       "0.92"
      ]
     },
     "execution_count": 44,
     "metadata": {},
     "output_type": "execute_result"
    }
   ],
   "source": [
    "R2_WS = round(r2_score(y_tr, y_pred_ws_GBR), 2)\n",
    "R2_WS"
   ]
  },
  {
   "cell_type": "code",
   "execution_count": 45,
   "metadata": {},
   "outputs": [
    {
     "data": {
      "text/plain": [
       "0.45"
      ]
     },
     "execution_count": 45,
     "metadata": {},
     "output_type": "execute_result"
    }
   ],
   "source": [
    "RMSE_WS=round(np.sqrt(mean_absolute_error(y_tr, y_pred_ws_GBR)), 2)\n",
    "RMSE_WS"
   ]
  },
  {
   "cell_type": "code",
   "execution_count": 46,
   "metadata": {},
   "outputs": [],
   "source": [
    "y_pred_CV_GBR = cross_val_predict(best_GBR, x_tr, y_tr, cv=cv)"
   ]
  },
  {
   "cell_type": "code",
   "execution_count": 47,
   "metadata": {},
   "outputs": [
    {
     "data": {
      "text/plain": [
       "array([1.79598986, 2.88487323, 1.85510171, ..., 5.70297225, 2.64026789,\n",
       "       2.81282546])"
      ]
     },
     "execution_count": 47,
     "metadata": {},
     "output_type": "execute_result"
    }
   ],
   "source": [
    "y_pred_CV_GBR"
   ]
  },
  {
   "cell_type": "code",
   "execution_count": 48,
   "metadata": {},
   "outputs": [
    {
     "data": {
      "text/plain": [
       "0.55"
      ]
     },
     "execution_count": 48,
     "metadata": {},
     "output_type": "execute_result"
    }
   ],
   "source": [
    "Q2_CV = round(r2_score(y_tr, y_pred_CV_GBR), 2)\n",
    "Q2_CV"
   ]
  },
  {
   "cell_type": "code",
   "execution_count": 49,
   "metadata": {},
   "outputs": [
    {
     "data": {
      "text/plain": [
       "0.66"
      ]
     },
     "execution_count": 49,
     "metadata": {},
     "output_type": "execute_result"
    }
   ],
   "source": [
    "RMSE_CV=round(np.sqrt(mean_absolute_error(y_tr, y_pred_CV_GBR)), 2)\n",
    "RMSE_CV"
   ]
  },
  {
   "cell_type": "markdown",
   "metadata": {},
   "source": [
    "# 9. Prediction for test set's molecules"
   ]
  },
  {
   "cell_type": "code",
   "execution_count": 50,
   "metadata": {},
   "outputs": [],
   "source": [
    "x_ts = np.array(x_ts, dtype=np.float32)\n",
    "y_ts = np.array(y_ts, dtype=np.float32)"
   ]
  },
  {
   "cell_type": "code",
   "execution_count": 51,
   "metadata": {},
   "outputs": [],
   "source": [
    "y_pred_GBR = best_GBR.predict(x_ts)"
   ]
  },
  {
   "cell_type": "code",
   "execution_count": 52,
   "metadata": {},
   "outputs": [
    {
     "data": {
      "text/plain": [
       "0.56"
      ]
     },
     "execution_count": 52,
     "metadata": {},
     "output_type": "execute_result"
    }
   ],
   "source": [
    "Q2_TS = round(r2_score(y_ts, y_pred_GBR), 2)\n",
    "Q2_TS"
   ]
  },
  {
   "cell_type": "code",
   "execution_count": 53,
   "metadata": {},
   "outputs": [
    {
     "data": {
      "text/plain": [
       "0.65"
      ]
     },
     "execution_count": 53,
     "metadata": {},
     "output_type": "execute_result"
    }
   ],
   "source": [
    "RMSE_TS=round(np.sqrt(mean_absolute_error(y_ts, y_pred_GBR)), 2)\n",
    "RMSE_TS"
   ]
  },
  {
   "cell_type": "markdown",
   "metadata": {},
   "source": [
    "# save the model to disk"
   ]
  },
  {
   "cell_type": "code",
   "execution_count": 56,
   "metadata": {},
   "outputs": [],
   "source": [
    "pickle.dump(best_GBR, open('models/MorganFingerprint/Toxicity_GBR_MF.pkl', 'wb'))"
   ]
  },
  {
   "cell_type": "markdown",
   "metadata": {},
   "source": [
    "# load the model from disk"
   ]
  },
  {
   "cell_type": "code",
   "execution_count": 21,
   "metadata": {},
   "outputs": [],
   "source": [
    "best_GBR = pickle.load(open('Models/Morgan_fingerprint/Toxicity_GBR_MF.pkl', 'rb'))"
   ]
  },
  {
   "cell_type": "markdown",
   "metadata": {},
   "source": [
    "# 10. Y-randomization GradientBoostingRegressor model"
   ]
  },
  {
   "cell_type": "code",
   "execution_count": 57,
   "metadata": {},
   "outputs": [
    {
     "name": "stderr",
     "output_type": "stream",
     "text": [
      "[Parallel(n_jobs=-1)]: Using backend LokyBackend with 16 concurrent workers.\n",
      "[Parallel(n_jobs=-1)]: Done  18 tasks      | elapsed: 331.1min\n"
     ]
    },
    {
     "name": "stdout",
     "output_type": "stream",
     "text": [
      "True score =  0.55 \n",
      "Y-randomization =  -0.15 \n",
      "p-value =  0.0196\n"
     ]
    },
    {
     "name": "stderr",
     "output_type": "stream",
     "text": [
      "[Parallel(n_jobs=-1)]: Done  50 out of  50 | elapsed: 541.9min finished\n"
     ]
    }
   ],
   "source": [
    "permutations = 50\n",
    "score, permutation_scores, pvalue = permutation_test_score(best_GBR, x_tr, y_tr,\n",
    "                                                           cv=cv, scoring='r2',\n",
    "                                                           n_permutations=permutations,\n",
    "                                                           n_jobs=-1,\n",
    "                                                           verbose=1,\n",
    "                                                           random_state=seed)\n",
    "print('True score = ', score.round(2),\n",
    "      '\\nY-randomization = ', np.mean(permutation_scores).round(2),\n",
    "      '\\np-value = ', pvalue.round(4))"
   ]
  },
  {
   "cell_type": "markdown",
   "metadata": {},
   "source": [
    "# 11. Estimating applicability domain. Method - Euclidian distances, K=1"
   ]
  },
  {
   "cell_type": "code",
   "execution_count": 58,
   "metadata": {},
   "outputs": [],
   "source": [
    "neighbors_k= pairwise_distances(x_tr, n_jobs=-1)\n",
    "neighbors_k.sort(0)"
   ]
  },
  {
   "cell_type": "code",
   "execution_count": 59,
   "metadata": {},
   "outputs": [
    {
     "data": {
      "text/html": [
       "<div>\n",
       "<style scoped>\n",
       "    .dataframe tbody tr th:only-of-type {\n",
       "        vertical-align: middle;\n",
       "    }\n",
       "\n",
       "    .dataframe tbody tr th {\n",
       "        vertical-align: top;\n",
       "    }\n",
       "\n",
       "    .dataframe thead th {\n",
       "        text-align: right;\n",
       "    }\n",
       "</style>\n",
       "<table border=\"1\" class=\"dataframe\">\n",
       "  <thead>\n",
       "    <tr style=\"text-align: right;\">\n",
       "      <th></th>\n",
       "      <th>0</th>\n",
       "      <th>1</th>\n",
       "      <th>2</th>\n",
       "      <th>3</th>\n",
       "      <th>4</th>\n",
       "      <th>5</th>\n",
       "      <th>6</th>\n",
       "      <th>7</th>\n",
       "      <th>8</th>\n",
       "      <th>9</th>\n",
       "      <th>...</th>\n",
       "      <th>7702</th>\n",
       "      <th>7703</th>\n",
       "      <th>7704</th>\n",
       "      <th>7705</th>\n",
       "      <th>7706</th>\n",
       "      <th>7707</th>\n",
       "      <th>7708</th>\n",
       "      <th>7709</th>\n",
       "      <th>7710</th>\n",
       "      <th>7711</th>\n",
       "    </tr>\n",
       "  </thead>\n",
       "  <tbody>\n",
       "    <tr>\n",
       "      <th>0</th>\n",
       "      <td>0.000000</td>\n",
       "      <td>0.000000</td>\n",
       "      <td>0.000000</td>\n",
       "      <td>0.000000</td>\n",
       "      <td>0.000000</td>\n",
       "      <td>0.000000</td>\n",
       "      <td>0.000000</td>\n",
       "      <td>0.000000</td>\n",
       "      <td>0.000000</td>\n",
       "      <td>0.000000</td>\n",
       "      <td>...</td>\n",
       "      <td>0.000000</td>\n",
       "      <td>0.000000</td>\n",
       "      <td>0.000000</td>\n",
       "      <td>0.000000</td>\n",
       "      <td>0.000000</td>\n",
       "      <td>0.000000</td>\n",
       "      <td>0.000000</td>\n",
       "      <td>0.000000</td>\n",
       "      <td>0.000000</td>\n",
       "      <td>0.000000</td>\n",
       "    </tr>\n",
       "    <tr>\n",
       "      <th>1</th>\n",
       "      <td>3.162278</td>\n",
       "      <td>4.000000</td>\n",
       "      <td>1.414214</td>\n",
       "      <td>3.741657</td>\n",
       "      <td>2.236068</td>\n",
       "      <td>3.464102</td>\n",
       "      <td>3.316625</td>\n",
       "      <td>6.000000</td>\n",
       "      <td>0.000000</td>\n",
       "      <td>2.000000</td>\n",
       "      <td>...</td>\n",
       "      <td>2.449490</td>\n",
       "      <td>3.316625</td>\n",
       "      <td>4.000000</td>\n",
       "      <td>4.795832</td>\n",
       "      <td>4.358899</td>\n",
       "      <td>2.645751</td>\n",
       "      <td>6.557438</td>\n",
       "      <td>3.316625</td>\n",
       "      <td>2.645751</td>\n",
       "      <td>5.567764</td>\n",
       "    </tr>\n",
       "    <tr>\n",
       "      <th>2</th>\n",
       "      <td>3.464102</td>\n",
       "      <td>4.690416</td>\n",
       "      <td>2.236068</td>\n",
       "      <td>3.872983</td>\n",
       "      <td>2.449490</td>\n",
       "      <td>3.464102</td>\n",
       "      <td>3.605551</td>\n",
       "      <td>6.082763</td>\n",
       "      <td>0.000000</td>\n",
       "      <td>2.449490</td>\n",
       "      <td>...</td>\n",
       "      <td>2.645751</td>\n",
       "      <td>3.464102</td>\n",
       "      <td>4.690416</td>\n",
       "      <td>5.099020</td>\n",
       "      <td>5.477226</td>\n",
       "      <td>4.472136</td>\n",
       "      <td>6.557438</td>\n",
       "      <td>4.242640</td>\n",
       "      <td>2.645751</td>\n",
       "      <td>5.916080</td>\n",
       "    </tr>\n",
       "    <tr>\n",
       "      <th>3</th>\n",
       "      <td>3.872983</td>\n",
       "      <td>4.795832</td>\n",
       "      <td>2.449490</td>\n",
       "      <td>3.872983</td>\n",
       "      <td>2.449490</td>\n",
       "      <td>3.464102</td>\n",
       "      <td>3.741657</td>\n",
       "      <td>6.082763</td>\n",
       "      <td>0.000000</td>\n",
       "      <td>2.449490</td>\n",
       "      <td>...</td>\n",
       "      <td>2.828427</td>\n",
       "      <td>4.000000</td>\n",
       "      <td>6.164414</td>\n",
       "      <td>6.164414</td>\n",
       "      <td>5.477226</td>\n",
       "      <td>5.099020</td>\n",
       "      <td>6.633250</td>\n",
       "      <td>5.099020</td>\n",
       "      <td>2.828427</td>\n",
       "      <td>6.244998</td>\n",
       "    </tr>\n",
       "    <tr>\n",
       "      <th>4</th>\n",
       "      <td>3.872983</td>\n",
       "      <td>5.099020</td>\n",
       "      <td>2.449490</td>\n",
       "      <td>4.000000</td>\n",
       "      <td>2.449490</td>\n",
       "      <td>3.464102</td>\n",
       "      <td>3.741657</td>\n",
       "      <td>6.082763</td>\n",
       "      <td>1.732051</td>\n",
       "      <td>2.645751</td>\n",
       "      <td>...</td>\n",
       "      <td>3.741657</td>\n",
       "      <td>4.242640</td>\n",
       "      <td>6.244998</td>\n",
       "      <td>6.782330</td>\n",
       "      <td>5.477226</td>\n",
       "      <td>5.099020</td>\n",
       "      <td>6.633250</td>\n",
       "      <td>7.416198</td>\n",
       "      <td>3.316625</td>\n",
       "      <td>6.324555</td>\n",
       "    </tr>\n",
       "    <tr>\n",
       "      <th>...</th>\n",
       "      <td>...</td>\n",
       "      <td>...</td>\n",
       "      <td>...</td>\n",
       "      <td>...</td>\n",
       "      <td>...</td>\n",
       "      <td>...</td>\n",
       "      <td>...</td>\n",
       "      <td>...</td>\n",
       "      <td>...</td>\n",
       "      <td>...</td>\n",
       "      <td>...</td>\n",
       "      <td>...</td>\n",
       "      <td>...</td>\n",
       "      <td>...</td>\n",
       "      <td>...</td>\n",
       "      <td>...</td>\n",
       "      <td>...</td>\n",
       "      <td>...</td>\n",
       "      <td>...</td>\n",
       "      <td>...</td>\n",
       "      <td>...</td>\n",
       "    </tr>\n",
       "    <tr>\n",
       "      <th>7707</th>\n",
       "      <td>10.630146</td>\n",
       "      <td>10.816654</td>\n",
       "      <td>10.583005</td>\n",
       "      <td>10.723805</td>\n",
       "      <td>10.246951</td>\n",
       "      <td>10.344080</td>\n",
       "      <td>10.677078</td>\n",
       "      <td>10.723805</td>\n",
       "      <td>10.677078</td>\n",
       "      <td>10.816654</td>\n",
       "      <td>...</td>\n",
       "      <td>10.954452</td>\n",
       "      <td>11.224972</td>\n",
       "      <td>11.224972</td>\n",
       "      <td>11.916375</td>\n",
       "      <td>11.357817</td>\n",
       "      <td>11.661903</td>\n",
       "      <td>11.224972</td>\n",
       "      <td>11.832160</td>\n",
       "      <td>10.677078</td>\n",
       "      <td>11.489125</td>\n",
       "    </tr>\n",
       "    <tr>\n",
       "      <th>7708</th>\n",
       "      <td>11.180340</td>\n",
       "      <td>11.045361</td>\n",
       "      <td>11.224972</td>\n",
       "      <td>11.445523</td>\n",
       "      <td>10.908712</td>\n",
       "      <td>11.090536</td>\n",
       "      <td>10.862781</td>\n",
       "      <td>11.224972</td>\n",
       "      <td>11.313708</td>\n",
       "      <td>11.357817</td>\n",
       "      <td>...</td>\n",
       "      <td>11.045361</td>\n",
       "      <td>11.747340</td>\n",
       "      <td>11.401754</td>\n",
       "      <td>12.206555</td>\n",
       "      <td>11.532562</td>\n",
       "      <td>11.958261</td>\n",
       "      <td>11.618950</td>\n",
       "      <td>12.247449</td>\n",
       "      <td>10.770329</td>\n",
       "      <td>11.832160</td>\n",
       "    </tr>\n",
       "    <tr>\n",
       "      <th>7709</th>\n",
       "      <td>11.704700</td>\n",
       "      <td>11.832160</td>\n",
       "      <td>11.747340</td>\n",
       "      <td>12.041595</td>\n",
       "      <td>11.357817</td>\n",
       "      <td>11.445523</td>\n",
       "      <td>11.401754</td>\n",
       "      <td>11.747340</td>\n",
       "      <td>11.747340</td>\n",
       "      <td>11.789826</td>\n",
       "      <td>...</td>\n",
       "      <td>12.000000</td>\n",
       "      <td>12.083046</td>\n",
       "      <td>11.832160</td>\n",
       "      <td>12.767145</td>\n",
       "      <td>12.124355</td>\n",
       "      <td>12.529964</td>\n",
       "      <td>12.206555</td>\n",
       "      <td>12.328828</td>\n",
       "      <td>11.747340</td>\n",
       "      <td>12.727922</td>\n",
       "    </tr>\n",
       "    <tr>\n",
       "      <th>7710</th>\n",
       "      <td>11.874342</td>\n",
       "      <td>11.916375</td>\n",
       "      <td>11.747340</td>\n",
       "      <td>12.124355</td>\n",
       "      <td>11.532562</td>\n",
       "      <td>11.532562</td>\n",
       "      <td>11.489125</td>\n",
       "      <td>11.916375</td>\n",
       "      <td>11.832160</td>\n",
       "      <td>11.958261</td>\n",
       "      <td>...</td>\n",
       "      <td>12.000000</td>\n",
       "      <td>12.165525</td>\n",
       "      <td>12.083046</td>\n",
       "      <td>13.000000</td>\n",
       "      <td>12.288206</td>\n",
       "      <td>12.688578</td>\n",
       "      <td>12.369317</td>\n",
       "      <td>12.569805</td>\n",
       "      <td>11.832160</td>\n",
       "      <td>12.884099</td>\n",
       "    </tr>\n",
       "    <tr>\n",
       "      <th>7711</th>\n",
       "      <td>11.874342</td>\n",
       "      <td>12.247449</td>\n",
       "      <td>11.916375</td>\n",
       "      <td>12.206555</td>\n",
       "      <td>11.618950</td>\n",
       "      <td>11.874342</td>\n",
       "      <td>12.000000</td>\n",
       "      <td>12.000000</td>\n",
       "      <td>12.083046</td>\n",
       "      <td>12.041595</td>\n",
       "      <td>...</td>\n",
       "      <td>12.165525</td>\n",
       "      <td>12.409674</td>\n",
       "      <td>12.409674</td>\n",
       "      <td>13.076696</td>\n",
       "      <td>12.288206</td>\n",
       "      <td>12.767145</td>\n",
       "      <td>12.688578</td>\n",
       "      <td>12.649111</td>\n",
       "      <td>11.832160</td>\n",
       "      <td>12.961481</td>\n",
       "    </tr>\n",
       "  </tbody>\n",
       "</table>\n",
       "<p>7712 rows × 7712 columns</p>\n",
       "</div>"
      ],
      "text/plain": [
       "           0          1          2          3          4          5     \\\n",
       "0      0.000000   0.000000   0.000000   0.000000   0.000000   0.000000   \n",
       "1      3.162278   4.000000   1.414214   3.741657   2.236068   3.464102   \n",
       "2      3.464102   4.690416   2.236068   3.872983   2.449490   3.464102   \n",
       "3      3.872983   4.795832   2.449490   3.872983   2.449490   3.464102   \n",
       "4      3.872983   5.099020   2.449490   4.000000   2.449490   3.464102   \n",
       "...         ...        ...        ...        ...        ...        ...   \n",
       "7707  10.630146  10.816654  10.583005  10.723805  10.246951  10.344080   \n",
       "7708  11.180340  11.045361  11.224972  11.445523  10.908712  11.090536   \n",
       "7709  11.704700  11.832160  11.747340  12.041595  11.357817  11.445523   \n",
       "7710  11.874342  11.916375  11.747340  12.124355  11.532562  11.532562   \n",
       "7711  11.874342  12.247449  11.916375  12.206555  11.618950  11.874342   \n",
       "\n",
       "           6          7          8          9     ...       7702       7703  \\\n",
       "0      0.000000   0.000000   0.000000   0.000000  ...   0.000000   0.000000   \n",
       "1      3.316625   6.000000   0.000000   2.000000  ...   2.449490   3.316625   \n",
       "2      3.605551   6.082763   0.000000   2.449490  ...   2.645751   3.464102   \n",
       "3      3.741657   6.082763   0.000000   2.449490  ...   2.828427   4.000000   \n",
       "4      3.741657   6.082763   1.732051   2.645751  ...   3.741657   4.242640   \n",
       "...         ...        ...        ...        ...  ...        ...        ...   \n",
       "7707  10.677078  10.723805  10.677078  10.816654  ...  10.954452  11.224972   \n",
       "7708  10.862781  11.224972  11.313708  11.357817  ...  11.045361  11.747340   \n",
       "7709  11.401754  11.747340  11.747340  11.789826  ...  12.000000  12.083046   \n",
       "7710  11.489125  11.916375  11.832160  11.958261  ...  12.000000  12.165525   \n",
       "7711  12.000000  12.000000  12.083046  12.041595  ...  12.165525  12.409674   \n",
       "\n",
       "           7704       7705       7706       7707       7708       7709  \\\n",
       "0      0.000000   0.000000   0.000000   0.000000   0.000000   0.000000   \n",
       "1      4.000000   4.795832   4.358899   2.645751   6.557438   3.316625   \n",
       "2      4.690416   5.099020   5.477226   4.472136   6.557438   4.242640   \n",
       "3      6.164414   6.164414   5.477226   5.099020   6.633250   5.099020   \n",
       "4      6.244998   6.782330   5.477226   5.099020   6.633250   7.416198   \n",
       "...         ...        ...        ...        ...        ...        ...   \n",
       "7707  11.224972  11.916375  11.357817  11.661903  11.224972  11.832160   \n",
       "7708  11.401754  12.206555  11.532562  11.958261  11.618950  12.247449   \n",
       "7709  11.832160  12.767145  12.124355  12.529964  12.206555  12.328828   \n",
       "7710  12.083046  13.000000  12.288206  12.688578  12.369317  12.569805   \n",
       "7711  12.409674  13.076696  12.288206  12.767145  12.688578  12.649111   \n",
       "\n",
       "           7710       7711  \n",
       "0      0.000000   0.000000  \n",
       "1      2.645751   5.567764  \n",
       "2      2.645751   5.916080  \n",
       "3      2.828427   6.244998  \n",
       "4      3.316625   6.324555  \n",
       "...         ...        ...  \n",
       "7707  10.677078  11.489125  \n",
       "7708  10.770329  11.832160  \n",
       "7709  11.747340  12.727922  \n",
       "7710  11.832160  12.884099  \n",
       "7711  11.832160  12.961481  \n",
       "\n",
       "[7712 rows x 7712 columns]"
      ]
     },
     "execution_count": 59,
     "metadata": {},
     "output_type": "execute_result"
    }
   ],
   "source": [
    "df_tr=pd.DataFrame(neighbors_k)\n",
    "df_tr"
   ]
  },
  {
   "cell_type": "code",
   "execution_count": 60,
   "metadata": {},
   "outputs": [],
   "source": [
    "similarity= neighbors_k"
   ]
  },
  {
   "cell_type": "code",
   "execution_count": 61,
   "metadata": {},
   "outputs": [],
   "source": [
    "Dmean=np.mean(similarity[1,:])"
   ]
  },
  {
   "cell_type": "code",
   "execution_count": 62,
   "metadata": {},
   "outputs": [
    {
     "data": {
      "text/plain": [
       "3.63"
      ]
     },
     "execution_count": 62,
     "metadata": {},
     "output_type": "execute_result"
    }
   ],
   "source": [
    "round(Dmean, 2)"
   ]
  },
  {
   "cell_type": "code",
   "execution_count": 63,
   "metadata": {},
   "outputs": [],
   "source": [
    "std=np.std(similarity[1,:])"
   ]
  },
  {
   "cell_type": "code",
   "execution_count": 64,
   "metadata": {},
   "outputs": [
    {
     "data": {
      "text/plain": [
       "1.23"
      ]
     },
     "execution_count": 64,
     "metadata": {},
     "output_type": "execute_result"
    }
   ],
   "source": [
    "round(std, 2)"
   ]
  },
  {
   "cell_type": "code",
   "execution_count": 65,
   "metadata": {},
   "outputs": [
    {
     "name": "stdout",
     "output_type": "stream",
     "text": [
      "4.25\n"
     ]
    }
   ],
   "source": [
    "model_AD_limit=Dmean+std*0.5\n",
    "print(np.round(model_AD_limit, 2))"
   ]
  },
  {
   "cell_type": "code",
   "execution_count": 66,
   "metadata": {},
   "outputs": [],
   "source": [
    "neighbors_k_ts= pairwise_distances(x_tr,Y=x_ts, n_jobs=-1)\n",
    "neighbors_k_ts.sort(0)"
   ]
  },
  {
   "cell_type": "code",
   "execution_count": 67,
   "metadata": {},
   "outputs": [
    {
     "data": {
      "text/html": [
       "<div>\n",
       "<style scoped>\n",
       "    .dataframe tbody tr th:only-of-type {\n",
       "        vertical-align: middle;\n",
       "    }\n",
       "\n",
       "    .dataframe tbody tr th {\n",
       "        vertical-align: top;\n",
       "    }\n",
       "\n",
       "    .dataframe thead th {\n",
       "        text-align: right;\n",
       "    }\n",
       "</style>\n",
       "<table border=\"1\" class=\"dataframe\">\n",
       "  <thead>\n",
       "    <tr style=\"text-align: right;\">\n",
       "      <th></th>\n",
       "      <th>0</th>\n",
       "      <th>1</th>\n",
       "      <th>2</th>\n",
       "      <th>3</th>\n",
       "      <th>4</th>\n",
       "      <th>5</th>\n",
       "      <th>6</th>\n",
       "      <th>7</th>\n",
       "      <th>8</th>\n",
       "      <th>9</th>\n",
       "      <th>...</th>\n",
       "      <th>1919</th>\n",
       "      <th>1920</th>\n",
       "      <th>1921</th>\n",
       "      <th>1922</th>\n",
       "      <th>1923</th>\n",
       "      <th>1924</th>\n",
       "      <th>1925</th>\n",
       "      <th>1926</th>\n",
       "      <th>1927</th>\n",
       "      <th>1928</th>\n",
       "    </tr>\n",
       "  </thead>\n",
       "  <tbody>\n",
       "    <tr>\n",
       "      <th>0</th>\n",
       "      <td>2.000000</td>\n",
       "      <td>3.464102</td>\n",
       "      <td>2.000000</td>\n",
       "      <td>1.414214</td>\n",
       "      <td>2.000000</td>\n",
       "      <td>2.645751</td>\n",
       "      <td>3.162278</td>\n",
       "      <td>0.000000</td>\n",
       "      <td>2.449490</td>\n",
       "      <td>4.358899</td>\n",
       "      <td>...</td>\n",
       "      <td>6.855655</td>\n",
       "      <td>4.690416</td>\n",
       "      <td>2.828427</td>\n",
       "      <td>3.741657</td>\n",
       "      <td>3.162278</td>\n",
       "      <td>4.898980</td>\n",
       "      <td>2.645751</td>\n",
       "      <td>4.123106</td>\n",
       "      <td>3.162278</td>\n",
       "      <td>7.071068</td>\n",
       "    </tr>\n",
       "    <tr>\n",
       "      <th>1</th>\n",
       "      <td>2.000000</td>\n",
       "      <td>3.464102</td>\n",
       "      <td>2.236068</td>\n",
       "      <td>1.732051</td>\n",
       "      <td>3.162278</td>\n",
       "      <td>2.828427</td>\n",
       "      <td>3.605551</td>\n",
       "      <td>2.449490</td>\n",
       "      <td>2.449490</td>\n",
       "      <td>4.690416</td>\n",
       "      <td>...</td>\n",
       "      <td>7.071068</td>\n",
       "      <td>6.000000</td>\n",
       "      <td>3.316625</td>\n",
       "      <td>3.872983</td>\n",
       "      <td>3.162278</td>\n",
       "      <td>5.916080</td>\n",
       "      <td>2.828427</td>\n",
       "      <td>4.358899</td>\n",
       "      <td>3.605551</td>\n",
       "      <td>7.280110</td>\n",
       "    </tr>\n",
       "    <tr>\n",
       "      <th>2</th>\n",
       "      <td>2.000000</td>\n",
       "      <td>3.605551</td>\n",
       "      <td>2.236068</td>\n",
       "      <td>1.732051</td>\n",
       "      <td>3.162278</td>\n",
       "      <td>2.828427</td>\n",
       "      <td>3.872983</td>\n",
       "      <td>2.449490</td>\n",
       "      <td>2.449490</td>\n",
       "      <td>4.795832</td>\n",
       "      <td>...</td>\n",
       "      <td>7.280110</td>\n",
       "      <td>6.782330</td>\n",
       "      <td>3.316625</td>\n",
       "      <td>4.795832</td>\n",
       "      <td>3.162278</td>\n",
       "      <td>6.082763</td>\n",
       "      <td>2.828427</td>\n",
       "      <td>4.582576</td>\n",
       "      <td>3.741657</td>\n",
       "      <td>7.348469</td>\n",
       "    </tr>\n",
       "    <tr>\n",
       "      <th>3</th>\n",
       "      <td>2.000000</td>\n",
       "      <td>3.872983</td>\n",
       "      <td>2.645751</td>\n",
       "      <td>2.000000</td>\n",
       "      <td>3.464102</td>\n",
       "      <td>2.828427</td>\n",
       "      <td>4.000000</td>\n",
       "      <td>2.449490</td>\n",
       "      <td>2.449490</td>\n",
       "      <td>5.196152</td>\n",
       "      <td>...</td>\n",
       "      <td>7.280110</td>\n",
       "      <td>6.855655</td>\n",
       "      <td>3.464102</td>\n",
       "      <td>4.795832</td>\n",
       "      <td>3.316625</td>\n",
       "      <td>6.082763</td>\n",
       "      <td>2.828427</td>\n",
       "      <td>4.690416</td>\n",
       "      <td>3.741657</td>\n",
       "      <td>7.348469</td>\n",
       "    </tr>\n",
       "    <tr>\n",
       "      <th>4</th>\n",
       "      <td>2.000000</td>\n",
       "      <td>4.000000</td>\n",
       "      <td>2.828427</td>\n",
       "      <td>2.236068</td>\n",
       "      <td>3.605551</td>\n",
       "      <td>2.828427</td>\n",
       "      <td>4.242640</td>\n",
       "      <td>2.449490</td>\n",
       "      <td>2.645751</td>\n",
       "      <td>5.196152</td>\n",
       "      <td>...</td>\n",
       "      <td>7.416198</td>\n",
       "      <td>6.855655</td>\n",
       "      <td>3.605551</td>\n",
       "      <td>4.898980</td>\n",
       "      <td>3.605551</td>\n",
       "      <td>6.480741</td>\n",
       "      <td>3.000000</td>\n",
       "      <td>4.690416</td>\n",
       "      <td>3.872983</td>\n",
       "      <td>7.416198</td>\n",
       "    </tr>\n",
       "    <tr>\n",
       "      <th>...</th>\n",
       "      <td>...</td>\n",
       "      <td>...</td>\n",
       "      <td>...</td>\n",
       "      <td>...</td>\n",
       "      <td>...</td>\n",
       "      <td>...</td>\n",
       "      <td>...</td>\n",
       "      <td>...</td>\n",
       "      <td>...</td>\n",
       "      <td>...</td>\n",
       "      <td>...</td>\n",
       "      <td>...</td>\n",
       "      <td>...</td>\n",
       "      <td>...</td>\n",
       "      <td>...</td>\n",
       "      <td>...</td>\n",
       "      <td>...</td>\n",
       "      <td>...</td>\n",
       "      <td>...</td>\n",
       "      <td>...</td>\n",
       "      <td>...</td>\n",
       "    </tr>\n",
       "    <tr>\n",
       "      <th>7707</th>\n",
       "      <td>10.583005</td>\n",
       "      <td>10.583005</td>\n",
       "      <td>10.295630</td>\n",
       "      <td>10.770329</td>\n",
       "      <td>10.246951</td>\n",
       "      <td>10.344080</td>\n",
       "      <td>11.000000</td>\n",
       "      <td>10.488089</td>\n",
       "      <td>10.535654</td>\n",
       "      <td>10.954452</td>\n",
       "      <td>...</td>\n",
       "      <td>11.789826</td>\n",
       "      <td>11.618950</td>\n",
       "      <td>11.401754</td>\n",
       "      <td>11.180340</td>\n",
       "      <td>11.269427</td>\n",
       "      <td>11.789826</td>\n",
       "      <td>11.357817</td>\n",
       "      <td>11.224972</td>\n",
       "      <td>10.770329</td>\n",
       "      <td>11.489125</td>\n",
       "    </tr>\n",
       "    <tr>\n",
       "      <th>7708</th>\n",
       "      <td>11.135529</td>\n",
       "      <td>11.135529</td>\n",
       "      <td>10.954452</td>\n",
       "      <td>11.313708</td>\n",
       "      <td>11.045361</td>\n",
       "      <td>11.000000</td>\n",
       "      <td>11.618950</td>\n",
       "      <td>11.135529</td>\n",
       "      <td>11.000000</td>\n",
       "      <td>11.224972</td>\n",
       "      <td>...</td>\n",
       "      <td>12.124355</td>\n",
       "      <td>12.124355</td>\n",
       "      <td>11.661903</td>\n",
       "      <td>11.445523</td>\n",
       "      <td>11.618950</td>\n",
       "      <td>11.874342</td>\n",
       "      <td>11.704700</td>\n",
       "      <td>11.661903</td>\n",
       "      <td>10.954452</td>\n",
       "      <td>12.083046</td>\n",
       "    </tr>\n",
       "    <tr>\n",
       "      <th>7709</th>\n",
       "      <td>11.575837</td>\n",
       "      <td>11.661903</td>\n",
       "      <td>11.575837</td>\n",
       "      <td>11.832160</td>\n",
       "      <td>11.575837</td>\n",
       "      <td>11.532562</td>\n",
       "      <td>11.704700</td>\n",
       "      <td>11.661903</td>\n",
       "      <td>11.618950</td>\n",
       "      <td>11.747340</td>\n",
       "      <td>...</td>\n",
       "      <td>12.449900</td>\n",
       "      <td>12.609520</td>\n",
       "      <td>12.165525</td>\n",
       "      <td>12.124355</td>\n",
       "      <td>11.958261</td>\n",
       "      <td>12.206555</td>\n",
       "      <td>12.124355</td>\n",
       "      <td>12.083046</td>\n",
       "      <td>11.832160</td>\n",
       "      <td>12.165525</td>\n",
       "    </tr>\n",
       "    <tr>\n",
       "      <th>7710</th>\n",
       "      <td>11.661903</td>\n",
       "      <td>11.661903</td>\n",
       "      <td>11.575837</td>\n",
       "      <td>11.916375</td>\n",
       "      <td>11.661903</td>\n",
       "      <td>11.532562</td>\n",
       "      <td>11.789826</td>\n",
       "      <td>11.661903</td>\n",
       "      <td>11.704700</td>\n",
       "      <td>12.000000</td>\n",
       "      <td>...</td>\n",
       "      <td>12.845233</td>\n",
       "      <td>12.688578</td>\n",
       "      <td>12.247449</td>\n",
       "      <td>12.124355</td>\n",
       "      <td>12.041595</td>\n",
       "      <td>12.369317</td>\n",
       "      <td>12.206555</td>\n",
       "      <td>12.247449</td>\n",
       "      <td>11.832160</td>\n",
       "      <td>12.247449</td>\n",
       "    </tr>\n",
       "    <tr>\n",
       "      <th>7711</th>\n",
       "      <td>11.661903</td>\n",
       "      <td>12.000000</td>\n",
       "      <td>11.661903</td>\n",
       "      <td>12.000000</td>\n",
       "      <td>11.832160</td>\n",
       "      <td>11.789826</td>\n",
       "      <td>12.041595</td>\n",
       "      <td>11.747340</td>\n",
       "      <td>11.874342</td>\n",
       "      <td>12.083046</td>\n",
       "      <td>...</td>\n",
       "      <td>12.922848</td>\n",
       "      <td>12.688578</td>\n",
       "      <td>12.328828</td>\n",
       "      <td>12.288206</td>\n",
       "      <td>12.288206</td>\n",
       "      <td>12.449900</td>\n",
       "      <td>12.288206</td>\n",
       "      <td>12.247449</td>\n",
       "      <td>11.916375</td>\n",
       "      <td>12.489996</td>\n",
       "    </tr>\n",
       "  </tbody>\n",
       "</table>\n",
       "<p>7712 rows × 1929 columns</p>\n",
       "</div>"
      ],
      "text/plain": [
       "           0          1          2          3          4          5     \\\n",
       "0      2.000000   3.464102   2.000000   1.414214   2.000000   2.645751   \n",
       "1      2.000000   3.464102   2.236068   1.732051   3.162278   2.828427   \n",
       "2      2.000000   3.605551   2.236068   1.732051   3.162278   2.828427   \n",
       "3      2.000000   3.872983   2.645751   2.000000   3.464102   2.828427   \n",
       "4      2.000000   4.000000   2.828427   2.236068   3.605551   2.828427   \n",
       "...         ...        ...        ...        ...        ...        ...   \n",
       "7707  10.583005  10.583005  10.295630  10.770329  10.246951  10.344080   \n",
       "7708  11.135529  11.135529  10.954452  11.313708  11.045361  11.000000   \n",
       "7709  11.575837  11.661903  11.575837  11.832160  11.575837  11.532562   \n",
       "7710  11.661903  11.661903  11.575837  11.916375  11.661903  11.532562   \n",
       "7711  11.661903  12.000000  11.661903  12.000000  11.832160  11.789826   \n",
       "\n",
       "           6          7          8          9     ...       1919       1920  \\\n",
       "0      3.162278   0.000000   2.449490   4.358899  ...   6.855655   4.690416   \n",
       "1      3.605551   2.449490   2.449490   4.690416  ...   7.071068   6.000000   \n",
       "2      3.872983   2.449490   2.449490   4.795832  ...   7.280110   6.782330   \n",
       "3      4.000000   2.449490   2.449490   5.196152  ...   7.280110   6.855655   \n",
       "4      4.242640   2.449490   2.645751   5.196152  ...   7.416198   6.855655   \n",
       "...         ...        ...        ...        ...  ...        ...        ...   \n",
       "7707  11.000000  10.488089  10.535654  10.954452  ...  11.789826  11.618950   \n",
       "7708  11.618950  11.135529  11.000000  11.224972  ...  12.124355  12.124355   \n",
       "7709  11.704700  11.661903  11.618950  11.747340  ...  12.449900  12.609520   \n",
       "7710  11.789826  11.661903  11.704700  12.000000  ...  12.845233  12.688578   \n",
       "7711  12.041595  11.747340  11.874342  12.083046  ...  12.922848  12.688578   \n",
       "\n",
       "           1921       1922       1923       1924       1925       1926  \\\n",
       "0      2.828427   3.741657   3.162278   4.898980   2.645751   4.123106   \n",
       "1      3.316625   3.872983   3.162278   5.916080   2.828427   4.358899   \n",
       "2      3.316625   4.795832   3.162278   6.082763   2.828427   4.582576   \n",
       "3      3.464102   4.795832   3.316625   6.082763   2.828427   4.690416   \n",
       "4      3.605551   4.898980   3.605551   6.480741   3.000000   4.690416   \n",
       "...         ...        ...        ...        ...        ...        ...   \n",
       "7707  11.401754  11.180340  11.269427  11.789826  11.357817  11.224972   \n",
       "7708  11.661903  11.445523  11.618950  11.874342  11.704700  11.661903   \n",
       "7709  12.165525  12.124355  11.958261  12.206555  12.124355  12.083046   \n",
       "7710  12.247449  12.124355  12.041595  12.369317  12.206555  12.247449   \n",
       "7711  12.328828  12.288206  12.288206  12.449900  12.288206  12.247449   \n",
       "\n",
       "           1927       1928  \n",
       "0      3.162278   7.071068  \n",
       "1      3.605551   7.280110  \n",
       "2      3.741657   7.348469  \n",
       "3      3.741657   7.348469  \n",
       "4      3.872983   7.416198  \n",
       "...         ...        ...  \n",
       "7707  10.770329  11.489125  \n",
       "7708  10.954452  12.083046  \n",
       "7709  11.832160  12.165525  \n",
       "7710  11.832160  12.247449  \n",
       "7711  11.916375  12.489996  \n",
       "\n",
       "[7712 rows x 1929 columns]"
      ]
     },
     "execution_count": 67,
     "metadata": {},
     "output_type": "execute_result"
    }
   ],
   "source": [
    "x_ts_AD=pd.DataFrame(neighbors_k_ts)\n",
    "x_ts_AD"
   ]
  },
  {
   "cell_type": "code",
   "execution_count": 68,
   "metadata": {},
   "outputs": [
    {
     "name": "stdout",
     "output_type": "stream",
     "text": [
      "[2.    3.464 2.    ... 4.123 3.162 7.071]\n"
     ]
    }
   ],
   "source": [
    "similarity_ts= neighbors_k_ts\n",
    "cpd_AD=similarity_ts[0,:]\n",
    "cpd_value = np.round(cpd_AD, 3)\n",
    "print(cpd_value)"
   ]
  },
  {
   "cell_type": "code",
   "execution_count": 69,
   "metadata": {},
   "outputs": [
    {
     "name": "stdout",
     "output_type": "stream",
     "text": [
      "[ True  True  True ...  True  True False]\n"
     ]
    }
   ],
   "source": [
    "cpd_AD = np.where(cpd_value <= model_AD_limit, True, False)\n",
    "print(cpd_AD)"
   ]
  },
  {
   "cell_type": "code",
   "execution_count": 70,
   "metadata": {},
   "outputs": [
    {
     "name": "stdout",
     "output_type": "stream",
     "text": [
      "Coverage =  0.74\n"
     ]
    }
   ],
   "source": [
    "print(\"Coverage = \", round(sum(cpd_AD) / len(cpd_AD), 2))"
   ]
  },
  {
   "cell_type": "code",
   "execution_count": 71,
   "metadata": {},
   "outputs": [
    {
     "name": "stdout",
     "output_type": "stream",
     "text": [
      "Indices of substances included in AD =  [   0    1    2 ... 1925 1926 1927]\n"
     ]
    }
   ],
   "source": [
    "print(\"Indices of substances included in AD = \", np.where(cpd_AD != 0)[0])"
   ]
  },
  {
   "cell_type": "code",
   "execution_count": 72,
   "metadata": {},
   "outputs": [],
   "source": [
    "out_Ad=list(np.where(cpd_AD == 0)[0])"
   ]
  },
  {
   "cell_type": "markdown",
   "metadata": {},
   "source": [
    "# 12. Prediction only for molecules included in  AD"
   ]
  },
  {
   "cell_type": "code",
   "execution_count": 73,
   "metadata": {},
   "outputs": [],
   "source": [
    "y_pred_GBR_ad=list(y_pred_GBR)"
   ]
  },
  {
   "cell_type": "code",
   "execution_count": 74,
   "metadata": {},
   "outputs": [],
   "source": [
    "y_pred_GBR_ad[:] = [x for i,x in enumerate(y_pred_GBR_ad) if i not in out_Ad]"
   ]
  },
  {
   "cell_type": "code",
   "execution_count": 75,
   "metadata": {},
   "outputs": [
    {
     "data": {
      "text/plain": [
       "1429"
      ]
     },
     "execution_count": 75,
     "metadata": {},
     "output_type": "execute_result"
    }
   ],
   "source": [
    "len(y_pred_GBR_ad)"
   ]
  },
  {
   "cell_type": "code",
   "execution_count": 76,
   "metadata": {},
   "outputs": [],
   "source": [
    "y_ts_ad=list(y_ts)"
   ]
  },
  {
   "cell_type": "code",
   "execution_count": 77,
   "metadata": {},
   "outputs": [],
   "source": [
    "y_ts_ad[:] = [x for i,x in enumerate(y_ts_ad) if i not in out_Ad]"
   ]
  },
  {
   "cell_type": "code",
   "execution_count": 78,
   "metadata": {},
   "outputs": [
    {
     "data": {
      "text/plain": [
       "1429"
      ]
     },
     "execution_count": 78,
     "metadata": {},
     "output_type": "execute_result"
    }
   ],
   "source": [
    "len(y_ts_ad)"
   ]
  },
  {
   "cell_type": "code",
   "execution_count": 79,
   "metadata": {},
   "outputs": [
    {
     "data": {
      "text/plain": [
       "0.65"
      ]
     },
     "execution_count": 79,
     "metadata": {},
     "output_type": "execute_result"
    }
   ],
   "source": [
    "Q2_TS = round(r2_score(y_ts_ad, y_pred_GBR_ad), 2)\n",
    "Q2_TS"
   ]
  },
  {
   "cell_type": "code",
   "execution_count": 80,
   "metadata": {},
   "outputs": [
    {
     "data": {
      "text/plain": [
       "0.63"
      ]
     },
     "execution_count": 80,
     "metadata": {},
     "output_type": "execute_result"
    }
   ],
   "source": [
    "RMSE_TS=round(np.sqrt(mean_absolute_error(y_ts_ad, y_pred_GBR_ad)), 2)\n",
    "RMSE_TS"
   ]
  },
  {
   "cell_type": "markdown",
   "metadata": {},
   "source": [
    "# SVM model building and validation"
   ]
  },
  {
   "cell_type": "code",
   "execution_count": 81,
   "metadata": {},
   "outputs": [],
   "source": [
    "param_grid = {\"C\": [10 ** i for i in range(0, 5)],\n",
    "              \"gamma\": [10 ** i for i in range(-6, 0)]}"
   ]
  },
  {
   "cell_type": "code",
   "execution_count": 82,
   "metadata": {},
   "outputs": [],
   "source": [
    "seed = 42\n",
    "cv=KFold(n_splits=5, random_state=seed, shuffle=True)"
   ]
  },
  {
   "cell_type": "code",
   "execution_count": 83,
   "metadata": {},
   "outputs": [],
   "source": [
    "svm = GridSearchCV(SVR(C=1.0, epsilon=0.2), param_grid, n_jobs=-1, cv=cv, verbose=1)"
   ]
  },
  {
   "cell_type": "code",
   "execution_count": 84,
   "metadata": {},
   "outputs": [
    {
     "name": "stdout",
     "output_type": "stream",
     "text": [
      "Fitting 5 folds for each of 30 candidates, totalling 150 fits\n"
     ]
    },
    {
     "data": {
      "text/html": [
       "<style>#sk-container-id-2 {color: black;}#sk-container-id-2 pre{padding: 0;}#sk-container-id-2 div.sk-toggleable {background-color: white;}#sk-container-id-2 label.sk-toggleable__label {cursor: pointer;display: block;width: 100%;margin-bottom: 0;padding: 0.3em;box-sizing: border-box;text-align: center;}#sk-container-id-2 label.sk-toggleable__label-arrow:before {content: \"▸\";float: left;margin-right: 0.25em;color: #696969;}#sk-container-id-2 label.sk-toggleable__label-arrow:hover:before {color: black;}#sk-container-id-2 div.sk-estimator:hover label.sk-toggleable__label-arrow:before {color: black;}#sk-container-id-2 div.sk-toggleable__content {max-height: 0;max-width: 0;overflow: hidden;text-align: left;background-color: #f0f8ff;}#sk-container-id-2 div.sk-toggleable__content pre {margin: 0.2em;color: black;border-radius: 0.25em;background-color: #f0f8ff;}#sk-container-id-2 input.sk-toggleable__control:checked~div.sk-toggleable__content {max-height: 200px;max-width: 100%;overflow: auto;}#sk-container-id-2 input.sk-toggleable__control:checked~label.sk-toggleable__label-arrow:before {content: \"▾\";}#sk-container-id-2 div.sk-estimator input.sk-toggleable__control:checked~label.sk-toggleable__label {background-color: #d4ebff;}#sk-container-id-2 div.sk-label input.sk-toggleable__control:checked~label.sk-toggleable__label {background-color: #d4ebff;}#sk-container-id-2 input.sk-hidden--visually {border: 0;clip: rect(1px 1px 1px 1px);clip: rect(1px, 1px, 1px, 1px);height: 1px;margin: -1px;overflow: hidden;padding: 0;position: absolute;width: 1px;}#sk-container-id-2 div.sk-estimator {font-family: monospace;background-color: #f0f8ff;border: 1px dotted black;border-radius: 0.25em;box-sizing: border-box;margin-bottom: 0.5em;}#sk-container-id-2 div.sk-estimator:hover {background-color: #d4ebff;}#sk-container-id-2 div.sk-parallel-item::after {content: \"\";width: 100%;border-bottom: 1px solid gray;flex-grow: 1;}#sk-container-id-2 div.sk-label:hover label.sk-toggleable__label {background-color: #d4ebff;}#sk-container-id-2 div.sk-serial::before {content: \"\";position: absolute;border-left: 1px solid gray;box-sizing: border-box;top: 0;bottom: 0;left: 50%;z-index: 0;}#sk-container-id-2 div.sk-serial {display: flex;flex-direction: column;align-items: center;background-color: white;padding-right: 0.2em;padding-left: 0.2em;position: relative;}#sk-container-id-2 div.sk-item {position: relative;z-index: 1;}#sk-container-id-2 div.sk-parallel {display: flex;align-items: stretch;justify-content: center;background-color: white;position: relative;}#sk-container-id-2 div.sk-item::before, #sk-container-id-2 div.sk-parallel-item::before {content: \"\";position: absolute;border-left: 1px solid gray;box-sizing: border-box;top: 0;bottom: 0;left: 50%;z-index: -1;}#sk-container-id-2 div.sk-parallel-item {display: flex;flex-direction: column;z-index: 1;position: relative;background-color: white;}#sk-container-id-2 div.sk-parallel-item:first-child::after {align-self: flex-end;width: 50%;}#sk-container-id-2 div.sk-parallel-item:last-child::after {align-self: flex-start;width: 50%;}#sk-container-id-2 div.sk-parallel-item:only-child::after {width: 0;}#sk-container-id-2 div.sk-dashed-wrapped {border: 1px dashed gray;margin: 0 0.4em 0.5em 0.4em;box-sizing: border-box;padding-bottom: 0.4em;background-color: white;}#sk-container-id-2 div.sk-label label {font-family: monospace;font-weight: bold;display: inline-block;line-height: 1.2em;}#sk-container-id-2 div.sk-label-container {text-align: center;}#sk-container-id-2 div.sk-container {/* jupyter's `normalize.less` sets `[hidden] { display: none; }` but bootstrap.min.css set `[hidden] { display: none !important; }` so we also need the `!important` here to be able to override the default hidden behavior on the sphinx rendered scikit-learn.org. See: https://github.com/scikit-learn/scikit-learn/issues/21755 */display: inline-block !important;position: relative;}#sk-container-id-2 div.sk-text-repr-fallback {display: none;}</style><div id=\"sk-container-id-2\" class=\"sk-top-container\"><div class=\"sk-text-repr-fallback\"><pre>GridSearchCV(cv=KFold(n_splits=5, random_state=42, shuffle=True),\n",
       "             estimator=SVR(epsilon=0.2), n_jobs=-1,\n",
       "             param_grid={&#x27;C&#x27;: [1, 10, 100, 1000, 10000],\n",
       "                         &#x27;gamma&#x27;: [1e-06, 1e-05, 0.0001, 0.001, 0.01, 0.1]},\n",
       "             verbose=1)</pre><b>In a Jupyter environment, please rerun this cell to show the HTML representation or trust the notebook. <br />On GitHub, the HTML representation is unable to render, please try loading this page with nbviewer.org.</b></div><div class=\"sk-container\" hidden><div class=\"sk-item sk-dashed-wrapped\"><div class=\"sk-label-container\"><div class=\"sk-label sk-toggleable\"><input class=\"sk-toggleable__control sk-hidden--visually\" id=\"sk-estimator-id-4\" type=\"checkbox\" ><label for=\"sk-estimator-id-4\" class=\"sk-toggleable__label sk-toggleable__label-arrow\">GridSearchCV</label><div class=\"sk-toggleable__content\"><pre>GridSearchCV(cv=KFold(n_splits=5, random_state=42, shuffle=True),\n",
       "             estimator=SVR(epsilon=0.2), n_jobs=-1,\n",
       "             param_grid={&#x27;C&#x27;: [1, 10, 100, 1000, 10000],\n",
       "                         &#x27;gamma&#x27;: [1e-06, 1e-05, 0.0001, 0.001, 0.01, 0.1]},\n",
       "             verbose=1)</pre></div></div></div><div class=\"sk-parallel\"><div class=\"sk-parallel-item\"><div class=\"sk-item\"><div class=\"sk-label-container\"><div class=\"sk-label sk-toggleable\"><input class=\"sk-toggleable__control sk-hidden--visually\" id=\"sk-estimator-id-5\" type=\"checkbox\" ><label for=\"sk-estimator-id-5\" class=\"sk-toggleable__label sk-toggleable__label-arrow\">estimator: SVR</label><div class=\"sk-toggleable__content\"><pre>SVR(epsilon=0.2)</pre></div></div></div><div class=\"sk-serial\"><div class=\"sk-item\"><div class=\"sk-estimator sk-toggleable\"><input class=\"sk-toggleable__control sk-hidden--visually\" id=\"sk-estimator-id-6\" type=\"checkbox\" ><label for=\"sk-estimator-id-6\" class=\"sk-toggleable__label sk-toggleable__label-arrow\">SVR</label><div class=\"sk-toggleable__content\"><pre>SVR(epsilon=0.2)</pre></div></div></div></div></div></div></div></div></div></div>"
      ],
      "text/plain": [
       "GridSearchCV(cv=KFold(n_splits=5, random_state=42, shuffle=True),\n",
       "             estimator=SVR(epsilon=0.2), n_jobs=-1,\n",
       "             param_grid={'C': [1, 10, 100, 1000, 10000],\n",
       "                         'gamma': [1e-06, 1e-05, 0.0001, 0.001, 0.01, 0.1]},\n",
       "             verbose=1)"
      ]
     },
     "execution_count": 84,
     "metadata": {},
     "output_type": "execute_result"
    }
   ],
   "source": [
    "svm.fit(x_tr, y_tr)"
   ]
  },
  {
   "cell_type": "code",
   "execution_count": 85,
   "metadata": {},
   "outputs": [],
   "source": [
    "svm.best_params_\n",
    "best_svm = svm.best_estimator_"
   ]
  },
  {
   "cell_type": "code",
   "execution_count": 86,
   "metadata": {},
   "outputs": [
    {
     "data": {
      "text/plain": [
       "{'C': 10, 'gamma': 0.01}"
      ]
     },
     "execution_count": 86,
     "metadata": {},
     "output_type": "execute_result"
    }
   ],
   "source": [
    "svm.best_params_"
   ]
  },
  {
   "cell_type": "code",
   "execution_count": 87,
   "metadata": {},
   "outputs": [],
   "source": [
    "y_pred_ws_svm = best_svm.predict(x_tr)"
   ]
  },
  {
   "cell_type": "code",
   "execution_count": 88,
   "metadata": {},
   "outputs": [
    {
     "data": {
      "text/plain": [
       "0.87"
      ]
     },
     "execution_count": 88,
     "metadata": {},
     "output_type": "execute_result"
    }
   ],
   "source": [
    "R2_WS = round(r2_score(y_tr, y_pred_ws_svm), 2)\n",
    "R2_WS"
   ]
  },
  {
   "cell_type": "code",
   "execution_count": 89,
   "metadata": {},
   "outputs": [
    {
     "data": {
      "text/plain": [
       "0.48"
      ]
     },
     "execution_count": 89,
     "metadata": {},
     "output_type": "execute_result"
    }
   ],
   "source": [
    "RMSE_WS=round(np.sqrt(mean_absolute_error(y_tr, y_pred_ws_svm)), 2)\n",
    "RMSE_WS"
   ]
  },
  {
   "cell_type": "code",
   "execution_count": 90,
   "metadata": {},
   "outputs": [],
   "source": [
    "y_pred_CV_svm = cross_val_predict(best_svm, x_tr, y_tr, cv=cv)"
   ]
  },
  {
   "cell_type": "code",
   "execution_count": 91,
   "metadata": {},
   "outputs": [
    {
     "data": {
      "text/plain": [
       "0.5"
      ]
     },
     "execution_count": 91,
     "metadata": {},
     "output_type": "execute_result"
    }
   ],
   "source": [
    "Q2_CV = round(r2_score(y_tr, y_pred_CV_svm), 2)\n",
    "Q2_CV"
   ]
  },
  {
   "cell_type": "code",
   "execution_count": 92,
   "metadata": {},
   "outputs": [
    {
     "data": {
      "text/plain": [
       "0.68"
      ]
     },
     "execution_count": 92,
     "metadata": {},
     "output_type": "execute_result"
    }
   ],
   "source": [
    "RMSE_CV=round(np.sqrt(mean_absolute_error(y_tr, y_pred_CV_svm)), 2)\n",
    "RMSE_CV"
   ]
  },
  {
   "cell_type": "markdown",
   "metadata": {},
   "source": [
    "# 9. Prediction for test set's molecules"
   ]
  },
  {
   "cell_type": "code",
   "execution_count": 93,
   "metadata": {},
   "outputs": [],
   "source": [
    "x_ts = np.array(x_ts, dtype=np.float32)\n",
    "y_ts = np.array(y_ts, dtype=np.float32)"
   ]
  },
  {
   "cell_type": "code",
   "execution_count": 94,
   "metadata": {},
   "outputs": [],
   "source": [
    "y_pred_svm = best_svm.predict(x_ts)"
   ]
  },
  {
   "cell_type": "code",
   "execution_count": 95,
   "metadata": {},
   "outputs": [
    {
     "data": {
      "text/plain": [
       "0.55"
      ]
     },
     "execution_count": 95,
     "metadata": {},
     "output_type": "execute_result"
    }
   ],
   "source": [
    "Q2_TS = round(r2_score(y_ts, y_pred_svm), 2)\n",
    "Q2_TS"
   ]
  },
  {
   "cell_type": "code",
   "execution_count": 96,
   "metadata": {},
   "outputs": [
    {
     "data": {
      "text/plain": [
       "0.66"
      ]
     },
     "execution_count": 96,
     "metadata": {},
     "output_type": "execute_result"
    }
   ],
   "source": [
    "RMSE_TS=round(np.sqrt(mean_absolute_error(y_ts, y_pred_svm)), 2)\n",
    "RMSE_TS"
   ]
  },
  {
   "cell_type": "markdown",
   "metadata": {},
   "source": [
    "save the model to disk"
   ]
  },
  {
   "cell_type": "code",
   "execution_count": 99,
   "metadata": {},
   "outputs": [],
   "source": [
    "pickle.dump(best_svm, open('models/MorganFingerprint/Toxicity_SVM_MF.pkl', 'wb'))"
   ]
  },
  {
   "cell_type": "markdown",
   "metadata": {},
   "source": [
    "load the model from disk"
   ]
  },
  {
   "cell_type": "code",
   "execution_count": 53,
   "metadata": {},
   "outputs": [],
   "source": [
    "best_svm = pickle.load(open('Models/Morgan_fingerprint/Toxicity_SVM_MF.pkl', 'rb'))"
   ]
  },
  {
   "cell_type": "markdown",
   "metadata": {},
   "source": [
    "# 10. Y-randomization SVM model"
   ]
  },
  {
   "cell_type": "code",
   "execution_count": 100,
   "metadata": {},
   "outputs": [
    {
     "name": "stderr",
     "output_type": "stream",
     "text": [
      "[Parallel(n_jobs=-1)]: Using backend LokyBackend with 16 concurrent workers.\n",
      "[Parallel(n_jobs=-1)]: Done  18 tasks      | elapsed: 39.1min\n"
     ]
    },
    {
     "name": "stdout",
     "output_type": "stream",
     "text": [
      "True score =  0.502 \n",
      "Y-randomization =  -0.2 \n",
      "p-value =  0.0196\n"
     ]
    },
    {
     "name": "stderr",
     "output_type": "stream",
     "text": [
      "[Parallel(n_jobs=-1)]: Done  50 out of  50 | elapsed: 62.6min finished\n"
     ]
    }
   ],
   "source": [
    "permutations = 50\n",
    "score, permutation_scores, pvalue = permutation_test_score(best_svm, x_tr, y_tr,\n",
    "                                                           cv=cv, scoring='r2',\n",
    "                                                           n_permutations=permutations,\n",
    "                                                           n_jobs=-1,\n",
    "                                                           verbose=1,\n",
    "                                                           random_state=seed)\n",
    "print('True score = ', score.round(3),\n",
    "      '\\nY-randomization = ', np.mean(permutation_scores).round(2),\n",
    "      '\\np-value = ', pvalue.round(4))"
   ]
  },
  {
   "cell_type": "markdown",
   "metadata": {},
   "source": [
    "# 11. Estimating applicability domain. Method - Euclidian distances, K=1"
   ]
  },
  {
   "cell_type": "code",
   "execution_count": 101,
   "metadata": {},
   "outputs": [],
   "source": [
    "neighbors_k= pairwise_distances(x_tr, n_jobs=-1)\n",
    "neighbors_k.sort(0)"
   ]
  },
  {
   "cell_type": "code",
   "execution_count": 102,
   "metadata": {},
   "outputs": [
    {
     "data": {
      "text/html": [
       "<div>\n",
       "<style scoped>\n",
       "    .dataframe tbody tr th:only-of-type {\n",
       "        vertical-align: middle;\n",
       "    }\n",
       "\n",
       "    .dataframe tbody tr th {\n",
       "        vertical-align: top;\n",
       "    }\n",
       "\n",
       "    .dataframe thead th {\n",
       "        text-align: right;\n",
       "    }\n",
       "</style>\n",
       "<table border=\"1\" class=\"dataframe\">\n",
       "  <thead>\n",
       "    <tr style=\"text-align: right;\">\n",
       "      <th></th>\n",
       "      <th>0</th>\n",
       "      <th>1</th>\n",
       "      <th>2</th>\n",
       "      <th>3</th>\n",
       "      <th>4</th>\n",
       "      <th>5</th>\n",
       "      <th>6</th>\n",
       "      <th>7</th>\n",
       "      <th>8</th>\n",
       "      <th>9</th>\n",
       "      <th>...</th>\n",
       "      <th>7702</th>\n",
       "      <th>7703</th>\n",
       "      <th>7704</th>\n",
       "      <th>7705</th>\n",
       "      <th>7706</th>\n",
       "      <th>7707</th>\n",
       "      <th>7708</th>\n",
       "      <th>7709</th>\n",
       "      <th>7710</th>\n",
       "      <th>7711</th>\n",
       "    </tr>\n",
       "  </thead>\n",
       "  <tbody>\n",
       "    <tr>\n",
       "      <th>0</th>\n",
       "      <td>0.000000</td>\n",
       "      <td>0.000000</td>\n",
       "      <td>0.000000</td>\n",
       "      <td>0.000000</td>\n",
       "      <td>0.000000</td>\n",
       "      <td>0.000000</td>\n",
       "      <td>0.000000</td>\n",
       "      <td>0.000000</td>\n",
       "      <td>0.000000</td>\n",
       "      <td>0.000000</td>\n",
       "      <td>...</td>\n",
       "      <td>0.000000</td>\n",
       "      <td>0.000000</td>\n",
       "      <td>0.000000</td>\n",
       "      <td>0.000000</td>\n",
       "      <td>0.000000</td>\n",
       "      <td>0.000000</td>\n",
       "      <td>0.000000</td>\n",
       "      <td>0.000000</td>\n",
       "      <td>0.000000</td>\n",
       "      <td>0.000000</td>\n",
       "    </tr>\n",
       "    <tr>\n",
       "      <th>1</th>\n",
       "      <td>3.162278</td>\n",
       "      <td>4.000000</td>\n",
       "      <td>1.414214</td>\n",
       "      <td>3.741657</td>\n",
       "      <td>2.236068</td>\n",
       "      <td>3.464102</td>\n",
       "      <td>3.316625</td>\n",
       "      <td>6.000000</td>\n",
       "      <td>0.000000</td>\n",
       "      <td>2.000000</td>\n",
       "      <td>...</td>\n",
       "      <td>2.449490</td>\n",
       "      <td>3.316625</td>\n",
       "      <td>4.000000</td>\n",
       "      <td>4.795832</td>\n",
       "      <td>4.358899</td>\n",
       "      <td>2.645751</td>\n",
       "      <td>6.557438</td>\n",
       "      <td>3.316625</td>\n",
       "      <td>2.645751</td>\n",
       "      <td>5.567764</td>\n",
       "    </tr>\n",
       "    <tr>\n",
       "      <th>2</th>\n",
       "      <td>3.464102</td>\n",
       "      <td>4.690416</td>\n",
       "      <td>2.236068</td>\n",
       "      <td>3.872983</td>\n",
       "      <td>2.449490</td>\n",
       "      <td>3.464102</td>\n",
       "      <td>3.605551</td>\n",
       "      <td>6.082763</td>\n",
       "      <td>0.000000</td>\n",
       "      <td>2.449490</td>\n",
       "      <td>...</td>\n",
       "      <td>2.645751</td>\n",
       "      <td>3.464102</td>\n",
       "      <td>4.690416</td>\n",
       "      <td>5.099020</td>\n",
       "      <td>5.477226</td>\n",
       "      <td>4.472136</td>\n",
       "      <td>6.557438</td>\n",
       "      <td>4.242640</td>\n",
       "      <td>2.645751</td>\n",
       "      <td>5.916080</td>\n",
       "    </tr>\n",
       "    <tr>\n",
       "      <th>3</th>\n",
       "      <td>3.872983</td>\n",
       "      <td>4.795832</td>\n",
       "      <td>2.449490</td>\n",
       "      <td>3.872983</td>\n",
       "      <td>2.449490</td>\n",
       "      <td>3.464102</td>\n",
       "      <td>3.741657</td>\n",
       "      <td>6.082763</td>\n",
       "      <td>0.000000</td>\n",
       "      <td>2.449490</td>\n",
       "      <td>...</td>\n",
       "      <td>2.828427</td>\n",
       "      <td>4.000000</td>\n",
       "      <td>6.164414</td>\n",
       "      <td>6.164414</td>\n",
       "      <td>5.477226</td>\n",
       "      <td>5.099020</td>\n",
       "      <td>6.633250</td>\n",
       "      <td>5.099020</td>\n",
       "      <td>2.828427</td>\n",
       "      <td>6.244998</td>\n",
       "    </tr>\n",
       "    <tr>\n",
       "      <th>4</th>\n",
       "      <td>3.872983</td>\n",
       "      <td>5.099020</td>\n",
       "      <td>2.449490</td>\n",
       "      <td>4.000000</td>\n",
       "      <td>2.449490</td>\n",
       "      <td>3.464102</td>\n",
       "      <td>3.741657</td>\n",
       "      <td>6.082763</td>\n",
       "      <td>1.732051</td>\n",
       "      <td>2.645751</td>\n",
       "      <td>...</td>\n",
       "      <td>3.741657</td>\n",
       "      <td>4.242640</td>\n",
       "      <td>6.244998</td>\n",
       "      <td>6.782330</td>\n",
       "      <td>5.477226</td>\n",
       "      <td>5.099020</td>\n",
       "      <td>6.633250</td>\n",
       "      <td>7.416198</td>\n",
       "      <td>3.316625</td>\n",
       "      <td>6.324555</td>\n",
       "    </tr>\n",
       "    <tr>\n",
       "      <th>...</th>\n",
       "      <td>...</td>\n",
       "      <td>...</td>\n",
       "      <td>...</td>\n",
       "      <td>...</td>\n",
       "      <td>...</td>\n",
       "      <td>...</td>\n",
       "      <td>...</td>\n",
       "      <td>...</td>\n",
       "      <td>...</td>\n",
       "      <td>...</td>\n",
       "      <td>...</td>\n",
       "      <td>...</td>\n",
       "      <td>...</td>\n",
       "      <td>...</td>\n",
       "      <td>...</td>\n",
       "      <td>...</td>\n",
       "      <td>...</td>\n",
       "      <td>...</td>\n",
       "      <td>...</td>\n",
       "      <td>...</td>\n",
       "      <td>...</td>\n",
       "    </tr>\n",
       "    <tr>\n",
       "      <th>7707</th>\n",
       "      <td>10.630146</td>\n",
       "      <td>10.816654</td>\n",
       "      <td>10.583005</td>\n",
       "      <td>10.723805</td>\n",
       "      <td>10.246951</td>\n",
       "      <td>10.344080</td>\n",
       "      <td>10.677078</td>\n",
       "      <td>10.723805</td>\n",
       "      <td>10.677078</td>\n",
       "      <td>10.816654</td>\n",
       "      <td>...</td>\n",
       "      <td>10.954452</td>\n",
       "      <td>11.224972</td>\n",
       "      <td>11.224972</td>\n",
       "      <td>11.916375</td>\n",
       "      <td>11.357817</td>\n",
       "      <td>11.661903</td>\n",
       "      <td>11.224972</td>\n",
       "      <td>11.832160</td>\n",
       "      <td>10.677078</td>\n",
       "      <td>11.489125</td>\n",
       "    </tr>\n",
       "    <tr>\n",
       "      <th>7708</th>\n",
       "      <td>11.180340</td>\n",
       "      <td>11.045361</td>\n",
       "      <td>11.224972</td>\n",
       "      <td>11.445523</td>\n",
       "      <td>10.908712</td>\n",
       "      <td>11.090536</td>\n",
       "      <td>10.862781</td>\n",
       "      <td>11.224972</td>\n",
       "      <td>11.313708</td>\n",
       "      <td>11.357817</td>\n",
       "      <td>...</td>\n",
       "      <td>11.045361</td>\n",
       "      <td>11.747340</td>\n",
       "      <td>11.401754</td>\n",
       "      <td>12.206555</td>\n",
       "      <td>11.532562</td>\n",
       "      <td>11.958261</td>\n",
       "      <td>11.618950</td>\n",
       "      <td>12.247449</td>\n",
       "      <td>10.770329</td>\n",
       "      <td>11.832160</td>\n",
       "    </tr>\n",
       "    <tr>\n",
       "      <th>7709</th>\n",
       "      <td>11.704700</td>\n",
       "      <td>11.832160</td>\n",
       "      <td>11.747340</td>\n",
       "      <td>12.041595</td>\n",
       "      <td>11.357817</td>\n",
       "      <td>11.445523</td>\n",
       "      <td>11.401754</td>\n",
       "      <td>11.747340</td>\n",
       "      <td>11.747340</td>\n",
       "      <td>11.789826</td>\n",
       "      <td>...</td>\n",
       "      <td>12.000000</td>\n",
       "      <td>12.083046</td>\n",
       "      <td>11.832160</td>\n",
       "      <td>12.767145</td>\n",
       "      <td>12.124355</td>\n",
       "      <td>12.529964</td>\n",
       "      <td>12.206555</td>\n",
       "      <td>12.328828</td>\n",
       "      <td>11.747340</td>\n",
       "      <td>12.727922</td>\n",
       "    </tr>\n",
       "    <tr>\n",
       "      <th>7710</th>\n",
       "      <td>11.874342</td>\n",
       "      <td>11.916375</td>\n",
       "      <td>11.747340</td>\n",
       "      <td>12.124355</td>\n",
       "      <td>11.532562</td>\n",
       "      <td>11.532562</td>\n",
       "      <td>11.489125</td>\n",
       "      <td>11.916375</td>\n",
       "      <td>11.832160</td>\n",
       "      <td>11.958261</td>\n",
       "      <td>...</td>\n",
       "      <td>12.000000</td>\n",
       "      <td>12.165525</td>\n",
       "      <td>12.083046</td>\n",
       "      <td>13.000000</td>\n",
       "      <td>12.288206</td>\n",
       "      <td>12.688578</td>\n",
       "      <td>12.369317</td>\n",
       "      <td>12.569805</td>\n",
       "      <td>11.832160</td>\n",
       "      <td>12.884099</td>\n",
       "    </tr>\n",
       "    <tr>\n",
       "      <th>7711</th>\n",
       "      <td>11.874342</td>\n",
       "      <td>12.247449</td>\n",
       "      <td>11.916375</td>\n",
       "      <td>12.206555</td>\n",
       "      <td>11.618950</td>\n",
       "      <td>11.874342</td>\n",
       "      <td>12.000000</td>\n",
       "      <td>12.000000</td>\n",
       "      <td>12.083046</td>\n",
       "      <td>12.041595</td>\n",
       "      <td>...</td>\n",
       "      <td>12.165525</td>\n",
       "      <td>12.409674</td>\n",
       "      <td>12.409674</td>\n",
       "      <td>13.076696</td>\n",
       "      <td>12.288206</td>\n",
       "      <td>12.767145</td>\n",
       "      <td>12.688578</td>\n",
       "      <td>12.649111</td>\n",
       "      <td>11.832160</td>\n",
       "      <td>12.961481</td>\n",
       "    </tr>\n",
       "  </tbody>\n",
       "</table>\n",
       "<p>7712 rows × 7712 columns</p>\n",
       "</div>"
      ],
      "text/plain": [
       "           0          1          2          3          4          5     \\\n",
       "0      0.000000   0.000000   0.000000   0.000000   0.000000   0.000000   \n",
       "1      3.162278   4.000000   1.414214   3.741657   2.236068   3.464102   \n",
       "2      3.464102   4.690416   2.236068   3.872983   2.449490   3.464102   \n",
       "3      3.872983   4.795832   2.449490   3.872983   2.449490   3.464102   \n",
       "4      3.872983   5.099020   2.449490   4.000000   2.449490   3.464102   \n",
       "...         ...        ...        ...        ...        ...        ...   \n",
       "7707  10.630146  10.816654  10.583005  10.723805  10.246951  10.344080   \n",
       "7708  11.180340  11.045361  11.224972  11.445523  10.908712  11.090536   \n",
       "7709  11.704700  11.832160  11.747340  12.041595  11.357817  11.445523   \n",
       "7710  11.874342  11.916375  11.747340  12.124355  11.532562  11.532562   \n",
       "7711  11.874342  12.247449  11.916375  12.206555  11.618950  11.874342   \n",
       "\n",
       "           6          7          8          9     ...       7702       7703  \\\n",
       "0      0.000000   0.000000   0.000000   0.000000  ...   0.000000   0.000000   \n",
       "1      3.316625   6.000000   0.000000   2.000000  ...   2.449490   3.316625   \n",
       "2      3.605551   6.082763   0.000000   2.449490  ...   2.645751   3.464102   \n",
       "3      3.741657   6.082763   0.000000   2.449490  ...   2.828427   4.000000   \n",
       "4      3.741657   6.082763   1.732051   2.645751  ...   3.741657   4.242640   \n",
       "...         ...        ...        ...        ...  ...        ...        ...   \n",
       "7707  10.677078  10.723805  10.677078  10.816654  ...  10.954452  11.224972   \n",
       "7708  10.862781  11.224972  11.313708  11.357817  ...  11.045361  11.747340   \n",
       "7709  11.401754  11.747340  11.747340  11.789826  ...  12.000000  12.083046   \n",
       "7710  11.489125  11.916375  11.832160  11.958261  ...  12.000000  12.165525   \n",
       "7711  12.000000  12.000000  12.083046  12.041595  ...  12.165525  12.409674   \n",
       "\n",
       "           7704       7705       7706       7707       7708       7709  \\\n",
       "0      0.000000   0.000000   0.000000   0.000000   0.000000   0.000000   \n",
       "1      4.000000   4.795832   4.358899   2.645751   6.557438   3.316625   \n",
       "2      4.690416   5.099020   5.477226   4.472136   6.557438   4.242640   \n",
       "3      6.164414   6.164414   5.477226   5.099020   6.633250   5.099020   \n",
       "4      6.244998   6.782330   5.477226   5.099020   6.633250   7.416198   \n",
       "...         ...        ...        ...        ...        ...        ...   \n",
       "7707  11.224972  11.916375  11.357817  11.661903  11.224972  11.832160   \n",
       "7708  11.401754  12.206555  11.532562  11.958261  11.618950  12.247449   \n",
       "7709  11.832160  12.767145  12.124355  12.529964  12.206555  12.328828   \n",
       "7710  12.083046  13.000000  12.288206  12.688578  12.369317  12.569805   \n",
       "7711  12.409674  13.076696  12.288206  12.767145  12.688578  12.649111   \n",
       "\n",
       "           7710       7711  \n",
       "0      0.000000   0.000000  \n",
       "1      2.645751   5.567764  \n",
       "2      2.645751   5.916080  \n",
       "3      2.828427   6.244998  \n",
       "4      3.316625   6.324555  \n",
       "...         ...        ...  \n",
       "7707  10.677078  11.489125  \n",
       "7708  10.770329  11.832160  \n",
       "7709  11.747340  12.727922  \n",
       "7710  11.832160  12.884099  \n",
       "7711  11.832160  12.961481  \n",
       "\n",
       "[7712 rows x 7712 columns]"
      ]
     },
     "execution_count": 102,
     "metadata": {},
     "output_type": "execute_result"
    }
   ],
   "source": [
    "df_tr=pd.DataFrame(neighbors_k)\n",
    "df_tr"
   ]
  },
  {
   "cell_type": "code",
   "execution_count": 103,
   "metadata": {},
   "outputs": [],
   "source": [
    "similarity= neighbors_k"
   ]
  },
  {
   "cell_type": "code",
   "execution_count": 104,
   "metadata": {},
   "outputs": [],
   "source": [
    "Dmean=np.mean(similarity[1,:])"
   ]
  },
  {
   "cell_type": "code",
   "execution_count": 105,
   "metadata": {},
   "outputs": [
    {
     "data": {
      "text/plain": [
       "3.63"
      ]
     },
     "execution_count": 105,
     "metadata": {},
     "output_type": "execute_result"
    }
   ],
   "source": [
    "round(Dmean, 2)"
   ]
  },
  {
   "cell_type": "code",
   "execution_count": 106,
   "metadata": {},
   "outputs": [],
   "source": [
    "std=np.std(similarity[1,:])"
   ]
  },
  {
   "cell_type": "code",
   "execution_count": 107,
   "metadata": {},
   "outputs": [
    {
     "data": {
      "text/plain": [
       "1.23"
      ]
     },
     "execution_count": 107,
     "metadata": {},
     "output_type": "execute_result"
    }
   ],
   "source": [
    "round(std, 2)"
   ]
  },
  {
   "cell_type": "code",
   "execution_count": 108,
   "metadata": {},
   "outputs": [
    {
     "name": "stdout",
     "output_type": "stream",
     "text": [
      "4.25\n"
     ]
    }
   ],
   "source": [
    "model_AD_limit=Dmean+std*0.5\n",
    "print(np.round(model_AD_limit, 2))"
   ]
  },
  {
   "cell_type": "code",
   "execution_count": 109,
   "metadata": {},
   "outputs": [],
   "source": [
    "neighbors_k_ts= pairwise_distances(x_tr,Y=x_ts, n_jobs=-1)\n",
    "neighbors_k_ts.sort(0)"
   ]
  },
  {
   "cell_type": "code",
   "execution_count": 110,
   "metadata": {},
   "outputs": [
    {
     "data": {
      "text/html": [
       "<div>\n",
       "<style scoped>\n",
       "    .dataframe tbody tr th:only-of-type {\n",
       "        vertical-align: middle;\n",
       "    }\n",
       "\n",
       "    .dataframe tbody tr th {\n",
       "        vertical-align: top;\n",
       "    }\n",
       "\n",
       "    .dataframe thead th {\n",
       "        text-align: right;\n",
       "    }\n",
       "</style>\n",
       "<table border=\"1\" class=\"dataframe\">\n",
       "  <thead>\n",
       "    <tr style=\"text-align: right;\">\n",
       "      <th></th>\n",
       "      <th>0</th>\n",
       "      <th>1</th>\n",
       "      <th>2</th>\n",
       "      <th>3</th>\n",
       "      <th>4</th>\n",
       "      <th>5</th>\n",
       "      <th>6</th>\n",
       "      <th>7</th>\n",
       "      <th>8</th>\n",
       "      <th>9</th>\n",
       "      <th>...</th>\n",
       "      <th>1919</th>\n",
       "      <th>1920</th>\n",
       "      <th>1921</th>\n",
       "      <th>1922</th>\n",
       "      <th>1923</th>\n",
       "      <th>1924</th>\n",
       "      <th>1925</th>\n",
       "      <th>1926</th>\n",
       "      <th>1927</th>\n",
       "      <th>1928</th>\n",
       "    </tr>\n",
       "  </thead>\n",
       "  <tbody>\n",
       "    <tr>\n",
       "      <th>0</th>\n",
       "      <td>2.000000</td>\n",
       "      <td>3.464102</td>\n",
       "      <td>2.000000</td>\n",
       "      <td>1.414214</td>\n",
       "      <td>2.000000</td>\n",
       "      <td>2.645751</td>\n",
       "      <td>3.162278</td>\n",
       "      <td>0.000000</td>\n",
       "      <td>2.449490</td>\n",
       "      <td>4.358899</td>\n",
       "      <td>...</td>\n",
       "      <td>6.855655</td>\n",
       "      <td>4.690416</td>\n",
       "      <td>2.828427</td>\n",
       "      <td>3.741657</td>\n",
       "      <td>3.162278</td>\n",
       "      <td>4.898980</td>\n",
       "      <td>2.645751</td>\n",
       "      <td>4.123106</td>\n",
       "      <td>3.162278</td>\n",
       "      <td>7.071068</td>\n",
       "    </tr>\n",
       "    <tr>\n",
       "      <th>1</th>\n",
       "      <td>2.000000</td>\n",
       "      <td>3.464102</td>\n",
       "      <td>2.236068</td>\n",
       "      <td>1.732051</td>\n",
       "      <td>3.162278</td>\n",
       "      <td>2.828427</td>\n",
       "      <td>3.605551</td>\n",
       "      <td>2.449490</td>\n",
       "      <td>2.449490</td>\n",
       "      <td>4.690416</td>\n",
       "      <td>...</td>\n",
       "      <td>7.071068</td>\n",
       "      <td>6.000000</td>\n",
       "      <td>3.316625</td>\n",
       "      <td>3.872983</td>\n",
       "      <td>3.162278</td>\n",
       "      <td>5.916080</td>\n",
       "      <td>2.828427</td>\n",
       "      <td>4.358899</td>\n",
       "      <td>3.605551</td>\n",
       "      <td>7.280110</td>\n",
       "    </tr>\n",
       "    <tr>\n",
       "      <th>2</th>\n",
       "      <td>2.000000</td>\n",
       "      <td>3.605551</td>\n",
       "      <td>2.236068</td>\n",
       "      <td>1.732051</td>\n",
       "      <td>3.162278</td>\n",
       "      <td>2.828427</td>\n",
       "      <td>3.872983</td>\n",
       "      <td>2.449490</td>\n",
       "      <td>2.449490</td>\n",
       "      <td>4.795832</td>\n",
       "      <td>...</td>\n",
       "      <td>7.280110</td>\n",
       "      <td>6.782330</td>\n",
       "      <td>3.316625</td>\n",
       "      <td>4.795832</td>\n",
       "      <td>3.162278</td>\n",
       "      <td>6.082763</td>\n",
       "      <td>2.828427</td>\n",
       "      <td>4.582576</td>\n",
       "      <td>3.741657</td>\n",
       "      <td>7.348469</td>\n",
       "    </tr>\n",
       "    <tr>\n",
       "      <th>3</th>\n",
       "      <td>2.000000</td>\n",
       "      <td>3.872983</td>\n",
       "      <td>2.645751</td>\n",
       "      <td>2.000000</td>\n",
       "      <td>3.464102</td>\n",
       "      <td>2.828427</td>\n",
       "      <td>4.000000</td>\n",
       "      <td>2.449490</td>\n",
       "      <td>2.449490</td>\n",
       "      <td>5.196152</td>\n",
       "      <td>...</td>\n",
       "      <td>7.280110</td>\n",
       "      <td>6.855655</td>\n",
       "      <td>3.464102</td>\n",
       "      <td>4.795832</td>\n",
       "      <td>3.316625</td>\n",
       "      <td>6.082763</td>\n",
       "      <td>2.828427</td>\n",
       "      <td>4.690416</td>\n",
       "      <td>3.741657</td>\n",
       "      <td>7.348469</td>\n",
       "    </tr>\n",
       "    <tr>\n",
       "      <th>4</th>\n",
       "      <td>2.000000</td>\n",
       "      <td>4.000000</td>\n",
       "      <td>2.828427</td>\n",
       "      <td>2.236068</td>\n",
       "      <td>3.605551</td>\n",
       "      <td>2.828427</td>\n",
       "      <td>4.242640</td>\n",
       "      <td>2.449490</td>\n",
       "      <td>2.645751</td>\n",
       "      <td>5.196152</td>\n",
       "      <td>...</td>\n",
       "      <td>7.416198</td>\n",
       "      <td>6.855655</td>\n",
       "      <td>3.605551</td>\n",
       "      <td>4.898980</td>\n",
       "      <td>3.605551</td>\n",
       "      <td>6.480741</td>\n",
       "      <td>3.000000</td>\n",
       "      <td>4.690416</td>\n",
       "      <td>3.872983</td>\n",
       "      <td>7.416198</td>\n",
       "    </tr>\n",
       "    <tr>\n",
       "      <th>...</th>\n",
       "      <td>...</td>\n",
       "      <td>...</td>\n",
       "      <td>...</td>\n",
       "      <td>...</td>\n",
       "      <td>...</td>\n",
       "      <td>...</td>\n",
       "      <td>...</td>\n",
       "      <td>...</td>\n",
       "      <td>...</td>\n",
       "      <td>...</td>\n",
       "      <td>...</td>\n",
       "      <td>...</td>\n",
       "      <td>...</td>\n",
       "      <td>...</td>\n",
       "      <td>...</td>\n",
       "      <td>...</td>\n",
       "      <td>...</td>\n",
       "      <td>...</td>\n",
       "      <td>...</td>\n",
       "      <td>...</td>\n",
       "      <td>...</td>\n",
       "    </tr>\n",
       "    <tr>\n",
       "      <th>7707</th>\n",
       "      <td>10.583005</td>\n",
       "      <td>10.583005</td>\n",
       "      <td>10.295630</td>\n",
       "      <td>10.770329</td>\n",
       "      <td>10.246951</td>\n",
       "      <td>10.344080</td>\n",
       "      <td>11.000000</td>\n",
       "      <td>10.488089</td>\n",
       "      <td>10.535654</td>\n",
       "      <td>10.954452</td>\n",
       "      <td>...</td>\n",
       "      <td>11.789826</td>\n",
       "      <td>11.618950</td>\n",
       "      <td>11.401754</td>\n",
       "      <td>11.180340</td>\n",
       "      <td>11.269427</td>\n",
       "      <td>11.789826</td>\n",
       "      <td>11.357817</td>\n",
       "      <td>11.224972</td>\n",
       "      <td>10.770329</td>\n",
       "      <td>11.489125</td>\n",
       "    </tr>\n",
       "    <tr>\n",
       "      <th>7708</th>\n",
       "      <td>11.135529</td>\n",
       "      <td>11.135529</td>\n",
       "      <td>10.954452</td>\n",
       "      <td>11.313708</td>\n",
       "      <td>11.045361</td>\n",
       "      <td>11.000000</td>\n",
       "      <td>11.618950</td>\n",
       "      <td>11.135529</td>\n",
       "      <td>11.000000</td>\n",
       "      <td>11.224972</td>\n",
       "      <td>...</td>\n",
       "      <td>12.124355</td>\n",
       "      <td>12.124355</td>\n",
       "      <td>11.661903</td>\n",
       "      <td>11.445523</td>\n",
       "      <td>11.618950</td>\n",
       "      <td>11.874342</td>\n",
       "      <td>11.704700</td>\n",
       "      <td>11.661903</td>\n",
       "      <td>10.954452</td>\n",
       "      <td>12.083046</td>\n",
       "    </tr>\n",
       "    <tr>\n",
       "      <th>7709</th>\n",
       "      <td>11.575837</td>\n",
       "      <td>11.661903</td>\n",
       "      <td>11.575837</td>\n",
       "      <td>11.832160</td>\n",
       "      <td>11.575837</td>\n",
       "      <td>11.532562</td>\n",
       "      <td>11.704700</td>\n",
       "      <td>11.661903</td>\n",
       "      <td>11.618950</td>\n",
       "      <td>11.747340</td>\n",
       "      <td>...</td>\n",
       "      <td>12.449900</td>\n",
       "      <td>12.609520</td>\n",
       "      <td>12.165525</td>\n",
       "      <td>12.124355</td>\n",
       "      <td>11.958261</td>\n",
       "      <td>12.206555</td>\n",
       "      <td>12.124355</td>\n",
       "      <td>12.083046</td>\n",
       "      <td>11.832160</td>\n",
       "      <td>12.165525</td>\n",
       "    </tr>\n",
       "    <tr>\n",
       "      <th>7710</th>\n",
       "      <td>11.661903</td>\n",
       "      <td>11.661903</td>\n",
       "      <td>11.575837</td>\n",
       "      <td>11.916375</td>\n",
       "      <td>11.661903</td>\n",
       "      <td>11.532562</td>\n",
       "      <td>11.789826</td>\n",
       "      <td>11.661903</td>\n",
       "      <td>11.704700</td>\n",
       "      <td>12.000000</td>\n",
       "      <td>...</td>\n",
       "      <td>12.845233</td>\n",
       "      <td>12.688578</td>\n",
       "      <td>12.247449</td>\n",
       "      <td>12.124355</td>\n",
       "      <td>12.041595</td>\n",
       "      <td>12.369317</td>\n",
       "      <td>12.206555</td>\n",
       "      <td>12.247449</td>\n",
       "      <td>11.832160</td>\n",
       "      <td>12.247449</td>\n",
       "    </tr>\n",
       "    <tr>\n",
       "      <th>7711</th>\n",
       "      <td>11.661903</td>\n",
       "      <td>12.000000</td>\n",
       "      <td>11.661903</td>\n",
       "      <td>12.000000</td>\n",
       "      <td>11.832160</td>\n",
       "      <td>11.789826</td>\n",
       "      <td>12.041595</td>\n",
       "      <td>11.747340</td>\n",
       "      <td>11.874342</td>\n",
       "      <td>12.083046</td>\n",
       "      <td>...</td>\n",
       "      <td>12.922848</td>\n",
       "      <td>12.688578</td>\n",
       "      <td>12.328828</td>\n",
       "      <td>12.288206</td>\n",
       "      <td>12.288206</td>\n",
       "      <td>12.449900</td>\n",
       "      <td>12.288206</td>\n",
       "      <td>12.247449</td>\n",
       "      <td>11.916375</td>\n",
       "      <td>12.489996</td>\n",
       "    </tr>\n",
       "  </tbody>\n",
       "</table>\n",
       "<p>7712 rows × 1929 columns</p>\n",
       "</div>"
      ],
      "text/plain": [
       "           0          1          2          3          4          5     \\\n",
       "0      2.000000   3.464102   2.000000   1.414214   2.000000   2.645751   \n",
       "1      2.000000   3.464102   2.236068   1.732051   3.162278   2.828427   \n",
       "2      2.000000   3.605551   2.236068   1.732051   3.162278   2.828427   \n",
       "3      2.000000   3.872983   2.645751   2.000000   3.464102   2.828427   \n",
       "4      2.000000   4.000000   2.828427   2.236068   3.605551   2.828427   \n",
       "...         ...        ...        ...        ...        ...        ...   \n",
       "7707  10.583005  10.583005  10.295630  10.770329  10.246951  10.344080   \n",
       "7708  11.135529  11.135529  10.954452  11.313708  11.045361  11.000000   \n",
       "7709  11.575837  11.661903  11.575837  11.832160  11.575837  11.532562   \n",
       "7710  11.661903  11.661903  11.575837  11.916375  11.661903  11.532562   \n",
       "7711  11.661903  12.000000  11.661903  12.000000  11.832160  11.789826   \n",
       "\n",
       "           6          7          8          9     ...       1919       1920  \\\n",
       "0      3.162278   0.000000   2.449490   4.358899  ...   6.855655   4.690416   \n",
       "1      3.605551   2.449490   2.449490   4.690416  ...   7.071068   6.000000   \n",
       "2      3.872983   2.449490   2.449490   4.795832  ...   7.280110   6.782330   \n",
       "3      4.000000   2.449490   2.449490   5.196152  ...   7.280110   6.855655   \n",
       "4      4.242640   2.449490   2.645751   5.196152  ...   7.416198   6.855655   \n",
       "...         ...        ...        ...        ...  ...        ...        ...   \n",
       "7707  11.000000  10.488089  10.535654  10.954452  ...  11.789826  11.618950   \n",
       "7708  11.618950  11.135529  11.000000  11.224972  ...  12.124355  12.124355   \n",
       "7709  11.704700  11.661903  11.618950  11.747340  ...  12.449900  12.609520   \n",
       "7710  11.789826  11.661903  11.704700  12.000000  ...  12.845233  12.688578   \n",
       "7711  12.041595  11.747340  11.874342  12.083046  ...  12.922848  12.688578   \n",
       "\n",
       "           1921       1922       1923       1924       1925       1926  \\\n",
       "0      2.828427   3.741657   3.162278   4.898980   2.645751   4.123106   \n",
       "1      3.316625   3.872983   3.162278   5.916080   2.828427   4.358899   \n",
       "2      3.316625   4.795832   3.162278   6.082763   2.828427   4.582576   \n",
       "3      3.464102   4.795832   3.316625   6.082763   2.828427   4.690416   \n",
       "4      3.605551   4.898980   3.605551   6.480741   3.000000   4.690416   \n",
       "...         ...        ...        ...        ...        ...        ...   \n",
       "7707  11.401754  11.180340  11.269427  11.789826  11.357817  11.224972   \n",
       "7708  11.661903  11.445523  11.618950  11.874342  11.704700  11.661903   \n",
       "7709  12.165525  12.124355  11.958261  12.206555  12.124355  12.083046   \n",
       "7710  12.247449  12.124355  12.041595  12.369317  12.206555  12.247449   \n",
       "7711  12.328828  12.288206  12.288206  12.449900  12.288206  12.247449   \n",
       "\n",
       "           1927       1928  \n",
       "0      3.162278   7.071068  \n",
       "1      3.605551   7.280110  \n",
       "2      3.741657   7.348469  \n",
       "3      3.741657   7.348469  \n",
       "4      3.872983   7.416198  \n",
       "...         ...        ...  \n",
       "7707  10.770329  11.489125  \n",
       "7708  10.954452  12.083046  \n",
       "7709  11.832160  12.165525  \n",
       "7710  11.832160  12.247449  \n",
       "7711  11.916375  12.489996  \n",
       "\n",
       "[7712 rows x 1929 columns]"
      ]
     },
     "execution_count": 110,
     "metadata": {},
     "output_type": "execute_result"
    }
   ],
   "source": [
    "x_ts_AD=pd.DataFrame(neighbors_k_ts)\n",
    "x_ts_AD"
   ]
  },
  {
   "cell_type": "code",
   "execution_count": 111,
   "metadata": {},
   "outputs": [
    {
     "name": "stdout",
     "output_type": "stream",
     "text": [
      "[2.    3.464 2.    ... 4.123 3.162 7.071]\n"
     ]
    }
   ],
   "source": [
    "similarity_ts= neighbors_k_ts\n",
    "cpd_AD=similarity_ts[0,:]\n",
    "cpd_value = np.round(cpd_AD, 3)\n",
    "print(cpd_value)"
   ]
  },
  {
   "cell_type": "code",
   "execution_count": 112,
   "metadata": {},
   "outputs": [
    {
     "name": "stdout",
     "output_type": "stream",
     "text": [
      "[ True  True  True ...  True  True False]\n"
     ]
    }
   ],
   "source": [
    "cpd_AD = np.where(cpd_value <= model_AD_limit, True, False)\n",
    "print(cpd_AD)"
   ]
  },
  {
   "cell_type": "code",
   "execution_count": 113,
   "metadata": {},
   "outputs": [
    {
     "name": "stdout",
     "output_type": "stream",
     "text": [
      "Coverage =  0.74\n"
     ]
    }
   ],
   "source": [
    "print(\"Coverage = \", round(sum(cpd_AD) / len(cpd_AD), 2))"
   ]
  },
  {
   "cell_type": "code",
   "execution_count": 114,
   "metadata": {},
   "outputs": [
    {
     "name": "stdout",
     "output_type": "stream",
     "text": [
      "Indices of substances included in AD =  [   0    1    2 ... 1925 1926 1927]\n"
     ]
    }
   ],
   "source": [
    "print(\"Indices of substances included in AD = \", np.where(cpd_AD != 0)[0])"
   ]
  },
  {
   "cell_type": "code",
   "execution_count": 115,
   "metadata": {},
   "outputs": [],
   "source": [
    "out_Ad=list(np.where(cpd_AD == 0)[0])"
   ]
  },
  {
   "cell_type": "markdown",
   "metadata": {},
   "source": [
    "# 12. Prediction only for molecules included in  AD"
   ]
  },
  {
   "cell_type": "code",
   "execution_count": 116,
   "metadata": {},
   "outputs": [],
   "source": [
    "y_pred_svm_ad=list(y_pred_svm)"
   ]
  },
  {
   "cell_type": "code",
   "execution_count": 117,
   "metadata": {},
   "outputs": [],
   "source": [
    "y_pred_svm_ad[:] = [x for i,x in enumerate(y_pred_svm_ad) if i not in out_Ad]"
   ]
  },
  {
   "cell_type": "code",
   "execution_count": 118,
   "metadata": {},
   "outputs": [
    {
     "data": {
      "text/plain": [
       "1429"
      ]
     },
     "execution_count": 118,
     "metadata": {},
     "output_type": "execute_result"
    }
   ],
   "source": [
    "len(y_pred_svm_ad)"
   ]
  },
  {
   "cell_type": "code",
   "execution_count": 119,
   "metadata": {},
   "outputs": [],
   "source": [
    "y_ts_ad=list(y_ts)"
   ]
  },
  {
   "cell_type": "code",
   "execution_count": 120,
   "metadata": {},
   "outputs": [],
   "source": [
    "y_ts_ad[:] = [x for i,x in enumerate(y_ts_ad) if i not in out_Ad]"
   ]
  },
  {
   "cell_type": "code",
   "execution_count": 121,
   "metadata": {},
   "outputs": [
    {
     "data": {
      "text/plain": [
       "1429"
      ]
     },
     "execution_count": 121,
     "metadata": {},
     "output_type": "execute_result"
    }
   ],
   "source": [
    "len(y_ts_ad)"
   ]
  },
  {
   "cell_type": "code",
   "execution_count": 122,
   "metadata": {},
   "outputs": [
    {
     "data": {
      "text/plain": [
       "0.64"
      ]
     },
     "execution_count": 122,
     "metadata": {},
     "output_type": "execute_result"
    }
   ],
   "source": [
    "Q2_TS = round(r2_score(y_ts_ad, y_pred_svm_ad), 2)\n",
    "Q2_TS"
   ]
  },
  {
   "cell_type": "code",
   "execution_count": 123,
   "metadata": {},
   "outputs": [
    {
     "data": {
      "text/plain": [
       "0.64"
      ]
     },
     "execution_count": 123,
     "metadata": {},
     "output_type": "execute_result"
    }
   ],
   "source": [
    "RMSE_TS=round(np.sqrt(mean_absolute_error(y_ts_ad, y_pred_svm_ad)), 2)\n",
    "RMSE_TS"
   ]
  },
  {
   "cell_type": "markdown",
   "metadata": {},
   "source": [
    "# Multi-layer Perceptron regressor"
   ]
  },
  {
   "cell_type": "code",
   "execution_count": 124,
   "metadata": {},
   "outputs": [],
   "source": [
    "from sklearn.neural_network import MLPRegressor"
   ]
  },
  {
   "cell_type": "code",
   "execution_count": 125,
   "metadata": {},
   "outputs": [],
   "source": [
    "param_grid ={\"hidden_layer_sizes\": [(400, 300, 200, 100),(100, 100, 100), (10, 10, 10),(50,)], \"activation\": [\"tanh\", \"relu\"], \"solver\": [\"lbfgs\", \"sgd\", \"adam\"], \"alpha\": [0.00005,0.0005], 'max_iter': [1000, 2000]}"
   ]
  },
  {
   "cell_type": "code",
   "execution_count": 126,
   "metadata": {},
   "outputs": [],
   "source": [
    "m = GridSearchCV(MLPRegressor(), param_grid, n_jobs=-1, cv=cv, verbose=1)"
   ]
  },
  {
   "cell_type": "code",
   "execution_count": 127,
   "metadata": {},
   "outputs": [
    {
     "name": "stdout",
     "output_type": "stream",
     "text": [
      "Fitting 5 folds for each of 96 candidates, totalling 480 fits\n"
     ]
    },
    {
     "data": {
      "text/html": [
       "<style>#sk-container-id-3 {color: black;}#sk-container-id-3 pre{padding: 0;}#sk-container-id-3 div.sk-toggleable {background-color: white;}#sk-container-id-3 label.sk-toggleable__label {cursor: pointer;display: block;width: 100%;margin-bottom: 0;padding: 0.3em;box-sizing: border-box;text-align: center;}#sk-container-id-3 label.sk-toggleable__label-arrow:before {content: \"▸\";float: left;margin-right: 0.25em;color: #696969;}#sk-container-id-3 label.sk-toggleable__label-arrow:hover:before {color: black;}#sk-container-id-3 div.sk-estimator:hover label.sk-toggleable__label-arrow:before {color: black;}#sk-container-id-3 div.sk-toggleable__content {max-height: 0;max-width: 0;overflow: hidden;text-align: left;background-color: #f0f8ff;}#sk-container-id-3 div.sk-toggleable__content pre {margin: 0.2em;color: black;border-radius: 0.25em;background-color: #f0f8ff;}#sk-container-id-3 input.sk-toggleable__control:checked~div.sk-toggleable__content {max-height: 200px;max-width: 100%;overflow: auto;}#sk-container-id-3 input.sk-toggleable__control:checked~label.sk-toggleable__label-arrow:before {content: \"▾\";}#sk-container-id-3 div.sk-estimator input.sk-toggleable__control:checked~label.sk-toggleable__label {background-color: #d4ebff;}#sk-container-id-3 div.sk-label input.sk-toggleable__control:checked~label.sk-toggleable__label {background-color: #d4ebff;}#sk-container-id-3 input.sk-hidden--visually {border: 0;clip: rect(1px 1px 1px 1px);clip: rect(1px, 1px, 1px, 1px);height: 1px;margin: -1px;overflow: hidden;padding: 0;position: absolute;width: 1px;}#sk-container-id-3 div.sk-estimator {font-family: monospace;background-color: #f0f8ff;border: 1px dotted black;border-radius: 0.25em;box-sizing: border-box;margin-bottom: 0.5em;}#sk-container-id-3 div.sk-estimator:hover {background-color: #d4ebff;}#sk-container-id-3 div.sk-parallel-item::after {content: \"\";width: 100%;border-bottom: 1px solid gray;flex-grow: 1;}#sk-container-id-3 div.sk-label:hover label.sk-toggleable__label {background-color: #d4ebff;}#sk-container-id-3 div.sk-serial::before {content: \"\";position: absolute;border-left: 1px solid gray;box-sizing: border-box;top: 0;bottom: 0;left: 50%;z-index: 0;}#sk-container-id-3 div.sk-serial {display: flex;flex-direction: column;align-items: center;background-color: white;padding-right: 0.2em;padding-left: 0.2em;position: relative;}#sk-container-id-3 div.sk-item {position: relative;z-index: 1;}#sk-container-id-3 div.sk-parallel {display: flex;align-items: stretch;justify-content: center;background-color: white;position: relative;}#sk-container-id-3 div.sk-item::before, #sk-container-id-3 div.sk-parallel-item::before {content: \"\";position: absolute;border-left: 1px solid gray;box-sizing: border-box;top: 0;bottom: 0;left: 50%;z-index: -1;}#sk-container-id-3 div.sk-parallel-item {display: flex;flex-direction: column;z-index: 1;position: relative;background-color: white;}#sk-container-id-3 div.sk-parallel-item:first-child::after {align-self: flex-end;width: 50%;}#sk-container-id-3 div.sk-parallel-item:last-child::after {align-self: flex-start;width: 50%;}#sk-container-id-3 div.sk-parallel-item:only-child::after {width: 0;}#sk-container-id-3 div.sk-dashed-wrapped {border: 1px dashed gray;margin: 0 0.4em 0.5em 0.4em;box-sizing: border-box;padding-bottom: 0.4em;background-color: white;}#sk-container-id-3 div.sk-label label {font-family: monospace;font-weight: bold;display: inline-block;line-height: 1.2em;}#sk-container-id-3 div.sk-label-container {text-align: center;}#sk-container-id-3 div.sk-container {/* jupyter's `normalize.less` sets `[hidden] { display: none; }` but bootstrap.min.css set `[hidden] { display: none !important; }` so we also need the `!important` here to be able to override the default hidden behavior on the sphinx rendered scikit-learn.org. See: https://github.com/scikit-learn/scikit-learn/issues/21755 */display: inline-block !important;position: relative;}#sk-container-id-3 div.sk-text-repr-fallback {display: none;}</style><div id=\"sk-container-id-3\" class=\"sk-top-container\"><div class=\"sk-text-repr-fallback\"><pre>GridSearchCV(cv=KFold(n_splits=5, random_state=42, shuffle=True),\n",
       "             estimator=MLPRegressor(), n_jobs=-1,\n",
       "             param_grid={&#x27;activation&#x27;: [&#x27;tanh&#x27;, &#x27;relu&#x27;],\n",
       "                         &#x27;alpha&#x27;: [5e-05, 0.0005],\n",
       "                         &#x27;hidden_layer_sizes&#x27;: [(400, 300, 200, 100),\n",
       "                                                (100, 100, 100), (10, 10, 10),\n",
       "                                                (50,)],\n",
       "                         &#x27;max_iter&#x27;: [1000, 2000],\n",
       "                         &#x27;solver&#x27;: [&#x27;lbfgs&#x27;, &#x27;sgd&#x27;, &#x27;adam&#x27;]},\n",
       "             verbose=1)</pre><b>In a Jupyter environment, please rerun this cell to show the HTML representation or trust the notebook. <br />On GitHub, the HTML representation is unable to render, please try loading this page with nbviewer.org.</b></div><div class=\"sk-container\" hidden><div class=\"sk-item sk-dashed-wrapped\"><div class=\"sk-label-container\"><div class=\"sk-label sk-toggleable\"><input class=\"sk-toggleable__control sk-hidden--visually\" id=\"sk-estimator-id-7\" type=\"checkbox\" ><label for=\"sk-estimator-id-7\" class=\"sk-toggleable__label sk-toggleable__label-arrow\">GridSearchCV</label><div class=\"sk-toggleable__content\"><pre>GridSearchCV(cv=KFold(n_splits=5, random_state=42, shuffle=True),\n",
       "             estimator=MLPRegressor(), n_jobs=-1,\n",
       "             param_grid={&#x27;activation&#x27;: [&#x27;tanh&#x27;, &#x27;relu&#x27;],\n",
       "                         &#x27;alpha&#x27;: [5e-05, 0.0005],\n",
       "                         &#x27;hidden_layer_sizes&#x27;: [(400, 300, 200, 100),\n",
       "                                                (100, 100, 100), (10, 10, 10),\n",
       "                                                (50,)],\n",
       "                         &#x27;max_iter&#x27;: [1000, 2000],\n",
       "                         &#x27;solver&#x27;: [&#x27;lbfgs&#x27;, &#x27;sgd&#x27;, &#x27;adam&#x27;]},\n",
       "             verbose=1)</pre></div></div></div><div class=\"sk-parallel\"><div class=\"sk-parallel-item\"><div class=\"sk-item\"><div class=\"sk-label-container\"><div class=\"sk-label sk-toggleable\"><input class=\"sk-toggleable__control sk-hidden--visually\" id=\"sk-estimator-id-8\" type=\"checkbox\" ><label for=\"sk-estimator-id-8\" class=\"sk-toggleable__label sk-toggleable__label-arrow\">estimator: MLPRegressor</label><div class=\"sk-toggleable__content\"><pre>MLPRegressor()</pre></div></div></div><div class=\"sk-serial\"><div class=\"sk-item\"><div class=\"sk-estimator sk-toggleable\"><input class=\"sk-toggleable__control sk-hidden--visually\" id=\"sk-estimator-id-9\" type=\"checkbox\" ><label for=\"sk-estimator-id-9\" class=\"sk-toggleable__label sk-toggleable__label-arrow\">MLPRegressor</label><div class=\"sk-toggleable__content\"><pre>MLPRegressor()</pre></div></div></div></div></div></div></div></div></div></div>"
      ],
      "text/plain": [
       "GridSearchCV(cv=KFold(n_splits=5, random_state=42, shuffle=True),\n",
       "             estimator=MLPRegressor(), n_jobs=-1,\n",
       "             param_grid={'activation': ['tanh', 'relu'],\n",
       "                         'alpha': [5e-05, 0.0005],\n",
       "                         'hidden_layer_sizes': [(400, 300, 200, 100),\n",
       "                                                (100, 100, 100), (10, 10, 10),\n",
       "                                                (50,)],\n",
       "                         'max_iter': [1000, 2000],\n",
       "                         'solver': ['lbfgs', 'sgd', 'adam']},\n",
       "             verbose=1)"
      ]
     },
     "execution_count": 127,
     "metadata": {},
     "output_type": "execute_result"
    }
   ],
   "source": [
    "m.fit(x_tr, y_tr)"
   ]
  },
  {
   "cell_type": "code",
   "execution_count": 128,
   "metadata": {},
   "outputs": [],
   "source": [
    "best_MLPR = m.best_estimator_"
   ]
  },
  {
   "cell_type": "code",
   "execution_count": 129,
   "metadata": {},
   "outputs": [
    {
     "data": {
      "text/plain": [
       "{'activation': 'relu',\n",
       " 'alpha': 0.0005,\n",
       " 'hidden_layer_sizes': (400, 300, 200, 100),\n",
       " 'max_iter': 2000,\n",
       " 'solver': 'adam'}"
      ]
     },
     "execution_count": 129,
     "metadata": {},
     "output_type": "execute_result"
    }
   ],
   "source": [
    "m.best_params_"
   ]
  },
  {
   "cell_type": "code",
   "execution_count": 130,
   "metadata": {},
   "outputs": [],
   "source": [
    "y_pred_ws_MLPR = best_MLPR.predict(x_tr)"
   ]
  },
  {
   "cell_type": "code",
   "execution_count": 131,
   "metadata": {},
   "outputs": [
    {
     "data": {
      "text/plain": [
       "0.99"
      ]
     },
     "execution_count": 131,
     "metadata": {},
     "output_type": "execute_result"
    }
   ],
   "source": [
    "R2_WS = round(r2_score(y_tr, y_pred_ws_MLPR), 2)\n",
    "R2_WS"
   ]
  },
  {
   "cell_type": "code",
   "execution_count": 132,
   "metadata": {},
   "outputs": [
    {
     "data": {
      "text/plain": [
       "0.25"
      ]
     },
     "execution_count": 132,
     "metadata": {},
     "output_type": "execute_result"
    }
   ],
   "source": [
    "RMSE_WS=round(np.sqrt(mean_absolute_error(y_tr, y_pred_ws_MLPR)), 2)\n",
    "RMSE_WS"
   ]
  },
  {
   "cell_type": "code",
   "execution_count": 133,
   "metadata": {},
   "outputs": [],
   "source": [
    "y_pred_CV_MLPR = cross_val_predict(best_MLPR, x_tr, y_tr, cv=cv)"
   ]
  },
  {
   "cell_type": "code",
   "execution_count": 134,
   "metadata": {},
   "outputs": [
    {
     "data": {
      "text/plain": [
       "array([1.2884848, 2.330556 , 1.6006368, ..., 5.5600123, 3.146596 ,\n",
       "       2.9861572], dtype=float32)"
      ]
     },
     "execution_count": 134,
     "metadata": {},
     "output_type": "execute_result"
    }
   ],
   "source": [
    "y_pred_CV_MLPR"
   ]
  },
  {
   "cell_type": "code",
   "execution_count": 135,
   "metadata": {},
   "outputs": [
    {
     "data": {
      "text/plain": [
       "0.5"
      ]
     },
     "execution_count": 135,
     "metadata": {},
     "output_type": "execute_result"
    }
   ],
   "source": [
    "Q2_CV = round(r2_score(y_tr, y_pred_CV_MLPR), 2)\n",
    "Q2_CV"
   ]
  },
  {
   "cell_type": "code",
   "execution_count": 136,
   "metadata": {},
   "outputs": [
    {
     "data": {
      "text/plain": [
       "0.68"
      ]
     },
     "execution_count": 136,
     "metadata": {},
     "output_type": "execute_result"
    }
   ],
   "source": [
    "RMSE_CV=round(np.sqrt(mean_absolute_error(y_tr, y_pred_CV_MLPR)), 2)\n",
    "RMSE_CV"
   ]
  },
  {
   "cell_type": "markdown",
   "metadata": {},
   "source": [
    "# 9. Prediction for test set's molecules"
   ]
  },
  {
   "cell_type": "code",
   "execution_count": 32,
   "metadata": {},
   "outputs": [],
   "source": [
    "x_ts = np.array(x_ts, dtype=np.float32)\n",
    "y_ts = np.array(y_ts, dtype=np.float32)"
   ]
  },
  {
   "cell_type": "code",
   "execution_count": 33,
   "metadata": {},
   "outputs": [],
   "source": [
    "y_pred_MLPR = best_MLPR.predict(x_ts)"
   ]
  },
  {
   "cell_type": "code",
   "execution_count": 34,
   "metadata": {},
   "outputs": [
    {
     "data": {
      "text/plain": [
       "0.55"
      ]
     },
     "execution_count": 34,
     "metadata": {},
     "output_type": "execute_result"
    }
   ],
   "source": [
    "Q2_TS = round(r2_score(y_ts, y_pred_MLPR), 2)\n",
    "Q2_TS"
   ]
  },
  {
   "cell_type": "code",
   "execution_count": 35,
   "metadata": {},
   "outputs": [
    {
     "data": {
      "text/plain": [
       "0.65"
      ]
     },
     "execution_count": 35,
     "metadata": {},
     "output_type": "execute_result"
    }
   ],
   "source": [
    "RMSE_TS=round(np.sqrt(mean_absolute_error(y_ts, y_pred_MLPR)), 2)\n",
    "RMSE_TS"
   ]
  },
  {
   "cell_type": "markdown",
   "metadata": {},
   "source": [
    "# save the model to disk"
   ]
  },
  {
   "cell_type": "code",
   "execution_count": 141,
   "metadata": {},
   "outputs": [],
   "source": [
    "pickle.dump(best_MLPR, open('models/MorganFingerprint/Toxicity_MLPR_MF.pkl', 'wb'))"
   ]
  },
  {
   "cell_type": "markdown",
   "metadata": {},
   "source": [
    "# load the model from disk"
   ]
  },
  {
   "cell_type": "code",
   "execution_count": 31,
   "metadata": {},
   "outputs": [],
   "source": [
    "best_MLPR = pickle.load(open('models/MorganFingerprint/Toxicity_MLPR_MF.pkl', 'rb'))"
   ]
  },
  {
   "cell_type": "markdown",
   "metadata": {},
   "source": [
    "# 10. Y-randomization MLPR"
   ]
  },
  {
   "cell_type": "code",
   "execution_count": 142,
   "metadata": {},
   "outputs": [
    {
     "name": "stderr",
     "output_type": "stream",
     "text": [
      "[Parallel(n_jobs=-1)]: Using backend LokyBackend with 16 concurrent workers.\n",
      "[Parallel(n_jobs=-1)]: Done  18 tasks      | elapsed: 32.4min\n"
     ]
    },
    {
     "name": "stdout",
     "output_type": "stream",
     "text": [
      "True score =  0.51 \n",
      "Y-randomization =  -0.33 \n",
      "p-value =  0.0196\n"
     ]
    },
    {
     "name": "stderr",
     "output_type": "stream",
     "text": [
      "[Parallel(n_jobs=-1)]: Done  50 out of  50 | elapsed: 60.9min finished\n"
     ]
    }
   ],
   "source": [
    "permutations = 50\n",
    "score, permutation_scores, pvalue = permutation_test_score(best_MLPR, x_tr, y_tr,\n",
    "                                                           cv=cv, scoring='r2',\n",
    "                                                           n_permutations=permutations,\n",
    "                                                           n_jobs=-1,\n",
    "                                                           verbose=1,\n",
    "                                                           random_state=seed)\n",
    "print('True score = ', score.round(2),\n",
    "      '\\nY-randomization = ', np.mean(permutation_scores).round(2),\n",
    "      '\\np-value = ', pvalue.round(4))"
   ]
  },
  {
   "cell_type": "markdown",
   "metadata": {},
   "source": [
    "# 11. Estimating applicability domain. Method - Euclidian distances, K=1"
   ]
  },
  {
   "cell_type": "code",
   "execution_count": 36,
   "metadata": {},
   "outputs": [],
   "source": [
    "neighbors_k= pairwise_distances(x_tr, n_jobs=-1)\n",
    "neighbors_k.sort(0)"
   ]
  },
  {
   "cell_type": "code",
   "execution_count": 37,
   "metadata": {},
   "outputs": [
    {
     "data": {
      "text/html": [
       "<div>\n",
       "<style scoped>\n",
       "    .dataframe tbody tr th:only-of-type {\n",
       "        vertical-align: middle;\n",
       "    }\n",
       "\n",
       "    .dataframe tbody tr th {\n",
       "        vertical-align: top;\n",
       "    }\n",
       "\n",
       "    .dataframe thead th {\n",
       "        text-align: right;\n",
       "    }\n",
       "</style>\n",
       "<table border=\"1\" class=\"dataframe\">\n",
       "  <thead>\n",
       "    <tr style=\"text-align: right;\">\n",
       "      <th></th>\n",
       "      <th>0</th>\n",
       "      <th>1</th>\n",
       "      <th>2</th>\n",
       "      <th>3</th>\n",
       "      <th>4</th>\n",
       "      <th>5</th>\n",
       "      <th>6</th>\n",
       "      <th>7</th>\n",
       "      <th>8</th>\n",
       "      <th>9</th>\n",
       "      <th>...</th>\n",
       "      <th>7702</th>\n",
       "      <th>7703</th>\n",
       "      <th>7704</th>\n",
       "      <th>7705</th>\n",
       "      <th>7706</th>\n",
       "      <th>7707</th>\n",
       "      <th>7708</th>\n",
       "      <th>7709</th>\n",
       "      <th>7710</th>\n",
       "      <th>7711</th>\n",
       "    </tr>\n",
       "  </thead>\n",
       "  <tbody>\n",
       "    <tr>\n",
       "      <th>0</th>\n",
       "      <td>0.000000</td>\n",
       "      <td>0.000000</td>\n",
       "      <td>0.000000</td>\n",
       "      <td>0.000000</td>\n",
       "      <td>0.000000</td>\n",
       "      <td>0.000000</td>\n",
       "      <td>0.000000</td>\n",
       "      <td>0.000000</td>\n",
       "      <td>0.000000</td>\n",
       "      <td>0.000000</td>\n",
       "      <td>...</td>\n",
       "      <td>0.000000</td>\n",
       "      <td>0.000000</td>\n",
       "      <td>0.000000</td>\n",
       "      <td>0.000000</td>\n",
       "      <td>0.000000</td>\n",
       "      <td>0.000000</td>\n",
       "      <td>0.000000</td>\n",
       "      <td>0.000000</td>\n",
       "      <td>0.000000</td>\n",
       "      <td>0.000000</td>\n",
       "    </tr>\n",
       "    <tr>\n",
       "      <th>1</th>\n",
       "      <td>3.162278</td>\n",
       "      <td>4.000000</td>\n",
       "      <td>1.414214</td>\n",
       "      <td>3.741657</td>\n",
       "      <td>2.236068</td>\n",
       "      <td>3.464102</td>\n",
       "      <td>3.316625</td>\n",
       "      <td>6.000000</td>\n",
       "      <td>0.000000</td>\n",
       "      <td>2.000000</td>\n",
       "      <td>...</td>\n",
       "      <td>2.449490</td>\n",
       "      <td>3.316625</td>\n",
       "      <td>4.000000</td>\n",
       "      <td>4.795832</td>\n",
       "      <td>4.358899</td>\n",
       "      <td>2.645751</td>\n",
       "      <td>6.557438</td>\n",
       "      <td>3.316625</td>\n",
       "      <td>2.645751</td>\n",
       "      <td>5.567764</td>\n",
       "    </tr>\n",
       "    <tr>\n",
       "      <th>2</th>\n",
       "      <td>3.464102</td>\n",
       "      <td>4.690416</td>\n",
       "      <td>2.236068</td>\n",
       "      <td>3.872983</td>\n",
       "      <td>2.449490</td>\n",
       "      <td>3.464102</td>\n",
       "      <td>3.605551</td>\n",
       "      <td>6.082763</td>\n",
       "      <td>0.000000</td>\n",
       "      <td>2.449490</td>\n",
       "      <td>...</td>\n",
       "      <td>2.645751</td>\n",
       "      <td>3.464102</td>\n",
       "      <td>4.690416</td>\n",
       "      <td>5.099020</td>\n",
       "      <td>5.477226</td>\n",
       "      <td>4.472136</td>\n",
       "      <td>6.557438</td>\n",
       "      <td>4.242640</td>\n",
       "      <td>2.645751</td>\n",
       "      <td>5.916080</td>\n",
       "    </tr>\n",
       "    <tr>\n",
       "      <th>3</th>\n",
       "      <td>3.872983</td>\n",
       "      <td>4.795832</td>\n",
       "      <td>2.449490</td>\n",
       "      <td>3.872983</td>\n",
       "      <td>2.449490</td>\n",
       "      <td>3.464102</td>\n",
       "      <td>3.741657</td>\n",
       "      <td>6.082763</td>\n",
       "      <td>0.000000</td>\n",
       "      <td>2.449490</td>\n",
       "      <td>...</td>\n",
       "      <td>2.828427</td>\n",
       "      <td>4.000000</td>\n",
       "      <td>6.164414</td>\n",
       "      <td>6.164414</td>\n",
       "      <td>5.477226</td>\n",
       "      <td>5.099020</td>\n",
       "      <td>6.633250</td>\n",
       "      <td>5.099020</td>\n",
       "      <td>2.828427</td>\n",
       "      <td>6.244998</td>\n",
       "    </tr>\n",
       "    <tr>\n",
       "      <th>4</th>\n",
       "      <td>3.872983</td>\n",
       "      <td>5.099020</td>\n",
       "      <td>2.449490</td>\n",
       "      <td>4.000000</td>\n",
       "      <td>2.449490</td>\n",
       "      <td>3.464102</td>\n",
       "      <td>3.741657</td>\n",
       "      <td>6.082763</td>\n",
       "      <td>1.732051</td>\n",
       "      <td>2.645751</td>\n",
       "      <td>...</td>\n",
       "      <td>3.741657</td>\n",
       "      <td>4.242640</td>\n",
       "      <td>6.244998</td>\n",
       "      <td>6.782330</td>\n",
       "      <td>5.477226</td>\n",
       "      <td>5.099020</td>\n",
       "      <td>6.633250</td>\n",
       "      <td>7.416198</td>\n",
       "      <td>3.316625</td>\n",
       "      <td>6.324555</td>\n",
       "    </tr>\n",
       "    <tr>\n",
       "      <th>...</th>\n",
       "      <td>...</td>\n",
       "      <td>...</td>\n",
       "      <td>...</td>\n",
       "      <td>...</td>\n",
       "      <td>...</td>\n",
       "      <td>...</td>\n",
       "      <td>...</td>\n",
       "      <td>...</td>\n",
       "      <td>...</td>\n",
       "      <td>...</td>\n",
       "      <td>...</td>\n",
       "      <td>...</td>\n",
       "      <td>...</td>\n",
       "      <td>...</td>\n",
       "      <td>...</td>\n",
       "      <td>...</td>\n",
       "      <td>...</td>\n",
       "      <td>...</td>\n",
       "      <td>...</td>\n",
       "      <td>...</td>\n",
       "      <td>...</td>\n",
       "    </tr>\n",
       "    <tr>\n",
       "      <th>7707</th>\n",
       "      <td>10.630146</td>\n",
       "      <td>10.816654</td>\n",
       "      <td>10.583005</td>\n",
       "      <td>10.723805</td>\n",
       "      <td>10.246951</td>\n",
       "      <td>10.344080</td>\n",
       "      <td>10.677078</td>\n",
       "      <td>10.723805</td>\n",
       "      <td>10.677078</td>\n",
       "      <td>10.816654</td>\n",
       "      <td>...</td>\n",
       "      <td>10.954452</td>\n",
       "      <td>11.224972</td>\n",
       "      <td>11.224972</td>\n",
       "      <td>11.916375</td>\n",
       "      <td>11.357817</td>\n",
       "      <td>11.661903</td>\n",
       "      <td>11.224972</td>\n",
       "      <td>11.832160</td>\n",
       "      <td>10.677078</td>\n",
       "      <td>11.489125</td>\n",
       "    </tr>\n",
       "    <tr>\n",
       "      <th>7708</th>\n",
       "      <td>11.180340</td>\n",
       "      <td>11.045361</td>\n",
       "      <td>11.224972</td>\n",
       "      <td>11.445523</td>\n",
       "      <td>10.908712</td>\n",
       "      <td>11.090536</td>\n",
       "      <td>10.862781</td>\n",
       "      <td>11.224972</td>\n",
       "      <td>11.313708</td>\n",
       "      <td>11.357817</td>\n",
       "      <td>...</td>\n",
       "      <td>11.045361</td>\n",
       "      <td>11.747340</td>\n",
       "      <td>11.401754</td>\n",
       "      <td>12.206555</td>\n",
       "      <td>11.532562</td>\n",
       "      <td>11.958261</td>\n",
       "      <td>11.618950</td>\n",
       "      <td>12.247449</td>\n",
       "      <td>10.770329</td>\n",
       "      <td>11.832160</td>\n",
       "    </tr>\n",
       "    <tr>\n",
       "      <th>7709</th>\n",
       "      <td>11.704700</td>\n",
       "      <td>11.832160</td>\n",
       "      <td>11.747340</td>\n",
       "      <td>12.041595</td>\n",
       "      <td>11.357817</td>\n",
       "      <td>11.445523</td>\n",
       "      <td>11.401754</td>\n",
       "      <td>11.747340</td>\n",
       "      <td>11.747340</td>\n",
       "      <td>11.789826</td>\n",
       "      <td>...</td>\n",
       "      <td>12.000000</td>\n",
       "      <td>12.083046</td>\n",
       "      <td>11.832160</td>\n",
       "      <td>12.767145</td>\n",
       "      <td>12.124355</td>\n",
       "      <td>12.529964</td>\n",
       "      <td>12.206555</td>\n",
       "      <td>12.328828</td>\n",
       "      <td>11.747340</td>\n",
       "      <td>12.727922</td>\n",
       "    </tr>\n",
       "    <tr>\n",
       "      <th>7710</th>\n",
       "      <td>11.874342</td>\n",
       "      <td>11.916375</td>\n",
       "      <td>11.747340</td>\n",
       "      <td>12.124355</td>\n",
       "      <td>11.532562</td>\n",
       "      <td>11.532562</td>\n",
       "      <td>11.489125</td>\n",
       "      <td>11.916375</td>\n",
       "      <td>11.832160</td>\n",
       "      <td>11.958261</td>\n",
       "      <td>...</td>\n",
       "      <td>12.000000</td>\n",
       "      <td>12.165525</td>\n",
       "      <td>12.083046</td>\n",
       "      <td>13.000000</td>\n",
       "      <td>12.288206</td>\n",
       "      <td>12.688578</td>\n",
       "      <td>12.369317</td>\n",
       "      <td>12.569805</td>\n",
       "      <td>11.832160</td>\n",
       "      <td>12.884099</td>\n",
       "    </tr>\n",
       "    <tr>\n",
       "      <th>7711</th>\n",
       "      <td>11.874342</td>\n",
       "      <td>12.247449</td>\n",
       "      <td>11.916375</td>\n",
       "      <td>12.206555</td>\n",
       "      <td>11.618950</td>\n",
       "      <td>11.874342</td>\n",
       "      <td>12.000000</td>\n",
       "      <td>12.000000</td>\n",
       "      <td>12.083046</td>\n",
       "      <td>12.041595</td>\n",
       "      <td>...</td>\n",
       "      <td>12.165525</td>\n",
       "      <td>12.409674</td>\n",
       "      <td>12.409674</td>\n",
       "      <td>13.076696</td>\n",
       "      <td>12.288206</td>\n",
       "      <td>12.767145</td>\n",
       "      <td>12.688578</td>\n",
       "      <td>12.649111</td>\n",
       "      <td>11.832160</td>\n",
       "      <td>12.961481</td>\n",
       "    </tr>\n",
       "  </tbody>\n",
       "</table>\n",
       "<p>7712 rows × 7712 columns</p>\n",
       "</div>"
      ],
      "text/plain": [
       "           0          1          2          3          4          5     \\\n",
       "0      0.000000   0.000000   0.000000   0.000000   0.000000   0.000000   \n",
       "1      3.162278   4.000000   1.414214   3.741657   2.236068   3.464102   \n",
       "2      3.464102   4.690416   2.236068   3.872983   2.449490   3.464102   \n",
       "3      3.872983   4.795832   2.449490   3.872983   2.449490   3.464102   \n",
       "4      3.872983   5.099020   2.449490   4.000000   2.449490   3.464102   \n",
       "...         ...        ...        ...        ...        ...        ...   \n",
       "7707  10.630146  10.816654  10.583005  10.723805  10.246951  10.344080   \n",
       "7708  11.180340  11.045361  11.224972  11.445523  10.908712  11.090536   \n",
       "7709  11.704700  11.832160  11.747340  12.041595  11.357817  11.445523   \n",
       "7710  11.874342  11.916375  11.747340  12.124355  11.532562  11.532562   \n",
       "7711  11.874342  12.247449  11.916375  12.206555  11.618950  11.874342   \n",
       "\n",
       "           6          7          8          9     ...       7702       7703  \\\n",
       "0      0.000000   0.000000   0.000000   0.000000  ...   0.000000   0.000000   \n",
       "1      3.316625   6.000000   0.000000   2.000000  ...   2.449490   3.316625   \n",
       "2      3.605551   6.082763   0.000000   2.449490  ...   2.645751   3.464102   \n",
       "3      3.741657   6.082763   0.000000   2.449490  ...   2.828427   4.000000   \n",
       "4      3.741657   6.082763   1.732051   2.645751  ...   3.741657   4.242640   \n",
       "...         ...        ...        ...        ...  ...        ...        ...   \n",
       "7707  10.677078  10.723805  10.677078  10.816654  ...  10.954452  11.224972   \n",
       "7708  10.862781  11.224972  11.313708  11.357817  ...  11.045361  11.747340   \n",
       "7709  11.401754  11.747340  11.747340  11.789826  ...  12.000000  12.083046   \n",
       "7710  11.489125  11.916375  11.832160  11.958261  ...  12.000000  12.165525   \n",
       "7711  12.000000  12.000000  12.083046  12.041595  ...  12.165525  12.409674   \n",
       "\n",
       "           7704       7705       7706       7707       7708       7709  \\\n",
       "0      0.000000   0.000000   0.000000   0.000000   0.000000   0.000000   \n",
       "1      4.000000   4.795832   4.358899   2.645751   6.557438   3.316625   \n",
       "2      4.690416   5.099020   5.477226   4.472136   6.557438   4.242640   \n",
       "3      6.164414   6.164414   5.477226   5.099020   6.633250   5.099020   \n",
       "4      6.244998   6.782330   5.477226   5.099020   6.633250   7.416198   \n",
       "...         ...        ...        ...        ...        ...        ...   \n",
       "7707  11.224972  11.916375  11.357817  11.661903  11.224972  11.832160   \n",
       "7708  11.401754  12.206555  11.532562  11.958261  11.618950  12.247449   \n",
       "7709  11.832160  12.767145  12.124355  12.529964  12.206555  12.328828   \n",
       "7710  12.083046  13.000000  12.288206  12.688578  12.369317  12.569805   \n",
       "7711  12.409674  13.076696  12.288206  12.767145  12.688578  12.649111   \n",
       "\n",
       "           7710       7711  \n",
       "0      0.000000   0.000000  \n",
       "1      2.645751   5.567764  \n",
       "2      2.645751   5.916080  \n",
       "3      2.828427   6.244998  \n",
       "4      3.316625   6.324555  \n",
       "...         ...        ...  \n",
       "7707  10.677078  11.489125  \n",
       "7708  10.770329  11.832160  \n",
       "7709  11.747340  12.727922  \n",
       "7710  11.832160  12.884099  \n",
       "7711  11.832160  12.961481  \n",
       "\n",
       "[7712 rows x 7712 columns]"
      ]
     },
     "execution_count": 37,
     "metadata": {},
     "output_type": "execute_result"
    }
   ],
   "source": [
    "df_tr=pd.DataFrame(neighbors_k)\n",
    "df_tr"
   ]
  },
  {
   "cell_type": "code",
   "execution_count": 38,
   "metadata": {},
   "outputs": [],
   "source": [
    "similarity= neighbors_k"
   ]
  },
  {
   "cell_type": "code",
   "execution_count": 39,
   "metadata": {},
   "outputs": [],
   "source": [
    "Dmean=np.mean(similarity[1,:])"
   ]
  },
  {
   "cell_type": "code",
   "execution_count": 40,
   "metadata": {},
   "outputs": [
    {
     "data": {
      "text/plain": [
       "3.63"
      ]
     },
     "execution_count": 40,
     "metadata": {},
     "output_type": "execute_result"
    }
   ],
   "source": [
    "round(Dmean, 2)"
   ]
  },
  {
   "cell_type": "code",
   "execution_count": 41,
   "metadata": {},
   "outputs": [],
   "source": [
    "std=np.std(similarity[1,:])"
   ]
  },
  {
   "cell_type": "code",
   "execution_count": 42,
   "metadata": {},
   "outputs": [
    {
     "data": {
      "text/plain": [
       "1.23"
      ]
     },
     "execution_count": 42,
     "metadata": {},
     "output_type": "execute_result"
    }
   ],
   "source": [
    "round(std, 2)"
   ]
  },
  {
   "cell_type": "code",
   "execution_count": 43,
   "metadata": {},
   "outputs": [
    {
     "name": "stdout",
     "output_type": "stream",
     "text": [
      "4.25\n"
     ]
    }
   ],
   "source": [
    "model_AD_limit=Dmean+std*0.5\n",
    "print(np.round(model_AD_limit, 2))"
   ]
  },
  {
   "cell_type": "code",
   "execution_count": 44,
   "metadata": {},
   "outputs": [],
   "source": [
    "neighbors_k_ts= pairwise_distances(x_tr,Y=x_ts, n_jobs=-1)\n",
    "neighbors_k_ts.sort(0)"
   ]
  },
  {
   "cell_type": "code",
   "execution_count": 45,
   "metadata": {},
   "outputs": [
    {
     "data": {
      "text/html": [
       "<div>\n",
       "<style scoped>\n",
       "    .dataframe tbody tr th:only-of-type {\n",
       "        vertical-align: middle;\n",
       "    }\n",
       "\n",
       "    .dataframe tbody tr th {\n",
       "        vertical-align: top;\n",
       "    }\n",
       "\n",
       "    .dataframe thead th {\n",
       "        text-align: right;\n",
       "    }\n",
       "</style>\n",
       "<table border=\"1\" class=\"dataframe\">\n",
       "  <thead>\n",
       "    <tr style=\"text-align: right;\">\n",
       "      <th></th>\n",
       "      <th>0</th>\n",
       "      <th>1</th>\n",
       "      <th>2</th>\n",
       "      <th>3</th>\n",
       "      <th>4</th>\n",
       "      <th>5</th>\n",
       "      <th>6</th>\n",
       "      <th>7</th>\n",
       "      <th>8</th>\n",
       "      <th>9</th>\n",
       "      <th>...</th>\n",
       "      <th>1919</th>\n",
       "      <th>1920</th>\n",
       "      <th>1921</th>\n",
       "      <th>1922</th>\n",
       "      <th>1923</th>\n",
       "      <th>1924</th>\n",
       "      <th>1925</th>\n",
       "      <th>1926</th>\n",
       "      <th>1927</th>\n",
       "      <th>1928</th>\n",
       "    </tr>\n",
       "  </thead>\n",
       "  <tbody>\n",
       "    <tr>\n",
       "      <th>0</th>\n",
       "      <td>2.000000</td>\n",
       "      <td>3.464102</td>\n",
       "      <td>2.000000</td>\n",
       "      <td>1.414214</td>\n",
       "      <td>2.000000</td>\n",
       "      <td>2.645751</td>\n",
       "      <td>3.162278</td>\n",
       "      <td>0.000000</td>\n",
       "      <td>2.449490</td>\n",
       "      <td>4.358899</td>\n",
       "      <td>...</td>\n",
       "      <td>6.855655</td>\n",
       "      <td>4.690416</td>\n",
       "      <td>2.828427</td>\n",
       "      <td>3.741657</td>\n",
       "      <td>3.162278</td>\n",
       "      <td>4.898980</td>\n",
       "      <td>2.645751</td>\n",
       "      <td>4.123106</td>\n",
       "      <td>3.162278</td>\n",
       "      <td>7.071068</td>\n",
       "    </tr>\n",
       "    <tr>\n",
       "      <th>1</th>\n",
       "      <td>2.000000</td>\n",
       "      <td>3.464102</td>\n",
       "      <td>2.236068</td>\n",
       "      <td>1.732051</td>\n",
       "      <td>3.162278</td>\n",
       "      <td>2.828427</td>\n",
       "      <td>3.605551</td>\n",
       "      <td>2.449490</td>\n",
       "      <td>2.449490</td>\n",
       "      <td>4.690416</td>\n",
       "      <td>...</td>\n",
       "      <td>7.071068</td>\n",
       "      <td>6.000000</td>\n",
       "      <td>3.316625</td>\n",
       "      <td>3.872983</td>\n",
       "      <td>3.162278</td>\n",
       "      <td>5.916080</td>\n",
       "      <td>2.828427</td>\n",
       "      <td>4.358899</td>\n",
       "      <td>3.605551</td>\n",
       "      <td>7.280110</td>\n",
       "    </tr>\n",
       "    <tr>\n",
       "      <th>2</th>\n",
       "      <td>2.000000</td>\n",
       "      <td>3.605551</td>\n",
       "      <td>2.236068</td>\n",
       "      <td>1.732051</td>\n",
       "      <td>3.162278</td>\n",
       "      <td>2.828427</td>\n",
       "      <td>3.872983</td>\n",
       "      <td>2.449490</td>\n",
       "      <td>2.449490</td>\n",
       "      <td>4.795832</td>\n",
       "      <td>...</td>\n",
       "      <td>7.280110</td>\n",
       "      <td>6.782330</td>\n",
       "      <td>3.316625</td>\n",
       "      <td>4.795832</td>\n",
       "      <td>3.162278</td>\n",
       "      <td>6.082763</td>\n",
       "      <td>2.828427</td>\n",
       "      <td>4.582576</td>\n",
       "      <td>3.741657</td>\n",
       "      <td>7.348469</td>\n",
       "    </tr>\n",
       "    <tr>\n",
       "      <th>3</th>\n",
       "      <td>2.000000</td>\n",
       "      <td>3.872983</td>\n",
       "      <td>2.645751</td>\n",
       "      <td>2.000000</td>\n",
       "      <td>3.464102</td>\n",
       "      <td>2.828427</td>\n",
       "      <td>4.000000</td>\n",
       "      <td>2.449490</td>\n",
       "      <td>2.449490</td>\n",
       "      <td>5.196152</td>\n",
       "      <td>...</td>\n",
       "      <td>7.280110</td>\n",
       "      <td>6.855655</td>\n",
       "      <td>3.464102</td>\n",
       "      <td>4.795832</td>\n",
       "      <td>3.316625</td>\n",
       "      <td>6.082763</td>\n",
       "      <td>2.828427</td>\n",
       "      <td>4.690416</td>\n",
       "      <td>3.741657</td>\n",
       "      <td>7.348469</td>\n",
       "    </tr>\n",
       "    <tr>\n",
       "      <th>4</th>\n",
       "      <td>2.000000</td>\n",
       "      <td>4.000000</td>\n",
       "      <td>2.828427</td>\n",
       "      <td>2.236068</td>\n",
       "      <td>3.605551</td>\n",
       "      <td>2.828427</td>\n",
       "      <td>4.242640</td>\n",
       "      <td>2.449490</td>\n",
       "      <td>2.645751</td>\n",
       "      <td>5.196152</td>\n",
       "      <td>...</td>\n",
       "      <td>7.416198</td>\n",
       "      <td>6.855655</td>\n",
       "      <td>3.605551</td>\n",
       "      <td>4.898980</td>\n",
       "      <td>3.605551</td>\n",
       "      <td>6.480741</td>\n",
       "      <td>3.000000</td>\n",
       "      <td>4.690416</td>\n",
       "      <td>3.872983</td>\n",
       "      <td>7.416198</td>\n",
       "    </tr>\n",
       "    <tr>\n",
       "      <th>...</th>\n",
       "      <td>...</td>\n",
       "      <td>...</td>\n",
       "      <td>...</td>\n",
       "      <td>...</td>\n",
       "      <td>...</td>\n",
       "      <td>...</td>\n",
       "      <td>...</td>\n",
       "      <td>...</td>\n",
       "      <td>...</td>\n",
       "      <td>...</td>\n",
       "      <td>...</td>\n",
       "      <td>...</td>\n",
       "      <td>...</td>\n",
       "      <td>...</td>\n",
       "      <td>...</td>\n",
       "      <td>...</td>\n",
       "      <td>...</td>\n",
       "      <td>...</td>\n",
       "      <td>...</td>\n",
       "      <td>...</td>\n",
       "      <td>...</td>\n",
       "    </tr>\n",
       "    <tr>\n",
       "      <th>7707</th>\n",
       "      <td>10.583005</td>\n",
       "      <td>10.583005</td>\n",
       "      <td>10.295630</td>\n",
       "      <td>10.770329</td>\n",
       "      <td>10.246951</td>\n",
       "      <td>10.344080</td>\n",
       "      <td>11.000000</td>\n",
       "      <td>10.488089</td>\n",
       "      <td>10.535654</td>\n",
       "      <td>10.954452</td>\n",
       "      <td>...</td>\n",
       "      <td>11.789826</td>\n",
       "      <td>11.618950</td>\n",
       "      <td>11.401754</td>\n",
       "      <td>11.180340</td>\n",
       "      <td>11.269427</td>\n",
       "      <td>11.789826</td>\n",
       "      <td>11.357817</td>\n",
       "      <td>11.224972</td>\n",
       "      <td>10.770329</td>\n",
       "      <td>11.489125</td>\n",
       "    </tr>\n",
       "    <tr>\n",
       "      <th>7708</th>\n",
       "      <td>11.135529</td>\n",
       "      <td>11.135529</td>\n",
       "      <td>10.954452</td>\n",
       "      <td>11.313708</td>\n",
       "      <td>11.045361</td>\n",
       "      <td>11.000000</td>\n",
       "      <td>11.618950</td>\n",
       "      <td>11.135529</td>\n",
       "      <td>11.000000</td>\n",
       "      <td>11.224972</td>\n",
       "      <td>...</td>\n",
       "      <td>12.124355</td>\n",
       "      <td>12.124355</td>\n",
       "      <td>11.661903</td>\n",
       "      <td>11.445523</td>\n",
       "      <td>11.618950</td>\n",
       "      <td>11.874342</td>\n",
       "      <td>11.704700</td>\n",
       "      <td>11.661903</td>\n",
       "      <td>10.954452</td>\n",
       "      <td>12.083046</td>\n",
       "    </tr>\n",
       "    <tr>\n",
       "      <th>7709</th>\n",
       "      <td>11.575837</td>\n",
       "      <td>11.661903</td>\n",
       "      <td>11.575837</td>\n",
       "      <td>11.832160</td>\n",
       "      <td>11.575837</td>\n",
       "      <td>11.532562</td>\n",
       "      <td>11.704700</td>\n",
       "      <td>11.661903</td>\n",
       "      <td>11.618950</td>\n",
       "      <td>11.747340</td>\n",
       "      <td>...</td>\n",
       "      <td>12.449900</td>\n",
       "      <td>12.609520</td>\n",
       "      <td>12.165525</td>\n",
       "      <td>12.124355</td>\n",
       "      <td>11.958261</td>\n",
       "      <td>12.206555</td>\n",
       "      <td>12.124355</td>\n",
       "      <td>12.083046</td>\n",
       "      <td>11.832160</td>\n",
       "      <td>12.165525</td>\n",
       "    </tr>\n",
       "    <tr>\n",
       "      <th>7710</th>\n",
       "      <td>11.661903</td>\n",
       "      <td>11.661903</td>\n",
       "      <td>11.575837</td>\n",
       "      <td>11.916375</td>\n",
       "      <td>11.661903</td>\n",
       "      <td>11.532562</td>\n",
       "      <td>11.789826</td>\n",
       "      <td>11.661903</td>\n",
       "      <td>11.704700</td>\n",
       "      <td>12.000000</td>\n",
       "      <td>...</td>\n",
       "      <td>12.845233</td>\n",
       "      <td>12.688578</td>\n",
       "      <td>12.247449</td>\n",
       "      <td>12.124355</td>\n",
       "      <td>12.041595</td>\n",
       "      <td>12.369317</td>\n",
       "      <td>12.206555</td>\n",
       "      <td>12.247449</td>\n",
       "      <td>11.832160</td>\n",
       "      <td>12.247449</td>\n",
       "    </tr>\n",
       "    <tr>\n",
       "      <th>7711</th>\n",
       "      <td>11.661903</td>\n",
       "      <td>12.000000</td>\n",
       "      <td>11.661903</td>\n",
       "      <td>12.000000</td>\n",
       "      <td>11.832160</td>\n",
       "      <td>11.789826</td>\n",
       "      <td>12.041595</td>\n",
       "      <td>11.747340</td>\n",
       "      <td>11.874342</td>\n",
       "      <td>12.083046</td>\n",
       "      <td>...</td>\n",
       "      <td>12.922848</td>\n",
       "      <td>12.688578</td>\n",
       "      <td>12.328828</td>\n",
       "      <td>12.288206</td>\n",
       "      <td>12.288206</td>\n",
       "      <td>12.449900</td>\n",
       "      <td>12.288206</td>\n",
       "      <td>12.247449</td>\n",
       "      <td>11.916375</td>\n",
       "      <td>12.489996</td>\n",
       "    </tr>\n",
       "  </tbody>\n",
       "</table>\n",
       "<p>7712 rows × 1929 columns</p>\n",
       "</div>"
      ],
      "text/plain": [
       "           0          1          2          3          4          5     \\\n",
       "0      2.000000   3.464102   2.000000   1.414214   2.000000   2.645751   \n",
       "1      2.000000   3.464102   2.236068   1.732051   3.162278   2.828427   \n",
       "2      2.000000   3.605551   2.236068   1.732051   3.162278   2.828427   \n",
       "3      2.000000   3.872983   2.645751   2.000000   3.464102   2.828427   \n",
       "4      2.000000   4.000000   2.828427   2.236068   3.605551   2.828427   \n",
       "...         ...        ...        ...        ...        ...        ...   \n",
       "7707  10.583005  10.583005  10.295630  10.770329  10.246951  10.344080   \n",
       "7708  11.135529  11.135529  10.954452  11.313708  11.045361  11.000000   \n",
       "7709  11.575837  11.661903  11.575837  11.832160  11.575837  11.532562   \n",
       "7710  11.661903  11.661903  11.575837  11.916375  11.661903  11.532562   \n",
       "7711  11.661903  12.000000  11.661903  12.000000  11.832160  11.789826   \n",
       "\n",
       "           6          7          8          9     ...       1919       1920  \\\n",
       "0      3.162278   0.000000   2.449490   4.358899  ...   6.855655   4.690416   \n",
       "1      3.605551   2.449490   2.449490   4.690416  ...   7.071068   6.000000   \n",
       "2      3.872983   2.449490   2.449490   4.795832  ...   7.280110   6.782330   \n",
       "3      4.000000   2.449490   2.449490   5.196152  ...   7.280110   6.855655   \n",
       "4      4.242640   2.449490   2.645751   5.196152  ...   7.416198   6.855655   \n",
       "...         ...        ...        ...        ...  ...        ...        ...   \n",
       "7707  11.000000  10.488089  10.535654  10.954452  ...  11.789826  11.618950   \n",
       "7708  11.618950  11.135529  11.000000  11.224972  ...  12.124355  12.124355   \n",
       "7709  11.704700  11.661903  11.618950  11.747340  ...  12.449900  12.609520   \n",
       "7710  11.789826  11.661903  11.704700  12.000000  ...  12.845233  12.688578   \n",
       "7711  12.041595  11.747340  11.874342  12.083046  ...  12.922848  12.688578   \n",
       "\n",
       "           1921       1922       1923       1924       1925       1926  \\\n",
       "0      2.828427   3.741657   3.162278   4.898980   2.645751   4.123106   \n",
       "1      3.316625   3.872983   3.162278   5.916080   2.828427   4.358899   \n",
       "2      3.316625   4.795832   3.162278   6.082763   2.828427   4.582576   \n",
       "3      3.464102   4.795832   3.316625   6.082763   2.828427   4.690416   \n",
       "4      3.605551   4.898980   3.605551   6.480741   3.000000   4.690416   \n",
       "...         ...        ...        ...        ...        ...        ...   \n",
       "7707  11.401754  11.180340  11.269427  11.789826  11.357817  11.224972   \n",
       "7708  11.661903  11.445523  11.618950  11.874342  11.704700  11.661903   \n",
       "7709  12.165525  12.124355  11.958261  12.206555  12.124355  12.083046   \n",
       "7710  12.247449  12.124355  12.041595  12.369317  12.206555  12.247449   \n",
       "7711  12.328828  12.288206  12.288206  12.449900  12.288206  12.247449   \n",
       "\n",
       "           1927       1928  \n",
       "0      3.162278   7.071068  \n",
       "1      3.605551   7.280110  \n",
       "2      3.741657   7.348469  \n",
       "3      3.741657   7.348469  \n",
       "4      3.872983   7.416198  \n",
       "...         ...        ...  \n",
       "7707  10.770329  11.489125  \n",
       "7708  10.954452  12.083046  \n",
       "7709  11.832160  12.165525  \n",
       "7710  11.832160  12.247449  \n",
       "7711  11.916375  12.489996  \n",
       "\n",
       "[7712 rows x 1929 columns]"
      ]
     },
     "execution_count": 45,
     "metadata": {},
     "output_type": "execute_result"
    }
   ],
   "source": [
    "x_ts_AD=pd.DataFrame(neighbors_k_ts)\n",
    "x_ts_AD"
   ]
  },
  {
   "cell_type": "code",
   "execution_count": 46,
   "metadata": {},
   "outputs": [
    {
     "name": "stdout",
     "output_type": "stream",
     "text": [
      "[2.    3.464 2.    ... 4.123 3.162 7.071]\n"
     ]
    }
   ],
   "source": [
    "similarity_ts= neighbors_k_ts\n",
    "cpd_AD=similarity_ts[0,:]\n",
    "cpd_value = np.round(cpd_AD, 3)\n",
    "print(cpd_value)"
   ]
  },
  {
   "cell_type": "code",
   "execution_count": 47,
   "metadata": {},
   "outputs": [
    {
     "name": "stdout",
     "output_type": "stream",
     "text": [
      "[ True  True  True ...  True  True False]\n"
     ]
    }
   ],
   "source": [
    "cpd_AD = np.where(cpd_value <= model_AD_limit, True, False)\n",
    "print(cpd_AD)"
   ]
  },
  {
   "cell_type": "code",
   "execution_count": 48,
   "metadata": {},
   "outputs": [
    {
     "name": "stdout",
     "output_type": "stream",
     "text": [
      "Coverage =  0.74\n"
     ]
    }
   ],
   "source": [
    "print(\"Coverage = \", round(sum(cpd_AD) / len(cpd_AD), 2))"
   ]
  },
  {
   "cell_type": "code",
   "execution_count": 49,
   "metadata": {},
   "outputs": [
    {
     "name": "stdout",
     "output_type": "stream",
     "text": [
      "Indices of substances included in AD =  [   0    1    2 ... 1925 1926 1927]\n"
     ]
    }
   ],
   "source": [
    "print(\"Indices of substances included in AD = \", np.where(cpd_AD != 0)[0])"
   ]
  },
  {
   "cell_type": "code",
   "execution_count": 50,
   "metadata": {},
   "outputs": [],
   "source": [
    "out_Ad=list(np.where(cpd_AD == 0)[0])"
   ]
  },
  {
   "cell_type": "markdown",
   "metadata": {},
   "source": [
    "# 12. Prediction only for molecules included in  AD"
   ]
  },
  {
   "cell_type": "code",
   "execution_count": 51,
   "metadata": {},
   "outputs": [],
   "source": [
    "y_pred_MLPR_ad=list(y_pred_MLPR)"
   ]
  },
  {
   "cell_type": "code",
   "execution_count": 52,
   "metadata": {},
   "outputs": [],
   "source": [
    "y_pred_MLPR_ad[:] = [x for i,x in enumerate(y_pred_MLPR_ad) if i not in out_Ad]"
   ]
  },
  {
   "cell_type": "code",
   "execution_count": 53,
   "metadata": {},
   "outputs": [
    {
     "data": {
      "text/plain": [
       "1429"
      ]
     },
     "execution_count": 53,
     "metadata": {},
     "output_type": "execute_result"
    }
   ],
   "source": [
    "len(y_pred_MLPR_ad)"
   ]
  },
  {
   "cell_type": "code",
   "execution_count": 54,
   "metadata": {},
   "outputs": [],
   "source": [
    "y_ts_ad=list(y_ts)"
   ]
  },
  {
   "cell_type": "code",
   "execution_count": 55,
   "metadata": {},
   "outputs": [],
   "source": [
    "y_ts_ad[:] = [x for i,x in enumerate(y_ts_ad) if i not in out_Ad]"
   ]
  },
  {
   "cell_type": "code",
   "execution_count": 56,
   "metadata": {},
   "outputs": [
    {
     "data": {
      "text/plain": [
       "1429"
      ]
     },
     "execution_count": 56,
     "metadata": {},
     "output_type": "execute_result"
    }
   ],
   "source": [
    "len(y_ts_ad)"
   ]
  },
  {
   "cell_type": "code",
   "execution_count": 57,
   "metadata": {},
   "outputs": [
    {
     "data": {
      "text/plain": [
       "0.64"
      ]
     },
     "execution_count": 57,
     "metadata": {},
     "output_type": "execute_result"
    }
   ],
   "source": [
    "Q2_TS = round(r2_score(y_ts_ad, y_pred_MLPR_ad), 2)\n",
    "Q2_TS"
   ]
  },
  {
   "cell_type": "code",
   "execution_count": 58,
   "metadata": {
    "scrolled": true
   },
   "outputs": [
    {
     "data": {
      "text/plain": [
       "0.64"
      ]
     },
     "execution_count": 58,
     "metadata": {},
     "output_type": "execute_result"
    }
   ],
   "source": [
    "RMSE_TS=round(np.sqrt(mean_absolute_error(y_ts_ad, y_pred_MLPR_ad)), 2)\n",
    "RMSE_TS"
   ]
  },
  {
   "cell_type": "code",
   "execution_count": 145,
   "metadata": {},
   "outputs": [],
   "source": [
    "from sklearn.neighbors import KNeighborsRegressor"
   ]
  },
  {
   "cell_type": "markdown",
   "metadata": {},
   "source": [
    "# k-nearest neighbors"
   ]
  },
  {
   "cell_type": "code",
   "execution_count": 146,
   "metadata": {},
   "outputs": [],
   "source": [
    "k_range = list(range(1, 31))\n",
    "param_grid = dict(n_neighbors=k_range)"
   ]
  },
  {
   "cell_type": "code",
   "execution_count": 147,
   "metadata": {},
   "outputs": [],
   "source": [
    "m = GridSearchCV(KNeighborsRegressor(), param_grid, n_jobs=-1, cv=cv, verbose=1)"
   ]
  },
  {
   "cell_type": "code",
   "execution_count": 148,
   "metadata": {},
   "outputs": [
    {
     "name": "stdout",
     "output_type": "stream",
     "text": [
      "Fitting 5 folds for each of 30 candidates, totalling 150 fits\n"
     ]
    },
    {
     "data": {
      "text/html": [
       "<style>#sk-container-id-4 {color: black;}#sk-container-id-4 pre{padding: 0;}#sk-container-id-4 div.sk-toggleable {background-color: white;}#sk-container-id-4 label.sk-toggleable__label {cursor: pointer;display: block;width: 100%;margin-bottom: 0;padding: 0.3em;box-sizing: border-box;text-align: center;}#sk-container-id-4 label.sk-toggleable__label-arrow:before {content: \"▸\";float: left;margin-right: 0.25em;color: #696969;}#sk-container-id-4 label.sk-toggleable__label-arrow:hover:before {color: black;}#sk-container-id-4 div.sk-estimator:hover label.sk-toggleable__label-arrow:before {color: black;}#sk-container-id-4 div.sk-toggleable__content {max-height: 0;max-width: 0;overflow: hidden;text-align: left;background-color: #f0f8ff;}#sk-container-id-4 div.sk-toggleable__content pre {margin: 0.2em;color: black;border-radius: 0.25em;background-color: #f0f8ff;}#sk-container-id-4 input.sk-toggleable__control:checked~div.sk-toggleable__content {max-height: 200px;max-width: 100%;overflow: auto;}#sk-container-id-4 input.sk-toggleable__control:checked~label.sk-toggleable__label-arrow:before {content: \"▾\";}#sk-container-id-4 div.sk-estimator input.sk-toggleable__control:checked~label.sk-toggleable__label {background-color: #d4ebff;}#sk-container-id-4 div.sk-label input.sk-toggleable__control:checked~label.sk-toggleable__label {background-color: #d4ebff;}#sk-container-id-4 input.sk-hidden--visually {border: 0;clip: rect(1px 1px 1px 1px);clip: rect(1px, 1px, 1px, 1px);height: 1px;margin: -1px;overflow: hidden;padding: 0;position: absolute;width: 1px;}#sk-container-id-4 div.sk-estimator {font-family: monospace;background-color: #f0f8ff;border: 1px dotted black;border-radius: 0.25em;box-sizing: border-box;margin-bottom: 0.5em;}#sk-container-id-4 div.sk-estimator:hover {background-color: #d4ebff;}#sk-container-id-4 div.sk-parallel-item::after {content: \"\";width: 100%;border-bottom: 1px solid gray;flex-grow: 1;}#sk-container-id-4 div.sk-label:hover label.sk-toggleable__label {background-color: #d4ebff;}#sk-container-id-4 div.sk-serial::before {content: \"\";position: absolute;border-left: 1px solid gray;box-sizing: border-box;top: 0;bottom: 0;left: 50%;z-index: 0;}#sk-container-id-4 div.sk-serial {display: flex;flex-direction: column;align-items: center;background-color: white;padding-right: 0.2em;padding-left: 0.2em;position: relative;}#sk-container-id-4 div.sk-item {position: relative;z-index: 1;}#sk-container-id-4 div.sk-parallel {display: flex;align-items: stretch;justify-content: center;background-color: white;position: relative;}#sk-container-id-4 div.sk-item::before, #sk-container-id-4 div.sk-parallel-item::before {content: \"\";position: absolute;border-left: 1px solid gray;box-sizing: border-box;top: 0;bottom: 0;left: 50%;z-index: -1;}#sk-container-id-4 div.sk-parallel-item {display: flex;flex-direction: column;z-index: 1;position: relative;background-color: white;}#sk-container-id-4 div.sk-parallel-item:first-child::after {align-self: flex-end;width: 50%;}#sk-container-id-4 div.sk-parallel-item:last-child::after {align-self: flex-start;width: 50%;}#sk-container-id-4 div.sk-parallel-item:only-child::after {width: 0;}#sk-container-id-4 div.sk-dashed-wrapped {border: 1px dashed gray;margin: 0 0.4em 0.5em 0.4em;box-sizing: border-box;padding-bottom: 0.4em;background-color: white;}#sk-container-id-4 div.sk-label label {font-family: monospace;font-weight: bold;display: inline-block;line-height: 1.2em;}#sk-container-id-4 div.sk-label-container {text-align: center;}#sk-container-id-4 div.sk-container {/* jupyter's `normalize.less` sets `[hidden] { display: none; }` but bootstrap.min.css set `[hidden] { display: none !important; }` so we also need the `!important` here to be able to override the default hidden behavior on the sphinx rendered scikit-learn.org. See: https://github.com/scikit-learn/scikit-learn/issues/21755 */display: inline-block !important;position: relative;}#sk-container-id-4 div.sk-text-repr-fallback {display: none;}</style><div id=\"sk-container-id-4\" class=\"sk-top-container\"><div class=\"sk-text-repr-fallback\"><pre>GridSearchCV(cv=KFold(n_splits=5, random_state=42, shuffle=True),\n",
       "             estimator=KNeighborsRegressor(), n_jobs=-1,\n",
       "             param_grid={&#x27;n_neighbors&#x27;: [1, 2, 3, 4, 5, 6, 7, 8, 9, 10, 11, 12,\n",
       "                                         13, 14, 15, 16, 17, 18, 19, 20, 21, 22,\n",
       "                                         23, 24, 25, 26, 27, 28, 29, 30]},\n",
       "             verbose=1)</pre><b>In a Jupyter environment, please rerun this cell to show the HTML representation or trust the notebook. <br />On GitHub, the HTML representation is unable to render, please try loading this page with nbviewer.org.</b></div><div class=\"sk-container\" hidden><div class=\"sk-item sk-dashed-wrapped\"><div class=\"sk-label-container\"><div class=\"sk-label sk-toggleable\"><input class=\"sk-toggleable__control sk-hidden--visually\" id=\"sk-estimator-id-10\" type=\"checkbox\" ><label for=\"sk-estimator-id-10\" class=\"sk-toggleable__label sk-toggleable__label-arrow\">GridSearchCV</label><div class=\"sk-toggleable__content\"><pre>GridSearchCV(cv=KFold(n_splits=5, random_state=42, shuffle=True),\n",
       "             estimator=KNeighborsRegressor(), n_jobs=-1,\n",
       "             param_grid={&#x27;n_neighbors&#x27;: [1, 2, 3, 4, 5, 6, 7, 8, 9, 10, 11, 12,\n",
       "                                         13, 14, 15, 16, 17, 18, 19, 20, 21, 22,\n",
       "                                         23, 24, 25, 26, 27, 28, 29, 30]},\n",
       "             verbose=1)</pre></div></div></div><div class=\"sk-parallel\"><div class=\"sk-parallel-item\"><div class=\"sk-item\"><div class=\"sk-label-container\"><div class=\"sk-label sk-toggleable\"><input class=\"sk-toggleable__control sk-hidden--visually\" id=\"sk-estimator-id-11\" type=\"checkbox\" ><label for=\"sk-estimator-id-11\" class=\"sk-toggleable__label sk-toggleable__label-arrow\">estimator: KNeighborsRegressor</label><div class=\"sk-toggleable__content\"><pre>KNeighborsRegressor()</pre></div></div></div><div class=\"sk-serial\"><div class=\"sk-item\"><div class=\"sk-estimator sk-toggleable\"><input class=\"sk-toggleable__control sk-hidden--visually\" id=\"sk-estimator-id-12\" type=\"checkbox\" ><label for=\"sk-estimator-id-12\" class=\"sk-toggleable__label sk-toggleable__label-arrow\">KNeighborsRegressor</label><div class=\"sk-toggleable__content\"><pre>KNeighborsRegressor()</pre></div></div></div></div></div></div></div></div></div></div>"
      ],
      "text/plain": [
       "GridSearchCV(cv=KFold(n_splits=5, random_state=42, shuffle=True),\n",
       "             estimator=KNeighborsRegressor(), n_jobs=-1,\n",
       "             param_grid={'n_neighbors': [1, 2, 3, 4, 5, 6, 7, 8, 9, 10, 11, 12,\n",
       "                                         13, 14, 15, 16, 17, 18, 19, 20, 21, 22,\n",
       "                                         23, 24, 25, 26, 27, 28, 29, 30]},\n",
       "             verbose=1)"
      ]
     },
     "execution_count": 148,
     "metadata": {},
     "output_type": "execute_result"
    }
   ],
   "source": [
    "m.fit(x_tr, y_tr)"
   ]
  },
  {
   "cell_type": "code",
   "execution_count": 149,
   "metadata": {},
   "outputs": [],
   "source": [
    "best_kNN = m.best_estimator_"
   ]
  },
  {
   "cell_type": "code",
   "execution_count": 150,
   "metadata": {},
   "outputs": [
    {
     "data": {
      "text/plain": [
       "{'n_neighbors': 4}"
      ]
     },
     "execution_count": 150,
     "metadata": {},
     "output_type": "execute_result"
    }
   ],
   "source": [
    "m.best_params_"
   ]
  },
  {
   "cell_type": "code",
   "execution_count": 151,
   "metadata": {},
   "outputs": [],
   "source": [
    "y_pred_ws_kNN = best_kNN.predict(x_tr)"
   ]
  },
  {
   "cell_type": "code",
   "execution_count": 152,
   "metadata": {},
   "outputs": [
    {
     "data": {
      "text/plain": [
       "0.66"
      ]
     },
     "execution_count": 152,
     "metadata": {},
     "output_type": "execute_result"
    }
   ],
   "source": [
    "R2_WS = round(r2_score(y_tr, y_pred_ws_kNN), 2)\n",
    "R2_WS"
   ]
  },
  {
   "cell_type": "code",
   "execution_count": 153,
   "metadata": {},
   "outputs": [
    {
     "data": {
      "text/plain": [
       "0.6"
      ]
     },
     "execution_count": 153,
     "metadata": {},
     "output_type": "execute_result"
    }
   ],
   "source": [
    "RMSE_WS=round(np.sqrt(mean_absolute_error(y_tr, y_pred_ws_kNN)), 2)\n",
    "RMSE_WS"
   ]
  },
  {
   "cell_type": "code",
   "execution_count": 154,
   "metadata": {},
   "outputs": [],
   "source": [
    "y_pred_CV_kNN = cross_val_predict(best_kNN, x_tr, y_tr, cv=cv)"
   ]
  },
  {
   "cell_type": "code",
   "execution_count": 155,
   "metadata": {},
   "outputs": [
    {
     "data": {
      "text/plain": [
       "array([1.4797826, 2.0088425, 1.4647951, ..., 4.469845 , 2.9031074,\n",
       "       2.578465 ], dtype=float32)"
      ]
     },
     "execution_count": 155,
     "metadata": {},
     "output_type": "execute_result"
    }
   ],
   "source": [
    "y_pred_CV_kNN"
   ]
  },
  {
   "cell_type": "code",
   "execution_count": 156,
   "metadata": {},
   "outputs": [
    {
     "data": {
      "text/plain": [
       "0.37"
      ]
     },
     "execution_count": 156,
     "metadata": {},
     "output_type": "execute_result"
    }
   ],
   "source": [
    "Q2_CV = round(r2_score(y_tr, y_pred_CV_kNN), 2)\n",
    "Q2_CV"
   ]
  },
  {
   "cell_type": "code",
   "execution_count": 157,
   "metadata": {},
   "outputs": [
    {
     "data": {
      "text/plain": [
       "0.7"
      ]
     },
     "execution_count": 157,
     "metadata": {},
     "output_type": "execute_result"
    }
   ],
   "source": [
    "RMSE_CV=round(np.sqrt(mean_absolute_error(y_tr, y_pred_CV_kNN)), 2)\n",
    "RMSE_CV"
   ]
  },
  {
   "cell_type": "markdown",
   "metadata": {},
   "source": [
    "# 9. Prediction for test set's molecules"
   ]
  },
  {
   "cell_type": "code",
   "execution_count": 158,
   "metadata": {},
   "outputs": [],
   "source": [
    "x_ts = np.array(x_ts, dtype=np.float32)\n",
    "y_ts = np.array(y_ts, dtype=np.float32)"
   ]
  },
  {
   "cell_type": "code",
   "execution_count": 159,
   "metadata": {},
   "outputs": [],
   "source": [
    "y_pred_kNN = best_kNN.predict(x_ts)"
   ]
  },
  {
   "cell_type": "code",
   "execution_count": 160,
   "metadata": {},
   "outputs": [
    {
     "data": {
      "text/plain": [
       "0.42"
      ]
     },
     "execution_count": 160,
     "metadata": {},
     "output_type": "execute_result"
    }
   ],
   "source": [
    "Q2_TS = round(r2_score(y_ts, y_pred_kNN), 2)\n",
    "Q2_TS"
   ]
  },
  {
   "cell_type": "code",
   "execution_count": 161,
   "metadata": {},
   "outputs": [
    {
     "data": {
      "text/plain": [
       "0.69"
      ]
     },
     "execution_count": 161,
     "metadata": {},
     "output_type": "execute_result"
    }
   ],
   "source": [
    "RMSE_TS=round(np.sqrt(mean_absolute_error(y_ts, y_pred_kNN)), 2)\n",
    "RMSE_TS"
   ]
  },
  {
   "cell_type": "markdown",
   "metadata": {},
   "source": [
    "# save the model to disk"
   ]
  },
  {
   "cell_type": "code",
   "execution_count": 163,
   "metadata": {},
   "outputs": [],
   "source": [
    "pickle.dump(best_kNN, open('models/MorganFingerprint/Toxicity_kNN_MF.pkl', 'wb'))"
   ]
  },
  {
   "cell_type": "markdown",
   "metadata": {},
   "source": [
    "# load the model from disk"
   ]
  },
  {
   "cell_type": "code",
   "execution_count": 164,
   "metadata": {},
   "outputs": [],
   "source": [
    "best_kNN = pickle.load(open('models/MorganFingerprint/Toxicity_kNN_MF.pkl', 'rb'))"
   ]
  },
  {
   "cell_type": "markdown",
   "metadata": {},
   "source": [
    "# 10. Y-randomization kNN"
   ]
  },
  {
   "cell_type": "code",
   "execution_count": 165,
   "metadata": {},
   "outputs": [
    {
     "name": "stderr",
     "output_type": "stream",
     "text": [
      "[Parallel(n_jobs=-1)]: Using backend LokyBackend with 16 concurrent workers.\n",
      "[Parallel(n_jobs=-1)]: Done  18 tasks      | elapsed:   24.8s\n"
     ]
    },
    {
     "name": "stdout",
     "output_type": "stream",
     "text": [
      "True score =  0.37 \n",
      "Y-randomization =  -0.25 \n",
      "p-value =  0.0196\n"
     ]
    },
    {
     "name": "stderr",
     "output_type": "stream",
     "text": [
      "[Parallel(n_jobs=-1)]: Done  50 out of  50 | elapsed:   42.5s finished\n"
     ]
    }
   ],
   "source": [
    "permutations = 50\n",
    "score, permutation_scores, pvalue = permutation_test_score(best_kNN, x_tr, y_tr,\n",
    "                                                           cv=cv, scoring='r2',\n",
    "                                                           n_permutations=permutations,\n",
    "                                                           n_jobs=-1,\n",
    "                                                           verbose=1,\n",
    "                                                           random_state=seed)\n",
    "print('True score = ', score.round(2),\n",
    "      '\\nY-randomization = ', np.mean(permutation_scores).round(2),\n",
    "      '\\np-value = ', pvalue.round(4))"
   ]
  },
  {
   "cell_type": "markdown",
   "metadata": {},
   "source": [
    "# 11. Estimating applicability domain. Method - Euclidian distances, K=1"
   ]
  },
  {
   "cell_type": "code",
   "execution_count": 166,
   "metadata": {},
   "outputs": [],
   "source": [
    "neighbors_k= pairwise_distances(x_tr, n_jobs=-1)\n",
    "neighbors_k.sort(0)"
   ]
  },
  {
   "cell_type": "code",
   "execution_count": 167,
   "metadata": {},
   "outputs": [
    {
     "data": {
      "text/html": [
       "<div>\n",
       "<style scoped>\n",
       "    .dataframe tbody tr th:only-of-type {\n",
       "        vertical-align: middle;\n",
       "    }\n",
       "\n",
       "    .dataframe tbody tr th {\n",
       "        vertical-align: top;\n",
       "    }\n",
       "\n",
       "    .dataframe thead th {\n",
       "        text-align: right;\n",
       "    }\n",
       "</style>\n",
       "<table border=\"1\" class=\"dataframe\">\n",
       "  <thead>\n",
       "    <tr style=\"text-align: right;\">\n",
       "      <th></th>\n",
       "      <th>0</th>\n",
       "      <th>1</th>\n",
       "      <th>2</th>\n",
       "      <th>3</th>\n",
       "      <th>4</th>\n",
       "      <th>5</th>\n",
       "      <th>6</th>\n",
       "      <th>7</th>\n",
       "      <th>8</th>\n",
       "      <th>9</th>\n",
       "      <th>...</th>\n",
       "      <th>7702</th>\n",
       "      <th>7703</th>\n",
       "      <th>7704</th>\n",
       "      <th>7705</th>\n",
       "      <th>7706</th>\n",
       "      <th>7707</th>\n",
       "      <th>7708</th>\n",
       "      <th>7709</th>\n",
       "      <th>7710</th>\n",
       "      <th>7711</th>\n",
       "    </tr>\n",
       "  </thead>\n",
       "  <tbody>\n",
       "    <tr>\n",
       "      <th>0</th>\n",
       "      <td>0.000000</td>\n",
       "      <td>0.000000</td>\n",
       "      <td>0.000000</td>\n",
       "      <td>0.000000</td>\n",
       "      <td>0.000000</td>\n",
       "      <td>0.000000</td>\n",
       "      <td>0.000000</td>\n",
       "      <td>0.000000</td>\n",
       "      <td>0.000000</td>\n",
       "      <td>0.000000</td>\n",
       "      <td>...</td>\n",
       "      <td>0.000000</td>\n",
       "      <td>0.000000</td>\n",
       "      <td>0.000000</td>\n",
       "      <td>0.000000</td>\n",
       "      <td>0.000000</td>\n",
       "      <td>0.000000</td>\n",
       "      <td>0.000000</td>\n",
       "      <td>0.000000</td>\n",
       "      <td>0.000000</td>\n",
       "      <td>0.000000</td>\n",
       "    </tr>\n",
       "    <tr>\n",
       "      <th>1</th>\n",
       "      <td>3.162278</td>\n",
       "      <td>4.000000</td>\n",
       "      <td>1.414214</td>\n",
       "      <td>3.741657</td>\n",
       "      <td>2.236068</td>\n",
       "      <td>3.464102</td>\n",
       "      <td>3.316625</td>\n",
       "      <td>6.000000</td>\n",
       "      <td>0.000000</td>\n",
       "      <td>2.000000</td>\n",
       "      <td>...</td>\n",
       "      <td>2.449490</td>\n",
       "      <td>3.316625</td>\n",
       "      <td>4.000000</td>\n",
       "      <td>4.795832</td>\n",
       "      <td>4.358899</td>\n",
       "      <td>2.645751</td>\n",
       "      <td>6.557438</td>\n",
       "      <td>3.316625</td>\n",
       "      <td>2.645751</td>\n",
       "      <td>5.567764</td>\n",
       "    </tr>\n",
       "    <tr>\n",
       "      <th>2</th>\n",
       "      <td>3.464102</td>\n",
       "      <td>4.690416</td>\n",
       "      <td>2.236068</td>\n",
       "      <td>3.872983</td>\n",
       "      <td>2.449490</td>\n",
       "      <td>3.464102</td>\n",
       "      <td>3.605551</td>\n",
       "      <td>6.082763</td>\n",
       "      <td>0.000000</td>\n",
       "      <td>2.449490</td>\n",
       "      <td>...</td>\n",
       "      <td>2.645751</td>\n",
       "      <td>3.464102</td>\n",
       "      <td>4.690416</td>\n",
       "      <td>5.099020</td>\n",
       "      <td>5.477226</td>\n",
       "      <td>4.472136</td>\n",
       "      <td>6.557438</td>\n",
       "      <td>4.242640</td>\n",
       "      <td>2.645751</td>\n",
       "      <td>5.916080</td>\n",
       "    </tr>\n",
       "    <tr>\n",
       "      <th>3</th>\n",
       "      <td>3.872983</td>\n",
       "      <td>4.795832</td>\n",
       "      <td>2.449490</td>\n",
       "      <td>3.872983</td>\n",
       "      <td>2.449490</td>\n",
       "      <td>3.464102</td>\n",
       "      <td>3.741657</td>\n",
       "      <td>6.082763</td>\n",
       "      <td>0.000000</td>\n",
       "      <td>2.449490</td>\n",
       "      <td>...</td>\n",
       "      <td>2.828427</td>\n",
       "      <td>4.000000</td>\n",
       "      <td>6.164414</td>\n",
       "      <td>6.164414</td>\n",
       "      <td>5.477226</td>\n",
       "      <td>5.099020</td>\n",
       "      <td>6.633250</td>\n",
       "      <td>5.099020</td>\n",
       "      <td>2.828427</td>\n",
       "      <td>6.244998</td>\n",
       "    </tr>\n",
       "    <tr>\n",
       "      <th>4</th>\n",
       "      <td>3.872983</td>\n",
       "      <td>5.099020</td>\n",
       "      <td>2.449490</td>\n",
       "      <td>4.000000</td>\n",
       "      <td>2.449490</td>\n",
       "      <td>3.464102</td>\n",
       "      <td>3.741657</td>\n",
       "      <td>6.082763</td>\n",
       "      <td>1.732051</td>\n",
       "      <td>2.645751</td>\n",
       "      <td>...</td>\n",
       "      <td>3.741657</td>\n",
       "      <td>4.242640</td>\n",
       "      <td>6.244998</td>\n",
       "      <td>6.782330</td>\n",
       "      <td>5.477226</td>\n",
       "      <td>5.099020</td>\n",
       "      <td>6.633250</td>\n",
       "      <td>7.416198</td>\n",
       "      <td>3.316625</td>\n",
       "      <td>6.324555</td>\n",
       "    </tr>\n",
       "    <tr>\n",
       "      <th>...</th>\n",
       "      <td>...</td>\n",
       "      <td>...</td>\n",
       "      <td>...</td>\n",
       "      <td>...</td>\n",
       "      <td>...</td>\n",
       "      <td>...</td>\n",
       "      <td>...</td>\n",
       "      <td>...</td>\n",
       "      <td>...</td>\n",
       "      <td>...</td>\n",
       "      <td>...</td>\n",
       "      <td>...</td>\n",
       "      <td>...</td>\n",
       "      <td>...</td>\n",
       "      <td>...</td>\n",
       "      <td>...</td>\n",
       "      <td>...</td>\n",
       "      <td>...</td>\n",
       "      <td>...</td>\n",
       "      <td>...</td>\n",
       "      <td>...</td>\n",
       "    </tr>\n",
       "    <tr>\n",
       "      <th>7707</th>\n",
       "      <td>10.630146</td>\n",
       "      <td>10.816654</td>\n",
       "      <td>10.583005</td>\n",
       "      <td>10.723805</td>\n",
       "      <td>10.246951</td>\n",
       "      <td>10.344080</td>\n",
       "      <td>10.677078</td>\n",
       "      <td>10.723805</td>\n",
       "      <td>10.677078</td>\n",
       "      <td>10.816654</td>\n",
       "      <td>...</td>\n",
       "      <td>10.954452</td>\n",
       "      <td>11.224972</td>\n",
       "      <td>11.224972</td>\n",
       "      <td>11.916375</td>\n",
       "      <td>11.357817</td>\n",
       "      <td>11.661903</td>\n",
       "      <td>11.224972</td>\n",
       "      <td>11.832160</td>\n",
       "      <td>10.677078</td>\n",
       "      <td>11.489125</td>\n",
       "    </tr>\n",
       "    <tr>\n",
       "      <th>7708</th>\n",
       "      <td>11.180340</td>\n",
       "      <td>11.045361</td>\n",
       "      <td>11.224972</td>\n",
       "      <td>11.445523</td>\n",
       "      <td>10.908712</td>\n",
       "      <td>11.090536</td>\n",
       "      <td>10.862781</td>\n",
       "      <td>11.224972</td>\n",
       "      <td>11.313708</td>\n",
       "      <td>11.357817</td>\n",
       "      <td>...</td>\n",
       "      <td>11.045361</td>\n",
       "      <td>11.747340</td>\n",
       "      <td>11.401754</td>\n",
       "      <td>12.206555</td>\n",
       "      <td>11.532562</td>\n",
       "      <td>11.958261</td>\n",
       "      <td>11.618950</td>\n",
       "      <td>12.247449</td>\n",
       "      <td>10.770329</td>\n",
       "      <td>11.832160</td>\n",
       "    </tr>\n",
       "    <tr>\n",
       "      <th>7709</th>\n",
       "      <td>11.704700</td>\n",
       "      <td>11.832160</td>\n",
       "      <td>11.747340</td>\n",
       "      <td>12.041595</td>\n",
       "      <td>11.357817</td>\n",
       "      <td>11.445523</td>\n",
       "      <td>11.401754</td>\n",
       "      <td>11.747340</td>\n",
       "      <td>11.747340</td>\n",
       "      <td>11.789826</td>\n",
       "      <td>...</td>\n",
       "      <td>12.000000</td>\n",
       "      <td>12.083046</td>\n",
       "      <td>11.832160</td>\n",
       "      <td>12.767145</td>\n",
       "      <td>12.124355</td>\n",
       "      <td>12.529964</td>\n",
       "      <td>12.206555</td>\n",
       "      <td>12.328828</td>\n",
       "      <td>11.747340</td>\n",
       "      <td>12.727922</td>\n",
       "    </tr>\n",
       "    <tr>\n",
       "      <th>7710</th>\n",
       "      <td>11.874342</td>\n",
       "      <td>11.916375</td>\n",
       "      <td>11.747340</td>\n",
       "      <td>12.124355</td>\n",
       "      <td>11.532562</td>\n",
       "      <td>11.532562</td>\n",
       "      <td>11.489125</td>\n",
       "      <td>11.916375</td>\n",
       "      <td>11.832160</td>\n",
       "      <td>11.958261</td>\n",
       "      <td>...</td>\n",
       "      <td>12.000000</td>\n",
       "      <td>12.165525</td>\n",
       "      <td>12.083046</td>\n",
       "      <td>13.000000</td>\n",
       "      <td>12.288206</td>\n",
       "      <td>12.688578</td>\n",
       "      <td>12.369317</td>\n",
       "      <td>12.569805</td>\n",
       "      <td>11.832160</td>\n",
       "      <td>12.884099</td>\n",
       "    </tr>\n",
       "    <tr>\n",
       "      <th>7711</th>\n",
       "      <td>11.874342</td>\n",
       "      <td>12.247449</td>\n",
       "      <td>11.916375</td>\n",
       "      <td>12.206555</td>\n",
       "      <td>11.618950</td>\n",
       "      <td>11.874342</td>\n",
       "      <td>12.000000</td>\n",
       "      <td>12.000000</td>\n",
       "      <td>12.083046</td>\n",
       "      <td>12.041595</td>\n",
       "      <td>...</td>\n",
       "      <td>12.165525</td>\n",
       "      <td>12.409674</td>\n",
       "      <td>12.409674</td>\n",
       "      <td>13.076696</td>\n",
       "      <td>12.288206</td>\n",
       "      <td>12.767145</td>\n",
       "      <td>12.688578</td>\n",
       "      <td>12.649111</td>\n",
       "      <td>11.832160</td>\n",
       "      <td>12.961481</td>\n",
       "    </tr>\n",
       "  </tbody>\n",
       "</table>\n",
       "<p>7712 rows × 7712 columns</p>\n",
       "</div>"
      ],
      "text/plain": [
       "           0          1          2          3          4          5     \\\n",
       "0      0.000000   0.000000   0.000000   0.000000   0.000000   0.000000   \n",
       "1      3.162278   4.000000   1.414214   3.741657   2.236068   3.464102   \n",
       "2      3.464102   4.690416   2.236068   3.872983   2.449490   3.464102   \n",
       "3      3.872983   4.795832   2.449490   3.872983   2.449490   3.464102   \n",
       "4      3.872983   5.099020   2.449490   4.000000   2.449490   3.464102   \n",
       "...         ...        ...        ...        ...        ...        ...   \n",
       "7707  10.630146  10.816654  10.583005  10.723805  10.246951  10.344080   \n",
       "7708  11.180340  11.045361  11.224972  11.445523  10.908712  11.090536   \n",
       "7709  11.704700  11.832160  11.747340  12.041595  11.357817  11.445523   \n",
       "7710  11.874342  11.916375  11.747340  12.124355  11.532562  11.532562   \n",
       "7711  11.874342  12.247449  11.916375  12.206555  11.618950  11.874342   \n",
       "\n",
       "           6          7          8          9     ...       7702       7703  \\\n",
       "0      0.000000   0.000000   0.000000   0.000000  ...   0.000000   0.000000   \n",
       "1      3.316625   6.000000   0.000000   2.000000  ...   2.449490   3.316625   \n",
       "2      3.605551   6.082763   0.000000   2.449490  ...   2.645751   3.464102   \n",
       "3      3.741657   6.082763   0.000000   2.449490  ...   2.828427   4.000000   \n",
       "4      3.741657   6.082763   1.732051   2.645751  ...   3.741657   4.242640   \n",
       "...         ...        ...        ...        ...  ...        ...        ...   \n",
       "7707  10.677078  10.723805  10.677078  10.816654  ...  10.954452  11.224972   \n",
       "7708  10.862781  11.224972  11.313708  11.357817  ...  11.045361  11.747340   \n",
       "7709  11.401754  11.747340  11.747340  11.789826  ...  12.000000  12.083046   \n",
       "7710  11.489125  11.916375  11.832160  11.958261  ...  12.000000  12.165525   \n",
       "7711  12.000000  12.000000  12.083046  12.041595  ...  12.165525  12.409674   \n",
       "\n",
       "           7704       7705       7706       7707       7708       7709  \\\n",
       "0      0.000000   0.000000   0.000000   0.000000   0.000000   0.000000   \n",
       "1      4.000000   4.795832   4.358899   2.645751   6.557438   3.316625   \n",
       "2      4.690416   5.099020   5.477226   4.472136   6.557438   4.242640   \n",
       "3      6.164414   6.164414   5.477226   5.099020   6.633250   5.099020   \n",
       "4      6.244998   6.782330   5.477226   5.099020   6.633250   7.416198   \n",
       "...         ...        ...        ...        ...        ...        ...   \n",
       "7707  11.224972  11.916375  11.357817  11.661903  11.224972  11.832160   \n",
       "7708  11.401754  12.206555  11.532562  11.958261  11.618950  12.247449   \n",
       "7709  11.832160  12.767145  12.124355  12.529964  12.206555  12.328828   \n",
       "7710  12.083046  13.000000  12.288206  12.688578  12.369317  12.569805   \n",
       "7711  12.409674  13.076696  12.288206  12.767145  12.688578  12.649111   \n",
       "\n",
       "           7710       7711  \n",
       "0      0.000000   0.000000  \n",
       "1      2.645751   5.567764  \n",
       "2      2.645751   5.916080  \n",
       "3      2.828427   6.244998  \n",
       "4      3.316625   6.324555  \n",
       "...         ...        ...  \n",
       "7707  10.677078  11.489125  \n",
       "7708  10.770329  11.832160  \n",
       "7709  11.747340  12.727922  \n",
       "7710  11.832160  12.884099  \n",
       "7711  11.832160  12.961481  \n",
       "\n",
       "[7712 rows x 7712 columns]"
      ]
     },
     "execution_count": 167,
     "metadata": {},
     "output_type": "execute_result"
    }
   ],
   "source": [
    "df_tr=pd.DataFrame(neighbors_k)\n",
    "df_tr"
   ]
  },
  {
   "cell_type": "code",
   "execution_count": 168,
   "metadata": {},
   "outputs": [],
   "source": [
    "similarity= neighbors_k"
   ]
  },
  {
   "cell_type": "code",
   "execution_count": 169,
   "metadata": {},
   "outputs": [],
   "source": [
    "Dmean=np.mean(similarity[1,:])"
   ]
  },
  {
   "cell_type": "code",
   "execution_count": 170,
   "metadata": {},
   "outputs": [
    {
     "data": {
      "text/plain": [
       "3.63"
      ]
     },
     "execution_count": 170,
     "metadata": {},
     "output_type": "execute_result"
    }
   ],
   "source": [
    "round(Dmean, 2)"
   ]
  },
  {
   "cell_type": "code",
   "execution_count": 171,
   "metadata": {},
   "outputs": [],
   "source": [
    "std=np.std(similarity[1,:])"
   ]
  },
  {
   "cell_type": "code",
   "execution_count": 172,
   "metadata": {},
   "outputs": [
    {
     "data": {
      "text/plain": [
       "1.23"
      ]
     },
     "execution_count": 172,
     "metadata": {},
     "output_type": "execute_result"
    }
   ],
   "source": [
    "round(std, 2)"
   ]
  },
  {
   "cell_type": "code",
   "execution_count": 173,
   "metadata": {},
   "outputs": [
    {
     "name": "stdout",
     "output_type": "stream",
     "text": [
      "4.25\n"
     ]
    }
   ],
   "source": [
    "model_AD_limit=Dmean+std*0.5\n",
    "print(np.round(model_AD_limit, 2))"
   ]
  },
  {
   "cell_type": "code",
   "execution_count": 174,
   "metadata": {},
   "outputs": [],
   "source": [
    "neighbors_k_ts= pairwise_distances(x_tr,Y=x_ts, n_jobs=-1)\n",
    "neighbors_k_ts.sort(0)"
   ]
  },
  {
   "cell_type": "code",
   "execution_count": 175,
   "metadata": {},
   "outputs": [
    {
     "data": {
      "text/html": [
       "<div>\n",
       "<style scoped>\n",
       "    .dataframe tbody tr th:only-of-type {\n",
       "        vertical-align: middle;\n",
       "    }\n",
       "\n",
       "    .dataframe tbody tr th {\n",
       "        vertical-align: top;\n",
       "    }\n",
       "\n",
       "    .dataframe thead th {\n",
       "        text-align: right;\n",
       "    }\n",
       "</style>\n",
       "<table border=\"1\" class=\"dataframe\">\n",
       "  <thead>\n",
       "    <tr style=\"text-align: right;\">\n",
       "      <th></th>\n",
       "      <th>0</th>\n",
       "      <th>1</th>\n",
       "      <th>2</th>\n",
       "      <th>3</th>\n",
       "      <th>4</th>\n",
       "      <th>5</th>\n",
       "      <th>6</th>\n",
       "      <th>7</th>\n",
       "      <th>8</th>\n",
       "      <th>9</th>\n",
       "      <th>...</th>\n",
       "      <th>1919</th>\n",
       "      <th>1920</th>\n",
       "      <th>1921</th>\n",
       "      <th>1922</th>\n",
       "      <th>1923</th>\n",
       "      <th>1924</th>\n",
       "      <th>1925</th>\n",
       "      <th>1926</th>\n",
       "      <th>1927</th>\n",
       "      <th>1928</th>\n",
       "    </tr>\n",
       "  </thead>\n",
       "  <tbody>\n",
       "    <tr>\n",
       "      <th>0</th>\n",
       "      <td>2.000000</td>\n",
       "      <td>3.464102</td>\n",
       "      <td>2.000000</td>\n",
       "      <td>1.414214</td>\n",
       "      <td>2.000000</td>\n",
       "      <td>2.645751</td>\n",
       "      <td>3.162278</td>\n",
       "      <td>0.000000</td>\n",
       "      <td>2.449490</td>\n",
       "      <td>4.358899</td>\n",
       "      <td>...</td>\n",
       "      <td>6.855655</td>\n",
       "      <td>4.690416</td>\n",
       "      <td>2.828427</td>\n",
       "      <td>3.741657</td>\n",
       "      <td>3.162278</td>\n",
       "      <td>4.898980</td>\n",
       "      <td>2.645751</td>\n",
       "      <td>4.123106</td>\n",
       "      <td>3.162278</td>\n",
       "      <td>7.071068</td>\n",
       "    </tr>\n",
       "    <tr>\n",
       "      <th>1</th>\n",
       "      <td>2.000000</td>\n",
       "      <td>3.464102</td>\n",
       "      <td>2.236068</td>\n",
       "      <td>1.732051</td>\n",
       "      <td>3.162278</td>\n",
       "      <td>2.828427</td>\n",
       "      <td>3.605551</td>\n",
       "      <td>2.449490</td>\n",
       "      <td>2.449490</td>\n",
       "      <td>4.690416</td>\n",
       "      <td>...</td>\n",
       "      <td>7.071068</td>\n",
       "      <td>6.000000</td>\n",
       "      <td>3.316625</td>\n",
       "      <td>3.872983</td>\n",
       "      <td>3.162278</td>\n",
       "      <td>5.916080</td>\n",
       "      <td>2.828427</td>\n",
       "      <td>4.358899</td>\n",
       "      <td>3.605551</td>\n",
       "      <td>7.280110</td>\n",
       "    </tr>\n",
       "    <tr>\n",
       "      <th>2</th>\n",
       "      <td>2.000000</td>\n",
       "      <td>3.605551</td>\n",
       "      <td>2.236068</td>\n",
       "      <td>1.732051</td>\n",
       "      <td>3.162278</td>\n",
       "      <td>2.828427</td>\n",
       "      <td>3.872983</td>\n",
       "      <td>2.449490</td>\n",
       "      <td>2.449490</td>\n",
       "      <td>4.795832</td>\n",
       "      <td>...</td>\n",
       "      <td>7.280110</td>\n",
       "      <td>6.782330</td>\n",
       "      <td>3.316625</td>\n",
       "      <td>4.795832</td>\n",
       "      <td>3.162278</td>\n",
       "      <td>6.082763</td>\n",
       "      <td>2.828427</td>\n",
       "      <td>4.582576</td>\n",
       "      <td>3.741657</td>\n",
       "      <td>7.348469</td>\n",
       "    </tr>\n",
       "    <tr>\n",
       "      <th>3</th>\n",
       "      <td>2.000000</td>\n",
       "      <td>3.872983</td>\n",
       "      <td>2.645751</td>\n",
       "      <td>2.000000</td>\n",
       "      <td>3.464102</td>\n",
       "      <td>2.828427</td>\n",
       "      <td>4.000000</td>\n",
       "      <td>2.449490</td>\n",
       "      <td>2.449490</td>\n",
       "      <td>5.196152</td>\n",
       "      <td>...</td>\n",
       "      <td>7.280110</td>\n",
       "      <td>6.855655</td>\n",
       "      <td>3.464102</td>\n",
       "      <td>4.795832</td>\n",
       "      <td>3.316625</td>\n",
       "      <td>6.082763</td>\n",
       "      <td>2.828427</td>\n",
       "      <td>4.690416</td>\n",
       "      <td>3.741657</td>\n",
       "      <td>7.348469</td>\n",
       "    </tr>\n",
       "    <tr>\n",
       "      <th>4</th>\n",
       "      <td>2.000000</td>\n",
       "      <td>4.000000</td>\n",
       "      <td>2.828427</td>\n",
       "      <td>2.236068</td>\n",
       "      <td>3.605551</td>\n",
       "      <td>2.828427</td>\n",
       "      <td>4.242640</td>\n",
       "      <td>2.449490</td>\n",
       "      <td>2.645751</td>\n",
       "      <td>5.196152</td>\n",
       "      <td>...</td>\n",
       "      <td>7.416198</td>\n",
       "      <td>6.855655</td>\n",
       "      <td>3.605551</td>\n",
       "      <td>4.898980</td>\n",
       "      <td>3.605551</td>\n",
       "      <td>6.480741</td>\n",
       "      <td>3.000000</td>\n",
       "      <td>4.690416</td>\n",
       "      <td>3.872983</td>\n",
       "      <td>7.416198</td>\n",
       "    </tr>\n",
       "    <tr>\n",
       "      <th>...</th>\n",
       "      <td>...</td>\n",
       "      <td>...</td>\n",
       "      <td>...</td>\n",
       "      <td>...</td>\n",
       "      <td>...</td>\n",
       "      <td>...</td>\n",
       "      <td>...</td>\n",
       "      <td>...</td>\n",
       "      <td>...</td>\n",
       "      <td>...</td>\n",
       "      <td>...</td>\n",
       "      <td>...</td>\n",
       "      <td>...</td>\n",
       "      <td>...</td>\n",
       "      <td>...</td>\n",
       "      <td>...</td>\n",
       "      <td>...</td>\n",
       "      <td>...</td>\n",
       "      <td>...</td>\n",
       "      <td>...</td>\n",
       "      <td>...</td>\n",
       "    </tr>\n",
       "    <tr>\n",
       "      <th>7707</th>\n",
       "      <td>10.583005</td>\n",
       "      <td>10.583005</td>\n",
       "      <td>10.295630</td>\n",
       "      <td>10.770329</td>\n",
       "      <td>10.246951</td>\n",
       "      <td>10.344080</td>\n",
       "      <td>11.000000</td>\n",
       "      <td>10.488089</td>\n",
       "      <td>10.535654</td>\n",
       "      <td>10.954452</td>\n",
       "      <td>...</td>\n",
       "      <td>11.789826</td>\n",
       "      <td>11.618950</td>\n",
       "      <td>11.401754</td>\n",
       "      <td>11.180340</td>\n",
       "      <td>11.269427</td>\n",
       "      <td>11.789826</td>\n",
       "      <td>11.357817</td>\n",
       "      <td>11.224972</td>\n",
       "      <td>10.770329</td>\n",
       "      <td>11.489125</td>\n",
       "    </tr>\n",
       "    <tr>\n",
       "      <th>7708</th>\n",
       "      <td>11.135529</td>\n",
       "      <td>11.135529</td>\n",
       "      <td>10.954452</td>\n",
       "      <td>11.313708</td>\n",
       "      <td>11.045361</td>\n",
       "      <td>11.000000</td>\n",
       "      <td>11.618950</td>\n",
       "      <td>11.135529</td>\n",
       "      <td>11.000000</td>\n",
       "      <td>11.224972</td>\n",
       "      <td>...</td>\n",
       "      <td>12.124355</td>\n",
       "      <td>12.124355</td>\n",
       "      <td>11.661903</td>\n",
       "      <td>11.445523</td>\n",
       "      <td>11.618950</td>\n",
       "      <td>11.874342</td>\n",
       "      <td>11.704700</td>\n",
       "      <td>11.661903</td>\n",
       "      <td>10.954452</td>\n",
       "      <td>12.083046</td>\n",
       "    </tr>\n",
       "    <tr>\n",
       "      <th>7709</th>\n",
       "      <td>11.575837</td>\n",
       "      <td>11.661903</td>\n",
       "      <td>11.575837</td>\n",
       "      <td>11.832160</td>\n",
       "      <td>11.575837</td>\n",
       "      <td>11.532562</td>\n",
       "      <td>11.704700</td>\n",
       "      <td>11.661903</td>\n",
       "      <td>11.618950</td>\n",
       "      <td>11.747340</td>\n",
       "      <td>...</td>\n",
       "      <td>12.449900</td>\n",
       "      <td>12.609520</td>\n",
       "      <td>12.165525</td>\n",
       "      <td>12.124355</td>\n",
       "      <td>11.958261</td>\n",
       "      <td>12.206555</td>\n",
       "      <td>12.124355</td>\n",
       "      <td>12.083046</td>\n",
       "      <td>11.832160</td>\n",
       "      <td>12.165525</td>\n",
       "    </tr>\n",
       "    <tr>\n",
       "      <th>7710</th>\n",
       "      <td>11.661903</td>\n",
       "      <td>11.661903</td>\n",
       "      <td>11.575837</td>\n",
       "      <td>11.916375</td>\n",
       "      <td>11.661903</td>\n",
       "      <td>11.532562</td>\n",
       "      <td>11.789826</td>\n",
       "      <td>11.661903</td>\n",
       "      <td>11.704700</td>\n",
       "      <td>12.000000</td>\n",
       "      <td>...</td>\n",
       "      <td>12.845233</td>\n",
       "      <td>12.688578</td>\n",
       "      <td>12.247449</td>\n",
       "      <td>12.124355</td>\n",
       "      <td>12.041595</td>\n",
       "      <td>12.369317</td>\n",
       "      <td>12.206555</td>\n",
       "      <td>12.247449</td>\n",
       "      <td>11.832160</td>\n",
       "      <td>12.247449</td>\n",
       "    </tr>\n",
       "    <tr>\n",
       "      <th>7711</th>\n",
       "      <td>11.661903</td>\n",
       "      <td>12.000000</td>\n",
       "      <td>11.661903</td>\n",
       "      <td>12.000000</td>\n",
       "      <td>11.832160</td>\n",
       "      <td>11.789826</td>\n",
       "      <td>12.041595</td>\n",
       "      <td>11.747340</td>\n",
       "      <td>11.874342</td>\n",
       "      <td>12.083046</td>\n",
       "      <td>...</td>\n",
       "      <td>12.922848</td>\n",
       "      <td>12.688578</td>\n",
       "      <td>12.328828</td>\n",
       "      <td>12.288206</td>\n",
       "      <td>12.288206</td>\n",
       "      <td>12.449900</td>\n",
       "      <td>12.288206</td>\n",
       "      <td>12.247449</td>\n",
       "      <td>11.916375</td>\n",
       "      <td>12.489996</td>\n",
       "    </tr>\n",
       "  </tbody>\n",
       "</table>\n",
       "<p>7712 rows × 1929 columns</p>\n",
       "</div>"
      ],
      "text/plain": [
       "           0          1          2          3          4          5     \\\n",
       "0      2.000000   3.464102   2.000000   1.414214   2.000000   2.645751   \n",
       "1      2.000000   3.464102   2.236068   1.732051   3.162278   2.828427   \n",
       "2      2.000000   3.605551   2.236068   1.732051   3.162278   2.828427   \n",
       "3      2.000000   3.872983   2.645751   2.000000   3.464102   2.828427   \n",
       "4      2.000000   4.000000   2.828427   2.236068   3.605551   2.828427   \n",
       "...         ...        ...        ...        ...        ...        ...   \n",
       "7707  10.583005  10.583005  10.295630  10.770329  10.246951  10.344080   \n",
       "7708  11.135529  11.135529  10.954452  11.313708  11.045361  11.000000   \n",
       "7709  11.575837  11.661903  11.575837  11.832160  11.575837  11.532562   \n",
       "7710  11.661903  11.661903  11.575837  11.916375  11.661903  11.532562   \n",
       "7711  11.661903  12.000000  11.661903  12.000000  11.832160  11.789826   \n",
       "\n",
       "           6          7          8          9     ...       1919       1920  \\\n",
       "0      3.162278   0.000000   2.449490   4.358899  ...   6.855655   4.690416   \n",
       "1      3.605551   2.449490   2.449490   4.690416  ...   7.071068   6.000000   \n",
       "2      3.872983   2.449490   2.449490   4.795832  ...   7.280110   6.782330   \n",
       "3      4.000000   2.449490   2.449490   5.196152  ...   7.280110   6.855655   \n",
       "4      4.242640   2.449490   2.645751   5.196152  ...   7.416198   6.855655   \n",
       "...         ...        ...        ...        ...  ...        ...        ...   \n",
       "7707  11.000000  10.488089  10.535654  10.954452  ...  11.789826  11.618950   \n",
       "7708  11.618950  11.135529  11.000000  11.224972  ...  12.124355  12.124355   \n",
       "7709  11.704700  11.661903  11.618950  11.747340  ...  12.449900  12.609520   \n",
       "7710  11.789826  11.661903  11.704700  12.000000  ...  12.845233  12.688578   \n",
       "7711  12.041595  11.747340  11.874342  12.083046  ...  12.922848  12.688578   \n",
       "\n",
       "           1921       1922       1923       1924       1925       1926  \\\n",
       "0      2.828427   3.741657   3.162278   4.898980   2.645751   4.123106   \n",
       "1      3.316625   3.872983   3.162278   5.916080   2.828427   4.358899   \n",
       "2      3.316625   4.795832   3.162278   6.082763   2.828427   4.582576   \n",
       "3      3.464102   4.795832   3.316625   6.082763   2.828427   4.690416   \n",
       "4      3.605551   4.898980   3.605551   6.480741   3.000000   4.690416   \n",
       "...         ...        ...        ...        ...        ...        ...   \n",
       "7707  11.401754  11.180340  11.269427  11.789826  11.357817  11.224972   \n",
       "7708  11.661903  11.445523  11.618950  11.874342  11.704700  11.661903   \n",
       "7709  12.165525  12.124355  11.958261  12.206555  12.124355  12.083046   \n",
       "7710  12.247449  12.124355  12.041595  12.369317  12.206555  12.247449   \n",
       "7711  12.328828  12.288206  12.288206  12.449900  12.288206  12.247449   \n",
       "\n",
       "           1927       1928  \n",
       "0      3.162278   7.071068  \n",
       "1      3.605551   7.280110  \n",
       "2      3.741657   7.348469  \n",
       "3      3.741657   7.348469  \n",
       "4      3.872983   7.416198  \n",
       "...         ...        ...  \n",
       "7707  10.770329  11.489125  \n",
       "7708  10.954452  12.083046  \n",
       "7709  11.832160  12.165525  \n",
       "7710  11.832160  12.247449  \n",
       "7711  11.916375  12.489996  \n",
       "\n",
       "[7712 rows x 1929 columns]"
      ]
     },
     "execution_count": 175,
     "metadata": {},
     "output_type": "execute_result"
    }
   ],
   "source": [
    "x_ts_AD=pd.DataFrame(neighbors_k_ts)\n",
    "x_ts_AD"
   ]
  },
  {
   "cell_type": "code",
   "execution_count": 176,
   "metadata": {},
   "outputs": [
    {
     "name": "stdout",
     "output_type": "stream",
     "text": [
      "[2.    3.464 2.    ... 4.123 3.162 7.071]\n"
     ]
    }
   ],
   "source": [
    "similarity_ts= neighbors_k_ts\n",
    "cpd_AD=similarity_ts[0,:]\n",
    "cpd_value = np.round(cpd_AD, 3)\n",
    "print(cpd_value)"
   ]
  },
  {
   "cell_type": "code",
   "execution_count": 177,
   "metadata": {},
   "outputs": [
    {
     "name": "stdout",
     "output_type": "stream",
     "text": [
      "[ True  True  True ...  True  True False]\n"
     ]
    }
   ],
   "source": [
    "cpd_AD = np.where(cpd_value <= model_AD_limit, True, False)\n",
    "print(cpd_AD)"
   ]
  },
  {
   "cell_type": "code",
   "execution_count": 178,
   "metadata": {},
   "outputs": [
    {
     "name": "stdout",
     "output_type": "stream",
     "text": [
      "Coverage =  0.74\n"
     ]
    }
   ],
   "source": [
    "print(\"Coverage = \", round(sum(cpd_AD) / len(cpd_AD), 2))"
   ]
  },
  {
   "cell_type": "code",
   "execution_count": 179,
   "metadata": {},
   "outputs": [
    {
     "name": "stdout",
     "output_type": "stream",
     "text": [
      "Indices of substances included in AD =  [   0    1    2 ... 1925 1926 1927]\n"
     ]
    }
   ],
   "source": [
    "print(\"Indices of substances included in AD = \", np.where(cpd_AD != 0)[0])"
   ]
  },
  {
   "cell_type": "code",
   "execution_count": 180,
   "metadata": {},
   "outputs": [],
   "source": [
    "out_Ad=list(np.where(cpd_AD == 0)[0])"
   ]
  },
  {
   "cell_type": "markdown",
   "metadata": {},
   "source": [
    "# 12. Prediction only for molecules included in  AD"
   ]
  },
  {
   "cell_type": "code",
   "execution_count": 181,
   "metadata": {},
   "outputs": [],
   "source": [
    "y_pred_kNN_ad=list(y_pred_kNN)"
   ]
  },
  {
   "cell_type": "code",
   "execution_count": 182,
   "metadata": {},
   "outputs": [],
   "source": [
    "y_pred_kNN_ad[:] = [x for i,x in enumerate(y_pred_kNN_ad) if i not in out_Ad]"
   ]
  },
  {
   "cell_type": "code",
   "execution_count": 183,
   "metadata": {},
   "outputs": [
    {
     "data": {
      "text/plain": [
       "1429"
      ]
     },
     "execution_count": 183,
     "metadata": {},
     "output_type": "execute_result"
    }
   ],
   "source": [
    "len(y_pred_kNN_ad)"
   ]
  },
  {
   "cell_type": "code",
   "execution_count": 184,
   "metadata": {},
   "outputs": [],
   "source": [
    "y_ts_ad=list(y_ts)"
   ]
  },
  {
   "cell_type": "code",
   "execution_count": 185,
   "metadata": {},
   "outputs": [],
   "source": [
    "y_ts_ad[:] = [x for i,x in enumerate(y_ts_ad) if i not in out_Ad]"
   ]
  },
  {
   "cell_type": "code",
   "execution_count": 186,
   "metadata": {},
   "outputs": [
    {
     "data": {
      "text/plain": [
       "1429"
      ]
     },
     "execution_count": 186,
     "metadata": {},
     "output_type": "execute_result"
    }
   ],
   "source": [
    "len(y_ts_ad)"
   ]
  },
  {
   "cell_type": "code",
   "execution_count": 187,
   "metadata": {},
   "outputs": [
    {
     "data": {
      "text/plain": [
       "0.55"
      ]
     },
     "execution_count": 187,
     "metadata": {},
     "output_type": "execute_result"
    }
   ],
   "source": [
    "Q2_TS = round(r2_score(y_ts_ad, y_pred_kNN_ad), 2)\n",
    "Q2_TS"
   ]
  },
  {
   "cell_type": "code",
   "execution_count": 188,
   "metadata": {
    "scrolled": true
   },
   "outputs": [
    {
     "data": {
      "text/plain": [
       "0.66"
      ]
     },
     "execution_count": 188,
     "metadata": {},
     "output_type": "execute_result"
    }
   ],
   "source": [
    "RMSE_TS=round(np.sqrt(mean_absolute_error(y_ts_ad, y_pred_kNN_ad)), 2)\n",
    "RMSE_TS"
   ]
  },
  {
   "cell_type": "code",
   "execution_count": null,
   "metadata": {},
   "outputs": [],
   "source": []
  }
 ],
 "metadata": {
  "kernelspec": {
   "display_name": "Python3 (rdkit)",
   "language": "python",
   "name": "my-rdkit-env"
  },
  "language_info": {
   "codemirror_mode": {
    "name": "ipython",
    "version": 3
   },
   "file_extension": ".py",
   "mimetype": "text/x-python",
   "name": "python",
   "nbconvert_exporter": "python",
   "pygments_lexer": "ipython3",
   "version": "3.10.12"
  },
  "toc": {
   "base_numbering": 1,
   "nav_menu": {},
   "number_sections": true,
   "sideBar": true,
   "skip_h1_title": false,
   "title_cell": "Table of Contents",
   "title_sidebar": "Contents",
   "toc_cell": false,
   "toc_position": {
    "height": "calc(100% - 180px)",
    "left": "10px",
    "top": "150px",
    "width": "384px"
   },
   "toc_section_display": true,
   "toc_window_display": true
  },
  "widgets": {
   "application/vnd.jupyter.widget-state+json": {
    "state": {},
    "version_major": 2,
    "version_minor": 0
   }
  }
 },
 "nbformat": 4,
 "nbformat_minor": 4
}
