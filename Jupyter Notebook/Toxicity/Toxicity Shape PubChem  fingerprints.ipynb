{
 "cells": [
  {
   "cell_type": "markdown",
   "metadata": {},
   "source": [
    "# 1. Importing modules and functions"
   ]
  },
  {
   "cell_type": "code",
   "execution_count": 25,
   "metadata": {},
   "outputs": [],
   "source": [
    "from rdkit import Chem, DataStructs\n",
    "from rdkit.Chem import AllChem, Descriptors\n",
    "from rdkit.ML.Descriptors import MoleculeDescriptors\n",
    "from molvs import standardize_smiles\n",
    "from copy import deepcopy\n",
    "import numpy as np\n",
    "import pandas as pd\n",
    "from sklearn.svm import SVC\n",
    "from sklearn.model_selection import KFold, GridSearchCV\n",
    "from sklearn.metrics import mean_absolute_error\n",
    "from sklearn.metrics import r2_score\n",
    "from sklearn.ensemble import GradientBoostingRegressor\n",
    "from sklearn.svm import SVR\n",
    "from sklearn.model_selection import permutation_test_score\n",
    "from sklearn.preprocessing import StandardScaler\n",
    "from sklearn.model_selection import cross_val_predict\n",
    "from sklearn import metrics\n",
    "from sklearn.metrics import pairwise_distances\n",
    "import joblib\n",
    "import pickle\n",
    "from numpy import savetxt\n",
    "from padelpy import from_sdf\n",
    "import shap\n",
    "from tqdm.notebook import tqdm"
   ]
  },
  {
   "cell_type": "code",
   "execution_count": null,
   "metadata": {},
   "outputs": [],
   "source": []
  },
  {
   "cell_type": "code",
   "execution_count": 26,
   "metadata": {},
   "outputs": [],
   "source": [
    "def convert_smi_to_canon_smi(smi):\n",
    "    \n",
    "    try:\n",
    "        canon_smi = Chem.MolToSmiles(Chem.MolFromSmiles(smi),isomericSmiles = False)\n",
    "    except:\n",
    "        canon_smi='wrong_smiles'\n",
    "    return canon_smi"
   ]
  },
  {
   "cell_type": "code",
   "execution_count": 27,
   "metadata": {},
   "outputs": [],
   "source": [
    "def standart(smi):\n",
    "    global m\n",
    "    if smi!='wrong_smiles':\n",
    "        try:\n",
    "            smiles=standardize_smiles(smi)\n",
    "            m = Chem.MolFromSmiles(smi)\n",
    "        except:\n",
    "            smi='error kekule'\n",
    "    else:\n",
    "        m = 'check the smiles'\n",
    "    return m"
   ]
  },
  {
   "cell_type": "markdown",
   "metadata": {},
   "source": [
    "## Load data and curation work set"
   ]
  },
  {
   "cell_type": "code",
   "execution_count": 28,
   "metadata": {},
   "outputs": [
    {
     "data": {
      "text/html": [
       "<div>\n",
       "<style scoped>\n",
       "    .dataframe tbody tr th:only-of-type {\n",
       "        vertical-align: middle;\n",
       "    }\n",
       "\n",
       "    .dataframe tbody tr th {\n",
       "        vertical-align: top;\n",
       "    }\n",
       "\n",
       "    .dataframe thead th {\n",
       "        text-align: right;\n",
       "    }\n",
       "</style>\n",
       "<table border=\"1\" class=\"dataframe\">\n",
       "  <thead>\n",
       "    <tr style=\"text-align: right;\">\n",
       "      <th></th>\n",
       "      <th>CAS_Number</th>\n",
       "      <th>SMILES</th>\n",
       "      <th>pLD50</th>\n",
       "      <th>LD50,mg/kg</th>\n",
       "    </tr>\n",
       "  </thead>\n",
       "  <tbody>\n",
       "    <tr>\n",
       "      <th>0</th>\n",
       "      <td>626-48-2</td>\n",
       "      <td>Cc1cc(=O)[nH]c(=O)[nH]1</td>\n",
       "      <td>0.291207</td>\n",
       "      <td>64463.0000</td>\n",
       "    </tr>\n",
       "    <tr>\n",
       "      <th>1</th>\n",
       "      <td>27849-94-1</td>\n",
       "      <td>CC(CCc1ccc2c(c1)OCO2)NN</td>\n",
       "      <td>0.440660</td>\n",
       "      <td>75449.0000</td>\n",
       "    </tr>\n",
       "    <tr>\n",
       "      <th>2</th>\n",
       "      <td>110-54-3</td>\n",
       "      <td>CCCCCC</td>\n",
       "      <td>0.537460</td>\n",
       "      <td>24980.0000</td>\n",
       "    </tr>\n",
       "    <tr>\n",
       "      <th>3</th>\n",
       "      <td>1330-92-3</td>\n",
       "      <td>CCCCC(CC)COC(=O)C1=C(C(=O)OCC(CC)CCCC)CCCC1</td>\n",
       "      <td>0.539250</td>\n",
       "      <td>113917.0000</td>\n",
       "    </tr>\n",
       "    <tr>\n",
       "      <th>4</th>\n",
       "      <td>57-55-6</td>\n",
       "      <td>CC(O)CO</td>\n",
       "      <td>0.580330</td>\n",
       "      <td>19989.0000</td>\n",
       "    </tr>\n",
       "    <tr>\n",
       "      <th>...</th>\n",
       "      <td>...</td>\n",
       "      <td>...</td>\n",
       "      <td>...</td>\n",
       "      <td>...</td>\n",
       "    </tr>\n",
       "    <tr>\n",
       "      <th>7707</th>\n",
       "      <td>56073-10-0</td>\n",
       "      <td>O=c1oc2ccccc2c(O)c1C1CC(c2ccc(-c3ccc(Br)cc3)cc...</td>\n",
       "      <td>6.514700</td>\n",
       "      <td>0.1596</td>\n",
       "    </tr>\n",
       "    <tr>\n",
       "      <th>7708</th>\n",
       "      <td>130209-82-4</td>\n",
       "      <td>CC(C)OC(=O)CCC/C=C/CC1C(O)CC(O)C1CCC(O)CCc1ccccc1</td>\n",
       "      <td>6.937100</td>\n",
       "      <td>0.0500</td>\n",
       "    </tr>\n",
       "    <tr>\n",
       "      <th>7709</th>\n",
       "      <td>83805-11-2</td>\n",
       "      <td>C=C1/C(=C\\C=C2/CCCC3(C)C2CCC3C(C)CCCC(O)(C(F)(...</td>\n",
       "      <td>7.099700</td>\n",
       "      <td>0.0417</td>\n",
       "    </tr>\n",
       "    <tr>\n",
       "      <th>7710</th>\n",
       "      <td>1746-01-6</td>\n",
       "      <td>Clc1cc2c(cc1Cl)Oc1cc(Cl)c(Cl)cc1O2</td>\n",
       "      <td>7.206800</td>\n",
       "      <td>0.0199</td>\n",
       "    </tr>\n",
       "    <tr>\n",
       "      <th>7711</th>\n",
       "      <td>316-42-7</td>\n",
       "      <td>CCC1CN2CCc3cc(OC)c(OC)cc3C2CC1CC1NCCc2cc(OC)c(...</td>\n",
       "      <td>7.602600</td>\n",
       "      <td>0.0120</td>\n",
       "    </tr>\n",
       "  </tbody>\n",
       "</table>\n",
       "<p>7712 rows × 4 columns</p>\n",
       "</div>"
      ],
      "text/plain": [
       "       CAS_Number                                             SMILES  \\\n",
       "0        626-48-2                            Cc1cc(=O)[nH]c(=O)[nH]1   \n",
       "1      27849-94-1                            CC(CCc1ccc2c(c1)OCO2)NN   \n",
       "2        110-54-3                                             CCCCCC   \n",
       "3       1330-92-3        CCCCC(CC)COC(=O)C1=C(C(=O)OCC(CC)CCCC)CCCC1   \n",
       "4         57-55-6                                            CC(O)CO   \n",
       "...           ...                                                ...   \n",
       "7707   56073-10-0  O=c1oc2ccccc2c(O)c1C1CC(c2ccc(-c3ccc(Br)cc3)cc...   \n",
       "7708  130209-82-4  CC(C)OC(=O)CCC/C=C/CC1C(O)CC(O)C1CCC(O)CCc1ccccc1   \n",
       "7709   83805-11-2  C=C1/C(=C\\C=C2/CCCC3(C)C2CCC3C(C)CCCC(O)(C(F)(...   \n",
       "7710    1746-01-6                 Clc1cc2c(cc1Cl)Oc1cc(Cl)c(Cl)cc1O2   \n",
       "7711     316-42-7  CCC1CN2CCc3cc(OC)c(OC)cc3C2CC1CC1NCCc2cc(OC)c(...   \n",
       "\n",
       "         pLD50   LD50,mg/kg  \n",
       "0     0.291207   64463.0000  \n",
       "1     0.440660   75449.0000  \n",
       "2     0.537460   24980.0000  \n",
       "3     0.539250  113917.0000  \n",
       "4     0.580330   19989.0000  \n",
       "...        ...          ...  \n",
       "7707  6.514700       0.1596  \n",
       "7708  6.937100       0.0500  \n",
       "7709  7.099700       0.0417  \n",
       "7710  7.206800       0.0199  \n",
       "7711  7.602600       0.0120  \n",
       "\n",
       "[7712 rows x 4 columns]"
      ]
     },
     "execution_count": 28,
     "metadata": {},
     "output_type": "execute_result"
    }
   ],
   "source": [
    "# Set file path\n",
    "df_ws=pd.read_csv('rat_oral_LD50_WS.csv')\n",
    "df_ws"
   ]
  },
  {
   "cell_type": "markdown",
   "metadata": {},
   "source": [
    " Convert a SMILES string to canonical SMILES"
   ]
  },
  {
   "cell_type": "code",
   "execution_count": 29,
   "metadata": {},
   "outputs": [
    {
     "data": {
      "text/html": [
       "<div>\n",
       "<style scoped>\n",
       "    .dataframe tbody tr th:only-of-type {\n",
       "        vertical-align: middle;\n",
       "    }\n",
       "\n",
       "    .dataframe tbody tr th {\n",
       "        vertical-align: top;\n",
       "    }\n",
       "\n",
       "    .dataframe thead th {\n",
       "        text-align: right;\n",
       "    }\n",
       "</style>\n",
       "<table border=\"1\" class=\"dataframe\">\n",
       "  <thead>\n",
       "    <tr style=\"text-align: right;\">\n",
       "      <th></th>\n",
       "      <th>CAS_Number</th>\n",
       "      <th>SMILES</th>\n",
       "      <th>pLD50</th>\n",
       "      <th>LD50,mg/kg</th>\n",
       "    </tr>\n",
       "  </thead>\n",
       "  <tbody>\n",
       "    <tr>\n",
       "      <th>0</th>\n",
       "      <td>626-48-2</td>\n",
       "      <td>Cc1cc(=O)[nH]c(=O)[nH]1</td>\n",
       "      <td>0.291207</td>\n",
       "      <td>64463.0000</td>\n",
       "    </tr>\n",
       "    <tr>\n",
       "      <th>1</th>\n",
       "      <td>27849-94-1</td>\n",
       "      <td>CC(CCc1ccc2c(c1)OCO2)NN</td>\n",
       "      <td>0.440660</td>\n",
       "      <td>75449.0000</td>\n",
       "    </tr>\n",
       "    <tr>\n",
       "      <th>2</th>\n",
       "      <td>110-54-3</td>\n",
       "      <td>CCCCCC</td>\n",
       "      <td>0.537460</td>\n",
       "      <td>24980.0000</td>\n",
       "    </tr>\n",
       "    <tr>\n",
       "      <th>3</th>\n",
       "      <td>1330-92-3</td>\n",
       "      <td>CCCCC(CC)COC(=O)C1=C(C(=O)OCC(CC)CCCC)CCCC1</td>\n",
       "      <td>0.539250</td>\n",
       "      <td>113917.0000</td>\n",
       "    </tr>\n",
       "    <tr>\n",
       "      <th>4</th>\n",
       "      <td>57-55-6</td>\n",
       "      <td>CC(O)CO</td>\n",
       "      <td>0.580330</td>\n",
       "      <td>19989.0000</td>\n",
       "    </tr>\n",
       "    <tr>\n",
       "      <th>...</th>\n",
       "      <td>...</td>\n",
       "      <td>...</td>\n",
       "      <td>...</td>\n",
       "      <td>...</td>\n",
       "    </tr>\n",
       "    <tr>\n",
       "      <th>7707</th>\n",
       "      <td>56073-10-0</td>\n",
       "      <td>O=c1oc2ccccc2c(O)c1C1CC(c2ccc(-c3ccc(Br)cc3)cc...</td>\n",
       "      <td>6.514700</td>\n",
       "      <td>0.1596</td>\n",
       "    </tr>\n",
       "    <tr>\n",
       "      <th>7708</th>\n",
       "      <td>130209-82-4</td>\n",
       "      <td>CC(C)OC(=O)CCCC=CCC1C(O)CC(O)C1CCC(O)CCc1ccccc1</td>\n",
       "      <td>6.937100</td>\n",
       "      <td>0.0500</td>\n",
       "    </tr>\n",
       "    <tr>\n",
       "      <th>7709</th>\n",
       "      <td>83805-11-2</td>\n",
       "      <td>C=C1C(=CC=C2CCCC3(C)C2CCC3C(C)CCCC(O)(C(F)(F)F...</td>\n",
       "      <td>7.099700</td>\n",
       "      <td>0.0417</td>\n",
       "    </tr>\n",
       "    <tr>\n",
       "      <th>7710</th>\n",
       "      <td>1746-01-6</td>\n",
       "      <td>Clc1cc2c(cc1Cl)Oc1cc(Cl)c(Cl)cc1O2</td>\n",
       "      <td>7.206800</td>\n",
       "      <td>0.0199</td>\n",
       "    </tr>\n",
       "    <tr>\n",
       "      <th>7711</th>\n",
       "      <td>316-42-7</td>\n",
       "      <td>CCC1CN2CCc3cc(OC)c(OC)cc3C2CC1CC1NCCc2cc(OC)c(...</td>\n",
       "      <td>7.602600</td>\n",
       "      <td>0.0120</td>\n",
       "    </tr>\n",
       "  </tbody>\n",
       "</table>\n",
       "<p>7712 rows × 4 columns</p>\n",
       "</div>"
      ],
      "text/plain": [
       "       CAS_Number                                             SMILES  \\\n",
       "0        626-48-2                            Cc1cc(=O)[nH]c(=O)[nH]1   \n",
       "1      27849-94-1                            CC(CCc1ccc2c(c1)OCO2)NN   \n",
       "2        110-54-3                                             CCCCCC   \n",
       "3       1330-92-3        CCCCC(CC)COC(=O)C1=C(C(=O)OCC(CC)CCCC)CCCC1   \n",
       "4         57-55-6                                            CC(O)CO   \n",
       "...           ...                                                ...   \n",
       "7707   56073-10-0  O=c1oc2ccccc2c(O)c1C1CC(c2ccc(-c3ccc(Br)cc3)cc...   \n",
       "7708  130209-82-4    CC(C)OC(=O)CCCC=CCC1C(O)CC(O)C1CCC(O)CCc1ccccc1   \n",
       "7709   83805-11-2  C=C1C(=CC=C2CCCC3(C)C2CCC3C(C)CCCC(O)(C(F)(F)F...   \n",
       "7710    1746-01-6                 Clc1cc2c(cc1Cl)Oc1cc(Cl)c(Cl)cc1O2   \n",
       "7711     316-42-7  CCC1CN2CCc3cc(OC)c(OC)cc3C2CC1CC1NCCc2cc(OC)c(...   \n",
       "\n",
       "         pLD50   LD50,mg/kg  \n",
       "0     0.291207   64463.0000  \n",
       "1     0.440660   75449.0000  \n",
       "2     0.537460   24980.0000  \n",
       "3     0.539250  113917.0000  \n",
       "4     0.580330   19989.0000  \n",
       "...        ...          ...  \n",
       "7707  6.514700       0.1596  \n",
       "7708  6.937100       0.0500  \n",
       "7709  7.099700       0.0417  \n",
       "7710  7.206800       0.0199  \n",
       "7711  7.602600       0.0120  \n",
       "\n",
       "[7712 rows x 4 columns]"
      ]
     },
     "execution_count": 29,
     "metadata": {},
     "output_type": "execute_result"
    }
   ],
   "source": [
    "df_ws1 = deepcopy(df_ws)\n",
    "df_ws1[\"SMILES\"] = df_ws1.apply(lambda x: convert_smi_to_canon_smi(x.SMILES), axis=1)\n",
    "df_ws1"
   ]
  },
  {
   "cell_type": "code",
   "execution_count": 30,
   "metadata": {},
   "outputs": [
    {
     "name": "stdout",
     "output_type": "stream",
     "text": [
      "Original data:  7712 molecules\n",
      "Failed data:  0 molecules\n"
     ]
    }
   ],
   "source": [
    "print('Original data: ', len(df_ws), 'molecules')\n",
    "print('Failed data: ', len(df_ws1[df_ws1['SMILES']=='wrong_smiles']), 'molecules')"
   ]
  },
  {
   "cell_type": "code",
   "execution_count": 31,
   "metadata": {
    "scrolled": true
   },
   "outputs": [
    {
     "data": {
      "text/html": [
       "<div>\n",
       "<style scoped>\n",
       "    .dataframe tbody tr th:only-of-type {\n",
       "        vertical-align: middle;\n",
       "    }\n",
       "\n",
       "    .dataframe tbody tr th {\n",
       "        vertical-align: top;\n",
       "    }\n",
       "\n",
       "    .dataframe thead th {\n",
       "        text-align: right;\n",
       "    }\n",
       "</style>\n",
       "<table border=\"1\" class=\"dataframe\">\n",
       "  <thead>\n",
       "    <tr style=\"text-align: right;\">\n",
       "      <th></th>\n",
       "      <th>SMILES of wrong structure:</th>\n",
       "    </tr>\n",
       "    <tr>\n",
       "      <th>No. failed smiles in original set</th>\n",
       "      <th></th>\n",
       "    </tr>\n",
       "  </thead>\n",
       "  <tbody>\n",
       "  </tbody>\n",
       "</table>\n",
       "</div>"
      ],
      "text/plain": [
       "Empty DataFrame\n",
       "Columns: [SMILES of wrong structure: ]\n",
       "Index: []"
      ]
     },
     "execution_count": 31,
     "metadata": {},
     "output_type": "execute_result"
    }
   ],
   "source": [
    "index=df_ws1.index[df_ws1['SMILES']=='wrong_smiles'].tolist()\n",
    "wrong_smiles=df_ws.iloc[index]\n",
    "wrong_smiles=wrong_smiles.SMILES\n",
    "number=[x+1 for x in index]\n",
    "bad_molecules = pd.DataFrame({'No. failed smiles in original set': number, 'SMILES of wrong structure: ': wrong_smiles}, index=None)\n",
    "bad_molecules = bad_molecules.set_index('No. failed smiles in original set')\n",
    "bad_molecules"
   ]
  },
  {
   "cell_type": "markdown",
   "metadata": {},
   "source": [
    "##  Standardization  for work set"
   ]
  },
  {
   "cell_type": "code",
   "execution_count": 37,
   "metadata": {},
   "outputs": [
    {
     "name": "stdout",
     "output_type": "stream",
     "text": [
      "Kept data:  7712 molecules\n"
     ]
    }
   ],
   "source": [
    "df_ws1[\"Molecule\"] = df_ws1.apply(lambda x: standart(x.SMILES), axis=1)\n",
    "moldf_ws=df_ws1[df_ws1['SMILES']!='wrong_smiles']\n",
    "print('Kept data: ', len(moldf_ws), 'molecules')"
   ]
  },
  {
   "cell_type": "code",
   "execution_count": 38,
   "metadata": {},
   "outputs": [
    {
     "data": {
      "text/html": [
       "<div>\n",
       "<style scoped>\n",
       "    .dataframe tbody tr th:only-of-type {\n",
       "        vertical-align: middle;\n",
       "    }\n",
       "\n",
       "    .dataframe tbody tr th {\n",
       "        vertical-align: top;\n",
       "    }\n",
       "\n",
       "    .dataframe thead th {\n",
       "        text-align: right;\n",
       "    }\n",
       "</style>\n",
       "<table border=\"1\" class=\"dataframe\">\n",
       "  <thead>\n",
       "    <tr style=\"text-align: right;\">\n",
       "      <th></th>\n",
       "      <th>CAS_Number</th>\n",
       "      <th>SMILES</th>\n",
       "      <th>pLD50</th>\n",
       "      <th>LD50,mg/kg</th>\n",
       "      <th>Molecule</th>\n",
       "    </tr>\n",
       "  </thead>\n",
       "  <tbody>\n",
       "    <tr>\n",
       "      <th>0</th>\n",
       "      <td>626-48-2</td>\n",
       "      <td>Cc1cc(=O)[nH]c(=O)[nH]1</td>\n",
       "      <td>0.291207</td>\n",
       "      <td>64463.0000</td>\n",
       "      <td>&lt;rdkit.Chem.rdchem.Mol object at 0x000001DD424...</td>\n",
       "    </tr>\n",
       "    <tr>\n",
       "      <th>1</th>\n",
       "      <td>27849-94-1</td>\n",
       "      <td>CC(CCc1ccc2c(c1)OCO2)NN</td>\n",
       "      <td>0.440660</td>\n",
       "      <td>75449.0000</td>\n",
       "      <td>&lt;rdkit.Chem.rdchem.Mol object at 0x000001DD424...</td>\n",
       "    </tr>\n",
       "    <tr>\n",
       "      <th>2</th>\n",
       "      <td>110-54-3</td>\n",
       "      <td>CCCCCC</td>\n",
       "      <td>0.537460</td>\n",
       "      <td>24980.0000</td>\n",
       "      <td>&lt;rdkit.Chem.rdchem.Mol object at 0x000001DD424...</td>\n",
       "    </tr>\n",
       "    <tr>\n",
       "      <th>3</th>\n",
       "      <td>1330-92-3</td>\n",
       "      <td>CCCCC(CC)COC(=O)C1=C(C(=O)OCC(CC)CCCC)CCCC1</td>\n",
       "      <td>0.539250</td>\n",
       "      <td>113917.0000</td>\n",
       "      <td>&lt;rdkit.Chem.rdchem.Mol object at 0x000001DD424...</td>\n",
       "    </tr>\n",
       "    <tr>\n",
       "      <th>4</th>\n",
       "      <td>57-55-6</td>\n",
       "      <td>CC(O)CO</td>\n",
       "      <td>0.580330</td>\n",
       "      <td>19989.0000</td>\n",
       "      <td>&lt;rdkit.Chem.rdchem.Mol object at 0x000001DD424...</td>\n",
       "    </tr>\n",
       "    <tr>\n",
       "      <th>...</th>\n",
       "      <td>...</td>\n",
       "      <td>...</td>\n",
       "      <td>...</td>\n",
       "      <td>...</td>\n",
       "      <td>...</td>\n",
       "    </tr>\n",
       "    <tr>\n",
       "      <th>7707</th>\n",
       "      <td>56073-10-0</td>\n",
       "      <td>O=c1oc2ccccc2c(O)c1C1CC(c2ccc(-c3ccc(Br)cc3)cc...</td>\n",
       "      <td>6.514700</td>\n",
       "      <td>0.1596</td>\n",
       "      <td>&lt;rdkit.Chem.rdchem.Mol object at 0x000001DD4A3...</td>\n",
       "    </tr>\n",
       "    <tr>\n",
       "      <th>7708</th>\n",
       "      <td>130209-82-4</td>\n",
       "      <td>CC(C)OC(=O)CCCC=CCC1C(O)CC(O)C1CCC(O)CCc1ccccc1</td>\n",
       "      <td>6.937100</td>\n",
       "      <td>0.0500</td>\n",
       "      <td>&lt;rdkit.Chem.rdchem.Mol object at 0x000001DD4A3...</td>\n",
       "    </tr>\n",
       "    <tr>\n",
       "      <th>7709</th>\n",
       "      <td>83805-11-2</td>\n",
       "      <td>C=C1C(=CC=C2CCCC3(C)C2CCC3C(C)CCCC(O)(C(F)(F)F...</td>\n",
       "      <td>7.099700</td>\n",
       "      <td>0.0417</td>\n",
       "      <td>&lt;rdkit.Chem.rdchem.Mol object at 0x000001DD4A3...</td>\n",
       "    </tr>\n",
       "    <tr>\n",
       "      <th>7710</th>\n",
       "      <td>1746-01-6</td>\n",
       "      <td>Clc1cc2c(cc1Cl)Oc1cc(Cl)c(Cl)cc1O2</td>\n",
       "      <td>7.206800</td>\n",
       "      <td>0.0199</td>\n",
       "      <td>&lt;rdkit.Chem.rdchem.Mol object at 0x000001DD4A3...</td>\n",
       "    </tr>\n",
       "    <tr>\n",
       "      <th>7711</th>\n",
       "      <td>316-42-7</td>\n",
       "      <td>CCC1CN2CCc3cc(OC)c(OC)cc3C2CC1CC1NCCc2cc(OC)c(...</td>\n",
       "      <td>7.602600</td>\n",
       "      <td>0.0120</td>\n",
       "      <td>&lt;rdkit.Chem.rdchem.Mol object at 0x000001DD4A3...</td>\n",
       "    </tr>\n",
       "  </tbody>\n",
       "</table>\n",
       "<p>7712 rows × 5 columns</p>\n",
       "</div>"
      ],
      "text/plain": [
       "       CAS_Number                                             SMILES  \\\n",
       "0        626-48-2                            Cc1cc(=O)[nH]c(=O)[nH]1   \n",
       "1      27849-94-1                            CC(CCc1ccc2c(c1)OCO2)NN   \n",
       "2        110-54-3                                             CCCCCC   \n",
       "3       1330-92-3        CCCCC(CC)COC(=O)C1=C(C(=O)OCC(CC)CCCC)CCCC1   \n",
       "4         57-55-6                                            CC(O)CO   \n",
       "...           ...                                                ...   \n",
       "7707   56073-10-0  O=c1oc2ccccc2c(O)c1C1CC(c2ccc(-c3ccc(Br)cc3)cc...   \n",
       "7708  130209-82-4    CC(C)OC(=O)CCCC=CCC1C(O)CC(O)C1CCC(O)CCc1ccccc1   \n",
       "7709   83805-11-2  C=C1C(=CC=C2CCCC3(C)C2CCC3C(C)CCCC(O)(C(F)(F)F...   \n",
       "7710    1746-01-6                 Clc1cc2c(cc1Cl)Oc1cc(Cl)c(Cl)cc1O2   \n",
       "7711     316-42-7  CCC1CN2CCc3cc(OC)c(OC)cc3C2CC1CC1NCCc2cc(OC)c(...   \n",
       "\n",
       "         pLD50   LD50,mg/kg                                           Molecule  \n",
       "0     0.291207   64463.0000  <rdkit.Chem.rdchem.Mol object at 0x000001DD424...  \n",
       "1     0.440660   75449.0000  <rdkit.Chem.rdchem.Mol object at 0x000001DD424...  \n",
       "2     0.537460   24980.0000  <rdkit.Chem.rdchem.Mol object at 0x000001DD424...  \n",
       "3     0.539250  113917.0000  <rdkit.Chem.rdchem.Mol object at 0x000001DD424...  \n",
       "4     0.580330   19989.0000  <rdkit.Chem.rdchem.Mol object at 0x000001DD424...  \n",
       "...        ...          ...                                                ...  \n",
       "7707  6.514700       0.1596  <rdkit.Chem.rdchem.Mol object at 0x000001DD4A3...  \n",
       "7708  6.937100       0.0500  <rdkit.Chem.rdchem.Mol object at 0x000001DD4A3...  \n",
       "7709  7.099700       0.0417  <rdkit.Chem.rdchem.Mol object at 0x000001DD4A3...  \n",
       "7710  7.206800       0.0199  <rdkit.Chem.rdchem.Mol object at 0x000001DD4A3...  \n",
       "7711  7.602600       0.0120  <rdkit.Chem.rdchem.Mol object at 0x000001DD4A3...  \n",
       "\n",
       "[7712 rows x 5 columns]"
      ]
     },
     "execution_count": 38,
     "metadata": {},
     "output_type": "execute_result"
    }
   ],
   "source": [
    "moldf_ws"
   ]
  },
  {
   "cell_type": "code",
   "execution_count": 39,
   "metadata": {},
   "outputs": [
    {
     "data": {
      "text/plain": [
       "0       0.291207\n",
       "1       0.440660\n",
       "2       0.537460\n",
       "3       0.539250\n",
       "4       0.580330\n",
       "          ...   \n",
       "7707    6.514700\n",
       "7708    6.937100\n",
       "7709    7.099700\n",
       "7710    7.206800\n",
       "7711    7.602600\n",
       "Name: pLD50, Length: 7712, dtype: float64"
      ]
     },
     "execution_count": 39,
     "metadata": {},
     "output_type": "execute_result"
    }
   ],
   "source": [
    "y_tr=moldf_ws.pLD50\n",
    "y_tr"
   ]
  },
  {
   "cell_type": "code",
   "execution_count": 40,
   "metadata": {},
   "outputs": [
    {
     "data": {
      "text/html": [
       "<div>\n",
       "<style scoped>\n",
       "    .dataframe tbody tr th:only-of-type {\n",
       "        vertical-align: middle;\n",
       "    }\n",
       "\n",
       "    .dataframe tbody tr th {\n",
       "        vertical-align: top;\n",
       "    }\n",
       "\n",
       "    .dataframe thead th {\n",
       "        text-align: right;\n",
       "    }\n",
       "</style>\n",
       "<table border=\"1\" class=\"dataframe\">\n",
       "  <thead>\n",
       "    <tr style=\"text-align: right;\">\n",
       "      <th></th>\n",
       "      <th>SMILES</th>\n",
       "    </tr>\n",
       "  </thead>\n",
       "  <tbody>\n",
       "    <tr>\n",
       "      <th>0</th>\n",
       "      <td>Cc1cc(=O)[nH]c(=O)[nH]1</td>\n",
       "    </tr>\n",
       "    <tr>\n",
       "      <th>1</th>\n",
       "      <td>CC(CCc1ccc2c(c1)OCO2)NN</td>\n",
       "    </tr>\n",
       "    <tr>\n",
       "      <th>2</th>\n",
       "      <td>CCCCCC</td>\n",
       "    </tr>\n",
       "    <tr>\n",
       "      <th>3</th>\n",
       "      <td>CCCCC(CC)COC(=O)C1=C(C(=O)OCC(CC)CCCC)CCCC1</td>\n",
       "    </tr>\n",
       "    <tr>\n",
       "      <th>4</th>\n",
       "      <td>CC(O)CO</td>\n",
       "    </tr>\n",
       "    <tr>\n",
       "      <th>...</th>\n",
       "      <td>...</td>\n",
       "    </tr>\n",
       "    <tr>\n",
       "      <th>7707</th>\n",
       "      <td>O=c1oc2ccccc2c(O)c1C1CC(c2ccc(-c3ccc(Br)cc3)cc...</td>\n",
       "    </tr>\n",
       "    <tr>\n",
       "      <th>7708</th>\n",
       "      <td>CC(C)OC(=O)CCCC=CCC1C(O)CC(O)C1CCC(O)CCc1ccccc1</td>\n",
       "    </tr>\n",
       "    <tr>\n",
       "      <th>7709</th>\n",
       "      <td>C=C1C(=CC=C2CCCC3(C)C2CCC3C(C)CCCC(O)(C(F)(F)F...</td>\n",
       "    </tr>\n",
       "    <tr>\n",
       "      <th>7710</th>\n",
       "      <td>Clc1cc2c(cc1Cl)Oc1cc(Cl)c(Cl)cc1O2</td>\n",
       "    </tr>\n",
       "    <tr>\n",
       "      <th>7711</th>\n",
       "      <td>CCC1CN2CCc3cc(OC)c(OC)cc3C2CC1CC1NCCc2cc(OC)c(...</td>\n",
       "    </tr>\n",
       "  </tbody>\n",
       "</table>\n",
       "<p>7712 rows × 1 columns</p>\n",
       "</div>"
      ],
      "text/plain": [
       "                                                 SMILES\n",
       "0                               Cc1cc(=O)[nH]c(=O)[nH]1\n",
       "1                               CC(CCc1ccc2c(c1)OCO2)NN\n",
       "2                                                CCCCCC\n",
       "3           CCCCC(CC)COC(=O)C1=C(C(=O)OCC(CC)CCCC)CCCC1\n",
       "4                                               CC(O)CO\n",
       "...                                                 ...\n",
       "7707  O=c1oc2ccccc2c(O)c1C1CC(c2ccc(-c3ccc(Br)cc3)cc...\n",
       "7708    CC(C)OC(=O)CCCC=CCC1C(O)CC(O)C1CCC(O)CCc1ccccc1\n",
       "7709  C=C1C(=CC=C2CCCC3(C)C2CCC3C(C)CCCC(O)(C(F)(F)F...\n",
       "7710                 Clc1cc2c(cc1Cl)Oc1cc(Cl)c(Cl)cc1O2\n",
       "7711  CCC1CN2CCc3cc(OC)c(OC)cc3C2CC1CC1NCCc2cc(OC)c(...\n",
       "\n",
       "[7712 rows x 1 columns]"
      ]
     },
     "execution_count": 40,
     "metadata": {},
     "output_type": "execute_result"
    }
   ],
   "source": [
    "df = pd.DataFrame(moldf_ws, columns=[\"SMILES\"])\n",
    "df"
   ]
  },
  {
   "cell_type": "code",
   "execution_count": 41,
   "metadata": {},
   "outputs": [],
   "source": [
    "df.to_csv('datasets/molecule_ws.smi', sep=',', index=False, header=False)"
   ]
  },
  {
   "cell_type": "markdown",
   "metadata": {},
   "source": [
    "##  Load data and curation test set"
   ]
  },
  {
   "cell_type": "code",
   "execution_count": 42,
   "metadata": {
    "scrolled": true
   },
   "outputs": [
    {
     "data": {
      "text/html": [
       "<div>\n",
       "<style scoped>\n",
       "    .dataframe tbody tr th:only-of-type {\n",
       "        vertical-align: middle;\n",
       "    }\n",
       "\n",
       "    .dataframe tbody tr th {\n",
       "        vertical-align: top;\n",
       "    }\n",
       "\n",
       "    .dataframe thead th {\n",
       "        text-align: right;\n",
       "    }\n",
       "</style>\n",
       "<table border=\"1\" class=\"dataframe\">\n",
       "  <thead>\n",
       "    <tr style=\"text-align: right;\">\n",
       "      <th></th>\n",
       "      <th>CAS_Number</th>\n",
       "      <th>SMILES</th>\n",
       "      <th>pLD50</th>\n",
       "      <th>LD50,mg/kg</th>\n",
       "    </tr>\n",
       "  </thead>\n",
       "  <tbody>\n",
       "    <tr>\n",
       "      <th>0</th>\n",
       "      <td>7782-40-3</td>\n",
       "      <td>C</td>\n",
       "      <td>0.017765</td>\n",
       "      <td>15388.8000</td>\n",
       "    </tr>\n",
       "    <tr>\n",
       "      <th>1</th>\n",
       "      <td>2842-38-8</td>\n",
       "      <td>OCCNC1CCCCC1</td>\n",
       "      <td>0.572840</td>\n",
       "      <td>38274.0000</td>\n",
       "    </tr>\n",
       "    <tr>\n",
       "      <th>2</th>\n",
       "      <td>66257-53-2</td>\n",
       "      <td>NC(=O)C(=O)O</td>\n",
       "      <td>0.624490</td>\n",
       "      <td>21133.0000</td>\n",
       "    </tr>\n",
       "    <tr>\n",
       "      <th>3</th>\n",
       "      <td>2173-56-0</td>\n",
       "      <td>CCCCCOC(=O)CCCC</td>\n",
       "      <td>0.686960</td>\n",
       "      <td>35395.0000</td>\n",
       "    </tr>\n",
       "    <tr>\n",
       "      <th>4</th>\n",
       "      <td>4726-93-6</td>\n",
       "      <td>O=C1CCCCC(=O)N1</td>\n",
       "      <td>0.750180</td>\n",
       "      <td>22586.0000</td>\n",
       "    </tr>\n",
       "    <tr>\n",
       "      <th>...</th>\n",
       "      <td>...</td>\n",
       "      <td>...</td>\n",
       "      <td>...</td>\n",
       "      <td>...</td>\n",
       "    </tr>\n",
       "    <tr>\n",
       "      <th>1924</th>\n",
       "      <td>3385-03-3</td>\n",
       "      <td>CC1(C)OC2CC3C4CC(F)C5=CC(=O)C=CC5(C)C4C(O)CC3(...</td>\n",
       "      <td>5.939000</td>\n",
       "      <td>0.4997</td>\n",
       "    </tr>\n",
       "    <tr>\n",
       "      <th>1925</th>\n",
       "      <td>2338-29-6</td>\n",
       "      <td>FC(F)(F)c1nc2c(Cl)c(Cl)c(Cl)c(Cl)c2[nH]1</td>\n",
       "      <td>6.121300</td>\n",
       "      <td>0.2435</td>\n",
       "    </tr>\n",
       "    <tr>\n",
       "      <th>1926</th>\n",
       "      <td>128606-48-4</td>\n",
       "      <td>CCOP(=S)(OCC)O/C(C)=C/C(=O)OC</td>\n",
       "      <td>6.282400</td>\n",
       "      <td>0.1399</td>\n",
       "    </tr>\n",
       "    <tr>\n",
       "      <th>1927</th>\n",
       "      <td>50585-41-6</td>\n",
       "      <td>Brc1cc2c(cc1Br)Oc1cc(Br)c(Br)cc1O2</td>\n",
       "      <td>6.698800</td>\n",
       "      <td>0.0992</td>\n",
       "    </tr>\n",
       "    <tr>\n",
       "      <th>1928</th>\n",
       "      <td>75605-85-5</td>\n",
       "      <td>CC(=O)C1=CCC2C3(C)CCC4C(C)(C)CCCC4(C)C3CC(OC(=...</td>\n",
       "      <td>9.541100</td>\n",
       "      <td>0.0001</td>\n",
       "    </tr>\n",
       "  </tbody>\n",
       "</table>\n",
       "<p>1929 rows × 4 columns</p>\n",
       "</div>"
      ],
      "text/plain": [
       "       CAS_Number                                             SMILES  \\\n",
       "0       7782-40-3                                                  C   \n",
       "1       2842-38-8                                       OCCNC1CCCCC1   \n",
       "2      66257-53-2                                       NC(=O)C(=O)O   \n",
       "3       2173-56-0                                    CCCCCOC(=O)CCCC   \n",
       "4       4726-93-6                                    O=C1CCCCC(=O)N1   \n",
       "...           ...                                                ...   \n",
       "1924    3385-03-3  CC1(C)OC2CC3C4CC(F)C5=CC(=O)C=CC5(C)C4C(O)CC3(...   \n",
       "1925    2338-29-6           FC(F)(F)c1nc2c(Cl)c(Cl)c(Cl)c(Cl)c2[nH]1   \n",
       "1926  128606-48-4                      CCOP(=S)(OCC)O/C(C)=C/C(=O)OC   \n",
       "1927   50585-41-6                 Brc1cc2c(cc1Br)Oc1cc(Br)c(Br)cc1O2   \n",
       "1928   75605-85-5  CC(=O)C1=CCC2C3(C)CCC4C(C)(C)CCCC4(C)C3CC(OC(=...   \n",
       "\n",
       "         pLD50  LD50,mg/kg  \n",
       "0     0.017765  15388.8000  \n",
       "1     0.572840  38274.0000  \n",
       "2     0.624490  21133.0000  \n",
       "3     0.686960  35395.0000  \n",
       "4     0.750180  22586.0000  \n",
       "...        ...         ...  \n",
       "1924  5.939000      0.4997  \n",
       "1925  6.121300      0.2435  \n",
       "1926  6.282400      0.1399  \n",
       "1927  6.698800      0.0992  \n",
       "1928  9.541100      0.0001  \n",
       "\n",
       "[1929 rows x 4 columns]"
      ]
     },
     "execution_count": 42,
     "metadata": {},
     "output_type": "execute_result"
    }
   ],
   "source": [
    "df_ts=pd.read_csv('rat_oral_LD50_TS.csv')\n",
    "df_ts"
   ]
  },
  {
   "cell_type": "markdown",
   "metadata": {},
   "source": [
    " Convert a SMILES string to canonical SMILES"
   ]
  },
  {
   "cell_type": "code",
   "execution_count": 43,
   "metadata": {},
   "outputs": [
    {
     "data": {
      "text/html": [
       "<div>\n",
       "<style scoped>\n",
       "    .dataframe tbody tr th:only-of-type {\n",
       "        vertical-align: middle;\n",
       "    }\n",
       "\n",
       "    .dataframe tbody tr th {\n",
       "        vertical-align: top;\n",
       "    }\n",
       "\n",
       "    .dataframe thead th {\n",
       "        text-align: right;\n",
       "    }\n",
       "</style>\n",
       "<table border=\"1\" class=\"dataframe\">\n",
       "  <thead>\n",
       "    <tr style=\"text-align: right;\">\n",
       "      <th></th>\n",
       "      <th>CAS_Number</th>\n",
       "      <th>SMILES</th>\n",
       "      <th>pLD50</th>\n",
       "      <th>LD50,mg/kg</th>\n",
       "    </tr>\n",
       "  </thead>\n",
       "  <tbody>\n",
       "    <tr>\n",
       "      <th>0</th>\n",
       "      <td>7782-40-3</td>\n",
       "      <td>C</td>\n",
       "      <td>0.017765</td>\n",
       "      <td>15388.8000</td>\n",
       "    </tr>\n",
       "    <tr>\n",
       "      <th>1</th>\n",
       "      <td>2842-38-8</td>\n",
       "      <td>OCCNC1CCCCC1</td>\n",
       "      <td>0.572840</td>\n",
       "      <td>38274.0000</td>\n",
       "    </tr>\n",
       "    <tr>\n",
       "      <th>2</th>\n",
       "      <td>66257-53-2</td>\n",
       "      <td>NC(=O)C(=O)O</td>\n",
       "      <td>0.624490</td>\n",
       "      <td>21133.0000</td>\n",
       "    </tr>\n",
       "    <tr>\n",
       "      <th>3</th>\n",
       "      <td>2173-56-0</td>\n",
       "      <td>CCCCCOC(=O)CCCC</td>\n",
       "      <td>0.686960</td>\n",
       "      <td>35395.0000</td>\n",
       "    </tr>\n",
       "    <tr>\n",
       "      <th>4</th>\n",
       "      <td>4726-93-6</td>\n",
       "      <td>O=C1CCCCC(=O)N1</td>\n",
       "      <td>0.750180</td>\n",
       "      <td>22586.0000</td>\n",
       "    </tr>\n",
       "    <tr>\n",
       "      <th>...</th>\n",
       "      <td>...</td>\n",
       "      <td>...</td>\n",
       "      <td>...</td>\n",
       "      <td>...</td>\n",
       "    </tr>\n",
       "    <tr>\n",
       "      <th>1924</th>\n",
       "      <td>3385-03-3</td>\n",
       "      <td>CC1(C)OC2CC3C4CC(F)C5=CC(=O)C=CC5(C)C4C(O)CC3(...</td>\n",
       "      <td>5.939000</td>\n",
       "      <td>0.4997</td>\n",
       "    </tr>\n",
       "    <tr>\n",
       "      <th>1925</th>\n",
       "      <td>2338-29-6</td>\n",
       "      <td>FC(F)(F)c1nc2c(Cl)c(Cl)c(Cl)c(Cl)c2[nH]1</td>\n",
       "      <td>6.121300</td>\n",
       "      <td>0.2435</td>\n",
       "    </tr>\n",
       "    <tr>\n",
       "      <th>1926</th>\n",
       "      <td>128606-48-4</td>\n",
       "      <td>CCOP(=S)(OCC)OC(C)=CC(=O)OC</td>\n",
       "      <td>6.282400</td>\n",
       "      <td>0.1399</td>\n",
       "    </tr>\n",
       "    <tr>\n",
       "      <th>1927</th>\n",
       "      <td>50585-41-6</td>\n",
       "      <td>Brc1cc2c(cc1Br)Oc1cc(Br)c(Br)cc1O2</td>\n",
       "      <td>6.698800</td>\n",
       "      <td>0.0992</td>\n",
       "    </tr>\n",
       "    <tr>\n",
       "      <th>1928</th>\n",
       "      <td>75605-85-5</td>\n",
       "      <td>CC(=O)C1=CCC2C3(C)CCC4C(C)(C)CCCC4(C)C3CC(OC(=...</td>\n",
       "      <td>9.541100</td>\n",
       "      <td>0.0001</td>\n",
       "    </tr>\n",
       "  </tbody>\n",
       "</table>\n",
       "<p>1929 rows × 4 columns</p>\n",
       "</div>"
      ],
      "text/plain": [
       "       CAS_Number                                             SMILES  \\\n",
       "0       7782-40-3                                                  C   \n",
       "1       2842-38-8                                       OCCNC1CCCCC1   \n",
       "2      66257-53-2                                       NC(=O)C(=O)O   \n",
       "3       2173-56-0                                    CCCCCOC(=O)CCCC   \n",
       "4       4726-93-6                                    O=C1CCCCC(=O)N1   \n",
       "...           ...                                                ...   \n",
       "1924    3385-03-3  CC1(C)OC2CC3C4CC(F)C5=CC(=O)C=CC5(C)C4C(O)CC3(...   \n",
       "1925    2338-29-6           FC(F)(F)c1nc2c(Cl)c(Cl)c(Cl)c(Cl)c2[nH]1   \n",
       "1926  128606-48-4                        CCOP(=S)(OCC)OC(C)=CC(=O)OC   \n",
       "1927   50585-41-6                 Brc1cc2c(cc1Br)Oc1cc(Br)c(Br)cc1O2   \n",
       "1928   75605-85-5  CC(=O)C1=CCC2C3(C)CCC4C(C)(C)CCCC4(C)C3CC(OC(=...   \n",
       "\n",
       "         pLD50  LD50,mg/kg  \n",
       "0     0.017765  15388.8000  \n",
       "1     0.572840  38274.0000  \n",
       "2     0.624490  21133.0000  \n",
       "3     0.686960  35395.0000  \n",
       "4     0.750180  22586.0000  \n",
       "...        ...         ...  \n",
       "1924  5.939000      0.4997  \n",
       "1925  6.121300      0.2435  \n",
       "1926  6.282400      0.1399  \n",
       "1927  6.698800      0.0992  \n",
       "1928  9.541100      0.0001  \n",
       "\n",
       "[1929 rows x 4 columns]"
      ]
     },
     "execution_count": 43,
     "metadata": {},
     "output_type": "execute_result"
    }
   ],
   "source": [
    "df_ts1 = deepcopy(df_ts)\n",
    "df_ts1[\"SMILES\"] = df_ts1.apply(lambda x: convert_smi_to_canon_smi(x.SMILES), axis=1)\n",
    "df_ts1"
   ]
  },
  {
   "cell_type": "code",
   "execution_count": 44,
   "metadata": {},
   "outputs": [
    {
     "name": "stdout",
     "output_type": "stream",
     "text": [
      "Original data:  1929 molecules\n",
      "Failed data:  0 molecules\n"
     ]
    }
   ],
   "source": [
    "print('Original data: ', len(df_ts), 'molecules')\n",
    "print('Failed data: ', len(df_ts1[df_ts1['SMILES']=='wrong_smiles']), 'molecules')"
   ]
  },
  {
   "cell_type": "code",
   "execution_count": 45,
   "metadata": {
    "scrolled": true
   },
   "outputs": [
    {
     "data": {
      "text/html": [
       "<div>\n",
       "<style scoped>\n",
       "    .dataframe tbody tr th:only-of-type {\n",
       "        vertical-align: middle;\n",
       "    }\n",
       "\n",
       "    .dataframe tbody tr th {\n",
       "        vertical-align: top;\n",
       "    }\n",
       "\n",
       "    .dataframe thead th {\n",
       "        text-align: right;\n",
       "    }\n",
       "</style>\n",
       "<table border=\"1\" class=\"dataframe\">\n",
       "  <thead>\n",
       "    <tr style=\"text-align: right;\">\n",
       "      <th></th>\n",
       "      <th>SMILES of wrong structure:</th>\n",
       "    </tr>\n",
       "    <tr>\n",
       "      <th>No. failed smiles in original set</th>\n",
       "      <th></th>\n",
       "    </tr>\n",
       "  </thead>\n",
       "  <tbody>\n",
       "  </tbody>\n",
       "</table>\n",
       "</div>"
      ],
      "text/plain": [
       "Empty DataFrame\n",
       "Columns: [SMILES of wrong structure: ]\n",
       "Index: []"
      ]
     },
     "execution_count": 45,
     "metadata": {},
     "output_type": "execute_result"
    }
   ],
   "source": [
    "index=df_ts1.index[df_ts1['SMILES']=='wrong_smiles'].tolist()\n",
    "wrong_smiles=df_ts.iloc[index]\n",
    "wrong_smiles=wrong_smiles.SMILES\n",
    "number=[x+1 for x in index]\n",
    "bad_molecules = pd.DataFrame({'No. failed smiles in original set': number, 'SMILES of wrong structure: ': wrong_smiles}, index=None)\n",
    "bad_molecules = bad_molecules.set_index('No. failed smiles in original set')\n",
    "bad_molecules"
   ]
  },
  {
   "cell_type": "markdown",
   "metadata": {},
   "source": [
    "##  Standardization  for test set"
   ]
  },
  {
   "cell_type": "code",
   "execution_count": 46,
   "metadata": {},
   "outputs": [
    {
     "name": "stdout",
     "output_type": "stream",
     "text": [
      "Kept data:  1929 molecules\n"
     ]
    }
   ],
   "source": [
    "df_ts1[\"Molecule\"] = df_ts1.apply(lambda x: standart(x.SMILES), axis=1)\n",
    "moldf_ts=df_ts1[df_ts1['SMILES']!='wrong_smiles']\n",
    "print('Kept data: ', len(moldf_ts), 'molecules')"
   ]
  },
  {
   "cell_type": "code",
   "execution_count": 47,
   "metadata": {},
   "outputs": [
    {
     "data": {
      "text/html": [
       "<div>\n",
       "<style scoped>\n",
       "    .dataframe tbody tr th:only-of-type {\n",
       "        vertical-align: middle;\n",
       "    }\n",
       "\n",
       "    .dataframe tbody tr th {\n",
       "        vertical-align: top;\n",
       "    }\n",
       "\n",
       "    .dataframe thead th {\n",
       "        text-align: right;\n",
       "    }\n",
       "</style>\n",
       "<table border=\"1\" class=\"dataframe\">\n",
       "  <thead>\n",
       "    <tr style=\"text-align: right;\">\n",
       "      <th></th>\n",
       "      <th>CAS_Number</th>\n",
       "      <th>SMILES</th>\n",
       "      <th>pLD50</th>\n",
       "      <th>LD50,mg/kg</th>\n",
       "      <th>Molecule</th>\n",
       "    </tr>\n",
       "  </thead>\n",
       "  <tbody>\n",
       "    <tr>\n",
       "      <th>0</th>\n",
       "      <td>7782-40-3</td>\n",
       "      <td>C</td>\n",
       "      <td>0.017765</td>\n",
       "      <td>15388.8000</td>\n",
       "      <td>&lt;rdkit.Chem.rdchem.Mol object at 0x000001DD4A3...</td>\n",
       "    </tr>\n",
       "    <tr>\n",
       "      <th>1</th>\n",
       "      <td>2842-38-8</td>\n",
       "      <td>OCCNC1CCCCC1</td>\n",
       "      <td>0.572840</td>\n",
       "      <td>38274.0000</td>\n",
       "      <td>&lt;rdkit.Chem.rdchem.Mol object at 0x000001DD421...</td>\n",
       "    </tr>\n",
       "    <tr>\n",
       "      <th>2</th>\n",
       "      <td>66257-53-2</td>\n",
       "      <td>NC(=O)C(=O)O</td>\n",
       "      <td>0.624490</td>\n",
       "      <td>21133.0000</td>\n",
       "      <td>&lt;rdkit.Chem.rdchem.Mol object at 0x000001DD421...</td>\n",
       "    </tr>\n",
       "    <tr>\n",
       "      <th>3</th>\n",
       "      <td>2173-56-0</td>\n",
       "      <td>CCCCCOC(=O)CCCC</td>\n",
       "      <td>0.686960</td>\n",
       "      <td>35395.0000</td>\n",
       "      <td>&lt;rdkit.Chem.rdchem.Mol object at 0x000001DD421...</td>\n",
       "    </tr>\n",
       "    <tr>\n",
       "      <th>4</th>\n",
       "      <td>4726-93-6</td>\n",
       "      <td>O=C1CCCCC(=O)N1</td>\n",
       "      <td>0.750180</td>\n",
       "      <td>22586.0000</td>\n",
       "      <td>&lt;rdkit.Chem.rdchem.Mol object at 0x000001DD421...</td>\n",
       "    </tr>\n",
       "    <tr>\n",
       "      <th>...</th>\n",
       "      <td>...</td>\n",
       "      <td>...</td>\n",
       "      <td>...</td>\n",
       "      <td>...</td>\n",
       "      <td>...</td>\n",
       "    </tr>\n",
       "    <tr>\n",
       "      <th>1924</th>\n",
       "      <td>3385-03-3</td>\n",
       "      <td>CC1(C)OC2CC3C4CC(F)C5=CC(=O)C=CC5(C)C4C(O)CC3(...</td>\n",
       "      <td>5.939000</td>\n",
       "      <td>0.4997</td>\n",
       "      <td>&lt;rdkit.Chem.rdchem.Mol object at 0x000001DD4A3...</td>\n",
       "    </tr>\n",
       "    <tr>\n",
       "      <th>1925</th>\n",
       "      <td>2338-29-6</td>\n",
       "      <td>FC(F)(F)c1nc2c(Cl)c(Cl)c(Cl)c(Cl)c2[nH]1</td>\n",
       "      <td>6.121300</td>\n",
       "      <td>0.2435</td>\n",
       "      <td>&lt;rdkit.Chem.rdchem.Mol object at 0x000001DD4A3...</td>\n",
       "    </tr>\n",
       "    <tr>\n",
       "      <th>1926</th>\n",
       "      <td>128606-48-4</td>\n",
       "      <td>CCOP(=S)(OCC)OC(C)=CC(=O)OC</td>\n",
       "      <td>6.282400</td>\n",
       "      <td>0.1399</td>\n",
       "      <td>&lt;rdkit.Chem.rdchem.Mol object at 0x000001DD4A3...</td>\n",
       "    </tr>\n",
       "    <tr>\n",
       "      <th>1927</th>\n",
       "      <td>50585-41-6</td>\n",
       "      <td>Brc1cc2c(cc1Br)Oc1cc(Br)c(Br)cc1O2</td>\n",
       "      <td>6.698800</td>\n",
       "      <td>0.0992</td>\n",
       "      <td>&lt;rdkit.Chem.rdchem.Mol object at 0x000001DD4A3...</td>\n",
       "    </tr>\n",
       "    <tr>\n",
       "      <th>1928</th>\n",
       "      <td>75605-85-5</td>\n",
       "      <td>CC(=O)C1=CCC2C3(C)CCC4C(C)(C)CCCC4(C)C3CC(OC(=...</td>\n",
       "      <td>9.541100</td>\n",
       "      <td>0.0001</td>\n",
       "      <td>&lt;rdkit.Chem.rdchem.Mol object at 0x000001DD4A3...</td>\n",
       "    </tr>\n",
       "  </tbody>\n",
       "</table>\n",
       "<p>1929 rows × 5 columns</p>\n",
       "</div>"
      ],
      "text/plain": [
       "       CAS_Number                                             SMILES  \\\n",
       "0       7782-40-3                                                  C   \n",
       "1       2842-38-8                                       OCCNC1CCCCC1   \n",
       "2      66257-53-2                                       NC(=O)C(=O)O   \n",
       "3       2173-56-0                                    CCCCCOC(=O)CCCC   \n",
       "4       4726-93-6                                    O=C1CCCCC(=O)N1   \n",
       "...           ...                                                ...   \n",
       "1924    3385-03-3  CC1(C)OC2CC3C4CC(F)C5=CC(=O)C=CC5(C)C4C(O)CC3(...   \n",
       "1925    2338-29-6           FC(F)(F)c1nc2c(Cl)c(Cl)c(Cl)c(Cl)c2[nH]1   \n",
       "1926  128606-48-4                        CCOP(=S)(OCC)OC(C)=CC(=O)OC   \n",
       "1927   50585-41-6                 Brc1cc2c(cc1Br)Oc1cc(Br)c(Br)cc1O2   \n",
       "1928   75605-85-5  CC(=O)C1=CCC2C3(C)CCC4C(C)(C)CCCC4(C)C3CC(OC(=...   \n",
       "\n",
       "         pLD50  LD50,mg/kg                                           Molecule  \n",
       "0     0.017765  15388.8000  <rdkit.Chem.rdchem.Mol object at 0x000001DD4A3...  \n",
       "1     0.572840  38274.0000  <rdkit.Chem.rdchem.Mol object at 0x000001DD421...  \n",
       "2     0.624490  21133.0000  <rdkit.Chem.rdchem.Mol object at 0x000001DD421...  \n",
       "3     0.686960  35395.0000  <rdkit.Chem.rdchem.Mol object at 0x000001DD421...  \n",
       "4     0.750180  22586.0000  <rdkit.Chem.rdchem.Mol object at 0x000001DD421...  \n",
       "...        ...         ...                                                ...  \n",
       "1924  5.939000      0.4997  <rdkit.Chem.rdchem.Mol object at 0x000001DD4A3...  \n",
       "1925  6.121300      0.2435  <rdkit.Chem.rdchem.Mol object at 0x000001DD4A3...  \n",
       "1926  6.282400      0.1399  <rdkit.Chem.rdchem.Mol object at 0x000001DD4A3...  \n",
       "1927  6.698800      0.0992  <rdkit.Chem.rdchem.Mol object at 0x000001DD4A3...  \n",
       "1928  9.541100      0.0001  <rdkit.Chem.rdchem.Mol object at 0x000001DD4A3...  \n",
       "\n",
       "[1929 rows x 5 columns]"
      ]
     },
     "execution_count": 47,
     "metadata": {},
     "output_type": "execute_result"
    }
   ],
   "source": [
    "moldf_ts"
   ]
  },
  {
   "cell_type": "code",
   "execution_count": 48,
   "metadata": {},
   "outputs": [
    {
     "data": {
      "text/plain": [
       "0       0.017765\n",
       "1       0.572840\n",
       "2       0.624490\n",
       "3       0.686960\n",
       "4       0.750180\n",
       "          ...   \n",
       "1924    5.939000\n",
       "1925    6.121300\n",
       "1926    6.282400\n",
       "1927    6.698800\n",
       "1928    9.541100\n",
       "Name: pLD50, Length: 1929, dtype: float64"
      ]
     },
     "execution_count": 48,
     "metadata": {},
     "output_type": "execute_result"
    }
   ],
   "source": [
    "y_ts=moldf_ts.pLD50\n",
    "y_ts"
   ]
  },
  {
   "cell_type": "code",
   "execution_count": 49,
   "metadata": {},
   "outputs": [
    {
     "data": {
      "text/html": [
       "<div>\n",
       "<style scoped>\n",
       "    .dataframe tbody tr th:only-of-type {\n",
       "        vertical-align: middle;\n",
       "    }\n",
       "\n",
       "    .dataframe tbody tr th {\n",
       "        vertical-align: top;\n",
       "    }\n",
       "\n",
       "    .dataframe thead th {\n",
       "        text-align: right;\n",
       "    }\n",
       "</style>\n",
       "<table border=\"1\" class=\"dataframe\">\n",
       "  <thead>\n",
       "    <tr style=\"text-align: right;\">\n",
       "      <th></th>\n",
       "      <th>SMILES</th>\n",
       "    </tr>\n",
       "  </thead>\n",
       "  <tbody>\n",
       "    <tr>\n",
       "      <th>0</th>\n",
       "      <td>C</td>\n",
       "    </tr>\n",
       "    <tr>\n",
       "      <th>1</th>\n",
       "      <td>OCCNC1CCCCC1</td>\n",
       "    </tr>\n",
       "    <tr>\n",
       "      <th>2</th>\n",
       "      <td>NC(=O)C(=O)O</td>\n",
       "    </tr>\n",
       "    <tr>\n",
       "      <th>3</th>\n",
       "      <td>CCCCCOC(=O)CCCC</td>\n",
       "    </tr>\n",
       "    <tr>\n",
       "      <th>4</th>\n",
       "      <td>O=C1CCCCC(=O)N1</td>\n",
       "    </tr>\n",
       "    <tr>\n",
       "      <th>...</th>\n",
       "      <td>...</td>\n",
       "    </tr>\n",
       "    <tr>\n",
       "      <th>1924</th>\n",
       "      <td>CC1(C)OC2CC3C4CC(F)C5=CC(=O)C=CC5(C)C4C(O)CC3(...</td>\n",
       "    </tr>\n",
       "    <tr>\n",
       "      <th>1925</th>\n",
       "      <td>FC(F)(F)c1nc2c(Cl)c(Cl)c(Cl)c(Cl)c2[nH]1</td>\n",
       "    </tr>\n",
       "    <tr>\n",
       "      <th>1926</th>\n",
       "      <td>CCOP(=S)(OCC)OC(C)=CC(=O)OC</td>\n",
       "    </tr>\n",
       "    <tr>\n",
       "      <th>1927</th>\n",
       "      <td>Brc1cc2c(cc1Br)Oc1cc(Br)c(Br)cc1O2</td>\n",
       "    </tr>\n",
       "    <tr>\n",
       "      <th>1928</th>\n",
       "      <td>CC(=O)C1=CCC2C3(C)CCC4C(C)(C)CCCC4(C)C3CC(OC(=...</td>\n",
       "    </tr>\n",
       "  </tbody>\n",
       "</table>\n",
       "<p>1929 rows × 1 columns</p>\n",
       "</div>"
      ],
      "text/plain": [
       "                                                 SMILES\n",
       "0                                                     C\n",
       "1                                          OCCNC1CCCCC1\n",
       "2                                          NC(=O)C(=O)O\n",
       "3                                       CCCCCOC(=O)CCCC\n",
       "4                                       O=C1CCCCC(=O)N1\n",
       "...                                                 ...\n",
       "1924  CC1(C)OC2CC3C4CC(F)C5=CC(=O)C=CC5(C)C4C(O)CC3(...\n",
       "1925           FC(F)(F)c1nc2c(Cl)c(Cl)c(Cl)c(Cl)c2[nH]1\n",
       "1926                        CCOP(=S)(OCC)OC(C)=CC(=O)OC\n",
       "1927                 Brc1cc2c(cc1Br)Oc1cc(Br)c(Br)cc1O2\n",
       "1928  CC(=O)C1=CCC2C3(C)CCC4C(C)(C)CCCC4(C)C3CC(OC(=...\n",
       "\n",
       "[1929 rows x 1 columns]"
      ]
     },
     "execution_count": 49,
     "metadata": {},
     "output_type": "execute_result"
    }
   ],
   "source": [
    "df_ts = pd.DataFrame(moldf_ts, columns=[\"SMILES\"])\n",
    "df_ts"
   ]
  },
  {
   "cell_type": "code",
   "execution_count": 50,
   "metadata": {},
   "outputs": [],
   "source": [
    "df_ts.to_csv('datasets/molecule_ts.smi', sep=',', index=False, header=False)"
   ]
  },
  {
   "cell_type": "markdown",
   "metadata": {},
   "source": [
    "# Calculation Fingerprints for work set"
   ]
  },
  {
   "cell_type": "code",
   "execution_count": 51,
   "metadata": {},
   "outputs": [
    {
     "data": {
      "text/plain": [
       "['fingerprints_xml\\\\AtomPairs2DFingerprintCount.xml',\n",
       " 'fingerprints_xml\\\\AtomPairs2DFingerprinter.xml',\n",
       " 'fingerprints_xml\\\\EStateFingerprinter.xml',\n",
       " 'fingerprints_xml\\\\ExtendedFingerprinter.xml',\n",
       " 'fingerprints_xml\\\\Fingerprinter.xml',\n",
       " 'fingerprints_xml\\\\GraphOnlyFingerprinter.xml',\n",
       " 'fingerprints_xml\\\\KlekotaRothFingerprintCount.xml',\n",
       " 'fingerprints_xml\\\\KlekotaRothFingerprinter.xml',\n",
       " 'fingerprints_xml\\\\MACCSFingerprinter.xml',\n",
       " 'fingerprints_xml\\\\PubchemFingerprinter.xml',\n",
       " 'fingerprints_xml\\\\SubstructureFingerprintCount.xml',\n",
       " 'fingerprints_xml\\\\SubstructureFingerprinter.xml']"
      ]
     },
     "execution_count": 51,
     "metadata": {},
     "output_type": "execute_result"
    }
   ],
   "source": [
    "import glob\n",
    "xml_files = glob.glob(\"fingerprints_xml/*.xml\")\n",
    "xml_files.sort()\n",
    "xml_files"
   ]
  },
  {
   "cell_type": "code",
   "execution_count": 52,
   "metadata": {},
   "outputs": [],
   "source": [
    "FP_list = ['AtomPairs2DCount',\n",
    " 'AtomPairs2D',\n",
    " 'EState',\n",
    " 'CDKextended',\n",
    " 'CDK',\n",
    " 'CDKgraphonly',\n",
    " 'KlekotaRothCount',\n",
    " 'KlekotaRoth',\n",
    " 'MACCS',\n",
    " 'PubChem',\n",
    " 'SubstructureCount',\n",
    " 'Substructure']"
   ]
  },
  {
   "cell_type": "code",
   "execution_count": 53,
   "metadata": {},
   "outputs": [
    {
     "data": {
      "text/plain": [
       "{'AtomPairs2DCount': 'fingerprints_xml\\\\AtomPairs2DFingerprintCount.xml',\n",
       " 'AtomPairs2D': 'fingerprints_xml\\\\AtomPairs2DFingerprinter.xml',\n",
       " 'EState': 'fingerprints_xml\\\\EStateFingerprinter.xml',\n",
       " 'CDKextended': 'fingerprints_xml\\\\ExtendedFingerprinter.xml',\n",
       " 'CDK': 'fingerprints_xml\\\\Fingerprinter.xml',\n",
       " 'CDKgraphonly': 'fingerprints_xml\\\\GraphOnlyFingerprinter.xml',\n",
       " 'KlekotaRothCount': 'fingerprints_xml\\\\KlekotaRothFingerprintCount.xml',\n",
       " 'KlekotaRoth': 'fingerprints_xml\\\\KlekotaRothFingerprinter.xml',\n",
       " 'MACCS': 'fingerprints_xml\\\\MACCSFingerprinter.xml',\n",
       " 'PubChem': 'fingerprints_xml\\\\PubchemFingerprinter.xml',\n",
       " 'SubstructureCount': 'fingerprints_xml\\\\SubstructureFingerprintCount.xml',\n",
       " 'Substructure': 'fingerprints_xml\\\\SubstructureFingerprinter.xml'}"
      ]
     },
     "execution_count": 53,
     "metadata": {},
     "output_type": "execute_result"
    }
   ],
   "source": [
    "fp = dict(zip(FP_list, xml_files))\n",
    "fp"
   ]
  },
  {
   "cell_type": "markdown",
   "metadata": {},
   "source": [
    "# 6.Descriptor calculation for work set"
   ]
  },
  {
   "cell_type": "code",
   "execution_count": 54,
   "metadata": {},
   "outputs": [
    {
     "data": {
      "text/plain": [
       "{'AtomPairs2DCount': 'fingerprints_xml\\\\AtomPairs2DFingerprintCount.xml',\n",
       " 'AtomPairs2D': 'fingerprints_xml\\\\AtomPairs2DFingerprinter.xml',\n",
       " 'EState': 'fingerprints_xml\\\\EStateFingerprinter.xml',\n",
       " 'CDKextended': 'fingerprints_xml\\\\ExtendedFingerprinter.xml',\n",
       " 'CDK': 'fingerprints_xml\\\\Fingerprinter.xml',\n",
       " 'CDKgraphonly': 'fingerprints_xml\\\\GraphOnlyFingerprinter.xml',\n",
       " 'KlekotaRothCount': 'fingerprints_xml\\\\KlekotaRothFingerprintCount.xml',\n",
       " 'KlekotaRoth': 'fingerprints_xml\\\\KlekotaRothFingerprinter.xml',\n",
       " 'MACCS': 'fingerprints_xml\\\\MACCSFingerprinter.xml',\n",
       " 'PubChem': 'fingerprints_xml\\\\PubchemFingerprinter.xml',\n",
       " 'SubstructureCount': 'fingerprints_xml\\\\SubstructureFingerprintCount.xml',\n",
       " 'Substructure': 'fingerprints_xml\\\\SubstructureFingerprinter.xml'}"
      ]
     },
     "execution_count": 54,
     "metadata": {},
     "output_type": "execute_result"
    }
   ],
   "source": [
    "fp"
   ]
  },
  {
   "cell_type": "markdown",
   "metadata": {},
   "source": [
    "## PubChem FPs"
   ]
  },
  {
   "cell_type": "code",
   "execution_count": 55,
   "metadata": {},
   "outputs": [],
   "source": [
    "from padelpy import padeldescriptor\n",
    "\n",
    "fingerprint = 'PubChem'\n",
    "\n",
    "fingerprint_output_file = ''.join([fingerprint,'.csv']) #Substructure.csv\n",
    "fingerprint_descriptortypes = fp[fingerprint]\n",
    "\n",
    "padeldescriptor(mol_dir='datasets/molecule_ws.smi', \n",
    "                d_file=fingerprint_output_file, #'Substructure.csv'\n",
    "                #descriptortypes='SubstructureFingerprint.xml', \n",
    "                descriptortypes= fingerprint_descriptortypes,\n",
    "                detectaromaticity=True,\n",
    "                standardizenitro=True,\n",
    "                standardizetautomers=True,\n",
    "                threads=2,\n",
    "                removesalt=True,\n",
    "                log=True,\n",
    "                fingerprints=True)"
   ]
  },
  {
   "cell_type": "code",
   "execution_count": 56,
   "metadata": {},
   "outputs": [],
   "source": [
    "descriptors_PubChem = pd.read_csv('PubChem.csv')"
   ]
  },
  {
   "cell_type": "code",
   "execution_count": 57,
   "metadata": {},
   "outputs": [
    {
     "data": {
      "text/html": [
       "<div>\n",
       "<style scoped>\n",
       "    .dataframe tbody tr th:only-of-type {\n",
       "        vertical-align: middle;\n",
       "    }\n",
       "\n",
       "    .dataframe tbody tr th {\n",
       "        vertical-align: top;\n",
       "    }\n",
       "\n",
       "    .dataframe thead th {\n",
       "        text-align: right;\n",
       "    }\n",
       "</style>\n",
       "<table border=\"1\" class=\"dataframe\">\n",
       "  <thead>\n",
       "    <tr style=\"text-align: right;\">\n",
       "      <th></th>\n",
       "      <th>Name</th>\n",
       "      <th>PubchemFP0</th>\n",
       "      <th>PubchemFP1</th>\n",
       "      <th>PubchemFP2</th>\n",
       "      <th>PubchemFP3</th>\n",
       "      <th>PubchemFP4</th>\n",
       "      <th>PubchemFP5</th>\n",
       "      <th>PubchemFP6</th>\n",
       "      <th>PubchemFP7</th>\n",
       "      <th>PubchemFP8</th>\n",
       "      <th>...</th>\n",
       "      <th>PubchemFP871</th>\n",
       "      <th>PubchemFP872</th>\n",
       "      <th>PubchemFP873</th>\n",
       "      <th>PubchemFP874</th>\n",
       "      <th>PubchemFP875</th>\n",
       "      <th>PubchemFP876</th>\n",
       "      <th>PubchemFP877</th>\n",
       "      <th>PubchemFP878</th>\n",
       "      <th>PubchemFP879</th>\n",
       "      <th>PubchemFP880</th>\n",
       "    </tr>\n",
       "  </thead>\n",
       "  <tbody>\n",
       "    <tr>\n",
       "      <th>0</th>\n",
       "      <td>AUTOGEN_molecule_ws_1</td>\n",
       "      <td>1</td>\n",
       "      <td>0</td>\n",
       "      <td>0</td>\n",
       "      <td>0</td>\n",
       "      <td>0</td>\n",
       "      <td>0</td>\n",
       "      <td>0</td>\n",
       "      <td>0</td>\n",
       "      <td>0</td>\n",
       "      <td>...</td>\n",
       "      <td>0</td>\n",
       "      <td>0</td>\n",
       "      <td>0</td>\n",
       "      <td>0</td>\n",
       "      <td>0</td>\n",
       "      <td>0</td>\n",
       "      <td>0</td>\n",
       "      <td>0</td>\n",
       "      <td>0</td>\n",
       "      <td>0</td>\n",
       "    </tr>\n",
       "    <tr>\n",
       "      <th>1</th>\n",
       "      <td>AUTOGEN_molecule_ws_2</td>\n",
       "      <td>1</td>\n",
       "      <td>1</td>\n",
       "      <td>1</td>\n",
       "      <td>0</td>\n",
       "      <td>0</td>\n",
       "      <td>0</td>\n",
       "      <td>0</td>\n",
       "      <td>0</td>\n",
       "      <td>0</td>\n",
       "      <td>...</td>\n",
       "      <td>0</td>\n",
       "      <td>0</td>\n",
       "      <td>0</td>\n",
       "      <td>0</td>\n",
       "      <td>0</td>\n",
       "      <td>0</td>\n",
       "      <td>0</td>\n",
       "      <td>0</td>\n",
       "      <td>0</td>\n",
       "      <td>0</td>\n",
       "    </tr>\n",
       "    <tr>\n",
       "      <th>2</th>\n",
       "      <td>AUTOGEN_molecule_ws_3</td>\n",
       "      <td>1</td>\n",
       "      <td>1</td>\n",
       "      <td>0</td>\n",
       "      <td>0</td>\n",
       "      <td>0</td>\n",
       "      <td>0</td>\n",
       "      <td>0</td>\n",
       "      <td>0</td>\n",
       "      <td>0</td>\n",
       "      <td>...</td>\n",
       "      <td>0</td>\n",
       "      <td>0</td>\n",
       "      <td>0</td>\n",
       "      <td>0</td>\n",
       "      <td>0</td>\n",
       "      <td>0</td>\n",
       "      <td>0</td>\n",
       "      <td>0</td>\n",
       "      <td>0</td>\n",
       "      <td>0</td>\n",
       "    </tr>\n",
       "    <tr>\n",
       "      <th>3</th>\n",
       "      <td>AUTOGEN_molecule_ws_4</td>\n",
       "      <td>1</td>\n",
       "      <td>1</td>\n",
       "      <td>1</td>\n",
       "      <td>1</td>\n",
       "      <td>0</td>\n",
       "      <td>0</td>\n",
       "      <td>0</td>\n",
       "      <td>0</td>\n",
       "      <td>0</td>\n",
       "      <td>...</td>\n",
       "      <td>0</td>\n",
       "      <td>0</td>\n",
       "      <td>0</td>\n",
       "      <td>0</td>\n",
       "      <td>0</td>\n",
       "      <td>0</td>\n",
       "      <td>0</td>\n",
       "      <td>0</td>\n",
       "      <td>0</td>\n",
       "      <td>0</td>\n",
       "    </tr>\n",
       "    <tr>\n",
       "      <th>4</th>\n",
       "      <td>AUTOGEN_molecule_ws_5</td>\n",
       "      <td>1</td>\n",
       "      <td>1</td>\n",
       "      <td>0</td>\n",
       "      <td>0</td>\n",
       "      <td>0</td>\n",
       "      <td>0</td>\n",
       "      <td>0</td>\n",
       "      <td>0</td>\n",
       "      <td>0</td>\n",
       "      <td>...</td>\n",
       "      <td>0</td>\n",
       "      <td>0</td>\n",
       "      <td>0</td>\n",
       "      <td>0</td>\n",
       "      <td>0</td>\n",
       "      <td>0</td>\n",
       "      <td>0</td>\n",
       "      <td>0</td>\n",
       "      <td>0</td>\n",
       "      <td>0</td>\n",
       "    </tr>\n",
       "    <tr>\n",
       "      <th>...</th>\n",
       "      <td>...</td>\n",
       "      <td>...</td>\n",
       "      <td>...</td>\n",
       "      <td>...</td>\n",
       "      <td>...</td>\n",
       "      <td>...</td>\n",
       "      <td>...</td>\n",
       "      <td>...</td>\n",
       "      <td>...</td>\n",
       "      <td>...</td>\n",
       "      <td>...</td>\n",
       "      <td>...</td>\n",
       "      <td>...</td>\n",
       "      <td>...</td>\n",
       "      <td>...</td>\n",
       "      <td>...</td>\n",
       "      <td>...</td>\n",
       "      <td>...</td>\n",
       "      <td>...</td>\n",
       "      <td>...</td>\n",
       "      <td>...</td>\n",
       "    </tr>\n",
       "    <tr>\n",
       "      <th>7707</th>\n",
       "      <td>AUTOGEN_molecule_ws_7708</td>\n",
       "      <td>1</td>\n",
       "      <td>1</td>\n",
       "      <td>1</td>\n",
       "      <td>0</td>\n",
       "      <td>0</td>\n",
       "      <td>0</td>\n",
       "      <td>0</td>\n",
       "      <td>0</td>\n",
       "      <td>0</td>\n",
       "      <td>...</td>\n",
       "      <td>0</td>\n",
       "      <td>0</td>\n",
       "      <td>0</td>\n",
       "      <td>0</td>\n",
       "      <td>0</td>\n",
       "      <td>0</td>\n",
       "      <td>0</td>\n",
       "      <td>0</td>\n",
       "      <td>0</td>\n",
       "      <td>0</td>\n",
       "    </tr>\n",
       "    <tr>\n",
       "      <th>7708</th>\n",
       "      <td>AUTOGEN_molecule_ws_7709</td>\n",
       "      <td>0</td>\n",
       "      <td>0</td>\n",
       "      <td>0</td>\n",
       "      <td>0</td>\n",
       "      <td>0</td>\n",
       "      <td>0</td>\n",
       "      <td>0</td>\n",
       "      <td>0</td>\n",
       "      <td>0</td>\n",
       "      <td>...</td>\n",
       "      <td>0</td>\n",
       "      <td>0</td>\n",
       "      <td>0</td>\n",
       "      <td>0</td>\n",
       "      <td>0</td>\n",
       "      <td>0</td>\n",
       "      <td>0</td>\n",
       "      <td>0</td>\n",
       "      <td>0</td>\n",
       "      <td>0</td>\n",
       "    </tr>\n",
       "    <tr>\n",
       "      <th>7709</th>\n",
       "      <td>AUTOGEN_molecule_ws_7710</td>\n",
       "      <td>0</td>\n",
       "      <td>0</td>\n",
       "      <td>0</td>\n",
       "      <td>0</td>\n",
       "      <td>0</td>\n",
       "      <td>0</td>\n",
       "      <td>0</td>\n",
       "      <td>0</td>\n",
       "      <td>0</td>\n",
       "      <td>...</td>\n",
       "      <td>0</td>\n",
       "      <td>0</td>\n",
       "      <td>0</td>\n",
       "      <td>0</td>\n",
       "      <td>0</td>\n",
       "      <td>0</td>\n",
       "      <td>0</td>\n",
       "      <td>0</td>\n",
       "      <td>0</td>\n",
       "      <td>0</td>\n",
       "    </tr>\n",
       "    <tr>\n",
       "      <th>7710</th>\n",
       "      <td>AUTOGEN_molecule_ws_7711</td>\n",
       "      <td>1</td>\n",
       "      <td>0</td>\n",
       "      <td>0</td>\n",
       "      <td>0</td>\n",
       "      <td>0</td>\n",
       "      <td>0</td>\n",
       "      <td>0</td>\n",
       "      <td>0</td>\n",
       "      <td>0</td>\n",
       "      <td>...</td>\n",
       "      <td>0</td>\n",
       "      <td>0</td>\n",
       "      <td>0</td>\n",
       "      <td>0</td>\n",
       "      <td>0</td>\n",
       "      <td>0</td>\n",
       "      <td>0</td>\n",
       "      <td>0</td>\n",
       "      <td>0</td>\n",
       "      <td>0</td>\n",
       "    </tr>\n",
       "    <tr>\n",
       "      <th>7711</th>\n",
       "      <td>AUTOGEN_molecule_ws_7712</td>\n",
       "      <td>1</td>\n",
       "      <td>1</td>\n",
       "      <td>1</td>\n",
       "      <td>1</td>\n",
       "      <td>0</td>\n",
       "      <td>0</td>\n",
       "      <td>0</td>\n",
       "      <td>0</td>\n",
       "      <td>0</td>\n",
       "      <td>...</td>\n",
       "      <td>0</td>\n",
       "      <td>0</td>\n",
       "      <td>0</td>\n",
       "      <td>0</td>\n",
       "      <td>0</td>\n",
       "      <td>0</td>\n",
       "      <td>0</td>\n",
       "      <td>0</td>\n",
       "      <td>0</td>\n",
       "      <td>0</td>\n",
       "    </tr>\n",
       "  </tbody>\n",
       "</table>\n",
       "<p>7712 rows × 882 columns</p>\n",
       "</div>"
      ],
      "text/plain": [
       "                          Name  PubchemFP0  PubchemFP1  PubchemFP2  \\\n",
       "0        AUTOGEN_molecule_ws_1           1           0           0   \n",
       "1        AUTOGEN_molecule_ws_2           1           1           1   \n",
       "2        AUTOGEN_molecule_ws_3           1           1           0   \n",
       "3        AUTOGEN_molecule_ws_4           1           1           1   \n",
       "4        AUTOGEN_molecule_ws_5           1           1           0   \n",
       "...                        ...         ...         ...         ...   \n",
       "7707  AUTOGEN_molecule_ws_7708           1           1           1   \n",
       "7708  AUTOGEN_molecule_ws_7709           0           0           0   \n",
       "7709  AUTOGEN_molecule_ws_7710           0           0           0   \n",
       "7710  AUTOGEN_molecule_ws_7711           1           0           0   \n",
       "7711  AUTOGEN_molecule_ws_7712           1           1           1   \n",
       "\n",
       "      PubchemFP3  PubchemFP4  PubchemFP5  PubchemFP6  PubchemFP7  PubchemFP8  \\\n",
       "0              0           0           0           0           0           0   \n",
       "1              0           0           0           0           0           0   \n",
       "2              0           0           0           0           0           0   \n",
       "3              1           0           0           0           0           0   \n",
       "4              0           0           0           0           0           0   \n",
       "...          ...         ...         ...         ...         ...         ...   \n",
       "7707           0           0           0           0           0           0   \n",
       "7708           0           0           0           0           0           0   \n",
       "7709           0           0           0           0           0           0   \n",
       "7710           0           0           0           0           0           0   \n",
       "7711           1           0           0           0           0           0   \n",
       "\n",
       "      ...  PubchemFP871  PubchemFP872  PubchemFP873  PubchemFP874  \\\n",
       "0     ...             0             0             0             0   \n",
       "1     ...             0             0             0             0   \n",
       "2     ...             0             0             0             0   \n",
       "3     ...             0             0             0             0   \n",
       "4     ...             0             0             0             0   \n",
       "...   ...           ...           ...           ...           ...   \n",
       "7707  ...             0             0             0             0   \n",
       "7708  ...             0             0             0             0   \n",
       "7709  ...             0             0             0             0   \n",
       "7710  ...             0             0             0             0   \n",
       "7711  ...             0             0             0             0   \n",
       "\n",
       "      PubchemFP875  PubchemFP876  PubchemFP877  PubchemFP878  PubchemFP879  \\\n",
       "0                0             0             0             0             0   \n",
       "1                0             0             0             0             0   \n",
       "2                0             0             0             0             0   \n",
       "3                0             0             0             0             0   \n",
       "4                0             0             0             0             0   \n",
       "...            ...           ...           ...           ...           ...   \n",
       "7707             0             0             0             0             0   \n",
       "7708             0             0             0             0             0   \n",
       "7709             0             0             0             0             0   \n",
       "7710             0             0             0             0             0   \n",
       "7711             0             0             0             0             0   \n",
       "\n",
       "      PubchemFP880  \n",
       "0                0  \n",
       "1                0  \n",
       "2                0  \n",
       "3                0  \n",
       "4                0  \n",
       "...            ...  \n",
       "7707             0  \n",
       "7708             0  \n",
       "7709             0  \n",
       "7710             0  \n",
       "7711             0  \n",
       "\n",
       "[7712 rows x 882 columns]"
      ]
     },
     "execution_count": 57,
     "metadata": {},
     "output_type": "execute_result"
    }
   ],
   "source": [
    "descriptors_PubChem"
   ]
  },
  {
   "cell_type": "code",
   "execution_count": 58,
   "metadata": {},
   "outputs": [],
   "source": [
    "x_tr = descriptors_PubChem.drop('Name', axis=1)"
   ]
  },
  {
   "cell_type": "code",
   "execution_count": 59,
   "metadata": {},
   "outputs": [],
   "source": [
    "x_tr = np.array(x_tr, dtype=np.float32)\n",
    "y_tr = np.array(y_tr, dtype=np.float32)"
   ]
  },
  {
   "cell_type": "code",
   "execution_count": 62,
   "metadata": {},
   "outputs": [],
   "source": [
    "savetxt('models/Padels/x_tr_PubChem.csv', x_tr, delimiter=',')"
   ]
  },
  {
   "cell_type": "code",
   "execution_count": 63,
   "metadata": {},
   "outputs": [
    {
     "data": {
      "text/plain": [
       "(7712, 881)"
      ]
     },
     "execution_count": 63,
     "metadata": {},
     "output_type": "execute_result"
    }
   ],
   "source": [
    "x_tr.shape"
   ]
  },
  {
   "cell_type": "markdown",
   "metadata": {},
   "source": [
    "# 7.Descriptor calculation for test set"
   ]
  },
  {
   "cell_type": "code",
   "execution_count": 64,
   "metadata": {},
   "outputs": [],
   "source": [
    "from padelpy import padeldescriptor\n",
    "\n",
    "fingerprint = 'PubChem'\n",
    "\n",
    "fingerprint_output_file = ''.join([fingerprint,'_ts.csv']) #PubChem.csv\n",
    "fingerprint_descriptortypes = fp[fingerprint]\n",
    "\n",
    "padeldescriptor(mol_dir='datasets/molecule_ts.smi', \n",
    "                d_file=fingerprint_output_file, #'PubChem.csv'\n",
    "                #descriptortypes='PubChem.xml', \n",
    "                descriptortypes= fingerprint_descriptortypes,\n",
    "                detectaromaticity=True,\n",
    "                standardizenitro=True,\n",
    "                standardizetautomers=True,\n",
    "                threads=2,\n",
    "                removesalt=True,\n",
    "                log=False,\n",
    "                fingerprints=True)"
   ]
  },
  {
   "cell_type": "code",
   "execution_count": 65,
   "metadata": {},
   "outputs": [],
   "source": [
    "descriptors_PubChem_ts = pd.read_csv('PubChem_ts.csv')"
   ]
  },
  {
   "cell_type": "code",
   "execution_count": 66,
   "metadata": {},
   "outputs": [],
   "source": [
    "x_ts = descriptors_PubChem_ts.drop('Name', axis=1)"
   ]
  },
  {
   "cell_type": "code",
   "execution_count": 67,
   "metadata": {},
   "outputs": [
    {
     "data": {
      "text/plain": [
       "(1929, 881)"
      ]
     },
     "execution_count": 67,
     "metadata": {},
     "output_type": "execute_result"
    }
   ],
   "source": [
    "x_ts.shape"
   ]
  },
  {
   "cell_type": "markdown",
   "metadata": {},
   "source": [
    " # GradientBoostingRegressor model building and validation"
   ]
  },
  {
   "cell_type": "code",
   "execution_count": 68,
   "metadata": {},
   "outputs": [],
   "source": [
    "seed = 42"
   ]
  },
  {
   "cell_type": "code",
   "execution_count": 69,
   "metadata": {},
   "outputs": [],
   "source": [
    "cv=KFold(n_splits=5, random_state=seed, shuffle=True)"
   ]
  },
  {
   "cell_type": "code",
   "execution_count": 70,
   "metadata": {},
   "outputs": [],
   "source": [
    "param_grid = {'learning_rate': [0.02,0.05],\n",
    "                  'subsample'    : [0.9, 0.5, 0.1],\n",
    "                  'n_estimators' : [100,500,1000],\n",
    "                  'max_depth'    : [4, 10]\n",
    "                 }"
   ]
  },
  {
   "cell_type": "code",
   "execution_count": 71,
   "metadata": {},
   "outputs": [],
   "source": [
    "m = GridSearchCV(GradientBoostingRegressor(), param_grid, n_jobs=-1, cv=cv, verbose=1)"
   ]
  },
  {
   "cell_type": "code",
   "execution_count": 72,
   "metadata": {},
   "outputs": [
    {
     "name": "stdout",
     "output_type": "stream",
     "text": [
      "Fitting 5 folds for each of 36 candidates, totalling 180 fits\n"
     ]
    },
    {
     "data": {
      "text/html": [
       "<style>#sk-container-id-1 {color: black;}#sk-container-id-1 pre{padding: 0;}#sk-container-id-1 div.sk-toggleable {background-color: white;}#sk-container-id-1 label.sk-toggleable__label {cursor: pointer;display: block;width: 100%;margin-bottom: 0;padding: 0.3em;box-sizing: border-box;text-align: center;}#sk-container-id-1 label.sk-toggleable__label-arrow:before {content: \"▸\";float: left;margin-right: 0.25em;color: #696969;}#sk-container-id-1 label.sk-toggleable__label-arrow:hover:before {color: black;}#sk-container-id-1 div.sk-estimator:hover label.sk-toggleable__label-arrow:before {color: black;}#sk-container-id-1 div.sk-toggleable__content {max-height: 0;max-width: 0;overflow: hidden;text-align: left;background-color: #f0f8ff;}#sk-container-id-1 div.sk-toggleable__content pre {margin: 0.2em;color: black;border-radius: 0.25em;background-color: #f0f8ff;}#sk-container-id-1 input.sk-toggleable__control:checked~div.sk-toggleable__content {max-height: 200px;max-width: 100%;overflow: auto;}#sk-container-id-1 input.sk-toggleable__control:checked~label.sk-toggleable__label-arrow:before {content: \"▾\";}#sk-container-id-1 div.sk-estimator input.sk-toggleable__control:checked~label.sk-toggleable__label {background-color: #d4ebff;}#sk-container-id-1 div.sk-label input.sk-toggleable__control:checked~label.sk-toggleable__label {background-color: #d4ebff;}#sk-container-id-1 input.sk-hidden--visually {border: 0;clip: rect(1px 1px 1px 1px);clip: rect(1px, 1px, 1px, 1px);height: 1px;margin: -1px;overflow: hidden;padding: 0;position: absolute;width: 1px;}#sk-container-id-1 div.sk-estimator {font-family: monospace;background-color: #f0f8ff;border: 1px dotted black;border-radius: 0.25em;box-sizing: border-box;margin-bottom: 0.5em;}#sk-container-id-1 div.sk-estimator:hover {background-color: #d4ebff;}#sk-container-id-1 div.sk-parallel-item::after {content: \"\";width: 100%;border-bottom: 1px solid gray;flex-grow: 1;}#sk-container-id-1 div.sk-label:hover label.sk-toggleable__label {background-color: #d4ebff;}#sk-container-id-1 div.sk-serial::before {content: \"\";position: absolute;border-left: 1px solid gray;box-sizing: border-box;top: 0;bottom: 0;left: 50%;z-index: 0;}#sk-container-id-1 div.sk-serial {display: flex;flex-direction: column;align-items: center;background-color: white;padding-right: 0.2em;padding-left: 0.2em;position: relative;}#sk-container-id-1 div.sk-item {position: relative;z-index: 1;}#sk-container-id-1 div.sk-parallel {display: flex;align-items: stretch;justify-content: center;background-color: white;position: relative;}#sk-container-id-1 div.sk-item::before, #sk-container-id-1 div.sk-parallel-item::before {content: \"\";position: absolute;border-left: 1px solid gray;box-sizing: border-box;top: 0;bottom: 0;left: 50%;z-index: -1;}#sk-container-id-1 div.sk-parallel-item {display: flex;flex-direction: column;z-index: 1;position: relative;background-color: white;}#sk-container-id-1 div.sk-parallel-item:first-child::after {align-self: flex-end;width: 50%;}#sk-container-id-1 div.sk-parallel-item:last-child::after {align-self: flex-start;width: 50%;}#sk-container-id-1 div.sk-parallel-item:only-child::after {width: 0;}#sk-container-id-1 div.sk-dashed-wrapped {border: 1px dashed gray;margin: 0 0.4em 0.5em 0.4em;box-sizing: border-box;padding-bottom: 0.4em;background-color: white;}#sk-container-id-1 div.sk-label label {font-family: monospace;font-weight: bold;display: inline-block;line-height: 1.2em;}#sk-container-id-1 div.sk-label-container {text-align: center;}#sk-container-id-1 div.sk-container {/* jupyter's `normalize.less` sets `[hidden] { display: none; }` but bootstrap.min.css set `[hidden] { display: none !important; }` so we also need the `!important` here to be able to override the default hidden behavior on the sphinx rendered scikit-learn.org. See: https://github.com/scikit-learn/scikit-learn/issues/21755 */display: inline-block !important;position: relative;}#sk-container-id-1 div.sk-text-repr-fallback {display: none;}</style><div id=\"sk-container-id-1\" class=\"sk-top-container\"><div class=\"sk-text-repr-fallback\"><pre>GridSearchCV(cv=KFold(n_splits=5, random_state=42, shuffle=True),\n",
       "             estimator=GradientBoostingRegressor(), n_jobs=-1,\n",
       "             param_grid={&#x27;learning_rate&#x27;: [0.02, 0.05], &#x27;max_depth&#x27;: [4, 10],\n",
       "                         &#x27;n_estimators&#x27;: [100, 500, 1000],\n",
       "                         &#x27;subsample&#x27;: [0.9, 0.5, 0.1]},\n",
       "             verbose=1)</pre><b>In a Jupyter environment, please rerun this cell to show the HTML representation or trust the notebook. <br />On GitHub, the HTML representation is unable to render, please try loading this page with nbviewer.org.</b></div><div class=\"sk-container\" hidden><div class=\"sk-item sk-dashed-wrapped\"><div class=\"sk-label-container\"><div class=\"sk-label sk-toggleable\"><input class=\"sk-toggleable__control sk-hidden--visually\" id=\"sk-estimator-id-1\" type=\"checkbox\" ><label for=\"sk-estimator-id-1\" class=\"sk-toggleable__label sk-toggleable__label-arrow\">GridSearchCV</label><div class=\"sk-toggleable__content\"><pre>GridSearchCV(cv=KFold(n_splits=5, random_state=42, shuffle=True),\n",
       "             estimator=GradientBoostingRegressor(), n_jobs=-1,\n",
       "             param_grid={&#x27;learning_rate&#x27;: [0.02, 0.05], &#x27;max_depth&#x27;: [4, 10],\n",
       "                         &#x27;n_estimators&#x27;: [100, 500, 1000],\n",
       "                         &#x27;subsample&#x27;: [0.9, 0.5, 0.1]},\n",
       "             verbose=1)</pre></div></div></div><div class=\"sk-parallel\"><div class=\"sk-parallel-item\"><div class=\"sk-item\"><div class=\"sk-label-container\"><div class=\"sk-label sk-toggleable\"><input class=\"sk-toggleable__control sk-hidden--visually\" id=\"sk-estimator-id-2\" type=\"checkbox\" ><label for=\"sk-estimator-id-2\" class=\"sk-toggleable__label sk-toggleable__label-arrow\">estimator: GradientBoostingRegressor</label><div class=\"sk-toggleable__content\"><pre>GradientBoostingRegressor()</pre></div></div></div><div class=\"sk-serial\"><div class=\"sk-item\"><div class=\"sk-estimator sk-toggleable\"><input class=\"sk-toggleable__control sk-hidden--visually\" id=\"sk-estimator-id-3\" type=\"checkbox\" ><label for=\"sk-estimator-id-3\" class=\"sk-toggleable__label sk-toggleable__label-arrow\">GradientBoostingRegressor</label><div class=\"sk-toggleable__content\"><pre>GradientBoostingRegressor()</pre></div></div></div></div></div></div></div></div></div></div>"
      ],
      "text/plain": [
       "GridSearchCV(cv=KFold(n_splits=5, random_state=42, shuffle=True),\n",
       "             estimator=GradientBoostingRegressor(), n_jobs=-1,\n",
       "             param_grid={'learning_rate': [0.02, 0.05], 'max_depth': [4, 10],\n",
       "                         'n_estimators': [100, 500, 1000],\n",
       "                         'subsample': [0.9, 0.5, 0.1]},\n",
       "             verbose=1)"
      ]
     },
     "execution_count": 72,
     "metadata": {},
     "output_type": "execute_result"
    }
   ],
   "source": [
    "m.fit(x_tr, y_tr)"
   ]
  },
  {
   "cell_type": "code",
   "execution_count": 73,
   "metadata": {},
   "outputs": [],
   "source": [
    "best_GBR = m.best_estimator_"
   ]
  },
  {
   "cell_type": "code",
   "execution_count": 74,
   "metadata": {},
   "outputs": [
    {
     "data": {
      "text/plain": [
       "{'learning_rate': 0.02, 'max_depth': 10, 'n_estimators': 500, 'subsample': 0.5}"
      ]
     },
     "execution_count": 74,
     "metadata": {},
     "output_type": "execute_result"
    }
   ],
   "source": [
    "m.best_params_"
   ]
  },
  {
   "cell_type": "code",
   "execution_count": 75,
   "metadata": {},
   "outputs": [],
   "source": [
    "y_pred_ws_GBR = best_GBR.predict(x_tr)"
   ]
  },
  {
   "cell_type": "code",
   "execution_count": 76,
   "metadata": {},
   "outputs": [
    {
     "data": {
      "text/plain": [
       "0.9"
      ]
     },
     "execution_count": 76,
     "metadata": {},
     "output_type": "execute_result"
    }
   ],
   "source": [
    "R2_WS = round(r2_score(y_tr, y_pred_ws_GBR), 2)\n",
    "R2_WS"
   ]
  },
  {
   "cell_type": "code",
   "execution_count": 77,
   "metadata": {},
   "outputs": [
    {
     "data": {
      "text/plain": [
       "0.47"
      ]
     },
     "execution_count": 77,
     "metadata": {},
     "output_type": "execute_result"
    }
   ],
   "source": [
    "RMSE_WS=round(np.sqrt(mean_absolute_error(y_tr, y_pred_ws_GBR)), 2)\n",
    "RMSE_WS"
   ]
  },
  {
   "cell_type": "code",
   "execution_count": 78,
   "metadata": {},
   "outputs": [],
   "source": [
    "y_pred_CV_GBR = cross_val_predict(best_GBR, x_tr, y_tr, cv=cv)"
   ]
  },
  {
   "cell_type": "code",
   "execution_count": 79,
   "metadata": {},
   "outputs": [
    {
     "data": {
      "text/plain": [
       "array([1.65282279, 2.74096043, 1.56835671, ..., 4.97440389, 4.78439187,\n",
       "       2.80403106])"
      ]
     },
     "execution_count": 79,
     "metadata": {},
     "output_type": "execute_result"
    }
   ],
   "source": [
    "y_pred_CV_GBR"
   ]
  },
  {
   "cell_type": "code",
   "execution_count": 80,
   "metadata": {},
   "outputs": [
    {
     "data": {
      "text/plain": [
       "0.59"
      ]
     },
     "execution_count": 80,
     "metadata": {},
     "output_type": "execute_result"
    }
   ],
   "source": [
    "Q2_CV = round(r2_score(y_tr, y_pred_CV_GBR), 2)\n",
    "Q2_CV"
   ]
  },
  {
   "cell_type": "code",
   "execution_count": 81,
   "metadata": {},
   "outputs": [
    {
     "data": {
      "text/plain": [
       "0.64"
      ]
     },
     "execution_count": 81,
     "metadata": {},
     "output_type": "execute_result"
    }
   ],
   "source": [
    "RMSE_CV=round(np.sqrt(mean_absolute_error(y_tr, y_pred_CV_GBR)), 2)\n",
    "RMSE_CV"
   ]
  },
  {
   "cell_type": "markdown",
   "metadata": {},
   "source": [
    "# 9. Prediction for test set's molecules"
   ]
  },
  {
   "cell_type": "code",
   "execution_count": 82,
   "metadata": {},
   "outputs": [
    {
     "data": {
      "text/plain": [
       "1929"
      ]
     },
     "execution_count": 82,
     "metadata": {},
     "output_type": "execute_result"
    }
   ],
   "source": [
    "x_ts = np.array(x_ts, dtype=np.float32)\n",
    "y_ts = np.array(y_ts, dtype=np.float32)\n",
    "len(y_ts)"
   ]
  },
  {
   "cell_type": "code",
   "execution_count": 83,
   "metadata": {},
   "outputs": [],
   "source": [
    "y_pred_GBR = best_GBR.predict(x_ts)"
   ]
  },
  {
   "cell_type": "code",
   "execution_count": 84,
   "metadata": {},
   "outputs": [
    {
     "data": {
      "text/plain": [
       "0.59"
      ]
     },
     "execution_count": 84,
     "metadata": {},
     "output_type": "execute_result"
    }
   ],
   "source": [
    "Q2_TS = round(r2_score(y_ts, y_pred_GBR), 2)\n",
    "Q2_TS"
   ]
  },
  {
   "cell_type": "code",
   "execution_count": 85,
   "metadata": {},
   "outputs": [
    {
     "data": {
      "text/plain": [
       "0.63"
      ]
     },
     "execution_count": 85,
     "metadata": {},
     "output_type": "execute_result"
    }
   ],
   "source": [
    "RMSE_TS=round(np.sqrt(mean_absolute_error(y_ts, y_pred_GBR)), 2)\n",
    "RMSE_TS"
   ]
  },
  {
   "cell_type": "markdown",
   "metadata": {},
   "source": [
    "# save the model to disk"
   ]
  },
  {
   "cell_type": "code",
   "execution_count": 86,
   "metadata": {},
   "outputs": [],
   "source": [
    "pickle.dump(best_GBR, open('models/Padels/Toxicitu_GBR_PubChem.pkl', 'wb'))"
   ]
  },
  {
   "cell_type": "markdown",
   "metadata": {},
   "source": [
    "# load the model from disk"
   ]
  },
  {
   "cell_type": "code",
   "execution_count": 26,
   "metadata": {},
   "outputs": [],
   "source": [
    "best_GBR = pickle.load(open('models/Padels/Toxicitu_GBR_PubChem.pkl', 'rb'))"
   ]
  },
  {
   "cell_type": "markdown",
   "metadata": {},
   "source": [
    "# 10. Y-randomization GradientBoostingRegressor model"
   ]
  },
  {
   "cell_type": "code",
   "execution_count": 87,
   "metadata": {},
   "outputs": [
    {
     "name": "stderr",
     "output_type": "stream",
     "text": [
      "[Parallel(n_jobs=-1)]: Using backend LokyBackend with 16 concurrent workers.\n",
      "[Parallel(n_jobs=-1)]: Done  18 tasks      | elapsed: 87.1min\n"
     ]
    },
    {
     "name": "stdout",
     "output_type": "stream",
     "text": [
      "True score =  0.59 \n",
      "Y-randomization =  -0.14 \n",
      "p-value =  0.0196\n"
     ]
    },
    {
     "name": "stderr",
     "output_type": "stream",
     "text": [
      "[Parallel(n_jobs=-1)]: Done  50 out of  50 | elapsed: 136.6min finished\n"
     ]
    }
   ],
   "source": [
    "permutations = 50\n",
    "score, permutation_scores, pvalue = permutation_test_score(best_GBR, x_tr, y_tr,\n",
    "                                                           cv=cv, scoring='r2',\n",
    "                                                           n_permutations=permutations,\n",
    "                                                           n_jobs=-1,\n",
    "                                                           verbose=1,\n",
    "                                                           random_state=seed)\n",
    "print('True score = ', score.round(2),\n",
    "      '\\nY-randomization = ', np.mean(permutation_scores).round(2),\n",
    "      '\\np-value = ', pvalue.round(4))"
   ]
  },
  {
   "cell_type": "markdown",
   "metadata": {},
   "source": [
    "# 11. Estimating applicability domain. Method - Euclidian distances, K=1"
   ]
  },
  {
   "cell_type": "code",
   "execution_count": 88,
   "metadata": {},
   "outputs": [],
   "source": [
    "neighbors_k= pairwise_distances(x_tr, n_jobs=-1)\n",
    "neighbors_k.sort(0)"
   ]
  },
  {
   "cell_type": "code",
   "execution_count": 89,
   "metadata": {},
   "outputs": [
    {
     "data": {
      "text/html": [
       "<div>\n",
       "<style scoped>\n",
       "    .dataframe tbody tr th:only-of-type {\n",
       "        vertical-align: middle;\n",
       "    }\n",
       "\n",
       "    .dataframe tbody tr th {\n",
       "        vertical-align: top;\n",
       "    }\n",
       "\n",
       "    .dataframe thead th {\n",
       "        text-align: right;\n",
       "    }\n",
       "</style>\n",
       "<table border=\"1\" class=\"dataframe\">\n",
       "  <thead>\n",
       "    <tr style=\"text-align: right;\">\n",
       "      <th></th>\n",
       "      <th>0</th>\n",
       "      <th>1</th>\n",
       "      <th>2</th>\n",
       "      <th>3</th>\n",
       "      <th>4</th>\n",
       "      <th>5</th>\n",
       "      <th>6</th>\n",
       "      <th>7</th>\n",
       "      <th>8</th>\n",
       "      <th>9</th>\n",
       "      <th>...</th>\n",
       "      <th>7702</th>\n",
       "      <th>7703</th>\n",
       "      <th>7704</th>\n",
       "      <th>7705</th>\n",
       "      <th>7706</th>\n",
       "      <th>7707</th>\n",
       "      <th>7708</th>\n",
       "      <th>7709</th>\n",
       "      <th>7710</th>\n",
       "      <th>7711</th>\n",
       "    </tr>\n",
       "  </thead>\n",
       "  <tbody>\n",
       "    <tr>\n",
       "      <th>0</th>\n",
       "      <td>0.000000</td>\n",
       "      <td>0.000000</td>\n",
       "      <td>0.000000</td>\n",
       "      <td>0.000000</td>\n",
       "      <td>0.000000</td>\n",
       "      <td>0.000000</td>\n",
       "      <td>0.000000</td>\n",
       "      <td>0.000000</td>\n",
       "      <td>0.000000</td>\n",
       "      <td>0.000000</td>\n",
       "      <td>...</td>\n",
       "      <td>0.000000</td>\n",
       "      <td>0.000000</td>\n",
       "      <td>0.000000</td>\n",
       "      <td>0.000000</td>\n",
       "      <td>0.000000</td>\n",
       "      <td>0.000000</td>\n",
       "      <td>0.000000</td>\n",
       "      <td>0.000000</td>\n",
       "      <td>0.000000</td>\n",
       "      <td>0.000000</td>\n",
       "    </tr>\n",
       "    <tr>\n",
       "      <th>1</th>\n",
       "      <td>2.449490</td>\n",
       "      <td>4.472136</td>\n",
       "      <td>1.000000</td>\n",
       "      <td>3.000000</td>\n",
       "      <td>1.414214</td>\n",
       "      <td>2.645751</td>\n",
       "      <td>3.000000</td>\n",
       "      <td>3.741657</td>\n",
       "      <td>0.000000</td>\n",
       "      <td>1.000000</td>\n",
       "      <td>...</td>\n",
       "      <td>1.414214</td>\n",
       "      <td>1.732051</td>\n",
       "      <td>2.449490</td>\n",
       "      <td>4.582576</td>\n",
       "      <td>2.236068</td>\n",
       "      <td>3.316625</td>\n",
       "      <td>4.898980</td>\n",
       "      <td>3.000000</td>\n",
       "      <td>2.828427</td>\n",
       "      <td>3.316625</td>\n",
       "    </tr>\n",
       "    <tr>\n",
       "      <th>2</th>\n",
       "      <td>3.162278</td>\n",
       "      <td>4.582576</td>\n",
       "      <td>1.732051</td>\n",
       "      <td>3.872983</td>\n",
       "      <td>1.414214</td>\n",
       "      <td>3.000000</td>\n",
       "      <td>3.000000</td>\n",
       "      <td>4.123106</td>\n",
       "      <td>0.000000</td>\n",
       "      <td>2.236068</td>\n",
       "      <td>...</td>\n",
       "      <td>1.414214</td>\n",
       "      <td>2.000000</td>\n",
       "      <td>3.316625</td>\n",
       "      <td>5.196152</td>\n",
       "      <td>4.472136</td>\n",
       "      <td>3.605551</td>\n",
       "      <td>4.898980</td>\n",
       "      <td>3.162278</td>\n",
       "      <td>3.162278</td>\n",
       "      <td>3.872983</td>\n",
       "    </tr>\n",
       "    <tr>\n",
       "      <th>3</th>\n",
       "      <td>3.316625</td>\n",
       "      <td>4.690416</td>\n",
       "      <td>2.000000</td>\n",
       "      <td>4.123106</td>\n",
       "      <td>2.000000</td>\n",
       "      <td>3.162278</td>\n",
       "      <td>3.464102</td>\n",
       "      <td>4.242640</td>\n",
       "      <td>0.000000</td>\n",
       "      <td>2.236068</td>\n",
       "      <td>...</td>\n",
       "      <td>2.449490</td>\n",
       "      <td>3.000000</td>\n",
       "      <td>5.744563</td>\n",
       "      <td>5.385165</td>\n",
       "      <td>4.582576</td>\n",
       "      <td>4.358899</td>\n",
       "      <td>4.898980</td>\n",
       "      <td>3.605551</td>\n",
       "      <td>3.162278</td>\n",
       "      <td>4.795832</td>\n",
       "    </tr>\n",
       "    <tr>\n",
       "      <th>4</th>\n",
       "      <td>3.605551</td>\n",
       "      <td>4.795832</td>\n",
       "      <td>2.000000</td>\n",
       "      <td>4.242640</td>\n",
       "      <td>2.000000</td>\n",
       "      <td>3.316625</td>\n",
       "      <td>3.605551</td>\n",
       "      <td>4.242640</td>\n",
       "      <td>1.000000</td>\n",
       "      <td>2.236068</td>\n",
       "      <td>...</td>\n",
       "      <td>2.828427</td>\n",
       "      <td>3.000000</td>\n",
       "      <td>6.403124</td>\n",
       "      <td>5.477226</td>\n",
       "      <td>4.898980</td>\n",
       "      <td>5.000000</td>\n",
       "      <td>5.000000</td>\n",
       "      <td>5.196152</td>\n",
       "      <td>3.464102</td>\n",
       "      <td>5.000000</td>\n",
       "    </tr>\n",
       "    <tr>\n",
       "      <th>...</th>\n",
       "      <td>...</td>\n",
       "      <td>...</td>\n",
       "      <td>...</td>\n",
       "      <td>...</td>\n",
       "      <td>...</td>\n",
       "      <td>...</td>\n",
       "      <td>...</td>\n",
       "      <td>...</td>\n",
       "      <td>...</td>\n",
       "      <td>...</td>\n",
       "      <td>...</td>\n",
       "      <td>...</td>\n",
       "      <td>...</td>\n",
       "      <td>...</td>\n",
       "      <td>...</td>\n",
       "      <td>...</td>\n",
       "      <td>...</td>\n",
       "      <td>...</td>\n",
       "      <td>...</td>\n",
       "      <td>...</td>\n",
       "      <td>...</td>\n",
       "    </tr>\n",
       "    <tr>\n",
       "      <th>7707</th>\n",
       "      <td>14.798649</td>\n",
       "      <td>13.892444</td>\n",
       "      <td>15.165751</td>\n",
       "      <td>14.282857</td>\n",
       "      <td>14.933185</td>\n",
       "      <td>14.594520</td>\n",
       "      <td>14.798649</td>\n",
       "      <td>14.525839</td>\n",
       "      <td>14.456832</td>\n",
       "      <td>15.652476</td>\n",
       "      <td>...</td>\n",
       "      <td>14.832397</td>\n",
       "      <td>15.066519</td>\n",
       "      <td>14.594520</td>\n",
       "      <td>14.966630</td>\n",
       "      <td>14.832397</td>\n",
       "      <td>14.966630</td>\n",
       "      <td>13.892444</td>\n",
       "      <td>14.525839</td>\n",
       "      <td>14.594520</td>\n",
       "      <td>14.282857</td>\n",
       "    </tr>\n",
       "    <tr>\n",
       "      <th>7708</th>\n",
       "      <td>14.832397</td>\n",
       "      <td>14.106736</td>\n",
       "      <td>15.362291</td>\n",
       "      <td>14.491377</td>\n",
       "      <td>15.000000</td>\n",
       "      <td>14.730920</td>\n",
       "      <td>15.000000</td>\n",
       "      <td>14.832397</td>\n",
       "      <td>15.033297</td>\n",
       "      <td>15.842979</td>\n",
       "      <td>...</td>\n",
       "      <td>14.899665</td>\n",
       "      <td>15.165751</td>\n",
       "      <td>14.628738</td>\n",
       "      <td>15.099669</td>\n",
       "      <td>14.866069</td>\n",
       "      <td>15.099669</td>\n",
       "      <td>13.928389</td>\n",
       "      <td>14.832397</td>\n",
       "      <td>14.628738</td>\n",
       "      <td>14.282857</td>\n",
       "    </tr>\n",
       "    <tr>\n",
       "      <th>7709</th>\n",
       "      <td>15.427249</td>\n",
       "      <td>14.177447</td>\n",
       "      <td>15.779734</td>\n",
       "      <td>14.525839</td>\n",
       "      <td>15.684387</td>\n",
       "      <td>15.099669</td>\n",
       "      <td>15.033297</td>\n",
       "      <td>14.866069</td>\n",
       "      <td>15.132746</td>\n",
       "      <td>16.000000</td>\n",
       "      <td>...</td>\n",
       "      <td>15.459625</td>\n",
       "      <td>15.874508</td>\n",
       "      <td>14.662878</td>\n",
       "      <td>15.362291</td>\n",
       "      <td>15.297058</td>\n",
       "      <td>15.198684</td>\n",
       "      <td>13.964240</td>\n",
       "      <td>14.933185</td>\n",
       "      <td>15.264338</td>\n",
       "      <td>14.317822</td>\n",
       "    </tr>\n",
       "    <tr>\n",
       "      <th>7710</th>\n",
       "      <td>15.524175</td>\n",
       "      <td>14.456832</td>\n",
       "      <td>16.062378</td>\n",
       "      <td>14.933185</td>\n",
       "      <td>15.716233</td>\n",
       "      <td>15.198684</td>\n",
       "      <td>15.198684</td>\n",
       "      <td>15.264338</td>\n",
       "      <td>15.556349</td>\n",
       "      <td>16.522711</td>\n",
       "      <td>...</td>\n",
       "      <td>15.842979</td>\n",
       "      <td>15.968719</td>\n",
       "      <td>14.662878</td>\n",
       "      <td>15.394804</td>\n",
       "      <td>15.716233</td>\n",
       "      <td>15.198684</td>\n",
       "      <td>14.106736</td>\n",
       "      <td>15.099669</td>\n",
       "      <td>15.652476</td>\n",
       "      <td>14.594520</td>\n",
       "    </tr>\n",
       "    <tr>\n",
       "      <th>7711</th>\n",
       "      <td>16.031219</td>\n",
       "      <td>15.000000</td>\n",
       "      <td>16.552946</td>\n",
       "      <td>15.132746</td>\n",
       "      <td>16.340136</td>\n",
       "      <td>15.905973</td>\n",
       "      <td>16.248077</td>\n",
       "      <td>15.329710</td>\n",
       "      <td>15.811388</td>\n",
       "      <td>17.000000</td>\n",
       "      <td>...</td>\n",
       "      <td>16.217276</td>\n",
       "      <td>16.613247</td>\n",
       "      <td>14.764823</td>\n",
       "      <td>15.459625</td>\n",
       "      <td>16.062378</td>\n",
       "      <td>15.652476</td>\n",
       "      <td>14.456832</td>\n",
       "      <td>15.165751</td>\n",
       "      <td>16.031219</td>\n",
       "      <td>14.696939</td>\n",
       "    </tr>\n",
       "  </tbody>\n",
       "</table>\n",
       "<p>7712 rows × 7712 columns</p>\n",
       "</div>"
      ],
      "text/plain": [
       "           0          1          2          3          4          5     \\\n",
       "0      0.000000   0.000000   0.000000   0.000000   0.000000   0.000000   \n",
       "1      2.449490   4.472136   1.000000   3.000000   1.414214   2.645751   \n",
       "2      3.162278   4.582576   1.732051   3.872983   1.414214   3.000000   \n",
       "3      3.316625   4.690416   2.000000   4.123106   2.000000   3.162278   \n",
       "4      3.605551   4.795832   2.000000   4.242640   2.000000   3.316625   \n",
       "...         ...        ...        ...        ...        ...        ...   \n",
       "7707  14.798649  13.892444  15.165751  14.282857  14.933185  14.594520   \n",
       "7708  14.832397  14.106736  15.362291  14.491377  15.000000  14.730920   \n",
       "7709  15.427249  14.177447  15.779734  14.525839  15.684387  15.099669   \n",
       "7710  15.524175  14.456832  16.062378  14.933185  15.716233  15.198684   \n",
       "7711  16.031219  15.000000  16.552946  15.132746  16.340136  15.905973   \n",
       "\n",
       "           6          7          8          9     ...       7702       7703  \\\n",
       "0      0.000000   0.000000   0.000000   0.000000  ...   0.000000   0.000000   \n",
       "1      3.000000   3.741657   0.000000   1.000000  ...   1.414214   1.732051   \n",
       "2      3.000000   4.123106   0.000000   2.236068  ...   1.414214   2.000000   \n",
       "3      3.464102   4.242640   0.000000   2.236068  ...   2.449490   3.000000   \n",
       "4      3.605551   4.242640   1.000000   2.236068  ...   2.828427   3.000000   \n",
       "...         ...        ...        ...        ...  ...        ...        ...   \n",
       "7707  14.798649  14.525839  14.456832  15.652476  ...  14.832397  15.066519   \n",
       "7708  15.000000  14.832397  15.033297  15.842979  ...  14.899665  15.165751   \n",
       "7709  15.033297  14.866069  15.132746  16.000000  ...  15.459625  15.874508   \n",
       "7710  15.198684  15.264338  15.556349  16.522711  ...  15.842979  15.968719   \n",
       "7711  16.248077  15.329710  15.811388  17.000000  ...  16.217276  16.613247   \n",
       "\n",
       "           7704       7705       7706       7707       7708       7709  \\\n",
       "0      0.000000   0.000000   0.000000   0.000000   0.000000   0.000000   \n",
       "1      2.449490   4.582576   2.236068   3.316625   4.898980   3.000000   \n",
       "2      3.316625   5.196152   4.472136   3.605551   4.898980   3.162278   \n",
       "3      5.744563   5.385165   4.582576   4.358899   4.898980   3.605551   \n",
       "4      6.403124   5.477226   4.898980   5.000000   5.000000   5.196152   \n",
       "...         ...        ...        ...        ...        ...        ...   \n",
       "7707  14.594520  14.966630  14.832397  14.966630  13.892444  14.525839   \n",
       "7708  14.628738  15.099669  14.866069  15.099669  13.928389  14.832397   \n",
       "7709  14.662878  15.362291  15.297058  15.198684  13.964240  14.933185   \n",
       "7710  14.662878  15.394804  15.716233  15.198684  14.106736  15.099669   \n",
       "7711  14.764823  15.459625  16.062378  15.652476  14.456832  15.165751   \n",
       "\n",
       "           7710       7711  \n",
       "0      0.000000   0.000000  \n",
       "1      2.828427   3.316625  \n",
       "2      3.162278   3.872983  \n",
       "3      3.162278   4.795832  \n",
       "4      3.464102   5.000000  \n",
       "...         ...        ...  \n",
       "7707  14.594520  14.282857  \n",
       "7708  14.628738  14.282857  \n",
       "7709  15.264338  14.317822  \n",
       "7710  15.652476  14.594520  \n",
       "7711  16.031219  14.696939  \n",
       "\n",
       "[7712 rows x 7712 columns]"
      ]
     },
     "execution_count": 89,
     "metadata": {},
     "output_type": "execute_result"
    }
   ],
   "source": [
    "df_tr=pd.DataFrame(neighbors_k)\n",
    "df_tr"
   ]
  },
  {
   "cell_type": "code",
   "execution_count": 90,
   "metadata": {},
   "outputs": [],
   "source": [
    "similarity= neighbors_k"
   ]
  },
  {
   "cell_type": "code",
   "execution_count": 91,
   "metadata": {},
   "outputs": [],
   "source": [
    "Dmean=np.mean(similarity[1,:])"
   ]
  },
  {
   "cell_type": "code",
   "execution_count": 92,
   "metadata": {},
   "outputs": [
    {
     "data": {
      "text/plain": [
       "2.83"
      ]
     },
     "execution_count": 92,
     "metadata": {},
     "output_type": "execute_result"
    }
   ],
   "source": [
    "round(Dmean, 2)"
   ]
  },
  {
   "cell_type": "code",
   "execution_count": 93,
   "metadata": {},
   "outputs": [],
   "source": [
    "std=np.std(similarity[1,:])"
   ]
  },
  {
   "cell_type": "code",
   "execution_count": 94,
   "metadata": {},
   "outputs": [
    {
     "data": {
      "text/plain": [
       "1.58"
      ]
     },
     "execution_count": 94,
     "metadata": {},
     "output_type": "execute_result"
    }
   ],
   "source": [
    "round(std, 2)"
   ]
  },
  {
   "cell_type": "code",
   "execution_count": 95,
   "metadata": {},
   "outputs": [
    {
     "name": "stdout",
     "output_type": "stream",
     "text": [
      "3.62\n"
     ]
    }
   ],
   "source": [
    "model_AD_limit=Dmean+std*0.5\n",
    "print(np.round(model_AD_limit, 2))"
   ]
  },
  {
   "cell_type": "code",
   "execution_count": 96,
   "metadata": {},
   "outputs": [],
   "source": [
    "neighbors_k_ts= pairwise_distances(x_tr,Y=x_ts, n_jobs=-1)\n",
    "neighbors_k_ts.sort(0)"
   ]
  },
  {
   "cell_type": "code",
   "execution_count": 97,
   "metadata": {},
   "outputs": [
    {
     "data": {
      "text/html": [
       "<div>\n",
       "<style scoped>\n",
       "    .dataframe tbody tr th:only-of-type {\n",
       "        vertical-align: middle;\n",
       "    }\n",
       "\n",
       "    .dataframe tbody tr th {\n",
       "        vertical-align: top;\n",
       "    }\n",
       "\n",
       "    .dataframe thead th {\n",
       "        text-align: right;\n",
       "    }\n",
       "</style>\n",
       "<table border=\"1\" class=\"dataframe\">\n",
       "  <thead>\n",
       "    <tr style=\"text-align: right;\">\n",
       "      <th></th>\n",
       "      <th>0</th>\n",
       "      <th>1</th>\n",
       "      <th>2</th>\n",
       "      <th>3</th>\n",
       "      <th>4</th>\n",
       "      <th>5</th>\n",
       "      <th>6</th>\n",
       "      <th>7</th>\n",
       "      <th>8</th>\n",
       "      <th>9</th>\n",
       "      <th>...</th>\n",
       "      <th>1919</th>\n",
       "      <th>1920</th>\n",
       "      <th>1921</th>\n",
       "      <th>1922</th>\n",
       "      <th>1923</th>\n",
       "      <th>1924</th>\n",
       "      <th>1925</th>\n",
       "      <th>1926</th>\n",
       "      <th>1927</th>\n",
       "      <th>1928</th>\n",
       "    </tr>\n",
       "  </thead>\n",
       "  <tbody>\n",
       "    <tr>\n",
       "      <th>0</th>\n",
       "      <td>1.732051</td>\n",
       "      <td>2.645751</td>\n",
       "      <td>3.464102</td>\n",
       "      <td>1.000000</td>\n",
       "      <td>2.645751</td>\n",
       "      <td>1.732051</td>\n",
       "      <td>1.000000</td>\n",
       "      <td>1.732051</td>\n",
       "      <td>2.236068</td>\n",
       "      <td>3.464102</td>\n",
       "      <td>...</td>\n",
       "      <td>3.605551</td>\n",
       "      <td>4.242640</td>\n",
       "      <td>1.414214</td>\n",
       "      <td>1.732051</td>\n",
       "      <td>1.000000</td>\n",
       "      <td>1.000000</td>\n",
       "      <td>1.732051</td>\n",
       "      <td>2.000000</td>\n",
       "      <td>5.385165</td>\n",
       "      <td>3.605551</td>\n",
       "    </tr>\n",
       "    <tr>\n",
       "      <th>1</th>\n",
       "      <td>2.000000</td>\n",
       "      <td>3.316625</td>\n",
       "      <td>3.464102</td>\n",
       "      <td>1.414214</td>\n",
       "      <td>3.741657</td>\n",
       "      <td>1.732051</td>\n",
       "      <td>1.414214</td>\n",
       "      <td>2.000000</td>\n",
       "      <td>2.236068</td>\n",
       "      <td>3.605551</td>\n",
       "      <td>...</td>\n",
       "      <td>4.358899</td>\n",
       "      <td>5.291502</td>\n",
       "      <td>3.316625</td>\n",
       "      <td>3.162278</td>\n",
       "      <td>1.414214</td>\n",
       "      <td>2.449490</td>\n",
       "      <td>2.828427</td>\n",
       "      <td>2.449490</td>\n",
       "      <td>5.744563</td>\n",
       "      <td>3.741657</td>\n",
       "    </tr>\n",
       "    <tr>\n",
       "      <th>2</th>\n",
       "      <td>2.000000</td>\n",
       "      <td>3.316625</td>\n",
       "      <td>4.000000</td>\n",
       "      <td>1.732051</td>\n",
       "      <td>3.741657</td>\n",
       "      <td>2.000000</td>\n",
       "      <td>1.414214</td>\n",
       "      <td>2.236068</td>\n",
       "      <td>2.449490</td>\n",
       "      <td>4.123106</td>\n",
       "      <td>...</td>\n",
       "      <td>4.358899</td>\n",
       "      <td>5.291502</td>\n",
       "      <td>3.464102</td>\n",
       "      <td>3.316625</td>\n",
       "      <td>1.732051</td>\n",
       "      <td>2.645751</td>\n",
       "      <td>3.000000</td>\n",
       "      <td>3.316625</td>\n",
       "      <td>5.916080</td>\n",
       "      <td>4.242640</td>\n",
       "    </tr>\n",
       "    <tr>\n",
       "      <th>3</th>\n",
       "      <td>2.236068</td>\n",
       "      <td>3.464102</td>\n",
       "      <td>4.000000</td>\n",
       "      <td>1.732051</td>\n",
       "      <td>4.000000</td>\n",
       "      <td>2.236068</td>\n",
       "      <td>1.732051</td>\n",
       "      <td>2.449490</td>\n",
       "      <td>2.449490</td>\n",
       "      <td>4.242640</td>\n",
       "      <td>...</td>\n",
       "      <td>4.690416</td>\n",
       "      <td>6.244998</td>\n",
       "      <td>4.000000</td>\n",
       "      <td>3.464102</td>\n",
       "      <td>2.000000</td>\n",
       "      <td>3.464102</td>\n",
       "      <td>4.123106</td>\n",
       "      <td>3.316625</td>\n",
       "      <td>5.916080</td>\n",
       "      <td>4.358899</td>\n",
       "    </tr>\n",
       "    <tr>\n",
       "      <th>4</th>\n",
       "      <td>2.236068</td>\n",
       "      <td>3.605551</td>\n",
       "      <td>4.123106</td>\n",
       "      <td>2.000000</td>\n",
       "      <td>4.242640</td>\n",
       "      <td>2.236068</td>\n",
       "      <td>2.828427</td>\n",
       "      <td>2.645751</td>\n",
       "      <td>2.449490</td>\n",
       "      <td>4.358899</td>\n",
       "      <td>...</td>\n",
       "      <td>6.708204</td>\n",
       "      <td>6.324555</td>\n",
       "      <td>4.242640</td>\n",
       "      <td>3.464102</td>\n",
       "      <td>2.236068</td>\n",
       "      <td>4.123106</td>\n",
       "      <td>4.242640</td>\n",
       "      <td>3.464102</td>\n",
       "      <td>5.916080</td>\n",
       "      <td>4.472136</td>\n",
       "    </tr>\n",
       "    <tr>\n",
       "      <th>...</th>\n",
       "      <td>...</td>\n",
       "      <td>...</td>\n",
       "      <td>...</td>\n",
       "      <td>...</td>\n",
       "      <td>...</td>\n",
       "      <td>...</td>\n",
       "      <td>...</td>\n",
       "      <td>...</td>\n",
       "      <td>...</td>\n",
       "      <td>...</td>\n",
       "      <td>...</td>\n",
       "      <td>...</td>\n",
       "      <td>...</td>\n",
       "      <td>...</td>\n",
       "      <td>...</td>\n",
       "      <td>...</td>\n",
       "      <td>...</td>\n",
       "      <td>...</td>\n",
       "      <td>...</td>\n",
       "      <td>...</td>\n",
       "      <td>...</td>\n",
       "    </tr>\n",
       "    <tr>\n",
       "      <th>7707</th>\n",
       "      <td>15.394804</td>\n",
       "      <td>14.387495</td>\n",
       "      <td>14.933185</td>\n",
       "      <td>14.594520</td>\n",
       "      <td>14.730920</td>\n",
       "      <td>14.696939</td>\n",
       "      <td>14.106736</td>\n",
       "      <td>15.198684</td>\n",
       "      <td>14.933185</td>\n",
       "      <td>13.892444</td>\n",
       "      <td>...</td>\n",
       "      <td>15.132746</td>\n",
       "      <td>13.892444</td>\n",
       "      <td>15.165751</td>\n",
       "      <td>14.832397</td>\n",
       "      <td>15.491934</td>\n",
       "      <td>15.132746</td>\n",
       "      <td>15.198684</td>\n",
       "      <td>14.594520</td>\n",
       "      <td>14.525839</td>\n",
       "      <td>14.933185</td>\n",
       "    </tr>\n",
       "    <tr>\n",
       "      <th>7708</th>\n",
       "      <td>15.588457</td>\n",
       "      <td>14.456832</td>\n",
       "      <td>14.933185</td>\n",
       "      <td>14.933185</td>\n",
       "      <td>14.764823</td>\n",
       "      <td>14.798649</td>\n",
       "      <td>14.628738</td>\n",
       "      <td>15.394804</td>\n",
       "      <td>15.066519</td>\n",
       "      <td>14.071247</td>\n",
       "      <td>...</td>\n",
       "      <td>15.198684</td>\n",
       "      <td>14.000000</td>\n",
       "      <td>15.198684</td>\n",
       "      <td>14.899665</td>\n",
       "      <td>15.524175</td>\n",
       "      <td>15.198684</td>\n",
       "      <td>15.231546</td>\n",
       "      <td>14.966630</td>\n",
       "      <td>14.560220</td>\n",
       "      <td>15.000000</td>\n",
       "    </tr>\n",
       "    <tr>\n",
       "      <th>7709</th>\n",
       "      <td>16.000000</td>\n",
       "      <td>15.033297</td>\n",
       "      <td>15.362291</td>\n",
       "      <td>15.362291</td>\n",
       "      <td>15.132746</td>\n",
       "      <td>15.524175</td>\n",
       "      <td>14.798649</td>\n",
       "      <td>15.748015</td>\n",
       "      <td>15.748015</td>\n",
       "      <td>14.071247</td>\n",
       "      <td>...</td>\n",
       "      <td>15.198684</td>\n",
       "      <td>14.212670</td>\n",
       "      <td>15.198684</td>\n",
       "      <td>15.231546</td>\n",
       "      <td>16.062378</td>\n",
       "      <td>15.329710</td>\n",
       "      <td>15.231546</td>\n",
       "      <td>15.264338</td>\n",
       "      <td>15.198684</td>\n",
       "      <td>15.099669</td>\n",
       "    </tr>\n",
       "    <tr>\n",
       "      <th>7710</th>\n",
       "      <td>16.278820</td>\n",
       "      <td>15.132746</td>\n",
       "      <td>15.716233</td>\n",
       "      <td>15.588457</td>\n",
       "      <td>15.491934</td>\n",
       "      <td>15.620500</td>\n",
       "      <td>15.099669</td>\n",
       "      <td>16.031219</td>\n",
       "      <td>15.779734</td>\n",
       "      <td>14.491377</td>\n",
       "      <td>...</td>\n",
       "      <td>15.231546</td>\n",
       "      <td>14.456832</td>\n",
       "      <td>15.297058</td>\n",
       "      <td>15.394804</td>\n",
       "      <td>16.401220</td>\n",
       "      <td>15.329710</td>\n",
       "      <td>15.329710</td>\n",
       "      <td>15.556349</td>\n",
       "      <td>15.588457</td>\n",
       "      <td>15.264338</td>\n",
       "    </tr>\n",
       "    <tr>\n",
       "      <th>7711</th>\n",
       "      <td>16.763054</td>\n",
       "      <td>15.842979</td>\n",
       "      <td>16.093477</td>\n",
       "      <td>16.031219</td>\n",
       "      <td>16.000000</td>\n",
       "      <td>16.031219</td>\n",
       "      <td>15.556349</td>\n",
       "      <td>16.522711</td>\n",
       "      <td>16.278820</td>\n",
       "      <td>15.099669</td>\n",
       "      <td>...</td>\n",
       "      <td>15.231546</td>\n",
       "      <td>14.798649</td>\n",
       "      <td>15.362291</td>\n",
       "      <td>16.309507</td>\n",
       "      <td>17.029387</td>\n",
       "      <td>15.620500</td>\n",
       "      <td>15.394804</td>\n",
       "      <td>15.937377</td>\n",
       "      <td>15.968719</td>\n",
       "      <td>15.297058</td>\n",
       "    </tr>\n",
       "  </tbody>\n",
       "</table>\n",
       "<p>7712 rows × 1929 columns</p>\n",
       "</div>"
      ],
      "text/plain": [
       "           0          1          2          3          4          5     \\\n",
       "0      1.732051   2.645751   3.464102   1.000000   2.645751   1.732051   \n",
       "1      2.000000   3.316625   3.464102   1.414214   3.741657   1.732051   \n",
       "2      2.000000   3.316625   4.000000   1.732051   3.741657   2.000000   \n",
       "3      2.236068   3.464102   4.000000   1.732051   4.000000   2.236068   \n",
       "4      2.236068   3.605551   4.123106   2.000000   4.242640   2.236068   \n",
       "...         ...        ...        ...        ...        ...        ...   \n",
       "7707  15.394804  14.387495  14.933185  14.594520  14.730920  14.696939   \n",
       "7708  15.588457  14.456832  14.933185  14.933185  14.764823  14.798649   \n",
       "7709  16.000000  15.033297  15.362291  15.362291  15.132746  15.524175   \n",
       "7710  16.278820  15.132746  15.716233  15.588457  15.491934  15.620500   \n",
       "7711  16.763054  15.842979  16.093477  16.031219  16.000000  16.031219   \n",
       "\n",
       "           6          7          8          9     ...       1919       1920  \\\n",
       "0      1.000000   1.732051   2.236068   3.464102  ...   3.605551   4.242640   \n",
       "1      1.414214   2.000000   2.236068   3.605551  ...   4.358899   5.291502   \n",
       "2      1.414214   2.236068   2.449490   4.123106  ...   4.358899   5.291502   \n",
       "3      1.732051   2.449490   2.449490   4.242640  ...   4.690416   6.244998   \n",
       "4      2.828427   2.645751   2.449490   4.358899  ...   6.708204   6.324555   \n",
       "...         ...        ...        ...        ...  ...        ...        ...   \n",
       "7707  14.106736  15.198684  14.933185  13.892444  ...  15.132746  13.892444   \n",
       "7708  14.628738  15.394804  15.066519  14.071247  ...  15.198684  14.000000   \n",
       "7709  14.798649  15.748015  15.748015  14.071247  ...  15.198684  14.212670   \n",
       "7710  15.099669  16.031219  15.779734  14.491377  ...  15.231546  14.456832   \n",
       "7711  15.556349  16.522711  16.278820  15.099669  ...  15.231546  14.798649   \n",
       "\n",
       "           1921       1922       1923       1924       1925       1926  \\\n",
       "0      1.414214   1.732051   1.000000   1.000000   1.732051   2.000000   \n",
       "1      3.316625   3.162278   1.414214   2.449490   2.828427   2.449490   \n",
       "2      3.464102   3.316625   1.732051   2.645751   3.000000   3.316625   \n",
       "3      4.000000   3.464102   2.000000   3.464102   4.123106   3.316625   \n",
       "4      4.242640   3.464102   2.236068   4.123106   4.242640   3.464102   \n",
       "...         ...        ...        ...        ...        ...        ...   \n",
       "7707  15.165751  14.832397  15.491934  15.132746  15.198684  14.594520   \n",
       "7708  15.198684  14.899665  15.524175  15.198684  15.231546  14.966630   \n",
       "7709  15.198684  15.231546  16.062378  15.329710  15.231546  15.264338   \n",
       "7710  15.297058  15.394804  16.401220  15.329710  15.329710  15.556349   \n",
       "7711  15.362291  16.309507  17.029387  15.620500  15.394804  15.937377   \n",
       "\n",
       "           1927       1928  \n",
       "0      5.385165   3.605551  \n",
       "1      5.744563   3.741657  \n",
       "2      5.916080   4.242640  \n",
       "3      5.916080   4.358899  \n",
       "4      5.916080   4.472136  \n",
       "...         ...        ...  \n",
       "7707  14.525839  14.933185  \n",
       "7708  14.560220  15.000000  \n",
       "7709  15.198684  15.099669  \n",
       "7710  15.588457  15.264338  \n",
       "7711  15.968719  15.297058  \n",
       "\n",
       "[7712 rows x 1929 columns]"
      ]
     },
     "execution_count": 97,
     "metadata": {},
     "output_type": "execute_result"
    }
   ],
   "source": [
    "x_ts_AD=pd.DataFrame(neighbors_k_ts)\n",
    "x_ts_AD"
   ]
  },
  {
   "cell_type": "code",
   "execution_count": 98,
   "metadata": {},
   "outputs": [
    {
     "name": "stdout",
     "output_type": "stream",
     "text": [
      "[1.732 2.646 3.464 ... 2.    5.385 3.606]\n"
     ]
    }
   ],
   "source": [
    "similarity_ts= neighbors_k_ts\n",
    "cpd_AD=similarity_ts[0,:]\n",
    "cpd_value = np.round(cpd_AD, 3)\n",
    "print(cpd_value)"
   ]
  },
  {
   "cell_type": "code",
   "execution_count": 99,
   "metadata": {},
   "outputs": [
    {
     "name": "stdout",
     "output_type": "stream",
     "text": [
      "[ True  True  True ...  True False  True]\n"
     ]
    }
   ],
   "source": [
    "cpd_AD = np.where(cpd_value <= model_AD_limit, True, False)\n",
    "print(cpd_AD)"
   ]
  },
  {
   "cell_type": "code",
   "execution_count": 100,
   "metadata": {},
   "outputs": [
    {
     "name": "stdout",
     "output_type": "stream",
     "text": [
      "Coverage =  0.75\n"
     ]
    }
   ],
   "source": [
    "print(\"Coverage = \", round(sum(cpd_AD) / len(cpd_AD), 2))"
   ]
  },
  {
   "cell_type": "code",
   "execution_count": 101,
   "metadata": {},
   "outputs": [
    {
     "name": "stdout",
     "output_type": "stream",
     "text": [
      "Indices of substances included in AD =  [   0    1    2 ... 1925 1926 1928]\n"
     ]
    }
   ],
   "source": [
    "print(\"Indices of substances included in AD = \", np.where(cpd_AD != 0)[0])"
   ]
  },
  {
   "cell_type": "code",
   "execution_count": 102,
   "metadata": {},
   "outputs": [],
   "source": [
    "out_Ad=list(np.where(cpd_AD == 0)[0])"
   ]
  },
  {
   "cell_type": "markdown",
   "metadata": {},
   "source": [
    "# 12. Prediction only for molecules included in  AD"
   ]
  },
  {
   "cell_type": "code",
   "execution_count": 103,
   "metadata": {},
   "outputs": [],
   "source": [
    "y_pred_GBR_ad=list(y_pred_GBR)"
   ]
  },
  {
   "cell_type": "code",
   "execution_count": 104,
   "metadata": {},
   "outputs": [],
   "source": [
    "y_pred_GBR_ad[:] = [x for i,x in enumerate(y_pred_GBR_ad) if i not in out_Ad]"
   ]
  },
  {
   "cell_type": "code",
   "execution_count": 105,
   "metadata": {},
   "outputs": [
    {
     "data": {
      "text/plain": [
       "1450"
      ]
     },
     "execution_count": 105,
     "metadata": {},
     "output_type": "execute_result"
    }
   ],
   "source": [
    "len(y_pred_GBR_ad)"
   ]
  },
  {
   "cell_type": "code",
   "execution_count": 106,
   "metadata": {},
   "outputs": [],
   "source": [
    "y_ts_ad=list(y_ts)"
   ]
  },
  {
   "cell_type": "code",
   "execution_count": 107,
   "metadata": {},
   "outputs": [],
   "source": [
    "y_ts_ad[:] = [x for i,x in enumerate(y_ts_ad) if i not in out_Ad]"
   ]
  },
  {
   "cell_type": "code",
   "execution_count": 108,
   "metadata": {},
   "outputs": [
    {
     "data": {
      "text/plain": [
       "1450"
      ]
     },
     "execution_count": 108,
     "metadata": {},
     "output_type": "execute_result"
    }
   ],
   "source": [
    "len(y_ts_ad)"
   ]
  },
  {
   "cell_type": "code",
   "execution_count": 109,
   "metadata": {},
   "outputs": [
    {
     "data": {
      "text/plain": [
       "0.65"
      ]
     },
     "execution_count": 109,
     "metadata": {},
     "output_type": "execute_result"
    }
   ],
   "source": [
    "Q2_TS = round(r2_score(y_ts_ad, y_pred_GBR_ad), 2)\n",
    "Q2_TS"
   ]
  },
  {
   "cell_type": "code",
   "execution_count": 110,
   "metadata": {},
   "outputs": [
    {
     "data": {
      "text/plain": [
       "0.62"
      ]
     },
     "execution_count": 110,
     "metadata": {},
     "output_type": "execute_result"
    }
   ],
   "source": [
    "RMSE_TS=round(np.sqrt(mean_absolute_error(y_ts_ad, y_pred_GBR_ad)), 2)\n",
    "RMSE_TS"
   ]
  },
  {
   "cell_type": "markdown",
   "metadata": {},
   "source": [
    "# SVM model building and validation"
   ]
  },
  {
   "cell_type": "code",
   "execution_count": 111,
   "metadata": {},
   "outputs": [],
   "source": [
    "param_grid = {\"C\": [10 ** i for i in range(0, 5)],\n",
    "              \"gamma\": [10 ** i for i in range(-6, 0)]}"
   ]
  },
  {
   "cell_type": "code",
   "execution_count": 112,
   "metadata": {},
   "outputs": [],
   "source": [
    "seed = 42\n",
    "cv=KFold(n_splits=5, random_state=seed, shuffle=True)"
   ]
  },
  {
   "cell_type": "code",
   "execution_count": 113,
   "metadata": {},
   "outputs": [],
   "source": [
    "svm = GridSearchCV(SVR(C=1.0, epsilon=0.2), param_grid, n_jobs=-1, cv=cv, verbose=1)"
   ]
  },
  {
   "cell_type": "code",
   "execution_count": 114,
   "metadata": {},
   "outputs": [
    {
     "name": "stdout",
     "output_type": "stream",
     "text": [
      "Fitting 5 folds for each of 30 candidates, totalling 150 fits\n"
     ]
    },
    {
     "data": {
      "text/html": [
       "<style>#sk-container-id-2 {color: black;}#sk-container-id-2 pre{padding: 0;}#sk-container-id-2 div.sk-toggleable {background-color: white;}#sk-container-id-2 label.sk-toggleable__label {cursor: pointer;display: block;width: 100%;margin-bottom: 0;padding: 0.3em;box-sizing: border-box;text-align: center;}#sk-container-id-2 label.sk-toggleable__label-arrow:before {content: \"▸\";float: left;margin-right: 0.25em;color: #696969;}#sk-container-id-2 label.sk-toggleable__label-arrow:hover:before {color: black;}#sk-container-id-2 div.sk-estimator:hover label.sk-toggleable__label-arrow:before {color: black;}#sk-container-id-2 div.sk-toggleable__content {max-height: 0;max-width: 0;overflow: hidden;text-align: left;background-color: #f0f8ff;}#sk-container-id-2 div.sk-toggleable__content pre {margin: 0.2em;color: black;border-radius: 0.25em;background-color: #f0f8ff;}#sk-container-id-2 input.sk-toggleable__control:checked~div.sk-toggleable__content {max-height: 200px;max-width: 100%;overflow: auto;}#sk-container-id-2 input.sk-toggleable__control:checked~label.sk-toggleable__label-arrow:before {content: \"▾\";}#sk-container-id-2 div.sk-estimator input.sk-toggleable__control:checked~label.sk-toggleable__label {background-color: #d4ebff;}#sk-container-id-2 div.sk-label input.sk-toggleable__control:checked~label.sk-toggleable__label {background-color: #d4ebff;}#sk-container-id-2 input.sk-hidden--visually {border: 0;clip: rect(1px 1px 1px 1px);clip: rect(1px, 1px, 1px, 1px);height: 1px;margin: -1px;overflow: hidden;padding: 0;position: absolute;width: 1px;}#sk-container-id-2 div.sk-estimator {font-family: monospace;background-color: #f0f8ff;border: 1px dotted black;border-radius: 0.25em;box-sizing: border-box;margin-bottom: 0.5em;}#sk-container-id-2 div.sk-estimator:hover {background-color: #d4ebff;}#sk-container-id-2 div.sk-parallel-item::after {content: \"\";width: 100%;border-bottom: 1px solid gray;flex-grow: 1;}#sk-container-id-2 div.sk-label:hover label.sk-toggleable__label {background-color: #d4ebff;}#sk-container-id-2 div.sk-serial::before {content: \"\";position: absolute;border-left: 1px solid gray;box-sizing: border-box;top: 0;bottom: 0;left: 50%;z-index: 0;}#sk-container-id-2 div.sk-serial {display: flex;flex-direction: column;align-items: center;background-color: white;padding-right: 0.2em;padding-left: 0.2em;position: relative;}#sk-container-id-2 div.sk-item {position: relative;z-index: 1;}#sk-container-id-2 div.sk-parallel {display: flex;align-items: stretch;justify-content: center;background-color: white;position: relative;}#sk-container-id-2 div.sk-item::before, #sk-container-id-2 div.sk-parallel-item::before {content: \"\";position: absolute;border-left: 1px solid gray;box-sizing: border-box;top: 0;bottom: 0;left: 50%;z-index: -1;}#sk-container-id-2 div.sk-parallel-item {display: flex;flex-direction: column;z-index: 1;position: relative;background-color: white;}#sk-container-id-2 div.sk-parallel-item:first-child::after {align-self: flex-end;width: 50%;}#sk-container-id-2 div.sk-parallel-item:last-child::after {align-self: flex-start;width: 50%;}#sk-container-id-2 div.sk-parallel-item:only-child::after {width: 0;}#sk-container-id-2 div.sk-dashed-wrapped {border: 1px dashed gray;margin: 0 0.4em 0.5em 0.4em;box-sizing: border-box;padding-bottom: 0.4em;background-color: white;}#sk-container-id-2 div.sk-label label {font-family: monospace;font-weight: bold;display: inline-block;line-height: 1.2em;}#sk-container-id-2 div.sk-label-container {text-align: center;}#sk-container-id-2 div.sk-container {/* jupyter's `normalize.less` sets `[hidden] { display: none; }` but bootstrap.min.css set `[hidden] { display: none !important; }` so we also need the `!important` here to be able to override the default hidden behavior on the sphinx rendered scikit-learn.org. See: https://github.com/scikit-learn/scikit-learn/issues/21755 */display: inline-block !important;position: relative;}#sk-container-id-2 div.sk-text-repr-fallback {display: none;}</style><div id=\"sk-container-id-2\" class=\"sk-top-container\"><div class=\"sk-text-repr-fallback\"><pre>GridSearchCV(cv=KFold(n_splits=5, random_state=42, shuffle=True),\n",
       "             estimator=SVR(epsilon=0.2), n_jobs=-1,\n",
       "             param_grid={&#x27;C&#x27;: [1, 10, 100, 1000, 10000],\n",
       "                         &#x27;gamma&#x27;: [1e-06, 1e-05, 0.0001, 0.001, 0.01, 0.1]},\n",
       "             verbose=1)</pre><b>In a Jupyter environment, please rerun this cell to show the HTML representation or trust the notebook. <br />On GitHub, the HTML representation is unable to render, please try loading this page with nbviewer.org.</b></div><div class=\"sk-container\" hidden><div class=\"sk-item sk-dashed-wrapped\"><div class=\"sk-label-container\"><div class=\"sk-label sk-toggleable\"><input class=\"sk-toggleable__control sk-hidden--visually\" id=\"sk-estimator-id-4\" type=\"checkbox\" ><label for=\"sk-estimator-id-4\" class=\"sk-toggleable__label sk-toggleable__label-arrow\">GridSearchCV</label><div class=\"sk-toggleable__content\"><pre>GridSearchCV(cv=KFold(n_splits=5, random_state=42, shuffle=True),\n",
       "             estimator=SVR(epsilon=0.2), n_jobs=-1,\n",
       "             param_grid={&#x27;C&#x27;: [1, 10, 100, 1000, 10000],\n",
       "                         &#x27;gamma&#x27;: [1e-06, 1e-05, 0.0001, 0.001, 0.01, 0.1]},\n",
       "             verbose=1)</pre></div></div></div><div class=\"sk-parallel\"><div class=\"sk-parallel-item\"><div class=\"sk-item\"><div class=\"sk-label-container\"><div class=\"sk-label sk-toggleable\"><input class=\"sk-toggleable__control sk-hidden--visually\" id=\"sk-estimator-id-5\" type=\"checkbox\" ><label for=\"sk-estimator-id-5\" class=\"sk-toggleable__label sk-toggleable__label-arrow\">estimator: SVR</label><div class=\"sk-toggleable__content\"><pre>SVR(epsilon=0.2)</pre></div></div></div><div class=\"sk-serial\"><div class=\"sk-item\"><div class=\"sk-estimator sk-toggleable\"><input class=\"sk-toggleable__control sk-hidden--visually\" id=\"sk-estimator-id-6\" type=\"checkbox\" ><label for=\"sk-estimator-id-6\" class=\"sk-toggleable__label sk-toggleable__label-arrow\">SVR</label><div class=\"sk-toggleable__content\"><pre>SVR(epsilon=0.2)</pre></div></div></div></div></div></div></div></div></div></div>"
      ],
      "text/plain": [
       "GridSearchCV(cv=KFold(n_splits=5, random_state=42, shuffle=True),\n",
       "             estimator=SVR(epsilon=0.2), n_jobs=-1,\n",
       "             param_grid={'C': [1, 10, 100, 1000, 10000],\n",
       "                         'gamma': [1e-06, 1e-05, 0.0001, 0.001, 0.01, 0.1]},\n",
       "             verbose=1)"
      ]
     },
     "execution_count": 114,
     "metadata": {},
     "output_type": "execute_result"
    }
   ],
   "source": [
    "svm.fit(x_tr, y_tr)"
   ]
  },
  {
   "cell_type": "code",
   "execution_count": 115,
   "metadata": {},
   "outputs": [],
   "source": [
    "svm.best_params_\n",
    "best_svm = svm.best_estimator_"
   ]
  },
  {
   "cell_type": "code",
   "execution_count": 116,
   "metadata": {},
   "outputs": [
    {
     "data": {
      "text/plain": [
       "{'C': 10, 'gamma': 0.01}"
      ]
     },
     "execution_count": 116,
     "metadata": {},
     "output_type": "execute_result"
    }
   ],
   "source": [
    "svm.best_params_"
   ]
  },
  {
   "cell_type": "code",
   "execution_count": 117,
   "metadata": {},
   "outputs": [],
   "source": [
    "y_pred_ws_svm = best_svm.predict(x_tr)"
   ]
  },
  {
   "cell_type": "code",
   "execution_count": 118,
   "metadata": {},
   "outputs": [
    {
     "data": {
      "text/plain": [
       "0.85"
      ]
     },
     "execution_count": 118,
     "metadata": {},
     "output_type": "execute_result"
    }
   ],
   "source": [
    "R2_WS = round(r2_score(y_tr, y_pred_ws_svm), 2)\n",
    "R2_WS"
   ]
  },
  {
   "cell_type": "code",
   "execution_count": 119,
   "metadata": {},
   "outputs": [
    {
     "data": {
      "text/plain": [
       "0.49"
      ]
     },
     "execution_count": 119,
     "metadata": {},
     "output_type": "execute_result"
    }
   ],
   "source": [
    "RMSE_WS=round(np.sqrt(mean_absolute_error(y_tr, y_pred_ws_svm)), 2)\n",
    "RMSE_WS"
   ]
  },
  {
   "cell_type": "code",
   "execution_count": 120,
   "metadata": {},
   "outputs": [],
   "source": [
    "y_pred_CV_svm = cross_val_predict(best_svm, x_tr, y_tr, cv=cv)"
   ]
  },
  {
   "cell_type": "code",
   "execution_count": 121,
   "metadata": {},
   "outputs": [
    {
     "data": {
      "text/plain": [
       "0.56"
      ]
     },
     "execution_count": 121,
     "metadata": {},
     "output_type": "execute_result"
    }
   ],
   "source": [
    "Q2_CV = round(r2_score(y_tr, y_pred_CV_svm), 2)\n",
    "Q2_CV"
   ]
  },
  {
   "cell_type": "code",
   "execution_count": 122,
   "metadata": {},
   "outputs": [
    {
     "data": {
      "text/plain": [
       "0.66"
      ]
     },
     "execution_count": 122,
     "metadata": {},
     "output_type": "execute_result"
    }
   ],
   "source": [
    "RMSE_CV=round(np.sqrt(mean_absolute_error(y_tr, y_pred_CV_svm)), 2)\n",
    "RMSE_CV"
   ]
  },
  {
   "cell_type": "markdown",
   "metadata": {},
   "source": [
    "# 9. Prediction for test set's molecules"
   ]
  },
  {
   "cell_type": "code",
   "execution_count": 123,
   "metadata": {},
   "outputs": [],
   "source": [
    "x_ts = np.array(x_ts, dtype=np.float32)\n",
    "y_ts = np.array(y_ts, dtype=np.float32)"
   ]
  },
  {
   "cell_type": "code",
   "execution_count": 124,
   "metadata": {},
   "outputs": [],
   "source": [
    "y_pred_svm = best_svm.predict(x_ts)"
   ]
  },
  {
   "cell_type": "code",
   "execution_count": 125,
   "metadata": {},
   "outputs": [
    {
     "data": {
      "text/plain": [
       "0.58"
      ]
     },
     "execution_count": 125,
     "metadata": {},
     "output_type": "execute_result"
    }
   ],
   "source": [
    "Q2_TS = round(r2_score(y_ts, y_pred_svm), 2)\n",
    "Q2_TS"
   ]
  },
  {
   "cell_type": "code",
   "execution_count": 126,
   "metadata": {},
   "outputs": [
    {
     "data": {
      "text/plain": [
       "0.64"
      ]
     },
     "execution_count": 126,
     "metadata": {},
     "output_type": "execute_result"
    }
   ],
   "source": [
    "RMSE_TS=round(np.sqrt(mean_absolute_error(y_ts, y_pred_svm)), 2)\n",
    "RMSE_TS"
   ]
  },
  {
   "cell_type": "markdown",
   "metadata": {},
   "source": [
    "save the model to disk"
   ]
  },
  {
   "cell_type": "code",
   "execution_count": 127,
   "metadata": {},
   "outputs": [],
   "source": [
    "pickle.dump(best_svm, open('models/Padels/Toxicity_SVM_PubChem.pkl', 'wb'))"
   ]
  },
  {
   "cell_type": "markdown",
   "metadata": {},
   "source": [
    "load the model from disk"
   ]
  },
  {
   "cell_type": "code",
   "execution_count": 31,
   "metadata": {},
   "outputs": [],
   "source": [
    "best_svm = pickle.load(open('models/Padels/Toxicity_SVM_PubChem.pkl', 'rb'))"
   ]
  },
  {
   "cell_type": "markdown",
   "metadata": {},
   "source": [
    "# 10. Y-randomization SVM model"
   ]
  },
  {
   "cell_type": "code",
   "execution_count": 128,
   "metadata": {},
   "outputs": [
    {
     "name": "stderr",
     "output_type": "stream",
     "text": [
      "[Parallel(n_jobs=-1)]: Using backend LokyBackend with 16 concurrent workers.\n",
      "[Parallel(n_jobs=-1)]: Done  18 tasks      | elapsed: 33.8min\n",
      "[Parallel(n_jobs=-1)]: Done  50 out of  50 | elapsed: 54.9min finished\n"
     ]
    },
    {
     "name": "stdout",
     "output_type": "stream",
     "text": [
      "True score =  0.554 \n",
      "Y-randomization =  -0.21 \n",
      "p-value =  0.0196\n"
     ]
    }
   ],
   "source": [
    "permutations = 50\n",
    "score, permutation_scores, pvalue = permutation_test_score(best_svm, x_tr, y_tr,\n",
    "                                                           cv=cv, scoring='r2',\n",
    "                                                           n_permutations=permutations,\n",
    "                                                           n_jobs=-1,\n",
    "                                                           verbose=1,\n",
    "                                                           random_state=seed)\n",
    "print('True score = ', score.round(3),\n",
    "      '\\nY-randomization = ', np.mean(permutation_scores).round(2),\n",
    "      '\\np-value = ', pvalue.round(4))"
   ]
  },
  {
   "cell_type": "markdown",
   "metadata": {},
   "source": [
    "# 11. Estimating applicability domain. Method - Euclidian distances, K=1"
   ]
  },
  {
   "cell_type": "code",
   "execution_count": 129,
   "metadata": {},
   "outputs": [],
   "source": [
    "neighbors_k= pairwise_distances(x_tr, n_jobs=-1)\n",
    "neighbors_k.sort(0)"
   ]
  },
  {
   "cell_type": "code",
   "execution_count": 130,
   "metadata": {},
   "outputs": [
    {
     "data": {
      "text/html": [
       "<div>\n",
       "<style scoped>\n",
       "    .dataframe tbody tr th:only-of-type {\n",
       "        vertical-align: middle;\n",
       "    }\n",
       "\n",
       "    .dataframe tbody tr th {\n",
       "        vertical-align: top;\n",
       "    }\n",
       "\n",
       "    .dataframe thead th {\n",
       "        text-align: right;\n",
       "    }\n",
       "</style>\n",
       "<table border=\"1\" class=\"dataframe\">\n",
       "  <thead>\n",
       "    <tr style=\"text-align: right;\">\n",
       "      <th></th>\n",
       "      <th>0</th>\n",
       "      <th>1</th>\n",
       "      <th>2</th>\n",
       "      <th>3</th>\n",
       "      <th>4</th>\n",
       "      <th>5</th>\n",
       "      <th>6</th>\n",
       "      <th>7</th>\n",
       "      <th>8</th>\n",
       "      <th>9</th>\n",
       "      <th>...</th>\n",
       "      <th>7702</th>\n",
       "      <th>7703</th>\n",
       "      <th>7704</th>\n",
       "      <th>7705</th>\n",
       "      <th>7706</th>\n",
       "      <th>7707</th>\n",
       "      <th>7708</th>\n",
       "      <th>7709</th>\n",
       "      <th>7710</th>\n",
       "      <th>7711</th>\n",
       "    </tr>\n",
       "  </thead>\n",
       "  <tbody>\n",
       "    <tr>\n",
       "      <th>0</th>\n",
       "      <td>0.000000</td>\n",
       "      <td>0.000000</td>\n",
       "      <td>0.000000</td>\n",
       "      <td>0.000000</td>\n",
       "      <td>0.000000</td>\n",
       "      <td>0.000000</td>\n",
       "      <td>0.000000</td>\n",
       "      <td>0.000000</td>\n",
       "      <td>0.000000</td>\n",
       "      <td>0.000000</td>\n",
       "      <td>...</td>\n",
       "      <td>0.000000</td>\n",
       "      <td>0.000000</td>\n",
       "      <td>0.000000</td>\n",
       "      <td>0.000000</td>\n",
       "      <td>0.000000</td>\n",
       "      <td>0.000000</td>\n",
       "      <td>0.000000</td>\n",
       "      <td>0.000000</td>\n",
       "      <td>0.000000</td>\n",
       "      <td>0.000000</td>\n",
       "    </tr>\n",
       "    <tr>\n",
       "      <th>1</th>\n",
       "      <td>2.449490</td>\n",
       "      <td>4.472136</td>\n",
       "      <td>1.000000</td>\n",
       "      <td>3.000000</td>\n",
       "      <td>1.414214</td>\n",
       "      <td>2.645751</td>\n",
       "      <td>3.000000</td>\n",
       "      <td>3.741657</td>\n",
       "      <td>0.000000</td>\n",
       "      <td>1.000000</td>\n",
       "      <td>...</td>\n",
       "      <td>1.414214</td>\n",
       "      <td>1.732051</td>\n",
       "      <td>2.449490</td>\n",
       "      <td>4.582576</td>\n",
       "      <td>2.236068</td>\n",
       "      <td>3.316625</td>\n",
       "      <td>4.898980</td>\n",
       "      <td>3.000000</td>\n",
       "      <td>2.828427</td>\n",
       "      <td>3.316625</td>\n",
       "    </tr>\n",
       "    <tr>\n",
       "      <th>2</th>\n",
       "      <td>3.162278</td>\n",
       "      <td>4.582576</td>\n",
       "      <td>1.732051</td>\n",
       "      <td>3.872983</td>\n",
       "      <td>1.414214</td>\n",
       "      <td>3.000000</td>\n",
       "      <td>3.000000</td>\n",
       "      <td>4.123106</td>\n",
       "      <td>0.000000</td>\n",
       "      <td>2.236068</td>\n",
       "      <td>...</td>\n",
       "      <td>1.414214</td>\n",
       "      <td>2.000000</td>\n",
       "      <td>3.316625</td>\n",
       "      <td>5.196152</td>\n",
       "      <td>4.472136</td>\n",
       "      <td>3.605551</td>\n",
       "      <td>4.898980</td>\n",
       "      <td>3.162278</td>\n",
       "      <td>3.162278</td>\n",
       "      <td>3.872983</td>\n",
       "    </tr>\n",
       "    <tr>\n",
       "      <th>3</th>\n",
       "      <td>3.316625</td>\n",
       "      <td>4.690416</td>\n",
       "      <td>2.000000</td>\n",
       "      <td>4.123106</td>\n",
       "      <td>2.000000</td>\n",
       "      <td>3.162278</td>\n",
       "      <td>3.464102</td>\n",
       "      <td>4.242640</td>\n",
       "      <td>0.000000</td>\n",
       "      <td>2.236068</td>\n",
       "      <td>...</td>\n",
       "      <td>2.449490</td>\n",
       "      <td>3.000000</td>\n",
       "      <td>5.744563</td>\n",
       "      <td>5.385165</td>\n",
       "      <td>4.582576</td>\n",
       "      <td>4.358899</td>\n",
       "      <td>4.898980</td>\n",
       "      <td>3.605551</td>\n",
       "      <td>3.162278</td>\n",
       "      <td>4.795832</td>\n",
       "    </tr>\n",
       "    <tr>\n",
       "      <th>4</th>\n",
       "      <td>3.605551</td>\n",
       "      <td>4.795832</td>\n",
       "      <td>2.000000</td>\n",
       "      <td>4.242640</td>\n",
       "      <td>2.000000</td>\n",
       "      <td>3.316625</td>\n",
       "      <td>3.605551</td>\n",
       "      <td>4.242640</td>\n",
       "      <td>1.000000</td>\n",
       "      <td>2.236068</td>\n",
       "      <td>...</td>\n",
       "      <td>2.828427</td>\n",
       "      <td>3.000000</td>\n",
       "      <td>6.403124</td>\n",
       "      <td>5.477226</td>\n",
       "      <td>4.898980</td>\n",
       "      <td>5.000000</td>\n",
       "      <td>5.000000</td>\n",
       "      <td>5.196152</td>\n",
       "      <td>3.464102</td>\n",
       "      <td>5.000000</td>\n",
       "    </tr>\n",
       "    <tr>\n",
       "      <th>...</th>\n",
       "      <td>...</td>\n",
       "      <td>...</td>\n",
       "      <td>...</td>\n",
       "      <td>...</td>\n",
       "      <td>...</td>\n",
       "      <td>...</td>\n",
       "      <td>...</td>\n",
       "      <td>...</td>\n",
       "      <td>...</td>\n",
       "      <td>...</td>\n",
       "      <td>...</td>\n",
       "      <td>...</td>\n",
       "      <td>...</td>\n",
       "      <td>...</td>\n",
       "      <td>...</td>\n",
       "      <td>...</td>\n",
       "      <td>...</td>\n",
       "      <td>...</td>\n",
       "      <td>...</td>\n",
       "      <td>...</td>\n",
       "      <td>...</td>\n",
       "    </tr>\n",
       "    <tr>\n",
       "      <th>7707</th>\n",
       "      <td>14.798649</td>\n",
       "      <td>13.892444</td>\n",
       "      <td>15.165751</td>\n",
       "      <td>14.282857</td>\n",
       "      <td>14.933185</td>\n",
       "      <td>14.594520</td>\n",
       "      <td>14.798649</td>\n",
       "      <td>14.525839</td>\n",
       "      <td>14.456832</td>\n",
       "      <td>15.652476</td>\n",
       "      <td>...</td>\n",
       "      <td>14.832397</td>\n",
       "      <td>15.066519</td>\n",
       "      <td>14.594520</td>\n",
       "      <td>14.966630</td>\n",
       "      <td>14.832397</td>\n",
       "      <td>14.966630</td>\n",
       "      <td>13.892444</td>\n",
       "      <td>14.525839</td>\n",
       "      <td>14.594520</td>\n",
       "      <td>14.282857</td>\n",
       "    </tr>\n",
       "    <tr>\n",
       "      <th>7708</th>\n",
       "      <td>14.832397</td>\n",
       "      <td>14.106736</td>\n",
       "      <td>15.362291</td>\n",
       "      <td>14.491377</td>\n",
       "      <td>15.000000</td>\n",
       "      <td>14.730920</td>\n",
       "      <td>15.000000</td>\n",
       "      <td>14.832397</td>\n",
       "      <td>15.033297</td>\n",
       "      <td>15.842979</td>\n",
       "      <td>...</td>\n",
       "      <td>14.899665</td>\n",
       "      <td>15.165751</td>\n",
       "      <td>14.628738</td>\n",
       "      <td>15.099669</td>\n",
       "      <td>14.866069</td>\n",
       "      <td>15.099669</td>\n",
       "      <td>13.928389</td>\n",
       "      <td>14.832397</td>\n",
       "      <td>14.628738</td>\n",
       "      <td>14.282857</td>\n",
       "    </tr>\n",
       "    <tr>\n",
       "      <th>7709</th>\n",
       "      <td>15.427249</td>\n",
       "      <td>14.177447</td>\n",
       "      <td>15.779734</td>\n",
       "      <td>14.525839</td>\n",
       "      <td>15.684387</td>\n",
       "      <td>15.099669</td>\n",
       "      <td>15.033297</td>\n",
       "      <td>14.866069</td>\n",
       "      <td>15.132746</td>\n",
       "      <td>16.000000</td>\n",
       "      <td>...</td>\n",
       "      <td>15.459625</td>\n",
       "      <td>15.874508</td>\n",
       "      <td>14.662878</td>\n",
       "      <td>15.362291</td>\n",
       "      <td>15.297058</td>\n",
       "      <td>15.198684</td>\n",
       "      <td>13.964240</td>\n",
       "      <td>14.933185</td>\n",
       "      <td>15.264338</td>\n",
       "      <td>14.317822</td>\n",
       "    </tr>\n",
       "    <tr>\n",
       "      <th>7710</th>\n",
       "      <td>15.524175</td>\n",
       "      <td>14.456832</td>\n",
       "      <td>16.062378</td>\n",
       "      <td>14.933185</td>\n",
       "      <td>15.716233</td>\n",
       "      <td>15.198684</td>\n",
       "      <td>15.198684</td>\n",
       "      <td>15.264338</td>\n",
       "      <td>15.556349</td>\n",
       "      <td>16.522711</td>\n",
       "      <td>...</td>\n",
       "      <td>15.842979</td>\n",
       "      <td>15.968719</td>\n",
       "      <td>14.662878</td>\n",
       "      <td>15.394804</td>\n",
       "      <td>15.716233</td>\n",
       "      <td>15.198684</td>\n",
       "      <td>14.106736</td>\n",
       "      <td>15.099669</td>\n",
       "      <td>15.652476</td>\n",
       "      <td>14.594520</td>\n",
       "    </tr>\n",
       "    <tr>\n",
       "      <th>7711</th>\n",
       "      <td>16.031219</td>\n",
       "      <td>15.000000</td>\n",
       "      <td>16.552946</td>\n",
       "      <td>15.132746</td>\n",
       "      <td>16.340136</td>\n",
       "      <td>15.905973</td>\n",
       "      <td>16.248077</td>\n",
       "      <td>15.329710</td>\n",
       "      <td>15.811388</td>\n",
       "      <td>17.000000</td>\n",
       "      <td>...</td>\n",
       "      <td>16.217276</td>\n",
       "      <td>16.613247</td>\n",
       "      <td>14.764823</td>\n",
       "      <td>15.459625</td>\n",
       "      <td>16.062378</td>\n",
       "      <td>15.652476</td>\n",
       "      <td>14.456832</td>\n",
       "      <td>15.165751</td>\n",
       "      <td>16.031219</td>\n",
       "      <td>14.696939</td>\n",
       "    </tr>\n",
       "  </tbody>\n",
       "</table>\n",
       "<p>7712 rows × 7712 columns</p>\n",
       "</div>"
      ],
      "text/plain": [
       "           0          1          2          3          4          5     \\\n",
       "0      0.000000   0.000000   0.000000   0.000000   0.000000   0.000000   \n",
       "1      2.449490   4.472136   1.000000   3.000000   1.414214   2.645751   \n",
       "2      3.162278   4.582576   1.732051   3.872983   1.414214   3.000000   \n",
       "3      3.316625   4.690416   2.000000   4.123106   2.000000   3.162278   \n",
       "4      3.605551   4.795832   2.000000   4.242640   2.000000   3.316625   \n",
       "...         ...        ...        ...        ...        ...        ...   \n",
       "7707  14.798649  13.892444  15.165751  14.282857  14.933185  14.594520   \n",
       "7708  14.832397  14.106736  15.362291  14.491377  15.000000  14.730920   \n",
       "7709  15.427249  14.177447  15.779734  14.525839  15.684387  15.099669   \n",
       "7710  15.524175  14.456832  16.062378  14.933185  15.716233  15.198684   \n",
       "7711  16.031219  15.000000  16.552946  15.132746  16.340136  15.905973   \n",
       "\n",
       "           6          7          8          9     ...       7702       7703  \\\n",
       "0      0.000000   0.000000   0.000000   0.000000  ...   0.000000   0.000000   \n",
       "1      3.000000   3.741657   0.000000   1.000000  ...   1.414214   1.732051   \n",
       "2      3.000000   4.123106   0.000000   2.236068  ...   1.414214   2.000000   \n",
       "3      3.464102   4.242640   0.000000   2.236068  ...   2.449490   3.000000   \n",
       "4      3.605551   4.242640   1.000000   2.236068  ...   2.828427   3.000000   \n",
       "...         ...        ...        ...        ...  ...        ...        ...   \n",
       "7707  14.798649  14.525839  14.456832  15.652476  ...  14.832397  15.066519   \n",
       "7708  15.000000  14.832397  15.033297  15.842979  ...  14.899665  15.165751   \n",
       "7709  15.033297  14.866069  15.132746  16.000000  ...  15.459625  15.874508   \n",
       "7710  15.198684  15.264338  15.556349  16.522711  ...  15.842979  15.968719   \n",
       "7711  16.248077  15.329710  15.811388  17.000000  ...  16.217276  16.613247   \n",
       "\n",
       "           7704       7705       7706       7707       7708       7709  \\\n",
       "0      0.000000   0.000000   0.000000   0.000000   0.000000   0.000000   \n",
       "1      2.449490   4.582576   2.236068   3.316625   4.898980   3.000000   \n",
       "2      3.316625   5.196152   4.472136   3.605551   4.898980   3.162278   \n",
       "3      5.744563   5.385165   4.582576   4.358899   4.898980   3.605551   \n",
       "4      6.403124   5.477226   4.898980   5.000000   5.000000   5.196152   \n",
       "...         ...        ...        ...        ...        ...        ...   \n",
       "7707  14.594520  14.966630  14.832397  14.966630  13.892444  14.525839   \n",
       "7708  14.628738  15.099669  14.866069  15.099669  13.928389  14.832397   \n",
       "7709  14.662878  15.362291  15.297058  15.198684  13.964240  14.933185   \n",
       "7710  14.662878  15.394804  15.716233  15.198684  14.106736  15.099669   \n",
       "7711  14.764823  15.459625  16.062378  15.652476  14.456832  15.165751   \n",
       "\n",
       "           7710       7711  \n",
       "0      0.000000   0.000000  \n",
       "1      2.828427   3.316625  \n",
       "2      3.162278   3.872983  \n",
       "3      3.162278   4.795832  \n",
       "4      3.464102   5.000000  \n",
       "...         ...        ...  \n",
       "7707  14.594520  14.282857  \n",
       "7708  14.628738  14.282857  \n",
       "7709  15.264338  14.317822  \n",
       "7710  15.652476  14.594520  \n",
       "7711  16.031219  14.696939  \n",
       "\n",
       "[7712 rows x 7712 columns]"
      ]
     },
     "execution_count": 130,
     "metadata": {},
     "output_type": "execute_result"
    }
   ],
   "source": [
    "df_tr=pd.DataFrame(neighbors_k)\n",
    "df_tr"
   ]
  },
  {
   "cell_type": "code",
   "execution_count": 131,
   "metadata": {},
   "outputs": [],
   "source": [
    "similarity= neighbors_k"
   ]
  },
  {
   "cell_type": "code",
   "execution_count": 132,
   "metadata": {},
   "outputs": [],
   "source": [
    "Dmean=np.mean(similarity[1,:])"
   ]
  },
  {
   "cell_type": "code",
   "execution_count": 133,
   "metadata": {},
   "outputs": [
    {
     "data": {
      "text/plain": [
       "2.83"
      ]
     },
     "execution_count": 133,
     "metadata": {},
     "output_type": "execute_result"
    }
   ],
   "source": [
    "round(Dmean, 2)"
   ]
  },
  {
   "cell_type": "code",
   "execution_count": 134,
   "metadata": {},
   "outputs": [],
   "source": [
    "std=np.std(similarity[1,:])"
   ]
  },
  {
   "cell_type": "code",
   "execution_count": 135,
   "metadata": {},
   "outputs": [
    {
     "data": {
      "text/plain": [
       "1.58"
      ]
     },
     "execution_count": 135,
     "metadata": {},
     "output_type": "execute_result"
    }
   ],
   "source": [
    "round(std, 2)"
   ]
  },
  {
   "cell_type": "code",
   "execution_count": 136,
   "metadata": {},
   "outputs": [
    {
     "name": "stdout",
     "output_type": "stream",
     "text": [
      "3.62\n"
     ]
    }
   ],
   "source": [
    "model_AD_limit=Dmean+std*0.5\n",
    "print(np.round(model_AD_limit, 2))"
   ]
  },
  {
   "cell_type": "code",
   "execution_count": 137,
   "metadata": {},
   "outputs": [],
   "source": [
    "neighbors_k_ts= pairwise_distances(x_tr,Y=x_ts, n_jobs=-1)\n",
    "neighbors_k_ts.sort(0)"
   ]
  },
  {
   "cell_type": "code",
   "execution_count": 138,
   "metadata": {},
   "outputs": [
    {
     "data": {
      "text/html": [
       "<div>\n",
       "<style scoped>\n",
       "    .dataframe tbody tr th:only-of-type {\n",
       "        vertical-align: middle;\n",
       "    }\n",
       "\n",
       "    .dataframe tbody tr th {\n",
       "        vertical-align: top;\n",
       "    }\n",
       "\n",
       "    .dataframe thead th {\n",
       "        text-align: right;\n",
       "    }\n",
       "</style>\n",
       "<table border=\"1\" class=\"dataframe\">\n",
       "  <thead>\n",
       "    <tr style=\"text-align: right;\">\n",
       "      <th></th>\n",
       "      <th>0</th>\n",
       "      <th>1</th>\n",
       "      <th>2</th>\n",
       "      <th>3</th>\n",
       "      <th>4</th>\n",
       "      <th>5</th>\n",
       "      <th>6</th>\n",
       "      <th>7</th>\n",
       "      <th>8</th>\n",
       "      <th>9</th>\n",
       "      <th>...</th>\n",
       "      <th>1919</th>\n",
       "      <th>1920</th>\n",
       "      <th>1921</th>\n",
       "      <th>1922</th>\n",
       "      <th>1923</th>\n",
       "      <th>1924</th>\n",
       "      <th>1925</th>\n",
       "      <th>1926</th>\n",
       "      <th>1927</th>\n",
       "      <th>1928</th>\n",
       "    </tr>\n",
       "  </thead>\n",
       "  <tbody>\n",
       "    <tr>\n",
       "      <th>0</th>\n",
       "      <td>1.732051</td>\n",
       "      <td>2.645751</td>\n",
       "      <td>3.464102</td>\n",
       "      <td>1.000000</td>\n",
       "      <td>2.645751</td>\n",
       "      <td>1.732051</td>\n",
       "      <td>1.000000</td>\n",
       "      <td>1.732051</td>\n",
       "      <td>2.236068</td>\n",
       "      <td>3.464102</td>\n",
       "      <td>...</td>\n",
       "      <td>3.605551</td>\n",
       "      <td>4.242640</td>\n",
       "      <td>1.414214</td>\n",
       "      <td>1.732051</td>\n",
       "      <td>1.000000</td>\n",
       "      <td>1.000000</td>\n",
       "      <td>1.732051</td>\n",
       "      <td>2.000000</td>\n",
       "      <td>5.385165</td>\n",
       "      <td>3.605551</td>\n",
       "    </tr>\n",
       "    <tr>\n",
       "      <th>1</th>\n",
       "      <td>2.000000</td>\n",
       "      <td>3.316625</td>\n",
       "      <td>3.464102</td>\n",
       "      <td>1.414214</td>\n",
       "      <td>3.741657</td>\n",
       "      <td>1.732051</td>\n",
       "      <td>1.414214</td>\n",
       "      <td>2.000000</td>\n",
       "      <td>2.236068</td>\n",
       "      <td>3.605551</td>\n",
       "      <td>...</td>\n",
       "      <td>4.358899</td>\n",
       "      <td>5.291502</td>\n",
       "      <td>3.316625</td>\n",
       "      <td>3.162278</td>\n",
       "      <td>1.414214</td>\n",
       "      <td>2.449490</td>\n",
       "      <td>2.828427</td>\n",
       "      <td>2.449490</td>\n",
       "      <td>5.744563</td>\n",
       "      <td>3.741657</td>\n",
       "    </tr>\n",
       "    <tr>\n",
       "      <th>2</th>\n",
       "      <td>2.000000</td>\n",
       "      <td>3.316625</td>\n",
       "      <td>4.000000</td>\n",
       "      <td>1.732051</td>\n",
       "      <td>3.741657</td>\n",
       "      <td>2.000000</td>\n",
       "      <td>1.414214</td>\n",
       "      <td>2.236068</td>\n",
       "      <td>2.449490</td>\n",
       "      <td>4.123106</td>\n",
       "      <td>...</td>\n",
       "      <td>4.358899</td>\n",
       "      <td>5.291502</td>\n",
       "      <td>3.464102</td>\n",
       "      <td>3.316625</td>\n",
       "      <td>1.732051</td>\n",
       "      <td>2.645751</td>\n",
       "      <td>3.000000</td>\n",
       "      <td>3.316625</td>\n",
       "      <td>5.916080</td>\n",
       "      <td>4.242640</td>\n",
       "    </tr>\n",
       "    <tr>\n",
       "      <th>3</th>\n",
       "      <td>2.236068</td>\n",
       "      <td>3.464102</td>\n",
       "      <td>4.000000</td>\n",
       "      <td>1.732051</td>\n",
       "      <td>4.000000</td>\n",
       "      <td>2.236068</td>\n",
       "      <td>1.732051</td>\n",
       "      <td>2.449490</td>\n",
       "      <td>2.449490</td>\n",
       "      <td>4.242640</td>\n",
       "      <td>...</td>\n",
       "      <td>4.690416</td>\n",
       "      <td>6.244998</td>\n",
       "      <td>4.000000</td>\n",
       "      <td>3.464102</td>\n",
       "      <td>2.000000</td>\n",
       "      <td>3.464102</td>\n",
       "      <td>4.123106</td>\n",
       "      <td>3.316625</td>\n",
       "      <td>5.916080</td>\n",
       "      <td>4.358899</td>\n",
       "    </tr>\n",
       "    <tr>\n",
       "      <th>4</th>\n",
       "      <td>2.236068</td>\n",
       "      <td>3.605551</td>\n",
       "      <td>4.123106</td>\n",
       "      <td>2.000000</td>\n",
       "      <td>4.242640</td>\n",
       "      <td>2.236068</td>\n",
       "      <td>2.828427</td>\n",
       "      <td>2.645751</td>\n",
       "      <td>2.449490</td>\n",
       "      <td>4.358899</td>\n",
       "      <td>...</td>\n",
       "      <td>6.708204</td>\n",
       "      <td>6.324555</td>\n",
       "      <td>4.242640</td>\n",
       "      <td>3.464102</td>\n",
       "      <td>2.236068</td>\n",
       "      <td>4.123106</td>\n",
       "      <td>4.242640</td>\n",
       "      <td>3.464102</td>\n",
       "      <td>5.916080</td>\n",
       "      <td>4.472136</td>\n",
       "    </tr>\n",
       "    <tr>\n",
       "      <th>...</th>\n",
       "      <td>...</td>\n",
       "      <td>...</td>\n",
       "      <td>...</td>\n",
       "      <td>...</td>\n",
       "      <td>...</td>\n",
       "      <td>...</td>\n",
       "      <td>...</td>\n",
       "      <td>...</td>\n",
       "      <td>...</td>\n",
       "      <td>...</td>\n",
       "      <td>...</td>\n",
       "      <td>...</td>\n",
       "      <td>...</td>\n",
       "      <td>...</td>\n",
       "      <td>...</td>\n",
       "      <td>...</td>\n",
       "      <td>...</td>\n",
       "      <td>...</td>\n",
       "      <td>...</td>\n",
       "      <td>...</td>\n",
       "      <td>...</td>\n",
       "    </tr>\n",
       "    <tr>\n",
       "      <th>7707</th>\n",
       "      <td>15.394804</td>\n",
       "      <td>14.387495</td>\n",
       "      <td>14.933185</td>\n",
       "      <td>14.594520</td>\n",
       "      <td>14.730920</td>\n",
       "      <td>14.696939</td>\n",
       "      <td>14.106736</td>\n",
       "      <td>15.198684</td>\n",
       "      <td>14.933185</td>\n",
       "      <td>13.892444</td>\n",
       "      <td>...</td>\n",
       "      <td>15.132746</td>\n",
       "      <td>13.892444</td>\n",
       "      <td>15.165751</td>\n",
       "      <td>14.832397</td>\n",
       "      <td>15.491934</td>\n",
       "      <td>15.132746</td>\n",
       "      <td>15.198684</td>\n",
       "      <td>14.594520</td>\n",
       "      <td>14.525839</td>\n",
       "      <td>14.933185</td>\n",
       "    </tr>\n",
       "    <tr>\n",
       "      <th>7708</th>\n",
       "      <td>15.588457</td>\n",
       "      <td>14.456832</td>\n",
       "      <td>14.933185</td>\n",
       "      <td>14.933185</td>\n",
       "      <td>14.764823</td>\n",
       "      <td>14.798649</td>\n",
       "      <td>14.628738</td>\n",
       "      <td>15.394804</td>\n",
       "      <td>15.066519</td>\n",
       "      <td>14.071247</td>\n",
       "      <td>...</td>\n",
       "      <td>15.198684</td>\n",
       "      <td>14.000000</td>\n",
       "      <td>15.198684</td>\n",
       "      <td>14.899665</td>\n",
       "      <td>15.524175</td>\n",
       "      <td>15.198684</td>\n",
       "      <td>15.231546</td>\n",
       "      <td>14.966630</td>\n",
       "      <td>14.560220</td>\n",
       "      <td>15.000000</td>\n",
       "    </tr>\n",
       "    <tr>\n",
       "      <th>7709</th>\n",
       "      <td>16.000000</td>\n",
       "      <td>15.033297</td>\n",
       "      <td>15.362291</td>\n",
       "      <td>15.362291</td>\n",
       "      <td>15.132746</td>\n",
       "      <td>15.524175</td>\n",
       "      <td>14.798649</td>\n",
       "      <td>15.748015</td>\n",
       "      <td>15.748015</td>\n",
       "      <td>14.071247</td>\n",
       "      <td>...</td>\n",
       "      <td>15.198684</td>\n",
       "      <td>14.212670</td>\n",
       "      <td>15.198684</td>\n",
       "      <td>15.231546</td>\n",
       "      <td>16.062378</td>\n",
       "      <td>15.329710</td>\n",
       "      <td>15.231546</td>\n",
       "      <td>15.264338</td>\n",
       "      <td>15.198684</td>\n",
       "      <td>15.099669</td>\n",
       "    </tr>\n",
       "    <tr>\n",
       "      <th>7710</th>\n",
       "      <td>16.278820</td>\n",
       "      <td>15.132746</td>\n",
       "      <td>15.716233</td>\n",
       "      <td>15.588457</td>\n",
       "      <td>15.491934</td>\n",
       "      <td>15.620500</td>\n",
       "      <td>15.099669</td>\n",
       "      <td>16.031219</td>\n",
       "      <td>15.779734</td>\n",
       "      <td>14.491377</td>\n",
       "      <td>...</td>\n",
       "      <td>15.231546</td>\n",
       "      <td>14.456832</td>\n",
       "      <td>15.297058</td>\n",
       "      <td>15.394804</td>\n",
       "      <td>16.401220</td>\n",
       "      <td>15.329710</td>\n",
       "      <td>15.329710</td>\n",
       "      <td>15.556349</td>\n",
       "      <td>15.588457</td>\n",
       "      <td>15.264338</td>\n",
       "    </tr>\n",
       "    <tr>\n",
       "      <th>7711</th>\n",
       "      <td>16.763054</td>\n",
       "      <td>15.842979</td>\n",
       "      <td>16.093477</td>\n",
       "      <td>16.031219</td>\n",
       "      <td>16.000000</td>\n",
       "      <td>16.031219</td>\n",
       "      <td>15.556349</td>\n",
       "      <td>16.522711</td>\n",
       "      <td>16.278820</td>\n",
       "      <td>15.099669</td>\n",
       "      <td>...</td>\n",
       "      <td>15.231546</td>\n",
       "      <td>14.798649</td>\n",
       "      <td>15.362291</td>\n",
       "      <td>16.309507</td>\n",
       "      <td>17.029387</td>\n",
       "      <td>15.620500</td>\n",
       "      <td>15.394804</td>\n",
       "      <td>15.937377</td>\n",
       "      <td>15.968719</td>\n",
       "      <td>15.297058</td>\n",
       "    </tr>\n",
       "  </tbody>\n",
       "</table>\n",
       "<p>7712 rows × 1929 columns</p>\n",
       "</div>"
      ],
      "text/plain": [
       "           0          1          2          3          4          5     \\\n",
       "0      1.732051   2.645751   3.464102   1.000000   2.645751   1.732051   \n",
       "1      2.000000   3.316625   3.464102   1.414214   3.741657   1.732051   \n",
       "2      2.000000   3.316625   4.000000   1.732051   3.741657   2.000000   \n",
       "3      2.236068   3.464102   4.000000   1.732051   4.000000   2.236068   \n",
       "4      2.236068   3.605551   4.123106   2.000000   4.242640   2.236068   \n",
       "...         ...        ...        ...        ...        ...        ...   \n",
       "7707  15.394804  14.387495  14.933185  14.594520  14.730920  14.696939   \n",
       "7708  15.588457  14.456832  14.933185  14.933185  14.764823  14.798649   \n",
       "7709  16.000000  15.033297  15.362291  15.362291  15.132746  15.524175   \n",
       "7710  16.278820  15.132746  15.716233  15.588457  15.491934  15.620500   \n",
       "7711  16.763054  15.842979  16.093477  16.031219  16.000000  16.031219   \n",
       "\n",
       "           6          7          8          9     ...       1919       1920  \\\n",
       "0      1.000000   1.732051   2.236068   3.464102  ...   3.605551   4.242640   \n",
       "1      1.414214   2.000000   2.236068   3.605551  ...   4.358899   5.291502   \n",
       "2      1.414214   2.236068   2.449490   4.123106  ...   4.358899   5.291502   \n",
       "3      1.732051   2.449490   2.449490   4.242640  ...   4.690416   6.244998   \n",
       "4      2.828427   2.645751   2.449490   4.358899  ...   6.708204   6.324555   \n",
       "...         ...        ...        ...        ...  ...        ...        ...   \n",
       "7707  14.106736  15.198684  14.933185  13.892444  ...  15.132746  13.892444   \n",
       "7708  14.628738  15.394804  15.066519  14.071247  ...  15.198684  14.000000   \n",
       "7709  14.798649  15.748015  15.748015  14.071247  ...  15.198684  14.212670   \n",
       "7710  15.099669  16.031219  15.779734  14.491377  ...  15.231546  14.456832   \n",
       "7711  15.556349  16.522711  16.278820  15.099669  ...  15.231546  14.798649   \n",
       "\n",
       "           1921       1922       1923       1924       1925       1926  \\\n",
       "0      1.414214   1.732051   1.000000   1.000000   1.732051   2.000000   \n",
       "1      3.316625   3.162278   1.414214   2.449490   2.828427   2.449490   \n",
       "2      3.464102   3.316625   1.732051   2.645751   3.000000   3.316625   \n",
       "3      4.000000   3.464102   2.000000   3.464102   4.123106   3.316625   \n",
       "4      4.242640   3.464102   2.236068   4.123106   4.242640   3.464102   \n",
       "...         ...        ...        ...        ...        ...        ...   \n",
       "7707  15.165751  14.832397  15.491934  15.132746  15.198684  14.594520   \n",
       "7708  15.198684  14.899665  15.524175  15.198684  15.231546  14.966630   \n",
       "7709  15.198684  15.231546  16.062378  15.329710  15.231546  15.264338   \n",
       "7710  15.297058  15.394804  16.401220  15.329710  15.329710  15.556349   \n",
       "7711  15.362291  16.309507  17.029387  15.620500  15.394804  15.937377   \n",
       "\n",
       "           1927       1928  \n",
       "0      5.385165   3.605551  \n",
       "1      5.744563   3.741657  \n",
       "2      5.916080   4.242640  \n",
       "3      5.916080   4.358899  \n",
       "4      5.916080   4.472136  \n",
       "...         ...        ...  \n",
       "7707  14.525839  14.933185  \n",
       "7708  14.560220  15.000000  \n",
       "7709  15.198684  15.099669  \n",
       "7710  15.588457  15.264338  \n",
       "7711  15.968719  15.297058  \n",
       "\n",
       "[7712 rows x 1929 columns]"
      ]
     },
     "execution_count": 138,
     "metadata": {},
     "output_type": "execute_result"
    }
   ],
   "source": [
    "x_ts_AD=pd.DataFrame(neighbors_k_ts)\n",
    "x_ts_AD"
   ]
  },
  {
   "cell_type": "code",
   "execution_count": 139,
   "metadata": {},
   "outputs": [
    {
     "name": "stdout",
     "output_type": "stream",
     "text": [
      "[1.732 2.646 3.464 ... 2.    5.385 3.606]\n"
     ]
    }
   ],
   "source": [
    "similarity_ts= neighbors_k_ts\n",
    "cpd_AD=similarity_ts[0,:]\n",
    "cpd_value = np.round(cpd_AD, 3)\n",
    "print(cpd_value)"
   ]
  },
  {
   "cell_type": "code",
   "execution_count": 140,
   "metadata": {},
   "outputs": [
    {
     "name": "stdout",
     "output_type": "stream",
     "text": [
      "[ True  True  True ...  True False  True]\n"
     ]
    }
   ],
   "source": [
    "cpd_AD = np.where(cpd_value <= model_AD_limit, True, False)\n",
    "print(cpd_AD)"
   ]
  },
  {
   "cell_type": "code",
   "execution_count": 141,
   "metadata": {},
   "outputs": [
    {
     "name": "stdout",
     "output_type": "stream",
     "text": [
      "Coverage =  0.75\n"
     ]
    }
   ],
   "source": [
    "print(\"Coverage = \", round(sum(cpd_AD) / len(cpd_AD), 2))"
   ]
  },
  {
   "cell_type": "code",
   "execution_count": 142,
   "metadata": {},
   "outputs": [
    {
     "name": "stdout",
     "output_type": "stream",
     "text": [
      "Indices of substances included in AD =  [   0    1    2 ... 1925 1926 1928]\n"
     ]
    }
   ],
   "source": [
    "print(\"Indices of substances included in AD = \", np.where(cpd_AD != 0)[0])"
   ]
  },
  {
   "cell_type": "code",
   "execution_count": 143,
   "metadata": {},
   "outputs": [],
   "source": [
    "out_Ad=list(np.where(cpd_AD == 0)[0])"
   ]
  },
  {
   "cell_type": "markdown",
   "metadata": {},
   "source": [
    "# 12. Prediction only for molecules included in  AD"
   ]
  },
  {
   "cell_type": "code",
   "execution_count": 144,
   "metadata": {},
   "outputs": [],
   "source": [
    "y_pred_svm_ad=list(y_pred_svm)"
   ]
  },
  {
   "cell_type": "code",
   "execution_count": 145,
   "metadata": {},
   "outputs": [],
   "source": [
    "y_pred_svm_ad[:] = [x for i,x in enumerate(y_pred_svm_ad) if i not in out_Ad]"
   ]
  },
  {
   "cell_type": "code",
   "execution_count": 146,
   "metadata": {},
   "outputs": [
    {
     "data": {
      "text/plain": [
       "1450"
      ]
     },
     "execution_count": 146,
     "metadata": {},
     "output_type": "execute_result"
    }
   ],
   "source": [
    "len(y_pred_svm_ad)"
   ]
  },
  {
   "cell_type": "code",
   "execution_count": 147,
   "metadata": {},
   "outputs": [],
   "source": [
    "y_ts_ad=list(y_ts)"
   ]
  },
  {
   "cell_type": "code",
   "execution_count": 148,
   "metadata": {},
   "outputs": [],
   "source": [
    "y_ts_ad[:] = [x for i,x in enumerate(y_ts_ad) if i not in out_Ad]"
   ]
  },
  {
   "cell_type": "code",
   "execution_count": 149,
   "metadata": {},
   "outputs": [
    {
     "data": {
      "text/plain": [
       "1450"
      ]
     },
     "execution_count": 149,
     "metadata": {},
     "output_type": "execute_result"
    }
   ],
   "source": [
    "len(y_ts_ad)"
   ]
  },
  {
   "cell_type": "code",
   "execution_count": 150,
   "metadata": {},
   "outputs": [
    {
     "data": {
      "text/plain": [
       "0.64"
      ]
     },
     "execution_count": 150,
     "metadata": {},
     "output_type": "execute_result"
    }
   ],
   "source": [
    "Q2_TS = round(r2_score(y_ts_ad, y_pred_svm_ad), 2)\n",
    "Q2_TS"
   ]
  },
  {
   "cell_type": "code",
   "execution_count": 151,
   "metadata": {},
   "outputs": [
    {
     "data": {
      "text/plain": [
       "0.62"
      ]
     },
     "execution_count": 151,
     "metadata": {},
     "output_type": "execute_result"
    }
   ],
   "source": [
    "RMSE_TS=round(np.sqrt(mean_absolute_error(y_ts_ad, y_pred_svm_ad)), 2)\n",
    "RMSE_TS"
   ]
  },
  {
   "cell_type": "code",
   "execution_count": null,
   "metadata": {},
   "outputs": [],
   "source": []
  },
  {
   "cell_type": "markdown",
   "metadata": {},
   "source": [
    "# Multi-layer Perceptron regressor"
   ]
  },
  {
   "cell_type": "code",
   "execution_count": 152,
   "metadata": {},
   "outputs": [],
   "source": [
    "from sklearn.neural_network import MLPRegressor"
   ]
  },
  {
   "cell_type": "code",
   "execution_count": 153,
   "metadata": {},
   "outputs": [],
   "source": [
    "param_grid ={\"hidden_layer_sizes\": [(400, 300, 200, 100),(100, 100, 100), (10, 10, 10),(50,)], \"activation\": [\"tanh\", \"relu\"], \"solver\": [\"lbfgs\", \"sgd\", \"adam\"], \"alpha\": [0.00005,0.0005], 'max_iter': [1000, 2000]}"
   ]
  },
  {
   "cell_type": "code",
   "execution_count": 154,
   "metadata": {},
   "outputs": [],
   "source": [
    "m = GridSearchCV(MLPRegressor(), param_grid, n_jobs=-1, cv=cv, verbose=1)"
   ]
  },
  {
   "cell_type": "code",
   "execution_count": 155,
   "metadata": {},
   "outputs": [
    {
     "name": "stdout",
     "output_type": "stream",
     "text": [
      "Fitting 5 folds for each of 96 candidates, totalling 480 fits\n"
     ]
    },
    {
     "data": {
      "text/html": [
       "<style>#sk-container-id-3 {color: black;}#sk-container-id-3 pre{padding: 0;}#sk-container-id-3 div.sk-toggleable {background-color: white;}#sk-container-id-3 label.sk-toggleable__label {cursor: pointer;display: block;width: 100%;margin-bottom: 0;padding: 0.3em;box-sizing: border-box;text-align: center;}#sk-container-id-3 label.sk-toggleable__label-arrow:before {content: \"▸\";float: left;margin-right: 0.25em;color: #696969;}#sk-container-id-3 label.sk-toggleable__label-arrow:hover:before {color: black;}#sk-container-id-3 div.sk-estimator:hover label.sk-toggleable__label-arrow:before {color: black;}#sk-container-id-3 div.sk-toggleable__content {max-height: 0;max-width: 0;overflow: hidden;text-align: left;background-color: #f0f8ff;}#sk-container-id-3 div.sk-toggleable__content pre {margin: 0.2em;color: black;border-radius: 0.25em;background-color: #f0f8ff;}#sk-container-id-3 input.sk-toggleable__control:checked~div.sk-toggleable__content {max-height: 200px;max-width: 100%;overflow: auto;}#sk-container-id-3 input.sk-toggleable__control:checked~label.sk-toggleable__label-arrow:before {content: \"▾\";}#sk-container-id-3 div.sk-estimator input.sk-toggleable__control:checked~label.sk-toggleable__label {background-color: #d4ebff;}#sk-container-id-3 div.sk-label input.sk-toggleable__control:checked~label.sk-toggleable__label {background-color: #d4ebff;}#sk-container-id-3 input.sk-hidden--visually {border: 0;clip: rect(1px 1px 1px 1px);clip: rect(1px, 1px, 1px, 1px);height: 1px;margin: -1px;overflow: hidden;padding: 0;position: absolute;width: 1px;}#sk-container-id-3 div.sk-estimator {font-family: monospace;background-color: #f0f8ff;border: 1px dotted black;border-radius: 0.25em;box-sizing: border-box;margin-bottom: 0.5em;}#sk-container-id-3 div.sk-estimator:hover {background-color: #d4ebff;}#sk-container-id-3 div.sk-parallel-item::after {content: \"\";width: 100%;border-bottom: 1px solid gray;flex-grow: 1;}#sk-container-id-3 div.sk-label:hover label.sk-toggleable__label {background-color: #d4ebff;}#sk-container-id-3 div.sk-serial::before {content: \"\";position: absolute;border-left: 1px solid gray;box-sizing: border-box;top: 0;bottom: 0;left: 50%;z-index: 0;}#sk-container-id-3 div.sk-serial {display: flex;flex-direction: column;align-items: center;background-color: white;padding-right: 0.2em;padding-left: 0.2em;position: relative;}#sk-container-id-3 div.sk-item {position: relative;z-index: 1;}#sk-container-id-3 div.sk-parallel {display: flex;align-items: stretch;justify-content: center;background-color: white;position: relative;}#sk-container-id-3 div.sk-item::before, #sk-container-id-3 div.sk-parallel-item::before {content: \"\";position: absolute;border-left: 1px solid gray;box-sizing: border-box;top: 0;bottom: 0;left: 50%;z-index: -1;}#sk-container-id-3 div.sk-parallel-item {display: flex;flex-direction: column;z-index: 1;position: relative;background-color: white;}#sk-container-id-3 div.sk-parallel-item:first-child::after {align-self: flex-end;width: 50%;}#sk-container-id-3 div.sk-parallel-item:last-child::after {align-self: flex-start;width: 50%;}#sk-container-id-3 div.sk-parallel-item:only-child::after {width: 0;}#sk-container-id-3 div.sk-dashed-wrapped {border: 1px dashed gray;margin: 0 0.4em 0.5em 0.4em;box-sizing: border-box;padding-bottom: 0.4em;background-color: white;}#sk-container-id-3 div.sk-label label {font-family: monospace;font-weight: bold;display: inline-block;line-height: 1.2em;}#sk-container-id-3 div.sk-label-container {text-align: center;}#sk-container-id-3 div.sk-container {/* jupyter's `normalize.less` sets `[hidden] { display: none; }` but bootstrap.min.css set `[hidden] { display: none !important; }` so we also need the `!important` here to be able to override the default hidden behavior on the sphinx rendered scikit-learn.org. See: https://github.com/scikit-learn/scikit-learn/issues/21755 */display: inline-block !important;position: relative;}#sk-container-id-3 div.sk-text-repr-fallback {display: none;}</style><div id=\"sk-container-id-3\" class=\"sk-top-container\"><div class=\"sk-text-repr-fallback\"><pre>GridSearchCV(cv=KFold(n_splits=5, random_state=42, shuffle=True),\n",
       "             estimator=MLPRegressor(), n_jobs=-1,\n",
       "             param_grid={&#x27;activation&#x27;: [&#x27;tanh&#x27;, &#x27;relu&#x27;],\n",
       "                         &#x27;alpha&#x27;: [5e-05, 0.0005],\n",
       "                         &#x27;hidden_layer_sizes&#x27;: [(400, 300, 200, 100),\n",
       "                                                (100, 100, 100), (10, 10, 10),\n",
       "                                                (50,)],\n",
       "                         &#x27;max_iter&#x27;: [1000, 2000],\n",
       "                         &#x27;solver&#x27;: [&#x27;lbfgs&#x27;, &#x27;sgd&#x27;, &#x27;adam&#x27;]},\n",
       "             verbose=1)</pre><b>In a Jupyter environment, please rerun this cell to show the HTML representation or trust the notebook. <br />On GitHub, the HTML representation is unable to render, please try loading this page with nbviewer.org.</b></div><div class=\"sk-container\" hidden><div class=\"sk-item sk-dashed-wrapped\"><div class=\"sk-label-container\"><div class=\"sk-label sk-toggleable\"><input class=\"sk-toggleable__control sk-hidden--visually\" id=\"sk-estimator-id-7\" type=\"checkbox\" ><label for=\"sk-estimator-id-7\" class=\"sk-toggleable__label sk-toggleable__label-arrow\">GridSearchCV</label><div class=\"sk-toggleable__content\"><pre>GridSearchCV(cv=KFold(n_splits=5, random_state=42, shuffle=True),\n",
       "             estimator=MLPRegressor(), n_jobs=-1,\n",
       "             param_grid={&#x27;activation&#x27;: [&#x27;tanh&#x27;, &#x27;relu&#x27;],\n",
       "                         &#x27;alpha&#x27;: [5e-05, 0.0005],\n",
       "                         &#x27;hidden_layer_sizes&#x27;: [(400, 300, 200, 100),\n",
       "                                                (100, 100, 100), (10, 10, 10),\n",
       "                                                (50,)],\n",
       "                         &#x27;max_iter&#x27;: [1000, 2000],\n",
       "                         &#x27;solver&#x27;: [&#x27;lbfgs&#x27;, &#x27;sgd&#x27;, &#x27;adam&#x27;]},\n",
       "             verbose=1)</pre></div></div></div><div class=\"sk-parallel\"><div class=\"sk-parallel-item\"><div class=\"sk-item\"><div class=\"sk-label-container\"><div class=\"sk-label sk-toggleable\"><input class=\"sk-toggleable__control sk-hidden--visually\" id=\"sk-estimator-id-8\" type=\"checkbox\" ><label for=\"sk-estimator-id-8\" class=\"sk-toggleable__label sk-toggleable__label-arrow\">estimator: MLPRegressor</label><div class=\"sk-toggleable__content\"><pre>MLPRegressor()</pre></div></div></div><div class=\"sk-serial\"><div class=\"sk-item\"><div class=\"sk-estimator sk-toggleable\"><input class=\"sk-toggleable__control sk-hidden--visually\" id=\"sk-estimator-id-9\" type=\"checkbox\" ><label for=\"sk-estimator-id-9\" class=\"sk-toggleable__label sk-toggleable__label-arrow\">MLPRegressor</label><div class=\"sk-toggleable__content\"><pre>MLPRegressor()</pre></div></div></div></div></div></div></div></div></div></div>"
      ],
      "text/plain": [
       "GridSearchCV(cv=KFold(n_splits=5, random_state=42, shuffle=True),\n",
       "             estimator=MLPRegressor(), n_jobs=-1,\n",
       "             param_grid={'activation': ['tanh', 'relu'],\n",
       "                         'alpha': [5e-05, 0.0005],\n",
       "                         'hidden_layer_sizes': [(400, 300, 200, 100),\n",
       "                                                (100, 100, 100), (10, 10, 10),\n",
       "                                                (50,)],\n",
       "                         'max_iter': [1000, 2000],\n",
       "                         'solver': ['lbfgs', 'sgd', 'adam']},\n",
       "             verbose=1)"
      ]
     },
     "execution_count": 155,
     "metadata": {},
     "output_type": "execute_result"
    }
   ],
   "source": [
    "m.fit(x_tr, y_tr)"
   ]
  },
  {
   "cell_type": "code",
   "execution_count": 156,
   "metadata": {},
   "outputs": [],
   "source": [
    "best_MLPR = m.best_estimator_"
   ]
  },
  {
   "cell_type": "code",
   "execution_count": 157,
   "metadata": {},
   "outputs": [
    {
     "data": {
      "text/plain": [
       "{'activation': 'relu',\n",
       " 'alpha': 0.0005,\n",
       " 'hidden_layer_sizes': (400, 300, 200, 100),\n",
       " 'max_iter': 2000,\n",
       " 'solver': 'adam'}"
      ]
     },
     "execution_count": 157,
     "metadata": {},
     "output_type": "execute_result"
    }
   ],
   "source": [
    "m.best_params_"
   ]
  },
  {
   "cell_type": "code",
   "execution_count": 158,
   "metadata": {},
   "outputs": [],
   "source": [
    "y_pred_ws_MLPR = best_MLPR.predict(x_tr)"
   ]
  },
  {
   "cell_type": "code",
   "execution_count": 159,
   "metadata": {},
   "outputs": [
    {
     "data": {
      "text/plain": [
       "0.97"
      ]
     },
     "execution_count": 159,
     "metadata": {},
     "output_type": "execute_result"
    }
   ],
   "source": [
    "R2_WS = round(r2_score(y_tr, y_pred_ws_MLPR), 2)\n",
    "R2_WS"
   ]
  },
  {
   "cell_type": "code",
   "execution_count": 160,
   "metadata": {},
   "outputs": [
    {
     "data": {
      "text/plain": [
       "0.34"
      ]
     },
     "execution_count": 160,
     "metadata": {},
     "output_type": "execute_result"
    }
   ],
   "source": [
    "RMSE_WS=round(np.sqrt(mean_absolute_error(y_tr, y_pred_ws_MLPR)), 2)\n",
    "RMSE_WS"
   ]
  },
  {
   "cell_type": "code",
   "execution_count": 161,
   "metadata": {},
   "outputs": [],
   "source": [
    "y_pred_CV_MLPR = cross_val_predict(best_MLPR, x_tr, y_tr, cv=cv)"
   ]
  },
  {
   "cell_type": "code",
   "execution_count": 162,
   "metadata": {},
   "outputs": [
    {
     "data": {
      "text/plain": [
       "array([1.2288789, 2.493563 , 2.069278 , ..., 5.678109 , 3.8380027,\n",
       "       2.8154068], dtype=float32)"
      ]
     },
     "execution_count": 162,
     "metadata": {},
     "output_type": "execute_result"
    }
   ],
   "source": [
    "y_pred_CV_MLPR"
   ]
  },
  {
   "cell_type": "code",
   "execution_count": 163,
   "metadata": {},
   "outputs": [
    {
     "data": {
      "text/plain": [
       "0.51"
      ]
     },
     "execution_count": 163,
     "metadata": {},
     "output_type": "execute_result"
    }
   ],
   "source": [
    "Q2_CV = round(r2_score(y_tr, y_pred_CV_MLPR), 2)\n",
    "Q2_CV"
   ]
  },
  {
   "cell_type": "code",
   "execution_count": 164,
   "metadata": {},
   "outputs": [
    {
     "data": {
      "text/plain": [
       "0.67"
      ]
     },
     "execution_count": 164,
     "metadata": {},
     "output_type": "execute_result"
    }
   ],
   "source": [
    "RMSE_CV=round(np.sqrt(mean_absolute_error(y_tr, y_pred_CV_MLPR)), 2)\n",
    "RMSE_CV"
   ]
  },
  {
   "cell_type": "markdown",
   "metadata": {},
   "source": [
    "# 9. Prediction for test set's molecules"
   ]
  },
  {
   "cell_type": "code",
   "execution_count": 165,
   "metadata": {},
   "outputs": [],
   "source": [
    "x_ts = np.array(x_ts, dtype=np.float32)\n",
    "y_ts = np.array(y_ts, dtype=np.float32)"
   ]
  },
  {
   "cell_type": "code",
   "execution_count": 166,
   "metadata": {},
   "outputs": [],
   "source": [
    "y_pred_MLPR = best_MLPR.predict(x_ts)"
   ]
  },
  {
   "cell_type": "code",
   "execution_count": 167,
   "metadata": {},
   "outputs": [
    {
     "data": {
      "text/plain": [
       "0.54"
      ]
     },
     "execution_count": 167,
     "metadata": {},
     "output_type": "execute_result"
    }
   ],
   "source": [
    "Q2_TS = round(r2_score(y_ts, y_pred_MLPR), 2)\n",
    "Q2_TS"
   ]
  },
  {
   "cell_type": "code",
   "execution_count": 168,
   "metadata": {},
   "outputs": [
    {
     "data": {
      "text/plain": [
       "0.65"
      ]
     },
     "execution_count": 168,
     "metadata": {},
     "output_type": "execute_result"
    }
   ],
   "source": [
    "RMSE_TS=round(np.sqrt(mean_absolute_error(y_ts, y_pred_MLPR)), 2)\n",
    "RMSE_TS"
   ]
  },
  {
   "cell_type": "markdown",
   "metadata": {},
   "source": [
    "# save the model to disk"
   ]
  },
  {
   "cell_type": "code",
   "execution_count": 169,
   "metadata": {},
   "outputs": [],
   "source": [
    "pickle.dump(best_MLPR, open('models/Padels/Toxicity_MLPR_PubChem.pkl', 'wb'))"
   ]
  },
  {
   "cell_type": "markdown",
   "metadata": {},
   "source": [
    "# load the model from disk"
   ]
  },
  {
   "cell_type": "code",
   "execution_count": 87,
   "metadata": {},
   "outputs": [],
   "source": [
    "best_MLPR = pickle.load(open('models/Padels/Toxicity_MLPR_PubChem.pkl', 'rb'))"
   ]
  },
  {
   "cell_type": "markdown",
   "metadata": {},
   "source": [
    "# 10. Y-randomization MLPR"
   ]
  },
  {
   "cell_type": "code",
   "execution_count": 170,
   "metadata": {},
   "outputs": [
    {
     "name": "stderr",
     "output_type": "stream",
     "text": [
      "[Parallel(n_jobs=-1)]: Using backend LokyBackend with 16 concurrent workers.\n",
      "[Parallel(n_jobs=-1)]: Done  18 tasks      | elapsed: 67.0min\n"
     ]
    },
    {
     "name": "stdout",
     "output_type": "stream",
     "text": [
      "True score =  0.51 \n",
      "Y-randomization =  -0.55 \n",
      "p-value =  0.0196\n"
     ]
    },
    {
     "name": "stderr",
     "output_type": "stream",
     "text": [
      "[Parallel(n_jobs=-1)]: Done  50 out of  50 | elapsed: 113.7min finished\n"
     ]
    }
   ],
   "source": [
    "permutations = 50\n",
    "score, permutation_scores, pvalue = permutation_test_score(best_MLPR, x_tr, y_tr,\n",
    "                                                           cv=cv, scoring='r2',\n",
    "                                                           n_permutations=permutations,\n",
    "                                                           n_jobs=-1,\n",
    "                                                           verbose=1,\n",
    "                                                           random_state=seed)\n",
    "print('True score = ', score.round(2),\n",
    "      '\\nY-randomization = ', np.mean(permutation_scores).round(2),\n",
    "      '\\np-value = ', pvalue.round(4))"
   ]
  },
  {
   "cell_type": "markdown",
   "metadata": {},
   "source": [
    "# 11. Estimating applicability domain. Method - Euclidian distances, K=1"
   ]
  },
  {
   "cell_type": "code",
   "execution_count": 171,
   "metadata": {},
   "outputs": [],
   "source": [
    "neighbors_k= pairwise_distances(x_tr, n_jobs=-1)\n",
    "neighbors_k.sort(0)"
   ]
  },
  {
   "cell_type": "code",
   "execution_count": 172,
   "metadata": {},
   "outputs": [
    {
     "data": {
      "text/html": [
       "<div>\n",
       "<style scoped>\n",
       "    .dataframe tbody tr th:only-of-type {\n",
       "        vertical-align: middle;\n",
       "    }\n",
       "\n",
       "    .dataframe tbody tr th {\n",
       "        vertical-align: top;\n",
       "    }\n",
       "\n",
       "    .dataframe thead th {\n",
       "        text-align: right;\n",
       "    }\n",
       "</style>\n",
       "<table border=\"1\" class=\"dataframe\">\n",
       "  <thead>\n",
       "    <tr style=\"text-align: right;\">\n",
       "      <th></th>\n",
       "      <th>0</th>\n",
       "      <th>1</th>\n",
       "      <th>2</th>\n",
       "      <th>3</th>\n",
       "      <th>4</th>\n",
       "      <th>5</th>\n",
       "      <th>6</th>\n",
       "      <th>7</th>\n",
       "      <th>8</th>\n",
       "      <th>9</th>\n",
       "      <th>...</th>\n",
       "      <th>7702</th>\n",
       "      <th>7703</th>\n",
       "      <th>7704</th>\n",
       "      <th>7705</th>\n",
       "      <th>7706</th>\n",
       "      <th>7707</th>\n",
       "      <th>7708</th>\n",
       "      <th>7709</th>\n",
       "      <th>7710</th>\n",
       "      <th>7711</th>\n",
       "    </tr>\n",
       "  </thead>\n",
       "  <tbody>\n",
       "    <tr>\n",
       "      <th>0</th>\n",
       "      <td>0.000000</td>\n",
       "      <td>0.000000</td>\n",
       "      <td>0.000000</td>\n",
       "      <td>0.000000</td>\n",
       "      <td>0.000000</td>\n",
       "      <td>0.000000</td>\n",
       "      <td>0.000000</td>\n",
       "      <td>0.000000</td>\n",
       "      <td>0.000000</td>\n",
       "      <td>0.000000</td>\n",
       "      <td>...</td>\n",
       "      <td>0.000000</td>\n",
       "      <td>0.000000</td>\n",
       "      <td>0.000000</td>\n",
       "      <td>0.000000</td>\n",
       "      <td>0.000000</td>\n",
       "      <td>0.000000</td>\n",
       "      <td>0.000000</td>\n",
       "      <td>0.000000</td>\n",
       "      <td>0.000000</td>\n",
       "      <td>0.000000</td>\n",
       "    </tr>\n",
       "    <tr>\n",
       "      <th>1</th>\n",
       "      <td>2.449490</td>\n",
       "      <td>4.472136</td>\n",
       "      <td>1.000000</td>\n",
       "      <td>3.000000</td>\n",
       "      <td>1.414214</td>\n",
       "      <td>2.645751</td>\n",
       "      <td>3.000000</td>\n",
       "      <td>3.741657</td>\n",
       "      <td>0.000000</td>\n",
       "      <td>1.000000</td>\n",
       "      <td>...</td>\n",
       "      <td>1.414214</td>\n",
       "      <td>1.732051</td>\n",
       "      <td>2.449490</td>\n",
       "      <td>4.582576</td>\n",
       "      <td>2.236068</td>\n",
       "      <td>3.316625</td>\n",
       "      <td>4.898980</td>\n",
       "      <td>3.000000</td>\n",
       "      <td>2.828427</td>\n",
       "      <td>3.316625</td>\n",
       "    </tr>\n",
       "    <tr>\n",
       "      <th>2</th>\n",
       "      <td>3.162278</td>\n",
       "      <td>4.582576</td>\n",
       "      <td>1.732051</td>\n",
       "      <td>3.872983</td>\n",
       "      <td>1.414214</td>\n",
       "      <td>3.000000</td>\n",
       "      <td>3.000000</td>\n",
       "      <td>4.123106</td>\n",
       "      <td>0.000000</td>\n",
       "      <td>2.236068</td>\n",
       "      <td>...</td>\n",
       "      <td>1.414214</td>\n",
       "      <td>2.000000</td>\n",
       "      <td>3.316625</td>\n",
       "      <td>5.196152</td>\n",
       "      <td>4.472136</td>\n",
       "      <td>3.605551</td>\n",
       "      <td>4.898980</td>\n",
       "      <td>3.162278</td>\n",
       "      <td>3.162278</td>\n",
       "      <td>3.872983</td>\n",
       "    </tr>\n",
       "    <tr>\n",
       "      <th>3</th>\n",
       "      <td>3.316625</td>\n",
       "      <td>4.690416</td>\n",
       "      <td>2.000000</td>\n",
       "      <td>4.123106</td>\n",
       "      <td>2.000000</td>\n",
       "      <td>3.162278</td>\n",
       "      <td>3.464102</td>\n",
       "      <td>4.242640</td>\n",
       "      <td>0.000000</td>\n",
       "      <td>2.236068</td>\n",
       "      <td>...</td>\n",
       "      <td>2.449490</td>\n",
       "      <td>3.000000</td>\n",
       "      <td>5.744563</td>\n",
       "      <td>5.385165</td>\n",
       "      <td>4.582576</td>\n",
       "      <td>4.358899</td>\n",
       "      <td>4.898980</td>\n",
       "      <td>3.605551</td>\n",
       "      <td>3.162278</td>\n",
       "      <td>4.795832</td>\n",
       "    </tr>\n",
       "    <tr>\n",
       "      <th>4</th>\n",
       "      <td>3.605551</td>\n",
       "      <td>4.795832</td>\n",
       "      <td>2.000000</td>\n",
       "      <td>4.242640</td>\n",
       "      <td>2.000000</td>\n",
       "      <td>3.316625</td>\n",
       "      <td>3.605551</td>\n",
       "      <td>4.242640</td>\n",
       "      <td>1.000000</td>\n",
       "      <td>2.236068</td>\n",
       "      <td>...</td>\n",
       "      <td>2.828427</td>\n",
       "      <td>3.000000</td>\n",
       "      <td>6.403124</td>\n",
       "      <td>5.477226</td>\n",
       "      <td>4.898980</td>\n",
       "      <td>5.000000</td>\n",
       "      <td>5.000000</td>\n",
       "      <td>5.196152</td>\n",
       "      <td>3.464102</td>\n",
       "      <td>5.000000</td>\n",
       "    </tr>\n",
       "    <tr>\n",
       "      <th>...</th>\n",
       "      <td>...</td>\n",
       "      <td>...</td>\n",
       "      <td>...</td>\n",
       "      <td>...</td>\n",
       "      <td>...</td>\n",
       "      <td>...</td>\n",
       "      <td>...</td>\n",
       "      <td>...</td>\n",
       "      <td>...</td>\n",
       "      <td>...</td>\n",
       "      <td>...</td>\n",
       "      <td>...</td>\n",
       "      <td>...</td>\n",
       "      <td>...</td>\n",
       "      <td>...</td>\n",
       "      <td>...</td>\n",
       "      <td>...</td>\n",
       "      <td>...</td>\n",
       "      <td>...</td>\n",
       "      <td>...</td>\n",
       "      <td>...</td>\n",
       "    </tr>\n",
       "    <tr>\n",
       "      <th>7707</th>\n",
       "      <td>14.798649</td>\n",
       "      <td>13.892444</td>\n",
       "      <td>15.165751</td>\n",
       "      <td>14.282857</td>\n",
       "      <td>14.933185</td>\n",
       "      <td>14.594520</td>\n",
       "      <td>14.798649</td>\n",
       "      <td>14.525839</td>\n",
       "      <td>14.456832</td>\n",
       "      <td>15.652476</td>\n",
       "      <td>...</td>\n",
       "      <td>14.832397</td>\n",
       "      <td>15.066519</td>\n",
       "      <td>14.594520</td>\n",
       "      <td>14.966630</td>\n",
       "      <td>14.832397</td>\n",
       "      <td>14.966630</td>\n",
       "      <td>13.892444</td>\n",
       "      <td>14.525839</td>\n",
       "      <td>14.594520</td>\n",
       "      <td>14.282857</td>\n",
       "    </tr>\n",
       "    <tr>\n",
       "      <th>7708</th>\n",
       "      <td>14.832397</td>\n",
       "      <td>14.106736</td>\n",
       "      <td>15.362291</td>\n",
       "      <td>14.491377</td>\n",
       "      <td>15.000000</td>\n",
       "      <td>14.730920</td>\n",
       "      <td>15.000000</td>\n",
       "      <td>14.832397</td>\n",
       "      <td>15.033297</td>\n",
       "      <td>15.842979</td>\n",
       "      <td>...</td>\n",
       "      <td>14.899665</td>\n",
       "      <td>15.165751</td>\n",
       "      <td>14.628738</td>\n",
       "      <td>15.099669</td>\n",
       "      <td>14.866069</td>\n",
       "      <td>15.099669</td>\n",
       "      <td>13.928389</td>\n",
       "      <td>14.832397</td>\n",
       "      <td>14.628738</td>\n",
       "      <td>14.282857</td>\n",
       "    </tr>\n",
       "    <tr>\n",
       "      <th>7709</th>\n",
       "      <td>15.427249</td>\n",
       "      <td>14.177447</td>\n",
       "      <td>15.779734</td>\n",
       "      <td>14.525839</td>\n",
       "      <td>15.684387</td>\n",
       "      <td>15.099669</td>\n",
       "      <td>15.033297</td>\n",
       "      <td>14.866069</td>\n",
       "      <td>15.132746</td>\n",
       "      <td>16.000000</td>\n",
       "      <td>...</td>\n",
       "      <td>15.459625</td>\n",
       "      <td>15.874508</td>\n",
       "      <td>14.662878</td>\n",
       "      <td>15.362291</td>\n",
       "      <td>15.297058</td>\n",
       "      <td>15.198684</td>\n",
       "      <td>13.964240</td>\n",
       "      <td>14.933185</td>\n",
       "      <td>15.264338</td>\n",
       "      <td>14.317822</td>\n",
       "    </tr>\n",
       "    <tr>\n",
       "      <th>7710</th>\n",
       "      <td>15.524175</td>\n",
       "      <td>14.456832</td>\n",
       "      <td>16.062378</td>\n",
       "      <td>14.933185</td>\n",
       "      <td>15.716233</td>\n",
       "      <td>15.198684</td>\n",
       "      <td>15.198684</td>\n",
       "      <td>15.264338</td>\n",
       "      <td>15.556349</td>\n",
       "      <td>16.522711</td>\n",
       "      <td>...</td>\n",
       "      <td>15.842979</td>\n",
       "      <td>15.968719</td>\n",
       "      <td>14.662878</td>\n",
       "      <td>15.394804</td>\n",
       "      <td>15.716233</td>\n",
       "      <td>15.198684</td>\n",
       "      <td>14.106736</td>\n",
       "      <td>15.099669</td>\n",
       "      <td>15.652476</td>\n",
       "      <td>14.594520</td>\n",
       "    </tr>\n",
       "    <tr>\n",
       "      <th>7711</th>\n",
       "      <td>16.031219</td>\n",
       "      <td>15.000000</td>\n",
       "      <td>16.552946</td>\n",
       "      <td>15.132746</td>\n",
       "      <td>16.340136</td>\n",
       "      <td>15.905973</td>\n",
       "      <td>16.248077</td>\n",
       "      <td>15.329710</td>\n",
       "      <td>15.811388</td>\n",
       "      <td>17.000000</td>\n",
       "      <td>...</td>\n",
       "      <td>16.217276</td>\n",
       "      <td>16.613247</td>\n",
       "      <td>14.764823</td>\n",
       "      <td>15.459625</td>\n",
       "      <td>16.062378</td>\n",
       "      <td>15.652476</td>\n",
       "      <td>14.456832</td>\n",
       "      <td>15.165751</td>\n",
       "      <td>16.031219</td>\n",
       "      <td>14.696939</td>\n",
       "    </tr>\n",
       "  </tbody>\n",
       "</table>\n",
       "<p>7712 rows × 7712 columns</p>\n",
       "</div>"
      ],
      "text/plain": [
       "           0          1          2          3          4          5     \\\n",
       "0      0.000000   0.000000   0.000000   0.000000   0.000000   0.000000   \n",
       "1      2.449490   4.472136   1.000000   3.000000   1.414214   2.645751   \n",
       "2      3.162278   4.582576   1.732051   3.872983   1.414214   3.000000   \n",
       "3      3.316625   4.690416   2.000000   4.123106   2.000000   3.162278   \n",
       "4      3.605551   4.795832   2.000000   4.242640   2.000000   3.316625   \n",
       "...         ...        ...        ...        ...        ...        ...   \n",
       "7707  14.798649  13.892444  15.165751  14.282857  14.933185  14.594520   \n",
       "7708  14.832397  14.106736  15.362291  14.491377  15.000000  14.730920   \n",
       "7709  15.427249  14.177447  15.779734  14.525839  15.684387  15.099669   \n",
       "7710  15.524175  14.456832  16.062378  14.933185  15.716233  15.198684   \n",
       "7711  16.031219  15.000000  16.552946  15.132746  16.340136  15.905973   \n",
       "\n",
       "           6          7          8          9     ...       7702       7703  \\\n",
       "0      0.000000   0.000000   0.000000   0.000000  ...   0.000000   0.000000   \n",
       "1      3.000000   3.741657   0.000000   1.000000  ...   1.414214   1.732051   \n",
       "2      3.000000   4.123106   0.000000   2.236068  ...   1.414214   2.000000   \n",
       "3      3.464102   4.242640   0.000000   2.236068  ...   2.449490   3.000000   \n",
       "4      3.605551   4.242640   1.000000   2.236068  ...   2.828427   3.000000   \n",
       "...         ...        ...        ...        ...  ...        ...        ...   \n",
       "7707  14.798649  14.525839  14.456832  15.652476  ...  14.832397  15.066519   \n",
       "7708  15.000000  14.832397  15.033297  15.842979  ...  14.899665  15.165751   \n",
       "7709  15.033297  14.866069  15.132746  16.000000  ...  15.459625  15.874508   \n",
       "7710  15.198684  15.264338  15.556349  16.522711  ...  15.842979  15.968719   \n",
       "7711  16.248077  15.329710  15.811388  17.000000  ...  16.217276  16.613247   \n",
       "\n",
       "           7704       7705       7706       7707       7708       7709  \\\n",
       "0      0.000000   0.000000   0.000000   0.000000   0.000000   0.000000   \n",
       "1      2.449490   4.582576   2.236068   3.316625   4.898980   3.000000   \n",
       "2      3.316625   5.196152   4.472136   3.605551   4.898980   3.162278   \n",
       "3      5.744563   5.385165   4.582576   4.358899   4.898980   3.605551   \n",
       "4      6.403124   5.477226   4.898980   5.000000   5.000000   5.196152   \n",
       "...         ...        ...        ...        ...        ...        ...   \n",
       "7707  14.594520  14.966630  14.832397  14.966630  13.892444  14.525839   \n",
       "7708  14.628738  15.099669  14.866069  15.099669  13.928389  14.832397   \n",
       "7709  14.662878  15.362291  15.297058  15.198684  13.964240  14.933185   \n",
       "7710  14.662878  15.394804  15.716233  15.198684  14.106736  15.099669   \n",
       "7711  14.764823  15.459625  16.062378  15.652476  14.456832  15.165751   \n",
       "\n",
       "           7710       7711  \n",
       "0      0.000000   0.000000  \n",
       "1      2.828427   3.316625  \n",
       "2      3.162278   3.872983  \n",
       "3      3.162278   4.795832  \n",
       "4      3.464102   5.000000  \n",
       "...         ...        ...  \n",
       "7707  14.594520  14.282857  \n",
       "7708  14.628738  14.282857  \n",
       "7709  15.264338  14.317822  \n",
       "7710  15.652476  14.594520  \n",
       "7711  16.031219  14.696939  \n",
       "\n",
       "[7712 rows x 7712 columns]"
      ]
     },
     "execution_count": 172,
     "metadata": {},
     "output_type": "execute_result"
    }
   ],
   "source": [
    "df_tr=pd.DataFrame(neighbors_k)\n",
    "df_tr"
   ]
  },
  {
   "cell_type": "code",
   "execution_count": 173,
   "metadata": {},
   "outputs": [],
   "source": [
    "similarity= neighbors_k"
   ]
  },
  {
   "cell_type": "code",
   "execution_count": 174,
   "metadata": {},
   "outputs": [],
   "source": [
    "Dmean=np.mean(similarity[1,:])"
   ]
  },
  {
   "cell_type": "code",
   "execution_count": 175,
   "metadata": {},
   "outputs": [
    {
     "data": {
      "text/plain": [
       "2.83"
      ]
     },
     "execution_count": 175,
     "metadata": {},
     "output_type": "execute_result"
    }
   ],
   "source": [
    "round(Dmean, 2)"
   ]
  },
  {
   "cell_type": "code",
   "execution_count": 176,
   "metadata": {},
   "outputs": [],
   "source": [
    "std=np.std(similarity[1,:])"
   ]
  },
  {
   "cell_type": "code",
   "execution_count": 177,
   "metadata": {},
   "outputs": [
    {
     "data": {
      "text/plain": [
       "1.58"
      ]
     },
     "execution_count": 177,
     "metadata": {},
     "output_type": "execute_result"
    }
   ],
   "source": [
    "round(std, 2)"
   ]
  },
  {
   "cell_type": "code",
   "execution_count": 178,
   "metadata": {},
   "outputs": [
    {
     "name": "stdout",
     "output_type": "stream",
     "text": [
      "3.62\n"
     ]
    }
   ],
   "source": [
    "model_AD_limit=Dmean+std*0.5\n",
    "print(np.round(model_AD_limit, 2))"
   ]
  },
  {
   "cell_type": "code",
   "execution_count": 179,
   "metadata": {},
   "outputs": [],
   "source": [
    "neighbors_k_ts= pairwise_distances(x_tr,Y=x_ts, n_jobs=-1)\n",
    "neighbors_k_ts.sort(0)"
   ]
  },
  {
   "cell_type": "code",
   "execution_count": 180,
   "metadata": {},
   "outputs": [
    {
     "data": {
      "text/html": [
       "<div>\n",
       "<style scoped>\n",
       "    .dataframe tbody tr th:only-of-type {\n",
       "        vertical-align: middle;\n",
       "    }\n",
       "\n",
       "    .dataframe tbody tr th {\n",
       "        vertical-align: top;\n",
       "    }\n",
       "\n",
       "    .dataframe thead th {\n",
       "        text-align: right;\n",
       "    }\n",
       "</style>\n",
       "<table border=\"1\" class=\"dataframe\">\n",
       "  <thead>\n",
       "    <tr style=\"text-align: right;\">\n",
       "      <th></th>\n",
       "      <th>0</th>\n",
       "      <th>1</th>\n",
       "      <th>2</th>\n",
       "      <th>3</th>\n",
       "      <th>4</th>\n",
       "      <th>5</th>\n",
       "      <th>6</th>\n",
       "      <th>7</th>\n",
       "      <th>8</th>\n",
       "      <th>9</th>\n",
       "      <th>...</th>\n",
       "      <th>1919</th>\n",
       "      <th>1920</th>\n",
       "      <th>1921</th>\n",
       "      <th>1922</th>\n",
       "      <th>1923</th>\n",
       "      <th>1924</th>\n",
       "      <th>1925</th>\n",
       "      <th>1926</th>\n",
       "      <th>1927</th>\n",
       "      <th>1928</th>\n",
       "    </tr>\n",
       "  </thead>\n",
       "  <tbody>\n",
       "    <tr>\n",
       "      <th>0</th>\n",
       "      <td>1.732051</td>\n",
       "      <td>2.645751</td>\n",
       "      <td>3.464102</td>\n",
       "      <td>1.000000</td>\n",
       "      <td>2.645751</td>\n",
       "      <td>1.732051</td>\n",
       "      <td>1.000000</td>\n",
       "      <td>1.732051</td>\n",
       "      <td>2.236068</td>\n",
       "      <td>3.464102</td>\n",
       "      <td>...</td>\n",
       "      <td>3.605551</td>\n",
       "      <td>4.242640</td>\n",
       "      <td>1.414214</td>\n",
       "      <td>1.732051</td>\n",
       "      <td>1.000000</td>\n",
       "      <td>1.000000</td>\n",
       "      <td>1.732051</td>\n",
       "      <td>2.000000</td>\n",
       "      <td>5.385165</td>\n",
       "      <td>3.605551</td>\n",
       "    </tr>\n",
       "    <tr>\n",
       "      <th>1</th>\n",
       "      <td>2.000000</td>\n",
       "      <td>3.316625</td>\n",
       "      <td>3.464102</td>\n",
       "      <td>1.414214</td>\n",
       "      <td>3.741657</td>\n",
       "      <td>1.732051</td>\n",
       "      <td>1.414214</td>\n",
       "      <td>2.000000</td>\n",
       "      <td>2.236068</td>\n",
       "      <td>3.605551</td>\n",
       "      <td>...</td>\n",
       "      <td>4.358899</td>\n",
       "      <td>5.291502</td>\n",
       "      <td>3.316625</td>\n",
       "      <td>3.162278</td>\n",
       "      <td>1.414214</td>\n",
       "      <td>2.449490</td>\n",
       "      <td>2.828427</td>\n",
       "      <td>2.449490</td>\n",
       "      <td>5.744563</td>\n",
       "      <td>3.741657</td>\n",
       "    </tr>\n",
       "    <tr>\n",
       "      <th>2</th>\n",
       "      <td>2.000000</td>\n",
       "      <td>3.316625</td>\n",
       "      <td>4.000000</td>\n",
       "      <td>1.732051</td>\n",
       "      <td>3.741657</td>\n",
       "      <td>2.000000</td>\n",
       "      <td>1.414214</td>\n",
       "      <td>2.236068</td>\n",
       "      <td>2.449490</td>\n",
       "      <td>4.123106</td>\n",
       "      <td>...</td>\n",
       "      <td>4.358899</td>\n",
       "      <td>5.291502</td>\n",
       "      <td>3.464102</td>\n",
       "      <td>3.316625</td>\n",
       "      <td>1.732051</td>\n",
       "      <td>2.645751</td>\n",
       "      <td>3.000000</td>\n",
       "      <td>3.316625</td>\n",
       "      <td>5.916080</td>\n",
       "      <td>4.242640</td>\n",
       "    </tr>\n",
       "    <tr>\n",
       "      <th>3</th>\n",
       "      <td>2.236068</td>\n",
       "      <td>3.464102</td>\n",
       "      <td>4.000000</td>\n",
       "      <td>1.732051</td>\n",
       "      <td>4.000000</td>\n",
       "      <td>2.236068</td>\n",
       "      <td>1.732051</td>\n",
       "      <td>2.449490</td>\n",
       "      <td>2.449490</td>\n",
       "      <td>4.242640</td>\n",
       "      <td>...</td>\n",
       "      <td>4.690416</td>\n",
       "      <td>6.244998</td>\n",
       "      <td>4.000000</td>\n",
       "      <td>3.464102</td>\n",
       "      <td>2.000000</td>\n",
       "      <td>3.464102</td>\n",
       "      <td>4.123106</td>\n",
       "      <td>3.316625</td>\n",
       "      <td>5.916080</td>\n",
       "      <td>4.358899</td>\n",
       "    </tr>\n",
       "    <tr>\n",
       "      <th>4</th>\n",
       "      <td>2.236068</td>\n",
       "      <td>3.605551</td>\n",
       "      <td>4.123106</td>\n",
       "      <td>2.000000</td>\n",
       "      <td>4.242640</td>\n",
       "      <td>2.236068</td>\n",
       "      <td>2.828427</td>\n",
       "      <td>2.645751</td>\n",
       "      <td>2.449490</td>\n",
       "      <td>4.358899</td>\n",
       "      <td>...</td>\n",
       "      <td>6.708204</td>\n",
       "      <td>6.324555</td>\n",
       "      <td>4.242640</td>\n",
       "      <td>3.464102</td>\n",
       "      <td>2.236068</td>\n",
       "      <td>4.123106</td>\n",
       "      <td>4.242640</td>\n",
       "      <td>3.464102</td>\n",
       "      <td>5.916080</td>\n",
       "      <td>4.472136</td>\n",
       "    </tr>\n",
       "    <tr>\n",
       "      <th>...</th>\n",
       "      <td>...</td>\n",
       "      <td>...</td>\n",
       "      <td>...</td>\n",
       "      <td>...</td>\n",
       "      <td>...</td>\n",
       "      <td>...</td>\n",
       "      <td>...</td>\n",
       "      <td>...</td>\n",
       "      <td>...</td>\n",
       "      <td>...</td>\n",
       "      <td>...</td>\n",
       "      <td>...</td>\n",
       "      <td>...</td>\n",
       "      <td>...</td>\n",
       "      <td>...</td>\n",
       "      <td>...</td>\n",
       "      <td>...</td>\n",
       "      <td>...</td>\n",
       "      <td>...</td>\n",
       "      <td>...</td>\n",
       "      <td>...</td>\n",
       "    </tr>\n",
       "    <tr>\n",
       "      <th>7707</th>\n",
       "      <td>15.394804</td>\n",
       "      <td>14.387495</td>\n",
       "      <td>14.933185</td>\n",
       "      <td>14.594520</td>\n",
       "      <td>14.730920</td>\n",
       "      <td>14.696939</td>\n",
       "      <td>14.106736</td>\n",
       "      <td>15.198684</td>\n",
       "      <td>14.933185</td>\n",
       "      <td>13.892444</td>\n",
       "      <td>...</td>\n",
       "      <td>15.132746</td>\n",
       "      <td>13.892444</td>\n",
       "      <td>15.165751</td>\n",
       "      <td>14.832397</td>\n",
       "      <td>15.491934</td>\n",
       "      <td>15.132746</td>\n",
       "      <td>15.198684</td>\n",
       "      <td>14.594520</td>\n",
       "      <td>14.525839</td>\n",
       "      <td>14.933185</td>\n",
       "    </tr>\n",
       "    <tr>\n",
       "      <th>7708</th>\n",
       "      <td>15.588457</td>\n",
       "      <td>14.456832</td>\n",
       "      <td>14.933185</td>\n",
       "      <td>14.933185</td>\n",
       "      <td>14.764823</td>\n",
       "      <td>14.798649</td>\n",
       "      <td>14.628738</td>\n",
       "      <td>15.394804</td>\n",
       "      <td>15.066519</td>\n",
       "      <td>14.071247</td>\n",
       "      <td>...</td>\n",
       "      <td>15.198684</td>\n",
       "      <td>14.000000</td>\n",
       "      <td>15.198684</td>\n",
       "      <td>14.899665</td>\n",
       "      <td>15.524175</td>\n",
       "      <td>15.198684</td>\n",
       "      <td>15.231546</td>\n",
       "      <td>14.966630</td>\n",
       "      <td>14.560220</td>\n",
       "      <td>15.000000</td>\n",
       "    </tr>\n",
       "    <tr>\n",
       "      <th>7709</th>\n",
       "      <td>16.000000</td>\n",
       "      <td>15.033297</td>\n",
       "      <td>15.362291</td>\n",
       "      <td>15.362291</td>\n",
       "      <td>15.132746</td>\n",
       "      <td>15.524175</td>\n",
       "      <td>14.798649</td>\n",
       "      <td>15.748015</td>\n",
       "      <td>15.748015</td>\n",
       "      <td>14.071247</td>\n",
       "      <td>...</td>\n",
       "      <td>15.198684</td>\n",
       "      <td>14.212670</td>\n",
       "      <td>15.198684</td>\n",
       "      <td>15.231546</td>\n",
       "      <td>16.062378</td>\n",
       "      <td>15.329710</td>\n",
       "      <td>15.231546</td>\n",
       "      <td>15.264338</td>\n",
       "      <td>15.198684</td>\n",
       "      <td>15.099669</td>\n",
       "    </tr>\n",
       "    <tr>\n",
       "      <th>7710</th>\n",
       "      <td>16.278820</td>\n",
       "      <td>15.132746</td>\n",
       "      <td>15.716233</td>\n",
       "      <td>15.588457</td>\n",
       "      <td>15.491934</td>\n",
       "      <td>15.620500</td>\n",
       "      <td>15.099669</td>\n",
       "      <td>16.031219</td>\n",
       "      <td>15.779734</td>\n",
       "      <td>14.491377</td>\n",
       "      <td>...</td>\n",
       "      <td>15.231546</td>\n",
       "      <td>14.456832</td>\n",
       "      <td>15.297058</td>\n",
       "      <td>15.394804</td>\n",
       "      <td>16.401220</td>\n",
       "      <td>15.329710</td>\n",
       "      <td>15.329710</td>\n",
       "      <td>15.556349</td>\n",
       "      <td>15.588457</td>\n",
       "      <td>15.264338</td>\n",
       "    </tr>\n",
       "    <tr>\n",
       "      <th>7711</th>\n",
       "      <td>16.763054</td>\n",
       "      <td>15.842979</td>\n",
       "      <td>16.093477</td>\n",
       "      <td>16.031219</td>\n",
       "      <td>16.000000</td>\n",
       "      <td>16.031219</td>\n",
       "      <td>15.556349</td>\n",
       "      <td>16.522711</td>\n",
       "      <td>16.278820</td>\n",
       "      <td>15.099669</td>\n",
       "      <td>...</td>\n",
       "      <td>15.231546</td>\n",
       "      <td>14.798649</td>\n",
       "      <td>15.362291</td>\n",
       "      <td>16.309507</td>\n",
       "      <td>17.029387</td>\n",
       "      <td>15.620500</td>\n",
       "      <td>15.394804</td>\n",
       "      <td>15.937377</td>\n",
       "      <td>15.968719</td>\n",
       "      <td>15.297058</td>\n",
       "    </tr>\n",
       "  </tbody>\n",
       "</table>\n",
       "<p>7712 rows × 1929 columns</p>\n",
       "</div>"
      ],
      "text/plain": [
       "           0          1          2          3          4          5     \\\n",
       "0      1.732051   2.645751   3.464102   1.000000   2.645751   1.732051   \n",
       "1      2.000000   3.316625   3.464102   1.414214   3.741657   1.732051   \n",
       "2      2.000000   3.316625   4.000000   1.732051   3.741657   2.000000   \n",
       "3      2.236068   3.464102   4.000000   1.732051   4.000000   2.236068   \n",
       "4      2.236068   3.605551   4.123106   2.000000   4.242640   2.236068   \n",
       "...         ...        ...        ...        ...        ...        ...   \n",
       "7707  15.394804  14.387495  14.933185  14.594520  14.730920  14.696939   \n",
       "7708  15.588457  14.456832  14.933185  14.933185  14.764823  14.798649   \n",
       "7709  16.000000  15.033297  15.362291  15.362291  15.132746  15.524175   \n",
       "7710  16.278820  15.132746  15.716233  15.588457  15.491934  15.620500   \n",
       "7711  16.763054  15.842979  16.093477  16.031219  16.000000  16.031219   \n",
       "\n",
       "           6          7          8          9     ...       1919       1920  \\\n",
       "0      1.000000   1.732051   2.236068   3.464102  ...   3.605551   4.242640   \n",
       "1      1.414214   2.000000   2.236068   3.605551  ...   4.358899   5.291502   \n",
       "2      1.414214   2.236068   2.449490   4.123106  ...   4.358899   5.291502   \n",
       "3      1.732051   2.449490   2.449490   4.242640  ...   4.690416   6.244998   \n",
       "4      2.828427   2.645751   2.449490   4.358899  ...   6.708204   6.324555   \n",
       "...         ...        ...        ...        ...  ...        ...        ...   \n",
       "7707  14.106736  15.198684  14.933185  13.892444  ...  15.132746  13.892444   \n",
       "7708  14.628738  15.394804  15.066519  14.071247  ...  15.198684  14.000000   \n",
       "7709  14.798649  15.748015  15.748015  14.071247  ...  15.198684  14.212670   \n",
       "7710  15.099669  16.031219  15.779734  14.491377  ...  15.231546  14.456832   \n",
       "7711  15.556349  16.522711  16.278820  15.099669  ...  15.231546  14.798649   \n",
       "\n",
       "           1921       1922       1923       1924       1925       1926  \\\n",
       "0      1.414214   1.732051   1.000000   1.000000   1.732051   2.000000   \n",
       "1      3.316625   3.162278   1.414214   2.449490   2.828427   2.449490   \n",
       "2      3.464102   3.316625   1.732051   2.645751   3.000000   3.316625   \n",
       "3      4.000000   3.464102   2.000000   3.464102   4.123106   3.316625   \n",
       "4      4.242640   3.464102   2.236068   4.123106   4.242640   3.464102   \n",
       "...         ...        ...        ...        ...        ...        ...   \n",
       "7707  15.165751  14.832397  15.491934  15.132746  15.198684  14.594520   \n",
       "7708  15.198684  14.899665  15.524175  15.198684  15.231546  14.966630   \n",
       "7709  15.198684  15.231546  16.062378  15.329710  15.231546  15.264338   \n",
       "7710  15.297058  15.394804  16.401220  15.329710  15.329710  15.556349   \n",
       "7711  15.362291  16.309507  17.029387  15.620500  15.394804  15.937377   \n",
       "\n",
       "           1927       1928  \n",
       "0      5.385165   3.605551  \n",
       "1      5.744563   3.741657  \n",
       "2      5.916080   4.242640  \n",
       "3      5.916080   4.358899  \n",
       "4      5.916080   4.472136  \n",
       "...         ...        ...  \n",
       "7707  14.525839  14.933185  \n",
       "7708  14.560220  15.000000  \n",
       "7709  15.198684  15.099669  \n",
       "7710  15.588457  15.264338  \n",
       "7711  15.968719  15.297058  \n",
       "\n",
       "[7712 rows x 1929 columns]"
      ]
     },
     "execution_count": 180,
     "metadata": {},
     "output_type": "execute_result"
    }
   ],
   "source": [
    "x_ts_AD=pd.DataFrame(neighbors_k_ts)\n",
    "x_ts_AD"
   ]
  },
  {
   "cell_type": "code",
   "execution_count": 181,
   "metadata": {},
   "outputs": [
    {
     "name": "stdout",
     "output_type": "stream",
     "text": [
      "[1.732 2.646 3.464 ... 2.    5.385 3.606]\n"
     ]
    }
   ],
   "source": [
    "similarity_ts= neighbors_k_ts\n",
    "cpd_AD=similarity_ts[0,:]\n",
    "cpd_value = np.round(cpd_AD, 3)\n",
    "print(cpd_value)"
   ]
  },
  {
   "cell_type": "code",
   "execution_count": 182,
   "metadata": {},
   "outputs": [
    {
     "name": "stdout",
     "output_type": "stream",
     "text": [
      "[ True  True  True ...  True False  True]\n"
     ]
    }
   ],
   "source": [
    "cpd_AD = np.where(cpd_value <= model_AD_limit, True, False)\n",
    "print(cpd_AD)"
   ]
  },
  {
   "cell_type": "code",
   "execution_count": 183,
   "metadata": {},
   "outputs": [
    {
     "name": "stdout",
     "output_type": "stream",
     "text": [
      "Coverage =  0.75\n"
     ]
    }
   ],
   "source": [
    "print(\"Coverage = \", round(sum(cpd_AD) / len(cpd_AD), 2))"
   ]
  },
  {
   "cell_type": "code",
   "execution_count": 184,
   "metadata": {},
   "outputs": [
    {
     "name": "stdout",
     "output_type": "stream",
     "text": [
      "Indices of substances included in AD =  [   0    1    2 ... 1925 1926 1928]\n"
     ]
    }
   ],
   "source": [
    "print(\"Indices of substances included in AD = \", np.where(cpd_AD != 0)[0])"
   ]
  },
  {
   "cell_type": "code",
   "execution_count": 185,
   "metadata": {},
   "outputs": [],
   "source": [
    "out_Ad=list(np.where(cpd_AD == 0)[0])"
   ]
  },
  {
   "cell_type": "markdown",
   "metadata": {},
   "source": [
    "# 12. Prediction only for molecules included in  AD"
   ]
  },
  {
   "cell_type": "code",
   "execution_count": 186,
   "metadata": {},
   "outputs": [],
   "source": [
    "y_pred_MLPR_ad=list(y_pred_MLPR)"
   ]
  },
  {
   "cell_type": "code",
   "execution_count": 187,
   "metadata": {},
   "outputs": [],
   "source": [
    "y_pred_MLPR_ad[:] = [x for i,x in enumerate(y_pred_MLPR_ad) if i not in out_Ad]"
   ]
  },
  {
   "cell_type": "code",
   "execution_count": 188,
   "metadata": {},
   "outputs": [
    {
     "data": {
      "text/plain": [
       "1450"
      ]
     },
     "execution_count": 188,
     "metadata": {},
     "output_type": "execute_result"
    }
   ],
   "source": [
    "len(y_pred_MLPR_ad)"
   ]
  },
  {
   "cell_type": "code",
   "execution_count": 189,
   "metadata": {},
   "outputs": [],
   "source": [
    "y_ts_ad=list(y_ts)"
   ]
  },
  {
   "cell_type": "code",
   "execution_count": 190,
   "metadata": {},
   "outputs": [],
   "source": [
    "y_ts_ad[:] = [x for i,x in enumerate(y_ts_ad) if i not in out_Ad]"
   ]
  },
  {
   "cell_type": "code",
   "execution_count": 191,
   "metadata": {},
   "outputs": [
    {
     "data": {
      "text/plain": [
       "1450"
      ]
     },
     "execution_count": 191,
     "metadata": {},
     "output_type": "execute_result"
    }
   ],
   "source": [
    "len(y_ts_ad)"
   ]
  },
  {
   "cell_type": "code",
   "execution_count": 192,
   "metadata": {},
   "outputs": [
    {
     "data": {
      "text/plain": [
       "0.61"
      ]
     },
     "execution_count": 192,
     "metadata": {},
     "output_type": "execute_result"
    }
   ],
   "source": [
    "Q2_TS = round(r2_score(y_ts_ad, y_pred_MLPR_ad), 2)\n",
    "Q2_TS"
   ]
  },
  {
   "cell_type": "code",
   "execution_count": 193,
   "metadata": {
    "scrolled": true
   },
   "outputs": [
    {
     "data": {
      "text/plain": [
       "0.64"
      ]
     },
     "execution_count": 193,
     "metadata": {},
     "output_type": "execute_result"
    }
   ],
   "source": [
    "RMSE_TS=round(np.sqrt(mean_absolute_error(y_ts_ad, y_pred_MLPR_ad)), 2)\n",
    "RMSE_TS"
   ]
  },
  {
   "cell_type": "markdown",
   "metadata": {},
   "source": [
    "# k-nearest neighbors"
   ]
  },
  {
   "cell_type": "code",
   "execution_count": 194,
   "metadata": {},
   "outputs": [],
   "source": [
    "from sklearn.neighbors import KNeighborsRegressor"
   ]
  },
  {
   "cell_type": "code",
   "execution_count": 195,
   "metadata": {},
   "outputs": [],
   "source": [
    "k_range = list(range(1, 31))\n",
    "param_grid = dict(n_neighbors=k_range)"
   ]
  },
  {
   "cell_type": "code",
   "execution_count": 196,
   "metadata": {},
   "outputs": [],
   "source": [
    "m = GridSearchCV(KNeighborsRegressor(), param_grid, n_jobs=-1, cv=cv, verbose=1)"
   ]
  },
  {
   "cell_type": "code",
   "execution_count": 197,
   "metadata": {},
   "outputs": [
    {
     "name": "stdout",
     "output_type": "stream",
     "text": [
      "Fitting 5 folds for each of 30 candidates, totalling 150 fits\n"
     ]
    },
    {
     "data": {
      "text/html": [
       "<style>#sk-container-id-4 {color: black;}#sk-container-id-4 pre{padding: 0;}#sk-container-id-4 div.sk-toggleable {background-color: white;}#sk-container-id-4 label.sk-toggleable__label {cursor: pointer;display: block;width: 100%;margin-bottom: 0;padding: 0.3em;box-sizing: border-box;text-align: center;}#sk-container-id-4 label.sk-toggleable__label-arrow:before {content: \"▸\";float: left;margin-right: 0.25em;color: #696969;}#sk-container-id-4 label.sk-toggleable__label-arrow:hover:before {color: black;}#sk-container-id-4 div.sk-estimator:hover label.sk-toggleable__label-arrow:before {color: black;}#sk-container-id-4 div.sk-toggleable__content {max-height: 0;max-width: 0;overflow: hidden;text-align: left;background-color: #f0f8ff;}#sk-container-id-4 div.sk-toggleable__content pre {margin: 0.2em;color: black;border-radius: 0.25em;background-color: #f0f8ff;}#sk-container-id-4 input.sk-toggleable__control:checked~div.sk-toggleable__content {max-height: 200px;max-width: 100%;overflow: auto;}#sk-container-id-4 input.sk-toggleable__control:checked~label.sk-toggleable__label-arrow:before {content: \"▾\";}#sk-container-id-4 div.sk-estimator input.sk-toggleable__control:checked~label.sk-toggleable__label {background-color: #d4ebff;}#sk-container-id-4 div.sk-label input.sk-toggleable__control:checked~label.sk-toggleable__label {background-color: #d4ebff;}#sk-container-id-4 input.sk-hidden--visually {border: 0;clip: rect(1px 1px 1px 1px);clip: rect(1px, 1px, 1px, 1px);height: 1px;margin: -1px;overflow: hidden;padding: 0;position: absolute;width: 1px;}#sk-container-id-4 div.sk-estimator {font-family: monospace;background-color: #f0f8ff;border: 1px dotted black;border-radius: 0.25em;box-sizing: border-box;margin-bottom: 0.5em;}#sk-container-id-4 div.sk-estimator:hover {background-color: #d4ebff;}#sk-container-id-4 div.sk-parallel-item::after {content: \"\";width: 100%;border-bottom: 1px solid gray;flex-grow: 1;}#sk-container-id-4 div.sk-label:hover label.sk-toggleable__label {background-color: #d4ebff;}#sk-container-id-4 div.sk-serial::before {content: \"\";position: absolute;border-left: 1px solid gray;box-sizing: border-box;top: 0;bottom: 0;left: 50%;z-index: 0;}#sk-container-id-4 div.sk-serial {display: flex;flex-direction: column;align-items: center;background-color: white;padding-right: 0.2em;padding-left: 0.2em;position: relative;}#sk-container-id-4 div.sk-item {position: relative;z-index: 1;}#sk-container-id-4 div.sk-parallel {display: flex;align-items: stretch;justify-content: center;background-color: white;position: relative;}#sk-container-id-4 div.sk-item::before, #sk-container-id-4 div.sk-parallel-item::before {content: \"\";position: absolute;border-left: 1px solid gray;box-sizing: border-box;top: 0;bottom: 0;left: 50%;z-index: -1;}#sk-container-id-4 div.sk-parallel-item {display: flex;flex-direction: column;z-index: 1;position: relative;background-color: white;}#sk-container-id-4 div.sk-parallel-item:first-child::after {align-self: flex-end;width: 50%;}#sk-container-id-4 div.sk-parallel-item:last-child::after {align-self: flex-start;width: 50%;}#sk-container-id-4 div.sk-parallel-item:only-child::after {width: 0;}#sk-container-id-4 div.sk-dashed-wrapped {border: 1px dashed gray;margin: 0 0.4em 0.5em 0.4em;box-sizing: border-box;padding-bottom: 0.4em;background-color: white;}#sk-container-id-4 div.sk-label label {font-family: monospace;font-weight: bold;display: inline-block;line-height: 1.2em;}#sk-container-id-4 div.sk-label-container {text-align: center;}#sk-container-id-4 div.sk-container {/* jupyter's `normalize.less` sets `[hidden] { display: none; }` but bootstrap.min.css set `[hidden] { display: none !important; }` so we also need the `!important` here to be able to override the default hidden behavior on the sphinx rendered scikit-learn.org. See: https://github.com/scikit-learn/scikit-learn/issues/21755 */display: inline-block !important;position: relative;}#sk-container-id-4 div.sk-text-repr-fallback {display: none;}</style><div id=\"sk-container-id-4\" class=\"sk-top-container\"><div class=\"sk-text-repr-fallback\"><pre>GridSearchCV(cv=KFold(n_splits=5, random_state=42, shuffle=True),\n",
       "             estimator=KNeighborsRegressor(), n_jobs=-1,\n",
       "             param_grid={&#x27;n_neighbors&#x27;: [1, 2, 3, 4, 5, 6, 7, 8, 9, 10, 11, 12,\n",
       "                                         13, 14, 15, 16, 17, 18, 19, 20, 21, 22,\n",
       "                                         23, 24, 25, 26, 27, 28, 29, 30]},\n",
       "             verbose=1)</pre><b>In a Jupyter environment, please rerun this cell to show the HTML representation or trust the notebook. <br />On GitHub, the HTML representation is unable to render, please try loading this page with nbviewer.org.</b></div><div class=\"sk-container\" hidden><div class=\"sk-item sk-dashed-wrapped\"><div class=\"sk-label-container\"><div class=\"sk-label sk-toggleable\"><input class=\"sk-toggleable__control sk-hidden--visually\" id=\"sk-estimator-id-10\" type=\"checkbox\" ><label for=\"sk-estimator-id-10\" class=\"sk-toggleable__label sk-toggleable__label-arrow\">GridSearchCV</label><div class=\"sk-toggleable__content\"><pre>GridSearchCV(cv=KFold(n_splits=5, random_state=42, shuffle=True),\n",
       "             estimator=KNeighborsRegressor(), n_jobs=-1,\n",
       "             param_grid={&#x27;n_neighbors&#x27;: [1, 2, 3, 4, 5, 6, 7, 8, 9, 10, 11, 12,\n",
       "                                         13, 14, 15, 16, 17, 18, 19, 20, 21, 22,\n",
       "                                         23, 24, 25, 26, 27, 28, 29, 30]},\n",
       "             verbose=1)</pre></div></div></div><div class=\"sk-parallel\"><div class=\"sk-parallel-item\"><div class=\"sk-item\"><div class=\"sk-label-container\"><div class=\"sk-label sk-toggleable\"><input class=\"sk-toggleable__control sk-hidden--visually\" id=\"sk-estimator-id-11\" type=\"checkbox\" ><label for=\"sk-estimator-id-11\" class=\"sk-toggleable__label sk-toggleable__label-arrow\">estimator: KNeighborsRegressor</label><div class=\"sk-toggleable__content\"><pre>KNeighborsRegressor()</pre></div></div></div><div class=\"sk-serial\"><div class=\"sk-item\"><div class=\"sk-estimator sk-toggleable\"><input class=\"sk-toggleable__control sk-hidden--visually\" id=\"sk-estimator-id-12\" type=\"checkbox\" ><label for=\"sk-estimator-id-12\" class=\"sk-toggleable__label sk-toggleable__label-arrow\">KNeighborsRegressor</label><div class=\"sk-toggleable__content\"><pre>KNeighborsRegressor()</pre></div></div></div></div></div></div></div></div></div></div>"
      ],
      "text/plain": [
       "GridSearchCV(cv=KFold(n_splits=5, random_state=42, shuffle=True),\n",
       "             estimator=KNeighborsRegressor(), n_jobs=-1,\n",
       "             param_grid={'n_neighbors': [1, 2, 3, 4, 5, 6, 7, 8, 9, 10, 11, 12,\n",
       "                                         13, 14, 15, 16, 17, 18, 19, 20, 21, 22,\n",
       "                                         23, 24, 25, 26, 27, 28, 29, 30]},\n",
       "             verbose=1)"
      ]
     },
     "execution_count": 197,
     "metadata": {},
     "output_type": "execute_result"
    }
   ],
   "source": [
    "m.fit(x_tr, y_tr)"
   ]
  },
  {
   "cell_type": "code",
   "execution_count": 198,
   "metadata": {},
   "outputs": [],
   "source": [
    "best_kNN = m.best_estimator_"
   ]
  },
  {
   "cell_type": "code",
   "execution_count": 199,
   "metadata": {},
   "outputs": [
    {
     "data": {
      "text/plain": [
       "{'n_neighbors': 5}"
      ]
     },
     "execution_count": 199,
     "metadata": {},
     "output_type": "execute_result"
    }
   ],
   "source": [
    "m.best_params_"
   ]
  },
  {
   "cell_type": "code",
   "execution_count": 200,
   "metadata": {},
   "outputs": [],
   "source": [
    "y_pred_ws_kNN = best_kNN.predict(x_tr)"
   ]
  },
  {
   "cell_type": "code",
   "execution_count": 201,
   "metadata": {},
   "outputs": [
    {
     "data": {
      "text/plain": [
       "0.67"
      ]
     },
     "execution_count": 201,
     "metadata": {},
     "output_type": "execute_result"
    }
   ],
   "source": [
    "R2_WS = round(r2_score(y_tr, y_pred_ws_kNN), 2)\n",
    "R2_WS"
   ]
  },
  {
   "cell_type": "code",
   "execution_count": 202,
   "metadata": {},
   "outputs": [
    {
     "data": {
      "text/plain": [
       "0.6"
      ]
     },
     "execution_count": 202,
     "metadata": {},
     "output_type": "execute_result"
    }
   ],
   "source": [
    "RMSE_WS=round(np.sqrt(mean_absolute_error(y_tr, y_pred_ws_kNN)), 2)\n",
    "RMSE_WS"
   ]
  },
  {
   "cell_type": "code",
   "execution_count": 203,
   "metadata": {},
   "outputs": [],
   "source": [
    "y_pred_CV_kNN = cross_val_predict(best_kNN, x_tr, y_tr, cv=cv)"
   ]
  },
  {
   "cell_type": "code",
   "execution_count": 204,
   "metadata": {},
   "outputs": [
    {
     "data": {
      "text/plain": [
       "array([1.5572181, 2.2593741, 2.4064498, ..., 3.8874698, 4.7264824,\n",
       "       2.7071538], dtype=float32)"
      ]
     },
     "execution_count": 204,
     "metadata": {},
     "output_type": "execute_result"
    }
   ],
   "source": [
    "y_pred_CV_kNN"
   ]
  },
  {
   "cell_type": "code",
   "execution_count": 205,
   "metadata": {},
   "outputs": [
    {
     "data": {
      "text/plain": [
       "0.45"
      ]
     },
     "execution_count": 205,
     "metadata": {},
     "output_type": "execute_result"
    }
   ],
   "source": [
    "Q2_CV = round(r2_score(y_tr, y_pred_CV_kNN), 2)\n",
    "Q2_CV"
   ]
  },
  {
   "cell_type": "code",
   "execution_count": 206,
   "metadata": {},
   "outputs": [
    {
     "data": {
      "text/plain": [
       "0.68"
      ]
     },
     "execution_count": 206,
     "metadata": {},
     "output_type": "execute_result"
    }
   ],
   "source": [
    "RMSE_CV=round(np.sqrt(mean_absolute_error(y_tr, y_pred_CV_kNN)), 2)\n",
    "RMSE_CV"
   ]
  },
  {
   "cell_type": "markdown",
   "metadata": {},
   "source": [
    "# 9. Prediction for test set's molecules"
   ]
  },
  {
   "cell_type": "code",
   "execution_count": 207,
   "metadata": {},
   "outputs": [],
   "source": [
    "x_ts = np.array(x_ts, dtype=np.float32)\n",
    "y_ts = np.array(y_ts, dtype=np.float32)"
   ]
  },
  {
   "cell_type": "code",
   "execution_count": 208,
   "metadata": {},
   "outputs": [],
   "source": [
    "y_pred_kNN = best_kNN.predict(x_ts)"
   ]
  },
  {
   "cell_type": "code",
   "execution_count": 209,
   "metadata": {},
   "outputs": [
    {
     "data": {
      "text/plain": [
       "0.51"
      ]
     },
     "execution_count": 209,
     "metadata": {},
     "output_type": "execute_result"
    }
   ],
   "source": [
    "Q2_TS = round(r2_score(y_ts, y_pred_kNN), 2)\n",
    "Q2_TS"
   ]
  },
  {
   "cell_type": "code",
   "execution_count": 210,
   "metadata": {},
   "outputs": [
    {
     "data": {
      "text/plain": [
       "0.65"
      ]
     },
     "execution_count": 210,
     "metadata": {},
     "output_type": "execute_result"
    }
   ],
   "source": [
    "RMSE_TS=round(np.sqrt(mean_absolute_error(y_ts, y_pred_kNN)), 2)\n",
    "RMSE_TS"
   ]
  },
  {
   "cell_type": "markdown",
   "metadata": {},
   "source": [
    "# save the model to disk"
   ]
  },
  {
   "cell_type": "code",
   "execution_count": 211,
   "metadata": {},
   "outputs": [],
   "source": [
    "pickle.dump(best_kNN, open('models/Padels/Toxicity_kNN_PubChem.pkl', 'wb'))"
   ]
  },
  {
   "cell_type": "markdown",
   "metadata": {},
   "source": [
    "# load the model from disk"
   ]
  },
  {
   "cell_type": "code",
   "execution_count": 212,
   "metadata": {},
   "outputs": [],
   "source": [
    "best_kNN = pickle.load(open('models/Padels/Toxicity_kNN_PubChem.pkl', 'rb'))"
   ]
  },
  {
   "cell_type": "markdown",
   "metadata": {},
   "source": [
    "# 10. Y-randomization MLPR"
   ]
  },
  {
   "cell_type": "code",
   "execution_count": 213,
   "metadata": {},
   "outputs": [
    {
     "name": "stderr",
     "output_type": "stream",
     "text": [
      "[Parallel(n_jobs=-1)]: Using backend LokyBackend with 16 concurrent workers.\n",
      "[Parallel(n_jobs=-1)]: Done  18 tasks      | elapsed:   20.8s\n"
     ]
    },
    {
     "name": "stdout",
     "output_type": "stream",
     "text": [
      "True score =  0.45 \n",
      "Y-randomization =  -0.2 \n",
      "p-value =  0.0196\n"
     ]
    },
    {
     "name": "stderr",
     "output_type": "stream",
     "text": [
      "[Parallel(n_jobs=-1)]: Done  50 out of  50 | elapsed:   35.1s finished\n"
     ]
    }
   ],
   "source": [
    "permutations = 50\n",
    "score, permutation_scores, pvalue = permutation_test_score(best_kNN, x_tr, y_tr,\n",
    "                                                           cv=cv, scoring='r2',\n",
    "                                                           n_permutations=permutations,\n",
    "                                                           n_jobs=-1,\n",
    "                                                           verbose=1,\n",
    "                                                           random_state=seed)\n",
    "print('True score = ', score.round(2),\n",
    "      '\\nY-randomization = ', np.mean(permutation_scores).round(2),\n",
    "      '\\np-value = ', pvalue.round(4))"
   ]
  },
  {
   "cell_type": "markdown",
   "metadata": {},
   "source": [
    "# 11. Estimating applicability domain. Method - Euclidian distances, K=1"
   ]
  },
  {
   "cell_type": "code",
   "execution_count": 214,
   "metadata": {},
   "outputs": [],
   "source": [
    "neighbors_k= pairwise_distances(x_tr, n_jobs=-1)\n",
    "neighbors_k.sort(0)"
   ]
  },
  {
   "cell_type": "code",
   "execution_count": 215,
   "metadata": {},
   "outputs": [
    {
     "data": {
      "text/html": [
       "<div>\n",
       "<style scoped>\n",
       "    .dataframe tbody tr th:only-of-type {\n",
       "        vertical-align: middle;\n",
       "    }\n",
       "\n",
       "    .dataframe tbody tr th {\n",
       "        vertical-align: top;\n",
       "    }\n",
       "\n",
       "    .dataframe thead th {\n",
       "        text-align: right;\n",
       "    }\n",
       "</style>\n",
       "<table border=\"1\" class=\"dataframe\">\n",
       "  <thead>\n",
       "    <tr style=\"text-align: right;\">\n",
       "      <th></th>\n",
       "      <th>0</th>\n",
       "      <th>1</th>\n",
       "      <th>2</th>\n",
       "      <th>3</th>\n",
       "      <th>4</th>\n",
       "      <th>5</th>\n",
       "      <th>6</th>\n",
       "      <th>7</th>\n",
       "      <th>8</th>\n",
       "      <th>9</th>\n",
       "      <th>...</th>\n",
       "      <th>7702</th>\n",
       "      <th>7703</th>\n",
       "      <th>7704</th>\n",
       "      <th>7705</th>\n",
       "      <th>7706</th>\n",
       "      <th>7707</th>\n",
       "      <th>7708</th>\n",
       "      <th>7709</th>\n",
       "      <th>7710</th>\n",
       "      <th>7711</th>\n",
       "    </tr>\n",
       "  </thead>\n",
       "  <tbody>\n",
       "    <tr>\n",
       "      <th>0</th>\n",
       "      <td>0.000000</td>\n",
       "      <td>0.000000</td>\n",
       "      <td>0.000000</td>\n",
       "      <td>0.000000</td>\n",
       "      <td>0.000000</td>\n",
       "      <td>0.000000</td>\n",
       "      <td>0.000000</td>\n",
       "      <td>0.000000</td>\n",
       "      <td>0.000000</td>\n",
       "      <td>0.000000</td>\n",
       "      <td>...</td>\n",
       "      <td>0.000000</td>\n",
       "      <td>0.000000</td>\n",
       "      <td>0.000000</td>\n",
       "      <td>0.000000</td>\n",
       "      <td>0.000000</td>\n",
       "      <td>0.000000</td>\n",
       "      <td>0.000000</td>\n",
       "      <td>0.000000</td>\n",
       "      <td>0.000000</td>\n",
       "      <td>0.000000</td>\n",
       "    </tr>\n",
       "    <tr>\n",
       "      <th>1</th>\n",
       "      <td>2.449490</td>\n",
       "      <td>4.472136</td>\n",
       "      <td>1.000000</td>\n",
       "      <td>3.000000</td>\n",
       "      <td>1.414214</td>\n",
       "      <td>2.645751</td>\n",
       "      <td>3.000000</td>\n",
       "      <td>3.741657</td>\n",
       "      <td>0.000000</td>\n",
       "      <td>1.000000</td>\n",
       "      <td>...</td>\n",
       "      <td>1.414214</td>\n",
       "      <td>1.732051</td>\n",
       "      <td>2.449490</td>\n",
       "      <td>4.582576</td>\n",
       "      <td>2.236068</td>\n",
       "      <td>3.316625</td>\n",
       "      <td>4.898980</td>\n",
       "      <td>3.000000</td>\n",
       "      <td>2.828427</td>\n",
       "      <td>3.316625</td>\n",
       "    </tr>\n",
       "    <tr>\n",
       "      <th>2</th>\n",
       "      <td>3.162278</td>\n",
       "      <td>4.582576</td>\n",
       "      <td>1.732051</td>\n",
       "      <td>3.872983</td>\n",
       "      <td>1.414214</td>\n",
       "      <td>3.000000</td>\n",
       "      <td>3.000000</td>\n",
       "      <td>4.123106</td>\n",
       "      <td>0.000000</td>\n",
       "      <td>2.236068</td>\n",
       "      <td>...</td>\n",
       "      <td>1.414214</td>\n",
       "      <td>2.000000</td>\n",
       "      <td>3.316625</td>\n",
       "      <td>5.196152</td>\n",
       "      <td>4.472136</td>\n",
       "      <td>3.605551</td>\n",
       "      <td>4.898980</td>\n",
       "      <td>3.162278</td>\n",
       "      <td>3.162278</td>\n",
       "      <td>3.872983</td>\n",
       "    </tr>\n",
       "    <tr>\n",
       "      <th>3</th>\n",
       "      <td>3.316625</td>\n",
       "      <td>4.690416</td>\n",
       "      <td>2.000000</td>\n",
       "      <td>4.123106</td>\n",
       "      <td>2.000000</td>\n",
       "      <td>3.162278</td>\n",
       "      <td>3.464102</td>\n",
       "      <td>4.242640</td>\n",
       "      <td>0.000000</td>\n",
       "      <td>2.236068</td>\n",
       "      <td>...</td>\n",
       "      <td>2.449490</td>\n",
       "      <td>3.000000</td>\n",
       "      <td>5.744563</td>\n",
       "      <td>5.385165</td>\n",
       "      <td>4.582576</td>\n",
       "      <td>4.358899</td>\n",
       "      <td>4.898980</td>\n",
       "      <td>3.605551</td>\n",
       "      <td>3.162278</td>\n",
       "      <td>4.795832</td>\n",
       "    </tr>\n",
       "    <tr>\n",
       "      <th>4</th>\n",
       "      <td>3.605551</td>\n",
       "      <td>4.795832</td>\n",
       "      <td>2.000000</td>\n",
       "      <td>4.242640</td>\n",
       "      <td>2.000000</td>\n",
       "      <td>3.316625</td>\n",
       "      <td>3.605551</td>\n",
       "      <td>4.242640</td>\n",
       "      <td>1.000000</td>\n",
       "      <td>2.236068</td>\n",
       "      <td>...</td>\n",
       "      <td>2.828427</td>\n",
       "      <td>3.000000</td>\n",
       "      <td>6.403124</td>\n",
       "      <td>5.477226</td>\n",
       "      <td>4.898980</td>\n",
       "      <td>5.000000</td>\n",
       "      <td>5.000000</td>\n",
       "      <td>5.196152</td>\n",
       "      <td>3.464102</td>\n",
       "      <td>5.000000</td>\n",
       "    </tr>\n",
       "    <tr>\n",
       "      <th>...</th>\n",
       "      <td>...</td>\n",
       "      <td>...</td>\n",
       "      <td>...</td>\n",
       "      <td>...</td>\n",
       "      <td>...</td>\n",
       "      <td>...</td>\n",
       "      <td>...</td>\n",
       "      <td>...</td>\n",
       "      <td>...</td>\n",
       "      <td>...</td>\n",
       "      <td>...</td>\n",
       "      <td>...</td>\n",
       "      <td>...</td>\n",
       "      <td>...</td>\n",
       "      <td>...</td>\n",
       "      <td>...</td>\n",
       "      <td>...</td>\n",
       "      <td>...</td>\n",
       "      <td>...</td>\n",
       "      <td>...</td>\n",
       "      <td>...</td>\n",
       "    </tr>\n",
       "    <tr>\n",
       "      <th>7707</th>\n",
       "      <td>14.798649</td>\n",
       "      <td>13.892444</td>\n",
       "      <td>15.165751</td>\n",
       "      <td>14.282857</td>\n",
       "      <td>14.933185</td>\n",
       "      <td>14.594520</td>\n",
       "      <td>14.798649</td>\n",
       "      <td>14.525839</td>\n",
       "      <td>14.456832</td>\n",
       "      <td>15.652476</td>\n",
       "      <td>...</td>\n",
       "      <td>14.832397</td>\n",
       "      <td>15.066519</td>\n",
       "      <td>14.594520</td>\n",
       "      <td>14.966630</td>\n",
       "      <td>14.832397</td>\n",
       "      <td>14.966630</td>\n",
       "      <td>13.892444</td>\n",
       "      <td>14.525839</td>\n",
       "      <td>14.594520</td>\n",
       "      <td>14.282857</td>\n",
       "    </tr>\n",
       "    <tr>\n",
       "      <th>7708</th>\n",
       "      <td>14.832397</td>\n",
       "      <td>14.106736</td>\n",
       "      <td>15.362291</td>\n",
       "      <td>14.491377</td>\n",
       "      <td>15.000000</td>\n",
       "      <td>14.730920</td>\n",
       "      <td>15.000000</td>\n",
       "      <td>14.832397</td>\n",
       "      <td>15.033297</td>\n",
       "      <td>15.842979</td>\n",
       "      <td>...</td>\n",
       "      <td>14.899665</td>\n",
       "      <td>15.165751</td>\n",
       "      <td>14.628738</td>\n",
       "      <td>15.099669</td>\n",
       "      <td>14.866069</td>\n",
       "      <td>15.099669</td>\n",
       "      <td>13.928389</td>\n",
       "      <td>14.832397</td>\n",
       "      <td>14.628738</td>\n",
       "      <td>14.282857</td>\n",
       "    </tr>\n",
       "    <tr>\n",
       "      <th>7709</th>\n",
       "      <td>15.427249</td>\n",
       "      <td>14.177447</td>\n",
       "      <td>15.779734</td>\n",
       "      <td>14.525839</td>\n",
       "      <td>15.684387</td>\n",
       "      <td>15.099669</td>\n",
       "      <td>15.033297</td>\n",
       "      <td>14.866069</td>\n",
       "      <td>15.132746</td>\n",
       "      <td>16.000000</td>\n",
       "      <td>...</td>\n",
       "      <td>15.459625</td>\n",
       "      <td>15.874508</td>\n",
       "      <td>14.662878</td>\n",
       "      <td>15.362291</td>\n",
       "      <td>15.297058</td>\n",
       "      <td>15.198684</td>\n",
       "      <td>13.964240</td>\n",
       "      <td>14.933185</td>\n",
       "      <td>15.264338</td>\n",
       "      <td>14.317822</td>\n",
       "    </tr>\n",
       "    <tr>\n",
       "      <th>7710</th>\n",
       "      <td>15.524175</td>\n",
       "      <td>14.456832</td>\n",
       "      <td>16.062378</td>\n",
       "      <td>14.933185</td>\n",
       "      <td>15.716233</td>\n",
       "      <td>15.198684</td>\n",
       "      <td>15.198684</td>\n",
       "      <td>15.264338</td>\n",
       "      <td>15.556349</td>\n",
       "      <td>16.522711</td>\n",
       "      <td>...</td>\n",
       "      <td>15.842979</td>\n",
       "      <td>15.968719</td>\n",
       "      <td>14.662878</td>\n",
       "      <td>15.394804</td>\n",
       "      <td>15.716233</td>\n",
       "      <td>15.198684</td>\n",
       "      <td>14.106736</td>\n",
       "      <td>15.099669</td>\n",
       "      <td>15.652476</td>\n",
       "      <td>14.594520</td>\n",
       "    </tr>\n",
       "    <tr>\n",
       "      <th>7711</th>\n",
       "      <td>16.031219</td>\n",
       "      <td>15.000000</td>\n",
       "      <td>16.552946</td>\n",
       "      <td>15.132746</td>\n",
       "      <td>16.340136</td>\n",
       "      <td>15.905973</td>\n",
       "      <td>16.248077</td>\n",
       "      <td>15.329710</td>\n",
       "      <td>15.811388</td>\n",
       "      <td>17.000000</td>\n",
       "      <td>...</td>\n",
       "      <td>16.217276</td>\n",
       "      <td>16.613247</td>\n",
       "      <td>14.764823</td>\n",
       "      <td>15.459625</td>\n",
       "      <td>16.062378</td>\n",
       "      <td>15.652476</td>\n",
       "      <td>14.456832</td>\n",
       "      <td>15.165751</td>\n",
       "      <td>16.031219</td>\n",
       "      <td>14.696939</td>\n",
       "    </tr>\n",
       "  </tbody>\n",
       "</table>\n",
       "<p>7712 rows × 7712 columns</p>\n",
       "</div>"
      ],
      "text/plain": [
       "           0          1          2          3          4          5     \\\n",
       "0      0.000000   0.000000   0.000000   0.000000   0.000000   0.000000   \n",
       "1      2.449490   4.472136   1.000000   3.000000   1.414214   2.645751   \n",
       "2      3.162278   4.582576   1.732051   3.872983   1.414214   3.000000   \n",
       "3      3.316625   4.690416   2.000000   4.123106   2.000000   3.162278   \n",
       "4      3.605551   4.795832   2.000000   4.242640   2.000000   3.316625   \n",
       "...         ...        ...        ...        ...        ...        ...   \n",
       "7707  14.798649  13.892444  15.165751  14.282857  14.933185  14.594520   \n",
       "7708  14.832397  14.106736  15.362291  14.491377  15.000000  14.730920   \n",
       "7709  15.427249  14.177447  15.779734  14.525839  15.684387  15.099669   \n",
       "7710  15.524175  14.456832  16.062378  14.933185  15.716233  15.198684   \n",
       "7711  16.031219  15.000000  16.552946  15.132746  16.340136  15.905973   \n",
       "\n",
       "           6          7          8          9     ...       7702       7703  \\\n",
       "0      0.000000   0.000000   0.000000   0.000000  ...   0.000000   0.000000   \n",
       "1      3.000000   3.741657   0.000000   1.000000  ...   1.414214   1.732051   \n",
       "2      3.000000   4.123106   0.000000   2.236068  ...   1.414214   2.000000   \n",
       "3      3.464102   4.242640   0.000000   2.236068  ...   2.449490   3.000000   \n",
       "4      3.605551   4.242640   1.000000   2.236068  ...   2.828427   3.000000   \n",
       "...         ...        ...        ...        ...  ...        ...        ...   \n",
       "7707  14.798649  14.525839  14.456832  15.652476  ...  14.832397  15.066519   \n",
       "7708  15.000000  14.832397  15.033297  15.842979  ...  14.899665  15.165751   \n",
       "7709  15.033297  14.866069  15.132746  16.000000  ...  15.459625  15.874508   \n",
       "7710  15.198684  15.264338  15.556349  16.522711  ...  15.842979  15.968719   \n",
       "7711  16.248077  15.329710  15.811388  17.000000  ...  16.217276  16.613247   \n",
       "\n",
       "           7704       7705       7706       7707       7708       7709  \\\n",
       "0      0.000000   0.000000   0.000000   0.000000   0.000000   0.000000   \n",
       "1      2.449490   4.582576   2.236068   3.316625   4.898980   3.000000   \n",
       "2      3.316625   5.196152   4.472136   3.605551   4.898980   3.162278   \n",
       "3      5.744563   5.385165   4.582576   4.358899   4.898980   3.605551   \n",
       "4      6.403124   5.477226   4.898980   5.000000   5.000000   5.196152   \n",
       "...         ...        ...        ...        ...        ...        ...   \n",
       "7707  14.594520  14.966630  14.832397  14.966630  13.892444  14.525839   \n",
       "7708  14.628738  15.099669  14.866069  15.099669  13.928389  14.832397   \n",
       "7709  14.662878  15.362291  15.297058  15.198684  13.964240  14.933185   \n",
       "7710  14.662878  15.394804  15.716233  15.198684  14.106736  15.099669   \n",
       "7711  14.764823  15.459625  16.062378  15.652476  14.456832  15.165751   \n",
       "\n",
       "           7710       7711  \n",
       "0      0.000000   0.000000  \n",
       "1      2.828427   3.316625  \n",
       "2      3.162278   3.872983  \n",
       "3      3.162278   4.795832  \n",
       "4      3.464102   5.000000  \n",
       "...         ...        ...  \n",
       "7707  14.594520  14.282857  \n",
       "7708  14.628738  14.282857  \n",
       "7709  15.264338  14.317822  \n",
       "7710  15.652476  14.594520  \n",
       "7711  16.031219  14.696939  \n",
       "\n",
       "[7712 rows x 7712 columns]"
      ]
     },
     "execution_count": 215,
     "metadata": {},
     "output_type": "execute_result"
    }
   ],
   "source": [
    "df_tr=pd.DataFrame(neighbors_k)\n",
    "df_tr"
   ]
  },
  {
   "cell_type": "code",
   "execution_count": 216,
   "metadata": {},
   "outputs": [],
   "source": [
    "similarity= neighbors_k"
   ]
  },
  {
   "cell_type": "code",
   "execution_count": 217,
   "metadata": {},
   "outputs": [],
   "source": [
    "Dmean=np.mean(similarity[1,:])"
   ]
  },
  {
   "cell_type": "code",
   "execution_count": 218,
   "metadata": {},
   "outputs": [
    {
     "data": {
      "text/plain": [
       "2.83"
      ]
     },
     "execution_count": 218,
     "metadata": {},
     "output_type": "execute_result"
    }
   ],
   "source": [
    "round(Dmean, 2)"
   ]
  },
  {
   "cell_type": "code",
   "execution_count": 219,
   "metadata": {},
   "outputs": [],
   "source": [
    "std=np.std(similarity[1,:])"
   ]
  },
  {
   "cell_type": "code",
   "execution_count": 220,
   "metadata": {},
   "outputs": [
    {
     "data": {
      "text/plain": [
       "1.58"
      ]
     },
     "execution_count": 220,
     "metadata": {},
     "output_type": "execute_result"
    }
   ],
   "source": [
    "round(std, 2)"
   ]
  },
  {
   "cell_type": "code",
   "execution_count": 221,
   "metadata": {},
   "outputs": [
    {
     "name": "stdout",
     "output_type": "stream",
     "text": [
      "3.62\n"
     ]
    }
   ],
   "source": [
    "model_AD_limit=Dmean+std*0.5\n",
    "print(np.round(model_AD_limit, 2))"
   ]
  },
  {
   "cell_type": "code",
   "execution_count": 222,
   "metadata": {},
   "outputs": [],
   "source": [
    "neighbors_k_ts= pairwise_distances(x_tr,Y=x_ts, n_jobs=-1)\n",
    "neighbors_k_ts.sort(0)"
   ]
  },
  {
   "cell_type": "code",
   "execution_count": 223,
   "metadata": {},
   "outputs": [
    {
     "data": {
      "text/html": [
       "<div>\n",
       "<style scoped>\n",
       "    .dataframe tbody tr th:only-of-type {\n",
       "        vertical-align: middle;\n",
       "    }\n",
       "\n",
       "    .dataframe tbody tr th {\n",
       "        vertical-align: top;\n",
       "    }\n",
       "\n",
       "    .dataframe thead th {\n",
       "        text-align: right;\n",
       "    }\n",
       "</style>\n",
       "<table border=\"1\" class=\"dataframe\">\n",
       "  <thead>\n",
       "    <tr style=\"text-align: right;\">\n",
       "      <th></th>\n",
       "      <th>0</th>\n",
       "      <th>1</th>\n",
       "      <th>2</th>\n",
       "      <th>3</th>\n",
       "      <th>4</th>\n",
       "      <th>5</th>\n",
       "      <th>6</th>\n",
       "      <th>7</th>\n",
       "      <th>8</th>\n",
       "      <th>9</th>\n",
       "      <th>...</th>\n",
       "      <th>1919</th>\n",
       "      <th>1920</th>\n",
       "      <th>1921</th>\n",
       "      <th>1922</th>\n",
       "      <th>1923</th>\n",
       "      <th>1924</th>\n",
       "      <th>1925</th>\n",
       "      <th>1926</th>\n",
       "      <th>1927</th>\n",
       "      <th>1928</th>\n",
       "    </tr>\n",
       "  </thead>\n",
       "  <tbody>\n",
       "    <tr>\n",
       "      <th>0</th>\n",
       "      <td>1.732051</td>\n",
       "      <td>2.645751</td>\n",
       "      <td>3.464102</td>\n",
       "      <td>1.000000</td>\n",
       "      <td>2.645751</td>\n",
       "      <td>1.732051</td>\n",
       "      <td>1.000000</td>\n",
       "      <td>1.732051</td>\n",
       "      <td>2.236068</td>\n",
       "      <td>3.464102</td>\n",
       "      <td>...</td>\n",
       "      <td>3.605551</td>\n",
       "      <td>4.242640</td>\n",
       "      <td>1.414214</td>\n",
       "      <td>1.732051</td>\n",
       "      <td>1.000000</td>\n",
       "      <td>1.000000</td>\n",
       "      <td>1.732051</td>\n",
       "      <td>2.000000</td>\n",
       "      <td>5.385165</td>\n",
       "      <td>3.605551</td>\n",
       "    </tr>\n",
       "    <tr>\n",
       "      <th>1</th>\n",
       "      <td>2.000000</td>\n",
       "      <td>3.316625</td>\n",
       "      <td>3.464102</td>\n",
       "      <td>1.414214</td>\n",
       "      <td>3.741657</td>\n",
       "      <td>1.732051</td>\n",
       "      <td>1.414214</td>\n",
       "      <td>2.000000</td>\n",
       "      <td>2.236068</td>\n",
       "      <td>3.605551</td>\n",
       "      <td>...</td>\n",
       "      <td>4.358899</td>\n",
       "      <td>5.291502</td>\n",
       "      <td>3.316625</td>\n",
       "      <td>3.162278</td>\n",
       "      <td>1.414214</td>\n",
       "      <td>2.449490</td>\n",
       "      <td>2.828427</td>\n",
       "      <td>2.449490</td>\n",
       "      <td>5.744563</td>\n",
       "      <td>3.741657</td>\n",
       "    </tr>\n",
       "    <tr>\n",
       "      <th>2</th>\n",
       "      <td>2.000000</td>\n",
       "      <td>3.316625</td>\n",
       "      <td>4.000000</td>\n",
       "      <td>1.732051</td>\n",
       "      <td>3.741657</td>\n",
       "      <td>2.000000</td>\n",
       "      <td>1.414214</td>\n",
       "      <td>2.236068</td>\n",
       "      <td>2.449490</td>\n",
       "      <td>4.123106</td>\n",
       "      <td>...</td>\n",
       "      <td>4.358899</td>\n",
       "      <td>5.291502</td>\n",
       "      <td>3.464102</td>\n",
       "      <td>3.316625</td>\n",
       "      <td>1.732051</td>\n",
       "      <td>2.645751</td>\n",
       "      <td>3.000000</td>\n",
       "      <td>3.316625</td>\n",
       "      <td>5.916080</td>\n",
       "      <td>4.242640</td>\n",
       "    </tr>\n",
       "    <tr>\n",
       "      <th>3</th>\n",
       "      <td>2.236068</td>\n",
       "      <td>3.464102</td>\n",
       "      <td>4.000000</td>\n",
       "      <td>1.732051</td>\n",
       "      <td>4.000000</td>\n",
       "      <td>2.236068</td>\n",
       "      <td>1.732051</td>\n",
       "      <td>2.449490</td>\n",
       "      <td>2.449490</td>\n",
       "      <td>4.242640</td>\n",
       "      <td>...</td>\n",
       "      <td>4.690416</td>\n",
       "      <td>6.244998</td>\n",
       "      <td>4.000000</td>\n",
       "      <td>3.464102</td>\n",
       "      <td>2.000000</td>\n",
       "      <td>3.464102</td>\n",
       "      <td>4.123106</td>\n",
       "      <td>3.316625</td>\n",
       "      <td>5.916080</td>\n",
       "      <td>4.358899</td>\n",
       "    </tr>\n",
       "    <tr>\n",
       "      <th>4</th>\n",
       "      <td>2.236068</td>\n",
       "      <td>3.605551</td>\n",
       "      <td>4.123106</td>\n",
       "      <td>2.000000</td>\n",
       "      <td>4.242640</td>\n",
       "      <td>2.236068</td>\n",
       "      <td>2.828427</td>\n",
       "      <td>2.645751</td>\n",
       "      <td>2.449490</td>\n",
       "      <td>4.358899</td>\n",
       "      <td>...</td>\n",
       "      <td>6.708204</td>\n",
       "      <td>6.324555</td>\n",
       "      <td>4.242640</td>\n",
       "      <td>3.464102</td>\n",
       "      <td>2.236068</td>\n",
       "      <td>4.123106</td>\n",
       "      <td>4.242640</td>\n",
       "      <td>3.464102</td>\n",
       "      <td>5.916080</td>\n",
       "      <td>4.472136</td>\n",
       "    </tr>\n",
       "    <tr>\n",
       "      <th>...</th>\n",
       "      <td>...</td>\n",
       "      <td>...</td>\n",
       "      <td>...</td>\n",
       "      <td>...</td>\n",
       "      <td>...</td>\n",
       "      <td>...</td>\n",
       "      <td>...</td>\n",
       "      <td>...</td>\n",
       "      <td>...</td>\n",
       "      <td>...</td>\n",
       "      <td>...</td>\n",
       "      <td>...</td>\n",
       "      <td>...</td>\n",
       "      <td>...</td>\n",
       "      <td>...</td>\n",
       "      <td>...</td>\n",
       "      <td>...</td>\n",
       "      <td>...</td>\n",
       "      <td>...</td>\n",
       "      <td>...</td>\n",
       "      <td>...</td>\n",
       "    </tr>\n",
       "    <tr>\n",
       "      <th>7707</th>\n",
       "      <td>15.394804</td>\n",
       "      <td>14.387495</td>\n",
       "      <td>14.933185</td>\n",
       "      <td>14.594520</td>\n",
       "      <td>14.730920</td>\n",
       "      <td>14.696939</td>\n",
       "      <td>14.106736</td>\n",
       "      <td>15.198684</td>\n",
       "      <td>14.933185</td>\n",
       "      <td>13.892444</td>\n",
       "      <td>...</td>\n",
       "      <td>15.132746</td>\n",
       "      <td>13.892444</td>\n",
       "      <td>15.165751</td>\n",
       "      <td>14.832397</td>\n",
       "      <td>15.491934</td>\n",
       "      <td>15.132746</td>\n",
       "      <td>15.198684</td>\n",
       "      <td>14.594520</td>\n",
       "      <td>14.525839</td>\n",
       "      <td>14.933185</td>\n",
       "    </tr>\n",
       "    <tr>\n",
       "      <th>7708</th>\n",
       "      <td>15.588457</td>\n",
       "      <td>14.456832</td>\n",
       "      <td>14.933185</td>\n",
       "      <td>14.933185</td>\n",
       "      <td>14.764823</td>\n",
       "      <td>14.798649</td>\n",
       "      <td>14.628738</td>\n",
       "      <td>15.394804</td>\n",
       "      <td>15.066519</td>\n",
       "      <td>14.071247</td>\n",
       "      <td>...</td>\n",
       "      <td>15.198684</td>\n",
       "      <td>14.000000</td>\n",
       "      <td>15.198684</td>\n",
       "      <td>14.899665</td>\n",
       "      <td>15.524175</td>\n",
       "      <td>15.198684</td>\n",
       "      <td>15.231546</td>\n",
       "      <td>14.966630</td>\n",
       "      <td>14.560220</td>\n",
       "      <td>15.000000</td>\n",
       "    </tr>\n",
       "    <tr>\n",
       "      <th>7709</th>\n",
       "      <td>16.000000</td>\n",
       "      <td>15.033297</td>\n",
       "      <td>15.362291</td>\n",
       "      <td>15.362291</td>\n",
       "      <td>15.132746</td>\n",
       "      <td>15.524175</td>\n",
       "      <td>14.798649</td>\n",
       "      <td>15.748015</td>\n",
       "      <td>15.748015</td>\n",
       "      <td>14.071247</td>\n",
       "      <td>...</td>\n",
       "      <td>15.198684</td>\n",
       "      <td>14.212670</td>\n",
       "      <td>15.198684</td>\n",
       "      <td>15.231546</td>\n",
       "      <td>16.062378</td>\n",
       "      <td>15.329710</td>\n",
       "      <td>15.231546</td>\n",
       "      <td>15.264338</td>\n",
       "      <td>15.198684</td>\n",
       "      <td>15.099669</td>\n",
       "    </tr>\n",
       "    <tr>\n",
       "      <th>7710</th>\n",
       "      <td>16.278820</td>\n",
       "      <td>15.132746</td>\n",
       "      <td>15.716233</td>\n",
       "      <td>15.588457</td>\n",
       "      <td>15.491934</td>\n",
       "      <td>15.620500</td>\n",
       "      <td>15.099669</td>\n",
       "      <td>16.031219</td>\n",
       "      <td>15.779734</td>\n",
       "      <td>14.491377</td>\n",
       "      <td>...</td>\n",
       "      <td>15.231546</td>\n",
       "      <td>14.456832</td>\n",
       "      <td>15.297058</td>\n",
       "      <td>15.394804</td>\n",
       "      <td>16.401220</td>\n",
       "      <td>15.329710</td>\n",
       "      <td>15.329710</td>\n",
       "      <td>15.556349</td>\n",
       "      <td>15.588457</td>\n",
       "      <td>15.264338</td>\n",
       "    </tr>\n",
       "    <tr>\n",
       "      <th>7711</th>\n",
       "      <td>16.763054</td>\n",
       "      <td>15.842979</td>\n",
       "      <td>16.093477</td>\n",
       "      <td>16.031219</td>\n",
       "      <td>16.000000</td>\n",
       "      <td>16.031219</td>\n",
       "      <td>15.556349</td>\n",
       "      <td>16.522711</td>\n",
       "      <td>16.278820</td>\n",
       "      <td>15.099669</td>\n",
       "      <td>...</td>\n",
       "      <td>15.231546</td>\n",
       "      <td>14.798649</td>\n",
       "      <td>15.362291</td>\n",
       "      <td>16.309507</td>\n",
       "      <td>17.029387</td>\n",
       "      <td>15.620500</td>\n",
       "      <td>15.394804</td>\n",
       "      <td>15.937377</td>\n",
       "      <td>15.968719</td>\n",
       "      <td>15.297058</td>\n",
       "    </tr>\n",
       "  </tbody>\n",
       "</table>\n",
       "<p>7712 rows × 1929 columns</p>\n",
       "</div>"
      ],
      "text/plain": [
       "           0          1          2          3          4          5     \\\n",
       "0      1.732051   2.645751   3.464102   1.000000   2.645751   1.732051   \n",
       "1      2.000000   3.316625   3.464102   1.414214   3.741657   1.732051   \n",
       "2      2.000000   3.316625   4.000000   1.732051   3.741657   2.000000   \n",
       "3      2.236068   3.464102   4.000000   1.732051   4.000000   2.236068   \n",
       "4      2.236068   3.605551   4.123106   2.000000   4.242640   2.236068   \n",
       "...         ...        ...        ...        ...        ...        ...   \n",
       "7707  15.394804  14.387495  14.933185  14.594520  14.730920  14.696939   \n",
       "7708  15.588457  14.456832  14.933185  14.933185  14.764823  14.798649   \n",
       "7709  16.000000  15.033297  15.362291  15.362291  15.132746  15.524175   \n",
       "7710  16.278820  15.132746  15.716233  15.588457  15.491934  15.620500   \n",
       "7711  16.763054  15.842979  16.093477  16.031219  16.000000  16.031219   \n",
       "\n",
       "           6          7          8          9     ...       1919       1920  \\\n",
       "0      1.000000   1.732051   2.236068   3.464102  ...   3.605551   4.242640   \n",
       "1      1.414214   2.000000   2.236068   3.605551  ...   4.358899   5.291502   \n",
       "2      1.414214   2.236068   2.449490   4.123106  ...   4.358899   5.291502   \n",
       "3      1.732051   2.449490   2.449490   4.242640  ...   4.690416   6.244998   \n",
       "4      2.828427   2.645751   2.449490   4.358899  ...   6.708204   6.324555   \n",
       "...         ...        ...        ...        ...  ...        ...        ...   \n",
       "7707  14.106736  15.198684  14.933185  13.892444  ...  15.132746  13.892444   \n",
       "7708  14.628738  15.394804  15.066519  14.071247  ...  15.198684  14.000000   \n",
       "7709  14.798649  15.748015  15.748015  14.071247  ...  15.198684  14.212670   \n",
       "7710  15.099669  16.031219  15.779734  14.491377  ...  15.231546  14.456832   \n",
       "7711  15.556349  16.522711  16.278820  15.099669  ...  15.231546  14.798649   \n",
       "\n",
       "           1921       1922       1923       1924       1925       1926  \\\n",
       "0      1.414214   1.732051   1.000000   1.000000   1.732051   2.000000   \n",
       "1      3.316625   3.162278   1.414214   2.449490   2.828427   2.449490   \n",
       "2      3.464102   3.316625   1.732051   2.645751   3.000000   3.316625   \n",
       "3      4.000000   3.464102   2.000000   3.464102   4.123106   3.316625   \n",
       "4      4.242640   3.464102   2.236068   4.123106   4.242640   3.464102   \n",
       "...         ...        ...        ...        ...        ...        ...   \n",
       "7707  15.165751  14.832397  15.491934  15.132746  15.198684  14.594520   \n",
       "7708  15.198684  14.899665  15.524175  15.198684  15.231546  14.966630   \n",
       "7709  15.198684  15.231546  16.062378  15.329710  15.231546  15.264338   \n",
       "7710  15.297058  15.394804  16.401220  15.329710  15.329710  15.556349   \n",
       "7711  15.362291  16.309507  17.029387  15.620500  15.394804  15.937377   \n",
       "\n",
       "           1927       1928  \n",
       "0      5.385165   3.605551  \n",
       "1      5.744563   3.741657  \n",
       "2      5.916080   4.242640  \n",
       "3      5.916080   4.358899  \n",
       "4      5.916080   4.472136  \n",
       "...         ...        ...  \n",
       "7707  14.525839  14.933185  \n",
       "7708  14.560220  15.000000  \n",
       "7709  15.198684  15.099669  \n",
       "7710  15.588457  15.264338  \n",
       "7711  15.968719  15.297058  \n",
       "\n",
       "[7712 rows x 1929 columns]"
      ]
     },
     "execution_count": 223,
     "metadata": {},
     "output_type": "execute_result"
    }
   ],
   "source": [
    "x_ts_AD=pd.DataFrame(neighbors_k_ts)\n",
    "x_ts_AD"
   ]
  },
  {
   "cell_type": "code",
   "execution_count": 224,
   "metadata": {},
   "outputs": [
    {
     "name": "stdout",
     "output_type": "stream",
     "text": [
      "[1.732 2.646 3.464 ... 2.    5.385 3.606]\n"
     ]
    }
   ],
   "source": [
    "similarity_ts= neighbors_k_ts\n",
    "cpd_AD=similarity_ts[0,:]\n",
    "cpd_value = np.round(cpd_AD, 3)\n",
    "print(cpd_value)"
   ]
  },
  {
   "cell_type": "code",
   "execution_count": 225,
   "metadata": {},
   "outputs": [
    {
     "name": "stdout",
     "output_type": "stream",
     "text": [
      "[ True  True  True ...  True False  True]\n"
     ]
    }
   ],
   "source": [
    "cpd_AD = np.where(cpd_value <= model_AD_limit, True, False)\n",
    "print(cpd_AD)"
   ]
  },
  {
   "cell_type": "code",
   "execution_count": 226,
   "metadata": {},
   "outputs": [
    {
     "name": "stdout",
     "output_type": "stream",
     "text": [
      "Coverage =  0.75\n"
     ]
    }
   ],
   "source": [
    "print(\"Coverage = \", round(sum(cpd_AD) / len(cpd_AD), 2))"
   ]
  },
  {
   "cell_type": "code",
   "execution_count": 227,
   "metadata": {},
   "outputs": [
    {
     "name": "stdout",
     "output_type": "stream",
     "text": [
      "Indices of substances included in AD =  [   0    1    2 ... 1925 1926 1928]\n"
     ]
    }
   ],
   "source": [
    "print(\"Indices of substances included in AD = \", np.where(cpd_AD != 0)[0])"
   ]
  },
  {
   "cell_type": "code",
   "execution_count": 228,
   "metadata": {},
   "outputs": [],
   "source": [
    "out_Ad=list(np.where(cpd_AD == 0)[0])"
   ]
  },
  {
   "cell_type": "markdown",
   "metadata": {},
   "source": [
    "# 12. Prediction only for molecules included in  AD"
   ]
  },
  {
   "cell_type": "code",
   "execution_count": 229,
   "metadata": {},
   "outputs": [],
   "source": [
    "y_pred_kNN_ad=list(y_pred_kNN)"
   ]
  },
  {
   "cell_type": "code",
   "execution_count": 230,
   "metadata": {},
   "outputs": [],
   "source": [
    "y_pred_kNN_ad[:] = [x for i,x in enumerate(y_pred_kNN_ad) if i not in out_Ad]"
   ]
  },
  {
   "cell_type": "code",
   "execution_count": 231,
   "metadata": {},
   "outputs": [
    {
     "data": {
      "text/plain": [
       "1450"
      ]
     },
     "execution_count": 231,
     "metadata": {},
     "output_type": "execute_result"
    }
   ],
   "source": [
    "len(y_pred_kNN_ad)"
   ]
  },
  {
   "cell_type": "code",
   "execution_count": 232,
   "metadata": {},
   "outputs": [],
   "source": [
    "y_ts_ad=list(y_ts)"
   ]
  },
  {
   "cell_type": "code",
   "execution_count": 233,
   "metadata": {},
   "outputs": [],
   "source": [
    "y_ts_ad[:] = [x for i,x in enumerate(y_ts_ad) if i not in out_Ad]"
   ]
  },
  {
   "cell_type": "code",
   "execution_count": 234,
   "metadata": {},
   "outputs": [
    {
     "data": {
      "text/plain": [
       "1450"
      ]
     },
     "execution_count": 234,
     "metadata": {},
     "output_type": "execute_result"
    }
   ],
   "source": [
    "len(y_ts_ad)"
   ]
  },
  {
   "cell_type": "code",
   "execution_count": 235,
   "metadata": {},
   "outputs": [
    {
     "data": {
      "text/plain": [
       "0.59"
      ]
     },
     "execution_count": 235,
     "metadata": {},
     "output_type": "execute_result"
    }
   ],
   "source": [
    "Q2_TS = round(r2_score(y_ts_ad, y_pred_kNN_ad), 2)\n",
    "Q2_TS"
   ]
  },
  {
   "cell_type": "code",
   "execution_count": 236,
   "metadata": {
    "scrolled": true
   },
   "outputs": [
    {
     "data": {
      "text/plain": [
       "0.63"
      ]
     },
     "execution_count": 236,
     "metadata": {},
     "output_type": "execute_result"
    }
   ],
   "source": [
    "RMSE_TS=round(np.sqrt(mean_absolute_error(y_ts_ad, y_pred_kNN_ad)), 2)\n",
    "RMSE_TS"
   ]
  },
  {
   "cell_type": "markdown",
   "metadata": {},
   "source": [
    "## Analyzing the importance of descriptors for the GBM model"
   ]
  },
  {
   "cell_type": "code",
   "execution_count": 237,
   "metadata": {},
   "outputs": [],
   "source": [
    "import shap"
   ]
  },
  {
   "cell_type": "code",
   "execution_count": 238,
   "metadata": {},
   "outputs": [],
   "source": [
    "explainer = shap.Explainer(best_GBR)"
   ]
  },
  {
   "cell_type": "code",
   "execution_count": 240,
   "metadata": {},
   "outputs": [],
   "source": [
    "shap_values = explainer(x_tr)"
   ]
  },
  {
   "cell_type": "code",
   "execution_count": 241,
   "metadata": {},
   "outputs": [
    {
     "data": {
      "image/png": "[encoded data removed]",
      "text/plain": [
       "<Figure size 800x550 with 2 Axes>"
      ]
     },
     "metadata": {},
     "output_type": "display_data"
    }
   ],
   "source": [
    "shap.plots.beeswarm(shap_values)"
   ]
  },
  {
   "cell_type": "code",
   "execution_count": 242,
   "metadata": {},
   "outputs": [
    {
     "data": {
      "image/png": "[encoded data removed]",
      "text/plain": [
       "<Figure size 800x650 with 1 Axes>"
      ]
     },
     "metadata": {},
     "output_type": "display_data"
    }
   ],
   "source": [
    "shap.plots.bar(shap_values)"
   ]
  },
  {
   "cell_type": "code",
   "execution_count": null,
   "metadata": {},
   "outputs": [],
   "source": []
  }
 ],
 "metadata": {
  "kernelspec": {
   "display_name": "Python3 (rdkit)",
   "language": "python",
   "name": "my-rdkit-env"
  },
  "language_info": {
   "codemirror_mode": {
    "name": "ipython",
    "version": 3
   },
   "file_extension": ".py",
   "mimetype": "text/x-python",
   "name": "python",
   "nbconvert_exporter": "python",
   "pygments_lexer": "ipython3",
   "version": "3.10.12"
  }
 },
 "nbformat": 4,
 "nbformat_minor": 4
}
